{
 "cells": [
  {
   "cell_type": "markdown",
   "id": "e54e6284",
   "metadata": {},
   "source": [
    "# NLP & Sentiment Analysis."
   ]
  },
  {
   "cell_type": "markdown",
   "id": "8a7de07e",
   "metadata": {},
   "source": [
    "En esta etapa del proyecto manejaremos diferentes modelos pre-entrenados (librerías) y trataremos de evaluar cuál es el que nos ofrece mejores resultados.\n",
    "\n",
    "Evidentemente, sería conveniente desarrollar un modelo propio ad-hoc según las necesidades particulares del proyecto, lo cual probablemente nos permita alcanzar resultados más precisos. Sin embargo, no debemos olvidar que por el momento pretendemos construir las bases del proyecto y obtener un mínimo producto viable que demuestre su potencial. Disponemos de muy poco tiempo como para desarrollar y entrenar nuestro propio modelo y es por eso que se opta por la utilización de modelos pre-entrenados de NLP a la hora de analizar el sentimiento de los tweets y, por tanto, la percepción del usuario respecto de las marcas.\n",
    "\n",
    "Los análisis de sentimiento se ejecutarán a través de funciones previamente definidas en *' src / nlp_functions.py '*."
   ]
  },
  {
   "cell_type": "code",
   "execution_count": 1,
   "id": "bd17cf59",
   "metadata": {},
   "outputs": [],
   "source": [
    "from src.nlp_functions import *\n",
    "\n",
    "import pandas as pd"
   ]
  },
  {
   "cell_type": "code",
   "execution_count": 2,
   "id": "4ef45da5",
   "metadata": {},
   "outputs": [],
   "source": [
    "brands_tweets = pd.read_pickle('data/car_brands_tokens.pkl')"
   ]
  },
  {
   "cell_type": "code",
   "execution_count": 3,
   "id": "c3f25a1d",
   "metadata": {},
   "outputs": [
    {
     "data": {
      "text/html": [
       "<div>\n",
       "<style scoped>\n",
       "    .dataframe tbody tr th:only-of-type {\n",
       "        vertical-align: middle;\n",
       "    }\n",
       "\n",
       "    .dataframe tbody tr th {\n",
       "        vertical-align: top;\n",
       "    }\n",
       "\n",
       "    .dataframe thead th {\n",
       "        text-align: right;\n",
       "    }\n",
       "</style>\n",
       "<table border=\"1\" class=\"dataframe\">\n",
       "  <thead>\n",
       "    <tr style=\"text-align: right;\">\n",
       "      <th></th>\n",
       "      <th>text</th>\n",
       "      <th>hashtags</th>\n",
       "      <th>brand_attribute</th>\n",
       "      <th>brand</th>\n",
       "      <th>token</th>\n",
       "    </tr>\n",
       "  </thead>\n",
       "  <tbody>\n",
       "    <tr>\n",
       "      <th>0</th>\n",
       "      <td>i was told by bmw you need to replace the batt...</td>\n",
       "      <td>[]</td>\n",
       "      <td>quality</td>\n",
       "      <td>bmw</td>\n",
       "      <td>[told, bmw, need, replace, battery, approx, yr...</td>\n",
       "    </tr>\n",
       "    <tr>\n",
       "      <th>1</th>\n",
       "      <td>a new listing for bmw e two eight m five engin...</td>\n",
       "      <td>[]</td>\n",
       "      <td>quality</td>\n",
       "      <td>bmw</td>\n",
       "      <td>[new, listing, bmw, e, engine, posted, race, p...</td>\n",
       "    </tr>\n",
       "    <tr>\n",
       "      <th>2</th>\n",
       "      <td>he only led a few hundert meters at the austri...</td>\n",
       "      <td>[]</td>\n",
       "      <td>quality</td>\n",
       "      <td>bmw</td>\n",
       "      <td>[led, hundert, meter, austrian, gp, blew, migh...</td>\n",
       "    </tr>\n",
       "    <tr>\n",
       "      <th>3</th>\n",
       "      <td>russians making bmw seeking missiles it s over...</td>\n",
       "      <td>[]</td>\n",
       "      <td>quality</td>\n",
       "      <td>bmw</td>\n",
       "      <td>[russian, making, bmw, seeking, missile, baltic]</td>\n",
       "    </tr>\n",
       "    <tr>\n",
       "      <th>4</th>\n",
       "      <td>does anyone want to hati will just get doyoung...</td>\n",
       "      <td>[]</td>\n",
       "      <td>quality</td>\n",
       "      <td>bmw</td>\n",
       "      <td>[want, hati, doyoung, fortune, selca, gt, lt, ...</td>\n",
       "    </tr>\n",
       "  </tbody>\n",
       "</table>\n",
       "</div>"
      ],
      "text/plain": [
       "                                                text hashtags brand_attribute  \\\n",
       "0  i was told by bmw you need to replace the batt...       []         quality   \n",
       "1  a new listing for bmw e two eight m five engin...       []         quality   \n",
       "2  he only led a few hundert meters at the austri...       []         quality   \n",
       "3  russians making bmw seeking missiles it s over...       []         quality   \n",
       "4  does anyone want to hati will just get doyoung...       []         quality   \n",
       "\n",
       "  brand                                              token  \n",
       "0   bmw  [told, bmw, need, replace, battery, approx, yr...  \n",
       "1   bmw  [new, listing, bmw, e, engine, posted, race, p...  \n",
       "2   bmw  [led, hundert, meter, austrian, gp, blew, migh...  \n",
       "3   bmw   [russian, making, bmw, seeking, missile, baltic]  \n",
       "4   bmw  [want, hati, doyoung, fortune, selca, gt, lt, ...  "
      ]
     },
     "execution_count": 3,
     "metadata": {},
     "output_type": "execute_result"
    }
   ],
   "source": [
    "brands_tweets.head()"
   ]
  },
  {
   "cell_type": "markdown",
   "id": "f8b49401",
   "metadata": {},
   "source": [
    "### TextBlob (spaCy)"
   ]
  },
  {
   "cell_type": "code",
   "execution_count": 4,
   "id": "b83d7215",
   "metadata": {},
   "outputs": [
    {
     "data": {
      "text/plain": [
       "'INTRO!!!'"
      ]
     },
     "execution_count": 4,
     "metadata": {},
     "output_type": "execute_result"
    }
   ],
   "source": [
    "'''INTRO!!!'''\n",
    "\n",
    "# Esplicación breve.\n",
    "\n",
    "# Catarse bien de cómo funciona.\n",
    "# Ojo instalaciones (lo he metido en todos laos).\n"
   ]
  },
  {
   "cell_type": "code",
   "execution_count": 5,
   "id": "716918d1",
   "metadata": {},
   "outputs": [],
   "source": [
    "brands_tweets['blob_scores'] = brands_tweets.token.apply(blob_scoring)"
   ]
  },
  {
   "cell_type": "code",
   "execution_count": 6,
   "id": "d98da0d5",
   "metadata": {},
   "outputs": [
    {
     "data": {
      "text/html": [
       "<div>\n",
       "<style scoped>\n",
       "    .dataframe tbody tr th:only-of-type {\n",
       "        vertical-align: middle;\n",
       "    }\n",
       "\n",
       "    .dataframe tbody tr th {\n",
       "        vertical-align: top;\n",
       "    }\n",
       "\n",
       "    .dataframe thead th {\n",
       "        text-align: right;\n",
       "    }\n",
       "</style>\n",
       "<table border=\"1\" class=\"dataframe\">\n",
       "  <thead>\n",
       "    <tr style=\"text-align: right;\">\n",
       "      <th></th>\n",
       "      <th>text</th>\n",
       "      <th>hashtags</th>\n",
       "      <th>brand_attribute</th>\n",
       "      <th>brand</th>\n",
       "      <th>token</th>\n",
       "      <th>blob_scores</th>\n",
       "    </tr>\n",
       "  </thead>\n",
       "  <tbody>\n",
       "    <tr>\n",
       "      <th>1127</th>\n",
       "      <td>dollarsuvxy dollarssqqq at an extreme alleviat...</td>\n",
       "      <td>[]</td>\n",
       "      <td>price</td>\n",
       "      <td>hyundai</td>\n",
       "      <td>[dollarsuvxy, dollarssqqq, extreme, alleviated...</td>\n",
       "      <td>0.187500</td>\n",
       "    </tr>\n",
       "    <tr>\n",
       "      <th>2319</th>\n",
       "      <td>ford unveils new structure as it speeds electr...</td>\n",
       "      <td>[#businessNews]</td>\n",
       "      <td>quality</td>\n",
       "      <td>ford</td>\n",
       "      <td>[ford, unveils, new, structure, speed, electri...</td>\n",
       "      <td>0.136364</td>\n",
       "    </tr>\n",
       "    <tr>\n",
       "      <th>1678</th>\n",
       "      <td>two zero one three hyundai sonata fourdr sdn t...</td>\n",
       "      <td>[]</td>\n",
       "      <td>price</td>\n",
       "      <td>hyundai</td>\n",
       "      <td>[zero, hyundai, sonata, fourdr, sdn, fourl, au...</td>\n",
       "      <td>0.000000</td>\n",
       "    </tr>\n",
       "    <tr>\n",
       "      <th>326</th>\n",
       "      <td>for volkswagen jetta beetle dorman secondary a...</td>\n",
       "      <td>[]</td>\n",
       "      <td>quality</td>\n",
       "      <td>volkswagen</td>\n",
       "      <td>[volkswagen, jetta, beetle, dorman, secondary,...</td>\n",
       "      <td>-0.300000</td>\n",
       "    </tr>\n",
       "    <tr>\n",
       "      <th>1171</th>\n",
       "      <td>skill lync and renault nissan technology amp b...</td>\n",
       "      <td>[]</td>\n",
       "      <td>price</td>\n",
       "      <td>renault</td>\n",
       "      <td>[skill, lync, renault, nissan, technology, amp...</td>\n",
       "      <td>0.000000</td>\n",
       "    </tr>\n",
       "    <tr>\n",
       "      <th>4027</th>\n",
       "      <td>i would again request you how fiat currency an...</td>\n",
       "      <td>[]</td>\n",
       "      <td>price</td>\n",
       "      <td>fiat</td>\n",
       "      <td>[request, fiat, currency, money, work, way, cr...</td>\n",
       "      <td>0.000000</td>\n",
       "    </tr>\n",
       "    <tr>\n",
       "      <th>2623</th>\n",
       "      <td>henry ford wrote when everything seems to be g...</td>\n",
       "      <td>[]</td>\n",
       "      <td>quality</td>\n",
       "      <td>ford</td>\n",
       "      <td>[henry, ford, wrote, going, remember, airplane...</td>\n",
       "      <td>0.600000</td>\n",
       "    </tr>\n",
       "    <tr>\n",
       "      <th>551</th>\n",
       "      <td>upgraded amphibious vintage volkswagen van</td>\n",
       "      <td>[]</td>\n",
       "      <td>quality</td>\n",
       "      <td>volkswagen</td>\n",
       "      <td>[upgraded, amphibious, vintage, volkswagen, van]</td>\n",
       "      <td>0.000000</td>\n",
       "    </tr>\n",
       "    <tr>\n",
       "      <th>424</th>\n",
       "      <td>hardly but she s frugal invested wisely amp ha...</td>\n",
       "      <td>[]</td>\n",
       "      <td>quality</td>\n",
       "      <td>bmw</td>\n",
       "      <td>[hardly, frugal, invested, wisely, amp, doggon...</td>\n",
       "      <td>0.338542</td>\n",
       "    </tr>\n",
       "    <tr>\n",
       "      <th>2308</th>\n",
       "      <td>great night at with domenico de sole chairman ...</td>\n",
       "      <td>[]</td>\n",
       "      <td>quality</td>\n",
       "      <td>ford</td>\n",
       "      <td>[great, night, domenico, de, sole, chairman, t...</td>\n",
       "      <td>0.350000</td>\n",
       "    </tr>\n",
       "  </tbody>\n",
       "</table>\n",
       "</div>"
      ],
      "text/plain": [
       "                                                   text         hashtags  \\\n",
       "1127  dollarsuvxy dollarssqqq at an extreme alleviat...               []   \n",
       "2319  ford unveils new structure as it speeds electr...  [#businessNews]   \n",
       "1678  two zero one three hyundai sonata fourdr sdn t...               []   \n",
       "326   for volkswagen jetta beetle dorman secondary a...               []   \n",
       "1171  skill lync and renault nissan technology amp b...               []   \n",
       "4027  i would again request you how fiat currency an...               []   \n",
       "2623  henry ford wrote when everything seems to be g...               []   \n",
       "551          upgraded amphibious vintage volkswagen van               []   \n",
       "424   hardly but she s frugal invested wisely amp ha...               []   \n",
       "2308  great night at with domenico de sole chairman ...               []   \n",
       "\n",
       "     brand_attribute       brand  \\\n",
       "1127           price     hyundai   \n",
       "2319         quality        ford   \n",
       "1678           price     hyundai   \n",
       "326          quality  volkswagen   \n",
       "1171           price     renault   \n",
       "4027           price        fiat   \n",
       "2623         quality        ford   \n",
       "551          quality  volkswagen   \n",
       "424          quality         bmw   \n",
       "2308         quality        ford   \n",
       "\n",
       "                                                  token  blob_scores  \n",
       "1127  [dollarsuvxy, dollarssqqq, extreme, alleviated...     0.187500  \n",
       "2319  [ford, unveils, new, structure, speed, electri...     0.136364  \n",
       "1678  [zero, hyundai, sonata, fourdr, sdn, fourl, au...     0.000000  \n",
       "326   [volkswagen, jetta, beetle, dorman, secondary,...    -0.300000  \n",
       "1171  [skill, lync, renault, nissan, technology, amp...     0.000000  \n",
       "4027  [request, fiat, currency, money, work, way, cr...     0.000000  \n",
       "2623  [henry, ford, wrote, going, remember, airplane...     0.600000  \n",
       "551    [upgraded, amphibious, vintage, volkswagen, van]     0.000000  \n",
       "424   [hardly, frugal, invested, wisely, amp, doggon...     0.338542  \n",
       "2308  [great, night, domenico, de, sole, chairman, t...     0.350000  "
      ]
     },
     "execution_count": 6,
     "metadata": {},
     "output_type": "execute_result"
    }
   ],
   "source": [
    "brands_tweets.sample(10)"
   ]
  },
  {
   "cell_type": "markdown",
   "id": "1681e2a6",
   "metadata": {},
   "source": [
    "### VADER."
   ]
  },
  {
   "cell_type": "markdown",
   "id": "6441abaf",
   "metadata": {},
   "source": [
    "VADER (Valence Aware Dictionary and sEntiment Reasoner) es una librería utilizada para el análisis del sentimiento que se enfoca en los textos de social media. Así, pone énfases en las rules que captan la esencia del texto que normalmente se ve en las redes sociales. Algo interesante de VADER es que está pensado para poder actuar sobre texto sobre el que se ha hecho un limpieza muy básica (conservando emojis, signos de exclamación, etc.). Nosotros lo probaremos sobre los datos ya limpios ya que confiamos en que ofrecerán un mejor resultado (aunque no se presenta el proceso, se ha probado con los datos originales en bruto, pero no consique analizar los sentimientos correctamente y la gran mayoría de scores para negatividad, neutralidad y positivadad son 0). No obstante, lo ideal sería evaluar la precisión del análisis sobre tweets con diferentes niveles de limpieza (desde el más básico, al más detallista) y comparar los modelos para identificar el que ofrece un mayor rendimiento (incluyendo también los análisis desarrollados mediante otros modelos diferentes a VADER)."
   ]
  },
  {
   "cell_type": "markdown",
   "id": "80a38379",
   "metadata": {},
   "source": [
    "https://towardsdatascience.com/fine-grained-sentiment-analysis-in-python-part-1-2697bb111ed4"
   ]
  },
  {
   "cell_type": "code",
   "execution_count": 7,
   "id": "dcc9b311",
   "metadata": {},
   "outputs": [],
   "source": [
    "brands_tweets['vader_scores'] = brands_tweets.token.apply(vader_scoring)"
   ]
  },
  {
   "cell_type": "code",
   "execution_count": 8,
   "id": "0a1b7070",
   "metadata": {
    "scrolled": false
   },
   "outputs": [
    {
     "data": {
      "text/html": [
       "<div>\n",
       "<style scoped>\n",
       "    .dataframe tbody tr th:only-of-type {\n",
       "        vertical-align: middle;\n",
       "    }\n",
       "\n",
       "    .dataframe tbody tr th {\n",
       "        vertical-align: top;\n",
       "    }\n",
       "\n",
       "    .dataframe thead th {\n",
       "        text-align: right;\n",
       "    }\n",
       "</style>\n",
       "<table border=\"1\" class=\"dataframe\">\n",
       "  <thead>\n",
       "    <tr style=\"text-align: right;\">\n",
       "      <th></th>\n",
       "      <th>text</th>\n",
       "      <th>hashtags</th>\n",
       "      <th>brand_attribute</th>\n",
       "      <th>brand</th>\n",
       "      <th>token</th>\n",
       "      <th>blob_scores</th>\n",
       "      <th>vader_scores</th>\n",
       "    </tr>\n",
       "  </thead>\n",
       "  <tbody>\n",
       "    <tr>\n",
       "      <th>3277</th>\n",
       "      <td>well they have a finite life</td>\n",
       "      <td>[]</td>\n",
       "      <td>quality</td>\n",
       "      <td>hyundai</td>\n",
       "      <td>[finite, life]</td>\n",
       "      <td>0.000000</td>\n",
       "      <td>{'neg': 0.0, 'neu': 1.0, 'pos': 0.0, 'compound...</td>\n",
       "    </tr>\n",
       "    <tr>\n",
       "      <th>3894</th>\n",
       "      <td>now playing eris ford evan and eris keep me li...</td>\n",
       "      <td>[#NowPlaying]</td>\n",
       "      <td>quality</td>\n",
       "      <td>ford</td>\n",
       "      <td>[playing, eris, ford, evan, eris, listen, favo...</td>\n",
       "      <td>0.500000</td>\n",
       "      <td>{'neg': 0.0, 'neu': 0.625, 'pos': 0.375, 'comp...</td>\n",
       "    </tr>\n",
       "    <tr>\n",
       "      <th>5043</th>\n",
       "      <td>ha and leading the pack is a bmw and an audi</td>\n",
       "      <td>[]</td>\n",
       "      <td>quality</td>\n",
       "      <td>audi</td>\n",
       "      <td>[ha, leading, pack, bmw, audi]</td>\n",
       "      <td>0.000000</td>\n",
       "      <td>{'neg': 0.0, 'neu': 0.625, 'pos': 0.375, 'comp...</td>\n",
       "    </tr>\n",
       "    <tr>\n",
       "      <th>4833</th>\n",
       "      <td>volkswagen volvo gm amp more automakers halt v...</td>\n",
       "      <td>[]</td>\n",
       "      <td>quality</td>\n",
       "      <td>volkswagen</td>\n",
       "      <td>[volkswagen, volvo, gm, amp, automaker, halt, ...</td>\n",
       "      <td>0.000000</td>\n",
       "      <td>{'neg': 0.0, 'neu': 1.0, 'pos': 0.0, 'compound...</td>\n",
       "    </tr>\n",
       "    <tr>\n",
       "      <th>3780</th>\n",
       "      <td>the alliance electrifies mobility welcome to n...</td>\n",
       "      <td>[#mobility!, #hybrid]</td>\n",
       "      <td>quality</td>\n",
       "      <td>renault</td>\n",
       "      <td>[alliance, electrifies, mobility, welcome, nis...</td>\n",
       "      <td>0.468182</td>\n",
       "      <td>{'neg': 0.0, 'neu': 0.812, 'pos': 0.188, 'comp...</td>\n",
       "    </tr>\n",
       "    <tr>\n",
       "      <th>4137</th>\n",
       "      <td>brambilla wearing a bmw jacket</td>\n",
       "      <td>[]</td>\n",
       "      <td>price</td>\n",
       "      <td>bmw</td>\n",
       "      <td>[brambilla, wearing, bmw, jacket]</td>\n",
       "      <td>0.000000</td>\n",
       "      <td>{'neg': 0.0, 'neu': 1.0, 'pos': 0.0, 'compound...</td>\n",
       "    </tr>\n",
       "    <tr>\n",
       "      <th>3734</th>\n",
       "      <td>a bmw with a jesus is lord sticker just cut me...</td>\n",
       "      <td>[]</td>\n",
       "      <td>quality</td>\n",
       "      <td>bmw</td>\n",
       "      <td>[bmw, jesus, lord, sticker, cut, slam, brake, ...</td>\n",
       "      <td>0.000000</td>\n",
       "      <td>{'neg': 0.309, 'neu': 0.526, 'pos': 0.164, 'co...</td>\n",
       "    </tr>\n",
       "    <tr>\n",
       "      <th>226</th>\n",
       "      <td>bosal four threenf one eightw rear right muffl...</td>\n",
       "      <td>[]</td>\n",
       "      <td>quality</td>\n",
       "      <td>audi</td>\n",
       "      <td>[bosal, threenf, eightw, rear, right, muffler,...</td>\n",
       "      <td>0.342857</td>\n",
       "      <td>{'neg': 0.0, 'neu': 0.839, 'pos': 0.161, 'comp...</td>\n",
       "    </tr>\n",
       "    <tr>\n",
       "      <th>3670</th>\n",
       "      <td>yeah i m like bro that s ur idea aa didn t say...</td>\n",
       "      <td>[]</td>\n",
       "      <td>price</td>\n",
       "      <td>bmw</td>\n",
       "      <td>[yeah, like, bro, ur, idea, aa, like, saying, ...</td>\n",
       "      <td>-0.233333</td>\n",
       "      <td>{'neg': 0.178, 'neu': 0.409, 'pos': 0.413, 'co...</td>\n",
       "    </tr>\n",
       "    <tr>\n",
       "      <th>1181</th>\n",
       "      <td>why tesla over the bmw</td>\n",
       "      <td>[]</td>\n",
       "      <td>quality</td>\n",
       "      <td>bmw</td>\n",
       "      <td>[tesla, bmw]</td>\n",
       "      <td>0.000000</td>\n",
       "      <td>{'neg': 0.0, 'neu': 1.0, 'pos': 0.0, 'compound...</td>\n",
       "    </tr>\n",
       "  </tbody>\n",
       "</table>\n",
       "</div>"
      ],
      "text/plain": [
       "                                                   text  \\\n",
       "3277                       well they have a finite life   \n",
       "3894  now playing eris ford evan and eris keep me li...   \n",
       "5043       ha and leading the pack is a bmw and an audi   \n",
       "4833  volkswagen volvo gm amp more automakers halt v...   \n",
       "3780  the alliance electrifies mobility welcome to n...   \n",
       "4137                     brambilla wearing a bmw jacket   \n",
       "3734  a bmw with a jesus is lord sticker just cut me...   \n",
       "226   bosal four threenf one eightw rear right muffl...   \n",
       "3670  yeah i m like bro that s ur idea aa didn t say...   \n",
       "1181                             why tesla over the bmw   \n",
       "\n",
       "                   hashtags brand_attribute       brand  \\\n",
       "3277                     []         quality     hyundai   \n",
       "3894          [#NowPlaying]         quality        ford   \n",
       "5043                     []         quality        audi   \n",
       "4833                     []         quality  volkswagen   \n",
       "3780  [#mobility!, #hybrid]         quality     renault   \n",
       "4137                     []           price         bmw   \n",
       "3734                     []         quality         bmw   \n",
       "226                      []         quality        audi   \n",
       "3670                     []           price         bmw   \n",
       "1181                     []         quality         bmw   \n",
       "\n",
       "                                                  token  blob_scores  \\\n",
       "3277                                     [finite, life]     0.000000   \n",
       "3894  [playing, eris, ford, evan, eris, listen, favo...     0.500000   \n",
       "5043                     [ha, leading, pack, bmw, audi]     0.000000   \n",
       "4833  [volkswagen, volvo, gm, amp, automaker, halt, ...     0.000000   \n",
       "3780  [alliance, electrifies, mobility, welcome, nis...     0.468182   \n",
       "4137                  [brambilla, wearing, bmw, jacket]     0.000000   \n",
       "3734  [bmw, jesus, lord, sticker, cut, slam, brake, ...     0.000000   \n",
       "226   [bosal, threenf, eightw, rear, right, muffler,...     0.342857   \n",
       "3670  [yeah, like, bro, ur, idea, aa, like, saying, ...    -0.233333   \n",
       "1181                                       [tesla, bmw]     0.000000   \n",
       "\n",
       "                                           vader_scores  \n",
       "3277  {'neg': 0.0, 'neu': 1.0, 'pos': 0.0, 'compound...  \n",
       "3894  {'neg': 0.0, 'neu': 0.625, 'pos': 0.375, 'comp...  \n",
       "5043  {'neg': 0.0, 'neu': 0.625, 'pos': 0.375, 'comp...  \n",
       "4833  {'neg': 0.0, 'neu': 1.0, 'pos': 0.0, 'compound...  \n",
       "3780  {'neg': 0.0, 'neu': 0.812, 'pos': 0.188, 'comp...  \n",
       "4137  {'neg': 0.0, 'neu': 1.0, 'pos': 0.0, 'compound...  \n",
       "3734  {'neg': 0.309, 'neu': 0.526, 'pos': 0.164, 'co...  \n",
       "226   {'neg': 0.0, 'neu': 0.839, 'pos': 0.161, 'comp...  \n",
       "3670  {'neg': 0.178, 'neu': 0.409, 'pos': 0.413, 'co...  \n",
       "1181  {'neg': 0.0, 'neu': 1.0, 'pos': 0.0, 'compound...  "
      ]
     },
     "execution_count": 8,
     "metadata": {},
     "output_type": "execute_result"
    }
   ],
   "source": [
    "brands_tweets.sample(10)"
   ]
  },
  {
   "cell_type": "code",
   "execution_count": 9,
   "id": "d64e1e77",
   "metadata": {
    "scrolled": true
   },
   "outputs": [
    {
     "data": {
      "text/plain": [
       " 0.000000    17079\n",
       " 0.136364     1442\n",
       " 0.500000     1087\n",
       " 0.400000      965\n",
       " 0.468182      745\n",
       "             ...  \n",
       " 0.696429        1\n",
       " 0.227381        1\n",
       " 0.029167        1\n",
       "-0.018750        1\n",
       "-0.387879        1\n",
       "Name: blob_scores, Length: 2985, dtype: int64"
      ]
     },
     "execution_count": 9,
     "metadata": {},
     "output_type": "execute_result"
    }
   ],
   "source": [
    "brands_tweets.blob_scores.value_counts()"
   ]
  },
  {
   "cell_type": "code",
   "execution_count": 10,
   "id": "d20fce4a",
   "metadata": {},
   "outputs": [
    {
     "data": {
      "text/plain": [
       "dict"
      ]
     },
     "execution_count": 10,
     "metadata": {},
     "output_type": "execute_result"
    }
   ],
   "source": [
    "type(brands_tweets.vader_scores[2].reset_index().vader_scores[0])"
   ]
  },
  {
   "cell_type": "code",
   "execution_count": 11,
   "id": "d813b3ad",
   "metadata": {},
   "outputs": [],
   "source": [
    "brands_tweets.reset_index(inplace = True)"
   ]
  },
  {
   "cell_type": "markdown",
   "id": "b142e2cc",
   "metadata": {},
   "source": [
    "# Resultados del Análisis."
   ]
  },
  {
   "cell_type": "markdown",
   "id": "3e74f2c4",
   "metadata": {},
   "source": [
    "### Blob Scores"
   ]
  },
  {
   "cell_type": "code",
   "execution_count": 12,
   "id": "02f20501",
   "metadata": {
    "scrolled": true
   },
   "outputs": [
    {
     "data": {
      "text/plain": [
       "0.09297677256130484"
      ]
     },
     "execution_count": 12,
     "metadata": {},
     "output_type": "execute_result"
    }
   ],
   "source": [
    "brands_tweets.blob_scores.mean()"
   ]
  },
  {
   "cell_type": "markdown",
   "id": "9855e687",
   "metadata": {},
   "source": [
    "**Resultados BMW:**"
   ]
  },
  {
   "cell_type": "code",
   "execution_count": 13,
   "id": "eff8cb8a",
   "metadata": {},
   "outputs": [],
   "source": [
    "bmw_price = brands_tweets[(brands_tweets['brand'] == 'bmw') & (brands_tweets['brand_attribute'] == 'price') & (brands_tweets['blob_scores'] != 0.000)]"
   ]
  },
  {
   "cell_type": "code",
   "execution_count": 14,
   "id": "0dd5d447",
   "metadata": {},
   "outputs": [
    {
     "name": "stdout",
     "output_type": "stream",
     "text": [
      "Precio BMW:  0.1317321158080144\n"
     ]
    }
   ],
   "source": [
    "print('Precio BMW: ', bmw_price.blob_scores.mean())"
   ]
  },
  {
   "cell_type": "code",
   "execution_count": 15,
   "id": "bd0e8838",
   "metadata": {},
   "outputs": [],
   "source": [
    "bmw_quality = brands_tweets[(brands_tweets['brand'] == 'bmw') & (brands_tweets['brand_attribute'] == 'quality') & (brands_tweets['blob_scores'] != 0.000)]"
   ]
  },
  {
   "cell_type": "code",
   "execution_count": 16,
   "id": "e3c70dcc",
   "metadata": {},
   "outputs": [
    {
     "name": "stdout",
     "output_type": "stream",
     "text": [
      "Calidad BMW:  0.16829674466801028\n"
     ]
    }
   ],
   "source": [
    "print('Calidad BMW: ', bmw_quality.blob_scores.mean())"
   ]
  },
  {
   "cell_type": "markdown",
   "id": "02b7e091",
   "metadata": {},
   "source": [
    "**Resultados Audi:**"
   ]
  },
  {
   "cell_type": "code",
   "execution_count": 17,
   "id": "738c6316",
   "metadata": {},
   "outputs": [],
   "source": [
    "audi_price = brands_tweets[(brands_tweets['brand'] == 'audi') & (brands_tweets['brand_attribute'] == 'price') & (brands_tweets['blob_scores'] != 0.000)]"
   ]
  },
  {
   "cell_type": "code",
   "execution_count": 18,
   "id": "1ec396d2",
   "metadata": {},
   "outputs": [
    {
     "name": "stdout",
     "output_type": "stream",
     "text": [
      "Precio Audi:  0.13154333110742686\n"
     ]
    }
   ],
   "source": [
    "print('Precio Audi: ', audi_price.blob_scores.mean())"
   ]
  },
  {
   "cell_type": "code",
   "execution_count": 19,
   "id": "a60a3c68",
   "metadata": {},
   "outputs": [],
   "source": [
    "audi_quality = brands_tweets[(brands_tweets['brand'] == 'audi') & (brands_tweets['brand_attribute'] == 'quality') & (brands_tweets['blob_scores'] != 0.000)]"
   ]
  },
  {
   "cell_type": "code",
   "execution_count": 20,
   "id": "d98e2200",
   "metadata": {
    "scrolled": true
   },
   "outputs": [
    {
     "name": "stdout",
     "output_type": "stream",
     "text": [
      "Calidad Audi:  0.19035204350278392\n"
     ]
    }
   ],
   "source": [
    "print('Calidad Audi: ', audi_quality.blob_scores.mean())"
   ]
  },
  {
   "cell_type": "markdown",
   "id": "e548a72f",
   "metadata": {},
   "source": [
    "**Resultados Volkswagen:**"
   ]
  },
  {
   "cell_type": "code",
   "execution_count": 21,
   "id": "2f464c83",
   "metadata": {},
   "outputs": [],
   "source": [
    "volkswagen_price = brands_tweets[(brands_tweets['brand'] == 'volkswagen') & (brands_tweets['brand_attribute'] == 'price') & (brands_tweets['blob_scores'] != 0.000)]"
   ]
  },
  {
   "cell_type": "code",
   "execution_count": 22,
   "id": "df99953b",
   "metadata": {},
   "outputs": [
    {
     "name": "stdout",
     "output_type": "stream",
     "text": [
      "Precio Volkswagen:  0.1542028084821452\n"
     ]
    }
   ],
   "source": [
    "print('Precio Volkswagen: ', volkswagen_price.blob_scores.mean())"
   ]
  },
  {
   "cell_type": "code",
   "execution_count": 23,
   "id": "051d9cc5",
   "metadata": {},
   "outputs": [],
   "source": [
    "volkswagen_quality = brands_tweets[(brands_tweets['brand'] == 'volkswagen') & (brands_tweets['brand_attribute'] == 'quality') & (brands_tweets['blob_scores'] != 0.000)]"
   ]
  },
  {
   "cell_type": "code",
   "execution_count": 24,
   "id": "84f20d54",
   "metadata": {},
   "outputs": [
    {
     "name": "stdout",
     "output_type": "stream",
     "text": [
      "Calidad Volkswagen:  0.1728424276679489\n"
     ]
    }
   ],
   "source": [
    "print('Calidad Volkswagen: ', volkswagen_quality.blob_scores.mean())"
   ]
  },
  {
   "cell_type": "markdown",
   "id": "2573e830",
   "metadata": {},
   "source": [
    "**Resultados Renault:**"
   ]
  },
  {
   "cell_type": "code",
   "execution_count": 25,
   "id": "85bb1c41",
   "metadata": {},
   "outputs": [],
   "source": [
    "renault_price = brands_tweets[(brands_tweets['brand'] == 'renault') & (brands_tweets['brand_attribute'] == 'price') & (brands_tweets['blob_scores'] != 0.000)]"
   ]
  },
  {
   "cell_type": "code",
   "execution_count": 26,
   "id": "eca1753c",
   "metadata": {},
   "outputs": [
    {
     "name": "stdout",
     "output_type": "stream",
     "text": [
      "Precio Renault:  0.1348203829739254\n"
     ]
    }
   ],
   "source": [
    "print('Precio Renault: ', renault_price.blob_scores.mean())"
   ]
  },
  {
   "cell_type": "code",
   "execution_count": 27,
   "id": "1706c7e3",
   "metadata": {},
   "outputs": [],
   "source": [
    "renault_quality = brands_tweets[(brands_tweets['brand'] == 'renault') & (brands_tweets['brand_attribute'] == 'quality') & (brands_tweets['blob_scores'] != 0.000)]"
   ]
  },
  {
   "cell_type": "code",
   "execution_count": 28,
   "id": "1eac2644",
   "metadata": {
    "scrolled": true
   },
   "outputs": [
    {
     "name": "stdout",
     "output_type": "stream",
     "text": [
      "Calidad Renault:  0.1483066381195432\n"
     ]
    }
   ],
   "source": [
    "print('Calidad Renault: ', renault_quality.blob_scores.mean())"
   ]
  },
  {
   "cell_type": "markdown",
   "id": "f63462d0",
   "metadata": {},
   "source": [
    "**Resultados Fiat:**"
   ]
  },
  {
   "cell_type": "code",
   "execution_count": 29,
   "id": "60bf3e36",
   "metadata": {},
   "outputs": [],
   "source": [
    "fiat_price = brands_tweets[(brands_tweets['brand'] == 'fiat') & (brands_tweets['brand_attribute'] == 'price') & (brands_tweets['blob_scores'] != 0.000)]"
   ]
  },
  {
   "cell_type": "code",
   "execution_count": 30,
   "id": "4fb88be8",
   "metadata": {},
   "outputs": [
    {
     "name": "stdout",
     "output_type": "stream",
     "text": [
      "Precio Fiat:  0.0714856222823531\n"
     ]
    }
   ],
   "source": [
    "print('Precio Fiat: ', fiat_price.blob_scores.mean())"
   ]
  },
  {
   "cell_type": "code",
   "execution_count": 31,
   "id": "9c10e97b",
   "metadata": {},
   "outputs": [],
   "source": [
    "fiat_quality = brands_tweets[(brands_tweets['brand'] == 'fiat') & (brands_tweets['brand_attribute'] == 'quality') & (brands_tweets['blob_scores'] != 0.000)]"
   ]
  },
  {
   "cell_type": "code",
   "execution_count": 32,
   "id": "54987cbf",
   "metadata": {
    "scrolled": true
   },
   "outputs": [
    {
     "name": "stdout",
     "output_type": "stream",
     "text": [
      "Calidad Fiat:  0.13572824342499473\n"
     ]
    }
   ],
   "source": [
    "print('Calidad Fiat: ', fiat_quality.blob_scores.mean())"
   ]
  },
  {
   "cell_type": "markdown",
   "id": "b7b5b17f",
   "metadata": {},
   "source": [
    "**Resultados Ferrari:**"
   ]
  },
  {
   "cell_type": "code",
   "execution_count": 33,
   "id": "0e9fff20",
   "metadata": {},
   "outputs": [],
   "source": [
    "ferrari_price = brands_tweets[(brands_tweets['brand'] == 'ferrari') & (brands_tweets['brand_attribute'] == 'price') & (brands_tweets['blob_scores'] != 0.000)]"
   ]
  },
  {
   "cell_type": "code",
   "execution_count": 34,
   "id": "c084f64c",
   "metadata": {},
   "outputs": [
    {
     "name": "stdout",
     "output_type": "stream",
     "text": [
      "Precio Ferrari:  0.12086402312964814\n"
     ]
    }
   ],
   "source": [
    "print('Precio Ferrari: ', ferrari_price.blob_scores.mean())"
   ]
  },
  {
   "cell_type": "code",
   "execution_count": 35,
   "id": "df767d18",
   "metadata": {},
   "outputs": [],
   "source": [
    "ferrari_quality = brands_tweets[(brands_tweets['brand'] == 'ferrari') & (brands_tweets['brand_attribute'] == 'quality') & (brands_tweets['blob_scores'] != 0.000)]"
   ]
  },
  {
   "cell_type": "code",
   "execution_count": 36,
   "id": "14ab5995",
   "metadata": {
    "scrolled": true
   },
   "outputs": [
    {
     "name": "stdout",
     "output_type": "stream",
     "text": [
      "Calidad Ferrari:  0.14071384398605655\n"
     ]
    }
   ],
   "source": [
    "print('Calidad Ferrari: ', ferrari_quality.blob_scores.mean())"
   ]
  },
  {
   "cell_type": "markdown",
   "id": "eb507891",
   "metadata": {},
   "source": [
    "**Resultados Lamborghini:**"
   ]
  },
  {
   "cell_type": "code",
   "execution_count": 37,
   "id": "ec7b9da7",
   "metadata": {},
   "outputs": [],
   "source": [
    "lamborghini_price = brands_tweets[(brands_tweets['brand'] == 'lamborghini') & (brands_tweets['brand_attribute'] == 'price') & (brands_tweets['blob_scores'] != 0.000)]"
   ]
  },
  {
   "cell_type": "code",
   "execution_count": 38,
   "id": "99b8c071",
   "metadata": {},
   "outputs": [
    {
     "name": "stdout",
     "output_type": "stream",
     "text": [
      "Precio Lamborghini:  0.3386361634121229\n"
     ]
    }
   ],
   "source": [
    "print('Precio Lamborghini: ', lamborghini_price.blob_scores.mean())"
   ]
  },
  {
   "cell_type": "code",
   "execution_count": 39,
   "id": "391a1422",
   "metadata": {},
   "outputs": [],
   "source": [
    "lamborghini_quality = brands_tweets[(brands_tweets['brand'] == 'lamborghini') & (brands_tweets['brand_attribute'] == 'quality') & (brands_tweets['blob_scores'] != 0.000)]"
   ]
  },
  {
   "cell_type": "code",
   "execution_count": 40,
   "id": "6d624847",
   "metadata": {
    "scrolled": true
   },
   "outputs": [
    {
     "name": "stdout",
     "output_type": "stream",
     "text": [
      "Calidad Lamborghini:  0.17023723944063776\n"
     ]
    }
   ],
   "source": [
    "print('Calidad Lamborghini: ', lamborghini_quality.blob_scores.mean())"
   ]
  },
  {
   "cell_type": "markdown",
   "id": "1a896b95",
   "metadata": {},
   "source": [
    "**Resultados Hyundai:**"
   ]
  },
  {
   "cell_type": "code",
   "execution_count": 41,
   "id": "675b5b3e",
   "metadata": {},
   "outputs": [],
   "source": [
    "hyundai_price = brands_tweets[(brands_tweets['brand'] == 'hyundai') & (brands_tweets['brand_attribute'] == 'price') & (brands_tweets['blob_scores'] != 0.000)]"
   ]
  },
  {
   "cell_type": "code",
   "execution_count": 42,
   "id": "a017af30",
   "metadata": {},
   "outputs": [
    {
     "name": "stdout",
     "output_type": "stream",
     "text": [
      "Precio Hyundai:  0.1481464112135965\n"
     ]
    }
   ],
   "source": [
    "print('Precio Hyundai: ', hyundai_price.blob_scores.mean())"
   ]
  },
  {
   "cell_type": "code",
   "execution_count": 43,
   "id": "80c693e1",
   "metadata": {},
   "outputs": [],
   "source": [
    "hyundai_quality = brands_tweets[(brands_tweets['brand'] == 'hyundai') & (brands_tweets['brand_attribute'] == 'quality') & (brands_tweets['blob_scores'] != 0.000)]"
   ]
  },
  {
   "cell_type": "code",
   "execution_count": 44,
   "id": "a1141a54",
   "metadata": {
    "scrolled": true
   },
   "outputs": [
    {
     "name": "stdout",
     "output_type": "stream",
     "text": [
      "Calidad Hyundai:  0.2091447548097172\n"
     ]
    }
   ],
   "source": [
    "print('Calidad Hyundai: ', hyundai_quality.blob_scores.mean())"
   ]
  },
  {
   "cell_type": "markdown",
   "id": "787e6973",
   "metadata": {},
   "source": [
    "**Resultados Peugeot:**"
   ]
  },
  {
   "cell_type": "code",
   "execution_count": 45,
   "id": "93cf0c9f",
   "metadata": {},
   "outputs": [],
   "source": [
    "peugeot_price = brands_tweets[(brands_tweets['brand'] == 'peugeot') & (brands_tweets['brand_attribute'] == 'price') & (brands_tweets['blob_scores'] != 0.000)]"
   ]
  },
  {
   "cell_type": "code",
   "execution_count": 46,
   "id": "1e759178",
   "metadata": {},
   "outputs": [
    {
     "name": "stdout",
     "output_type": "stream",
     "text": [
      "Precio Peugeot:  0.15054827367194953\n"
     ]
    }
   ],
   "source": [
    "print('Precio Peugeot: ', peugeot_price.blob_scores.mean())"
   ]
  },
  {
   "cell_type": "code",
   "execution_count": 47,
   "id": "08f6e6f4",
   "metadata": {},
   "outputs": [],
   "source": [
    "peugeot_quality = brands_tweets[(brands_tweets['brand'] == 'peugeot') & (brands_tweets['brand_attribute'] == 'quality') & (brands_tweets['blob_scores'] != 0.000)]"
   ]
  },
  {
   "cell_type": "code",
   "execution_count": 48,
   "id": "2e00f400",
   "metadata": {
    "scrolled": false
   },
   "outputs": [
    {
     "name": "stdout",
     "output_type": "stream",
     "text": [
      "Calidad Peugeot:  0.17631208395919654\n"
     ]
    }
   ],
   "source": [
    "print('Calidad Peugeot: ', peugeot_quality.blob_scores.mean())"
   ]
  },
  {
   "cell_type": "markdown",
   "id": "a0528a84",
   "metadata": {},
   "source": [
    "**Resultados Ford:**"
   ]
  },
  {
   "cell_type": "code",
   "execution_count": 49,
   "id": "159b4602",
   "metadata": {},
   "outputs": [],
   "source": [
    "ford_price = brands_tweets[(brands_tweets['brand'] == 'ford') & (brands_tweets['brand_attribute'] == 'price') & (brands_tweets['blob_scores'] != 0.000)]"
   ]
  },
  {
   "cell_type": "code",
   "execution_count": 50,
   "id": "20a6f343",
   "metadata": {},
   "outputs": [
    {
     "name": "stdout",
     "output_type": "stream",
     "text": [
      "Precio Ford:  0.07037849590558293\n"
     ]
    }
   ],
   "source": [
    "print('Precio Ford: ', ford_price.blob_scores.mean())"
   ]
  },
  {
   "cell_type": "code",
   "execution_count": 51,
   "id": "0a3770f5",
   "metadata": {},
   "outputs": [],
   "source": [
    "ford_quality = brands_tweets[(brands_tweets['brand'] == 'ford') & (brands_tweets['brand_attribute'] == 'quality') & (brands_tweets['blob_scores'] != 0.000)]"
   ]
  },
  {
   "cell_type": "code",
   "execution_count": 52,
   "id": "c36ce946",
   "metadata": {
    "scrolled": false
   },
   "outputs": [
    {
     "name": "stdout",
     "output_type": "stream",
     "text": [
      "Calidad Ford:  0.11465949178911926\n"
     ]
    }
   ],
   "source": [
    "print('Calidad Ford: ', ford_quality.blob_scores.mean())"
   ]
  },
  {
   "cell_type": "markdown",
   "id": "ef2542d4",
   "metadata": {},
   "source": [
    "### VADER"
   ]
  },
  {
   "cell_type": "code",
   "execution_count": 53,
   "id": "7fa04516",
   "metadata": {},
   "outputs": [
    {
     "data": {
      "text/plain": [
       "'Con un reset index ya podemos manejar los scores como un diccionario!!!'"
      ]
     },
     "execution_count": 53,
     "metadata": {},
     "output_type": "execute_result"
    }
   ],
   "source": [
    "'''Con un reset index ya podemos manejar los scores como un diccionario!!!'''"
   ]
  },
  {
   "cell_type": "code",
   "execution_count": 54,
   "id": "e2e6f139",
   "metadata": {},
   "outputs": [
    {
     "data": {
      "text/plain": [
       "0.0"
      ]
     },
     "execution_count": 54,
     "metadata": {},
     "output_type": "execute_result"
    }
   ],
   "source": [
    "brands_tweets.vader_scores[0]['compound']"
   ]
  },
  {
   "cell_type": "code",
   "execution_count": 55,
   "id": "04948fbf",
   "metadata": {},
   "outputs": [
    {
     "ename": "KeyError",
     "evalue": "'compound'",
     "output_type": "error",
     "traceback": [
      "\u001b[0;31m---------------------------------------------------------------------------\u001b[0m",
      "\u001b[0;31mKeyError\u001b[0m                                  Traceback (most recent call last)",
      "\u001b[0;32m<ipython-input-55-57123700692e>\u001b[0m in \u001b[0;36m<module>\u001b[0;34m\u001b[0m\n\u001b[0;32m----> 1\u001b[0;31m \u001b[0mprint\u001b[0m\u001b[0;34m(\u001b[0m\u001b[0;34m'Precio Nike: '\u001b[0m\u001b[0;34m,\u001b[0m \u001b[0mbrands_tweets\u001b[0m\u001b[0;34m.\u001b[0m\u001b[0mvader_scores\u001b[0m\u001b[0;34m[\u001b[0m\u001b[0;34m:\u001b[0m\u001b[0;36m10\u001b[0m\u001b[0;34m]\u001b[0m\u001b[0;34m[\u001b[0m\u001b[0;34m'compound'\u001b[0m\u001b[0;34m]\u001b[0m\u001b[0;34m.\u001b[0m\u001b[0mmean\u001b[0m\u001b[0;34m(\u001b[0m\u001b[0;34m)\u001b[0m\u001b[0;34m)\u001b[0m\u001b[0;34m\u001b[0m\u001b[0;34m\u001b[0m\u001b[0m\n\u001b[0m",
      "\u001b[0;32m~/miniconda3/envs/ironhack/lib/python3.8/site-packages/pandas/core/series.py\u001b[0m in \u001b[0;36m__getitem__\u001b[0;34m(self, key)\u001b[0m\n\u001b[1;32m    956\u001b[0m \u001b[0;34m\u001b[0m\u001b[0m\n\u001b[1;32m    957\u001b[0m         \u001b[0;32melif\u001b[0m \u001b[0mkey_is_scalar\u001b[0m\u001b[0;34m:\u001b[0m\u001b[0;34m\u001b[0m\u001b[0;34m\u001b[0m\u001b[0m\n\u001b[0;32m--> 958\u001b[0;31m             \u001b[0;32mreturn\u001b[0m \u001b[0mself\u001b[0m\u001b[0;34m.\u001b[0m\u001b[0m_get_value\u001b[0m\u001b[0;34m(\u001b[0m\u001b[0mkey\u001b[0m\u001b[0;34m)\u001b[0m\u001b[0;34m\u001b[0m\u001b[0;34m\u001b[0m\u001b[0m\n\u001b[0m\u001b[1;32m    959\u001b[0m \u001b[0;34m\u001b[0m\u001b[0m\n\u001b[1;32m    960\u001b[0m         \u001b[0;32mif\u001b[0m \u001b[0mis_hashable\u001b[0m\u001b[0;34m(\u001b[0m\u001b[0mkey\u001b[0m\u001b[0;34m)\u001b[0m\u001b[0;34m:\u001b[0m\u001b[0;34m\u001b[0m\u001b[0;34m\u001b[0m\u001b[0m\n",
      "\u001b[0;32m~/miniconda3/envs/ironhack/lib/python3.8/site-packages/pandas/core/series.py\u001b[0m in \u001b[0;36m_get_value\u001b[0;34m(self, label, takeable)\u001b[0m\n\u001b[1;32m   1067\u001b[0m \u001b[0;34m\u001b[0m\u001b[0m\n\u001b[1;32m   1068\u001b[0m         \u001b[0;31m# Similar to Index.get_value, but we do not fall back to positional\u001b[0m\u001b[0;34m\u001b[0m\u001b[0;34m\u001b[0m\u001b[0;34m\u001b[0m\u001b[0m\n\u001b[0;32m-> 1069\u001b[0;31m         \u001b[0mloc\u001b[0m \u001b[0;34m=\u001b[0m \u001b[0mself\u001b[0m\u001b[0;34m.\u001b[0m\u001b[0mindex\u001b[0m\u001b[0;34m.\u001b[0m\u001b[0mget_loc\u001b[0m\u001b[0;34m(\u001b[0m\u001b[0mlabel\u001b[0m\u001b[0;34m)\u001b[0m\u001b[0;34m\u001b[0m\u001b[0;34m\u001b[0m\u001b[0m\n\u001b[0m\u001b[1;32m   1070\u001b[0m         \u001b[0;32mreturn\u001b[0m \u001b[0mself\u001b[0m\u001b[0;34m.\u001b[0m\u001b[0mindex\u001b[0m\u001b[0;34m.\u001b[0m\u001b[0m_get_values_for_loc\u001b[0m\u001b[0;34m(\u001b[0m\u001b[0mself\u001b[0m\u001b[0;34m,\u001b[0m \u001b[0mloc\u001b[0m\u001b[0;34m,\u001b[0m \u001b[0mlabel\u001b[0m\u001b[0;34m)\u001b[0m\u001b[0;34m\u001b[0m\u001b[0;34m\u001b[0m\u001b[0m\n\u001b[1;32m   1071\u001b[0m \u001b[0;34m\u001b[0m\u001b[0m\n",
      "\u001b[0;32m~/miniconda3/envs/ironhack/lib/python3.8/site-packages/pandas/core/indexes/range.py\u001b[0m in \u001b[0;36mget_loc\u001b[0;34m(self, key, method, tolerance)\u001b[0m\n\u001b[1;32m    387\u001b[0m                     \u001b[0;32mraise\u001b[0m \u001b[0mKeyError\u001b[0m\u001b[0;34m(\u001b[0m\u001b[0mkey\u001b[0m\u001b[0;34m)\u001b[0m \u001b[0;32mfrom\u001b[0m \u001b[0merr\u001b[0m\u001b[0;34m\u001b[0m\u001b[0;34m\u001b[0m\u001b[0m\n\u001b[1;32m    388\u001b[0m             \u001b[0mself\u001b[0m\u001b[0;34m.\u001b[0m\u001b[0m_check_indexing_error\u001b[0m\u001b[0;34m(\u001b[0m\u001b[0mkey\u001b[0m\u001b[0;34m)\u001b[0m\u001b[0;34m\u001b[0m\u001b[0;34m\u001b[0m\u001b[0m\n\u001b[0;32m--> 389\u001b[0;31m             \u001b[0;32mraise\u001b[0m \u001b[0mKeyError\u001b[0m\u001b[0;34m(\u001b[0m\u001b[0mkey\u001b[0m\u001b[0;34m)\u001b[0m\u001b[0;34m\u001b[0m\u001b[0;34m\u001b[0m\u001b[0m\n\u001b[0m\u001b[1;32m    390\u001b[0m         \u001b[0;32mreturn\u001b[0m \u001b[0msuper\u001b[0m\u001b[0;34m(\u001b[0m\u001b[0;34m)\u001b[0m\u001b[0;34m.\u001b[0m\u001b[0mget_loc\u001b[0m\u001b[0;34m(\u001b[0m\u001b[0mkey\u001b[0m\u001b[0;34m,\u001b[0m \u001b[0mmethod\u001b[0m\u001b[0;34m=\u001b[0m\u001b[0mmethod\u001b[0m\u001b[0;34m,\u001b[0m \u001b[0mtolerance\u001b[0m\u001b[0;34m=\u001b[0m\u001b[0mtolerance\u001b[0m\u001b[0;34m)\u001b[0m\u001b[0;34m\u001b[0m\u001b[0;34m\u001b[0m\u001b[0m\n\u001b[1;32m    391\u001b[0m \u001b[0;34m\u001b[0m\u001b[0m\n",
      "\u001b[0;31mKeyError\u001b[0m: 'compound'"
     ]
    }
   ],
   "source": [
    "print('Precio Nike: ', brands_tweets.vader_scores[:10]['compound'].mean())"
   ]
  },
  {
   "cell_type": "code",
   "execution_count": null,
   "id": "03ed0b59",
   "metadata": {},
   "outputs": [],
   "source": [
    "nike_price.vader_scores[13]"
   ]
  },
  {
   "cell_type": "code",
   "execution_count": null,
   "id": "6dd826fb",
   "metadata": {},
   "outputs": [],
   "source": [
    "def compound_score(scores):\n",
    "    return  scores\n",
    "\n",
    "nike_price.vader_scores['neg'].mean()"
   ]
  },
  {
   "cell_type": "markdown",
   "id": "6968e2e5",
   "metadata": {},
   "source": [
    "# PRUEBAS"
   ]
  },
  {
   "cell_type": "code",
   "execution_count": null,
   "id": "29098e07",
   "metadata": {},
   "outputs": [],
   "source": [
    "from nltk.stem import WordNetLemmatizer\n",
    "\n",
    "lemmatizer = WordNetLemmatizer()"
   ]
  },
  {
   "cell_type": "code",
   "execution_count": null,
   "id": "4e641b01",
   "metadata": {},
   "outputs": [],
   "source": [
    "lemmatizer.lemmatize('are')"
   ]
  },
  {
   "cell_type": "code",
   "execution_count": null,
   "id": "01627a84",
   "metadata": {},
   "outputs": [],
   "source": [
    "from textblob import Word\n",
    "\n",
    "a = Word('are')\n",
    "a.lemmatize('v')"
   ]
  },
  {
   "cell_type": "code",
   "execution_count": null,
   "id": "8f823fef",
   "metadata": {},
   "outputs": [],
   "source": [
    "nlp = spacy.load('en_core_web_sm')"
   ]
  },
  {
   "cell_type": "code",
   "execution_count": null,
   "id": "f48df2a4",
   "metadata": {},
   "outputs": [],
   "source": [
    "sent = 'Gus is helping organize a developer'\n",
    "\n",
    "for token in nlp(sent):\n",
    "    print (token, token.lemma_)"
   ]
  },
  {
   "cell_type": "code",
   "execution_count": null,
   "id": "9a6d2944",
   "metadata": {},
   "outputs": [],
   "source": [
    "from spacy import displacy\n",
    "\n",
    "doc = nlp(sent)\n",
    "\n",
    "displacy.render(doc, style='dep', jupyter=True)"
   ]
  }
 ],
 "metadata": {
  "kernelspec": {
   "display_name": "ironhack",
   "language": "python",
   "name": "myenv"
  },
  "language_info": {
   "codemirror_mode": {
    "name": "ipython",
    "version": 3
   },
   "file_extension": ".py",
   "mimetype": "text/x-python",
   "name": "python",
   "nbconvert_exporter": "python",
   "pygments_lexer": "ipython3",
   "version": "3.8.5"
  }
 },
 "nbformat": 4,
 "nbformat_minor": 5
}
