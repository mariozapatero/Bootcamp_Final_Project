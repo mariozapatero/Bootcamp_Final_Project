{
 "cells": [
  {
   "cell_type": "markdown",
   "id": "05a09c06",
   "metadata": {},
   "source": [
    "# NLP & Sentiment Analysis."
   ]
  },
  {
   "cell_type": "markdown",
   "id": "56332cf7",
   "metadata": {},
   "source": [
    "En esta etapa del proyecto manejaremos diferentes modelos pre-entrenados (librerías) y trataremos de evaluar cuál es el que nos ofrece mejores resultados.\n",
    "\n",
    "Evidentemente, sería conveniente desarrollar un modelo propio ad-hoc según las necesidades particulares del proyecto, lo cual probablemente nos permita alcanzar resultados más precisos. Sin embargo, no debemos olvidar que por el momento pretendemos construir las bases del proyecto y obtener un mínimo producto viable que demuestre su potencial. Disponemos de muy poco tiempo como para desarrollar y entrenar nuestro propio modelo y es por eso que se opta por la utilización de modelos pre-entrenados de NLP a la hora de analizar el sentimiento de los tweets y, por tanto, la percepción del usuario respecto de las marcas.\n",
    "\n",
    "Los análisis de sentimiento se ejecutarán a través de funciones previamente definidas en *' src / nlp_functions.py '*."
   ]
  },
  {
   "cell_type": "code",
   "execution_count": 1,
   "id": "b869dfe0",
   "metadata": {},
   "outputs": [],
   "source": [
    "from src.nlp_functions import *\n",
    "\n",
    "import pandas as pd"
   ]
  },
  {
   "cell_type": "code",
   "execution_count": 2,
   "id": "0bb7b7de",
   "metadata": {},
   "outputs": [],
   "source": [
    "brands_tweets = pd.read_pickle('data/car_brands_tokens.pkl')"
   ]
  },
  {
   "cell_type": "code",
   "execution_count": 3,
   "id": "bf5ea3fa",
   "metadata": {},
   "outputs": [
    {
     "data": {
      "text/html": [
       "<div>\n",
       "<style scoped>\n",
       "    .dataframe tbody tr th:only-of-type {\n",
       "        vertical-align: middle;\n",
       "    }\n",
       "\n",
       "    .dataframe tbody tr th {\n",
       "        vertical-align: top;\n",
       "    }\n",
       "\n",
       "    .dataframe thead th {\n",
       "        text-align: right;\n",
       "    }\n",
       "</style>\n",
       "<table border=\"1\" class=\"dataframe\">\n",
       "  <thead>\n",
       "    <tr style=\"text-align: right;\">\n",
       "      <th></th>\n",
       "      <th>text</th>\n",
       "      <th>hashtags</th>\n",
       "      <th>brand_attribute</th>\n",
       "      <th>brand</th>\n",
       "      <th>token</th>\n",
       "    </tr>\n",
       "  </thead>\n",
       "  <tbody>\n",
       "    <tr>\n",
       "      <th>0</th>\n",
       "      <td>i was told by bmw you need to replace the batt...</td>\n",
       "      <td>[]</td>\n",
       "      <td>quality</td>\n",
       "      <td>bmw</td>\n",
       "      <td>[told, bmw, need, replace, battery, approx, yr...</td>\n",
       "    </tr>\n",
       "    <tr>\n",
       "      <th>1</th>\n",
       "      <td>a new listing for bmw e two eight m five engin...</td>\n",
       "      <td>[]</td>\n",
       "      <td>quality</td>\n",
       "      <td>bmw</td>\n",
       "      <td>[new, listing, bmw, e, engine, posted, race, p...</td>\n",
       "    </tr>\n",
       "    <tr>\n",
       "      <th>2</th>\n",
       "      <td>he only led a few hundert meters at the austri...</td>\n",
       "      <td>[]</td>\n",
       "      <td>quality</td>\n",
       "      <td>bmw</td>\n",
       "      <td>[led, hundert, meter, austrian, gp, blew, migh...</td>\n",
       "    </tr>\n",
       "    <tr>\n",
       "      <th>3</th>\n",
       "      <td>russians making bmw seeking missiles it s over...</td>\n",
       "      <td>[]</td>\n",
       "      <td>quality</td>\n",
       "      <td>bmw</td>\n",
       "      <td>[russian, making, bmw, seeking, missile, baltic]</td>\n",
       "    </tr>\n",
       "    <tr>\n",
       "      <th>4</th>\n",
       "      <td>does anyone want to hati will just get doyoung...</td>\n",
       "      <td>[]</td>\n",
       "      <td>quality</td>\n",
       "      <td>bmw</td>\n",
       "      <td>[want, hati, doyoung, fortune, selca, gt, lt, ...</td>\n",
       "    </tr>\n",
       "  </tbody>\n",
       "</table>\n",
       "</div>"
      ],
      "text/plain": [
       "                                                text hashtags brand_attribute  \\\n",
       "0  i was told by bmw you need to replace the batt...       []         quality   \n",
       "1  a new listing for bmw e two eight m five engin...       []         quality   \n",
       "2  he only led a few hundert meters at the austri...       []         quality   \n",
       "3  russians making bmw seeking missiles it s over...       []         quality   \n",
       "4  does anyone want to hati will just get doyoung...       []         quality   \n",
       "\n",
       "  brand                                              token  \n",
       "0   bmw  [told, bmw, need, replace, battery, approx, yr...  \n",
       "1   bmw  [new, listing, bmw, e, engine, posted, race, p...  \n",
       "2   bmw  [led, hundert, meter, austrian, gp, blew, migh...  \n",
       "3   bmw   [russian, making, bmw, seeking, missile, baltic]  \n",
       "4   bmw  [want, hati, doyoung, fortune, selca, gt, lt, ...  "
      ]
     },
     "execution_count": 3,
     "metadata": {},
     "output_type": "execute_result"
    }
   ],
   "source": [
    "brands_tweets.head()"
   ]
  },
  {
   "cell_type": "markdown",
   "id": "4a02066a",
   "metadata": {},
   "source": [
    "### TextBlob (spaCy)"
   ]
  },
  {
   "cell_type": "code",
   "execution_count": 4,
   "id": "982a9c38",
   "metadata": {},
   "outputs": [
    {
     "data": {
      "text/plain": [
       "'INTRO!!!'"
      ]
     },
     "execution_count": 4,
     "metadata": {},
     "output_type": "execute_result"
    }
   ],
   "source": [
    "'''INTRO!!!'''\n",
    "\n",
    "# Esplicación breve.\n",
    "\n",
    "# Catarse bien de cómo funciona.\n",
    "# Ojo instalaciones (lo he metido en todos laos).\n"
   ]
  },
  {
   "cell_type": "code",
   "execution_count": 5,
   "id": "5f90d871",
   "metadata": {},
   "outputs": [],
   "source": [
    "brands_tweets['blob_scores'] = brands_tweets.token.apply(blob_scoring)"
   ]
  },
  {
   "cell_type": "code",
   "execution_count": 6,
   "id": "f8fadfce",
   "metadata": {},
   "outputs": [
    {
     "data": {
      "text/html": [
       "<div>\n",
       "<style scoped>\n",
       "    .dataframe tbody tr th:only-of-type {\n",
       "        vertical-align: middle;\n",
       "    }\n",
       "\n",
       "    .dataframe tbody tr th {\n",
       "        vertical-align: top;\n",
       "    }\n",
       "\n",
       "    .dataframe thead th {\n",
       "        text-align: right;\n",
       "    }\n",
       "</style>\n",
       "<table border=\"1\" class=\"dataframe\">\n",
       "  <thead>\n",
       "    <tr style=\"text-align: right;\">\n",
       "      <th></th>\n",
       "      <th>text</th>\n",
       "      <th>hashtags</th>\n",
       "      <th>brand_attribute</th>\n",
       "      <th>brand</th>\n",
       "      <th>token</th>\n",
       "      <th>blob_scores</th>\n",
       "    </tr>\n",
       "  </thead>\n",
       "  <tbody>\n",
       "    <tr>\n",
       "      <th>1127</th>\n",
       "      <td>dollarsuvxy dollarssqqq at an extreme alleviat...</td>\n",
       "      <td>[]</td>\n",
       "      <td>price</td>\n",
       "      <td>hyundai</td>\n",
       "      <td>[dollarsuvxy, dollarssqqq, extreme, alleviated...</td>\n",
       "      <td>0.187500</td>\n",
       "    </tr>\n",
       "    <tr>\n",
       "      <th>2319</th>\n",
       "      <td>ford unveils new structure as it speeds electr...</td>\n",
       "      <td>[#businessNews]</td>\n",
       "      <td>quality</td>\n",
       "      <td>ford</td>\n",
       "      <td>[ford, unveils, new, structure, speed, electri...</td>\n",
       "      <td>0.136364</td>\n",
       "    </tr>\n",
       "    <tr>\n",
       "      <th>1678</th>\n",
       "      <td>two zero one three hyundai sonata fourdr sdn t...</td>\n",
       "      <td>[]</td>\n",
       "      <td>price</td>\n",
       "      <td>hyundai</td>\n",
       "      <td>[zero, hyundai, sonata, fourdr, sdn, fourl, au...</td>\n",
       "      <td>0.000000</td>\n",
       "    </tr>\n",
       "    <tr>\n",
       "      <th>326</th>\n",
       "      <td>for volkswagen jetta beetle dorman secondary a...</td>\n",
       "      <td>[]</td>\n",
       "      <td>quality</td>\n",
       "      <td>volkswagen</td>\n",
       "      <td>[volkswagen, jetta, beetle, dorman, secondary,...</td>\n",
       "      <td>-0.300000</td>\n",
       "    </tr>\n",
       "    <tr>\n",
       "      <th>1171</th>\n",
       "      <td>skill lync and renault nissan technology amp b...</td>\n",
       "      <td>[]</td>\n",
       "      <td>price</td>\n",
       "      <td>renault</td>\n",
       "      <td>[skill, lync, renault, nissan, technology, amp...</td>\n",
       "      <td>0.000000</td>\n",
       "    </tr>\n",
       "    <tr>\n",
       "      <th>4027</th>\n",
       "      <td>i would again request you how fiat currency an...</td>\n",
       "      <td>[]</td>\n",
       "      <td>price</td>\n",
       "      <td>fiat</td>\n",
       "      <td>[request, fiat, currency, money, work, way, cr...</td>\n",
       "      <td>0.000000</td>\n",
       "    </tr>\n",
       "    <tr>\n",
       "      <th>2623</th>\n",
       "      <td>henry ford wrote when everything seems to be g...</td>\n",
       "      <td>[]</td>\n",
       "      <td>quality</td>\n",
       "      <td>ford</td>\n",
       "      <td>[henry, ford, wrote, going, remember, airplane...</td>\n",
       "      <td>0.600000</td>\n",
       "    </tr>\n",
       "    <tr>\n",
       "      <th>551</th>\n",
       "      <td>upgraded amphibious vintage volkswagen van</td>\n",
       "      <td>[]</td>\n",
       "      <td>quality</td>\n",
       "      <td>volkswagen</td>\n",
       "      <td>[upgraded, amphibious, vintage, volkswagen, van]</td>\n",
       "      <td>0.000000</td>\n",
       "    </tr>\n",
       "    <tr>\n",
       "      <th>424</th>\n",
       "      <td>hardly but she s frugal invested wisely amp ha...</td>\n",
       "      <td>[]</td>\n",
       "      <td>quality</td>\n",
       "      <td>bmw</td>\n",
       "      <td>[hardly, frugal, invested, wisely, amp, doggon...</td>\n",
       "      <td>0.338542</td>\n",
       "    </tr>\n",
       "    <tr>\n",
       "      <th>2308</th>\n",
       "      <td>great night at with domenico de sole chairman ...</td>\n",
       "      <td>[]</td>\n",
       "      <td>quality</td>\n",
       "      <td>ford</td>\n",
       "      <td>[great, night, domenico, de, sole, chairman, t...</td>\n",
       "      <td>0.350000</td>\n",
       "    </tr>\n",
       "  </tbody>\n",
       "</table>\n",
       "</div>"
      ],
      "text/plain": [
       "                                                   text         hashtags  \\\n",
       "1127  dollarsuvxy dollarssqqq at an extreme alleviat...               []   \n",
       "2319  ford unveils new structure as it speeds electr...  [#businessNews]   \n",
       "1678  two zero one three hyundai sonata fourdr sdn t...               []   \n",
       "326   for volkswagen jetta beetle dorman secondary a...               []   \n",
       "1171  skill lync and renault nissan technology amp b...               []   \n",
       "4027  i would again request you how fiat currency an...               []   \n",
       "2623  henry ford wrote when everything seems to be g...               []   \n",
       "551          upgraded amphibious vintage volkswagen van               []   \n",
       "424   hardly but she s frugal invested wisely amp ha...               []   \n",
       "2308  great night at with domenico de sole chairman ...               []   \n",
       "\n",
       "     brand_attribute       brand  \\\n",
       "1127           price     hyundai   \n",
       "2319         quality        ford   \n",
       "1678           price     hyundai   \n",
       "326          quality  volkswagen   \n",
       "1171           price     renault   \n",
       "4027           price        fiat   \n",
       "2623         quality        ford   \n",
       "551          quality  volkswagen   \n",
       "424          quality         bmw   \n",
       "2308         quality        ford   \n",
       "\n",
       "                                                  token  blob_scores  \n",
       "1127  [dollarsuvxy, dollarssqqq, extreme, alleviated...     0.187500  \n",
       "2319  [ford, unveils, new, structure, speed, electri...     0.136364  \n",
       "1678  [zero, hyundai, sonata, fourdr, sdn, fourl, au...     0.000000  \n",
       "326   [volkswagen, jetta, beetle, dorman, secondary,...    -0.300000  \n",
       "1171  [skill, lync, renault, nissan, technology, amp...     0.000000  \n",
       "4027  [request, fiat, currency, money, work, way, cr...     0.000000  \n",
       "2623  [henry, ford, wrote, going, remember, airplane...     0.600000  \n",
       "551    [upgraded, amphibious, vintage, volkswagen, van]     0.000000  \n",
       "424   [hardly, frugal, invested, wisely, amp, doggon...     0.338542  \n",
       "2308  [great, night, domenico, de, sole, chairman, t...     0.350000  "
      ]
     },
     "execution_count": 6,
     "metadata": {},
     "output_type": "execute_result"
    }
   ],
   "source": [
    "brands_tweets.sample(10)"
   ]
  },
  {
   "cell_type": "markdown",
   "id": "e363ea6b",
   "metadata": {},
   "source": [
    "### VADER."
   ]
  },
  {
   "cell_type": "markdown",
   "id": "06d4f02e",
   "metadata": {},
   "source": [
    "VADER (Valence Aware Dictionary and sEntiment Reasoner) es una librería utilizada para el análisis del sentimiento que se enfoca en los textos de social media. Así, pone énfases en las rules que captan la esencia del texto que normalmente se ve en las redes sociales. Algo interesante de VADER es que está pensado para poder actuar sobre texto sobre el que se ha hecho un limpieza muy básica (conservando emojis, signos de exclamación, etc.). Nosotros lo probaremos sobre los datos ya limpios ya que confiamos en que ofrecerán un mejor resultado (aunque no se presenta el proceso, se ha probado con los datos originales en bruto, pero no consique analizar los sentimientos correctamente y la gran mayoría de scores para negatividad, neutralidad y positivadad son 0). No obstante, lo ideal sería evaluar la precisión del análisis sobre tweets con diferentes niveles de limpieza (desde el más básico, al más detallista) y comparar los modelos para identificar el que ofrece un mayor rendimiento (incluyendo también los análisis desarrollados mediante otros modelos diferentes a VADER)."
   ]
  },
  {
   "cell_type": "markdown",
   "id": "fddbe952",
   "metadata": {},
   "source": [
    "https://towardsdatascience.com/fine-grained-sentiment-analysis-in-python-part-1-2697bb111ed4"
   ]
  },
  {
   "cell_type": "code",
   "execution_count": 7,
   "id": "01abefaf",
   "metadata": {},
   "outputs": [],
   "source": [
    "brands_tweets['vader_scores'] = brands_tweets.token.apply(vader_scoring)"
   ]
  },
  {
   "cell_type": "code",
   "execution_count": 8,
   "id": "f9d080a2",
   "metadata": {
    "scrolled": false
   },
   "outputs": [
    {
     "data": {
      "text/html": [
       "<div>\n",
       "<style scoped>\n",
       "    .dataframe tbody tr th:only-of-type {\n",
       "        vertical-align: middle;\n",
       "    }\n",
       "\n",
       "    .dataframe tbody tr th {\n",
       "        vertical-align: top;\n",
       "    }\n",
       "\n",
       "    .dataframe thead th {\n",
       "        text-align: right;\n",
       "    }\n",
       "</style>\n",
       "<table border=\"1\" class=\"dataframe\">\n",
       "  <thead>\n",
       "    <tr style=\"text-align: right;\">\n",
       "      <th></th>\n",
       "      <th>text</th>\n",
       "      <th>hashtags</th>\n",
       "      <th>brand_attribute</th>\n",
       "      <th>brand</th>\n",
       "      <th>token</th>\n",
       "      <th>blob_scores</th>\n",
       "      <th>vader_scores</th>\n",
       "    </tr>\n",
       "  </thead>\n",
       "  <tbody>\n",
       "    <tr>\n",
       "      <th>3277</th>\n",
       "      <td>well they have a finite life</td>\n",
       "      <td>[]</td>\n",
       "      <td>quality</td>\n",
       "      <td>hyundai</td>\n",
       "      <td>[finite, life]</td>\n",
       "      <td>0.000000</td>\n",
       "      <td>{'neg': 0.0, 'neu': 1.0, 'pos': 0.0, 'compound...</td>\n",
       "    </tr>\n",
       "    <tr>\n",
       "      <th>3894</th>\n",
       "      <td>now playing eris ford evan and eris keep me li...</td>\n",
       "      <td>[#NowPlaying]</td>\n",
       "      <td>quality</td>\n",
       "      <td>ford</td>\n",
       "      <td>[playing, eris, ford, evan, eris, listen, favo...</td>\n",
       "      <td>0.500000</td>\n",
       "      <td>{'neg': 0.0, 'neu': 0.625, 'pos': 0.375, 'comp...</td>\n",
       "    </tr>\n",
       "    <tr>\n",
       "      <th>5043</th>\n",
       "      <td>ha and leading the pack is a bmw and an audi</td>\n",
       "      <td>[]</td>\n",
       "      <td>quality</td>\n",
       "      <td>audi</td>\n",
       "      <td>[ha, leading, pack, bmw, audi]</td>\n",
       "      <td>0.000000</td>\n",
       "      <td>{'neg': 0.0, 'neu': 0.625, 'pos': 0.375, 'comp...</td>\n",
       "    </tr>\n",
       "    <tr>\n",
       "      <th>4833</th>\n",
       "      <td>volkswagen volvo gm amp more automakers halt v...</td>\n",
       "      <td>[]</td>\n",
       "      <td>quality</td>\n",
       "      <td>volkswagen</td>\n",
       "      <td>[volkswagen, volvo, gm, amp, automaker, halt, ...</td>\n",
       "      <td>0.000000</td>\n",
       "      <td>{'neg': 0.0, 'neu': 1.0, 'pos': 0.0, 'compound...</td>\n",
       "    </tr>\n",
       "    <tr>\n",
       "      <th>3780</th>\n",
       "      <td>the alliance electrifies mobility welcome to n...</td>\n",
       "      <td>[#mobility!, #hybrid]</td>\n",
       "      <td>quality</td>\n",
       "      <td>renault</td>\n",
       "      <td>[alliance, electrifies, mobility, welcome, nis...</td>\n",
       "      <td>0.468182</td>\n",
       "      <td>{'neg': 0.0, 'neu': 0.812, 'pos': 0.188, 'comp...</td>\n",
       "    </tr>\n",
       "    <tr>\n",
       "      <th>4137</th>\n",
       "      <td>brambilla wearing a bmw jacket</td>\n",
       "      <td>[]</td>\n",
       "      <td>price</td>\n",
       "      <td>bmw</td>\n",
       "      <td>[brambilla, wearing, bmw, jacket]</td>\n",
       "      <td>0.000000</td>\n",
       "      <td>{'neg': 0.0, 'neu': 1.0, 'pos': 0.0, 'compound...</td>\n",
       "    </tr>\n",
       "    <tr>\n",
       "      <th>3734</th>\n",
       "      <td>a bmw with a jesus is lord sticker just cut me...</td>\n",
       "      <td>[]</td>\n",
       "      <td>quality</td>\n",
       "      <td>bmw</td>\n",
       "      <td>[bmw, jesus, lord, sticker, cut, slam, brake, ...</td>\n",
       "      <td>0.000000</td>\n",
       "      <td>{'neg': 0.309, 'neu': 0.526, 'pos': 0.164, 'co...</td>\n",
       "    </tr>\n",
       "    <tr>\n",
       "      <th>226</th>\n",
       "      <td>bosal four threenf one eightw rear right muffl...</td>\n",
       "      <td>[]</td>\n",
       "      <td>quality</td>\n",
       "      <td>audi</td>\n",
       "      <td>[bosal, threenf, eightw, rear, right, muffler,...</td>\n",
       "      <td>0.342857</td>\n",
       "      <td>{'neg': 0.0, 'neu': 0.839, 'pos': 0.161, 'comp...</td>\n",
       "    </tr>\n",
       "    <tr>\n",
       "      <th>3670</th>\n",
       "      <td>yeah i m like bro that s ur idea aa didn t say...</td>\n",
       "      <td>[]</td>\n",
       "      <td>price</td>\n",
       "      <td>bmw</td>\n",
       "      <td>[yeah, like, bro, ur, idea, aa, like, saying, ...</td>\n",
       "      <td>-0.233333</td>\n",
       "      <td>{'neg': 0.178, 'neu': 0.409, 'pos': 0.413, 'co...</td>\n",
       "    </tr>\n",
       "    <tr>\n",
       "      <th>1181</th>\n",
       "      <td>why tesla over the bmw</td>\n",
       "      <td>[]</td>\n",
       "      <td>quality</td>\n",
       "      <td>bmw</td>\n",
       "      <td>[tesla, bmw]</td>\n",
       "      <td>0.000000</td>\n",
       "      <td>{'neg': 0.0, 'neu': 1.0, 'pos': 0.0, 'compound...</td>\n",
       "    </tr>\n",
       "  </tbody>\n",
       "</table>\n",
       "</div>"
      ],
      "text/plain": [
       "                                                   text  \\\n",
       "3277                       well they have a finite life   \n",
       "3894  now playing eris ford evan and eris keep me li...   \n",
       "5043       ha and leading the pack is a bmw and an audi   \n",
       "4833  volkswagen volvo gm amp more automakers halt v...   \n",
       "3780  the alliance electrifies mobility welcome to n...   \n",
       "4137                     brambilla wearing a bmw jacket   \n",
       "3734  a bmw with a jesus is lord sticker just cut me...   \n",
       "226   bosal four threenf one eightw rear right muffl...   \n",
       "3670  yeah i m like bro that s ur idea aa didn t say...   \n",
       "1181                             why tesla over the bmw   \n",
       "\n",
       "                   hashtags brand_attribute       brand  \\\n",
       "3277                     []         quality     hyundai   \n",
       "3894          [#NowPlaying]         quality        ford   \n",
       "5043                     []         quality        audi   \n",
       "4833                     []         quality  volkswagen   \n",
       "3780  [#mobility!, #hybrid]         quality     renault   \n",
       "4137                     []           price         bmw   \n",
       "3734                     []         quality         bmw   \n",
       "226                      []         quality        audi   \n",
       "3670                     []           price         bmw   \n",
       "1181                     []         quality         bmw   \n",
       "\n",
       "                                                  token  blob_scores  \\\n",
       "3277                                     [finite, life]     0.000000   \n",
       "3894  [playing, eris, ford, evan, eris, listen, favo...     0.500000   \n",
       "5043                     [ha, leading, pack, bmw, audi]     0.000000   \n",
       "4833  [volkswagen, volvo, gm, amp, automaker, halt, ...     0.000000   \n",
       "3780  [alliance, electrifies, mobility, welcome, nis...     0.468182   \n",
       "4137                  [brambilla, wearing, bmw, jacket]     0.000000   \n",
       "3734  [bmw, jesus, lord, sticker, cut, slam, brake, ...     0.000000   \n",
       "226   [bosal, threenf, eightw, rear, right, muffler,...     0.342857   \n",
       "3670  [yeah, like, bro, ur, idea, aa, like, saying, ...    -0.233333   \n",
       "1181                                       [tesla, bmw]     0.000000   \n",
       "\n",
       "                                           vader_scores  \n",
       "3277  {'neg': 0.0, 'neu': 1.0, 'pos': 0.0, 'compound...  \n",
       "3894  {'neg': 0.0, 'neu': 0.625, 'pos': 0.375, 'comp...  \n",
       "5043  {'neg': 0.0, 'neu': 0.625, 'pos': 0.375, 'comp...  \n",
       "4833  {'neg': 0.0, 'neu': 1.0, 'pos': 0.0, 'compound...  \n",
       "3780  {'neg': 0.0, 'neu': 0.812, 'pos': 0.188, 'comp...  \n",
       "4137  {'neg': 0.0, 'neu': 1.0, 'pos': 0.0, 'compound...  \n",
       "3734  {'neg': 0.309, 'neu': 0.526, 'pos': 0.164, 'co...  \n",
       "226   {'neg': 0.0, 'neu': 0.839, 'pos': 0.161, 'comp...  \n",
       "3670  {'neg': 0.178, 'neu': 0.409, 'pos': 0.413, 'co...  \n",
       "1181  {'neg': 0.0, 'neu': 1.0, 'pos': 0.0, 'compound...  "
      ]
     },
     "execution_count": 8,
     "metadata": {},
     "output_type": "execute_result"
    }
   ],
   "source": [
    "brands_tweets.sample(10)"
   ]
  },
  {
   "cell_type": "code",
   "execution_count": 9,
   "id": "d0518830",
   "metadata": {
    "scrolled": true
   },
   "outputs": [
    {
     "data": {
      "text/plain": [
       " 0.000000    17079\n",
       " 0.136364     1442\n",
       " 0.500000     1087\n",
       " 0.400000      965\n",
       " 0.468182      745\n",
       "             ...  \n",
       " 0.696429        1\n",
       " 0.227381        1\n",
       " 0.029167        1\n",
       "-0.018750        1\n",
       "-0.387879        1\n",
       "Name: blob_scores, Length: 2985, dtype: int64"
      ]
     },
     "execution_count": 9,
     "metadata": {},
     "output_type": "execute_result"
    }
   ],
   "source": [
    "brands_tweets.blob_scores.value_counts()"
   ]
  },
  {
   "cell_type": "code",
   "execution_count": 10,
   "id": "63f32676",
   "metadata": {},
   "outputs": [
    {
     "data": {
      "text/plain": [
       "dict"
      ]
     },
     "execution_count": 10,
     "metadata": {},
     "output_type": "execute_result"
    }
   ],
   "source": [
    "type(brands_tweets.vader_scores[2].reset_index().vader_scores[0])"
   ]
  },
  {
   "cell_type": "code",
   "execution_count": 11,
   "id": "25b8dcdb",
   "metadata": {},
   "outputs": [],
   "source": [
    "brands_tweets.reset_index(inplace = True)"
   ]
  },
  {
   "cell_type": "markdown",
   "id": "eb34cff7",
   "metadata": {},
   "source": [
    "# Resultados del Análisis."
   ]
  },
  {
   "cell_type": "markdown",
   "id": "28386d0b",
   "metadata": {},
   "source": [
    "## Blob Scores"
   ]
  },
  {
   "cell_type": "code",
   "execution_count": 12,
   "id": "7ea93e02",
   "metadata": {
    "scrolled": true
   },
   "outputs": [
    {
     "data": {
      "text/plain": [
       "0.09297677256130484"
      ]
     },
     "execution_count": 12,
     "metadata": {},
     "output_type": "execute_result"
    }
   ],
   "source": [
    "brands_tweets.blob_scores.mean()"
   ]
  },
  {
   "cell_type": "markdown",
   "id": "a339ae63",
   "metadata": {},
   "source": [
    "**Resultados BMW:**"
   ]
  },
  {
   "cell_type": "code",
   "execution_count": 13,
   "id": "daa207eb",
   "metadata": {},
   "outputs": [],
   "source": [
    "bmw_price = brands_tweets[(brands_tweets['brand'] == 'bmw') & (brands_tweets['brand_attribute'] == 'price') & (brands_tweets['blob_scores'] != 0.000)]"
   ]
  },
  {
   "cell_type": "code",
   "execution_count": 14,
   "id": "377565e3",
   "metadata": {},
   "outputs": [
    {
     "name": "stdout",
     "output_type": "stream",
     "text": [
      "Precio BMW:  0.1317321158080144\n"
     ]
    }
   ],
   "source": [
    "print('Precio BMW: ', bmw_price.blob_scores.mean())"
   ]
  },
  {
   "cell_type": "code",
   "execution_count": 15,
   "id": "c08bcd64",
   "metadata": {},
   "outputs": [],
   "source": [
    "bmw_quality = brands_tweets[(brands_tweets['brand'] == 'bmw') & (brands_tweets['brand_attribute'] == 'quality') & (brands_tweets['blob_scores'] != 0.000)]"
   ]
  },
  {
   "cell_type": "code",
   "execution_count": 16,
   "id": "f0457a0e",
   "metadata": {},
   "outputs": [
    {
     "name": "stdout",
     "output_type": "stream",
     "text": [
      "Calidad BMW:  0.16829674466801028\n"
     ]
    }
   ],
   "source": [
    "print('Calidad BMW: ', bmw_quality.blob_scores.mean())"
   ]
  },
  {
   "cell_type": "markdown",
   "id": "7588f4c5",
   "metadata": {},
   "source": [
    "**Resultados Audi:**"
   ]
  },
  {
   "cell_type": "code",
   "execution_count": 17,
   "id": "8ef8fc8d",
   "metadata": {},
   "outputs": [],
   "source": [
    "audi_price = brands_tweets[(brands_tweets['brand'] == 'audi') & (brands_tweets['brand_attribute'] == 'price') & (brands_tweets['blob_scores'] != 0.000)]"
   ]
  },
  {
   "cell_type": "code",
   "execution_count": 18,
   "id": "8762d4cd",
   "metadata": {},
   "outputs": [
    {
     "name": "stdout",
     "output_type": "stream",
     "text": [
      "Precio Audi:  0.13154333110742686\n"
     ]
    }
   ],
   "source": [
    "print('Precio Audi: ', audi_price.blob_scores.mean())"
   ]
  },
  {
   "cell_type": "code",
   "execution_count": 19,
   "id": "5899a884",
   "metadata": {},
   "outputs": [],
   "source": [
    "audi_quality = brands_tweets[(brands_tweets['brand'] == 'audi') & (brands_tweets['brand_attribute'] == 'quality') & (brands_tweets['blob_scores'] != 0.000)]"
   ]
  },
  {
   "cell_type": "code",
   "execution_count": 20,
   "id": "4483deb5",
   "metadata": {
    "scrolled": true
   },
   "outputs": [
    {
     "name": "stdout",
     "output_type": "stream",
     "text": [
      "Calidad Audi:  0.19035204350278392\n"
     ]
    }
   ],
   "source": [
    "print('Calidad Audi: ', audi_quality.blob_scores.mean())"
   ]
  },
  {
   "cell_type": "markdown",
   "id": "0a896b7d",
   "metadata": {},
   "source": [
    "**Resultados Volkswagen:**"
   ]
  },
  {
   "cell_type": "code",
   "execution_count": 21,
   "id": "e1768558",
   "metadata": {},
   "outputs": [],
   "source": [
    "volkswagen_price = brands_tweets[(brands_tweets['brand'] == 'volkswagen') & (brands_tweets['brand_attribute'] == 'price') & (brands_tweets['blob_scores'] != 0.000)]"
   ]
  },
  {
   "cell_type": "code",
   "execution_count": 22,
   "id": "73e4b69a",
   "metadata": {},
   "outputs": [
    {
     "name": "stdout",
     "output_type": "stream",
     "text": [
      "Precio Volkswagen:  0.1542028084821452\n"
     ]
    }
   ],
   "source": [
    "print('Precio Volkswagen: ', volkswagen_price.blob_scores.mean())"
   ]
  },
  {
   "cell_type": "code",
   "execution_count": 23,
   "id": "85678036",
   "metadata": {},
   "outputs": [],
   "source": [
    "volkswagen_quality = brands_tweets[(brands_tweets['brand'] == 'volkswagen') & (brands_tweets['brand_attribute'] == 'quality') & (brands_tweets['blob_scores'] != 0.000)]"
   ]
  },
  {
   "cell_type": "code",
   "execution_count": 24,
   "id": "c3f8237b",
   "metadata": {},
   "outputs": [
    {
     "name": "stdout",
     "output_type": "stream",
     "text": [
      "Calidad Volkswagen:  0.1728424276679489\n"
     ]
    }
   ],
   "source": [
    "print('Calidad Volkswagen: ', volkswagen_quality.blob_scores.mean())"
   ]
  },
  {
   "cell_type": "markdown",
   "id": "f90d47ea",
   "metadata": {},
   "source": [
    "**Resultados Renault:**"
   ]
  },
  {
   "cell_type": "code",
   "execution_count": 25,
   "id": "3b51e0cf",
   "metadata": {},
   "outputs": [],
   "source": [
    "renault_price = brands_tweets[(brands_tweets['brand'] == 'renault') & (brands_tweets['brand_attribute'] == 'price') & (brands_tweets['blob_scores'] != 0.000)]"
   ]
  },
  {
   "cell_type": "code",
   "execution_count": 26,
   "id": "a59767d4",
   "metadata": {},
   "outputs": [
    {
     "name": "stdout",
     "output_type": "stream",
     "text": [
      "Precio Renault:  0.1348203829739254\n"
     ]
    }
   ],
   "source": [
    "print('Precio Renault: ', renault_price.blob_scores.mean())"
   ]
  },
  {
   "cell_type": "code",
   "execution_count": 27,
   "id": "045a6def",
   "metadata": {},
   "outputs": [],
   "source": [
    "renault_quality = brands_tweets[(brands_tweets['brand'] == 'renault') & (brands_tweets['brand_attribute'] == 'quality') & (brands_tweets['blob_scores'] != 0.000)]"
   ]
  },
  {
   "cell_type": "code",
   "execution_count": 28,
   "id": "fe050fe5",
   "metadata": {
    "scrolled": true
   },
   "outputs": [
    {
     "name": "stdout",
     "output_type": "stream",
     "text": [
      "Calidad Renault:  0.1483066381195432\n"
     ]
    }
   ],
   "source": [
    "print('Calidad Renault: ', renault_quality.blob_scores.mean())"
   ]
  },
  {
   "cell_type": "markdown",
   "id": "5a1e994e",
   "metadata": {},
   "source": [
    "**Resultados Fiat:**"
   ]
  },
  {
   "cell_type": "code",
   "execution_count": 29,
   "id": "4f41148b",
   "metadata": {},
   "outputs": [],
   "source": [
    "fiat_price = brands_tweets[(brands_tweets['brand'] == 'fiat') & (brands_tweets['brand_attribute'] == 'price') & (brands_tweets['blob_scores'] != 0.000)]"
   ]
  },
  {
   "cell_type": "code",
   "execution_count": 30,
   "id": "35175780",
   "metadata": {},
   "outputs": [
    {
     "name": "stdout",
     "output_type": "stream",
     "text": [
      "Precio Fiat:  0.0714856222823531\n"
     ]
    }
   ],
   "source": [
    "print('Precio Fiat: ', fiat_price.blob_scores.mean())"
   ]
  },
  {
   "cell_type": "code",
   "execution_count": 31,
   "id": "c7319c70",
   "metadata": {},
   "outputs": [],
   "source": [
    "fiat_quality = brands_tweets[(brands_tweets['brand'] == 'fiat') & (brands_tweets['brand_attribute'] == 'quality') & (brands_tweets['blob_scores'] != 0.000)]"
   ]
  },
  {
   "cell_type": "code",
   "execution_count": 32,
   "id": "9d14d802",
   "metadata": {
    "scrolled": true
   },
   "outputs": [
    {
     "name": "stdout",
     "output_type": "stream",
     "text": [
      "Calidad Fiat:  0.13572824342499473\n"
     ]
    }
   ],
   "source": [
    "print('Calidad Fiat: ', fiat_quality.blob_scores.mean())"
   ]
  },
  {
   "cell_type": "markdown",
   "id": "94d46bf2",
   "metadata": {},
   "source": [
    "**Resultados Ferrari:**"
   ]
  },
  {
   "cell_type": "code",
   "execution_count": 33,
   "id": "5d5add5a",
   "metadata": {},
   "outputs": [],
   "source": [
    "ferrari_price = brands_tweets[(brands_tweets['brand'] == 'ferrari') & (brands_tweets['brand_attribute'] == 'price') & (brands_tweets['blob_scores'] != 0.000)]"
   ]
  },
  {
   "cell_type": "code",
   "execution_count": 34,
   "id": "32d283aa",
   "metadata": {},
   "outputs": [
    {
     "name": "stdout",
     "output_type": "stream",
     "text": [
      "Precio Ferrari:  0.12086402312964814\n"
     ]
    }
   ],
   "source": [
    "print('Precio Ferrari: ', ferrari_price.blob_scores.mean())"
   ]
  },
  {
   "cell_type": "code",
   "execution_count": 35,
   "id": "83f99d2e",
   "metadata": {},
   "outputs": [],
   "source": [
    "ferrari_quality = brands_tweets[(brands_tweets['brand'] == 'ferrari') & (brands_tweets['brand_attribute'] == 'quality') & (brands_tweets['blob_scores'] != 0.000)]"
   ]
  },
  {
   "cell_type": "code",
   "execution_count": 36,
   "id": "e07da55f",
   "metadata": {
    "scrolled": true
   },
   "outputs": [
    {
     "name": "stdout",
     "output_type": "stream",
     "text": [
      "Calidad Ferrari:  0.14071384398605655\n"
     ]
    }
   ],
   "source": [
    "print('Calidad Ferrari: ', ferrari_quality.blob_scores.mean())"
   ]
  },
  {
   "cell_type": "markdown",
   "id": "298b8626",
   "metadata": {},
   "source": [
    "**Resultados Lamborghini:**"
   ]
  },
  {
   "cell_type": "code",
   "execution_count": 37,
   "id": "3e26d557",
   "metadata": {},
   "outputs": [],
   "source": [
    "lamborghini_price = brands_tweets[(brands_tweets['brand'] == 'lamborghini') & (brands_tweets['brand_attribute'] == 'price') & (brands_tweets['blob_scores'] != 0.000)]"
   ]
  },
  {
   "cell_type": "code",
   "execution_count": 38,
   "id": "a6f1df1f",
   "metadata": {},
   "outputs": [
    {
     "name": "stdout",
     "output_type": "stream",
     "text": [
      "Precio Lamborghini:  0.3386361634121229\n"
     ]
    }
   ],
   "source": [
    "print('Precio Lamborghini: ', lamborghini_price.blob_scores.mean())"
   ]
  },
  {
   "cell_type": "code",
   "execution_count": 39,
   "id": "7b855075",
   "metadata": {},
   "outputs": [],
   "source": [
    "lamborghini_quality = brands_tweets[(brands_tweets['brand'] == 'lamborghini') & (brands_tweets['brand_attribute'] == 'quality') & (brands_tweets['blob_scores'] != 0.000)]"
   ]
  },
  {
   "cell_type": "code",
   "execution_count": 40,
   "id": "1150113b",
   "metadata": {
    "scrolled": true
   },
   "outputs": [
    {
     "name": "stdout",
     "output_type": "stream",
     "text": [
      "Calidad Lamborghini:  0.17023723944063776\n"
     ]
    }
   ],
   "source": [
    "print('Calidad Lamborghini: ', lamborghini_quality.blob_scores.mean())"
   ]
  },
  {
   "cell_type": "markdown",
   "id": "365e27a8",
   "metadata": {},
   "source": [
    "**Resultados Hyundai:**"
   ]
  },
  {
   "cell_type": "code",
   "execution_count": 41,
   "id": "ca6f9582",
   "metadata": {},
   "outputs": [],
   "source": [
    "hyundai_price = brands_tweets[(brands_tweets['brand'] == 'hyundai') & (brands_tweets['brand_attribute'] == 'price') & (brands_tweets['blob_scores'] != 0.000)]"
   ]
  },
  {
   "cell_type": "code",
   "execution_count": 42,
   "id": "9f172d4e",
   "metadata": {},
   "outputs": [
    {
     "name": "stdout",
     "output_type": "stream",
     "text": [
      "Precio Hyundai:  0.1481464112135965\n"
     ]
    }
   ],
   "source": [
    "print('Precio Hyundai: ', hyundai_price.blob_scores.mean())"
   ]
  },
  {
   "cell_type": "code",
   "execution_count": 43,
   "id": "dda4a1f2",
   "metadata": {},
   "outputs": [],
   "source": [
    "hyundai_quality = brands_tweets[(brands_tweets['brand'] == 'hyundai') & (brands_tweets['brand_attribute'] == 'quality') & (brands_tweets['blob_scores'] != 0.000)]"
   ]
  },
  {
   "cell_type": "code",
   "execution_count": 44,
   "id": "b53d42b9",
   "metadata": {
    "scrolled": true
   },
   "outputs": [
    {
     "name": "stdout",
     "output_type": "stream",
     "text": [
      "Calidad Hyundai:  0.2091447548097172\n"
     ]
    }
   ],
   "source": [
    "print('Calidad Hyundai: ', hyundai_quality.blob_scores.mean())"
   ]
  },
  {
   "cell_type": "markdown",
   "id": "f86af8dc",
   "metadata": {},
   "source": [
    "**Resultados Peugeot:**"
   ]
  },
  {
   "cell_type": "code",
   "execution_count": 45,
   "id": "44d9f755",
   "metadata": {},
   "outputs": [],
   "source": [
    "peugeot_price = brands_tweets[(brands_tweets['brand'] == 'peugeot') & (brands_tweets['brand_attribute'] == 'price') & (brands_tweets['blob_scores'] != 0.000)]"
   ]
  },
  {
   "cell_type": "code",
   "execution_count": 46,
   "id": "03a9070a",
   "metadata": {},
   "outputs": [
    {
     "name": "stdout",
     "output_type": "stream",
     "text": [
      "Precio Peugeot:  0.15054827367194953\n"
     ]
    }
   ],
   "source": [
    "print('Precio Peugeot: ', peugeot_price.blob_scores.mean())"
   ]
  },
  {
   "cell_type": "code",
   "execution_count": 47,
   "id": "5c8ac3f0",
   "metadata": {},
   "outputs": [],
   "source": [
    "peugeot_quality = brands_tweets[(brands_tweets['brand'] == 'peugeot') & (brands_tweets['brand_attribute'] == 'quality') & (brands_tweets['blob_scores'] != 0.000)]"
   ]
  },
  {
   "cell_type": "code",
   "execution_count": 48,
   "id": "18adfba0",
   "metadata": {
    "scrolled": false
   },
   "outputs": [
    {
     "name": "stdout",
     "output_type": "stream",
     "text": [
      "Calidad Peugeot:  0.17631208395919654\n"
     ]
    }
   ],
   "source": [
    "print('Calidad Peugeot: ', peugeot_quality.blob_scores.mean())"
   ]
  },
  {
   "cell_type": "markdown",
   "id": "ce0d107d",
   "metadata": {},
   "source": [
    "**Resultados Ford:**"
   ]
  },
  {
   "cell_type": "code",
   "execution_count": 49,
   "id": "67ad2c83",
   "metadata": {},
   "outputs": [],
   "source": [
    "ford_price = brands_tweets[(brands_tweets['brand'] == 'ford') & (brands_tweets['brand_attribute'] == 'price') & (brands_tweets['blob_scores'] != 0.000)]"
   ]
  },
  {
   "cell_type": "code",
   "execution_count": 50,
   "id": "ade73efb",
   "metadata": {},
   "outputs": [
    {
     "name": "stdout",
     "output_type": "stream",
     "text": [
      "Precio Ford:  0.07037849590558293\n"
     ]
    }
   ],
   "source": [
    "print('Precio Ford: ', ford_price.blob_scores.mean())"
   ]
  },
  {
   "cell_type": "code",
   "execution_count": 51,
   "id": "4e972b26",
   "metadata": {},
   "outputs": [],
   "source": [
    "ford_quality = brands_tweets[(brands_tweets['brand'] == 'ford') & (brands_tweets['brand_attribute'] == 'quality') & (brands_tweets['blob_scores'] != 0.000)]"
   ]
  },
  {
   "cell_type": "code",
   "execution_count": 52,
   "id": "074b2e3f",
   "metadata": {
    "scrolled": true
   },
   "outputs": [
    {
     "name": "stdout",
     "output_type": "stream",
     "text": [
      "Calidad Ford:  0.11465949178911926\n"
     ]
    }
   ],
   "source": [
    "print('Calidad Ford: ', ford_quality.blob_scores.mean())"
   ]
  },
  {
   "cell_type": "markdown",
   "id": "dbaed2c2",
   "metadata": {},
   "source": [
    "### Visualización de Resultados (blob scores)."
   ]
  },
  {
   "cell_type": "markdown",
   "id": "d00b2e1f",
   "metadata": {},
   "source": [
    "**Creamos la tabla a partir de la cual generamos el gráfico (preparamos los datos).**"
   ]
  },
  {
   "cell_type": "code",
   "execution_count": 78,
   "id": "8883f31b",
   "metadata": {},
   "outputs": [],
   "source": [
    "car_brands = [\n",
    "    \n",
    "{'brand':'BMW', 'price_score': 1-bmw_price.blob_scores.mean(), 'quality_score': bmw_quality.blob_scores.mean()},\n",
    "{'brand':'Audi', 'price_score': 1-audi_price.blob_scores.mean(), 'quality_score': audi_quality.blob_scores.mean()},\n",
    "{'brand':'Volkswagen', 'price_score': 1-volkswagen_price.blob_scores.mean(), 'quality_score': volkswagen_quality.blob_scores.mean()},\n",
    "{'brand':'Renault', 'price_score': 1-renault_price.blob_scores.mean(), 'quality_score': renault_quality.blob_scores.mean()},\n",
    "{'brand':'Fiat', 'price_score': 1-fiat_price.blob_scores.mean(), 'quality_score': fiat_quality.blob_scores.mean()},\n",
    "{'brand':'Ferrari', 'price_score': 1-ferrari_price.blob_scores.mean(), 'quality_score': ferrari_quality.blob_scores.mean()},\n",
    "{'brand':'Lamborghini', 'price_score': 1-lamborghini_price.blob_scores.mean(), 'quality_score': lamborghini_quality.blob_scores.mean()},\n",
    "{'brand':'Hyundai', 'price_score': 1-hyundai_price.blob_scores.mean(), 'quality_score': hyundai_quality.blob_scores.mean()},\n",
    "{'brand':'Peugeot', 'price_score': 1-peugeot_price.blob_scores.mean(), 'quality_score': peugeot_quality.blob_scores.mean()},\n",
    "{'brand':'Ford', 'price_score': 1-ford_price.blob_scores.mean(), 'quality_score': ford_quality.blob_scores.mean()},\n",
    "]"
   ]
  },
  {
   "cell_type": "code",
   "execution_count": 79,
   "id": "9de5f223",
   "metadata": {},
   "outputs": [
    {
     "data": {
      "text/html": [
       "<div>\n",
       "<style scoped>\n",
       "    .dataframe tbody tr th:only-of-type {\n",
       "        vertical-align: middle;\n",
       "    }\n",
       "\n",
       "    .dataframe tbody tr th {\n",
       "        vertical-align: top;\n",
       "    }\n",
       "\n",
       "    .dataframe thead th {\n",
       "        text-align: right;\n",
       "    }\n",
       "</style>\n",
       "<table border=\"1\" class=\"dataframe\">\n",
       "  <thead>\n",
       "    <tr style=\"text-align: right;\">\n",
       "      <th></th>\n",
       "      <th>brand</th>\n",
       "      <th>price_score</th>\n",
       "      <th>quality_score</th>\n",
       "    </tr>\n",
       "  </thead>\n",
       "  <tbody>\n",
       "    <tr>\n",
       "      <th>0</th>\n",
       "      <td>BMW</td>\n",
       "      <td>0.868268</td>\n",
       "      <td>0.168297</td>\n",
       "    </tr>\n",
       "    <tr>\n",
       "      <th>1</th>\n",
       "      <td>Audi</td>\n",
       "      <td>0.868457</td>\n",
       "      <td>0.190352</td>\n",
       "    </tr>\n",
       "    <tr>\n",
       "      <th>2</th>\n",
       "      <td>Volkswagen</td>\n",
       "      <td>0.845797</td>\n",
       "      <td>0.172842</td>\n",
       "    </tr>\n",
       "    <tr>\n",
       "      <th>3</th>\n",
       "      <td>Renault</td>\n",
       "      <td>0.865180</td>\n",
       "      <td>0.148307</td>\n",
       "    </tr>\n",
       "    <tr>\n",
       "      <th>4</th>\n",
       "      <td>Fiat</td>\n",
       "      <td>0.928514</td>\n",
       "      <td>0.135728</td>\n",
       "    </tr>\n",
       "    <tr>\n",
       "      <th>5</th>\n",
       "      <td>Ferrari</td>\n",
       "      <td>0.879136</td>\n",
       "      <td>0.140714</td>\n",
       "    </tr>\n",
       "    <tr>\n",
       "      <th>6</th>\n",
       "      <td>Lamborghini</td>\n",
       "      <td>0.661364</td>\n",
       "      <td>0.170237</td>\n",
       "    </tr>\n",
       "    <tr>\n",
       "      <th>7</th>\n",
       "      <td>Hyundai</td>\n",
       "      <td>0.851854</td>\n",
       "      <td>0.209145</td>\n",
       "    </tr>\n",
       "    <tr>\n",
       "      <th>8</th>\n",
       "      <td>Peugeot</td>\n",
       "      <td>0.849452</td>\n",
       "      <td>0.176312</td>\n",
       "    </tr>\n",
       "    <tr>\n",
       "      <th>9</th>\n",
       "      <td>Ford</td>\n",
       "      <td>0.929622</td>\n",
       "      <td>0.114659</td>\n",
       "    </tr>\n",
       "  </tbody>\n",
       "</table>\n",
       "</div>"
      ],
      "text/plain": [
       "         brand  price_score  quality_score\n",
       "0          BMW     0.868268       0.168297\n",
       "1         Audi     0.868457       0.190352\n",
       "2   Volkswagen     0.845797       0.172842\n",
       "3      Renault     0.865180       0.148307\n",
       "4         Fiat     0.928514       0.135728\n",
       "5      Ferrari     0.879136       0.140714\n",
       "6  Lamborghini     0.661364       0.170237\n",
       "7      Hyundai     0.851854       0.209145\n",
       "8      Peugeot     0.849452       0.176312\n",
       "9         Ford     0.929622       0.114659"
      ]
     },
     "execution_count": 79,
     "metadata": {},
     "output_type": "execute_result"
    }
   ],
   "source": [
    "car_brands_df = pd.DataFrame(car_brands)\n",
    "\n",
    "car_brands_df"
   ]
  },
  {
   "cell_type": "code",
   "execution_count": 58,
   "id": "555c062e",
   "metadata": {},
   "outputs": [],
   "source": [
    "import seaborn as sns\n",
    "\n",
    "# Matplotlib inline para visualizar los gráficos de Matplotlib\n",
    "%matplotlib inline\n",
    "%config Inlinebackend.figure_format= 'retina'\n",
    "\n",
    "\n",
    "# Configuración para setear y que todas las fig de Seaborn salgan por defecto con este tamaño\n",
    "# Se puede especificar el tamaño de cada figura\n",
    "sns.set_context(\"poster\")\n",
    "sns.set(rc={\"figure.figsize\": (12.,6.)})\n",
    "sns.set_style(\"whitegrid\")"
   ]
  },
  {
   "cell_type": "code",
   "execution_count": 80,
   "id": "26e925bd",
   "metadata": {},
   "outputs": [
    {
     "data": {
      "image/png": "[encoded data removed]",
      "text/plain": [
       "<Figure size 864x432 with 1 Axes>"
      ]
     },
     "metadata": {},
     "output_type": "display_data"
    }
   ],
   "source": [
    "sns.scatterplot(x=\"price_score\", y=\"quality_score\", hue=\"brand\", data=car_brands_df);"
   ]
  },
  {
   "cell_type": "code",
   "execution_count": 83,
   "id": "2d3e89c9",
   "metadata": {
    "scrolled": false
   },
   "outputs": [
    {
     "data": {
      "application/vnd.plotly.v1+json": {
       "config": {
        "plotlyServerURL": "https://plot.ly"
       },
       "data": [
        {
         "hovertemplate": "color=BMW<br>x=%{x}<br>y=%{y}<extra></extra>",
         "legendgroup": "BMW",
         "marker": {
          "color": "#636efa",
          "symbol": "circle"
         },
         "mode": "markers",
         "name": "BMW",
         "orientation": "v",
         "showlegend": true,
         "type": "scatter",
         "x": [
          0.8682678841919856
         ],
         "xaxis": "x",
         "y": [
          0.16829674466801028
         ],
         "yaxis": "y"
        },
        {
         "hovertemplate": "color=Audi<br>x=%{x}<br>y=%{y}<extra></extra>",
         "legendgroup": "Audi",
         "marker": {
          "color": "#EF553B",
          "symbol": "circle"
         },
         "mode": "markers",
         "name": "Audi",
         "orientation": "v",
         "showlegend": true,
         "type": "scatter",
         "x": [
          0.8684566688925731
         ],
         "xaxis": "x",
         "y": [
          0.19035204350278392
         ],
         "yaxis": "y"
        },
        {
         "hovertemplate": "color=Volkswagen<br>x=%{x}<br>y=%{y}<extra></extra>",
         "legendgroup": "Volkswagen",
         "marker": {
          "color": "#00cc96",
          "symbol": "circle"
         },
         "mode": "markers",
         "name": "Volkswagen",
         "orientation": "v",
         "showlegend": true,
         "type": "scatter",
         "x": [
          0.8457971915178548
         ],
         "xaxis": "x",
         "y": [
          0.1728424276679489
         ],
         "yaxis": "y"
        },
        {
         "hovertemplate": "color=Renault<br>x=%{x}<br>y=%{y}<extra></extra>",
         "legendgroup": "Renault",
         "marker": {
          "color": "#ab63fa",
          "symbol": "circle"
         },
         "mode": "markers",
         "name": "Renault",
         "orientation": "v",
         "showlegend": true,
         "type": "scatter",
         "x": [
          0.8651796170260746
         ],
         "xaxis": "x",
         "y": [
          0.1483066381195432
         ],
         "yaxis": "y"
        },
        {
         "hovertemplate": "color=Fiat<br>x=%{x}<br>y=%{y}<extra></extra>",
         "legendgroup": "Fiat",
         "marker": {
          "color": "#FFA15A",
          "symbol": "circle"
         },
         "mode": "markers",
         "name": "Fiat",
         "orientation": "v",
         "showlegend": true,
         "type": "scatter",
         "x": [
          0.9285143777176469
         ],
         "xaxis": "x",
         "y": [
          0.13572824342499473
         ],
         "yaxis": "y"
        },
        {
         "hovertemplate": "color=Ferrari<br>x=%{x}<br>y=%{y}<extra></extra>",
         "legendgroup": "Ferrari",
         "marker": {
          "color": "#19d3f3",
          "symbol": "circle"
         },
         "mode": "markers",
         "name": "Ferrari",
         "orientation": "v",
         "showlegend": true,
         "type": "scatter",
         "x": [
          0.8791359768703518
         ],
         "xaxis": "x",
         "y": [
          0.14071384398605655
         ],
         "yaxis": "y"
        },
        {
         "hovertemplate": "color=Lamborghini<br>x=%{x}<br>y=%{y}<extra></extra>",
         "legendgroup": "Lamborghini",
         "marker": {
          "color": "#FF6692",
          "symbol": "circle"
         },
         "mode": "markers",
         "name": "Lamborghini",
         "orientation": "v",
         "showlegend": true,
         "type": "scatter",
         "x": [
          0.6613638365878771
         ],
         "xaxis": "x",
         "y": [
          0.17023723944063776
         ],
         "yaxis": "y"
        },
        {
         "hovertemplate": "color=Hyundai<br>x=%{x}<br>y=%{y}<extra></extra>",
         "legendgroup": "Hyundai",
         "marker": {
          "color": "#B6E880",
          "symbol": "circle"
         },
         "mode": "markers",
         "name": "Hyundai",
         "orientation": "v",
         "showlegend": true,
         "type": "scatter",
         "x": [
          0.8518535887864035
         ],
         "xaxis": "x",
         "y": [
          0.2091447548097172
         ],
         "yaxis": "y"
        },
        {
         "hovertemplate": "color=Peugeot<br>x=%{x}<br>y=%{y}<extra></extra>",
         "legendgroup": "Peugeot",
         "marker": {
          "color": "#FF97FF",
          "symbol": "circle"
         },
         "mode": "markers",
         "name": "Peugeot",
         "orientation": "v",
         "showlegend": true,
         "type": "scatter",
         "x": [
          0.8494517263280504
         ],
         "xaxis": "x",
         "y": [
          0.17631208395919654
         ],
         "yaxis": "y"
        },
        {
         "hovertemplate": "color=Ford<br>x=%{x}<br>y=%{y}<extra></extra>",
         "legendgroup": "Ford",
         "marker": {
          "color": "#FECB52",
          "symbol": "circle"
         },
         "mode": "markers",
         "name": "Ford",
         "orientation": "v",
         "showlegend": true,
         "type": "scatter",
         "x": [
          0.9296215040944171
         ],
         "xaxis": "x",
         "y": [
          0.11465949178911926
         ],
         "yaxis": "y"
        }
       ],
       "layout": {
        "legend": {
         "title": {
          "text": "color"
         },
         "tracegroupgap": 0
        },
        "margin": {
         "t": 60
        },
        "template": {
         "data": {
          "bar": [
           {
            "error_x": {
             "color": "#2a3f5f"
            },
            "error_y": {
             "color": "#2a3f5f"
            },
            "marker": {
             "line": {
              "color": "#E5ECF6",
              "width": 0.5
             },
             "pattern": {
              "fillmode": "overlay",
              "size": 10,
              "solidity": 0.2
             }
            },
            "type": "bar"
           }
          ],
          "barpolar": [
           {
            "marker": {
             "line": {
              "color": "#E5ECF6",
              "width": 0.5
             },
             "pattern": {
              "fillmode": "overlay",
              "size": 10,
              "solidity": 0.2
             }
            },
            "type": "barpolar"
           }
          ],
          "carpet": [
           {
            "aaxis": {
             "endlinecolor": "#2a3f5f",
             "gridcolor": "white",
             "linecolor": "white",
             "minorgridcolor": "white",
             "startlinecolor": "#2a3f5f"
            },
            "baxis": {
             "endlinecolor": "#2a3f5f",
             "gridcolor": "white",
             "linecolor": "white",
             "minorgridcolor": "white",
             "startlinecolor": "#2a3f5f"
            },
            "type": "carpet"
           }
          ],
          "choropleth": [
           {
            "colorbar": {
             "outlinewidth": 0,
             "ticks": ""
            },
            "type": "choropleth"
           }
          ],
          "contour": [
           {
            "colorbar": {
             "outlinewidth": 0,
             "ticks": ""
            },
            "colorscale": [
             [
              0,
              "#0d0887"
             ],
             [
              0.1111111111111111,
              "#46039f"
             ],
             [
              0.2222222222222222,
              "#7201a8"
             ],
             [
              0.3333333333333333,
              "#9c179e"
             ],
             [
              0.4444444444444444,
              "#bd3786"
             ],
             [
              0.5555555555555556,
              "#d8576b"
             ],
             [
              0.6666666666666666,
              "#ed7953"
             ],
             [
              0.7777777777777778,
              "#fb9f3a"
             ],
             [
              0.8888888888888888,
              "#fdca26"
             ],
             [
              1,
              "#f0f921"
             ]
            ],
            "type": "contour"
           }
          ],
          "contourcarpet": [
           {
            "colorbar": {
             "outlinewidth": 0,
             "ticks": ""
            },
            "type": "contourcarpet"
           }
          ],
          "heatmap": [
           {
            "colorbar": {
             "outlinewidth": 0,
             "ticks": ""
            },
            "colorscale": [
             [
              0,
              "#0d0887"
             ],
             [
              0.1111111111111111,
              "#46039f"
             ],
             [
              0.2222222222222222,
              "#7201a8"
             ],
             [
              0.3333333333333333,
              "#9c179e"
             ],
             [
              0.4444444444444444,
              "#bd3786"
             ],
             [
              0.5555555555555556,
              "#d8576b"
             ],
             [
              0.6666666666666666,
              "#ed7953"
             ],
             [
              0.7777777777777778,
              "#fb9f3a"
             ],
             [
              0.8888888888888888,
              "#fdca26"
             ],
             [
              1,
              "#f0f921"
             ]
            ],
            "type": "heatmap"
           }
          ],
          "heatmapgl": [
           {
            "colorbar": {
             "outlinewidth": 0,
             "ticks": ""
            },
            "colorscale": [
             [
              0,
              "#0d0887"
             ],
             [
              0.1111111111111111,
              "#46039f"
             ],
             [
              0.2222222222222222,
              "#7201a8"
             ],
             [
              0.3333333333333333,
              "#9c179e"
             ],
             [
              0.4444444444444444,
              "#bd3786"
             ],
             [
              0.5555555555555556,
              "#d8576b"
             ],
             [
              0.6666666666666666,
              "#ed7953"
             ],
             [
              0.7777777777777778,
              "#fb9f3a"
             ],
             [
              0.8888888888888888,
              "#fdca26"
             ],
             [
              1,
              "#f0f921"
             ]
            ],
            "type": "heatmapgl"
           }
          ],
          "histogram": [
           {
            "marker": {
             "pattern": {
              "fillmode": "overlay",
              "size": 10,
              "solidity": 0.2
             }
            },
            "type": "histogram"
           }
          ],
          "histogram2d": [
           {
            "colorbar": {
             "outlinewidth": 0,
             "ticks": ""
            },
            "colorscale": [
             [
              0,
              "#0d0887"
             ],
             [
              0.1111111111111111,
              "#46039f"
             ],
             [
              0.2222222222222222,
              "#7201a8"
             ],
             [
              0.3333333333333333,
              "#9c179e"
             ],
             [
              0.4444444444444444,
              "#bd3786"
             ],
             [
              0.5555555555555556,
              "#d8576b"
             ],
             [
              0.6666666666666666,
              "#ed7953"
             ],
             [
              0.7777777777777778,
              "#fb9f3a"
             ],
             [
              0.8888888888888888,
              "#fdca26"
             ],
             [
              1,
              "#f0f921"
             ]
            ],
            "type": "histogram2d"
           }
          ],
          "histogram2dcontour": [
           {
            "colorbar": {
             "outlinewidth": 0,
             "ticks": ""
            },
            "colorscale": [
             [
              0,
              "#0d0887"
             ],
             [
              0.1111111111111111,
              "#46039f"
             ],
             [
              0.2222222222222222,
              "#7201a8"
             ],
             [
              0.3333333333333333,
              "#9c179e"
             ],
             [
              0.4444444444444444,
              "#bd3786"
             ],
             [
              0.5555555555555556,
              "#d8576b"
             ],
             [
              0.6666666666666666,
              "#ed7953"
             ],
             [
              0.7777777777777778,
              "#fb9f3a"
             ],
             [
              0.8888888888888888,
              "#fdca26"
             ],
             [
              1,
              "#f0f921"
             ]
            ],
            "type": "histogram2dcontour"
           }
          ],
          "mesh3d": [
           {
            "colorbar": {
             "outlinewidth": 0,
             "ticks": ""
            },
            "type": "mesh3d"
           }
          ],
          "parcoords": [
           {
            "line": {
             "colorbar": {
              "outlinewidth": 0,
              "ticks": ""
             }
            },
            "type": "parcoords"
           }
          ],
          "pie": [
           {
            "automargin": true,
            "type": "pie"
           }
          ],
          "scatter": [
           {
            "marker": {
             "colorbar": {
              "outlinewidth": 0,
              "ticks": ""
             }
            },
            "type": "scatter"
           }
          ],
          "scatter3d": [
           {
            "line": {
             "colorbar": {
              "outlinewidth": 0,
              "ticks": ""
             }
            },
            "marker": {
             "colorbar": {
              "outlinewidth": 0,
              "ticks": ""
             }
            },
            "type": "scatter3d"
           }
          ],
          "scattercarpet": [
           {
            "marker": {
             "colorbar": {
              "outlinewidth": 0,
              "ticks": ""
             }
            },
            "type": "scattercarpet"
           }
          ],
          "scattergeo": [
           {
            "marker": {
             "colorbar": {
              "outlinewidth": 0,
              "ticks": ""
             }
            },
            "type": "scattergeo"
           }
          ],
          "scattergl": [
           {
            "marker": {
             "colorbar": {
              "outlinewidth": 0,
              "ticks": ""
             }
            },
            "type": "scattergl"
           }
          ],
          "scattermapbox": [
           {
            "marker": {
             "colorbar": {
              "outlinewidth": 0,
              "ticks": ""
             }
            },
            "type": "scattermapbox"
           }
          ],
          "scatterpolar": [
           {
            "marker": {
             "colorbar": {
              "outlinewidth": 0,
              "ticks": ""
             }
            },
            "type": "scatterpolar"
           }
          ],
          "scatterpolargl": [
           {
            "marker": {
             "colorbar": {
              "outlinewidth": 0,
              "ticks": ""
             }
            },
            "type": "scatterpolargl"
           }
          ],
          "scatterternary": [
           {
            "marker": {
             "colorbar": {
              "outlinewidth": 0,
              "ticks": ""
             }
            },
            "type": "scatterternary"
           }
          ],
          "surface": [
           {
            "colorbar": {
             "outlinewidth": 0,
             "ticks": ""
            },
            "colorscale": [
             [
              0,
              "#0d0887"
             ],
             [
              0.1111111111111111,
              "#46039f"
             ],
             [
              0.2222222222222222,
              "#7201a8"
             ],
             [
              0.3333333333333333,
              "#9c179e"
             ],
             [
              0.4444444444444444,
              "#bd3786"
             ],
             [
              0.5555555555555556,
              "#d8576b"
             ],
             [
              0.6666666666666666,
              "#ed7953"
             ],
             [
              0.7777777777777778,
              "#fb9f3a"
             ],
             [
              0.8888888888888888,
              "#fdca26"
             ],
             [
              1,
              "#f0f921"
             ]
            ],
            "type": "surface"
           }
          ],
          "table": [
           {
            "cells": {
             "fill": {
              "color": "#EBF0F8"
             },
             "line": {
              "color": "white"
             }
            },
            "header": {
             "fill": {
              "color": "#C8D4E3"
             },
             "line": {
              "color": "white"
             }
            },
            "type": "table"
           }
          ]
         },
         "layout": {
          "annotationdefaults": {
           "arrowcolor": "#2a3f5f",
           "arrowhead": 0,
           "arrowwidth": 1
          },
          "autotypenumbers": "strict",
          "coloraxis": {
           "colorbar": {
            "outlinewidth": 0,
            "ticks": ""
           }
          },
          "colorscale": {
           "diverging": [
            [
             0,
             "#8e0152"
            ],
            [
             0.1,
             "#c51b7d"
            ],
            [
             0.2,
             "#de77ae"
            ],
            [
             0.3,
             "#f1b6da"
            ],
            [
             0.4,
             "#fde0ef"
            ],
            [
             0.5,
             "#f7f7f7"
            ],
            [
             0.6,
             "#e6f5d0"
            ],
            [
             0.7,
             "#b8e186"
            ],
            [
             0.8,
             "#7fbc41"
            ],
            [
             0.9,
             "#4d9221"
            ],
            [
             1,
             "#276419"
            ]
           ],
           "sequential": [
            [
             0,
             "#0d0887"
            ],
            [
             0.1111111111111111,
             "#46039f"
            ],
            [
             0.2222222222222222,
             "#7201a8"
            ],
            [
             0.3333333333333333,
             "#9c179e"
            ],
            [
             0.4444444444444444,
             "#bd3786"
            ],
            [
             0.5555555555555556,
             "#d8576b"
            ],
            [
             0.6666666666666666,
             "#ed7953"
            ],
            [
             0.7777777777777778,
             "#fb9f3a"
            ],
            [
             0.8888888888888888,
             "#fdca26"
            ],
            [
             1,
             "#f0f921"
            ]
           ],
           "sequentialminus": [
            [
             0,
             "#0d0887"
            ],
            [
             0.1111111111111111,
             "#46039f"
            ],
            [
             0.2222222222222222,
             "#7201a8"
            ],
            [
             0.3333333333333333,
             "#9c179e"
            ],
            [
             0.4444444444444444,
             "#bd3786"
            ],
            [
             0.5555555555555556,
             "#d8576b"
            ],
            [
             0.6666666666666666,
             "#ed7953"
            ],
            [
             0.7777777777777778,
             "#fb9f3a"
            ],
            [
             0.8888888888888888,
             "#fdca26"
            ],
            [
             1,
             "#f0f921"
            ]
           ]
          },
          "colorway": [
           "#636efa",
           "#EF553B",
           "#00cc96",
           "#ab63fa",
           "#FFA15A",
           "#19d3f3",
           "#FF6692",
           "#B6E880",
           "#FF97FF",
           "#FECB52"
          ],
          "font": {
           "color": "#2a3f5f"
          },
          "geo": {
           "bgcolor": "white",
           "lakecolor": "white",
           "landcolor": "#E5ECF6",
           "showlakes": true,
           "showland": true,
           "subunitcolor": "white"
          },
          "hoverlabel": {
           "align": "left"
          },
          "hovermode": "closest",
          "mapbox": {
           "style": "light"
          },
          "paper_bgcolor": "white",
          "plot_bgcolor": "#E5ECF6",
          "polar": {
           "angularaxis": {
            "gridcolor": "white",
            "linecolor": "white",
            "ticks": ""
           },
           "bgcolor": "#E5ECF6",
           "radialaxis": {
            "gridcolor": "white",
            "linecolor": "white",
            "ticks": ""
           }
          },
          "scene": {
           "xaxis": {
            "backgroundcolor": "#E5ECF6",
            "gridcolor": "white",
            "gridwidth": 2,
            "linecolor": "white",
            "showbackground": true,
            "ticks": "",
            "zerolinecolor": "white"
           },
           "yaxis": {
            "backgroundcolor": "#E5ECF6",
            "gridcolor": "white",
            "gridwidth": 2,
            "linecolor": "white",
            "showbackground": true,
            "ticks": "",
            "zerolinecolor": "white"
           },
           "zaxis": {
            "backgroundcolor": "#E5ECF6",
            "gridcolor": "white",
            "gridwidth": 2,
            "linecolor": "white",
            "showbackground": true,
            "ticks": "",
            "zerolinecolor": "white"
           }
          },
          "shapedefaults": {
           "line": {
            "color": "#2a3f5f"
           }
          },
          "ternary": {
           "aaxis": {
            "gridcolor": "white",
            "linecolor": "white",
            "ticks": ""
           },
           "baxis": {
            "gridcolor": "white",
            "linecolor": "white",
            "ticks": ""
           },
           "bgcolor": "#E5ECF6",
           "caxis": {
            "gridcolor": "white",
            "linecolor": "white",
            "ticks": ""
           }
          },
          "title": {
           "x": 0.05
          },
          "xaxis": {
           "automargin": true,
           "gridcolor": "white",
           "linecolor": "white",
           "ticks": "",
           "title": {
            "standoff": 15
           },
           "zerolinecolor": "white",
           "zerolinewidth": 2
          },
          "yaxis": {
           "automargin": true,
           "gridcolor": "white",
           "linecolor": "white",
           "ticks": "",
           "title": {
            "standoff": 15
           },
           "zerolinecolor": "white",
           "zerolinewidth": 2
          }
         }
        },
        "xaxis": {
         "anchor": "y",
         "domain": [
          0,
          1
         ],
         "title": {
          "text": "x"
         }
        },
        "yaxis": {
         "anchor": "x",
         "domain": [
          0,
          1
         ],
         "title": {
          "text": "y"
         }
        }
       }
      },
      "text/html": [
       "<div>                            <div id=\"c7ff35a1-7e55-42d4-80a0-4f226580ad80\" class=\"plotly-graph-div\" style=\"height:525px; width:100%;\"></div>            <script type=\"text/javascript\">                require([\"plotly\"], function(Plotly) {                    window.PLOTLYENV=window.PLOTLYENV || {};                                    if (document.getElementById(\"c7ff35a1-7e55-42d4-80a0-4f226580ad80\")) {                    Plotly.newPlot(                        \"c7ff35a1-7e55-42d4-80a0-4f226580ad80\",                        [{\"hovertemplate\":\"color=BMW<br>x=%{x}<br>y=%{y}<extra></extra>\",\"legendgroup\":\"BMW\",\"marker\":{\"color\":\"#636efa\",\"symbol\":\"circle\"},\"mode\":\"markers\",\"name\":\"BMW\",\"orientation\":\"v\",\"showlegend\":true,\"x\":[0.8682678841919856],\"xaxis\":\"x\",\"y\":[0.16829674466801028],\"yaxis\":\"y\",\"type\":\"scatter\"},{\"hovertemplate\":\"color=Audi<br>x=%{x}<br>y=%{y}<extra></extra>\",\"legendgroup\":\"Audi\",\"marker\":{\"color\":\"#EF553B\",\"symbol\":\"circle\"},\"mode\":\"markers\",\"name\":\"Audi\",\"orientation\":\"v\",\"showlegend\":true,\"x\":[0.8684566688925731],\"xaxis\":\"x\",\"y\":[0.19035204350278392],\"yaxis\":\"y\",\"type\":\"scatter\"},{\"hovertemplate\":\"color=Volkswagen<br>x=%{x}<br>y=%{y}<extra></extra>\",\"legendgroup\":\"Volkswagen\",\"marker\":{\"color\":\"#00cc96\",\"symbol\":\"circle\"},\"mode\":\"markers\",\"name\":\"Volkswagen\",\"orientation\":\"v\",\"showlegend\":true,\"x\":[0.8457971915178548],\"xaxis\":\"x\",\"y\":[0.1728424276679489],\"yaxis\":\"y\",\"type\":\"scatter\"},{\"hovertemplate\":\"color=Renault<br>x=%{x}<br>y=%{y}<extra></extra>\",\"legendgroup\":\"Renault\",\"marker\":{\"color\":\"#ab63fa\",\"symbol\":\"circle\"},\"mode\":\"markers\",\"name\":\"Renault\",\"orientation\":\"v\",\"showlegend\":true,\"x\":[0.8651796170260746],\"xaxis\":\"x\",\"y\":[0.1483066381195432],\"yaxis\":\"y\",\"type\":\"scatter\"},{\"hovertemplate\":\"color=Fiat<br>x=%{x}<br>y=%{y}<extra></extra>\",\"legendgroup\":\"Fiat\",\"marker\":{\"color\":\"#FFA15A\",\"symbol\":\"circle\"},\"mode\":\"markers\",\"name\":\"Fiat\",\"orientation\":\"v\",\"showlegend\":true,\"x\":[0.9285143777176469],\"xaxis\":\"x\",\"y\":[0.13572824342499473],\"yaxis\":\"y\",\"type\":\"scatter\"},{\"hovertemplate\":\"color=Ferrari<br>x=%{x}<br>y=%{y}<extra></extra>\",\"legendgroup\":\"Ferrari\",\"marker\":{\"color\":\"#19d3f3\",\"symbol\":\"circle\"},\"mode\":\"markers\",\"name\":\"Ferrari\",\"orientation\":\"v\",\"showlegend\":true,\"x\":[0.8791359768703518],\"xaxis\":\"x\",\"y\":[0.14071384398605655],\"yaxis\":\"y\",\"type\":\"scatter\"},{\"hovertemplate\":\"color=Lamborghini<br>x=%{x}<br>y=%{y}<extra></extra>\",\"legendgroup\":\"Lamborghini\",\"marker\":{\"color\":\"#FF6692\",\"symbol\":\"circle\"},\"mode\":\"markers\",\"name\":\"Lamborghini\",\"orientation\":\"v\",\"showlegend\":true,\"x\":[0.6613638365878771],\"xaxis\":\"x\",\"y\":[0.17023723944063776],\"yaxis\":\"y\",\"type\":\"scatter\"},{\"hovertemplate\":\"color=Hyundai<br>x=%{x}<br>y=%{y}<extra></extra>\",\"legendgroup\":\"Hyundai\",\"marker\":{\"color\":\"#B6E880\",\"symbol\":\"circle\"},\"mode\":\"markers\",\"name\":\"Hyundai\",\"orientation\":\"v\",\"showlegend\":true,\"x\":[0.8518535887864035],\"xaxis\":\"x\",\"y\":[0.2091447548097172],\"yaxis\":\"y\",\"type\":\"scatter\"},{\"hovertemplate\":\"color=Peugeot<br>x=%{x}<br>y=%{y}<extra></extra>\",\"legendgroup\":\"Peugeot\",\"marker\":{\"color\":\"#FF97FF\",\"symbol\":\"circle\"},\"mode\":\"markers\",\"name\":\"Peugeot\",\"orientation\":\"v\",\"showlegend\":true,\"x\":[0.8494517263280504],\"xaxis\":\"x\",\"y\":[0.17631208395919654],\"yaxis\":\"y\",\"type\":\"scatter\"},{\"hovertemplate\":\"color=Ford<br>x=%{x}<br>y=%{y}<extra></extra>\",\"legendgroup\":\"Ford\",\"marker\":{\"color\":\"#FECB52\",\"symbol\":\"circle\"},\"mode\":\"markers\",\"name\":\"Ford\",\"orientation\":\"v\",\"showlegend\":true,\"x\":[0.9296215040944171],\"xaxis\":\"x\",\"y\":[0.11465949178911926],\"yaxis\":\"y\",\"type\":\"scatter\"}],                        {\"template\":{\"data\":{\"bar\":[{\"error_x\":{\"color\":\"#2a3f5f\"},\"error_y\":{\"color\":\"#2a3f5f\"},\"marker\":{\"line\":{\"color\":\"#E5ECF6\",\"width\":0.5},\"pattern\":{\"fillmode\":\"overlay\",\"size\":10,\"solidity\":0.2}},\"type\":\"bar\"}],\"barpolar\":[{\"marker\":{\"line\":{\"color\":\"#E5ECF6\",\"width\":0.5},\"pattern\":{\"fillmode\":\"overlay\",\"size\":10,\"solidity\":0.2}},\"type\":\"barpolar\"}],\"carpet\":[{\"aaxis\":{\"endlinecolor\":\"#2a3f5f\",\"gridcolor\":\"white\",\"linecolor\":\"white\",\"minorgridcolor\":\"white\",\"startlinecolor\":\"#2a3f5f\"},\"baxis\":{\"endlinecolor\":\"#2a3f5f\",\"gridcolor\":\"white\",\"linecolor\":\"white\",\"minorgridcolor\":\"white\",\"startlinecolor\":\"#2a3f5f\"},\"type\":\"carpet\"}],\"choropleth\":[{\"colorbar\":{\"outlinewidth\":0,\"ticks\":\"\"},\"type\":\"choropleth\"}],\"contour\":[{\"colorbar\":{\"outlinewidth\":0,\"ticks\":\"\"},\"colorscale\":[[0.0,\"#0d0887\"],[0.1111111111111111,\"#46039f\"],[0.2222222222222222,\"#7201a8\"],[0.3333333333333333,\"#9c179e\"],[0.4444444444444444,\"#bd3786\"],[0.5555555555555556,\"#d8576b\"],[0.6666666666666666,\"#ed7953\"],[0.7777777777777778,\"#fb9f3a\"],[0.8888888888888888,\"#fdca26\"],[1.0,\"#f0f921\"]],\"type\":\"contour\"}],\"contourcarpet\":[{\"colorbar\":{\"outlinewidth\":0,\"ticks\":\"\"},\"type\":\"contourcarpet\"}],\"heatmap\":[{\"colorbar\":{\"outlinewidth\":0,\"ticks\":\"\"},\"colorscale\":[[0.0,\"#0d0887\"],[0.1111111111111111,\"#46039f\"],[0.2222222222222222,\"#7201a8\"],[0.3333333333333333,\"#9c179e\"],[0.4444444444444444,\"#bd3786\"],[0.5555555555555556,\"#d8576b\"],[0.6666666666666666,\"#ed7953\"],[0.7777777777777778,\"#fb9f3a\"],[0.8888888888888888,\"#fdca26\"],[1.0,\"#f0f921\"]],\"type\":\"heatmap\"}],\"heatmapgl\":[{\"colorbar\":{\"outlinewidth\":0,\"ticks\":\"\"},\"colorscale\":[[0.0,\"#0d0887\"],[0.1111111111111111,\"#46039f\"],[0.2222222222222222,\"#7201a8\"],[0.3333333333333333,\"#9c179e\"],[0.4444444444444444,\"#bd3786\"],[0.5555555555555556,\"#d8576b\"],[0.6666666666666666,\"#ed7953\"],[0.7777777777777778,\"#fb9f3a\"],[0.8888888888888888,\"#fdca26\"],[1.0,\"#f0f921\"]],\"type\":\"heatmapgl\"}],\"histogram\":[{\"marker\":{\"pattern\":{\"fillmode\":\"overlay\",\"size\":10,\"solidity\":0.2}},\"type\":\"histogram\"}],\"histogram2d\":[{\"colorbar\":{\"outlinewidth\":0,\"ticks\":\"\"},\"colorscale\":[[0.0,\"#0d0887\"],[0.1111111111111111,\"#46039f\"],[0.2222222222222222,\"#7201a8\"],[0.3333333333333333,\"#9c179e\"],[0.4444444444444444,\"#bd3786\"],[0.5555555555555556,\"#d8576b\"],[0.6666666666666666,\"#ed7953\"],[0.7777777777777778,\"#fb9f3a\"],[0.8888888888888888,\"#fdca26\"],[1.0,\"#f0f921\"]],\"type\":\"histogram2d\"}],\"histogram2dcontour\":[{\"colorbar\":{\"outlinewidth\":0,\"ticks\":\"\"},\"colorscale\":[[0.0,\"#0d0887\"],[0.1111111111111111,\"#46039f\"],[0.2222222222222222,\"#7201a8\"],[0.3333333333333333,\"#9c179e\"],[0.4444444444444444,\"#bd3786\"],[0.5555555555555556,\"#d8576b\"],[0.6666666666666666,\"#ed7953\"],[0.7777777777777778,\"#fb9f3a\"],[0.8888888888888888,\"#fdca26\"],[1.0,\"#f0f921\"]],\"type\":\"histogram2dcontour\"}],\"mesh3d\":[{\"colorbar\":{\"outlinewidth\":0,\"ticks\":\"\"},\"type\":\"mesh3d\"}],\"parcoords\":[{\"line\":{\"colorbar\":{\"outlinewidth\":0,\"ticks\":\"\"}},\"type\":\"parcoords\"}],\"pie\":[{\"automargin\":true,\"type\":\"pie\"}],\"scatter\":[{\"marker\":{\"colorbar\":{\"outlinewidth\":0,\"ticks\":\"\"}},\"type\":\"scatter\"}],\"scatter3d\":[{\"line\":{\"colorbar\":{\"outlinewidth\":0,\"ticks\":\"\"}},\"marker\":{\"colorbar\":{\"outlinewidth\":0,\"ticks\":\"\"}},\"type\":\"scatter3d\"}],\"scattercarpet\":[{\"marker\":{\"colorbar\":{\"outlinewidth\":0,\"ticks\":\"\"}},\"type\":\"scattercarpet\"}],\"scattergeo\":[{\"marker\":{\"colorbar\":{\"outlinewidth\":0,\"ticks\":\"\"}},\"type\":\"scattergeo\"}],\"scattergl\":[{\"marker\":{\"colorbar\":{\"outlinewidth\":0,\"ticks\":\"\"}},\"type\":\"scattergl\"}],\"scattermapbox\":[{\"marker\":{\"colorbar\":{\"outlinewidth\":0,\"ticks\":\"\"}},\"type\":\"scattermapbox\"}],\"scatterpolar\":[{\"marker\":{\"colorbar\":{\"outlinewidth\":0,\"ticks\":\"\"}},\"type\":\"scatterpolar\"}],\"scatterpolargl\":[{\"marker\":{\"colorbar\":{\"outlinewidth\":0,\"ticks\":\"\"}},\"type\":\"scatterpolargl\"}],\"scatterternary\":[{\"marker\":{\"colorbar\":{\"outlinewidth\":0,\"ticks\":\"\"}},\"type\":\"scatterternary\"}],\"surface\":[{\"colorbar\":{\"outlinewidth\":0,\"ticks\":\"\"},\"colorscale\":[[0.0,\"#0d0887\"],[0.1111111111111111,\"#46039f\"],[0.2222222222222222,\"#7201a8\"],[0.3333333333333333,\"#9c179e\"],[0.4444444444444444,\"#bd3786\"],[0.5555555555555556,\"#d8576b\"],[0.6666666666666666,\"#ed7953\"],[0.7777777777777778,\"#fb9f3a\"],[0.8888888888888888,\"#fdca26\"],[1.0,\"#f0f921\"]],\"type\":\"surface\"}],\"table\":[{\"cells\":{\"fill\":{\"color\":\"#EBF0F8\"},\"line\":{\"color\":\"white\"}},\"header\":{\"fill\":{\"color\":\"#C8D4E3\"},\"line\":{\"color\":\"white\"}},\"type\":\"table\"}]},\"layout\":{\"annotationdefaults\":{\"arrowcolor\":\"#2a3f5f\",\"arrowhead\":0,\"arrowwidth\":1},\"autotypenumbers\":\"strict\",\"coloraxis\":{\"colorbar\":{\"outlinewidth\":0,\"ticks\":\"\"}},\"colorscale\":{\"diverging\":[[0,\"#8e0152\"],[0.1,\"#c51b7d\"],[0.2,\"#de77ae\"],[0.3,\"#f1b6da\"],[0.4,\"#fde0ef\"],[0.5,\"#f7f7f7\"],[0.6,\"#e6f5d0\"],[0.7,\"#b8e186\"],[0.8,\"#7fbc41\"],[0.9,\"#4d9221\"],[1,\"#276419\"]],\"sequential\":[[0.0,\"#0d0887\"],[0.1111111111111111,\"#46039f\"],[0.2222222222222222,\"#7201a8\"],[0.3333333333333333,\"#9c179e\"],[0.4444444444444444,\"#bd3786\"],[0.5555555555555556,\"#d8576b\"],[0.6666666666666666,\"#ed7953\"],[0.7777777777777778,\"#fb9f3a\"],[0.8888888888888888,\"#fdca26\"],[1.0,\"#f0f921\"]],\"sequentialminus\":[[0.0,\"#0d0887\"],[0.1111111111111111,\"#46039f\"],[0.2222222222222222,\"#7201a8\"],[0.3333333333333333,\"#9c179e\"],[0.4444444444444444,\"#bd3786\"],[0.5555555555555556,\"#d8576b\"],[0.6666666666666666,\"#ed7953\"],[0.7777777777777778,\"#fb9f3a\"],[0.8888888888888888,\"#fdca26\"],[1.0,\"#f0f921\"]]},\"colorway\":[\"#636efa\",\"#EF553B\",\"#00cc96\",\"#ab63fa\",\"#FFA15A\",\"#19d3f3\",\"#FF6692\",\"#B6E880\",\"#FF97FF\",\"#FECB52\"],\"font\":{\"color\":\"#2a3f5f\"},\"geo\":{\"bgcolor\":\"white\",\"lakecolor\":\"white\",\"landcolor\":\"#E5ECF6\",\"showlakes\":true,\"showland\":true,\"subunitcolor\":\"white\"},\"hoverlabel\":{\"align\":\"left\"},\"hovermode\":\"closest\",\"mapbox\":{\"style\":\"light\"},\"paper_bgcolor\":\"white\",\"plot_bgcolor\":\"#E5ECF6\",\"polar\":{\"angularaxis\":{\"gridcolor\":\"white\",\"linecolor\":\"white\",\"ticks\":\"\"},\"bgcolor\":\"#E5ECF6\",\"radialaxis\":{\"gridcolor\":\"white\",\"linecolor\":\"white\",\"ticks\":\"\"}},\"scene\":{\"xaxis\":{\"backgroundcolor\":\"#E5ECF6\",\"gridcolor\":\"white\",\"gridwidth\":2,\"linecolor\":\"white\",\"showbackground\":true,\"ticks\":\"\",\"zerolinecolor\":\"white\"},\"yaxis\":{\"backgroundcolor\":\"#E5ECF6\",\"gridcolor\":\"white\",\"gridwidth\":2,\"linecolor\":\"white\",\"showbackground\":true,\"ticks\":\"\",\"zerolinecolor\":\"white\"},\"zaxis\":{\"backgroundcolor\":\"#E5ECF6\",\"gridcolor\":\"white\",\"gridwidth\":2,\"linecolor\":\"white\",\"showbackground\":true,\"ticks\":\"\",\"zerolinecolor\":\"white\"}},\"shapedefaults\":{\"line\":{\"color\":\"#2a3f5f\"}},\"ternary\":{\"aaxis\":{\"gridcolor\":\"white\",\"linecolor\":\"white\",\"ticks\":\"\"},\"baxis\":{\"gridcolor\":\"white\",\"linecolor\":\"white\",\"ticks\":\"\"},\"bgcolor\":\"#E5ECF6\",\"caxis\":{\"gridcolor\":\"white\",\"linecolor\":\"white\",\"ticks\":\"\"}},\"title\":{\"x\":0.05},\"xaxis\":{\"automargin\":true,\"gridcolor\":\"white\",\"linecolor\":\"white\",\"ticks\":\"\",\"title\":{\"standoff\":15},\"zerolinecolor\":\"white\",\"zerolinewidth\":2},\"yaxis\":{\"automargin\":true,\"gridcolor\":\"white\",\"linecolor\":\"white\",\"ticks\":\"\",\"title\":{\"standoff\":15},\"zerolinecolor\":\"white\",\"zerolinewidth\":2}}},\"xaxis\":{\"anchor\":\"y\",\"domain\":[0.0,1.0],\"title\":{\"text\":\"x\"}},\"yaxis\":{\"anchor\":\"x\",\"domain\":[0.0,1.0],\"title\":{\"text\":\"y\"}},\"legend\":{\"title\":{\"text\":\"color\"},\"tracegroupgap\":0},\"margin\":{\"t\":60}},                        {\"responsive\": true}                    ).then(function(){\n",
       "                            \n",
       "var gd = document.getElementById('c7ff35a1-7e55-42d4-80a0-4f226580ad80');\n",
       "var x = new MutationObserver(function (mutations, observer) {{\n",
       "        var display = window.getComputedStyle(gd).display;\n",
       "        if (!display || display === 'none') {{\n",
       "            console.log([gd, 'removed!']);\n",
       "            Plotly.purge(gd);\n",
       "            observer.disconnect();\n",
       "        }}\n",
       "}});\n",
       "\n",
       "// Listen for the removal of the full notebook cells\n",
       "var notebookContainer = gd.closest('#notebook-container');\n",
       "if (notebookContainer) {{\n",
       "    x.observe(notebookContainer, {childList: true});\n",
       "}}\n",
       "\n",
       "// Listen for the clearing of the current output cell\n",
       "var outputEl = gd.closest('.output');\n",
       "if (outputEl) {{\n",
       "    x.observe(outputEl, {childList: true});\n",
       "}}\n",
       "\n",
       "                        })                };                });            </script>        </div>"
      ]
     },
     "metadata": {},
     "output_type": "display_data"
    }
   ],
   "source": [
    "import plotly.express as px\n",
    "fig = px.scatter(x=car_brands_df['price_score'], y=car_brands_df[\"quality_score\"], color=car_brands_df.brand)\n",
    "fig.show()"
   ]
  },
  {
   "cell_type": "markdown",
   "id": "9f690a52",
   "metadata": {},
   "source": [
    "## VADER Scores"
   ]
  },
  {
   "cell_type": "markdown",
   "id": "75ee97b1",
   "metadata": {},
   "source": [
    "Nos centraremos en el 'compound score' ya que es el que nos aporta una visión global del análisis del sentimiento de cada tweet.\n",
    "\n",
    "Para simplificar el proceso, generamos una nueva columna del DataFrame que recoja este score para cada tweet."
   ]
  },
  {
   "cell_type": "code",
   "execution_count": 84,
   "id": "8674eaa0",
   "metadata": {},
   "outputs": [
    {
     "data": {
      "text/html": [
       "<div>\n",
       "<style scoped>\n",
       "    .dataframe tbody tr th:only-of-type {\n",
       "        vertical-align: middle;\n",
       "    }\n",
       "\n",
       "    .dataframe tbody tr th {\n",
       "        vertical-align: top;\n",
       "    }\n",
       "\n",
       "    .dataframe thead th {\n",
       "        text-align: right;\n",
       "    }\n",
       "</style>\n",
       "<table border=\"1\" class=\"dataframe\">\n",
       "  <thead>\n",
       "    <tr style=\"text-align: right;\">\n",
       "      <th></th>\n",
       "      <th>index</th>\n",
       "      <th>text</th>\n",
       "      <th>hashtags</th>\n",
       "      <th>brand_attribute</th>\n",
       "      <th>brand</th>\n",
       "      <th>token</th>\n",
       "      <th>blob_scores</th>\n",
       "      <th>vader_scores</th>\n",
       "    </tr>\n",
       "  </thead>\n",
       "  <tbody>\n",
       "    <tr>\n",
       "      <th>0</th>\n",
       "      <td>0</td>\n",
       "      <td>i was told by bmw you need to replace the batt...</td>\n",
       "      <td>[]</td>\n",
       "      <td>quality</td>\n",
       "      <td>bmw</td>\n",
       "      <td>[told, bmw, need, replace, battery, approx, yr...</td>\n",
       "      <td>0.000000</td>\n",
       "      <td>{'neg': 0.0, 'neu': 1.0, 'pos': 0.0, 'compound...</td>\n",
       "    </tr>\n",
       "    <tr>\n",
       "      <th>1</th>\n",
       "      <td>1</td>\n",
       "      <td>a new listing for bmw e two eight m five engin...</td>\n",
       "      <td>[]</td>\n",
       "      <td>quality</td>\n",
       "      <td>bmw</td>\n",
       "      <td>[new, listing, bmw, e, engine, posted, race, p...</td>\n",
       "      <td>0.136364</td>\n",
       "      <td>{'neg': 0.0, 'neu': 1.0, 'pos': 0.0, 'compound...</td>\n",
       "    </tr>\n",
       "    <tr>\n",
       "      <th>2</th>\n",
       "      <td>2</td>\n",
       "      <td>he only led a few hundert meters at the austri...</td>\n",
       "      <td>[]</td>\n",
       "      <td>quality</td>\n",
       "      <td>bmw</td>\n",
       "      <td>[led, hundert, meter, austrian, gp, blew, migh...</td>\n",
       "      <td>0.400000</td>\n",
       "      <td>{'neg': 0.0, 'neu': 1.0, 'pos': 0.0, 'compound...</td>\n",
       "    </tr>\n",
       "    <tr>\n",
       "      <th>3</th>\n",
       "      <td>3</td>\n",
       "      <td>russians making bmw seeking missiles it s over...</td>\n",
       "      <td>[]</td>\n",
       "      <td>quality</td>\n",
       "      <td>bmw</td>\n",
       "      <td>[russian, making, bmw, seeking, missile, baltic]</td>\n",
       "      <td>0.000000</td>\n",
       "      <td>{'neg': 0.0, 'neu': 1.0, 'pos': 0.0, 'compound...</td>\n",
       "    </tr>\n",
       "    <tr>\n",
       "      <th>4</th>\n",
       "      <td>4</td>\n",
       "      <td>does anyone want to hati will just get doyoung...</td>\n",
       "      <td>[]</td>\n",
       "      <td>quality</td>\n",
       "      <td>bmw</td>\n",
       "      <td>[want, hati, doyoung, fortune, selca, gt, lt, ...</td>\n",
       "      <td>0.055556</td>\n",
       "      <td>{'neg': 0.0, 'neu': 0.866, 'pos': 0.134, 'comp...</td>\n",
       "    </tr>\n",
       "  </tbody>\n",
       "</table>\n",
       "</div>"
      ],
      "text/plain": [
       "   index                                               text hashtags  \\\n",
       "0      0  i was told by bmw you need to replace the batt...       []   \n",
       "1      1  a new listing for bmw e two eight m five engin...       []   \n",
       "2      2  he only led a few hundert meters at the austri...       []   \n",
       "3      3  russians making bmw seeking missiles it s over...       []   \n",
       "4      4  does anyone want to hati will just get doyoung...       []   \n",
       "\n",
       "  brand_attribute brand                                              token  \\\n",
       "0         quality   bmw  [told, bmw, need, replace, battery, approx, yr...   \n",
       "1         quality   bmw  [new, listing, bmw, e, engine, posted, race, p...   \n",
       "2         quality   bmw  [led, hundert, meter, austrian, gp, blew, migh...   \n",
       "3         quality   bmw   [russian, making, bmw, seeking, missile, baltic]   \n",
       "4         quality   bmw  [want, hati, doyoung, fortune, selca, gt, lt, ...   \n",
       "\n",
       "   blob_scores                                       vader_scores  \n",
       "0     0.000000  {'neg': 0.0, 'neu': 1.0, 'pos': 0.0, 'compound...  \n",
       "1     0.136364  {'neg': 0.0, 'neu': 1.0, 'pos': 0.0, 'compound...  \n",
       "2     0.400000  {'neg': 0.0, 'neu': 1.0, 'pos': 0.0, 'compound...  \n",
       "3     0.000000  {'neg': 0.0, 'neu': 1.0, 'pos': 0.0, 'compound...  \n",
       "4     0.055556  {'neg': 0.0, 'neu': 0.866, 'pos': 0.134, 'comp...  "
      ]
     },
     "execution_count": 84,
     "metadata": {},
     "output_type": "execute_result"
    }
   ],
   "source": [
    "brands_tweets.head()"
   ]
  },
  {
   "cell_type": "code",
   "execution_count": 86,
   "id": "c478abca",
   "metadata": {},
   "outputs": [],
   "source": [
    "brands_tweets['compound_vader_score']  = brands_tweets['vader_scores'].apply(lambda score_dict: score_dict['compound'])"
   ]
  },
  {
   "cell_type": "code",
   "execution_count": 87,
   "id": "9a1a1d53",
   "metadata": {},
   "outputs": [
    {
     "data": {
      "text/html": [
       "<div>\n",
       "<style scoped>\n",
       "    .dataframe tbody tr th:only-of-type {\n",
       "        vertical-align: middle;\n",
       "    }\n",
       "\n",
       "    .dataframe tbody tr th {\n",
       "        vertical-align: top;\n",
       "    }\n",
       "\n",
       "    .dataframe thead th {\n",
       "        text-align: right;\n",
       "    }\n",
       "</style>\n",
       "<table border=\"1\" class=\"dataframe\">\n",
       "  <thead>\n",
       "    <tr style=\"text-align: right;\">\n",
       "      <th></th>\n",
       "      <th>index</th>\n",
       "      <th>text</th>\n",
       "      <th>hashtags</th>\n",
       "      <th>brand_attribute</th>\n",
       "      <th>brand</th>\n",
       "      <th>token</th>\n",
       "      <th>blob_scores</th>\n",
       "      <th>vader_scores</th>\n",
       "      <th>compound_vader_score</th>\n",
       "    </tr>\n",
       "  </thead>\n",
       "  <tbody>\n",
       "    <tr>\n",
       "      <th>0</th>\n",
       "      <td>0</td>\n",
       "      <td>i was told by bmw you need to replace the batt...</td>\n",
       "      <td>[]</td>\n",
       "      <td>quality</td>\n",
       "      <td>bmw</td>\n",
       "      <td>[told, bmw, need, replace, battery, approx, yr...</td>\n",
       "      <td>0.000000</td>\n",
       "      <td>{'neg': 0.0, 'neu': 1.0, 'pos': 0.0, 'compound...</td>\n",
       "      <td>0.00</td>\n",
       "    </tr>\n",
       "    <tr>\n",
       "      <th>1</th>\n",
       "      <td>1</td>\n",
       "      <td>a new listing for bmw e two eight m five engin...</td>\n",
       "      <td>[]</td>\n",
       "      <td>quality</td>\n",
       "      <td>bmw</td>\n",
       "      <td>[new, listing, bmw, e, engine, posted, race, p...</td>\n",
       "      <td>0.136364</td>\n",
       "      <td>{'neg': 0.0, 'neu': 1.0, 'pos': 0.0, 'compound...</td>\n",
       "      <td>0.00</td>\n",
       "    </tr>\n",
       "    <tr>\n",
       "      <th>2</th>\n",
       "      <td>2</td>\n",
       "      <td>he only led a few hundert meters at the austri...</td>\n",
       "      <td>[]</td>\n",
       "      <td>quality</td>\n",
       "      <td>bmw</td>\n",
       "      <td>[led, hundert, meter, austrian, gp, blew, migh...</td>\n",
       "      <td>0.400000</td>\n",
       "      <td>{'neg': 0.0, 'neu': 1.0, 'pos': 0.0, 'compound...</td>\n",
       "      <td>0.00</td>\n",
       "    </tr>\n",
       "    <tr>\n",
       "      <th>3</th>\n",
       "      <td>3</td>\n",
       "      <td>russians making bmw seeking missiles it s over...</td>\n",
       "      <td>[]</td>\n",
       "      <td>quality</td>\n",
       "      <td>bmw</td>\n",
       "      <td>[russian, making, bmw, seeking, missile, baltic]</td>\n",
       "      <td>0.000000</td>\n",
       "      <td>{'neg': 0.0, 'neu': 1.0, 'pos': 0.0, 'compound...</td>\n",
       "      <td>0.00</td>\n",
       "    </tr>\n",
       "    <tr>\n",
       "      <th>4</th>\n",
       "      <td>4</td>\n",
       "      <td>does anyone want to hati will just get doyoung...</td>\n",
       "      <td>[]</td>\n",
       "      <td>quality</td>\n",
       "      <td>bmw</td>\n",
       "      <td>[want, hati, doyoung, fortune, selca, gt, lt, ...</td>\n",
       "      <td>0.055556</td>\n",
       "      <td>{'neg': 0.0, 'neu': 0.866, 'pos': 0.134, 'comp...</td>\n",
       "      <td>0.34</td>\n",
       "    </tr>\n",
       "  </tbody>\n",
       "</table>\n",
       "</div>"
      ],
      "text/plain": [
       "   index                                               text hashtags  \\\n",
       "0      0  i was told by bmw you need to replace the batt...       []   \n",
       "1      1  a new listing for bmw e two eight m five engin...       []   \n",
       "2      2  he only led a few hundert meters at the austri...       []   \n",
       "3      3  russians making bmw seeking missiles it s over...       []   \n",
       "4      4  does anyone want to hati will just get doyoung...       []   \n",
       "\n",
       "  brand_attribute brand                                              token  \\\n",
       "0         quality   bmw  [told, bmw, need, replace, battery, approx, yr...   \n",
       "1         quality   bmw  [new, listing, bmw, e, engine, posted, race, p...   \n",
       "2         quality   bmw  [led, hundert, meter, austrian, gp, blew, migh...   \n",
       "3         quality   bmw   [russian, making, bmw, seeking, missile, baltic]   \n",
       "4         quality   bmw  [want, hati, doyoung, fortune, selca, gt, lt, ...   \n",
       "\n",
       "   blob_scores                                       vader_scores  \\\n",
       "0     0.000000  {'neg': 0.0, 'neu': 1.0, 'pos': 0.0, 'compound...   \n",
       "1     0.136364  {'neg': 0.0, 'neu': 1.0, 'pos': 0.0, 'compound...   \n",
       "2     0.400000  {'neg': 0.0, 'neu': 1.0, 'pos': 0.0, 'compound...   \n",
       "3     0.000000  {'neg': 0.0, 'neu': 1.0, 'pos': 0.0, 'compound...   \n",
       "4     0.055556  {'neg': 0.0, 'neu': 0.866, 'pos': 0.134, 'comp...   \n",
       "\n",
       "   compound_vader_score  \n",
       "0                  0.00  \n",
       "1                  0.00  \n",
       "2                  0.00  \n",
       "3                  0.00  \n",
       "4                  0.34  "
      ]
     },
     "execution_count": 87,
     "metadata": {},
     "output_type": "execute_result"
    }
   ],
   "source": [
    "brands_tweets.head()"
   ]
  },
  {
   "cell_type": "code",
   "execution_count": 12,
   "id": "b0da85ac",
   "metadata": {
    "scrolled": true
   },
   "outputs": [
    {
     "data": {
      "text/plain": [
       "0.09297677256130484"
      ]
     },
     "execution_count": 12,
     "metadata": {},
     "output_type": "execute_result"
    }
   ],
   "source": [
    "brands_tweets.blob_scores.mean()"
   ]
  },
  {
   "cell_type": "markdown",
   "id": "ae3e3ba1",
   "metadata": {},
   "source": [
    "**Resultados BMW:**"
   ]
  },
  {
   "cell_type": "code",
   "execution_count": 88,
   "id": "05a2fc7b",
   "metadata": {},
   "outputs": [],
   "source": [
    "vader_bmw_price = brands_tweets[(brands_tweets['brand'] == 'bmw') & (brands_tweets['brand_attribute'] == 'price') & (brands_tweets['compound_vader_score'] != 0.000)]"
   ]
  },
  {
   "cell_type": "code",
   "execution_count": 89,
   "id": "64275026",
   "metadata": {},
   "outputs": [
    {
     "name": "stdout",
     "output_type": "stream",
     "text": [
      "Precio BMW:  0.17627474860335193\n"
     ]
    }
   ],
   "source": [
    "print('Precio BMW: ', vader_bmw_price.compound_vader_score.mean())"
   ]
  },
  {
   "cell_type": "code",
   "execution_count": 90,
   "id": "4af85840",
   "metadata": {},
   "outputs": [],
   "source": [
    "vader_bmw_quality = brands_tweets[(brands_tweets['brand'] == 'bmw') & (brands_tweets['brand_attribute'] == 'quality') & (brands_tweets['compound_vader_score'] != 0.000)]"
   ]
  },
  {
   "cell_type": "code",
   "execution_count": 91,
   "id": "c91c8a02",
   "metadata": {},
   "outputs": [
    {
     "name": "stdout",
     "output_type": "stream",
     "text": [
      "Calidad BMW:  0.2281801576872536\n"
     ]
    }
   ],
   "source": [
    "print('Calidad BMW: ', vader_bmw_quality.compound_vader_score.mean())"
   ]
  },
  {
   "cell_type": "markdown",
   "id": "bed4b7ee",
   "metadata": {},
   "source": [
    "**Resultados Audi:**"
   ]
  },
  {
   "cell_type": "code",
   "execution_count": 92,
   "id": "bc1fb07b",
   "metadata": {},
   "outputs": [],
   "source": [
    "vader_audi_price = brands_tweets[(brands_tweets['brand'] == 'audi') & (brands_tweets['brand_attribute'] == 'price') & (brands_tweets['compound_vader_score'] != 0.000)]"
   ]
  },
  {
   "cell_type": "code",
   "execution_count": 93,
   "id": "3aa6bba3",
   "metadata": {},
   "outputs": [
    {
     "name": "stdout",
     "output_type": "stream",
     "text": [
      "Precio Audi:  0.19620984251968504\n"
     ]
    }
   ],
   "source": [
    "print('Precio Audi: ', vader_audi_price.compound_vader_score.mean())"
   ]
  },
  {
   "cell_type": "code",
   "execution_count": 94,
   "id": "4dce9fa5",
   "metadata": {},
   "outputs": [],
   "source": [
    "vader_audi_quality = brands_tweets[(brands_tweets['brand'] == 'audi') & (brands_tweets['brand_attribute'] == 'quality') & (brands_tweets['compound_vader_score'] != 0.000)]"
   ]
  },
  {
   "cell_type": "code",
   "execution_count": 95,
   "id": "b148d09a",
   "metadata": {
    "scrolled": true
   },
   "outputs": [
    {
     "name": "stdout",
     "output_type": "stream",
     "text": [
      "Calidad Audi:  0.30930198700802447\n"
     ]
    }
   ],
   "source": [
    "print('Calidad Audi: ', vader_audi_quality.compound_vader_score.mean())"
   ]
  },
  {
   "cell_type": "markdown",
   "id": "79b42955",
   "metadata": {},
   "source": [
    "**Resultados Volkswagen:**"
   ]
  },
  {
   "cell_type": "code",
   "execution_count": 96,
   "id": "bc7777ab",
   "metadata": {},
   "outputs": [],
   "source": [
    "vader_volkswagen_price = brands_tweets[(brands_tweets['brand'] == 'volkswagen') & (brands_tweets['brand_attribute'] == 'price') & (brands_tweets['compound_vader_score'] != 0.000)]"
   ]
  },
  {
   "cell_type": "code",
   "execution_count": 97,
   "id": "1ce676c1",
   "metadata": {},
   "outputs": [
    {
     "name": "stdout",
     "output_type": "stream",
     "text": [
      "Precio Volkswagen:  0.21645562200956936\n"
     ]
    }
   ],
   "source": [
    "print('Precio Volkswagen: ', vader_volkswagen_price.compound_vader_score.mean())"
   ]
  },
  {
   "cell_type": "code",
   "execution_count": 98,
   "id": "cb2b811c",
   "metadata": {},
   "outputs": [],
   "source": [
    "vader_volkswagen_quality = brands_tweets[(brands_tweets['brand'] == 'volkswagen') & (brands_tweets['brand_attribute'] == 'quality') & (brands_tweets['compound_vader_score'] != 0.000)]"
   ]
  },
  {
   "cell_type": "code",
   "execution_count": 99,
   "id": "15289656",
   "metadata": {},
   "outputs": [
    {
     "name": "stdout",
     "output_type": "stream",
     "text": [
      "Calidad Volkswagen:  0.1748342712177122\n"
     ]
    }
   ],
   "source": [
    "print('Calidad Volkswagen: ', vader_volkswagen_quality.compound_vader_score.mean())"
   ]
  },
  {
   "cell_type": "markdown",
   "id": "813eae87",
   "metadata": {},
   "source": [
    "**Resultados Renault:**"
   ]
  },
  {
   "cell_type": "code",
   "execution_count": 100,
   "id": "f0410ec6",
   "metadata": {},
   "outputs": [],
   "source": [
    "vader_renault_price = brands_tweets[(brands_tweets['brand'] == 'renault') & (brands_tweets['brand_attribute'] == 'price') & (brands_tweets['compound_vader_score'] != 0.000)]"
   ]
  },
  {
   "cell_type": "code",
   "execution_count": 101,
   "id": "a31eab04",
   "metadata": {},
   "outputs": [
    {
     "name": "stdout",
     "output_type": "stream",
     "text": [
      "Precio Renault:  0.1637200972447326\n"
     ]
    }
   ],
   "source": [
    "print('Precio Renault: ', vader_renault_price.compound_vader_score.mean())"
   ]
  },
  {
   "cell_type": "code",
   "execution_count": 102,
   "id": "d6816356",
   "metadata": {},
   "outputs": [],
   "source": [
    "vader_renault_quality = brands_tweets[(brands_tweets['brand'] == 'renault') & (brands_tweets['brand_attribute'] == 'quality') & (brands_tweets['compound_vader_score'] != 0.000)]"
   ]
  },
  {
   "cell_type": "code",
   "execution_count": 103,
   "id": "f07d5863",
   "metadata": {
    "scrolled": true
   },
   "outputs": [
    {
     "name": "stdout",
     "output_type": "stream",
     "text": [
      "Calidad Renault:  0.1856915857605178\n"
     ]
    }
   ],
   "source": [
    "print('Calidad Renault: ', vader_renault_quality.compound_vader_score.mean())"
   ]
  },
  {
   "cell_type": "markdown",
   "id": "b7076fce",
   "metadata": {},
   "source": [
    "**Resultados Fiat:**"
   ]
  },
  {
   "cell_type": "code",
   "execution_count": 104,
   "id": "3e14794b",
   "metadata": {},
   "outputs": [],
   "source": [
    "vader_fiat_price = brands_tweets[(brands_tweets['brand'] == 'fiat') & (brands_tweets['brand_attribute'] == 'price') & (brands_tweets['compound_vader_score'] != 0.000)]"
   ]
  },
  {
   "cell_type": "code",
   "execution_count": 105,
   "id": "900b951e",
   "metadata": {},
   "outputs": [
    {
     "name": "stdout",
     "output_type": "stream",
     "text": [
      "Precio Fiat:  0.17429604743083005\n"
     ]
    }
   ],
   "source": [
    "print('Precio Fiat: ', vader_fiat_price.compound_vader_score.mean())"
   ]
  },
  {
   "cell_type": "code",
   "execution_count": 106,
   "id": "6778a1e3",
   "metadata": {},
   "outputs": [],
   "source": [
    "vader_fiat_quality = brands_tweets[(brands_tweets['brand'] == 'fiat') & (brands_tweets['brand_attribute'] == 'quality') & (brands_tweets['compound_vader_score'] != 0.000)]"
   ]
  },
  {
   "cell_type": "code",
   "execution_count": 107,
   "id": "ca8c349c",
   "metadata": {
    "scrolled": true
   },
   "outputs": [
    {
     "name": "stdout",
     "output_type": "stream",
     "text": [
      "Calidad Fiat:  0.18134893832153692\n"
     ]
    }
   ],
   "source": [
    "print('Calidad Fiat: ', vader_fiat_quality.compound_vader_score.mean())"
   ]
  },
  {
   "cell_type": "markdown",
   "id": "609a5a25",
   "metadata": {},
   "source": [
    "**Resultados Ferrari:**"
   ]
  },
  {
   "cell_type": "code",
   "execution_count": 108,
   "id": "3d1d6c54",
   "metadata": {},
   "outputs": [],
   "source": [
    "vader_ferrari_price = brands_tweets[(brands_tweets['brand'] == 'ferrari') & (brands_tweets['brand_attribute'] == 'price') & (brands_tweets['compound_vader_score'] != 0.000)]"
   ]
  },
  {
   "cell_type": "code",
   "execution_count": 109,
   "id": "7f4552e2",
   "metadata": {},
   "outputs": [
    {
     "name": "stdout",
     "output_type": "stream",
     "text": [
      "Precio Ferrari:  0.25776543209876546\n"
     ]
    }
   ],
   "source": [
    "print('Precio Ferrari: ', vader_ferrari_price.compound_vader_score.mean())"
   ]
  },
  {
   "cell_type": "code",
   "execution_count": 110,
   "id": "68c45da9",
   "metadata": {},
   "outputs": [],
   "source": [
    "vader_ferrari_quality = brands_tweets[(brands_tweets['brand'] == 'ferrari') & (brands_tweets['brand_attribute'] == 'quality') & (brands_tweets['compound_vader_score'] != 0.000)]"
   ]
  },
  {
   "cell_type": "code",
   "execution_count": 111,
   "id": "5cd2540a",
   "metadata": {
    "scrolled": true
   },
   "outputs": [
    {
     "name": "stdout",
     "output_type": "stream",
     "text": [
      "Calidad Ferrari:  0.16871033434650456\n"
     ]
    }
   ],
   "source": [
    "print('Calidad Ferrari: ', vader_ferrari_quality.compound_vader_score.mean())"
   ]
  },
  {
   "cell_type": "markdown",
   "id": "70406ac7",
   "metadata": {},
   "source": [
    "**Resultados Lamborghini:**"
   ]
  },
  {
   "cell_type": "code",
   "execution_count": 112,
   "id": "94681f1b",
   "metadata": {},
   "outputs": [],
   "source": [
    "vader_lamborghini_price = brands_tweets[(brands_tweets['brand'] == 'lamborghini') & (brands_tweets['brand_attribute'] == 'price') & (brands_tweets['compound_vader_score'] != 0.000)]"
   ]
  },
  {
   "cell_type": "code",
   "execution_count": 113,
   "id": "93d27600",
   "metadata": {},
   "outputs": [
    {
     "name": "stdout",
     "output_type": "stream",
     "text": [
      "Precio Lamborghini:  0.5533183333333332\n"
     ]
    }
   ],
   "source": [
    "print('Precio Lamborghini: ', vader_lamborghini_price.compound_vader_score.mean())"
   ]
  },
  {
   "cell_type": "code",
   "execution_count": 114,
   "id": "ee2fd358",
   "metadata": {},
   "outputs": [],
   "source": [
    "vader_lamborghini_quality = brands_tweets[(brands_tweets['brand'] == 'lamborghini') & (brands_tweets['brand_attribute'] == 'quality') & (brands_tweets['compound_vader_score'] != 0.000)]"
   ]
  },
  {
   "cell_type": "code",
   "execution_count": 115,
   "id": "3cfe25b6",
   "metadata": {
    "scrolled": true
   },
   "outputs": [
    {
     "name": "stdout",
     "output_type": "stream",
     "text": [
      "Calidad Lamborghini:  0.24955221148957807\n"
     ]
    }
   ],
   "source": [
    "print('Calidad Lamborghini: ', vader_lamborghini_quality.compound_vader_score.mean())"
   ]
  },
  {
   "cell_type": "markdown",
   "id": "74b253fe",
   "metadata": {},
   "source": [
    "**Resultados Hyundai:**"
   ]
  },
  {
   "cell_type": "code",
   "execution_count": 116,
   "id": "c2bb9376",
   "metadata": {},
   "outputs": [],
   "source": [
    "vader_hyundai_price = brands_tweets[(brands_tweets['brand'] == 'hyundai') & (brands_tweets['brand_attribute'] == 'price') & (brands_tweets['compound_vader_score'] != 0.000)]"
   ]
  },
  {
   "cell_type": "code",
   "execution_count": 117,
   "id": "a95ba18a",
   "metadata": {},
   "outputs": [
    {
     "name": "stdout",
     "output_type": "stream",
     "text": [
      "Precio Hyundai:  0.1593408585055644\n"
     ]
    }
   ],
   "source": [
    "print('Precio Hyundai: ', vader_hyundai_price.compound_vader_score.mean())"
   ]
  },
  {
   "cell_type": "code",
   "execution_count": 118,
   "id": "37751fe5",
   "metadata": {},
   "outputs": [],
   "source": [
    "vader_hyundai_quality = brands_tweets[(brands_tweets['brand'] == 'hyundai') & (brands_tweets['brand_attribute'] == 'quality') & (brands_tweets['compound_vader_score'] != 0.000)]"
   ]
  },
  {
   "cell_type": "code",
   "execution_count": 119,
   "id": "c229a089",
   "metadata": {
    "scrolled": true
   },
   "outputs": [
    {
     "name": "stdout",
     "output_type": "stream",
     "text": [
      "Calidad Hyundai:  0.19249206134415878\n"
     ]
    }
   ],
   "source": [
    "print('Calidad Hyundai: ', vader_hyundai_quality.compound_vader_score.mean())"
   ]
  },
  {
   "cell_type": "markdown",
   "id": "a96ea0d3",
   "metadata": {},
   "source": [
    "**Resultados Peugeot:**"
   ]
  },
  {
   "cell_type": "code",
   "execution_count": 120,
   "id": "15931307",
   "metadata": {},
   "outputs": [],
   "source": [
    "vader_peugeot_price = brands_tweets[(brands_tweets['brand'] == 'peugeot') & (brands_tweets['brand_attribute'] == 'price') & (brands_tweets['compound_vader_score'] != 0.000)]"
   ]
  },
  {
   "cell_type": "code",
   "execution_count": 121,
   "id": "35b9c45d",
   "metadata": {},
   "outputs": [
    {
     "name": "stdout",
     "output_type": "stream",
     "text": [
      "Precio Peugeot:  0.25531190476190474\n"
     ]
    }
   ],
   "source": [
    "print('Precio Peugeot: ', vader_peugeot_price.compound_vader_score.mean())"
   ]
  },
  {
   "cell_type": "code",
   "execution_count": 122,
   "id": "6f3a8af1",
   "metadata": {},
   "outputs": [],
   "source": [
    "vader_peugeot_quality = brands_tweets[(brands_tweets['brand'] == 'peugeot') & (brands_tweets['brand_attribute'] == 'quality') & (brands_tweets['compound_vader_score'] != 0.000)]"
   ]
  },
  {
   "cell_type": "code",
   "execution_count": 123,
   "id": "2813e4bd",
   "metadata": {
    "scrolled": false
   },
   "outputs": [
    {
     "name": "stdout",
     "output_type": "stream",
     "text": [
      "Calidad Peugeot:  0.1856633426966292\n"
     ]
    }
   ],
   "source": [
    "print('Calidad Peugeot: ', vader_peugeot_quality.compound_vader_score.mean())"
   ]
  },
  {
   "cell_type": "markdown",
   "id": "f7aaf780",
   "metadata": {},
   "source": [
    "**Resultados Ford:**"
   ]
  },
  {
   "cell_type": "code",
   "execution_count": 124,
   "id": "afce962d",
   "metadata": {},
   "outputs": [],
   "source": [
    "vader_ford_price = brands_tweets[(brands_tweets['brand'] == 'ford') & (brands_tweets['brand_attribute'] == 'price') & (brands_tweets['compound_vader_score'] != 0.000)]"
   ]
  },
  {
   "cell_type": "code",
   "execution_count": 125,
   "id": "0deed536",
   "metadata": {},
   "outputs": [
    {
     "name": "stdout",
     "output_type": "stream",
     "text": [
      "Precio Ford:  0.12240412168792934\n"
     ]
    }
   ],
   "source": [
    "print('Precio Ford: ', vader_ford_price.compound_vader_score.mean())"
   ]
  },
  {
   "cell_type": "code",
   "execution_count": 126,
   "id": "cfe931c6",
   "metadata": {},
   "outputs": [],
   "source": [
    "vader_ford_quality = brands_tweets[(brands_tweets['brand'] == 'ford') & (brands_tweets['brand_attribute'] == 'quality') & (brands_tweets['compound_vader_score'] != 0.000)]"
   ]
  },
  {
   "cell_type": "code",
   "execution_count": 127,
   "id": "fc82aaa7",
   "metadata": {
    "scrolled": false
   },
   "outputs": [
    {
     "name": "stdout",
     "output_type": "stream",
     "text": [
      "Calidad Ford:  0.15438563492063492\n"
     ]
    }
   ],
   "source": [
    "print('Calidad Ford: ', vader_ford_quality.compound_vader_score.mean())"
   ]
  },
  {
   "cell_type": "markdown",
   "id": "934a7d9c",
   "metadata": {},
   "source": [
    "### Visualización de Resultados (VADER scores)."
   ]
  },
  {
   "cell_type": "markdown",
   "id": "3bc532c6",
   "metadata": {},
   "source": [
    "**Creamos la tabla a partir de la cual generamos el gráfico (preparamos los datos).**"
   ]
  },
  {
   "cell_type": "code",
   "execution_count": 128,
   "id": "e0d0d5e4",
   "metadata": {},
   "outputs": [],
   "source": [
    "car_brands_vader = [\n",
    "    \n",
    "{'brand':'BMW', 'price_score': 1-vader_bmw_price.compound_vader_score.mean(), 'quality_score': vader_bmw_quality.compound_vader_score.mean()},\n",
    "{'brand':'Audi', 'price_score': 1-vader_audi_price.compound_vader_score.mean(), 'quality_score': vader_audi_quality.compound_vader_score.mean()},\n",
    "{'brand':'Volkswagen', 'price_score': 1-vader_volkswagen_price.compound_vader_score.mean(), 'quality_score': vader_volkswagen_quality.compound_vader_score.mean()},\n",
    "{'brand':'Renault', 'price_score': 1-vader_renault_price.compound_vader_score.mean(), 'quality_score': vader_renault_quality.compound_vader_score.mean()},\n",
    "{'brand':'Fiat', 'price_score': 1-vader_fiat_price.compound_vader_score.mean(), 'quality_score': vader_fiat_quality.compound_vader_score.mean()},\n",
    "{'brand':'Ferrari', 'price_score': 1-vader_ferrari_price.compound_vader_score.mean(), 'quality_score': vader_ferrari_quality.compound_vader_score.mean()},\n",
    "{'brand':'Lamborghini', 'price_score': 1-vader_lamborghini_price.compound_vader_score.mean(), 'quality_score': vader_lamborghini_quality.compound_vader_score.mean()},\n",
    "{'brand':'Hyundai', 'price_score': 1-vader_hyundai_price.compound_vader_score.mean(), 'quality_score': vader_hyundai_quality.compound_vader_score.mean()},\n",
    "{'brand':'Peugeot', 'price_score': 1-vader_peugeot_price.compound_vader_score.mean(), 'quality_score': vader_peugeot_quality.compound_vader_score.mean()},\n",
    "{'brand':'Ford', 'price_score': 1-vader_ford_price.compound_vader_score.mean(), 'quality_score': vader_ford_quality.compound_vader_score.mean()},\n",
    "]"
   ]
  },
  {
   "cell_type": "code",
   "execution_count": 131,
   "id": "32597068",
   "metadata": {},
   "outputs": [
    {
     "data": {
      "text/html": [
       "<div>\n",
       "<style scoped>\n",
       "    .dataframe tbody tr th:only-of-type {\n",
       "        vertical-align: middle;\n",
       "    }\n",
       "\n",
       "    .dataframe tbody tr th {\n",
       "        vertical-align: top;\n",
       "    }\n",
       "\n",
       "    .dataframe thead th {\n",
       "        text-align: right;\n",
       "    }\n",
       "</style>\n",
       "<table border=\"1\" class=\"dataframe\">\n",
       "  <thead>\n",
       "    <tr style=\"text-align: right;\">\n",
       "      <th></th>\n",
       "      <th>brand</th>\n",
       "      <th>price_score</th>\n",
       "      <th>quality_score</th>\n",
       "    </tr>\n",
       "  </thead>\n",
       "  <tbody>\n",
       "    <tr>\n",
       "      <th>0</th>\n",
       "      <td>BMW</td>\n",
       "      <td>0.823725</td>\n",
       "      <td>0.228180</td>\n",
       "    </tr>\n",
       "    <tr>\n",
       "      <th>1</th>\n",
       "      <td>Audi</td>\n",
       "      <td>0.803790</td>\n",
       "      <td>0.309302</td>\n",
       "    </tr>\n",
       "    <tr>\n",
       "      <th>2</th>\n",
       "      <td>Volkswagen</td>\n",
       "      <td>0.783544</td>\n",
       "      <td>0.174834</td>\n",
       "    </tr>\n",
       "    <tr>\n",
       "      <th>3</th>\n",
       "      <td>Renault</td>\n",
       "      <td>0.836280</td>\n",
       "      <td>0.185692</td>\n",
       "    </tr>\n",
       "    <tr>\n",
       "      <th>4</th>\n",
       "      <td>Fiat</td>\n",
       "      <td>0.825704</td>\n",
       "      <td>0.181349</td>\n",
       "    </tr>\n",
       "    <tr>\n",
       "      <th>5</th>\n",
       "      <td>Ferrari</td>\n",
       "      <td>0.742235</td>\n",
       "      <td>0.168710</td>\n",
       "    </tr>\n",
       "    <tr>\n",
       "      <th>6</th>\n",
       "      <td>Lamborghini</td>\n",
       "      <td>0.446682</td>\n",
       "      <td>0.249552</td>\n",
       "    </tr>\n",
       "    <tr>\n",
       "      <th>7</th>\n",
       "      <td>Hyundai</td>\n",
       "      <td>0.840659</td>\n",
       "      <td>0.192492</td>\n",
       "    </tr>\n",
       "    <tr>\n",
       "      <th>8</th>\n",
       "      <td>Peugeot</td>\n",
       "      <td>0.744688</td>\n",
       "      <td>0.185663</td>\n",
       "    </tr>\n",
       "    <tr>\n",
       "      <th>9</th>\n",
       "      <td>Ford</td>\n",
       "      <td>0.877596</td>\n",
       "      <td>0.154386</td>\n",
       "    </tr>\n",
       "  </tbody>\n",
       "</table>\n",
       "</div>"
      ],
      "text/plain": [
       "         brand  price_score  quality_score\n",
       "0          BMW     0.823725       0.228180\n",
       "1         Audi     0.803790       0.309302\n",
       "2   Volkswagen     0.783544       0.174834\n",
       "3      Renault     0.836280       0.185692\n",
       "4         Fiat     0.825704       0.181349\n",
       "5      Ferrari     0.742235       0.168710\n",
       "6  Lamborghini     0.446682       0.249552\n",
       "7      Hyundai     0.840659       0.192492\n",
       "8      Peugeot     0.744688       0.185663\n",
       "9         Ford     0.877596       0.154386"
      ]
     },
     "execution_count": 131,
     "metadata": {},
     "output_type": "execute_result"
    }
   ],
   "source": [
    "car_brands_vader_df = pd.DataFrame(car_brands_vader)\n",
    "\n",
    "car_brands_vader_df"
   ]
  },
  {
   "cell_type": "code",
   "execution_count": 58,
   "id": "60f0c69c",
   "metadata": {},
   "outputs": [],
   "source": [
    "import seaborn as sns\n",
    "\n",
    "# Matplotlib inline para visualizar los gráficos de Matplotlib\n",
    "%matplotlib inline\n",
    "%config Inlinebackend.figure_format= 'retina'\n",
    "\n",
    "\n",
    "# Configuración para setear y que todas las fig de Seaborn salgan por defecto con este tamaño\n",
    "# Se puede especificar el tamaño de cada figura\n",
    "sns.set_context(\"poster\")\n",
    "sns.set(rc={\"figure.figsize\": (12.,6.)})\n",
    "sns.set_style(\"whitegrid\")"
   ]
  },
  {
   "cell_type": "code",
   "execution_count": 134,
   "id": "e57c4745",
   "metadata": {},
   "outputs": [
    {
     "data": {
      "image/png": "[encoded data removed]",
      "text/plain": [
       "<Figure size 864x432 with 1 Axes>"
      ]
     },
     "metadata": {},
     "output_type": "display_data"
    }
   ],
   "source": [
    "sns.scatterplot(x=\"price_score\", y=\"quality_score\", hue=\"brand\", data=car_brands_vader_df);"
   ]
  },
  {
   "cell_type": "code",
   "execution_count": 135,
   "id": "b0bf50cc",
   "metadata": {},
   "outputs": [
    {
     "data": {
      "application/vnd.plotly.v1+json": {
       "config": {
        "plotlyServerURL": "https://plot.ly"
       },
       "data": [
        {
         "hovertemplate": "color=BMW<br>x=%{x}<br>y=%{y}<extra></extra>",
         "legendgroup": "BMW",
         "marker": {
          "color": "#636efa",
          "symbol": "circle"
         },
         "mode": "markers",
         "name": "BMW",
         "orientation": "v",
         "showlegend": true,
         "type": "scatter",
         "x": [
          0.8237252513966481
         ],
         "xaxis": "x",
         "y": [
          0.2281801576872536
         ],
         "yaxis": "y"
        },
        {
         "hovertemplate": "color=Audi<br>x=%{x}<br>y=%{y}<extra></extra>",
         "legendgroup": "Audi",
         "marker": {
          "color": "#EF553B",
          "symbol": "circle"
         },
         "mode": "markers",
         "name": "Audi",
         "orientation": "v",
         "showlegend": true,
         "type": "scatter",
         "x": [
          0.803790157480315
         ],
         "xaxis": "x",
         "y": [
          0.30930198700802447
         ],
         "yaxis": "y"
        },
        {
         "hovertemplate": "color=Volkswagen<br>x=%{x}<br>y=%{y}<extra></extra>",
         "legendgroup": "Volkswagen",
         "marker": {
          "color": "#00cc96",
          "symbol": "circle"
         },
         "mode": "markers",
         "name": "Volkswagen",
         "orientation": "v",
         "showlegend": true,
         "type": "scatter",
         "x": [
          0.7835443779904306
         ],
         "xaxis": "x",
         "y": [
          0.1748342712177122
         ],
         "yaxis": "y"
        },
        {
         "hovertemplate": "color=Renault<br>x=%{x}<br>y=%{y}<extra></extra>",
         "legendgroup": "Renault",
         "marker": {
          "color": "#ab63fa",
          "symbol": "circle"
         },
         "mode": "markers",
         "name": "Renault",
         "orientation": "v",
         "showlegend": true,
         "type": "scatter",
         "x": [
          0.8362799027552674
         ],
         "xaxis": "x",
         "y": [
          0.1856915857605178
         ],
         "yaxis": "y"
        },
        {
         "hovertemplate": "color=Fiat<br>x=%{x}<br>y=%{y}<extra></extra>",
         "legendgroup": "Fiat",
         "marker": {
          "color": "#FFA15A",
          "symbol": "circle"
         },
         "mode": "markers",
         "name": "Fiat",
         "orientation": "v",
         "showlegend": true,
         "type": "scatter",
         "x": [
          0.82570395256917
         ],
         "xaxis": "x",
         "y": [
          0.18134893832153692
         ],
         "yaxis": "y"
        },
        {
         "hovertemplate": "color=Ferrari<br>x=%{x}<br>y=%{y}<extra></extra>",
         "legendgroup": "Ferrari",
         "marker": {
          "color": "#19d3f3",
          "symbol": "circle"
         },
         "mode": "markers",
         "name": "Ferrari",
         "orientation": "v",
         "showlegend": true,
         "type": "scatter",
         "x": [
          0.7422345679012345
         ],
         "xaxis": "x",
         "y": [
          0.16871033434650456
         ],
         "yaxis": "y"
        },
        {
         "hovertemplate": "color=Lamborghini<br>x=%{x}<br>y=%{y}<extra></extra>",
         "legendgroup": "Lamborghini",
         "marker": {
          "color": "#FF6692",
          "symbol": "circle"
         },
         "mode": "markers",
         "name": "Lamborghini",
         "orientation": "v",
         "showlegend": true,
         "type": "scatter",
         "x": [
          0.44668166666666675
         ],
         "xaxis": "x",
         "y": [
          0.24955221148957807
         ],
         "yaxis": "y"
        },
        {
         "hovertemplate": "color=Hyundai<br>x=%{x}<br>y=%{y}<extra></extra>",
         "legendgroup": "Hyundai",
         "marker": {
          "color": "#B6E880",
          "symbol": "circle"
         },
         "mode": "markers",
         "name": "Hyundai",
         "orientation": "v",
         "showlegend": true,
         "type": "scatter",
         "x": [
          0.8406591414944355
         ],
         "xaxis": "x",
         "y": [
          0.19249206134415878
         ],
         "yaxis": "y"
        },
        {
         "hovertemplate": "color=Peugeot<br>x=%{x}<br>y=%{y}<extra></extra>",
         "legendgroup": "Peugeot",
         "marker": {
          "color": "#FF97FF",
          "symbol": "circle"
         },
         "mode": "markers",
         "name": "Peugeot",
         "orientation": "v",
         "showlegend": true,
         "type": "scatter",
         "x": [
          0.7446880952380952
         ],
         "xaxis": "x",
         "y": [
          0.1856633426966292
         ],
         "yaxis": "y"
        },
        {
         "hovertemplate": "color=Ford<br>x=%{x}<br>y=%{y}<extra></extra>",
         "legendgroup": "Ford",
         "marker": {
          "color": "#FECB52",
          "symbol": "circle"
         },
         "mode": "markers",
         "name": "Ford",
         "orientation": "v",
         "showlegend": true,
         "type": "scatter",
         "x": [
          0.8775958783120706
         ],
         "xaxis": "x",
         "y": [
          0.15438563492063492
         ],
         "yaxis": "y"
        }
       ],
       "layout": {
        "legend": {
         "title": {
          "text": "color"
         },
         "tracegroupgap": 0
        },
        "margin": {
         "t": 60
        },
        "template": {
         "data": {
          "bar": [
           {
            "error_x": {
             "color": "#2a3f5f"
            },
            "error_y": {
             "color": "#2a3f5f"
            },
            "marker": {
             "line": {
              "color": "#E5ECF6",
              "width": 0.5
             },
             "pattern": {
              "fillmode": "overlay",
              "size": 10,
              "solidity": 0.2
             }
            },
            "type": "bar"
           }
          ],
          "barpolar": [
           {
            "marker": {
             "line": {
              "color": "#E5ECF6",
              "width": 0.5
             },
             "pattern": {
              "fillmode": "overlay",
              "size": 10,
              "solidity": 0.2
             }
            },
            "type": "barpolar"
           }
          ],
          "carpet": [
           {
            "aaxis": {
             "endlinecolor": "#2a3f5f",
             "gridcolor": "white",
             "linecolor": "white",
             "minorgridcolor": "white",
             "startlinecolor": "#2a3f5f"
            },
            "baxis": {
             "endlinecolor": "#2a3f5f",
             "gridcolor": "white",
             "linecolor": "white",
             "minorgridcolor": "white",
             "startlinecolor": "#2a3f5f"
            },
            "type": "carpet"
           }
          ],
          "choropleth": [
           {
            "colorbar": {
             "outlinewidth": 0,
             "ticks": ""
            },
            "type": "choropleth"
           }
          ],
          "contour": [
           {
            "colorbar": {
             "outlinewidth": 0,
             "ticks": ""
            },
            "colorscale": [
             [
              0,
              "#0d0887"
             ],
             [
              0.1111111111111111,
              "#46039f"
             ],
             [
              0.2222222222222222,
              "#7201a8"
             ],
             [
              0.3333333333333333,
              "#9c179e"
             ],
             [
              0.4444444444444444,
              "#bd3786"
             ],
             [
              0.5555555555555556,
              "#d8576b"
             ],
             [
              0.6666666666666666,
              "#ed7953"
             ],
             [
              0.7777777777777778,
              "#fb9f3a"
             ],
             [
              0.8888888888888888,
              "#fdca26"
             ],
             [
              1,
              "#f0f921"
             ]
            ],
            "type": "contour"
           }
          ],
          "contourcarpet": [
           {
            "colorbar": {
             "outlinewidth": 0,
             "ticks": ""
            },
            "type": "contourcarpet"
           }
          ],
          "heatmap": [
           {
            "colorbar": {
             "outlinewidth": 0,
             "ticks": ""
            },
            "colorscale": [
             [
              0,
              "#0d0887"
             ],
             [
              0.1111111111111111,
              "#46039f"
             ],
             [
              0.2222222222222222,
              "#7201a8"
             ],
             [
              0.3333333333333333,
              "#9c179e"
             ],
             [
              0.4444444444444444,
              "#bd3786"
             ],
             [
              0.5555555555555556,
              "#d8576b"
             ],
             [
              0.6666666666666666,
              "#ed7953"
             ],
             [
              0.7777777777777778,
              "#fb9f3a"
             ],
             [
              0.8888888888888888,
              "#fdca26"
             ],
             [
              1,
              "#f0f921"
             ]
            ],
            "type": "heatmap"
           }
          ],
          "heatmapgl": [
           {
            "colorbar": {
             "outlinewidth": 0,
             "ticks": ""
            },
            "colorscale": [
             [
              0,
              "#0d0887"
             ],
             [
              0.1111111111111111,
              "#46039f"
             ],
             [
              0.2222222222222222,
              "#7201a8"
             ],
             [
              0.3333333333333333,
              "#9c179e"
             ],
             [
              0.4444444444444444,
              "#bd3786"
             ],
             [
              0.5555555555555556,
              "#d8576b"
             ],
             [
              0.6666666666666666,
              "#ed7953"
             ],
             [
              0.7777777777777778,
              "#fb9f3a"
             ],
             [
              0.8888888888888888,
              "#fdca26"
             ],
             [
              1,
              "#f0f921"
             ]
            ],
            "type": "heatmapgl"
           }
          ],
          "histogram": [
           {
            "marker": {
             "pattern": {
              "fillmode": "overlay",
              "size": 10,
              "solidity": 0.2
             }
            },
            "type": "histogram"
           }
          ],
          "histogram2d": [
           {
            "colorbar": {
             "outlinewidth": 0,
             "ticks": ""
            },
            "colorscale": [
             [
              0,
              "#0d0887"
             ],
             [
              0.1111111111111111,
              "#46039f"
             ],
             [
              0.2222222222222222,
              "#7201a8"
             ],
             [
              0.3333333333333333,
              "#9c179e"
             ],
             [
              0.4444444444444444,
              "#bd3786"
             ],
             [
              0.5555555555555556,
              "#d8576b"
             ],
             [
              0.6666666666666666,
              "#ed7953"
             ],
             [
              0.7777777777777778,
              "#fb9f3a"
             ],
             [
              0.8888888888888888,
              "#fdca26"
             ],
             [
              1,
              "#f0f921"
             ]
            ],
            "type": "histogram2d"
           }
          ],
          "histogram2dcontour": [
           {
            "colorbar": {
             "outlinewidth": 0,
             "ticks": ""
            },
            "colorscale": [
             [
              0,
              "#0d0887"
             ],
             [
              0.1111111111111111,
              "#46039f"
             ],
             [
              0.2222222222222222,
              "#7201a8"
             ],
             [
              0.3333333333333333,
              "#9c179e"
             ],
             [
              0.4444444444444444,
              "#bd3786"
             ],
             [
              0.5555555555555556,
              "#d8576b"
             ],
             [
              0.6666666666666666,
              "#ed7953"
             ],
             [
              0.7777777777777778,
              "#fb9f3a"
             ],
             [
              0.8888888888888888,
              "#fdca26"
             ],
             [
              1,
              "#f0f921"
             ]
            ],
            "type": "histogram2dcontour"
           }
          ],
          "mesh3d": [
           {
            "colorbar": {
             "outlinewidth": 0,
             "ticks": ""
            },
            "type": "mesh3d"
           }
          ],
          "parcoords": [
           {
            "line": {
             "colorbar": {
              "outlinewidth": 0,
              "ticks": ""
             }
            },
            "type": "parcoords"
           }
          ],
          "pie": [
           {
            "automargin": true,
            "type": "pie"
           }
          ],
          "scatter": [
           {
            "marker": {
             "colorbar": {
              "outlinewidth": 0,
              "ticks": ""
             }
            },
            "type": "scatter"
           }
          ],
          "scatter3d": [
           {
            "line": {
             "colorbar": {
              "outlinewidth": 0,
              "ticks": ""
             }
            },
            "marker": {
             "colorbar": {
              "outlinewidth": 0,
              "ticks": ""
             }
            },
            "type": "scatter3d"
           }
          ],
          "scattercarpet": [
           {
            "marker": {
             "colorbar": {
              "outlinewidth": 0,
              "ticks": ""
             }
            },
            "type": "scattercarpet"
           }
          ],
          "scattergeo": [
           {
            "marker": {
             "colorbar": {
              "outlinewidth": 0,
              "ticks": ""
             }
            },
            "type": "scattergeo"
           }
          ],
          "scattergl": [
           {
            "marker": {
             "colorbar": {
              "outlinewidth": 0,
              "ticks": ""
             }
            },
            "type": "scattergl"
           }
          ],
          "scattermapbox": [
           {
            "marker": {
             "colorbar": {
              "outlinewidth": 0,
              "ticks": ""
             }
            },
            "type": "scattermapbox"
           }
          ],
          "scatterpolar": [
           {
            "marker": {
             "colorbar": {
              "outlinewidth": 0,
              "ticks": ""
             }
            },
            "type": "scatterpolar"
           }
          ],
          "scatterpolargl": [
           {
            "marker": {
             "colorbar": {
              "outlinewidth": 0,
              "ticks": ""
             }
            },
            "type": "scatterpolargl"
           }
          ],
          "scatterternary": [
           {
            "marker": {
             "colorbar": {
              "outlinewidth": 0,
              "ticks": ""
             }
            },
            "type": "scatterternary"
           }
          ],
          "surface": [
           {
            "colorbar": {
             "outlinewidth": 0,
             "ticks": ""
            },
            "colorscale": [
             [
              0,
              "#0d0887"
             ],
             [
              0.1111111111111111,
              "#46039f"
             ],
             [
              0.2222222222222222,
              "#7201a8"
             ],
             [
              0.3333333333333333,
              "#9c179e"
             ],
             [
              0.4444444444444444,
              "#bd3786"
             ],
             [
              0.5555555555555556,
              "#d8576b"
             ],
             [
              0.6666666666666666,
              "#ed7953"
             ],
             [
              0.7777777777777778,
              "#fb9f3a"
             ],
             [
              0.8888888888888888,
              "#fdca26"
             ],
             [
              1,
              "#f0f921"
             ]
            ],
            "type": "surface"
           }
          ],
          "table": [
           {
            "cells": {
             "fill": {
              "color": "#EBF0F8"
             },
             "line": {
              "color": "white"
             }
            },
            "header": {
             "fill": {
              "color": "#C8D4E3"
             },
             "line": {
              "color": "white"
             }
            },
            "type": "table"
           }
          ]
         },
         "layout": {
          "annotationdefaults": {
           "arrowcolor": "#2a3f5f",
           "arrowhead": 0,
           "arrowwidth": 1
          },
          "autotypenumbers": "strict",
          "coloraxis": {
           "colorbar": {
            "outlinewidth": 0,
            "ticks": ""
           }
          },
          "colorscale": {
           "diverging": [
            [
             0,
             "#8e0152"
            ],
            [
             0.1,
             "#c51b7d"
            ],
            [
             0.2,
             "#de77ae"
            ],
            [
             0.3,
             "#f1b6da"
            ],
            [
             0.4,
             "#fde0ef"
            ],
            [
             0.5,
             "#f7f7f7"
            ],
            [
             0.6,
             "#e6f5d0"
            ],
            [
             0.7,
             "#b8e186"
            ],
            [
             0.8,
             "#7fbc41"
            ],
            [
             0.9,
             "#4d9221"
            ],
            [
             1,
             "#276419"
            ]
           ],
           "sequential": [
            [
             0,
             "#0d0887"
            ],
            [
             0.1111111111111111,
             "#46039f"
            ],
            [
             0.2222222222222222,
             "#7201a8"
            ],
            [
             0.3333333333333333,
             "#9c179e"
            ],
            [
             0.4444444444444444,
             "#bd3786"
            ],
            [
             0.5555555555555556,
             "#d8576b"
            ],
            [
             0.6666666666666666,
             "#ed7953"
            ],
            [
             0.7777777777777778,
             "#fb9f3a"
            ],
            [
             0.8888888888888888,
             "#fdca26"
            ],
            [
             1,
             "#f0f921"
            ]
           ],
           "sequentialminus": [
            [
             0,
             "#0d0887"
            ],
            [
             0.1111111111111111,
             "#46039f"
            ],
            [
             0.2222222222222222,
             "#7201a8"
            ],
            [
             0.3333333333333333,
             "#9c179e"
            ],
            [
             0.4444444444444444,
             "#bd3786"
            ],
            [
             0.5555555555555556,
             "#d8576b"
            ],
            [
             0.6666666666666666,
             "#ed7953"
            ],
            [
             0.7777777777777778,
             "#fb9f3a"
            ],
            [
             0.8888888888888888,
             "#fdca26"
            ],
            [
             1,
             "#f0f921"
            ]
           ]
          },
          "colorway": [
           "#636efa",
           "#EF553B",
           "#00cc96",
           "#ab63fa",
           "#FFA15A",
           "#19d3f3",
           "#FF6692",
           "#B6E880",
           "#FF97FF",
           "#FECB52"
          ],
          "font": {
           "color": "#2a3f5f"
          },
          "geo": {
           "bgcolor": "white",
           "lakecolor": "white",
           "landcolor": "#E5ECF6",
           "showlakes": true,
           "showland": true,
           "subunitcolor": "white"
          },
          "hoverlabel": {
           "align": "left"
          },
          "hovermode": "closest",
          "mapbox": {
           "style": "light"
          },
          "paper_bgcolor": "white",
          "plot_bgcolor": "#E5ECF6",
          "polar": {
           "angularaxis": {
            "gridcolor": "white",
            "linecolor": "white",
            "ticks": ""
           },
           "bgcolor": "#E5ECF6",
           "radialaxis": {
            "gridcolor": "white",
            "linecolor": "white",
            "ticks": ""
           }
          },
          "scene": {
           "xaxis": {
            "backgroundcolor": "#E5ECF6",
            "gridcolor": "white",
            "gridwidth": 2,
            "linecolor": "white",
            "showbackground": true,
            "ticks": "",
            "zerolinecolor": "white"
           },
           "yaxis": {
            "backgroundcolor": "#E5ECF6",
            "gridcolor": "white",
            "gridwidth": 2,
            "linecolor": "white",
            "showbackground": true,
            "ticks": "",
            "zerolinecolor": "white"
           },
           "zaxis": {
            "backgroundcolor": "#E5ECF6",
            "gridcolor": "white",
            "gridwidth": 2,
            "linecolor": "white",
            "showbackground": true,
            "ticks": "",
            "zerolinecolor": "white"
           }
          },
          "shapedefaults": {
           "line": {
            "color": "#2a3f5f"
           }
          },
          "ternary": {
           "aaxis": {
            "gridcolor": "white",
            "linecolor": "white",
            "ticks": ""
           },
           "baxis": {
            "gridcolor": "white",
            "linecolor": "white",
            "ticks": ""
           },
           "bgcolor": "#E5ECF6",
           "caxis": {
            "gridcolor": "white",
            "linecolor": "white",
            "ticks": ""
           }
          },
          "title": {
           "x": 0.05
          },
          "xaxis": {
           "automargin": true,
           "gridcolor": "white",
           "linecolor": "white",
           "ticks": "",
           "title": {
            "standoff": 15
           },
           "zerolinecolor": "white",
           "zerolinewidth": 2
          },
          "yaxis": {
           "automargin": true,
           "gridcolor": "white",
           "linecolor": "white",
           "ticks": "",
           "title": {
            "standoff": 15
           },
           "zerolinecolor": "white",
           "zerolinewidth": 2
          }
         }
        },
        "xaxis": {
         "anchor": "y",
         "domain": [
          0,
          1
         ],
         "title": {
          "text": "x"
         }
        },
        "yaxis": {
         "anchor": "x",
         "domain": [
          0,
          1
         ],
         "title": {
          "text": "y"
         }
        }
       }
      },
      "text/html": [
       "<div>                            <div id=\"e6cd4e98-1cc6-4c50-b41e-a21e65d28c76\" class=\"plotly-graph-div\" style=\"height:525px; width:100%;\"></div>            <script type=\"text/javascript\">                require([\"plotly\"], function(Plotly) {                    window.PLOTLYENV=window.PLOTLYENV || {};                                    if (document.getElementById(\"e6cd4e98-1cc6-4c50-b41e-a21e65d28c76\")) {                    Plotly.newPlot(                        \"e6cd4e98-1cc6-4c50-b41e-a21e65d28c76\",                        [{\"hovertemplate\":\"color=BMW<br>x=%{x}<br>y=%{y}<extra></extra>\",\"legendgroup\":\"BMW\",\"marker\":{\"color\":\"#636efa\",\"symbol\":\"circle\"},\"mode\":\"markers\",\"name\":\"BMW\",\"orientation\":\"v\",\"showlegend\":true,\"x\":[0.8237252513966481],\"xaxis\":\"x\",\"y\":[0.2281801576872536],\"yaxis\":\"y\",\"type\":\"scatter\"},{\"hovertemplate\":\"color=Audi<br>x=%{x}<br>y=%{y}<extra></extra>\",\"legendgroup\":\"Audi\",\"marker\":{\"color\":\"#EF553B\",\"symbol\":\"circle\"},\"mode\":\"markers\",\"name\":\"Audi\",\"orientation\":\"v\",\"showlegend\":true,\"x\":[0.803790157480315],\"xaxis\":\"x\",\"y\":[0.30930198700802447],\"yaxis\":\"y\",\"type\":\"scatter\"},{\"hovertemplate\":\"color=Volkswagen<br>x=%{x}<br>y=%{y}<extra></extra>\",\"legendgroup\":\"Volkswagen\",\"marker\":{\"color\":\"#00cc96\",\"symbol\":\"circle\"},\"mode\":\"markers\",\"name\":\"Volkswagen\",\"orientation\":\"v\",\"showlegend\":true,\"x\":[0.7835443779904306],\"xaxis\":\"x\",\"y\":[0.1748342712177122],\"yaxis\":\"y\",\"type\":\"scatter\"},{\"hovertemplate\":\"color=Renault<br>x=%{x}<br>y=%{y}<extra></extra>\",\"legendgroup\":\"Renault\",\"marker\":{\"color\":\"#ab63fa\",\"symbol\":\"circle\"},\"mode\":\"markers\",\"name\":\"Renault\",\"orientation\":\"v\",\"showlegend\":true,\"x\":[0.8362799027552674],\"xaxis\":\"x\",\"y\":[0.1856915857605178],\"yaxis\":\"y\",\"type\":\"scatter\"},{\"hovertemplate\":\"color=Fiat<br>x=%{x}<br>y=%{y}<extra></extra>\",\"legendgroup\":\"Fiat\",\"marker\":{\"color\":\"#FFA15A\",\"symbol\":\"circle\"},\"mode\":\"markers\",\"name\":\"Fiat\",\"orientation\":\"v\",\"showlegend\":true,\"x\":[0.82570395256917],\"xaxis\":\"x\",\"y\":[0.18134893832153692],\"yaxis\":\"y\",\"type\":\"scatter\"},{\"hovertemplate\":\"color=Ferrari<br>x=%{x}<br>y=%{y}<extra></extra>\",\"legendgroup\":\"Ferrari\",\"marker\":{\"color\":\"#19d3f3\",\"symbol\":\"circle\"},\"mode\":\"markers\",\"name\":\"Ferrari\",\"orientation\":\"v\",\"showlegend\":true,\"x\":[0.7422345679012345],\"xaxis\":\"x\",\"y\":[0.16871033434650456],\"yaxis\":\"y\",\"type\":\"scatter\"},{\"hovertemplate\":\"color=Lamborghini<br>x=%{x}<br>y=%{y}<extra></extra>\",\"legendgroup\":\"Lamborghini\",\"marker\":{\"color\":\"#FF6692\",\"symbol\":\"circle\"},\"mode\":\"markers\",\"name\":\"Lamborghini\",\"orientation\":\"v\",\"showlegend\":true,\"x\":[0.44668166666666675],\"xaxis\":\"x\",\"y\":[0.24955221148957807],\"yaxis\":\"y\",\"type\":\"scatter\"},{\"hovertemplate\":\"color=Hyundai<br>x=%{x}<br>y=%{y}<extra></extra>\",\"legendgroup\":\"Hyundai\",\"marker\":{\"color\":\"#B6E880\",\"symbol\":\"circle\"},\"mode\":\"markers\",\"name\":\"Hyundai\",\"orientation\":\"v\",\"showlegend\":true,\"x\":[0.8406591414944355],\"xaxis\":\"x\",\"y\":[0.19249206134415878],\"yaxis\":\"y\",\"type\":\"scatter\"},{\"hovertemplate\":\"color=Peugeot<br>x=%{x}<br>y=%{y}<extra></extra>\",\"legendgroup\":\"Peugeot\",\"marker\":{\"color\":\"#FF97FF\",\"symbol\":\"circle\"},\"mode\":\"markers\",\"name\":\"Peugeot\",\"orientation\":\"v\",\"showlegend\":true,\"x\":[0.7446880952380952],\"xaxis\":\"x\",\"y\":[0.1856633426966292],\"yaxis\":\"y\",\"type\":\"scatter\"},{\"hovertemplate\":\"color=Ford<br>x=%{x}<br>y=%{y}<extra></extra>\",\"legendgroup\":\"Ford\",\"marker\":{\"color\":\"#FECB52\",\"symbol\":\"circle\"},\"mode\":\"markers\",\"name\":\"Ford\",\"orientation\":\"v\",\"showlegend\":true,\"x\":[0.8775958783120706],\"xaxis\":\"x\",\"y\":[0.15438563492063492],\"yaxis\":\"y\",\"type\":\"scatter\"}],                        {\"template\":{\"data\":{\"bar\":[{\"error_x\":{\"color\":\"#2a3f5f\"},\"error_y\":{\"color\":\"#2a3f5f\"},\"marker\":{\"line\":{\"color\":\"#E5ECF6\",\"width\":0.5},\"pattern\":{\"fillmode\":\"overlay\",\"size\":10,\"solidity\":0.2}},\"type\":\"bar\"}],\"barpolar\":[{\"marker\":{\"line\":{\"color\":\"#E5ECF6\",\"width\":0.5},\"pattern\":{\"fillmode\":\"overlay\",\"size\":10,\"solidity\":0.2}},\"type\":\"barpolar\"}],\"carpet\":[{\"aaxis\":{\"endlinecolor\":\"#2a3f5f\",\"gridcolor\":\"white\",\"linecolor\":\"white\",\"minorgridcolor\":\"white\",\"startlinecolor\":\"#2a3f5f\"},\"baxis\":{\"endlinecolor\":\"#2a3f5f\",\"gridcolor\":\"white\",\"linecolor\":\"white\",\"minorgridcolor\":\"white\",\"startlinecolor\":\"#2a3f5f\"},\"type\":\"carpet\"}],\"choropleth\":[{\"colorbar\":{\"outlinewidth\":0,\"ticks\":\"\"},\"type\":\"choropleth\"}],\"contour\":[{\"colorbar\":{\"outlinewidth\":0,\"ticks\":\"\"},\"colorscale\":[[0.0,\"#0d0887\"],[0.1111111111111111,\"#46039f\"],[0.2222222222222222,\"#7201a8\"],[0.3333333333333333,\"#9c179e\"],[0.4444444444444444,\"#bd3786\"],[0.5555555555555556,\"#d8576b\"],[0.6666666666666666,\"#ed7953\"],[0.7777777777777778,\"#fb9f3a\"],[0.8888888888888888,\"#fdca26\"],[1.0,\"#f0f921\"]],\"type\":\"contour\"}],\"contourcarpet\":[{\"colorbar\":{\"outlinewidth\":0,\"ticks\":\"\"},\"type\":\"contourcarpet\"}],\"heatmap\":[{\"colorbar\":{\"outlinewidth\":0,\"ticks\":\"\"},\"colorscale\":[[0.0,\"#0d0887\"],[0.1111111111111111,\"#46039f\"],[0.2222222222222222,\"#7201a8\"],[0.3333333333333333,\"#9c179e\"],[0.4444444444444444,\"#bd3786\"],[0.5555555555555556,\"#d8576b\"],[0.6666666666666666,\"#ed7953\"],[0.7777777777777778,\"#fb9f3a\"],[0.8888888888888888,\"#fdca26\"],[1.0,\"#f0f921\"]],\"type\":\"heatmap\"}],\"heatmapgl\":[{\"colorbar\":{\"outlinewidth\":0,\"ticks\":\"\"},\"colorscale\":[[0.0,\"#0d0887\"],[0.1111111111111111,\"#46039f\"],[0.2222222222222222,\"#7201a8\"],[0.3333333333333333,\"#9c179e\"],[0.4444444444444444,\"#bd3786\"],[0.5555555555555556,\"#d8576b\"],[0.6666666666666666,\"#ed7953\"],[0.7777777777777778,\"#fb9f3a\"],[0.8888888888888888,\"#fdca26\"],[1.0,\"#f0f921\"]],\"type\":\"heatmapgl\"}],\"histogram\":[{\"marker\":{\"pattern\":{\"fillmode\":\"overlay\",\"size\":10,\"solidity\":0.2}},\"type\":\"histogram\"}],\"histogram2d\":[{\"colorbar\":{\"outlinewidth\":0,\"ticks\":\"\"},\"colorscale\":[[0.0,\"#0d0887\"],[0.1111111111111111,\"#46039f\"],[0.2222222222222222,\"#7201a8\"],[0.3333333333333333,\"#9c179e\"],[0.4444444444444444,\"#bd3786\"],[0.5555555555555556,\"#d8576b\"],[0.6666666666666666,\"#ed7953\"],[0.7777777777777778,\"#fb9f3a\"],[0.8888888888888888,\"#fdca26\"],[1.0,\"#f0f921\"]],\"type\":\"histogram2d\"}],\"histogram2dcontour\":[{\"colorbar\":{\"outlinewidth\":0,\"ticks\":\"\"},\"colorscale\":[[0.0,\"#0d0887\"],[0.1111111111111111,\"#46039f\"],[0.2222222222222222,\"#7201a8\"],[0.3333333333333333,\"#9c179e\"],[0.4444444444444444,\"#bd3786\"],[0.5555555555555556,\"#d8576b\"],[0.6666666666666666,\"#ed7953\"],[0.7777777777777778,\"#fb9f3a\"],[0.8888888888888888,\"#fdca26\"],[1.0,\"#f0f921\"]],\"type\":\"histogram2dcontour\"}],\"mesh3d\":[{\"colorbar\":{\"outlinewidth\":0,\"ticks\":\"\"},\"type\":\"mesh3d\"}],\"parcoords\":[{\"line\":{\"colorbar\":{\"outlinewidth\":0,\"ticks\":\"\"}},\"type\":\"parcoords\"}],\"pie\":[{\"automargin\":true,\"type\":\"pie\"}],\"scatter\":[{\"marker\":{\"colorbar\":{\"outlinewidth\":0,\"ticks\":\"\"}},\"type\":\"scatter\"}],\"scatter3d\":[{\"line\":{\"colorbar\":{\"outlinewidth\":0,\"ticks\":\"\"}},\"marker\":{\"colorbar\":{\"outlinewidth\":0,\"ticks\":\"\"}},\"type\":\"scatter3d\"}],\"scattercarpet\":[{\"marker\":{\"colorbar\":{\"outlinewidth\":0,\"ticks\":\"\"}},\"type\":\"scattercarpet\"}],\"scattergeo\":[{\"marker\":{\"colorbar\":{\"outlinewidth\":0,\"ticks\":\"\"}},\"type\":\"scattergeo\"}],\"scattergl\":[{\"marker\":{\"colorbar\":{\"outlinewidth\":0,\"ticks\":\"\"}},\"type\":\"scattergl\"}],\"scattermapbox\":[{\"marker\":{\"colorbar\":{\"outlinewidth\":0,\"ticks\":\"\"}},\"type\":\"scattermapbox\"}],\"scatterpolar\":[{\"marker\":{\"colorbar\":{\"outlinewidth\":0,\"ticks\":\"\"}},\"type\":\"scatterpolar\"}],\"scatterpolargl\":[{\"marker\":{\"colorbar\":{\"outlinewidth\":0,\"ticks\":\"\"}},\"type\":\"scatterpolargl\"}],\"scatterternary\":[{\"marker\":{\"colorbar\":{\"outlinewidth\":0,\"ticks\":\"\"}},\"type\":\"scatterternary\"}],\"surface\":[{\"colorbar\":{\"outlinewidth\":0,\"ticks\":\"\"},\"colorscale\":[[0.0,\"#0d0887\"],[0.1111111111111111,\"#46039f\"],[0.2222222222222222,\"#7201a8\"],[0.3333333333333333,\"#9c179e\"],[0.4444444444444444,\"#bd3786\"],[0.5555555555555556,\"#d8576b\"],[0.6666666666666666,\"#ed7953\"],[0.7777777777777778,\"#fb9f3a\"],[0.8888888888888888,\"#fdca26\"],[1.0,\"#f0f921\"]],\"type\":\"surface\"}],\"table\":[{\"cells\":{\"fill\":{\"color\":\"#EBF0F8\"},\"line\":{\"color\":\"white\"}},\"header\":{\"fill\":{\"color\":\"#C8D4E3\"},\"line\":{\"color\":\"white\"}},\"type\":\"table\"}]},\"layout\":{\"annotationdefaults\":{\"arrowcolor\":\"#2a3f5f\",\"arrowhead\":0,\"arrowwidth\":1},\"autotypenumbers\":\"strict\",\"coloraxis\":{\"colorbar\":{\"outlinewidth\":0,\"ticks\":\"\"}},\"colorscale\":{\"diverging\":[[0,\"#8e0152\"],[0.1,\"#c51b7d\"],[0.2,\"#de77ae\"],[0.3,\"#f1b6da\"],[0.4,\"#fde0ef\"],[0.5,\"#f7f7f7\"],[0.6,\"#e6f5d0\"],[0.7,\"#b8e186\"],[0.8,\"#7fbc41\"],[0.9,\"#4d9221\"],[1,\"#276419\"]],\"sequential\":[[0.0,\"#0d0887\"],[0.1111111111111111,\"#46039f\"],[0.2222222222222222,\"#7201a8\"],[0.3333333333333333,\"#9c179e\"],[0.4444444444444444,\"#bd3786\"],[0.5555555555555556,\"#d8576b\"],[0.6666666666666666,\"#ed7953\"],[0.7777777777777778,\"#fb9f3a\"],[0.8888888888888888,\"#fdca26\"],[1.0,\"#f0f921\"]],\"sequentialminus\":[[0.0,\"#0d0887\"],[0.1111111111111111,\"#46039f\"],[0.2222222222222222,\"#7201a8\"],[0.3333333333333333,\"#9c179e\"],[0.4444444444444444,\"#bd3786\"],[0.5555555555555556,\"#d8576b\"],[0.6666666666666666,\"#ed7953\"],[0.7777777777777778,\"#fb9f3a\"],[0.8888888888888888,\"#fdca26\"],[1.0,\"#f0f921\"]]},\"colorway\":[\"#636efa\",\"#EF553B\",\"#00cc96\",\"#ab63fa\",\"#FFA15A\",\"#19d3f3\",\"#FF6692\",\"#B6E880\",\"#FF97FF\",\"#FECB52\"],\"font\":{\"color\":\"#2a3f5f\"},\"geo\":{\"bgcolor\":\"white\",\"lakecolor\":\"white\",\"landcolor\":\"#E5ECF6\",\"showlakes\":true,\"showland\":true,\"subunitcolor\":\"white\"},\"hoverlabel\":{\"align\":\"left\"},\"hovermode\":\"closest\",\"mapbox\":{\"style\":\"light\"},\"paper_bgcolor\":\"white\",\"plot_bgcolor\":\"#E5ECF6\",\"polar\":{\"angularaxis\":{\"gridcolor\":\"white\",\"linecolor\":\"white\",\"ticks\":\"\"},\"bgcolor\":\"#E5ECF6\",\"radialaxis\":{\"gridcolor\":\"white\",\"linecolor\":\"white\",\"ticks\":\"\"}},\"scene\":{\"xaxis\":{\"backgroundcolor\":\"#E5ECF6\",\"gridcolor\":\"white\",\"gridwidth\":2,\"linecolor\":\"white\",\"showbackground\":true,\"ticks\":\"\",\"zerolinecolor\":\"white\"},\"yaxis\":{\"backgroundcolor\":\"#E5ECF6\",\"gridcolor\":\"white\",\"gridwidth\":2,\"linecolor\":\"white\",\"showbackground\":true,\"ticks\":\"\",\"zerolinecolor\":\"white\"},\"zaxis\":{\"backgroundcolor\":\"#E5ECF6\",\"gridcolor\":\"white\",\"gridwidth\":2,\"linecolor\":\"white\",\"showbackground\":true,\"ticks\":\"\",\"zerolinecolor\":\"white\"}},\"shapedefaults\":{\"line\":{\"color\":\"#2a3f5f\"}},\"ternary\":{\"aaxis\":{\"gridcolor\":\"white\",\"linecolor\":\"white\",\"ticks\":\"\"},\"baxis\":{\"gridcolor\":\"white\",\"linecolor\":\"white\",\"ticks\":\"\"},\"bgcolor\":\"#E5ECF6\",\"caxis\":{\"gridcolor\":\"white\",\"linecolor\":\"white\",\"ticks\":\"\"}},\"title\":{\"x\":0.05},\"xaxis\":{\"automargin\":true,\"gridcolor\":\"white\",\"linecolor\":\"white\",\"ticks\":\"\",\"title\":{\"standoff\":15},\"zerolinecolor\":\"white\",\"zerolinewidth\":2},\"yaxis\":{\"automargin\":true,\"gridcolor\":\"white\",\"linecolor\":\"white\",\"ticks\":\"\",\"title\":{\"standoff\":15},\"zerolinecolor\":\"white\",\"zerolinewidth\":2}}},\"xaxis\":{\"anchor\":\"y\",\"domain\":[0.0,1.0],\"title\":{\"text\":\"x\"}},\"yaxis\":{\"anchor\":\"x\",\"domain\":[0.0,1.0],\"title\":{\"text\":\"y\"}},\"legend\":{\"title\":{\"text\":\"color\"},\"tracegroupgap\":0},\"margin\":{\"t\":60}},                        {\"responsive\": true}                    ).then(function(){\n",
       "                            \n",
       "var gd = document.getElementById('e6cd4e98-1cc6-4c50-b41e-a21e65d28c76');\n",
       "var x = new MutationObserver(function (mutations, observer) {{\n",
       "        var display = window.getComputedStyle(gd).display;\n",
       "        if (!display || display === 'none') {{\n",
       "            console.log([gd, 'removed!']);\n",
       "            Plotly.purge(gd);\n",
       "            observer.disconnect();\n",
       "        }}\n",
       "}});\n",
       "\n",
       "// Listen for the removal of the full notebook cells\n",
       "var notebookContainer = gd.closest('#notebook-container');\n",
       "if (notebookContainer) {{\n",
       "    x.observe(notebookContainer, {childList: true});\n",
       "}}\n",
       "\n",
       "// Listen for the clearing of the current output cell\n",
       "var outputEl = gd.closest('.output');\n",
       "if (outputEl) {{\n",
       "    x.observe(outputEl, {childList: true});\n",
       "}}\n",
       "\n",
       "                        })                };                });            </script>        </div>"
      ]
     },
     "metadata": {},
     "output_type": "display_data"
    }
   ],
   "source": [
    "import plotly.express as px\n",
    "fig = px.scatter(x=car_brands_vader_df['price_score'], y=car_brands_vader_df[\"quality_score\"],\n",
    "                 color=car_brands_vader_df.brand)\n",
    "fig.show()"
   ]
  }
 ],
 "metadata": {
  "kernelspec": {
   "display_name": "ironhack",
   "language": "python",
   "name": "myenv"
  },
  "language_info": {
   "codemirror_mode": {
    "name": "ipython",
    "version": 3
   },
   "file_extension": ".py",
   "mimetype": "text/x-python",
   "name": "python",
   "nbconvert_exporter": "python",
   "pygments_lexer": "ipython3",
   "version": "3.8.5"
  }
 },
 "nbformat": 4,
 "nbformat_minor": 5
}
