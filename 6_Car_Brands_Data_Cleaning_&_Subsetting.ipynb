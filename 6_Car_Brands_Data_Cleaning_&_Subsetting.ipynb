{
 "cells": [
  {
   "cell_type": "markdown",
   "id": "edad14ee",
   "metadata": {},
   "source": [
    "# Data Cleaning."
   ]
  },
  {
   "cell_type": "code",
   "execution_count": 1,
   "id": "18585166",
   "metadata": {},
   "outputs": [],
   "source": [
    "import pandas as pd\n",
    "\n",
    "from src.cleaning_functions import *\n",
    "\n",
    "from src.text_functions import *"
   ]
  },
  {
   "cell_type": "markdown",
   "id": "712a3326",
   "metadata": {},
   "source": [
    "**ÍNDICE:**\n",
    "1. BMW data.\n",
    "    - Exploración inicial de los datos.\n",
    "    - Hashtags.\n",
    "    - Preparing Data.\n",
    "    - Subsets.\n",
    "\n",
    "\n",
    "\n",
    "2. Audi data.\n",
    "    - Exploración inicial de los datos.\n",
    "    - Hashtags.\n",
    "    - Preparing Data.\n",
    "    - Subsets.\n",
    "\n",
    "\n",
    "\n",
    "3. Volkswagen data.\n",
    "    - Exploración inicial de los datos.\n",
    "    - Hashtags.\n",
    "    - Preparing Data.\n",
    "    - Subsets.\n",
    "\n",
    "\n",
    "\n",
    "4. Renault data.\n",
    "    - Exploración inicial de los datos.\n",
    "    - Hashtags.\n",
    "    - Preparing Data.\n",
    "    - Subsets.\n",
    "\n",
    "\n",
    "\n",
    "5. Fiat data.\n",
    "    - Exploración inicial de los datos.\n",
    "    - Hashtags.\n",
    "    - Preparing Data.\n",
    "    - Subsets.\n",
    "\n",
    "\n",
    "\n",
    "6. Ferrari data.\n",
    "    - Exploración inicial de los datos.\n",
    "    - Hashtags.\n",
    "    - Preparing Data.\n",
    "    - Subsets.\n",
    "\n",
    "\n",
    "\n",
    "7. Lamborghini data.\n",
    "    - Exploración inicial de los datos.\n",
    "    - Hashtags.\n",
    "    - Preparing Data.\n",
    "    - Subsets.\n",
    "\n",
    "\n",
    "\n",
    "8. Hyundai data.\n",
    "    - Exploración inicial de los datos.\n",
    "    - Hashtags.\n",
    "    - Preparing Data.\n",
    "    - Subsets.\n",
    "    \n",
    "    \n",
    "\n",
    "9. Peugeot data.\n",
    "    - Exploración inicial de los datos.\n",
    "    - Hashtags.\n",
    "    - Preparing Data.\n",
    "    - Subsets.\n",
    "\n",
    "\n",
    "\n",
    "10. Ford data.\n",
    "    - Exploración inicial de los datos.\n",
    "    - Hashtags.\n",
    "    - Preparing Data.\n",
    "    - Subsets.\n",
    "\n",
    "\n",
    "\n",
    "11. Dataset Completo.\n"
   ]
  },
  {
   "cell_type": "markdown",
   "id": "43920d5b",
   "metadata": {},
   "source": [
    "## BMW data."
   ]
  },
  {
   "cell_type": "code",
   "execution_count": 2,
   "id": "384c744a",
   "metadata": {},
   "outputs": [],
   "source": [
    "bmw = pd.read_csv('data/bmw.csv')"
   ]
  },
  {
   "cell_type": "code",
   "execution_count": 3,
   "id": "4c930aae",
   "metadata": {},
   "outputs": [],
   "source": [
    "bmw_tw = pd.DataFrame(bmw.text)"
   ]
  },
  {
   "cell_type": "markdown",
   "id": "87a1f765",
   "metadata": {},
   "source": [
    "### Exploración inicial de los datos:"
   ]
  },
  {
   "cell_type": "code",
   "execution_count": 4,
   "id": "d7211625",
   "metadata": {},
   "outputs": [
    {
     "data": {
      "text/plain": [
       "(5090, 1)"
      ]
     },
     "execution_count": 4,
     "metadata": {},
     "output_type": "execute_result"
    }
   ],
   "source": [
    "bmw_tw.shape"
   ]
  },
  {
   "cell_type": "code",
   "execution_count": 5,
   "id": "f1d76a57",
   "metadata": {},
   "outputs": [
    {
     "name": "stdout",
     "output_type": "stream",
     "text": [
      "<class 'pandas.core.frame.DataFrame'>\n",
      "RangeIndex: 5090 entries, 0 to 5089\n",
      "Data columns (total 1 columns):\n",
      " #   Column  Non-Null Count  Dtype \n",
      "---  ------  --------------  ----- \n",
      " 0   text    5090 non-null   object\n",
      "dtypes: object(1)\n",
      "memory usage: 39.9+ KB\n"
     ]
    }
   ],
   "source": [
    "bmw_tw.info()"
   ]
  },
  {
   "cell_type": "code",
   "execution_count": 6,
   "id": "eb835bec",
   "metadata": {},
   "outputs": [
    {
     "data": {
      "text/html": [
       "<div>\n",
       "<style scoped>\n",
       "    .dataframe tbody tr th:only-of-type {\n",
       "        vertical-align: middle;\n",
       "    }\n",
       "\n",
       "    .dataframe tbody tr th {\n",
       "        vertical-align: top;\n",
       "    }\n",
       "\n",
       "    .dataframe thead th {\n",
       "        text-align: right;\n",
       "    }\n",
       "</style>\n",
       "<table border=\"1\" class=\"dataframe\">\n",
       "  <thead>\n",
       "    <tr style=\"text-align: right;\">\n",
       "      <th></th>\n",
       "      <th>text</th>\n",
       "    </tr>\n",
       "  </thead>\n",
       "  <tbody>\n",
       "    <tr>\n",
       "      <th>count</th>\n",
       "      <td>5090</td>\n",
       "    </tr>\n",
       "    <tr>\n",
       "      <th>unique</th>\n",
       "      <td>5066</td>\n",
       "    </tr>\n",
       "    <tr>\n",
       "      <th>top</th>\n",
       "      <td>@PowerPixelNFTs Buy one of our NFTs and get th...</td>\n",
       "    </tr>\n",
       "    <tr>\n",
       "      <th>freq</th>\n",
       "      <td>9</td>\n",
       "    </tr>\n",
       "  </tbody>\n",
       "</table>\n",
       "</div>"
      ],
      "text/plain": [
       "                                                     text\n",
       "count                                                5090\n",
       "unique                                               5066\n",
       "top     @PowerPixelNFTs Buy one of our NFTs and get th...\n",
       "freq                                                    9"
      ]
     },
     "execution_count": 6,
     "metadata": {},
     "output_type": "execute_result"
    }
   ],
   "source": [
    "bmw_tw.describe()"
   ]
  },
  {
   "cell_type": "code",
   "execution_count": 7,
   "id": "206fff28",
   "metadata": {},
   "outputs": [
    {
     "data": {
      "text/plain": [
       "text    0\n",
       "dtype: int64"
      ]
     },
     "execution_count": 7,
     "metadata": {},
     "output_type": "execute_result"
    }
   ],
   "source": [
    "bmw_tw.isnull().sum()  # No existen nulos."
   ]
  },
  {
   "cell_type": "code",
   "execution_count": 8,
   "id": "9e2c75e1",
   "metadata": {},
   "outputs": [
    {
     "data": {
      "text/plain": [
       "24"
      ]
     },
     "execution_count": 8,
     "metadata": {},
     "output_type": "execute_result"
    }
   ],
   "source": [
    "bmw_tw.duplicated().sum() # Encontramos 24 valores duplicados."
   ]
  },
  {
   "cell_type": "code",
   "execution_count": 9,
   "id": "025e9811",
   "metadata": {},
   "outputs": [],
   "source": [
    "drop_duplicates(bmw_tw) # Eliminamos los valores duplicados."
   ]
  },
  {
   "cell_type": "code",
   "execution_count": 10,
   "id": "a022853e",
   "metadata": {},
   "outputs": [
    {
     "data": {
      "text/plain": [
       "(5066, 1)"
      ]
     },
     "execution_count": 10,
     "metadata": {},
     "output_type": "execute_result"
    }
   ],
   "source": [
    "bmw_tw.shape"
   ]
  },
  {
   "cell_type": "markdown",
   "id": "02c8c2f9",
   "metadata": {},
   "source": [
    "### Hashtags."
   ]
  },
  {
   "cell_type": "markdown",
   "id": "804cb19a",
   "metadata": {},
   "source": [
    "Queremos extraer los hastags de los tweets y almacenarlos en una nueva columna del DataFrame. Esto nos permitirá llevar a cabo un análisis específico de los hashtags una vez hecho el análisis del sentimiento de los tweets, relacionando el sentimiento con los hashtags utilizados en el tweet.\n",
    "\n",
    "*Posibles aplicaciones de este análisis:*\n",
    "- *Análisis del sentimiento de la conversación en torno a un hashtag específico (nos permite analizar la percepción acerca de una campaña online, un evento en directo o similares).*\n",
    "\n",
    "\n",
    "- *Ranking de hashtags con mayor sentimiento positivo o negativo.*\n",
    "\n",
    "\n",
    "- *Análisis de utilización de hashtags: podemos analizar elementos más básicos como los hashtags más frecuentes o incluso cruzarlo con otros datos extraídos (datetime de publicación, usuarios que publican el tweet...) para llegar a conclusiones relevantes.*"
   ]
  },
  {
   "cell_type": "code",
   "execution_count": 11,
   "id": "23f76ea2",
   "metadata": {},
   "outputs": [],
   "source": [
    "bmw_tw['hashtags'] = bmw_tw.text.apply(extract_hashtags)"
   ]
  },
  {
   "cell_type": "code",
   "execution_count": 12,
   "id": "6181e670",
   "metadata": {
    "scrolled": true
   },
   "outputs": [
    {
     "data": {
      "text/html": [
       "<div>\n",
       "<style scoped>\n",
       "    .dataframe tbody tr th:only-of-type {\n",
       "        vertical-align: middle;\n",
       "    }\n",
       "\n",
       "    .dataframe tbody tr th {\n",
       "        vertical-align: top;\n",
       "    }\n",
       "\n",
       "    .dataframe thead th {\n",
       "        text-align: right;\n",
       "    }\n",
       "</style>\n",
       "<table border=\"1\" class=\"dataframe\">\n",
       "  <thead>\n",
       "    <tr style=\"text-align: right;\">\n",
       "      <th></th>\n",
       "      <th>text</th>\n",
       "      <th>hashtags</th>\n",
       "    </tr>\n",
       "  </thead>\n",
       "  <tbody>\n",
       "    <tr>\n",
       "      <th>0</th>\n",
       "      <td>@EternityWalker @AnneGreen545 I was told by bm...</td>\n",
       "      <td>[]</td>\n",
       "    </tr>\n",
       "    <tr>\n",
       "      <th>1</th>\n",
       "      <td>A new listing for BMW E28 M5 engine has been p...</td>\n",
       "      <td>[]</td>\n",
       "    </tr>\n",
       "    <tr>\n",
       "      <th>2</th>\n",
       "      <td>@TheBishF1 He only led a few hundert meters at...</td>\n",
       "      <td>[]</td>\n",
       "    </tr>\n",
       "    <tr>\n",
       "      <th>3</th>\n",
       "      <td>@StyleLatvia @markito0171 Russians making \"BMW...</td>\n",
       "      <td>[]</td>\n",
       "    </tr>\n",
       "    <tr>\n",
       "      <th>4</th>\n",
       "      <td>does anyone want to hati? will just get doyoun...</td>\n",
       "      <td>[]</td>\n",
       "    </tr>\n",
       "  </tbody>\n",
       "</table>\n",
       "</div>"
      ],
      "text/plain": [
       "                                                text hashtags\n",
       "0  @EternityWalker @AnneGreen545 I was told by bm...       []\n",
       "1  A new listing for BMW E28 M5 engine has been p...       []\n",
       "2  @TheBishF1 He only led a few hundert meters at...       []\n",
       "3  @StyleLatvia @markito0171 Russians making \"BMW...       []\n",
       "4  does anyone want to hati? will just get doyoun...       []"
      ]
     },
     "execution_count": 12,
     "metadata": {},
     "output_type": "execute_result"
    }
   ],
   "source": [
    "bmw_tw.head()"
   ]
  },
  {
   "cell_type": "markdown",
   "id": "fc982f89",
   "metadata": {},
   "source": [
    "### Preparing Data."
   ]
  },
  {
   "cell_type": "markdown",
   "id": "e47aa934",
   "metadata": {},
   "source": [
    "**Limpieza básica:**\n",
    "- Pasamos todo a minúsculas.\n",
    "- Eliminamos usuarios ('@ + user' ya que en principio el nombre de los usuarios no aporta información relevante para el modelo).\n",
    "- Eliminamos urls.\n",
    "- Convertimos dígitos a números escritos.\n",
    "- Convertimos $ en 'dollars' y € en 'euros.\n",
    "- Eliminamos valores no alfabéticos: # (aunque manteniendo el texto que viene después ya que puede contener información relevante), signos de puntuación...\n",
    "\n",
    "Esta limpieza se ejecutará a través de nuestra función `basic_cleaning()`."
   ]
  },
  {
   "cell_type": "code",
   "execution_count": 13,
   "id": "cfd2dd77",
   "metadata": {},
   "outputs": [
    {
     "data": {
      "text/html": [
       "<div>\n",
       "<style scoped>\n",
       "    .dataframe tbody tr th:only-of-type {\n",
       "        vertical-align: middle;\n",
       "    }\n",
       "\n",
       "    .dataframe tbody tr th {\n",
       "        vertical-align: top;\n",
       "    }\n",
       "\n",
       "    .dataframe thead th {\n",
       "        text-align: right;\n",
       "    }\n",
       "</style>\n",
       "<table border=\"1\" class=\"dataframe\">\n",
       "  <thead>\n",
       "    <tr style=\"text-align: right;\">\n",
       "      <th></th>\n",
       "      <th>text</th>\n",
       "      <th>hashtags</th>\n",
       "    </tr>\n",
       "  </thead>\n",
       "  <tbody>\n",
       "    <tr>\n",
       "      <th>0</th>\n",
       "      <td>@EternityWalker @AnneGreen545 I was told by bm...</td>\n",
       "      <td>[]</td>\n",
       "    </tr>\n",
       "    <tr>\n",
       "      <th>1</th>\n",
       "      <td>A new listing for BMW E28 M5 engine has been p...</td>\n",
       "      <td>[]</td>\n",
       "    </tr>\n",
       "    <tr>\n",
       "      <th>2</th>\n",
       "      <td>@TheBishF1 He only led a few hundert meters at...</td>\n",
       "      <td>[]</td>\n",
       "    </tr>\n",
       "    <tr>\n",
       "      <th>3</th>\n",
       "      <td>@StyleLatvia @markito0171 Russians making \"BMW...</td>\n",
       "      <td>[]</td>\n",
       "    </tr>\n",
       "    <tr>\n",
       "      <th>4</th>\n",
       "      <td>does anyone want to hati? will just get doyoun...</td>\n",
       "      <td>[]</td>\n",
       "    </tr>\n",
       "  </tbody>\n",
       "</table>\n",
       "</div>"
      ],
      "text/plain": [
       "                                                text hashtags\n",
       "0  @EternityWalker @AnneGreen545 I was told by bm...       []\n",
       "1  A new listing for BMW E28 M5 engine has been p...       []\n",
       "2  @TheBishF1 He only led a few hundert meters at...       []\n",
       "3  @StyleLatvia @markito0171 Russians making \"BMW...       []\n",
       "4  does anyone want to hati? will just get doyoun...       []"
      ]
     },
     "execution_count": 13,
     "metadata": {},
     "output_type": "execute_result"
    }
   ],
   "source": [
    "bmw_tw.head()"
   ]
  },
  {
   "cell_type": "code",
   "execution_count": 14,
   "id": "91151b52",
   "metadata": {},
   "outputs": [],
   "source": [
    "bmw_tw['text'] = bmw_tw.text.apply(basic_cleaning)"
   ]
  },
  {
   "cell_type": "code",
   "execution_count": 15,
   "id": "bd42d861",
   "metadata": {},
   "outputs": [
    {
     "data": {
      "text/html": [
       "<div>\n",
       "<style scoped>\n",
       "    .dataframe tbody tr th:only-of-type {\n",
       "        vertical-align: middle;\n",
       "    }\n",
       "\n",
       "    .dataframe tbody tr th {\n",
       "        vertical-align: top;\n",
       "    }\n",
       "\n",
       "    .dataframe thead th {\n",
       "        text-align: right;\n",
       "    }\n",
       "</style>\n",
       "<table border=\"1\" class=\"dataframe\">\n",
       "  <thead>\n",
       "    <tr style=\"text-align: right;\">\n",
       "      <th></th>\n",
       "      <th>text</th>\n",
       "      <th>hashtags</th>\n",
       "    </tr>\n",
       "  </thead>\n",
       "  <tbody>\n",
       "    <tr>\n",
       "      <th>0</th>\n",
       "      <td>i was told by bmw you need to replace the batt...</td>\n",
       "      <td>[]</td>\n",
       "    </tr>\n",
       "    <tr>\n",
       "      <th>1</th>\n",
       "      <td>a new listing for bmw e two eight m five engin...</td>\n",
       "      <td>[]</td>\n",
       "    </tr>\n",
       "    <tr>\n",
       "      <th>2</th>\n",
       "      <td>he only led a few hundert meters at the austri...</td>\n",
       "      <td>[]</td>\n",
       "    </tr>\n",
       "    <tr>\n",
       "      <th>3</th>\n",
       "      <td>russians making bmw seeking missiles it s over...</td>\n",
       "      <td>[]</td>\n",
       "    </tr>\n",
       "    <tr>\n",
       "      <th>4</th>\n",
       "      <td>does anyone want to hati will just get doyoung...</td>\n",
       "      <td>[]</td>\n",
       "    </tr>\n",
       "  </tbody>\n",
       "</table>\n",
       "</div>"
      ],
      "text/plain": [
       "                                                text hashtags\n",
       "0  i was told by bmw you need to replace the batt...       []\n",
       "1  a new listing for bmw e two eight m five engin...       []\n",
       "2  he only led a few hundert meters at the austri...       []\n",
       "3  russians making bmw seeking missiles it s over...       []\n",
       "4  does anyone want to hati will just get doyoung...       []"
      ]
     },
     "execution_count": 15,
     "metadata": {},
     "output_type": "execute_result"
    }
   ],
   "source": [
    "bmw_tw.head()"
   ]
  },
  {
   "cell_type": "markdown",
   "id": "e84f57fb",
   "metadata": {},
   "source": [
    "### Subsets."
   ]
  },
  {
   "cell_type": "markdown",
   "id": "1e64ad14",
   "metadata": {},
   "source": [
    "En esta primera versión de la herramienta construiremos el mapa de posicionamiento en base a dos atributos de marca (variables): calidad y precio. Estos son los dos atributos básicos más utilizados de manera general en los mapas de posicionamiento (los mapas más sofisticados introducen ya otros atributos más específicos).\n",
    "\n",
    "Para poder completar el proceso de mapeo, lo primero que debemos hacer es dividir los datos (tweets recopilados) en dos subsets: los que hacen referencia al precio y los que hacen referencia a la calidad. Una vez subdivididos, ya podremos introducir los datos en el modelo NLP para evaluar el sentimiento en cada subset.\n",
    "\n",
    "La subdivisión nos permite diferenciar el sentimiento de los tweets que hablan del precio, del sentimiento en torno a la calidad general de la marca en cuestión. Esto es lo que haremos en esta etapa del proceso, en este caso sobre los tweets que mencionan a Nike."
   ]
  },
  {
   "cell_type": "markdown",
   "id": "401d7dd2",
   "metadata": {},
   "source": [
    "1. Generamos una nueva columna que recoge la temática del tweet (atributo al que hace refencia)."
   ]
  },
  {
   "cell_type": "code",
   "execution_count": 16,
   "id": "8fec865f",
   "metadata": {
    "scrolled": true
   },
   "outputs": [],
   "source": [
    "bmw_tw['brand_attribute'] = bmw_tw['text'].apply(data_groups)"
   ]
  },
  {
   "cell_type": "code",
   "execution_count": 17,
   "id": "3bda9ab0",
   "metadata": {
    "scrolled": false
   },
   "outputs": [
    {
     "data": {
      "text/html": [
       "<div>\n",
       "<style scoped>\n",
       "    .dataframe tbody tr th:only-of-type {\n",
       "        vertical-align: middle;\n",
       "    }\n",
       "\n",
       "    .dataframe tbody tr th {\n",
       "        vertical-align: top;\n",
       "    }\n",
       "\n",
       "    .dataframe thead th {\n",
       "        text-align: right;\n",
       "    }\n",
       "</style>\n",
       "<table border=\"1\" class=\"dataframe\">\n",
       "  <thead>\n",
       "    <tr style=\"text-align: right;\">\n",
       "      <th></th>\n",
       "      <th>text</th>\n",
       "      <th>hashtags</th>\n",
       "      <th>brand_attribute</th>\n",
       "    </tr>\n",
       "  </thead>\n",
       "  <tbody>\n",
       "    <tr>\n",
       "      <th>0</th>\n",
       "      <td>i was told by bmw you need to replace the batt...</td>\n",
       "      <td>[]</td>\n",
       "      <td>quality</td>\n",
       "    </tr>\n",
       "    <tr>\n",
       "      <th>1</th>\n",
       "      <td>a new listing for bmw e two eight m five engin...</td>\n",
       "      <td>[]</td>\n",
       "      <td>quality</td>\n",
       "    </tr>\n",
       "    <tr>\n",
       "      <th>2</th>\n",
       "      <td>he only led a few hundert meters at the austri...</td>\n",
       "      <td>[]</td>\n",
       "      <td>quality</td>\n",
       "    </tr>\n",
       "    <tr>\n",
       "      <th>3</th>\n",
       "      <td>russians making bmw seeking missiles it s over...</td>\n",
       "      <td>[]</td>\n",
       "      <td>quality</td>\n",
       "    </tr>\n",
       "    <tr>\n",
       "      <th>4</th>\n",
       "      <td>does anyone want to hati will just get doyoung...</td>\n",
       "      <td>[]</td>\n",
       "      <td>quality</td>\n",
       "    </tr>\n",
       "  </tbody>\n",
       "</table>\n",
       "</div>"
      ],
      "text/plain": [
       "                                                text hashtags brand_attribute\n",
       "0  i was told by bmw you need to replace the batt...       []         quality\n",
       "1  a new listing for bmw e two eight m five engin...       []         quality\n",
       "2  he only led a few hundert meters at the austri...       []         quality\n",
       "3  russians making bmw seeking missiles it s over...       []         quality\n",
       "4  does anyone want to hati will just get doyoung...       []         quality"
      ]
     },
     "execution_count": 17,
     "metadata": {},
     "output_type": "execute_result"
    }
   ],
   "source": [
    "bmw_tw.head()"
   ]
  },
  {
   "cell_type": "code",
   "execution_count": 18,
   "id": "22cdc7eb",
   "metadata": {},
   "outputs": [
    {
     "data": {
      "text/plain": [
       "quality    3833\n",
       "price      1233\n",
       "Name: brand_attribute, dtype: int64"
      ]
     },
     "execution_count": 18,
     "metadata": {},
     "output_type": "execute_result"
    }
   ],
   "source": [
    "bmw_tw.brand_attribute.value_counts()"
   ]
  },
  {
   "cell_type": "markdown",
   "id": "cd918668",
   "metadata": {},
   "source": [
    "2. Exportamos los subsets de Nike (uno de calidad y otro de precio).\n",
    "\n",
    "    2.1. Precio:"
   ]
  },
  {
   "cell_type": "code",
   "execution_count": 19,
   "id": "19a45ce3",
   "metadata": {},
   "outputs": [],
   "source": [
    "bmw_price = pd.DataFrame(bmw_tw.where(bmw_tw.brand_attribute=='price').dropna().drop('brand_attribute',axis=1))"
   ]
  },
  {
   "cell_type": "code",
   "execution_count": 20,
   "id": "60482ac5",
   "metadata": {},
   "outputs": [
    {
     "data": {
      "text/plain": [
       "text        0\n",
       "hashtags    0\n",
       "dtype: int64"
      ]
     },
     "execution_count": 20,
     "metadata": {},
     "output_type": "execute_result"
    }
   ],
   "source": [
    "bmw_price.isnull().sum()"
   ]
  },
  {
   "cell_type": "code",
   "execution_count": 21,
   "id": "f571054f",
   "metadata": {},
   "outputs": [
    {
     "data": {
      "text/plain": [
       "(1233, 2)"
      ]
     },
     "execution_count": 21,
     "metadata": {},
     "output_type": "execute_result"
    }
   ],
   "source": [
    "bmw_price.shape"
   ]
  },
  {
   "cell_type": "code",
   "execution_count": 22,
   "id": "c9677ea6",
   "metadata": {},
   "outputs": [],
   "source": [
    "# Exportamos el subset de precio.\n",
    "\n",
    "bmw_price.to_csv('data/bmw_price.csv', index = False)"
   ]
  },
  {
   "cell_type": "markdown",
   "id": "7432f842",
   "metadata": {},
   "source": [
    "    2.2. Calidad:"
   ]
  },
  {
   "cell_type": "code",
   "execution_count": 23,
   "id": "791ed112",
   "metadata": {},
   "outputs": [],
   "source": [
    "bmw_quality = pd.DataFrame(bmw_tw.where(bmw_tw.brand_attribute=='quality').dropna().drop('brand_attribute',axis=1))"
   ]
  },
  {
   "cell_type": "code",
   "execution_count": 24,
   "id": "1303d6d9",
   "metadata": {},
   "outputs": [
    {
     "data": {
      "text/plain": [
       "text        0\n",
       "hashtags    0\n",
       "dtype: int64"
      ]
     },
     "execution_count": 24,
     "metadata": {},
     "output_type": "execute_result"
    }
   ],
   "source": [
    "bmw_quality.isnull().sum()"
   ]
  },
  {
   "cell_type": "code",
   "execution_count": 25,
   "id": "aada5d0f",
   "metadata": {},
   "outputs": [
    {
     "data": {
      "text/plain": [
       "(3833, 2)"
      ]
     },
     "execution_count": 25,
     "metadata": {},
     "output_type": "execute_result"
    }
   ],
   "source": [
    "bmw_quality.shape"
   ]
  },
  {
   "cell_type": "code",
   "execution_count": 26,
   "id": "1be10651",
   "metadata": {},
   "outputs": [],
   "source": [
    "# Exportamos el subset de calidad.\n",
    "\n",
    "bmw_quality.to_csv('data/bmw_quality.csv', index = False)"
   ]
  },
  {
   "cell_type": "markdown",
   "id": "24869078",
   "metadata": {},
   "source": [
    "**Nota importante:**\n",
    "\n",
    "Aunque hemos exportado cada subset en archivos csv independientes (lo tenemos guardado de manera desagregada), en realidad trabajaremos con un único DataFrame que contenga todos los tweets analizados (los de todas las marcas y todos los atributos). En este DataFrame recogeremos en una columna la marca a la que hacen referencia y en otra columna el atributo al que se refieren (calidad y precio). Esto lo hacemos así porque nos permitirá agilizar mucho los procesos de visualización de resultados y obtener gráficos de mejor calidad (podremos filtrar en función de la marca y el atributo, al tiempo que manejamos un único DataFrame para mayor eficiencia)."
   ]
  },
  {
   "cell_type": "markdown",
   "id": "747a9b71",
   "metadata": {},
   "source": [
    "## Audi data."
   ]
  },
  {
   "cell_type": "code",
   "execution_count": 35,
   "id": "41cfa8b8",
   "metadata": {},
   "outputs": [],
   "source": [
    "audi = pd.read_pickle('data/audi.pkl')"
   ]
  },
  {
   "cell_type": "code",
   "execution_count": 36,
   "id": "c6213049",
   "metadata": {},
   "outputs": [],
   "source": [
    "audi_tw = pd.DataFrame(audi.text)"
   ]
  },
  {
   "cell_type": "markdown",
   "id": "19c558d6",
   "metadata": {},
   "source": [
    "### Exploración inicial de los datos:"
   ]
  },
  {
   "cell_type": "code",
   "execution_count": 37,
   "id": "0f2515e6",
   "metadata": {},
   "outputs": [
    {
     "data": {
      "text/plain": [
       "(5091, 1)"
      ]
     },
     "execution_count": 37,
     "metadata": {},
     "output_type": "execute_result"
    }
   ],
   "source": [
    "audi_tw.shape"
   ]
  },
  {
   "cell_type": "code",
   "execution_count": 38,
   "id": "01cf9e9d",
   "metadata": {},
   "outputs": [
    {
     "name": "stdout",
     "output_type": "stream",
     "text": [
      "<class 'pandas.core.frame.DataFrame'>\n",
      "RangeIndex: 5091 entries, 0 to 5090\n",
      "Data columns (total 1 columns):\n",
      " #   Column  Non-Null Count  Dtype \n",
      "---  ------  --------------  ----- \n",
      " 0   text    5091 non-null   object\n",
      "dtypes: object(1)\n",
      "memory usage: 39.9+ KB\n"
     ]
    }
   ],
   "source": [
    "audi_tw.info()"
   ]
  },
  {
   "cell_type": "code",
   "execution_count": 39,
   "id": "ed6461d3",
   "metadata": {},
   "outputs": [
    {
     "data": {
      "text/html": [
       "<div>\n",
       "<style scoped>\n",
       "    .dataframe tbody tr th:only-of-type {\n",
       "        vertical-align: middle;\n",
       "    }\n",
       "\n",
       "    .dataframe tbody tr th {\n",
       "        vertical-align: top;\n",
       "    }\n",
       "\n",
       "    .dataframe thead th {\n",
       "        text-align: right;\n",
       "    }\n",
       "</style>\n",
       "<table border=\"1\" class=\"dataframe\">\n",
       "  <thead>\n",
       "    <tr style=\"text-align: right;\">\n",
       "      <th></th>\n",
       "      <th>text</th>\n",
       "    </tr>\n",
       "  </thead>\n",
       "  <tbody>\n",
       "    <tr>\n",
       "      <th>count</th>\n",
       "      <td>5091</td>\n",
       "    </tr>\n",
       "    <tr>\n",
       "      <th>unique</th>\n",
       "      <td>5062</td>\n",
       "    </tr>\n",
       "    <tr>\n",
       "      <th>top</th>\n",
       "      <td>An Ohio woman’s Audi was stolen and returned w...</td>\n",
       "    </tr>\n",
       "    <tr>\n",
       "      <th>freq</th>\n",
       "      <td>6</td>\n",
       "    </tr>\n",
       "  </tbody>\n",
       "</table>\n",
       "</div>"
      ],
      "text/plain": [
       "                                                     text\n",
       "count                                                5091\n",
       "unique                                               5062\n",
       "top     An Ohio woman’s Audi was stolen and returned w...\n",
       "freq                                                    6"
      ]
     },
     "execution_count": 39,
     "metadata": {},
     "output_type": "execute_result"
    }
   ],
   "source": [
    "audi_tw.describe()"
   ]
  },
  {
   "cell_type": "code",
   "execution_count": 40,
   "id": "db858f72",
   "metadata": {},
   "outputs": [
    {
     "data": {
      "text/plain": [
       "text    0\n",
       "dtype: int64"
      ]
     },
     "execution_count": 40,
     "metadata": {},
     "output_type": "execute_result"
    }
   ],
   "source": [
    "audi_tw.isnull().sum()  # No existen nulos."
   ]
  },
  {
   "cell_type": "code",
   "execution_count": 41,
   "id": "496c32f0",
   "metadata": {},
   "outputs": [
    {
     "data": {
      "text/plain": [
       "29"
      ]
     },
     "execution_count": 41,
     "metadata": {},
     "output_type": "execute_result"
    }
   ],
   "source": [
    "audi_tw.duplicated().sum() # Encontramos 29 valores duplicados."
   ]
  },
  {
   "cell_type": "code",
   "execution_count": 42,
   "id": "1300012c",
   "metadata": {},
   "outputs": [],
   "source": [
    "drop_duplicates(audi_tw) # Eliminamos los valores duplicados."
   ]
  },
  {
   "cell_type": "code",
   "execution_count": 43,
   "id": "6d579877",
   "metadata": {},
   "outputs": [
    {
     "data": {
      "text/plain": [
       "(5062, 1)"
      ]
     },
     "execution_count": 43,
     "metadata": {},
     "output_type": "execute_result"
    }
   ],
   "source": [
    "audi_tw.shape"
   ]
  },
  {
   "cell_type": "markdown",
   "id": "a3005226",
   "metadata": {},
   "source": [
    "### Hashtags."
   ]
  },
  {
   "cell_type": "markdown",
   "id": "0df52baa",
   "metadata": {},
   "source": [
    "Queremos extraer los hastags de los tweets y almacenarlos en una nueva columna del DataFrame. Esto nos permitirá llevar a cabo un análisis específico de los hashtags una vez hecho el análisis del sentimiento de los tweets, relacionando el sentimiento con los hashtags utilizados en el tweet."
   ]
  },
  {
   "cell_type": "code",
   "execution_count": 44,
   "id": "0b82ee47",
   "metadata": {},
   "outputs": [],
   "source": [
    "audi_tw['hashtags'] = audi_tw.text.apply(extract_hashtags)"
   ]
  },
  {
   "cell_type": "code",
   "execution_count": 45,
   "id": "9c8cbe3e",
   "metadata": {
    "scrolled": true
   },
   "outputs": [
    {
     "data": {
      "text/html": [
       "<div>\n",
       "<style scoped>\n",
       "    .dataframe tbody tr th:only-of-type {\n",
       "        vertical-align: middle;\n",
       "    }\n",
       "\n",
       "    .dataframe tbody tr th {\n",
       "        vertical-align: top;\n",
       "    }\n",
       "\n",
       "    .dataframe thead th {\n",
       "        text-align: right;\n",
       "    }\n",
       "</style>\n",
       "<table border=\"1\" class=\"dataframe\">\n",
       "  <thead>\n",
       "    <tr style=\"text-align: right;\">\n",
       "      <th></th>\n",
       "      <th>text</th>\n",
       "      <th>hashtags</th>\n",
       "    </tr>\n",
       "  </thead>\n",
       "  <tbody>\n",
       "    <tr>\n",
       "      <th>0</th>\n",
       "      <td>https://t.co/mChdxNZSfD AUDI R8C SICA01B EU LE...</td>\n",
       "      <td>[]</td>\n",
       "    </tr>\n",
       "    <tr>\n",
       "      <th>1</th>\n",
       "      <td>WTS ( want to sell )\\nTiket PTD BTS CGV\\nAeon ...</td>\n",
       "      <td>[]</td>\n",
       "    </tr>\n",
       "    <tr>\n",
       "      <th>2</th>\n",
       "      <td>#New Scratch Repair Agent Viscous Scar Remove ...</td>\n",
       "      <td>[#New, #audi, #autos, #vehicle, #bhfyp]</td>\n",
       "    </tr>\n",
       "    <tr>\n",
       "      <th>3</th>\n",
       "      <td>@Audi The money U charge for the product U del...</td>\n",
       "      <td>[]</td>\n",
       "    </tr>\n",
       "    <tr>\n",
       "      <th>4</th>\n",
       "      <td>#ETBookingUpdate ~ #Coimbatore Karpagam Comple...</td>\n",
       "      <td>[#ETBookingUpdate, #Coimbatore, #EtharkkumThun...</td>\n",
       "    </tr>\n",
       "  </tbody>\n",
       "</table>\n",
       "</div>"
      ],
      "text/plain": [
       "                                                text  \\\n",
       "0  https://t.co/mChdxNZSfD AUDI R8C SICA01B EU LE...   \n",
       "1  WTS ( want to sell )\\nTiket PTD BTS CGV\\nAeon ...   \n",
       "2  #New Scratch Repair Agent Viscous Scar Remove ...   \n",
       "3  @Audi The money U charge for the product U del...   \n",
       "4  #ETBookingUpdate ~ #Coimbatore Karpagam Comple...   \n",
       "\n",
       "                                            hashtags  \n",
       "0                                                 []  \n",
       "1                                                 []  \n",
       "2            [#New, #audi, #autos, #vehicle, #bhfyp]  \n",
       "3                                                 []  \n",
       "4  [#ETBookingUpdate, #Coimbatore, #EtharkkumThun...  "
      ]
     },
     "execution_count": 45,
     "metadata": {},
     "output_type": "execute_result"
    }
   ],
   "source": [
    "audi_tw.head()"
   ]
  },
  {
   "cell_type": "markdown",
   "id": "c5bed3f5",
   "metadata": {},
   "source": [
    "### Preparing Data."
   ]
  },
  {
   "cell_type": "markdown",
   "id": "96676dd0",
   "metadata": {},
   "source": [
    "**Limpieza básica:**\n",
    "- Pasamos todo a minúsculas.\n",
    "- Eliminamos usuarios ('@ + user' ya que en principio el nombre de los usuarios no aporta información relevante para el modelo).\n",
    "- Eliminamos urls.\n",
    "- Convertimos dígitos a números escritos.\n",
    "- Convertimos $ en 'dollars' y € en 'euros.\n",
    "- Eliminamos valores no alfabéticos: # (aunque manteniendo el texto que viene después ya que puede contener información relevante), signos de puntuación...\n",
    "\n",
    "Esta limpieza se ejecutará a través de nuestra función `basic_cleaning()`."
   ]
  },
  {
   "cell_type": "code",
   "execution_count": 46,
   "id": "add342fa",
   "metadata": {},
   "outputs": [
    {
     "data": {
      "text/html": [
       "<div>\n",
       "<style scoped>\n",
       "    .dataframe tbody tr th:only-of-type {\n",
       "        vertical-align: middle;\n",
       "    }\n",
       "\n",
       "    .dataframe tbody tr th {\n",
       "        vertical-align: top;\n",
       "    }\n",
       "\n",
       "    .dataframe thead th {\n",
       "        text-align: right;\n",
       "    }\n",
       "</style>\n",
       "<table border=\"1\" class=\"dataframe\">\n",
       "  <thead>\n",
       "    <tr style=\"text-align: right;\">\n",
       "      <th></th>\n",
       "      <th>text</th>\n",
       "      <th>hashtags</th>\n",
       "    </tr>\n",
       "  </thead>\n",
       "  <tbody>\n",
       "    <tr>\n",
       "      <th>0</th>\n",
       "      <td>https://t.co/mChdxNZSfD AUDI R8C SICA01B EU LE...</td>\n",
       "      <td>[]</td>\n",
       "    </tr>\n",
       "    <tr>\n",
       "      <th>1</th>\n",
       "      <td>WTS ( want to sell )\\nTiket PTD BTS CGV\\nAeon ...</td>\n",
       "      <td>[]</td>\n",
       "    </tr>\n",
       "    <tr>\n",
       "      <th>2</th>\n",
       "      <td>#New Scratch Repair Agent Viscous Scar Remove ...</td>\n",
       "      <td>[#New, #audi, #autos, #vehicle, #bhfyp]</td>\n",
       "    </tr>\n",
       "    <tr>\n",
       "      <th>3</th>\n",
       "      <td>@Audi The money U charge for the product U del...</td>\n",
       "      <td>[]</td>\n",
       "    </tr>\n",
       "    <tr>\n",
       "      <th>4</th>\n",
       "      <td>#ETBookingUpdate ~ #Coimbatore Karpagam Comple...</td>\n",
       "      <td>[#ETBookingUpdate, #Coimbatore, #EtharkkumThun...</td>\n",
       "    </tr>\n",
       "  </tbody>\n",
       "</table>\n",
       "</div>"
      ],
      "text/plain": [
       "                                                text  \\\n",
       "0  https://t.co/mChdxNZSfD AUDI R8C SICA01B EU LE...   \n",
       "1  WTS ( want to sell )\\nTiket PTD BTS CGV\\nAeon ...   \n",
       "2  #New Scratch Repair Agent Viscous Scar Remove ...   \n",
       "3  @Audi The money U charge for the product U del...   \n",
       "4  #ETBookingUpdate ~ #Coimbatore Karpagam Comple...   \n",
       "\n",
       "                                            hashtags  \n",
       "0                                                 []  \n",
       "1                                                 []  \n",
       "2            [#New, #audi, #autos, #vehicle, #bhfyp]  \n",
       "3                                                 []  \n",
       "4  [#ETBookingUpdate, #Coimbatore, #EtharkkumThun...  "
      ]
     },
     "execution_count": 46,
     "metadata": {},
     "output_type": "execute_result"
    }
   ],
   "source": [
    "audi_tw.head()"
   ]
  },
  {
   "cell_type": "code",
   "execution_count": 47,
   "id": "84cbb7cb",
   "metadata": {},
   "outputs": [],
   "source": [
    "audi_tw['text'] = audi_tw.text.apply(basic_cleaning)"
   ]
  },
  {
   "cell_type": "code",
   "execution_count": 48,
   "id": "6b15ea7e",
   "metadata": {
    "scrolled": true
   },
   "outputs": [
    {
     "data": {
      "text/html": [
       "<div>\n",
       "<style scoped>\n",
       "    .dataframe tbody tr th:only-of-type {\n",
       "        vertical-align: middle;\n",
       "    }\n",
       "\n",
       "    .dataframe tbody tr th {\n",
       "        vertical-align: top;\n",
       "    }\n",
       "\n",
       "    .dataframe thead th {\n",
       "        text-align: right;\n",
       "    }\n",
       "</style>\n",
       "<table border=\"1\" class=\"dataframe\">\n",
       "  <thead>\n",
       "    <tr style=\"text-align: right;\">\n",
       "      <th></th>\n",
       "      <th>text</th>\n",
       "      <th>hashtags</th>\n",
       "    </tr>\n",
       "  </thead>\n",
       "  <tbody>\n",
       "    <tr>\n",
       "      <th>0</th>\n",
       "      <td>audi r eightc sica zero oneb eu le mans nine n...</td>\n",
       "      <td>[]</td>\n",
       "    </tr>\n",
       "    <tr>\n",
       "      <th>1</th>\n",
       "      <td>wts want to sell tiket ptd bts cgv aeon mall j...</td>\n",
       "      <td>[]</td>\n",
       "    </tr>\n",
       "    <tr>\n",
       "      <th>2</th>\n",
       "      <td>new scratch repair agent viscous scar remove q...</td>\n",
       "      <td>[#New, #audi, #autos, #vehicle, #bhfyp]</td>\n",
       "    </tr>\n",
       "    <tr>\n",
       "      <th>3</th>\n",
       "      <td>the money u charge for the product u deliver i...</td>\n",
       "      <td>[]</td>\n",
       "    </tr>\n",
       "    <tr>\n",
       "      <th>4</th>\n",
       "      <td>e t booking update coimbatore karpagam complex...</td>\n",
       "      <td>[#ETBookingUpdate, #Coimbatore, #EtharkkumThun...</td>\n",
       "    </tr>\n",
       "  </tbody>\n",
       "</table>\n",
       "</div>"
      ],
      "text/plain": [
       "                                                text  \\\n",
       "0  audi r eightc sica zero oneb eu le mans nine n...   \n",
       "1  wts want to sell tiket ptd bts cgv aeon mall j...   \n",
       "2  new scratch repair agent viscous scar remove q...   \n",
       "3  the money u charge for the product u deliver i...   \n",
       "4  e t booking update coimbatore karpagam complex...   \n",
       "\n",
       "                                            hashtags  \n",
       "0                                                 []  \n",
       "1                                                 []  \n",
       "2            [#New, #audi, #autos, #vehicle, #bhfyp]  \n",
       "3                                                 []  \n",
       "4  [#ETBookingUpdate, #Coimbatore, #EtharkkumThun...  "
      ]
     },
     "execution_count": 48,
     "metadata": {},
     "output_type": "execute_result"
    }
   ],
   "source": [
    "audi_tw.head()"
   ]
  },
  {
   "cell_type": "markdown",
   "id": "ba78df3b",
   "metadata": {},
   "source": [
    "### Subsets."
   ]
  },
  {
   "cell_type": "markdown",
   "id": "8e0c45de",
   "metadata": {},
   "source": [
    "En esta primera versión de la herramienta construiremos el mapa de posicionamiento en base a dos atributos de marca (variables): calidad y precio. Estos son los dos atributos básicos más utilizados de manera general en los mapas de posicionamiento (los mapas más sofisticados introducen ya otros atributos más específicos).\n",
    "\n",
    "Para poder completar el proceso de mapeo, lo primero que debemos hacer es dividir los datos (tweets recopilados) en dos subsets: los que hacen referencia al precio y los que hacen referencia a la calidad. Una vez subdivididos, ya podremos introducir los datos en el modelo NLP para evaluar el sentimiento en cada subset.\n",
    "\n",
    "La subdivisión nos permite diferenciar el sentimiento de los tweets que hablan del precio, del sentimiento en torno a la calidad general de la marca en cuestión. Ahora llevaremos a cabo este proceso sobre los tweets que mencionan a Adidas."
   ]
  },
  {
   "cell_type": "markdown",
   "id": "d42778c6",
   "metadata": {},
   "source": [
    "1. Generamos una nueva columna que recoge la temática del tweet (atributo al que hace refencia)."
   ]
  },
  {
   "cell_type": "code",
   "execution_count": 49,
   "id": "452b458d",
   "metadata": {
    "scrolled": true
   },
   "outputs": [],
   "source": [
    "audi_tw['brand_attribute'] = audi_tw['text'].apply(data_groups)"
   ]
  },
  {
   "cell_type": "code",
   "execution_count": 50,
   "id": "cb76688b",
   "metadata": {},
   "outputs": [
    {
     "data": {
      "text/html": [
       "<div>\n",
       "<style scoped>\n",
       "    .dataframe tbody tr th:only-of-type {\n",
       "        vertical-align: middle;\n",
       "    }\n",
       "\n",
       "    .dataframe tbody tr th {\n",
       "        vertical-align: top;\n",
       "    }\n",
       "\n",
       "    .dataframe thead th {\n",
       "        text-align: right;\n",
       "    }\n",
       "</style>\n",
       "<table border=\"1\" class=\"dataframe\">\n",
       "  <thead>\n",
       "    <tr style=\"text-align: right;\">\n",
       "      <th></th>\n",
       "      <th>text</th>\n",
       "      <th>hashtags</th>\n",
       "      <th>brand_attribute</th>\n",
       "    </tr>\n",
       "  </thead>\n",
       "  <tbody>\n",
       "    <tr>\n",
       "      <th>0</th>\n",
       "      <td>audi r eightc sica zero oneb eu le mans nine n...</td>\n",
       "      <td>[]</td>\n",
       "      <td>quality</td>\n",
       "    </tr>\n",
       "    <tr>\n",
       "      <th>1</th>\n",
       "      <td>wts want to sell tiket ptd bts cgv aeon mall j...</td>\n",
       "      <td>[]</td>\n",
       "      <td>price</td>\n",
       "    </tr>\n",
       "    <tr>\n",
       "      <th>2</th>\n",
       "      <td>new scratch repair agent viscous scar remove q...</td>\n",
       "      <td>[#New, #audi, #autos, #vehicle, #bhfyp]</td>\n",
       "      <td>price</td>\n",
       "    </tr>\n",
       "    <tr>\n",
       "      <th>3</th>\n",
       "      <td>the money u charge for the product u deliver i...</td>\n",
       "      <td>[]</td>\n",
       "      <td>price</td>\n",
       "    </tr>\n",
       "    <tr>\n",
       "      <th>4</th>\n",
       "      <td>e t booking update coimbatore karpagam complex...</td>\n",
       "      <td>[#ETBookingUpdate, #Coimbatore, #EtharkkumThun...</td>\n",
       "      <td>quality</td>\n",
       "    </tr>\n",
       "  </tbody>\n",
       "</table>\n",
       "</div>"
      ],
      "text/plain": [
       "                                                text  \\\n",
       "0  audi r eightc sica zero oneb eu le mans nine n...   \n",
       "1  wts want to sell tiket ptd bts cgv aeon mall j...   \n",
       "2  new scratch repair agent viscous scar remove q...   \n",
       "3  the money u charge for the product u deliver i...   \n",
       "4  e t booking update coimbatore karpagam complex...   \n",
       "\n",
       "                                            hashtags brand_attribute  \n",
       "0                                                 []         quality  \n",
       "1                                                 []           price  \n",
       "2            [#New, #audi, #autos, #vehicle, #bhfyp]           price  \n",
       "3                                                 []           price  \n",
       "4  [#ETBookingUpdate, #Coimbatore, #EtharkkumThun...         quality  "
      ]
     },
     "execution_count": 50,
     "metadata": {},
     "output_type": "execute_result"
    }
   ],
   "source": [
    "audi_tw.head()"
   ]
  },
  {
   "cell_type": "code",
   "execution_count": 51,
   "id": "93904c74",
   "metadata": {},
   "outputs": [
    {
     "data": {
      "text/plain": [
       "quality    4000\n",
       "price      1062\n",
       "Name: brand_attribute, dtype: int64"
      ]
     },
     "execution_count": 51,
     "metadata": {},
     "output_type": "execute_result"
    }
   ],
   "source": [
    "audi_tw.brand_attribute.value_counts()"
   ]
  },
  {
   "cell_type": "markdown",
   "id": "3f09b178",
   "metadata": {},
   "source": [
    "2. Generamos los subsets de Adidas (uno de calidad y otro de precio).\n",
    "\n",
    "    2.1. Precio:"
   ]
  },
  {
   "cell_type": "code",
   "execution_count": 52,
   "id": "460e8660",
   "metadata": {},
   "outputs": [],
   "source": [
    "audi_price = pd.DataFrame(audi_tw.where(audi_tw.brand_attribute=='price').dropna().drop('brand_attribute',axis=1))"
   ]
  },
  {
   "cell_type": "code",
   "execution_count": 53,
   "id": "e94ec7f5",
   "metadata": {},
   "outputs": [
    {
     "data": {
      "text/plain": [
       "text        0\n",
       "hashtags    0\n",
       "dtype: int64"
      ]
     },
     "execution_count": 53,
     "metadata": {},
     "output_type": "execute_result"
    }
   ],
   "source": [
    "audi_price.isnull().sum()"
   ]
  },
  {
   "cell_type": "code",
   "execution_count": 54,
   "id": "61b9de73",
   "metadata": {},
   "outputs": [
    {
     "data": {
      "text/plain": [
       "(1062, 2)"
      ]
     },
     "execution_count": 54,
     "metadata": {},
     "output_type": "execute_result"
    }
   ],
   "source": [
    "audi_price.shape"
   ]
  },
  {
   "cell_type": "code",
   "execution_count": 55,
   "id": "9ab4d358",
   "metadata": {},
   "outputs": [],
   "source": [
    "# Exportamos el subset de precio.\n",
    "\n",
    "audi_price.to_csv('data/audi_price.csv', index = False)"
   ]
  },
  {
   "cell_type": "markdown",
   "id": "8526324e",
   "metadata": {},
   "source": [
    "    2.2. Calidad:"
   ]
  },
  {
   "cell_type": "code",
   "execution_count": 56,
   "id": "b64d44fa",
   "metadata": {},
   "outputs": [],
   "source": [
    "audi_quality = pd.DataFrame(audi_tw.where(audi_tw.brand_attribute=='quality').dropna().drop('brand_attribute',axis=1))"
   ]
  },
  {
   "cell_type": "code",
   "execution_count": 57,
   "id": "d3007fbf",
   "metadata": {},
   "outputs": [
    {
     "data": {
      "text/plain": [
       "text        0\n",
       "hashtags    0\n",
       "dtype: int64"
      ]
     },
     "execution_count": 57,
     "metadata": {},
     "output_type": "execute_result"
    }
   ],
   "source": [
    "audi_quality.isnull().sum()"
   ]
  },
  {
   "cell_type": "code",
   "execution_count": 58,
   "id": "5848681c",
   "metadata": {},
   "outputs": [
    {
     "data": {
      "text/plain": [
       "(4000, 2)"
      ]
     },
     "execution_count": 58,
     "metadata": {},
     "output_type": "execute_result"
    }
   ],
   "source": [
    "audi_quality.shape"
   ]
  },
  {
   "cell_type": "code",
   "execution_count": 59,
   "id": "8a7251a0",
   "metadata": {},
   "outputs": [],
   "source": [
    "# Exportamos el subset de calidad.\n",
    "\n",
    "audi_quality.to_csv('data/audi_quality.csv', index = False)"
   ]
  },
  {
   "cell_type": "markdown",
   "id": "328323bb",
   "metadata": {},
   "source": [
    "**Nota importante:**\n",
    "\n",
    "Aunque hemos exportado cada subset en archivos csv independientes (lo tenemos guardado de manera desagregada), en realidad trabajaremos con un único DataFrame que contenga todos los tweets analizados (los de todas las marcas y todos los atributos). En este DataFrame recogeremos en una columna la marca a la que hacen referencia y en otra columna el atributo al que se refieren (calidad y precio). Esto lo hacemos así porque nos permitirá agilizar mucho los procesos de visualización de resultados y obtener gráficos de mejor calidad (podremos filtrar en función de la marca y el atributo, al tiempo que manejamos un único DataFrame para mayor eficiencia)."
   ]
  },
  {
   "cell_type": "markdown",
   "id": "783948e8",
   "metadata": {},
   "source": [
    "## Volkswagen data."
   ]
  },
  {
   "cell_type": "code",
   "execution_count": 60,
   "id": "0419f634",
   "metadata": {},
   "outputs": [],
   "source": [
    "volkswagen = pd.read_csv('data/volkswagen.csv')"
   ]
  },
  {
   "cell_type": "code",
   "execution_count": 61,
   "id": "e5d81d60",
   "metadata": {},
   "outputs": [],
   "source": [
    "volkswagen_tw = pd.DataFrame(volkswagen.text)"
   ]
  },
  {
   "cell_type": "markdown",
   "id": "5a607eab",
   "metadata": {},
   "source": [
    "### Exploración inicial de los datos:"
   ]
  },
  {
   "cell_type": "code",
   "execution_count": 62,
   "id": "a91ca000",
   "metadata": {},
   "outputs": [
    {
     "data": {
      "text/plain": [
       "(5093, 1)"
      ]
     },
     "execution_count": 62,
     "metadata": {},
     "output_type": "execute_result"
    }
   ],
   "source": [
    "volkswagen_tw.shape"
   ]
  },
  {
   "cell_type": "code",
   "execution_count": 63,
   "id": "28f7948a",
   "metadata": {},
   "outputs": [
    {
     "name": "stdout",
     "output_type": "stream",
     "text": [
      "<class 'pandas.core.frame.DataFrame'>\n",
      "RangeIndex: 5093 entries, 0 to 5092\n",
      "Data columns (total 1 columns):\n",
      " #   Column  Non-Null Count  Dtype \n",
      "---  ------  --------------  ----- \n",
      " 0   text    5093 non-null   object\n",
      "dtypes: object(1)\n",
      "memory usage: 39.9+ KB\n"
     ]
    }
   ],
   "source": [
    "volkswagen_tw.info()"
   ]
  },
  {
   "cell_type": "code",
   "execution_count": 64,
   "id": "f86e8e04",
   "metadata": {},
   "outputs": [
    {
     "data": {
      "text/html": [
       "<div>\n",
       "<style scoped>\n",
       "    .dataframe tbody tr th:only-of-type {\n",
       "        vertical-align: middle;\n",
       "    }\n",
       "\n",
       "    .dataframe tbody tr th {\n",
       "        vertical-align: top;\n",
       "    }\n",
       "\n",
       "    .dataframe thead th {\n",
       "        text-align: right;\n",
       "    }\n",
       "</style>\n",
       "<table border=\"1\" class=\"dataframe\">\n",
       "  <thead>\n",
       "    <tr style=\"text-align: right;\">\n",
       "      <th></th>\n",
       "      <th>text</th>\n",
       "    </tr>\n",
       "  </thead>\n",
       "  <tbody>\n",
       "    <tr>\n",
       "      <th>count</th>\n",
       "      <td>5093</td>\n",
       "    </tr>\n",
       "    <tr>\n",
       "      <th>unique</th>\n",
       "      <td>5026</td>\n",
       "    </tr>\n",
       "    <tr>\n",
       "      <th>top</th>\n",
       "      <td>Chandler:Take their hat!\\nPhoebe:Popes in volk...</td>\n",
       "    </tr>\n",
       "    <tr>\n",
       "      <th>freq</th>\n",
       "      <td>12</td>\n",
       "    </tr>\n",
       "  </tbody>\n",
       "</table>\n",
       "</div>"
      ],
      "text/plain": [
       "                                                     text\n",
       "count                                                5093\n",
       "unique                                               5026\n",
       "top     Chandler:Take their hat!\\nPhoebe:Popes in volk...\n",
       "freq                                                   12"
      ]
     },
     "execution_count": 64,
     "metadata": {},
     "output_type": "execute_result"
    }
   ],
   "source": [
    "volkswagen_tw.describe()"
   ]
  },
  {
   "cell_type": "code",
   "execution_count": 65,
   "id": "fabd231c",
   "metadata": {},
   "outputs": [
    {
     "data": {
      "text/plain": [
       "text    0\n",
       "dtype: int64"
      ]
     },
     "execution_count": 65,
     "metadata": {},
     "output_type": "execute_result"
    }
   ],
   "source": [
    "volkswagen_tw.isnull().sum()  # No existen nulos."
   ]
  },
  {
   "cell_type": "code",
   "execution_count": 66,
   "id": "dd5e676d",
   "metadata": {},
   "outputs": [
    {
     "data": {
      "text/plain": [
       "67"
      ]
     },
     "execution_count": 66,
     "metadata": {},
     "output_type": "execute_result"
    }
   ],
   "source": [
    "volkswagen_tw.duplicated().sum() # Encontramos 67 valores duplicados."
   ]
  },
  {
   "cell_type": "code",
   "execution_count": 67,
   "id": "b2e9d1b8",
   "metadata": {},
   "outputs": [],
   "source": [
    "drop_duplicates(volkswagen_tw) # Eliminamos los valores duplicados."
   ]
  },
  {
   "cell_type": "code",
   "execution_count": 68,
   "id": "b07c298c",
   "metadata": {},
   "outputs": [
    {
     "data": {
      "text/plain": [
       "(5026, 1)"
      ]
     },
     "execution_count": 68,
     "metadata": {},
     "output_type": "execute_result"
    }
   ],
   "source": [
    "volkswagen_tw.shape"
   ]
  },
  {
   "cell_type": "markdown",
   "id": "37e33cef",
   "metadata": {},
   "source": [
    "### Hashtags."
   ]
  },
  {
   "cell_type": "markdown",
   "id": "7ae40ba3",
   "metadata": {},
   "source": [
    "Queremos extraer los hastags de los tweets y almacenarlos en una nueva columna del DataFrame. Esto nos permitirá llevar a cabo un análisis específico de los hashtags una vez hecho el análisis del sentimiento de los tweets, relacionando el sentimiento con los hashtags utilizados en el tweet."
   ]
  },
  {
   "cell_type": "code",
   "execution_count": 69,
   "id": "1f7f7f24",
   "metadata": {},
   "outputs": [],
   "source": [
    "volkswagen_tw['hashtags'] = volkswagen_tw.text.apply(extract_hashtags)"
   ]
  },
  {
   "cell_type": "code",
   "execution_count": 70,
   "id": "d86ca61d",
   "metadata": {
    "scrolled": true
   },
   "outputs": [
    {
     "data": {
      "text/html": [
       "<div>\n",
       "<style scoped>\n",
       "    .dataframe tbody tr th:only-of-type {\n",
       "        vertical-align: middle;\n",
       "    }\n",
       "\n",
       "    .dataframe tbody tr th {\n",
       "        vertical-align: top;\n",
       "    }\n",
       "\n",
       "    .dataframe thead th {\n",
       "        text-align: right;\n",
       "    }\n",
       "</style>\n",
       "<table border=\"1\" class=\"dataframe\">\n",
       "  <thead>\n",
       "    <tr style=\"text-align: right;\">\n",
       "      <th></th>\n",
       "      <th>text</th>\n",
       "      <th>hashtags</th>\n",
       "    </tr>\n",
       "  </thead>\n",
       "  <tbody>\n",
       "    <tr>\n",
       "      <th>0</th>\n",
       "      <td>Just Arrived !!! Volkswagen Tiguan 2.0 Diesel ...</td>\n",
       "      <td>[#UsedCars, #CarsForSale, #UsedCarsOxford, #Us...</td>\n",
       "    </tr>\n",
       "    <tr>\n",
       "      <th>1</th>\n",
       "      <td>Glimpses of Women's Day Celebrations at Autoba...</td>\n",
       "      <td>[#WomensDayCelebrations, #Celebrations]</td>\n",
       "    </tr>\n",
       "    <tr>\n",
       "      <th>2</th>\n",
       "      <td>MARSHALL #VOLKSWAGEN VIP 4 DAY SALES EVENT – S...</td>\n",
       "      <td>[#VOLKSWAGEN]</td>\n",
       "    </tr>\n",
       "    <tr>\n",
       "      <th>3</th>\n",
       "      <td>Volkswagen presents their all-new model Virtus...</td>\n",
       "      <td>[#PrintWorks, #PowerOfPrint, #PrintAdvertising...</td>\n",
       "    </tr>\n",
       "    <tr>\n",
       "      <th>4</th>\n",
       "      <td>2Pcs Roof Rail Racks Cross Bars Crossbars Fits...</td>\n",
       "      <td>[]</td>\n",
       "    </tr>\n",
       "  </tbody>\n",
       "</table>\n",
       "</div>"
      ],
      "text/plain": [
       "                                                text  \\\n",
       "0  Just Arrived !!! Volkswagen Tiguan 2.0 Diesel ...   \n",
       "1  Glimpses of Women's Day Celebrations at Autoba...   \n",
       "2  MARSHALL #VOLKSWAGEN VIP 4 DAY SALES EVENT – S...   \n",
       "3  Volkswagen presents their all-new model Virtus...   \n",
       "4  2Pcs Roof Rail Racks Cross Bars Crossbars Fits...   \n",
       "\n",
       "                                            hashtags  \n",
       "0  [#UsedCars, #CarsForSale, #UsedCarsOxford, #Us...  \n",
       "1            [#WomensDayCelebrations, #Celebrations]  \n",
       "2                                      [#VOLKSWAGEN]  \n",
       "3  [#PrintWorks, #PowerOfPrint, #PrintAdvertising...  \n",
       "4                                                 []  "
      ]
     },
     "execution_count": 70,
     "metadata": {},
     "output_type": "execute_result"
    }
   ],
   "source": [
    "volkswagen_tw.head()"
   ]
  },
  {
   "cell_type": "markdown",
   "id": "ce46811c",
   "metadata": {},
   "source": [
    "### Preparing Data."
   ]
  },
  {
   "cell_type": "markdown",
   "id": "555850c5",
   "metadata": {},
   "source": [
    "**Limpieza básica:**\n",
    "- Pasamos todo a minúsculas.\n",
    "- Eliminamos usuarios ('@ + user' ya que en principio el nombre de los usuarios no aporta información relevante para el modelo).\n",
    "- Eliminamos urls.\n",
    "- Convertimos dígitos a números escritos.\n",
    "- Convertimos $ en 'dollars' y € en 'euros.\n",
    "- Eliminamos valores no alfabéticos: # (aunque manteniendo el texto que viene después ya que puede contener información relevante), signos de puntuación...\n",
    "\n",
    "Esta limpieza se ejecutará a través de nuestra función `basic_cleaning()`."
   ]
  },
  {
   "cell_type": "code",
   "execution_count": 71,
   "id": "3003364c",
   "metadata": {},
   "outputs": [
    {
     "data": {
      "text/html": [
       "<div>\n",
       "<style scoped>\n",
       "    .dataframe tbody tr th:only-of-type {\n",
       "        vertical-align: middle;\n",
       "    }\n",
       "\n",
       "    .dataframe tbody tr th {\n",
       "        vertical-align: top;\n",
       "    }\n",
       "\n",
       "    .dataframe thead th {\n",
       "        text-align: right;\n",
       "    }\n",
       "</style>\n",
       "<table border=\"1\" class=\"dataframe\">\n",
       "  <thead>\n",
       "    <tr style=\"text-align: right;\">\n",
       "      <th></th>\n",
       "      <th>text</th>\n",
       "      <th>hashtags</th>\n",
       "    </tr>\n",
       "  </thead>\n",
       "  <tbody>\n",
       "    <tr>\n",
       "      <th>0</th>\n",
       "      <td>Just Arrived !!! Volkswagen Tiguan 2.0 Diesel ...</td>\n",
       "      <td>[#UsedCars, #CarsForSale, #UsedCarsOxford, #Us...</td>\n",
       "    </tr>\n",
       "    <tr>\n",
       "      <th>1</th>\n",
       "      <td>Glimpses of Women's Day Celebrations at Autoba...</td>\n",
       "      <td>[#WomensDayCelebrations, #Celebrations]</td>\n",
       "    </tr>\n",
       "    <tr>\n",
       "      <th>2</th>\n",
       "      <td>MARSHALL #VOLKSWAGEN VIP 4 DAY SALES EVENT – S...</td>\n",
       "      <td>[#VOLKSWAGEN]</td>\n",
       "    </tr>\n",
       "    <tr>\n",
       "      <th>3</th>\n",
       "      <td>Volkswagen presents their all-new model Virtus...</td>\n",
       "      <td>[#PrintWorks, #PowerOfPrint, #PrintAdvertising...</td>\n",
       "    </tr>\n",
       "    <tr>\n",
       "      <th>4</th>\n",
       "      <td>2Pcs Roof Rail Racks Cross Bars Crossbars Fits...</td>\n",
       "      <td>[]</td>\n",
       "    </tr>\n",
       "  </tbody>\n",
       "</table>\n",
       "</div>"
      ],
      "text/plain": [
       "                                                text  \\\n",
       "0  Just Arrived !!! Volkswagen Tiguan 2.0 Diesel ...   \n",
       "1  Glimpses of Women's Day Celebrations at Autoba...   \n",
       "2  MARSHALL #VOLKSWAGEN VIP 4 DAY SALES EVENT – S...   \n",
       "3  Volkswagen presents their all-new model Virtus...   \n",
       "4  2Pcs Roof Rail Racks Cross Bars Crossbars Fits...   \n",
       "\n",
       "                                            hashtags  \n",
       "0  [#UsedCars, #CarsForSale, #UsedCarsOxford, #Us...  \n",
       "1            [#WomensDayCelebrations, #Celebrations]  \n",
       "2                                      [#VOLKSWAGEN]  \n",
       "3  [#PrintWorks, #PowerOfPrint, #PrintAdvertising...  \n",
       "4                                                 []  "
      ]
     },
     "execution_count": 71,
     "metadata": {},
     "output_type": "execute_result"
    }
   ],
   "source": [
    "volkswagen_tw.head()"
   ]
  },
  {
   "cell_type": "code",
   "execution_count": 72,
   "id": "79de57d8",
   "metadata": {},
   "outputs": [],
   "source": [
    "volkswagen_tw['text'] = volkswagen_tw.text.apply(basic_cleaning)"
   ]
  },
  {
   "cell_type": "code",
   "execution_count": 73,
   "id": "cfa2971b",
   "metadata": {},
   "outputs": [
    {
     "data": {
      "text/html": [
       "<div>\n",
       "<style scoped>\n",
       "    .dataframe tbody tr th:only-of-type {\n",
       "        vertical-align: middle;\n",
       "    }\n",
       "\n",
       "    .dataframe tbody tr th {\n",
       "        vertical-align: top;\n",
       "    }\n",
       "\n",
       "    .dataframe thead th {\n",
       "        text-align: right;\n",
       "    }\n",
       "</style>\n",
       "<table border=\"1\" class=\"dataframe\">\n",
       "  <thead>\n",
       "    <tr style=\"text-align: right;\">\n",
       "      <th></th>\n",
       "      <th>text</th>\n",
       "      <th>hashtags</th>\n",
       "    </tr>\n",
       "  </thead>\n",
       "  <tbody>\n",
       "    <tr>\n",
       "      <th>0</th>\n",
       "      <td>just arrived volkswagen tiguan two zero diesel...</td>\n",
       "      <td>[#UsedCars, #CarsForSale, #UsedCarsOxford, #Us...</td>\n",
       "    </tr>\n",
       "    <tr>\n",
       "      <th>1</th>\n",
       "      <td>glimpses of women s day celebrations at autoba...</td>\n",
       "      <td>[#WomensDayCelebrations, #Celebrations]</td>\n",
       "    </tr>\n",
       "    <tr>\n",
       "      <th>2</th>\n",
       "      <td>marshall v o l k s w a g e n vip four day sale...</td>\n",
       "      <td>[#VOLKSWAGEN]</td>\n",
       "    </tr>\n",
       "    <tr>\n",
       "      <th>3</th>\n",
       "      <td>volkswagen presents their all new model virtus...</td>\n",
       "      <td>[#PrintWorks, #PowerOfPrint, #PrintAdvertising...</td>\n",
       "    </tr>\n",
       "    <tr>\n",
       "      <th>4</th>\n",
       "      <td>twopcs roof rail racks cross bars crossbars fi...</td>\n",
       "      <td>[]</td>\n",
       "    </tr>\n",
       "  </tbody>\n",
       "</table>\n",
       "</div>"
      ],
      "text/plain": [
       "                                                text  \\\n",
       "0  just arrived volkswagen tiguan two zero diesel...   \n",
       "1  glimpses of women s day celebrations at autoba...   \n",
       "2  marshall v o l k s w a g e n vip four day sale...   \n",
       "3  volkswagen presents their all new model virtus...   \n",
       "4  twopcs roof rail racks cross bars crossbars fi...   \n",
       "\n",
       "                                            hashtags  \n",
       "0  [#UsedCars, #CarsForSale, #UsedCarsOxford, #Us...  \n",
       "1            [#WomensDayCelebrations, #Celebrations]  \n",
       "2                                      [#VOLKSWAGEN]  \n",
       "3  [#PrintWorks, #PowerOfPrint, #PrintAdvertising...  \n",
       "4                                                 []  "
      ]
     },
     "execution_count": 73,
     "metadata": {},
     "output_type": "execute_result"
    }
   ],
   "source": [
    "volkswagen_tw.head()"
   ]
  },
  {
   "cell_type": "markdown",
   "id": "ed7e5aad",
   "metadata": {},
   "source": [
    "### Subsets."
   ]
  },
  {
   "cell_type": "markdown",
   "id": "9325158a",
   "metadata": {},
   "source": [
    "En esta primera versión de la herramienta construiremos el mapa de posicionamiento en base a dos atributos de marca (variables): calidad y precio. Estos son los dos atributos básicos más utilizados de manera general en los mapas de posicionamiento (los mapas más sofisticados introducen ya otros atributos más específicos).\n",
    "\n",
    "Para poder completar el proceso de mapeo, lo primero que debemos hacer es dividir los datos (tweets recopilados) en dos subsets: los que hacen referencia al precio y los que hacen referencia a la calidad. Una vez subdivididos, ya podremos introducir los datos en el modelo NLP para evaluar el sentimiento en cada subset.\n",
    "\n",
    "La subdivisión nos permite diferenciar el sentimiento de los tweets que hablan del precio, del sentimiento en torno a la calidad general de la marca en cuestión. Esto es lo que haremos en esta etapa del proceso, en este caso sobre los tweets que mencionan a Nike."
   ]
  },
  {
   "cell_type": "markdown",
   "id": "0b3699e0",
   "metadata": {},
   "source": [
    "1. Generamos una nueva columna que recoge la temática del tweet (atributo al que hace refencia)."
   ]
  },
  {
   "cell_type": "code",
   "execution_count": 74,
   "id": "62995b4e",
   "metadata": {
    "scrolled": true
   },
   "outputs": [],
   "source": [
    "volkswagen_tw['brand_attribute'] = volkswagen_tw['text'].apply(data_groups)"
   ]
  },
  {
   "cell_type": "code",
   "execution_count": 75,
   "id": "ed6a1e3e",
   "metadata": {
    "scrolled": false
   },
   "outputs": [
    {
     "data": {
      "text/html": [
       "<div>\n",
       "<style scoped>\n",
       "    .dataframe tbody tr th:only-of-type {\n",
       "        vertical-align: middle;\n",
       "    }\n",
       "\n",
       "    .dataframe tbody tr th {\n",
       "        vertical-align: top;\n",
       "    }\n",
       "\n",
       "    .dataframe thead th {\n",
       "        text-align: right;\n",
       "    }\n",
       "</style>\n",
       "<table border=\"1\" class=\"dataframe\">\n",
       "  <thead>\n",
       "    <tr style=\"text-align: right;\">\n",
       "      <th></th>\n",
       "      <th>text</th>\n",
       "      <th>hashtags</th>\n",
       "      <th>brand_attribute</th>\n",
       "    </tr>\n",
       "  </thead>\n",
       "  <tbody>\n",
       "    <tr>\n",
       "      <th>0</th>\n",
       "      <td>just arrived volkswagen tiguan two zero diesel...</td>\n",
       "      <td>[#UsedCars, #CarsForSale, #UsedCarsOxford, #Us...</td>\n",
       "      <td>price</td>\n",
       "    </tr>\n",
       "    <tr>\n",
       "      <th>1</th>\n",
       "      <td>glimpses of women s day celebrations at autoba...</td>\n",
       "      <td>[#WomensDayCelebrations, #Celebrations]</td>\n",
       "      <td>quality</td>\n",
       "    </tr>\n",
       "    <tr>\n",
       "      <th>2</th>\n",
       "      <td>marshall v o l k s w a g e n vip four day sale...</td>\n",
       "      <td>[#VOLKSWAGEN]</td>\n",
       "      <td>price</td>\n",
       "    </tr>\n",
       "    <tr>\n",
       "      <th>3</th>\n",
       "      <td>volkswagen presents their all new model virtus...</td>\n",
       "      <td>[#PrintWorks, #PowerOfPrint, #PrintAdvertising...</td>\n",
       "      <td>quality</td>\n",
       "    </tr>\n",
       "    <tr>\n",
       "      <th>4</th>\n",
       "      <td>twopcs roof rail racks cross bars crossbars fi...</td>\n",
       "      <td>[]</td>\n",
       "      <td>price</td>\n",
       "    </tr>\n",
       "  </tbody>\n",
       "</table>\n",
       "</div>"
      ],
      "text/plain": [
       "                                                text  \\\n",
       "0  just arrived volkswagen tiguan two zero diesel...   \n",
       "1  glimpses of women s day celebrations at autoba...   \n",
       "2  marshall v o l k s w a g e n vip four day sale...   \n",
       "3  volkswagen presents their all new model virtus...   \n",
       "4  twopcs roof rail racks cross bars crossbars fi...   \n",
       "\n",
       "                                            hashtags brand_attribute  \n",
       "0  [#UsedCars, #CarsForSale, #UsedCarsOxford, #Us...           price  \n",
       "1            [#WomensDayCelebrations, #Celebrations]         quality  \n",
       "2                                      [#VOLKSWAGEN]           price  \n",
       "3  [#PrintWorks, #PowerOfPrint, #PrintAdvertising...         quality  \n",
       "4                                                 []           price  "
      ]
     },
     "execution_count": 75,
     "metadata": {},
     "output_type": "execute_result"
    }
   ],
   "source": [
    "volkswagen_tw.head()"
   ]
  },
  {
   "cell_type": "code",
   "execution_count": 76,
   "id": "861b3fa9",
   "metadata": {},
   "outputs": [
    {
     "data": {
      "text/plain": [
       "quality    3686\n",
       "price      1340\n",
       "Name: brand_attribute, dtype: int64"
      ]
     },
     "execution_count": 76,
     "metadata": {},
     "output_type": "execute_result"
    }
   ],
   "source": [
    "volkswagen_tw.brand_attribute.value_counts()"
   ]
  },
  {
   "cell_type": "markdown",
   "id": "7c732952",
   "metadata": {},
   "source": [
    "2. Exportamos los subsets de Nike (uno de calidad y otro de precio).\n",
    "\n",
    "    2.1. Precio:"
   ]
  },
  {
   "cell_type": "code",
   "execution_count": 77,
   "id": "954cdb2b",
   "metadata": {},
   "outputs": [],
   "source": [
    "volkswagen_price = pd.DataFrame(volkswagen_tw.where(volkswagen_tw.brand_attribute=='price').dropna().drop('brand_attribute',axis=1))"
   ]
  },
  {
   "cell_type": "code",
   "execution_count": 78,
   "id": "d8a1da01",
   "metadata": {},
   "outputs": [
    {
     "data": {
      "text/plain": [
       "text        0\n",
       "hashtags    0\n",
       "dtype: int64"
      ]
     },
     "execution_count": 78,
     "metadata": {},
     "output_type": "execute_result"
    }
   ],
   "source": [
    "volkswagen_price.isnull().sum()"
   ]
  },
  {
   "cell_type": "code",
   "execution_count": 79,
   "id": "6ee82196",
   "metadata": {},
   "outputs": [
    {
     "data": {
      "text/plain": [
       "(1340, 2)"
      ]
     },
     "execution_count": 79,
     "metadata": {},
     "output_type": "execute_result"
    }
   ],
   "source": [
    "volkswagen_price.shape"
   ]
  },
  {
   "cell_type": "code",
   "execution_count": 80,
   "id": "8fdccca5",
   "metadata": {},
   "outputs": [],
   "source": [
    "# Exportamos el subset de precio.\n",
    "\n",
    "volkswagen_price.to_csv('data/volkswagen_price.csv', index = False)"
   ]
  },
  {
   "cell_type": "markdown",
   "id": "f672ccd1",
   "metadata": {},
   "source": [
    "    2.2. Calidad:"
   ]
  },
  {
   "cell_type": "code",
   "execution_count": 81,
   "id": "e311541a",
   "metadata": {},
   "outputs": [],
   "source": [
    "volkswagen_quality = pd.DataFrame(volkswagen_tw.where(volkswagen_tw.brand_attribute=='quality').dropna().drop('brand_attribute',axis=1))"
   ]
  },
  {
   "cell_type": "code",
   "execution_count": 82,
   "id": "4c4e9a2d",
   "metadata": {},
   "outputs": [
    {
     "data": {
      "text/plain": [
       "text        0\n",
       "hashtags    0\n",
       "dtype: int64"
      ]
     },
     "execution_count": 82,
     "metadata": {},
     "output_type": "execute_result"
    }
   ],
   "source": [
    "volkswagen_quality.isnull().sum()"
   ]
  },
  {
   "cell_type": "code",
   "execution_count": 83,
   "id": "226643e0",
   "metadata": {},
   "outputs": [
    {
     "data": {
      "text/plain": [
       "(3686, 2)"
      ]
     },
     "execution_count": 83,
     "metadata": {},
     "output_type": "execute_result"
    }
   ],
   "source": [
    "volkswagen_quality.shape"
   ]
  },
  {
   "cell_type": "code",
   "execution_count": 84,
   "id": "5e45f38f",
   "metadata": {},
   "outputs": [],
   "source": [
    "# Exportamos el subset de calidad.\n",
    "\n",
    "volkswagen_quality.to_csv('data/volkswagen_quality.csv', index = False)"
   ]
  },
  {
   "cell_type": "markdown",
   "id": "5b07ebb9",
   "metadata": {},
   "source": [
    "**Nota importante:**\n",
    "\n",
    "Aunque hemos exportado cada subset en archivos csv independientes (lo tenemos guardado de manera desagregada), en realidad trabajaremos con un único DataFrame que contenga todos los tweets analizados (los de todas las marcas y todos los atributos). En este DataFrame recogeremos en una columna la marca a la que hacen referencia y en otra columna el atributo al que se refieren (calidad y precio). Esto lo hacemos así porque nos permitirá agilizar mucho los procesos de visualización de resultados y obtener gráficos de mejor calidad (podremos filtrar en función de la marca y el atributo, al tiempo que manejamos un único DataFrame para mayor eficiencia)."
   ]
  },
  {
   "cell_type": "markdown",
   "id": "bd21387f",
   "metadata": {},
   "source": [
    "## Renault data."
   ]
  },
  {
   "cell_type": "code",
   "execution_count": 85,
   "id": "616c28f3",
   "metadata": {},
   "outputs": [],
   "source": [
    "renault = pd.read_csv('data/renault.csv')"
   ]
  },
  {
   "cell_type": "code",
   "execution_count": 86,
   "id": "64d974d6",
   "metadata": {},
   "outputs": [],
   "source": [
    "renault_tw = pd.DataFrame(renault.text)"
   ]
  },
  {
   "cell_type": "markdown",
   "id": "e441627f",
   "metadata": {},
   "source": [
    "### Exploración inicial de los datos:"
   ]
  },
  {
   "cell_type": "code",
   "execution_count": 87,
   "id": "f2ad90a0",
   "metadata": {},
   "outputs": [
    {
     "data": {
      "text/plain": [
       "(3897, 1)"
      ]
     },
     "execution_count": 87,
     "metadata": {},
     "output_type": "execute_result"
    }
   ],
   "source": [
    "renault_tw.shape"
   ]
  },
  {
   "cell_type": "code",
   "execution_count": 88,
   "id": "986bc0de",
   "metadata": {},
   "outputs": [
    {
     "name": "stdout",
     "output_type": "stream",
     "text": [
      "<class 'pandas.core.frame.DataFrame'>\n",
      "RangeIndex: 3897 entries, 0 to 3896\n",
      "Data columns (total 1 columns):\n",
      " #   Column  Non-Null Count  Dtype \n",
      "---  ------  --------------  ----- \n",
      " 0   text    3897 non-null   object\n",
      "dtypes: object(1)\n",
      "memory usage: 30.6+ KB\n"
     ]
    }
   ],
   "source": [
    "renault_tw.info()"
   ]
  },
  {
   "cell_type": "code",
   "execution_count": 89,
   "id": "9699b1d8",
   "metadata": {},
   "outputs": [
    {
     "data": {
      "text/html": [
       "<div>\n",
       "<style scoped>\n",
       "    .dataframe tbody tr th:only-of-type {\n",
       "        vertical-align: middle;\n",
       "    }\n",
       "\n",
       "    .dataframe tbody tr th {\n",
       "        vertical-align: top;\n",
       "    }\n",
       "\n",
       "    .dataframe thead th {\n",
       "        text-align: right;\n",
       "    }\n",
       "</style>\n",
       "<table border=\"1\" class=\"dataframe\">\n",
       "  <thead>\n",
       "    <tr style=\"text-align: right;\">\n",
       "      <th></th>\n",
       "      <th>text</th>\n",
       "    </tr>\n",
       "  </thead>\n",
       "  <tbody>\n",
       "    <tr>\n",
       "      <th>count</th>\n",
       "      <td>3897</td>\n",
       "    </tr>\n",
       "    <tr>\n",
       "      <th>unique</th>\n",
       "      <td>3805</td>\n",
       "    </tr>\n",
       "    <tr>\n",
       "      <th>top</th>\n",
       "      <td>I AM A FUCKING DUSTER ((Dacia ))Duster Renault</td>\n",
       "    </tr>\n",
       "    <tr>\n",
       "      <th>freq</th>\n",
       "      <td>18</td>\n",
       "    </tr>\n",
       "  </tbody>\n",
       "</table>\n",
       "</div>"
      ],
      "text/plain": [
       "                                                  text\n",
       "count                                             3897\n",
       "unique                                            3805\n",
       "top     I AM A FUCKING DUSTER ((Dacia ))Duster Renault\n",
       "freq                                                18"
      ]
     },
     "execution_count": 89,
     "metadata": {},
     "output_type": "execute_result"
    }
   ],
   "source": [
    "renault_tw.describe()"
   ]
  },
  {
   "cell_type": "code",
   "execution_count": 90,
   "id": "e668a991",
   "metadata": {},
   "outputs": [
    {
     "data": {
      "text/plain": [
       "text    0\n",
       "dtype: int64"
      ]
     },
     "execution_count": 90,
     "metadata": {},
     "output_type": "execute_result"
    }
   ],
   "source": [
    "renault_tw.isnull().sum()  # No existen nulos."
   ]
  },
  {
   "cell_type": "code",
   "execution_count": 91,
   "id": "e5eac9c6",
   "metadata": {},
   "outputs": [
    {
     "data": {
      "text/plain": [
       "92"
      ]
     },
     "execution_count": 91,
     "metadata": {},
     "output_type": "execute_result"
    }
   ],
   "source": [
    "renault_tw.duplicated().sum() # Encontramos 92 valores duplicados."
   ]
  },
  {
   "cell_type": "code",
   "execution_count": 92,
   "id": "b6872209",
   "metadata": {},
   "outputs": [],
   "source": [
    "drop_duplicates(renault_tw) # Eliminamos los valores duplicados."
   ]
  },
  {
   "cell_type": "code",
   "execution_count": 93,
   "id": "f4fb7ccd",
   "metadata": {},
   "outputs": [
    {
     "data": {
      "text/plain": [
       "(3805, 1)"
      ]
     },
     "execution_count": 93,
     "metadata": {},
     "output_type": "execute_result"
    }
   ],
   "source": [
    "renault_tw.shape"
   ]
  },
  {
   "cell_type": "markdown",
   "id": "f2b370ec",
   "metadata": {},
   "source": [
    "### Hashtags."
   ]
  },
  {
   "cell_type": "markdown",
   "id": "60031cc1",
   "metadata": {},
   "source": [
    "Queremos extraer los hastags de los tweets y almacenarlos en una nueva columna del DataFrame. Esto nos permitirá llevar a cabo un análisis específico de los hashtags una vez hecho el análisis del sentimiento de los tweets, relacionando el sentimiento con los hashtags utilizados en el tweet."
   ]
  },
  {
   "cell_type": "code",
   "execution_count": 94,
   "id": "7bc4161c",
   "metadata": {},
   "outputs": [],
   "source": [
    "renault_tw['hashtags'] = renault_tw.text.apply(extract_hashtags)"
   ]
  },
  {
   "cell_type": "code",
   "execution_count": 95,
   "id": "5fa4aa91",
   "metadata": {
    "scrolled": true
   },
   "outputs": [
    {
     "data": {
      "text/html": [
       "<div>\n",
       "<style scoped>\n",
       "    .dataframe tbody tr th:only-of-type {\n",
       "        vertical-align: middle;\n",
       "    }\n",
       "\n",
       "    .dataframe tbody tr th {\n",
       "        vertical-align: top;\n",
       "    }\n",
       "\n",
       "    .dataframe thead th {\n",
       "        text-align: right;\n",
       "    }\n",
       "</style>\n",
       "<table border=\"1\" class=\"dataframe\">\n",
       "  <thead>\n",
       "    <tr style=\"text-align: right;\">\n",
       "      <th></th>\n",
       "      <th>text</th>\n",
       "      <th>hashtags</th>\n",
       "    </tr>\n",
       "  </thead>\n",
       "  <tbody>\n",
       "    <tr>\n",
       "      <th>0</th>\n",
       "      <td>@Ianbarnes2001 @sheridan100_a @EnfieldCouncil ...</td>\n",
       "      <td>[]</td>\n",
       "    </tr>\n",
       "    <tr>\n",
       "      <th>1</th>\n",
       "      <td>@fo11owthe1ight @EnfieldCouncil @renault_uk Th...</td>\n",
       "      <td>[]</td>\n",
       "    </tr>\n",
       "    <tr>\n",
       "      <th>2</th>\n",
       "      <td>Some talented directors need to move their ass...</td>\n",
       "      <td>[]</td>\n",
       "    </tr>\n",
       "    <tr>\n",
       "      <th>3</th>\n",
       "      <td>An extra 25% of people are now more likely to ...</td>\n",
       "      <td>[#Google, #Renault]</td>\n",
       "    </tr>\n",
       "    <tr>\n",
       "      <th>4</th>\n",
       "      <td>@timalmond @whitesundesert @streetwiseprof Wel...</td>\n",
       "      <td>[]</td>\n",
       "    </tr>\n",
       "  </tbody>\n",
       "</table>\n",
       "</div>"
      ],
      "text/plain": [
       "                                                text             hashtags\n",
       "0  @Ianbarnes2001 @sheridan100_a @EnfieldCouncil ...                   []\n",
       "1  @fo11owthe1ight @EnfieldCouncil @renault_uk Th...                   []\n",
       "2  Some talented directors need to move their ass...                   []\n",
       "3  An extra 25% of people are now more likely to ...  [#Google, #Renault]\n",
       "4  @timalmond @whitesundesert @streetwiseprof Wel...                   []"
      ]
     },
     "execution_count": 95,
     "metadata": {},
     "output_type": "execute_result"
    }
   ],
   "source": [
    "renault_tw.head()"
   ]
  },
  {
   "cell_type": "markdown",
   "id": "fd3395d1",
   "metadata": {},
   "source": [
    "### Preparing Data."
   ]
  },
  {
   "cell_type": "markdown",
   "id": "d6d69235",
   "metadata": {},
   "source": [
    "**Limpieza básica:**\n",
    "- Pasamos todo a minúsculas.\n",
    "- Eliminamos usuarios ('@ + user' ya que en principio el nombre de los usuarios no aporta información relevante para el modelo).\n",
    "- Eliminamos urls.\n",
    "- Convertimos dígitos a números escritos.\n",
    "- Convertimos $ en 'dollars' y € en 'euros.\n",
    "- Eliminamos valores no alfabéticos: # (aunque manteniendo el texto que viene después ya que puede contener información relevante), signos de puntuación...\n",
    "\n",
    "Esta limpieza se ejecutará a través de nuestra función `basic_cleaning()`."
   ]
  },
  {
   "cell_type": "code",
   "execution_count": 96,
   "id": "1b92225c",
   "metadata": {},
   "outputs": [
    {
     "data": {
      "text/html": [
       "<div>\n",
       "<style scoped>\n",
       "    .dataframe tbody tr th:only-of-type {\n",
       "        vertical-align: middle;\n",
       "    }\n",
       "\n",
       "    .dataframe tbody tr th {\n",
       "        vertical-align: top;\n",
       "    }\n",
       "\n",
       "    .dataframe thead th {\n",
       "        text-align: right;\n",
       "    }\n",
       "</style>\n",
       "<table border=\"1\" class=\"dataframe\">\n",
       "  <thead>\n",
       "    <tr style=\"text-align: right;\">\n",
       "      <th></th>\n",
       "      <th>text</th>\n",
       "      <th>hashtags</th>\n",
       "    </tr>\n",
       "  </thead>\n",
       "  <tbody>\n",
       "    <tr>\n",
       "      <th>0</th>\n",
       "      <td>@Ianbarnes2001 @sheridan100_a @EnfieldCouncil ...</td>\n",
       "      <td>[]</td>\n",
       "    </tr>\n",
       "    <tr>\n",
       "      <th>1</th>\n",
       "      <td>@fo11owthe1ight @EnfieldCouncil @renault_uk Th...</td>\n",
       "      <td>[]</td>\n",
       "    </tr>\n",
       "    <tr>\n",
       "      <th>2</th>\n",
       "      <td>Some talented directors need to move their ass...</td>\n",
       "      <td>[]</td>\n",
       "    </tr>\n",
       "    <tr>\n",
       "      <th>3</th>\n",
       "      <td>An extra 25% of people are now more likely to ...</td>\n",
       "      <td>[#Google, #Renault]</td>\n",
       "    </tr>\n",
       "    <tr>\n",
       "      <th>4</th>\n",
       "      <td>@timalmond @whitesundesert @streetwiseprof Wel...</td>\n",
       "      <td>[]</td>\n",
       "    </tr>\n",
       "  </tbody>\n",
       "</table>\n",
       "</div>"
      ],
      "text/plain": [
       "                                                text             hashtags\n",
       "0  @Ianbarnes2001 @sheridan100_a @EnfieldCouncil ...                   []\n",
       "1  @fo11owthe1ight @EnfieldCouncil @renault_uk Th...                   []\n",
       "2  Some talented directors need to move their ass...                   []\n",
       "3  An extra 25% of people are now more likely to ...  [#Google, #Renault]\n",
       "4  @timalmond @whitesundesert @streetwiseprof Wel...                   []"
      ]
     },
     "execution_count": 96,
     "metadata": {},
     "output_type": "execute_result"
    }
   ],
   "source": [
    "renault_tw.head()"
   ]
  },
  {
   "cell_type": "code",
   "execution_count": 97,
   "id": "6042890c",
   "metadata": {},
   "outputs": [],
   "source": [
    "renault_tw['text'] = renault_tw.text.apply(basic_cleaning)"
   ]
  },
  {
   "cell_type": "code",
   "execution_count": 98,
   "id": "5c61e875",
   "metadata": {},
   "outputs": [
    {
     "data": {
      "text/html": [
       "<div>\n",
       "<style scoped>\n",
       "    .dataframe tbody tr th:only-of-type {\n",
       "        vertical-align: middle;\n",
       "    }\n",
       "\n",
       "    .dataframe tbody tr th {\n",
       "        vertical-align: top;\n",
       "    }\n",
       "\n",
       "    .dataframe thead th {\n",
       "        text-align: right;\n",
       "    }\n",
       "</style>\n",
       "<table border=\"1\" class=\"dataframe\">\n",
       "  <thead>\n",
       "    <tr style=\"text-align: right;\">\n",
       "      <th></th>\n",
       "      <th>text</th>\n",
       "      <th>hashtags</th>\n",
       "    </tr>\n",
       "  </thead>\n",
       "  <tbody>\n",
       "    <tr>\n",
       "      <th>0</th>\n",
       "      <td>aren t you the person who failed the applicati...</td>\n",
       "      <td>[]</td>\n",
       "    </tr>\n",
       "    <tr>\n",
       "      <th>1</th>\n",
       "      <td>there are far better recycling solutions avail...</td>\n",
       "      <td>[]</td>\n",
       "    </tr>\n",
       "    <tr>\n",
       "      <th>2</th>\n",
       "      <td>some talented directors need to move their ass...</td>\n",
       "      <td>[]</td>\n",
       "    </tr>\n",
       "    <tr>\n",
       "      <th>3</th>\n",
       "      <td>an extra two five of people are now more likel...</td>\n",
       "      <td>[#Google, #Renault]</td>\n",
       "    </tr>\n",
       "    <tr>\n",
       "      <th>4</th>\n",
       "      <td>well except the design of the moskvitch of cou...</td>\n",
       "      <td>[]</td>\n",
       "    </tr>\n",
       "  </tbody>\n",
       "</table>\n",
       "</div>"
      ],
      "text/plain": [
       "                                                text             hashtags\n",
       "0  aren t you the person who failed the applicati...                   []\n",
       "1  there are far better recycling solutions avail...                   []\n",
       "2  some talented directors need to move their ass...                   []\n",
       "3  an extra two five of people are now more likel...  [#Google, #Renault]\n",
       "4  well except the design of the moskvitch of cou...                   []"
      ]
     },
     "execution_count": 98,
     "metadata": {},
     "output_type": "execute_result"
    }
   ],
   "source": [
    "renault_tw.head()"
   ]
  },
  {
   "cell_type": "markdown",
   "id": "67316375",
   "metadata": {},
   "source": [
    "### Subsets."
   ]
  },
  {
   "cell_type": "markdown",
   "id": "86b190bd",
   "metadata": {},
   "source": [
    "En esta primera versión de la herramienta construiremos el mapa de posicionamiento en base a dos atributos de marca (variables): calidad y precio. Estos son los dos atributos básicos más utilizados de manera general en los mapas de posicionamiento (los mapas más sofisticados introducen ya otros atributos más específicos).\n",
    "\n",
    "Para poder completar el proceso de mapeo, lo primero que debemos hacer es dividir los datos (tweets recopilados) en dos subsets: los que hacen referencia al precio y los que hacen referencia a la calidad. Una vez subdivididos, ya podremos introducir los datos en el modelo NLP para evaluar el sentimiento en cada subset.\n",
    "\n",
    "La subdivisión nos permite diferenciar el sentimiento de los tweets que hablan del precio, del sentimiento en torno a la calidad general de la marca en cuestión. Esto es lo que haremos en esta etapa del proceso, en este caso sobre los tweets que mencionan a Nike."
   ]
  },
  {
   "cell_type": "markdown",
   "id": "d87d4381",
   "metadata": {},
   "source": [
    "1. Generamos una nueva columna que recoge la temática del tweet (atributo al que hace refencia)."
   ]
  },
  {
   "cell_type": "code",
   "execution_count": 99,
   "id": "f6d0824a",
   "metadata": {
    "scrolled": true
   },
   "outputs": [],
   "source": [
    "renault_tw['brand_attribute'] = renault_tw['text'].apply(data_groups)"
   ]
  },
  {
   "cell_type": "code",
   "execution_count": 100,
   "id": "5920e3df",
   "metadata": {
    "scrolled": false
   },
   "outputs": [
    {
     "data": {
      "text/html": [
       "<div>\n",
       "<style scoped>\n",
       "    .dataframe tbody tr th:only-of-type {\n",
       "        vertical-align: middle;\n",
       "    }\n",
       "\n",
       "    .dataframe tbody tr th {\n",
       "        vertical-align: top;\n",
       "    }\n",
       "\n",
       "    .dataframe thead th {\n",
       "        text-align: right;\n",
       "    }\n",
       "</style>\n",
       "<table border=\"1\" class=\"dataframe\">\n",
       "  <thead>\n",
       "    <tr style=\"text-align: right;\">\n",
       "      <th></th>\n",
       "      <th>text</th>\n",
       "      <th>hashtags</th>\n",
       "      <th>brand_attribute</th>\n",
       "    </tr>\n",
       "  </thead>\n",
       "  <tbody>\n",
       "    <tr>\n",
       "      <th>0</th>\n",
       "      <td>aren t you the person who failed the applicati...</td>\n",
       "      <td>[]</td>\n",
       "      <td>quality</td>\n",
       "    </tr>\n",
       "    <tr>\n",
       "      <th>1</th>\n",
       "      <td>there are far better recycling solutions avail...</td>\n",
       "      <td>[]</td>\n",
       "      <td>quality</td>\n",
       "    </tr>\n",
       "    <tr>\n",
       "      <th>2</th>\n",
       "      <td>some talented directors need to move their ass...</td>\n",
       "      <td>[]</td>\n",
       "      <td>quality</td>\n",
       "    </tr>\n",
       "    <tr>\n",
       "      <th>3</th>\n",
       "      <td>an extra two five of people are now more likel...</td>\n",
       "      <td>[#Google, #Renault]</td>\n",
       "      <td>price</td>\n",
       "    </tr>\n",
       "    <tr>\n",
       "      <th>4</th>\n",
       "      <td>well except the design of the moskvitch of cou...</td>\n",
       "      <td>[]</td>\n",
       "      <td>quality</td>\n",
       "    </tr>\n",
       "  </tbody>\n",
       "</table>\n",
       "</div>"
      ],
      "text/plain": [
       "                                                text             hashtags  \\\n",
       "0  aren t you the person who failed the applicati...                   []   \n",
       "1  there are far better recycling solutions avail...                   []   \n",
       "2  some talented directors need to move their ass...                   []   \n",
       "3  an extra two five of people are now more likel...  [#Google, #Renault]   \n",
       "4  well except the design of the moskvitch of cou...                   []   \n",
       "\n",
       "  brand_attribute  \n",
       "0         quality  \n",
       "1         quality  \n",
       "2         quality  \n",
       "3           price  \n",
       "4         quality  "
      ]
     },
     "execution_count": 100,
     "metadata": {},
     "output_type": "execute_result"
    }
   ],
   "source": [
    "renault_tw.head()"
   ]
  },
  {
   "cell_type": "code",
   "execution_count": 101,
   "id": "a9cbe43f",
   "metadata": {},
   "outputs": [
    {
     "data": {
      "text/plain": [
       "quality    3018\n",
       "price       787\n",
       "Name: brand_attribute, dtype: int64"
      ]
     },
     "execution_count": 101,
     "metadata": {},
     "output_type": "execute_result"
    }
   ],
   "source": [
    "renault_tw.brand_attribute.value_counts()"
   ]
  },
  {
   "cell_type": "markdown",
   "id": "ae8b93a5",
   "metadata": {},
   "source": [
    "2. Exportamos los subsets de Nike (uno de calidad y otro de precio).\n",
    "\n",
    "    2.1. Precio:"
   ]
  },
  {
   "cell_type": "code",
   "execution_count": 102,
   "id": "3d2df267",
   "metadata": {},
   "outputs": [],
   "source": [
    "renault_price = pd.DataFrame(renault_tw.where(renault_tw.brand_attribute=='price').dropna().drop('brand_attribute',axis=1))"
   ]
  },
  {
   "cell_type": "code",
   "execution_count": 103,
   "id": "c10ce188",
   "metadata": {},
   "outputs": [
    {
     "data": {
      "text/plain": [
       "text        0\n",
       "hashtags    0\n",
       "dtype: int64"
      ]
     },
     "execution_count": 103,
     "metadata": {},
     "output_type": "execute_result"
    }
   ],
   "source": [
    "renault_price.isnull().sum()"
   ]
  },
  {
   "cell_type": "code",
   "execution_count": 104,
   "id": "28adce48",
   "metadata": {},
   "outputs": [
    {
     "data": {
      "text/plain": [
       "(787, 2)"
      ]
     },
     "execution_count": 104,
     "metadata": {},
     "output_type": "execute_result"
    }
   ],
   "source": [
    "renault_price.shape"
   ]
  },
  {
   "cell_type": "code",
   "execution_count": 105,
   "id": "980dce97",
   "metadata": {},
   "outputs": [],
   "source": [
    "# Exportamos el subset de precio.\n",
    "\n",
    "renault_price.to_csv('data/renault_price.csv', index = False)"
   ]
  },
  {
   "cell_type": "markdown",
   "id": "e5110527",
   "metadata": {},
   "source": [
    "    2.2. Calidad:"
   ]
  },
  {
   "cell_type": "code",
   "execution_count": 106,
   "id": "33fa941a",
   "metadata": {},
   "outputs": [],
   "source": [
    "renault_quality = pd.DataFrame(renault_tw.where(renault_tw.brand_attribute=='quality').dropna().drop('brand_attribute',axis=1))"
   ]
  },
  {
   "cell_type": "code",
   "execution_count": 107,
   "id": "ef49da6e",
   "metadata": {},
   "outputs": [
    {
     "data": {
      "text/plain": [
       "text        0\n",
       "hashtags    0\n",
       "dtype: int64"
      ]
     },
     "execution_count": 107,
     "metadata": {},
     "output_type": "execute_result"
    }
   ],
   "source": [
    "renault_quality.isnull().sum()"
   ]
  },
  {
   "cell_type": "code",
   "execution_count": 108,
   "id": "d4990642",
   "metadata": {},
   "outputs": [
    {
     "data": {
      "text/plain": [
       "(3018, 2)"
      ]
     },
     "execution_count": 108,
     "metadata": {},
     "output_type": "execute_result"
    }
   ],
   "source": [
    "renault_quality.shape"
   ]
  },
  {
   "cell_type": "code",
   "execution_count": 109,
   "id": "f980bead",
   "metadata": {},
   "outputs": [],
   "source": [
    "# Exportamos el subset de calidad.\n",
    "\n",
    "renault_quality.to_csv('data/renault_quality.csv', index = False)"
   ]
  },
  {
   "cell_type": "markdown",
   "id": "2095a152",
   "metadata": {},
   "source": [
    "**Nota importante:**\n",
    "\n",
    "Aunque hemos exportado cada subset en archivos csv independientes (lo tenemos guardado de manera desagregada), en realidad trabajaremos con un único DataFrame que contenga todos los tweets analizados (los de todas las marcas y todos los atributos). En este DataFrame recogeremos en una columna la marca a la que hacen referencia y en otra columna el atributo al que se refieren (calidad y precio). Esto lo hacemos así porque nos permitirá agilizar mucho los procesos de visualización de resultados y obtener gráficos de mejor calidad (podremos filtrar en función de la marca y el atributo, al tiempo que manejamos un único DataFrame para mayor eficiencia)."
   ]
  },
  {
   "cell_type": "markdown",
   "id": "bbc0e0d5",
   "metadata": {},
   "source": [
    "## Fiat data."
   ]
  },
  {
   "cell_type": "code",
   "execution_count": 110,
   "id": "d5c4cc95",
   "metadata": {},
   "outputs": [],
   "source": [
    "fiat = pd.read_csv('data/fiat.csv')"
   ]
  },
  {
   "cell_type": "code",
   "execution_count": 111,
   "id": "003ff397",
   "metadata": {},
   "outputs": [],
   "source": [
    "fiat_tw = pd.DataFrame(fiat.text)"
   ]
  },
  {
   "cell_type": "markdown",
   "id": "15f47296",
   "metadata": {},
   "source": [
    "### Exploración inicial de los datos:"
   ]
  },
  {
   "cell_type": "code",
   "execution_count": 112,
   "id": "7ee6d639",
   "metadata": {},
   "outputs": [
    {
     "data": {
      "text/plain": [
       "(5098, 1)"
      ]
     },
     "execution_count": 112,
     "metadata": {},
     "output_type": "execute_result"
    }
   ],
   "source": [
    "fiat_tw.shape"
   ]
  },
  {
   "cell_type": "code",
   "execution_count": 113,
   "id": "a0e8332a",
   "metadata": {},
   "outputs": [
    {
     "name": "stdout",
     "output_type": "stream",
     "text": [
      "<class 'pandas.core.frame.DataFrame'>\n",
      "RangeIndex: 5098 entries, 0 to 5097\n",
      "Data columns (total 1 columns):\n",
      " #   Column  Non-Null Count  Dtype \n",
      "---  ------  --------------  ----- \n",
      " 0   text    5098 non-null   object\n",
      "dtypes: object(1)\n",
      "memory usage: 40.0+ KB\n"
     ]
    }
   ],
   "source": [
    "fiat_tw.info()"
   ]
  },
  {
   "cell_type": "code",
   "execution_count": 114,
   "id": "cfacdd7d",
   "metadata": {},
   "outputs": [
    {
     "data": {
      "text/html": [
       "<div>\n",
       "<style scoped>\n",
       "    .dataframe tbody tr th:only-of-type {\n",
       "        vertical-align: middle;\n",
       "    }\n",
       "\n",
       "    .dataframe tbody tr th {\n",
       "        vertical-align: top;\n",
       "    }\n",
       "\n",
       "    .dataframe thead th {\n",
       "        text-align: right;\n",
       "    }\n",
       "</style>\n",
       "<table border=\"1\" class=\"dataframe\">\n",
       "  <thead>\n",
       "    <tr style=\"text-align: right;\">\n",
       "      <th></th>\n",
       "      <th>text</th>\n",
       "    </tr>\n",
       "  </thead>\n",
       "  <tbody>\n",
       "    <tr>\n",
       "      <th>count</th>\n",
       "      <td>5098</td>\n",
       "    </tr>\n",
       "    <tr>\n",
       "      <th>unique</th>\n",
       "      <td>4976</td>\n",
       "    </tr>\n",
       "    <tr>\n",
       "      <th>top</th>\n",
       "      <td>@TheCryptoLark As an Iranian our national curr...</td>\n",
       "    </tr>\n",
       "    <tr>\n",
       "      <th>freq</th>\n",
       "      <td>13</td>\n",
       "    </tr>\n",
       "  </tbody>\n",
       "</table>\n",
       "</div>"
      ],
      "text/plain": [
       "                                                     text\n",
       "count                                                5098\n",
       "unique                                               4976\n",
       "top     @TheCryptoLark As an Iranian our national curr...\n",
       "freq                                                   13"
      ]
     },
     "execution_count": 114,
     "metadata": {},
     "output_type": "execute_result"
    }
   ],
   "source": [
    "fiat_tw.describe()"
   ]
  },
  {
   "cell_type": "code",
   "execution_count": 115,
   "id": "c537adb3",
   "metadata": {},
   "outputs": [
    {
     "data": {
      "text/plain": [
       "text    0\n",
       "dtype: int64"
      ]
     },
     "execution_count": 115,
     "metadata": {},
     "output_type": "execute_result"
    }
   ],
   "source": [
    "fiat_tw.isnull().sum()  # No existen nulos."
   ]
  },
  {
   "cell_type": "code",
   "execution_count": 116,
   "id": "42675d66",
   "metadata": {},
   "outputs": [
    {
     "data": {
      "text/plain": [
       "122"
      ]
     },
     "execution_count": 116,
     "metadata": {},
     "output_type": "execute_result"
    }
   ],
   "source": [
    "fiat_tw.duplicated().sum() # Encontramos 122 valores duplicados."
   ]
  },
  {
   "cell_type": "code",
   "execution_count": 117,
   "id": "25b72e9f",
   "metadata": {},
   "outputs": [],
   "source": [
    "drop_duplicates(fiat_tw) # Eliminamos los valores duplicados."
   ]
  },
  {
   "cell_type": "code",
   "execution_count": 118,
   "id": "a8838130",
   "metadata": {},
   "outputs": [
    {
     "data": {
      "text/plain": [
       "(4976, 1)"
      ]
     },
     "execution_count": 118,
     "metadata": {},
     "output_type": "execute_result"
    }
   ],
   "source": [
    "fiat_tw.shape"
   ]
  },
  {
   "cell_type": "markdown",
   "id": "674e526e",
   "metadata": {},
   "source": [
    "### Hashtags."
   ]
  },
  {
   "cell_type": "markdown",
   "id": "3ffb59d7",
   "metadata": {},
   "source": [
    "Queremos extraer los hastags de los tweets y almacenarlos en una nueva columna del DataFrame. Esto nos permitirá llevar a cabo un análisis específico de los hashtags una vez hecho el análisis del sentimiento de los tweets, relacionando el sentimiento con los hashtags utilizados en el tweet."
   ]
  },
  {
   "cell_type": "code",
   "execution_count": 119,
   "id": "75d9b415",
   "metadata": {},
   "outputs": [],
   "source": [
    "fiat_tw['hashtags'] = fiat_tw.text.apply(extract_hashtags)"
   ]
  },
  {
   "cell_type": "code",
   "execution_count": 120,
   "id": "1e82978a",
   "metadata": {
    "scrolled": true
   },
   "outputs": [
    {
     "data": {
      "text/html": [
       "<div>\n",
       "<style scoped>\n",
       "    .dataframe tbody tr th:only-of-type {\n",
       "        vertical-align: middle;\n",
       "    }\n",
       "\n",
       "    .dataframe tbody tr th {\n",
       "        vertical-align: top;\n",
       "    }\n",
       "\n",
       "    .dataframe thead th {\n",
       "        text-align: right;\n",
       "    }\n",
       "</style>\n",
       "<table border=\"1\" class=\"dataframe\">\n",
       "  <thead>\n",
       "    <tr style=\"text-align: right;\">\n",
       "      <th></th>\n",
       "      <th>text</th>\n",
       "      <th>hashtags</th>\n",
       "    </tr>\n",
       "  </thead>\n",
       "  <tbody>\n",
       "    <tr>\n",
       "      <th>0</th>\n",
       "      <td>@TheMoonCarl #RoboWallet converts crypto to fi...</td>\n",
       "      <td>[#RoboWallet, #Roboinu]</td>\n",
       "    </tr>\n",
       "    <tr>\n",
       "      <th>1</th>\n",
       "      <td>@TapasCrypto @RoboInuFinance ROBO INU FINANCE ...</td>\n",
       "      <td>[#ERC20, #RBIF, #NASA, #Roboinu, #RoboWarrior,...</td>\n",
       "    </tr>\n",
       "    <tr>\n",
       "      <th>2</th>\n",
       "      <td>Fiat Panda 1.0 GSE Hybrid Cross https://t.co/f...</td>\n",
       "      <td>[]</td>\n",
       "    </tr>\n",
       "    <tr>\n",
       "      <th>3</th>\n",
       "      <td>@TheVladCostea noun, the fiat\\nverb, to fiat\\n...</td>\n",
       "      <td>[]</td>\n",
       "    </tr>\n",
       "    <tr>\n",
       "      <th>4</th>\n",
       "      <td>Convert as much fiat into #Bitcoin  as you can...</td>\n",
       "      <td>[#Bitcoin]</td>\n",
       "    </tr>\n",
       "  </tbody>\n",
       "</table>\n",
       "</div>"
      ],
      "text/plain": [
       "                                                text  \\\n",
       "0  @TheMoonCarl #RoboWallet converts crypto to fi...   \n",
       "1  @TapasCrypto @RoboInuFinance ROBO INU FINANCE ...   \n",
       "2  Fiat Panda 1.0 GSE Hybrid Cross https://t.co/f...   \n",
       "3  @TheVladCostea noun, the fiat\\nverb, to fiat\\n...   \n",
       "4  Convert as much fiat into #Bitcoin  as you can...   \n",
       "\n",
       "                                            hashtags  \n",
       "0                            [#RoboWallet, #Roboinu]  \n",
       "1  [#ERC20, #RBIF, #NASA, #Roboinu, #RoboWarrior,...  \n",
       "2                                                 []  \n",
       "3                                                 []  \n",
       "4                                         [#Bitcoin]  "
      ]
     },
     "execution_count": 120,
     "metadata": {},
     "output_type": "execute_result"
    }
   ],
   "source": [
    "fiat_tw.head()"
   ]
  },
  {
   "cell_type": "markdown",
   "id": "88c3450a",
   "metadata": {},
   "source": [
    "### Preparing Data."
   ]
  },
  {
   "cell_type": "markdown",
   "id": "afd2060f",
   "metadata": {},
   "source": [
    "**Limpieza básica:**\n",
    "- Pasamos todo a minúsculas.\n",
    "- Eliminamos usuarios ('@ + user' ya que en principio el nombre de los usuarios no aporta información relevante para el modelo).\n",
    "- Eliminamos urls.\n",
    "- Convertimos dígitos a números escritos.\n",
    "- Convertimos $ en 'dollars' y € en 'euros.\n",
    "- Eliminamos valores no alfabéticos: # (aunque manteniendo el texto que viene después ya que puede contener información relevante), signos de puntuación...\n",
    "\n",
    "Esta limpieza se ejecutará a través de nuestra función `basic_cleaning()`."
   ]
  },
  {
   "cell_type": "code",
   "execution_count": 121,
   "id": "a0032109",
   "metadata": {},
   "outputs": [
    {
     "data": {
      "text/html": [
       "<div>\n",
       "<style scoped>\n",
       "    .dataframe tbody tr th:only-of-type {\n",
       "        vertical-align: middle;\n",
       "    }\n",
       "\n",
       "    .dataframe tbody tr th {\n",
       "        vertical-align: top;\n",
       "    }\n",
       "\n",
       "    .dataframe thead th {\n",
       "        text-align: right;\n",
       "    }\n",
       "</style>\n",
       "<table border=\"1\" class=\"dataframe\">\n",
       "  <thead>\n",
       "    <tr style=\"text-align: right;\">\n",
       "      <th></th>\n",
       "      <th>text</th>\n",
       "      <th>hashtags</th>\n",
       "    </tr>\n",
       "  </thead>\n",
       "  <tbody>\n",
       "    <tr>\n",
       "      <th>0</th>\n",
       "      <td>@TheMoonCarl #RoboWallet converts crypto to fi...</td>\n",
       "      <td>[#RoboWallet, #Roboinu]</td>\n",
       "    </tr>\n",
       "    <tr>\n",
       "      <th>1</th>\n",
       "      <td>@TapasCrypto @RoboInuFinance ROBO INU FINANCE ...</td>\n",
       "      <td>[#ERC20, #RBIF, #NASA, #Roboinu, #RoboWarrior,...</td>\n",
       "    </tr>\n",
       "    <tr>\n",
       "      <th>2</th>\n",
       "      <td>Fiat Panda 1.0 GSE Hybrid Cross https://t.co/f...</td>\n",
       "      <td>[]</td>\n",
       "    </tr>\n",
       "    <tr>\n",
       "      <th>3</th>\n",
       "      <td>@TheVladCostea noun, the fiat\\nverb, to fiat\\n...</td>\n",
       "      <td>[]</td>\n",
       "    </tr>\n",
       "    <tr>\n",
       "      <th>4</th>\n",
       "      <td>Convert as much fiat into #Bitcoin  as you can...</td>\n",
       "      <td>[#Bitcoin]</td>\n",
       "    </tr>\n",
       "  </tbody>\n",
       "</table>\n",
       "</div>"
      ],
      "text/plain": [
       "                                                text  \\\n",
       "0  @TheMoonCarl #RoboWallet converts crypto to fi...   \n",
       "1  @TapasCrypto @RoboInuFinance ROBO INU FINANCE ...   \n",
       "2  Fiat Panda 1.0 GSE Hybrid Cross https://t.co/f...   \n",
       "3  @TheVladCostea noun, the fiat\\nverb, to fiat\\n...   \n",
       "4  Convert as much fiat into #Bitcoin  as you can...   \n",
       "\n",
       "                                            hashtags  \n",
       "0                            [#RoboWallet, #Roboinu]  \n",
       "1  [#ERC20, #RBIF, #NASA, #Roboinu, #RoboWarrior,...  \n",
       "2                                                 []  \n",
       "3                                                 []  \n",
       "4                                         [#Bitcoin]  "
      ]
     },
     "execution_count": 121,
     "metadata": {},
     "output_type": "execute_result"
    }
   ],
   "source": [
    "fiat_tw.head()"
   ]
  },
  {
   "cell_type": "code",
   "execution_count": 122,
   "id": "8e298f6f",
   "metadata": {},
   "outputs": [],
   "source": [
    "fiat_tw['text'] = fiat_tw.text.apply(basic_cleaning)"
   ]
  },
  {
   "cell_type": "code",
   "execution_count": 123,
   "id": "439a1b93",
   "metadata": {},
   "outputs": [
    {
     "data": {
      "text/html": [
       "<div>\n",
       "<style scoped>\n",
       "    .dataframe tbody tr th:only-of-type {\n",
       "        vertical-align: middle;\n",
       "    }\n",
       "\n",
       "    .dataframe tbody tr th {\n",
       "        vertical-align: top;\n",
       "    }\n",
       "\n",
       "    .dataframe thead th {\n",
       "        text-align: right;\n",
       "    }\n",
       "</style>\n",
       "<table border=\"1\" class=\"dataframe\">\n",
       "  <thead>\n",
       "    <tr style=\"text-align: right;\">\n",
       "      <th></th>\n",
       "      <th>text</th>\n",
       "      <th>hashtags</th>\n",
       "    </tr>\n",
       "  </thead>\n",
       "  <tbody>\n",
       "    <tr>\n",
       "      <th>0</th>\n",
       "      <td>robo wallet converts crypto to fiat directly t...</td>\n",
       "      <td>[#RoboWallet, #Roboinu]</td>\n",
       "    </tr>\n",
       "    <tr>\n",
       "      <th>1</th>\n",
       "      <td>robo inu finance is an e r c two zero token rb...</td>\n",
       "      <td>[#ERC20, #RBIF, #NASA, #Roboinu, #RoboWarrior,...</td>\n",
       "    </tr>\n",
       "    <tr>\n",
       "      <th>2</th>\n",
       "      <td>fiat panda one zero gse hybrid cross ebay</td>\n",
       "      <td>[]</td>\n",
       "    </tr>\n",
       "    <tr>\n",
       "      <th>3</th>\n",
       "      <td>noun the fiat verb to fiat adjective fiat adve...</td>\n",
       "      <td>[]</td>\n",
       "    </tr>\n",
       "    <tr>\n",
       "      <th>4</th>\n",
       "      <td>convert as much fiat into bitcoin as you can t...</td>\n",
       "      <td>[#Bitcoin]</td>\n",
       "    </tr>\n",
       "  </tbody>\n",
       "</table>\n",
       "</div>"
      ],
      "text/plain": [
       "                                                text  \\\n",
       "0  robo wallet converts crypto to fiat directly t...   \n",
       "1  robo inu finance is an e r c two zero token rb...   \n",
       "2          fiat panda one zero gse hybrid cross ebay   \n",
       "3  noun the fiat verb to fiat adjective fiat adve...   \n",
       "4  convert as much fiat into bitcoin as you can t...   \n",
       "\n",
       "                                            hashtags  \n",
       "0                            [#RoboWallet, #Roboinu]  \n",
       "1  [#ERC20, #RBIF, #NASA, #Roboinu, #RoboWarrior,...  \n",
       "2                                                 []  \n",
       "3                                                 []  \n",
       "4                                         [#Bitcoin]  "
      ]
     },
     "execution_count": 123,
     "metadata": {},
     "output_type": "execute_result"
    }
   ],
   "source": [
    "fiat_tw.head()"
   ]
  },
  {
   "cell_type": "markdown",
   "id": "79f58905",
   "metadata": {},
   "source": [
    "### Subsets."
   ]
  },
  {
   "cell_type": "markdown",
   "id": "05c2d7c4",
   "metadata": {},
   "source": [
    "En esta primera versión de la herramienta construiremos el mapa de posicionamiento en base a dos atributos de marca (variables): calidad y precio. Estos son los dos atributos básicos más utilizados de manera general en los mapas de posicionamiento (los mapas más sofisticados introducen ya otros atributos más específicos).\n",
    "\n",
    "Para poder completar el proceso de mapeo, lo primero que debemos hacer es dividir los datos (tweets recopilados) en dos subsets: los que hacen referencia al precio y los que hacen referencia a la calidad. Una vez subdivididos, ya podremos introducir los datos en el modelo NLP para evaluar el sentimiento en cada subset.\n",
    "\n",
    "La subdivisión nos permite diferenciar el sentimiento de los tweets que hablan del precio, del sentimiento en torno a la calidad general de la marca en cuestión. Esto es lo que haremos en esta etapa del proceso, en este caso sobre los tweets que mencionan a Nike."
   ]
  },
  {
   "cell_type": "markdown",
   "id": "46f66ca9",
   "metadata": {},
   "source": [
    "1. Generamos una nueva columna que recoge la temática del tweet (atributo al que hace refencia)."
   ]
  },
  {
   "cell_type": "code",
   "execution_count": 124,
   "id": "54013cc7",
   "metadata": {
    "scrolled": true
   },
   "outputs": [],
   "source": [
    "fiat_tw['brand_attribute'] = fiat_tw['text'].apply(data_groups)"
   ]
  },
  {
   "cell_type": "code",
   "execution_count": 125,
   "id": "db97083c",
   "metadata": {
    "scrolled": false
   },
   "outputs": [
    {
     "data": {
      "text/html": [
       "<div>\n",
       "<style scoped>\n",
       "    .dataframe tbody tr th:only-of-type {\n",
       "        vertical-align: middle;\n",
       "    }\n",
       "\n",
       "    .dataframe tbody tr th {\n",
       "        vertical-align: top;\n",
       "    }\n",
       "\n",
       "    .dataframe thead th {\n",
       "        text-align: right;\n",
       "    }\n",
       "</style>\n",
       "<table border=\"1\" class=\"dataframe\">\n",
       "  <thead>\n",
       "    <tr style=\"text-align: right;\">\n",
       "      <th></th>\n",
       "      <th>text</th>\n",
       "      <th>hashtags</th>\n",
       "      <th>brand_attribute</th>\n",
       "    </tr>\n",
       "  </thead>\n",
       "  <tbody>\n",
       "    <tr>\n",
       "      <th>0</th>\n",
       "      <td>robo wallet converts crypto to fiat directly t...</td>\n",
       "      <td>[#RoboWallet, #Roboinu]</td>\n",
       "      <td>price</td>\n",
       "    </tr>\n",
       "    <tr>\n",
       "      <th>1</th>\n",
       "      <td>robo inu finance is an e r c two zero token rb...</td>\n",
       "      <td>[#ERC20, #RBIF, #NASA, #Roboinu, #RoboWarrior,...</td>\n",
       "      <td>price</td>\n",
       "    </tr>\n",
       "    <tr>\n",
       "      <th>2</th>\n",
       "      <td>fiat panda one zero gse hybrid cross ebay</td>\n",
       "      <td>[]</td>\n",
       "      <td>quality</td>\n",
       "    </tr>\n",
       "    <tr>\n",
       "      <th>3</th>\n",
       "      <td>noun the fiat verb to fiat adjective fiat adve...</td>\n",
       "      <td>[]</td>\n",
       "      <td>quality</td>\n",
       "    </tr>\n",
       "    <tr>\n",
       "      <th>4</th>\n",
       "      <td>convert as much fiat into bitcoin as you can t...</td>\n",
       "      <td>[#Bitcoin]</td>\n",
       "      <td>price</td>\n",
       "    </tr>\n",
       "  </tbody>\n",
       "</table>\n",
       "</div>"
      ],
      "text/plain": [
       "                                                text  \\\n",
       "0  robo wallet converts crypto to fiat directly t...   \n",
       "1  robo inu finance is an e r c two zero token rb...   \n",
       "2          fiat panda one zero gse hybrid cross ebay   \n",
       "3  noun the fiat verb to fiat adjective fiat adve...   \n",
       "4  convert as much fiat into bitcoin as you can t...   \n",
       "\n",
       "                                            hashtags brand_attribute  \n",
       "0                            [#RoboWallet, #Roboinu]           price  \n",
       "1  [#ERC20, #RBIF, #NASA, #Roboinu, #RoboWarrior,...           price  \n",
       "2                                                 []         quality  \n",
       "3                                                 []         quality  \n",
       "4                                         [#Bitcoin]           price  "
      ]
     },
     "execution_count": 125,
     "metadata": {},
     "output_type": "execute_result"
    }
   ],
   "source": [
    "fiat_tw.head()"
   ]
  },
  {
   "cell_type": "code",
   "execution_count": 126,
   "id": "ec18d357",
   "metadata": {},
   "outputs": [
    {
     "data": {
      "text/plain": [
       "price      3516\n",
       "quality    1460\n",
       "Name: brand_attribute, dtype: int64"
      ]
     },
     "execution_count": 126,
     "metadata": {},
     "output_type": "execute_result"
    }
   ],
   "source": [
    "fiat_tw.brand_attribute.value_counts()"
   ]
  },
  {
   "cell_type": "markdown",
   "id": "d1f75a74",
   "metadata": {},
   "source": [
    "2. Exportamos los subsets de Nike (uno de calidad y otro de precio).\n",
    "\n",
    "    2.1. Precio:"
   ]
  },
  {
   "cell_type": "code",
   "execution_count": 127,
   "id": "f8e4460b",
   "metadata": {},
   "outputs": [],
   "source": [
    "fiat_price = pd.DataFrame(fiat_tw.where(fiat_tw.brand_attribute=='price').dropna().drop('brand_attribute',axis=1))"
   ]
  },
  {
   "cell_type": "code",
   "execution_count": 128,
   "id": "0fcc63ea",
   "metadata": {},
   "outputs": [
    {
     "data": {
      "text/plain": [
       "text        0\n",
       "hashtags    0\n",
       "dtype: int64"
      ]
     },
     "execution_count": 128,
     "metadata": {},
     "output_type": "execute_result"
    }
   ],
   "source": [
    "fiat_price.isnull().sum()"
   ]
  },
  {
   "cell_type": "code",
   "execution_count": 129,
   "id": "5d7c71b5",
   "metadata": {},
   "outputs": [
    {
     "data": {
      "text/plain": [
       "(3516, 2)"
      ]
     },
     "execution_count": 129,
     "metadata": {},
     "output_type": "execute_result"
    }
   ],
   "source": [
    "fiat_price.shape"
   ]
  },
  {
   "cell_type": "code",
   "execution_count": 130,
   "id": "7da1b1fe",
   "metadata": {},
   "outputs": [],
   "source": [
    "# Exportamos el subset de precio.\n",
    "\n",
    "fiat_price.to_csv('data/fiat_price.csv', index = False)"
   ]
  },
  {
   "cell_type": "markdown",
   "id": "92b139ec",
   "metadata": {},
   "source": [
    "    2.2. Calidad:"
   ]
  },
  {
   "cell_type": "code",
   "execution_count": 131,
   "id": "a57bc4fc",
   "metadata": {},
   "outputs": [],
   "source": [
    "fiat_quality = pd.DataFrame(fiat_tw.where(fiat_tw.brand_attribute=='quality').dropna().drop('brand_attribute',axis=1))"
   ]
  },
  {
   "cell_type": "code",
   "execution_count": 132,
   "id": "ec23cd33",
   "metadata": {},
   "outputs": [
    {
     "data": {
      "text/plain": [
       "text        0\n",
       "hashtags    0\n",
       "dtype: int64"
      ]
     },
     "execution_count": 132,
     "metadata": {},
     "output_type": "execute_result"
    }
   ],
   "source": [
    "fiat_quality.isnull().sum()"
   ]
  },
  {
   "cell_type": "code",
   "execution_count": 133,
   "id": "65b5f946",
   "metadata": {},
   "outputs": [
    {
     "data": {
      "text/plain": [
       "(1460, 2)"
      ]
     },
     "execution_count": 133,
     "metadata": {},
     "output_type": "execute_result"
    }
   ],
   "source": [
    "fiat_quality.shape"
   ]
  },
  {
   "cell_type": "code",
   "execution_count": 134,
   "id": "2e0c232a",
   "metadata": {},
   "outputs": [],
   "source": [
    "# Exportamos el subset de calidad.\n",
    "\n",
    "fiat_quality.to_csv('data/fiat_quality.csv', index = False)"
   ]
  },
  {
   "cell_type": "markdown",
   "id": "c9dbfcfa",
   "metadata": {},
   "source": [
    "**Nota importante:**\n",
    "\n",
    "Aunque hemos exportado cada subset en archivos csv independientes (lo tenemos guardado de manera desagregada), en realidad trabajaremos con un único DataFrame que contenga todos los tweets analizados (los de todas las marcas y todos los atributos). En este DataFrame recogeremos en una columna la marca a la que hacen referencia y en otra columna el atributo al que se refieren (calidad y precio). Esto lo hacemos así porque nos permitirá agilizar mucho los procesos de visualización de resultados y obtener gráficos de mejor calidad (podremos filtrar en función de la marca y el atributo, al tiempo que manejamos un único DataFrame para mayor eficiencia)."
   ]
  },
  {
   "cell_type": "markdown",
   "id": "1cecb0bd",
   "metadata": {},
   "source": [
    "## Ferrari data."
   ]
  },
  {
   "cell_type": "code",
   "execution_count": 135,
   "id": "5eb77495",
   "metadata": {},
   "outputs": [],
   "source": [
    "ferrari = pd.read_csv('data/ferrari.csv')"
   ]
  },
  {
   "cell_type": "code",
   "execution_count": 136,
   "id": "406b9407",
   "metadata": {},
   "outputs": [],
   "source": [
    "ferrari_tw = pd.DataFrame(ferrari.text)"
   ]
  },
  {
   "cell_type": "markdown",
   "id": "5cf6f7b6",
   "metadata": {},
   "source": [
    "### Exploración inicial de los datos:"
   ]
  },
  {
   "cell_type": "code",
   "execution_count": 137,
   "id": "4b8e68e6",
   "metadata": {},
   "outputs": [
    {
     "data": {
      "text/plain": [
       "(600, 1)"
      ]
     },
     "execution_count": 137,
     "metadata": {},
     "output_type": "execute_result"
    }
   ],
   "source": [
    "ferrari_tw.shape"
   ]
  },
  {
   "cell_type": "code",
   "execution_count": 138,
   "id": "da9d4249",
   "metadata": {},
   "outputs": [
    {
     "name": "stdout",
     "output_type": "stream",
     "text": [
      "<class 'pandas.core.frame.DataFrame'>\n",
      "RangeIndex: 600 entries, 0 to 599\n",
      "Data columns (total 1 columns):\n",
      " #   Column  Non-Null Count  Dtype \n",
      "---  ------  --------------  ----- \n",
      " 0   text    600 non-null    object\n",
      "dtypes: object(1)\n",
      "memory usage: 4.8+ KB\n"
     ]
    }
   ],
   "source": [
    "ferrari_tw.info()"
   ]
  },
  {
   "cell_type": "code",
   "execution_count": 139,
   "id": "731d1dfe",
   "metadata": {},
   "outputs": [
    {
     "data": {
      "text/html": [
       "<div>\n",
       "<style scoped>\n",
       "    .dataframe tbody tr th:only-of-type {\n",
       "        vertical-align: middle;\n",
       "    }\n",
       "\n",
       "    .dataframe tbody tr th {\n",
       "        vertical-align: top;\n",
       "    }\n",
       "\n",
       "    .dataframe thead th {\n",
       "        text-align: right;\n",
       "    }\n",
       "</style>\n",
       "<table border=\"1\" class=\"dataframe\">\n",
       "  <thead>\n",
       "    <tr style=\"text-align: right;\">\n",
       "      <th></th>\n",
       "      <th>text</th>\n",
       "    </tr>\n",
       "  </thead>\n",
       "  <tbody>\n",
       "    <tr>\n",
       "      <th>count</th>\n",
       "      <td>600</td>\n",
       "    </tr>\n",
       "    <tr>\n",
       "      <th>unique</th>\n",
       "      <td>597</td>\n",
       "    </tr>\n",
       "    <tr>\n",
       "      <th>top</th>\n",
       "      <td>#Aerodynamics are for people who can’t build #...</td>\n",
       "    </tr>\n",
       "    <tr>\n",
       "      <th>freq</th>\n",
       "      <td>3</td>\n",
       "    </tr>\n",
       "  </tbody>\n",
       "</table>\n",
       "</div>"
      ],
      "text/plain": [
       "                                                     text\n",
       "count                                                 600\n",
       "unique                                                597\n",
       "top     #Aerodynamics are for people who can’t build #...\n",
       "freq                                                    3"
      ]
     },
     "execution_count": 139,
     "metadata": {},
     "output_type": "execute_result"
    }
   ],
   "source": [
    "ferrari_tw.describe()"
   ]
  },
  {
   "cell_type": "code",
   "execution_count": 140,
   "id": "f70465ae",
   "metadata": {},
   "outputs": [
    {
     "data": {
      "text/plain": [
       "text    0\n",
       "dtype: int64"
      ]
     },
     "execution_count": 140,
     "metadata": {},
     "output_type": "execute_result"
    }
   ],
   "source": [
    "ferrari_tw.isnull().sum()  # No existen nulos."
   ]
  },
  {
   "cell_type": "code",
   "execution_count": 141,
   "id": "a8097ca2",
   "metadata": {},
   "outputs": [
    {
     "data": {
      "text/plain": [
       "3"
      ]
     },
     "execution_count": 141,
     "metadata": {},
     "output_type": "execute_result"
    }
   ],
   "source": [
    "ferrari_tw.duplicated().sum() # Encontramos 3 valores duplicados."
   ]
  },
  {
   "cell_type": "code",
   "execution_count": 142,
   "id": "e45dbce3",
   "metadata": {},
   "outputs": [],
   "source": [
    "drop_duplicates(ferrari_tw) # Eliminamos los valores duplicados."
   ]
  },
  {
   "cell_type": "code",
   "execution_count": 143,
   "id": "77b44b76",
   "metadata": {},
   "outputs": [
    {
     "data": {
      "text/plain": [
       "(597, 1)"
      ]
     },
     "execution_count": 143,
     "metadata": {},
     "output_type": "execute_result"
    }
   ],
   "source": [
    "ferrari_tw.shape"
   ]
  },
  {
   "cell_type": "markdown",
   "id": "92d99746",
   "metadata": {},
   "source": [
    "### Hashtags."
   ]
  },
  {
   "cell_type": "markdown",
   "id": "d91a458a",
   "metadata": {},
   "source": [
    "Queremos extraer los hastags de los tweets y almacenarlos en una nueva columna del DataFrame. Esto nos permitirá llevar a cabo un análisis específico de los hashtags una vez hecho el análisis del sentimiento de los tweets, relacionando el sentimiento con los hashtags utilizados en el tweet."
   ]
  },
  {
   "cell_type": "code",
   "execution_count": 144,
   "id": "1d8899d8",
   "metadata": {},
   "outputs": [],
   "source": [
    "ferrari_tw['hashtags'] = ferrari_tw.text.apply(extract_hashtags)"
   ]
  },
  {
   "cell_type": "code",
   "execution_count": 145,
   "id": "27a7426c",
   "metadata": {
    "scrolled": true
   },
   "outputs": [
    {
     "data": {
      "text/html": [
       "<div>\n",
       "<style scoped>\n",
       "    .dataframe tbody tr th:only-of-type {\n",
       "        vertical-align: middle;\n",
       "    }\n",
       "\n",
       "    .dataframe tbody tr th {\n",
       "        vertical-align: top;\n",
       "    }\n",
       "\n",
       "    .dataframe thead th {\n",
       "        text-align: right;\n",
       "    }\n",
       "</style>\n",
       "<table border=\"1\" class=\"dataframe\">\n",
       "  <thead>\n",
       "    <tr style=\"text-align: right;\">\n",
       "      <th></th>\n",
       "      <th>text</th>\n",
       "      <th>hashtags</th>\n",
       "    </tr>\n",
       "  </thead>\n",
       "  <tbody>\n",
       "    <tr>\n",
       "      <th>0</th>\n",
       "      <td>@1Adhughes @Tessasoldestson Mercedes achieved ...</td>\n",
       "      <td>[]</td>\n",
       "    </tr>\n",
       "    <tr>\n",
       "      <th>1</th>\n",
       "      <td>If this rumour was about Ferrari nobody would ...</td>\n",
       "      <td>[]</td>\n",
       "    </tr>\n",
       "    <tr>\n",
       "      <th>2</th>\n",
       "      <td>@sunnysideseb aaahhhh thank you so much bestie...</td>\n",
       "      <td>[]</td>\n",
       "    </tr>\n",
       "    <tr>\n",
       "      <th>3</th>\n",
       "      <td>Motorsport Italia: Scuderia Ferrari successful...</td>\n",
       "      <td>[]</td>\n",
       "    </tr>\n",
       "    <tr>\n",
       "      <th>4</th>\n",
       "      <td>@LBC Nick Ferrari using Ukraine as an excuse t...</td>\n",
       "      <td>[]</td>\n",
       "    </tr>\n",
       "  </tbody>\n",
       "</table>\n",
       "</div>"
      ],
      "text/plain": [
       "                                                text hashtags\n",
       "0  @1Adhughes @Tessasoldestson Mercedes achieved ...       []\n",
       "1  If this rumour was about Ferrari nobody would ...       []\n",
       "2  @sunnysideseb aaahhhh thank you so much bestie...       []\n",
       "3  Motorsport Italia: Scuderia Ferrari successful...       []\n",
       "4  @LBC Nick Ferrari using Ukraine as an excuse t...       []"
      ]
     },
     "execution_count": 145,
     "metadata": {},
     "output_type": "execute_result"
    }
   ],
   "source": [
    "ferrari_tw.head()"
   ]
  },
  {
   "cell_type": "markdown",
   "id": "c8eb33b6",
   "metadata": {},
   "source": [
    "### Preparing Data."
   ]
  },
  {
   "cell_type": "markdown",
   "id": "836fdab5",
   "metadata": {},
   "source": [
    "**Limpieza básica:**\n",
    "- Pasamos todo a minúsculas.\n",
    "- Eliminamos usuarios ('@ + user' ya que en principio el nombre de los usuarios no aporta información relevante para el modelo).\n",
    "- Eliminamos urls.\n",
    "- Convertimos dígitos a números escritos.\n",
    "- Convertimos $ en 'dollars' y € en 'euros.\n",
    "- Eliminamos valores no alfabéticos: # (aunque manteniendo el texto que viene después ya que puede contener información relevante), signos de puntuación...\n",
    "\n",
    "Esta limpieza se ejecutará a través de nuestra función `basic_cleaning()`."
   ]
  },
  {
   "cell_type": "code",
   "execution_count": 146,
   "id": "cb0cf33a",
   "metadata": {},
   "outputs": [
    {
     "data": {
      "text/html": [
       "<div>\n",
       "<style scoped>\n",
       "    .dataframe tbody tr th:only-of-type {\n",
       "        vertical-align: middle;\n",
       "    }\n",
       "\n",
       "    .dataframe tbody tr th {\n",
       "        vertical-align: top;\n",
       "    }\n",
       "\n",
       "    .dataframe thead th {\n",
       "        text-align: right;\n",
       "    }\n",
       "</style>\n",
       "<table border=\"1\" class=\"dataframe\">\n",
       "  <thead>\n",
       "    <tr style=\"text-align: right;\">\n",
       "      <th></th>\n",
       "      <th>text</th>\n",
       "      <th>hashtags</th>\n",
       "    </tr>\n",
       "  </thead>\n",
       "  <tbody>\n",
       "    <tr>\n",
       "      <th>0</th>\n",
       "      <td>@1Adhughes @Tessasoldestson Mercedes achieved ...</td>\n",
       "      <td>[]</td>\n",
       "    </tr>\n",
       "    <tr>\n",
       "      <th>1</th>\n",
       "      <td>If this rumour was about Ferrari nobody would ...</td>\n",
       "      <td>[]</td>\n",
       "    </tr>\n",
       "    <tr>\n",
       "      <th>2</th>\n",
       "      <td>@sunnysideseb aaahhhh thank you so much bestie...</td>\n",
       "      <td>[]</td>\n",
       "    </tr>\n",
       "    <tr>\n",
       "      <th>3</th>\n",
       "      <td>Motorsport Italia: Scuderia Ferrari successful...</td>\n",
       "      <td>[]</td>\n",
       "    </tr>\n",
       "    <tr>\n",
       "      <th>4</th>\n",
       "      <td>@LBC Nick Ferrari using Ukraine as an excuse t...</td>\n",
       "      <td>[]</td>\n",
       "    </tr>\n",
       "  </tbody>\n",
       "</table>\n",
       "</div>"
      ],
      "text/plain": [
       "                                                text hashtags\n",
       "0  @1Adhughes @Tessasoldestson Mercedes achieved ...       []\n",
       "1  If this rumour was about Ferrari nobody would ...       []\n",
       "2  @sunnysideseb aaahhhh thank you so much bestie...       []\n",
       "3  Motorsport Italia: Scuderia Ferrari successful...       []\n",
       "4  @LBC Nick Ferrari using Ukraine as an excuse t...       []"
      ]
     },
     "execution_count": 146,
     "metadata": {},
     "output_type": "execute_result"
    }
   ],
   "source": [
    "ferrari_tw.head()"
   ]
  },
  {
   "cell_type": "code",
   "execution_count": 147,
   "id": "5ad16959",
   "metadata": {},
   "outputs": [],
   "source": [
    "ferrari_tw['text'] = ferrari_tw.text.apply(basic_cleaning)"
   ]
  },
  {
   "cell_type": "code",
   "execution_count": 148,
   "id": "ae06bc1d",
   "metadata": {},
   "outputs": [
    {
     "data": {
      "text/html": [
       "<div>\n",
       "<style scoped>\n",
       "    .dataframe tbody tr th:only-of-type {\n",
       "        vertical-align: middle;\n",
       "    }\n",
       "\n",
       "    .dataframe tbody tr th {\n",
       "        vertical-align: top;\n",
       "    }\n",
       "\n",
       "    .dataframe thead th {\n",
       "        text-align: right;\n",
       "    }\n",
       "</style>\n",
       "<table border=\"1\" class=\"dataframe\">\n",
       "  <thead>\n",
       "    <tr style=\"text-align: right;\">\n",
       "      <th></th>\n",
       "      <th>text</th>\n",
       "      <th>hashtags</th>\n",
       "    </tr>\n",
       "  </thead>\n",
       "  <tbody>\n",
       "    <tr>\n",
       "      <th>0</th>\n",
       "      <td>mercedes achieved nearly six zero seven zero i...</td>\n",
       "      <td>[]</td>\n",
       "    </tr>\n",
       "    <tr>\n",
       "      <th>1</th>\n",
       "      <td>if this rumour was about ferrari nobody would ...</td>\n",
       "      <td>[]</td>\n",
       "    </tr>\n",
       "    <tr>\n",
       "      <th>2</th>\n",
       "      <td>aaahhhh thank you so much bestie i love that f...</td>\n",
       "      <td>[]</td>\n",
       "    </tr>\n",
       "    <tr>\n",
       "      <th>3</th>\n",
       "      <td>motorsport italia scuderia ferrari successfull...</td>\n",
       "      <td>[]</td>\n",
       "    </tr>\n",
       "    <tr>\n",
       "      <th>4</th>\n",
       "      <td>nick ferrari using ukraine as an excuse to red...</td>\n",
       "      <td>[]</td>\n",
       "    </tr>\n",
       "  </tbody>\n",
       "</table>\n",
       "</div>"
      ],
      "text/plain": [
       "                                                text hashtags\n",
       "0  mercedes achieved nearly six zero seven zero i...       []\n",
       "1  if this rumour was about ferrari nobody would ...       []\n",
       "2  aaahhhh thank you so much bestie i love that f...       []\n",
       "3  motorsport italia scuderia ferrari successfull...       []\n",
       "4  nick ferrari using ukraine as an excuse to red...       []"
      ]
     },
     "execution_count": 148,
     "metadata": {},
     "output_type": "execute_result"
    }
   ],
   "source": [
    "ferrari_tw.head()"
   ]
  },
  {
   "cell_type": "markdown",
   "id": "ed2d02eb",
   "metadata": {},
   "source": [
    "### Subsets."
   ]
  },
  {
   "cell_type": "markdown",
   "id": "4eb952fc",
   "metadata": {},
   "source": [
    "En esta primera versión de la herramienta construiremos el mapa de posicionamiento en base a dos atributos de marca (variables): calidad y precio. Estos son los dos atributos básicos más utilizados de manera general en los mapas de posicionamiento (los mapas más sofisticados introducen ya otros atributos más específicos).\n",
    "\n",
    "Para poder completar el proceso de mapeo, lo primero que debemos hacer es dividir los datos (tweets recopilados) en dos subsets: los que hacen referencia al precio y los que hacen referencia a la calidad. Una vez subdivididos, ya podremos introducir los datos en el modelo NLP para evaluar el sentimiento en cada subset.\n",
    "\n",
    "La subdivisión nos permite diferenciar el sentimiento de los tweets que hablan del precio, del sentimiento en torno a la calidad general de la marca en cuestión. Esto es lo que haremos en esta etapa del proceso, en este caso sobre los tweets que mencionan a Nike."
   ]
  },
  {
   "cell_type": "markdown",
   "id": "b2370800",
   "metadata": {},
   "source": [
    "1. Generamos una nueva columna que recoge la temática del tweet (atributo al que hace refencia)."
   ]
  },
  {
   "cell_type": "code",
   "execution_count": 149,
   "id": "b8088b56",
   "metadata": {
    "scrolled": true
   },
   "outputs": [],
   "source": [
    "ferrari_tw['brand_attribute'] = ferrari_tw['text'].apply(data_groups)"
   ]
  },
  {
   "cell_type": "code",
   "execution_count": 150,
   "id": "7930b9c0",
   "metadata": {
    "scrolled": false
   },
   "outputs": [
    {
     "data": {
      "text/html": [
       "<div>\n",
       "<style scoped>\n",
       "    .dataframe tbody tr th:only-of-type {\n",
       "        vertical-align: middle;\n",
       "    }\n",
       "\n",
       "    .dataframe tbody tr th {\n",
       "        vertical-align: top;\n",
       "    }\n",
       "\n",
       "    .dataframe thead th {\n",
       "        text-align: right;\n",
       "    }\n",
       "</style>\n",
       "<table border=\"1\" class=\"dataframe\">\n",
       "  <thead>\n",
       "    <tr style=\"text-align: right;\">\n",
       "      <th></th>\n",
       "      <th>text</th>\n",
       "      <th>hashtags</th>\n",
       "      <th>brand_attribute</th>\n",
       "    </tr>\n",
       "  </thead>\n",
       "  <tbody>\n",
       "    <tr>\n",
       "      <th>0</th>\n",
       "      <td>mercedes achieved nearly six zero seven zero i...</td>\n",
       "      <td>[]</td>\n",
       "      <td>quality</td>\n",
       "    </tr>\n",
       "    <tr>\n",
       "      <th>1</th>\n",
       "      <td>if this rumour was about ferrari nobody would ...</td>\n",
       "      <td>[]</td>\n",
       "      <td>quality</td>\n",
       "    </tr>\n",
       "    <tr>\n",
       "      <th>2</th>\n",
       "      <td>aaahhhh thank you so much bestie i love that f...</td>\n",
       "      <td>[]</td>\n",
       "      <td>quality</td>\n",
       "    </tr>\n",
       "    <tr>\n",
       "      <th>3</th>\n",
       "      <td>motorsport italia scuderia ferrari successfull...</td>\n",
       "      <td>[]</td>\n",
       "      <td>quality</td>\n",
       "    </tr>\n",
       "    <tr>\n",
       "      <th>4</th>\n",
       "      <td>nick ferrari using ukraine as an excuse to red...</td>\n",
       "      <td>[]</td>\n",
       "      <td>quality</td>\n",
       "    </tr>\n",
       "  </tbody>\n",
       "</table>\n",
       "</div>"
      ],
      "text/plain": [
       "                                                text hashtags brand_attribute\n",
       "0  mercedes achieved nearly six zero seven zero i...       []         quality\n",
       "1  if this rumour was about ferrari nobody would ...       []         quality\n",
       "2  aaahhhh thank you so much bestie i love that f...       []         quality\n",
       "3  motorsport italia scuderia ferrari successfull...       []         quality\n",
       "4  nick ferrari using ukraine as an excuse to red...       []         quality"
      ]
     },
     "execution_count": 150,
     "metadata": {},
     "output_type": "execute_result"
    }
   ],
   "source": [
    "ferrari_tw.head()"
   ]
  },
  {
   "cell_type": "code",
   "execution_count": 151,
   "id": "86182d2c",
   "metadata": {},
   "outputs": [
    {
     "data": {
      "text/plain": [
       "quality    486\n",
       "price      111\n",
       "Name: brand_attribute, dtype: int64"
      ]
     },
     "execution_count": 151,
     "metadata": {},
     "output_type": "execute_result"
    }
   ],
   "source": [
    "ferrari_tw.brand_attribute.value_counts()"
   ]
  },
  {
   "cell_type": "markdown",
   "id": "a86d9c92",
   "metadata": {},
   "source": [
    "2. Exportamos los subsets de Nike (uno de calidad y otro de precio).\n",
    "\n",
    "    2.1. Precio:"
   ]
  },
  {
   "cell_type": "code",
   "execution_count": 152,
   "id": "d4a8b596",
   "metadata": {},
   "outputs": [],
   "source": [
    "ferrari_price = pd.DataFrame(ferrari_tw.where(ferrari_tw.brand_attribute=='price').dropna().drop('brand_attribute',axis=1))"
   ]
  },
  {
   "cell_type": "code",
   "execution_count": 153,
   "id": "e40b7080",
   "metadata": {},
   "outputs": [
    {
     "data": {
      "text/plain": [
       "text        0\n",
       "hashtags    0\n",
       "dtype: int64"
      ]
     },
     "execution_count": 153,
     "metadata": {},
     "output_type": "execute_result"
    }
   ],
   "source": [
    "ferrari_price.isnull().sum()"
   ]
  },
  {
   "cell_type": "code",
   "execution_count": 154,
   "id": "8f6bc9e6",
   "metadata": {},
   "outputs": [
    {
     "data": {
      "text/plain": [
       "(111, 2)"
      ]
     },
     "execution_count": 154,
     "metadata": {},
     "output_type": "execute_result"
    }
   ],
   "source": [
    "ferrari_price.shape"
   ]
  },
  {
   "cell_type": "code",
   "execution_count": 155,
   "id": "95eb1d11",
   "metadata": {},
   "outputs": [],
   "source": [
    "# Exportamos el subset de precio.\n",
    "\n",
    "ferrari_price.to_csv('data/ferrari_price.csv', index = False)"
   ]
  },
  {
   "cell_type": "markdown",
   "id": "3f0c4565",
   "metadata": {},
   "source": [
    "    2.2. Calidad:"
   ]
  },
  {
   "cell_type": "code",
   "execution_count": 156,
   "id": "665ac05e",
   "metadata": {},
   "outputs": [],
   "source": [
    "ferrari_quality = pd.DataFrame(ferrari_tw.where(ferrari_tw.brand_attribute=='quality').dropna().drop('brand_attribute',axis=1))"
   ]
  },
  {
   "cell_type": "code",
   "execution_count": 157,
   "id": "25357018",
   "metadata": {},
   "outputs": [
    {
     "data": {
      "text/plain": [
       "text        0\n",
       "hashtags    0\n",
       "dtype: int64"
      ]
     },
     "execution_count": 157,
     "metadata": {},
     "output_type": "execute_result"
    }
   ],
   "source": [
    "ferrari_quality.isnull().sum()"
   ]
  },
  {
   "cell_type": "code",
   "execution_count": 158,
   "id": "e19e86dd",
   "metadata": {},
   "outputs": [
    {
     "data": {
      "text/plain": [
       "(486, 2)"
      ]
     },
     "execution_count": 158,
     "metadata": {},
     "output_type": "execute_result"
    }
   ],
   "source": [
    "ferrari_quality.shape"
   ]
  },
  {
   "cell_type": "code",
   "execution_count": 159,
   "id": "71b3810c",
   "metadata": {},
   "outputs": [],
   "source": [
    "# Exportamos el subset de calidad.\n",
    "\n",
    "ferrari_quality.to_csv('data/ferrari_quality.csv', index = False)"
   ]
  },
  {
   "cell_type": "markdown",
   "id": "11c7cf7a",
   "metadata": {},
   "source": [
    "**Nota importante:**\n",
    "\n",
    "Aunque hemos exportado cada subset en archivos csv independientes (lo tenemos guardado de manera desagregada), en realidad trabajaremos con un único DataFrame que contenga todos los tweets analizados (los de todas las marcas y todos los atributos). En este DataFrame recogeremos en una columna la marca a la que hacen referencia y en otra columna el atributo al que se refieren (calidad y precio). Esto lo hacemos así porque nos permitirá agilizar mucho los procesos de visualización de resultados y obtener gráficos de mejor calidad (podremos filtrar en función de la marca y el atributo, al tiempo que manejamos un único DataFrame para mayor eficiencia)."
   ]
  },
  {
   "cell_type": "markdown",
   "id": "3559d1c4",
   "metadata": {},
   "source": [
    "## Lamborghini data."
   ]
  },
  {
   "cell_type": "code",
   "execution_count": 160,
   "id": "ef9ad995",
   "metadata": {},
   "outputs": [],
   "source": [
    "lamborghini = pd.read_csv('data/lamborghini.csv')"
   ]
  },
  {
   "cell_type": "code",
   "execution_count": 161,
   "id": "ad5d7a06",
   "metadata": {},
   "outputs": [],
   "source": [
    "lamborghini_tw = pd.DataFrame(lamborghini.text)"
   ]
  },
  {
   "cell_type": "markdown",
   "id": "55011f31",
   "metadata": {},
   "source": [
    "### Exploración inicial de los datos:"
   ]
  },
  {
   "cell_type": "code",
   "execution_count": 162,
   "id": "4cb5f0ca",
   "metadata": {},
   "outputs": [
    {
     "data": {
      "text/plain": [
       "(5084, 1)"
      ]
     },
     "execution_count": 162,
     "metadata": {},
     "output_type": "execute_result"
    }
   ],
   "source": [
    "lamborghini_tw.shape"
   ]
  },
  {
   "cell_type": "code",
   "execution_count": 163,
   "id": "1c205d68",
   "metadata": {},
   "outputs": [
    {
     "name": "stdout",
     "output_type": "stream",
     "text": [
      "<class 'pandas.core.frame.DataFrame'>\n",
      "RangeIndex: 5084 entries, 0 to 5083\n",
      "Data columns (total 1 columns):\n",
      " #   Column  Non-Null Count  Dtype \n",
      "---  ------  --------------  ----- \n",
      " 0   text    5084 non-null   object\n",
      "dtypes: object(1)\n",
      "memory usage: 39.8+ KB\n"
     ]
    }
   ],
   "source": [
    "lamborghini_tw.info()"
   ]
  },
  {
   "cell_type": "code",
   "execution_count": 164,
   "id": "b263a42b",
   "metadata": {},
   "outputs": [
    {
     "data": {
      "text/html": [
       "<div>\n",
       "<style scoped>\n",
       "    .dataframe tbody tr th:only-of-type {\n",
       "        vertical-align: middle;\n",
       "    }\n",
       "\n",
       "    .dataframe tbody tr th {\n",
       "        vertical-align: top;\n",
       "    }\n",
       "\n",
       "    .dataframe thead th {\n",
       "        text-align: right;\n",
       "    }\n",
       "</style>\n",
       "<table border=\"1\" class=\"dataframe\">\n",
       "  <thead>\n",
       "    <tr style=\"text-align: right;\">\n",
       "      <th></th>\n",
       "      <th>text</th>\n",
       "    </tr>\n",
       "  </thead>\n",
       "  <tbody>\n",
       "    <tr>\n",
       "      <th>count</th>\n",
       "      <td>5084</td>\n",
       "    </tr>\n",
       "    <tr>\n",
       "      <th>unique</th>\n",
       "      <td>4967</td>\n",
       "    </tr>\n",
       "    <tr>\n",
       "      <th>top</th>\n",
       "      <td>Boys, they might have sexy muscles, or a shiny...</td>\n",
       "    </tr>\n",
       "    <tr>\n",
       "      <th>freq</th>\n",
       "      <td>8</td>\n",
       "    </tr>\n",
       "  </tbody>\n",
       "</table>\n",
       "</div>"
      ],
      "text/plain": [
       "                                                     text\n",
       "count                                                5084\n",
       "unique                                               4967\n",
       "top     Boys, they might have sexy muscles, or a shiny...\n",
       "freq                                                    8"
      ]
     },
     "execution_count": 164,
     "metadata": {},
     "output_type": "execute_result"
    }
   ],
   "source": [
    "lamborghini_tw.describe()"
   ]
  },
  {
   "cell_type": "code",
   "execution_count": 165,
   "id": "b86184e3",
   "metadata": {},
   "outputs": [
    {
     "data": {
      "text/plain": [
       "text    0\n",
       "dtype: int64"
      ]
     },
     "execution_count": 165,
     "metadata": {},
     "output_type": "execute_result"
    }
   ],
   "source": [
    "lamborghini_tw.isnull().sum()  # No existen nulos."
   ]
  },
  {
   "cell_type": "code",
   "execution_count": 166,
   "id": "4ffa8ad0",
   "metadata": {},
   "outputs": [
    {
     "data": {
      "text/plain": [
       "117"
      ]
     },
     "execution_count": 166,
     "metadata": {},
     "output_type": "execute_result"
    }
   ],
   "source": [
    "lamborghini_tw.duplicated().sum() # Encontramos 117 valores duplicados."
   ]
  },
  {
   "cell_type": "code",
   "execution_count": 167,
   "id": "f21306b0",
   "metadata": {},
   "outputs": [],
   "source": [
    "drop_duplicates(lamborghini_tw) # Eliminamos los valores duplicados."
   ]
  },
  {
   "cell_type": "code",
   "execution_count": 168,
   "id": "a3cb233d",
   "metadata": {},
   "outputs": [
    {
     "data": {
      "text/plain": [
       "(4967, 1)"
      ]
     },
     "execution_count": 168,
     "metadata": {},
     "output_type": "execute_result"
    }
   ],
   "source": [
    "lamborghini_tw.shape"
   ]
  },
  {
   "cell_type": "markdown",
   "id": "74f95ea7",
   "metadata": {},
   "source": [
    "### Hashtags."
   ]
  },
  {
   "cell_type": "markdown",
   "id": "124178fd",
   "metadata": {},
   "source": [
    "Queremos extraer los hastags de los tweets y almacenarlos en una nueva columna del DataFrame. Esto nos permitirá llevar a cabo un análisis específico de los hashtags una vez hecho el análisis del sentimiento de los tweets, relacionando el sentimiento con los hashtags utilizados en el tweet."
   ]
  },
  {
   "cell_type": "code",
   "execution_count": 169,
   "id": "8a525137",
   "metadata": {},
   "outputs": [],
   "source": [
    "lamborghini_tw['hashtags'] = lamborghini_tw.text.apply(extract_hashtags)"
   ]
  },
  {
   "cell_type": "code",
   "execution_count": 170,
   "id": "a5d87561",
   "metadata": {
    "scrolled": true
   },
   "outputs": [
    {
     "data": {
      "text/html": [
       "<div>\n",
       "<style scoped>\n",
       "    .dataframe tbody tr th:only-of-type {\n",
       "        vertical-align: middle;\n",
       "    }\n",
       "\n",
       "    .dataframe tbody tr th {\n",
       "        vertical-align: top;\n",
       "    }\n",
       "\n",
       "    .dataframe thead th {\n",
       "        text-align: right;\n",
       "    }\n",
       "</style>\n",
       "<table border=\"1\" class=\"dataframe\">\n",
       "  <thead>\n",
       "    <tr style=\"text-align: right;\">\n",
       "      <th></th>\n",
       "      <th>text</th>\n",
       "      <th>hashtags</th>\n",
       "    </tr>\n",
       "  </thead>\n",
       "  <tbody>\n",
       "    <tr>\n",
       "      <th>0</th>\n",
       "      <td>@WholeMarsBlog @elonmusk this is getting old.....</td>\n",
       "      <td>[]</td>\n",
       "    </tr>\n",
       "    <tr>\n",
       "      <th>1</th>\n",
       "      <td>@cibaiken @StarLinkETH @woof_decentra @Samsung...</td>\n",
       "      <td>[]</td>\n",
       "    </tr>\n",
       "    <tr>\n",
       "      <th>2</th>\n",
       "      <td>@davidgokhshtein new coin did great things @sh...</td>\n",
       "      <td>[]</td>\n",
       "    </tr>\n",
       "    <tr>\n",
       "      <th>3</th>\n",
       "      <td>@Crypto__Diva new coin did great things @shibt...</td>\n",
       "      <td>[]</td>\n",
       "    </tr>\n",
       "    <tr>\n",
       "      <th>4</th>\n",
       "      <td>@kucoincom @MetisDAO @thewastedlands @ideaolog...</td>\n",
       "      <td>[]</td>\n",
       "    </tr>\n",
       "  </tbody>\n",
       "</table>\n",
       "</div>"
      ],
      "text/plain": [
       "                                                text hashtags\n",
       "0  @WholeMarsBlog @elonmusk this is getting old.....       []\n",
       "1  @cibaiken @StarLinkETH @woof_decentra @Samsung...       []\n",
       "2  @davidgokhshtein new coin did great things @sh...       []\n",
       "3  @Crypto__Diva new coin did great things @shibt...       []\n",
       "4  @kucoincom @MetisDAO @thewastedlands @ideaolog...       []"
      ]
     },
     "execution_count": 170,
     "metadata": {},
     "output_type": "execute_result"
    }
   ],
   "source": [
    "lamborghini_tw.head()"
   ]
  },
  {
   "cell_type": "markdown",
   "id": "e8240329",
   "metadata": {},
   "source": [
    "### Preparing Data."
   ]
  },
  {
   "cell_type": "markdown",
   "id": "475648cf",
   "metadata": {},
   "source": [
    "**Limpieza básica:**\n",
    "- Pasamos todo a minúsculas.\n",
    "- Eliminamos usuarios ('@ + user' ya que en principio el nombre de los usuarios no aporta información relevante para el modelo).\n",
    "- Eliminamos urls.\n",
    "- Convertimos dígitos a números escritos.\n",
    "- Convertimos $ en 'dollars' y € en 'euros.\n",
    "- Eliminamos valores no alfabéticos: # (aunque manteniendo el texto que viene después ya que puede contener información relevante), signos de puntuación...\n",
    "\n",
    "Esta limpieza se ejecutará a través de nuestra función `basic_cleaning()`."
   ]
  },
  {
   "cell_type": "code",
   "execution_count": 171,
   "id": "6fd79284",
   "metadata": {},
   "outputs": [
    {
     "data": {
      "text/html": [
       "<div>\n",
       "<style scoped>\n",
       "    .dataframe tbody tr th:only-of-type {\n",
       "        vertical-align: middle;\n",
       "    }\n",
       "\n",
       "    .dataframe tbody tr th {\n",
       "        vertical-align: top;\n",
       "    }\n",
       "\n",
       "    .dataframe thead th {\n",
       "        text-align: right;\n",
       "    }\n",
       "</style>\n",
       "<table border=\"1\" class=\"dataframe\">\n",
       "  <thead>\n",
       "    <tr style=\"text-align: right;\">\n",
       "      <th></th>\n",
       "      <th>text</th>\n",
       "      <th>hashtags</th>\n",
       "    </tr>\n",
       "  </thead>\n",
       "  <tbody>\n",
       "    <tr>\n",
       "      <th>0</th>\n",
       "      <td>@WholeMarsBlog @elonmusk this is getting old.....</td>\n",
       "      <td>[]</td>\n",
       "    </tr>\n",
       "    <tr>\n",
       "      <th>1</th>\n",
       "      <td>@cibaiken @StarLinkETH @woof_decentra @Samsung...</td>\n",
       "      <td>[]</td>\n",
       "    </tr>\n",
       "    <tr>\n",
       "      <th>2</th>\n",
       "      <td>@davidgokhshtein new coin did great things @sh...</td>\n",
       "      <td>[]</td>\n",
       "    </tr>\n",
       "    <tr>\n",
       "      <th>3</th>\n",
       "      <td>@Crypto__Diva new coin did great things @shibt...</td>\n",
       "      <td>[]</td>\n",
       "    </tr>\n",
       "    <tr>\n",
       "      <th>4</th>\n",
       "      <td>@kucoincom @MetisDAO @thewastedlands @ideaolog...</td>\n",
       "      <td>[]</td>\n",
       "    </tr>\n",
       "  </tbody>\n",
       "</table>\n",
       "</div>"
      ],
      "text/plain": [
       "                                                text hashtags\n",
       "0  @WholeMarsBlog @elonmusk this is getting old.....       []\n",
       "1  @cibaiken @StarLinkETH @woof_decentra @Samsung...       []\n",
       "2  @davidgokhshtein new coin did great things @sh...       []\n",
       "3  @Crypto__Diva new coin did great things @shibt...       []\n",
       "4  @kucoincom @MetisDAO @thewastedlands @ideaolog...       []"
      ]
     },
     "execution_count": 171,
     "metadata": {},
     "output_type": "execute_result"
    }
   ],
   "source": [
    "lamborghini_tw.head()"
   ]
  },
  {
   "cell_type": "code",
   "execution_count": 172,
   "id": "0247394a",
   "metadata": {},
   "outputs": [],
   "source": [
    "lamborghini_tw['text'] = lamborghini_tw.text.apply(basic_cleaning)"
   ]
  },
  {
   "cell_type": "code",
   "execution_count": 173,
   "id": "38f0770a",
   "metadata": {},
   "outputs": [
    {
     "data": {
      "text/html": [
       "<div>\n",
       "<style scoped>\n",
       "    .dataframe tbody tr th:only-of-type {\n",
       "        vertical-align: middle;\n",
       "    }\n",
       "\n",
       "    .dataframe tbody tr th {\n",
       "        vertical-align: top;\n",
       "    }\n",
       "\n",
       "    .dataframe thead th {\n",
       "        text-align: right;\n",
       "    }\n",
       "</style>\n",
       "<table border=\"1\" class=\"dataframe\">\n",
       "  <thead>\n",
       "    <tr style=\"text-align: right;\">\n",
       "      <th></th>\n",
       "      <th>text</th>\n",
       "      <th>hashtags</th>\n",
       "    </tr>\n",
       "  </thead>\n",
       "  <tbody>\n",
       "    <tr>\n",
       "      <th>0</th>\n",
       "      <td>this is getting old where is the new roadster ...</td>\n",
       "      <td>[]</td>\n",
       "    </tr>\n",
       "    <tr>\n",
       "      <th>1</th>\n",
       "      <td>use samsung phone and toshiba laptop buy on am...</td>\n",
       "      <td>[]</td>\n",
       "    </tr>\n",
       "    <tr>\n",
       "      <th>2</th>\n",
       "      <td>new coin did great things burned five zero app...</td>\n",
       "      <td>[]</td>\n",
       "    </tr>\n",
       "    <tr>\n",
       "      <th>3</th>\n",
       "      <td>new coin did great things burned five zero app...</td>\n",
       "      <td>[]</td>\n",
       "    </tr>\n",
       "    <tr>\n",
       "      <th>4</th>\n",
       "      <td>new coin did great things burned five zero app...</td>\n",
       "      <td>[]</td>\n",
       "    </tr>\n",
       "  </tbody>\n",
       "</table>\n",
       "</div>"
      ],
      "text/plain": [
       "                                                text hashtags\n",
       "0  this is getting old where is the new roadster ...       []\n",
       "1  use samsung phone and toshiba laptop buy on am...       []\n",
       "2  new coin did great things burned five zero app...       []\n",
       "3  new coin did great things burned five zero app...       []\n",
       "4  new coin did great things burned five zero app...       []"
      ]
     },
     "execution_count": 173,
     "metadata": {},
     "output_type": "execute_result"
    }
   ],
   "source": [
    "lamborghini_tw.head()"
   ]
  },
  {
   "cell_type": "markdown",
   "id": "f8dc8717",
   "metadata": {},
   "source": [
    "### Subsets."
   ]
  },
  {
   "cell_type": "markdown",
   "id": "1031acdc",
   "metadata": {},
   "source": [
    "En esta primera versión de la herramienta construiremos el mapa de posicionamiento en base a dos atributos de marca (variables): calidad y precio. Estos son los dos atributos básicos más utilizados de manera general en los mapas de posicionamiento (los mapas más sofisticados introducen ya otros atributos más específicos).\n",
    "\n",
    "Para poder completar el proceso de mapeo, lo primero que debemos hacer es dividir los datos (tweets recopilados) en dos subsets: los que hacen referencia al precio y los que hacen referencia a la calidad. Una vez subdivididos, ya podremos introducir los datos en el modelo NLP para evaluar el sentimiento en cada subset.\n",
    "\n",
    "La subdivisión nos permite diferenciar el sentimiento de los tweets que hablan del precio, del sentimiento en torno a la calidad general de la marca en cuestión. Esto es lo que haremos en esta etapa del proceso, en este caso sobre los tweets que mencionan a Nike."
   ]
  },
  {
   "cell_type": "markdown",
   "id": "a03f631e",
   "metadata": {},
   "source": [
    "1. Generamos una nueva columna que recoge la temática del tweet (atributo al que hace refencia)."
   ]
  },
  {
   "cell_type": "code",
   "execution_count": 174,
   "id": "6ec55815",
   "metadata": {
    "scrolled": true
   },
   "outputs": [],
   "source": [
    "lamborghini_tw['brand_attribute'] = lamborghini_tw['text'].apply(data_groups)"
   ]
  },
  {
   "cell_type": "code",
   "execution_count": 175,
   "id": "285418f7",
   "metadata": {
    "scrolled": false
   },
   "outputs": [
    {
     "data": {
      "text/html": [
       "<div>\n",
       "<style scoped>\n",
       "    .dataframe tbody tr th:only-of-type {\n",
       "        vertical-align: middle;\n",
       "    }\n",
       "\n",
       "    .dataframe tbody tr th {\n",
       "        vertical-align: top;\n",
       "    }\n",
       "\n",
       "    .dataframe thead th {\n",
       "        text-align: right;\n",
       "    }\n",
       "</style>\n",
       "<table border=\"1\" class=\"dataframe\">\n",
       "  <thead>\n",
       "    <tr style=\"text-align: right;\">\n",
       "      <th></th>\n",
       "      <th>text</th>\n",
       "      <th>hashtags</th>\n",
       "      <th>brand_attribute</th>\n",
       "    </tr>\n",
       "  </thead>\n",
       "  <tbody>\n",
       "    <tr>\n",
       "      <th>0</th>\n",
       "      <td>this is getting old where is the new roadster ...</td>\n",
       "      <td>[]</td>\n",
       "      <td>quality</td>\n",
       "    </tr>\n",
       "    <tr>\n",
       "      <th>1</th>\n",
       "      <td>use samsung phone and toshiba laptop buy on am...</td>\n",
       "      <td>[]</td>\n",
       "      <td>price</td>\n",
       "    </tr>\n",
       "    <tr>\n",
       "      <th>2</th>\n",
       "      <td>new coin did great things burned five zero app...</td>\n",
       "      <td>[]</td>\n",
       "      <td>price</td>\n",
       "    </tr>\n",
       "    <tr>\n",
       "      <th>3</th>\n",
       "      <td>new coin did great things burned five zero app...</td>\n",
       "      <td>[]</td>\n",
       "      <td>price</td>\n",
       "    </tr>\n",
       "    <tr>\n",
       "      <th>4</th>\n",
       "      <td>new coin did great things burned five zero app...</td>\n",
       "      <td>[]</td>\n",
       "      <td>price</td>\n",
       "    </tr>\n",
       "  </tbody>\n",
       "</table>\n",
       "</div>"
      ],
      "text/plain": [
       "                                                text hashtags brand_attribute\n",
       "0  this is getting old where is the new roadster ...       []         quality\n",
       "1  use samsung phone and toshiba laptop buy on am...       []           price\n",
       "2  new coin did great things burned five zero app...       []           price\n",
       "3  new coin did great things burned five zero app...       []           price\n",
       "4  new coin did great things burned five zero app...       []           price"
      ]
     },
     "execution_count": 175,
     "metadata": {},
     "output_type": "execute_result"
    }
   ],
   "source": [
    "lamborghini_tw.head()"
   ]
  },
  {
   "cell_type": "code",
   "execution_count": 176,
   "id": "4178a717",
   "metadata": {},
   "outputs": [
    {
     "data": {
      "text/plain": [
       "quality    3284\n",
       "price      1683\n",
       "Name: brand_attribute, dtype: int64"
      ]
     },
     "execution_count": 176,
     "metadata": {},
     "output_type": "execute_result"
    }
   ],
   "source": [
    "lamborghini_tw.brand_attribute.value_counts()"
   ]
  },
  {
   "cell_type": "markdown",
   "id": "666b8a53",
   "metadata": {},
   "source": [
    "2. Exportamos los subsets de Nike (uno de calidad y otro de precio).\n",
    "\n",
    "    2.1. Precio:"
   ]
  },
  {
   "cell_type": "code",
   "execution_count": 177,
   "id": "af62c7de",
   "metadata": {},
   "outputs": [],
   "source": [
    "lamborghini_price = pd.DataFrame(lamborghini_tw.where(lamborghini_tw.brand_attribute=='price').dropna().drop('brand_attribute',axis=1))"
   ]
  },
  {
   "cell_type": "code",
   "execution_count": 178,
   "id": "64dc824b",
   "metadata": {},
   "outputs": [
    {
     "data": {
      "text/plain": [
       "text        0\n",
       "hashtags    0\n",
       "dtype: int64"
      ]
     },
     "execution_count": 178,
     "metadata": {},
     "output_type": "execute_result"
    }
   ],
   "source": [
    "lamborghini_price.isnull().sum()"
   ]
  },
  {
   "cell_type": "code",
   "execution_count": 179,
   "id": "7f41c7f0",
   "metadata": {},
   "outputs": [
    {
     "data": {
      "text/plain": [
       "(1683, 2)"
      ]
     },
     "execution_count": 179,
     "metadata": {},
     "output_type": "execute_result"
    }
   ],
   "source": [
    "lamborghini_price.shape"
   ]
  },
  {
   "cell_type": "code",
   "execution_count": 180,
   "id": "d328d1bb",
   "metadata": {},
   "outputs": [],
   "source": [
    "# Exportamos el subset de precio.\n",
    "\n",
    "lamborghini_price.to_csv('data/lamborghini_price.csv', index = False)"
   ]
  },
  {
   "cell_type": "markdown",
   "id": "d98aacf2",
   "metadata": {},
   "source": [
    "    2.2. Calidad:"
   ]
  },
  {
   "cell_type": "code",
   "execution_count": 181,
   "id": "1d7c2582",
   "metadata": {},
   "outputs": [],
   "source": [
    "lamborghini_quality = pd.DataFrame(lamborghini_tw.where(lamborghini_tw.brand_attribute=='quality').dropna().drop('brand_attribute',axis=1))"
   ]
  },
  {
   "cell_type": "code",
   "execution_count": 182,
   "id": "3137e4b8",
   "metadata": {},
   "outputs": [
    {
     "data": {
      "text/plain": [
       "text        0\n",
       "hashtags    0\n",
       "dtype: int64"
      ]
     },
     "execution_count": 182,
     "metadata": {},
     "output_type": "execute_result"
    }
   ],
   "source": [
    "lamborghini_quality.isnull().sum()"
   ]
  },
  {
   "cell_type": "code",
   "execution_count": 183,
   "id": "fd4fbab2",
   "metadata": {},
   "outputs": [
    {
     "data": {
      "text/plain": [
       "(3284, 2)"
      ]
     },
     "execution_count": 183,
     "metadata": {},
     "output_type": "execute_result"
    }
   ],
   "source": [
    "lamborghini_quality.shape"
   ]
  },
  {
   "cell_type": "code",
   "execution_count": 184,
   "id": "bd3b7147",
   "metadata": {},
   "outputs": [],
   "source": [
    "# Exportamos el subset de calidad.\n",
    "\n",
    "lamborghini_quality.to_csv('data/lamborghini_quality.csv', index = False)"
   ]
  },
  {
   "cell_type": "markdown",
   "id": "dcb0f16a",
   "metadata": {},
   "source": [
    "**Nota importante:**\n",
    "\n",
    "Aunque hemos exportado cada subset en archivos csv independientes (lo tenemos guardado de manera desagregada), en realidad trabajaremos con un único DataFrame que contenga todos los tweets analizados (los de todas las marcas y todos los atributos). En este DataFrame recogeremos en una columna la marca a la que hacen referencia y en otra columna el atributo al que se refieren (calidad y precio). Esto lo hacemos así porque nos permitirá agilizar mucho los procesos de visualización de resultados y obtener gráficos de mejor calidad (podremos filtrar en función de la marca y el atributo, al tiempo que manejamos un único DataFrame para mayor eficiencia)."
   ]
  },
  {
   "cell_type": "markdown",
   "id": "7737d916",
   "metadata": {},
   "source": [
    "## Hyundai data."
   ]
  },
  {
   "cell_type": "code",
   "execution_count": 185,
   "id": "440e1c76",
   "metadata": {},
   "outputs": [],
   "source": [
    "hyundai = pd.read_csv('data/hyundai.csv')"
   ]
  },
  {
   "cell_type": "code",
   "execution_count": 186,
   "id": "3d3f0faa",
   "metadata": {},
   "outputs": [],
   "source": [
    "hyundai_tw = pd.DataFrame(hyundai.text)"
   ]
  },
  {
   "cell_type": "markdown",
   "id": "b9c3af10",
   "metadata": {},
   "source": [
    "### Exploración inicial de los datos:"
   ]
  },
  {
   "cell_type": "code",
   "execution_count": 187,
   "id": "7d552d07",
   "metadata": {},
   "outputs": [
    {
     "data": {
      "text/plain": [
       "(5096, 1)"
      ]
     },
     "execution_count": 187,
     "metadata": {},
     "output_type": "execute_result"
    }
   ],
   "source": [
    "hyundai_tw.shape"
   ]
  },
  {
   "cell_type": "code",
   "execution_count": 188,
   "id": "da63f964",
   "metadata": {},
   "outputs": [
    {
     "name": "stdout",
     "output_type": "stream",
     "text": [
      "<class 'pandas.core.frame.DataFrame'>\n",
      "RangeIndex: 5096 entries, 0 to 5095\n",
      "Data columns (total 1 columns):\n",
      " #   Column  Non-Null Count  Dtype \n",
      "---  ------  --------------  ----- \n",
      " 0   text    5094 non-null   object\n",
      "dtypes: object(1)\n",
      "memory usage: 39.9+ KB\n"
     ]
    }
   ],
   "source": [
    "hyundai_tw.info()"
   ]
  },
  {
   "cell_type": "code",
   "execution_count": 189,
   "id": "76768a7b",
   "metadata": {},
   "outputs": [
    {
     "data": {
      "text/html": [
       "<div>\n",
       "<style scoped>\n",
       "    .dataframe tbody tr th:only-of-type {\n",
       "        vertical-align: middle;\n",
       "    }\n",
       "\n",
       "    .dataframe tbody tr th {\n",
       "        vertical-align: top;\n",
       "    }\n",
       "\n",
       "    .dataframe thead th {\n",
       "        text-align: right;\n",
       "    }\n",
       "</style>\n",
       "<table border=\"1\" class=\"dataframe\">\n",
       "  <thead>\n",
       "    <tr style=\"text-align: right;\">\n",
       "      <th></th>\n",
       "      <th>text</th>\n",
       "    </tr>\n",
       "  </thead>\n",
       "  <tbody>\n",
       "    <tr>\n",
       "      <th>count</th>\n",
       "      <td>5094</td>\n",
       "    </tr>\n",
       "    <tr>\n",
       "      <th>unique</th>\n",
       "      <td>5073</td>\n",
       "    </tr>\n",
       "    <tr>\n",
       "      <th>top</th>\n",
       "      <td>Hyundai x BTS: Message from V\\n#BTS #태형 #Taehy...</td>\n",
       "    </tr>\n",
       "    <tr>\n",
       "      <th>freq</th>\n",
       "      <td>5</td>\n",
       "    </tr>\n",
       "  </tbody>\n",
       "</table>\n",
       "</div>"
      ],
      "text/plain": [
       "                                                     text\n",
       "count                                                5094\n",
       "unique                                               5073\n",
       "top     Hyundai x BTS: Message from V\\n#BTS #태형 #Taehy...\n",
       "freq                                                    5"
      ]
     },
     "execution_count": 189,
     "metadata": {},
     "output_type": "execute_result"
    }
   ],
   "source": [
    "hyundai_tw.describe()"
   ]
  },
  {
   "cell_type": "code",
   "execution_count": 190,
   "id": "aab2fd77",
   "metadata": {},
   "outputs": [
    {
     "data": {
      "text/plain": [
       "text    2\n",
       "dtype: int64"
      ]
     },
     "execution_count": 190,
     "metadata": {},
     "output_type": "execute_result"
    }
   ],
   "source": [
    "hyundai_tw.isnull().sum()  # No existen nulos."
   ]
  },
  {
   "cell_type": "code",
   "execution_count": 191,
   "id": "5e8318fa",
   "metadata": {},
   "outputs": [],
   "source": [
    "hyundai_tw.dropna(inplace=True)  # Eliminamos nulos."
   ]
  },
  {
   "cell_type": "code",
   "execution_count": 192,
   "id": "a2f47798",
   "metadata": {},
   "outputs": [
    {
     "data": {
      "text/plain": [
       "21"
      ]
     },
     "execution_count": 192,
     "metadata": {},
     "output_type": "execute_result"
    }
   ],
   "source": [
    "hyundai_tw.duplicated().sum() # Encontramos 21 valores duplicados."
   ]
  },
  {
   "cell_type": "code",
   "execution_count": 193,
   "id": "ed57a065",
   "metadata": {},
   "outputs": [],
   "source": [
    "drop_duplicates(hyundai_tw) # Eliminamos los valores duplicados."
   ]
  },
  {
   "cell_type": "code",
   "execution_count": 194,
   "id": "94a228bb",
   "metadata": {},
   "outputs": [
    {
     "data": {
      "text/plain": [
       "(5073, 1)"
      ]
     },
     "execution_count": 194,
     "metadata": {},
     "output_type": "execute_result"
    }
   ],
   "source": [
    "hyundai_tw.shape"
   ]
  },
  {
   "cell_type": "markdown",
   "id": "bc3dac53",
   "metadata": {},
   "source": [
    "### Hashtags."
   ]
  },
  {
   "cell_type": "markdown",
   "id": "4ed96446",
   "metadata": {},
   "source": [
    "Queremos extraer los hastags de los tweets y almacenarlos en una nueva columna del DataFrame. Esto nos permitirá llevar a cabo un análisis específico de los hashtags una vez hecho el análisis del sentimiento de los tweets, relacionando el sentimiento con los hashtags utilizados en el tweet."
   ]
  },
  {
   "cell_type": "code",
   "execution_count": 195,
   "id": "0d7668e2",
   "metadata": {},
   "outputs": [],
   "source": [
    "hyundai_tw['hashtags'] = hyundai_tw.text.apply(extract_hashtags)"
   ]
  },
  {
   "cell_type": "code",
   "execution_count": 196,
   "id": "3afa371f",
   "metadata": {
    "scrolled": true
   },
   "outputs": [
    {
     "data": {
      "text/html": [
       "<div>\n",
       "<style scoped>\n",
       "    .dataframe tbody tr th:only-of-type {\n",
       "        vertical-align: middle;\n",
       "    }\n",
       "\n",
       "    .dataframe tbody tr th {\n",
       "        vertical-align: top;\n",
       "    }\n",
       "\n",
       "    .dataframe thead th {\n",
       "        text-align: right;\n",
       "    }\n",
       "</style>\n",
       "<table border=\"1\" class=\"dataframe\">\n",
       "  <thead>\n",
       "    <tr style=\"text-align: right;\">\n",
       "      <th></th>\n",
       "      <th>text</th>\n",
       "      <th>hashtags</th>\n",
       "    </tr>\n",
       "  </thead>\n",
       "  <tbody>\n",
       "    <tr>\n",
       "      <th>0</th>\n",
       "      <td>@Liberebil @CarsSouthAfrica No, we get the sta...</td>\n",
       "      <td>[]</td>\n",
       "    </tr>\n",
       "    <tr>\n",
       "      <th>1</th>\n",
       "      <td>Hyundai and Haval are competing mbela</td>\n",
       "      <td>[]</td>\n",
       "    </tr>\n",
       "    <tr>\n",
       "      <th>2</th>\n",
       "      <td>@GreenpeaceEAsia @Greenpeace @ToyotaMotorCorp ...</td>\n",
       "      <td>[]</td>\n",
       "    </tr>\n",
       "    <tr>\n",
       "      <th>3</th>\n",
       "      <td>HYUNDAI-ACCENT/XCENT-DISC ASSY-CLUTCH-41100262...</td>\n",
       "      <td>[]</td>\n",
       "    </tr>\n",
       "    <tr>\n",
       "      <th>4</th>\n",
       "      <td>Hyundai i20 lovers \\n\\nJust pay as little as R...</td>\n",
       "      <td>[]</td>\n",
       "    </tr>\n",
       "  </tbody>\n",
       "</table>\n",
       "</div>"
      ],
      "text/plain": [
       "                                                text hashtags\n",
       "0  @Liberebil @CarsSouthAfrica No, we get the sta...       []\n",
       "1              Hyundai and Haval are competing mbela       []\n",
       "2  @GreenpeaceEAsia @Greenpeace @ToyotaMotorCorp ...       []\n",
       "3  HYUNDAI-ACCENT/XCENT-DISC ASSY-CLUTCH-41100262...       []\n",
       "4  Hyundai i20 lovers \\n\\nJust pay as little as R...       []"
      ]
     },
     "execution_count": 196,
     "metadata": {},
     "output_type": "execute_result"
    }
   ],
   "source": [
    "hyundai_tw.head()"
   ]
  },
  {
   "cell_type": "markdown",
   "id": "82d263ea",
   "metadata": {},
   "source": [
    "### Preparing Data."
   ]
  },
  {
   "cell_type": "markdown",
   "id": "4c946056",
   "metadata": {},
   "source": [
    "**Limpieza básica:**\n",
    "- Pasamos todo a minúsculas.\n",
    "- Eliminamos usuarios ('@ + user' ya que en principio el nombre de los usuarios no aporta información relevante para el modelo).\n",
    "- Eliminamos urls.\n",
    "- Convertimos dígitos a números escritos.\n",
    "- Convertimos $ en 'dollars' y € en 'euros.\n",
    "- Eliminamos valores no alfabéticos: # (aunque manteniendo el texto que viene después ya que puede contener información relevante), signos de puntuación...\n",
    "\n",
    "Esta limpieza se ejecutará a través de nuestra función `basic_cleaning()`."
   ]
  },
  {
   "cell_type": "code",
   "execution_count": 197,
   "id": "553d1e72",
   "metadata": {},
   "outputs": [
    {
     "data": {
      "text/html": [
       "<div>\n",
       "<style scoped>\n",
       "    .dataframe tbody tr th:only-of-type {\n",
       "        vertical-align: middle;\n",
       "    }\n",
       "\n",
       "    .dataframe tbody tr th {\n",
       "        vertical-align: top;\n",
       "    }\n",
       "\n",
       "    .dataframe thead th {\n",
       "        text-align: right;\n",
       "    }\n",
       "</style>\n",
       "<table border=\"1\" class=\"dataframe\">\n",
       "  <thead>\n",
       "    <tr style=\"text-align: right;\">\n",
       "      <th></th>\n",
       "      <th>text</th>\n",
       "      <th>hashtags</th>\n",
       "    </tr>\n",
       "  </thead>\n",
       "  <tbody>\n",
       "    <tr>\n",
       "      <th>0</th>\n",
       "      <td>@Liberebil @CarsSouthAfrica No, we get the sta...</td>\n",
       "      <td>[]</td>\n",
       "    </tr>\n",
       "    <tr>\n",
       "      <th>1</th>\n",
       "      <td>Hyundai and Haval are competing mbela</td>\n",
       "      <td>[]</td>\n",
       "    </tr>\n",
       "    <tr>\n",
       "      <th>2</th>\n",
       "      <td>@GreenpeaceEAsia @Greenpeace @ToyotaMotorCorp ...</td>\n",
       "      <td>[]</td>\n",
       "    </tr>\n",
       "    <tr>\n",
       "      <th>3</th>\n",
       "      <td>HYUNDAI-ACCENT/XCENT-DISC ASSY-CLUTCH-41100262...</td>\n",
       "      <td>[]</td>\n",
       "    </tr>\n",
       "    <tr>\n",
       "      <th>4</th>\n",
       "      <td>Hyundai i20 lovers \\n\\nJust pay as little as R...</td>\n",
       "      <td>[]</td>\n",
       "    </tr>\n",
       "  </tbody>\n",
       "</table>\n",
       "</div>"
      ],
      "text/plain": [
       "                                                text hashtags\n",
       "0  @Liberebil @CarsSouthAfrica No, we get the sta...       []\n",
       "1              Hyundai and Haval are competing mbela       []\n",
       "2  @GreenpeaceEAsia @Greenpeace @ToyotaMotorCorp ...       []\n",
       "3  HYUNDAI-ACCENT/XCENT-DISC ASSY-CLUTCH-41100262...       []\n",
       "4  Hyundai i20 lovers \\n\\nJust pay as little as R...       []"
      ]
     },
     "execution_count": 197,
     "metadata": {},
     "output_type": "execute_result"
    }
   ],
   "source": [
    "hyundai_tw.head()"
   ]
  },
  {
   "cell_type": "code",
   "execution_count": 198,
   "id": "b3784998",
   "metadata": {},
   "outputs": [],
   "source": [
    "hyundai_tw['text'] = hyundai_tw.text.apply(basic_cleaning)"
   ]
  },
  {
   "cell_type": "code",
   "execution_count": 199,
   "id": "71569a83",
   "metadata": {},
   "outputs": [
    {
     "data": {
      "text/html": [
       "<div>\n",
       "<style scoped>\n",
       "    .dataframe tbody tr th:only-of-type {\n",
       "        vertical-align: middle;\n",
       "    }\n",
       "\n",
       "    .dataframe tbody tr th {\n",
       "        vertical-align: top;\n",
       "    }\n",
       "\n",
       "    .dataframe thead th {\n",
       "        text-align: right;\n",
       "    }\n",
       "</style>\n",
       "<table border=\"1\" class=\"dataframe\">\n",
       "  <thead>\n",
       "    <tr style=\"text-align: right;\">\n",
       "      <th></th>\n",
       "      <th>text</th>\n",
       "      <th>hashtags</th>\n",
       "    </tr>\n",
       "  </thead>\n",
       "  <tbody>\n",
       "    <tr>\n",
       "      <th>0</th>\n",
       "      <td>no we get the standard hyundai system i don t ...</td>\n",
       "      <td>[]</td>\n",
       "    </tr>\n",
       "    <tr>\n",
       "      <th>1</th>\n",
       "      <td>hyundai and haval are competing mbela</td>\n",
       "      <td>[]</td>\n",
       "    </tr>\n",
       "    <tr>\n",
       "      <th>2</th>\n",
       "      <td>transition to pure ev s is happening faster th...</td>\n",
       "      <td>[]</td>\n",
       "    </tr>\n",
       "    <tr>\n",
       "      <th>3</th>\n",
       "      <td>hyundai accent xcent disc assy clutch four one...</td>\n",
       "      <td>[]</td>\n",
       "    </tr>\n",
       "    <tr>\n",
       "      <th>4</th>\n",
       "      <td>hyundai i two zero lovers just pay as little a...</td>\n",
       "      <td>[]</td>\n",
       "    </tr>\n",
       "  </tbody>\n",
       "</table>\n",
       "</div>"
      ],
      "text/plain": [
       "                                                text hashtags\n",
       "0  no we get the standard hyundai system i don t ...       []\n",
       "1              hyundai and haval are competing mbela       []\n",
       "2  transition to pure ev s is happening faster th...       []\n",
       "3  hyundai accent xcent disc assy clutch four one...       []\n",
       "4  hyundai i two zero lovers just pay as little a...       []"
      ]
     },
     "execution_count": 199,
     "metadata": {},
     "output_type": "execute_result"
    }
   ],
   "source": [
    "hyundai_tw.head()"
   ]
  },
  {
   "cell_type": "markdown",
   "id": "e7f60e43",
   "metadata": {},
   "source": [
    "### Subsets."
   ]
  },
  {
   "cell_type": "markdown",
   "id": "4285cbe5",
   "metadata": {},
   "source": [
    "En esta primera versión de la herramienta construiremos el mapa de posicionamiento en base a dos atributos de marca (variables): calidad y precio. Estos son los dos atributos básicos más utilizados de manera general en los mapas de posicionamiento (los mapas más sofisticados introducen ya otros atributos más específicos).\n",
    "\n",
    "Para poder completar el proceso de mapeo, lo primero que debemos hacer es dividir los datos (tweets recopilados) en dos subsets: los que hacen referencia al precio y los que hacen referencia a la calidad. Una vez subdivididos, ya podremos introducir los datos en el modelo NLP para evaluar el sentimiento en cada subset.\n",
    "\n",
    "La subdivisión nos permite diferenciar el sentimiento de los tweets que hablan del precio, del sentimiento en torno a la calidad general de la marca en cuestión. Esto es lo que haremos en esta etapa del proceso, en este caso sobre los tweets que mencionan a Nike."
   ]
  },
  {
   "cell_type": "markdown",
   "id": "9bd3bc91",
   "metadata": {},
   "source": [
    "1. Generamos una nueva columna que recoge la temática del tweet (atributo al que hace refencia)."
   ]
  },
  {
   "cell_type": "code",
   "execution_count": 200,
   "id": "5eaa2b29",
   "metadata": {
    "scrolled": true
   },
   "outputs": [],
   "source": [
    "hyundai_tw['brand_attribute'] = hyundai_tw['text'].apply(data_groups)"
   ]
  },
  {
   "cell_type": "code",
   "execution_count": 201,
   "id": "25fe9d4e",
   "metadata": {
    "scrolled": false
   },
   "outputs": [
    {
     "data": {
      "text/html": [
       "<div>\n",
       "<style scoped>\n",
       "    .dataframe tbody tr th:only-of-type {\n",
       "        vertical-align: middle;\n",
       "    }\n",
       "\n",
       "    .dataframe tbody tr th {\n",
       "        vertical-align: top;\n",
       "    }\n",
       "\n",
       "    .dataframe thead th {\n",
       "        text-align: right;\n",
       "    }\n",
       "</style>\n",
       "<table border=\"1\" class=\"dataframe\">\n",
       "  <thead>\n",
       "    <tr style=\"text-align: right;\">\n",
       "      <th></th>\n",
       "      <th>text</th>\n",
       "      <th>hashtags</th>\n",
       "      <th>brand_attribute</th>\n",
       "    </tr>\n",
       "  </thead>\n",
       "  <tbody>\n",
       "    <tr>\n",
       "      <th>0</th>\n",
       "      <td>no we get the standard hyundai system i don t ...</td>\n",
       "      <td>[]</td>\n",
       "      <td>quality</td>\n",
       "    </tr>\n",
       "    <tr>\n",
       "      <th>1</th>\n",
       "      <td>hyundai and haval are competing mbela</td>\n",
       "      <td>[]</td>\n",
       "      <td>quality</td>\n",
       "    </tr>\n",
       "    <tr>\n",
       "      <th>2</th>\n",
       "      <td>transition to pure ev s is happening faster th...</td>\n",
       "      <td>[]</td>\n",
       "      <td>price</td>\n",
       "    </tr>\n",
       "    <tr>\n",
       "      <th>3</th>\n",
       "      <td>hyundai accent xcent disc assy clutch four one...</td>\n",
       "      <td>[]</td>\n",
       "      <td>price</td>\n",
       "    </tr>\n",
       "    <tr>\n",
       "      <th>4</th>\n",
       "      <td>hyundai i two zero lovers just pay as little a...</td>\n",
       "      <td>[]</td>\n",
       "      <td>price</td>\n",
       "    </tr>\n",
       "  </tbody>\n",
       "</table>\n",
       "</div>"
      ],
      "text/plain": [
       "                                                text hashtags brand_attribute\n",
       "0  no we get the standard hyundai system i don t ...       []         quality\n",
       "1              hyundai and haval are competing mbela       []         quality\n",
       "2  transition to pure ev s is happening faster th...       []           price\n",
       "3  hyundai accent xcent disc assy clutch four one...       []           price\n",
       "4  hyundai i two zero lovers just pay as little a...       []           price"
      ]
     },
     "execution_count": 201,
     "metadata": {},
     "output_type": "execute_result"
    }
   ],
   "source": [
    "hyundai_tw.head()"
   ]
  },
  {
   "cell_type": "code",
   "execution_count": 202,
   "id": "b1547ece",
   "metadata": {},
   "outputs": [
    {
     "data": {
      "text/plain": [
       "quality    3356\n",
       "price      1717\n",
       "Name: brand_attribute, dtype: int64"
      ]
     },
     "execution_count": 202,
     "metadata": {},
     "output_type": "execute_result"
    }
   ],
   "source": [
    "hyundai_tw.brand_attribute.value_counts()"
   ]
  },
  {
   "cell_type": "markdown",
   "id": "88271bcc",
   "metadata": {},
   "source": [
    "2. Exportamos los subsets de Nike (uno de calidad y otro de precio).\n",
    "\n",
    "    2.1. Precio:"
   ]
  },
  {
   "cell_type": "code",
   "execution_count": 203,
   "id": "78292537",
   "metadata": {},
   "outputs": [],
   "source": [
    "hyundai_price = pd.DataFrame(hyundai_tw.where(hyundai_tw.brand_attribute=='price').dropna().drop('brand_attribute',axis=1))"
   ]
  },
  {
   "cell_type": "code",
   "execution_count": 204,
   "id": "94eb2cde",
   "metadata": {},
   "outputs": [
    {
     "data": {
      "text/plain": [
       "text        0\n",
       "hashtags    0\n",
       "dtype: int64"
      ]
     },
     "execution_count": 204,
     "metadata": {},
     "output_type": "execute_result"
    }
   ],
   "source": [
    "hyundai_price.isnull().sum()"
   ]
  },
  {
   "cell_type": "code",
   "execution_count": 205,
   "id": "83a155e4",
   "metadata": {},
   "outputs": [
    {
     "data": {
      "text/plain": [
       "(1717, 2)"
      ]
     },
     "execution_count": 205,
     "metadata": {},
     "output_type": "execute_result"
    }
   ],
   "source": [
    "hyundai_price.shape"
   ]
  },
  {
   "cell_type": "code",
   "execution_count": 206,
   "id": "062749dd",
   "metadata": {},
   "outputs": [],
   "source": [
    "# Exportamos el subset de precio.\n",
    "\n",
    "hyundai_price.to_csv('data/hyundai_price.csv', index = False)"
   ]
  },
  {
   "cell_type": "markdown",
   "id": "b3dcc546",
   "metadata": {},
   "source": [
    "    2.2. Calidad:"
   ]
  },
  {
   "cell_type": "code",
   "execution_count": 207,
   "id": "58a3ac04",
   "metadata": {},
   "outputs": [],
   "source": [
    "hyundai_quality = pd.DataFrame(hyundai_tw.where(hyundai_tw.brand_attribute=='quality').dropna().drop('brand_attribute',axis=1))"
   ]
  },
  {
   "cell_type": "code",
   "execution_count": 208,
   "id": "60287ea5",
   "metadata": {},
   "outputs": [
    {
     "data": {
      "text/plain": [
       "text        0\n",
       "hashtags    0\n",
       "dtype: int64"
      ]
     },
     "execution_count": 208,
     "metadata": {},
     "output_type": "execute_result"
    }
   ],
   "source": [
    "hyundai_quality.isnull().sum()"
   ]
  },
  {
   "cell_type": "code",
   "execution_count": 209,
   "id": "19e7048a",
   "metadata": {},
   "outputs": [
    {
     "data": {
      "text/plain": [
       "(3356, 2)"
      ]
     },
     "execution_count": 209,
     "metadata": {},
     "output_type": "execute_result"
    }
   ],
   "source": [
    "hyundai_quality.shape"
   ]
  },
  {
   "cell_type": "code",
   "execution_count": 210,
   "id": "6c1e8f3b",
   "metadata": {},
   "outputs": [],
   "source": [
    "# Exportamos el subset de calidad.\n",
    "\n",
    "hyundai_quality.to_csv('data/hyundai_quality.csv', index = False)"
   ]
  },
  {
   "cell_type": "markdown",
   "id": "98e9cfbe",
   "metadata": {},
   "source": [
    "**Nota importante:**\n",
    "\n",
    "Aunque hemos exportado cada subset en archivos csv independientes (lo tenemos guardado de manera desagregada), en realidad trabajaremos con un único DataFrame que contenga todos los tweets analizados (los de todas las marcas y todos los atributos). En este DataFrame recogeremos en una columna la marca a la que hacen referencia y en otra columna el atributo al que se refieren (calidad y precio). Esto lo hacemos así porque nos permitirá agilizar mucho los procesos de visualización de resultados y obtener gráficos de mejor calidad (podremos filtrar en función de la marca y el atributo, al tiempo que manejamos un único DataFrame para mayor eficiencia)."
   ]
  },
  {
   "cell_type": "markdown",
   "id": "a6239250",
   "metadata": {},
   "source": [
    "## Peugeot data."
   ]
  },
  {
   "cell_type": "code",
   "execution_count": 211,
   "id": "cf122099",
   "metadata": {},
   "outputs": [],
   "source": [
    "peugeot = pd.read_csv('data/peugeot.csv')"
   ]
  },
  {
   "cell_type": "code",
   "execution_count": 212,
   "id": "e4e1a91e",
   "metadata": {},
   "outputs": [],
   "source": [
    "peugeot_tw = pd.DataFrame(peugeot.text)"
   ]
  },
  {
   "cell_type": "markdown",
   "id": "d14ac2a1",
   "metadata": {},
   "source": [
    "### Exploración inicial de los datos:"
   ]
  },
  {
   "cell_type": "code",
   "execution_count": 213,
   "id": "d51e786a",
   "metadata": {},
   "outputs": [
    {
     "data": {
      "text/plain": [
       "(1597, 1)"
      ]
     },
     "execution_count": 213,
     "metadata": {},
     "output_type": "execute_result"
    }
   ],
   "source": [
    "peugeot_tw.shape"
   ]
  },
  {
   "cell_type": "code",
   "execution_count": 214,
   "id": "0462356f",
   "metadata": {},
   "outputs": [
    {
     "name": "stdout",
     "output_type": "stream",
     "text": [
      "<class 'pandas.core.frame.DataFrame'>\n",
      "RangeIndex: 1597 entries, 0 to 1596\n",
      "Data columns (total 1 columns):\n",
      " #   Column  Non-Null Count  Dtype \n",
      "---  ------  --------------  ----- \n",
      " 0   text    1597 non-null   object\n",
      "dtypes: object(1)\n",
      "memory usage: 12.6+ KB\n"
     ]
    }
   ],
   "source": [
    "peugeot_tw.info()"
   ]
  },
  {
   "cell_type": "code",
   "execution_count": 215,
   "id": "d4337860",
   "metadata": {},
   "outputs": [
    {
     "data": {
      "text/html": [
       "<div>\n",
       "<style scoped>\n",
       "    .dataframe tbody tr th:only-of-type {\n",
       "        vertical-align: middle;\n",
       "    }\n",
       "\n",
       "    .dataframe tbody tr th {\n",
       "        vertical-align: top;\n",
       "    }\n",
       "\n",
       "    .dataframe thead th {\n",
       "        text-align: right;\n",
       "    }\n",
       "</style>\n",
       "<table border=\"1\" class=\"dataframe\">\n",
       "  <thead>\n",
       "    <tr style=\"text-align: right;\">\n",
       "      <th></th>\n",
       "      <th>text</th>\n",
       "    </tr>\n",
       "  </thead>\n",
       "  <tbody>\n",
       "    <tr>\n",
       "      <th>count</th>\n",
       "      <td>1597</td>\n",
       "    </tr>\n",
       "    <tr>\n",
       "      <th>unique</th>\n",
       "      <td>1563</td>\n",
       "    </tr>\n",
       "    <tr>\n",
       "      <th>top</th>\n",
       "      <td>@KyivPost UK closes sea ports to Russians ship...</td>\n",
       "    </tr>\n",
       "    <tr>\n",
       "      <th>freq</th>\n",
       "      <td>4</td>\n",
       "    </tr>\n",
       "  </tbody>\n",
       "</table>\n",
       "</div>"
      ],
      "text/plain": [
       "                                                     text\n",
       "count                                                1597\n",
       "unique                                               1563\n",
       "top     @KyivPost UK closes sea ports to Russians ship...\n",
       "freq                                                    4"
      ]
     },
     "execution_count": 215,
     "metadata": {},
     "output_type": "execute_result"
    }
   ],
   "source": [
    "peugeot_tw.describe()"
   ]
  },
  {
   "cell_type": "code",
   "execution_count": 216,
   "id": "9b63a398",
   "metadata": {},
   "outputs": [
    {
     "data": {
      "text/plain": [
       "text    0\n",
       "dtype: int64"
      ]
     },
     "execution_count": 216,
     "metadata": {},
     "output_type": "execute_result"
    }
   ],
   "source": [
    "peugeot_tw.isnull().sum()  # No existen nulos."
   ]
  },
  {
   "cell_type": "code",
   "execution_count": 217,
   "id": "1f261a7f",
   "metadata": {},
   "outputs": [
    {
     "data": {
      "text/plain": [
       "34"
      ]
     },
     "execution_count": 217,
     "metadata": {},
     "output_type": "execute_result"
    }
   ],
   "source": [
    "peugeot_tw.duplicated().sum() # Encontramos 34 valores duplicados."
   ]
  },
  {
   "cell_type": "code",
   "execution_count": 218,
   "id": "518b6ce4",
   "metadata": {},
   "outputs": [],
   "source": [
    "drop_duplicates(peugeot_tw) # Eliminamos los valores duplicados."
   ]
  },
  {
   "cell_type": "code",
   "execution_count": 219,
   "id": "645d4518",
   "metadata": {},
   "outputs": [
    {
     "data": {
      "text/plain": [
       "(1563, 1)"
      ]
     },
     "execution_count": 219,
     "metadata": {},
     "output_type": "execute_result"
    }
   ],
   "source": [
    "peugeot_tw.shape"
   ]
  },
  {
   "cell_type": "markdown",
   "id": "f25e3878",
   "metadata": {},
   "source": [
    "### Hashtags."
   ]
  },
  {
   "cell_type": "markdown",
   "id": "707dee06",
   "metadata": {},
   "source": [
    "Queremos extraer los hastags de los tweets y almacenarlos en una nueva columna del DataFrame. Esto nos permitirá llevar a cabo un análisis específico de los hashtags una vez hecho el análisis del sentimiento de los tweets, relacionando el sentimiento con los hashtags utilizados en el tweet."
   ]
  },
  {
   "cell_type": "code",
   "execution_count": 220,
   "id": "8a99e2d8",
   "metadata": {},
   "outputs": [],
   "source": [
    "peugeot_tw['hashtags'] = peugeot_tw.text.apply(extract_hashtags)"
   ]
  },
  {
   "cell_type": "code",
   "execution_count": 221,
   "id": "57a26456",
   "metadata": {
    "scrolled": true
   },
   "outputs": [
    {
     "data": {
      "text/html": [
       "<div>\n",
       "<style scoped>\n",
       "    .dataframe tbody tr th:only-of-type {\n",
       "        vertical-align: middle;\n",
       "    }\n",
       "\n",
       "    .dataframe tbody tr th {\n",
       "        vertical-align: top;\n",
       "    }\n",
       "\n",
       "    .dataframe thead th {\n",
       "        text-align: right;\n",
       "    }\n",
       "</style>\n",
       "<table border=\"1\" class=\"dataframe\">\n",
       "  <thead>\n",
       "    <tr style=\"text-align: right;\">\n",
       "      <th></th>\n",
       "      <th>text</th>\n",
       "      <th>hashtags</th>\n",
       "    </tr>\n",
       "  </thead>\n",
       "  <tbody>\n",
       "    <tr>\n",
       "      <th>0</th>\n",
       "      <td>@Space_Robot1 @eyeguy_one I experienced this l...</td>\n",
       "      <td>[]</td>\n",
       "    </tr>\n",
       "    <tr>\n",
       "      <th>1</th>\n",
       "      <td>@AllegoCharging I am trying to request a charg...</td>\n",
       "      <td>[]</td>\n",
       "    </tr>\n",
       "    <tr>\n",
       "      <th>2</th>\n",
       "      <td>@czechidiot @jackbyrne77 @Formula_Nerds @Jonas...</td>\n",
       "      <td>[]</td>\n",
       "    </tr>\n",
       "    <tr>\n",
       "      <th>3</th>\n",
       "      <td>@JonasHut I have a hard time seeing him take t...</td>\n",
       "      <td>[]</td>\n",
       "    </tr>\n",
       "    <tr>\n",
       "      <th>4</th>\n",
       "      <td>Peugeot 308 Raih Predikat Women’s World Car of...</td>\n",
       "      <td>[]</td>\n",
       "    </tr>\n",
       "  </tbody>\n",
       "</table>\n",
       "</div>"
      ],
      "text/plain": [
       "                                                text hashtags\n",
       "0  @Space_Robot1 @eyeguy_one I experienced this l...       []\n",
       "1  @AllegoCharging I am trying to request a charg...       []\n",
       "2  @czechidiot @jackbyrne77 @Formula_Nerds @Jonas...       []\n",
       "3  @JonasHut I have a hard time seeing him take t...       []\n",
       "4  Peugeot 308 Raih Predikat Women’s World Car of...       []"
      ]
     },
     "execution_count": 221,
     "metadata": {},
     "output_type": "execute_result"
    }
   ],
   "source": [
    "peugeot_tw.head()"
   ]
  },
  {
   "cell_type": "markdown",
   "id": "b10571fd",
   "metadata": {},
   "source": [
    "### Preparing Data."
   ]
  },
  {
   "cell_type": "markdown",
   "id": "34957d4c",
   "metadata": {},
   "source": [
    "**Limpieza básica:**\n",
    "- Pasamos todo a minúsculas.\n",
    "- Eliminamos usuarios ('@ + user' ya que en principio el nombre de los usuarios no aporta información relevante para el modelo).\n",
    "- Eliminamos urls.\n",
    "- Convertimos dígitos a números escritos.\n",
    "- Convertimos $ en 'dollars' y € en 'euros.\n",
    "- Eliminamos valores no alfabéticos: # (aunque manteniendo el texto que viene después ya que puede contener información relevante), signos de puntuación...\n",
    "\n",
    "Esta limpieza se ejecutará a través de nuestra función `basic_cleaning()`."
   ]
  },
  {
   "cell_type": "code",
   "execution_count": 222,
   "id": "21e022e8",
   "metadata": {},
   "outputs": [
    {
     "data": {
      "text/html": [
       "<div>\n",
       "<style scoped>\n",
       "    .dataframe tbody tr th:only-of-type {\n",
       "        vertical-align: middle;\n",
       "    }\n",
       "\n",
       "    .dataframe tbody tr th {\n",
       "        vertical-align: top;\n",
       "    }\n",
       "\n",
       "    .dataframe thead th {\n",
       "        text-align: right;\n",
       "    }\n",
       "</style>\n",
       "<table border=\"1\" class=\"dataframe\">\n",
       "  <thead>\n",
       "    <tr style=\"text-align: right;\">\n",
       "      <th></th>\n",
       "      <th>text</th>\n",
       "      <th>hashtags</th>\n",
       "    </tr>\n",
       "  </thead>\n",
       "  <tbody>\n",
       "    <tr>\n",
       "      <th>0</th>\n",
       "      <td>@Space_Robot1 @eyeguy_one I experienced this l...</td>\n",
       "      <td>[]</td>\n",
       "    </tr>\n",
       "    <tr>\n",
       "      <th>1</th>\n",
       "      <td>@AllegoCharging I am trying to request a charg...</td>\n",
       "      <td>[]</td>\n",
       "    </tr>\n",
       "    <tr>\n",
       "      <th>2</th>\n",
       "      <td>@czechidiot @jackbyrne77 @Formula_Nerds @Jonas...</td>\n",
       "      <td>[]</td>\n",
       "    </tr>\n",
       "    <tr>\n",
       "      <th>3</th>\n",
       "      <td>@JonasHut I have a hard time seeing him take t...</td>\n",
       "      <td>[]</td>\n",
       "    </tr>\n",
       "    <tr>\n",
       "      <th>4</th>\n",
       "      <td>Peugeot 308 Raih Predikat Women’s World Car of...</td>\n",
       "      <td>[]</td>\n",
       "    </tr>\n",
       "  </tbody>\n",
       "</table>\n",
       "</div>"
      ],
      "text/plain": [
       "                                                text hashtags\n",
       "0  @Space_Robot1 @eyeguy_one I experienced this l...       []\n",
       "1  @AllegoCharging I am trying to request a charg...       []\n",
       "2  @czechidiot @jackbyrne77 @Formula_Nerds @Jonas...       []\n",
       "3  @JonasHut I have a hard time seeing him take t...       []\n",
       "4  Peugeot 308 Raih Predikat Women’s World Car of...       []"
      ]
     },
     "execution_count": 222,
     "metadata": {},
     "output_type": "execute_result"
    }
   ],
   "source": [
    "peugeot_tw.head()"
   ]
  },
  {
   "cell_type": "code",
   "execution_count": 223,
   "id": "0598678f",
   "metadata": {},
   "outputs": [],
   "source": [
    "peugeot_tw['text'] = peugeot_tw.text.apply(basic_cleaning)"
   ]
  },
  {
   "cell_type": "code",
   "execution_count": 224,
   "id": "9b04ce10",
   "metadata": {},
   "outputs": [
    {
     "data": {
      "text/html": [
       "<div>\n",
       "<style scoped>\n",
       "    .dataframe tbody tr th:only-of-type {\n",
       "        vertical-align: middle;\n",
       "    }\n",
       "\n",
       "    .dataframe tbody tr th {\n",
       "        vertical-align: top;\n",
       "    }\n",
       "\n",
       "    .dataframe thead th {\n",
       "        text-align: right;\n",
       "    }\n",
       "</style>\n",
       "<table border=\"1\" class=\"dataframe\">\n",
       "  <thead>\n",
       "    <tr style=\"text-align: right;\">\n",
       "      <th></th>\n",
       "      <th>text</th>\n",
       "      <th>hashtags</th>\n",
       "    </tr>\n",
       "  </thead>\n",
       "  <tbody>\n",
       "    <tr>\n",
       "      <th>0</th>\n",
       "      <td>i experienced this last year when i was quoted...</td>\n",
       "      <td>[]</td>\n",
       "    </tr>\n",
       "    <tr>\n",
       "      <th>1</th>\n",
       "      <td>i am trying to request a charger via your webs...</td>\n",
       "      <td>[]</td>\n",
       "    </tr>\n",
       "    <tr>\n",
       "      <th>2</th>\n",
       "      <td>just peugeot s wec hypercar programme which ha...</td>\n",
       "      <td>[]</td>\n",
       "    </tr>\n",
       "    <tr>\n",
       "      <th>3</th>\n",
       "      <td>i have a hard time seeing him take the haas se...</td>\n",
       "      <td>[]</td>\n",
       "    </tr>\n",
       "    <tr>\n",
       "      <th>4</th>\n",
       "      <td>peugeot three zero eight raih predikat women s...</td>\n",
       "      <td>[]</td>\n",
       "    </tr>\n",
       "  </tbody>\n",
       "</table>\n",
       "</div>"
      ],
      "text/plain": [
       "                                                text hashtags\n",
       "0  i experienced this last year when i was quoted...       []\n",
       "1  i am trying to request a charger via your webs...       []\n",
       "2  just peugeot s wec hypercar programme which ha...       []\n",
       "3  i have a hard time seeing him take the haas se...       []\n",
       "4  peugeot three zero eight raih predikat women s...       []"
      ]
     },
     "execution_count": 224,
     "metadata": {},
     "output_type": "execute_result"
    }
   ],
   "source": [
    "peugeot_tw.head()"
   ]
  },
  {
   "cell_type": "markdown",
   "id": "a32110b1",
   "metadata": {},
   "source": [
    "### Subsets."
   ]
  },
  {
   "cell_type": "markdown",
   "id": "a93718f7",
   "metadata": {},
   "source": [
    "En esta primera versión de la herramienta construiremos el mapa de posicionamiento en base a dos atributos de marca (variables): calidad y precio. Estos son los dos atributos básicos más utilizados de manera general en los mapas de posicionamiento (los mapas más sofisticados introducen ya otros atributos más específicos).\n",
    "\n",
    "Para poder completar el proceso de mapeo, lo primero que debemos hacer es dividir los datos (tweets recopilados) en dos subsets: los que hacen referencia al precio y los que hacen referencia a la calidad. Una vez subdivididos, ya podremos introducir los datos en el modelo NLP para evaluar el sentimiento en cada subset.\n",
    "\n",
    "La subdivisión nos permite diferenciar el sentimiento de los tweets que hablan del precio, del sentimiento en torno a la calidad general de la marca en cuestión. Esto es lo que haremos en esta etapa del proceso, en este caso sobre los tweets que mencionan a Nike."
   ]
  },
  {
   "cell_type": "markdown",
   "id": "886e3d0f",
   "metadata": {},
   "source": [
    "1. Generamos una nueva columna que recoge la temática del tweet (atributo al que hace refencia)."
   ]
  },
  {
   "cell_type": "code",
   "execution_count": 225,
   "id": "482c2ad4",
   "metadata": {
    "scrolled": true
   },
   "outputs": [],
   "source": [
    "peugeot_tw['brand_attribute'] = peugeot_tw['text'].apply(data_groups)"
   ]
  },
  {
   "cell_type": "code",
   "execution_count": 226,
   "id": "0d32ceed",
   "metadata": {
    "scrolled": false
   },
   "outputs": [
    {
     "data": {
      "text/html": [
       "<div>\n",
       "<style scoped>\n",
       "    .dataframe tbody tr th:only-of-type {\n",
       "        vertical-align: middle;\n",
       "    }\n",
       "\n",
       "    .dataframe tbody tr th {\n",
       "        vertical-align: top;\n",
       "    }\n",
       "\n",
       "    .dataframe thead th {\n",
       "        text-align: right;\n",
       "    }\n",
       "</style>\n",
       "<table border=\"1\" class=\"dataframe\">\n",
       "  <thead>\n",
       "    <tr style=\"text-align: right;\">\n",
       "      <th></th>\n",
       "      <th>text</th>\n",
       "      <th>hashtags</th>\n",
       "      <th>brand_attribute</th>\n",
       "    </tr>\n",
       "  </thead>\n",
       "  <tbody>\n",
       "    <tr>\n",
       "      <th>0</th>\n",
       "      <td>i experienced this last year when i was quoted...</td>\n",
       "      <td>[]</td>\n",
       "      <td>price</td>\n",
       "    </tr>\n",
       "    <tr>\n",
       "      <th>1</th>\n",
       "      <td>i am trying to request a charger via your webs...</td>\n",
       "      <td>[]</td>\n",
       "      <td>price</td>\n",
       "    </tr>\n",
       "    <tr>\n",
       "      <th>2</th>\n",
       "      <td>just peugeot s wec hypercar programme which ha...</td>\n",
       "      <td>[]</td>\n",
       "      <td>quality</td>\n",
       "    </tr>\n",
       "    <tr>\n",
       "      <th>3</th>\n",
       "      <td>i have a hard time seeing him take the haas se...</td>\n",
       "      <td>[]</td>\n",
       "      <td>price</td>\n",
       "    </tr>\n",
       "    <tr>\n",
       "      <th>4</th>\n",
       "      <td>peugeot three zero eight raih predikat women s...</td>\n",
       "      <td>[]</td>\n",
       "      <td>quality</td>\n",
       "    </tr>\n",
       "  </tbody>\n",
       "</table>\n",
       "</div>"
      ],
      "text/plain": [
       "                                                text hashtags brand_attribute\n",
       "0  i experienced this last year when i was quoted...       []           price\n",
       "1  i am trying to request a charger via your webs...       []           price\n",
       "2  just peugeot s wec hypercar programme which ha...       []         quality\n",
       "3  i have a hard time seeing him take the haas se...       []           price\n",
       "4  peugeot three zero eight raih predikat women s...       []         quality"
      ]
     },
     "execution_count": 226,
     "metadata": {},
     "output_type": "execute_result"
    }
   ],
   "source": [
    "peugeot_tw.head()"
   ]
  },
  {
   "cell_type": "code",
   "execution_count": 227,
   "id": "8d66d7cc",
   "metadata": {},
   "outputs": [
    {
     "data": {
      "text/plain": [
       "quality    1233\n",
       "price       330\n",
       "Name: brand_attribute, dtype: int64"
      ]
     },
     "execution_count": 227,
     "metadata": {},
     "output_type": "execute_result"
    }
   ],
   "source": [
    "peugeot_tw.brand_attribute.value_counts()"
   ]
  },
  {
   "cell_type": "markdown",
   "id": "dc744669",
   "metadata": {},
   "source": [
    "2. Exportamos los subsets de Nike (uno de calidad y otro de precio).\n",
    "\n",
    "    2.1. Precio:"
   ]
  },
  {
   "cell_type": "code",
   "execution_count": 228,
   "id": "25f4bdc7",
   "metadata": {},
   "outputs": [],
   "source": [
    "peugeot_price = pd.DataFrame(peugeot_tw.where(peugeot_tw.brand_attribute=='price').dropna().drop('brand_attribute',axis=1))"
   ]
  },
  {
   "cell_type": "code",
   "execution_count": 229,
   "id": "bb72fc0b",
   "metadata": {},
   "outputs": [
    {
     "data": {
      "text/plain": [
       "text        0\n",
       "hashtags    0\n",
       "dtype: int64"
      ]
     },
     "execution_count": 229,
     "metadata": {},
     "output_type": "execute_result"
    }
   ],
   "source": [
    "peugeot_price.isnull().sum()"
   ]
  },
  {
   "cell_type": "code",
   "execution_count": 230,
   "id": "34d9394b",
   "metadata": {},
   "outputs": [
    {
     "data": {
      "text/plain": [
       "(330, 2)"
      ]
     },
     "execution_count": 230,
     "metadata": {},
     "output_type": "execute_result"
    }
   ],
   "source": [
    "peugeot_price.shape"
   ]
  },
  {
   "cell_type": "code",
   "execution_count": 231,
   "id": "8f36821c",
   "metadata": {},
   "outputs": [],
   "source": [
    "# Exportamos el subset de precio.\n",
    "\n",
    "peugeot_price.to_csv('data/peugeot_price.csv', index = False)"
   ]
  },
  {
   "cell_type": "markdown",
   "id": "232c0b42",
   "metadata": {},
   "source": [
    "    2.2. Calidad:"
   ]
  },
  {
   "cell_type": "code",
   "execution_count": 232,
   "id": "e61d5be3",
   "metadata": {},
   "outputs": [],
   "source": [
    "peugeot_quality = pd.DataFrame(peugeot_tw.where(peugeot_tw.brand_attribute=='quality').dropna().drop('brand_attribute',axis=1))"
   ]
  },
  {
   "cell_type": "code",
   "execution_count": 233,
   "id": "c061a7c4",
   "metadata": {},
   "outputs": [
    {
     "data": {
      "text/plain": [
       "text        0\n",
       "hashtags    0\n",
       "dtype: int64"
      ]
     },
     "execution_count": 233,
     "metadata": {},
     "output_type": "execute_result"
    }
   ],
   "source": [
    "peugeot_quality.isnull().sum()"
   ]
  },
  {
   "cell_type": "code",
   "execution_count": 234,
   "id": "c529c22e",
   "metadata": {},
   "outputs": [
    {
     "data": {
      "text/plain": [
       "(1233, 2)"
      ]
     },
     "execution_count": 234,
     "metadata": {},
     "output_type": "execute_result"
    }
   ],
   "source": [
    "peugeot_quality.shape"
   ]
  },
  {
   "cell_type": "code",
   "execution_count": 235,
   "id": "2e3a55d0",
   "metadata": {},
   "outputs": [],
   "source": [
    "# Exportamos el subset de calidad.\n",
    "\n",
    "peugeot_quality.to_csv('data/peugeot_quality.csv', index = False)"
   ]
  },
  {
   "cell_type": "markdown",
   "id": "c6e147ef",
   "metadata": {},
   "source": [
    "**Nota importante:**\n",
    "\n",
    "Aunque hemos exportado cada subset en archivos csv independientes (lo tenemos guardado de manera desagregada), en realidad trabajaremos con un único DataFrame que contenga todos los tweets analizados (los de todas las marcas y todos los atributos). En este DataFrame recogeremos en una columna la marca a la que hacen referencia y en otra columna el atributo al que se refieren (calidad y precio). Esto lo hacemos así porque nos permitirá agilizar mucho los procesos de visualización de resultados y obtener gráficos de mejor calidad (podremos filtrar en función de la marca y el atributo, al tiempo que manejamos un único DataFrame para mayor eficiencia)."
   ]
  },
  {
   "cell_type": "markdown",
   "id": "b0e8c092",
   "metadata": {},
   "source": [
    "## Ford data."
   ]
  },
  {
   "cell_type": "code",
   "execution_count": 236,
   "id": "ec2d82d0",
   "metadata": {},
   "outputs": [],
   "source": [
    "ford = pd.read_csv('data/ford.csv')"
   ]
  },
  {
   "cell_type": "code",
   "execution_count": 237,
   "id": "2972d472",
   "metadata": {},
   "outputs": [],
   "source": [
    "ford_tw = pd.DataFrame(ford.text)"
   ]
  },
  {
   "cell_type": "markdown",
   "id": "6a597b39",
   "metadata": {},
   "source": [
    "### Exploración inicial de los datos:"
   ]
  },
  {
   "cell_type": "code",
   "execution_count": 238,
   "id": "b1171043",
   "metadata": {},
   "outputs": [
    {
     "data": {
      "text/plain": [
       "(5093, 1)"
      ]
     },
     "execution_count": 238,
     "metadata": {},
     "output_type": "execute_result"
    }
   ],
   "source": [
    "ford_tw.shape"
   ]
  },
  {
   "cell_type": "code",
   "execution_count": 239,
   "id": "18a68c7d",
   "metadata": {},
   "outputs": [
    {
     "name": "stdout",
     "output_type": "stream",
     "text": [
      "<class 'pandas.core.frame.DataFrame'>\n",
      "RangeIndex: 5093 entries, 0 to 5092\n",
      "Data columns (total 1 columns):\n",
      " #   Column  Non-Null Count  Dtype \n",
      "---  ------  --------------  ----- \n",
      " 0   text    5093 non-null   object\n",
      "dtypes: object(1)\n",
      "memory usage: 39.9+ KB\n"
     ]
    }
   ],
   "source": [
    "ford_tw.info()"
   ]
  },
  {
   "cell_type": "code",
   "execution_count": 240,
   "id": "8f70e7b1",
   "metadata": {},
   "outputs": [
    {
     "data": {
      "text/html": [
       "<div>\n",
       "<style scoped>\n",
       "    .dataframe tbody tr th:only-of-type {\n",
       "        vertical-align: middle;\n",
       "    }\n",
       "\n",
       "    .dataframe tbody tr th {\n",
       "        vertical-align: top;\n",
       "    }\n",
       "\n",
       "    .dataframe thead th {\n",
       "        text-align: right;\n",
       "    }\n",
       "</style>\n",
       "<table border=\"1\" class=\"dataframe\">\n",
       "  <thead>\n",
       "    <tr style=\"text-align: right;\">\n",
       "      <th></th>\n",
       "      <th>text</th>\n",
       "    </tr>\n",
       "  </thead>\n",
       "  <tbody>\n",
       "    <tr>\n",
       "      <th>count</th>\n",
       "      <td>5093</td>\n",
       "    </tr>\n",
       "    <tr>\n",
       "      <th>unique</th>\n",
       "      <td>5084</td>\n",
       "    </tr>\n",
       "    <tr>\n",
       "      <th>top</th>\n",
       "      <td>@FordCanada I paid deposit with ford dealer  l...</td>\n",
       "    </tr>\n",
       "    <tr>\n",
       "      <th>freq</th>\n",
       "      <td>3</td>\n",
       "    </tr>\n",
       "  </tbody>\n",
       "</table>\n",
       "</div>"
      ],
      "text/plain": [
       "                                                     text\n",
       "count                                                5093\n",
       "unique                                               5084\n",
       "top     @FordCanada I paid deposit with ford dealer  l...\n",
       "freq                                                    3"
      ]
     },
     "execution_count": 240,
     "metadata": {},
     "output_type": "execute_result"
    }
   ],
   "source": [
    "ford_tw.describe()"
   ]
  },
  {
   "cell_type": "code",
   "execution_count": 241,
   "id": "96bb69c9",
   "metadata": {},
   "outputs": [
    {
     "data": {
      "text/plain": [
       "text    0\n",
       "dtype: int64"
      ]
     },
     "execution_count": 241,
     "metadata": {},
     "output_type": "execute_result"
    }
   ],
   "source": [
    "ford_tw.isnull().sum()  # No existen nulos."
   ]
  },
  {
   "cell_type": "code",
   "execution_count": 242,
   "id": "46af049b",
   "metadata": {},
   "outputs": [
    {
     "data": {
      "text/plain": [
       "9"
      ]
     },
     "execution_count": 242,
     "metadata": {},
     "output_type": "execute_result"
    }
   ],
   "source": [
    "ford_tw.duplicated().sum() # Encontramos 9 valores duplicados."
   ]
  },
  {
   "cell_type": "code",
   "execution_count": 243,
   "id": "fcfb9913",
   "metadata": {},
   "outputs": [],
   "source": [
    "drop_duplicates(ford_tw) # Eliminamos los valores duplicados."
   ]
  },
  {
   "cell_type": "code",
   "execution_count": 244,
   "id": "ec0c1b37",
   "metadata": {},
   "outputs": [
    {
     "data": {
      "text/plain": [
       "(5084, 1)"
      ]
     },
     "execution_count": 244,
     "metadata": {},
     "output_type": "execute_result"
    }
   ],
   "source": [
    "ford_tw.shape"
   ]
  },
  {
   "cell_type": "markdown",
   "id": "c69a38a4",
   "metadata": {},
   "source": [
    "### Hashtags."
   ]
  },
  {
   "cell_type": "markdown",
   "id": "f32ad5b3",
   "metadata": {},
   "source": [
    "Queremos extraer los hastags de los tweets y almacenarlos en una nueva columna del DataFrame. Esto nos permitirá llevar a cabo un análisis específico de los hashtags una vez hecho el análisis del sentimiento de los tweets, relacionando el sentimiento con los hashtags utilizados en el tweet."
   ]
  },
  {
   "cell_type": "code",
   "execution_count": 245,
   "id": "52f874fe",
   "metadata": {},
   "outputs": [],
   "source": [
    "ford_tw['hashtags'] = ford_tw.text.apply(extract_hashtags)"
   ]
  },
  {
   "cell_type": "code",
   "execution_count": 247,
   "id": "f0ea5eef",
   "metadata": {
    "scrolled": true
   },
   "outputs": [
    {
     "data": {
      "text/html": [
       "<div>\n",
       "<style scoped>\n",
       "    .dataframe tbody tr th:only-of-type {\n",
       "        vertical-align: middle;\n",
       "    }\n",
       "\n",
       "    .dataframe tbody tr th {\n",
       "        vertical-align: top;\n",
       "    }\n",
       "\n",
       "    .dataframe thead th {\n",
       "        text-align: right;\n",
       "    }\n",
       "</style>\n",
       "<table border=\"1\" class=\"dataframe\">\n",
       "  <thead>\n",
       "    <tr style=\"text-align: right;\">\n",
       "      <th></th>\n",
       "      <th>text</th>\n",
       "      <th>hashtags</th>\n",
       "    </tr>\n",
       "  </thead>\n",
       "  <tbody>\n",
       "    <tr>\n",
       "      <th>0</th>\n",
       "      <td>We're incredibly excited to be boosting the Lo...</td>\n",
       "      <td>[]</td>\n",
       "    </tr>\n",
       "    <tr>\n",
       "      <th>1</th>\n",
       "      <td>32NN66D Engine Cooling Fan Module Fits 2007-20...</td>\n",
       "      <td>[]</td>\n",
       "    </tr>\n",
       "    <tr>\n",
       "      <th>2</th>\n",
       "      <td>68XQ36C Inlet and Outlet Assembly Oil Cooler H...</td>\n",
       "      <td>[]</td>\n",
       "    </tr>\n",
       "    <tr>\n",
       "      <th>3</th>\n",
       "      <td>COVERKING CSC2S1-FD7258 Spacermesh Seat Covers...</td>\n",
       "      <td>[]</td>\n",
       "    </tr>\n",
       "    <tr>\n",
       "      <th>4</th>\n",
       "      <td>Motorcraft 76YC88M Idle Air Control Valve Fits...</td>\n",
       "      <td>[]</td>\n",
       "    </tr>\n",
       "  </tbody>\n",
       "</table>\n",
       "</div>"
      ],
      "text/plain": [
       "                                                text hashtags\n",
       "0  We're incredibly excited to be boosting the Lo...       []\n",
       "1  32NN66D Engine Cooling Fan Module Fits 2007-20...       []\n",
       "2  68XQ36C Inlet and Outlet Assembly Oil Cooler H...       []\n",
       "3  COVERKING CSC2S1-FD7258 Spacermesh Seat Covers...       []\n",
       "4  Motorcraft 76YC88M Idle Air Control Valve Fits...       []"
      ]
     },
     "execution_count": 247,
     "metadata": {},
     "output_type": "execute_result"
    }
   ],
   "source": [
    "ford_tw.head()"
   ]
  },
  {
   "cell_type": "markdown",
   "id": "c13ccd54",
   "metadata": {},
   "source": [
    "### Preparing Data."
   ]
  },
  {
   "cell_type": "markdown",
   "id": "7a4704e2",
   "metadata": {},
   "source": [
    "**Limpieza básica:**\n",
    "- Pasamos todo a minúsculas.\n",
    "- Eliminamos usuarios ('@ + user' ya que en principio el nombre de los usuarios no aporta información relevante para el modelo).\n",
    "- Eliminamos urls.\n",
    "- Convertimos dígitos a números escritos.\n",
    "- Convertimos $ en 'dollars' y € en 'euros.\n",
    "- Eliminamos valores no alfabéticos: # (aunque manteniendo el texto que viene después ya que puede contener información relevante), signos de puntuación...\n",
    "\n",
    "Esta limpieza se ejecutará a través de nuestra función `basic_cleaning()`."
   ]
  },
  {
   "cell_type": "code",
   "execution_count": 248,
   "id": "e669dbfa",
   "metadata": {},
   "outputs": [
    {
     "data": {
      "text/html": [
       "<div>\n",
       "<style scoped>\n",
       "    .dataframe tbody tr th:only-of-type {\n",
       "        vertical-align: middle;\n",
       "    }\n",
       "\n",
       "    .dataframe tbody tr th {\n",
       "        vertical-align: top;\n",
       "    }\n",
       "\n",
       "    .dataframe thead th {\n",
       "        text-align: right;\n",
       "    }\n",
       "</style>\n",
       "<table border=\"1\" class=\"dataframe\">\n",
       "  <thead>\n",
       "    <tr style=\"text-align: right;\">\n",
       "      <th></th>\n",
       "      <th>text</th>\n",
       "      <th>hashtags</th>\n",
       "    </tr>\n",
       "  </thead>\n",
       "  <tbody>\n",
       "    <tr>\n",
       "      <th>0</th>\n",
       "      <td>We're incredibly excited to be boosting the Lo...</td>\n",
       "      <td>[]</td>\n",
       "    </tr>\n",
       "    <tr>\n",
       "      <th>1</th>\n",
       "      <td>32NN66D Engine Cooling Fan Module Fits 2007-20...</td>\n",
       "      <td>[]</td>\n",
       "    </tr>\n",
       "    <tr>\n",
       "      <th>2</th>\n",
       "      <td>68XQ36C Inlet and Outlet Assembly Oil Cooler H...</td>\n",
       "      <td>[]</td>\n",
       "    </tr>\n",
       "    <tr>\n",
       "      <th>3</th>\n",
       "      <td>COVERKING CSC2S1-FD7258 Spacermesh Seat Covers...</td>\n",
       "      <td>[]</td>\n",
       "    </tr>\n",
       "    <tr>\n",
       "      <th>4</th>\n",
       "      <td>Motorcraft 76YC88M Idle Air Control Valve Fits...</td>\n",
       "      <td>[]</td>\n",
       "    </tr>\n",
       "  </tbody>\n",
       "</table>\n",
       "</div>"
      ],
      "text/plain": [
       "                                                text hashtags\n",
       "0  We're incredibly excited to be boosting the Lo...       []\n",
       "1  32NN66D Engine Cooling Fan Module Fits 2007-20...       []\n",
       "2  68XQ36C Inlet and Outlet Assembly Oil Cooler H...       []\n",
       "3  COVERKING CSC2S1-FD7258 Spacermesh Seat Covers...       []\n",
       "4  Motorcraft 76YC88M Idle Air Control Valve Fits...       []"
      ]
     },
     "execution_count": 248,
     "metadata": {},
     "output_type": "execute_result"
    }
   ],
   "source": [
    "ford_tw.head()"
   ]
  },
  {
   "cell_type": "code",
   "execution_count": 249,
   "id": "7faa53ba",
   "metadata": {},
   "outputs": [],
   "source": [
    "ford_tw['text'] = ford_tw.text.apply(basic_cleaning)"
   ]
  },
  {
   "cell_type": "code",
   "execution_count": 250,
   "id": "80106f8d",
   "metadata": {},
   "outputs": [
    {
     "data": {
      "text/html": [
       "<div>\n",
       "<style scoped>\n",
       "    .dataframe tbody tr th:only-of-type {\n",
       "        vertical-align: middle;\n",
       "    }\n",
       "\n",
       "    .dataframe tbody tr th {\n",
       "        vertical-align: top;\n",
       "    }\n",
       "\n",
       "    .dataframe thead th {\n",
       "        text-align: right;\n",
       "    }\n",
       "</style>\n",
       "<table border=\"1\" class=\"dataframe\">\n",
       "  <thead>\n",
       "    <tr style=\"text-align: right;\">\n",
       "      <th></th>\n",
       "      <th>text</th>\n",
       "      <th>hashtags</th>\n",
       "    </tr>\n",
       "  </thead>\n",
       "  <tbody>\n",
       "    <tr>\n",
       "      <th>0</th>\n",
       "      <td>we re incredibly excited to be boosting the lo...</td>\n",
       "      <td>[]</td>\n",
       "    </tr>\n",
       "    <tr>\n",
       "      <th>1</th>\n",
       "      <td>three twonn six sixd engine cooling fan module...</td>\n",
       "      <td>[]</td>\n",
       "    </tr>\n",
       "    <tr>\n",
       "      <th>2</th>\n",
       "      <td>six eightxq three sixc inlet and outlet assemb...</td>\n",
       "      <td>[]</td>\n",
       "    </tr>\n",
       "    <tr>\n",
       "      <th>3</th>\n",
       "      <td>coverking csc twos one fd seven two five eight...</td>\n",
       "      <td>[]</td>\n",
       "    </tr>\n",
       "    <tr>\n",
       "      <th>4</th>\n",
       "      <td>motorcraft seven sixyc eight eightm idle air c...</td>\n",
       "      <td>[]</td>\n",
       "    </tr>\n",
       "  </tbody>\n",
       "</table>\n",
       "</div>"
      ],
      "text/plain": [
       "                                                text hashtags\n",
       "0  we re incredibly excited to be boosting the lo...       []\n",
       "1  three twonn six sixd engine cooling fan module...       []\n",
       "2  six eightxq three sixc inlet and outlet assemb...       []\n",
       "3  coverking csc twos one fd seven two five eight...       []\n",
       "4  motorcraft seven sixyc eight eightm idle air c...       []"
      ]
     },
     "execution_count": 250,
     "metadata": {},
     "output_type": "execute_result"
    }
   ],
   "source": [
    "ford_tw.head()"
   ]
  },
  {
   "cell_type": "markdown",
   "id": "051e8a5a",
   "metadata": {},
   "source": [
    "### Subsets."
   ]
  },
  {
   "cell_type": "markdown",
   "id": "5a4be05b",
   "metadata": {},
   "source": [
    "En esta primera versión de la herramienta construiremos el mapa de posicionamiento en base a dos atributos de marca (variables): calidad y precio. Estos son los dos atributos básicos más utilizados de manera general en los mapas de posicionamiento (los mapas más sofisticados introducen ya otros atributos más específicos).\n",
    "\n",
    "Para poder completar el proceso de mapeo, lo primero que debemos hacer es dividir los datos (tweets recopilados) en dos subsets: los que hacen referencia al precio y los que hacen referencia a la calidad. Una vez subdivididos, ya podremos introducir los datos en el modelo NLP para evaluar el sentimiento en cada subset.\n",
    "\n",
    "La subdivisión nos permite diferenciar el sentimiento de los tweets que hablan del precio, del sentimiento en torno a la calidad general de la marca en cuestión. Esto es lo que haremos en esta etapa del proceso, en este caso sobre los tweets que mencionan a Nike."
   ]
  },
  {
   "cell_type": "markdown",
   "id": "25ec6f03",
   "metadata": {},
   "source": [
    "1. Generamos una nueva columna que recoge la temática del tweet (atributo al que hace refencia)."
   ]
  },
  {
   "cell_type": "code",
   "execution_count": 251,
   "id": "f5b730ad",
   "metadata": {
    "scrolled": true
   },
   "outputs": [],
   "source": [
    "ford_tw['brand_attribute'] = ford_tw['text'].apply(data_groups)"
   ]
  },
  {
   "cell_type": "code",
   "execution_count": 252,
   "id": "4febc641",
   "metadata": {
    "scrolled": false
   },
   "outputs": [
    {
     "data": {
      "text/html": [
       "<div>\n",
       "<style scoped>\n",
       "    .dataframe tbody tr th:only-of-type {\n",
       "        vertical-align: middle;\n",
       "    }\n",
       "\n",
       "    .dataframe tbody tr th {\n",
       "        vertical-align: top;\n",
       "    }\n",
       "\n",
       "    .dataframe thead th {\n",
       "        text-align: right;\n",
       "    }\n",
       "</style>\n",
       "<table border=\"1\" class=\"dataframe\">\n",
       "  <thead>\n",
       "    <tr style=\"text-align: right;\">\n",
       "      <th></th>\n",
       "      <th>text</th>\n",
       "      <th>hashtags</th>\n",
       "      <th>brand_attribute</th>\n",
       "    </tr>\n",
       "  </thead>\n",
       "  <tbody>\n",
       "    <tr>\n",
       "      <th>0</th>\n",
       "      <td>we re incredibly excited to be boosting the lo...</td>\n",
       "      <td>[]</td>\n",
       "      <td>quality</td>\n",
       "    </tr>\n",
       "    <tr>\n",
       "      <th>1</th>\n",
       "      <td>three twonn six sixd engine cooling fan module...</td>\n",
       "      <td>[]</td>\n",
       "      <td>quality</td>\n",
       "    </tr>\n",
       "    <tr>\n",
       "      <th>2</th>\n",
       "      <td>six eightxq three sixc inlet and outlet assemb...</td>\n",
       "      <td>[]</td>\n",
       "      <td>quality</td>\n",
       "    </tr>\n",
       "    <tr>\n",
       "      <th>3</th>\n",
       "      <td>coverking csc twos one fd seven two five eight...</td>\n",
       "      <td>[]</td>\n",
       "      <td>quality</td>\n",
       "    </tr>\n",
       "    <tr>\n",
       "      <th>4</th>\n",
       "      <td>motorcraft seven sixyc eight eightm idle air c...</td>\n",
       "      <td>[]</td>\n",
       "      <td>quality</td>\n",
       "    </tr>\n",
       "  </tbody>\n",
       "</table>\n",
       "</div>"
      ],
      "text/plain": [
       "                                                text hashtags brand_attribute\n",
       "0  we re incredibly excited to be boosting the lo...       []         quality\n",
       "1  three twonn six sixd engine cooling fan module...       []         quality\n",
       "2  six eightxq three sixc inlet and outlet assemb...       []         quality\n",
       "3  coverking csc twos one fd seven two five eight...       []         quality\n",
       "4  motorcraft seven sixyc eight eightm idle air c...       []         quality"
      ]
     },
     "execution_count": 252,
     "metadata": {},
     "output_type": "execute_result"
    }
   ],
   "source": [
    "ford_tw.head()"
   ]
  },
  {
   "cell_type": "code",
   "execution_count": 253,
   "id": "80893a55",
   "metadata": {},
   "outputs": [
    {
     "data": {
      "text/plain": [
       "quality    3755\n",
       "price      1329\n",
       "Name: brand_attribute, dtype: int64"
      ]
     },
     "execution_count": 253,
     "metadata": {},
     "output_type": "execute_result"
    }
   ],
   "source": [
    "ford_tw.brand_attribute.value_counts()"
   ]
  },
  {
   "cell_type": "markdown",
   "id": "1a72881f",
   "metadata": {},
   "source": [
    "2. Exportamos los subsets de Nike (uno de calidad y otro de precio).\n",
    "\n",
    "    2.1. Precio:"
   ]
  },
  {
   "cell_type": "code",
   "execution_count": 254,
   "id": "139c84bd",
   "metadata": {},
   "outputs": [],
   "source": [
    "ford_price = pd.DataFrame(ford_tw.where(ford_tw.brand_attribute=='price').dropna().drop('brand_attribute',axis=1))"
   ]
  },
  {
   "cell_type": "code",
   "execution_count": 255,
   "id": "1e1a11dd",
   "metadata": {},
   "outputs": [
    {
     "data": {
      "text/plain": [
       "text        0\n",
       "hashtags    0\n",
       "dtype: int64"
      ]
     },
     "execution_count": 255,
     "metadata": {},
     "output_type": "execute_result"
    }
   ],
   "source": [
    "ford_price.isnull().sum()"
   ]
  },
  {
   "cell_type": "code",
   "execution_count": 256,
   "id": "1673b6ee",
   "metadata": {},
   "outputs": [
    {
     "data": {
      "text/plain": [
       "(1329, 2)"
      ]
     },
     "execution_count": 256,
     "metadata": {},
     "output_type": "execute_result"
    }
   ],
   "source": [
    "ford_price.shape"
   ]
  },
  {
   "cell_type": "code",
   "execution_count": 257,
   "id": "60ffb8e6",
   "metadata": {},
   "outputs": [],
   "source": [
    "# Exportamos el subset de precio.\n",
    "\n",
    "ford_price.to_csv('data/ford_price.csv', index = False)"
   ]
  },
  {
   "cell_type": "markdown",
   "id": "cfa01f53",
   "metadata": {},
   "source": [
    "    2.2. Calidad:"
   ]
  },
  {
   "cell_type": "code",
   "execution_count": 258,
   "id": "df836161",
   "metadata": {},
   "outputs": [],
   "source": [
    "ford_quality = pd.DataFrame(ford_tw.where(ford_tw.brand_attribute=='quality').dropna().drop('brand_attribute',axis=1))"
   ]
  },
  {
   "cell_type": "code",
   "execution_count": 259,
   "id": "97efb000",
   "metadata": {},
   "outputs": [
    {
     "data": {
      "text/plain": [
       "text        0\n",
       "hashtags    0\n",
       "dtype: int64"
      ]
     },
     "execution_count": 259,
     "metadata": {},
     "output_type": "execute_result"
    }
   ],
   "source": [
    "ford_quality.isnull().sum()"
   ]
  },
  {
   "cell_type": "code",
   "execution_count": 260,
   "id": "cd8d5fc1",
   "metadata": {},
   "outputs": [
    {
     "data": {
      "text/plain": [
       "(3755, 2)"
      ]
     },
     "execution_count": 260,
     "metadata": {},
     "output_type": "execute_result"
    }
   ],
   "source": [
    "ford_quality.shape"
   ]
  },
  {
   "cell_type": "code",
   "execution_count": 261,
   "id": "2601cd10",
   "metadata": {},
   "outputs": [],
   "source": [
    "# Exportamos el subset de calidad.\n",
    "\n",
    "ford_quality.to_csv('data/ford_quality.csv', index = False)"
   ]
  },
  {
   "cell_type": "markdown",
   "id": "aa67572f",
   "metadata": {},
   "source": [
    "**Nota importante:**\n",
    "\n",
    "Aunque hemos exportado cada subset en archivos csv independientes (lo tenemos guardado de manera desagregada), en realidad trabajaremos con un único DataFrame que contenga todos los tweets analizados (los de todas las marcas y todos los atributos). En este DataFrame recogeremos en una columna la marca a la que hacen referencia y en otra columna el atributo al que se refieren (calidad y precio). Esto lo hacemos así porque nos permitirá agilizar mucho los procesos de visualización de resultados y obtener gráficos de mejor calidad (podremos filtrar en función de la marca y el atributo, al tiempo que manejamos un único DataFrame para mayor eficiencia)."
   ]
  },
  {
   "cell_type": "markdown",
   "id": "de864e40",
   "metadata": {},
   "source": [
    "## Dataset Completo."
   ]
  },
  {
   "cell_type": "markdown",
   "id": "5ecd9829",
   "metadata": {},
   "source": [
    "Primero generamos una nueva columna en la que se recoja la marca a la que hace referencia el tweet (todos los valores de la columna serán 'nike' para el DataFrame de Nike, 'adidas' para el DataFrame de Adidas...)."
   ]
  },
  {
   "cell_type": "markdown",
   "id": "438c5252",
   "metadata": {},
   "source": [
    "#### Columna 'brand' para los datos de BMW."
   ]
  },
  {
   "cell_type": "code",
   "execution_count": 200,
   "id": "b6cfde32",
   "metadata": {},
   "outputs": [
    {
     "data": {
      "text/html": [
       "<div>\n",
       "<style scoped>\n",
       "    .dataframe tbody tr th:only-of-type {\n",
       "        vertical-align: middle;\n",
       "    }\n",
       "\n",
       "    .dataframe tbody tr th {\n",
       "        vertical-align: top;\n",
       "    }\n",
       "\n",
       "    .dataframe thead th {\n",
       "        text-align: right;\n",
       "    }\n",
       "</style>\n",
       "<table border=\"1\" class=\"dataframe\">\n",
       "  <thead>\n",
       "    <tr style=\"text-align: right;\">\n",
       "      <th></th>\n",
       "      <th>text</th>\n",
       "      <th>hashtags</th>\n",
       "      <th>brand_attribute</th>\n",
       "    </tr>\n",
       "  </thead>\n",
       "  <tbody>\n",
       "    <tr>\n",
       "      <th>0</th>\n",
       "      <td>nobody cares about nike in russia russia is al...</td>\n",
       "      <td>[]</td>\n",
       "      <td>quality</td>\n",
       "    </tr>\n",
       "    <tr>\n",
       "      <th>1</th>\n",
       "      <td>ye green nike hoodie waala two weeks pehle put...</td>\n",
       "      <td>[]</td>\n",
       "      <td>quality</td>\n",
       "    </tr>\n",
       "    <tr>\n",
       "      <th>2</th>\n",
       "      <td>nike okundaye also knowns nike twins seven sev...</td>\n",
       "      <td>[#womengiant, #Documentwomen]</td>\n",
       "      <td>quality</td>\n",
       "    </tr>\n",
       "    <tr>\n",
       "      <th>3</th>\n",
       "      <td>day four of maxmadness air max month nike air ...</td>\n",
       "      <td>[#maxmadness, #AirMaxMonth, #airmaxgang, #kotd...</td>\n",
       "      <td>quality</td>\n",
       "    </tr>\n",
       "    <tr>\n",
       "      <th>4</th>\n",
       "      <td>thank you sir</td>\n",
       "      <td>[]</td>\n",
       "      <td>quality</td>\n",
       "    </tr>\n",
       "  </tbody>\n",
       "</table>\n",
       "</div>"
      ],
      "text/plain": [
       "                                                text  \\\n",
       "0  nobody cares about nike in russia russia is al...   \n",
       "1  ye green nike hoodie waala two weeks pehle put...   \n",
       "2  nike okundaye also knowns nike twins seven sev...   \n",
       "3  day four of maxmadness air max month nike air ...   \n",
       "4                                      thank you sir   \n",
       "\n",
       "                                            hashtags brand_attribute  \n",
       "0                                                 []         quality  \n",
       "1                                                 []         quality  \n",
       "2                      [#womengiant, #Documentwomen]         quality  \n",
       "3  [#maxmadness, #AirMaxMonth, #airmaxgang, #kotd...         quality  \n",
       "4                                                 []         quality  "
      ]
     },
     "execution_count": 200,
     "metadata": {},
     "output_type": "execute_result"
    }
   ],
   "source": [
    "bmw_tw.head()"
   ]
  },
  {
   "cell_type": "code",
   "execution_count": 262,
   "id": "6a15d1a9",
   "metadata": {},
   "outputs": [],
   "source": [
    "bmw_tw = bmw_tw.assign(brand='bmw')"
   ]
  },
  {
   "cell_type": "code",
   "execution_count": 263,
   "id": "97768b93",
   "metadata": {
    "scrolled": true
   },
   "outputs": [
    {
     "data": {
      "text/html": [
       "<div>\n",
       "<style scoped>\n",
       "    .dataframe tbody tr th:only-of-type {\n",
       "        vertical-align: middle;\n",
       "    }\n",
       "\n",
       "    .dataframe tbody tr th {\n",
       "        vertical-align: top;\n",
       "    }\n",
       "\n",
       "    .dataframe thead th {\n",
       "        text-align: right;\n",
       "    }\n",
       "</style>\n",
       "<table border=\"1\" class=\"dataframe\">\n",
       "  <thead>\n",
       "    <tr style=\"text-align: right;\">\n",
       "      <th></th>\n",
       "      <th>text</th>\n",
       "      <th>hashtags</th>\n",
       "      <th>brand_attribute</th>\n",
       "      <th>brand</th>\n",
       "    </tr>\n",
       "  </thead>\n",
       "  <tbody>\n",
       "    <tr>\n",
       "      <th>0</th>\n",
       "      <td>i was told by bmw you need to replace the batt...</td>\n",
       "      <td>[]</td>\n",
       "      <td>quality</td>\n",
       "      <td>bmw</td>\n",
       "    </tr>\n",
       "    <tr>\n",
       "      <th>1</th>\n",
       "      <td>a new listing for bmw e two eight m five engin...</td>\n",
       "      <td>[]</td>\n",
       "      <td>quality</td>\n",
       "      <td>bmw</td>\n",
       "    </tr>\n",
       "    <tr>\n",
       "      <th>2</th>\n",
       "      <td>he only led a few hundert meters at the austri...</td>\n",
       "      <td>[]</td>\n",
       "      <td>quality</td>\n",
       "      <td>bmw</td>\n",
       "    </tr>\n",
       "    <tr>\n",
       "      <th>3</th>\n",
       "      <td>russians making bmw seeking missiles it s over...</td>\n",
       "      <td>[]</td>\n",
       "      <td>quality</td>\n",
       "      <td>bmw</td>\n",
       "    </tr>\n",
       "    <tr>\n",
       "      <th>4</th>\n",
       "      <td>does anyone want to hati will just get doyoung...</td>\n",
       "      <td>[]</td>\n",
       "      <td>quality</td>\n",
       "      <td>bmw</td>\n",
       "    </tr>\n",
       "  </tbody>\n",
       "</table>\n",
       "</div>"
      ],
      "text/plain": [
       "                                                text hashtags brand_attribute  \\\n",
       "0  i was told by bmw you need to replace the batt...       []         quality   \n",
       "1  a new listing for bmw e two eight m five engin...       []         quality   \n",
       "2  he only led a few hundert meters at the austri...       []         quality   \n",
       "3  russians making bmw seeking missiles it s over...       []         quality   \n",
       "4  does anyone want to hati will just get doyoung...       []         quality   \n",
       "\n",
       "  brand  \n",
       "0   bmw  \n",
       "1   bmw  \n",
       "2   bmw  \n",
       "3   bmw  \n",
       "4   bmw  "
      ]
     },
     "execution_count": 263,
     "metadata": {},
     "output_type": "execute_result"
    }
   ],
   "source": [
    "bmw_tw.head()"
   ]
  },
  {
   "cell_type": "markdown",
   "id": "bbcab0a8",
   "metadata": {},
   "source": [
    "#### Columna 'brand' para los datos de Audi."
   ]
  },
  {
   "cell_type": "code",
   "execution_count": 264,
   "id": "6ea2100b",
   "metadata": {},
   "outputs": [
    {
     "data": {
      "text/html": [
       "<div>\n",
       "<style scoped>\n",
       "    .dataframe tbody tr th:only-of-type {\n",
       "        vertical-align: middle;\n",
       "    }\n",
       "\n",
       "    .dataframe tbody tr th {\n",
       "        vertical-align: top;\n",
       "    }\n",
       "\n",
       "    .dataframe thead th {\n",
       "        text-align: right;\n",
       "    }\n",
       "</style>\n",
       "<table border=\"1\" class=\"dataframe\">\n",
       "  <thead>\n",
       "    <tr style=\"text-align: right;\">\n",
       "      <th></th>\n",
       "      <th>text</th>\n",
       "      <th>hashtags</th>\n",
       "      <th>brand_attribute</th>\n",
       "    </tr>\n",
       "  </thead>\n",
       "  <tbody>\n",
       "    <tr>\n",
       "      <th>0</th>\n",
       "      <td>audi r eightc sica zero oneb eu le mans nine n...</td>\n",
       "      <td>[]</td>\n",
       "      <td>quality</td>\n",
       "    </tr>\n",
       "    <tr>\n",
       "      <th>1</th>\n",
       "      <td>wts want to sell tiket ptd bts cgv aeon mall j...</td>\n",
       "      <td>[]</td>\n",
       "      <td>price</td>\n",
       "    </tr>\n",
       "    <tr>\n",
       "      <th>2</th>\n",
       "      <td>new scratch repair agent viscous scar remove q...</td>\n",
       "      <td>[#New, #audi, #autos, #vehicle, #bhfyp]</td>\n",
       "      <td>price</td>\n",
       "    </tr>\n",
       "    <tr>\n",
       "      <th>3</th>\n",
       "      <td>the money u charge for the product u deliver i...</td>\n",
       "      <td>[]</td>\n",
       "      <td>price</td>\n",
       "    </tr>\n",
       "    <tr>\n",
       "      <th>4</th>\n",
       "      <td>e t booking update coimbatore karpagam complex...</td>\n",
       "      <td>[#ETBookingUpdate, #Coimbatore, #EtharkkumThun...</td>\n",
       "      <td>quality</td>\n",
       "    </tr>\n",
       "  </tbody>\n",
       "</table>\n",
       "</div>"
      ],
      "text/plain": [
       "                                                text  \\\n",
       "0  audi r eightc sica zero oneb eu le mans nine n...   \n",
       "1  wts want to sell tiket ptd bts cgv aeon mall j...   \n",
       "2  new scratch repair agent viscous scar remove q...   \n",
       "3  the money u charge for the product u deliver i...   \n",
       "4  e t booking update coimbatore karpagam complex...   \n",
       "\n",
       "                                            hashtags brand_attribute  \n",
       "0                                                 []         quality  \n",
       "1                                                 []           price  \n",
       "2            [#New, #audi, #autos, #vehicle, #bhfyp]           price  \n",
       "3                                                 []           price  \n",
       "4  [#ETBookingUpdate, #Coimbatore, #EtharkkumThun...         quality  "
      ]
     },
     "execution_count": 264,
     "metadata": {},
     "output_type": "execute_result"
    }
   ],
   "source": [
    "audi_tw.head()"
   ]
  },
  {
   "cell_type": "code",
   "execution_count": 265,
   "id": "d4a7ad1c",
   "metadata": {},
   "outputs": [],
   "source": [
    "audi_tw = audi_tw.assign(brand='audi')"
   ]
  },
  {
   "cell_type": "code",
   "execution_count": 266,
   "id": "646c33b8",
   "metadata": {
    "scrolled": false
   },
   "outputs": [
    {
     "data": {
      "text/html": [
       "<div>\n",
       "<style scoped>\n",
       "    .dataframe tbody tr th:only-of-type {\n",
       "        vertical-align: middle;\n",
       "    }\n",
       "\n",
       "    .dataframe tbody tr th {\n",
       "        vertical-align: top;\n",
       "    }\n",
       "\n",
       "    .dataframe thead th {\n",
       "        text-align: right;\n",
       "    }\n",
       "</style>\n",
       "<table border=\"1\" class=\"dataframe\">\n",
       "  <thead>\n",
       "    <tr style=\"text-align: right;\">\n",
       "      <th></th>\n",
       "      <th>text</th>\n",
       "      <th>hashtags</th>\n",
       "      <th>brand_attribute</th>\n",
       "      <th>brand</th>\n",
       "    </tr>\n",
       "  </thead>\n",
       "  <tbody>\n",
       "    <tr>\n",
       "      <th>0</th>\n",
       "      <td>audi r eightc sica zero oneb eu le mans nine n...</td>\n",
       "      <td>[]</td>\n",
       "      <td>quality</td>\n",
       "      <td>audi</td>\n",
       "    </tr>\n",
       "    <tr>\n",
       "      <th>1</th>\n",
       "      <td>wts want to sell tiket ptd bts cgv aeon mall j...</td>\n",
       "      <td>[]</td>\n",
       "      <td>price</td>\n",
       "      <td>audi</td>\n",
       "    </tr>\n",
       "    <tr>\n",
       "      <th>2</th>\n",
       "      <td>new scratch repair agent viscous scar remove q...</td>\n",
       "      <td>[#New, #audi, #autos, #vehicle, #bhfyp]</td>\n",
       "      <td>price</td>\n",
       "      <td>audi</td>\n",
       "    </tr>\n",
       "    <tr>\n",
       "      <th>3</th>\n",
       "      <td>the money u charge for the product u deliver i...</td>\n",
       "      <td>[]</td>\n",
       "      <td>price</td>\n",
       "      <td>audi</td>\n",
       "    </tr>\n",
       "    <tr>\n",
       "      <th>4</th>\n",
       "      <td>e t booking update coimbatore karpagam complex...</td>\n",
       "      <td>[#ETBookingUpdate, #Coimbatore, #EtharkkumThun...</td>\n",
       "      <td>quality</td>\n",
       "      <td>audi</td>\n",
       "    </tr>\n",
       "  </tbody>\n",
       "</table>\n",
       "</div>"
      ],
      "text/plain": [
       "                                                text  \\\n",
       "0  audi r eightc sica zero oneb eu le mans nine n...   \n",
       "1  wts want to sell tiket ptd bts cgv aeon mall j...   \n",
       "2  new scratch repair agent viscous scar remove q...   \n",
       "3  the money u charge for the product u deliver i...   \n",
       "4  e t booking update coimbatore karpagam complex...   \n",
       "\n",
       "                                            hashtags brand_attribute brand  \n",
       "0                                                 []         quality  audi  \n",
       "1                                                 []           price  audi  \n",
       "2            [#New, #audi, #autos, #vehicle, #bhfyp]           price  audi  \n",
       "3                                                 []           price  audi  \n",
       "4  [#ETBookingUpdate, #Coimbatore, #EtharkkumThun...         quality  audi  "
      ]
     },
     "execution_count": 266,
     "metadata": {},
     "output_type": "execute_result"
    }
   ],
   "source": [
    "audi_tw.head()"
   ]
  },
  {
   "cell_type": "markdown",
   "id": "4a140f13",
   "metadata": {},
   "source": [
    "#### Columna 'brand' para los datos de Volkswagen."
   ]
  },
  {
   "cell_type": "code",
   "execution_count": 267,
   "id": "cb52dc5d",
   "metadata": {},
   "outputs": [
    {
     "data": {
      "text/html": [
       "<div>\n",
       "<style scoped>\n",
       "    .dataframe tbody tr th:only-of-type {\n",
       "        vertical-align: middle;\n",
       "    }\n",
       "\n",
       "    .dataframe tbody tr th {\n",
       "        vertical-align: top;\n",
       "    }\n",
       "\n",
       "    .dataframe thead th {\n",
       "        text-align: right;\n",
       "    }\n",
       "</style>\n",
       "<table border=\"1\" class=\"dataframe\">\n",
       "  <thead>\n",
       "    <tr style=\"text-align: right;\">\n",
       "      <th></th>\n",
       "      <th>text</th>\n",
       "      <th>hashtags</th>\n",
       "      <th>brand_attribute</th>\n",
       "    </tr>\n",
       "  </thead>\n",
       "  <tbody>\n",
       "    <tr>\n",
       "      <th>0</th>\n",
       "      <td>just arrived volkswagen tiguan two zero diesel...</td>\n",
       "      <td>[#UsedCars, #CarsForSale, #UsedCarsOxford, #Us...</td>\n",
       "      <td>price</td>\n",
       "    </tr>\n",
       "    <tr>\n",
       "      <th>1</th>\n",
       "      <td>glimpses of women s day celebrations at autoba...</td>\n",
       "      <td>[#WomensDayCelebrations, #Celebrations]</td>\n",
       "      <td>quality</td>\n",
       "    </tr>\n",
       "    <tr>\n",
       "      <th>2</th>\n",
       "      <td>marshall v o l k s w a g e n vip four day sale...</td>\n",
       "      <td>[#VOLKSWAGEN]</td>\n",
       "      <td>price</td>\n",
       "    </tr>\n",
       "    <tr>\n",
       "      <th>3</th>\n",
       "      <td>volkswagen presents their all new model virtus...</td>\n",
       "      <td>[#PrintWorks, #PowerOfPrint, #PrintAdvertising...</td>\n",
       "      <td>quality</td>\n",
       "    </tr>\n",
       "    <tr>\n",
       "      <th>4</th>\n",
       "      <td>twopcs roof rail racks cross bars crossbars fi...</td>\n",
       "      <td>[]</td>\n",
       "      <td>price</td>\n",
       "    </tr>\n",
       "  </tbody>\n",
       "</table>\n",
       "</div>"
      ],
      "text/plain": [
       "                                                text  \\\n",
       "0  just arrived volkswagen tiguan two zero diesel...   \n",
       "1  glimpses of women s day celebrations at autoba...   \n",
       "2  marshall v o l k s w a g e n vip four day sale...   \n",
       "3  volkswagen presents their all new model virtus...   \n",
       "4  twopcs roof rail racks cross bars crossbars fi...   \n",
       "\n",
       "                                            hashtags brand_attribute  \n",
       "0  [#UsedCars, #CarsForSale, #UsedCarsOxford, #Us...           price  \n",
       "1            [#WomensDayCelebrations, #Celebrations]         quality  \n",
       "2                                      [#VOLKSWAGEN]           price  \n",
       "3  [#PrintWorks, #PowerOfPrint, #PrintAdvertising...         quality  \n",
       "4                                                 []           price  "
      ]
     },
     "execution_count": 267,
     "metadata": {},
     "output_type": "execute_result"
    }
   ],
   "source": [
    "volkswagen_tw.head()"
   ]
  },
  {
   "cell_type": "code",
   "execution_count": 270,
   "id": "2d5c4d51",
   "metadata": {},
   "outputs": [],
   "source": [
    "volkswagen_tw = volkswagen_tw.assign(brand='volkswagen')"
   ]
  },
  {
   "cell_type": "code",
   "execution_count": 271,
   "id": "1a7d1269",
   "metadata": {
    "scrolled": true
   },
   "outputs": [
    {
     "data": {
      "text/html": [
       "<div>\n",
       "<style scoped>\n",
       "    .dataframe tbody tr th:only-of-type {\n",
       "        vertical-align: middle;\n",
       "    }\n",
       "\n",
       "    .dataframe tbody tr th {\n",
       "        vertical-align: top;\n",
       "    }\n",
       "\n",
       "    .dataframe thead th {\n",
       "        text-align: right;\n",
       "    }\n",
       "</style>\n",
       "<table border=\"1\" class=\"dataframe\">\n",
       "  <thead>\n",
       "    <tr style=\"text-align: right;\">\n",
       "      <th></th>\n",
       "      <th>text</th>\n",
       "      <th>hashtags</th>\n",
       "      <th>brand_attribute</th>\n",
       "      <th>brand</th>\n",
       "    </tr>\n",
       "  </thead>\n",
       "  <tbody>\n",
       "    <tr>\n",
       "      <th>0</th>\n",
       "      <td>just arrived volkswagen tiguan two zero diesel...</td>\n",
       "      <td>[#UsedCars, #CarsForSale, #UsedCarsOxford, #Us...</td>\n",
       "      <td>price</td>\n",
       "      <td>volkswagen</td>\n",
       "    </tr>\n",
       "    <tr>\n",
       "      <th>1</th>\n",
       "      <td>glimpses of women s day celebrations at autoba...</td>\n",
       "      <td>[#WomensDayCelebrations, #Celebrations]</td>\n",
       "      <td>quality</td>\n",
       "      <td>volkswagen</td>\n",
       "    </tr>\n",
       "    <tr>\n",
       "      <th>2</th>\n",
       "      <td>marshall v o l k s w a g e n vip four day sale...</td>\n",
       "      <td>[#VOLKSWAGEN]</td>\n",
       "      <td>price</td>\n",
       "      <td>volkswagen</td>\n",
       "    </tr>\n",
       "    <tr>\n",
       "      <th>3</th>\n",
       "      <td>volkswagen presents their all new model virtus...</td>\n",
       "      <td>[#PrintWorks, #PowerOfPrint, #PrintAdvertising...</td>\n",
       "      <td>quality</td>\n",
       "      <td>volkswagen</td>\n",
       "    </tr>\n",
       "    <tr>\n",
       "      <th>4</th>\n",
       "      <td>twopcs roof rail racks cross bars crossbars fi...</td>\n",
       "      <td>[]</td>\n",
       "      <td>price</td>\n",
       "      <td>volkswagen</td>\n",
       "    </tr>\n",
       "  </tbody>\n",
       "</table>\n",
       "</div>"
      ],
      "text/plain": [
       "                                                text  \\\n",
       "0  just arrived volkswagen tiguan two zero diesel...   \n",
       "1  glimpses of women s day celebrations at autoba...   \n",
       "2  marshall v o l k s w a g e n vip four day sale...   \n",
       "3  volkswagen presents their all new model virtus...   \n",
       "4  twopcs roof rail racks cross bars crossbars fi...   \n",
       "\n",
       "                                            hashtags brand_attribute  \\\n",
       "0  [#UsedCars, #CarsForSale, #UsedCarsOxford, #Us...           price   \n",
       "1            [#WomensDayCelebrations, #Celebrations]         quality   \n",
       "2                                      [#VOLKSWAGEN]           price   \n",
       "3  [#PrintWorks, #PowerOfPrint, #PrintAdvertising...         quality   \n",
       "4                                                 []           price   \n",
       "\n",
       "        brand  \n",
       "0  volkswagen  \n",
       "1  volkswagen  \n",
       "2  volkswagen  \n",
       "3  volkswagen  \n",
       "4  volkswagen  "
      ]
     },
     "execution_count": 271,
     "metadata": {},
     "output_type": "execute_result"
    }
   ],
   "source": [
    "volkswagen_tw.head()"
   ]
  },
  {
   "cell_type": "markdown",
   "id": "ad553480",
   "metadata": {},
   "source": [
    "#### Columna 'brand' para los datos de Renault."
   ]
  },
  {
   "cell_type": "code",
   "execution_count": 272,
   "id": "16de371b",
   "metadata": {},
   "outputs": [
    {
     "data": {
      "text/html": [
       "<div>\n",
       "<style scoped>\n",
       "    .dataframe tbody tr th:only-of-type {\n",
       "        vertical-align: middle;\n",
       "    }\n",
       "\n",
       "    .dataframe tbody tr th {\n",
       "        vertical-align: top;\n",
       "    }\n",
       "\n",
       "    .dataframe thead th {\n",
       "        text-align: right;\n",
       "    }\n",
       "</style>\n",
       "<table border=\"1\" class=\"dataframe\">\n",
       "  <thead>\n",
       "    <tr style=\"text-align: right;\">\n",
       "      <th></th>\n",
       "      <th>text</th>\n",
       "      <th>hashtags</th>\n",
       "      <th>brand_attribute</th>\n",
       "    </tr>\n",
       "  </thead>\n",
       "  <tbody>\n",
       "    <tr>\n",
       "      <th>0</th>\n",
       "      <td>aren t you the person who failed the applicati...</td>\n",
       "      <td>[]</td>\n",
       "      <td>quality</td>\n",
       "    </tr>\n",
       "    <tr>\n",
       "      <th>1</th>\n",
       "      <td>there are far better recycling solutions avail...</td>\n",
       "      <td>[]</td>\n",
       "      <td>quality</td>\n",
       "    </tr>\n",
       "    <tr>\n",
       "      <th>2</th>\n",
       "      <td>some talented directors need to move their ass...</td>\n",
       "      <td>[]</td>\n",
       "      <td>quality</td>\n",
       "    </tr>\n",
       "    <tr>\n",
       "      <th>3</th>\n",
       "      <td>an extra two five of people are now more likel...</td>\n",
       "      <td>[#Google, #Renault]</td>\n",
       "      <td>price</td>\n",
       "    </tr>\n",
       "    <tr>\n",
       "      <th>4</th>\n",
       "      <td>well except the design of the moskvitch of cou...</td>\n",
       "      <td>[]</td>\n",
       "      <td>quality</td>\n",
       "    </tr>\n",
       "  </tbody>\n",
       "</table>\n",
       "</div>"
      ],
      "text/plain": [
       "                                                text             hashtags  \\\n",
       "0  aren t you the person who failed the applicati...                   []   \n",
       "1  there are far better recycling solutions avail...                   []   \n",
       "2  some talented directors need to move their ass...                   []   \n",
       "3  an extra two five of people are now more likel...  [#Google, #Renault]   \n",
       "4  well except the design of the moskvitch of cou...                   []   \n",
       "\n",
       "  brand_attribute  \n",
       "0         quality  \n",
       "1         quality  \n",
       "2         quality  \n",
       "3           price  \n",
       "4         quality  "
      ]
     },
     "execution_count": 272,
     "metadata": {},
     "output_type": "execute_result"
    }
   ],
   "source": [
    "renault_tw.head()"
   ]
  },
  {
   "cell_type": "code",
   "execution_count": 274,
   "id": "685ee1aa",
   "metadata": {},
   "outputs": [],
   "source": [
    "renault_tw = renault_tw.assign(brand='renault')"
   ]
  },
  {
   "cell_type": "code",
   "execution_count": 275,
   "id": "458a0051",
   "metadata": {
    "scrolled": true
   },
   "outputs": [
    {
     "data": {
      "text/html": [
       "<div>\n",
       "<style scoped>\n",
       "    .dataframe tbody tr th:only-of-type {\n",
       "        vertical-align: middle;\n",
       "    }\n",
       "\n",
       "    .dataframe tbody tr th {\n",
       "        vertical-align: top;\n",
       "    }\n",
       "\n",
       "    .dataframe thead th {\n",
       "        text-align: right;\n",
       "    }\n",
       "</style>\n",
       "<table border=\"1\" class=\"dataframe\">\n",
       "  <thead>\n",
       "    <tr style=\"text-align: right;\">\n",
       "      <th></th>\n",
       "      <th>text</th>\n",
       "      <th>hashtags</th>\n",
       "      <th>brand_attribute</th>\n",
       "      <th>brand</th>\n",
       "    </tr>\n",
       "  </thead>\n",
       "  <tbody>\n",
       "    <tr>\n",
       "      <th>0</th>\n",
       "      <td>aren t you the person who failed the applicati...</td>\n",
       "      <td>[]</td>\n",
       "      <td>quality</td>\n",
       "      <td>renault</td>\n",
       "    </tr>\n",
       "    <tr>\n",
       "      <th>1</th>\n",
       "      <td>there are far better recycling solutions avail...</td>\n",
       "      <td>[]</td>\n",
       "      <td>quality</td>\n",
       "      <td>renault</td>\n",
       "    </tr>\n",
       "    <tr>\n",
       "      <th>2</th>\n",
       "      <td>some talented directors need to move their ass...</td>\n",
       "      <td>[]</td>\n",
       "      <td>quality</td>\n",
       "      <td>renault</td>\n",
       "    </tr>\n",
       "    <tr>\n",
       "      <th>3</th>\n",
       "      <td>an extra two five of people are now more likel...</td>\n",
       "      <td>[#Google, #Renault]</td>\n",
       "      <td>price</td>\n",
       "      <td>renault</td>\n",
       "    </tr>\n",
       "    <tr>\n",
       "      <th>4</th>\n",
       "      <td>well except the design of the moskvitch of cou...</td>\n",
       "      <td>[]</td>\n",
       "      <td>quality</td>\n",
       "      <td>renault</td>\n",
       "    </tr>\n",
       "  </tbody>\n",
       "</table>\n",
       "</div>"
      ],
      "text/plain": [
       "                                                text             hashtags  \\\n",
       "0  aren t you the person who failed the applicati...                   []   \n",
       "1  there are far better recycling solutions avail...                   []   \n",
       "2  some talented directors need to move their ass...                   []   \n",
       "3  an extra two five of people are now more likel...  [#Google, #Renault]   \n",
       "4  well except the design of the moskvitch of cou...                   []   \n",
       "\n",
       "  brand_attribute    brand  \n",
       "0         quality  renault  \n",
       "1         quality  renault  \n",
       "2         quality  renault  \n",
       "3           price  renault  \n",
       "4         quality  renault  "
      ]
     },
     "execution_count": 275,
     "metadata": {},
     "output_type": "execute_result"
    }
   ],
   "source": [
    "renault_tw.head()"
   ]
  },
  {
   "cell_type": "markdown",
   "id": "dbb15a46",
   "metadata": {},
   "source": [
    "#### Columna 'brand' para los datos de Fiat."
   ]
  },
  {
   "cell_type": "code",
   "execution_count": 276,
   "id": "465256d2",
   "metadata": {},
   "outputs": [
    {
     "data": {
      "text/html": [
       "<div>\n",
       "<style scoped>\n",
       "    .dataframe tbody tr th:only-of-type {\n",
       "        vertical-align: middle;\n",
       "    }\n",
       "\n",
       "    .dataframe tbody tr th {\n",
       "        vertical-align: top;\n",
       "    }\n",
       "\n",
       "    .dataframe thead th {\n",
       "        text-align: right;\n",
       "    }\n",
       "</style>\n",
       "<table border=\"1\" class=\"dataframe\">\n",
       "  <thead>\n",
       "    <tr style=\"text-align: right;\">\n",
       "      <th></th>\n",
       "      <th>text</th>\n",
       "      <th>hashtags</th>\n",
       "      <th>brand_attribute</th>\n",
       "    </tr>\n",
       "  </thead>\n",
       "  <tbody>\n",
       "    <tr>\n",
       "      <th>0</th>\n",
       "      <td>robo wallet converts crypto to fiat directly t...</td>\n",
       "      <td>[#RoboWallet, #Roboinu]</td>\n",
       "      <td>price</td>\n",
       "    </tr>\n",
       "    <tr>\n",
       "      <th>1</th>\n",
       "      <td>robo inu finance is an e r c two zero token rb...</td>\n",
       "      <td>[#ERC20, #RBIF, #NASA, #Roboinu, #RoboWarrior,...</td>\n",
       "      <td>price</td>\n",
       "    </tr>\n",
       "    <tr>\n",
       "      <th>2</th>\n",
       "      <td>fiat panda one zero gse hybrid cross ebay</td>\n",
       "      <td>[]</td>\n",
       "      <td>quality</td>\n",
       "    </tr>\n",
       "    <tr>\n",
       "      <th>3</th>\n",
       "      <td>noun the fiat verb to fiat adjective fiat adve...</td>\n",
       "      <td>[]</td>\n",
       "      <td>quality</td>\n",
       "    </tr>\n",
       "    <tr>\n",
       "      <th>4</th>\n",
       "      <td>convert as much fiat into bitcoin as you can t...</td>\n",
       "      <td>[#Bitcoin]</td>\n",
       "      <td>price</td>\n",
       "    </tr>\n",
       "  </tbody>\n",
       "</table>\n",
       "</div>"
      ],
      "text/plain": [
       "                                                text  \\\n",
       "0  robo wallet converts crypto to fiat directly t...   \n",
       "1  robo inu finance is an e r c two zero token rb...   \n",
       "2          fiat panda one zero gse hybrid cross ebay   \n",
       "3  noun the fiat verb to fiat adjective fiat adve...   \n",
       "4  convert as much fiat into bitcoin as you can t...   \n",
       "\n",
       "                                            hashtags brand_attribute  \n",
       "0                            [#RoboWallet, #Roboinu]           price  \n",
       "1  [#ERC20, #RBIF, #NASA, #Roboinu, #RoboWarrior,...           price  \n",
       "2                                                 []         quality  \n",
       "3                                                 []         quality  \n",
       "4                                         [#Bitcoin]           price  "
      ]
     },
     "execution_count": 276,
     "metadata": {},
     "output_type": "execute_result"
    }
   ],
   "source": [
    "fiat_tw.head()"
   ]
  },
  {
   "cell_type": "code",
   "execution_count": 277,
   "id": "3e7519c7",
   "metadata": {},
   "outputs": [],
   "source": [
    "fiat_tw = fiat_tw.assign(brand='fiat')"
   ]
  },
  {
   "cell_type": "code",
   "execution_count": 278,
   "id": "e5e29f34",
   "metadata": {
    "scrolled": true
   },
   "outputs": [
    {
     "data": {
      "text/html": [
       "<div>\n",
       "<style scoped>\n",
       "    .dataframe tbody tr th:only-of-type {\n",
       "        vertical-align: middle;\n",
       "    }\n",
       "\n",
       "    .dataframe tbody tr th {\n",
       "        vertical-align: top;\n",
       "    }\n",
       "\n",
       "    .dataframe thead th {\n",
       "        text-align: right;\n",
       "    }\n",
       "</style>\n",
       "<table border=\"1\" class=\"dataframe\">\n",
       "  <thead>\n",
       "    <tr style=\"text-align: right;\">\n",
       "      <th></th>\n",
       "      <th>text</th>\n",
       "      <th>hashtags</th>\n",
       "      <th>brand_attribute</th>\n",
       "      <th>brand</th>\n",
       "    </tr>\n",
       "  </thead>\n",
       "  <tbody>\n",
       "    <tr>\n",
       "      <th>0</th>\n",
       "      <td>robo wallet converts crypto to fiat directly t...</td>\n",
       "      <td>[#RoboWallet, #Roboinu]</td>\n",
       "      <td>price</td>\n",
       "      <td>fiat</td>\n",
       "    </tr>\n",
       "    <tr>\n",
       "      <th>1</th>\n",
       "      <td>robo inu finance is an e r c two zero token rb...</td>\n",
       "      <td>[#ERC20, #RBIF, #NASA, #Roboinu, #RoboWarrior,...</td>\n",
       "      <td>price</td>\n",
       "      <td>fiat</td>\n",
       "    </tr>\n",
       "    <tr>\n",
       "      <th>2</th>\n",
       "      <td>fiat panda one zero gse hybrid cross ebay</td>\n",
       "      <td>[]</td>\n",
       "      <td>quality</td>\n",
       "      <td>fiat</td>\n",
       "    </tr>\n",
       "    <tr>\n",
       "      <th>3</th>\n",
       "      <td>noun the fiat verb to fiat adjective fiat adve...</td>\n",
       "      <td>[]</td>\n",
       "      <td>quality</td>\n",
       "      <td>fiat</td>\n",
       "    </tr>\n",
       "    <tr>\n",
       "      <th>4</th>\n",
       "      <td>convert as much fiat into bitcoin as you can t...</td>\n",
       "      <td>[#Bitcoin]</td>\n",
       "      <td>price</td>\n",
       "      <td>fiat</td>\n",
       "    </tr>\n",
       "  </tbody>\n",
       "</table>\n",
       "</div>"
      ],
      "text/plain": [
       "                                                text  \\\n",
       "0  robo wallet converts crypto to fiat directly t...   \n",
       "1  robo inu finance is an e r c two zero token rb...   \n",
       "2          fiat panda one zero gse hybrid cross ebay   \n",
       "3  noun the fiat verb to fiat adjective fiat adve...   \n",
       "4  convert as much fiat into bitcoin as you can t...   \n",
       "\n",
       "                                            hashtags brand_attribute brand  \n",
       "0                            [#RoboWallet, #Roboinu]           price  fiat  \n",
       "1  [#ERC20, #RBIF, #NASA, #Roboinu, #RoboWarrior,...           price  fiat  \n",
       "2                                                 []         quality  fiat  \n",
       "3                                                 []         quality  fiat  \n",
       "4                                         [#Bitcoin]           price  fiat  "
      ]
     },
     "execution_count": 278,
     "metadata": {},
     "output_type": "execute_result"
    }
   ],
   "source": [
    "fiat_tw.head()"
   ]
  },
  {
   "cell_type": "markdown",
   "id": "e30cbc32",
   "metadata": {},
   "source": [
    "#### Columna 'brand' para los datos de Ferrari."
   ]
  },
  {
   "cell_type": "code",
   "execution_count": 279,
   "id": "7947d11b",
   "metadata": {},
   "outputs": [
    {
     "data": {
      "text/html": [
       "<div>\n",
       "<style scoped>\n",
       "    .dataframe tbody tr th:only-of-type {\n",
       "        vertical-align: middle;\n",
       "    }\n",
       "\n",
       "    .dataframe tbody tr th {\n",
       "        vertical-align: top;\n",
       "    }\n",
       "\n",
       "    .dataframe thead th {\n",
       "        text-align: right;\n",
       "    }\n",
       "</style>\n",
       "<table border=\"1\" class=\"dataframe\">\n",
       "  <thead>\n",
       "    <tr style=\"text-align: right;\">\n",
       "      <th></th>\n",
       "      <th>text</th>\n",
       "      <th>hashtags</th>\n",
       "      <th>brand_attribute</th>\n",
       "    </tr>\n",
       "  </thead>\n",
       "  <tbody>\n",
       "    <tr>\n",
       "      <th>0</th>\n",
       "      <td>mercedes achieved nearly six zero seven zero i...</td>\n",
       "      <td>[]</td>\n",
       "      <td>quality</td>\n",
       "    </tr>\n",
       "    <tr>\n",
       "      <th>1</th>\n",
       "      <td>if this rumour was about ferrari nobody would ...</td>\n",
       "      <td>[]</td>\n",
       "      <td>quality</td>\n",
       "    </tr>\n",
       "    <tr>\n",
       "      <th>2</th>\n",
       "      <td>aaahhhh thank you so much bestie i love that f...</td>\n",
       "      <td>[]</td>\n",
       "      <td>quality</td>\n",
       "    </tr>\n",
       "    <tr>\n",
       "      <th>3</th>\n",
       "      <td>motorsport italia scuderia ferrari successfull...</td>\n",
       "      <td>[]</td>\n",
       "      <td>quality</td>\n",
       "    </tr>\n",
       "    <tr>\n",
       "      <th>4</th>\n",
       "      <td>nick ferrari using ukraine as an excuse to red...</td>\n",
       "      <td>[]</td>\n",
       "      <td>quality</td>\n",
       "    </tr>\n",
       "  </tbody>\n",
       "</table>\n",
       "</div>"
      ],
      "text/plain": [
       "                                                text hashtags brand_attribute\n",
       "0  mercedes achieved nearly six zero seven zero i...       []         quality\n",
       "1  if this rumour was about ferrari nobody would ...       []         quality\n",
       "2  aaahhhh thank you so much bestie i love that f...       []         quality\n",
       "3  motorsport italia scuderia ferrari successfull...       []         quality\n",
       "4  nick ferrari using ukraine as an excuse to red...       []         quality"
      ]
     },
     "execution_count": 279,
     "metadata": {},
     "output_type": "execute_result"
    }
   ],
   "source": [
    "ferrari_tw.head()"
   ]
  },
  {
   "cell_type": "code",
   "execution_count": 280,
   "id": "3909be3f",
   "metadata": {},
   "outputs": [],
   "source": [
    "ferrari_tw = ferrari_tw.assign(brand='ferrari')"
   ]
  },
  {
   "cell_type": "code",
   "execution_count": 281,
   "id": "81beb961",
   "metadata": {
    "scrolled": true
   },
   "outputs": [
    {
     "data": {
      "text/html": [
       "<div>\n",
       "<style scoped>\n",
       "    .dataframe tbody tr th:only-of-type {\n",
       "        vertical-align: middle;\n",
       "    }\n",
       "\n",
       "    .dataframe tbody tr th {\n",
       "        vertical-align: top;\n",
       "    }\n",
       "\n",
       "    .dataframe thead th {\n",
       "        text-align: right;\n",
       "    }\n",
       "</style>\n",
       "<table border=\"1\" class=\"dataframe\">\n",
       "  <thead>\n",
       "    <tr style=\"text-align: right;\">\n",
       "      <th></th>\n",
       "      <th>text</th>\n",
       "      <th>hashtags</th>\n",
       "      <th>brand_attribute</th>\n",
       "      <th>brand</th>\n",
       "    </tr>\n",
       "  </thead>\n",
       "  <tbody>\n",
       "    <tr>\n",
       "      <th>0</th>\n",
       "      <td>mercedes achieved nearly six zero seven zero i...</td>\n",
       "      <td>[]</td>\n",
       "      <td>quality</td>\n",
       "      <td>ferrari</td>\n",
       "    </tr>\n",
       "    <tr>\n",
       "      <th>1</th>\n",
       "      <td>if this rumour was about ferrari nobody would ...</td>\n",
       "      <td>[]</td>\n",
       "      <td>quality</td>\n",
       "      <td>ferrari</td>\n",
       "    </tr>\n",
       "    <tr>\n",
       "      <th>2</th>\n",
       "      <td>aaahhhh thank you so much bestie i love that f...</td>\n",
       "      <td>[]</td>\n",
       "      <td>quality</td>\n",
       "      <td>ferrari</td>\n",
       "    </tr>\n",
       "    <tr>\n",
       "      <th>3</th>\n",
       "      <td>motorsport italia scuderia ferrari successfull...</td>\n",
       "      <td>[]</td>\n",
       "      <td>quality</td>\n",
       "      <td>ferrari</td>\n",
       "    </tr>\n",
       "    <tr>\n",
       "      <th>4</th>\n",
       "      <td>nick ferrari using ukraine as an excuse to red...</td>\n",
       "      <td>[]</td>\n",
       "      <td>quality</td>\n",
       "      <td>ferrari</td>\n",
       "    </tr>\n",
       "  </tbody>\n",
       "</table>\n",
       "</div>"
      ],
      "text/plain": [
       "                                                text hashtags brand_attribute  \\\n",
       "0  mercedes achieved nearly six zero seven zero i...       []         quality   \n",
       "1  if this rumour was about ferrari nobody would ...       []         quality   \n",
       "2  aaahhhh thank you so much bestie i love that f...       []         quality   \n",
       "3  motorsport italia scuderia ferrari successfull...       []         quality   \n",
       "4  nick ferrari using ukraine as an excuse to red...       []         quality   \n",
       "\n",
       "     brand  \n",
       "0  ferrari  \n",
       "1  ferrari  \n",
       "2  ferrari  \n",
       "3  ferrari  \n",
       "4  ferrari  "
      ]
     },
     "execution_count": 281,
     "metadata": {},
     "output_type": "execute_result"
    }
   ],
   "source": [
    "ferrari_tw.head()"
   ]
  },
  {
   "cell_type": "markdown",
   "id": "6923542c",
   "metadata": {},
   "source": [
    "#### Columna 'brand' para los datos de Lamborghini."
   ]
  },
  {
   "cell_type": "code",
   "execution_count": 282,
   "id": "a440322a",
   "metadata": {},
   "outputs": [
    {
     "data": {
      "text/html": [
       "<div>\n",
       "<style scoped>\n",
       "    .dataframe tbody tr th:only-of-type {\n",
       "        vertical-align: middle;\n",
       "    }\n",
       "\n",
       "    .dataframe tbody tr th {\n",
       "        vertical-align: top;\n",
       "    }\n",
       "\n",
       "    .dataframe thead th {\n",
       "        text-align: right;\n",
       "    }\n",
       "</style>\n",
       "<table border=\"1\" class=\"dataframe\">\n",
       "  <thead>\n",
       "    <tr style=\"text-align: right;\">\n",
       "      <th></th>\n",
       "      <th>text</th>\n",
       "      <th>hashtags</th>\n",
       "      <th>brand_attribute</th>\n",
       "    </tr>\n",
       "  </thead>\n",
       "  <tbody>\n",
       "    <tr>\n",
       "      <th>0</th>\n",
       "      <td>this is getting old where is the new roadster ...</td>\n",
       "      <td>[]</td>\n",
       "      <td>quality</td>\n",
       "    </tr>\n",
       "    <tr>\n",
       "      <th>1</th>\n",
       "      <td>use samsung phone and toshiba laptop buy on am...</td>\n",
       "      <td>[]</td>\n",
       "      <td>price</td>\n",
       "    </tr>\n",
       "    <tr>\n",
       "      <th>2</th>\n",
       "      <td>new coin did great things burned five zero app...</td>\n",
       "      <td>[]</td>\n",
       "      <td>price</td>\n",
       "    </tr>\n",
       "    <tr>\n",
       "      <th>3</th>\n",
       "      <td>new coin did great things burned five zero app...</td>\n",
       "      <td>[]</td>\n",
       "      <td>price</td>\n",
       "    </tr>\n",
       "    <tr>\n",
       "      <th>4</th>\n",
       "      <td>new coin did great things burned five zero app...</td>\n",
       "      <td>[]</td>\n",
       "      <td>price</td>\n",
       "    </tr>\n",
       "  </tbody>\n",
       "</table>\n",
       "</div>"
      ],
      "text/plain": [
       "                                                text hashtags brand_attribute\n",
       "0  this is getting old where is the new roadster ...       []         quality\n",
       "1  use samsung phone and toshiba laptop buy on am...       []           price\n",
       "2  new coin did great things burned five zero app...       []           price\n",
       "3  new coin did great things burned five zero app...       []           price\n",
       "4  new coin did great things burned five zero app...       []           price"
      ]
     },
     "execution_count": 282,
     "metadata": {},
     "output_type": "execute_result"
    }
   ],
   "source": [
    "lamborghini_tw.head()"
   ]
  },
  {
   "cell_type": "code",
   "execution_count": 283,
   "id": "b818dc2f",
   "metadata": {},
   "outputs": [],
   "source": [
    "lamborghini_tw = lamborghini_tw.assign(brand='lamborghini')"
   ]
  },
  {
   "cell_type": "code",
   "execution_count": 284,
   "id": "5bdd36b4",
   "metadata": {
    "scrolled": true
   },
   "outputs": [
    {
     "data": {
      "text/html": [
       "<div>\n",
       "<style scoped>\n",
       "    .dataframe tbody tr th:only-of-type {\n",
       "        vertical-align: middle;\n",
       "    }\n",
       "\n",
       "    .dataframe tbody tr th {\n",
       "        vertical-align: top;\n",
       "    }\n",
       "\n",
       "    .dataframe thead th {\n",
       "        text-align: right;\n",
       "    }\n",
       "</style>\n",
       "<table border=\"1\" class=\"dataframe\">\n",
       "  <thead>\n",
       "    <tr style=\"text-align: right;\">\n",
       "      <th></th>\n",
       "      <th>text</th>\n",
       "      <th>hashtags</th>\n",
       "      <th>brand_attribute</th>\n",
       "      <th>brand</th>\n",
       "    </tr>\n",
       "  </thead>\n",
       "  <tbody>\n",
       "    <tr>\n",
       "      <th>0</th>\n",
       "      <td>this is getting old where is the new roadster ...</td>\n",
       "      <td>[]</td>\n",
       "      <td>quality</td>\n",
       "      <td>lamborghini</td>\n",
       "    </tr>\n",
       "    <tr>\n",
       "      <th>1</th>\n",
       "      <td>use samsung phone and toshiba laptop buy on am...</td>\n",
       "      <td>[]</td>\n",
       "      <td>price</td>\n",
       "      <td>lamborghini</td>\n",
       "    </tr>\n",
       "    <tr>\n",
       "      <th>2</th>\n",
       "      <td>new coin did great things burned five zero app...</td>\n",
       "      <td>[]</td>\n",
       "      <td>price</td>\n",
       "      <td>lamborghini</td>\n",
       "    </tr>\n",
       "    <tr>\n",
       "      <th>3</th>\n",
       "      <td>new coin did great things burned five zero app...</td>\n",
       "      <td>[]</td>\n",
       "      <td>price</td>\n",
       "      <td>lamborghini</td>\n",
       "    </tr>\n",
       "    <tr>\n",
       "      <th>4</th>\n",
       "      <td>new coin did great things burned five zero app...</td>\n",
       "      <td>[]</td>\n",
       "      <td>price</td>\n",
       "      <td>lamborghini</td>\n",
       "    </tr>\n",
       "  </tbody>\n",
       "</table>\n",
       "</div>"
      ],
      "text/plain": [
       "                                                text hashtags brand_attribute  \\\n",
       "0  this is getting old where is the new roadster ...       []         quality   \n",
       "1  use samsung phone and toshiba laptop buy on am...       []           price   \n",
       "2  new coin did great things burned five zero app...       []           price   \n",
       "3  new coin did great things burned five zero app...       []           price   \n",
       "4  new coin did great things burned five zero app...       []           price   \n",
       "\n",
       "         brand  \n",
       "0  lamborghini  \n",
       "1  lamborghini  \n",
       "2  lamborghini  \n",
       "3  lamborghini  \n",
       "4  lamborghini  "
      ]
     },
     "execution_count": 284,
     "metadata": {},
     "output_type": "execute_result"
    }
   ],
   "source": [
    "lamborghini_tw.head()"
   ]
  },
  {
   "cell_type": "markdown",
   "id": "7cb6b0a6",
   "metadata": {},
   "source": [
    "#### Columna 'brand' para los datos de Hyundai."
   ]
  },
  {
   "cell_type": "code",
   "execution_count": 285,
   "id": "7b66900e",
   "metadata": {},
   "outputs": [
    {
     "data": {
      "text/html": [
       "<div>\n",
       "<style scoped>\n",
       "    .dataframe tbody tr th:only-of-type {\n",
       "        vertical-align: middle;\n",
       "    }\n",
       "\n",
       "    .dataframe tbody tr th {\n",
       "        vertical-align: top;\n",
       "    }\n",
       "\n",
       "    .dataframe thead th {\n",
       "        text-align: right;\n",
       "    }\n",
       "</style>\n",
       "<table border=\"1\" class=\"dataframe\">\n",
       "  <thead>\n",
       "    <tr style=\"text-align: right;\">\n",
       "      <th></th>\n",
       "      <th>text</th>\n",
       "      <th>hashtags</th>\n",
       "      <th>brand_attribute</th>\n",
       "    </tr>\n",
       "  </thead>\n",
       "  <tbody>\n",
       "    <tr>\n",
       "      <th>0</th>\n",
       "      <td>no we get the standard hyundai system i don t ...</td>\n",
       "      <td>[]</td>\n",
       "      <td>quality</td>\n",
       "    </tr>\n",
       "    <tr>\n",
       "      <th>1</th>\n",
       "      <td>hyundai and haval are competing mbela</td>\n",
       "      <td>[]</td>\n",
       "      <td>quality</td>\n",
       "    </tr>\n",
       "    <tr>\n",
       "      <th>2</th>\n",
       "      <td>transition to pure ev s is happening faster th...</td>\n",
       "      <td>[]</td>\n",
       "      <td>price</td>\n",
       "    </tr>\n",
       "    <tr>\n",
       "      <th>3</th>\n",
       "      <td>hyundai accent xcent disc assy clutch four one...</td>\n",
       "      <td>[]</td>\n",
       "      <td>price</td>\n",
       "    </tr>\n",
       "    <tr>\n",
       "      <th>4</th>\n",
       "      <td>hyundai i two zero lovers just pay as little a...</td>\n",
       "      <td>[]</td>\n",
       "      <td>price</td>\n",
       "    </tr>\n",
       "  </tbody>\n",
       "</table>\n",
       "</div>"
      ],
      "text/plain": [
       "                                                text hashtags brand_attribute\n",
       "0  no we get the standard hyundai system i don t ...       []         quality\n",
       "1              hyundai and haval are competing mbela       []         quality\n",
       "2  transition to pure ev s is happening faster th...       []           price\n",
       "3  hyundai accent xcent disc assy clutch four one...       []           price\n",
       "4  hyundai i two zero lovers just pay as little a...       []           price"
      ]
     },
     "execution_count": 285,
     "metadata": {},
     "output_type": "execute_result"
    }
   ],
   "source": [
    "hyundai_tw.head()"
   ]
  },
  {
   "cell_type": "code",
   "execution_count": 286,
   "id": "32fc6cdf",
   "metadata": {},
   "outputs": [],
   "source": [
    "hyundai_tw = hyundai_tw.assign(brand='hyundai')"
   ]
  },
  {
   "cell_type": "code",
   "execution_count": 287,
   "id": "0f48b122",
   "metadata": {
    "scrolled": true
   },
   "outputs": [
    {
     "data": {
      "text/html": [
       "<div>\n",
       "<style scoped>\n",
       "    .dataframe tbody tr th:only-of-type {\n",
       "        vertical-align: middle;\n",
       "    }\n",
       "\n",
       "    .dataframe tbody tr th {\n",
       "        vertical-align: top;\n",
       "    }\n",
       "\n",
       "    .dataframe thead th {\n",
       "        text-align: right;\n",
       "    }\n",
       "</style>\n",
       "<table border=\"1\" class=\"dataframe\">\n",
       "  <thead>\n",
       "    <tr style=\"text-align: right;\">\n",
       "      <th></th>\n",
       "      <th>text</th>\n",
       "      <th>hashtags</th>\n",
       "      <th>brand_attribute</th>\n",
       "      <th>brand</th>\n",
       "    </tr>\n",
       "  </thead>\n",
       "  <tbody>\n",
       "    <tr>\n",
       "      <th>0</th>\n",
       "      <td>no we get the standard hyundai system i don t ...</td>\n",
       "      <td>[]</td>\n",
       "      <td>quality</td>\n",
       "      <td>hyundai</td>\n",
       "    </tr>\n",
       "    <tr>\n",
       "      <th>1</th>\n",
       "      <td>hyundai and haval are competing mbela</td>\n",
       "      <td>[]</td>\n",
       "      <td>quality</td>\n",
       "      <td>hyundai</td>\n",
       "    </tr>\n",
       "    <tr>\n",
       "      <th>2</th>\n",
       "      <td>transition to pure ev s is happening faster th...</td>\n",
       "      <td>[]</td>\n",
       "      <td>price</td>\n",
       "      <td>hyundai</td>\n",
       "    </tr>\n",
       "    <tr>\n",
       "      <th>3</th>\n",
       "      <td>hyundai accent xcent disc assy clutch four one...</td>\n",
       "      <td>[]</td>\n",
       "      <td>price</td>\n",
       "      <td>hyundai</td>\n",
       "    </tr>\n",
       "    <tr>\n",
       "      <th>4</th>\n",
       "      <td>hyundai i two zero lovers just pay as little a...</td>\n",
       "      <td>[]</td>\n",
       "      <td>price</td>\n",
       "      <td>hyundai</td>\n",
       "    </tr>\n",
       "  </tbody>\n",
       "</table>\n",
       "</div>"
      ],
      "text/plain": [
       "                                                text hashtags brand_attribute  \\\n",
       "0  no we get the standard hyundai system i don t ...       []         quality   \n",
       "1              hyundai and haval are competing mbela       []         quality   \n",
       "2  transition to pure ev s is happening faster th...       []           price   \n",
       "3  hyundai accent xcent disc assy clutch four one...       []           price   \n",
       "4  hyundai i two zero lovers just pay as little a...       []           price   \n",
       "\n",
       "     brand  \n",
       "0  hyundai  \n",
       "1  hyundai  \n",
       "2  hyundai  \n",
       "3  hyundai  \n",
       "4  hyundai  "
      ]
     },
     "execution_count": 287,
     "metadata": {},
     "output_type": "execute_result"
    }
   ],
   "source": [
    "hyundai_tw.head()"
   ]
  },
  {
   "cell_type": "markdown",
   "id": "d0bcd70f",
   "metadata": {},
   "source": [
    "#### Columna 'brand' para los datos de Peugeot."
   ]
  },
  {
   "cell_type": "code",
   "execution_count": 288,
   "id": "50d848aa",
   "metadata": {},
   "outputs": [
    {
     "data": {
      "text/html": [
       "<div>\n",
       "<style scoped>\n",
       "    .dataframe tbody tr th:only-of-type {\n",
       "        vertical-align: middle;\n",
       "    }\n",
       "\n",
       "    .dataframe tbody tr th {\n",
       "        vertical-align: top;\n",
       "    }\n",
       "\n",
       "    .dataframe thead th {\n",
       "        text-align: right;\n",
       "    }\n",
       "</style>\n",
       "<table border=\"1\" class=\"dataframe\">\n",
       "  <thead>\n",
       "    <tr style=\"text-align: right;\">\n",
       "      <th></th>\n",
       "      <th>text</th>\n",
       "      <th>hashtags</th>\n",
       "      <th>brand_attribute</th>\n",
       "    </tr>\n",
       "  </thead>\n",
       "  <tbody>\n",
       "    <tr>\n",
       "      <th>0</th>\n",
       "      <td>i experienced this last year when i was quoted...</td>\n",
       "      <td>[]</td>\n",
       "      <td>price</td>\n",
       "    </tr>\n",
       "    <tr>\n",
       "      <th>1</th>\n",
       "      <td>i am trying to request a charger via your webs...</td>\n",
       "      <td>[]</td>\n",
       "      <td>price</td>\n",
       "    </tr>\n",
       "    <tr>\n",
       "      <th>2</th>\n",
       "      <td>just peugeot s wec hypercar programme which ha...</td>\n",
       "      <td>[]</td>\n",
       "      <td>quality</td>\n",
       "    </tr>\n",
       "    <tr>\n",
       "      <th>3</th>\n",
       "      <td>i have a hard time seeing him take the haas se...</td>\n",
       "      <td>[]</td>\n",
       "      <td>price</td>\n",
       "    </tr>\n",
       "    <tr>\n",
       "      <th>4</th>\n",
       "      <td>peugeot three zero eight raih predikat women s...</td>\n",
       "      <td>[]</td>\n",
       "      <td>quality</td>\n",
       "    </tr>\n",
       "  </tbody>\n",
       "</table>\n",
       "</div>"
      ],
      "text/plain": [
       "                                                text hashtags brand_attribute\n",
       "0  i experienced this last year when i was quoted...       []           price\n",
       "1  i am trying to request a charger via your webs...       []           price\n",
       "2  just peugeot s wec hypercar programme which ha...       []         quality\n",
       "3  i have a hard time seeing him take the haas se...       []           price\n",
       "4  peugeot three zero eight raih predikat women s...       []         quality"
      ]
     },
     "execution_count": 288,
     "metadata": {},
     "output_type": "execute_result"
    }
   ],
   "source": [
    "peugeot_tw.head()"
   ]
  },
  {
   "cell_type": "code",
   "execution_count": 289,
   "id": "13136d1e",
   "metadata": {},
   "outputs": [],
   "source": [
    "peugeot_tw = peugeot_tw.assign(brand='peugeot')"
   ]
  },
  {
   "cell_type": "code",
   "execution_count": 290,
   "id": "01bac659",
   "metadata": {
    "scrolled": true
   },
   "outputs": [
    {
     "data": {
      "text/html": [
       "<div>\n",
       "<style scoped>\n",
       "    .dataframe tbody tr th:only-of-type {\n",
       "        vertical-align: middle;\n",
       "    }\n",
       "\n",
       "    .dataframe tbody tr th {\n",
       "        vertical-align: top;\n",
       "    }\n",
       "\n",
       "    .dataframe thead th {\n",
       "        text-align: right;\n",
       "    }\n",
       "</style>\n",
       "<table border=\"1\" class=\"dataframe\">\n",
       "  <thead>\n",
       "    <tr style=\"text-align: right;\">\n",
       "      <th></th>\n",
       "      <th>text</th>\n",
       "      <th>hashtags</th>\n",
       "      <th>brand_attribute</th>\n",
       "      <th>brand</th>\n",
       "    </tr>\n",
       "  </thead>\n",
       "  <tbody>\n",
       "    <tr>\n",
       "      <th>0</th>\n",
       "      <td>i experienced this last year when i was quoted...</td>\n",
       "      <td>[]</td>\n",
       "      <td>price</td>\n",
       "      <td>peugeot</td>\n",
       "    </tr>\n",
       "    <tr>\n",
       "      <th>1</th>\n",
       "      <td>i am trying to request a charger via your webs...</td>\n",
       "      <td>[]</td>\n",
       "      <td>price</td>\n",
       "      <td>peugeot</td>\n",
       "    </tr>\n",
       "    <tr>\n",
       "      <th>2</th>\n",
       "      <td>just peugeot s wec hypercar programme which ha...</td>\n",
       "      <td>[]</td>\n",
       "      <td>quality</td>\n",
       "      <td>peugeot</td>\n",
       "    </tr>\n",
       "    <tr>\n",
       "      <th>3</th>\n",
       "      <td>i have a hard time seeing him take the haas se...</td>\n",
       "      <td>[]</td>\n",
       "      <td>price</td>\n",
       "      <td>peugeot</td>\n",
       "    </tr>\n",
       "    <tr>\n",
       "      <th>4</th>\n",
       "      <td>peugeot three zero eight raih predikat women s...</td>\n",
       "      <td>[]</td>\n",
       "      <td>quality</td>\n",
       "      <td>peugeot</td>\n",
       "    </tr>\n",
       "  </tbody>\n",
       "</table>\n",
       "</div>"
      ],
      "text/plain": [
       "                                                text hashtags brand_attribute  \\\n",
       "0  i experienced this last year when i was quoted...       []           price   \n",
       "1  i am trying to request a charger via your webs...       []           price   \n",
       "2  just peugeot s wec hypercar programme which ha...       []         quality   \n",
       "3  i have a hard time seeing him take the haas se...       []           price   \n",
       "4  peugeot three zero eight raih predikat women s...       []         quality   \n",
       "\n",
       "     brand  \n",
       "0  peugeot  \n",
       "1  peugeot  \n",
       "2  peugeot  \n",
       "3  peugeot  \n",
       "4  peugeot  "
      ]
     },
     "execution_count": 290,
     "metadata": {},
     "output_type": "execute_result"
    }
   ],
   "source": [
    "peugeot_tw.head()"
   ]
  },
  {
   "cell_type": "markdown",
   "id": "ad7c09af",
   "metadata": {},
   "source": [
    "#### Columna 'brand' para los datos de Ford."
   ]
  },
  {
   "cell_type": "code",
   "execution_count": 291,
   "id": "33727a14",
   "metadata": {},
   "outputs": [
    {
     "data": {
      "text/html": [
       "<div>\n",
       "<style scoped>\n",
       "    .dataframe tbody tr th:only-of-type {\n",
       "        vertical-align: middle;\n",
       "    }\n",
       "\n",
       "    .dataframe tbody tr th {\n",
       "        vertical-align: top;\n",
       "    }\n",
       "\n",
       "    .dataframe thead th {\n",
       "        text-align: right;\n",
       "    }\n",
       "</style>\n",
       "<table border=\"1\" class=\"dataframe\">\n",
       "  <thead>\n",
       "    <tr style=\"text-align: right;\">\n",
       "      <th></th>\n",
       "      <th>text</th>\n",
       "      <th>hashtags</th>\n",
       "      <th>brand_attribute</th>\n",
       "    </tr>\n",
       "  </thead>\n",
       "  <tbody>\n",
       "    <tr>\n",
       "      <th>0</th>\n",
       "      <td>we re incredibly excited to be boosting the lo...</td>\n",
       "      <td>[]</td>\n",
       "      <td>quality</td>\n",
       "    </tr>\n",
       "    <tr>\n",
       "      <th>1</th>\n",
       "      <td>three twonn six sixd engine cooling fan module...</td>\n",
       "      <td>[]</td>\n",
       "      <td>quality</td>\n",
       "    </tr>\n",
       "    <tr>\n",
       "      <th>2</th>\n",
       "      <td>six eightxq three sixc inlet and outlet assemb...</td>\n",
       "      <td>[]</td>\n",
       "      <td>quality</td>\n",
       "    </tr>\n",
       "    <tr>\n",
       "      <th>3</th>\n",
       "      <td>coverking csc twos one fd seven two five eight...</td>\n",
       "      <td>[]</td>\n",
       "      <td>quality</td>\n",
       "    </tr>\n",
       "    <tr>\n",
       "      <th>4</th>\n",
       "      <td>motorcraft seven sixyc eight eightm idle air c...</td>\n",
       "      <td>[]</td>\n",
       "      <td>quality</td>\n",
       "    </tr>\n",
       "  </tbody>\n",
       "</table>\n",
       "</div>"
      ],
      "text/plain": [
       "                                                text hashtags brand_attribute\n",
       "0  we re incredibly excited to be boosting the lo...       []         quality\n",
       "1  three twonn six sixd engine cooling fan module...       []         quality\n",
       "2  six eightxq three sixc inlet and outlet assemb...       []         quality\n",
       "3  coverking csc twos one fd seven two five eight...       []         quality\n",
       "4  motorcraft seven sixyc eight eightm idle air c...       []         quality"
      ]
     },
     "execution_count": 291,
     "metadata": {},
     "output_type": "execute_result"
    }
   ],
   "source": [
    "ford_tw.head()"
   ]
  },
  {
   "cell_type": "code",
   "execution_count": 292,
   "id": "039b2f0b",
   "metadata": {},
   "outputs": [],
   "source": [
    "ford_tw = ford_tw.assign(brand='ford')"
   ]
  },
  {
   "cell_type": "code",
   "execution_count": 293,
   "id": "ac7871ed",
   "metadata": {
    "scrolled": false
   },
   "outputs": [
    {
     "data": {
      "text/html": [
       "<div>\n",
       "<style scoped>\n",
       "    .dataframe tbody tr th:only-of-type {\n",
       "        vertical-align: middle;\n",
       "    }\n",
       "\n",
       "    .dataframe tbody tr th {\n",
       "        vertical-align: top;\n",
       "    }\n",
       "\n",
       "    .dataframe thead th {\n",
       "        text-align: right;\n",
       "    }\n",
       "</style>\n",
       "<table border=\"1\" class=\"dataframe\">\n",
       "  <thead>\n",
       "    <tr style=\"text-align: right;\">\n",
       "      <th></th>\n",
       "      <th>text</th>\n",
       "      <th>hashtags</th>\n",
       "      <th>brand_attribute</th>\n",
       "      <th>brand</th>\n",
       "    </tr>\n",
       "  </thead>\n",
       "  <tbody>\n",
       "    <tr>\n",
       "      <th>0</th>\n",
       "      <td>we re incredibly excited to be boosting the lo...</td>\n",
       "      <td>[]</td>\n",
       "      <td>quality</td>\n",
       "      <td>ford</td>\n",
       "    </tr>\n",
       "    <tr>\n",
       "      <th>1</th>\n",
       "      <td>three twonn six sixd engine cooling fan module...</td>\n",
       "      <td>[]</td>\n",
       "      <td>quality</td>\n",
       "      <td>ford</td>\n",
       "    </tr>\n",
       "    <tr>\n",
       "      <th>2</th>\n",
       "      <td>six eightxq three sixc inlet and outlet assemb...</td>\n",
       "      <td>[]</td>\n",
       "      <td>quality</td>\n",
       "      <td>ford</td>\n",
       "    </tr>\n",
       "    <tr>\n",
       "      <th>3</th>\n",
       "      <td>coverking csc twos one fd seven two five eight...</td>\n",
       "      <td>[]</td>\n",
       "      <td>quality</td>\n",
       "      <td>ford</td>\n",
       "    </tr>\n",
       "    <tr>\n",
       "      <th>4</th>\n",
       "      <td>motorcraft seven sixyc eight eightm idle air c...</td>\n",
       "      <td>[]</td>\n",
       "      <td>quality</td>\n",
       "      <td>ford</td>\n",
       "    </tr>\n",
       "  </tbody>\n",
       "</table>\n",
       "</div>"
      ],
      "text/plain": [
       "                                                text hashtags brand_attribute  \\\n",
       "0  we re incredibly excited to be boosting the lo...       []         quality   \n",
       "1  three twonn six sixd engine cooling fan module...       []         quality   \n",
       "2  six eightxq three sixc inlet and outlet assemb...       []         quality   \n",
       "3  coverking csc twos one fd seven two five eight...       []         quality   \n",
       "4  motorcraft seven sixyc eight eightm idle air c...       []         quality   \n",
       "\n",
       "  brand  \n",
       "0  ford  \n",
       "1  ford  \n",
       "2  ford  \n",
       "3  ford  \n",
       "4  ford  "
      ]
     },
     "execution_count": 293,
     "metadata": {},
     "output_type": "execute_result"
    }
   ],
   "source": [
    "ford_tw.head()"
   ]
  },
  {
   "cell_type": "markdown",
   "id": "d700b135",
   "metadata": {},
   "source": [
    "### Generamos dataset completo."
   ]
  },
  {
   "cell_type": "code",
   "execution_count": 294,
   "id": "28a93a29",
   "metadata": {},
   "outputs": [],
   "source": [
    "brands_tw = pd.concat([bmw_tw, audi_tw, volkswagen_tw, renault_tw, fiat_tw, ferrari_tw,\n",
    "                       lamborghini_tw, hyundai_tw, peugeot_tw, ford_tw])"
   ]
  },
  {
   "cell_type": "code",
   "execution_count": 295,
   "id": "cd67ce3a",
   "metadata": {},
   "outputs": [
    {
     "data": {
      "text/plain": [
       "ford           5084\n",
       "hyundai        5073\n",
       "bmw            5066\n",
       "audi           5062\n",
       "volkswagen     5026\n",
       "fiat           4976\n",
       "lamborghini    4967\n",
       "renault        3805\n",
       "peugeot        1563\n",
       "ferrari         597\n",
       "Name: brand, dtype: int64"
      ]
     },
     "execution_count": 295,
     "metadata": {},
     "output_type": "execute_result"
    }
   ],
   "source": [
    "brands_tw.brand.value_counts()"
   ]
  },
  {
   "cell_type": "markdown",
   "id": "6066cbca",
   "metadata": {},
   "source": [
    "### Exportamos el dataset completo."
   ]
  },
  {
   "cell_type": "code",
   "execution_count": 296,
   "id": "d34d9929",
   "metadata": {},
   "outputs": [],
   "source": [
    "brands_tw.to_csv('data/car_brands.csv', index = False)"
   ]
  },
  {
   "cell_type": "code",
   "execution_count": 297,
   "id": "78d6f07c",
   "metadata": {},
   "outputs": [],
   "source": [
    "# Exportamos con pickle para mantener todas las propiedades del DataFrame.\n",
    "\n",
    "brands_tw.to_pickle('data/car_brands.pkl')"
   ]
  }
 ],
 "metadata": {
  "kernelspec": {
   "display_name": "ironhack",
   "language": "python",
   "name": "myenv"
  },
  "language_info": {
   "codemirror_mode": {
    "name": "ipython",
    "version": 3
   },
   "file_extension": ".py",
   "mimetype": "text/x-python",
   "name": "python",
   "nbconvert_exporter": "python",
   "pygments_lexer": "ipython3",
   "version": "3.8.5"
  }
 },
 "nbformat": 4,
 "nbformat_minor": 5
}
