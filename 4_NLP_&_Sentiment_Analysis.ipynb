{
 "cells": [
  {
   "cell_type": "markdown",
   "id": "5466bfe0",
   "metadata": {},
   "source": [
    "# NLP & Sentiment Analysis."
   ]
  },
  {
   "cell_type": "markdown",
   "id": "e887cb09",
   "metadata": {},
   "source": [
    "En esta etapa del proyecto manejaremos diferentes modelos pre-entrenados (librerías) y trataremos de evaluar cuál es el que nos ofrece mejores resultados.\n",
    "\n",
    "Evidentemente, sería conveniente desarrollar un modelo propio ad-hoc según las necesidades particulares del proyecto, lo cual probablemente nos permita alcanzar resultados más precisos. Sin embargo, no debemos olvidar que por el momento pretendemos construir las bases del proyecto y obtener un mínimo producto viable que demuestre su potencial. Disponemos de muy poco tiempo como para desarrollar y entrenar nuestro propio modelo y es por eso que se opta por la utilización de modelos pre-entrenados de NLP a la hora de analizar el sentimiento de los tweets y, por tanto, la percepción del usuario respecto de las marcas.\n",
    "\n",
    "Los análisis de sentimiento se ejecutarán a través de funciones previamente definidas en *' src / nlp_functions.py '*."
   ]
  },
  {
   "cell_type": "code",
   "execution_count": 1,
   "id": "207a005e",
   "metadata": {},
   "outputs": [],
   "source": [
    "from src.nlp_functions import *\n",
    "\n",
    "import pandas as pd"
   ]
  },
  {
   "cell_type": "code",
   "execution_count": 2,
   "id": "50cf5cc5",
   "metadata": {},
   "outputs": [],
   "source": [
    "brands_tweets = pd.read_pickle('data/sports_equipment_brands_tokens.pkl')"
   ]
  },
  {
   "cell_type": "code",
   "execution_count": 3,
   "id": "3aa6c75f",
   "metadata": {},
   "outputs": [
    {
     "data": {
      "text/html": [
       "<div>\n",
       "<style scoped>\n",
       "    .dataframe tbody tr th:only-of-type {\n",
       "        vertical-align: middle;\n",
       "    }\n",
       "\n",
       "    .dataframe tbody tr th {\n",
       "        vertical-align: top;\n",
       "    }\n",
       "\n",
       "    .dataframe thead th {\n",
       "        text-align: right;\n",
       "    }\n",
       "</style>\n",
       "<table border=\"1\" class=\"dataframe\">\n",
       "  <thead>\n",
       "    <tr style=\"text-align: right;\">\n",
       "      <th></th>\n",
       "      <th>text</th>\n",
       "      <th>hashtags</th>\n",
       "      <th>brand_attribute</th>\n",
       "      <th>brand</th>\n",
       "      <th>token</th>\n",
       "    </tr>\n",
       "  </thead>\n",
       "  <tbody>\n",
       "    <tr>\n",
       "      <th>0</th>\n",
       "      <td>nobody cares about nike in russia russia is al...</td>\n",
       "      <td>[]</td>\n",
       "      <td>quality</td>\n",
       "      <td>nike</td>\n",
       "      <td>[care, nike, russia, russia, adidas]</td>\n",
       "    </tr>\n",
       "    <tr>\n",
       "      <th>1</th>\n",
       "      <td>ye green nike hoodie waala two weeks pehle put...</td>\n",
       "      <td>[]</td>\n",
       "      <td>quality</td>\n",
       "      <td>nike</td>\n",
       "      <td>[ye, green, nike, hoodie, waala, week, pehle, ...</td>\n",
       "    </tr>\n",
       "    <tr>\n",
       "      <th>2</th>\n",
       "      <td>nike okundaye also knowns nike twins seven sev...</td>\n",
       "      <td>[#womengiant, #Documentwomen]</td>\n",
       "      <td>quality</td>\n",
       "      <td>nike</td>\n",
       "      <td>[nike, okundaye, knowns, nike, twin, seven, se...</td>\n",
       "    </tr>\n",
       "    <tr>\n",
       "      <th>3</th>\n",
       "      <td>day four of maxmadness air max month nike air ...</td>\n",
       "      <td>[#maxmadness, #AirMaxMonth, #airmaxgang, #kotd...</td>\n",
       "      <td>quality</td>\n",
       "      <td>nike</td>\n",
       "      <td>[day, maxmadness, air, max, month, nike, air, ...</td>\n",
       "    </tr>\n",
       "    <tr>\n",
       "      <th>4</th>\n",
       "      <td>thank you sir</td>\n",
       "      <td>[]</td>\n",
       "      <td>quality</td>\n",
       "      <td>nike</td>\n",
       "      <td>[thank, sir]</td>\n",
       "    </tr>\n",
       "  </tbody>\n",
       "</table>\n",
       "</div>"
      ],
      "text/plain": [
       "                                                text  \\\n",
       "0  nobody cares about nike in russia russia is al...   \n",
       "1  ye green nike hoodie waala two weeks pehle put...   \n",
       "2  nike okundaye also knowns nike twins seven sev...   \n",
       "3  day four of maxmadness air max month nike air ...   \n",
       "4                                      thank you sir   \n",
       "\n",
       "                                            hashtags brand_attribute brand  \\\n",
       "0                                                 []         quality  nike   \n",
       "1                                                 []         quality  nike   \n",
       "2                      [#womengiant, #Documentwomen]         quality  nike   \n",
       "3  [#maxmadness, #AirMaxMonth, #airmaxgang, #kotd...         quality  nike   \n",
       "4                                                 []         quality  nike   \n",
       "\n",
       "                                               token  \n",
       "0               [care, nike, russia, russia, adidas]  \n",
       "1  [ye, green, nike, hoodie, waala, week, pehle, ...  \n",
       "2  [nike, okundaye, knowns, nike, twin, seven, se...  \n",
       "3  [day, maxmadness, air, max, month, nike, air, ...  \n",
       "4                                       [thank, sir]  "
      ]
     },
     "execution_count": 3,
     "metadata": {},
     "output_type": "execute_result"
    }
   ],
   "source": [
    "brands_tweets.head()"
   ]
  },
  {
   "cell_type": "markdown",
   "id": "63ad5231",
   "metadata": {},
   "source": [
    "### TextBlob (spaCy)"
   ]
  },
  {
   "cell_type": "code",
   "execution_count": 4,
   "id": "c917b747",
   "metadata": {},
   "outputs": [
    {
     "data": {
      "text/plain": [
       "'INTRO!!!'"
      ]
     },
     "execution_count": 4,
     "metadata": {},
     "output_type": "execute_result"
    }
   ],
   "source": [
    "'''INTRO!!!'''\n",
    "\n",
    "# Esplicación breve.\n",
    "\n",
    "# Catarse bien de cómo funciona.\n",
    "# Ojo instalaciones (lo he metido en todos laos).\n"
   ]
  },
  {
   "cell_type": "code",
   "execution_count": 5,
   "id": "26f3e960",
   "metadata": {},
   "outputs": [],
   "source": [
    "brands_tweets['blob_scores'] = brands_tweets.token.apply(blob_scoring)"
   ]
  },
  {
   "cell_type": "code",
   "execution_count": 6,
   "id": "57b1365c",
   "metadata": {},
   "outputs": [
    {
     "data": {
      "text/html": [
       "<div>\n",
       "<style scoped>\n",
       "    .dataframe tbody tr th:only-of-type {\n",
       "        vertical-align: middle;\n",
       "    }\n",
       "\n",
       "    .dataframe tbody tr th {\n",
       "        vertical-align: top;\n",
       "    }\n",
       "\n",
       "    .dataframe thead th {\n",
       "        text-align: right;\n",
       "    }\n",
       "</style>\n",
       "<table border=\"1\" class=\"dataframe\">\n",
       "  <thead>\n",
       "    <tr style=\"text-align: right;\">\n",
       "      <th></th>\n",
       "      <th>text</th>\n",
       "      <th>hashtags</th>\n",
       "      <th>brand_attribute</th>\n",
       "      <th>brand</th>\n",
       "      <th>token</th>\n",
       "      <th>blob_scores</th>\n",
       "    </tr>\n",
       "  </thead>\n",
       "  <tbody>\n",
       "    <tr>\n",
       "      <th>29320</th>\n",
       "      <td>one of my favorite pics i took this az high sc...</td>\n",
       "      <td>[]</td>\n",
       "      <td>quality</td>\n",
       "      <td>nike</td>\n",
       "      <td>[favorite, pic, took, az, high, school, girl, ...</td>\n",
       "      <td>0.273333</td>\n",
       "    </tr>\n",
       "    <tr>\n",
       "      <th>2289</th>\n",
       "      <td>checks over stripes custom made nike rug made ...</td>\n",
       "      <td>[]</td>\n",
       "      <td>quality</td>\n",
       "      <td>adidas</td>\n",
       "      <td>[check, stripe, custom, nike, rug, raffle, win...</td>\n",
       "      <td>0.000000</td>\n",
       "    </tr>\n",
       "    <tr>\n",
       "      <th>9904</th>\n",
       "      <td>size uk one two nike air force one x space jam...</td>\n",
       "      <td>[]</td>\n",
       "      <td>quality</td>\n",
       "      <td>nike</td>\n",
       "      <td>[size, uk, nike, air, force, x, space, jam, co...</td>\n",
       "      <td>0.136364</td>\n",
       "    </tr>\n",
       "    <tr>\n",
       "      <th>5322</th>\n",
       "      <td>nike blazer mid cop or drop gt gt gt ad sneake...</td>\n",
       "      <td>[#Nike, #AD, #sneakers, #sneakerhead, #streets...</td>\n",
       "      <td>quality</td>\n",
       "      <td>nike</td>\n",
       "      <td>[nike, blazer, mid, cop, drop, gt, gt, gt, ad,...</td>\n",
       "      <td>0.000000</td>\n",
       "    </tr>\n",
       "    <tr>\n",
       "      <th>382</th>\n",
       "      <td>yessirr</td>\n",
       "      <td>[]</td>\n",
       "      <td>quality</td>\n",
       "      <td>puma</td>\n",
       "      <td>[yessirr]</td>\n",
       "      <td>0.000000</td>\n",
       "    </tr>\n",
       "    <tr>\n",
       "      <th>21487</th>\n",
       "      <td>yeah destroying your own property that ll work...</td>\n",
       "      <td>[]</td>\n",
       "      <td>quality</td>\n",
       "      <td>nike</td>\n",
       "      <td>[yeah, destroying, property, work, burn, nike,...</td>\n",
       "      <td>-0.200000</td>\n",
       "    </tr>\n",
       "    <tr>\n",
       "      <th>27551</th>\n",
       "      <td>restock nike dunk low gold white silver univer...</td>\n",
       "      <td>[]</td>\n",
       "      <td>price</td>\n",
       "      <td>nike</td>\n",
       "      <td>[restock, nike, dunk, low, gold, white, silver...</td>\n",
       "      <td>0.000000</td>\n",
       "    </tr>\n",
       "    <tr>\n",
       "      <th>6561</th>\n",
       "      <td>we will be fine on a neutral court any venue i...</td>\n",
       "      <td>[]</td>\n",
       "      <td>price</td>\n",
       "      <td>nike</td>\n",
       "      <td>[fine, neutral, court, venue, sec, tough, play...</td>\n",
       "      <td>0.015873</td>\n",
       "    </tr>\n",
       "    <tr>\n",
       "      <th>14026</th>\n",
       "      <td>check out the nike dunk high black white two z...</td>\n",
       "      <td>[]</td>\n",
       "      <td>quality</td>\n",
       "      <td>adidas</td>\n",
       "      <td>[check, nike, dunk, high, black, white, zero, ...</td>\n",
       "      <td>0.098333</td>\n",
       "    </tr>\n",
       "    <tr>\n",
       "      <th>23503</th>\n",
       "      <td>nike acg gore tex misery ridge shell jacket e ...</td>\n",
       "      <td>[#eBay🇺🇸, #Men, #Activewear, #Jackets]</td>\n",
       "      <td>quality</td>\n",
       "      <td>nike</td>\n",
       "      <td>[nike, acg, gore, tex, misery, ridge, shell, j...</td>\n",
       "      <td>0.000000</td>\n",
       "    </tr>\n",
       "  </tbody>\n",
       "</table>\n",
       "</div>"
      ],
      "text/plain": [
       "                                                    text  \\\n",
       "29320  one of my favorite pics i took this az high sc...   \n",
       "2289   checks over stripes custom made nike rug made ...   \n",
       "9904   size uk one two nike air force one x space jam...   \n",
       "5322   nike blazer mid cop or drop gt gt gt ad sneake...   \n",
       "382                                              yessirr   \n",
       "21487  yeah destroying your own property that ll work...   \n",
       "27551  restock nike dunk low gold white silver univer...   \n",
       "6561   we will be fine on a neutral court any venue i...   \n",
       "14026  check out the nike dunk high black white two z...   \n",
       "23503  nike acg gore tex misery ridge shell jacket e ...   \n",
       "\n",
       "                                                hashtags brand_attribute  \\\n",
       "29320                                                 []         quality   \n",
       "2289                                                  []         quality   \n",
       "9904                                                  []         quality   \n",
       "5322   [#Nike, #AD, #sneakers, #sneakerhead, #streets...         quality   \n",
       "382                                                   []         quality   \n",
       "21487                                                 []         quality   \n",
       "27551                                                 []           price   \n",
       "6561                                                  []           price   \n",
       "14026                                                 []         quality   \n",
       "23503             [#eBay🇺🇸, #Men, #Activewear, #Jackets]         quality   \n",
       "\n",
       "        brand                                              token  blob_scores  \n",
       "29320    nike  [favorite, pic, took, az, high, school, girl, ...     0.273333  \n",
       "2289   adidas  [check, stripe, custom, nike, rug, raffle, win...     0.000000  \n",
       "9904     nike  [size, uk, nike, air, force, x, space, jam, co...     0.136364  \n",
       "5322     nike  [nike, blazer, mid, cop, drop, gt, gt, gt, ad,...     0.000000  \n",
       "382      puma                                          [yessirr]     0.000000  \n",
       "21487    nike  [yeah, destroying, property, work, burn, nike,...    -0.200000  \n",
       "27551    nike  [restock, nike, dunk, low, gold, white, silver...     0.000000  \n",
       "6561     nike  [fine, neutral, court, venue, sec, tough, play...     0.015873  \n",
       "14026  adidas  [check, nike, dunk, high, black, white, zero, ...     0.098333  \n",
       "23503    nike  [nike, acg, gore, tex, misery, ridge, shell, j...     0.000000  "
      ]
     },
     "execution_count": 6,
     "metadata": {},
     "output_type": "execute_result"
    }
   ],
   "source": [
    "brands_tweets.sample(10)"
   ]
  },
  {
   "cell_type": "markdown",
   "id": "590041d7",
   "metadata": {},
   "source": [
    "### VADER."
   ]
  },
  {
   "cell_type": "markdown",
   "id": "b84b279c",
   "metadata": {},
   "source": [
    "VADER (Valence Aware Dictionary and sEntiment Reasoner) es una librería utilizada para el análisis del sentimiento que se enfoca en los textos de social media. Así, pone énfases en las rules que captan la esencia del texto que normalmente se ve en las redes sociales. Algo interesante de VADER es que está pensado para poder actuar sobre texto sobre el que se ha hecho un limpieza muy básica (conservando emojis, signos de exclamación, etc.). Nosotros lo probaremos sobre los datos ya limpios ya que confiamos en que ofrecerán un mejor resultado (aunque no se presenta el proceso, se ha probado con los datos originales en bruto, pero no consique analizar los sentimientos correctamente y la gran mayoría de scores para negatividad, neutralidad y positivadad son 0). No obstante, lo ideal sería evaluar la precisión del análisis sobre tweets con diferentes niveles de limpieza (desde el más básico, al más detallista) y comparar los modelos para identificar el que ofrece un mayor rendimiento (incluyendo también los análisis desarrollados mediante otros modelos diferentes a VADER)."
   ]
  },
  {
   "cell_type": "markdown",
   "id": "d0fa010b",
   "metadata": {},
   "source": [
    "https://towardsdatascience.com/fine-grained-sentiment-analysis-in-python-part-1-2697bb111ed4"
   ]
  },
  {
   "cell_type": "code",
   "execution_count": 7,
   "id": "be809871",
   "metadata": {},
   "outputs": [],
   "source": [
    "brands_tweets['vader_scores'] = brands_tweets.token.apply(vader_scoring)"
   ]
  },
  {
   "cell_type": "code",
   "execution_count": 8,
   "id": "91877a98",
   "metadata": {
    "scrolled": false
   },
   "outputs": [
    {
     "data": {
      "text/html": [
       "<div>\n",
       "<style scoped>\n",
       "    .dataframe tbody tr th:only-of-type {\n",
       "        vertical-align: middle;\n",
       "    }\n",
       "\n",
       "    .dataframe tbody tr th {\n",
       "        vertical-align: top;\n",
       "    }\n",
       "\n",
       "    .dataframe thead th {\n",
       "        text-align: right;\n",
       "    }\n",
       "</style>\n",
       "<table border=\"1\" class=\"dataframe\">\n",
       "  <thead>\n",
       "    <tr style=\"text-align: right;\">\n",
       "      <th></th>\n",
       "      <th>text</th>\n",
       "      <th>hashtags</th>\n",
       "      <th>brand_attribute</th>\n",
       "      <th>brand</th>\n",
       "      <th>token</th>\n",
       "      <th>blob_scores</th>\n",
       "      <th>vader_scores</th>\n",
       "    </tr>\n",
       "  </thead>\n",
       "  <tbody>\n",
       "    <tr>\n",
       "      <th>2104</th>\n",
       "      <td>glad to see og pairs being pulled out and not ...</td>\n",
       "      <td>[]</td>\n",
       "      <td>quality</td>\n",
       "      <td>adidas</td>\n",
       "      <td>[glad, og, pair, pulled, new, thing]</td>\n",
       "      <td>0.318182</td>\n",
       "      <td>{'neg': 0.0, 'neu': 0.625, 'pos': 0.375, 'comp...</td>\n",
       "    </tr>\n",
       "    <tr>\n",
       "      <th>23723</th>\n",
       "      <td>my son wants nike air force i ve been around a...</td>\n",
       "      <td>[]</td>\n",
       "      <td>quality</td>\n",
       "      <td>adidas</td>\n",
       "      <td>[son, want, nike, air, force, mall, ke, e, bat...</td>\n",
       "      <td>0.000000</td>\n",
       "      <td>{'neg': 0.0, 'neu': 0.874, 'pos': 0.126, 'comp...</td>\n",
       "    </tr>\n",
       "    <tr>\n",
       "      <th>18803</th>\n",
       "      <td>hate that happened to you</td>\n",
       "      <td>[]</td>\n",
       "      <td>quality</td>\n",
       "      <td>nike</td>\n",
       "      <td>[hate, happened]</td>\n",
       "      <td>-0.800000</td>\n",
       "      <td>{'neg': 0.787, 'neu': 0.213, 'pos': 0.0, 'comp...</td>\n",
       "    </tr>\n",
       "    <tr>\n",
       "      <th>19206</th>\n",
       "      <td>he doing it just like nike</td>\n",
       "      <td>[]</td>\n",
       "      <td>quality</td>\n",
       "      <td>adidas</td>\n",
       "      <td>[like, nike]</td>\n",
       "      <td>0.000000</td>\n",
       "      <td>{'neg': 0.0, 'neu': 0.286, 'pos': 0.714, 'comp...</td>\n",
       "    </tr>\n",
       "    <tr>\n",
       "      <th>124</th>\n",
       "      <td>not sure i follow tweet says last pic before u...</td>\n",
       "      <td>[]</td>\n",
       "      <td>quality</td>\n",
       "      <td>umbro</td>\n",
       "      <td>[sure, follow, tweet, say, pic, umbro, badge, ...</td>\n",
       "      <td>0.500000</td>\n",
       "      <td>{'neg': 0.0, 'neu': 0.753, 'pos': 0.247, 'comp...</td>\n",
       "    </tr>\n",
       "    <tr>\n",
       "      <th>19429</th>\n",
       "      <td>six love mr amp mrs zepeda fyi zepeda cia s im...</td>\n",
       "      <td>[]</td>\n",
       "      <td>price</td>\n",
       "      <td>nike</td>\n",
       "      <td>[love, mr, amp, mr, zepeda, fyi, zepeda, cia, ...</td>\n",
       "      <td>0.225000</td>\n",
       "      <td>{'neg': 0.072, 'neu': 0.749, 'pos': 0.18, 'com...</td>\n",
       "    </tr>\n",
       "    <tr>\n",
       "      <th>8452</th>\n",
       "      <td>its baby shark girls amp boy watch baby shark ...</td>\n",
       "      <td>[]</td>\n",
       "      <td>quality</td>\n",
       "      <td>adidas</td>\n",
       "      <td>[baby, shark, girl, amp, boy, watch, baby, sha...</td>\n",
       "      <td>0.100000</td>\n",
       "      <td>{'neg': 0.0, 'neu': 0.849, 'pos': 0.151, 'comp...</td>\n",
       "    </tr>\n",
       "    <tr>\n",
       "      <th>3850</th>\n",
       "      <td>why are any companies doing business in russia...</td>\n",
       "      <td>[]</td>\n",
       "      <td>price</td>\n",
       "      <td>adidas</td>\n",
       "      <td>[company, business, russia, time, starve, russ...</td>\n",
       "      <td>0.000000</td>\n",
       "      <td>{'neg': 0.259, 'neu': 0.536, 'pos': 0.205, 'co...</td>\n",
       "    </tr>\n",
       "    <tr>\n",
       "      <th>17454</th>\n",
       "      <td>feeling some serious keurig nike etc vibes rig...</td>\n",
       "      <td>[]</td>\n",
       "      <td>price</td>\n",
       "      <td>nike</td>\n",
       "      <td>[feeling, keurig, nike, etc, vibe, right]</td>\n",
       "      <td>0.285714</td>\n",
       "      <td>{'neg': 0.0, 'neu': 0.769, 'pos': 0.231, 'comp...</td>\n",
       "    </tr>\n",
       "    <tr>\n",
       "      <th>3486</th>\n",
       "      <td>check out this listing i just added to my posh...</td>\n",
       "      <td>[#Poshmark, #shopmycloset]</td>\n",
       "      <td>quality</td>\n",
       "      <td>puma</td>\n",
       "      <td>[check, listing, added, poshmark, closet, sold...</td>\n",
       "      <td>0.000000</td>\n",
       "      <td>{'neg': 0.0, 'neu': 1.0, 'pos': 0.0, 'compound...</td>\n",
       "    </tr>\n",
       "  </tbody>\n",
       "</table>\n",
       "</div>"
      ],
      "text/plain": [
       "                                                    text  \\\n",
       "2104   glad to see og pairs being pulled out and not ...   \n",
       "23723  my son wants nike air force i ve been around a...   \n",
       "18803                          hate that happened to you   \n",
       "19206                         he doing it just like nike   \n",
       "124    not sure i follow tweet says last pic before u...   \n",
       "19429  six love mr amp mrs zepeda fyi zepeda cia s im...   \n",
       "8452   its baby shark girls amp boy watch baby shark ...   \n",
       "3850   why are any companies doing business in russia...   \n",
       "17454  feeling some serious keurig nike etc vibes rig...   \n",
       "3486   check out this listing i just added to my posh...   \n",
       "\n",
       "                         hashtags brand_attribute   brand  \\\n",
       "2104                           []         quality  adidas   \n",
       "23723                          []         quality  adidas   \n",
       "18803                          []         quality    nike   \n",
       "19206                          []         quality  adidas   \n",
       "124                            []         quality   umbro   \n",
       "19429                          []           price    nike   \n",
       "8452                           []         quality  adidas   \n",
       "3850                           []           price  adidas   \n",
       "17454                          []           price    nike   \n",
       "3486   [#Poshmark, #shopmycloset]         quality    puma   \n",
       "\n",
       "                                                   token  blob_scores  \\\n",
       "2104                [glad, og, pair, pulled, new, thing]     0.318182   \n",
       "23723  [son, want, nike, air, force, mall, ke, e, bat...     0.000000   \n",
       "18803                                   [hate, happened]    -0.800000   \n",
       "19206                                       [like, nike]     0.000000   \n",
       "124    [sure, follow, tweet, say, pic, umbro, badge, ...     0.500000   \n",
       "19429  [love, mr, amp, mr, zepeda, fyi, zepeda, cia, ...     0.225000   \n",
       "8452   [baby, shark, girl, amp, boy, watch, baby, sha...     0.100000   \n",
       "3850   [company, business, russia, time, starve, russ...     0.000000   \n",
       "17454          [feeling, keurig, nike, etc, vibe, right]     0.285714   \n",
       "3486   [check, listing, added, poshmark, closet, sold...     0.000000   \n",
       "\n",
       "                                            vader_scores  \n",
       "2104   {'neg': 0.0, 'neu': 0.625, 'pos': 0.375, 'comp...  \n",
       "23723  {'neg': 0.0, 'neu': 0.874, 'pos': 0.126, 'comp...  \n",
       "18803  {'neg': 0.787, 'neu': 0.213, 'pos': 0.0, 'comp...  \n",
       "19206  {'neg': 0.0, 'neu': 0.286, 'pos': 0.714, 'comp...  \n",
       "124    {'neg': 0.0, 'neu': 0.753, 'pos': 0.247, 'comp...  \n",
       "19429  {'neg': 0.072, 'neu': 0.749, 'pos': 0.18, 'com...  \n",
       "8452   {'neg': 0.0, 'neu': 0.849, 'pos': 0.151, 'comp...  \n",
       "3850   {'neg': 0.259, 'neu': 0.536, 'pos': 0.205, 'co...  \n",
       "17454  {'neg': 0.0, 'neu': 0.769, 'pos': 0.231, 'comp...  \n",
       "3486   {'neg': 0.0, 'neu': 1.0, 'pos': 0.0, 'compound...  "
      ]
     },
     "execution_count": 8,
     "metadata": {},
     "output_type": "execute_result"
    }
   ],
   "source": [
    "brands_tweets.sample(10)"
   ]
  },
  {
   "cell_type": "code",
   "execution_count": 9,
   "id": "bb3ab525",
   "metadata": {
    "scrolled": true
   },
   "outputs": [
    {
     "data": {
      "text/plain": [
       " 0.000000    31878\n",
       " 0.650000     2747\n",
       " 0.500000     2220\n",
       " 0.400000     1657\n",
       " 0.200000     1398\n",
       "             ...  \n",
       " 0.009524        1\n",
       "-0.343750        1\n",
       "-0.035556        1\n",
       " 0.118182        1\n",
       " 0.477778        1\n",
       "Name: blob_scores, Length: 2545, dtype: int64"
      ]
     },
     "execution_count": 9,
     "metadata": {},
     "output_type": "execute_result"
    }
   ],
   "source": [
    "brands_tweets.blob_scores.value_counts()"
   ]
  },
  {
   "cell_type": "code",
   "execution_count": 10,
   "id": "aeaed762",
   "metadata": {},
   "outputs": [
    {
     "data": {
      "text/plain": [
       "dict"
      ]
     },
     "execution_count": 10,
     "metadata": {},
     "output_type": "execute_result"
    }
   ],
   "source": [
    "type(brands_tweets.vader_scores[2].reset_index().vader_scores[0])"
   ]
  },
  {
   "cell_type": "code",
   "execution_count": 11,
   "id": "e3b23486",
   "metadata": {},
   "outputs": [],
   "source": [
    "brands_tweets.reset_index(inplace = True)"
   ]
  },
  {
   "cell_type": "markdown",
   "id": "eb50456c",
   "metadata": {},
   "source": [
    "# Resultados del Análisis."
   ]
  },
  {
   "cell_type": "markdown",
   "id": "a3cbf7cc",
   "metadata": {},
   "source": [
    "### Blob Scores"
   ]
  },
  {
   "cell_type": "code",
   "execution_count": 12,
   "id": "09e72a39",
   "metadata": {
    "scrolled": true
   },
   "outputs": [
    {
     "data": {
      "text/plain": [
       "0.1053805303017492"
      ]
     },
     "execution_count": 12,
     "metadata": {},
     "output_type": "execute_result"
    }
   ],
   "source": [
    "brands_tweets.blob_scores.mean()"
   ]
  },
  {
   "cell_type": "markdown",
   "id": "4204efc7",
   "metadata": {},
   "source": [
    "**Resultados Nike:**"
   ]
  },
  {
   "cell_type": "code",
   "execution_count": 13,
   "id": "d75fb827",
   "metadata": {},
   "outputs": [],
   "source": [
    "nike_price = brands_tweets[(brands_tweets['brand'] == 'nike') & (brands_tweets['brand_attribute'] == 'price') & (brands_tweets['blob_scores'] != 0.000)]"
   ]
  },
  {
   "cell_type": "code",
   "execution_count": 14,
   "id": "10912940",
   "metadata": {},
   "outputs": [
    {
     "name": "stdout",
     "output_type": "stream",
     "text": [
      "Precio Nike:  0.109937374381409\n"
     ]
    }
   ],
   "source": [
    "print('Precio Nike: ', nike_price.blob_scores.mean())"
   ]
  },
  {
   "cell_type": "code",
   "execution_count": 15,
   "id": "c0b9ee1f",
   "metadata": {},
   "outputs": [],
   "source": [
    "nike_quality = brands_tweets[(brands_tweets['brand'] == 'nike') & (brands_tweets['brand_attribute'] == 'quality') & (brands_tweets['blob_scores'] != 0.000)]"
   ]
  },
  {
   "cell_type": "code",
   "execution_count": 16,
   "id": "1214f63f",
   "metadata": {},
   "outputs": [
    {
     "name": "stdout",
     "output_type": "stream",
     "text": [
      "Calidad Nike:  0.20489180285136294\n"
     ]
    }
   ],
   "source": [
    "print('Calidad Nike: ', nike_quality.blob_scores.mean())"
   ]
  },
  {
   "cell_type": "markdown",
   "id": "eefd7dd9",
   "metadata": {},
   "source": [
    "**Resultados Adidas:**"
   ]
  },
  {
   "cell_type": "code",
   "execution_count": 17,
   "id": "6a07a3e6",
   "metadata": {},
   "outputs": [],
   "source": [
    "adidas_price = brands_tweets[(brands_tweets['brand'] == 'adidas') & (brands_tweets['brand_attribute'] == 'price') & (brands_tweets['blob_scores'] != 0.000)]"
   ]
  },
  {
   "cell_type": "code",
   "execution_count": 18,
   "id": "6e4ddafb",
   "metadata": {},
   "outputs": [
    {
     "name": "stdout",
     "output_type": "stream",
     "text": [
      "Precio Adidas:  0.11120344708668521\n"
     ]
    }
   ],
   "source": [
    "print('Precio Adidas: ', adidas_price.blob_scores.mean())"
   ]
  },
  {
   "cell_type": "code",
   "execution_count": 19,
   "id": "97ba87da",
   "metadata": {},
   "outputs": [],
   "source": [
    "adidas_quality = brands_tweets[(brands_tweets['brand'] == 'adidas') & (brands_tweets['brand_attribute'] == 'quality') & (brands_tweets['blob_scores'] != 0.000)]"
   ]
  },
  {
   "cell_type": "code",
   "execution_count": 20,
   "id": "b300f56a",
   "metadata": {
    "scrolled": true
   },
   "outputs": [
    {
     "name": "stdout",
     "output_type": "stream",
     "text": [
      "Calidad Adidas:  0.20460581742491246\n"
     ]
    }
   ],
   "source": [
    "print('Calidad Adidas: ', adidas_quality.blob_scores.mean())"
   ]
  },
  {
   "cell_type": "markdown",
   "id": "68a78247",
   "metadata": {},
   "source": [
    "**Resultados Asics:**"
   ]
  },
  {
   "cell_type": "code",
   "execution_count": 21,
   "id": "5dbe68e6",
   "metadata": {},
   "outputs": [],
   "source": [
    "asics_price = brands_tweets[(brands_tweets['brand'] == 'asics') & (brands_tweets['brand_attribute'] == 'price') & (brands_tweets['blob_scores'] != 0.000)]"
   ]
  },
  {
   "cell_type": "code",
   "execution_count": 22,
   "id": "535df11b",
   "metadata": {},
   "outputs": [
    {
     "name": "stdout",
     "output_type": "stream",
     "text": [
      "Precio Asics:  0.10397568056206592\n"
     ]
    }
   ],
   "source": [
    "print('Precio Asics: ', asics_price.blob_scores.mean())"
   ]
  },
  {
   "cell_type": "code",
   "execution_count": 23,
   "id": "fd0f994e",
   "metadata": {},
   "outputs": [],
   "source": [
    "asics_quality = brands_tweets[(brands_tweets['brand'] == 'asics') & (brands_tweets['brand_attribute'] == 'quality') & (brands_tweets['blob_scores'] != 0.000)]"
   ]
  },
  {
   "cell_type": "code",
   "execution_count": 24,
   "id": "5010ea1c",
   "metadata": {},
   "outputs": [
    {
     "name": "stdout",
     "output_type": "stream",
     "text": [
      "Calidad Asics:  0.23039710194948845\n"
     ]
    }
   ],
   "source": [
    "print('Calidad Asics: ', asics_quality.blob_scores.mean())"
   ]
  },
  {
   "cell_type": "markdown",
   "id": "8eac13b5",
   "metadata": {},
   "source": [
    "**Resultados Reebok:**"
   ]
  },
  {
   "cell_type": "code",
   "execution_count": 25,
   "id": "24cc77e5",
   "metadata": {},
   "outputs": [],
   "source": [
    "reebok_price = brands_tweets[(brands_tweets['brand'] == 'reebok') & (brands_tweets['brand_attribute'] == 'price') & (brands_tweets['blob_scores'] != 0.000)]"
   ]
  },
  {
   "cell_type": "code",
   "execution_count": 26,
   "id": "3dd79852",
   "metadata": {},
   "outputs": [
    {
     "name": "stdout",
     "output_type": "stream",
     "text": [
      "Precio Reebok:  0.16575064075064078\n"
     ]
    }
   ],
   "source": [
    "print('Precio Reebok: ', reebok_price.blob_scores.mean())"
   ]
  },
  {
   "cell_type": "code",
   "execution_count": 27,
   "id": "a5231ff9",
   "metadata": {},
   "outputs": [],
   "source": [
    "reebok_quality = brands_tweets[(brands_tweets['brand'] == 'reebok') & (brands_tweets['brand_attribute'] == 'quality') & (brands_tweets['blob_scores'] != 0.000)]"
   ]
  },
  {
   "cell_type": "code",
   "execution_count": 28,
   "id": "6e29fbf4",
   "metadata": {
    "scrolled": true
   },
   "outputs": [
    {
     "name": "stdout",
     "output_type": "stream",
     "text": [
      "Calidad Reebok:  0.2610846382136843\n"
     ]
    }
   ],
   "source": [
    "print('Calidad Reebok: ', reebok_quality.blob_scores.mean())"
   ]
  },
  {
   "cell_type": "markdown",
   "id": "c00ab763",
   "metadata": {},
   "source": [
    "**Resultados Skechers:**"
   ]
  },
  {
   "cell_type": "code",
   "execution_count": 29,
   "id": "65dfd320",
   "metadata": {},
   "outputs": [],
   "source": [
    "skechers_price = brands_tweets[(brands_tweets['brand'] == 'skechers') & (brands_tweets['brand_attribute'] == 'price') & (brands_tweets['blob_scores'] != 0.000)]"
   ]
  },
  {
   "cell_type": "code",
   "execution_count": 30,
   "id": "b16bcc04",
   "metadata": {},
   "outputs": [
    {
     "name": "stdout",
     "output_type": "stream",
     "text": [
      "Precio Skechers:  0.20445661163847706\n"
     ]
    }
   ],
   "source": [
    "print('Precio Skechers: ', skechers_price.blob_scores.mean())"
   ]
  },
  {
   "cell_type": "code",
   "execution_count": 31,
   "id": "e99827a6",
   "metadata": {},
   "outputs": [],
   "source": [
    "skechers_quality = brands_tweets[(brands_tweets['brand'] == 'skechers') & (brands_tweets['brand_attribute'] == 'quality') & (brands_tweets['blob_scores'] != 0.000)]"
   ]
  },
  {
   "cell_type": "code",
   "execution_count": 32,
   "id": "1fc1598c",
   "metadata": {
    "scrolled": true
   },
   "outputs": [
    {
     "name": "stdout",
     "output_type": "stream",
     "text": [
      "Calidad Skechers:  0.2719384021938369\n"
     ]
    }
   ],
   "source": [
    "print('Calidad Skechers: ', skechers_quality.blob_scores.mean())"
   ]
  },
  {
   "cell_type": "markdown",
   "id": "1108c132",
   "metadata": {},
   "source": [
    "**Resultados Under Armour:**"
   ]
  },
  {
   "cell_type": "code",
   "execution_count": 33,
   "id": "c1a05910",
   "metadata": {},
   "outputs": [],
   "source": [
    "under_armour_price = brands_tweets[(brands_tweets['brand'] == 'under armour') & (brands_tweets['brand_attribute'] == 'price') & (brands_tweets['blob_scores'] != 0.000)]"
   ]
  },
  {
   "cell_type": "code",
   "execution_count": 34,
   "id": "b8cb9993",
   "metadata": {},
   "outputs": [
    {
     "name": "stdout",
     "output_type": "stream",
     "text": [
      "Precio Under Armour:  0.11430521809290652\n"
     ]
    }
   ],
   "source": [
    "print('Precio Under Armour: ', under_armour_price.blob_scores.mean())"
   ]
  },
  {
   "cell_type": "code",
   "execution_count": 35,
   "id": "962ee402",
   "metadata": {},
   "outputs": [],
   "source": [
    "under_armour_quality = brands_tweets[(brands_tweets['brand'] == 'under armour') & (brands_tweets['brand_attribute'] == 'quality') & (brands_tweets['blob_scores'] != 0.000)]"
   ]
  },
  {
   "cell_type": "code",
   "execution_count": 36,
   "id": "81aaa8c7",
   "metadata": {
    "scrolled": true
   },
   "outputs": [
    {
     "name": "stdout",
     "output_type": "stream",
     "text": [
      "Calidad Under Armour:  0.08316104229232908\n"
     ]
    }
   ],
   "source": [
    "print('Calidad Under Armour: ', under_armour_quality.blob_scores.mean())"
   ]
  },
  {
   "cell_type": "markdown",
   "id": "ef07fd82",
   "metadata": {},
   "source": [
    "**Resultados Umbro:**"
   ]
  },
  {
   "cell_type": "code",
   "execution_count": 37,
   "id": "7f398413",
   "metadata": {},
   "outputs": [],
   "source": [
    "umbro_price = brands_tweets[(brands_tweets['brand'] == 'umbro') & (brands_tweets['brand_attribute'] == 'price') & (brands_tweets['blob_scores'] != 0.000)]"
   ]
  },
  {
   "cell_type": "code",
   "execution_count": 38,
   "id": "cf3be895",
   "metadata": {},
   "outputs": [
    {
     "name": "stdout",
     "output_type": "stream",
     "text": [
      "Precio Umbro:  0.21035246646357758\n"
     ]
    }
   ],
   "source": [
    "print('Precio Umbro: ', umbro_price.blob_scores.mean())"
   ]
  },
  {
   "cell_type": "code",
   "execution_count": 39,
   "id": "1df93020",
   "metadata": {},
   "outputs": [],
   "source": [
    "umbro_quality = brands_tweets[(brands_tweets['brand'] == 'umbro') & (brands_tweets['brand_attribute'] == 'quality') & (brands_tweets['blob_scores'] != 0.000)]"
   ]
  },
  {
   "cell_type": "code",
   "execution_count": 40,
   "id": "b697ffe8",
   "metadata": {
    "scrolled": true
   },
   "outputs": [
    {
     "name": "stdout",
     "output_type": "stream",
     "text": [
      "Calidad Umbro:  0.2218498321710396\n"
     ]
    }
   ],
   "source": [
    "print('Calidad Umbro: ', umbro_quality.blob_scores.mean())"
   ]
  },
  {
   "cell_type": "markdown",
   "id": "24dbe464",
   "metadata": {},
   "source": [
    "**Resultados Puma:**"
   ]
  },
  {
   "cell_type": "code",
   "execution_count": 41,
   "id": "fcea6448",
   "metadata": {},
   "outputs": [],
   "source": [
    "puma_price = brands_tweets[(brands_tweets['brand'] == 'puma') & (brands_tweets['brand_attribute'] == 'price') & (brands_tweets['blob_scores'] != 0.000)]"
   ]
  },
  {
   "cell_type": "code",
   "execution_count": 42,
   "id": "d04344af",
   "metadata": {},
   "outputs": [
    {
     "name": "stdout",
     "output_type": "stream",
     "text": [
      "Precio Puma:  0.17975266982289456\n"
     ]
    }
   ],
   "source": [
    "print('Precio Puma: ', puma_price.blob_scores.mean())"
   ]
  },
  {
   "cell_type": "code",
   "execution_count": 43,
   "id": "50fbf370",
   "metadata": {},
   "outputs": [],
   "source": [
    "puma_quality = brands_tweets[(brands_tweets['brand'] == 'puma') & (brands_tweets['brand_attribute'] == 'quality') & (brands_tweets['blob_scores'] != 0.000)]"
   ]
  },
  {
   "cell_type": "code",
   "execution_count": 44,
   "id": "91516cc8",
   "metadata": {
    "scrolled": true
   },
   "outputs": [
    {
     "name": "stdout",
     "output_type": "stream",
     "text": [
      "Calidad Puma:  0.23911617268566362\n"
     ]
    }
   ],
   "source": [
    "print('Calidad Puma: ', puma_quality.blob_scores.mean())"
   ]
  },
  {
   "cell_type": "markdown",
   "id": "7f30fd5a",
   "metadata": {},
   "source": [
    "### VADER"
   ]
  },
  {
   "cell_type": "code",
   "execution_count": 48,
   "id": "7de3d69c",
   "metadata": {},
   "outputs": [
    {
     "data": {
      "text/plain": [
       "'Con un reset index ya podemos manejar los scores como un diccionario!!!'"
      ]
     },
     "execution_count": 48,
     "metadata": {},
     "output_type": "execute_result"
    }
   ],
   "source": [
    "'''Con un reset index ya podemos manejar los scores como un diccionario!!!'''"
   ]
  },
  {
   "cell_type": "code",
   "execution_count": 51,
   "id": "05b8e0d8",
   "metadata": {},
   "outputs": [
    {
     "data": {
      "text/plain": [
       "0.4939"
      ]
     },
     "execution_count": 51,
     "metadata": {},
     "output_type": "execute_result"
    }
   ],
   "source": [
    "brands_tweets.vader_scores[0]['compound']"
   ]
  },
  {
   "cell_type": "code",
   "execution_count": 54,
   "id": "c6f57624",
   "metadata": {},
   "outputs": [
    {
     "ename": "KeyError",
     "evalue": "'compound'",
     "output_type": "error",
     "traceback": [
      "\u001b[0;31m---------------------------------------------------------------------------\u001b[0m",
      "\u001b[0;31mKeyError\u001b[0m                                  Traceback (most recent call last)",
      "\u001b[0;32m<ipython-input-54-57123700692e>\u001b[0m in \u001b[0;36m<module>\u001b[0;34m\u001b[0m\n\u001b[0;32m----> 1\u001b[0;31m \u001b[0mprint\u001b[0m\u001b[0;34m(\u001b[0m\u001b[0;34m'Precio Nike: '\u001b[0m\u001b[0;34m,\u001b[0m \u001b[0mbrands_tweets\u001b[0m\u001b[0;34m.\u001b[0m\u001b[0mvader_scores\u001b[0m\u001b[0;34m[\u001b[0m\u001b[0;34m:\u001b[0m\u001b[0;36m10\u001b[0m\u001b[0;34m]\u001b[0m\u001b[0;34m[\u001b[0m\u001b[0;34m'compound'\u001b[0m\u001b[0;34m]\u001b[0m\u001b[0;34m.\u001b[0m\u001b[0mmean\u001b[0m\u001b[0;34m(\u001b[0m\u001b[0;34m)\u001b[0m\u001b[0;34m)\u001b[0m\u001b[0;34m\u001b[0m\u001b[0;34m\u001b[0m\u001b[0m\n\u001b[0m",
      "\u001b[0;32m~/miniconda3/envs/ironhack/lib/python3.8/site-packages/pandas/core/series.py\u001b[0m in \u001b[0;36m__getitem__\u001b[0;34m(self, key)\u001b[0m\n\u001b[1;32m    956\u001b[0m \u001b[0;34m\u001b[0m\u001b[0m\n\u001b[1;32m    957\u001b[0m         \u001b[0;32melif\u001b[0m \u001b[0mkey_is_scalar\u001b[0m\u001b[0;34m:\u001b[0m\u001b[0;34m\u001b[0m\u001b[0;34m\u001b[0m\u001b[0m\n\u001b[0;32m--> 958\u001b[0;31m             \u001b[0;32mreturn\u001b[0m \u001b[0mself\u001b[0m\u001b[0;34m.\u001b[0m\u001b[0m_get_value\u001b[0m\u001b[0;34m(\u001b[0m\u001b[0mkey\u001b[0m\u001b[0;34m)\u001b[0m\u001b[0;34m\u001b[0m\u001b[0;34m\u001b[0m\u001b[0m\n\u001b[0m\u001b[1;32m    959\u001b[0m \u001b[0;34m\u001b[0m\u001b[0m\n\u001b[1;32m    960\u001b[0m         \u001b[0;32mif\u001b[0m \u001b[0mis_hashable\u001b[0m\u001b[0;34m(\u001b[0m\u001b[0mkey\u001b[0m\u001b[0;34m)\u001b[0m\u001b[0;34m:\u001b[0m\u001b[0;34m\u001b[0m\u001b[0;34m\u001b[0m\u001b[0m\n",
      "\u001b[0;32m~/miniconda3/envs/ironhack/lib/python3.8/site-packages/pandas/core/series.py\u001b[0m in \u001b[0;36m_get_value\u001b[0;34m(self, label, takeable)\u001b[0m\n\u001b[1;32m   1067\u001b[0m \u001b[0;34m\u001b[0m\u001b[0m\n\u001b[1;32m   1068\u001b[0m         \u001b[0;31m# Similar to Index.get_value, but we do not fall back to positional\u001b[0m\u001b[0;34m\u001b[0m\u001b[0;34m\u001b[0m\u001b[0;34m\u001b[0m\u001b[0m\n\u001b[0;32m-> 1069\u001b[0;31m         \u001b[0mloc\u001b[0m \u001b[0;34m=\u001b[0m \u001b[0mself\u001b[0m\u001b[0;34m.\u001b[0m\u001b[0mindex\u001b[0m\u001b[0;34m.\u001b[0m\u001b[0mget_loc\u001b[0m\u001b[0;34m(\u001b[0m\u001b[0mlabel\u001b[0m\u001b[0;34m)\u001b[0m\u001b[0;34m\u001b[0m\u001b[0;34m\u001b[0m\u001b[0m\n\u001b[0m\u001b[1;32m   1070\u001b[0m         \u001b[0;32mreturn\u001b[0m \u001b[0mself\u001b[0m\u001b[0;34m.\u001b[0m\u001b[0mindex\u001b[0m\u001b[0;34m.\u001b[0m\u001b[0m_get_values_for_loc\u001b[0m\u001b[0;34m(\u001b[0m\u001b[0mself\u001b[0m\u001b[0;34m,\u001b[0m \u001b[0mloc\u001b[0m\u001b[0;34m,\u001b[0m \u001b[0mlabel\u001b[0m\u001b[0;34m)\u001b[0m\u001b[0;34m\u001b[0m\u001b[0;34m\u001b[0m\u001b[0m\n\u001b[1;32m   1071\u001b[0m \u001b[0;34m\u001b[0m\u001b[0m\n",
      "\u001b[0;32m~/miniconda3/envs/ironhack/lib/python3.8/site-packages/pandas/core/indexes/range.py\u001b[0m in \u001b[0;36mget_loc\u001b[0;34m(self, key, method, tolerance)\u001b[0m\n\u001b[1;32m    387\u001b[0m                     \u001b[0;32mraise\u001b[0m \u001b[0mKeyError\u001b[0m\u001b[0;34m(\u001b[0m\u001b[0mkey\u001b[0m\u001b[0;34m)\u001b[0m \u001b[0;32mfrom\u001b[0m \u001b[0merr\u001b[0m\u001b[0;34m\u001b[0m\u001b[0;34m\u001b[0m\u001b[0m\n\u001b[1;32m    388\u001b[0m             \u001b[0mself\u001b[0m\u001b[0;34m.\u001b[0m\u001b[0m_check_indexing_error\u001b[0m\u001b[0;34m(\u001b[0m\u001b[0mkey\u001b[0m\u001b[0;34m)\u001b[0m\u001b[0;34m\u001b[0m\u001b[0;34m\u001b[0m\u001b[0m\n\u001b[0;32m--> 389\u001b[0;31m             \u001b[0;32mraise\u001b[0m \u001b[0mKeyError\u001b[0m\u001b[0;34m(\u001b[0m\u001b[0mkey\u001b[0m\u001b[0;34m)\u001b[0m\u001b[0;34m\u001b[0m\u001b[0;34m\u001b[0m\u001b[0m\n\u001b[0m\u001b[1;32m    390\u001b[0m         \u001b[0;32mreturn\u001b[0m \u001b[0msuper\u001b[0m\u001b[0;34m(\u001b[0m\u001b[0;34m)\u001b[0m\u001b[0;34m.\u001b[0m\u001b[0mget_loc\u001b[0m\u001b[0;34m(\u001b[0m\u001b[0mkey\u001b[0m\u001b[0;34m,\u001b[0m \u001b[0mmethod\u001b[0m\u001b[0;34m=\u001b[0m\u001b[0mmethod\u001b[0m\u001b[0;34m,\u001b[0m \u001b[0mtolerance\u001b[0m\u001b[0;34m=\u001b[0m\u001b[0mtolerance\u001b[0m\u001b[0;34m)\u001b[0m\u001b[0;34m\u001b[0m\u001b[0;34m\u001b[0m\u001b[0m\n\u001b[1;32m    391\u001b[0m \u001b[0;34m\u001b[0m\u001b[0m\n",
      "\u001b[0;31mKeyError\u001b[0m: 'compound'"
     ]
    }
   ],
   "source": [
    "print('Precio Nike: ', brands_tweets.vader_scores[:10]['compound'].mean())"
   ]
  },
  {
   "cell_type": "code",
   "execution_count": null,
   "id": "405585a8",
   "metadata": {},
   "outputs": [],
   "source": [
    "nike_price.vader_scores[13]"
   ]
  },
  {
   "cell_type": "code",
   "execution_count": null,
   "id": "ad5a535e",
   "metadata": {},
   "outputs": [],
   "source": [
    "def compound_score(scores):\n",
    "    return  scores\n",
    "\n",
    "nike_price.vader_scores['neg'].mean()"
   ]
  },
  {
   "cell_type": "markdown",
   "id": "5f101361",
   "metadata": {},
   "source": [
    "# PRUEBAS"
   ]
  },
  {
   "cell_type": "code",
   "execution_count": null,
   "id": "c3df038f",
   "metadata": {},
   "outputs": [],
   "source": [
    "from nltk.stem import WordNetLemmatizer\n",
    "\n",
    "lemmatizer = WordNetLemmatizer()"
   ]
  },
  {
   "cell_type": "code",
   "execution_count": null,
   "id": "db3cfa80",
   "metadata": {},
   "outputs": [],
   "source": [
    "lemmatizer.lemmatize('are')"
   ]
  },
  {
   "cell_type": "code",
   "execution_count": null,
   "id": "18c4a45f",
   "metadata": {},
   "outputs": [],
   "source": [
    "from textblob import Word\n",
    "\n",
    "a = Word('are')\n",
    "a.lemmatize('v')"
   ]
  },
  {
   "cell_type": "code",
   "execution_count": null,
   "id": "15bf78e3",
   "metadata": {},
   "outputs": [],
   "source": [
    "nlp = spacy.load('en_core_web_sm')"
   ]
  },
  {
   "cell_type": "code",
   "execution_count": null,
   "id": "75880716",
   "metadata": {},
   "outputs": [],
   "source": [
    "sent = 'Gus is helping organize a developer'\n",
    "\n",
    "for token in nlp(sent):\n",
    "    print (token, token.lemma_)"
   ]
  },
  {
   "cell_type": "code",
   "execution_count": null,
   "id": "fadc9dce",
   "metadata": {},
   "outputs": [],
   "source": [
    "from spacy import displacy\n",
    "\n",
    "doc = nlp(sent)\n",
    "\n",
    "displacy.render(doc, style='dep', jupyter=True)"
   ]
  }
 ],
 "metadata": {
  "kernelspec": {
   "display_name": "ironhack",
   "language": "python",
   "name": "myenv"
  },
  "language_info": {
   "codemirror_mode": {
    "name": "ipython",
    "version": 3
   },
   "file_extension": ".py",
   "mimetype": "text/x-python",
   "name": "python",
   "nbconvert_exporter": "python",
   "pygments_lexer": "ipython3",
   "version": "3.8.5"
  }
 },
 "nbformat": 4,
 "nbformat_minor": 5
}
