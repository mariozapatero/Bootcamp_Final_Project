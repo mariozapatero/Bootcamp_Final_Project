{
 "cells": [
  {
   "cell_type": "markdown",
   "id": "f951038c",
   "metadata": {},
   "source": [
    "# NLP & Sentiment Analysis."
   ]
  },
  {
   "cell_type": "markdown",
   "id": "4beac3d9",
   "metadata": {},
   "source": [
    "En esta etapa del proyecto manejaremos diferentes modelos pre-entrenados (librerías) y trataremos de evaluar cuál es el que nos ofrece mejores resultados.\n",
    "\n",
    "Evidentemente, sería conveniente desarrollar un modelo propio ad-hoc según las necesidades particulares del proyecto, lo cual probablemente nos permita alcanzar resultados más precisos. Sin embargo, no debemos olvidar que por el momento pretendemos construir las bases del proyecto y obtener un mínimo producto viable que demuestre su potencial. Disponemos de muy poco tiempo como para desarrollar y entrenar nuestro propio modelo y es por eso que se opta por la utilización de modelos pre-entrenados de NLP a la hora de analizar el sentimiento de los tweets y, por tanto, la percepción del usuario respecto de las marcas.\n",
    "\n",
    "Los análisis de sentimiento se ejecutarán a través de funciones previamente definidas en *' src / nlp_functions.py '*."
   ]
  },
  {
   "cell_type": "code",
   "execution_count": 1,
   "id": "463e911f",
   "metadata": {},
   "outputs": [],
   "source": [
    "from src.nlp_functions import *\n",
    "\n",
    "import pandas as pd"
   ]
  },
  {
   "cell_type": "code",
   "execution_count": 2,
   "id": "6c348075",
   "metadata": {},
   "outputs": [],
   "source": [
    "brands_tweets = pd.read_pickle('data/brands_tokens.pkl')"
   ]
  },
  {
   "cell_type": "code",
   "execution_count": 3,
   "id": "6fc68331",
   "metadata": {},
   "outputs": [
    {
     "data": {
      "text/html": [
       "<div>\n",
       "<style scoped>\n",
       "    .dataframe tbody tr th:only-of-type {\n",
       "        vertical-align: middle;\n",
       "    }\n",
       "\n",
       "    .dataframe tbody tr th {\n",
       "        vertical-align: top;\n",
       "    }\n",
       "\n",
       "    .dataframe thead th {\n",
       "        text-align: right;\n",
       "    }\n",
       "</style>\n",
       "<table border=\"1\" class=\"dataframe\">\n",
       "  <thead>\n",
       "    <tr style=\"text-align: right;\">\n",
       "      <th></th>\n",
       "      <th>text</th>\n",
       "      <th>hashtags</th>\n",
       "      <th>brand_attribute</th>\n",
       "      <th>brand</th>\n",
       "      <th>token</th>\n",
       "    </tr>\n",
       "  </thead>\n",
       "  <tbody>\n",
       "    <tr>\n",
       "      <th>0</th>\n",
       "      <td>nobody cares about nike in russia russia is al...</td>\n",
       "      <td>[]</td>\n",
       "      <td>quality</td>\n",
       "      <td>nike</td>\n",
       "      <td>[care, nike, russia, russia, adidas]</td>\n",
       "    </tr>\n",
       "    <tr>\n",
       "      <th>1</th>\n",
       "      <td>ye green nike hoodie waala two weeks pehle put...</td>\n",
       "      <td>[]</td>\n",
       "      <td>quality</td>\n",
       "      <td>nike</td>\n",
       "      <td>[ye, green, nike, hoodie, waala, week, pehle, ...</td>\n",
       "    </tr>\n",
       "    <tr>\n",
       "      <th>2</th>\n",
       "      <td>nike okundaye also knowns nike twins seven sev...</td>\n",
       "      <td>[#womengiant, #Documentwomen]</td>\n",
       "      <td>quality</td>\n",
       "      <td>nike</td>\n",
       "      <td>[nike, okundaye, knowns, nike, twin, seven, se...</td>\n",
       "    </tr>\n",
       "    <tr>\n",
       "      <th>3</th>\n",
       "      <td>day four of maxmadness air max month nike air ...</td>\n",
       "      <td>[#maxmadness, #AirMaxMonth, #airmaxgang, #kotd...</td>\n",
       "      <td>quality</td>\n",
       "      <td>nike</td>\n",
       "      <td>[day, maxmadness, air, max, month, nike, air, ...</td>\n",
       "    </tr>\n",
       "    <tr>\n",
       "      <th>4</th>\n",
       "      <td>thank you sir</td>\n",
       "      <td>[]</td>\n",
       "      <td>quality</td>\n",
       "      <td>nike</td>\n",
       "      <td>[thank, sir]</td>\n",
       "    </tr>\n",
       "  </tbody>\n",
       "</table>\n",
       "</div>"
      ],
      "text/plain": [
       "                                                text  \\\n",
       "0  nobody cares about nike in russia russia is al...   \n",
       "1  ye green nike hoodie waala two weeks pehle put...   \n",
       "2  nike okundaye also knowns nike twins seven sev...   \n",
       "3  day four of maxmadness air max month nike air ...   \n",
       "4                                      thank you sir   \n",
       "\n",
       "                                            hashtags brand_attribute brand  \\\n",
       "0                                                 []         quality  nike   \n",
       "1                                                 []         quality  nike   \n",
       "2                      [#womengiant, #Documentwomen]         quality  nike   \n",
       "3  [#maxmadness, #AirMaxMonth, #airmaxgang, #kotd...         quality  nike   \n",
       "4                                                 []         quality  nike   \n",
       "\n",
       "                                               token  \n",
       "0               [care, nike, russia, russia, adidas]  \n",
       "1  [ye, green, nike, hoodie, waala, week, pehle, ...  \n",
       "2  [nike, okundaye, knowns, nike, twin, seven, se...  \n",
       "3  [day, maxmadness, air, max, month, nike, air, ...  \n",
       "4                                       [thank, sir]  "
      ]
     },
     "execution_count": 3,
     "metadata": {},
     "output_type": "execute_result"
    }
   ],
   "source": [
    "brands_tweets.head()"
   ]
  },
  {
   "cell_type": "markdown",
   "id": "11f49ff9",
   "metadata": {},
   "source": [
    "### TextBlob (spaCy)"
   ]
  },
  {
   "cell_type": "code",
   "execution_count": 4,
   "id": "e955bab7",
   "metadata": {},
   "outputs": [
    {
     "data": {
      "text/plain": [
       "'INTRO!!!'"
      ]
     },
     "execution_count": 4,
     "metadata": {},
     "output_type": "execute_result"
    }
   ],
   "source": [
    "'''INTRO!!!'''\n",
    "\n",
    "# Esplicación breve.\n",
    "\n",
    "# Catarse bien de cómo funciona.\n",
    "# Ojo instalaciones (lo he metido en todos laos).\n"
   ]
  },
  {
   "cell_type": "code",
   "execution_count": 5,
   "id": "08a18490",
   "metadata": {},
   "outputs": [],
   "source": [
    "brands_tweets['blob_scores'] = brands_tweets.token.apply(blob_scoring)"
   ]
  },
  {
   "cell_type": "code",
   "execution_count": 6,
   "id": "0f13a6b6",
   "metadata": {},
   "outputs": [
    {
     "data": {
      "text/html": [
       "<div>\n",
       "<style scoped>\n",
       "    .dataframe tbody tr th:only-of-type {\n",
       "        vertical-align: middle;\n",
       "    }\n",
       "\n",
       "    .dataframe tbody tr th {\n",
       "        vertical-align: top;\n",
       "    }\n",
       "\n",
       "    .dataframe thead th {\n",
       "        text-align: right;\n",
       "    }\n",
       "</style>\n",
       "<table border=\"1\" class=\"dataframe\">\n",
       "  <thead>\n",
       "    <tr style=\"text-align: right;\">\n",
       "      <th></th>\n",
       "      <th>text</th>\n",
       "      <th>hashtags</th>\n",
       "      <th>brand_attribute</th>\n",
       "      <th>brand</th>\n",
       "      <th>token</th>\n",
       "      <th>blob_scores</th>\n",
       "    </tr>\n",
       "  </thead>\n",
       "  <tbody>\n",
       "    <tr>\n",
       "      <th>20410</th>\n",
       "      <td>got to love it</td>\n",
       "      <td>[]</td>\n",
       "      <td>quality</td>\n",
       "      <td>adidas</td>\n",
       "      <td>[got, love]</td>\n",
       "      <td>0.500000</td>\n",
       "    </tr>\n",
       "    <tr>\n",
       "      <th>12147</th>\n",
       "      <td>new invention the skinny horse man is a car ni...</td>\n",
       "      <td>[]</td>\n",
       "      <td>price</td>\n",
       "      <td>adidas</td>\n",
       "      <td>[new, invention, skinny, horse, man, car, nike...</td>\n",
       "      <td>0.136364</td>\n",
       "    </tr>\n",
       "    <tr>\n",
       "      <th>24069</th>\n",
       "      <td>so good i had to share check out all the items...</td>\n",
       "      <td>[#poshmark, #fashion, #style, #shopmycloset, #...</td>\n",
       "      <td>quality</td>\n",
       "      <td>nike</td>\n",
       "      <td>[good, share, check, item, loving, poshmark, f...</td>\n",
       "      <td>0.650000</td>\n",
       "    </tr>\n",
       "    <tr>\n",
       "      <th>15092</th>\n",
       "      <td>get him some shoes or nice nike sweater or som...</td>\n",
       "      <td>[]</td>\n",
       "      <td>quality</td>\n",
       "      <td>adidas</td>\n",
       "      <td>[shoe, nice, nike, sweater]</td>\n",
       "      <td>0.600000</td>\n",
       "    </tr>\n",
       "    <tr>\n",
       "      <th>15859</th>\n",
       "      <td>i miss nike but seeing him do so well with his...</td>\n",
       "      <td>[]</td>\n",
       "      <td>quality</td>\n",
       "      <td>nike</td>\n",
       "      <td>[miss, nike, seeing, mom, make, happy]</td>\n",
       "      <td>0.800000</td>\n",
       "    </tr>\n",
       "    <tr>\n",
       "      <th>28047</th>\n",
       "      <td>did nike design the paint job on all these car...</td>\n",
       "      <td>[#]</td>\n",
       "      <td>quality</td>\n",
       "      <td>nike</td>\n",
       "      <td>[nike, design, paint, job, car, horrible, plac...</td>\n",
       "      <td>-1.000000</td>\n",
       "    </tr>\n",
       "    <tr>\n",
       "      <th>19429</th>\n",
       "      <td>six love mr amp mrs zepeda fyi zepeda cia s im...</td>\n",
       "      <td>[]</td>\n",
       "      <td>price</td>\n",
       "      <td>nike</td>\n",
       "      <td>[love, mr, amp, mr, zepeda, fyi, zepeda, cia, ...</td>\n",
       "      <td>0.225000</td>\n",
       "    </tr>\n",
       "    <tr>\n",
       "      <th>9071</th>\n",
       "      <td>we re they nike socks made by slave labor in c...</td>\n",
       "      <td>[]</td>\n",
       "      <td>quality</td>\n",
       "      <td>nike</td>\n",
       "      <td>[nike, sock, slave, labor, china]</td>\n",
       "      <td>0.000000</td>\n",
       "    </tr>\n",
       "    <tr>\n",
       "      <th>26895</th>\n",
       "      <td>so good i had to share check out all the items...</td>\n",
       "      <td>[#poshmark, #fashion, #style, #shopmycloset, #...</td>\n",
       "      <td>quality</td>\n",
       "      <td>adidas</td>\n",
       "      <td>[good, share, check, item, loving, poshmark, f...</td>\n",
       "      <td>0.650000</td>\n",
       "    </tr>\n",
       "    <tr>\n",
       "      <th>13253</th>\n",
       "      <td>check out the nike react element five five ken...</td>\n",
       "      <td>[]</td>\n",
       "      <td>quality</td>\n",
       "      <td>nike</td>\n",
       "      <td>[check, nike, react, element, kendrick, lamar,...</td>\n",
       "      <td>0.400000</td>\n",
       "    </tr>\n",
       "  </tbody>\n",
       "</table>\n",
       "</div>"
      ],
      "text/plain": [
       "                                                    text  \\\n",
       "20410                                     got to love it   \n",
       "12147  new invention the skinny horse man is a car ni...   \n",
       "24069  so good i had to share check out all the items...   \n",
       "15092  get him some shoes or nice nike sweater or som...   \n",
       "15859  i miss nike but seeing him do so well with his...   \n",
       "28047  did nike design the paint job on all these car...   \n",
       "19429  six love mr amp mrs zepeda fyi zepeda cia s im...   \n",
       "9071   we re they nike socks made by slave labor in c...   \n",
       "26895  so good i had to share check out all the items...   \n",
       "13253  check out the nike react element five five ken...   \n",
       "\n",
       "                                                hashtags brand_attribute  \\\n",
       "20410                                                 []         quality   \n",
       "12147                                                 []           price   \n",
       "24069  [#poshmark, #fashion, #style, #shopmycloset, #...         quality   \n",
       "15092                                                 []         quality   \n",
       "15859                                                 []         quality   \n",
       "28047                                                [#]         quality   \n",
       "19429                                                 []           price   \n",
       "9071                                                  []         quality   \n",
       "26895  [#poshmark, #fashion, #style, #shopmycloset, #...         quality   \n",
       "13253                                                 []         quality   \n",
       "\n",
       "        brand                                              token  blob_scores  \n",
       "20410  adidas                                        [got, love]     0.500000  \n",
       "12147  adidas  [new, invention, skinny, horse, man, car, nike...     0.136364  \n",
       "24069    nike  [good, share, check, item, loving, poshmark, f...     0.650000  \n",
       "15092  adidas                        [shoe, nice, nike, sweater]     0.600000  \n",
       "15859    nike             [miss, nike, seeing, mom, make, happy]     0.800000  \n",
       "28047    nike  [nike, design, paint, job, car, horrible, plac...    -1.000000  \n",
       "19429    nike  [love, mr, amp, mr, zepeda, fyi, zepeda, cia, ...     0.225000  \n",
       "9071     nike                  [nike, sock, slave, labor, china]     0.000000  \n",
       "26895  adidas  [good, share, check, item, loving, poshmark, f...     0.650000  \n",
       "13253    nike  [check, nike, react, element, kendrick, lamar,...     0.400000  "
      ]
     },
     "execution_count": 6,
     "metadata": {},
     "output_type": "execute_result"
    }
   ],
   "source": [
    "brands_tweets.sample(10)"
   ]
  },
  {
   "cell_type": "markdown",
   "id": "9a6ee48c",
   "metadata": {},
   "source": [
    "### VADER."
   ]
  },
  {
   "cell_type": "markdown",
   "id": "7ad790ee",
   "metadata": {},
   "source": [
    "VADER (Valence Aware Dictionary and sEntiment Reasoner) es una librería utilizada para el análisis del sentimiento que se enfoca en los textos de social media. Así, pone énfases en las rules que captan la esencia del texto que normalmente se ve en las redes sociales. Algo interesante de VADER es que está pensado para poder actuar sobre texto sobre el que se ha hecho un limpieza muy básica (conservando emojis, signos de exclamación, etc.). Nosotros lo probaremos sobre los datos ya limpios ya que confiamos en que ofrecerán un mejor resultado (aunque no se presenta el proceso, se ha probado con los datos originales en bruto, pero no consique analizar los sentimientos correctamente y la gran mayoría de scores para negatividad, neutralidad y positivadad son 0). No obstante, lo ideal sería evaluar la precisión del análisis sobre tweets con diferentes niveles de limpieza (desde el más básico, al más detallista) y comparar los modelos para identificar el que ofrece un mayor rendimiento (incluyendo también los análisis desarrollados mediante otros modelos diferentes a VADER)."
   ]
  },
  {
   "cell_type": "markdown",
   "id": "8f153feb",
   "metadata": {},
   "source": [
    "https://towardsdatascience.com/fine-grained-sentiment-analysis-in-python-part-1-2697bb111ed4"
   ]
  },
  {
   "cell_type": "code",
   "execution_count": 7,
   "id": "03ce6a00",
   "metadata": {},
   "outputs": [],
   "source": [
    "brands_tweets['vader_scores'] = brands_tweets.token.apply(vader_scoring)"
   ]
  },
  {
   "cell_type": "code",
   "execution_count": 8,
   "id": "6e8ffd26",
   "metadata": {
    "scrolled": false
   },
   "outputs": [
    {
     "data": {
      "text/html": [
       "<div>\n",
       "<style scoped>\n",
       "    .dataframe tbody tr th:only-of-type {\n",
       "        vertical-align: middle;\n",
       "    }\n",
       "\n",
       "    .dataframe tbody tr th {\n",
       "        vertical-align: top;\n",
       "    }\n",
       "\n",
       "    .dataframe thead th {\n",
       "        text-align: right;\n",
       "    }\n",
       "</style>\n",
       "<table border=\"1\" class=\"dataframe\">\n",
       "  <thead>\n",
       "    <tr style=\"text-align: right;\">\n",
       "      <th></th>\n",
       "      <th>text</th>\n",
       "      <th>hashtags</th>\n",
       "      <th>brand_attribute</th>\n",
       "      <th>brand</th>\n",
       "      <th>token</th>\n",
       "      <th>blob_scores</th>\n",
       "      <th>vader_scores</th>\n",
       "    </tr>\n",
       "  </thead>\n",
       "  <tbody>\n",
       "    <tr>\n",
       "      <th>20458</th>\n",
       "      <td>work rn i have on nike sweats a gucci hoodie a...</td>\n",
       "      <td>[]</td>\n",
       "      <td>quality</td>\n",
       "      <td>adidas</td>\n",
       "      <td>[work, rn, nike, sweat, gucci, hoodie, ugg, sl...</td>\n",
       "      <td>0.037500</td>\n",
       "      <td>{'neg': 0.135, 'neu': 0.865, 'pos': 0.0, 'comp...</td>\n",
       "    </tr>\n",
       "    <tr>\n",
       "      <th>23276</th>\n",
       "      <td>yep i have a tracksuit from foschini that look...</td>\n",
       "      <td>[]</td>\n",
       "      <td>price</td>\n",
       "      <td>nike</td>\n",
       "      <td>[yep, tracksuit, foschini, look, feel, better,...</td>\n",
       "      <td>0.400000</td>\n",
       "      <td>{'neg': 0.102, 'neu': 0.557, 'pos': 0.341, 'co...</td>\n",
       "    </tr>\n",
       "    <tr>\n",
       "      <th>8449</th>\n",
       "      <td>wonder if i can buy that popcaan nike poster</td>\n",
       "      <td>[]</td>\n",
       "      <td>quality</td>\n",
       "      <td>adidas</td>\n",
       "      <td>[wonder, buy, popcaan, nike, poster]</td>\n",
       "      <td>0.000000</td>\n",
       "      <td>{'neg': 0.0, 'neu': 1.0, 'pos': 0.0, 'compound...</td>\n",
       "    </tr>\n",
       "    <tr>\n",
       "      <th>12195</th>\n",
       "      <td>nike which uses slave labor in china</td>\n",
       "      <td>[]</td>\n",
       "      <td>quality</td>\n",
       "      <td>adidas</td>\n",
       "      <td>[nike, us, slave, labor, china]</td>\n",
       "      <td>0.000000</td>\n",
       "      <td>{'neg': 0.0, 'neu': 1.0, 'pos': 0.0, 'compound...</td>\n",
       "    </tr>\n",
       "    <tr>\n",
       "      <th>23484</th>\n",
       "      <td>naw analysis nike should be the next luxury fa...</td>\n",
       "      <td>[]</td>\n",
       "      <td>quality</td>\n",
       "      <td>adidas</td>\n",
       "      <td>[naw, analysis, nike, luxury, fashion, house]</td>\n",
       "      <td>0.000000</td>\n",
       "      <td>{'neg': 0.0, 'neu': 1.0, 'pos': 0.0, 'compound...</td>\n",
       "    </tr>\n",
       "    <tr>\n",
       "      <th>27575</th>\n",
       "      <td>check out this listing i just added to my posh...</td>\n",
       "      <td>[#Poshmark, #shopmycloset]</td>\n",
       "      <td>quality</td>\n",
       "      <td>nike</td>\n",
       "      <td>[check, listing, added, poshmark, closet, nike...</td>\n",
       "      <td>0.000000</td>\n",
       "      <td>{'neg': 0.0, 'neu': 1.0, 'pos': 0.0, 'compound...</td>\n",
       "    </tr>\n",
       "    <tr>\n",
       "      <th>8968</th>\n",
       "      <td>mf u said if he sells yeezy he gets one zero z...</td>\n",
       "      <td>[]</td>\n",
       "      <td>price</td>\n",
       "      <td>adidas</td>\n",
       "      <td>[mf, u, said, sell, yeezy, get, zero, zero, pr...</td>\n",
       "      <td>0.000000</td>\n",
       "      <td>{'neg': 0.142, 'neu': 0.749, 'pos': 0.109, 'co...</td>\n",
       "    </tr>\n",
       "    <tr>\n",
       "      <th>3782</th>\n",
       "      <td>check out this listing i just added to my posh...</td>\n",
       "      <td>[#Poshmark, #shopmycloset]</td>\n",
       "      <td>quality</td>\n",
       "      <td>nike</td>\n",
       "      <td>[check, listing, added, poshmark, closet, nike...</td>\n",
       "      <td>0.016667</td>\n",
       "      <td>{'neg': 0.0, 'neu': 0.872, 'pos': 0.128, 'comp...</td>\n",
       "    </tr>\n",
       "    <tr>\n",
       "      <th>24818</th>\n",
       "      <td>check out this listing i just added to my posh...</td>\n",
       "      <td>[#Poshmark, #shopmycloset]</td>\n",
       "      <td>quality</td>\n",
       "      <td>nike</td>\n",
       "      <td>[check, listing, added, poshmark, closet, nike...</td>\n",
       "      <td>0.066667</td>\n",
       "      <td>{'neg': 0.0, 'neu': 1.0, 'pos': 0.0, 'compound...</td>\n",
       "    </tr>\n",
       "    <tr>\n",
       "      <th>1871</th>\n",
       "      <td>so good i had to share check out all the items...</td>\n",
       "      <td>[#poshmark, #fashion, #style, #shopmycloset, #...</td>\n",
       "      <td>quality</td>\n",
       "      <td>nike</td>\n",
       "      <td>[good, share, check, item, loving, poshmark, f...</td>\n",
       "      <td>0.650000</td>\n",
       "      <td>{'neg': 0.0, 'neu': 0.383, 'pos': 0.617, 'comp...</td>\n",
       "    </tr>\n",
       "  </tbody>\n",
       "</table>\n",
       "</div>"
      ],
      "text/plain": [
       "                                                    text  \\\n",
       "20458  work rn i have on nike sweats a gucci hoodie a...   \n",
       "23276  yep i have a tracksuit from foschini that look...   \n",
       "8449        wonder if i can buy that popcaan nike poster   \n",
       "12195               nike which uses slave labor in china   \n",
       "23484  naw analysis nike should be the next luxury fa...   \n",
       "27575  check out this listing i just added to my posh...   \n",
       "8968   mf u said if he sells yeezy he gets one zero z...   \n",
       "3782   check out this listing i just added to my posh...   \n",
       "24818  check out this listing i just added to my posh...   \n",
       "1871   so good i had to share check out all the items...   \n",
       "\n",
       "                                                hashtags brand_attribute  \\\n",
       "20458                                                 []         quality   \n",
       "23276                                                 []           price   \n",
       "8449                                                  []         quality   \n",
       "12195                                                 []         quality   \n",
       "23484                                                 []         quality   \n",
       "27575                         [#Poshmark, #shopmycloset]         quality   \n",
       "8968                                                  []           price   \n",
       "3782                          [#Poshmark, #shopmycloset]         quality   \n",
       "24818                         [#Poshmark, #shopmycloset]         quality   \n",
       "1871   [#poshmark, #fashion, #style, #shopmycloset, #...         quality   \n",
       "\n",
       "        brand                                              token  blob_scores  \\\n",
       "20458  adidas  [work, rn, nike, sweat, gucci, hoodie, ugg, sl...     0.037500   \n",
       "23276    nike  [yep, tracksuit, foschini, look, feel, better,...     0.400000   \n",
       "8449   adidas               [wonder, buy, popcaan, nike, poster]     0.000000   \n",
       "12195  adidas                    [nike, us, slave, labor, china]     0.000000   \n",
       "23484  adidas      [naw, analysis, nike, luxury, fashion, house]     0.000000   \n",
       "27575    nike  [check, listing, added, poshmark, closet, nike...     0.000000   \n",
       "8968   adidas  [mf, u, said, sell, yeezy, get, zero, zero, pr...     0.000000   \n",
       "3782     nike  [check, listing, added, poshmark, closet, nike...     0.016667   \n",
       "24818    nike  [check, listing, added, poshmark, closet, nike...     0.066667   \n",
       "1871     nike  [good, share, check, item, loving, poshmark, f...     0.650000   \n",
       "\n",
       "                                            vader_scores  \n",
       "20458  {'neg': 0.135, 'neu': 0.865, 'pos': 0.0, 'comp...  \n",
       "23276  {'neg': 0.102, 'neu': 0.557, 'pos': 0.341, 'co...  \n",
       "8449   {'neg': 0.0, 'neu': 1.0, 'pos': 0.0, 'compound...  \n",
       "12195  {'neg': 0.0, 'neu': 1.0, 'pos': 0.0, 'compound...  \n",
       "23484  {'neg': 0.0, 'neu': 1.0, 'pos': 0.0, 'compound...  \n",
       "27575  {'neg': 0.0, 'neu': 1.0, 'pos': 0.0, 'compound...  \n",
       "8968   {'neg': 0.142, 'neu': 0.749, 'pos': 0.109, 'co...  \n",
       "3782   {'neg': 0.0, 'neu': 0.872, 'pos': 0.128, 'comp...  \n",
       "24818  {'neg': 0.0, 'neu': 1.0, 'pos': 0.0, 'compound...  \n",
       "1871   {'neg': 0.0, 'neu': 0.383, 'pos': 0.617, 'comp...  "
      ]
     },
     "execution_count": 8,
     "metadata": {},
     "output_type": "execute_result"
    }
   ],
   "source": [
    "brands_tweets.sample(10)"
   ]
  },
  {
   "cell_type": "code",
   "execution_count": 15,
   "id": "044d3daa",
   "metadata": {},
   "outputs": [
    {
     "data": {
      "text/plain": [
       " 0.000000    25739\n",
       " 0.650000     2119\n",
       " 0.500000     1853\n",
       " 0.400000     1343\n",
       " 0.200000     1236\n",
       "             ...  \n",
       "-0.003333        1\n",
       "-0.057778        1\n",
       " 0.068667        1\n",
       " 0.022321        1\n",
       "-0.135714        1\n",
       "Name: blob_scores, Length: 2049, dtype: int64"
      ]
     },
     "execution_count": 15,
     "metadata": {},
     "output_type": "execute_result"
    }
   ],
   "source": [
    "brands_tweets.blob_scores.value_counts()"
   ]
  },
  {
   "cell_type": "markdown",
   "id": "99013e8f",
   "metadata": {},
   "source": [
    "# PRUEBAS"
   ]
  },
  {
   "cell_type": "code",
   "execution_count": 9,
   "id": "e4a833bd",
   "metadata": {},
   "outputs": [],
   "source": [
    "from nltk.stem import WordNetLemmatizer\n",
    "\n",
    "lemmatizer = WordNetLemmatizer()"
   ]
  },
  {
   "cell_type": "code",
   "execution_count": 10,
   "id": "8e20f5a9",
   "metadata": {},
   "outputs": [
    {
     "data": {
      "text/plain": [
       "'are'"
      ]
     },
     "execution_count": 10,
     "metadata": {},
     "output_type": "execute_result"
    }
   ],
   "source": [
    "lemmatizer.lemmatize('are')"
   ]
  },
  {
   "cell_type": "code",
   "execution_count": 11,
   "id": "b0d96b6e",
   "metadata": {},
   "outputs": [
    {
     "data": {
      "text/plain": [
       "'be'"
      ]
     },
     "execution_count": 11,
     "metadata": {},
     "output_type": "execute_result"
    }
   ],
   "source": [
    "from textblob import Word\n",
    "\n",
    "a = Word('are')\n",
    "a.lemmatize('v')"
   ]
  },
  {
   "cell_type": "code",
   "execution_count": 12,
   "id": "8c539652",
   "metadata": {},
   "outputs": [
    {
     "ename": "NameError",
     "evalue": "name 'spacy' is not defined",
     "output_type": "error",
     "traceback": [
      "\u001b[0;31m---------------------------------------------------------------------------\u001b[0m",
      "\u001b[0;31mNameError\u001b[0m                                 Traceback (most recent call last)",
      "\u001b[0;32m<ipython-input-12-12102ff9e1a9>\u001b[0m in \u001b[0;36m<module>\u001b[0;34m\u001b[0m\n\u001b[0;32m----> 1\u001b[0;31m \u001b[0mnlp\u001b[0m \u001b[0;34m=\u001b[0m \u001b[0mspacy\u001b[0m\u001b[0;34m.\u001b[0m\u001b[0mload\u001b[0m\u001b[0;34m(\u001b[0m\u001b[0;34m'en_core_web_sm'\u001b[0m\u001b[0;34m)\u001b[0m\u001b[0;34m\u001b[0m\u001b[0;34m\u001b[0m\u001b[0m\n\u001b[0m",
      "\u001b[0;31mNameError\u001b[0m: name 'spacy' is not defined"
     ]
    }
   ],
   "source": [
    "nlp = spacy.load('en_core_web_sm')"
   ]
  },
  {
   "cell_type": "code",
   "execution_count": null,
   "id": "305df0f2",
   "metadata": {},
   "outputs": [],
   "source": [
    "sent = 'Gus is helping organize a developer'\n",
    "\n",
    "for token in nlp(sent):\n",
    "    print (token, token.lemma_)"
   ]
  },
  {
   "cell_type": "code",
   "execution_count": null,
   "id": "6dadcac5",
   "metadata": {},
   "outputs": [],
   "source": [
    "from spacy import displacy\n",
    "\n",
    "doc = nlp(sent)\n",
    "\n",
    "displacy.render(doc, style='dep', jupyter=True)"
   ]
  }
 ],
 "metadata": {
  "kernelspec": {
   "display_name": "ironhack",
   "language": "python",
   "name": "myenv"
  },
  "language_info": {
   "codemirror_mode": {
    "name": "ipython",
    "version": 3
   },
   "file_extension": ".py",
   "mimetype": "text/x-python",
   "name": "python",
   "nbconvert_exporter": "python",
   "pygments_lexer": "ipython3",
   "version": "3.8.5"
  }
 },
 "nbformat": 4,
 "nbformat_minor": 5
}
