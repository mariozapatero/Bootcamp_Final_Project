{
 "cells": [
  {
   "cell_type": "markdown",
   "id": "6d017f8c",
   "metadata": {},
   "source": [
    "# NLP & Sentiment Analysis."
   ]
  },
  {
   "cell_type": "markdown",
   "id": "01540530",
   "metadata": {},
   "source": [
    "En esta etapa del proyecto manejaremos diferentes modelos pre-entrenados (librerías) y trataremos de evaluar cuál es el que nos ofrece mejores resultados.\n",
    "\n",
    "Evidentemente, sería conveniente desarrollar un modelo propio ad-hoc según las necesidades particulares del proyecto, lo cual probablemente nos permita alcanzar resultados más precisos. Sin embargo, no debemos olvidar que por el momento pretendemos construir las bases del proyecto y obtener un mínimo producto viable que demuestre su potencial. Disponemos de muy poco tiempo como para desarrollar y entrenar nuestro propio modelo y es por eso que se opta por la utilización de modelos pre-entrenados de NLP a la hora de analizar el sentimiento de los tweets y, por tanto, la percepción del usuario respecto de las marcas.\n",
    "\n",
    "Los análisis de sentimiento se ejecutarán a través de funciones previamente definidas en *' src / nlp_functions.py '*."
   ]
  },
  {
   "cell_type": "code",
   "execution_count": 1,
   "id": "1b4e2156",
   "metadata": {},
   "outputs": [],
   "source": [
    "from src.nlp_functions import *\n",
    "\n",
    "import pandas as pd"
   ]
  },
  {
   "cell_type": "code",
   "execution_count": 2,
   "id": "9490f0bb",
   "metadata": {},
   "outputs": [],
   "source": [
    "brands_tweets = pd.read_pickle('data/sports_equipment_brands_tokens.pkl')"
   ]
  },
  {
   "cell_type": "code",
   "execution_count": 3,
   "id": "6bc43c8e",
   "metadata": {},
   "outputs": [
    {
     "data": {
      "text/html": [
       "<div>\n",
       "<style scoped>\n",
       "    .dataframe tbody tr th:only-of-type {\n",
       "        vertical-align: middle;\n",
       "    }\n",
       "\n",
       "    .dataframe tbody tr th {\n",
       "        vertical-align: top;\n",
       "    }\n",
       "\n",
       "    .dataframe thead th {\n",
       "        text-align: right;\n",
       "    }\n",
       "</style>\n",
       "<table border=\"1\" class=\"dataframe\">\n",
       "  <thead>\n",
       "    <tr style=\"text-align: right;\">\n",
       "      <th></th>\n",
       "      <th>text</th>\n",
       "      <th>hashtags</th>\n",
       "      <th>brand_attribute</th>\n",
       "      <th>brand</th>\n",
       "      <th>token</th>\n",
       "    </tr>\n",
       "  </thead>\n",
       "  <tbody>\n",
       "    <tr>\n",
       "      <th>0</th>\n",
       "      <td>nobody cares about nike in russia russia is al...</td>\n",
       "      <td>[]</td>\n",
       "      <td>quality</td>\n",
       "      <td>nike</td>\n",
       "      <td>[care, nike, russia, russia, adidas]</td>\n",
       "    </tr>\n",
       "    <tr>\n",
       "      <th>1</th>\n",
       "      <td>ye green nike hoodie waala two weeks pehle put...</td>\n",
       "      <td>[]</td>\n",
       "      <td>quality</td>\n",
       "      <td>nike</td>\n",
       "      <td>[ye, green, nike, hoodie, waala, week, pehle, ...</td>\n",
       "    </tr>\n",
       "    <tr>\n",
       "      <th>2</th>\n",
       "      <td>nike okundaye also knowns nike twins seven sev...</td>\n",
       "      <td>[#womengiant, #Documentwomen]</td>\n",
       "      <td>quality</td>\n",
       "      <td>nike</td>\n",
       "      <td>[nike, okundaye, knowns, nike, twin, seven, se...</td>\n",
       "    </tr>\n",
       "    <tr>\n",
       "      <th>3</th>\n",
       "      <td>day four of maxmadness air max month nike air ...</td>\n",
       "      <td>[#maxmadness, #AirMaxMonth, #airmaxgang, #kotd...</td>\n",
       "      <td>quality</td>\n",
       "      <td>nike</td>\n",
       "      <td>[day, maxmadness, air, max, month, nike, air, ...</td>\n",
       "    </tr>\n",
       "    <tr>\n",
       "      <th>4</th>\n",
       "      <td>thank you sir</td>\n",
       "      <td>[]</td>\n",
       "      <td>quality</td>\n",
       "      <td>nike</td>\n",
       "      <td>[thank, sir]</td>\n",
       "    </tr>\n",
       "  </tbody>\n",
       "</table>\n",
       "</div>"
      ],
      "text/plain": [
       "                                                text  \\\n",
       "0  nobody cares about nike in russia russia is al...   \n",
       "1  ye green nike hoodie waala two weeks pehle put...   \n",
       "2  nike okundaye also knowns nike twins seven sev...   \n",
       "3  day four of maxmadness air max month nike air ...   \n",
       "4                                      thank you sir   \n",
       "\n",
       "                                            hashtags brand_attribute brand  \\\n",
       "0                                                 []         quality  nike   \n",
       "1                                                 []         quality  nike   \n",
       "2                      [#womengiant, #Documentwomen]         quality  nike   \n",
       "3  [#maxmadness, #AirMaxMonth, #airmaxgang, #kotd...         quality  nike   \n",
       "4                                                 []         quality  nike   \n",
       "\n",
       "                                               token  \n",
       "0               [care, nike, russia, russia, adidas]  \n",
       "1  [ye, green, nike, hoodie, waala, week, pehle, ...  \n",
       "2  [nike, okundaye, knowns, nike, twin, seven, se...  \n",
       "3  [day, maxmadness, air, max, month, nike, air, ...  \n",
       "4                                       [thank, sir]  "
      ]
     },
     "execution_count": 3,
     "metadata": {},
     "output_type": "execute_result"
    }
   ],
   "source": [
    "brands_tweets.head()"
   ]
  },
  {
   "cell_type": "markdown",
   "id": "442a5006",
   "metadata": {},
   "source": [
    "### TextBlob (spaCy)"
   ]
  },
  {
   "cell_type": "code",
   "execution_count": 4,
   "id": "b85aa01c",
   "metadata": {},
   "outputs": [
    {
     "data": {
      "text/plain": [
       "'INTRO!!!'"
      ]
     },
     "execution_count": 4,
     "metadata": {},
     "output_type": "execute_result"
    }
   ],
   "source": [
    "'''INTRO!!!'''\n",
    "\n",
    "# Esplicación breve.\n",
    "\n",
    "# Catarse bien de cómo funciona.\n",
    "# Ojo instalaciones (lo he metido en todos laos).\n"
   ]
  },
  {
   "cell_type": "code",
   "execution_count": 5,
   "id": "41f9d411",
   "metadata": {},
   "outputs": [],
   "source": [
    "brands_tweets['blob_scores'] = brands_tweets.token.apply(blob_scoring)"
   ]
  },
  {
   "cell_type": "code",
   "execution_count": 6,
   "id": "14df4ade",
   "metadata": {},
   "outputs": [
    {
     "data": {
      "text/html": [
       "<div>\n",
       "<style scoped>\n",
       "    .dataframe tbody tr th:only-of-type {\n",
       "        vertical-align: middle;\n",
       "    }\n",
       "\n",
       "    .dataframe tbody tr th {\n",
       "        vertical-align: top;\n",
       "    }\n",
       "\n",
       "    .dataframe thead th {\n",
       "        text-align: right;\n",
       "    }\n",
       "</style>\n",
       "<table border=\"1\" class=\"dataframe\">\n",
       "  <thead>\n",
       "    <tr style=\"text-align: right;\">\n",
       "      <th></th>\n",
       "      <th>text</th>\n",
       "      <th>hashtags</th>\n",
       "      <th>brand_attribute</th>\n",
       "      <th>brand</th>\n",
       "      <th>token</th>\n",
       "      <th>blob_scores</th>\n",
       "    </tr>\n",
       "  </thead>\n",
       "  <tbody>\n",
       "    <tr>\n",
       "      <th>1610</th>\n",
       "      <td>check out this listing i just added to my posh...</td>\n",
       "      <td>[#Poshmark, #shopmycloset]</td>\n",
       "      <td>quality</td>\n",
       "      <td>under armour</td>\n",
       "      <td>[check, listing, added, poshmark, closet, copy...</td>\n",
       "      <td>0.000000</td>\n",
       "    </tr>\n",
       "    <tr>\n",
       "      <th>24253</th>\n",
       "      <td>nike air jordan one mid pollen yellow white bl...</td>\n",
       "      <td>[]</td>\n",
       "      <td>quality</td>\n",
       "      <td>nike</td>\n",
       "      <td>[nike, air, jordan, mid, pollen, yellow, white...</td>\n",
       "      <td>-0.041667</td>\n",
       "    </tr>\n",
       "    <tr>\n",
       "      <th>19183</th>\n",
       "      <td>nike</td>\n",
       "      <td>[]</td>\n",
       "      <td>quality</td>\n",
       "      <td>nike</td>\n",
       "      <td>[nike]</td>\n",
       "      <td>0.000000</td>\n",
       "    </tr>\n",
       "    <tr>\n",
       "      <th>21749</th>\n",
       "      <td>players you didn t know played for theseclubs ...</td>\n",
       "      <td>[#football, #soccer, #sports, #futbol, #fifa, ...</td>\n",
       "      <td>quality</td>\n",
       "      <td>adidas</td>\n",
       "      <td>[player, know, played, theseclubs, football, s...</td>\n",
       "      <td>0.000000</td>\n",
       "    </tr>\n",
       "    <tr>\n",
       "      <th>1319</th>\n",
       "      <td>so good i had to share check out all the items...</td>\n",
       "      <td>[#poshmark, #fashion, #style, #shopmycloset, #...</td>\n",
       "      <td>quality</td>\n",
       "      <td>nike</td>\n",
       "      <td>[good, share, check, item, loving, poshmark, f...</td>\n",
       "      <td>0.650000</td>\n",
       "    </tr>\n",
       "    <tr>\n",
       "      <th>27387</th>\n",
       "      <td>so good i had to share check out all the items...</td>\n",
       "      <td>[#poshmark, #fashion, #style, #shopmycloset, #...</td>\n",
       "      <td>quality</td>\n",
       "      <td>adidas</td>\n",
       "      <td>[good, share, check, item, loving, poshmark, f...</td>\n",
       "      <td>0.650000</td>\n",
       "    </tr>\n",
       "    <tr>\n",
       "      <th>16467</th>\n",
       "      <td>jewel swooshes return to this nike air max nin...</td>\n",
       "      <td>[]</td>\n",
       "      <td>quality</td>\n",
       "      <td>adidas</td>\n",
       "      <td>[jewel, swoosh, return, nike, air, max, zero, ...</td>\n",
       "      <td>0.000000</td>\n",
       "    </tr>\n",
       "    <tr>\n",
       "      <th>16887</th>\n",
       "      <td>check out atlanta hawks danilo gallinari eight...</td>\n",
       "      <td>[#8, #Nike]</td>\n",
       "      <td>quality</td>\n",
       "      <td>adidas</td>\n",
       "      <td>[check, atlanta, hawk, danilo, gallinari, nike...</td>\n",
       "      <td>0.000000</td>\n",
       "    </tr>\n",
       "    <tr>\n",
       "      <th>484</th>\n",
       "      <td>nike make so many different foamposites but ke...</td>\n",
       "      <td>[]</td>\n",
       "      <td>quality</td>\n",
       "      <td>adidas</td>\n",
       "      <td>[nike, different, foamposites, dropping, jay]</td>\n",
       "      <td>0.000000</td>\n",
       "    </tr>\n",
       "    <tr>\n",
       "      <th>4006</th>\n",
       "      <td>romeo beckham and girlfriend mia regan front d...</td>\n",
       "      <td>[]</td>\n",
       "      <td>quality</td>\n",
       "      <td>puma</td>\n",
       "      <td>[romeo, beckham, girlfriend, mia, regan, debut...</td>\n",
       "      <td>0.000000</td>\n",
       "    </tr>\n",
       "  </tbody>\n",
       "</table>\n",
       "</div>"
      ],
      "text/plain": [
       "                                                    text  \\\n",
       "1610   check out this listing i just added to my posh...   \n",
       "24253  nike air jordan one mid pollen yellow white bl...   \n",
       "19183                                               nike   \n",
       "21749  players you didn t know played for theseclubs ...   \n",
       "1319   so good i had to share check out all the items...   \n",
       "27387  so good i had to share check out all the items...   \n",
       "16467  jewel swooshes return to this nike air max nin...   \n",
       "16887  check out atlanta hawks danilo gallinari eight...   \n",
       "484    nike make so many different foamposites but ke...   \n",
       "4006   romeo beckham and girlfriend mia regan front d...   \n",
       "\n",
       "                                                hashtags brand_attribute  \\\n",
       "1610                          [#Poshmark, #shopmycloset]         quality   \n",
       "24253                                                 []         quality   \n",
       "19183                                                 []         quality   \n",
       "21749  [#football, #soccer, #sports, #futbol, #fifa, ...         quality   \n",
       "1319   [#poshmark, #fashion, #style, #shopmycloset, #...         quality   \n",
       "27387  [#poshmark, #fashion, #style, #shopmycloset, #...         quality   \n",
       "16467                                                 []         quality   \n",
       "16887                                        [#8, #Nike]         quality   \n",
       "484                                                   []         quality   \n",
       "4006                                                  []         quality   \n",
       "\n",
       "              brand                                              token  \\\n",
       "1610   under armour  [check, listing, added, poshmark, closet, copy...   \n",
       "24253          nike  [nike, air, jordan, mid, pollen, yellow, white...   \n",
       "19183          nike                                             [nike]   \n",
       "21749        adidas  [player, know, played, theseclubs, football, s...   \n",
       "1319           nike  [good, share, check, item, loving, poshmark, f...   \n",
       "27387        adidas  [good, share, check, item, loving, poshmark, f...   \n",
       "16467        adidas  [jewel, swoosh, return, nike, air, max, zero, ...   \n",
       "16887        adidas  [check, atlanta, hawk, danilo, gallinari, nike...   \n",
       "484          adidas      [nike, different, foamposites, dropping, jay]   \n",
       "4006           puma  [romeo, beckham, girlfriend, mia, regan, debut...   \n",
       "\n",
       "       blob_scores  \n",
       "1610      0.000000  \n",
       "24253    -0.041667  \n",
       "19183     0.000000  \n",
       "21749     0.000000  \n",
       "1319      0.650000  \n",
       "27387     0.650000  \n",
       "16467     0.000000  \n",
       "16887     0.000000  \n",
       "484       0.000000  \n",
       "4006      0.000000  "
      ]
     },
     "execution_count": 6,
     "metadata": {},
     "output_type": "execute_result"
    }
   ],
   "source": [
    "brands_tweets.sample(10)"
   ]
  },
  {
   "cell_type": "markdown",
   "id": "df3fc379",
   "metadata": {},
   "source": [
    "### VADER."
   ]
  },
  {
   "cell_type": "markdown",
   "id": "fa770da9",
   "metadata": {},
   "source": [
    "VADER (Valence Aware Dictionary and sEntiment Reasoner) es una librería utilizada para el análisis del sentimiento que se enfoca en los textos de social media. Así, pone énfases en las rules que captan la esencia del texto que normalmente se ve en las redes sociales. Algo interesante de VADER es que está pensado para poder actuar sobre texto sobre el que se ha hecho un limpieza muy básica (conservando emojis, signos de exclamación, etc.). Nosotros lo probaremos sobre los datos ya limpios ya que confiamos en que ofrecerán un mejor resultado (aunque no se presenta el proceso, se ha probado con los datos originales en bruto, pero no consique analizar los sentimientos correctamente y la gran mayoría de scores para negatividad, neutralidad y positivadad son 0). No obstante, lo ideal sería evaluar la precisión del análisis sobre tweets con diferentes niveles de limpieza (desde el más básico, al más detallista) y comparar los modelos para identificar el que ofrece un mayor rendimiento (incluyendo también los análisis desarrollados mediante otros modelos diferentes a VADER)."
   ]
  },
  {
   "cell_type": "markdown",
   "id": "575d346d",
   "metadata": {},
   "source": [
    "https://towardsdatascience.com/fine-grained-sentiment-analysis-in-python-part-1-2697bb111ed4"
   ]
  },
  {
   "cell_type": "code",
   "execution_count": 7,
   "id": "1c6f6aec",
   "metadata": {},
   "outputs": [],
   "source": [
    "brands_tweets['vader_scores'] = brands_tweets.token.apply(vader_scoring)"
   ]
  },
  {
   "cell_type": "code",
   "execution_count": 8,
   "id": "e9101372",
   "metadata": {
    "scrolled": false
   },
   "outputs": [
    {
     "data": {
      "text/html": [
       "<div>\n",
       "<style scoped>\n",
       "    .dataframe tbody tr th:only-of-type {\n",
       "        vertical-align: middle;\n",
       "    }\n",
       "\n",
       "    .dataframe tbody tr th {\n",
       "        vertical-align: top;\n",
       "    }\n",
       "\n",
       "    .dataframe thead th {\n",
       "        text-align: right;\n",
       "    }\n",
       "</style>\n",
       "<table border=\"1\" class=\"dataframe\">\n",
       "  <thead>\n",
       "    <tr style=\"text-align: right;\">\n",
       "      <th></th>\n",
       "      <th>text</th>\n",
       "      <th>hashtags</th>\n",
       "      <th>brand_attribute</th>\n",
       "      <th>brand</th>\n",
       "      <th>token</th>\n",
       "      <th>blob_scores</th>\n",
       "      <th>vader_scores</th>\n",
       "    </tr>\n",
       "  </thead>\n",
       "  <tbody>\n",
       "    <tr>\n",
       "      <th>9857</th>\n",
       "      <td>just received my sons one two five nike traine...</td>\n",
       "      <td>[]</td>\n",
       "      <td>price</td>\n",
       "      <td>nike</td>\n",
       "      <td>[received, son, nike, trainer, searched, high,...</td>\n",
       "      <td>-0.002222</td>\n",
       "      <td>{'neg': 0.187, 'neu': 0.712, 'pos': 0.101, 'co...</td>\n",
       "    </tr>\n",
       "    <tr>\n",
       "      <th>23525</th>\n",
       "      <td>good catch you pulled a nike and just did it k...</td>\n",
       "      <td>[]</td>\n",
       "      <td>quality</td>\n",
       "      <td>nike</td>\n",
       "      <td>[good, catch, pulled, nike]</td>\n",
       "      <td>0.700000</td>\n",
       "      <td>{'neg': 0.0, 'neu': 0.508, 'pos': 0.492, 'comp...</td>\n",
       "    </tr>\n",
       "    <tr>\n",
       "      <th>27362</th>\n",
       "      <td>celebrating air max month this new clean colou...</td>\n",
       "      <td>[]</td>\n",
       "      <td>price</td>\n",
       "      <td>nike</td>\n",
       "      <td>[celebrating, air, max, month, new, clean, col...</td>\n",
       "      <td>0.350758</td>\n",
       "      <td>{'neg': 0.0, 'neu': 0.673, 'pos': 0.327, 'comp...</td>\n",
       "    </tr>\n",
       "    <tr>\n",
       "      <th>15031</th>\n",
       "      <td>day two air max month march max ness kotd it s...</td>\n",
       "      <td>[#AirMaxMonth, #MarchMaxNess, #kotd]</td>\n",
       "      <td>quality</td>\n",
       "      <td>nike</td>\n",
       "      <td>[day, air, max, month, march, max, ness, kotd,...</td>\n",
       "      <td>0.000000</td>\n",
       "      <td>{'neg': 0.0, 'neu': 1.0, 'pos': 0.0, 'compound...</td>\n",
       "    </tr>\n",
       "    <tr>\n",
       "      <th>201</th>\n",
       "      <td>i m not a asics person but i d cop these</td>\n",
       "      <td>[]</td>\n",
       "      <td>quality</td>\n",
       "      <td>asics</td>\n",
       "      <td>[asics, person, cop]</td>\n",
       "      <td>0.000000</td>\n",
       "      <td>{'neg': 0.0, 'neu': 1.0, 'pos': 0.0, 'compound...</td>\n",
       "    </tr>\n",
       "    <tr>\n",
       "      <th>14122</th>\n",
       "      <td>i finally decided at the age of three seven th...</td>\n",
       "      <td>[]</td>\n",
       "      <td>quality</td>\n",
       "      <td>adidas</td>\n",
       "      <td>[finally, decided, age, seven, crop, person, j...</td>\n",
       "      <td>0.125000</td>\n",
       "      <td>{'neg': 0.0, 'neu': 0.777, 'pos': 0.223, 'comp...</td>\n",
       "    </tr>\n",
       "    <tr>\n",
       "      <th>5316</th>\n",
       "      <td>needa nike sweatsuit</td>\n",
       "      <td>[]</td>\n",
       "      <td>quality</td>\n",
       "      <td>nike</td>\n",
       "      <td>[needa, nike, sweatsuit]</td>\n",
       "      <td>0.000000</td>\n",
       "      <td>{'neg': 0.0, 'neu': 1.0, 'pos': 0.0, 'compound...</td>\n",
       "    </tr>\n",
       "    <tr>\n",
       "      <th>12087</th>\n",
       "      <td>i see mmm</td>\n",
       "      <td>[]</td>\n",
       "      <td>quality</td>\n",
       "      <td>nike</td>\n",
       "      <td>[mmm]</td>\n",
       "      <td>0.000000</td>\n",
       "      <td>{'neg': 0.0, 'neu': 1.0, 'pos': 0.0, 'compound...</td>\n",
       "    </tr>\n",
       "    <tr>\n",
       "      <th>14455</th>\n",
       "      <td>check out this listing i just added to my posh...</td>\n",
       "      <td>[#Poshmark, #shopmycloset]</td>\n",
       "      <td>quality</td>\n",
       "      <td>nike</td>\n",
       "      <td>[check, listing, added, poshmark, closet, nike...</td>\n",
       "      <td>-0.250000</td>\n",
       "      <td>{'neg': 0.179, 'neu': 0.821, 'pos': 0.0, 'comp...</td>\n",
       "    </tr>\n",
       "    <tr>\n",
       "      <th>4103</th>\n",
       "      <td>always a bunny uncle bully</td>\n",
       "      <td>[]</td>\n",
       "      <td>quality</td>\n",
       "      <td>puma</td>\n",
       "      <td>[bunny, uncle, bully]</td>\n",
       "      <td>0.000000</td>\n",
       "      <td>{'neg': 0.615, 'neu': 0.385, 'pos': 0.0, 'comp...</td>\n",
       "    </tr>\n",
       "  </tbody>\n",
       "</table>\n",
       "</div>"
      ],
      "text/plain": [
       "                                                    text  \\\n",
       "9857   just received my sons one two five nike traine...   \n",
       "23525  good catch you pulled a nike and just did it k...   \n",
       "27362  celebrating air max month this new clean colou...   \n",
       "15031  day two air max month march max ness kotd it s...   \n",
       "201             i m not a asics person but i d cop these   \n",
       "14122  i finally decided at the age of three seven th...   \n",
       "5316                                needa nike sweatsuit   \n",
       "12087                                          i see mmm   \n",
       "14455  check out this listing i just added to my posh...   \n",
       "4103                          always a bunny uncle bully   \n",
       "\n",
       "                                   hashtags brand_attribute   brand  \\\n",
       "9857                                     []           price    nike   \n",
       "23525                                    []         quality    nike   \n",
       "27362                                    []           price    nike   \n",
       "15031  [#AirMaxMonth, #MarchMaxNess, #kotd]         quality    nike   \n",
       "201                                      []         quality   asics   \n",
       "14122                                    []         quality  adidas   \n",
       "5316                                     []         quality    nike   \n",
       "12087                                    []         quality    nike   \n",
       "14455            [#Poshmark, #shopmycloset]         quality    nike   \n",
       "4103                                     []         quality    puma   \n",
       "\n",
       "                                                   token  blob_scores  \\\n",
       "9857   [received, son, nike, trainer, searched, high,...    -0.002222   \n",
       "23525                        [good, catch, pulled, nike]     0.700000   \n",
       "27362  [celebrating, air, max, month, new, clean, col...     0.350758   \n",
       "15031  [day, air, max, month, march, max, ness, kotd,...     0.000000   \n",
       "201                                 [asics, person, cop]     0.000000   \n",
       "14122  [finally, decided, age, seven, crop, person, j...     0.125000   \n",
       "5316                            [needa, nike, sweatsuit]     0.000000   \n",
       "12087                                              [mmm]     0.000000   \n",
       "14455  [check, listing, added, poshmark, closet, nike...    -0.250000   \n",
       "4103                               [bunny, uncle, bully]     0.000000   \n",
       "\n",
       "                                            vader_scores  \n",
       "9857   {'neg': 0.187, 'neu': 0.712, 'pos': 0.101, 'co...  \n",
       "23525  {'neg': 0.0, 'neu': 0.508, 'pos': 0.492, 'comp...  \n",
       "27362  {'neg': 0.0, 'neu': 0.673, 'pos': 0.327, 'comp...  \n",
       "15031  {'neg': 0.0, 'neu': 1.0, 'pos': 0.0, 'compound...  \n",
       "201    {'neg': 0.0, 'neu': 1.0, 'pos': 0.0, 'compound...  \n",
       "14122  {'neg': 0.0, 'neu': 0.777, 'pos': 0.223, 'comp...  \n",
       "5316   {'neg': 0.0, 'neu': 1.0, 'pos': 0.0, 'compound...  \n",
       "12087  {'neg': 0.0, 'neu': 1.0, 'pos': 0.0, 'compound...  \n",
       "14455  {'neg': 0.179, 'neu': 0.821, 'pos': 0.0, 'comp...  \n",
       "4103   {'neg': 0.615, 'neu': 0.385, 'pos': 0.0, 'comp...  "
      ]
     },
     "execution_count": 8,
     "metadata": {},
     "output_type": "execute_result"
    }
   ],
   "source": [
    "brands_tweets.sample(10)"
   ]
  },
  {
   "cell_type": "code",
   "execution_count": 9,
   "id": "9aecc514",
   "metadata": {
    "scrolled": true
   },
   "outputs": [
    {
     "data": {
      "text/plain": [
       " 0.000000    31878\n",
       " 0.650000     2747\n",
       " 0.500000     2220\n",
       " 0.400000     1657\n",
       " 0.200000     1398\n",
       "             ...  \n",
       " 0.009524        1\n",
       "-0.343750        1\n",
       "-0.035556        1\n",
       " 0.118182        1\n",
       " 0.477778        1\n",
       "Name: blob_scores, Length: 2545, dtype: int64"
      ]
     },
     "execution_count": 9,
     "metadata": {},
     "output_type": "execute_result"
    }
   ],
   "source": [
    "brands_tweets.blob_scores.value_counts()"
   ]
  },
  {
   "cell_type": "code",
   "execution_count": 10,
   "id": "7f65b79b",
   "metadata": {},
   "outputs": [
    {
     "data": {
      "text/plain": [
       "dict"
      ]
     },
     "execution_count": 10,
     "metadata": {},
     "output_type": "execute_result"
    }
   ],
   "source": [
    "type(brands_tweets.vader_scores[2].reset_index().vader_scores[0])"
   ]
  },
  {
   "cell_type": "code",
   "execution_count": 11,
   "id": "48ffb665",
   "metadata": {},
   "outputs": [],
   "source": [
    "brands_tweets.reset_index(inplace = True)"
   ]
  },
  {
   "cell_type": "markdown",
   "id": "62f93c16",
   "metadata": {},
   "source": [
    "# Resultados del Análisis."
   ]
  },
  {
   "cell_type": "markdown",
   "id": "faed9b6c",
   "metadata": {},
   "source": [
    "## Blob Scores"
   ]
  },
  {
   "cell_type": "code",
   "execution_count": 12,
   "id": "147e4022",
   "metadata": {
    "scrolled": true
   },
   "outputs": [
    {
     "data": {
      "text/plain": [
       "0.1053805303017492"
      ]
     },
     "execution_count": 12,
     "metadata": {},
     "output_type": "execute_result"
    }
   ],
   "source": [
    "brands_tweets.blob_scores.mean()"
   ]
  },
  {
   "cell_type": "markdown",
   "id": "9b480371",
   "metadata": {},
   "source": [
    "**Resultados Nike:**"
   ]
  },
  {
   "cell_type": "code",
   "execution_count": 13,
   "id": "2e9f2164",
   "metadata": {},
   "outputs": [],
   "source": [
    "nike_price = brands_tweets[(brands_tweets['brand'] == 'nike') & (brands_tweets['brand_attribute'] == 'price') & (brands_tweets['blob_scores'] != 0.000)]"
   ]
  },
  {
   "cell_type": "code",
   "execution_count": 14,
   "id": "080bd658",
   "metadata": {},
   "outputs": [
    {
     "name": "stdout",
     "output_type": "stream",
     "text": [
      "Precio Nike:  0.109937374381409\n"
     ]
    }
   ],
   "source": [
    "print('Precio Nike: ', nike_price.blob_scores.mean())"
   ]
  },
  {
   "cell_type": "code",
   "execution_count": 15,
   "id": "631334ce",
   "metadata": {},
   "outputs": [],
   "source": [
    "nike_quality = brands_tweets[(brands_tweets['brand'] == 'nike') & (brands_tweets['brand_attribute'] == 'quality') & (brands_tweets['blob_scores'] != 0.000)]"
   ]
  },
  {
   "cell_type": "code",
   "execution_count": 16,
   "id": "bedf20e9",
   "metadata": {},
   "outputs": [
    {
     "name": "stdout",
     "output_type": "stream",
     "text": [
      "Calidad Nike:  0.20489180285136294\n"
     ]
    }
   ],
   "source": [
    "print('Calidad Nike: ', nike_quality.blob_scores.mean())"
   ]
  },
  {
   "cell_type": "markdown",
   "id": "8e875c43",
   "metadata": {},
   "source": [
    "**Resultados Adidas:**"
   ]
  },
  {
   "cell_type": "code",
   "execution_count": 17,
   "id": "e1ead9be",
   "metadata": {},
   "outputs": [],
   "source": [
    "adidas_price = brands_tweets[(brands_tweets['brand'] == 'adidas') & (brands_tweets['brand_attribute'] == 'price') & (brands_tweets['blob_scores'] != 0.000)]"
   ]
  },
  {
   "cell_type": "code",
   "execution_count": 18,
   "id": "a510f450",
   "metadata": {},
   "outputs": [
    {
     "name": "stdout",
     "output_type": "stream",
     "text": [
      "Precio Adidas:  0.11120344708668521\n"
     ]
    }
   ],
   "source": [
    "print('Precio Adidas: ', adidas_price.blob_scores.mean())"
   ]
  },
  {
   "cell_type": "code",
   "execution_count": 19,
   "id": "280ee643",
   "metadata": {},
   "outputs": [],
   "source": [
    "adidas_quality = brands_tweets[(brands_tweets['brand'] == 'adidas') & (brands_tweets['brand_attribute'] == 'quality') & (brands_tweets['blob_scores'] != 0.000)]"
   ]
  },
  {
   "cell_type": "code",
   "execution_count": 20,
   "id": "3a25605a",
   "metadata": {
    "scrolled": true
   },
   "outputs": [
    {
     "name": "stdout",
     "output_type": "stream",
     "text": [
      "Calidad Adidas:  0.20460581742491246\n"
     ]
    }
   ],
   "source": [
    "print('Calidad Adidas: ', adidas_quality.blob_scores.mean())"
   ]
  },
  {
   "cell_type": "markdown",
   "id": "437161e5",
   "metadata": {},
   "source": [
    "**Resultados Asics:**"
   ]
  },
  {
   "cell_type": "code",
   "execution_count": 21,
   "id": "8d01c52f",
   "metadata": {},
   "outputs": [],
   "source": [
    "asics_price = brands_tweets[(brands_tweets['brand'] == 'asics') & (brands_tweets['brand_attribute'] == 'price') & (brands_tweets['blob_scores'] != 0.000)]"
   ]
  },
  {
   "cell_type": "code",
   "execution_count": 22,
   "id": "c2be83f8",
   "metadata": {},
   "outputs": [
    {
     "name": "stdout",
     "output_type": "stream",
     "text": [
      "Precio Asics:  0.10397568056206592\n"
     ]
    }
   ],
   "source": [
    "print('Precio Asics: ', asics_price.blob_scores.mean())"
   ]
  },
  {
   "cell_type": "code",
   "execution_count": 23,
   "id": "406861ec",
   "metadata": {},
   "outputs": [],
   "source": [
    "asics_quality = brands_tweets[(brands_tweets['brand'] == 'asics') & (brands_tweets['brand_attribute'] == 'quality') & (brands_tweets['blob_scores'] != 0.000)]"
   ]
  },
  {
   "cell_type": "code",
   "execution_count": 24,
   "id": "91c60ffe",
   "metadata": {},
   "outputs": [
    {
     "name": "stdout",
     "output_type": "stream",
     "text": [
      "Calidad Asics:  0.23039710194948845\n"
     ]
    }
   ],
   "source": [
    "print('Calidad Asics: ', asics_quality.blob_scores.mean())"
   ]
  },
  {
   "cell_type": "markdown",
   "id": "acb40b9f",
   "metadata": {},
   "source": [
    "**Resultados Reebok:**"
   ]
  },
  {
   "cell_type": "code",
   "execution_count": 25,
   "id": "580b049f",
   "metadata": {},
   "outputs": [],
   "source": [
    "reebok_price = brands_tweets[(brands_tweets['brand'] == 'reebok') & (brands_tweets['brand_attribute'] == 'price') & (brands_tweets['blob_scores'] != 0.000)]"
   ]
  },
  {
   "cell_type": "code",
   "execution_count": 26,
   "id": "47b39891",
   "metadata": {},
   "outputs": [
    {
     "name": "stdout",
     "output_type": "stream",
     "text": [
      "Precio Reebok:  0.16575064075064078\n"
     ]
    }
   ],
   "source": [
    "print('Precio Reebok: ', reebok_price.blob_scores.mean())"
   ]
  },
  {
   "cell_type": "code",
   "execution_count": 27,
   "id": "6d2ae8dd",
   "metadata": {},
   "outputs": [],
   "source": [
    "reebok_quality = brands_tweets[(brands_tweets['brand'] == 'reebok') & (brands_tweets['brand_attribute'] == 'quality') & (brands_tweets['blob_scores'] != 0.000)]"
   ]
  },
  {
   "cell_type": "code",
   "execution_count": 28,
   "id": "9f0689fa",
   "metadata": {
    "scrolled": true
   },
   "outputs": [
    {
     "name": "stdout",
     "output_type": "stream",
     "text": [
      "Calidad Reebok:  0.2610846382136843\n"
     ]
    }
   ],
   "source": [
    "print('Calidad Reebok: ', reebok_quality.blob_scores.mean())"
   ]
  },
  {
   "cell_type": "markdown",
   "id": "e6da9c3d",
   "metadata": {},
   "source": [
    "**Resultados Skechers:**"
   ]
  },
  {
   "cell_type": "code",
   "execution_count": 29,
   "id": "1b6c4310",
   "metadata": {},
   "outputs": [],
   "source": [
    "skechers_price = brands_tweets[(brands_tweets['brand'] == 'skechers') & (brands_tweets['brand_attribute'] == 'price') & (brands_tweets['blob_scores'] != 0.000)]"
   ]
  },
  {
   "cell_type": "code",
   "execution_count": 30,
   "id": "7dd6299b",
   "metadata": {},
   "outputs": [
    {
     "name": "stdout",
     "output_type": "stream",
     "text": [
      "Precio Skechers:  0.20445661163847706\n"
     ]
    }
   ],
   "source": [
    "print('Precio Skechers: ', skechers_price.blob_scores.mean())"
   ]
  },
  {
   "cell_type": "code",
   "execution_count": 31,
   "id": "d9249efa",
   "metadata": {},
   "outputs": [],
   "source": [
    "skechers_quality = brands_tweets[(brands_tweets['brand'] == 'skechers') & (brands_tweets['brand_attribute'] == 'quality') & (brands_tweets['blob_scores'] != 0.000)]"
   ]
  },
  {
   "cell_type": "code",
   "execution_count": 32,
   "id": "ed17d7d7",
   "metadata": {
    "scrolled": true
   },
   "outputs": [
    {
     "name": "stdout",
     "output_type": "stream",
     "text": [
      "Calidad Skechers:  0.2719384021938369\n"
     ]
    }
   ],
   "source": [
    "print('Calidad Skechers: ', skechers_quality.blob_scores.mean())"
   ]
  },
  {
   "cell_type": "markdown",
   "id": "d16c78b6",
   "metadata": {},
   "source": [
    "**Resultados Under Armour:**"
   ]
  },
  {
   "cell_type": "code",
   "execution_count": 33,
   "id": "13b88dc4",
   "metadata": {},
   "outputs": [],
   "source": [
    "under_armour_price = brands_tweets[(brands_tweets['brand'] == 'under armour') & (brands_tweets['brand_attribute'] == 'price') & (brands_tweets['blob_scores'] != 0.000)]"
   ]
  },
  {
   "cell_type": "code",
   "execution_count": 34,
   "id": "6fec1d2f",
   "metadata": {},
   "outputs": [
    {
     "name": "stdout",
     "output_type": "stream",
     "text": [
      "Precio Under Armour:  0.11430521809290652\n"
     ]
    }
   ],
   "source": [
    "print('Precio Under Armour: ', under_armour_price.blob_scores.mean())"
   ]
  },
  {
   "cell_type": "code",
   "execution_count": 35,
   "id": "6dc03a95",
   "metadata": {},
   "outputs": [],
   "source": [
    "under_armour_quality = brands_tweets[(brands_tweets['brand'] == 'under armour') & (brands_tweets['brand_attribute'] == 'quality') & (brands_tweets['blob_scores'] != 0.000)]"
   ]
  },
  {
   "cell_type": "code",
   "execution_count": 36,
   "id": "37e90667",
   "metadata": {
    "scrolled": true
   },
   "outputs": [
    {
     "name": "stdout",
     "output_type": "stream",
     "text": [
      "Calidad Under Armour:  0.08316104229232908\n"
     ]
    }
   ],
   "source": [
    "print('Calidad Under Armour: ', under_armour_quality.blob_scores.mean())"
   ]
  },
  {
   "cell_type": "markdown",
   "id": "24150b55",
   "metadata": {},
   "source": [
    "**Resultados Umbro:**"
   ]
  },
  {
   "cell_type": "code",
   "execution_count": 37,
   "id": "2a345207",
   "metadata": {},
   "outputs": [],
   "source": [
    "umbro_price = brands_tweets[(brands_tweets['brand'] == 'umbro') & (brands_tweets['brand_attribute'] == 'price') & (brands_tweets['blob_scores'] != 0.000)]"
   ]
  },
  {
   "cell_type": "code",
   "execution_count": 38,
   "id": "6b4965f3",
   "metadata": {},
   "outputs": [
    {
     "name": "stdout",
     "output_type": "stream",
     "text": [
      "Precio Umbro:  0.21035246646357758\n"
     ]
    }
   ],
   "source": [
    "print('Precio Umbro: ', umbro_price.blob_scores.mean())"
   ]
  },
  {
   "cell_type": "code",
   "execution_count": 39,
   "id": "36cd38a2",
   "metadata": {},
   "outputs": [],
   "source": [
    "umbro_quality = brands_tweets[(brands_tweets['brand'] == 'umbro') & (brands_tweets['brand_attribute'] == 'quality') & (brands_tweets['blob_scores'] != 0.000)]"
   ]
  },
  {
   "cell_type": "code",
   "execution_count": 40,
   "id": "368a002d",
   "metadata": {
    "scrolled": true
   },
   "outputs": [
    {
     "name": "stdout",
     "output_type": "stream",
     "text": [
      "Calidad Umbro:  0.2218498321710396\n"
     ]
    }
   ],
   "source": [
    "print('Calidad Umbro: ', umbro_quality.blob_scores.mean())"
   ]
  },
  {
   "cell_type": "markdown",
   "id": "d6245fdb",
   "metadata": {},
   "source": [
    "**Resultados Puma:**"
   ]
  },
  {
   "cell_type": "code",
   "execution_count": 41,
   "id": "34c9bcae",
   "metadata": {},
   "outputs": [],
   "source": [
    "puma_price = brands_tweets[(brands_tweets['brand'] == 'puma') & (brands_tweets['brand_attribute'] == 'price') & (brands_tweets['blob_scores'] != 0.000)]"
   ]
  },
  {
   "cell_type": "code",
   "execution_count": 42,
   "id": "b6cc7ef3",
   "metadata": {},
   "outputs": [
    {
     "name": "stdout",
     "output_type": "stream",
     "text": [
      "Precio Puma:  0.17975266982289456\n"
     ]
    }
   ],
   "source": [
    "print('Precio Puma: ', puma_price.blob_scores.mean())"
   ]
  },
  {
   "cell_type": "code",
   "execution_count": 43,
   "id": "1970e8b9",
   "metadata": {},
   "outputs": [],
   "source": [
    "puma_quality = brands_tweets[(brands_tweets['brand'] == 'puma') & (brands_tweets['brand_attribute'] == 'quality') & (brands_tweets['blob_scores'] != 0.000)]"
   ]
  },
  {
   "cell_type": "code",
   "execution_count": 44,
   "id": "b60ee043",
   "metadata": {
    "scrolled": false
   },
   "outputs": [
    {
     "name": "stdout",
     "output_type": "stream",
     "text": [
      "Calidad Puma:  0.23911617268566362\n"
     ]
    }
   ],
   "source": [
    "print('Calidad Puma: ', puma_quality.blob_scores.mean())"
   ]
  },
  {
   "cell_type": "markdown",
   "id": "280ec256",
   "metadata": {},
   "source": [
    "### Visualización de Resultados."
   ]
  },
  {
   "cell_type": "markdown",
   "id": "d22490b9",
   "metadata": {},
   "source": [
    "\n",
    "**Creamos la tabla a partir de la cual generamos el gráfico (preparamos los datos).**"
   ]
  },
  {
   "cell_type": "code",
   "execution_count": 45,
   "id": "fe6ce72c",
   "metadata": {},
   "outputs": [],
   "source": [
    "sport_brands = [\n",
    "    \n",
    "{'brand':'Nike', 'price_score': 1-nike_price.blob_scores.mean(), 'quality_score': nike_quality.blob_scores.mean()},\n",
    "{'brand':'Adidas', 'price_score': 1-adidas_price.blob_scores.mean(), 'quality_score': adidas_quality.blob_scores.mean()},\n",
    "{'brand':'Asics', 'price_score': 1-asics_price.blob_scores.mean(), 'quality_score': asics_quality.blob_scores.mean()},\n",
    "{'brand':'Reebok', 'price_score': 1-reebok_price.blob_scores.mean(), 'quality_score': reebok_quality.blob_scores.mean()},\n",
    "{'brand':'Skechers', 'price_score': 1-skechers_price.blob_scores.mean(), 'quality_score': skechers_quality.blob_scores.mean()},\n",
    "{'brand':'Under Armour', 'price_score': 1-under_armour_price.blob_scores.mean(), 'quality_score': under_armour_quality.blob_scores.mean()},\n",
    "{'brand':'Umbro', 'price_score': 1-umbro_price.blob_scores.mean(), 'quality_score': umbro_quality.blob_scores.mean()},\n",
    "{'brand':'Puma', 'price_score': 1-puma_price.blob_scores.mean(), 'quality_score': puma_quality.blob_scores.mean()}\n",
    "]"
   ]
  },
  {
   "cell_type": "code",
   "execution_count": 46,
   "id": "ddcef5f7",
   "metadata": {},
   "outputs": [
    {
     "data": {
      "text/html": [
       "<div>\n",
       "<style scoped>\n",
       "    .dataframe tbody tr th:only-of-type {\n",
       "        vertical-align: middle;\n",
       "    }\n",
       "\n",
       "    .dataframe tbody tr th {\n",
       "        vertical-align: top;\n",
       "    }\n",
       "\n",
       "    .dataframe thead th {\n",
       "        text-align: right;\n",
       "    }\n",
       "</style>\n",
       "<table border=\"1\" class=\"dataframe\">\n",
       "  <thead>\n",
       "    <tr style=\"text-align: right;\">\n",
       "      <th></th>\n",
       "      <th>brand</th>\n",
       "      <th>price_score</th>\n",
       "      <th>quality_score</th>\n",
       "    </tr>\n",
       "  </thead>\n",
       "  <tbody>\n",
       "    <tr>\n",
       "      <th>0</th>\n",
       "      <td>Nike</td>\n",
       "      <td>0.890063</td>\n",
       "      <td>0.204892</td>\n",
       "    </tr>\n",
       "    <tr>\n",
       "      <th>1</th>\n",
       "      <td>Adidas</td>\n",
       "      <td>0.888797</td>\n",
       "      <td>0.204606</td>\n",
       "    </tr>\n",
       "    <tr>\n",
       "      <th>2</th>\n",
       "      <td>Asics</td>\n",
       "      <td>0.896024</td>\n",
       "      <td>0.230397</td>\n",
       "    </tr>\n",
       "    <tr>\n",
       "      <th>3</th>\n",
       "      <td>Reebok</td>\n",
       "      <td>0.834249</td>\n",
       "      <td>0.261085</td>\n",
       "    </tr>\n",
       "    <tr>\n",
       "      <th>4</th>\n",
       "      <td>Skechers</td>\n",
       "      <td>0.795543</td>\n",
       "      <td>0.271938</td>\n",
       "    </tr>\n",
       "    <tr>\n",
       "      <th>5</th>\n",
       "      <td>Under Armour</td>\n",
       "      <td>0.885695</td>\n",
       "      <td>0.083161</td>\n",
       "    </tr>\n",
       "    <tr>\n",
       "      <th>6</th>\n",
       "      <td>Umbro</td>\n",
       "      <td>0.789648</td>\n",
       "      <td>0.221850</td>\n",
       "    </tr>\n",
       "    <tr>\n",
       "      <th>7</th>\n",
       "      <td>Puma</td>\n",
       "      <td>0.820247</td>\n",
       "      <td>0.239116</td>\n",
       "    </tr>\n",
       "  </tbody>\n",
       "</table>\n",
       "</div>"
      ],
      "text/plain": [
       "          brand  price_score  quality_score\n",
       "0          Nike     0.890063       0.204892\n",
       "1        Adidas     0.888797       0.204606\n",
       "2         Asics     0.896024       0.230397\n",
       "3        Reebok     0.834249       0.261085\n",
       "4      Skechers     0.795543       0.271938\n",
       "5  Under Armour     0.885695       0.083161\n",
       "6         Umbro     0.789648       0.221850\n",
       "7          Puma     0.820247       0.239116"
      ]
     },
     "execution_count": 46,
     "metadata": {},
     "output_type": "execute_result"
    }
   ],
   "source": [
    "sport_brands_df = pd.DataFrame(sport_brands)\n",
    "\n",
    "sport_brands_df"
   ]
  },
  {
   "cell_type": "code",
   "execution_count": 47,
   "id": "0c0e539d",
   "metadata": {},
   "outputs": [
    {
     "data": {
      "image/png": "[encoded data removed]",
      "text/plain": [
       "<Figure size 864x432 with 1 Axes>"
      ]
     },
     "metadata": {},
     "output_type": "display_data"
    }
   ],
   "source": [
    "import seaborn as sns\n",
    "\n",
    "# Matplotlib inline para visualizar los gráficos de Matplotlib\n",
    "%matplotlib inline\n",
    "%config Inlinebackend.figure_format= 'retina'\n",
    "\n",
    "\n",
    "# Configuración para setear y que todas las fig de Seaborn salgan por defecto con este tamaño\n",
    "# Se puede especificar el tamaño de cada figura\n",
    "sns.set_context(\"poster\")\n",
    "sns.set(rc={\"figure.figsize\": (12.,6.)})\n",
    "sns.set_style(\"whitegrid\")\n",
    "\n",
    "sns.scatterplot(x=\"price_score\", y=\"quality_score\", hue=\"brand\", data=sport_brands_df);"
   ]
  },
  {
   "cell_type": "code",
   "execution_count": 48,
   "id": "5e1f718a",
   "metadata": {
    "scrolled": true
   },
   "outputs": [
    {
     "ename": "NameError",
     "evalue": "name 'car_brands_df' is not defined",
     "output_type": "error",
     "traceback": [
      "\u001b[0;31m---------------------------------------------------------------------------\u001b[0m",
      "\u001b[0;31mNameError\u001b[0m                                 Traceback (most recent call last)",
      "\u001b[0;32m<ipython-input-48-292e42796696>\u001b[0m in \u001b[0;36m<module>\u001b[0;34m\u001b[0m\n\u001b[1;32m      1\u001b[0m \u001b[0;32mimport\u001b[0m \u001b[0mplotly\u001b[0m\u001b[0;34m.\u001b[0m\u001b[0mexpress\u001b[0m \u001b[0;32mas\u001b[0m \u001b[0mpx\u001b[0m\u001b[0;34m\u001b[0m\u001b[0;34m\u001b[0m\u001b[0m\n\u001b[0;32m----> 2\u001b[0;31m \u001b[0mfig\u001b[0m \u001b[0;34m=\u001b[0m \u001b[0mpx\u001b[0m\u001b[0;34m.\u001b[0m\u001b[0mscatter\u001b[0m\u001b[0;34m(\u001b[0m\u001b[0my\u001b[0m\u001b[0;34m=\u001b[0m\u001b[0mcar_brands_df\u001b[0m\u001b[0;34m[\u001b[0m\u001b[0;34m'price_score'\u001b[0m\u001b[0;34m]\u001b[0m\u001b[0;34m,\u001b[0m \u001b[0mx\u001b[0m\u001b[0;34m=\u001b[0m\u001b[0mcar_brands_df\u001b[0m\u001b[0;34m[\u001b[0m\u001b[0;34m\"quality_score\"\u001b[0m\u001b[0;34m]\u001b[0m\u001b[0;34m,\u001b[0m \u001b[0mcolor\u001b[0m\u001b[0;34m=\u001b[0m\u001b[0msport_brands_df\u001b[0m\u001b[0;34m.\u001b[0m\u001b[0mbrand\u001b[0m\u001b[0;34m)\u001b[0m\u001b[0;34m\u001b[0m\u001b[0;34m\u001b[0m\u001b[0m\n\u001b[0m\u001b[1;32m      3\u001b[0m \u001b[0mfig\u001b[0m\u001b[0;34m.\u001b[0m\u001b[0mshow\u001b[0m\u001b[0;34m(\u001b[0m\u001b[0;34m)\u001b[0m\u001b[0;34m\u001b[0m\u001b[0;34m\u001b[0m\u001b[0m\n",
      "\u001b[0;31mNameError\u001b[0m: name 'car_brands_df' is not defined"
     ]
    }
   ],
   "source": [
    "import plotly.express as px\n",
    "fig = px.scatter(y=car_brands_df['price_score'], x=car_brands_df[\"quality_score\"], color=sport_brands_df.brand)\n",
    "fig.show()"
   ]
  },
  {
   "cell_type": "markdown",
   "id": "baec13d2",
   "metadata": {},
   "source": [
    "## VADER Scores"
   ]
  },
  {
   "cell_type": "markdown",
   "id": "f78596a9",
   "metadata": {},
   "source": [
    "Nos centraremos en el 'compound score' ya que es el que nos aporta una visión global del análisis del sentimiento de cada tweet.\n",
    "\n",
    "Para simplificar el proceso, generamos una nueva columna del DataFrame que recoja este score para cada tweet."
   ]
  },
  {
   "cell_type": "code",
   "execution_count": null,
   "id": "3d61a9f3",
   "metadata": {},
   "outputs": [],
   "source": [
    "brands_tweets.head()"
   ]
  },
  {
   "cell_type": "code",
   "execution_count": null,
   "id": "831f93b5",
   "metadata": {},
   "outputs": [],
   "source": [
    "brands_tweets['compound_vader_score']  = brands_tweets['vader_scores'].apply(lambda score_dict: score_dict['compound'])"
   ]
  },
  {
   "cell_type": "code",
   "execution_count": null,
   "id": "aa4193d8",
   "metadata": {},
   "outputs": [],
   "source": [
    "brands_tweets.head()"
   ]
  },
  {
   "cell_type": "code",
   "execution_count": null,
   "id": "8b8ec69b",
   "metadata": {},
   "outputs": [],
   "source": [
    "brands_tweets.blob_scores.mean()"
   ]
  },
  {
   "cell_type": "markdown",
   "id": "895c4c57",
   "metadata": {},
   "source": [
    "**Resultados Nike:**"
   ]
  },
  {
   "cell_type": "code",
   "execution_count": null,
   "id": "a0c82208",
   "metadata": {},
   "outputs": [],
   "source": [
    "vader_nike_price = brands_tweets[(brands_tweets['brand'] == 'nike') & (brands_tweets['brand_attribute'] == 'price') & (brands_tweets['compound_vader_score'] != 0.000)]"
   ]
  },
  {
   "cell_type": "code",
   "execution_count": null,
   "id": "b84df5b3",
   "metadata": {},
   "outputs": [],
   "source": [
    "print('Precio Nike: ', vader_nike_price.compound_vader_score.mean())"
   ]
  },
  {
   "cell_type": "code",
   "execution_count": null,
   "id": "1f05fe5a",
   "metadata": {},
   "outputs": [],
   "source": [
    "vader_nike_quality = brands_tweets[(brands_tweets['brand'] == 'nike') & (brands_tweets['brand_attribute'] == 'quality') & (brands_tweets['compound_vader_score'] != 0.000)]"
   ]
  },
  {
   "cell_type": "code",
   "execution_count": null,
   "id": "bcb97dde",
   "metadata": {},
   "outputs": [],
   "source": [
    "print('Calidad Nike: ', vader_nike_quality.compound_vader_score.mean())"
   ]
  },
  {
   "cell_type": "markdown",
   "id": "a31aee2d",
   "metadata": {},
   "source": [
    "**Resultados Adidas:**"
   ]
  },
  {
   "cell_type": "code",
   "execution_count": null,
   "id": "d4315f16",
   "metadata": {},
   "outputs": [],
   "source": [
    "vader_adidas_price = brands_tweets[(brands_tweets['brand'] == 'adidas') & (brands_tweets['brand_attribute'] == 'price') & (brands_tweets['compound_vader_score'] != 0.000)]"
   ]
  },
  {
   "cell_type": "code",
   "execution_count": null,
   "id": "a3a2aac7",
   "metadata": {},
   "outputs": [],
   "source": [
    "print('Precio Adidas: ', vader_adidas_price.compound_vader_score.mean())"
   ]
  },
  {
   "cell_type": "code",
   "execution_count": null,
   "id": "a4cfeae3",
   "metadata": {},
   "outputs": [],
   "source": [
    "vader_adidas_quality = brands_tweets[(brands_tweets['brand'] == 'adidas') & (brands_tweets['brand_attribute'] == 'quality') & (brands_tweets['compound_vader_score'] != 0.000)]"
   ]
  },
  {
   "cell_type": "code",
   "execution_count": null,
   "id": "f89fcf5d",
   "metadata": {},
   "outputs": [],
   "source": [
    "print('Calidad Adidas: ', vader_adidas_quality.compound_vader_score.mean())"
   ]
  },
  {
   "cell_type": "markdown",
   "id": "280b0a21",
   "metadata": {},
   "source": [
    "**Resultados Asics:**"
   ]
  },
  {
   "cell_type": "code",
   "execution_count": null,
   "id": "667a0244",
   "metadata": {},
   "outputs": [],
   "source": [
    "vader_asics_price = brands_tweets[(brands_tweets['brand'] == 'asics') & (brands_tweets['brand_attribute'] == 'price') & (brands_tweets['compound_vader_score'] != 0.000)]"
   ]
  },
  {
   "cell_type": "code",
   "execution_count": null,
   "id": "6aa560ab",
   "metadata": {},
   "outputs": [],
   "source": [
    "print('Precio Asics: ', vader_asics_price.compound_vader_score.mean())"
   ]
  },
  {
   "cell_type": "code",
   "execution_count": null,
   "id": "b085bfac",
   "metadata": {},
   "outputs": [],
   "source": [
    "vader_asics_quality = brands_tweets[(brands_tweets['brand'] == 'asics') & (brands_tweets['brand_attribute'] == 'quality') & (brands_tweets['compound_vader_score'] != 0.000)]"
   ]
  },
  {
   "cell_type": "code",
   "execution_count": null,
   "id": "c9ace84a",
   "metadata": {},
   "outputs": [],
   "source": [
    "print('Calidad Asics: ', vader_asics_quality.compound_vader_score.mean())"
   ]
  },
  {
   "cell_type": "markdown",
   "id": "d34c8dda",
   "metadata": {},
   "source": [
    "**Resultados Reebok:**"
   ]
  },
  {
   "cell_type": "code",
   "execution_count": null,
   "id": "bf57872d",
   "metadata": {},
   "outputs": [],
   "source": [
    "vader_reebok_price = brands_tweets[(brands_tweets['brand'] == 'reebok') & (brands_tweets['brand_attribute'] == 'price') & (brands_tweets['compound_vader_score'] != 0.000)]"
   ]
  },
  {
   "cell_type": "code",
   "execution_count": null,
   "id": "4c8f679d",
   "metadata": {},
   "outputs": [],
   "source": [
    "print('Precio Reebok: ', vader_reebok_price.compound_vader_score.mean())"
   ]
  },
  {
   "cell_type": "code",
   "execution_count": null,
   "id": "fee173b5",
   "metadata": {},
   "outputs": [],
   "source": [
    "vader_reebok_quality = brands_tweets[(brands_tweets['brand'] == 'reebok') & (brands_tweets['brand_attribute'] == 'quality') & (brands_tweets['compound_vader_score'] != 0.000)]"
   ]
  },
  {
   "cell_type": "code",
   "execution_count": null,
   "id": "ceb6b44a",
   "metadata": {
    "scrolled": false
   },
   "outputs": [],
   "source": [
    "print('Calidad Reebok: ', vader_reebok_quality.compound_vader_score.mean())"
   ]
  },
  {
   "cell_type": "markdown",
   "id": "515b6ae3",
   "metadata": {},
   "source": [
    "**Resultados Skechers:**"
   ]
  },
  {
   "cell_type": "code",
   "execution_count": null,
   "id": "b015d299",
   "metadata": {},
   "outputs": [],
   "source": [
    "vader_skechers_price = brands_tweets[(brands_tweets['brand'] == 'skechers') & (brands_tweets['brand_attribute'] == 'price') & (brands_tweets['compound_vader_score'] != 0.000)]"
   ]
  },
  {
   "cell_type": "code",
   "execution_count": null,
   "id": "129e07ef",
   "metadata": {},
   "outputs": [],
   "source": [
    "print('Precio Skechers: ', vader_skechers_price.compound_vader_score.mean())"
   ]
  },
  {
   "cell_type": "code",
   "execution_count": null,
   "id": "fa6d6516",
   "metadata": {},
   "outputs": [],
   "source": [
    "vader_skechers_quality = brands_tweets[(brands_tweets['brand'] == 'skechers') & (brands_tweets['brand_attribute'] == 'quality') & (brands_tweets['compound_vader_score'] != 0.000)]"
   ]
  },
  {
   "cell_type": "code",
   "execution_count": null,
   "id": "606ea73d",
   "metadata": {
    "scrolled": false
   },
   "outputs": [],
   "source": [
    "print('Calidad Skechers: ', vader_skechers_quality.compound_vader_score.mean())"
   ]
  },
  {
   "cell_type": "markdown",
   "id": "36f30e9e",
   "metadata": {},
   "source": [
    "**Resultados Under Armour:**"
   ]
  },
  {
   "cell_type": "code",
   "execution_count": null,
   "id": "f8ccf154",
   "metadata": {},
   "outputs": [],
   "source": [
    "vader_under_armour_price = brands_tweets[(brands_tweets['brand'] == 'under armour') & (brands_tweets['brand_attribute'] == 'price') & (brands_tweets['compound_vader_score'] != 0.000)]"
   ]
  },
  {
   "cell_type": "code",
   "execution_count": null,
   "id": "df4213f7",
   "metadata": {},
   "outputs": [],
   "source": [
    "print('Precio Under Armour: ', vader_under_armour_price.compound_vader_score.mean())"
   ]
  },
  {
   "cell_type": "code",
   "execution_count": null,
   "id": "6676e1e4",
   "metadata": {},
   "outputs": [],
   "source": [
    "vader_under_armour_quality = brands_tweets[(brands_tweets['brand'] == 'under armour') & (brands_tweets['brand_attribute'] == 'quality') & (brands_tweets['compound_vader_score'] != 0.000)]"
   ]
  },
  {
   "cell_type": "code",
   "execution_count": null,
   "id": "8ef7da62",
   "metadata": {
    "scrolled": true
   },
   "outputs": [],
   "source": [
    "print('Calidad Under Armour: ', vader_under_armour_quality.compound_vader_score.mean())"
   ]
  },
  {
   "cell_type": "markdown",
   "id": "b308edf1",
   "metadata": {},
   "source": [
    "**Resultados Umbro:**"
   ]
  },
  {
   "cell_type": "code",
   "execution_count": null,
   "id": "efeaf90d",
   "metadata": {},
   "outputs": [],
   "source": [
    "vader_umbro_price = brands_tweets[(brands_tweets['brand'] == 'umbro') & (brands_tweets['brand_attribute'] == 'price') & (brands_tweets['compound_vader_score'] != 0.000)]"
   ]
  },
  {
   "cell_type": "code",
   "execution_count": null,
   "id": "e08edc49",
   "metadata": {},
   "outputs": [],
   "source": [
    "print('Precio Umbro: ', vader_umbro_price.compound_vader_score.mean())"
   ]
  },
  {
   "cell_type": "code",
   "execution_count": null,
   "id": "1f4529bb",
   "metadata": {},
   "outputs": [],
   "source": [
    "vader_umbro_quality = brands_tweets[(brands_tweets['brand'] == 'umbro') & (brands_tweets['brand_attribute'] == 'quality') & (brands_tweets['compound_vader_score'] != 0.000)]"
   ]
  },
  {
   "cell_type": "code",
   "execution_count": null,
   "id": "885a3735",
   "metadata": {
    "scrolled": true
   },
   "outputs": [],
   "source": [
    "print('Calidad Umbro: ', vader_umbro_quality.compound_vader_score.mean())"
   ]
  },
  {
   "cell_type": "markdown",
   "id": "13b1a01b",
   "metadata": {},
   "source": [
    "**Resultados Puma:**"
   ]
  },
  {
   "cell_type": "code",
   "execution_count": null,
   "id": "efea17b2",
   "metadata": {},
   "outputs": [],
   "source": [
    "vader_puma_price = brands_tweets[(brands_tweets['brand'] == 'puma') & (brands_tweets['brand_attribute'] == 'price') & (brands_tweets['compound_vader_score'] != 0.000)]"
   ]
  },
  {
   "cell_type": "code",
   "execution_count": null,
   "id": "5a49e092",
   "metadata": {},
   "outputs": [],
   "source": [
    "print('Precio Puma: ', vader_puma_price.compound_vader_score.mean())"
   ]
  },
  {
   "cell_type": "code",
   "execution_count": null,
   "id": "3a4c3d13",
   "metadata": {},
   "outputs": [],
   "source": [
    "vader_puma_quality = brands_tweets[(brands_tweets['brand'] == 'puma') & (brands_tweets['brand_attribute'] == 'quality') & (brands_tweets['compound_vader_score'] != 0.000)]"
   ]
  },
  {
   "cell_type": "code",
   "execution_count": null,
   "id": "b5238fcd",
   "metadata": {
    "scrolled": true
   },
   "outputs": [],
   "source": [
    "print('Calidad Puma: ', vader_puma_quality.compound_vader_score.mean())"
   ]
  },
  {
   "cell_type": "markdown",
   "id": "6990da66",
   "metadata": {},
   "source": [
    "### Visualización de Resultados."
   ]
  },
  {
   "cell_type": "markdown",
   "id": "21baee6f",
   "metadata": {},
   "source": [
    "\n",
    "**Creamos la tabla a partir de la cual generamos el gráfico (preparamos los datos).**"
   ]
  },
  {
   "cell_type": "code",
   "execution_count": null,
   "id": "2b0ba414",
   "metadata": {},
   "outputs": [],
   "source": [
    "sport_brands_vader = [\n",
    "    \n",
    "{'brand':'Nike', 'price_score': 1-vader_nike_price.compound_vader_score.mean(), 'quality_score': vader_nike_quality.compound_vader_score.mean()},\n",
    "{'brand':'Adidas', 'price_score': 1-vader_adidas_price.compound_vader_score.mean(), 'quality_score': vader_adidas_quality.compound_vader_score.mean()},\n",
    "{'brand':'Asics', 'price_score': 1-vader_asics_price.compound_vader_score.mean(), 'quality_score': vader_asics_quality.compound_vader_score.mean()},\n",
    "{'brand':'Reebok', 'price_score': 1-vader_reebok_price.compound_vader_score.mean(), 'quality_score': vader_reebok_quality.compound_vader_score.mean()},\n",
    "{'brand':'Skechers', 'price_score': 1-vader_skechers_price.compound_vader_score.mean(), 'quality_score': vader_skechers_quality.compound_vader_score.mean()},\n",
    "{'brand':'Under Armour', 'price_score': 1-vader_under_armour_price.compound_vader_score.mean(), 'quality_score': vader_under_armour_quality.compound_vader_score.mean()},\n",
    "{'brand':'Umbro', 'price_score': 1-vader_umbro_price.compound_vader_score.mean(), 'quality_score': vader_umbro_quality.compound_vader_score.mean()},\n",
    "{'brand':'Puma', 'price_score': 1-vader_puma_price.compound_vader_score.mean(), 'quality_score': vader_puma_quality.compound_vader_score.mean()}\n",
    "]"
   ]
  },
  {
   "cell_type": "code",
   "execution_count": null,
   "id": "9b962e3d",
   "metadata": {},
   "outputs": [],
   "source": [
    "sport_brands_vader_df = pd.DataFrame(sport_brands_vader)\n",
    "\n",
    "sport_brands_vader_df"
   ]
  },
  {
   "cell_type": "code",
   "execution_count": null,
   "id": "7529d036",
   "metadata": {},
   "outputs": [],
   "source": [
    "import seaborn as sns\n",
    "\n",
    "# Matplotlib inline para visualizar los gráficos de Matplotlib\n",
    "%matplotlib inline\n",
    "%config Inlinebackend.figure_format= 'retina'\n",
    "\n",
    "\n",
    "# Configuración para setear y que todas las fig de Seaborn salgan por defecto con este tamaño\n",
    "# Se puede especificar el tamaño de cada figura\n",
    "sns.set_context(\"poster\")\n",
    "sns.set(rc={\"figure.figsize\": (12.,6.)})\n",
    "sns.set_style(\"whitegrid\")\n",
    "\n",
    "sns.scatterplot(x=\"price_score\", y=\"quality_score\", hue=\"brand\", data=sport_brands_vader_df);"
   ]
  },
  {
   "cell_type": "code",
   "execution_count": null,
   "id": "a747cb60",
   "metadata": {
    "scrolled": false
   },
   "outputs": [],
   "source": [
    "import plotly.express as px\n",
    "fig = px.scatter(sport_brands_vader_df, y='price_score', x=\"quality_score\",\n",
    "                 color='brand',\n",
    "                 labels={\n",
    "                     \"price_score\": \"Percepción del Precio\",\n",
    "                     \"quality_score\": \"Calidad Percibida\",\n",
    "                     \"brand\": \"Marcas:\"})\n",
    "fig.update_layout(font=dict(size=20), yaxis_showticklabels=False, xaxis_showticklabels=False)\n",
    "\n",
    "#legend_title_font_color=\"RebeccaPurple\")\n",
    "\n",
    "fig.show()\n",
    "\n",
    "fig.write_image(\"graphs/sports_equipment.png\")"
   ]
  },
  {
   "cell_type": "code",
   "execution_count": null,
   "id": "08444eef",
   "metadata": {},
   "outputs": [],
   "source": []
  }
 ],
 "metadata": {
  "kernelspec": {
   "display_name": "ironhack",
   "language": "python",
   "name": "myenv"
  },
  "language_info": {
   "codemirror_mode": {
    "name": "ipython",
    "version": 3
   },
   "file_extension": ".py",
   "mimetype": "text/x-python",
   "name": "python",
   "nbconvert_exporter": "python",
   "pygments_lexer": "ipython3",
   "version": "3.8.5"
  }
 },
 "nbformat": 4,
 "nbformat_minor": 5
}
