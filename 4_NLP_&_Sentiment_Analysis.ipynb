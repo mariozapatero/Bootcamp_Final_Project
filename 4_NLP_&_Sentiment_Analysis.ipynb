{
 "cells": [
  {
   "cell_type": "markdown",
   "id": "71e66d16",
   "metadata": {},
   "source": [
    "# NLP & Sentiment Analysis."
   ]
  },
  {
   "cell_type": "markdown",
   "id": "26a256b1",
   "metadata": {},
   "source": [
    "En esta etapa del proyecto manejaremos diferentes modelos pre-entrenados (librerías) y trataremos de evaluar cuál es el que nos ofrece mejores resultados.\n",
    "\n",
    "Evidentemente, sería conveniente desarrollar un modelo propio ad-hoc según las necesidades particulares del proyecto, lo cual probablemente nos permita alcanzar resultados más precisos. Sin embargo, no debemos olvidar que por el momento pretendemos construir las bases del proyecto y obtener un mínimo producto viable que demuestre su potencial. Disponemos de muy poco tiempo como para desarrollar y entrenar nuestro propio modelo y es por eso que se opta por la utilización de modelos pre-entrenados de NLP a la hora de analizar el sentimiento de los tweets y, por tanto, la percepción del usuario respecto de las marcas.\n",
    "\n",
    "Los análisis de sentimiento se ejecutarán a través de funciones previamente definidas en *' src / nlp_functions.py '*."
   ]
  },
  {
   "cell_type": "code",
   "execution_count": 1,
   "id": "e4328db6",
   "metadata": {},
   "outputs": [],
   "source": [
    "from src.nlp_functions import *\n",
    "\n",
    "import pandas as pd"
   ]
  },
  {
   "cell_type": "code",
   "execution_count": 2,
   "id": "50d5b253",
   "metadata": {},
   "outputs": [],
   "source": [
    "brands_tweets = pd.read_pickle('data/brands_tokens.pkl')"
   ]
  },
  {
   "cell_type": "code",
   "execution_count": 3,
   "id": "8fe511b4",
   "metadata": {},
   "outputs": [
    {
     "data": {
      "text/html": [
       "<div>\n",
       "<style scoped>\n",
       "    .dataframe tbody tr th:only-of-type {\n",
       "        vertical-align: middle;\n",
       "    }\n",
       "\n",
       "    .dataframe tbody tr th {\n",
       "        vertical-align: top;\n",
       "    }\n",
       "\n",
       "    .dataframe thead th {\n",
       "        text-align: right;\n",
       "    }\n",
       "</style>\n",
       "<table border=\"1\" class=\"dataframe\">\n",
       "  <thead>\n",
       "    <tr style=\"text-align: right;\">\n",
       "      <th></th>\n",
       "      <th>text</th>\n",
       "      <th>hashtags</th>\n",
       "      <th>brand_attribute</th>\n",
       "      <th>brand</th>\n",
       "      <th>token</th>\n",
       "    </tr>\n",
       "  </thead>\n",
       "  <tbody>\n",
       "    <tr>\n",
       "      <th>0</th>\n",
       "      <td>nobody cares about nike in russia russia is al...</td>\n",
       "      <td>[]</td>\n",
       "      <td>quality</td>\n",
       "      <td>nike</td>\n",
       "      <td>[care, nike, russia, russia, adidas]</td>\n",
       "    </tr>\n",
       "    <tr>\n",
       "      <th>1</th>\n",
       "      <td>ye green nike hoodie waala two weeks pehle put...</td>\n",
       "      <td>[]</td>\n",
       "      <td>quality</td>\n",
       "      <td>nike</td>\n",
       "      <td>[ye, green, nike, hoodie, waala, week, pehle, ...</td>\n",
       "    </tr>\n",
       "    <tr>\n",
       "      <th>2</th>\n",
       "      <td>nike okundaye also knowns nike twins seven sev...</td>\n",
       "      <td>[#womengiant, #Documentwomen]</td>\n",
       "      <td>quality</td>\n",
       "      <td>nike</td>\n",
       "      <td>[nike, okundaye, knowns, nike, twin, seven, se...</td>\n",
       "    </tr>\n",
       "    <tr>\n",
       "      <th>3</th>\n",
       "      <td>day four of maxmadness air max month nike air ...</td>\n",
       "      <td>[#maxmadness, #AirMaxMonth, #airmaxgang, #kotd...</td>\n",
       "      <td>quality</td>\n",
       "      <td>nike</td>\n",
       "      <td>[day, maxmadness, air, max, month, nike, air, ...</td>\n",
       "    </tr>\n",
       "    <tr>\n",
       "      <th>4</th>\n",
       "      <td>thank you sir</td>\n",
       "      <td>[]</td>\n",
       "      <td>quality</td>\n",
       "      <td>nike</td>\n",
       "      <td>[thank, sir]</td>\n",
       "    </tr>\n",
       "  </tbody>\n",
       "</table>\n",
       "</div>"
      ],
      "text/plain": [
       "                                                text  \\\n",
       "0  nobody cares about nike in russia russia is al...   \n",
       "1  ye green nike hoodie waala two weeks pehle put...   \n",
       "2  nike okundaye also knowns nike twins seven sev...   \n",
       "3  day four of maxmadness air max month nike air ...   \n",
       "4                                      thank you sir   \n",
       "\n",
       "                                            hashtags brand_attribute brand  \\\n",
       "0                                                 []         quality  nike   \n",
       "1                                                 []         quality  nike   \n",
       "2                      [#womengiant, #Documentwomen]         quality  nike   \n",
       "3  [#maxmadness, #AirMaxMonth, #airmaxgang, #kotd...         quality  nike   \n",
       "4                                                 []         quality  nike   \n",
       "\n",
       "                                               token  \n",
       "0               [care, nike, russia, russia, adidas]  \n",
       "1  [ye, green, nike, hoodie, waala, week, pehle, ...  \n",
       "2  [nike, okundaye, knowns, nike, twin, seven, se...  \n",
       "3  [day, maxmadness, air, max, month, nike, air, ...  \n",
       "4                                       [thank, sir]  "
      ]
     },
     "execution_count": 3,
     "metadata": {},
     "output_type": "execute_result"
    }
   ],
   "source": [
    "brands_tweets.head()"
   ]
  },
  {
   "cell_type": "markdown",
   "id": "20909f44",
   "metadata": {},
   "source": [
    "### TextBlob (spaCy)"
   ]
  },
  {
   "cell_type": "code",
   "execution_count": 4,
   "id": "13f75507",
   "metadata": {},
   "outputs": [
    {
     "data": {
      "text/plain": [
       "'INTRO!!!'"
      ]
     },
     "execution_count": 4,
     "metadata": {},
     "output_type": "execute_result"
    }
   ],
   "source": [
    "'''INTRO!!!'''\n",
    "\n",
    "# Esplicación breve.\n",
    "\n",
    "# Catarse bien de cómo funciona.\n",
    "# Ojo instalaciones (lo he metido en todos laos).\n"
   ]
  },
  {
   "cell_type": "code",
   "execution_count": 5,
   "id": "8282a488",
   "metadata": {},
   "outputs": [],
   "source": [
    "brands_tweets['blob_scores'] = brands_tweets.token.apply(blob_scoring)"
   ]
  },
  {
   "cell_type": "code",
   "execution_count": 6,
   "id": "1ee6ff3c",
   "metadata": {},
   "outputs": [
    {
     "data": {
      "text/html": [
       "<div>\n",
       "<style scoped>\n",
       "    .dataframe tbody tr th:only-of-type {\n",
       "        vertical-align: middle;\n",
       "    }\n",
       "\n",
       "    .dataframe tbody tr th {\n",
       "        vertical-align: top;\n",
       "    }\n",
       "\n",
       "    .dataframe thead th {\n",
       "        text-align: right;\n",
       "    }\n",
       "</style>\n",
       "<table border=\"1\" class=\"dataframe\">\n",
       "  <thead>\n",
       "    <tr style=\"text-align: right;\">\n",
       "      <th></th>\n",
       "      <th>text</th>\n",
       "      <th>hashtags</th>\n",
       "      <th>brand_attribute</th>\n",
       "      <th>brand</th>\n",
       "      <th>token</th>\n",
       "      <th>blob_scores</th>\n",
       "    </tr>\n",
       "  </thead>\n",
       "  <tbody>\n",
       "    <tr>\n",
       "      <th>20218</th>\n",
       "      <td>fantastic gents hope the day went well</td>\n",
       "      <td>[]</td>\n",
       "      <td>quality</td>\n",
       "      <td>adidas</td>\n",
       "      <td>[fantastic, gent, hope, day, went]</td>\n",
       "      <td>0.400000</td>\n",
       "    </tr>\n",
       "    <tr>\n",
       "      <th>18581</th>\n",
       "      <td>nike stops selling shoes online in russia beca...</td>\n",
       "      <td>[]</td>\n",
       "      <td>quality</td>\n",
       "      <td>adidas</td>\n",
       "      <td>[nike, stop, selling, shoe, online, russia, fi...</td>\n",
       "      <td>0.000000</td>\n",
       "    </tr>\n",
       "    <tr>\n",
       "      <th>14057</th>\n",
       "      <td>nike air jordan one low elevated bred dq one e...</td>\n",
       "      <td>[]</td>\n",
       "      <td>quality</td>\n",
       "      <td>adidas</td>\n",
       "      <td>[nike, air, jordan, low, elevated, bred, dq, z...</td>\n",
       "      <td>0.000000</td>\n",
       "    </tr>\n",
       "    <tr>\n",
       "      <th>7576</th>\n",
       "      <td>news flash we re not watching anymore that inc...</td>\n",
       "      <td>[]</td>\n",
       "      <td>quality</td>\n",
       "      <td>adidas</td>\n",
       "      <td>[news, flash, watching, anymore, includes, rem...</td>\n",
       "      <td>0.000000</td>\n",
       "    </tr>\n",
       "    <tr>\n",
       "      <th>18057</th>\n",
       "      <td>ad restock via nike us nike air force one mid ...</td>\n",
       "      <td>[]</td>\n",
       "      <td>price</td>\n",
       "      <td>nike</td>\n",
       "      <td>[ad, restock, nike, nike, air, force, mid, nyc...</td>\n",
       "      <td>0.200000</td>\n",
       "    </tr>\n",
       "    <tr>\n",
       "      <th>7171</th>\n",
       "      <td>i like them and would get them but they usuall...</td>\n",
       "      <td>[]</td>\n",
       "      <td>quality</td>\n",
       "      <td>adidas</td>\n",
       "      <td>[like, usually, size, wide, look, smaller, one]</td>\n",
       "      <td>-0.116667</td>\n",
       "    </tr>\n",
       "    <tr>\n",
       "      <th>15712</th>\n",
       "      <td>i got a nike air force one collab</td>\n",
       "      <td>[]</td>\n",
       "      <td>quality</td>\n",
       "      <td>nike</td>\n",
       "      <td>[got, nike, air, force, collab]</td>\n",
       "      <td>0.000000</td>\n",
       "    </tr>\n",
       "    <tr>\n",
       "      <th>13574</th>\n",
       "      <td>these are the vibez im trying to be on</td>\n",
       "      <td>[]</td>\n",
       "      <td>quality</td>\n",
       "      <td>adidas</td>\n",
       "      <td>[vibez, im, trying]</td>\n",
       "      <td>0.000000</td>\n",
       "    </tr>\n",
       "    <tr>\n",
       "      <th>13898</th>\n",
       "      <td>nike air jordan one four retro low shocking pi...</td>\n",
       "      <td>[]</td>\n",
       "      <td>quality</td>\n",
       "      <td>nike</td>\n",
       "      <td>[nike, air, jordan, retro, low, shocking, pink...</td>\n",
       "      <td>-0.366667</td>\n",
       "    </tr>\n",
       "    <tr>\n",
       "      <th>8544</th>\n",
       "      <td>how do i become nike shoes quick</td>\n",
       "      <td>[]</td>\n",
       "      <td>quality</td>\n",
       "      <td>adidas</td>\n",
       "      <td>[nike, shoe, quick]</td>\n",
       "      <td>0.333333</td>\n",
       "    </tr>\n",
       "  </tbody>\n",
       "</table>\n",
       "</div>"
      ],
      "text/plain": [
       "                                                    text hashtags  \\\n",
       "20218             fantastic gents hope the day went well       []   \n",
       "18581  nike stops selling shoes online in russia beca...       []   \n",
       "14057  nike air jordan one low elevated bred dq one e...       []   \n",
       "7576   news flash we re not watching anymore that inc...       []   \n",
       "18057  ad restock via nike us nike air force one mid ...       []   \n",
       "7171   i like them and would get them but they usuall...       []   \n",
       "15712                  i got a nike air force one collab       []   \n",
       "13574             these are the vibez im trying to be on       []   \n",
       "13898  nike air jordan one four retro low shocking pi...       []   \n",
       "8544                    how do i become nike shoes quick       []   \n",
       "\n",
       "      brand_attribute   brand  \\\n",
       "20218         quality  adidas   \n",
       "18581         quality  adidas   \n",
       "14057         quality  adidas   \n",
       "7576          quality  adidas   \n",
       "18057           price    nike   \n",
       "7171          quality  adidas   \n",
       "15712         quality    nike   \n",
       "13574         quality  adidas   \n",
       "13898         quality    nike   \n",
       "8544          quality  adidas   \n",
       "\n",
       "                                                   token  blob_scores  \n",
       "20218                 [fantastic, gent, hope, day, went]     0.400000  \n",
       "18581  [nike, stop, selling, shoe, online, russia, fi...     0.000000  \n",
       "14057  [nike, air, jordan, low, elevated, bred, dq, z...     0.000000  \n",
       "7576   [news, flash, watching, anymore, includes, rem...     0.000000  \n",
       "18057  [ad, restock, nike, nike, air, force, mid, nyc...     0.200000  \n",
       "7171     [like, usually, size, wide, look, smaller, one]    -0.116667  \n",
       "15712                    [got, nike, air, force, collab]     0.000000  \n",
       "13574                                [vibez, im, trying]     0.000000  \n",
       "13898  [nike, air, jordan, retro, low, shocking, pink...    -0.366667  \n",
       "8544                                 [nike, shoe, quick]     0.333333  "
      ]
     },
     "execution_count": 6,
     "metadata": {},
     "output_type": "execute_result"
    }
   ],
   "source": [
    "brands_tweets.sample(10)"
   ]
  },
  {
   "cell_type": "markdown",
   "id": "618dd769",
   "metadata": {},
   "source": [
    "### VADER."
   ]
  },
  {
   "cell_type": "markdown",
   "id": "95c53b40",
   "metadata": {},
   "source": [
    "VADER (Valence Aware Dictionary and sEntiment Reasoner) es una librería utilizada para el análisis del sentimiento que se enfoca en los textos de social media. Así, pone énfases en las rules que captan la esencia del texto que normalmente se ve en las redes sociales. Algo interesante de VADER es que está pensado para poder actuar sobre texto sobre el que se ha hecho un limpieza muy básica (conservando emojis, signos de exclamación, etc.). Nosotros lo probaremos sobre los datos ya limpios ya que confiamos en que ofrecerán un mejor resultado (aunque no se presenta el proceso, se ha probado con los datos originales en bruto, pero no consique analizar los sentimientos correctamente y la gran mayoría de scores para negatividad, neutralidad y positivadad son 0). No obstante, lo ideal sería evaluar la precisión del análisis sobre tweets con diferentes niveles de limpieza (desde el más básico, al más detallista) y comparar los modelos para identificar el que ofrece un mayor rendimiento (incluyendo también los análisis desarrollados mediante otros modelos diferentes a VADER)."
   ]
  },
  {
   "cell_type": "markdown",
   "id": "36942395",
   "metadata": {},
   "source": [
    "https://towardsdatascience.com/fine-grained-sentiment-analysis-in-python-part-1-2697bb111ed4"
   ]
  },
  {
   "cell_type": "code",
   "execution_count": 7,
   "id": "fe7735e5",
   "metadata": {},
   "outputs": [],
   "source": [
    "brands_tweets['vader_scores'] = brands_tweets.token.apply(vader_scoring)"
   ]
  },
  {
   "cell_type": "code",
   "execution_count": 8,
   "id": "02146fba",
   "metadata": {
    "scrolled": false
   },
   "outputs": [
    {
     "data": {
      "text/html": [
       "<div>\n",
       "<style scoped>\n",
       "    .dataframe tbody tr th:only-of-type {\n",
       "        vertical-align: middle;\n",
       "    }\n",
       "\n",
       "    .dataframe tbody tr th {\n",
       "        vertical-align: top;\n",
       "    }\n",
       "\n",
       "    .dataframe thead th {\n",
       "        text-align: right;\n",
       "    }\n",
       "</style>\n",
       "<table border=\"1\" class=\"dataframe\">\n",
       "  <thead>\n",
       "    <tr style=\"text-align: right;\">\n",
       "      <th></th>\n",
       "      <th>text</th>\n",
       "      <th>hashtags</th>\n",
       "      <th>brand_attribute</th>\n",
       "      <th>brand</th>\n",
       "      <th>token</th>\n",
       "      <th>blob_scores</th>\n",
       "      <th>vader_scores</th>\n",
       "    </tr>\n",
       "  </thead>\n",
       "  <tbody>\n",
       "    <tr>\n",
       "      <th>9433</th>\n",
       "      <td>savings ad nike air jordan one retro high og b...</td>\n",
       "      <td>[]</td>\n",
       "      <td>quality</td>\n",
       "      <td>nike</td>\n",
       "      <td>[saving, ad, nike, air, jordan, retro, high, o...</td>\n",
       "      <td>0.160000</td>\n",
       "      <td>{'neg': 0.0, 'neu': 1.0, 'pos': 0.0, 'compound...</td>\n",
       "    </tr>\n",
       "    <tr>\n",
       "      <th>24503</th>\n",
       "      <td>yes i do b embarrassed when all my adidas sock...</td>\n",
       "      <td>[]</td>\n",
       "      <td>quality</td>\n",
       "      <td>nike</td>\n",
       "      <td>[yes, b, embarrassed, adidas, sock, dirty, wea...</td>\n",
       "      <td>-0.100000</td>\n",
       "      <td>{'neg': 0.29, 'neu': 0.43, 'pos': 0.28, 'compo...</td>\n",
       "    </tr>\n",
       "    <tr>\n",
       "      <th>25120</th>\n",
       "      <td>thanks</td>\n",
       "      <td>[]</td>\n",
       "      <td>quality</td>\n",
       "      <td>adidas</td>\n",
       "      <td>[thanks]</td>\n",
       "      <td>0.200000</td>\n",
       "      <td>{'neg': 0.0, 'neu': 0.0, 'pos': 1.0, 'compound...</td>\n",
       "    </tr>\n",
       "    <tr>\n",
       "      <th>16690</th>\n",
       "      <td>nike pulling all their products from foot lock...</td>\n",
       "      <td>[]</td>\n",
       "      <td>quality</td>\n",
       "      <td>nike</td>\n",
       "      <td>[nike, pulling, product, foot, locker, basical...</td>\n",
       "      <td>0.300000</td>\n",
       "      <td>{'neg': 0.207, 'neu': 0.632, 'pos': 0.161, 'co...</td>\n",
       "    </tr>\n",
       "    <tr>\n",
       "      <th>28526</th>\n",
       "      <td>sneaker scouts the nike blazer mid seven seven...</td>\n",
       "      <td>[#SneakerScouts, #ad]</td>\n",
       "      <td>price</td>\n",
       "      <td>nike</td>\n",
       "      <td>[sneaker, scout, nike, blazer, mid, seven, sev...</td>\n",
       "      <td>0.058333</td>\n",
       "      <td>{'neg': 0.0, 'neu': 1.0, 'pos': 0.0, 'compound...</td>\n",
       "    </tr>\n",
       "    <tr>\n",
       "      <th>9496</th>\n",
       "      <td>right like it s a white tank top with nike wri...</td>\n",
       "      <td>[]</td>\n",
       "      <td>quality</td>\n",
       "      <td>adidas</td>\n",
       "      <td>[right, like, white, tank, nike, written, thin...</td>\n",
       "      <td>0.142857</td>\n",
       "      <td>{'neg': 0.0, 'neu': 0.551, 'pos': 0.449, 'comp...</td>\n",
       "    </tr>\n",
       "    <tr>\n",
       "      <th>27993</th>\n",
       "      <td>all were in a game played with a nike basketba...</td>\n",
       "      <td>[]</td>\n",
       "      <td>quality</td>\n",
       "      <td>adidas</td>\n",
       "      <td>[game, played, nike, basketball, shame]</td>\n",
       "      <td>-0.400000</td>\n",
       "      <td>{'neg': 0.365, 'neu': 0.353, 'pos': 0.282, 'co...</td>\n",
       "    </tr>\n",
       "    <tr>\n",
       "      <th>15321</th>\n",
       "      <td>he don t know queen</td>\n",
       "      <td>[]</td>\n",
       "      <td>quality</td>\n",
       "      <td>nike</td>\n",
       "      <td>[know, queen]</td>\n",
       "      <td>0.000000</td>\n",
       "      <td>{'neg': 0.0, 'neu': 1.0, 'pos': 0.0, 'compound...</td>\n",
       "    </tr>\n",
       "    <tr>\n",
       "      <th>25204</th>\n",
       "      <td>are those boots sponsored by nike</td>\n",
       "      <td>[]</td>\n",
       "      <td>quality</td>\n",
       "      <td>adidas</td>\n",
       "      <td>[boot, sponsored, nike]</td>\n",
       "      <td>0.000000</td>\n",
       "      <td>{'neg': 0.0, 'neu': 1.0, 'pos': 0.0, 'compound...</td>\n",
       "    </tr>\n",
       "    <tr>\n",
       "      <th>25254</th>\n",
       "      <td>nike town mane</td>\n",
       "      <td>[]</td>\n",
       "      <td>quality</td>\n",
       "      <td>adidas</td>\n",
       "      <td>[nike, town, mane]</td>\n",
       "      <td>0.000000</td>\n",
       "      <td>{'neg': 0.0, 'neu': 1.0, 'pos': 0.0, 'compound...</td>\n",
       "    </tr>\n",
       "  </tbody>\n",
       "</table>\n",
       "</div>"
      ],
      "text/plain": [
       "                                                    text  \\\n",
       "9433   savings ad nike air jordan one retro high og b...   \n",
       "24503  yes i do b embarrassed when all my adidas sock...   \n",
       "25120                                             thanks   \n",
       "16690  nike pulling all their products from foot lock...   \n",
       "28526  sneaker scouts the nike blazer mid seven seven...   \n",
       "9496   right like it s a white tank top with nike wri...   \n",
       "27993  all were in a game played with a nike basketba...   \n",
       "15321                                he don t know queen   \n",
       "25204                  are those boots sponsored by nike   \n",
       "25254                                     nike town mane   \n",
       "\n",
       "                    hashtags brand_attribute   brand  \\\n",
       "9433                      []         quality    nike   \n",
       "24503                     []         quality    nike   \n",
       "25120                     []         quality  adidas   \n",
       "16690                     []         quality    nike   \n",
       "28526  [#SneakerScouts, #ad]           price    nike   \n",
       "9496                      []         quality  adidas   \n",
       "27993                     []         quality  adidas   \n",
       "15321                     []         quality    nike   \n",
       "25204                     []         quality  adidas   \n",
       "25254                     []         quality  adidas   \n",
       "\n",
       "                                                   token  blob_scores  \\\n",
       "9433   [saving, ad, nike, air, jordan, retro, high, o...     0.160000   \n",
       "24503  [yes, b, embarrassed, adidas, sock, dirty, wea...    -0.100000   \n",
       "25120                                           [thanks]     0.200000   \n",
       "16690  [nike, pulling, product, foot, locker, basical...     0.300000   \n",
       "28526  [sneaker, scout, nike, blazer, mid, seven, sev...     0.058333   \n",
       "9496   [right, like, white, tank, nike, written, thin...     0.142857   \n",
       "27993            [game, played, nike, basketball, shame]    -0.400000   \n",
       "15321                                      [know, queen]     0.000000   \n",
       "25204                            [boot, sponsored, nike]     0.000000   \n",
       "25254                                 [nike, town, mane]     0.000000   \n",
       "\n",
       "                                            vader_scores  \n",
       "9433   {'neg': 0.0, 'neu': 1.0, 'pos': 0.0, 'compound...  \n",
       "24503  {'neg': 0.29, 'neu': 0.43, 'pos': 0.28, 'compo...  \n",
       "25120  {'neg': 0.0, 'neu': 0.0, 'pos': 1.0, 'compound...  \n",
       "16690  {'neg': 0.207, 'neu': 0.632, 'pos': 0.161, 'co...  \n",
       "28526  {'neg': 0.0, 'neu': 1.0, 'pos': 0.0, 'compound...  \n",
       "9496   {'neg': 0.0, 'neu': 0.551, 'pos': 0.449, 'comp...  \n",
       "27993  {'neg': 0.365, 'neu': 0.353, 'pos': 0.282, 'co...  \n",
       "15321  {'neg': 0.0, 'neu': 1.0, 'pos': 0.0, 'compound...  \n",
       "25204  {'neg': 0.0, 'neu': 1.0, 'pos': 0.0, 'compound...  \n",
       "25254  {'neg': 0.0, 'neu': 1.0, 'pos': 0.0, 'compound...  "
      ]
     },
     "execution_count": 8,
     "metadata": {},
     "output_type": "execute_result"
    }
   ],
   "source": [
    "brands_tweets.sample(10)"
   ]
  },
  {
   "cell_type": "code",
   "execution_count": 9,
   "id": "0ae6197d",
   "metadata": {
    "scrolled": true
   },
   "outputs": [
    {
     "data": {
      "text/plain": [
       " 0.000000    27355\n",
       " 0.650000     2451\n",
       " 0.500000     1945\n",
       " 0.400000     1429\n",
       " 0.200000     1280\n",
       "             ...  \n",
       " 0.155682        1\n",
       " 0.174107        1\n",
       " 0.573016        1\n",
       " 0.055556        1\n",
       "-0.040476        1\n",
       "Name: blob_scores, Length: 2226, dtype: int64"
      ]
     },
     "execution_count": 9,
     "metadata": {},
     "output_type": "execute_result"
    }
   ],
   "source": [
    "brands_tweets.blob_scores.value_counts()"
   ]
  },
  {
   "cell_type": "code",
   "execution_count": 10,
   "id": "cb2189a6",
   "metadata": {},
   "outputs": [
    {
     "data": {
      "text/plain": [
       "dict"
      ]
     },
     "execution_count": 10,
     "metadata": {},
     "output_type": "execute_result"
    }
   ],
   "source": [
    "type(brands_tweets.vader_scores[2].reset_index().vader_scores[0])"
   ]
  },
  {
   "cell_type": "code",
   "execution_count": 11,
   "id": "1da3e3e0",
   "metadata": {},
   "outputs": [],
   "source": [
    "brands_tweets.reset_index(inplace = True)"
   ]
  },
  {
   "cell_type": "markdown",
   "id": "86be8638",
   "metadata": {},
   "source": [
    "# Resultados del Análisis."
   ]
  },
  {
   "cell_type": "markdown",
   "id": "96f2f61e",
   "metadata": {},
   "source": [
    "### Blob Scores"
   ]
  },
  {
   "cell_type": "code",
   "execution_count": 12,
   "id": "2ff64605",
   "metadata": {
    "scrolled": true
   },
   "outputs": [
    {
     "data": {
      "text/plain": [
       "0.10486408248893689"
      ]
     },
     "execution_count": 12,
     "metadata": {},
     "output_type": "execute_result"
    }
   ],
   "source": [
    "brands_tweets.blob_scores.mean()"
   ]
  },
  {
   "cell_type": "markdown",
   "id": "745e0058",
   "metadata": {},
   "source": [
    "**Resultados Nike:**"
   ]
  },
  {
   "cell_type": "code",
   "execution_count": 13,
   "id": "b8fbeae4",
   "metadata": {},
   "outputs": [],
   "source": [
    "nike_price = brands_tweets[(brands_tweets['brand'] == 'nike') & (brands_tweets['brand_attribute'] == 'price') & (brands_tweets['blob_scores'] != 0.000)]"
   ]
  },
  {
   "cell_type": "code",
   "execution_count": 14,
   "id": "7266ed54",
   "metadata": {},
   "outputs": [
    {
     "name": "stdout",
     "output_type": "stream",
     "text": [
      "Precio Nike:  0.109937374381409\n"
     ]
    }
   ],
   "source": [
    "print('Precio Nike: ', nike_price.blob_scores.mean())"
   ]
  },
  {
   "cell_type": "code",
   "execution_count": 15,
   "id": "b23eb832",
   "metadata": {},
   "outputs": [],
   "source": [
    "nike_quality = brands_tweets[(brands_tweets['brand'] == 'nike') & (brands_tweets['brand_attribute'] == 'quality') & (brands_tweets['blob_scores'] != 0.000)]"
   ]
  },
  {
   "cell_type": "code",
   "execution_count": 16,
   "id": "45cb94f0",
   "metadata": {},
   "outputs": [
    {
     "name": "stdout",
     "output_type": "stream",
     "text": [
      "Calidad Nike:  0.20489180285136294\n"
     ]
    }
   ],
   "source": [
    "print('Calidad Nike: ', nike_quality.blob_scores.mean())"
   ]
  },
  {
   "cell_type": "markdown",
   "id": "8bb9e741",
   "metadata": {},
   "source": [
    "**Resultados Adidas:**"
   ]
  },
  {
   "cell_type": "code",
   "execution_count": 17,
   "id": "178ca244",
   "metadata": {},
   "outputs": [],
   "source": [
    "adidas_price = brands_tweets[(brands_tweets['brand'] == 'adidas') & (brands_tweets['brand_attribute'] == 'price') & (brands_tweets['blob_scores'] != 0.000)]"
   ]
  },
  {
   "cell_type": "code",
   "execution_count": 18,
   "id": "828c1dc3",
   "metadata": {},
   "outputs": [
    {
     "name": "stdout",
     "output_type": "stream",
     "text": [
      "Precio Adidas:  0.11120344708668521\n"
     ]
    }
   ],
   "source": [
    "print('Precio Adidas: ', adidas_price.blob_scores.mean())"
   ]
  },
  {
   "cell_type": "code",
   "execution_count": 19,
   "id": "b048d1b2",
   "metadata": {},
   "outputs": [],
   "source": [
    "adidas_quality = brands_tweets[(brands_tweets['brand'] == 'adidas') & (brands_tweets['brand_attribute'] == 'quality') & (brands_tweets['blob_scores'] != 0.000)]"
   ]
  },
  {
   "cell_type": "code",
   "execution_count": 20,
   "id": "bd0625ae",
   "metadata": {
    "scrolled": true
   },
   "outputs": [
    {
     "name": "stdout",
     "output_type": "stream",
     "text": [
      "Calidad Adidas:  0.20460581742491246\n"
     ]
    }
   ],
   "source": [
    "print('Calidad Adidas: ', adidas_quality.blob_scores.mean())"
   ]
  },
  {
   "cell_type": "markdown",
   "id": "6d2eccde",
   "metadata": {},
   "source": [
    "**Resultados Asics:**"
   ]
  },
  {
   "cell_type": "code",
   "execution_count": 21,
   "id": "5e4d8c1e",
   "metadata": {},
   "outputs": [],
   "source": [
    "asics_price = brands_tweets[(brands_tweets['brand'] == 'asics') & (brands_tweets['brand_attribute'] == 'price') & (brands_tweets['blob_scores'] != 0.000)]"
   ]
  },
  {
   "cell_type": "code",
   "execution_count": 22,
   "id": "05a2417f",
   "metadata": {},
   "outputs": [
    {
     "name": "stdout",
     "output_type": "stream",
     "text": [
      "Precio Asics:  0.10397568056206592\n"
     ]
    }
   ],
   "source": [
    "print('Precio Asics: ', asics_price.blob_scores.mean())"
   ]
  },
  {
   "cell_type": "code",
   "execution_count": 23,
   "id": "76e661a2",
   "metadata": {},
   "outputs": [],
   "source": [
    "asics_quality = brands_tweets[(brands_tweets['brand'] == 'asics') & (brands_tweets['brand_attribute'] == 'quality') & (brands_tweets['blob_scores'] != 0.000)]"
   ]
  },
  {
   "cell_type": "code",
   "execution_count": 24,
   "id": "149ef428",
   "metadata": {},
   "outputs": [
    {
     "name": "stdout",
     "output_type": "stream",
     "text": [
      "Calidad Asics:  0.23039710194948845\n"
     ]
    }
   ],
   "source": [
    "print('Calidad Asics: ', asics_quality.blob_scores.mean())"
   ]
  },
  {
   "cell_type": "markdown",
   "id": "fc6e067f",
   "metadata": {},
   "source": [
    "**Resultados Reebok:**"
   ]
  },
  {
   "cell_type": "code",
   "execution_count": 25,
   "id": "5ca5ce20",
   "metadata": {},
   "outputs": [],
   "source": [
    "reebok_price = brands_tweets[(brands_tweets['brand'] == 'reebok') & (brands_tweets['brand_attribute'] == 'price') & (brands_tweets['blob_scores'] != 0.000)]"
   ]
  },
  {
   "cell_type": "code",
   "execution_count": 30,
   "id": "10db6e99",
   "metadata": {},
   "outputs": [
    {
     "name": "stdout",
     "output_type": "stream",
     "text": [
      "Precio Reebok:  0.16575064075064078\n"
     ]
    }
   ],
   "source": [
    "print('Precio Reebok: ', reebok_price.blob_scores.mean())"
   ]
  },
  {
   "cell_type": "code",
   "execution_count": 27,
   "id": "2fd41c17",
   "metadata": {},
   "outputs": [],
   "source": [
    "reebok_quality = brands_tweets[(brands_tweets['brand'] == 'reebok') & (brands_tweets['brand_attribute'] == 'quality') & (brands_tweets['blob_scores'] != 0.000)]"
   ]
  },
  {
   "cell_type": "code",
   "execution_count": 31,
   "id": "cff48f03",
   "metadata": {},
   "outputs": [
    {
     "name": "stdout",
     "output_type": "stream",
     "text": [
      "Calidad Reebok:  0.2610846382136843\n"
     ]
    }
   ],
   "source": [
    "print('Calidad Reebok: ', reebok_quality.blob_scores.mean())"
   ]
  },
  {
   "cell_type": "markdown",
   "id": "e8321739",
   "metadata": {},
   "source": [
    "### VADER"
   ]
  },
  {
   "cell_type": "code",
   "execution_count": 29,
   "id": "4bcfb6c1",
   "metadata": {},
   "outputs": [
    {
     "ename": "SyntaxError",
     "evalue": "invalid syntax (<ipython-input-29-a6b0ec2140c2>, line 1)",
     "output_type": "error",
     "traceback": [
      "\u001b[0;36m  File \u001b[0;32m\"<ipython-input-29-a6b0ec2140c2>\"\u001b[0;36m, line \u001b[0;32m1\u001b[0m\n\u001b[0;31m    print('Precio Nike: ', nike_price.vader_scores[.mean())\u001b[0m\n\u001b[0m                                                   ^\u001b[0m\n\u001b[0;31mSyntaxError\u001b[0m\u001b[0;31m:\u001b[0m invalid syntax\n"
     ]
    }
   ],
   "source": [
    "print('Precio Nike: ', nike_price.vader_scores[.mean())"
   ]
  },
  {
   "cell_type": "code",
   "execution_count": null,
   "id": "bddc8b4f",
   "metadata": {},
   "outputs": [],
   "source": [
    "nike_price.vader_scores[13]"
   ]
  },
  {
   "cell_type": "code",
   "execution_count": null,
   "id": "61eef8b5",
   "metadata": {},
   "outputs": [],
   "source": [
    "def compound_score(scores):\n",
    "    return  scores\n",
    "\n",
    "nike_price.vader_scores['neg'].mean()"
   ]
  },
  {
   "cell_type": "markdown",
   "id": "a5a77d29",
   "metadata": {},
   "source": [
    "# PRUEBAS"
   ]
  },
  {
   "cell_type": "code",
   "execution_count": null,
   "id": "80e074df",
   "metadata": {},
   "outputs": [],
   "source": [
    "from nltk.stem import WordNetLemmatizer\n",
    "\n",
    "lemmatizer = WordNetLemmatizer()"
   ]
  },
  {
   "cell_type": "code",
   "execution_count": null,
   "id": "d16e09cf",
   "metadata": {},
   "outputs": [],
   "source": [
    "lemmatizer.lemmatize('are')"
   ]
  },
  {
   "cell_type": "code",
   "execution_count": null,
   "id": "2c3043a7",
   "metadata": {},
   "outputs": [],
   "source": [
    "from textblob import Word\n",
    "\n",
    "a = Word('are')\n",
    "a.lemmatize('v')"
   ]
  },
  {
   "cell_type": "code",
   "execution_count": null,
   "id": "e70ae793",
   "metadata": {},
   "outputs": [],
   "source": [
    "nlp = spacy.load('en_core_web_sm')"
   ]
  },
  {
   "cell_type": "code",
   "execution_count": null,
   "id": "96f5b9b7",
   "metadata": {},
   "outputs": [],
   "source": [
    "sent = 'Gus is helping organize a developer'\n",
    "\n",
    "for token in nlp(sent):\n",
    "    print (token, token.lemma_)"
   ]
  },
  {
   "cell_type": "code",
   "execution_count": null,
   "id": "a549d670",
   "metadata": {},
   "outputs": [],
   "source": [
    "from spacy import displacy\n",
    "\n",
    "doc = nlp(sent)\n",
    "\n",
    "displacy.render(doc, style='dep', jupyter=True)"
   ]
  }
 ],
 "metadata": {
  "kernelspec": {
   "display_name": "ironhack",
   "language": "python",
   "name": "myenv"
  },
  "language_info": {
   "codemirror_mode": {
    "name": "ipython",
    "version": 3
   },
   "file_extension": ".py",
   "mimetype": "text/x-python",
   "name": "python",
   "nbconvert_exporter": "python",
   "pygments_lexer": "ipython3",
   "version": "3.8.5"
  }
 },
 "nbformat": 4,
 "nbformat_minor": 5
}
