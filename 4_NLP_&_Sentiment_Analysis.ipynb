{
 "cells": [
  {
   "cell_type": "markdown",
   "id": "3a8c8ba5",
   "metadata": {},
   "source": [
    "# NLP & Sentiment Analysis."
   ]
  },
  {
   "cell_type": "markdown",
   "id": "29cf6b99",
   "metadata": {},
   "source": [
    "En esta etapa del proyecto manejaremos diferentes modelos pre-entrenados (librerías) y trataremos de evaluar cuál es el que nos ofrece mejores resultados.\n",
    "\n",
    "Evidentemente, sería conveniente desarrollar un modelo propio ad-hoc según las necesidades particulares del proyecto, lo cual probablemente nos permita alcanzar resultados más precisos. Sin embargo, no debemos olvidar que por el momento pretendemos construir las bases del proyecto y obtener un mínimo producto viable que demuestre su potencial. Disponemos de muy poco tiempo como para desarrollar y entrenar nuestro propio modelo y es por eso que se opta por la utilización de modelos pre-entrenados de NLP a la hora de analizar el sentimiento de los tweets y, por tanto, la percepción del usuario respecto de las marcas.\n",
    "\n",
    "Los análisis de sentimiento se ejecutarán a través de funciones previamente definidas en *' src / nlp_functions.py '*."
   ]
  },
  {
   "cell_type": "code",
   "execution_count": 1,
   "id": "addd4751",
   "metadata": {},
   "outputs": [],
   "source": [
    "from src.nlp_functions import *\n",
    "\n",
    "import pandas as pd"
   ]
  },
  {
   "cell_type": "code",
   "execution_count": 2,
   "id": "3e21ed08",
   "metadata": {},
   "outputs": [],
   "source": [
    "brands_tweets = pd.read_pickle('data/sports_equipment_brands_tokens.pkl')"
   ]
  },
  {
   "cell_type": "code",
   "execution_count": 3,
   "id": "6ff4900e",
   "metadata": {},
   "outputs": [
    {
     "data": {
      "text/html": [
       "<div>\n",
       "<style scoped>\n",
       "    .dataframe tbody tr th:only-of-type {\n",
       "        vertical-align: middle;\n",
       "    }\n",
       "\n",
       "    .dataframe tbody tr th {\n",
       "        vertical-align: top;\n",
       "    }\n",
       "\n",
       "    .dataframe thead th {\n",
       "        text-align: right;\n",
       "    }\n",
       "</style>\n",
       "<table border=\"1\" class=\"dataframe\">\n",
       "  <thead>\n",
       "    <tr style=\"text-align: right;\">\n",
       "      <th></th>\n",
       "      <th>text</th>\n",
       "      <th>hashtags</th>\n",
       "      <th>brand_attribute</th>\n",
       "      <th>brand</th>\n",
       "      <th>token</th>\n",
       "    </tr>\n",
       "  </thead>\n",
       "  <tbody>\n",
       "    <tr>\n",
       "      <th>0</th>\n",
       "      <td>nobody cares about nike in russia russia is al...</td>\n",
       "      <td>[]</td>\n",
       "      <td>quality</td>\n",
       "      <td>nike</td>\n",
       "      <td>[care, nike, russia, russia, adidas]</td>\n",
       "    </tr>\n",
       "    <tr>\n",
       "      <th>1</th>\n",
       "      <td>ye green nike hoodie waala two weeks pehle put...</td>\n",
       "      <td>[]</td>\n",
       "      <td>quality</td>\n",
       "      <td>nike</td>\n",
       "      <td>[ye, green, nike, hoodie, waala, week, pehle, ...</td>\n",
       "    </tr>\n",
       "    <tr>\n",
       "      <th>2</th>\n",
       "      <td>nike okundaye also knowns nike twins seven sev...</td>\n",
       "      <td>[#womengiant, #Documentwomen]</td>\n",
       "      <td>quality</td>\n",
       "      <td>nike</td>\n",
       "      <td>[nike, okundaye, knowns, nike, twin, seven, se...</td>\n",
       "    </tr>\n",
       "    <tr>\n",
       "      <th>3</th>\n",
       "      <td>day four of maxmadness air max month nike air ...</td>\n",
       "      <td>[#maxmadness, #AirMaxMonth, #airmaxgang, #kotd...</td>\n",
       "      <td>quality</td>\n",
       "      <td>nike</td>\n",
       "      <td>[day, maxmadness, air, max, month, nike, air, ...</td>\n",
       "    </tr>\n",
       "    <tr>\n",
       "      <th>4</th>\n",
       "      <td>thank you sir</td>\n",
       "      <td>[]</td>\n",
       "      <td>quality</td>\n",
       "      <td>nike</td>\n",
       "      <td>[thank, sir]</td>\n",
       "    </tr>\n",
       "  </tbody>\n",
       "</table>\n",
       "</div>"
      ],
      "text/plain": [
       "                                                text  \\\n",
       "0  nobody cares about nike in russia russia is al...   \n",
       "1  ye green nike hoodie waala two weeks pehle put...   \n",
       "2  nike okundaye also knowns nike twins seven sev...   \n",
       "3  day four of maxmadness air max month nike air ...   \n",
       "4                                      thank you sir   \n",
       "\n",
       "                                            hashtags brand_attribute brand  \\\n",
       "0                                                 []         quality  nike   \n",
       "1                                                 []         quality  nike   \n",
       "2                      [#womengiant, #Documentwomen]         quality  nike   \n",
       "3  [#maxmadness, #AirMaxMonth, #airmaxgang, #kotd...         quality  nike   \n",
       "4                                                 []         quality  nike   \n",
       "\n",
       "                                               token  \n",
       "0               [care, nike, russia, russia, adidas]  \n",
       "1  [ye, green, nike, hoodie, waala, week, pehle, ...  \n",
       "2  [nike, okundaye, knowns, nike, twin, seven, se...  \n",
       "3  [day, maxmadness, air, max, month, nike, air, ...  \n",
       "4                                       [thank, sir]  "
      ]
     },
     "execution_count": 3,
     "metadata": {},
     "output_type": "execute_result"
    }
   ],
   "source": [
    "brands_tweets.head()"
   ]
  },
  {
   "cell_type": "markdown",
   "id": "91cea4ef",
   "metadata": {},
   "source": [
    "### TextBlob (spaCy)"
   ]
  },
  {
   "cell_type": "code",
   "execution_count": 4,
   "id": "da7207fd",
   "metadata": {},
   "outputs": [
    {
     "data": {
      "text/plain": [
       "'INTRO!!!'"
      ]
     },
     "execution_count": 4,
     "metadata": {},
     "output_type": "execute_result"
    }
   ],
   "source": [
    "'''INTRO!!!'''\n",
    "\n",
    "# Esplicación breve.\n",
    "\n",
    "# Catarse bien de cómo funciona.\n",
    "# Ojo instalaciones (lo he metido en todos laos).\n"
   ]
  },
  {
   "cell_type": "code",
   "execution_count": 5,
   "id": "a926395c",
   "metadata": {},
   "outputs": [],
   "source": [
    "brands_tweets['blob_scores'] = brands_tweets.token.apply(blob_scoring)"
   ]
  },
  {
   "cell_type": "code",
   "execution_count": 6,
   "id": "f2b79cbb",
   "metadata": {},
   "outputs": [
    {
     "data": {
      "text/html": [
       "<div>\n",
       "<style scoped>\n",
       "    .dataframe tbody tr th:only-of-type {\n",
       "        vertical-align: middle;\n",
       "    }\n",
       "\n",
       "    .dataframe tbody tr th {\n",
       "        vertical-align: top;\n",
       "    }\n",
       "\n",
       "    .dataframe thead th {\n",
       "        text-align: right;\n",
       "    }\n",
       "</style>\n",
       "<table border=\"1\" class=\"dataframe\">\n",
       "  <thead>\n",
       "    <tr style=\"text-align: right;\">\n",
       "      <th></th>\n",
       "      <th>text</th>\n",
       "      <th>hashtags</th>\n",
       "      <th>brand_attribute</th>\n",
       "      <th>brand</th>\n",
       "      <th>token</th>\n",
       "      <th>blob_scores</th>\n",
       "    </tr>\n",
       "  </thead>\n",
       "  <tbody>\n",
       "    <tr>\n",
       "      <th>1610</th>\n",
       "      <td>check out this listing i just added to my posh...</td>\n",
       "      <td>[#Poshmark, #shopmycloset]</td>\n",
       "      <td>quality</td>\n",
       "      <td>under armour</td>\n",
       "      <td>[check, listing, added, poshmark, closet, copy...</td>\n",
       "      <td>0.000000</td>\n",
       "    </tr>\n",
       "    <tr>\n",
       "      <th>24253</th>\n",
       "      <td>nike air jordan one mid pollen yellow white bl...</td>\n",
       "      <td>[]</td>\n",
       "      <td>quality</td>\n",
       "      <td>nike</td>\n",
       "      <td>[nike, air, jordan, mid, pollen, yellow, white...</td>\n",
       "      <td>-0.041667</td>\n",
       "    </tr>\n",
       "    <tr>\n",
       "      <th>19183</th>\n",
       "      <td>nike</td>\n",
       "      <td>[]</td>\n",
       "      <td>quality</td>\n",
       "      <td>nike</td>\n",
       "      <td>[nike]</td>\n",
       "      <td>0.000000</td>\n",
       "    </tr>\n",
       "    <tr>\n",
       "      <th>21749</th>\n",
       "      <td>players you didn t know played for theseclubs ...</td>\n",
       "      <td>[#football, #soccer, #sports, #futbol, #fifa, ...</td>\n",
       "      <td>quality</td>\n",
       "      <td>adidas</td>\n",
       "      <td>[player, know, played, theseclubs, football, s...</td>\n",
       "      <td>0.000000</td>\n",
       "    </tr>\n",
       "    <tr>\n",
       "      <th>1319</th>\n",
       "      <td>so good i had to share check out all the items...</td>\n",
       "      <td>[#poshmark, #fashion, #style, #shopmycloset, #...</td>\n",
       "      <td>quality</td>\n",
       "      <td>nike</td>\n",
       "      <td>[good, share, check, item, loving, poshmark, f...</td>\n",
       "      <td>0.650000</td>\n",
       "    </tr>\n",
       "    <tr>\n",
       "      <th>27387</th>\n",
       "      <td>so good i had to share check out all the items...</td>\n",
       "      <td>[#poshmark, #fashion, #style, #shopmycloset, #...</td>\n",
       "      <td>quality</td>\n",
       "      <td>adidas</td>\n",
       "      <td>[good, share, check, item, loving, poshmark, f...</td>\n",
       "      <td>0.650000</td>\n",
       "    </tr>\n",
       "    <tr>\n",
       "      <th>16467</th>\n",
       "      <td>jewel swooshes return to this nike air max nin...</td>\n",
       "      <td>[]</td>\n",
       "      <td>quality</td>\n",
       "      <td>adidas</td>\n",
       "      <td>[jewel, swoosh, return, nike, air, max, zero, ...</td>\n",
       "      <td>0.000000</td>\n",
       "    </tr>\n",
       "    <tr>\n",
       "      <th>16887</th>\n",
       "      <td>check out atlanta hawks danilo gallinari eight...</td>\n",
       "      <td>[#8, #Nike]</td>\n",
       "      <td>quality</td>\n",
       "      <td>adidas</td>\n",
       "      <td>[check, atlanta, hawk, danilo, gallinari, nike...</td>\n",
       "      <td>0.000000</td>\n",
       "    </tr>\n",
       "    <tr>\n",
       "      <th>484</th>\n",
       "      <td>nike make so many different foamposites but ke...</td>\n",
       "      <td>[]</td>\n",
       "      <td>quality</td>\n",
       "      <td>adidas</td>\n",
       "      <td>[nike, different, foamposites, dropping, jay]</td>\n",
       "      <td>0.000000</td>\n",
       "    </tr>\n",
       "    <tr>\n",
       "      <th>4006</th>\n",
       "      <td>romeo beckham and girlfriend mia regan front d...</td>\n",
       "      <td>[]</td>\n",
       "      <td>quality</td>\n",
       "      <td>puma</td>\n",
       "      <td>[romeo, beckham, girlfriend, mia, regan, debut...</td>\n",
       "      <td>0.000000</td>\n",
       "    </tr>\n",
       "  </tbody>\n",
       "</table>\n",
       "</div>"
      ],
      "text/plain": [
       "                                                    text  \\\n",
       "1610   check out this listing i just added to my posh...   \n",
       "24253  nike air jordan one mid pollen yellow white bl...   \n",
       "19183                                               nike   \n",
       "21749  players you didn t know played for theseclubs ...   \n",
       "1319   so good i had to share check out all the items...   \n",
       "27387  so good i had to share check out all the items...   \n",
       "16467  jewel swooshes return to this nike air max nin...   \n",
       "16887  check out atlanta hawks danilo gallinari eight...   \n",
       "484    nike make so many different foamposites but ke...   \n",
       "4006   romeo beckham and girlfriend mia regan front d...   \n",
       "\n",
       "                                                hashtags brand_attribute  \\\n",
       "1610                          [#Poshmark, #shopmycloset]         quality   \n",
       "24253                                                 []         quality   \n",
       "19183                                                 []         quality   \n",
       "21749  [#football, #soccer, #sports, #futbol, #fifa, ...         quality   \n",
       "1319   [#poshmark, #fashion, #style, #shopmycloset, #...         quality   \n",
       "27387  [#poshmark, #fashion, #style, #shopmycloset, #...         quality   \n",
       "16467                                                 []         quality   \n",
       "16887                                        [#8, #Nike]         quality   \n",
       "484                                                   []         quality   \n",
       "4006                                                  []         quality   \n",
       "\n",
       "              brand                                              token  \\\n",
       "1610   under armour  [check, listing, added, poshmark, closet, copy...   \n",
       "24253          nike  [nike, air, jordan, mid, pollen, yellow, white...   \n",
       "19183          nike                                             [nike]   \n",
       "21749        adidas  [player, know, played, theseclubs, football, s...   \n",
       "1319           nike  [good, share, check, item, loving, poshmark, f...   \n",
       "27387        adidas  [good, share, check, item, loving, poshmark, f...   \n",
       "16467        adidas  [jewel, swoosh, return, nike, air, max, zero, ...   \n",
       "16887        adidas  [check, atlanta, hawk, danilo, gallinari, nike...   \n",
       "484          adidas      [nike, different, foamposites, dropping, jay]   \n",
       "4006           puma  [romeo, beckham, girlfriend, mia, regan, debut...   \n",
       "\n",
       "       blob_scores  \n",
       "1610      0.000000  \n",
       "24253    -0.041667  \n",
       "19183     0.000000  \n",
       "21749     0.000000  \n",
       "1319      0.650000  \n",
       "27387     0.650000  \n",
       "16467     0.000000  \n",
       "16887     0.000000  \n",
       "484       0.000000  \n",
       "4006      0.000000  "
      ]
     },
     "execution_count": 6,
     "metadata": {},
     "output_type": "execute_result"
    }
   ],
   "source": [
    "brands_tweets.sample(10)"
   ]
  },
  {
   "cell_type": "markdown",
   "id": "48bb1258",
   "metadata": {},
   "source": [
    "### VADER."
   ]
  },
  {
   "cell_type": "markdown",
   "id": "609a28a0",
   "metadata": {},
   "source": [
    "VADER (Valence Aware Dictionary and sEntiment Reasoner) es una librería utilizada para el análisis del sentimiento que se enfoca en los textos de social media. Así, pone énfases en las rules que captan la esencia del texto que normalmente se ve en las redes sociales. Algo interesante de VADER es que está pensado para poder actuar sobre texto sobre el que se ha hecho un limpieza muy básica (conservando emojis, signos de exclamación, etc.). Nosotros lo probaremos sobre los datos ya limpios ya que confiamos en que ofrecerán un mejor resultado (aunque no se presenta el proceso, se ha probado con los datos originales en bruto, pero no consique analizar los sentimientos correctamente y la gran mayoría de scores para negatividad, neutralidad y positivadad son 0). No obstante, lo ideal sería evaluar la precisión del análisis sobre tweets con diferentes niveles de limpieza (desde el más básico, al más detallista) y comparar los modelos para identificar el que ofrece un mayor rendimiento (incluyendo también los análisis desarrollados mediante otros modelos diferentes a VADER)."
   ]
  },
  {
   "cell_type": "markdown",
   "id": "28716f80",
   "metadata": {},
   "source": [
    "https://towardsdatascience.com/fine-grained-sentiment-analysis-in-python-part-1-2697bb111ed4"
   ]
  },
  {
   "cell_type": "code",
   "execution_count": 7,
   "id": "286b2e7f",
   "metadata": {},
   "outputs": [],
   "source": [
    "brands_tweets['vader_scores'] = brands_tweets.token.apply(vader_scoring)"
   ]
  },
  {
   "cell_type": "code",
   "execution_count": 8,
   "id": "fa460ea7",
   "metadata": {
    "scrolled": false
   },
   "outputs": [
    {
     "data": {
      "text/html": [
       "<div>\n",
       "<style scoped>\n",
       "    .dataframe tbody tr th:only-of-type {\n",
       "        vertical-align: middle;\n",
       "    }\n",
       "\n",
       "    .dataframe tbody tr th {\n",
       "        vertical-align: top;\n",
       "    }\n",
       "\n",
       "    .dataframe thead th {\n",
       "        text-align: right;\n",
       "    }\n",
       "</style>\n",
       "<table border=\"1\" class=\"dataframe\">\n",
       "  <thead>\n",
       "    <tr style=\"text-align: right;\">\n",
       "      <th></th>\n",
       "      <th>text</th>\n",
       "      <th>hashtags</th>\n",
       "      <th>brand_attribute</th>\n",
       "      <th>brand</th>\n",
       "      <th>token</th>\n",
       "      <th>blob_scores</th>\n",
       "      <th>vader_scores</th>\n",
       "    </tr>\n",
       "  </thead>\n",
       "  <tbody>\n",
       "    <tr>\n",
       "      <th>9857</th>\n",
       "      <td>just received my sons one two five nike traine...</td>\n",
       "      <td>[]</td>\n",
       "      <td>price</td>\n",
       "      <td>nike</td>\n",
       "      <td>[received, son, nike, trainer, searched, high,...</td>\n",
       "      <td>-0.002222</td>\n",
       "      <td>{'neg': 0.187, 'neu': 0.712, 'pos': 0.101, 'co...</td>\n",
       "    </tr>\n",
       "    <tr>\n",
       "      <th>23525</th>\n",
       "      <td>good catch you pulled a nike and just did it k...</td>\n",
       "      <td>[]</td>\n",
       "      <td>quality</td>\n",
       "      <td>nike</td>\n",
       "      <td>[good, catch, pulled, nike]</td>\n",
       "      <td>0.700000</td>\n",
       "      <td>{'neg': 0.0, 'neu': 0.508, 'pos': 0.492, 'comp...</td>\n",
       "    </tr>\n",
       "    <tr>\n",
       "      <th>27362</th>\n",
       "      <td>celebrating air max month this new clean colou...</td>\n",
       "      <td>[]</td>\n",
       "      <td>price</td>\n",
       "      <td>nike</td>\n",
       "      <td>[celebrating, air, max, month, new, clean, col...</td>\n",
       "      <td>0.350758</td>\n",
       "      <td>{'neg': 0.0, 'neu': 0.673, 'pos': 0.327, 'comp...</td>\n",
       "    </tr>\n",
       "    <tr>\n",
       "      <th>15031</th>\n",
       "      <td>day two air max month march max ness kotd it s...</td>\n",
       "      <td>[#AirMaxMonth, #MarchMaxNess, #kotd]</td>\n",
       "      <td>quality</td>\n",
       "      <td>nike</td>\n",
       "      <td>[day, air, max, month, march, max, ness, kotd,...</td>\n",
       "      <td>0.000000</td>\n",
       "      <td>{'neg': 0.0, 'neu': 1.0, 'pos': 0.0, 'compound...</td>\n",
       "    </tr>\n",
       "    <tr>\n",
       "      <th>201</th>\n",
       "      <td>i m not a asics person but i d cop these</td>\n",
       "      <td>[]</td>\n",
       "      <td>quality</td>\n",
       "      <td>asics</td>\n",
       "      <td>[asics, person, cop]</td>\n",
       "      <td>0.000000</td>\n",
       "      <td>{'neg': 0.0, 'neu': 1.0, 'pos': 0.0, 'compound...</td>\n",
       "    </tr>\n",
       "    <tr>\n",
       "      <th>14122</th>\n",
       "      <td>i finally decided at the age of three seven th...</td>\n",
       "      <td>[]</td>\n",
       "      <td>quality</td>\n",
       "      <td>adidas</td>\n",
       "      <td>[finally, decided, age, seven, crop, person, j...</td>\n",
       "      <td>0.125000</td>\n",
       "      <td>{'neg': 0.0, 'neu': 0.777, 'pos': 0.223, 'comp...</td>\n",
       "    </tr>\n",
       "    <tr>\n",
       "      <th>5316</th>\n",
       "      <td>needa nike sweatsuit</td>\n",
       "      <td>[]</td>\n",
       "      <td>quality</td>\n",
       "      <td>nike</td>\n",
       "      <td>[needa, nike, sweatsuit]</td>\n",
       "      <td>0.000000</td>\n",
       "      <td>{'neg': 0.0, 'neu': 1.0, 'pos': 0.0, 'compound...</td>\n",
       "    </tr>\n",
       "    <tr>\n",
       "      <th>12087</th>\n",
       "      <td>i see mmm</td>\n",
       "      <td>[]</td>\n",
       "      <td>quality</td>\n",
       "      <td>nike</td>\n",
       "      <td>[mmm]</td>\n",
       "      <td>0.000000</td>\n",
       "      <td>{'neg': 0.0, 'neu': 1.0, 'pos': 0.0, 'compound...</td>\n",
       "    </tr>\n",
       "    <tr>\n",
       "      <th>14455</th>\n",
       "      <td>check out this listing i just added to my posh...</td>\n",
       "      <td>[#Poshmark, #shopmycloset]</td>\n",
       "      <td>quality</td>\n",
       "      <td>nike</td>\n",
       "      <td>[check, listing, added, poshmark, closet, nike...</td>\n",
       "      <td>-0.250000</td>\n",
       "      <td>{'neg': 0.179, 'neu': 0.821, 'pos': 0.0, 'comp...</td>\n",
       "    </tr>\n",
       "    <tr>\n",
       "      <th>4103</th>\n",
       "      <td>always a bunny uncle bully</td>\n",
       "      <td>[]</td>\n",
       "      <td>quality</td>\n",
       "      <td>puma</td>\n",
       "      <td>[bunny, uncle, bully]</td>\n",
       "      <td>0.000000</td>\n",
       "      <td>{'neg': 0.615, 'neu': 0.385, 'pos': 0.0, 'comp...</td>\n",
       "    </tr>\n",
       "  </tbody>\n",
       "</table>\n",
       "</div>"
      ],
      "text/plain": [
       "                                                    text  \\\n",
       "9857   just received my sons one two five nike traine...   \n",
       "23525  good catch you pulled a nike and just did it k...   \n",
       "27362  celebrating air max month this new clean colou...   \n",
       "15031  day two air max month march max ness kotd it s...   \n",
       "201             i m not a asics person but i d cop these   \n",
       "14122  i finally decided at the age of three seven th...   \n",
       "5316                                needa nike sweatsuit   \n",
       "12087                                          i see mmm   \n",
       "14455  check out this listing i just added to my posh...   \n",
       "4103                          always a bunny uncle bully   \n",
       "\n",
       "                                   hashtags brand_attribute   brand  \\\n",
       "9857                                     []           price    nike   \n",
       "23525                                    []         quality    nike   \n",
       "27362                                    []           price    nike   \n",
       "15031  [#AirMaxMonth, #MarchMaxNess, #kotd]         quality    nike   \n",
       "201                                      []         quality   asics   \n",
       "14122                                    []         quality  adidas   \n",
       "5316                                     []         quality    nike   \n",
       "12087                                    []         quality    nike   \n",
       "14455            [#Poshmark, #shopmycloset]         quality    nike   \n",
       "4103                                     []         quality    puma   \n",
       "\n",
       "                                                   token  blob_scores  \\\n",
       "9857   [received, son, nike, trainer, searched, high,...    -0.002222   \n",
       "23525                        [good, catch, pulled, nike]     0.700000   \n",
       "27362  [celebrating, air, max, month, new, clean, col...     0.350758   \n",
       "15031  [day, air, max, month, march, max, ness, kotd,...     0.000000   \n",
       "201                                 [asics, person, cop]     0.000000   \n",
       "14122  [finally, decided, age, seven, crop, person, j...     0.125000   \n",
       "5316                            [needa, nike, sweatsuit]     0.000000   \n",
       "12087                                              [mmm]     0.000000   \n",
       "14455  [check, listing, added, poshmark, closet, nike...    -0.250000   \n",
       "4103                               [bunny, uncle, bully]     0.000000   \n",
       "\n",
       "                                            vader_scores  \n",
       "9857   {'neg': 0.187, 'neu': 0.712, 'pos': 0.101, 'co...  \n",
       "23525  {'neg': 0.0, 'neu': 0.508, 'pos': 0.492, 'comp...  \n",
       "27362  {'neg': 0.0, 'neu': 0.673, 'pos': 0.327, 'comp...  \n",
       "15031  {'neg': 0.0, 'neu': 1.0, 'pos': 0.0, 'compound...  \n",
       "201    {'neg': 0.0, 'neu': 1.0, 'pos': 0.0, 'compound...  \n",
       "14122  {'neg': 0.0, 'neu': 0.777, 'pos': 0.223, 'comp...  \n",
       "5316   {'neg': 0.0, 'neu': 1.0, 'pos': 0.0, 'compound...  \n",
       "12087  {'neg': 0.0, 'neu': 1.0, 'pos': 0.0, 'compound...  \n",
       "14455  {'neg': 0.179, 'neu': 0.821, 'pos': 0.0, 'comp...  \n",
       "4103   {'neg': 0.615, 'neu': 0.385, 'pos': 0.0, 'comp...  "
      ]
     },
     "execution_count": 8,
     "metadata": {},
     "output_type": "execute_result"
    }
   ],
   "source": [
    "brands_tweets.sample(10)"
   ]
  },
  {
   "cell_type": "code",
   "execution_count": 9,
   "id": "2219579f",
   "metadata": {
    "scrolled": true
   },
   "outputs": [
    {
     "data": {
      "text/plain": [
       " 0.000000    31878\n",
       " 0.650000     2747\n",
       " 0.500000     2220\n",
       " 0.400000     1657\n",
       " 0.200000     1398\n",
       "             ...  \n",
       " 0.009524        1\n",
       "-0.343750        1\n",
       "-0.035556        1\n",
       " 0.118182        1\n",
       " 0.477778        1\n",
       "Name: blob_scores, Length: 2545, dtype: int64"
      ]
     },
     "execution_count": 9,
     "metadata": {},
     "output_type": "execute_result"
    }
   ],
   "source": [
    "brands_tweets.blob_scores.value_counts()"
   ]
  },
  {
   "cell_type": "code",
   "execution_count": 10,
   "id": "000f0004",
   "metadata": {},
   "outputs": [
    {
     "data": {
      "text/plain": [
       "dict"
      ]
     },
     "execution_count": 10,
     "metadata": {},
     "output_type": "execute_result"
    }
   ],
   "source": [
    "type(brands_tweets.vader_scores[2].reset_index().vader_scores[0])"
   ]
  },
  {
   "cell_type": "code",
   "execution_count": 11,
   "id": "b355f608",
   "metadata": {},
   "outputs": [],
   "source": [
    "brands_tweets.reset_index(inplace = True)"
   ]
  },
  {
   "cell_type": "markdown",
   "id": "ccb52ba6",
   "metadata": {},
   "source": [
    "# Resultados del Análisis."
   ]
  },
  {
   "cell_type": "markdown",
   "id": "4bd99092",
   "metadata": {},
   "source": [
    "## Blob Scores"
   ]
  },
  {
   "cell_type": "code",
   "execution_count": 12,
   "id": "a437d943",
   "metadata": {
    "scrolled": true
   },
   "outputs": [
    {
     "data": {
      "text/plain": [
       "0.1053805303017492"
      ]
     },
     "execution_count": 12,
     "metadata": {},
     "output_type": "execute_result"
    }
   ],
   "source": [
    "brands_tweets.blob_scores.mean()"
   ]
  },
  {
   "cell_type": "markdown",
   "id": "b2259bf2",
   "metadata": {},
   "source": [
    "**Resultados Nike:**"
   ]
  },
  {
   "cell_type": "code",
   "execution_count": 13,
   "id": "b9d093b1",
   "metadata": {},
   "outputs": [],
   "source": [
    "nike_price = brands_tweets[(brands_tweets['brand'] == 'nike') & (brands_tweets['brand_attribute'] == 'price') & (brands_tweets['blob_scores'] != 0.000)]"
   ]
  },
  {
   "cell_type": "code",
   "execution_count": 14,
   "id": "9267b86b",
   "metadata": {},
   "outputs": [
    {
     "name": "stdout",
     "output_type": "stream",
     "text": [
      "Precio Nike:  0.109937374381409\n"
     ]
    }
   ],
   "source": [
    "print('Precio Nike: ', nike_price.blob_scores.mean())"
   ]
  },
  {
   "cell_type": "code",
   "execution_count": 15,
   "id": "ce59fce8",
   "metadata": {},
   "outputs": [],
   "source": [
    "nike_quality = brands_tweets[(brands_tweets['brand'] == 'nike') & (brands_tweets['brand_attribute'] == 'quality') & (brands_tweets['blob_scores'] != 0.000)]"
   ]
  },
  {
   "cell_type": "code",
   "execution_count": 16,
   "id": "b86920dc",
   "metadata": {},
   "outputs": [
    {
     "name": "stdout",
     "output_type": "stream",
     "text": [
      "Calidad Nike:  0.20489180285136294\n"
     ]
    }
   ],
   "source": [
    "print('Calidad Nike: ', nike_quality.blob_scores.mean())"
   ]
  },
  {
   "cell_type": "markdown",
   "id": "8b72e4cb",
   "metadata": {},
   "source": [
    "**Resultados Adidas:**"
   ]
  },
  {
   "cell_type": "code",
   "execution_count": 17,
   "id": "f313b5c9",
   "metadata": {},
   "outputs": [],
   "source": [
    "adidas_price = brands_tweets[(brands_tweets['brand'] == 'adidas') & (brands_tweets['brand_attribute'] == 'price') & (brands_tweets['blob_scores'] != 0.000)]"
   ]
  },
  {
   "cell_type": "code",
   "execution_count": 18,
   "id": "d208da9d",
   "metadata": {},
   "outputs": [
    {
     "name": "stdout",
     "output_type": "stream",
     "text": [
      "Precio Adidas:  0.11120344708668521\n"
     ]
    }
   ],
   "source": [
    "print('Precio Adidas: ', adidas_price.blob_scores.mean())"
   ]
  },
  {
   "cell_type": "code",
   "execution_count": 19,
   "id": "f29bf925",
   "metadata": {},
   "outputs": [],
   "source": [
    "adidas_quality = brands_tweets[(brands_tweets['brand'] == 'adidas') & (brands_tweets['brand_attribute'] == 'quality') & (brands_tweets['blob_scores'] != 0.000)]"
   ]
  },
  {
   "cell_type": "code",
   "execution_count": 20,
   "id": "6f39fb94",
   "metadata": {
    "scrolled": true
   },
   "outputs": [
    {
     "name": "stdout",
     "output_type": "stream",
     "text": [
      "Calidad Adidas:  0.20460581742491246\n"
     ]
    }
   ],
   "source": [
    "print('Calidad Adidas: ', adidas_quality.blob_scores.mean())"
   ]
  },
  {
   "cell_type": "markdown",
   "id": "9346e932",
   "metadata": {},
   "source": [
    "**Resultados Asics:**"
   ]
  },
  {
   "cell_type": "code",
   "execution_count": 21,
   "id": "4754fe5b",
   "metadata": {},
   "outputs": [],
   "source": [
    "asics_price = brands_tweets[(brands_tweets['brand'] == 'asics') & (brands_tweets['brand_attribute'] == 'price') & (brands_tweets['blob_scores'] != 0.000)]"
   ]
  },
  {
   "cell_type": "code",
   "execution_count": 22,
   "id": "a0772f8b",
   "metadata": {},
   "outputs": [
    {
     "name": "stdout",
     "output_type": "stream",
     "text": [
      "Precio Asics:  0.10397568056206592\n"
     ]
    }
   ],
   "source": [
    "print('Precio Asics: ', asics_price.blob_scores.mean())"
   ]
  },
  {
   "cell_type": "code",
   "execution_count": 23,
   "id": "940b397f",
   "metadata": {},
   "outputs": [],
   "source": [
    "asics_quality = brands_tweets[(brands_tweets['brand'] == 'asics') & (brands_tweets['brand_attribute'] == 'quality') & (brands_tweets['blob_scores'] != 0.000)]"
   ]
  },
  {
   "cell_type": "code",
   "execution_count": 24,
   "id": "97b08ee6",
   "metadata": {},
   "outputs": [
    {
     "name": "stdout",
     "output_type": "stream",
     "text": [
      "Calidad Asics:  0.23039710194948845\n"
     ]
    }
   ],
   "source": [
    "print('Calidad Asics: ', asics_quality.blob_scores.mean())"
   ]
  },
  {
   "cell_type": "markdown",
   "id": "1bc1c7a4",
   "metadata": {},
   "source": [
    "**Resultados Reebok:**"
   ]
  },
  {
   "cell_type": "code",
   "execution_count": 25,
   "id": "db8db8ce",
   "metadata": {},
   "outputs": [],
   "source": [
    "reebok_price = brands_tweets[(brands_tweets['brand'] == 'reebok') & (brands_tweets['brand_attribute'] == 'price') & (brands_tweets['blob_scores'] != 0.000)]"
   ]
  },
  {
   "cell_type": "code",
   "execution_count": 26,
   "id": "fc086a0e",
   "metadata": {},
   "outputs": [
    {
     "name": "stdout",
     "output_type": "stream",
     "text": [
      "Precio Reebok:  0.16575064075064078\n"
     ]
    }
   ],
   "source": [
    "print('Precio Reebok: ', reebok_price.blob_scores.mean())"
   ]
  },
  {
   "cell_type": "code",
   "execution_count": 27,
   "id": "f5d60840",
   "metadata": {},
   "outputs": [],
   "source": [
    "reebok_quality = brands_tweets[(brands_tweets['brand'] == 'reebok') & (brands_tweets['brand_attribute'] == 'quality') & (brands_tweets['blob_scores'] != 0.000)]"
   ]
  },
  {
   "cell_type": "code",
   "execution_count": 28,
   "id": "0547f81c",
   "metadata": {
    "scrolled": true
   },
   "outputs": [
    {
     "name": "stdout",
     "output_type": "stream",
     "text": [
      "Calidad Reebok:  0.2610846382136843\n"
     ]
    }
   ],
   "source": [
    "print('Calidad Reebok: ', reebok_quality.blob_scores.mean())"
   ]
  },
  {
   "cell_type": "markdown",
   "id": "2d0f8c5d",
   "metadata": {},
   "source": [
    "**Resultados Skechers:**"
   ]
  },
  {
   "cell_type": "code",
   "execution_count": 29,
   "id": "ec91202c",
   "metadata": {},
   "outputs": [],
   "source": [
    "skechers_price = brands_tweets[(brands_tweets['brand'] == 'skechers') & (brands_tweets['brand_attribute'] == 'price') & (brands_tweets['blob_scores'] != 0.000)]"
   ]
  },
  {
   "cell_type": "code",
   "execution_count": 30,
   "id": "f93d8559",
   "metadata": {},
   "outputs": [
    {
     "name": "stdout",
     "output_type": "stream",
     "text": [
      "Precio Skechers:  0.20445661163847706\n"
     ]
    }
   ],
   "source": [
    "print('Precio Skechers: ', skechers_price.blob_scores.mean())"
   ]
  },
  {
   "cell_type": "code",
   "execution_count": 31,
   "id": "71301a21",
   "metadata": {},
   "outputs": [],
   "source": [
    "skechers_quality = brands_tweets[(brands_tweets['brand'] == 'skechers') & (brands_tweets['brand_attribute'] == 'quality') & (brands_tweets['blob_scores'] != 0.000)]"
   ]
  },
  {
   "cell_type": "code",
   "execution_count": 32,
   "id": "0a041f28",
   "metadata": {
    "scrolled": true
   },
   "outputs": [
    {
     "name": "stdout",
     "output_type": "stream",
     "text": [
      "Calidad Skechers:  0.2719384021938369\n"
     ]
    }
   ],
   "source": [
    "print('Calidad Skechers: ', skechers_quality.blob_scores.mean())"
   ]
  },
  {
   "cell_type": "markdown",
   "id": "dd1861b8",
   "metadata": {},
   "source": [
    "**Resultados Under Armour:**"
   ]
  },
  {
   "cell_type": "code",
   "execution_count": 33,
   "id": "a02fed26",
   "metadata": {},
   "outputs": [],
   "source": [
    "under_armour_price = brands_tweets[(brands_tweets['brand'] == 'under armour') & (brands_tweets['brand_attribute'] == 'price') & (brands_tweets['blob_scores'] != 0.000)]"
   ]
  },
  {
   "cell_type": "code",
   "execution_count": 34,
   "id": "d6a6affe",
   "metadata": {},
   "outputs": [
    {
     "name": "stdout",
     "output_type": "stream",
     "text": [
      "Precio Under Armour:  0.11430521809290652\n"
     ]
    }
   ],
   "source": [
    "print('Precio Under Armour: ', under_armour_price.blob_scores.mean())"
   ]
  },
  {
   "cell_type": "code",
   "execution_count": 35,
   "id": "d2a9d853",
   "metadata": {},
   "outputs": [],
   "source": [
    "under_armour_quality = brands_tweets[(brands_tweets['brand'] == 'under armour') & (brands_tweets['brand_attribute'] == 'quality') & (brands_tweets['blob_scores'] != 0.000)]"
   ]
  },
  {
   "cell_type": "code",
   "execution_count": 36,
   "id": "ab88f4a4",
   "metadata": {
    "scrolled": true
   },
   "outputs": [
    {
     "name": "stdout",
     "output_type": "stream",
     "text": [
      "Calidad Under Armour:  0.08316104229232908\n"
     ]
    }
   ],
   "source": [
    "print('Calidad Under Armour: ', under_armour_quality.blob_scores.mean())"
   ]
  },
  {
   "cell_type": "markdown",
   "id": "d889ec1e",
   "metadata": {},
   "source": [
    "**Resultados Umbro:**"
   ]
  },
  {
   "cell_type": "code",
   "execution_count": 37,
   "id": "3ef43b43",
   "metadata": {},
   "outputs": [],
   "source": [
    "umbro_price = brands_tweets[(brands_tweets['brand'] == 'umbro') & (brands_tweets['brand_attribute'] == 'price') & (brands_tweets['blob_scores'] != 0.000)]"
   ]
  },
  {
   "cell_type": "code",
   "execution_count": 38,
   "id": "5511181e",
   "metadata": {},
   "outputs": [
    {
     "name": "stdout",
     "output_type": "stream",
     "text": [
      "Precio Umbro:  0.21035246646357758\n"
     ]
    }
   ],
   "source": [
    "print('Precio Umbro: ', umbro_price.blob_scores.mean())"
   ]
  },
  {
   "cell_type": "code",
   "execution_count": 39,
   "id": "f63eed85",
   "metadata": {},
   "outputs": [],
   "source": [
    "umbro_quality = brands_tweets[(brands_tweets['brand'] == 'umbro') & (brands_tweets['brand_attribute'] == 'quality') & (brands_tweets['blob_scores'] != 0.000)]"
   ]
  },
  {
   "cell_type": "code",
   "execution_count": 40,
   "id": "07eb7b65",
   "metadata": {
    "scrolled": true
   },
   "outputs": [
    {
     "name": "stdout",
     "output_type": "stream",
     "text": [
      "Calidad Umbro:  0.2218498321710396\n"
     ]
    }
   ],
   "source": [
    "print('Calidad Umbro: ', umbro_quality.blob_scores.mean())"
   ]
  },
  {
   "cell_type": "markdown",
   "id": "90ff0fac",
   "metadata": {},
   "source": [
    "**Resultados Puma:**"
   ]
  },
  {
   "cell_type": "code",
   "execution_count": 41,
   "id": "d3299523",
   "metadata": {},
   "outputs": [],
   "source": [
    "puma_price = brands_tweets[(brands_tweets['brand'] == 'puma') & (brands_tweets['brand_attribute'] == 'price') & (brands_tweets['blob_scores'] != 0.000)]"
   ]
  },
  {
   "cell_type": "code",
   "execution_count": 42,
   "id": "3c1d4053",
   "metadata": {},
   "outputs": [
    {
     "name": "stdout",
     "output_type": "stream",
     "text": [
      "Precio Puma:  0.17975266982289456\n"
     ]
    }
   ],
   "source": [
    "print('Precio Puma: ', puma_price.blob_scores.mean())"
   ]
  },
  {
   "cell_type": "code",
   "execution_count": 43,
   "id": "f472708d",
   "metadata": {},
   "outputs": [],
   "source": [
    "puma_quality = brands_tweets[(brands_tweets['brand'] == 'puma') & (brands_tweets['brand_attribute'] == 'quality') & (brands_tweets['blob_scores'] != 0.000)]"
   ]
  },
  {
   "cell_type": "code",
   "execution_count": 44,
   "id": "0cb40cf5",
   "metadata": {
    "scrolled": false
   },
   "outputs": [
    {
     "name": "stdout",
     "output_type": "stream",
     "text": [
      "Calidad Puma:  0.23911617268566362\n"
     ]
    }
   ],
   "source": [
    "print('Calidad Puma: ', puma_quality.blob_scores.mean())"
   ]
  },
  {
   "cell_type": "markdown",
   "id": "e9b22044",
   "metadata": {},
   "source": [
    "### Visualización de Resultados."
   ]
  },
  {
   "cell_type": "markdown",
   "id": "6b240788",
   "metadata": {},
   "source": [
    "\n",
    "**Creamos la tabla a partir de la cual generamos el gráfico (preparamos los datos).**"
   ]
  },
  {
   "cell_type": "code",
   "execution_count": 45,
   "id": "45deb78f",
   "metadata": {},
   "outputs": [],
   "source": [
    "sport_brands = [\n",
    "    \n",
    "{'brand':'Nike', 'price_score': 1-nike_price.blob_scores.mean(), 'quality_score': nike_quality.blob_scores.mean()},\n",
    "{'brand':'Adidas', 'price_score': 1-adidas_price.blob_scores.mean(), 'quality_score': adidas_quality.blob_scores.mean()},\n",
    "{'brand':'Asics', 'price_score': 1-asics_price.blob_scores.mean(), 'quality_score': asics_quality.blob_scores.mean()},\n",
    "{'brand':'Reebok', 'price_score': 1-reebok_price.blob_scores.mean(), 'quality_score': reebok_quality.blob_scores.mean()},\n",
    "{'brand':'Skechers', 'price_score': 1-skechers_price.blob_scores.mean(), 'quality_score': skechers_quality.blob_scores.mean()},\n",
    "{'brand':'Under Armour', 'price_score': 1-under_armour_price.blob_scores.mean(), 'quality_score': under_armour_quality.blob_scores.mean()},\n",
    "{'brand':'Umbro', 'price_score': 1-umbro_price.blob_scores.mean(), 'quality_score': umbro_quality.blob_scores.mean()},\n",
    "{'brand':'Puma', 'price_score': 1-puma_price.blob_scores.mean(), 'quality_score': puma_quality.blob_scores.mean()}\n",
    "]"
   ]
  },
  {
   "cell_type": "code",
   "execution_count": 46,
   "id": "23dc1a27",
   "metadata": {},
   "outputs": [
    {
     "data": {
      "text/html": [
       "<div>\n",
       "<style scoped>\n",
       "    .dataframe tbody tr th:only-of-type {\n",
       "        vertical-align: middle;\n",
       "    }\n",
       "\n",
       "    .dataframe tbody tr th {\n",
       "        vertical-align: top;\n",
       "    }\n",
       "\n",
       "    .dataframe thead th {\n",
       "        text-align: right;\n",
       "    }\n",
       "</style>\n",
       "<table border=\"1\" class=\"dataframe\">\n",
       "  <thead>\n",
       "    <tr style=\"text-align: right;\">\n",
       "      <th></th>\n",
       "      <th>brand</th>\n",
       "      <th>price_score</th>\n",
       "      <th>quality_score</th>\n",
       "    </tr>\n",
       "  </thead>\n",
       "  <tbody>\n",
       "    <tr>\n",
       "      <th>0</th>\n",
       "      <td>Nike</td>\n",
       "      <td>0.890063</td>\n",
       "      <td>0.204892</td>\n",
       "    </tr>\n",
       "    <tr>\n",
       "      <th>1</th>\n",
       "      <td>Adidas</td>\n",
       "      <td>0.888797</td>\n",
       "      <td>0.204606</td>\n",
       "    </tr>\n",
       "    <tr>\n",
       "      <th>2</th>\n",
       "      <td>Asics</td>\n",
       "      <td>0.896024</td>\n",
       "      <td>0.230397</td>\n",
       "    </tr>\n",
       "    <tr>\n",
       "      <th>3</th>\n",
       "      <td>Reebok</td>\n",
       "      <td>0.834249</td>\n",
       "      <td>0.261085</td>\n",
       "    </tr>\n",
       "    <tr>\n",
       "      <th>4</th>\n",
       "      <td>Skechers</td>\n",
       "      <td>0.795543</td>\n",
       "      <td>0.271938</td>\n",
       "    </tr>\n",
       "    <tr>\n",
       "      <th>5</th>\n",
       "      <td>Under Armour</td>\n",
       "      <td>0.885695</td>\n",
       "      <td>0.083161</td>\n",
       "    </tr>\n",
       "    <tr>\n",
       "      <th>6</th>\n",
       "      <td>Umbro</td>\n",
       "      <td>0.789648</td>\n",
       "      <td>0.221850</td>\n",
       "    </tr>\n",
       "    <tr>\n",
       "      <th>7</th>\n",
       "      <td>Puma</td>\n",
       "      <td>0.820247</td>\n",
       "      <td>0.239116</td>\n",
       "    </tr>\n",
       "  </tbody>\n",
       "</table>\n",
       "</div>"
      ],
      "text/plain": [
       "          brand  price_score  quality_score\n",
       "0          Nike     0.890063       0.204892\n",
       "1        Adidas     0.888797       0.204606\n",
       "2         Asics     0.896024       0.230397\n",
       "3        Reebok     0.834249       0.261085\n",
       "4      Skechers     0.795543       0.271938\n",
       "5  Under Armour     0.885695       0.083161\n",
       "6         Umbro     0.789648       0.221850\n",
       "7          Puma     0.820247       0.239116"
      ]
     },
     "execution_count": 46,
     "metadata": {},
     "output_type": "execute_result"
    }
   ],
   "source": [
    "sport_brands_df = pd.DataFrame(sport_brands)\n",
    "\n",
    "sport_brands_df"
   ]
  },
  {
   "cell_type": "code",
   "execution_count": 47,
   "id": "5e4db36f",
   "metadata": {},
   "outputs": [
    {
     "data": {
      "image/png": "[encoded data removed]",
      "text/plain": [
       "<Figure size 864x432 with 1 Axes>"
      ]
     },
     "metadata": {},
     "output_type": "display_data"
    }
   ],
   "source": [
    "import seaborn as sns\n",
    "\n",
    "# Matplotlib inline para visualizar los gráficos de Matplotlib\n",
    "%matplotlib inline\n",
    "%config Inlinebackend.figure_format= 'retina'\n",
    "\n",
    "\n",
    "# Configuración para setear y que todas las fig de Seaborn salgan por defecto con este tamaño\n",
    "# Se puede especificar el tamaño de cada figura\n",
    "sns.set_context(\"poster\")\n",
    "sns.set(rc={\"figure.figsize\": (12.,6.)})\n",
    "sns.set_style(\"whitegrid\")\n",
    "\n",
    "sns.scatterplot(x=\"price_score\", y=\"quality_score\", hue=\"brand\", data=sport_brands_df);"
   ]
  },
  {
   "cell_type": "code",
   "execution_count": 50,
   "id": "66a7fb5c",
   "metadata": {
    "scrolled": true
   },
   "outputs": [
    {
     "data": {
      "application/vnd.plotly.v1+json": {
       "config": {
        "plotlyServerURL": "https://plot.ly"
       },
       "data": [
        {
         "hovertemplate": "color=Nike<br>x=%{x}<br>y=%{y}<extra></extra>",
         "legendgroup": "Nike",
         "marker": {
          "color": "#636efa",
          "symbol": "circle"
         },
         "mode": "markers",
         "name": "Nike",
         "orientation": "v",
         "showlegend": true,
         "type": "scatter",
         "x": [
          0.20489180285136294
         ],
         "xaxis": "x",
         "y": [
          0.890062625618591
         ],
         "yaxis": "y"
        },
        {
         "hovertemplate": "color=Adidas<br>x=%{x}<br>y=%{y}<extra></extra>",
         "legendgroup": "Adidas",
         "marker": {
          "color": "#EF553B",
          "symbol": "circle"
         },
         "mode": "markers",
         "name": "Adidas",
         "orientation": "v",
         "showlegend": true,
         "type": "scatter",
         "x": [
          0.20460581742491246
         ],
         "xaxis": "x",
         "y": [
          0.8887965529133148
         ],
         "yaxis": "y"
        },
        {
         "hovertemplate": "color=Asics<br>x=%{x}<br>y=%{y}<extra></extra>",
         "legendgroup": "Asics",
         "marker": {
          "color": "#00cc96",
          "symbol": "circle"
         },
         "mode": "markers",
         "name": "Asics",
         "orientation": "v",
         "showlegend": true,
         "type": "scatter",
         "x": [
          0.23039710194948845
         ],
         "xaxis": "x",
         "y": [
          0.896024319437934
         ],
         "yaxis": "y"
        },
        {
         "hovertemplate": "color=Reebok<br>x=%{x}<br>y=%{y}<extra></extra>",
         "legendgroup": "Reebok",
         "marker": {
          "color": "#ab63fa",
          "symbol": "circle"
         },
         "mode": "markers",
         "name": "Reebok",
         "orientation": "v",
         "showlegend": true,
         "type": "scatter",
         "x": [
          0.2610846382136843
         ],
         "xaxis": "x",
         "y": [
          0.8342493592493592
         ],
         "yaxis": "y"
        },
        {
         "hovertemplate": "color=Skechers<br>x=%{x}<br>y=%{y}<extra></extra>",
         "legendgroup": "Skechers",
         "marker": {
          "color": "#FFA15A",
          "symbol": "circle"
         },
         "mode": "markers",
         "name": "Skechers",
         "orientation": "v",
         "showlegend": true,
         "type": "scatter",
         "x": [
          0.2719384021938369
         ],
         "xaxis": "x",
         "y": [
          0.7955433883615229
         ],
         "yaxis": "y"
        },
        {
         "hovertemplate": "color=Under Armour<br>x=%{x}<br>y=%{y}<extra></extra>",
         "legendgroup": "Under Armour",
         "marker": {
          "color": "#19d3f3",
          "symbol": "circle"
         },
         "mode": "markers",
         "name": "Under Armour",
         "orientation": "v",
         "showlegend": true,
         "type": "scatter",
         "x": [
          0.08316104229232908
         ],
         "xaxis": "x",
         "y": [
          0.8856947819070935
         ],
         "yaxis": "y"
        },
        {
         "hovertemplate": "color=Umbro<br>x=%{x}<br>y=%{y}<extra></extra>",
         "legendgroup": "Umbro",
         "marker": {
          "color": "#FF6692",
          "symbol": "circle"
         },
         "mode": "markers",
         "name": "Umbro",
         "orientation": "v",
         "showlegend": true,
         "type": "scatter",
         "x": [
          0.2218498321710396
         ],
         "xaxis": "x",
         "y": [
          0.7896475335364224
         ],
         "yaxis": "y"
        },
        {
         "hovertemplate": "color=Puma<br>x=%{x}<br>y=%{y}<extra></extra>",
         "legendgroup": "Puma",
         "marker": {
          "color": "#B6E880",
          "symbol": "circle"
         },
         "mode": "markers",
         "name": "Puma",
         "orientation": "v",
         "showlegend": true,
         "type": "scatter",
         "x": [
          0.23911617268566362
         ],
         "xaxis": "x",
         "y": [
          0.8202473301771054
         ],
         "yaxis": "y"
        }
       ],
       "layout": {
        "legend": {
         "title": {
          "text": "color"
         },
         "tracegroupgap": 0
        },
        "margin": {
         "t": 60
        },
        "template": {
         "data": {
          "bar": [
           {
            "error_x": {
             "color": "#2a3f5f"
            },
            "error_y": {
             "color": "#2a3f5f"
            },
            "marker": {
             "line": {
              "color": "#E5ECF6",
              "width": 0.5
             },
             "pattern": {
              "fillmode": "overlay",
              "size": 10,
              "solidity": 0.2
             }
            },
            "type": "bar"
           }
          ],
          "barpolar": [
           {
            "marker": {
             "line": {
              "color": "#E5ECF6",
              "width": 0.5
             },
             "pattern": {
              "fillmode": "overlay",
              "size": 10,
              "solidity": 0.2
             }
            },
            "type": "barpolar"
           }
          ],
          "carpet": [
           {
            "aaxis": {
             "endlinecolor": "#2a3f5f",
             "gridcolor": "white",
             "linecolor": "white",
             "minorgridcolor": "white",
             "startlinecolor": "#2a3f5f"
            },
            "baxis": {
             "endlinecolor": "#2a3f5f",
             "gridcolor": "white",
             "linecolor": "white",
             "minorgridcolor": "white",
             "startlinecolor": "#2a3f5f"
            },
            "type": "carpet"
           }
          ],
          "choropleth": [
           {
            "colorbar": {
             "outlinewidth": 0,
             "ticks": ""
            },
            "type": "choropleth"
           }
          ],
          "contour": [
           {
            "colorbar": {
             "outlinewidth": 0,
             "ticks": ""
            },
            "colorscale": [
             [
              0,
              "#0d0887"
             ],
             [
              0.1111111111111111,
              "#46039f"
             ],
             [
              0.2222222222222222,
              "#7201a8"
             ],
             [
              0.3333333333333333,
              "#9c179e"
             ],
             [
              0.4444444444444444,
              "#bd3786"
             ],
             [
              0.5555555555555556,
              "#d8576b"
             ],
             [
              0.6666666666666666,
              "#ed7953"
             ],
             [
              0.7777777777777778,
              "#fb9f3a"
             ],
             [
              0.8888888888888888,
              "#fdca26"
             ],
             [
              1,
              "#f0f921"
             ]
            ],
            "type": "contour"
           }
          ],
          "contourcarpet": [
           {
            "colorbar": {
             "outlinewidth": 0,
             "ticks": ""
            },
            "type": "contourcarpet"
           }
          ],
          "heatmap": [
           {
            "colorbar": {
             "outlinewidth": 0,
             "ticks": ""
            },
            "colorscale": [
             [
              0,
              "#0d0887"
             ],
             [
              0.1111111111111111,
              "#46039f"
             ],
             [
              0.2222222222222222,
              "#7201a8"
             ],
             [
              0.3333333333333333,
              "#9c179e"
             ],
             [
              0.4444444444444444,
              "#bd3786"
             ],
             [
              0.5555555555555556,
              "#d8576b"
             ],
             [
              0.6666666666666666,
              "#ed7953"
             ],
             [
              0.7777777777777778,
              "#fb9f3a"
             ],
             [
              0.8888888888888888,
              "#fdca26"
             ],
             [
              1,
              "#f0f921"
             ]
            ],
            "type": "heatmap"
           }
          ],
          "heatmapgl": [
           {
            "colorbar": {
             "outlinewidth": 0,
             "ticks": ""
            },
            "colorscale": [
             [
              0,
              "#0d0887"
             ],
             [
              0.1111111111111111,
              "#46039f"
             ],
             [
              0.2222222222222222,
              "#7201a8"
             ],
             [
              0.3333333333333333,
              "#9c179e"
             ],
             [
              0.4444444444444444,
              "#bd3786"
             ],
             [
              0.5555555555555556,
              "#d8576b"
             ],
             [
              0.6666666666666666,
              "#ed7953"
             ],
             [
              0.7777777777777778,
              "#fb9f3a"
             ],
             [
              0.8888888888888888,
              "#fdca26"
             ],
             [
              1,
              "#f0f921"
             ]
            ],
            "type": "heatmapgl"
           }
          ],
          "histogram": [
           {
            "marker": {
             "pattern": {
              "fillmode": "overlay",
              "size": 10,
              "solidity": 0.2
             }
            },
            "type": "histogram"
           }
          ],
          "histogram2d": [
           {
            "colorbar": {
             "outlinewidth": 0,
             "ticks": ""
            },
            "colorscale": [
             [
              0,
              "#0d0887"
             ],
             [
              0.1111111111111111,
              "#46039f"
             ],
             [
              0.2222222222222222,
              "#7201a8"
             ],
             [
              0.3333333333333333,
              "#9c179e"
             ],
             [
              0.4444444444444444,
              "#bd3786"
             ],
             [
              0.5555555555555556,
              "#d8576b"
             ],
             [
              0.6666666666666666,
              "#ed7953"
             ],
             [
              0.7777777777777778,
              "#fb9f3a"
             ],
             [
              0.8888888888888888,
              "#fdca26"
             ],
             [
              1,
              "#f0f921"
             ]
            ],
            "type": "histogram2d"
           }
          ],
          "histogram2dcontour": [
           {
            "colorbar": {
             "outlinewidth": 0,
             "ticks": ""
            },
            "colorscale": [
             [
              0,
              "#0d0887"
             ],
             [
              0.1111111111111111,
              "#46039f"
             ],
             [
              0.2222222222222222,
              "#7201a8"
             ],
             [
              0.3333333333333333,
              "#9c179e"
             ],
             [
              0.4444444444444444,
              "#bd3786"
             ],
             [
              0.5555555555555556,
              "#d8576b"
             ],
             [
              0.6666666666666666,
              "#ed7953"
             ],
             [
              0.7777777777777778,
              "#fb9f3a"
             ],
             [
              0.8888888888888888,
              "#fdca26"
             ],
             [
              1,
              "#f0f921"
             ]
            ],
            "type": "histogram2dcontour"
           }
          ],
          "mesh3d": [
           {
            "colorbar": {
             "outlinewidth": 0,
             "ticks": ""
            },
            "type": "mesh3d"
           }
          ],
          "parcoords": [
           {
            "line": {
             "colorbar": {
              "outlinewidth": 0,
              "ticks": ""
             }
            },
            "type": "parcoords"
           }
          ],
          "pie": [
           {
            "automargin": true,
            "type": "pie"
           }
          ],
          "scatter": [
           {
            "marker": {
             "colorbar": {
              "outlinewidth": 0,
              "ticks": ""
             }
            },
            "type": "scatter"
           }
          ],
          "scatter3d": [
           {
            "line": {
             "colorbar": {
              "outlinewidth": 0,
              "ticks": ""
             }
            },
            "marker": {
             "colorbar": {
              "outlinewidth": 0,
              "ticks": ""
             }
            },
            "type": "scatter3d"
           }
          ],
          "scattercarpet": [
           {
            "marker": {
             "colorbar": {
              "outlinewidth": 0,
              "ticks": ""
             }
            },
            "type": "scattercarpet"
           }
          ],
          "scattergeo": [
           {
            "marker": {
             "colorbar": {
              "outlinewidth": 0,
              "ticks": ""
             }
            },
            "type": "scattergeo"
           }
          ],
          "scattergl": [
           {
            "marker": {
             "colorbar": {
              "outlinewidth": 0,
              "ticks": ""
             }
            },
            "type": "scattergl"
           }
          ],
          "scattermapbox": [
           {
            "marker": {
             "colorbar": {
              "outlinewidth": 0,
              "ticks": ""
             }
            },
            "type": "scattermapbox"
           }
          ],
          "scatterpolar": [
           {
            "marker": {
             "colorbar": {
              "outlinewidth": 0,
              "ticks": ""
             }
            },
            "type": "scatterpolar"
           }
          ],
          "scatterpolargl": [
           {
            "marker": {
             "colorbar": {
              "outlinewidth": 0,
              "ticks": ""
             }
            },
            "type": "scatterpolargl"
           }
          ],
          "scatterternary": [
           {
            "marker": {
             "colorbar": {
              "outlinewidth": 0,
              "ticks": ""
             }
            },
            "type": "scatterternary"
           }
          ],
          "surface": [
           {
            "colorbar": {
             "outlinewidth": 0,
             "ticks": ""
            },
            "colorscale": [
             [
              0,
              "#0d0887"
             ],
             [
              0.1111111111111111,
              "#46039f"
             ],
             [
              0.2222222222222222,
              "#7201a8"
             ],
             [
              0.3333333333333333,
              "#9c179e"
             ],
             [
              0.4444444444444444,
              "#bd3786"
             ],
             [
              0.5555555555555556,
              "#d8576b"
             ],
             [
              0.6666666666666666,
              "#ed7953"
             ],
             [
              0.7777777777777778,
              "#fb9f3a"
             ],
             [
              0.8888888888888888,
              "#fdca26"
             ],
             [
              1,
              "#f0f921"
             ]
            ],
            "type": "surface"
           }
          ],
          "table": [
           {
            "cells": {
             "fill": {
              "color": "#EBF0F8"
             },
             "line": {
              "color": "white"
             }
            },
            "header": {
             "fill": {
              "color": "#C8D4E3"
             },
             "line": {
              "color": "white"
             }
            },
            "type": "table"
           }
          ]
         },
         "layout": {
          "annotationdefaults": {
           "arrowcolor": "#2a3f5f",
           "arrowhead": 0,
           "arrowwidth": 1
          },
          "autotypenumbers": "strict",
          "coloraxis": {
           "colorbar": {
            "outlinewidth": 0,
            "ticks": ""
           }
          },
          "colorscale": {
           "diverging": [
            [
             0,
             "#8e0152"
            ],
            [
             0.1,
             "#c51b7d"
            ],
            [
             0.2,
             "#de77ae"
            ],
            [
             0.3,
             "#f1b6da"
            ],
            [
             0.4,
             "#fde0ef"
            ],
            [
             0.5,
             "#f7f7f7"
            ],
            [
             0.6,
             "#e6f5d0"
            ],
            [
             0.7,
             "#b8e186"
            ],
            [
             0.8,
             "#7fbc41"
            ],
            [
             0.9,
             "#4d9221"
            ],
            [
             1,
             "#276419"
            ]
           ],
           "sequential": [
            [
             0,
             "#0d0887"
            ],
            [
             0.1111111111111111,
             "#46039f"
            ],
            [
             0.2222222222222222,
             "#7201a8"
            ],
            [
             0.3333333333333333,
             "#9c179e"
            ],
            [
             0.4444444444444444,
             "#bd3786"
            ],
            [
             0.5555555555555556,
             "#d8576b"
            ],
            [
             0.6666666666666666,
             "#ed7953"
            ],
            [
             0.7777777777777778,
             "#fb9f3a"
            ],
            [
             0.8888888888888888,
             "#fdca26"
            ],
            [
             1,
             "#f0f921"
            ]
           ],
           "sequentialminus": [
            [
             0,
             "#0d0887"
            ],
            [
             0.1111111111111111,
             "#46039f"
            ],
            [
             0.2222222222222222,
             "#7201a8"
            ],
            [
             0.3333333333333333,
             "#9c179e"
            ],
            [
             0.4444444444444444,
             "#bd3786"
            ],
            [
             0.5555555555555556,
             "#d8576b"
            ],
            [
             0.6666666666666666,
             "#ed7953"
            ],
            [
             0.7777777777777778,
             "#fb9f3a"
            ],
            [
             0.8888888888888888,
             "#fdca26"
            ],
            [
             1,
             "#f0f921"
            ]
           ]
          },
          "colorway": [
           "#636efa",
           "#EF553B",
           "#00cc96",
           "#ab63fa",
           "#FFA15A",
           "#19d3f3",
           "#FF6692",
           "#B6E880",
           "#FF97FF",
           "#FECB52"
          ],
          "font": {
           "color": "#2a3f5f"
          },
          "geo": {
           "bgcolor": "white",
           "lakecolor": "white",
           "landcolor": "#E5ECF6",
           "showlakes": true,
           "showland": true,
           "subunitcolor": "white"
          },
          "hoverlabel": {
           "align": "left"
          },
          "hovermode": "closest",
          "mapbox": {
           "style": "light"
          },
          "paper_bgcolor": "white",
          "plot_bgcolor": "#E5ECF6",
          "polar": {
           "angularaxis": {
            "gridcolor": "white",
            "linecolor": "white",
            "ticks": ""
           },
           "bgcolor": "#E5ECF6",
           "radialaxis": {
            "gridcolor": "white",
            "linecolor": "white",
            "ticks": ""
           }
          },
          "scene": {
           "xaxis": {
            "backgroundcolor": "#E5ECF6",
            "gridcolor": "white",
            "gridwidth": 2,
            "linecolor": "white",
            "showbackground": true,
            "ticks": "",
            "zerolinecolor": "white"
           },
           "yaxis": {
            "backgroundcolor": "#E5ECF6",
            "gridcolor": "white",
            "gridwidth": 2,
            "linecolor": "white",
            "showbackground": true,
            "ticks": "",
            "zerolinecolor": "white"
           },
           "zaxis": {
            "backgroundcolor": "#E5ECF6",
            "gridcolor": "white",
            "gridwidth": 2,
            "linecolor": "white",
            "showbackground": true,
            "ticks": "",
            "zerolinecolor": "white"
           }
          },
          "shapedefaults": {
           "line": {
            "color": "#2a3f5f"
           }
          },
          "ternary": {
           "aaxis": {
            "gridcolor": "white",
            "linecolor": "white",
            "ticks": ""
           },
           "baxis": {
            "gridcolor": "white",
            "linecolor": "white",
            "ticks": ""
           },
           "bgcolor": "#E5ECF6",
           "caxis": {
            "gridcolor": "white",
            "linecolor": "white",
            "ticks": ""
           }
          },
          "title": {
           "x": 0.05
          },
          "xaxis": {
           "automargin": true,
           "gridcolor": "white",
           "linecolor": "white",
           "ticks": "",
           "title": {
            "standoff": 15
           },
           "zerolinecolor": "white",
           "zerolinewidth": 2
          },
          "yaxis": {
           "automargin": true,
           "gridcolor": "white",
           "linecolor": "white",
           "ticks": "",
           "title": {
            "standoff": 15
           },
           "zerolinecolor": "white",
           "zerolinewidth": 2
          }
         }
        },
        "xaxis": {
         "anchor": "y",
         "domain": [
          0,
          1
         ],
         "title": {
          "text": "x"
         }
        },
        "yaxis": {
         "anchor": "x",
         "domain": [
          0,
          1
         ],
         "title": {
          "text": "y"
         }
        }
       }
      },
      "text/html": [
       "<div>                            <div id=\"afac2046-7639-4419-aff6-8118ca25d1e4\" class=\"plotly-graph-div\" style=\"height:525px; width:100%;\"></div>            <script type=\"text/javascript\">                require([\"plotly\"], function(Plotly) {                    window.PLOTLYENV=window.PLOTLYENV || {};                                    if (document.getElementById(\"afac2046-7639-4419-aff6-8118ca25d1e4\")) {                    Plotly.newPlot(                        \"afac2046-7639-4419-aff6-8118ca25d1e4\",                        [{\"hovertemplate\":\"color=Nike<br>x=%{x}<br>y=%{y}<extra></extra>\",\"legendgroup\":\"Nike\",\"marker\":{\"color\":\"#636efa\",\"symbol\":\"circle\"},\"mode\":\"markers\",\"name\":\"Nike\",\"orientation\":\"v\",\"showlegend\":true,\"x\":[0.20489180285136294],\"xaxis\":\"x\",\"y\":[0.890062625618591],\"yaxis\":\"y\",\"type\":\"scatter\"},{\"hovertemplate\":\"color=Adidas<br>x=%{x}<br>y=%{y}<extra></extra>\",\"legendgroup\":\"Adidas\",\"marker\":{\"color\":\"#EF553B\",\"symbol\":\"circle\"},\"mode\":\"markers\",\"name\":\"Adidas\",\"orientation\":\"v\",\"showlegend\":true,\"x\":[0.20460581742491246],\"xaxis\":\"x\",\"y\":[0.8887965529133148],\"yaxis\":\"y\",\"type\":\"scatter\"},{\"hovertemplate\":\"color=Asics<br>x=%{x}<br>y=%{y}<extra></extra>\",\"legendgroup\":\"Asics\",\"marker\":{\"color\":\"#00cc96\",\"symbol\":\"circle\"},\"mode\":\"markers\",\"name\":\"Asics\",\"orientation\":\"v\",\"showlegend\":true,\"x\":[0.23039710194948845],\"xaxis\":\"x\",\"y\":[0.896024319437934],\"yaxis\":\"y\",\"type\":\"scatter\"},{\"hovertemplate\":\"color=Reebok<br>x=%{x}<br>y=%{y}<extra></extra>\",\"legendgroup\":\"Reebok\",\"marker\":{\"color\":\"#ab63fa\",\"symbol\":\"circle\"},\"mode\":\"markers\",\"name\":\"Reebok\",\"orientation\":\"v\",\"showlegend\":true,\"x\":[0.2610846382136843],\"xaxis\":\"x\",\"y\":[0.8342493592493592],\"yaxis\":\"y\",\"type\":\"scatter\"},{\"hovertemplate\":\"color=Skechers<br>x=%{x}<br>y=%{y}<extra></extra>\",\"legendgroup\":\"Skechers\",\"marker\":{\"color\":\"#FFA15A\",\"symbol\":\"circle\"},\"mode\":\"markers\",\"name\":\"Skechers\",\"orientation\":\"v\",\"showlegend\":true,\"x\":[0.2719384021938369],\"xaxis\":\"x\",\"y\":[0.7955433883615229],\"yaxis\":\"y\",\"type\":\"scatter\"},{\"hovertemplate\":\"color=Under Armour<br>x=%{x}<br>y=%{y}<extra></extra>\",\"legendgroup\":\"Under Armour\",\"marker\":{\"color\":\"#19d3f3\",\"symbol\":\"circle\"},\"mode\":\"markers\",\"name\":\"Under Armour\",\"orientation\":\"v\",\"showlegend\":true,\"x\":[0.08316104229232908],\"xaxis\":\"x\",\"y\":[0.8856947819070935],\"yaxis\":\"y\",\"type\":\"scatter\"},{\"hovertemplate\":\"color=Umbro<br>x=%{x}<br>y=%{y}<extra></extra>\",\"legendgroup\":\"Umbro\",\"marker\":{\"color\":\"#FF6692\",\"symbol\":\"circle\"},\"mode\":\"markers\",\"name\":\"Umbro\",\"orientation\":\"v\",\"showlegend\":true,\"x\":[0.2218498321710396],\"xaxis\":\"x\",\"y\":[0.7896475335364224],\"yaxis\":\"y\",\"type\":\"scatter\"},{\"hovertemplate\":\"color=Puma<br>x=%{x}<br>y=%{y}<extra></extra>\",\"legendgroup\":\"Puma\",\"marker\":{\"color\":\"#B6E880\",\"symbol\":\"circle\"},\"mode\":\"markers\",\"name\":\"Puma\",\"orientation\":\"v\",\"showlegend\":true,\"x\":[0.23911617268566362],\"xaxis\":\"x\",\"y\":[0.8202473301771054],\"yaxis\":\"y\",\"type\":\"scatter\"}],                        {\"template\":{\"data\":{\"bar\":[{\"error_x\":{\"color\":\"#2a3f5f\"},\"error_y\":{\"color\":\"#2a3f5f\"},\"marker\":{\"line\":{\"color\":\"#E5ECF6\",\"width\":0.5},\"pattern\":{\"fillmode\":\"overlay\",\"size\":10,\"solidity\":0.2}},\"type\":\"bar\"}],\"barpolar\":[{\"marker\":{\"line\":{\"color\":\"#E5ECF6\",\"width\":0.5},\"pattern\":{\"fillmode\":\"overlay\",\"size\":10,\"solidity\":0.2}},\"type\":\"barpolar\"}],\"carpet\":[{\"aaxis\":{\"endlinecolor\":\"#2a3f5f\",\"gridcolor\":\"white\",\"linecolor\":\"white\",\"minorgridcolor\":\"white\",\"startlinecolor\":\"#2a3f5f\"},\"baxis\":{\"endlinecolor\":\"#2a3f5f\",\"gridcolor\":\"white\",\"linecolor\":\"white\",\"minorgridcolor\":\"white\",\"startlinecolor\":\"#2a3f5f\"},\"type\":\"carpet\"}],\"choropleth\":[{\"colorbar\":{\"outlinewidth\":0,\"ticks\":\"\"},\"type\":\"choropleth\"}],\"contour\":[{\"colorbar\":{\"outlinewidth\":0,\"ticks\":\"\"},\"colorscale\":[[0.0,\"#0d0887\"],[0.1111111111111111,\"#46039f\"],[0.2222222222222222,\"#7201a8\"],[0.3333333333333333,\"#9c179e\"],[0.4444444444444444,\"#bd3786\"],[0.5555555555555556,\"#d8576b\"],[0.6666666666666666,\"#ed7953\"],[0.7777777777777778,\"#fb9f3a\"],[0.8888888888888888,\"#fdca26\"],[1.0,\"#f0f921\"]],\"type\":\"contour\"}],\"contourcarpet\":[{\"colorbar\":{\"outlinewidth\":0,\"ticks\":\"\"},\"type\":\"contourcarpet\"}],\"heatmap\":[{\"colorbar\":{\"outlinewidth\":0,\"ticks\":\"\"},\"colorscale\":[[0.0,\"#0d0887\"],[0.1111111111111111,\"#46039f\"],[0.2222222222222222,\"#7201a8\"],[0.3333333333333333,\"#9c179e\"],[0.4444444444444444,\"#bd3786\"],[0.5555555555555556,\"#d8576b\"],[0.6666666666666666,\"#ed7953\"],[0.7777777777777778,\"#fb9f3a\"],[0.8888888888888888,\"#fdca26\"],[1.0,\"#f0f921\"]],\"type\":\"heatmap\"}],\"heatmapgl\":[{\"colorbar\":{\"outlinewidth\":0,\"ticks\":\"\"},\"colorscale\":[[0.0,\"#0d0887\"],[0.1111111111111111,\"#46039f\"],[0.2222222222222222,\"#7201a8\"],[0.3333333333333333,\"#9c179e\"],[0.4444444444444444,\"#bd3786\"],[0.5555555555555556,\"#d8576b\"],[0.6666666666666666,\"#ed7953\"],[0.7777777777777778,\"#fb9f3a\"],[0.8888888888888888,\"#fdca26\"],[1.0,\"#f0f921\"]],\"type\":\"heatmapgl\"}],\"histogram\":[{\"marker\":{\"pattern\":{\"fillmode\":\"overlay\",\"size\":10,\"solidity\":0.2}},\"type\":\"histogram\"}],\"histogram2d\":[{\"colorbar\":{\"outlinewidth\":0,\"ticks\":\"\"},\"colorscale\":[[0.0,\"#0d0887\"],[0.1111111111111111,\"#46039f\"],[0.2222222222222222,\"#7201a8\"],[0.3333333333333333,\"#9c179e\"],[0.4444444444444444,\"#bd3786\"],[0.5555555555555556,\"#d8576b\"],[0.6666666666666666,\"#ed7953\"],[0.7777777777777778,\"#fb9f3a\"],[0.8888888888888888,\"#fdca26\"],[1.0,\"#f0f921\"]],\"type\":\"histogram2d\"}],\"histogram2dcontour\":[{\"colorbar\":{\"outlinewidth\":0,\"ticks\":\"\"},\"colorscale\":[[0.0,\"#0d0887\"],[0.1111111111111111,\"#46039f\"],[0.2222222222222222,\"#7201a8\"],[0.3333333333333333,\"#9c179e\"],[0.4444444444444444,\"#bd3786\"],[0.5555555555555556,\"#d8576b\"],[0.6666666666666666,\"#ed7953\"],[0.7777777777777778,\"#fb9f3a\"],[0.8888888888888888,\"#fdca26\"],[1.0,\"#f0f921\"]],\"type\":\"histogram2dcontour\"}],\"mesh3d\":[{\"colorbar\":{\"outlinewidth\":0,\"ticks\":\"\"},\"type\":\"mesh3d\"}],\"parcoords\":[{\"line\":{\"colorbar\":{\"outlinewidth\":0,\"ticks\":\"\"}},\"type\":\"parcoords\"}],\"pie\":[{\"automargin\":true,\"type\":\"pie\"}],\"scatter\":[{\"marker\":{\"colorbar\":{\"outlinewidth\":0,\"ticks\":\"\"}},\"type\":\"scatter\"}],\"scatter3d\":[{\"line\":{\"colorbar\":{\"outlinewidth\":0,\"ticks\":\"\"}},\"marker\":{\"colorbar\":{\"outlinewidth\":0,\"ticks\":\"\"}},\"type\":\"scatter3d\"}],\"scattercarpet\":[{\"marker\":{\"colorbar\":{\"outlinewidth\":0,\"ticks\":\"\"}},\"type\":\"scattercarpet\"}],\"scattergeo\":[{\"marker\":{\"colorbar\":{\"outlinewidth\":0,\"ticks\":\"\"}},\"type\":\"scattergeo\"}],\"scattergl\":[{\"marker\":{\"colorbar\":{\"outlinewidth\":0,\"ticks\":\"\"}},\"type\":\"scattergl\"}],\"scattermapbox\":[{\"marker\":{\"colorbar\":{\"outlinewidth\":0,\"ticks\":\"\"}},\"type\":\"scattermapbox\"}],\"scatterpolar\":[{\"marker\":{\"colorbar\":{\"outlinewidth\":0,\"ticks\":\"\"}},\"type\":\"scatterpolar\"}],\"scatterpolargl\":[{\"marker\":{\"colorbar\":{\"outlinewidth\":0,\"ticks\":\"\"}},\"type\":\"scatterpolargl\"}],\"scatterternary\":[{\"marker\":{\"colorbar\":{\"outlinewidth\":0,\"ticks\":\"\"}},\"type\":\"scatterternary\"}],\"surface\":[{\"colorbar\":{\"outlinewidth\":0,\"ticks\":\"\"},\"colorscale\":[[0.0,\"#0d0887\"],[0.1111111111111111,\"#46039f\"],[0.2222222222222222,\"#7201a8\"],[0.3333333333333333,\"#9c179e\"],[0.4444444444444444,\"#bd3786\"],[0.5555555555555556,\"#d8576b\"],[0.6666666666666666,\"#ed7953\"],[0.7777777777777778,\"#fb9f3a\"],[0.8888888888888888,\"#fdca26\"],[1.0,\"#f0f921\"]],\"type\":\"surface\"}],\"table\":[{\"cells\":{\"fill\":{\"color\":\"#EBF0F8\"},\"line\":{\"color\":\"white\"}},\"header\":{\"fill\":{\"color\":\"#C8D4E3\"},\"line\":{\"color\":\"white\"}},\"type\":\"table\"}]},\"layout\":{\"annotationdefaults\":{\"arrowcolor\":\"#2a3f5f\",\"arrowhead\":0,\"arrowwidth\":1},\"autotypenumbers\":\"strict\",\"coloraxis\":{\"colorbar\":{\"outlinewidth\":0,\"ticks\":\"\"}},\"colorscale\":{\"diverging\":[[0,\"#8e0152\"],[0.1,\"#c51b7d\"],[0.2,\"#de77ae\"],[0.3,\"#f1b6da\"],[0.4,\"#fde0ef\"],[0.5,\"#f7f7f7\"],[0.6,\"#e6f5d0\"],[0.7,\"#b8e186\"],[0.8,\"#7fbc41\"],[0.9,\"#4d9221\"],[1,\"#276419\"]],\"sequential\":[[0.0,\"#0d0887\"],[0.1111111111111111,\"#46039f\"],[0.2222222222222222,\"#7201a8\"],[0.3333333333333333,\"#9c179e\"],[0.4444444444444444,\"#bd3786\"],[0.5555555555555556,\"#d8576b\"],[0.6666666666666666,\"#ed7953\"],[0.7777777777777778,\"#fb9f3a\"],[0.8888888888888888,\"#fdca26\"],[1.0,\"#f0f921\"]],\"sequentialminus\":[[0.0,\"#0d0887\"],[0.1111111111111111,\"#46039f\"],[0.2222222222222222,\"#7201a8\"],[0.3333333333333333,\"#9c179e\"],[0.4444444444444444,\"#bd3786\"],[0.5555555555555556,\"#d8576b\"],[0.6666666666666666,\"#ed7953\"],[0.7777777777777778,\"#fb9f3a\"],[0.8888888888888888,\"#fdca26\"],[1.0,\"#f0f921\"]]},\"colorway\":[\"#636efa\",\"#EF553B\",\"#00cc96\",\"#ab63fa\",\"#FFA15A\",\"#19d3f3\",\"#FF6692\",\"#B6E880\",\"#FF97FF\",\"#FECB52\"],\"font\":{\"color\":\"#2a3f5f\"},\"geo\":{\"bgcolor\":\"white\",\"lakecolor\":\"white\",\"landcolor\":\"#E5ECF6\",\"showlakes\":true,\"showland\":true,\"subunitcolor\":\"white\"},\"hoverlabel\":{\"align\":\"left\"},\"hovermode\":\"closest\",\"mapbox\":{\"style\":\"light\"},\"paper_bgcolor\":\"white\",\"plot_bgcolor\":\"#E5ECF6\",\"polar\":{\"angularaxis\":{\"gridcolor\":\"white\",\"linecolor\":\"white\",\"ticks\":\"\"},\"bgcolor\":\"#E5ECF6\",\"radialaxis\":{\"gridcolor\":\"white\",\"linecolor\":\"white\",\"ticks\":\"\"}},\"scene\":{\"xaxis\":{\"backgroundcolor\":\"#E5ECF6\",\"gridcolor\":\"white\",\"gridwidth\":2,\"linecolor\":\"white\",\"showbackground\":true,\"ticks\":\"\",\"zerolinecolor\":\"white\"},\"yaxis\":{\"backgroundcolor\":\"#E5ECF6\",\"gridcolor\":\"white\",\"gridwidth\":2,\"linecolor\":\"white\",\"showbackground\":true,\"ticks\":\"\",\"zerolinecolor\":\"white\"},\"zaxis\":{\"backgroundcolor\":\"#E5ECF6\",\"gridcolor\":\"white\",\"gridwidth\":2,\"linecolor\":\"white\",\"showbackground\":true,\"ticks\":\"\",\"zerolinecolor\":\"white\"}},\"shapedefaults\":{\"line\":{\"color\":\"#2a3f5f\"}},\"ternary\":{\"aaxis\":{\"gridcolor\":\"white\",\"linecolor\":\"white\",\"ticks\":\"\"},\"baxis\":{\"gridcolor\":\"white\",\"linecolor\":\"white\",\"ticks\":\"\"},\"bgcolor\":\"#E5ECF6\",\"caxis\":{\"gridcolor\":\"white\",\"linecolor\":\"white\",\"ticks\":\"\"}},\"title\":{\"x\":0.05},\"xaxis\":{\"automargin\":true,\"gridcolor\":\"white\",\"linecolor\":\"white\",\"ticks\":\"\",\"title\":{\"standoff\":15},\"zerolinecolor\":\"white\",\"zerolinewidth\":2},\"yaxis\":{\"automargin\":true,\"gridcolor\":\"white\",\"linecolor\":\"white\",\"ticks\":\"\",\"title\":{\"standoff\":15},\"zerolinecolor\":\"white\",\"zerolinewidth\":2}}},\"xaxis\":{\"anchor\":\"y\",\"domain\":[0.0,1.0],\"title\":{\"text\":\"x\"}},\"yaxis\":{\"anchor\":\"x\",\"domain\":[0.0,1.0],\"title\":{\"text\":\"y\"}},\"legend\":{\"title\":{\"text\":\"color\"},\"tracegroupgap\":0},\"margin\":{\"t\":60}},                        {\"responsive\": true}                    ).then(function(){\n",
       "                            \n",
       "var gd = document.getElementById('afac2046-7639-4419-aff6-8118ca25d1e4');\n",
       "var x = new MutationObserver(function (mutations, observer) {{\n",
       "        var display = window.getComputedStyle(gd).display;\n",
       "        if (!display || display === 'none') {{\n",
       "            console.log([gd, 'removed!']);\n",
       "            Plotly.purge(gd);\n",
       "            observer.disconnect();\n",
       "        }}\n",
       "}});\n",
       "\n",
       "// Listen for the removal of the full notebook cells\n",
       "var notebookContainer = gd.closest('#notebook-container');\n",
       "if (notebookContainer) {{\n",
       "    x.observe(notebookContainer, {childList: true});\n",
       "}}\n",
       "\n",
       "// Listen for the clearing of the current output cell\n",
       "var outputEl = gd.closest('.output');\n",
       "if (outputEl) {{\n",
       "    x.observe(outputEl, {childList: true});\n",
       "}}\n",
       "\n",
       "                        })                };                });            </script>        </div>"
      ]
     },
     "metadata": {},
     "output_type": "display_data"
    }
   ],
   "source": [
    "import plotly.express as px\n",
    "fig = px.scatter(y=sport_brands_df['price_score'], x=sport_brands_df[\"quality_score\"], color=sport_brands_df.brand)\n",
    "fig.show()"
   ]
  },
  {
   "cell_type": "markdown",
   "id": "192012a1",
   "metadata": {},
   "source": [
    "## VADER Scores"
   ]
  },
  {
   "cell_type": "markdown",
   "id": "23d8e7bd",
   "metadata": {},
   "source": [
    "Nos centraremos en el 'compound score' ya que es el que nos aporta una visión global del análisis del sentimiento de cada tweet.\n",
    "\n",
    "Para simplificar el proceso, generamos una nueva columna del DataFrame que recoja este score para cada tweet."
   ]
  },
  {
   "cell_type": "code",
   "execution_count": 51,
   "id": "a9804ef7",
   "metadata": {},
   "outputs": [
    {
     "data": {
      "text/html": [
       "<div>\n",
       "<style scoped>\n",
       "    .dataframe tbody tr th:only-of-type {\n",
       "        vertical-align: middle;\n",
       "    }\n",
       "\n",
       "    .dataframe tbody tr th {\n",
       "        vertical-align: top;\n",
       "    }\n",
       "\n",
       "    .dataframe thead th {\n",
       "        text-align: right;\n",
       "    }\n",
       "</style>\n",
       "<table border=\"1\" class=\"dataframe\">\n",
       "  <thead>\n",
       "    <tr style=\"text-align: right;\">\n",
       "      <th></th>\n",
       "      <th>index</th>\n",
       "      <th>text</th>\n",
       "      <th>hashtags</th>\n",
       "      <th>brand_attribute</th>\n",
       "      <th>brand</th>\n",
       "      <th>token</th>\n",
       "      <th>blob_scores</th>\n",
       "      <th>vader_scores</th>\n",
       "    </tr>\n",
       "  </thead>\n",
       "  <tbody>\n",
       "    <tr>\n",
       "      <th>0</th>\n",
       "      <td>0</td>\n",
       "      <td>nobody cares about nike in russia russia is al...</td>\n",
       "      <td>[]</td>\n",
       "      <td>quality</td>\n",
       "      <td>nike</td>\n",
       "      <td>[care, nike, russia, russia, adidas]</td>\n",
       "      <td>0.000</td>\n",
       "      <td>{'neg': 0.0, 'neu': 0.556, 'pos': 0.444, 'comp...</td>\n",
       "    </tr>\n",
       "    <tr>\n",
       "      <th>1</th>\n",
       "      <td>1</td>\n",
       "      <td>ye green nike hoodie waala two weeks pehle put...</td>\n",
       "      <td>[]</td>\n",
       "      <td>quality</td>\n",
       "      <td>nike</td>\n",
       "      <td>[ye, green, nike, hoodie, waala, week, pehle, ...</td>\n",
       "      <td>-0.475</td>\n",
       "      <td>{'neg': 0.136, 'neu': 0.741, 'pos': 0.123, 'co...</td>\n",
       "    </tr>\n",
       "    <tr>\n",
       "      <th>2</th>\n",
       "      <td>2</td>\n",
       "      <td>nike okundaye also knowns nike twins seven sev...</td>\n",
       "      <td>[#womengiant, #Documentwomen]</td>\n",
       "      <td>quality</td>\n",
       "      <td>nike</td>\n",
       "      <td>[nike, okundaye, knowns, nike, twin, seven, se...</td>\n",
       "      <td>0.000</td>\n",
       "      <td>{'neg': 0.0, 'neu': 1.0, 'pos': 0.0, 'compound...</td>\n",
       "    </tr>\n",
       "    <tr>\n",
       "      <th>3</th>\n",
       "      <td>3</td>\n",
       "      <td>day four of maxmadness air max month nike air ...</td>\n",
       "      <td>[#maxmadness, #AirMaxMonth, #airmaxgang, #kotd...</td>\n",
       "      <td>quality</td>\n",
       "      <td>nike</td>\n",
       "      <td>[day, maxmadness, air, max, month, nike, air, ...</td>\n",
       "      <td>0.750</td>\n",
       "      <td>{'neg': 0.0, 'neu': 0.741, 'pos': 0.259, 'comp...</td>\n",
       "    </tr>\n",
       "    <tr>\n",
       "      <th>4</th>\n",
       "      <td>4</td>\n",
       "      <td>thank you sir</td>\n",
       "      <td>[]</td>\n",
       "      <td>quality</td>\n",
       "      <td>nike</td>\n",
       "      <td>[thank, sir]</td>\n",
       "      <td>0.000</td>\n",
       "      <td>{'neg': 0.0, 'neu': 0.286, 'pos': 0.714, 'comp...</td>\n",
       "    </tr>\n",
       "  </tbody>\n",
       "</table>\n",
       "</div>"
      ],
      "text/plain": [
       "   index                                               text  \\\n",
       "0      0  nobody cares about nike in russia russia is al...   \n",
       "1      1  ye green nike hoodie waala two weeks pehle put...   \n",
       "2      2  nike okundaye also knowns nike twins seven sev...   \n",
       "3      3  day four of maxmadness air max month nike air ...   \n",
       "4      4                                      thank you sir   \n",
       "\n",
       "                                            hashtags brand_attribute brand  \\\n",
       "0                                                 []         quality  nike   \n",
       "1                                                 []         quality  nike   \n",
       "2                      [#womengiant, #Documentwomen]         quality  nike   \n",
       "3  [#maxmadness, #AirMaxMonth, #airmaxgang, #kotd...         quality  nike   \n",
       "4                                                 []         quality  nike   \n",
       "\n",
       "                                               token  blob_scores  \\\n",
       "0               [care, nike, russia, russia, adidas]        0.000   \n",
       "1  [ye, green, nike, hoodie, waala, week, pehle, ...       -0.475   \n",
       "2  [nike, okundaye, knowns, nike, twin, seven, se...        0.000   \n",
       "3  [day, maxmadness, air, max, month, nike, air, ...        0.750   \n",
       "4                                       [thank, sir]        0.000   \n",
       "\n",
       "                                        vader_scores  \n",
       "0  {'neg': 0.0, 'neu': 0.556, 'pos': 0.444, 'comp...  \n",
       "1  {'neg': 0.136, 'neu': 0.741, 'pos': 0.123, 'co...  \n",
       "2  {'neg': 0.0, 'neu': 1.0, 'pos': 0.0, 'compound...  \n",
       "3  {'neg': 0.0, 'neu': 0.741, 'pos': 0.259, 'comp...  \n",
       "4  {'neg': 0.0, 'neu': 0.286, 'pos': 0.714, 'comp...  "
      ]
     },
     "execution_count": 51,
     "metadata": {},
     "output_type": "execute_result"
    }
   ],
   "source": [
    "brands_tweets.head()"
   ]
  },
  {
   "cell_type": "code",
   "execution_count": 52,
   "id": "7581a5df",
   "metadata": {},
   "outputs": [],
   "source": [
    "brands_tweets['compound_vader_score']  = brands_tweets['vader_scores'].apply(lambda score_dict: score_dict['compound'])"
   ]
  },
  {
   "cell_type": "code",
   "execution_count": 53,
   "id": "3329f123",
   "metadata": {},
   "outputs": [
    {
     "data": {
      "text/html": [
       "<div>\n",
       "<style scoped>\n",
       "    .dataframe tbody tr th:only-of-type {\n",
       "        vertical-align: middle;\n",
       "    }\n",
       "\n",
       "    .dataframe tbody tr th {\n",
       "        vertical-align: top;\n",
       "    }\n",
       "\n",
       "    .dataframe thead th {\n",
       "        text-align: right;\n",
       "    }\n",
       "</style>\n",
       "<table border=\"1\" class=\"dataframe\">\n",
       "  <thead>\n",
       "    <tr style=\"text-align: right;\">\n",
       "      <th></th>\n",
       "      <th>index</th>\n",
       "      <th>text</th>\n",
       "      <th>hashtags</th>\n",
       "      <th>brand_attribute</th>\n",
       "      <th>brand</th>\n",
       "      <th>token</th>\n",
       "      <th>blob_scores</th>\n",
       "      <th>vader_scores</th>\n",
       "      <th>compound_vader_score</th>\n",
       "    </tr>\n",
       "  </thead>\n",
       "  <tbody>\n",
       "    <tr>\n",
       "      <th>0</th>\n",
       "      <td>0</td>\n",
       "      <td>nobody cares about nike in russia russia is al...</td>\n",
       "      <td>[]</td>\n",
       "      <td>quality</td>\n",
       "      <td>nike</td>\n",
       "      <td>[care, nike, russia, russia, adidas]</td>\n",
       "      <td>0.000</td>\n",
       "      <td>{'neg': 0.0, 'neu': 0.556, 'pos': 0.444, 'comp...</td>\n",
       "      <td>0.4939</td>\n",
       "    </tr>\n",
       "    <tr>\n",
       "      <th>1</th>\n",
       "      <td>1</td>\n",
       "      <td>ye green nike hoodie waala two weeks pehle put...</td>\n",
       "      <td>[]</td>\n",
       "      <td>quality</td>\n",
       "      <td>nike</td>\n",
       "      <td>[ye, green, nike, hoodie, waala, week, pehle, ...</td>\n",
       "      <td>-0.475</td>\n",
       "      <td>{'neg': 0.136, 'neu': 0.741, 'pos': 0.123, 'co...</td>\n",
       "      <td>-0.1280</td>\n",
       "    </tr>\n",
       "    <tr>\n",
       "      <th>2</th>\n",
       "      <td>2</td>\n",
       "      <td>nike okundaye also knowns nike twins seven sev...</td>\n",
       "      <td>[#womengiant, #Documentwomen]</td>\n",
       "      <td>quality</td>\n",
       "      <td>nike</td>\n",
       "      <td>[nike, okundaye, knowns, nike, twin, seven, se...</td>\n",
       "      <td>0.000</td>\n",
       "      <td>{'neg': 0.0, 'neu': 1.0, 'pos': 0.0, 'compound...</td>\n",
       "      <td>0.0000</td>\n",
       "    </tr>\n",
       "    <tr>\n",
       "      <th>3</th>\n",
       "      <td>3</td>\n",
       "      <td>day four of maxmadness air max month nike air ...</td>\n",
       "      <td>[#maxmadness, #AirMaxMonth, #airmaxgang, #kotd...</td>\n",
       "      <td>quality</td>\n",
       "      <td>nike</td>\n",
       "      <td>[day, maxmadness, air, max, month, nike, air, ...</td>\n",
       "      <td>0.750</td>\n",
       "      <td>{'neg': 0.0, 'neu': 0.741, 'pos': 0.259, 'comp...</td>\n",
       "      <td>0.7906</td>\n",
       "    </tr>\n",
       "    <tr>\n",
       "      <th>4</th>\n",
       "      <td>4</td>\n",
       "      <td>thank you sir</td>\n",
       "      <td>[]</td>\n",
       "      <td>quality</td>\n",
       "      <td>nike</td>\n",
       "      <td>[thank, sir]</td>\n",
       "      <td>0.000</td>\n",
       "      <td>{'neg': 0.0, 'neu': 0.286, 'pos': 0.714, 'comp...</td>\n",
       "      <td>0.3612</td>\n",
       "    </tr>\n",
       "  </tbody>\n",
       "</table>\n",
       "</div>"
      ],
      "text/plain": [
       "   index                                               text  \\\n",
       "0      0  nobody cares about nike in russia russia is al...   \n",
       "1      1  ye green nike hoodie waala two weeks pehle put...   \n",
       "2      2  nike okundaye also knowns nike twins seven sev...   \n",
       "3      3  day four of maxmadness air max month nike air ...   \n",
       "4      4                                      thank you sir   \n",
       "\n",
       "                                            hashtags brand_attribute brand  \\\n",
       "0                                                 []         quality  nike   \n",
       "1                                                 []         quality  nike   \n",
       "2                      [#womengiant, #Documentwomen]         quality  nike   \n",
       "3  [#maxmadness, #AirMaxMonth, #airmaxgang, #kotd...         quality  nike   \n",
       "4                                                 []         quality  nike   \n",
       "\n",
       "                                               token  blob_scores  \\\n",
       "0               [care, nike, russia, russia, adidas]        0.000   \n",
       "1  [ye, green, nike, hoodie, waala, week, pehle, ...       -0.475   \n",
       "2  [nike, okundaye, knowns, nike, twin, seven, se...        0.000   \n",
       "3  [day, maxmadness, air, max, month, nike, air, ...        0.750   \n",
       "4                                       [thank, sir]        0.000   \n",
       "\n",
       "                                        vader_scores  compound_vader_score  \n",
       "0  {'neg': 0.0, 'neu': 0.556, 'pos': 0.444, 'comp...                0.4939  \n",
       "1  {'neg': 0.136, 'neu': 0.741, 'pos': 0.123, 'co...               -0.1280  \n",
       "2  {'neg': 0.0, 'neu': 1.0, 'pos': 0.0, 'compound...                0.0000  \n",
       "3  {'neg': 0.0, 'neu': 0.741, 'pos': 0.259, 'comp...                0.7906  \n",
       "4  {'neg': 0.0, 'neu': 0.286, 'pos': 0.714, 'comp...                0.3612  "
      ]
     },
     "execution_count": 53,
     "metadata": {},
     "output_type": "execute_result"
    }
   ],
   "source": [
    "brands_tweets.head()"
   ]
  },
  {
   "cell_type": "code",
   "execution_count": 54,
   "id": "d5237ee4",
   "metadata": {},
   "outputs": [
    {
     "data": {
      "text/plain": [
       "0.1053805303017492"
      ]
     },
     "execution_count": 54,
     "metadata": {},
     "output_type": "execute_result"
    }
   ],
   "source": [
    "brands_tweets.blob_scores.mean()"
   ]
  },
  {
   "cell_type": "markdown",
   "id": "5d4587cb",
   "metadata": {},
   "source": [
    "**Resultados Nike:**"
   ]
  },
  {
   "cell_type": "code",
   "execution_count": 55,
   "id": "1e4632a0",
   "metadata": {},
   "outputs": [],
   "source": [
    "vader_nike_price = brands_tweets[(brands_tweets['brand'] == 'nike') & (brands_tweets['brand_attribute'] == 'price') & (brands_tweets['compound_vader_score'] != 0.000)]"
   ]
  },
  {
   "cell_type": "code",
   "execution_count": 56,
   "id": "c9ea3d4d",
   "metadata": {},
   "outputs": [
    {
     "name": "stdout",
     "output_type": "stream",
     "text": [
      "Precio Nike:  0.1872288930084746\n"
     ]
    }
   ],
   "source": [
    "print('Precio Nike: ', vader_nike_price.compound_vader_score.mean())"
   ]
  },
  {
   "cell_type": "code",
   "execution_count": 57,
   "id": "8cee265d",
   "metadata": {},
   "outputs": [],
   "source": [
    "vader_nike_quality = brands_tweets[(brands_tweets['brand'] == 'nike') & (brands_tweets['brand_attribute'] == 'quality') & (brands_tweets['compound_vader_score'] != 0.000)]"
   ]
  },
  {
   "cell_type": "code",
   "execution_count": 58,
   "id": "b81edb09",
   "metadata": {},
   "outputs": [
    {
     "name": "stdout",
     "output_type": "stream",
     "text": [
      "Calidad Nike:  0.2550077126141553\n"
     ]
    }
   ],
   "source": [
    "print('Calidad Nike: ', vader_nike_quality.compound_vader_score.mean())"
   ]
  },
  {
   "cell_type": "markdown",
   "id": "635112d5",
   "metadata": {},
   "source": [
    "**Resultados Adidas:**"
   ]
  },
  {
   "cell_type": "code",
   "execution_count": 59,
   "id": "ec092d2f",
   "metadata": {},
   "outputs": [],
   "source": [
    "vader_adidas_price = brands_tweets[(brands_tweets['brand'] == 'adidas') & (brands_tweets['brand_attribute'] == 'price') & (brands_tweets['compound_vader_score'] != 0.000)]"
   ]
  },
  {
   "cell_type": "code",
   "execution_count": 60,
   "id": "0574e857",
   "metadata": {},
   "outputs": [
    {
     "name": "stdout",
     "output_type": "stream",
     "text": [
      "Precio Adidas:  0.1888739222427929\n"
     ]
    }
   ],
   "source": [
    "print('Precio Adidas: ', vader_adidas_price.compound_vader_score.mean())"
   ]
  },
  {
   "cell_type": "code",
   "execution_count": 61,
   "id": "c7d77e57",
   "metadata": {},
   "outputs": [],
   "source": [
    "vader_adidas_quality = brands_tweets[(brands_tweets['brand'] == 'adidas') & (brands_tweets['brand_attribute'] == 'quality') & (brands_tweets['compound_vader_score'] != 0.000)]"
   ]
  },
  {
   "cell_type": "code",
   "execution_count": 62,
   "id": "4e867cc2",
   "metadata": {},
   "outputs": [
    {
     "name": "stdout",
     "output_type": "stream",
     "text": [
      "Calidad Adidas:  0.2557946335545565\n"
     ]
    }
   ],
   "source": [
    "print('Calidad Adidas: ', vader_adidas_quality.compound_vader_score.mean())"
   ]
  },
  {
   "cell_type": "markdown",
   "id": "cd53f666",
   "metadata": {},
   "source": [
    "**Resultados Asics:**"
   ]
  },
  {
   "cell_type": "code",
   "execution_count": 63,
   "id": "6bce9fb7",
   "metadata": {},
   "outputs": [],
   "source": [
    "vader_asics_price = brands_tweets[(brands_tweets['brand'] == 'asics') & (brands_tweets['brand_attribute'] == 'price') & (brands_tweets['compound_vader_score'] != 0.000)]"
   ]
  },
  {
   "cell_type": "code",
   "execution_count": 64,
   "id": "3b33ef06",
   "metadata": {},
   "outputs": [
    {
     "name": "stdout",
     "output_type": "stream",
     "text": [
      "Precio Asics:  0.2600096573208723\n"
     ]
    }
   ],
   "source": [
    "print('Precio Asics: ', vader_asics_price.compound_vader_score.mean())"
   ]
  },
  {
   "cell_type": "code",
   "execution_count": 65,
   "id": "3823b20b",
   "metadata": {},
   "outputs": [],
   "source": [
    "vader_asics_quality = brands_tweets[(brands_tweets['brand'] == 'asics') & (brands_tweets['brand_attribute'] == 'quality') & (brands_tweets['compound_vader_score'] != 0.000)]"
   ]
  },
  {
   "cell_type": "code",
   "execution_count": 66,
   "id": "e60f378a",
   "metadata": {},
   "outputs": [
    {
     "name": "stdout",
     "output_type": "stream",
     "text": [
      "Calidad Asics:  0.38215905511811027\n"
     ]
    }
   ],
   "source": [
    "print('Calidad Asics: ', vader_asics_quality.compound_vader_score.mean())"
   ]
  },
  {
   "cell_type": "markdown",
   "id": "7ff8a472",
   "metadata": {},
   "source": [
    "**Resultados Reebok:**"
   ]
  },
  {
   "cell_type": "code",
   "execution_count": 67,
   "id": "f29b12e1",
   "metadata": {},
   "outputs": [],
   "source": [
    "vader_reebok_price = brands_tweets[(brands_tweets['brand'] == 'reebok') & (brands_tweets['brand_attribute'] == 'price') & (brands_tweets['compound_vader_score'] != 0.000)]"
   ]
  },
  {
   "cell_type": "code",
   "execution_count": 68,
   "id": "54bdf7df",
   "metadata": {},
   "outputs": [
    {
     "name": "stdout",
     "output_type": "stream",
     "text": [
      "Precio Reebok:  0.3114349775784753\n"
     ]
    }
   ],
   "source": [
    "print('Precio Reebok: ', vader_reebok_price.compound_vader_score.mean())"
   ]
  },
  {
   "cell_type": "code",
   "execution_count": 69,
   "id": "a365afad",
   "metadata": {},
   "outputs": [],
   "source": [
    "vader_reebok_quality = brands_tweets[(brands_tweets['brand'] == 'reebok') & (brands_tweets['brand_attribute'] == 'quality') & (brands_tweets['compound_vader_score'] != 0.000)]"
   ]
  },
  {
   "cell_type": "code",
   "execution_count": 70,
   "id": "8650e091",
   "metadata": {
    "scrolled": false
   },
   "outputs": [
    {
     "name": "stdout",
     "output_type": "stream",
     "text": [
      "Calidad Reebok:  0.39911614077669905\n"
     ]
    }
   ],
   "source": [
    "print('Calidad Reebok: ', vader_reebok_quality.compound_vader_score.mean())"
   ]
  },
  {
   "cell_type": "markdown",
   "id": "f50a8edb",
   "metadata": {},
   "source": [
    "**Resultados Skechers:**"
   ]
  },
  {
   "cell_type": "code",
   "execution_count": 71,
   "id": "82438281",
   "metadata": {},
   "outputs": [],
   "source": [
    "vader_skechers_price = brands_tweets[(brands_tweets['brand'] == 'skechers') & (brands_tweets['brand_attribute'] == 'price') & (brands_tweets['compound_vader_score'] != 0.000)]"
   ]
  },
  {
   "cell_type": "code",
   "execution_count": 72,
   "id": "cdd6b09b",
   "metadata": {},
   "outputs": [
    {
     "name": "stdout",
     "output_type": "stream",
     "text": [
      "Precio Skechers:  0.41719166666666674\n"
     ]
    }
   ],
   "source": [
    "print('Precio Skechers: ', vader_skechers_price.compound_vader_score.mean())"
   ]
  },
  {
   "cell_type": "code",
   "execution_count": 73,
   "id": "8dbb60d4",
   "metadata": {},
   "outputs": [],
   "source": [
    "vader_skechers_quality = brands_tweets[(brands_tweets['brand'] == 'skechers') & (brands_tweets['brand_attribute'] == 'quality') & (brands_tweets['compound_vader_score'] != 0.000)]"
   ]
  },
  {
   "cell_type": "code",
   "execution_count": 74,
   "id": "a5211b3d",
   "metadata": {
    "scrolled": false
   },
   "outputs": [
    {
     "name": "stdout",
     "output_type": "stream",
     "text": [
      "Calidad Skechers:  0.4815434474616293\n"
     ]
    }
   ],
   "source": [
    "print('Calidad Skechers: ', vader_skechers_quality.compound_vader_score.mean())"
   ]
  },
  {
   "cell_type": "markdown",
   "id": "8cdb19cc",
   "metadata": {},
   "source": [
    "**Resultados Under Armour:**"
   ]
  },
  {
   "cell_type": "code",
   "execution_count": 75,
   "id": "6bb74eef",
   "metadata": {},
   "outputs": [],
   "source": [
    "vader_under_armour_price = brands_tweets[(brands_tweets['brand'] == 'under armour') & (brands_tweets['brand_attribute'] == 'price') & (brands_tweets['compound_vader_score'] != 0.000)]"
   ]
  },
  {
   "cell_type": "code",
   "execution_count": 76,
   "id": "ea88949c",
   "metadata": {},
   "outputs": [
    {
     "name": "stdout",
     "output_type": "stream",
     "text": [
      "Precio Under Armour:  0.19087424242424247\n"
     ]
    }
   ],
   "source": [
    "print('Precio Under Armour: ', vader_under_armour_price.compound_vader_score.mean())"
   ]
  },
  {
   "cell_type": "code",
   "execution_count": 77,
   "id": "8fa34f4f",
   "metadata": {},
   "outputs": [],
   "source": [
    "vader_under_armour_quality = brands_tweets[(brands_tweets['brand'] == 'under armour') & (brands_tweets['brand_attribute'] == 'quality') & (brands_tweets['compound_vader_score'] != 0.000)]"
   ]
  },
  {
   "cell_type": "code",
   "execution_count": 78,
   "id": "8f84264b",
   "metadata": {
    "scrolled": true
   },
   "outputs": [
    {
     "name": "stdout",
     "output_type": "stream",
     "text": [
      "Calidad Under Armour:  0.19097359307359305\n"
     ]
    }
   ],
   "source": [
    "print('Calidad Under Armour: ', vader_under_armour_quality.compound_vader_score.mean())"
   ]
  },
  {
   "cell_type": "markdown",
   "id": "41084309",
   "metadata": {},
   "source": [
    "**Resultados Umbro:**"
   ]
  },
  {
   "cell_type": "code",
   "execution_count": 79,
   "id": "674903a3",
   "metadata": {},
   "outputs": [],
   "source": [
    "vader_umbro_price = brands_tweets[(brands_tweets['brand'] == 'umbro') & (brands_tweets['brand_attribute'] == 'price') & (brands_tweets['compound_vader_score'] != 0.000)]"
   ]
  },
  {
   "cell_type": "code",
   "execution_count": 80,
   "id": "483543ff",
   "metadata": {},
   "outputs": [
    {
     "name": "stdout",
     "output_type": "stream",
     "text": [
      "Precio Umbro:  0.40966111111111125\n"
     ]
    }
   ],
   "source": [
    "print('Precio Umbro: ', vader_umbro_price.compound_vader_score.mean())"
   ]
  },
  {
   "cell_type": "code",
   "execution_count": 81,
   "id": "cfae77cc",
   "metadata": {},
   "outputs": [],
   "source": [
    "vader_umbro_quality = brands_tweets[(brands_tweets['brand'] == 'umbro') & (brands_tweets['brand_attribute'] == 'quality') & (brands_tweets['compound_vader_score'] != 0.000)]"
   ]
  },
  {
   "cell_type": "code",
   "execution_count": 82,
   "id": "6680906a",
   "metadata": {
    "scrolled": true
   },
   "outputs": [
    {
     "name": "stdout",
     "output_type": "stream",
     "text": [
      "Calidad Umbro:  0.32198456973293765\n"
     ]
    }
   ],
   "source": [
    "print('Calidad Umbro: ', vader_umbro_quality.compound_vader_score.mean())"
   ]
  },
  {
   "cell_type": "markdown",
   "id": "e5c642ab",
   "metadata": {},
   "source": [
    "**Resultados Puma:**"
   ]
  },
  {
   "cell_type": "code",
   "execution_count": 83,
   "id": "2ef20476",
   "metadata": {},
   "outputs": [],
   "source": [
    "vader_puma_price = brands_tweets[(brands_tweets['brand'] == 'puma') & (brands_tweets['brand_attribute'] == 'price') & (brands_tweets['compound_vader_score'] != 0.000)]"
   ]
  },
  {
   "cell_type": "code",
   "execution_count": 84,
   "id": "b154acce",
   "metadata": {},
   "outputs": [
    {
     "name": "stdout",
     "output_type": "stream",
     "text": [
      "Precio Puma:  0.32757731958762887\n"
     ]
    }
   ],
   "source": [
    "print('Precio Puma: ', vader_puma_price.compound_vader_score.mean())"
   ]
  },
  {
   "cell_type": "code",
   "execution_count": 85,
   "id": "479f6162",
   "metadata": {},
   "outputs": [],
   "source": [
    "vader_puma_quality = brands_tweets[(brands_tweets['brand'] == 'puma') & (brands_tweets['brand_attribute'] == 'quality') & (brands_tweets['compound_vader_score'] != 0.000)]"
   ]
  },
  {
   "cell_type": "code",
   "execution_count": 86,
   "id": "99fb01b6",
   "metadata": {
    "scrolled": true
   },
   "outputs": [
    {
     "name": "stdout",
     "output_type": "stream",
     "text": [
      "Calidad Puma:  0.28567833403449727\n"
     ]
    }
   ],
   "source": [
    "print('Calidad Puma: ', vader_puma_quality.compound_vader_score.mean())"
   ]
  },
  {
   "cell_type": "markdown",
   "id": "e9308ecb",
   "metadata": {},
   "source": [
    "### Visualización de Resultados."
   ]
  },
  {
   "cell_type": "markdown",
   "id": "8d5270a7",
   "metadata": {},
   "source": [
    "\n",
    "**Creamos la tabla a partir de la cual generamos el gráfico (preparamos los datos).**"
   ]
  },
  {
   "cell_type": "code",
   "execution_count": 87,
   "id": "0c082129",
   "metadata": {},
   "outputs": [],
   "source": [
    "sport_brands_vader = [\n",
    "    \n",
    "{'brand':'Nike', 'price_score': 1-vader_nike_price.compound_vader_score.mean(), 'quality_score': vader_nike_quality.compound_vader_score.mean()},\n",
    "{'brand':'Adidas', 'price_score': 1-vader_adidas_price.compound_vader_score.mean(), 'quality_score': vader_adidas_quality.compound_vader_score.mean()},\n",
    "{'brand':'Asics', 'price_score': 1-vader_asics_price.compound_vader_score.mean(), 'quality_score': vader_asics_quality.compound_vader_score.mean()},\n",
    "{'brand':'Reebok', 'price_score': 1-vader_reebok_price.compound_vader_score.mean(), 'quality_score': vader_reebok_quality.compound_vader_score.mean()},\n",
    "{'brand':'Skechers', 'price_score': 1-vader_skechers_price.compound_vader_score.mean(), 'quality_score': vader_skechers_quality.compound_vader_score.mean()},\n",
    "{'brand':'Under Armour', 'price_score': 1-vader_under_armour_price.compound_vader_score.mean(), 'quality_score': vader_under_armour_quality.compound_vader_score.mean()},\n",
    "{'brand':'Umbro', 'price_score': 1-vader_umbro_price.compound_vader_score.mean(), 'quality_score': vader_umbro_quality.compound_vader_score.mean()},\n",
    "{'brand':'Puma', 'price_score': 1-vader_puma_price.compound_vader_score.mean(), 'quality_score': vader_puma_quality.compound_vader_score.mean()}\n",
    "]"
   ]
  },
  {
   "cell_type": "code",
   "execution_count": 88,
   "id": "ce6c9ea1",
   "metadata": {},
   "outputs": [
    {
     "data": {
      "text/html": [
       "<div>\n",
       "<style scoped>\n",
       "    .dataframe tbody tr th:only-of-type {\n",
       "        vertical-align: middle;\n",
       "    }\n",
       "\n",
       "    .dataframe tbody tr th {\n",
       "        vertical-align: top;\n",
       "    }\n",
       "\n",
       "    .dataframe thead th {\n",
       "        text-align: right;\n",
       "    }\n",
       "</style>\n",
       "<table border=\"1\" class=\"dataframe\">\n",
       "  <thead>\n",
       "    <tr style=\"text-align: right;\">\n",
       "      <th></th>\n",
       "      <th>brand</th>\n",
       "      <th>price_score</th>\n",
       "      <th>quality_score</th>\n",
       "    </tr>\n",
       "  </thead>\n",
       "  <tbody>\n",
       "    <tr>\n",
       "      <th>0</th>\n",
       "      <td>Nike</td>\n",
       "      <td>0.812771</td>\n",
       "      <td>0.255008</td>\n",
       "    </tr>\n",
       "    <tr>\n",
       "      <th>1</th>\n",
       "      <td>Adidas</td>\n",
       "      <td>0.811126</td>\n",
       "      <td>0.255795</td>\n",
       "    </tr>\n",
       "    <tr>\n",
       "      <th>2</th>\n",
       "      <td>Asics</td>\n",
       "      <td>0.739990</td>\n",
       "      <td>0.382159</td>\n",
       "    </tr>\n",
       "    <tr>\n",
       "      <th>3</th>\n",
       "      <td>Reebok</td>\n",
       "      <td>0.688565</td>\n",
       "      <td>0.399116</td>\n",
       "    </tr>\n",
       "    <tr>\n",
       "      <th>4</th>\n",
       "      <td>Skechers</td>\n",
       "      <td>0.582808</td>\n",
       "      <td>0.481543</td>\n",
       "    </tr>\n",
       "    <tr>\n",
       "      <th>5</th>\n",
       "      <td>Under Armour</td>\n",
       "      <td>0.809126</td>\n",
       "      <td>0.190974</td>\n",
       "    </tr>\n",
       "    <tr>\n",
       "      <th>6</th>\n",
       "      <td>Umbro</td>\n",
       "      <td>0.590339</td>\n",
       "      <td>0.321985</td>\n",
       "    </tr>\n",
       "    <tr>\n",
       "      <th>7</th>\n",
       "      <td>Puma</td>\n",
       "      <td>0.672423</td>\n",
       "      <td>0.285678</td>\n",
       "    </tr>\n",
       "  </tbody>\n",
       "</table>\n",
       "</div>"
      ],
      "text/plain": [
       "          brand  price_score  quality_score\n",
       "0          Nike     0.812771       0.255008\n",
       "1        Adidas     0.811126       0.255795\n",
       "2         Asics     0.739990       0.382159\n",
       "3        Reebok     0.688565       0.399116\n",
       "4      Skechers     0.582808       0.481543\n",
       "5  Under Armour     0.809126       0.190974\n",
       "6         Umbro     0.590339       0.321985\n",
       "7          Puma     0.672423       0.285678"
      ]
     },
     "execution_count": 88,
     "metadata": {},
     "output_type": "execute_result"
    }
   ],
   "source": [
    "sport_brands_vader_df = pd.DataFrame(sport_brands_vader)\n",
    "\n",
    "sport_brands_vader_df"
   ]
  },
  {
   "cell_type": "code",
   "execution_count": 89,
   "id": "4f1c1d2a",
   "metadata": {},
   "outputs": [
    {
     "data": {
      "image/png": "[encoded data removed]",
      "text/plain": [
       "<Figure size 864x432 with 1 Axes>"
      ]
     },
     "metadata": {},
     "output_type": "display_data"
    }
   ],
   "source": [
    "import seaborn as sns\n",
    "\n",
    "# Matplotlib inline para visualizar los gráficos de Matplotlib\n",
    "%matplotlib inline\n",
    "%config Inlinebackend.figure_format= 'retina'\n",
    "\n",
    "\n",
    "# Configuración para setear y que todas las fig de Seaborn salgan por defecto con este tamaño\n",
    "# Se puede especificar el tamaño de cada figura\n",
    "sns.set_context(\"poster\")\n",
    "sns.set(rc={\"figure.figsize\": (12.,6.)})\n",
    "sns.set_style(\"whitegrid\")\n",
    "\n",
    "sns.scatterplot(x=\"price_score\", y=\"quality_score\", hue=\"brand\", data=sport_brands_vader_df);"
   ]
  },
  {
   "cell_type": "code",
   "execution_count": 90,
   "id": "64e1e283",
   "metadata": {
    "scrolled": false
   },
   "outputs": [
    {
     "data": {
      "application/vnd.plotly.v1+json": {
       "config": {
        "plotlyServerURL": "https://plot.ly"
       },
       "data": [
        {
         "hovertemplate": "Marcas:=Nike<br>Calidad Percibida=%{x}<br>Percepción del Precio=%{y}<extra></extra>",
         "legendgroup": "Nike",
         "marker": {
          "color": "#636efa",
          "symbol": "circle"
         },
         "mode": "markers",
         "name": "Nike",
         "orientation": "v",
         "showlegend": true,
         "type": "scatter",
         "x": [
          0.2550077126141553
         ],
         "xaxis": "x",
         "y": [
          0.8127711069915254
         ],
         "yaxis": "y"
        },
        {
         "hovertemplate": "Marcas:=Adidas<br>Calidad Percibida=%{x}<br>Percepción del Precio=%{y}<extra></extra>",
         "legendgroup": "Adidas",
         "marker": {
          "color": "#EF553B",
          "symbol": "circle"
         },
         "mode": "markers",
         "name": "Adidas",
         "orientation": "v",
         "showlegend": true,
         "type": "scatter",
         "x": [
          0.2557946335545565
         ],
         "xaxis": "x",
         "y": [
          0.8111260777572071
         ],
         "yaxis": "y"
        },
        {
         "hovertemplate": "Marcas:=Asics<br>Calidad Percibida=%{x}<br>Percepción del Precio=%{y}<extra></extra>",
         "legendgroup": "Asics",
         "marker": {
          "color": "#00cc96",
          "symbol": "circle"
         },
         "mode": "markers",
         "name": "Asics",
         "orientation": "v",
         "showlegend": true,
         "type": "scatter",
         "x": [
          0.38215905511811027
         ],
         "xaxis": "x",
         "y": [
          0.7399903426791277
         ],
         "yaxis": "y"
        },
        {
         "hovertemplate": "Marcas:=Reebok<br>Calidad Percibida=%{x}<br>Percepción del Precio=%{y}<extra></extra>",
         "legendgroup": "Reebok",
         "marker": {
          "color": "#ab63fa",
          "symbol": "circle"
         },
         "mode": "markers",
         "name": "Reebok",
         "orientation": "v",
         "showlegend": true,
         "type": "scatter",
         "x": [
          0.39911614077669905
         ],
         "xaxis": "x",
         "y": [
          0.6885650224215247
         ],
         "yaxis": "y"
        },
        {
         "hovertemplate": "Marcas:=Skechers<br>Calidad Percibida=%{x}<br>Percepción del Precio=%{y}<extra></extra>",
         "legendgroup": "Skechers",
         "marker": {
          "color": "#FFA15A",
          "symbol": "circle"
         },
         "mode": "markers",
         "name": "Skechers",
         "orientation": "v",
         "showlegend": true,
         "type": "scatter",
         "x": [
          0.4815434474616293
         ],
         "xaxis": "x",
         "y": [
          0.5828083333333333
         ],
         "yaxis": "y"
        },
        {
         "hovertemplate": "Marcas:=Under Armour<br>Calidad Percibida=%{x}<br>Percepción del Precio=%{y}<extra></extra>",
         "legendgroup": "Under Armour",
         "marker": {
          "color": "#19d3f3",
          "symbol": "circle"
         },
         "mode": "markers",
         "name": "Under Armour",
         "orientation": "v",
         "showlegend": true,
         "type": "scatter",
         "x": [
          0.19097359307359305
         ],
         "xaxis": "x",
         "y": [
          0.8091257575757576
         ],
         "yaxis": "y"
        },
        {
         "hovertemplate": "Marcas:=Umbro<br>Calidad Percibida=%{x}<br>Percepción del Precio=%{y}<extra></extra>",
         "legendgroup": "Umbro",
         "marker": {
          "color": "#FF6692",
          "symbol": "circle"
         },
         "mode": "markers",
         "name": "Umbro",
         "orientation": "v",
         "showlegend": true,
         "type": "scatter",
         "x": [
          0.32198456973293765
         ],
         "xaxis": "x",
         "y": [
          0.5903388888888887
         ],
         "yaxis": "y"
        },
        {
         "hovertemplate": "Marcas:=Puma<br>Calidad Percibida=%{x}<br>Percepción del Precio=%{y}<extra></extra>",
         "legendgroup": "Puma",
         "marker": {
          "color": "#B6E880",
          "symbol": "circle"
         },
         "mode": "markers",
         "name": "Puma",
         "orientation": "v",
         "showlegend": true,
         "type": "scatter",
         "x": [
          0.28567833403449727
         ],
         "xaxis": "x",
         "y": [
          0.6724226804123712
         ],
         "yaxis": "y"
        }
       ],
       "layout": {
        "font": {
         "size": 20
        },
        "legend": {
         "title": {
          "text": "Marcas:"
         },
         "tracegroupgap": 0
        },
        "margin": {
         "t": 60
        },
        "template": {
         "data": {
          "bar": [
           {
            "error_x": {
             "color": "#2a3f5f"
            },
            "error_y": {
             "color": "#2a3f5f"
            },
            "marker": {
             "line": {
              "color": "#E5ECF6",
              "width": 0.5
             },
             "pattern": {
              "fillmode": "overlay",
              "size": 10,
              "solidity": 0.2
             }
            },
            "type": "bar"
           }
          ],
          "barpolar": [
           {
            "marker": {
             "line": {
              "color": "#E5ECF6",
              "width": 0.5
             },
             "pattern": {
              "fillmode": "overlay",
              "size": 10,
              "solidity": 0.2
             }
            },
            "type": "barpolar"
           }
          ],
          "carpet": [
           {
            "aaxis": {
             "endlinecolor": "#2a3f5f",
             "gridcolor": "white",
             "linecolor": "white",
             "minorgridcolor": "white",
             "startlinecolor": "#2a3f5f"
            },
            "baxis": {
             "endlinecolor": "#2a3f5f",
             "gridcolor": "white",
             "linecolor": "white",
             "minorgridcolor": "white",
             "startlinecolor": "#2a3f5f"
            },
            "type": "carpet"
           }
          ],
          "choropleth": [
           {
            "colorbar": {
             "outlinewidth": 0,
             "ticks": ""
            },
            "type": "choropleth"
           }
          ],
          "contour": [
           {
            "colorbar": {
             "outlinewidth": 0,
             "ticks": ""
            },
            "colorscale": [
             [
              0,
              "#0d0887"
             ],
             [
              0.1111111111111111,
              "#46039f"
             ],
             [
              0.2222222222222222,
              "#7201a8"
             ],
             [
              0.3333333333333333,
              "#9c179e"
             ],
             [
              0.4444444444444444,
              "#bd3786"
             ],
             [
              0.5555555555555556,
              "#d8576b"
             ],
             [
              0.6666666666666666,
              "#ed7953"
             ],
             [
              0.7777777777777778,
              "#fb9f3a"
             ],
             [
              0.8888888888888888,
              "#fdca26"
             ],
             [
              1,
              "#f0f921"
             ]
            ],
            "type": "contour"
           }
          ],
          "contourcarpet": [
           {
            "colorbar": {
             "outlinewidth": 0,
             "ticks": ""
            },
            "type": "contourcarpet"
           }
          ],
          "heatmap": [
           {
            "colorbar": {
             "outlinewidth": 0,
             "ticks": ""
            },
            "colorscale": [
             [
              0,
              "#0d0887"
             ],
             [
              0.1111111111111111,
              "#46039f"
             ],
             [
              0.2222222222222222,
              "#7201a8"
             ],
             [
              0.3333333333333333,
              "#9c179e"
             ],
             [
              0.4444444444444444,
              "#bd3786"
             ],
             [
              0.5555555555555556,
              "#d8576b"
             ],
             [
              0.6666666666666666,
              "#ed7953"
             ],
             [
              0.7777777777777778,
              "#fb9f3a"
             ],
             [
              0.8888888888888888,
              "#fdca26"
             ],
             [
              1,
              "#f0f921"
             ]
            ],
            "type": "heatmap"
           }
          ],
          "heatmapgl": [
           {
            "colorbar": {
             "outlinewidth": 0,
             "ticks": ""
            },
            "colorscale": [
             [
              0,
              "#0d0887"
             ],
             [
              0.1111111111111111,
              "#46039f"
             ],
             [
              0.2222222222222222,
              "#7201a8"
             ],
             [
              0.3333333333333333,
              "#9c179e"
             ],
             [
              0.4444444444444444,
              "#bd3786"
             ],
             [
              0.5555555555555556,
              "#d8576b"
             ],
             [
              0.6666666666666666,
              "#ed7953"
             ],
             [
              0.7777777777777778,
              "#fb9f3a"
             ],
             [
              0.8888888888888888,
              "#fdca26"
             ],
             [
              1,
              "#f0f921"
             ]
            ],
            "type": "heatmapgl"
           }
          ],
          "histogram": [
           {
            "marker": {
             "pattern": {
              "fillmode": "overlay",
              "size": 10,
              "solidity": 0.2
             }
            },
            "type": "histogram"
           }
          ],
          "histogram2d": [
           {
            "colorbar": {
             "outlinewidth": 0,
             "ticks": ""
            },
            "colorscale": [
             [
              0,
              "#0d0887"
             ],
             [
              0.1111111111111111,
              "#46039f"
             ],
             [
              0.2222222222222222,
              "#7201a8"
             ],
             [
              0.3333333333333333,
              "#9c179e"
             ],
             [
              0.4444444444444444,
              "#bd3786"
             ],
             [
              0.5555555555555556,
              "#d8576b"
             ],
             [
              0.6666666666666666,
              "#ed7953"
             ],
             [
              0.7777777777777778,
              "#fb9f3a"
             ],
             [
              0.8888888888888888,
              "#fdca26"
             ],
             [
              1,
              "#f0f921"
             ]
            ],
            "type": "histogram2d"
           }
          ],
          "histogram2dcontour": [
           {
            "colorbar": {
             "outlinewidth": 0,
             "ticks": ""
            },
            "colorscale": [
             [
              0,
              "#0d0887"
             ],
             [
              0.1111111111111111,
              "#46039f"
             ],
             [
              0.2222222222222222,
              "#7201a8"
             ],
             [
              0.3333333333333333,
              "#9c179e"
             ],
             [
              0.4444444444444444,
              "#bd3786"
             ],
             [
              0.5555555555555556,
              "#d8576b"
             ],
             [
              0.6666666666666666,
              "#ed7953"
             ],
             [
              0.7777777777777778,
              "#fb9f3a"
             ],
             [
              0.8888888888888888,
              "#fdca26"
             ],
             [
              1,
              "#f0f921"
             ]
            ],
            "type": "histogram2dcontour"
           }
          ],
          "mesh3d": [
           {
            "colorbar": {
             "outlinewidth": 0,
             "ticks": ""
            },
            "type": "mesh3d"
           }
          ],
          "parcoords": [
           {
            "line": {
             "colorbar": {
              "outlinewidth": 0,
              "ticks": ""
             }
            },
            "type": "parcoords"
           }
          ],
          "pie": [
           {
            "automargin": true,
            "type": "pie"
           }
          ],
          "scatter": [
           {
            "marker": {
             "colorbar": {
              "outlinewidth": 0,
              "ticks": ""
             }
            },
            "type": "scatter"
           }
          ],
          "scatter3d": [
           {
            "line": {
             "colorbar": {
              "outlinewidth": 0,
              "ticks": ""
             }
            },
            "marker": {
             "colorbar": {
              "outlinewidth": 0,
              "ticks": ""
             }
            },
            "type": "scatter3d"
           }
          ],
          "scattercarpet": [
           {
            "marker": {
             "colorbar": {
              "outlinewidth": 0,
              "ticks": ""
             }
            },
            "type": "scattercarpet"
           }
          ],
          "scattergeo": [
           {
            "marker": {
             "colorbar": {
              "outlinewidth": 0,
              "ticks": ""
             }
            },
            "type": "scattergeo"
           }
          ],
          "scattergl": [
           {
            "marker": {
             "colorbar": {
              "outlinewidth": 0,
              "ticks": ""
             }
            },
            "type": "scattergl"
           }
          ],
          "scattermapbox": [
           {
            "marker": {
             "colorbar": {
              "outlinewidth": 0,
              "ticks": ""
             }
            },
            "type": "scattermapbox"
           }
          ],
          "scatterpolar": [
           {
            "marker": {
             "colorbar": {
              "outlinewidth": 0,
              "ticks": ""
             }
            },
            "type": "scatterpolar"
           }
          ],
          "scatterpolargl": [
           {
            "marker": {
             "colorbar": {
              "outlinewidth": 0,
              "ticks": ""
             }
            },
            "type": "scatterpolargl"
           }
          ],
          "scatterternary": [
           {
            "marker": {
             "colorbar": {
              "outlinewidth": 0,
              "ticks": ""
             }
            },
            "type": "scatterternary"
           }
          ],
          "surface": [
           {
            "colorbar": {
             "outlinewidth": 0,
             "ticks": ""
            },
            "colorscale": [
             [
              0,
              "#0d0887"
             ],
             [
              0.1111111111111111,
              "#46039f"
             ],
             [
              0.2222222222222222,
              "#7201a8"
             ],
             [
              0.3333333333333333,
              "#9c179e"
             ],
             [
              0.4444444444444444,
              "#bd3786"
             ],
             [
              0.5555555555555556,
              "#d8576b"
             ],
             [
              0.6666666666666666,
              "#ed7953"
             ],
             [
              0.7777777777777778,
              "#fb9f3a"
             ],
             [
              0.8888888888888888,
              "#fdca26"
             ],
             [
              1,
              "#f0f921"
             ]
            ],
            "type": "surface"
           }
          ],
          "table": [
           {
            "cells": {
             "fill": {
              "color": "#EBF0F8"
             },
             "line": {
              "color": "white"
             }
            },
            "header": {
             "fill": {
              "color": "#C8D4E3"
             },
             "line": {
              "color": "white"
             }
            },
            "type": "table"
           }
          ]
         },
         "layout": {
          "annotationdefaults": {
           "arrowcolor": "#2a3f5f",
           "arrowhead": 0,
           "arrowwidth": 1
          },
          "autotypenumbers": "strict",
          "coloraxis": {
           "colorbar": {
            "outlinewidth": 0,
            "ticks": ""
           }
          },
          "colorscale": {
           "diverging": [
            [
             0,
             "#8e0152"
            ],
            [
             0.1,
             "#c51b7d"
            ],
            [
             0.2,
             "#de77ae"
            ],
            [
             0.3,
             "#f1b6da"
            ],
            [
             0.4,
             "#fde0ef"
            ],
            [
             0.5,
             "#f7f7f7"
            ],
            [
             0.6,
             "#e6f5d0"
            ],
            [
             0.7,
             "#b8e186"
            ],
            [
             0.8,
             "#7fbc41"
            ],
            [
             0.9,
             "#4d9221"
            ],
            [
             1,
             "#276419"
            ]
           ],
           "sequential": [
            [
             0,
             "#0d0887"
            ],
            [
             0.1111111111111111,
             "#46039f"
            ],
            [
             0.2222222222222222,
             "#7201a8"
            ],
            [
             0.3333333333333333,
             "#9c179e"
            ],
            [
             0.4444444444444444,
             "#bd3786"
            ],
            [
             0.5555555555555556,
             "#d8576b"
            ],
            [
             0.6666666666666666,
             "#ed7953"
            ],
            [
             0.7777777777777778,
             "#fb9f3a"
            ],
            [
             0.8888888888888888,
             "#fdca26"
            ],
            [
             1,
             "#f0f921"
            ]
           ],
           "sequentialminus": [
            [
             0,
             "#0d0887"
            ],
            [
             0.1111111111111111,
             "#46039f"
            ],
            [
             0.2222222222222222,
             "#7201a8"
            ],
            [
             0.3333333333333333,
             "#9c179e"
            ],
            [
             0.4444444444444444,
             "#bd3786"
            ],
            [
             0.5555555555555556,
             "#d8576b"
            ],
            [
             0.6666666666666666,
             "#ed7953"
            ],
            [
             0.7777777777777778,
             "#fb9f3a"
            ],
            [
             0.8888888888888888,
             "#fdca26"
            ],
            [
             1,
             "#f0f921"
            ]
           ]
          },
          "colorway": [
           "#636efa",
           "#EF553B",
           "#00cc96",
           "#ab63fa",
           "#FFA15A",
           "#19d3f3",
           "#FF6692",
           "#B6E880",
           "#FF97FF",
           "#FECB52"
          ],
          "font": {
           "color": "#2a3f5f"
          },
          "geo": {
           "bgcolor": "white",
           "lakecolor": "white",
           "landcolor": "#E5ECF6",
           "showlakes": true,
           "showland": true,
           "subunitcolor": "white"
          },
          "hoverlabel": {
           "align": "left"
          },
          "hovermode": "closest",
          "mapbox": {
           "style": "light"
          },
          "paper_bgcolor": "white",
          "plot_bgcolor": "#E5ECF6",
          "polar": {
           "angularaxis": {
            "gridcolor": "white",
            "linecolor": "white",
            "ticks": ""
           },
           "bgcolor": "#E5ECF6",
           "radialaxis": {
            "gridcolor": "white",
            "linecolor": "white",
            "ticks": ""
           }
          },
          "scene": {
           "xaxis": {
            "backgroundcolor": "#E5ECF6",
            "gridcolor": "white",
            "gridwidth": 2,
            "linecolor": "white",
            "showbackground": true,
            "ticks": "",
            "zerolinecolor": "white"
           },
           "yaxis": {
            "backgroundcolor": "#E5ECF6",
            "gridcolor": "white",
            "gridwidth": 2,
            "linecolor": "white",
            "showbackground": true,
            "ticks": "",
            "zerolinecolor": "white"
           },
           "zaxis": {
            "backgroundcolor": "#E5ECF6",
            "gridcolor": "white",
            "gridwidth": 2,
            "linecolor": "white",
            "showbackground": true,
            "ticks": "",
            "zerolinecolor": "white"
           }
          },
          "shapedefaults": {
           "line": {
            "color": "#2a3f5f"
           }
          },
          "ternary": {
           "aaxis": {
            "gridcolor": "white",
            "linecolor": "white",
            "ticks": ""
           },
           "baxis": {
            "gridcolor": "white",
            "linecolor": "white",
            "ticks": ""
           },
           "bgcolor": "#E5ECF6",
           "caxis": {
            "gridcolor": "white",
            "linecolor": "white",
            "ticks": ""
           }
          },
          "title": {
           "x": 0.05
          },
          "xaxis": {
           "automargin": true,
           "gridcolor": "white",
           "linecolor": "white",
           "ticks": "",
           "title": {
            "standoff": 15
           },
           "zerolinecolor": "white",
           "zerolinewidth": 2
          },
          "yaxis": {
           "automargin": true,
           "gridcolor": "white",
           "linecolor": "white",
           "ticks": "",
           "title": {
            "standoff": 15
           },
           "zerolinecolor": "white",
           "zerolinewidth": 2
          }
         }
        },
        "xaxis": {
         "anchor": "y",
         "domain": [
          0,
          1
         ],
         "showticklabels": false,
         "title": {
          "text": "Calidad Percibida"
         }
        },
        "yaxis": {
         "anchor": "x",
         "domain": [
          0,
          1
         ],
         "showticklabels": false,
         "title": {
          "text": "Percepción del Precio"
         }
        }
       }
      },
      "text/html": [
       "<div>                            <div id=\"dbd79f5f-1d11-47e3-adba-c68eb45cf13b\" class=\"plotly-graph-div\" style=\"height:525px; width:100%;\"></div>            <script type=\"text/javascript\">                require([\"plotly\"], function(Plotly) {                    window.PLOTLYENV=window.PLOTLYENV || {};                                    if (document.getElementById(\"dbd79f5f-1d11-47e3-adba-c68eb45cf13b\")) {                    Plotly.newPlot(                        \"dbd79f5f-1d11-47e3-adba-c68eb45cf13b\",                        [{\"hovertemplate\":\"Marcas:=Nike<br>Calidad Percibida=%{x}<br>Percepci\\u00f3n del Precio=%{y}<extra></extra>\",\"legendgroup\":\"Nike\",\"marker\":{\"color\":\"#636efa\",\"symbol\":\"circle\"},\"mode\":\"markers\",\"name\":\"Nike\",\"orientation\":\"v\",\"showlegend\":true,\"x\":[0.2550077126141553],\"xaxis\":\"x\",\"y\":[0.8127711069915254],\"yaxis\":\"y\",\"type\":\"scatter\"},{\"hovertemplate\":\"Marcas:=Adidas<br>Calidad Percibida=%{x}<br>Percepci\\u00f3n del Precio=%{y}<extra></extra>\",\"legendgroup\":\"Adidas\",\"marker\":{\"color\":\"#EF553B\",\"symbol\":\"circle\"},\"mode\":\"markers\",\"name\":\"Adidas\",\"orientation\":\"v\",\"showlegend\":true,\"x\":[0.2557946335545565],\"xaxis\":\"x\",\"y\":[0.8111260777572071],\"yaxis\":\"y\",\"type\":\"scatter\"},{\"hovertemplate\":\"Marcas:=Asics<br>Calidad Percibida=%{x}<br>Percepci\\u00f3n del Precio=%{y}<extra></extra>\",\"legendgroup\":\"Asics\",\"marker\":{\"color\":\"#00cc96\",\"symbol\":\"circle\"},\"mode\":\"markers\",\"name\":\"Asics\",\"orientation\":\"v\",\"showlegend\":true,\"x\":[0.38215905511811027],\"xaxis\":\"x\",\"y\":[0.7399903426791277],\"yaxis\":\"y\",\"type\":\"scatter\"},{\"hovertemplate\":\"Marcas:=Reebok<br>Calidad Percibida=%{x}<br>Percepci\\u00f3n del Precio=%{y}<extra></extra>\",\"legendgroup\":\"Reebok\",\"marker\":{\"color\":\"#ab63fa\",\"symbol\":\"circle\"},\"mode\":\"markers\",\"name\":\"Reebok\",\"orientation\":\"v\",\"showlegend\":true,\"x\":[0.39911614077669905],\"xaxis\":\"x\",\"y\":[0.6885650224215247],\"yaxis\":\"y\",\"type\":\"scatter\"},{\"hovertemplate\":\"Marcas:=Skechers<br>Calidad Percibida=%{x}<br>Percepci\\u00f3n del Precio=%{y}<extra></extra>\",\"legendgroup\":\"Skechers\",\"marker\":{\"color\":\"#FFA15A\",\"symbol\":\"circle\"},\"mode\":\"markers\",\"name\":\"Skechers\",\"orientation\":\"v\",\"showlegend\":true,\"x\":[0.4815434474616293],\"xaxis\":\"x\",\"y\":[0.5828083333333333],\"yaxis\":\"y\",\"type\":\"scatter\"},{\"hovertemplate\":\"Marcas:=Under Armour<br>Calidad Percibida=%{x}<br>Percepci\\u00f3n del Precio=%{y}<extra></extra>\",\"legendgroup\":\"Under Armour\",\"marker\":{\"color\":\"#19d3f3\",\"symbol\":\"circle\"},\"mode\":\"markers\",\"name\":\"Under Armour\",\"orientation\":\"v\",\"showlegend\":true,\"x\":[0.19097359307359305],\"xaxis\":\"x\",\"y\":[0.8091257575757576],\"yaxis\":\"y\",\"type\":\"scatter\"},{\"hovertemplate\":\"Marcas:=Umbro<br>Calidad Percibida=%{x}<br>Percepci\\u00f3n del Precio=%{y}<extra></extra>\",\"legendgroup\":\"Umbro\",\"marker\":{\"color\":\"#FF6692\",\"symbol\":\"circle\"},\"mode\":\"markers\",\"name\":\"Umbro\",\"orientation\":\"v\",\"showlegend\":true,\"x\":[0.32198456973293765],\"xaxis\":\"x\",\"y\":[0.5903388888888887],\"yaxis\":\"y\",\"type\":\"scatter\"},{\"hovertemplate\":\"Marcas:=Puma<br>Calidad Percibida=%{x}<br>Percepci\\u00f3n del Precio=%{y}<extra></extra>\",\"legendgroup\":\"Puma\",\"marker\":{\"color\":\"#B6E880\",\"symbol\":\"circle\"},\"mode\":\"markers\",\"name\":\"Puma\",\"orientation\":\"v\",\"showlegend\":true,\"x\":[0.28567833403449727],\"xaxis\":\"x\",\"y\":[0.6724226804123712],\"yaxis\":\"y\",\"type\":\"scatter\"}],                        {\"template\":{\"data\":{\"bar\":[{\"error_x\":{\"color\":\"#2a3f5f\"},\"error_y\":{\"color\":\"#2a3f5f\"},\"marker\":{\"line\":{\"color\":\"#E5ECF6\",\"width\":0.5},\"pattern\":{\"fillmode\":\"overlay\",\"size\":10,\"solidity\":0.2}},\"type\":\"bar\"}],\"barpolar\":[{\"marker\":{\"line\":{\"color\":\"#E5ECF6\",\"width\":0.5},\"pattern\":{\"fillmode\":\"overlay\",\"size\":10,\"solidity\":0.2}},\"type\":\"barpolar\"}],\"carpet\":[{\"aaxis\":{\"endlinecolor\":\"#2a3f5f\",\"gridcolor\":\"white\",\"linecolor\":\"white\",\"minorgridcolor\":\"white\",\"startlinecolor\":\"#2a3f5f\"},\"baxis\":{\"endlinecolor\":\"#2a3f5f\",\"gridcolor\":\"white\",\"linecolor\":\"white\",\"minorgridcolor\":\"white\",\"startlinecolor\":\"#2a3f5f\"},\"type\":\"carpet\"}],\"choropleth\":[{\"colorbar\":{\"outlinewidth\":0,\"ticks\":\"\"},\"type\":\"choropleth\"}],\"contour\":[{\"colorbar\":{\"outlinewidth\":0,\"ticks\":\"\"},\"colorscale\":[[0.0,\"#0d0887\"],[0.1111111111111111,\"#46039f\"],[0.2222222222222222,\"#7201a8\"],[0.3333333333333333,\"#9c179e\"],[0.4444444444444444,\"#bd3786\"],[0.5555555555555556,\"#d8576b\"],[0.6666666666666666,\"#ed7953\"],[0.7777777777777778,\"#fb9f3a\"],[0.8888888888888888,\"#fdca26\"],[1.0,\"#f0f921\"]],\"type\":\"contour\"}],\"contourcarpet\":[{\"colorbar\":{\"outlinewidth\":0,\"ticks\":\"\"},\"type\":\"contourcarpet\"}],\"heatmap\":[{\"colorbar\":{\"outlinewidth\":0,\"ticks\":\"\"},\"colorscale\":[[0.0,\"#0d0887\"],[0.1111111111111111,\"#46039f\"],[0.2222222222222222,\"#7201a8\"],[0.3333333333333333,\"#9c179e\"],[0.4444444444444444,\"#bd3786\"],[0.5555555555555556,\"#d8576b\"],[0.6666666666666666,\"#ed7953\"],[0.7777777777777778,\"#fb9f3a\"],[0.8888888888888888,\"#fdca26\"],[1.0,\"#f0f921\"]],\"type\":\"heatmap\"}],\"heatmapgl\":[{\"colorbar\":{\"outlinewidth\":0,\"ticks\":\"\"},\"colorscale\":[[0.0,\"#0d0887\"],[0.1111111111111111,\"#46039f\"],[0.2222222222222222,\"#7201a8\"],[0.3333333333333333,\"#9c179e\"],[0.4444444444444444,\"#bd3786\"],[0.5555555555555556,\"#d8576b\"],[0.6666666666666666,\"#ed7953\"],[0.7777777777777778,\"#fb9f3a\"],[0.8888888888888888,\"#fdca26\"],[1.0,\"#f0f921\"]],\"type\":\"heatmapgl\"}],\"histogram\":[{\"marker\":{\"pattern\":{\"fillmode\":\"overlay\",\"size\":10,\"solidity\":0.2}},\"type\":\"histogram\"}],\"histogram2d\":[{\"colorbar\":{\"outlinewidth\":0,\"ticks\":\"\"},\"colorscale\":[[0.0,\"#0d0887\"],[0.1111111111111111,\"#46039f\"],[0.2222222222222222,\"#7201a8\"],[0.3333333333333333,\"#9c179e\"],[0.4444444444444444,\"#bd3786\"],[0.5555555555555556,\"#d8576b\"],[0.6666666666666666,\"#ed7953\"],[0.7777777777777778,\"#fb9f3a\"],[0.8888888888888888,\"#fdca26\"],[1.0,\"#f0f921\"]],\"type\":\"histogram2d\"}],\"histogram2dcontour\":[{\"colorbar\":{\"outlinewidth\":0,\"ticks\":\"\"},\"colorscale\":[[0.0,\"#0d0887\"],[0.1111111111111111,\"#46039f\"],[0.2222222222222222,\"#7201a8\"],[0.3333333333333333,\"#9c179e\"],[0.4444444444444444,\"#bd3786\"],[0.5555555555555556,\"#d8576b\"],[0.6666666666666666,\"#ed7953\"],[0.7777777777777778,\"#fb9f3a\"],[0.8888888888888888,\"#fdca26\"],[1.0,\"#f0f921\"]],\"type\":\"histogram2dcontour\"}],\"mesh3d\":[{\"colorbar\":{\"outlinewidth\":0,\"ticks\":\"\"},\"type\":\"mesh3d\"}],\"parcoords\":[{\"line\":{\"colorbar\":{\"outlinewidth\":0,\"ticks\":\"\"}},\"type\":\"parcoords\"}],\"pie\":[{\"automargin\":true,\"type\":\"pie\"}],\"scatter\":[{\"marker\":{\"colorbar\":{\"outlinewidth\":0,\"ticks\":\"\"}},\"type\":\"scatter\"}],\"scatter3d\":[{\"line\":{\"colorbar\":{\"outlinewidth\":0,\"ticks\":\"\"}},\"marker\":{\"colorbar\":{\"outlinewidth\":0,\"ticks\":\"\"}},\"type\":\"scatter3d\"}],\"scattercarpet\":[{\"marker\":{\"colorbar\":{\"outlinewidth\":0,\"ticks\":\"\"}},\"type\":\"scattercarpet\"}],\"scattergeo\":[{\"marker\":{\"colorbar\":{\"outlinewidth\":0,\"ticks\":\"\"}},\"type\":\"scattergeo\"}],\"scattergl\":[{\"marker\":{\"colorbar\":{\"outlinewidth\":0,\"ticks\":\"\"}},\"type\":\"scattergl\"}],\"scattermapbox\":[{\"marker\":{\"colorbar\":{\"outlinewidth\":0,\"ticks\":\"\"}},\"type\":\"scattermapbox\"}],\"scatterpolar\":[{\"marker\":{\"colorbar\":{\"outlinewidth\":0,\"ticks\":\"\"}},\"type\":\"scatterpolar\"}],\"scatterpolargl\":[{\"marker\":{\"colorbar\":{\"outlinewidth\":0,\"ticks\":\"\"}},\"type\":\"scatterpolargl\"}],\"scatterternary\":[{\"marker\":{\"colorbar\":{\"outlinewidth\":0,\"ticks\":\"\"}},\"type\":\"scatterternary\"}],\"surface\":[{\"colorbar\":{\"outlinewidth\":0,\"ticks\":\"\"},\"colorscale\":[[0.0,\"#0d0887\"],[0.1111111111111111,\"#46039f\"],[0.2222222222222222,\"#7201a8\"],[0.3333333333333333,\"#9c179e\"],[0.4444444444444444,\"#bd3786\"],[0.5555555555555556,\"#d8576b\"],[0.6666666666666666,\"#ed7953\"],[0.7777777777777778,\"#fb9f3a\"],[0.8888888888888888,\"#fdca26\"],[1.0,\"#f0f921\"]],\"type\":\"surface\"}],\"table\":[{\"cells\":{\"fill\":{\"color\":\"#EBF0F8\"},\"line\":{\"color\":\"white\"}},\"header\":{\"fill\":{\"color\":\"#C8D4E3\"},\"line\":{\"color\":\"white\"}},\"type\":\"table\"}]},\"layout\":{\"annotationdefaults\":{\"arrowcolor\":\"#2a3f5f\",\"arrowhead\":0,\"arrowwidth\":1},\"autotypenumbers\":\"strict\",\"coloraxis\":{\"colorbar\":{\"outlinewidth\":0,\"ticks\":\"\"}},\"colorscale\":{\"diverging\":[[0,\"#8e0152\"],[0.1,\"#c51b7d\"],[0.2,\"#de77ae\"],[0.3,\"#f1b6da\"],[0.4,\"#fde0ef\"],[0.5,\"#f7f7f7\"],[0.6,\"#e6f5d0\"],[0.7,\"#b8e186\"],[0.8,\"#7fbc41\"],[0.9,\"#4d9221\"],[1,\"#276419\"]],\"sequential\":[[0.0,\"#0d0887\"],[0.1111111111111111,\"#46039f\"],[0.2222222222222222,\"#7201a8\"],[0.3333333333333333,\"#9c179e\"],[0.4444444444444444,\"#bd3786\"],[0.5555555555555556,\"#d8576b\"],[0.6666666666666666,\"#ed7953\"],[0.7777777777777778,\"#fb9f3a\"],[0.8888888888888888,\"#fdca26\"],[1.0,\"#f0f921\"]],\"sequentialminus\":[[0.0,\"#0d0887\"],[0.1111111111111111,\"#46039f\"],[0.2222222222222222,\"#7201a8\"],[0.3333333333333333,\"#9c179e\"],[0.4444444444444444,\"#bd3786\"],[0.5555555555555556,\"#d8576b\"],[0.6666666666666666,\"#ed7953\"],[0.7777777777777778,\"#fb9f3a\"],[0.8888888888888888,\"#fdca26\"],[1.0,\"#f0f921\"]]},\"colorway\":[\"#636efa\",\"#EF553B\",\"#00cc96\",\"#ab63fa\",\"#FFA15A\",\"#19d3f3\",\"#FF6692\",\"#B6E880\",\"#FF97FF\",\"#FECB52\"],\"font\":{\"color\":\"#2a3f5f\"},\"geo\":{\"bgcolor\":\"white\",\"lakecolor\":\"white\",\"landcolor\":\"#E5ECF6\",\"showlakes\":true,\"showland\":true,\"subunitcolor\":\"white\"},\"hoverlabel\":{\"align\":\"left\"},\"hovermode\":\"closest\",\"mapbox\":{\"style\":\"light\"},\"paper_bgcolor\":\"white\",\"plot_bgcolor\":\"#E5ECF6\",\"polar\":{\"angularaxis\":{\"gridcolor\":\"white\",\"linecolor\":\"white\",\"ticks\":\"\"},\"bgcolor\":\"#E5ECF6\",\"radialaxis\":{\"gridcolor\":\"white\",\"linecolor\":\"white\",\"ticks\":\"\"}},\"scene\":{\"xaxis\":{\"backgroundcolor\":\"#E5ECF6\",\"gridcolor\":\"white\",\"gridwidth\":2,\"linecolor\":\"white\",\"showbackground\":true,\"ticks\":\"\",\"zerolinecolor\":\"white\"},\"yaxis\":{\"backgroundcolor\":\"#E5ECF6\",\"gridcolor\":\"white\",\"gridwidth\":2,\"linecolor\":\"white\",\"showbackground\":true,\"ticks\":\"\",\"zerolinecolor\":\"white\"},\"zaxis\":{\"backgroundcolor\":\"#E5ECF6\",\"gridcolor\":\"white\",\"gridwidth\":2,\"linecolor\":\"white\",\"showbackground\":true,\"ticks\":\"\",\"zerolinecolor\":\"white\"}},\"shapedefaults\":{\"line\":{\"color\":\"#2a3f5f\"}},\"ternary\":{\"aaxis\":{\"gridcolor\":\"white\",\"linecolor\":\"white\",\"ticks\":\"\"},\"baxis\":{\"gridcolor\":\"white\",\"linecolor\":\"white\",\"ticks\":\"\"},\"bgcolor\":\"#E5ECF6\",\"caxis\":{\"gridcolor\":\"white\",\"linecolor\":\"white\",\"ticks\":\"\"}},\"title\":{\"x\":0.05},\"xaxis\":{\"automargin\":true,\"gridcolor\":\"white\",\"linecolor\":\"white\",\"ticks\":\"\",\"title\":{\"standoff\":15},\"zerolinecolor\":\"white\",\"zerolinewidth\":2},\"yaxis\":{\"automargin\":true,\"gridcolor\":\"white\",\"linecolor\":\"white\",\"ticks\":\"\",\"title\":{\"standoff\":15},\"zerolinecolor\":\"white\",\"zerolinewidth\":2}}},\"xaxis\":{\"anchor\":\"y\",\"domain\":[0.0,1.0],\"title\":{\"text\":\"Calidad Percibida\"},\"showticklabels\":false},\"yaxis\":{\"anchor\":\"x\",\"domain\":[0.0,1.0],\"title\":{\"text\":\"Percepci\\u00f3n del Precio\"},\"showticklabels\":false},\"legend\":{\"title\":{\"text\":\"Marcas:\"},\"tracegroupgap\":0},\"margin\":{\"t\":60},\"font\":{\"size\":20}},                        {\"responsive\": true}                    ).then(function(){\n",
       "                            \n",
       "var gd = document.getElementById('dbd79f5f-1d11-47e3-adba-c68eb45cf13b');\n",
       "var x = new MutationObserver(function (mutations, observer) {{\n",
       "        var display = window.getComputedStyle(gd).display;\n",
       "        if (!display || display === 'none') {{\n",
       "            console.log([gd, 'removed!']);\n",
       "            Plotly.purge(gd);\n",
       "            observer.disconnect();\n",
       "        }}\n",
       "}});\n",
       "\n",
       "// Listen for the removal of the full notebook cells\n",
       "var notebookContainer = gd.closest('#notebook-container');\n",
       "if (notebookContainer) {{\n",
       "    x.observe(notebookContainer, {childList: true});\n",
       "}}\n",
       "\n",
       "// Listen for the clearing of the current output cell\n",
       "var outputEl = gd.closest('.output');\n",
       "if (outputEl) {{\n",
       "    x.observe(outputEl, {childList: true});\n",
       "}}\n",
       "\n",
       "                        })                };                });            </script>        </div>"
      ]
     },
     "metadata": {},
     "output_type": "display_data"
    }
   ],
   "source": [
    "import plotly.express as px\n",
    "fig = px.scatter(sport_brands_vader_df, y='price_score', x=\"quality_score\",\n",
    "                 color='brand',\n",
    "                 labels={\n",
    "                     \"price_score\": \"Percepción del Precio\",\n",
    "                     \"quality_score\": \"Calidad Percibida\",\n",
    "                     \"brand\": \"Marcas:\"})\n",
    "fig.update_layout(font=dict(size=20), yaxis_showticklabels=False, xaxis_showticklabels=False)\n",
    "\n",
    "#legend_title_font_color=\"RebeccaPurple\")\n",
    "\n",
    "fig.show()\n",
    "\n",
    "fig.write_image(\"graphs/sports_equipment.png\")"
   ]
  },
  {
   "cell_type": "code",
   "execution_count": null,
   "id": "e25a45d5",
   "metadata": {},
   "outputs": [],
   "source": []
  }
 ],
 "metadata": {
  "kernelspec": {
   "display_name": "ironhack",
   "language": "python",
   "name": "myenv"
  },
  "language_info": {
   "codemirror_mode": {
    "name": "ipython",
    "version": 3
   },
   "file_extension": ".py",
   "mimetype": "text/x-python",
   "name": "python",
   "nbconvert_exporter": "python",
   "pygments_lexer": "ipython3",
   "version": "3.8.5"
  }
 },
 "nbformat": 4,
 "nbformat_minor": 5
}
