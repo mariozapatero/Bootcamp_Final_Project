{
 "cells": [
  {
   "cell_type": "markdown",
   "id": "770d9721",
   "metadata": {},
   "source": [
    "### TextBlob (Spacy)"
   ]
  },
  {
   "cell_type": "code",
   "execution_count": 3,
   "id": "2122bf80",
   "metadata": {},
   "outputs": [
    {
     "data": {
      "text/plain": [
       "'INTRO!!!'"
      ]
     },
     "execution_count": 3,
     "metadata": {},
     "output_type": "execute_result"
    }
   ],
   "source": [
    "'''INTRO!!!'''\n",
    "\n",
    "# Catarse bien de cómo funciona.\n",
    "# Ojo instalaciones (lo he metido en todos laos)."
   ]
  },
  {
   "cell_type": "code",
   "execution_count": 1,
   "id": "e7c07bbf",
   "metadata": {},
   "outputs": [
    {
     "data": {
      "text/plain": [
       "[WordList(['I', 'had', 'a']),\n",
       " WordList(['had', 'a', 'really']),\n",
       " WordList(['a', 'really', 'horrible']),\n",
       " WordList(['really', 'horrible', 'day']),\n",
       " WordList(['horrible', 'day', 'It']),\n",
       " WordList(['day', 'It', 'was']),\n",
       " WordList(['It', 'was', 'the']),\n",
       " WordList(['was', 'the', 'worst']),\n",
       " WordList(['the', 'worst', 'day']),\n",
       " WordList(['worst', 'day', 'ever']),\n",
       " WordList(['day', 'ever', 'But']),\n",
       " WordList(['ever', 'But', 'every']),\n",
       " WordList(['But', 'every', 'now']),\n",
       " WordList(['every', 'now', 'and']),\n",
       " WordList(['now', 'and', 'then']),\n",
       " WordList(['and', 'then', 'I']),\n",
       " WordList(['then', 'I', 'have']),\n",
       " WordList(['I', 'have', 'a']),\n",
       " WordList(['have', 'a', 'really']),\n",
       " WordList(['a', 'really', 'good']),\n",
       " WordList(['really', 'good', 'day']),\n",
       " WordList(['good', 'day', 'that']),\n",
       " WordList(['day', 'that', 'makes']),\n",
       " WordList(['that', 'makes', 'me']),\n",
       " WordList(['makes', 'me', 'happy'])]"
      ]
     },
     "execution_count": 1,
     "metadata": {},
     "output_type": "execute_result"
    }
   ],
   "source": [
    "import spacy\n",
    "from spacytextblob.spacytextblob import SpacyTextBlob\n",
    "\n",
    "nlp = spacy.load('en_core_web_sm')\n",
    "nlp.add_pipe('spacytextblob')\n",
    "text = 'I had a really horrible day. It was the worst day ever! But every now and then I have a really good day that makes me happy.'\n",
    "doc = nlp(text)\n",
    "doc._.blob.polarity                            # Polarity: -0.125\n",
    "doc._.blob.subjectivity                        # Subjectivity: 0.9\n",
    "doc._.blob.sentiment_assessments.assessments   # Assessments: [(['really', 'horrible'], -1.0, 1.0, None), (['worst', '!'], -1.0, 1.0, None), (['really', 'good'], 0.7, 0.6000000000000001, None), (['happy'], 0.8, 1.0, None)]\n",
    "doc._.blob.ngrams()   "
   ]
  },
  {
   "cell_type": "code",
   "execution_count": 2,
   "id": "430c2f4b",
   "metadata": {},
   "outputs": [
    {
     "name": "stdout",
     "output_type": "stream",
     "text": [
      "-0.125\n",
      "0.9\n",
      "[(['really', 'horrible'], -1.0, 1.0, None), (['worst', '!'], -1.0, 1.0, None), (['really', 'good'], 0.7, 0.6000000000000001, None), (['happy'], 0.8, 1.0, None)]\n"
     ]
    }
   ],
   "source": [
    "from textblob import TextBlob\n",
    "\n",
    "text = \"I had a really horrible day. It was the worst day ever! But every now and then I have a really good day that makes me happy.\"\n",
    "blob = TextBlob(text)\n",
    "\n",
    "print(blob.sentiment_assessments.polarity)\n",
    "# -0.125\n",
    "\n",
    "print(blob.sentiment_assessments.subjectivity)\n",
    "# 0.9\n",
    "\n",
    "print(blob.sentiment_assessments.assessments)\n",
    "# [(['really', 'horrible'], -1.0, 1.0, None), (['worst', '!'], -1.0, 1.0, None), (['really', 'good'], 0.7, 0.6000000000000001, None), (['happy'], 0.8, 1.0, None)]\n"
   ]
  },
  {
   "cell_type": "markdown",
   "id": "18da6cec",
   "metadata": {},
   "source": [
    "### VADER."
   ]
  },
  {
   "cell_type": "markdown",
   "id": "2459375e",
   "metadata": {},
   "source": [
    "VADER (Valence Aware Dictionary and sEntiment Reasoner) es una librería utilizada para el análisis del sentimiento que se enfoca en los textos de social media. Así, pone énfases en las rules que captan la esencia del texto que normalmente se ve en las redes sociales. Realmente está pensado para actuar sobre texto que no han sido limpiados previamente (con emojis, signos de exclamación, etc.). Nosotros lo probaremos tanto sobre los datos ya limpios, como sobre los datos originales. Lo ideal sería evaluar la precisión de cada uno de ellos (junto con el análisis desarrollado mediante otros modelos), para identificar el que ofrece un mayor rendimiento."
   ]
  },
  {
   "cell_type": "markdown",
   "id": "32adede2",
   "metadata": {},
   "source": [
    "https://towardsdatascience.com/fine-grained-sentiment-analysis-in-python-part-1-2697bb111ed4"
   ]
  },
  {
   "cell_type": "code",
   "execution_count": null,
   "id": "5b086f35",
   "metadata": {},
   "outputs": [],
   "source": [
    "from src.nlp_functions import *"
   ]
  },
  {
   "cell_type": "code",
   "execution_count": null,
   "id": "20aee0a6",
   "metadata": {},
   "outputs": [],
   "source": [
    "import pandas as pd\n",
    "\n",
    "brands_tweets = pd.read_pickle('data/brands_tokens.pkl')"
   ]
  },
  {
   "cell_type": "code",
   "execution_count": null,
   "id": "964a9d63",
   "metadata": {},
   "outputs": [],
   "source": [
    "brands_tweets.head()"
   ]
  },
  {
   "cell_type": "code",
   "execution_count": null,
   "id": "7b633b52",
   "metadata": {},
   "outputs": [],
   "source": [
    "brands_tweets['vader_scores'] = brands_tweets.token.apply(vader_scoring)"
   ]
  },
  {
   "cell_type": "code",
   "execution_count": null,
   "id": "de27e5ee",
   "metadata": {},
   "outputs": [],
   "source": [
    "brands_tweets.sample(10)"
   ]
  }
 ],
 "metadata": {
  "kernelspec": {
   "display_name": "ironhack",
   "language": "python",
   "name": "myenv"
  },
  "language_info": {
   "codemirror_mode": {
    "name": "ipython",
    "version": 3
   },
   "file_extension": ".py",
   "mimetype": "text/x-python",
   "name": "python",
   "nbconvert_exporter": "python",
   "pygments_lexer": "ipython3",
   "version": "3.8.5"
  }
 },
 "nbformat": 4,
 "nbformat_minor": 5
}
