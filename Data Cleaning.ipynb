{
 "cells": [
  {
   "cell_type": "code",
   "execution_count": 1,
   "id": "d1a4e184",
   "metadata": {},
   "outputs": [],
   "source": [
    "import pandas as pd\n",
    "\n",
    "from src.cleaning_functions import *"
   ]
  },
  {
   "cell_type": "markdown",
   "id": "ecadec24",
   "metadata": {},
   "source": [
    "## Nike data."
   ]
  },
  {
   "cell_type": "code",
   "execution_count": 2,
   "id": "396cb3ef",
   "metadata": {},
   "outputs": [],
   "source": [
    "nike = pd.read_csv('data/nike.csv')"
   ]
  },
  {
   "cell_type": "code",
   "execution_count": 3,
   "id": "f87eea74",
   "metadata": {},
   "outputs": [],
   "source": [
    "nike_tw = pd.DataFrame(nike.text)"
   ]
  },
  {
   "cell_type": "markdown",
   "id": "3a1b3f71",
   "metadata": {},
   "source": [
    "### Exploración inicial de los datos:"
   ]
  },
  {
   "cell_type": "code",
   "execution_count": 4,
   "id": "adb0f42a",
   "metadata": {},
   "outputs": [
    {
     "data": {
      "text/plain": [
       "(29804, 1)"
      ]
     },
     "execution_count": 4,
     "metadata": {},
     "output_type": "execute_result"
    }
   ],
   "source": [
    "nike_tw.shape"
   ]
  },
  {
   "cell_type": "code",
   "execution_count": 5,
   "id": "08157711",
   "metadata": {},
   "outputs": [
    {
     "name": "stdout",
     "output_type": "stream",
     "text": [
      "<class 'pandas.core.frame.DataFrame'>\n",
      "RangeIndex: 29804 entries, 0 to 29803\n",
      "Data columns (total 1 columns):\n",
      " #   Column  Non-Null Count  Dtype \n",
      "---  ------  --------------  ----- \n",
      " 0   text    29804 non-null  object\n",
      "dtypes: object(1)\n",
      "memory usage: 233.0+ KB\n"
     ]
    }
   ],
   "source": [
    "nike_tw.info()"
   ]
  },
  {
   "cell_type": "code",
   "execution_count": 6,
   "id": "a915040a",
   "metadata": {},
   "outputs": [
    {
     "data": {
      "text/html": [
       "<div>\n",
       "<style scoped>\n",
       "    .dataframe tbody tr th:only-of-type {\n",
       "        vertical-align: middle;\n",
       "    }\n",
       "\n",
       "    .dataframe tbody tr th {\n",
       "        vertical-align: top;\n",
       "    }\n",
       "\n",
       "    .dataframe thead th {\n",
       "        text-align: right;\n",
       "    }\n",
       "</style>\n",
       "<table border=\"1\" class=\"dataframe\">\n",
       "  <thead>\n",
       "    <tr style=\"text-align: right;\">\n",
       "      <th></th>\n",
       "      <th>text</th>\n",
       "    </tr>\n",
       "  </thead>\n",
       "  <tbody>\n",
       "    <tr>\n",
       "      <th>count</th>\n",
       "      <td>29804</td>\n",
       "    </tr>\n",
       "    <tr>\n",
       "      <th>unique</th>\n",
       "      <td>29276</td>\n",
       "    </tr>\n",
       "    <tr>\n",
       "      <th>top</th>\n",
       "      <td>@whatudohazz nike</td>\n",
       "    </tr>\n",
       "    <tr>\n",
       "      <th>freq</th>\n",
       "      <td>59</td>\n",
       "    </tr>\n",
       "  </tbody>\n",
       "</table>\n",
       "</div>"
      ],
      "text/plain": [
       "                     text\n",
       "count               29804\n",
       "unique              29276\n",
       "top     @whatudohazz nike\n",
       "freq                   59"
      ]
     },
     "execution_count": 6,
     "metadata": {},
     "output_type": "execute_result"
    }
   ],
   "source": [
    "nike_tw.describe()"
   ]
  },
  {
   "cell_type": "code",
   "execution_count": 7,
   "id": "b915decd",
   "metadata": {},
   "outputs": [
    {
     "data": {
      "text/plain": [
       "text    0\n",
       "dtype: int64"
      ]
     },
     "execution_count": 7,
     "metadata": {},
     "output_type": "execute_result"
    }
   ],
   "source": [
    "nike_tw.isnull().sum()  # No existen nulos."
   ]
  },
  {
   "cell_type": "code",
   "execution_count": 8,
   "id": "12b2849f",
   "metadata": {},
   "outputs": [
    {
     "data": {
      "text/plain": [
       "528"
      ]
     },
     "execution_count": 8,
     "metadata": {},
     "output_type": "execute_result"
    }
   ],
   "source": [
    "nike_tw.duplicated().sum() # Encontramos 528 valores duplicados."
   ]
  },
  {
   "cell_type": "code",
   "execution_count": 9,
   "id": "3e5ba664",
   "metadata": {},
   "outputs": [],
   "source": [
    "drop_duplicates(nike_tw) # Eliminamos los valores duplicados."
   ]
  },
  {
   "cell_type": "code",
   "execution_count": 10,
   "id": "fda8eefa",
   "metadata": {},
   "outputs": [
    {
     "data": {
      "text/plain": [
       "(29276, 1)"
      ]
     },
     "execution_count": 10,
     "metadata": {},
     "output_type": "execute_result"
    }
   ],
   "source": [
    "nike_tw.shape"
   ]
  },
  {
   "cell_type": "markdown",
   "id": "2b25231a",
   "metadata": {},
   "source": [
    "### Preparing Data."
   ]
  },
  {
   "cell_type": "markdown",
   "id": "1529548b",
   "metadata": {},
   "source": [
    "**Limpieza básica:**\n",
    "- Pasamos todo a minúsculas.\n",
    "- Eliminamos usuarios ('@ + user' ya que en principio el nombre de los usuarios no aporta información relevante para el modelo).\n",
    "- Eliminamos urls.\n",
    "- Eliminamos valores no alfabéticos (# (aunque manteniendo el texto que viene después ya que puede contener información relevante), números...).\n",
    "\n",
    "Esta limpieza se ejecutará a través de nuestra función `basic_cleanning()`."
   ]
  },
  {
   "cell_type": "code",
   "execution_count": 11,
   "id": "d747beba",
   "metadata": {},
   "outputs": [
    {
     "data": {
      "text/html": [
       "<div>\n",
       "<style scoped>\n",
       "    .dataframe tbody tr th:only-of-type {\n",
       "        vertical-align: middle;\n",
       "    }\n",
       "\n",
       "    .dataframe tbody tr th {\n",
       "        vertical-align: top;\n",
       "    }\n",
       "\n",
       "    .dataframe thead th {\n",
       "        text-align: right;\n",
       "    }\n",
       "</style>\n",
       "<table border=\"1\" class=\"dataframe\">\n",
       "  <thead>\n",
       "    <tr style=\"text-align: right;\">\n",
       "      <th></th>\n",
       "      <th>text</th>\n",
       "    </tr>\n",
       "  </thead>\n",
       "  <tbody>\n",
       "    <tr>\n",
       "      <th>0</th>\n",
       "      <td>@ZubyMusic @LPMisesCaucus Nobody cares about N...</td>\n",
       "    </tr>\n",
       "    <tr>\n",
       "      <th>1</th>\n",
       "      <td>@PoojaPraharaj @IndiainUkraine @PMOIndia @MEAI...</td>\n",
       "    </tr>\n",
       "    <tr>\n",
       "      <th>2</th>\n",
       "      <td>@DocumentWomen Nike Okundaye. Also knowns Nike...</td>\n",
       "    </tr>\n",
       "    <tr>\n",
       "      <th>3</th>\n",
       "      <td>Day 4 of #maxmadness #AirMaxMonth \\nNike Air M...</td>\n",
       "    </tr>\n",
       "    <tr>\n",
       "      <th>4</th>\n",
       "      <td>@MagMr44 @soleguru @nikestore @Nike @SneakerAd...</td>\n",
       "    </tr>\n",
       "  </tbody>\n",
       "</table>\n",
       "</div>"
      ],
      "text/plain": [
       "                                                text\n",
       "0  @ZubyMusic @LPMisesCaucus Nobody cares about N...\n",
       "1  @PoojaPraharaj @IndiainUkraine @PMOIndia @MEAI...\n",
       "2  @DocumentWomen Nike Okundaye. Also knowns Nike...\n",
       "3  Day 4 of #maxmadness #AirMaxMonth \\nNike Air M...\n",
       "4  @MagMr44 @soleguru @nikestore @Nike @SneakerAd..."
      ]
     },
     "execution_count": 11,
     "metadata": {},
     "output_type": "execute_result"
    }
   ],
   "source": [
    "nike_tw.head()"
   ]
  },
  {
   "cell_type": "code",
   "execution_count": 12,
   "id": "2b6f1c1d",
   "metadata": {},
   "outputs": [],
   "source": [
    "nike_tw = pd.DataFrame(nike_tw.text.apply(basic_cleanning))"
   ]
  },
  {
   "cell_type": "code",
   "execution_count": 13,
   "id": "9bc2dd38",
   "metadata": {
    "scrolled": true
   },
   "outputs": [
    {
     "data": {
      "text/html": [
       "<div>\n",
       "<style scoped>\n",
       "    .dataframe tbody tr th:only-of-type {\n",
       "        vertical-align: middle;\n",
       "    }\n",
       "\n",
       "    .dataframe tbody tr th {\n",
       "        vertical-align: top;\n",
       "    }\n",
       "\n",
       "    .dataframe thead th {\n",
       "        text-align: right;\n",
       "    }\n",
       "</style>\n",
       "<table border=\"1\" class=\"dataframe\">\n",
       "  <thead>\n",
       "    <tr style=\"text-align: right;\">\n",
       "      <th></th>\n",
       "      <th>text</th>\n",
       "    </tr>\n",
       "  </thead>\n",
       "  <tbody>\n",
       "    <tr>\n",
       "      <th>0</th>\n",
       "      <td>nobody cares about nike in russia russia is al...</td>\n",
       "    </tr>\n",
       "    <tr>\n",
       "      <th>1</th>\n",
       "      <td>ye green nike hoodie waala weeks pehle putin s...</td>\n",
       "    </tr>\n",
       "    <tr>\n",
       "      <th>2</th>\n",
       "      <td>nike okundaye also knowns nike twins seven sev...</td>\n",
       "    </tr>\n",
       "    <tr>\n",
       "      <th>3</th>\n",
       "      <td>day of air max month nike air max viotech and ...</td>\n",
       "    </tr>\n",
       "    <tr>\n",
       "      <th>4</th>\n",
       "      <td>thank you sir</td>\n",
       "    </tr>\n",
       "  </tbody>\n",
       "</table>\n",
       "</div>"
      ],
      "text/plain": [
       "                                                text\n",
       "0  nobody cares about nike in russia russia is al...\n",
       "1  ye green nike hoodie waala weeks pehle putin s...\n",
       "2  nike okundaye also knowns nike twins seven sev...\n",
       "3  day of air max month nike air max viotech and ...\n",
       "4                                      thank you sir"
      ]
     },
     "execution_count": 13,
     "metadata": {},
     "output_type": "execute_result"
    }
   ],
   "source": [
    "nike_tw.head()"
   ]
  },
  {
   "cell_type": "code",
   "execution_count": null,
   "id": "91f04345",
   "metadata": {},
   "outputs": [],
   "source": []
  },
  {
   "cell_type": "code",
   "execution_count": null,
   "id": "1eebd11d",
   "metadata": {},
   "outputs": [],
   "source": []
  },
  {
   "cell_type": "code",
   "execution_count": 14,
   "id": "40faedd4",
   "metadata": {},
   "outputs": [
    {
     "data": {
      "text/plain": [
       "'ye green nike hoodie waala weeks pehle putin se disappointed tha he said putin ne dhoka de diya he was expecting thrill from putin ab jab thrill mil raha hai to darkhwaast kar raha hai he is so shameless that he is still requesting and coming in video'"
      ]
     },
     "execution_count": 14,
     "metadata": {},
     "output_type": "execute_result"
    }
   ],
   "source": [
    "nike_tw.text[1]"
   ]
  },
  {
   "cell_type": "code",
   "execution_count": 15,
   "id": "254b5010",
   "metadata": {
    "scrolled": true
   },
   "outputs": [
    {
     "data": {
      "text/plain": [
       "'q website is'"
      ]
     },
     "execution_count": 15,
     "metadata": {},
     "output_type": "execute_result"
    }
   ],
   "source": [
    "basic_cleanning(\"@Ironhack's- #Q website 776-is http://ironhack.com [(2018)]\")"
   ]
  },
  {
   "cell_type": "code",
   "execution_count": null,
   "id": "9b4c27fc",
   "metadata": {},
   "outputs": [],
   "source": []
  },
  {
   "cell_type": "code",
   "execution_count": null,
   "id": "c0d2ea52",
   "metadata": {},
   "outputs": [],
   "source": []
  },
  {
   "cell_type": "code",
   "execution_count": 18,
   "id": "dadfdd95",
   "metadata": {},
   "outputs": [],
   "source": [
    "from nltk.corpus import wordnet"
   ]
  },
  {
   "cell_type": "code",
   "execution_count": 19,
   "id": "2c04c7a3",
   "metadata": {},
   "outputs": [
    {
     "name": "stdout",
     "output_type": "stream",
     "text": [
      "[Synset('monetary_value.n.01'), Synset('price.n.02'), Synset('price.n.03'), Synset('price.n.04'), Synset('price.n.05'), Synset('price.n.06'), Synset('price.n.07'), Synset('price.v.01'), Synset('price.v.02')]\n"
     ]
    }
   ],
   "source": [
    "syns = wordnet.synsets(\"price\")\n",
    "print(syns)"
   ]
  },
  {
   "cell_type": "code",
   "execution_count": null,
   "id": "416e5152",
   "metadata": {},
   "outputs": [],
   "source": []
  },
  {
   "cell_type": "code",
   "execution_count": 31,
   "id": "0563dae1",
   "metadata": {},
   "outputs": [
    {
     "data": {
      "text/plain": [
       "['ackers',\n",
       " 'affordable',\n",
       " 'banknote',\n",
       " 'bargain',\n",
       " 'bill',\n",
       " 'bill',\n",
       " 'boodle',\n",
       " 'brass',\n",
       " 'brass',\n",
       " 'bread',\n",
       " 'buck',\n",
       " 'budget',\n",
       " 'capital',\n",
       " 'carfare',\n",
       " 'cash',\n",
       " 'cent',\n",
       " 'charge',\n",
       " 'cheap',\n",
       " 'coin',\n",
       " 'competitive',\n",
       " 'copper',\n",
       " 'cost',\n",
       " 'cost',\n",
       " 'currency',\n",
       " 'damage',\n",
       " 'dibs',\n",
       " 'dime',\n",
       " 'dinero',\n",
       " 'discount',\n",
       " 'dollar',\n",
       " 'dosh',\n",
       " 'dough',\n",
       " 'ducats',\n",
       " 'economic',\n",
       " 'economy',\n",
       " 'euros',\n",
       " 'expenditure',\n",
       " 'expense',\n",
       " 'expensive',\n",
       " 'fare',\n",
       " 'fee',\n",
       " 'fraud',\n",
       " 'funds',\n",
       " 'gelt',\n",
       " 'gold',\n",
       " 'gravy',\n",
       " 'greenbacks',\n",
       " 'invoice',\n",
       " 'levy',\n",
       " 'lolly',\n",
       " 'loot',\n",
       " 'lucre',\n",
       " 'mazuma',\n",
       " 'means',\n",
       " 'monetary',\n",
       " 'money',\n",
       " 'money',\n",
       " 'moolah',\n",
       " 'note',\n",
       " 'noting',\n",
       " 'oof',\n",
       " 'outlay',\n",
       " 'pay',\n",
       " 'pence',\n",
       " 'penny',\n",
       " 'plonk',\n",
       " 'plunder',\n",
       " 'plunk',\n",
       " 'price',\n",
       " 'pricy',\n",
       " 'quotation',\n",
       " 'rate',\n",
       " 'rhino',\n",
       " 'rich',\n",
       " 'rob',\n",
       " 'sale',\n",
       " 'settlement',\n",
       " 'shekels',\n",
       " 'silver',\n",
       " 'simoleons',\n",
       " 'smacker',\n",
       " 'splosh',\n",
       " 'spondulicks',\n",
       " 'steal',\n",
       " 'sterling',\n",
       " 'sum',\n",
       " 'terms',\n",
       " 'theft',\n",
       " 'thievery',\n",
       " 'toll',\n",
       " 'valuation',\n",
       " 'value',\n",
       " 'wherewithal',\n",
       " 'wonga',\n",
       " 'worthy']"
      ]
     },
     "execution_count": 31,
     "metadata": {},
     "output_type": "execute_result"
    }
   ],
   "source": [
    "price_list = ['bill', 'carfare', 'charge', 'cost', 'cost', 'damage', 'expenditure', 'expense',\n",
    "              'fare', 'fee', 'invoice', 'levy', 'monetary', 'money', 'outlay', 'pay', 'price', 'pricy',\n",
    "              'quotation', 'rate', 'settlement', 'sum', 'terms', 'toll', 'valuation', 'value',\n",
    "              'money', 'cash', 'wherewithal', 'means', 'funds', 'capital', 'lucre', 'banknote', 'note', 'noting',\n",
    "              'coin', 'copper', 'silver', 'cent', 'penny', 'pence', 'dollar', 'buck', 'smacker', 'plonk', 'plunk',\n",
    "              'currency', 'sterling', 'bill', 'dough', 'bread', 'rich', 'dime', 'gold',\n",
    "              'loot', 'plunder', 'shekels', 'moolah', 'boodle', 'dibs', 'brass', 'gelt', 'ducats', 'rhino', 'gravy',\n",
    "              'oof', 'dosh', 'brass', 'lolly', 'spondulicks', 'wonga', 'ackers', 'dinero', 'euros', 'greenbacks',\n",
    "              'simoleons', 'mazuma', 'splosh', 'worthy', 'cheap', 'economic', 'economy', 'competitive', 'affordable',\n",
    "              'budget', 'bargain', 'sale', 'discount', 'expensive', 'rob', 'steal', 'theft', 'thievery', 'fraud']\n",
    "\n",
    "\n",
    "sorted(price_list)"
   ]
  }
 ],
 "metadata": {
  "kernelspec": {
   "display_name": "ironhack",
   "language": "python",
   "name": "myenv"
  },
  "language_info": {
   "codemirror_mode": {
    "name": "ipython",
    "version": 3
   },
   "file_extension": ".py",
   "mimetype": "text/x-python",
   "name": "python",
   "nbconvert_exporter": "python",
   "pygments_lexer": "ipython3",
   "version": "3.8.5"
  }
 },
 "nbformat": 4,
 "nbformat_minor": 5
}
