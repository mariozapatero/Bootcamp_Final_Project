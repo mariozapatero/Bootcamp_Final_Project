{
 "cells": [
  {
   "cell_type": "code",
   "execution_count": 2,
   "id": "1acb0510",
   "metadata": {},
   "outputs": [],
   "source": [
    "import pandas as pd"
   ]
  },
  {
   "cell_type": "markdown",
   "id": "1cf0f5ff",
   "metadata": {},
   "source": [
    "## Nike data."
   ]
  },
  {
   "cell_type": "code",
   "execution_count": 3,
   "id": "b5f1b651",
   "metadata": {},
   "outputs": [],
   "source": [
    "nike = pd.read_csv('data/nike.csv')"
   ]
  },
  {
   "cell_type": "code",
   "execution_count": 27,
   "id": "82fc8f6b",
   "metadata": {},
   "outputs": [],
   "source": [
    "nike_tw = pd.DataFrame(nike.text)"
   ]
  },
  {
   "cell_type": "markdown",
   "id": "76e8a83c",
   "metadata": {},
   "source": [
    "### Limpieza General:"
   ]
  },
  {
   "cell_type": "code",
   "execution_count": 28,
   "id": "ff7f1ed8",
   "metadata": {},
   "outputs": [
    {
     "data": {
      "text/plain": [
       "(29804, 1)"
      ]
     },
     "execution_count": 28,
     "metadata": {},
     "output_type": "execute_result"
    }
   ],
   "source": [
    "nike_tw.shape"
   ]
  },
  {
   "cell_type": "code",
   "execution_count": 29,
   "id": "7fb85f4a",
   "metadata": {},
   "outputs": [
    {
     "name": "stdout",
     "output_type": "stream",
     "text": [
      "<class 'pandas.core.frame.DataFrame'>\n",
      "RangeIndex: 29804 entries, 0 to 29803\n",
      "Data columns (total 1 columns):\n",
      " #   Column  Non-Null Count  Dtype \n",
      "---  ------  --------------  ----- \n",
      " 0   text    29804 non-null  object\n",
      "dtypes: object(1)\n",
      "memory usage: 233.0+ KB\n"
     ]
    }
   ],
   "source": [
    "nike_tw.info()"
   ]
  },
  {
   "cell_type": "code",
   "execution_count": 30,
   "id": "3cebd2c9",
   "metadata": {},
   "outputs": [
    {
     "data": {
      "text/html": [
       "<div>\n",
       "<style scoped>\n",
       "    .dataframe tbody tr th:only-of-type {\n",
       "        vertical-align: middle;\n",
       "    }\n",
       "\n",
       "    .dataframe tbody tr th {\n",
       "        vertical-align: top;\n",
       "    }\n",
       "\n",
       "    .dataframe thead th {\n",
       "        text-align: right;\n",
       "    }\n",
       "</style>\n",
       "<table border=\"1\" class=\"dataframe\">\n",
       "  <thead>\n",
       "    <tr style=\"text-align: right;\">\n",
       "      <th></th>\n",
       "      <th>text</th>\n",
       "    </tr>\n",
       "  </thead>\n",
       "  <tbody>\n",
       "    <tr>\n",
       "      <th>count</th>\n",
       "      <td>29804</td>\n",
       "    </tr>\n",
       "    <tr>\n",
       "      <th>unique</th>\n",
       "      <td>29276</td>\n",
       "    </tr>\n",
       "    <tr>\n",
       "      <th>top</th>\n",
       "      <td>@whatudohazz nike</td>\n",
       "    </tr>\n",
       "    <tr>\n",
       "      <th>freq</th>\n",
       "      <td>59</td>\n",
       "    </tr>\n",
       "  </tbody>\n",
       "</table>\n",
       "</div>"
      ],
      "text/plain": [
       "                     text\n",
       "count               29804\n",
       "unique              29276\n",
       "top     @whatudohazz nike\n",
       "freq                   59"
      ]
     },
     "execution_count": 30,
     "metadata": {},
     "output_type": "execute_result"
    }
   ],
   "source": [
    "nike_tw.describe()"
   ]
  },
  {
   "cell_type": "code",
   "execution_count": 31,
   "id": "f0f1d9e7",
   "metadata": {},
   "outputs": [
    {
     "data": {
      "text/plain": [
       "text    0\n",
       "dtype: int64"
      ]
     },
     "execution_count": 31,
     "metadata": {},
     "output_type": "execute_result"
    }
   ],
   "source": [
    "nike_tw.isnull().sum()  # No existen nulos."
   ]
  },
  {
   "cell_type": "code",
   "execution_count": 32,
   "id": "07e5a447",
   "metadata": {},
   "outputs": [
    {
     "data": {
      "text/plain": [
       "528"
      ]
     },
     "execution_count": 32,
     "metadata": {},
     "output_type": "execute_result"
    }
   ],
   "source": [
    "nike_tw.duplicated().sum() # Encontramos 528 valores duplicados."
   ]
  },
  {
   "cell_type": "code",
   "execution_count": 33,
   "id": "87dcd437",
   "metadata": {},
   "outputs": [],
   "source": [
    "nike_tw.drop_duplicates(inplace = True)  # Eliminamos los valores duplicados."
   ]
  },
  {
   "cell_type": "code",
   "execution_count": 34,
   "id": "6f3af59a",
   "metadata": {},
   "outputs": [
    {
     "data": {
      "text/plain": [
       "(29276, 1)"
      ]
     },
     "execution_count": 34,
     "metadata": {},
     "output_type": "execute_result"
    }
   ],
   "source": [
    "nike_tw.shape"
   ]
  },
  {
   "cell_type": "markdown",
   "id": "e65fcb7f",
   "metadata": {},
   "source": [
    "### Preparing Data."
   ]
  },
  {
   "cell_type": "markdown",
   "id": "8f124e12",
   "metadata": {},
   "source": [
    "**Limpieza básica:**\n",
    "- Pasamos todo a minúsculas.\n",
    "- Eliminamos usuarios ('@ + user').\n",
    "- Eliminamos urls."
   ]
  },
  {
   "cell_type": "code",
   "execution_count": 38,
   "id": "2b7f42c9",
   "metadata": {},
   "outputs": [
    {
     "data": {
      "text/plain": [
       "'@PoojaPraharaj @IndiainUkraine @PMOIndia @MEAIndia Ye green NIKE hoodie waala ...2 weeks pehle Putin se disappointed tha...\\nHe said Putin ne dhoka de diya\\nHe was expecting Thrill from Putin\\nAb jab thrill mil raha hai to darkhwaast kar raha hai\\nHe is so shameless that he is still requesting and coming in video'"
      ]
     },
     "execution_count": 38,
     "metadata": {},
     "output_type": "execute_result"
    }
   ],
   "source": [
    "nike_tw.text[1]"
   ]
  },
  {
   "cell_type": "code",
   "execution_count": 76,
   "id": "0e88d8f1",
   "metadata": {},
   "outputs": [],
   "source": [
    "def basic_cleanning(string):\n",
    "    \n",
    "    string = string.lower().strip()     # Todo a minúsculas y quitamos espacios en los extremos.\n",
    "    \n",
    "    string = re.sub('http[^\\s]*\\s', ' ', string)   # Quitamos urls.\n",
    "    \n",
    "    string = re.sub('@[^\\s]*\\s', ' ', string)   # Eliminamos usuarios\n",
    "\n",
    "    string = \" \".join(re.findall('[a-z]+', string))\n",
    "\n",
    "    return string"
   ]
  },
  {
   "cell_type": "code",
   "execution_count": 75,
   "id": "0c878525",
   "metadata": {},
   "outputs": [
    {
     "data": {
      "text/plain": [
       "'q website is'"
      ]
     },
     "execution_count": 75,
     "metadata": {},
     "output_type": "execute_result"
    }
   ],
   "source": [
    "import re\n",
    "\n",
    "url = 'http[^\\s]*\\s'\n",
    "\n",
    "string = \"@Ironhack's- #Q website 776-is http://ironhack.com [(2018)]\"\n",
    "\n",
    "string = string.lower().strip()\n",
    "\n",
    "string = re.sub(url, ' ', string)\n",
    "\n",
    "string = re.sub('@[^\\s]*\\s', ' ', string)\n",
    "\n",
    "string = \" \".join(re.findall('[a-z]+', string))\n",
    "\n",
    "string"
   ]
  },
  {
   "cell_type": "code",
   "execution_count": 77,
   "id": "b6626796",
   "metadata": {},
   "outputs": [
    {
     "data": {
      "text/plain": [
       "'q website is'"
      ]
     },
     "execution_count": 77,
     "metadata": {},
     "output_type": "execute_result"
    }
   ],
   "source": [
    "basic_cleanning(\"@Ironhack's- #Q website 776-is http://ironhack.com [(2018)]\")"
   ]
  }
 ],
 "metadata": {
  "kernelspec": {
   "display_name": "ironhack",
   "language": "python",
   "name": "myenv"
  },
  "language_info": {
   "codemirror_mode": {
    "name": "ipython",
    "version": 3
   },
   "file_extension": ".py",
   "mimetype": "text/x-python",
   "name": "python",
   "nbconvert_exporter": "python",
   "pygments_lexer": "ipython3",
   "version": "3.8.5"
  }
 },
 "nbformat": 4,
 "nbformat_minor": 5
}
