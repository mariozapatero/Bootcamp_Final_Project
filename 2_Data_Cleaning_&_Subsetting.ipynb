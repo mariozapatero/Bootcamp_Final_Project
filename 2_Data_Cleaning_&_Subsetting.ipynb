{
 "cells": [
  {
   "cell_type": "markdown",
   "id": "b5f67235",
   "metadata": {},
   "source": [
    "# Data Cleaning."
   ]
  },
  {
   "cell_type": "code",
   "execution_count": 1,
   "id": "abe1e7da",
   "metadata": {},
   "outputs": [],
   "source": [
    "import pandas as pd\n",
    "\n",
    "from src.cleaning_functions import *\n",
    "\n",
    "from src.text_functions import *"
   ]
  },
  {
   "cell_type": "markdown",
   "id": "2395267c",
   "metadata": {},
   "source": [
    "**ÍNDICE:**\n",
    "1. Nike data.\n",
    "    - Exploración inicial de los datos.\n",
    "    - Hashtags.\n",
    "    - Preparing Data.\n",
    "    - Subsets.\n",
    "\n",
    "\n",
    "\n",
    "2. Adidas data.\n",
    "    - Exploración inicial de los datos.\n",
    "    - Hashtags.\n",
    "    - Preparing Data.\n",
    "    - Subsets.\n",
    "\n",
    "\n",
    "\n",
    "3. Dataset Completo.\n"
   ]
  },
  {
   "cell_type": "markdown",
   "id": "9990df7e",
   "metadata": {},
   "source": [
    "## Nike data."
   ]
  },
  {
   "cell_type": "code",
   "execution_count": 2,
   "id": "4a67f6e8",
   "metadata": {},
   "outputs": [],
   "source": [
    "nike = pd.read_csv('data/nike.csv')"
   ]
  },
  {
   "cell_type": "code",
   "execution_count": 3,
   "id": "c42871b5",
   "metadata": {},
   "outputs": [],
   "source": [
    "nike_tw = pd.DataFrame(nike.text)"
   ]
  },
  {
   "cell_type": "markdown",
   "id": "d7bd8b9a",
   "metadata": {},
   "source": [
    "### Exploración inicial de los datos:"
   ]
  },
  {
   "cell_type": "code",
   "execution_count": 4,
   "id": "204293f8",
   "metadata": {},
   "outputs": [
    {
     "data": {
      "text/plain": [
       "(29804, 1)"
      ]
     },
     "execution_count": 4,
     "metadata": {},
     "output_type": "execute_result"
    }
   ],
   "source": [
    "nike_tw.shape"
   ]
  },
  {
   "cell_type": "code",
   "execution_count": 5,
   "id": "dad1361c",
   "metadata": {},
   "outputs": [
    {
     "name": "stdout",
     "output_type": "stream",
     "text": [
      "<class 'pandas.core.frame.DataFrame'>\n",
      "RangeIndex: 29804 entries, 0 to 29803\n",
      "Data columns (total 1 columns):\n",
      " #   Column  Non-Null Count  Dtype \n",
      "---  ------  --------------  ----- \n",
      " 0   text    29804 non-null  object\n",
      "dtypes: object(1)\n",
      "memory usage: 233.0+ KB\n"
     ]
    }
   ],
   "source": [
    "nike_tw.info()"
   ]
  },
  {
   "cell_type": "code",
   "execution_count": 6,
   "id": "4545eefd",
   "metadata": {},
   "outputs": [
    {
     "data": {
      "text/html": [
       "<div>\n",
       "<style scoped>\n",
       "    .dataframe tbody tr th:only-of-type {\n",
       "        vertical-align: middle;\n",
       "    }\n",
       "\n",
       "    .dataframe tbody tr th {\n",
       "        vertical-align: top;\n",
       "    }\n",
       "\n",
       "    .dataframe thead th {\n",
       "        text-align: right;\n",
       "    }\n",
       "</style>\n",
       "<table border=\"1\" class=\"dataframe\">\n",
       "  <thead>\n",
       "    <tr style=\"text-align: right;\">\n",
       "      <th></th>\n",
       "      <th>text</th>\n",
       "    </tr>\n",
       "  </thead>\n",
       "  <tbody>\n",
       "    <tr>\n",
       "      <th>count</th>\n",
       "      <td>29804</td>\n",
       "    </tr>\n",
       "    <tr>\n",
       "      <th>unique</th>\n",
       "      <td>29276</td>\n",
       "    </tr>\n",
       "    <tr>\n",
       "      <th>top</th>\n",
       "      <td>@whatudohazz nike</td>\n",
       "    </tr>\n",
       "    <tr>\n",
       "      <th>freq</th>\n",
       "      <td>59</td>\n",
       "    </tr>\n",
       "  </tbody>\n",
       "</table>\n",
       "</div>"
      ],
      "text/plain": [
       "                     text\n",
       "count               29804\n",
       "unique              29276\n",
       "top     @whatudohazz nike\n",
       "freq                   59"
      ]
     },
     "execution_count": 6,
     "metadata": {},
     "output_type": "execute_result"
    }
   ],
   "source": [
    "nike_tw.describe()"
   ]
  },
  {
   "cell_type": "code",
   "execution_count": 7,
   "id": "20bdb30b",
   "metadata": {},
   "outputs": [
    {
     "data": {
      "text/plain": [
       "text    0\n",
       "dtype: int64"
      ]
     },
     "execution_count": 7,
     "metadata": {},
     "output_type": "execute_result"
    }
   ],
   "source": [
    "nike_tw.isnull().sum()  # No existen nulos."
   ]
  },
  {
   "cell_type": "code",
   "execution_count": 8,
   "id": "b5d753d1",
   "metadata": {},
   "outputs": [
    {
     "data": {
      "text/plain": [
       "528"
      ]
     },
     "execution_count": 8,
     "metadata": {},
     "output_type": "execute_result"
    }
   ],
   "source": [
    "nike_tw.duplicated().sum() # Encontramos 528 valores duplicados."
   ]
  },
  {
   "cell_type": "code",
   "execution_count": 9,
   "id": "5bfb5c4b",
   "metadata": {},
   "outputs": [],
   "source": [
    "drop_duplicates(nike_tw) # Eliminamos los valores duplicados."
   ]
  },
  {
   "cell_type": "code",
   "execution_count": 10,
   "id": "92f55a8f",
   "metadata": {},
   "outputs": [
    {
     "data": {
      "text/plain": [
       "(29276, 1)"
      ]
     },
     "execution_count": 10,
     "metadata": {},
     "output_type": "execute_result"
    }
   ],
   "source": [
    "nike_tw.shape"
   ]
  },
  {
   "cell_type": "markdown",
   "id": "9a83845b",
   "metadata": {},
   "source": [
    "### Hashtags."
   ]
  },
  {
   "cell_type": "markdown",
   "id": "1e9d3bd7",
   "metadata": {},
   "source": [
    "Queremos extraer los hastags de los tweets y almacenarlos en una nueva columna del DatFrame. Esto nos permitirá llevar a cabo un análisis específico de los hashtags una vez hecho el análisis del sentimiento de los tweets, relacionando el sentimiento con los hashtags utilizados en el tweet.\n",
    "\n",
    "*Posibles aplicaciones de este análisis:*\n",
    "- *Análisis del sentimiento de la conversación en torno a un hashtag específico (nos permite analizar la percepción acerca de una campaña online, un evento en directo o similares).*\n",
    "\n",
    "\n",
    "- *Ranking de hashtags con mayor sentimiento positivo o negativo.*\n",
    "\n",
    "\n",
    "- *Análisis de utilización de hashtags: podemos analizar elementos más básicos como los hashtags más frecuentes o incluso cruzarlo con otros datos extraídos (datetime de publicación, usuarios que publican el tweet...) para llegar a conclusiones relevantes.*"
   ]
  },
  {
   "cell_type": "code",
   "execution_count": 11,
   "id": "15f2d629",
   "metadata": {},
   "outputs": [],
   "source": [
    "nike_tw['hashtags'] = nike_tw.text.apply(extract_hashtags)"
   ]
  },
  {
   "cell_type": "code",
   "execution_count": 12,
   "id": "c4881643",
   "metadata": {
    "scrolled": true
   },
   "outputs": [
    {
     "data": {
      "text/html": [
       "<div>\n",
       "<style scoped>\n",
       "    .dataframe tbody tr th:only-of-type {\n",
       "        vertical-align: middle;\n",
       "    }\n",
       "\n",
       "    .dataframe tbody tr th {\n",
       "        vertical-align: top;\n",
       "    }\n",
       "\n",
       "    .dataframe thead th {\n",
       "        text-align: right;\n",
       "    }\n",
       "</style>\n",
       "<table border=\"1\" class=\"dataframe\">\n",
       "  <thead>\n",
       "    <tr style=\"text-align: right;\">\n",
       "      <th></th>\n",
       "      <th>text</th>\n",
       "      <th>hashtags</th>\n",
       "    </tr>\n",
       "  </thead>\n",
       "  <tbody>\n",
       "    <tr>\n",
       "      <th>0</th>\n",
       "      <td>@ZubyMusic @LPMisesCaucus Nobody cares about N...</td>\n",
       "      <td>[]</td>\n",
       "    </tr>\n",
       "    <tr>\n",
       "      <th>1</th>\n",
       "      <td>@PoojaPraharaj @IndiainUkraine @PMOIndia @MEAI...</td>\n",
       "      <td>[]</td>\n",
       "    </tr>\n",
       "    <tr>\n",
       "      <th>2</th>\n",
       "      <td>@DocumentWomen Nike Okundaye. Also knowns Nike...</td>\n",
       "      <td>[#womengiant, #Documentwomen]</td>\n",
       "    </tr>\n",
       "    <tr>\n",
       "      <th>3</th>\n",
       "      <td>Day 4 of #maxmadness #AirMaxMonth \\nNike Air M...</td>\n",
       "      <td>[#maxmadness, #AirMaxMonth, #airmaxgang, #kotd...</td>\n",
       "    </tr>\n",
       "    <tr>\n",
       "      <th>4</th>\n",
       "      <td>@MagMr44 @soleguru @nikestore @Nike @SneakerAd...</td>\n",
       "      <td>[]</td>\n",
       "    </tr>\n",
       "  </tbody>\n",
       "</table>\n",
       "</div>"
      ],
      "text/plain": [
       "                                                text  \\\n",
       "0  @ZubyMusic @LPMisesCaucus Nobody cares about N...   \n",
       "1  @PoojaPraharaj @IndiainUkraine @PMOIndia @MEAI...   \n",
       "2  @DocumentWomen Nike Okundaye. Also knowns Nike...   \n",
       "3  Day 4 of #maxmadness #AirMaxMonth \\nNike Air M...   \n",
       "4  @MagMr44 @soleguru @nikestore @Nike @SneakerAd...   \n",
       "\n",
       "                                            hashtags  \n",
       "0                                                 []  \n",
       "1                                                 []  \n",
       "2                      [#womengiant, #Documentwomen]  \n",
       "3  [#maxmadness, #AirMaxMonth, #airmaxgang, #kotd...  \n",
       "4                                                 []  "
      ]
     },
     "execution_count": 12,
     "metadata": {},
     "output_type": "execute_result"
    }
   ],
   "source": [
    "nike_tw.head()"
   ]
  },
  {
   "cell_type": "markdown",
   "id": "d5214386",
   "metadata": {},
   "source": [
    "### Preparing Data."
   ]
  },
  {
   "cell_type": "markdown",
   "id": "9454d0c9",
   "metadata": {},
   "source": [
    "**Limpieza básica:**\n",
    "- Pasamos todo a minúsculas.\n",
    "- Eliminamos usuarios ('@ + user' ya que en principio el nombre de los usuarios no aporta información relevante para el modelo).\n",
    "- Eliminamos urls.\n",
    "- Convertimos dígitos a números escritos.\n",
    "- Convertimos $ en 'dollars' y € en 'euros.\n",
    "- Eliminamos valores no alfabéticos: # (aunque manteniendo el texto que viene después ya que puede contener información relevante), signos de puntuación...\n",
    "\n",
    "Esta limpieza se ejecutará a través de nuestra función `basic_cleaning()`."
   ]
  },
  {
   "cell_type": "code",
   "execution_count": 13,
   "id": "abe2f910",
   "metadata": {},
   "outputs": [
    {
     "data": {
      "text/html": [
       "<div>\n",
       "<style scoped>\n",
       "    .dataframe tbody tr th:only-of-type {\n",
       "        vertical-align: middle;\n",
       "    }\n",
       "\n",
       "    .dataframe tbody tr th {\n",
       "        vertical-align: top;\n",
       "    }\n",
       "\n",
       "    .dataframe thead th {\n",
       "        text-align: right;\n",
       "    }\n",
       "</style>\n",
       "<table border=\"1\" class=\"dataframe\">\n",
       "  <thead>\n",
       "    <tr style=\"text-align: right;\">\n",
       "      <th></th>\n",
       "      <th>text</th>\n",
       "      <th>hashtags</th>\n",
       "    </tr>\n",
       "  </thead>\n",
       "  <tbody>\n",
       "    <tr>\n",
       "      <th>0</th>\n",
       "      <td>@ZubyMusic @LPMisesCaucus Nobody cares about N...</td>\n",
       "      <td>[]</td>\n",
       "    </tr>\n",
       "    <tr>\n",
       "      <th>1</th>\n",
       "      <td>@PoojaPraharaj @IndiainUkraine @PMOIndia @MEAI...</td>\n",
       "      <td>[]</td>\n",
       "    </tr>\n",
       "    <tr>\n",
       "      <th>2</th>\n",
       "      <td>@DocumentWomen Nike Okundaye. Also knowns Nike...</td>\n",
       "      <td>[#womengiant, #Documentwomen]</td>\n",
       "    </tr>\n",
       "    <tr>\n",
       "      <th>3</th>\n",
       "      <td>Day 4 of #maxmadness #AirMaxMonth \\nNike Air M...</td>\n",
       "      <td>[#maxmadness, #AirMaxMonth, #airmaxgang, #kotd...</td>\n",
       "    </tr>\n",
       "    <tr>\n",
       "      <th>4</th>\n",
       "      <td>@MagMr44 @soleguru @nikestore @Nike @SneakerAd...</td>\n",
       "      <td>[]</td>\n",
       "    </tr>\n",
       "  </tbody>\n",
       "</table>\n",
       "</div>"
      ],
      "text/plain": [
       "                                                text  \\\n",
       "0  @ZubyMusic @LPMisesCaucus Nobody cares about N...   \n",
       "1  @PoojaPraharaj @IndiainUkraine @PMOIndia @MEAI...   \n",
       "2  @DocumentWomen Nike Okundaye. Also knowns Nike...   \n",
       "3  Day 4 of #maxmadness #AirMaxMonth \\nNike Air M...   \n",
       "4  @MagMr44 @soleguru @nikestore @Nike @SneakerAd...   \n",
       "\n",
       "                                            hashtags  \n",
       "0                                                 []  \n",
       "1                                                 []  \n",
       "2                      [#womengiant, #Documentwomen]  \n",
       "3  [#maxmadness, #AirMaxMonth, #airmaxgang, #kotd...  \n",
       "4                                                 []  "
      ]
     },
     "execution_count": 13,
     "metadata": {},
     "output_type": "execute_result"
    }
   ],
   "source": [
    "nike_tw.head()"
   ]
  },
  {
   "cell_type": "code",
   "execution_count": 14,
   "id": "e59c9087",
   "metadata": {},
   "outputs": [],
   "source": [
    "nike_tw['text'] = nike_tw.text.apply(basic_cleaning)"
   ]
  },
  {
   "cell_type": "code",
   "execution_count": 15,
   "id": "907faf30",
   "metadata": {},
   "outputs": [
    {
     "data": {
      "text/html": [
       "<div>\n",
       "<style scoped>\n",
       "    .dataframe tbody tr th:only-of-type {\n",
       "        vertical-align: middle;\n",
       "    }\n",
       "\n",
       "    .dataframe tbody tr th {\n",
       "        vertical-align: top;\n",
       "    }\n",
       "\n",
       "    .dataframe thead th {\n",
       "        text-align: right;\n",
       "    }\n",
       "</style>\n",
       "<table border=\"1\" class=\"dataframe\">\n",
       "  <thead>\n",
       "    <tr style=\"text-align: right;\">\n",
       "      <th></th>\n",
       "      <th>text</th>\n",
       "      <th>hashtags</th>\n",
       "    </tr>\n",
       "  </thead>\n",
       "  <tbody>\n",
       "    <tr>\n",
       "      <th>0</th>\n",
       "      <td>nobody cares about nike in russia russia is al...</td>\n",
       "      <td>[]</td>\n",
       "    </tr>\n",
       "    <tr>\n",
       "      <th>1</th>\n",
       "      <td>ye green nike hoodie waala two weeks pehle put...</td>\n",
       "      <td>[]</td>\n",
       "    </tr>\n",
       "    <tr>\n",
       "      <th>2</th>\n",
       "      <td>nike okundaye also knowns nike twins seven sev...</td>\n",
       "      <td>[#womengiant, #Documentwomen]</td>\n",
       "    </tr>\n",
       "    <tr>\n",
       "      <th>3</th>\n",
       "      <td>day four of maxmadness air max month nike air ...</td>\n",
       "      <td>[#maxmadness, #AirMaxMonth, #airmaxgang, #kotd...</td>\n",
       "    </tr>\n",
       "    <tr>\n",
       "      <th>4</th>\n",
       "      <td>thank you sir</td>\n",
       "      <td>[]</td>\n",
       "    </tr>\n",
       "  </tbody>\n",
       "</table>\n",
       "</div>"
      ],
      "text/plain": [
       "                                                text  \\\n",
       "0  nobody cares about nike in russia russia is al...   \n",
       "1  ye green nike hoodie waala two weeks pehle put...   \n",
       "2  nike okundaye also knowns nike twins seven sev...   \n",
       "3  day four of maxmadness air max month nike air ...   \n",
       "4                                      thank you sir   \n",
       "\n",
       "                                            hashtags  \n",
       "0                                                 []  \n",
       "1                                                 []  \n",
       "2                      [#womengiant, #Documentwomen]  \n",
       "3  [#maxmadness, #AirMaxMonth, #airmaxgang, #kotd...  \n",
       "4                                                 []  "
      ]
     },
     "execution_count": 15,
     "metadata": {},
     "output_type": "execute_result"
    }
   ],
   "source": [
    "nike_tw.head()"
   ]
  },
  {
   "cell_type": "markdown",
   "id": "0348b7b7",
   "metadata": {},
   "source": [
    "### Subsets."
   ]
  },
  {
   "cell_type": "markdown",
   "id": "f128ad00",
   "metadata": {},
   "source": [
    "En esta primera versión de la herramienta construiremos el mapa de posicionamiento en base a dos atributos de marca (variables): calidad y precio. Estos son los dos atributos básicos más utilizados de manera general en los mapas de posicionamiento (los mapas más sofisticados introducen ya otros atributos más específicos).\n",
    "\n",
    "Para poder completar el proceso de mapeo, lo primero que debemos hacer es dividir los datos (tweets recopilados) en dos subsets: los que hacen referencia al precio y los que hacen referencia a la calidad. Una vez subdivididos, ya podremos introducir los datos en el modelo NLP para evaluar el sentimiento en cada subset.\n",
    "\n",
    "La subdivisión nos permite diferenciar el sentimiento de los tweets que hablan del precio, del sentimiento en torno a la calidad general de la marca en cuestión. Esto es lo que haremos en esta etapa del proceso, en este caso sobre los tweets que mencionan a Nike."
   ]
  },
  {
   "cell_type": "markdown",
   "id": "c17752a7",
   "metadata": {},
   "source": [
    "1. Generamos una nueva columna que recoge la temática del tweet (atributo al que hace refencia)."
   ]
  },
  {
   "cell_type": "code",
   "execution_count": 16,
   "id": "69d6b632",
   "metadata": {
    "scrolled": true
   },
   "outputs": [],
   "source": [
    "nike_tw['brand_attribute'] = nike_tw['text'].apply(data_groups)"
   ]
  },
  {
   "cell_type": "code",
   "execution_count": 17,
   "id": "9b3488df",
   "metadata": {
    "scrolled": false
   },
   "outputs": [
    {
     "data": {
      "text/html": [
       "<div>\n",
       "<style scoped>\n",
       "    .dataframe tbody tr th:only-of-type {\n",
       "        vertical-align: middle;\n",
       "    }\n",
       "\n",
       "    .dataframe tbody tr th {\n",
       "        vertical-align: top;\n",
       "    }\n",
       "\n",
       "    .dataframe thead th {\n",
       "        text-align: right;\n",
       "    }\n",
       "</style>\n",
       "<table border=\"1\" class=\"dataframe\">\n",
       "  <thead>\n",
       "    <tr style=\"text-align: right;\">\n",
       "      <th></th>\n",
       "      <th>text</th>\n",
       "      <th>hashtags</th>\n",
       "      <th>brand_attribute</th>\n",
       "    </tr>\n",
       "  </thead>\n",
       "  <tbody>\n",
       "    <tr>\n",
       "      <th>0</th>\n",
       "      <td>nobody cares about nike in russia russia is al...</td>\n",
       "      <td>[]</td>\n",
       "      <td>quality</td>\n",
       "    </tr>\n",
       "    <tr>\n",
       "      <th>1</th>\n",
       "      <td>ye green nike hoodie waala two weeks pehle put...</td>\n",
       "      <td>[]</td>\n",
       "      <td>quality</td>\n",
       "    </tr>\n",
       "    <tr>\n",
       "      <th>2</th>\n",
       "      <td>nike okundaye also knowns nike twins seven sev...</td>\n",
       "      <td>[#womengiant, #Documentwomen]</td>\n",
       "      <td>quality</td>\n",
       "    </tr>\n",
       "    <tr>\n",
       "      <th>3</th>\n",
       "      <td>day four of maxmadness air max month nike air ...</td>\n",
       "      <td>[#maxmadness, #AirMaxMonth, #airmaxgang, #kotd...</td>\n",
       "      <td>quality</td>\n",
       "    </tr>\n",
       "    <tr>\n",
       "      <th>4</th>\n",
       "      <td>thank you sir</td>\n",
       "      <td>[]</td>\n",
       "      <td>quality</td>\n",
       "    </tr>\n",
       "  </tbody>\n",
       "</table>\n",
       "</div>"
      ],
      "text/plain": [
       "                                                text  \\\n",
       "0  nobody cares about nike in russia russia is al...   \n",
       "1  ye green nike hoodie waala two weeks pehle put...   \n",
       "2  nike okundaye also knowns nike twins seven sev...   \n",
       "3  day four of maxmadness air max month nike air ...   \n",
       "4                                      thank you sir   \n",
       "\n",
       "                                            hashtags brand_attribute  \n",
       "0                                                 []         quality  \n",
       "1                                                 []         quality  \n",
       "2                      [#womengiant, #Documentwomen]         quality  \n",
       "3  [#maxmadness, #AirMaxMonth, #airmaxgang, #kotd...         quality  \n",
       "4                                                 []         quality  "
      ]
     },
     "execution_count": 17,
     "metadata": {},
     "output_type": "execute_result"
    }
   ],
   "source": [
    "nike_tw.head()"
   ]
  },
  {
   "cell_type": "code",
   "execution_count": 18,
   "id": "ddabe5d8",
   "metadata": {},
   "outputs": [
    {
     "data": {
      "text/plain": [
       "quality    23892\n",
       "price       5384\n",
       "Name: brand_attribute, dtype: int64"
      ]
     },
     "execution_count": 18,
     "metadata": {},
     "output_type": "execute_result"
    }
   ],
   "source": [
    "nike_tw.brand_attribute.value_counts()"
   ]
  },
  {
   "cell_type": "markdown",
   "id": "93e8da28",
   "metadata": {},
   "source": [
    "2. Exportamos los subsets de Nike (uno de calidad y otro de precio).\n",
    "\n",
    "    2.1. Precio:"
   ]
  },
  {
   "cell_type": "code",
   "execution_count": 19,
   "id": "1be7e14a",
   "metadata": {},
   "outputs": [],
   "source": [
    "nike_price = pd.DataFrame(nike_tw.where(nike_tw.brand_attribute=='price').dropna().drop('brand_attribute',axis=1))"
   ]
  },
  {
   "cell_type": "code",
   "execution_count": 20,
   "id": "5cf4f4f7",
   "metadata": {},
   "outputs": [
    {
     "data": {
      "text/plain": [
       "text        0\n",
       "hashtags    0\n",
       "dtype: int64"
      ]
     },
     "execution_count": 20,
     "metadata": {},
     "output_type": "execute_result"
    }
   ],
   "source": [
    "nike_price.isnull().sum()"
   ]
  },
  {
   "cell_type": "code",
   "execution_count": 21,
   "id": "989d9217",
   "metadata": {},
   "outputs": [
    {
     "data": {
      "text/plain": [
       "(5384, 2)"
      ]
     },
     "execution_count": 21,
     "metadata": {},
     "output_type": "execute_result"
    }
   ],
   "source": [
    "nike_price.shape"
   ]
  },
  {
   "cell_type": "code",
   "execution_count": 22,
   "id": "fe8a90a1",
   "metadata": {},
   "outputs": [],
   "source": [
    "# Exportamos el subset de precio.\n",
    "\n",
    "nike_price.to_csv('data/nike_price.csv', index = False)"
   ]
  },
  {
   "cell_type": "markdown",
   "id": "7bf226b9",
   "metadata": {},
   "source": [
    "    2.2. Calidad:"
   ]
  },
  {
   "cell_type": "code",
   "execution_count": 23,
   "id": "b6e6b6a8",
   "metadata": {},
   "outputs": [],
   "source": [
    "nike_quality = pd.DataFrame(nike_tw.where(nike_tw.brand_attribute=='quality').dropna().drop('brand_attribute',axis=1))"
   ]
  },
  {
   "cell_type": "code",
   "execution_count": 24,
   "id": "ab9bec42",
   "metadata": {},
   "outputs": [
    {
     "data": {
      "text/plain": [
       "text        0\n",
       "hashtags    0\n",
       "dtype: int64"
      ]
     },
     "execution_count": 24,
     "metadata": {},
     "output_type": "execute_result"
    }
   ],
   "source": [
    "nike_quality.isnull().sum()"
   ]
  },
  {
   "cell_type": "code",
   "execution_count": 25,
   "id": "5d73bc83",
   "metadata": {},
   "outputs": [
    {
     "data": {
      "text/plain": [
       "(23892, 2)"
      ]
     },
     "execution_count": 25,
     "metadata": {},
     "output_type": "execute_result"
    }
   ],
   "source": [
    "nike_quality.shape"
   ]
  },
  {
   "cell_type": "code",
   "execution_count": 26,
   "id": "3290bf44",
   "metadata": {},
   "outputs": [],
   "source": [
    "# Exportamos el subset de calidad.\n",
    "\n",
    "nike_quality.to_csv('data/nike_quality.csv', index = False)"
   ]
  },
  {
   "cell_type": "markdown",
   "id": "4317f8e5",
   "metadata": {},
   "source": [
    "**Nota importante:**\n",
    "\n",
    "Aunque hemos exportado cada subset en archivos csv independientes (lo tenemos guardado de manera desagregada), en realidad trabajaremos con un único DataFrame que contenga todos los tweets analizados (los de todas las marcas y todos los atributos). En este DataFrame recogeremos en una columna la marca a la que hacen referencia y en otra columna el atributo al que se refieren (calidad y precio). Esto lo hacemos así porque nos permitirá agilizar mucho los procesos de visualización de resultados y obtener gráficos de mejor calidad (podremos filtrar en función de la marca y el atributo, al tiempo que manejamos un único DataFrame para mayor eficiencia)."
   ]
  },
  {
   "cell_type": "markdown",
   "id": "f33a22f9",
   "metadata": {},
   "source": [
    "## Adidas data."
   ]
  },
  {
   "cell_type": "code",
   "execution_count": 27,
   "id": "d2b993d3",
   "metadata": {},
   "outputs": [],
   "source": [
    "adidas = pd.read_csv('data/adidas.csv')"
   ]
  },
  {
   "cell_type": "code",
   "execution_count": 28,
   "id": "c9c0d461",
   "metadata": {},
   "outputs": [],
   "source": [
    "adidas_tw = pd.DataFrame(adidas.text)"
   ]
  },
  {
   "cell_type": "markdown",
   "id": "299115ec",
   "metadata": {},
   "source": [
    "### Exploración inicial de los datos:"
   ]
  },
  {
   "cell_type": "code",
   "execution_count": 29,
   "id": "4281097b",
   "metadata": {},
   "outputs": [
    {
     "data": {
      "text/plain": [
       "(29816, 1)"
      ]
     },
     "execution_count": 29,
     "metadata": {},
     "output_type": "execute_result"
    }
   ],
   "source": [
    "adidas_tw.shape"
   ]
  },
  {
   "cell_type": "code",
   "execution_count": 30,
   "id": "fd385e7e",
   "metadata": {},
   "outputs": [
    {
     "name": "stdout",
     "output_type": "stream",
     "text": [
      "<class 'pandas.core.frame.DataFrame'>\n",
      "RangeIndex: 29816 entries, 0 to 29815\n",
      "Data columns (total 1 columns):\n",
      " #   Column  Non-Null Count  Dtype \n",
      "---  ------  --------------  ----- \n",
      " 0   text    29816 non-null  object\n",
      "dtypes: object(1)\n",
      "memory usage: 233.1+ KB\n"
     ]
    }
   ],
   "source": [
    "adidas_tw.info()"
   ]
  },
  {
   "cell_type": "code",
   "execution_count": 31,
   "id": "bab23f0a",
   "metadata": {},
   "outputs": [
    {
     "data": {
      "text/html": [
       "<div>\n",
       "<style scoped>\n",
       "    .dataframe tbody tr th:only-of-type {\n",
       "        vertical-align: middle;\n",
       "    }\n",
       "\n",
       "    .dataframe tbody tr th {\n",
       "        vertical-align: top;\n",
       "    }\n",
       "\n",
       "    .dataframe thead th {\n",
       "        text-align: right;\n",
       "    }\n",
       "</style>\n",
       "<table border=\"1\" class=\"dataframe\">\n",
       "  <thead>\n",
       "    <tr style=\"text-align: right;\">\n",
       "      <th></th>\n",
       "      <th>text</th>\n",
       "    </tr>\n",
       "  </thead>\n",
       "  <tbody>\n",
       "    <tr>\n",
       "      <th>count</th>\n",
       "      <td>29816</td>\n",
       "    </tr>\n",
       "    <tr>\n",
       "      <th>unique</th>\n",
       "      <td>29280</td>\n",
       "    </tr>\n",
       "    <tr>\n",
       "      <th>top</th>\n",
       "      <td>@whatudohazz nike</td>\n",
       "    </tr>\n",
       "    <tr>\n",
       "      <th>freq</th>\n",
       "      <td>60</td>\n",
       "    </tr>\n",
       "  </tbody>\n",
       "</table>\n",
       "</div>"
      ],
      "text/plain": [
       "                     text\n",
       "count               29816\n",
       "unique              29280\n",
       "top     @whatudohazz nike\n",
       "freq                   60"
      ]
     },
     "execution_count": 31,
     "metadata": {},
     "output_type": "execute_result"
    }
   ],
   "source": [
    "adidas_tw.describe()"
   ]
  },
  {
   "cell_type": "code",
   "execution_count": 32,
   "id": "201fb9e8",
   "metadata": {},
   "outputs": [
    {
     "data": {
      "text/plain": [
       "text    0\n",
       "dtype: int64"
      ]
     },
     "execution_count": 32,
     "metadata": {},
     "output_type": "execute_result"
    }
   ],
   "source": [
    "adidas_tw.isnull().sum()  # No existen nulos."
   ]
  },
  {
   "cell_type": "code",
   "execution_count": 33,
   "id": "f9524f67",
   "metadata": {},
   "outputs": [
    {
     "data": {
      "text/plain": [
       "536"
      ]
     },
     "execution_count": 33,
     "metadata": {},
     "output_type": "execute_result"
    }
   ],
   "source": [
    "adidas_tw.duplicated().sum() # Encontramos 528 valores duplicados."
   ]
  },
  {
   "cell_type": "code",
   "execution_count": 34,
   "id": "9477e7d1",
   "metadata": {},
   "outputs": [],
   "source": [
    "drop_duplicates(adidas_tw) # Eliminamos los valores duplicados."
   ]
  },
  {
   "cell_type": "code",
   "execution_count": 35,
   "id": "985eba01",
   "metadata": {},
   "outputs": [
    {
     "data": {
      "text/plain": [
       "(29280, 1)"
      ]
     },
     "execution_count": 35,
     "metadata": {},
     "output_type": "execute_result"
    }
   ],
   "source": [
    "adidas_tw.shape"
   ]
  },
  {
   "cell_type": "markdown",
   "id": "062fc578",
   "metadata": {},
   "source": [
    "### Hashtags."
   ]
  },
  {
   "cell_type": "markdown",
   "id": "b75c93f4",
   "metadata": {},
   "source": [
    "Queremos extraer los hastags de los tweets y almacenarlos en una nueva columna del DatFrame. Esto nos permitirá llevar a cabo un análisis específico de los hashtags una vez hecho el análisis del sentimiento de los tweets, relacionando el sentimiento con los hashtags utilizados en el tweet."
   ]
  },
  {
   "cell_type": "code",
   "execution_count": 36,
   "id": "07152cad",
   "metadata": {},
   "outputs": [],
   "source": [
    "adidas_tw['hashtags'] = adidas_tw.text.apply(extract_hashtags)"
   ]
  },
  {
   "cell_type": "code",
   "execution_count": 37,
   "id": "5ca995ab",
   "metadata": {
    "scrolled": true
   },
   "outputs": [
    {
     "data": {
      "text/html": [
       "<div>\n",
       "<style scoped>\n",
       "    .dataframe tbody tr th:only-of-type {\n",
       "        vertical-align: middle;\n",
       "    }\n",
       "\n",
       "    .dataframe tbody tr th {\n",
       "        vertical-align: top;\n",
       "    }\n",
       "\n",
       "    .dataframe thead th {\n",
       "        text-align: right;\n",
       "    }\n",
       "</style>\n",
       "<table border=\"1\" class=\"dataframe\">\n",
       "  <thead>\n",
       "    <tr style=\"text-align: right;\">\n",
       "      <th></th>\n",
       "      <th>text</th>\n",
       "      <th>hashtags</th>\n",
       "    </tr>\n",
       "  </thead>\n",
       "  <tbody>\n",
       "    <tr>\n",
       "      <th>0</th>\n",
       "      <td>@Coop8517 Because my lad is a div he won't wea...</td>\n",
       "      <td>[]</td>\n",
       "    </tr>\n",
       "    <tr>\n",
       "      <th>1</th>\n",
       "      <td>@shirtsinthshire beside wrong nameset, its lik...</td>\n",
       "      <td>[]</td>\n",
       "    </tr>\n",
       "    <tr>\n",
       "      <th>2</th>\n",
       "      <td>@ChefLerrie @Jakjakph1 Yes dude sa Adidas webs...</td>\n",
       "      <td>[]</td>\n",
       "    </tr>\n",
       "    <tr>\n",
       "      <th>3</th>\n",
       "      <td>Footlocker is solely focusing on only selling ...</td>\n",
       "      <td>[]</td>\n",
       "    </tr>\n",
       "    <tr>\n",
       "      <th>4</th>\n",
       "      <td>adidas Yeezy Boost 350 Pirate Black V1 (Infant...</td>\n",
       "      <td>[]</td>\n",
       "    </tr>\n",
       "  </tbody>\n",
       "</table>\n",
       "</div>"
      ],
      "text/plain": [
       "                                                text hashtags\n",
       "0  @Coop8517 Because my lad is a div he won't wea...       []\n",
       "1  @shirtsinthshire beside wrong nameset, its lik...       []\n",
       "2  @ChefLerrie @Jakjakph1 Yes dude sa Adidas webs...       []\n",
       "3  Footlocker is solely focusing on only selling ...       []\n",
       "4  adidas Yeezy Boost 350 Pirate Black V1 (Infant...       []"
      ]
     },
     "execution_count": 37,
     "metadata": {},
     "output_type": "execute_result"
    }
   ],
   "source": [
    "adidas_tw.head()"
   ]
  },
  {
   "cell_type": "markdown",
   "id": "4ec16c92",
   "metadata": {},
   "source": [
    "### Preparing Data."
   ]
  },
  {
   "cell_type": "markdown",
   "id": "4702b6b5",
   "metadata": {},
   "source": [
    "**Limpieza básica:**\n",
    "- Pasamos todo a minúsculas.\n",
    "- Eliminamos usuarios ('@ + user' ya que en principio el nombre de los usuarios no aporta información relevante para el modelo).\n",
    "- Eliminamos urls.\n",
    "- Convertimos dígitos a números escritos.\n",
    "- Convertimos $ en 'dollars' y € en 'euros.\n",
    "- Eliminamos valores no alfabéticos: # (aunque manteniendo el texto que viene después ya que puede contener información relevante), signos de puntuación...\n",
    "\n",
    "Esta limpieza se ejecutará a través de nuestra función `basic_cleaning()`."
   ]
  },
  {
   "cell_type": "code",
   "execution_count": 38,
   "id": "94bc115b",
   "metadata": {},
   "outputs": [
    {
     "data": {
      "text/html": [
       "<div>\n",
       "<style scoped>\n",
       "    .dataframe tbody tr th:only-of-type {\n",
       "        vertical-align: middle;\n",
       "    }\n",
       "\n",
       "    .dataframe tbody tr th {\n",
       "        vertical-align: top;\n",
       "    }\n",
       "\n",
       "    .dataframe thead th {\n",
       "        text-align: right;\n",
       "    }\n",
       "</style>\n",
       "<table border=\"1\" class=\"dataframe\">\n",
       "  <thead>\n",
       "    <tr style=\"text-align: right;\">\n",
       "      <th></th>\n",
       "      <th>text</th>\n",
       "      <th>hashtags</th>\n",
       "    </tr>\n",
       "  </thead>\n",
       "  <tbody>\n",
       "    <tr>\n",
       "      <th>0</th>\n",
       "      <td>@Coop8517 Because my lad is a div he won't wea...</td>\n",
       "      <td>[]</td>\n",
       "    </tr>\n",
       "    <tr>\n",
       "      <th>1</th>\n",
       "      <td>@shirtsinthshire beside wrong nameset, its lik...</td>\n",
       "      <td>[]</td>\n",
       "    </tr>\n",
       "    <tr>\n",
       "      <th>2</th>\n",
       "      <td>@ChefLerrie @Jakjakph1 Yes dude sa Adidas webs...</td>\n",
       "      <td>[]</td>\n",
       "    </tr>\n",
       "    <tr>\n",
       "      <th>3</th>\n",
       "      <td>Footlocker is solely focusing on only selling ...</td>\n",
       "      <td>[]</td>\n",
       "    </tr>\n",
       "    <tr>\n",
       "      <th>4</th>\n",
       "      <td>adidas Yeezy Boost 350 Pirate Black V1 (Infant...</td>\n",
       "      <td>[]</td>\n",
       "    </tr>\n",
       "  </tbody>\n",
       "</table>\n",
       "</div>"
      ],
      "text/plain": [
       "                                                text hashtags\n",
       "0  @Coop8517 Because my lad is a div he won't wea...       []\n",
       "1  @shirtsinthshire beside wrong nameset, its lik...       []\n",
       "2  @ChefLerrie @Jakjakph1 Yes dude sa Adidas webs...       []\n",
       "3  Footlocker is solely focusing on only selling ...       []\n",
       "4  adidas Yeezy Boost 350 Pirate Black V1 (Infant...       []"
      ]
     },
     "execution_count": 38,
     "metadata": {},
     "output_type": "execute_result"
    }
   ],
   "source": [
    "adidas_tw.head()"
   ]
  },
  {
   "cell_type": "code",
   "execution_count": 39,
   "id": "cfd4396e",
   "metadata": {},
   "outputs": [],
   "source": [
    "adidas_tw['text'] = adidas_tw.text.apply(basic_cleaning)"
   ]
  },
  {
   "cell_type": "code",
   "execution_count": 40,
   "id": "e45015bc",
   "metadata": {
    "scrolled": true
   },
   "outputs": [
    {
     "data": {
      "text/html": [
       "<div>\n",
       "<style scoped>\n",
       "    .dataframe tbody tr th:only-of-type {\n",
       "        vertical-align: middle;\n",
       "    }\n",
       "\n",
       "    .dataframe tbody tr th {\n",
       "        vertical-align: top;\n",
       "    }\n",
       "\n",
       "    .dataframe thead th {\n",
       "        text-align: right;\n",
       "    }\n",
       "</style>\n",
       "<table border=\"1\" class=\"dataframe\">\n",
       "  <thead>\n",
       "    <tr style=\"text-align: right;\">\n",
       "      <th></th>\n",
       "      <th>text</th>\n",
       "      <th>hashtags</th>\n",
       "    </tr>\n",
       "  </thead>\n",
       "  <tbody>\n",
       "    <tr>\n",
       "      <th>0</th>\n",
       "      <td>because my lad is a div he won t wear adidas o...</td>\n",
       "      <td>[]</td>\n",
       "    </tr>\n",
       "    <tr>\n",
       "      <th>1</th>\n",
       "      <td>beside wrong nameset its like fake shirts spac...</td>\n",
       "      <td>[]</td>\n",
       "    </tr>\n",
       "    <tr>\n",
       "      <th>2</th>\n",
       "      <td>yes dude sa adidas website mismo yang link sa ...</td>\n",
       "      <td>[]</td>\n",
       "    </tr>\n",
       "    <tr>\n",
       "      <th>3</th>\n",
       "      <td>footlocker is solely focusing on only selling ...</td>\n",
       "      <td>[]</td>\n",
       "    </tr>\n",
       "    <tr>\n",
       "      <th>4</th>\n",
       "      <td>adidas yeezy boost three five zero pirate blac...</td>\n",
       "      <td>[]</td>\n",
       "    </tr>\n",
       "  </tbody>\n",
       "</table>\n",
       "</div>"
      ],
      "text/plain": [
       "                                                text hashtags\n",
       "0  because my lad is a div he won t wear adidas o...       []\n",
       "1  beside wrong nameset its like fake shirts spac...       []\n",
       "2  yes dude sa adidas website mismo yang link sa ...       []\n",
       "3  footlocker is solely focusing on only selling ...       []\n",
       "4  adidas yeezy boost three five zero pirate blac...       []"
      ]
     },
     "execution_count": 40,
     "metadata": {},
     "output_type": "execute_result"
    }
   ],
   "source": [
    "adidas_tw.head()"
   ]
  },
  {
   "cell_type": "markdown",
   "id": "20444239",
   "metadata": {},
   "source": [
    "### Subsets."
   ]
  },
  {
   "cell_type": "markdown",
   "id": "7c6da506",
   "metadata": {},
   "source": [
    "En esta primera versión de la herramienta construiremos el mapa de posicionamiento en base a dos atributos de marca (variables): calidad y precio. Estos son los dos atributos básicos más utilizados de manera general en los mapas de posicionamiento (los mapas más sofisticados introducen ya otros atributos más específicos).\n",
    "\n",
    "Para poder completar el proceso de mapeo, lo primero que debemos hacer es dividir los datos (tweets recopilados) en dos subsets: los que hacen referencia al precio y los que hacen referencia a la calidad. Una vez subdivididos, ya podremos introducir los datos en el modelo NLP para evaluar el sentimiento en cada subset.\n",
    "\n",
    "La subdivisión nos permite diferenciar el sentimiento de los tweets que hablan del precio, del sentimiento en torno a la calidad general de la marca en cuestión. Ahora llevaremos a cabo este proceso sobre los tweets que mencionan a Adidas."
   ]
  },
  {
   "cell_type": "markdown",
   "id": "fad5aa62",
   "metadata": {},
   "source": [
    "1. Generamos una nueva columna que recoge la temática del tweet (atributo al que hace refencia)."
   ]
  },
  {
   "cell_type": "code",
   "execution_count": 41,
   "id": "ec051070",
   "metadata": {
    "scrolled": true
   },
   "outputs": [],
   "source": [
    "adidas_tw['brand_attribute'] = adidas_tw['text'].apply(data_groups)"
   ]
  },
  {
   "cell_type": "code",
   "execution_count": 42,
   "id": "6d41c55b",
   "metadata": {},
   "outputs": [
    {
     "data": {
      "text/html": [
       "<div>\n",
       "<style scoped>\n",
       "    .dataframe tbody tr th:only-of-type {\n",
       "        vertical-align: middle;\n",
       "    }\n",
       "\n",
       "    .dataframe tbody tr th {\n",
       "        vertical-align: top;\n",
       "    }\n",
       "\n",
       "    .dataframe thead th {\n",
       "        text-align: right;\n",
       "    }\n",
       "</style>\n",
       "<table border=\"1\" class=\"dataframe\">\n",
       "  <thead>\n",
       "    <tr style=\"text-align: right;\">\n",
       "      <th></th>\n",
       "      <th>text</th>\n",
       "      <th>hashtags</th>\n",
       "      <th>brand_attribute</th>\n",
       "    </tr>\n",
       "  </thead>\n",
       "  <tbody>\n",
       "    <tr>\n",
       "      <th>0</th>\n",
       "      <td>because my lad is a div he won t wear adidas o...</td>\n",
       "      <td>[]</td>\n",
       "      <td>quality</td>\n",
       "    </tr>\n",
       "    <tr>\n",
       "      <th>1</th>\n",
       "      <td>beside wrong nameset its like fake shirts spac...</td>\n",
       "      <td>[]</td>\n",
       "      <td>quality</td>\n",
       "    </tr>\n",
       "    <tr>\n",
       "      <th>2</th>\n",
       "      <td>yes dude sa adidas website mismo yang link sa ...</td>\n",
       "      <td>[]</td>\n",
       "      <td>quality</td>\n",
       "    </tr>\n",
       "    <tr>\n",
       "      <th>3</th>\n",
       "      <td>footlocker is solely focusing on only selling ...</td>\n",
       "      <td>[]</td>\n",
       "      <td>quality</td>\n",
       "    </tr>\n",
       "    <tr>\n",
       "      <th>4</th>\n",
       "      <td>adidas yeezy boost three five zero pirate blac...</td>\n",
       "      <td>[]</td>\n",
       "      <td>price</td>\n",
       "    </tr>\n",
       "  </tbody>\n",
       "</table>\n",
       "</div>"
      ],
      "text/plain": [
       "                                                text hashtags brand_attribute\n",
       "0  because my lad is a div he won t wear adidas o...       []         quality\n",
       "1  beside wrong nameset its like fake shirts spac...       []         quality\n",
       "2  yes dude sa adidas website mismo yang link sa ...       []         quality\n",
       "3  footlocker is solely focusing on only selling ...       []         quality\n",
       "4  adidas yeezy boost three five zero pirate blac...       []           price"
      ]
     },
     "execution_count": 42,
     "metadata": {},
     "output_type": "execute_result"
    }
   ],
   "source": [
    "adidas_tw.head()"
   ]
  },
  {
   "cell_type": "code",
   "execution_count": 43,
   "id": "0a8b2bac",
   "metadata": {},
   "outputs": [
    {
     "data": {
      "text/plain": [
       "quality    23892\n",
       "price       5388\n",
       "Name: brand_attribute, dtype: int64"
      ]
     },
     "execution_count": 43,
     "metadata": {},
     "output_type": "execute_result"
    }
   ],
   "source": [
    "adidas_tw.brand_attribute.value_counts()"
   ]
  },
  {
   "cell_type": "markdown",
   "id": "89532e2f",
   "metadata": {},
   "source": [
    "2. Generamos los subsets de Adidas (uno de calidad y otro de precio).\n",
    "\n",
    "    2.1. Precio:"
   ]
  },
  {
   "cell_type": "code",
   "execution_count": 44,
   "id": "d42c4bfd",
   "metadata": {},
   "outputs": [],
   "source": [
    "adidas_price = pd.DataFrame(adidas_tw.where(adidas_tw.brand_attribute=='price').dropna().drop('brand_attribute',axis=1))"
   ]
  },
  {
   "cell_type": "code",
   "execution_count": 45,
   "id": "dd286028",
   "metadata": {},
   "outputs": [
    {
     "data": {
      "text/plain": [
       "text        0\n",
       "hashtags    0\n",
       "dtype: int64"
      ]
     },
     "execution_count": 45,
     "metadata": {},
     "output_type": "execute_result"
    }
   ],
   "source": [
    "adidas_price.isnull().sum()"
   ]
  },
  {
   "cell_type": "code",
   "execution_count": 46,
   "id": "d24814fe",
   "metadata": {},
   "outputs": [
    {
     "data": {
      "text/plain": [
       "(5388, 2)"
      ]
     },
     "execution_count": 46,
     "metadata": {},
     "output_type": "execute_result"
    }
   ],
   "source": [
    "adidas_price.shape"
   ]
  },
  {
   "cell_type": "code",
   "execution_count": 47,
   "id": "5cd06327",
   "metadata": {},
   "outputs": [],
   "source": [
    "# Exportamos el subset de precio.\n",
    "\n",
    "adidas_price.to_csv('data/adidas_price.csv', index = False)"
   ]
  },
  {
   "cell_type": "markdown",
   "id": "b60f4bbe",
   "metadata": {},
   "source": [
    "    2.2. Calidad:"
   ]
  },
  {
   "cell_type": "code",
   "execution_count": 48,
   "id": "64b70c80",
   "metadata": {},
   "outputs": [],
   "source": [
    "adidas_quality = pd.DataFrame(adidas_tw.where(adidas_tw.brand_attribute=='quality').dropna().drop('brand_attribute',axis=1))"
   ]
  },
  {
   "cell_type": "code",
   "execution_count": 49,
   "id": "a685dc1d",
   "metadata": {},
   "outputs": [
    {
     "data": {
      "text/plain": [
       "text        0\n",
       "hashtags    0\n",
       "dtype: int64"
      ]
     },
     "execution_count": 49,
     "metadata": {},
     "output_type": "execute_result"
    }
   ],
   "source": [
    "adidas_quality.isnull().sum()"
   ]
  },
  {
   "cell_type": "code",
   "execution_count": 50,
   "id": "78bfc6f0",
   "metadata": {},
   "outputs": [
    {
     "data": {
      "text/plain": [
       "(23892, 2)"
      ]
     },
     "execution_count": 50,
     "metadata": {},
     "output_type": "execute_result"
    }
   ],
   "source": [
    "adidas_quality.shape"
   ]
  },
  {
   "cell_type": "code",
   "execution_count": 51,
   "id": "d366888f",
   "metadata": {},
   "outputs": [],
   "source": [
    "# Exportamos el subset de calidad.\n",
    "\n",
    "adidas_quality.to_csv('data/adidas_quality.csv', index = False)"
   ]
  },
  {
   "cell_type": "markdown",
   "id": "1e05fbdf",
   "metadata": {},
   "source": [
    "**Nota importante:**\n",
    "\n",
    "Aunque hemos exportado cada subset en archivos csv independientes (lo tenemos guardado de manera desagregada), en realidad trabajaremos con un único DataFrame que contenga todos los tweets analizados (los de todas las marcas y todos los atributos). En este DataFrame recogeremos en una columna la marca a la que hacen referencia y en otra columna el atributo al que se refieren (calidad y precio). Esto lo hacemos así porque nos permitirá agilizar mucho los procesos de visualización de resultados y obtener gráficos de mejor calidad (podremos filtrar en función de la marca y el atributo, al tiempo que manejamos un único DataFrame para mayor eficiencia)."
   ]
  },
  {
   "cell_type": "markdown",
   "id": "e9d8b744",
   "metadata": {},
   "source": [
    "## Dataset Completo."
   ]
  },
  {
   "cell_type": "markdown",
   "id": "1fa5f34b",
   "metadata": {},
   "source": [
    "Primero generamos una nueva columna en la que se recoja la marca a la que hace referencia el tweet (todos los valores de la columna serán 'nike' para el DataFrame de Nike, 'adidas' para el DataFrame de Adidas...)."
   ]
  },
  {
   "cell_type": "markdown",
   "id": "38adb696",
   "metadata": {},
   "source": [
    "#### Columna 'brand' para los datos de Nike."
   ]
  },
  {
   "cell_type": "code",
   "execution_count": 52,
   "id": "9734357d",
   "metadata": {},
   "outputs": [
    {
     "data": {
      "text/html": [
       "<div>\n",
       "<style scoped>\n",
       "    .dataframe tbody tr th:only-of-type {\n",
       "        vertical-align: middle;\n",
       "    }\n",
       "\n",
       "    .dataframe tbody tr th {\n",
       "        vertical-align: top;\n",
       "    }\n",
       "\n",
       "    .dataframe thead th {\n",
       "        text-align: right;\n",
       "    }\n",
       "</style>\n",
       "<table border=\"1\" class=\"dataframe\">\n",
       "  <thead>\n",
       "    <tr style=\"text-align: right;\">\n",
       "      <th></th>\n",
       "      <th>text</th>\n",
       "      <th>hashtags</th>\n",
       "      <th>brand_attribute</th>\n",
       "    </tr>\n",
       "  </thead>\n",
       "  <tbody>\n",
       "    <tr>\n",
       "      <th>0</th>\n",
       "      <td>nobody cares about nike in russia russia is al...</td>\n",
       "      <td>[]</td>\n",
       "      <td>quality</td>\n",
       "    </tr>\n",
       "    <tr>\n",
       "      <th>1</th>\n",
       "      <td>ye green nike hoodie waala two weeks pehle put...</td>\n",
       "      <td>[]</td>\n",
       "      <td>quality</td>\n",
       "    </tr>\n",
       "    <tr>\n",
       "      <th>2</th>\n",
       "      <td>nike okundaye also knowns nike twins seven sev...</td>\n",
       "      <td>[#womengiant, #Documentwomen]</td>\n",
       "      <td>quality</td>\n",
       "    </tr>\n",
       "    <tr>\n",
       "      <th>3</th>\n",
       "      <td>day four of maxmadness air max month nike air ...</td>\n",
       "      <td>[#maxmadness, #AirMaxMonth, #airmaxgang, #kotd...</td>\n",
       "      <td>quality</td>\n",
       "    </tr>\n",
       "    <tr>\n",
       "      <th>4</th>\n",
       "      <td>thank you sir</td>\n",
       "      <td>[]</td>\n",
       "      <td>quality</td>\n",
       "    </tr>\n",
       "  </tbody>\n",
       "</table>\n",
       "</div>"
      ],
      "text/plain": [
       "                                                text  \\\n",
       "0  nobody cares about nike in russia russia is al...   \n",
       "1  ye green nike hoodie waala two weeks pehle put...   \n",
       "2  nike okundaye also knowns nike twins seven sev...   \n",
       "3  day four of maxmadness air max month nike air ...   \n",
       "4                                      thank you sir   \n",
       "\n",
       "                                            hashtags brand_attribute  \n",
       "0                                                 []         quality  \n",
       "1                                                 []         quality  \n",
       "2                      [#womengiant, #Documentwomen]         quality  \n",
       "3  [#maxmadness, #AirMaxMonth, #airmaxgang, #kotd...         quality  \n",
       "4                                                 []         quality  "
      ]
     },
     "execution_count": 52,
     "metadata": {},
     "output_type": "execute_result"
    }
   ],
   "source": [
    "nike_tw.head()"
   ]
  },
  {
   "cell_type": "code",
   "execution_count": 53,
   "id": "186cf2dd",
   "metadata": {},
   "outputs": [],
   "source": [
    "nike_tw = nike_tw.assign(brand='nike')"
   ]
  },
  {
   "cell_type": "code",
   "execution_count": 54,
   "id": "594f9d64",
   "metadata": {
    "scrolled": false
   },
   "outputs": [
    {
     "data": {
      "text/html": [
       "<div>\n",
       "<style scoped>\n",
       "    .dataframe tbody tr th:only-of-type {\n",
       "        vertical-align: middle;\n",
       "    }\n",
       "\n",
       "    .dataframe tbody tr th {\n",
       "        vertical-align: top;\n",
       "    }\n",
       "\n",
       "    .dataframe thead th {\n",
       "        text-align: right;\n",
       "    }\n",
       "</style>\n",
       "<table border=\"1\" class=\"dataframe\">\n",
       "  <thead>\n",
       "    <tr style=\"text-align: right;\">\n",
       "      <th></th>\n",
       "      <th>text</th>\n",
       "      <th>hashtags</th>\n",
       "      <th>brand_attribute</th>\n",
       "      <th>brand</th>\n",
       "    </tr>\n",
       "  </thead>\n",
       "  <tbody>\n",
       "    <tr>\n",
       "      <th>0</th>\n",
       "      <td>nobody cares about nike in russia russia is al...</td>\n",
       "      <td>[]</td>\n",
       "      <td>quality</td>\n",
       "      <td>nike</td>\n",
       "    </tr>\n",
       "    <tr>\n",
       "      <th>1</th>\n",
       "      <td>ye green nike hoodie waala two weeks pehle put...</td>\n",
       "      <td>[]</td>\n",
       "      <td>quality</td>\n",
       "      <td>nike</td>\n",
       "    </tr>\n",
       "    <tr>\n",
       "      <th>2</th>\n",
       "      <td>nike okundaye also knowns nike twins seven sev...</td>\n",
       "      <td>[#womengiant, #Documentwomen]</td>\n",
       "      <td>quality</td>\n",
       "      <td>nike</td>\n",
       "    </tr>\n",
       "    <tr>\n",
       "      <th>3</th>\n",
       "      <td>day four of maxmadness air max month nike air ...</td>\n",
       "      <td>[#maxmadness, #AirMaxMonth, #airmaxgang, #kotd...</td>\n",
       "      <td>quality</td>\n",
       "      <td>nike</td>\n",
       "    </tr>\n",
       "    <tr>\n",
       "      <th>4</th>\n",
       "      <td>thank you sir</td>\n",
       "      <td>[]</td>\n",
       "      <td>quality</td>\n",
       "      <td>nike</td>\n",
       "    </tr>\n",
       "  </tbody>\n",
       "</table>\n",
       "</div>"
      ],
      "text/plain": [
       "                                                text  \\\n",
       "0  nobody cares about nike in russia russia is al...   \n",
       "1  ye green nike hoodie waala two weeks pehle put...   \n",
       "2  nike okundaye also knowns nike twins seven sev...   \n",
       "3  day four of maxmadness air max month nike air ...   \n",
       "4                                      thank you sir   \n",
       "\n",
       "                                            hashtags brand_attribute brand  \n",
       "0                                                 []         quality  nike  \n",
       "1                                                 []         quality  nike  \n",
       "2                      [#womengiant, #Documentwomen]         quality  nike  \n",
       "3  [#maxmadness, #AirMaxMonth, #airmaxgang, #kotd...         quality  nike  \n",
       "4                                                 []         quality  nike  "
      ]
     },
     "execution_count": 54,
     "metadata": {},
     "output_type": "execute_result"
    }
   ],
   "source": [
    "nike_tw.head()"
   ]
  },
  {
   "cell_type": "markdown",
   "id": "02c98f90",
   "metadata": {},
   "source": [
    "#### Columna 'brand' para los datos de Adidas."
   ]
  },
  {
   "cell_type": "code",
   "execution_count": 55,
   "id": "62bf37f6",
   "metadata": {},
   "outputs": [
    {
     "data": {
      "text/html": [
       "<div>\n",
       "<style scoped>\n",
       "    .dataframe tbody tr th:only-of-type {\n",
       "        vertical-align: middle;\n",
       "    }\n",
       "\n",
       "    .dataframe tbody tr th {\n",
       "        vertical-align: top;\n",
       "    }\n",
       "\n",
       "    .dataframe thead th {\n",
       "        text-align: right;\n",
       "    }\n",
       "</style>\n",
       "<table border=\"1\" class=\"dataframe\">\n",
       "  <thead>\n",
       "    <tr style=\"text-align: right;\">\n",
       "      <th></th>\n",
       "      <th>text</th>\n",
       "      <th>hashtags</th>\n",
       "      <th>brand_attribute</th>\n",
       "    </tr>\n",
       "  </thead>\n",
       "  <tbody>\n",
       "    <tr>\n",
       "      <th>0</th>\n",
       "      <td>because my lad is a div he won t wear adidas o...</td>\n",
       "      <td>[]</td>\n",
       "      <td>quality</td>\n",
       "    </tr>\n",
       "    <tr>\n",
       "      <th>1</th>\n",
       "      <td>beside wrong nameset its like fake shirts spac...</td>\n",
       "      <td>[]</td>\n",
       "      <td>quality</td>\n",
       "    </tr>\n",
       "    <tr>\n",
       "      <th>2</th>\n",
       "      <td>yes dude sa adidas website mismo yang link sa ...</td>\n",
       "      <td>[]</td>\n",
       "      <td>quality</td>\n",
       "    </tr>\n",
       "    <tr>\n",
       "      <th>3</th>\n",
       "      <td>footlocker is solely focusing on only selling ...</td>\n",
       "      <td>[]</td>\n",
       "      <td>quality</td>\n",
       "    </tr>\n",
       "    <tr>\n",
       "      <th>4</th>\n",
       "      <td>adidas yeezy boost three five zero pirate blac...</td>\n",
       "      <td>[]</td>\n",
       "      <td>price</td>\n",
       "    </tr>\n",
       "  </tbody>\n",
       "</table>\n",
       "</div>"
      ],
      "text/plain": [
       "                                                text hashtags brand_attribute\n",
       "0  because my lad is a div he won t wear adidas o...       []         quality\n",
       "1  beside wrong nameset its like fake shirts spac...       []         quality\n",
       "2  yes dude sa adidas website mismo yang link sa ...       []         quality\n",
       "3  footlocker is solely focusing on only selling ...       []         quality\n",
       "4  adidas yeezy boost three five zero pirate blac...       []           price"
      ]
     },
     "execution_count": 55,
     "metadata": {},
     "output_type": "execute_result"
    }
   ],
   "source": [
    "adidas_tw.head()"
   ]
  },
  {
   "cell_type": "code",
   "execution_count": 56,
   "id": "9c61f1c8",
   "metadata": {},
   "outputs": [],
   "source": [
    "adidas_tw = adidas_tw.assign(brand='adidas')"
   ]
  },
  {
   "cell_type": "code",
   "execution_count": 57,
   "id": "8020e842",
   "metadata": {
    "scrolled": true
   },
   "outputs": [
    {
     "data": {
      "text/html": [
       "<div>\n",
       "<style scoped>\n",
       "    .dataframe tbody tr th:only-of-type {\n",
       "        vertical-align: middle;\n",
       "    }\n",
       "\n",
       "    .dataframe tbody tr th {\n",
       "        vertical-align: top;\n",
       "    }\n",
       "\n",
       "    .dataframe thead th {\n",
       "        text-align: right;\n",
       "    }\n",
       "</style>\n",
       "<table border=\"1\" class=\"dataframe\">\n",
       "  <thead>\n",
       "    <tr style=\"text-align: right;\">\n",
       "      <th></th>\n",
       "      <th>text</th>\n",
       "      <th>hashtags</th>\n",
       "      <th>brand_attribute</th>\n",
       "      <th>brand</th>\n",
       "    </tr>\n",
       "  </thead>\n",
       "  <tbody>\n",
       "    <tr>\n",
       "      <th>0</th>\n",
       "      <td>because my lad is a div he won t wear adidas o...</td>\n",
       "      <td>[]</td>\n",
       "      <td>quality</td>\n",
       "      <td>adidas</td>\n",
       "    </tr>\n",
       "    <tr>\n",
       "      <th>1</th>\n",
       "      <td>beside wrong nameset its like fake shirts spac...</td>\n",
       "      <td>[]</td>\n",
       "      <td>quality</td>\n",
       "      <td>adidas</td>\n",
       "    </tr>\n",
       "    <tr>\n",
       "      <th>2</th>\n",
       "      <td>yes dude sa adidas website mismo yang link sa ...</td>\n",
       "      <td>[]</td>\n",
       "      <td>quality</td>\n",
       "      <td>adidas</td>\n",
       "    </tr>\n",
       "    <tr>\n",
       "      <th>3</th>\n",
       "      <td>footlocker is solely focusing on only selling ...</td>\n",
       "      <td>[]</td>\n",
       "      <td>quality</td>\n",
       "      <td>adidas</td>\n",
       "    </tr>\n",
       "    <tr>\n",
       "      <th>4</th>\n",
       "      <td>adidas yeezy boost three five zero pirate blac...</td>\n",
       "      <td>[]</td>\n",
       "      <td>price</td>\n",
       "      <td>adidas</td>\n",
       "    </tr>\n",
       "  </tbody>\n",
       "</table>\n",
       "</div>"
      ],
      "text/plain": [
       "                                                text hashtags brand_attribute  \\\n",
       "0  because my lad is a div he won t wear adidas o...       []         quality   \n",
       "1  beside wrong nameset its like fake shirts spac...       []         quality   \n",
       "2  yes dude sa adidas website mismo yang link sa ...       []         quality   \n",
       "3  footlocker is solely focusing on only selling ...       []         quality   \n",
       "4  adidas yeezy boost three five zero pirate blac...       []           price   \n",
       "\n",
       "    brand  \n",
       "0  adidas  \n",
       "1  adidas  \n",
       "2  adidas  \n",
       "3  adidas  \n",
       "4  adidas  "
      ]
     },
     "execution_count": 57,
     "metadata": {},
     "output_type": "execute_result"
    }
   ],
   "source": [
    "adidas_tw.head()"
   ]
  },
  {
   "cell_type": "markdown",
   "id": "b5adfb74",
   "metadata": {},
   "source": [
    "#### Generamos dataset completo."
   ]
  },
  {
   "cell_type": "code",
   "execution_count": 58,
   "id": "102109e5",
   "metadata": {},
   "outputs": [],
   "source": [
    "brands_tw = pd.concat([nike_tw, adidas_tw])"
   ]
  },
  {
   "cell_type": "code",
   "execution_count": 59,
   "id": "aa3efdf7",
   "metadata": {},
   "outputs": [
    {
     "data": {
      "text/plain": [
       "adidas    29280\n",
       "nike      29276\n",
       "Name: brand, dtype: int64"
      ]
     },
     "execution_count": 59,
     "metadata": {},
     "output_type": "execute_result"
    }
   ],
   "source": [
    "brands_tw.brand.value_counts()"
   ]
  },
  {
   "cell_type": "markdown",
   "id": "a7f1e3e5",
   "metadata": {},
   "source": [
    "#### Exportamos el dataset completo."
   ]
  },
  {
   "cell_type": "code",
   "execution_count": 60,
   "id": "a26b7fa3",
   "metadata": {},
   "outputs": [],
   "source": [
    "brands_tw.to_csv('data/brands.csv', index = False)"
   ]
  },
  {
   "cell_type": "code",
   "execution_count": 61,
   "id": "d5918f65",
   "metadata": {},
   "outputs": [],
   "source": [
    "# Exportamos con pickle para mantener todas las propiedades del DataFrame.\n",
    "\n",
    "brands_tw.to_pickle('data/brands.pkl')"
   ]
  }
 ],
 "metadata": {
  "kernelspec": {
   "display_name": "ironhack",
   "language": "python",
   "name": "myenv"
  },
  "language_info": {
   "codemirror_mode": {
    "name": "ipython",
    "version": 3
   },
   "file_extension": ".py",
   "mimetype": "text/x-python",
   "name": "python",
   "nbconvert_exporter": "python",
   "pygments_lexer": "ipython3",
   "version": "3.8.5"
  }
 },
 "nbformat": 4,
 "nbformat_minor": 5
}
