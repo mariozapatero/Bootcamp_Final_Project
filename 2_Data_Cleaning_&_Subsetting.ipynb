{
 "cells": [
  {
   "cell_type": "markdown",
   "id": "2e4db67d",
   "metadata": {},
   "source": [
    "# Data Cleaning."
   ]
  },
  {
   "cell_type": "code",
   "execution_count": 1,
   "id": "70c89e69",
   "metadata": {},
   "outputs": [],
   "source": [
    "import pandas as pd\n",
    "\n",
    "from src.cleaning_functions import *\n",
    "\n",
    "from src.text_functions import *"
   ]
  },
  {
   "cell_type": "markdown",
   "id": "fa40d5a3",
   "metadata": {},
   "source": [
    "**ÍNDICE:**\n",
    "1. Nike data.\n",
    "    - Exploración inicial de los datos.\n",
    "    - Hashtags.\n",
    "    - Preparing Data.\n",
    "    - Subsets.\n",
    "\n",
    "\n",
    "\n",
    "2. Adidas data.\n",
    "    - Exploración inicial de los datos.\n",
    "    - Hashtags.\n",
    "    - Preparing Data.\n",
    "    - Subsets.\n",
    "\n",
    "\n",
    "\n",
    "3. Dataset Completo.\n"
   ]
  },
  {
   "cell_type": "markdown",
   "id": "378a9186",
   "metadata": {},
   "source": [
    "## Nike data."
   ]
  },
  {
   "cell_type": "code",
   "execution_count": 2,
   "id": "0fc5e462",
   "metadata": {},
   "outputs": [],
   "source": [
    "nike = pd.read_csv('data/nike.csv')"
   ]
  },
  {
   "cell_type": "code",
   "execution_count": 3,
   "id": "6360f8a4",
   "metadata": {},
   "outputs": [],
   "source": [
    "nike_tw = pd.DataFrame(nike.text)"
   ]
  },
  {
   "cell_type": "markdown",
   "id": "46c87441",
   "metadata": {},
   "source": [
    "### Exploración inicial de los datos:"
   ]
  },
  {
   "cell_type": "code",
   "execution_count": 4,
   "id": "cf2041ed",
   "metadata": {},
   "outputs": [
    {
     "data": {
      "text/plain": [
       "(29804, 1)"
      ]
     },
     "execution_count": 4,
     "metadata": {},
     "output_type": "execute_result"
    }
   ],
   "source": [
    "nike_tw.shape"
   ]
  },
  {
   "cell_type": "code",
   "execution_count": 5,
   "id": "d12201c2",
   "metadata": {},
   "outputs": [
    {
     "name": "stdout",
     "output_type": "stream",
     "text": [
      "<class 'pandas.core.frame.DataFrame'>\n",
      "RangeIndex: 29804 entries, 0 to 29803\n",
      "Data columns (total 1 columns):\n",
      " #   Column  Non-Null Count  Dtype \n",
      "---  ------  --------------  ----- \n",
      " 0   text    29804 non-null  object\n",
      "dtypes: object(1)\n",
      "memory usage: 233.0+ KB\n"
     ]
    }
   ],
   "source": [
    "nike_tw.info()"
   ]
  },
  {
   "cell_type": "code",
   "execution_count": 6,
   "id": "ef288f14",
   "metadata": {},
   "outputs": [
    {
     "data": {
      "text/html": [
       "<div>\n",
       "<style scoped>\n",
       "    .dataframe tbody tr th:only-of-type {\n",
       "        vertical-align: middle;\n",
       "    }\n",
       "\n",
       "    .dataframe tbody tr th {\n",
       "        vertical-align: top;\n",
       "    }\n",
       "\n",
       "    .dataframe thead th {\n",
       "        text-align: right;\n",
       "    }\n",
       "</style>\n",
       "<table border=\"1\" class=\"dataframe\">\n",
       "  <thead>\n",
       "    <tr style=\"text-align: right;\">\n",
       "      <th></th>\n",
       "      <th>text</th>\n",
       "    </tr>\n",
       "  </thead>\n",
       "  <tbody>\n",
       "    <tr>\n",
       "      <th>count</th>\n",
       "      <td>29804</td>\n",
       "    </tr>\n",
       "    <tr>\n",
       "      <th>unique</th>\n",
       "      <td>29276</td>\n",
       "    </tr>\n",
       "    <tr>\n",
       "      <th>top</th>\n",
       "      <td>@whatudohazz nike</td>\n",
       "    </tr>\n",
       "    <tr>\n",
       "      <th>freq</th>\n",
       "      <td>59</td>\n",
       "    </tr>\n",
       "  </tbody>\n",
       "</table>\n",
       "</div>"
      ],
      "text/plain": [
       "                     text\n",
       "count               29804\n",
       "unique              29276\n",
       "top     @whatudohazz nike\n",
       "freq                   59"
      ]
     },
     "execution_count": 6,
     "metadata": {},
     "output_type": "execute_result"
    }
   ],
   "source": [
    "nike_tw.describe()"
   ]
  },
  {
   "cell_type": "code",
   "execution_count": 7,
   "id": "0fb41a76",
   "metadata": {},
   "outputs": [
    {
     "data": {
      "text/plain": [
       "text    0\n",
       "dtype: int64"
      ]
     },
     "execution_count": 7,
     "metadata": {},
     "output_type": "execute_result"
    }
   ],
   "source": [
    "nike_tw.isnull().sum()  # No existen nulos."
   ]
  },
  {
   "cell_type": "code",
   "execution_count": 8,
   "id": "2d46c000",
   "metadata": {},
   "outputs": [
    {
     "data": {
      "text/plain": [
       "528"
      ]
     },
     "execution_count": 8,
     "metadata": {},
     "output_type": "execute_result"
    }
   ],
   "source": [
    "nike_tw.duplicated().sum() # Encontramos 528 valores duplicados."
   ]
  },
  {
   "cell_type": "code",
   "execution_count": 9,
   "id": "8e5e88ea",
   "metadata": {},
   "outputs": [],
   "source": [
    "drop_duplicates(nike_tw) # Eliminamos los valores duplicados."
   ]
  },
  {
   "cell_type": "code",
   "execution_count": 10,
   "id": "f127bf8c",
   "metadata": {},
   "outputs": [
    {
     "data": {
      "text/plain": [
       "(29276, 1)"
      ]
     },
     "execution_count": 10,
     "metadata": {},
     "output_type": "execute_result"
    }
   ],
   "source": [
    "nike_tw.shape"
   ]
  },
  {
   "cell_type": "markdown",
   "id": "fc9490fe",
   "metadata": {},
   "source": [
    "### Hashtags."
   ]
  },
  {
   "cell_type": "markdown",
   "id": "259eb515",
   "metadata": {},
   "source": [
    "Queremos extraer los hastags de los tweets y almacenarlos en una nueva columna del DatFrame. Esto nos permitirá llevar a cabo un análisis específico de los hashtags una vez hecho el análisis del sentimiento de los tweets, relacionando el sentimiento con los hashtags utilizados en el tweet.\n",
    "\n",
    "*Posibles aplicaciones de este análisis:*\n",
    "- *Análisis del sentimiento de la conversación en torno a un hashtag específico (nos permite analizar la percepción acerca de una campaña online, un evento en directo o similares).*\n",
    "\n",
    "\n",
    "- *Ranking de hashtags con mayor sentimiento positivo o negativo.*\n",
    "\n",
    "\n",
    "- *Análisis de utilización de hashtags: podemos analizar elementos más básicos como los hashtags más frecuentes o incluso cruzarlo con otros datos extraídos (datetime de publicación, usuarios que publican el tweet...) para llegar a conclusiones relevantes.*"
   ]
  },
  {
   "cell_type": "code",
   "execution_count": 11,
   "id": "7fafe707",
   "metadata": {},
   "outputs": [],
   "source": [
    "nike_tw['hashtags'] = nike_tw.text.apply(extract_hashtags)"
   ]
  },
  {
   "cell_type": "code",
   "execution_count": 12,
   "id": "3214331b",
   "metadata": {
    "scrolled": true
   },
   "outputs": [
    {
     "data": {
      "text/html": [
       "<div>\n",
       "<style scoped>\n",
       "    .dataframe tbody tr th:only-of-type {\n",
       "        vertical-align: middle;\n",
       "    }\n",
       "\n",
       "    .dataframe tbody tr th {\n",
       "        vertical-align: top;\n",
       "    }\n",
       "\n",
       "    .dataframe thead th {\n",
       "        text-align: right;\n",
       "    }\n",
       "</style>\n",
       "<table border=\"1\" class=\"dataframe\">\n",
       "  <thead>\n",
       "    <tr style=\"text-align: right;\">\n",
       "      <th></th>\n",
       "      <th>text</th>\n",
       "      <th>hashtags</th>\n",
       "    </tr>\n",
       "  </thead>\n",
       "  <tbody>\n",
       "    <tr>\n",
       "      <th>0</th>\n",
       "      <td>@ZubyMusic @LPMisesCaucus Nobody cares about N...</td>\n",
       "      <td>[]</td>\n",
       "    </tr>\n",
       "    <tr>\n",
       "      <th>1</th>\n",
       "      <td>@PoojaPraharaj @IndiainUkraine @PMOIndia @MEAI...</td>\n",
       "      <td>[]</td>\n",
       "    </tr>\n",
       "    <tr>\n",
       "      <th>2</th>\n",
       "      <td>@DocumentWomen Nike Okundaye. Also knowns Nike...</td>\n",
       "      <td>[#womengiant, #Documentwomen]</td>\n",
       "    </tr>\n",
       "    <tr>\n",
       "      <th>3</th>\n",
       "      <td>Day 4 of #maxmadness #AirMaxMonth \\nNike Air M...</td>\n",
       "      <td>[#maxmadness, #AirMaxMonth, #airmaxgang, #kotd...</td>\n",
       "    </tr>\n",
       "    <tr>\n",
       "      <th>4</th>\n",
       "      <td>@MagMr44 @soleguru @nikestore @Nike @SneakerAd...</td>\n",
       "      <td>[]</td>\n",
       "    </tr>\n",
       "  </tbody>\n",
       "</table>\n",
       "</div>"
      ],
      "text/plain": [
       "                                                text  \\\n",
       "0  @ZubyMusic @LPMisesCaucus Nobody cares about N...   \n",
       "1  @PoojaPraharaj @IndiainUkraine @PMOIndia @MEAI...   \n",
       "2  @DocumentWomen Nike Okundaye. Also knowns Nike...   \n",
       "3  Day 4 of #maxmadness #AirMaxMonth \\nNike Air M...   \n",
       "4  @MagMr44 @soleguru @nikestore @Nike @SneakerAd...   \n",
       "\n",
       "                                            hashtags  \n",
       "0                                                 []  \n",
       "1                                                 []  \n",
       "2                      [#womengiant, #Documentwomen]  \n",
       "3  [#maxmadness, #AirMaxMonth, #airmaxgang, #kotd...  \n",
       "4                                                 []  "
      ]
     },
     "execution_count": 12,
     "metadata": {},
     "output_type": "execute_result"
    }
   ],
   "source": [
    "nike_tw.head()"
   ]
  },
  {
   "cell_type": "markdown",
   "id": "f6bca957",
   "metadata": {},
   "source": [
    "### Preparing Data."
   ]
  },
  {
   "cell_type": "markdown",
   "id": "0990e654",
   "metadata": {},
   "source": [
    "**Limpieza básica:**\n",
    "- Pasamos todo a minúsculas.\n",
    "- Eliminamos usuarios ('@ + user' ya que en principio el nombre de los usuarios no aporta información relevante para el modelo).\n",
    "- Eliminamos urls.\n",
    "- Convertimos dígitos a números escritos.\n",
    "- Convertimos $ en 'dollars' y € en 'euros.\n",
    "- Eliminamos valores no alfabéticos: # (aunque manteniendo el texto que viene después ya que puede contener información relevante), signos de puntuación...\n",
    "\n",
    "Esta limpieza se ejecutará a través de nuestra función `basic_cleaning()`."
   ]
  },
  {
   "cell_type": "code",
   "execution_count": 13,
   "id": "4339efa8",
   "metadata": {},
   "outputs": [
    {
     "data": {
      "text/html": [
       "<div>\n",
       "<style scoped>\n",
       "    .dataframe tbody tr th:only-of-type {\n",
       "        vertical-align: middle;\n",
       "    }\n",
       "\n",
       "    .dataframe tbody tr th {\n",
       "        vertical-align: top;\n",
       "    }\n",
       "\n",
       "    .dataframe thead th {\n",
       "        text-align: right;\n",
       "    }\n",
       "</style>\n",
       "<table border=\"1\" class=\"dataframe\">\n",
       "  <thead>\n",
       "    <tr style=\"text-align: right;\">\n",
       "      <th></th>\n",
       "      <th>text</th>\n",
       "      <th>hashtags</th>\n",
       "    </tr>\n",
       "  </thead>\n",
       "  <tbody>\n",
       "    <tr>\n",
       "      <th>0</th>\n",
       "      <td>@ZubyMusic @LPMisesCaucus Nobody cares about N...</td>\n",
       "      <td>[]</td>\n",
       "    </tr>\n",
       "    <tr>\n",
       "      <th>1</th>\n",
       "      <td>@PoojaPraharaj @IndiainUkraine @PMOIndia @MEAI...</td>\n",
       "      <td>[]</td>\n",
       "    </tr>\n",
       "    <tr>\n",
       "      <th>2</th>\n",
       "      <td>@DocumentWomen Nike Okundaye. Also knowns Nike...</td>\n",
       "      <td>[#womengiant, #Documentwomen]</td>\n",
       "    </tr>\n",
       "    <tr>\n",
       "      <th>3</th>\n",
       "      <td>Day 4 of #maxmadness #AirMaxMonth \\nNike Air M...</td>\n",
       "      <td>[#maxmadness, #AirMaxMonth, #airmaxgang, #kotd...</td>\n",
       "    </tr>\n",
       "    <tr>\n",
       "      <th>4</th>\n",
       "      <td>@MagMr44 @soleguru @nikestore @Nike @SneakerAd...</td>\n",
       "      <td>[]</td>\n",
       "    </tr>\n",
       "  </tbody>\n",
       "</table>\n",
       "</div>"
      ],
      "text/plain": [
       "                                                text  \\\n",
       "0  @ZubyMusic @LPMisesCaucus Nobody cares about N...   \n",
       "1  @PoojaPraharaj @IndiainUkraine @PMOIndia @MEAI...   \n",
       "2  @DocumentWomen Nike Okundaye. Also knowns Nike...   \n",
       "3  Day 4 of #maxmadness #AirMaxMonth \\nNike Air M...   \n",
       "4  @MagMr44 @soleguru @nikestore @Nike @SneakerAd...   \n",
       "\n",
       "                                            hashtags  \n",
       "0                                                 []  \n",
       "1                                                 []  \n",
       "2                      [#womengiant, #Documentwomen]  \n",
       "3  [#maxmadness, #AirMaxMonth, #airmaxgang, #kotd...  \n",
       "4                                                 []  "
      ]
     },
     "execution_count": 13,
     "metadata": {},
     "output_type": "execute_result"
    }
   ],
   "source": [
    "nike_tw.head()"
   ]
  },
  {
   "cell_type": "code",
   "execution_count": 14,
   "id": "65c6f64d",
   "metadata": {},
   "outputs": [],
   "source": [
    "nike_tw['text'] = nike_tw.text.apply(basic_cleaning)"
   ]
  },
  {
   "cell_type": "code",
   "execution_count": 15,
   "id": "4c755f17",
   "metadata": {},
   "outputs": [
    {
     "data": {
      "text/html": [
       "<div>\n",
       "<style scoped>\n",
       "    .dataframe tbody tr th:only-of-type {\n",
       "        vertical-align: middle;\n",
       "    }\n",
       "\n",
       "    .dataframe tbody tr th {\n",
       "        vertical-align: top;\n",
       "    }\n",
       "\n",
       "    .dataframe thead th {\n",
       "        text-align: right;\n",
       "    }\n",
       "</style>\n",
       "<table border=\"1\" class=\"dataframe\">\n",
       "  <thead>\n",
       "    <tr style=\"text-align: right;\">\n",
       "      <th></th>\n",
       "      <th>text</th>\n",
       "      <th>hashtags</th>\n",
       "    </tr>\n",
       "  </thead>\n",
       "  <tbody>\n",
       "    <tr>\n",
       "      <th>0</th>\n",
       "      <td>nobody cares about nike in russia russia is al...</td>\n",
       "      <td>[]</td>\n",
       "    </tr>\n",
       "    <tr>\n",
       "      <th>1</th>\n",
       "      <td>ye green nike hoodie waala two weeks pehle put...</td>\n",
       "      <td>[]</td>\n",
       "    </tr>\n",
       "    <tr>\n",
       "      <th>2</th>\n",
       "      <td>nike okundaye also knowns nike twins seven sev...</td>\n",
       "      <td>[#womengiant, #Documentwomen]</td>\n",
       "    </tr>\n",
       "    <tr>\n",
       "      <th>3</th>\n",
       "      <td>day four of maxmadness air max month nike air ...</td>\n",
       "      <td>[#maxmadness, #AirMaxMonth, #airmaxgang, #kotd...</td>\n",
       "    </tr>\n",
       "    <tr>\n",
       "      <th>4</th>\n",
       "      <td>thank you sir</td>\n",
       "      <td>[]</td>\n",
       "    </tr>\n",
       "  </tbody>\n",
       "</table>\n",
       "</div>"
      ],
      "text/plain": [
       "                                                text  \\\n",
       "0  nobody cares about nike in russia russia is al...   \n",
       "1  ye green nike hoodie waala two weeks pehle put...   \n",
       "2  nike okundaye also knowns nike twins seven sev...   \n",
       "3  day four of maxmadness air max month nike air ...   \n",
       "4                                      thank you sir   \n",
       "\n",
       "                                            hashtags  \n",
       "0                                                 []  \n",
       "1                                                 []  \n",
       "2                      [#womengiant, #Documentwomen]  \n",
       "3  [#maxmadness, #AirMaxMonth, #airmaxgang, #kotd...  \n",
       "4                                                 []  "
      ]
     },
     "execution_count": 15,
     "metadata": {},
     "output_type": "execute_result"
    }
   ],
   "source": [
    "nike_tw.head()"
   ]
  },
  {
   "cell_type": "markdown",
   "id": "d6123d08",
   "metadata": {},
   "source": [
    "### Subsets."
   ]
  },
  {
   "cell_type": "markdown",
   "id": "7c4ef8c7",
   "metadata": {},
   "source": [
    "En esta primera versión de la herramienta construiremos el mapa de posicionamiento en base a dos atributos de marca (variables): calidad y precio. Estos son los dos atributos básicos más utilizados de manera general en los mapas de posicionamiento (los mapas más sofisticados introducen ya otros atributos más específicos).\n",
    "\n",
    "Para poder completar el proceso de mapeo, lo primero que debemos hacer es dividir los datos (tweets recopilados) en dos subsets: los que hacen referencia al precio y los que hacen referencia a la calidad. Una vez subdivididos, ya podremos introducir los datos en el modelo NLP para evaluar el sentimiento en cada subset.\n",
    "\n",
    "La subdivisión nos permite diferenciar el sentimiento de los tweets que hablan del precio, del sentimiento en torno a la calidad general de la marca en cuestión. Esto es lo que haremos en esta etapa del proceso, en este caso sobre los tweets que mencionan a Nike."
   ]
  },
  {
   "cell_type": "markdown",
   "id": "4b485d59",
   "metadata": {},
   "source": [
    "1. Generamos una nueva columna que recoge la temática del tweet (atributo al que hace refencia)."
   ]
  },
  {
   "cell_type": "code",
   "execution_count": 16,
   "id": "27d03dee",
   "metadata": {
    "scrolled": true
   },
   "outputs": [],
   "source": [
    "nike_tw['brand_attribute'] = nike_tw['text'].apply(data_groups)"
   ]
  },
  {
   "cell_type": "code",
   "execution_count": 17,
   "id": "413f64b5",
   "metadata": {
    "scrolled": false
   },
   "outputs": [
    {
     "data": {
      "text/html": [
       "<div>\n",
       "<style scoped>\n",
       "    .dataframe tbody tr th:only-of-type {\n",
       "        vertical-align: middle;\n",
       "    }\n",
       "\n",
       "    .dataframe tbody tr th {\n",
       "        vertical-align: top;\n",
       "    }\n",
       "\n",
       "    .dataframe thead th {\n",
       "        text-align: right;\n",
       "    }\n",
       "</style>\n",
       "<table border=\"1\" class=\"dataframe\">\n",
       "  <thead>\n",
       "    <tr style=\"text-align: right;\">\n",
       "      <th></th>\n",
       "      <th>text</th>\n",
       "      <th>hashtags</th>\n",
       "      <th>brand_attribute</th>\n",
       "    </tr>\n",
       "  </thead>\n",
       "  <tbody>\n",
       "    <tr>\n",
       "      <th>0</th>\n",
       "      <td>nobody cares about nike in russia russia is al...</td>\n",
       "      <td>[]</td>\n",
       "      <td>quality</td>\n",
       "    </tr>\n",
       "    <tr>\n",
       "      <th>1</th>\n",
       "      <td>ye green nike hoodie waala two weeks pehle put...</td>\n",
       "      <td>[]</td>\n",
       "      <td>quality</td>\n",
       "    </tr>\n",
       "    <tr>\n",
       "      <th>2</th>\n",
       "      <td>nike okundaye also knowns nike twins seven sev...</td>\n",
       "      <td>[#womengiant, #Documentwomen]</td>\n",
       "      <td>quality</td>\n",
       "    </tr>\n",
       "    <tr>\n",
       "      <th>3</th>\n",
       "      <td>day four of maxmadness air max month nike air ...</td>\n",
       "      <td>[#maxmadness, #AirMaxMonth, #airmaxgang, #kotd...</td>\n",
       "      <td>quality</td>\n",
       "    </tr>\n",
       "    <tr>\n",
       "      <th>4</th>\n",
       "      <td>thank you sir</td>\n",
       "      <td>[]</td>\n",
       "      <td>quality</td>\n",
       "    </tr>\n",
       "  </tbody>\n",
       "</table>\n",
       "</div>"
      ],
      "text/plain": [
       "                                                text  \\\n",
       "0  nobody cares about nike in russia russia is al...   \n",
       "1  ye green nike hoodie waala two weeks pehle put...   \n",
       "2  nike okundaye also knowns nike twins seven sev...   \n",
       "3  day four of maxmadness air max month nike air ...   \n",
       "4                                      thank you sir   \n",
       "\n",
       "                                            hashtags brand_attribute  \n",
       "0                                                 []         quality  \n",
       "1                                                 []         quality  \n",
       "2                      [#womengiant, #Documentwomen]         quality  \n",
       "3  [#maxmadness, #AirMaxMonth, #airmaxgang, #kotd...         quality  \n",
       "4                                                 []         quality  "
      ]
     },
     "execution_count": 17,
     "metadata": {},
     "output_type": "execute_result"
    }
   ],
   "source": [
    "nike_tw.head()"
   ]
  },
  {
   "cell_type": "code",
   "execution_count": 18,
   "id": "501501ac",
   "metadata": {},
   "outputs": [
    {
     "data": {
      "text/plain": [
       "quality    23892\n",
       "price       5384\n",
       "Name: brand_attribute, dtype: int64"
      ]
     },
     "execution_count": 18,
     "metadata": {},
     "output_type": "execute_result"
    }
   ],
   "source": [
    "nike_tw.brand_attribute.value_counts()"
   ]
  },
  {
   "cell_type": "markdown",
   "id": "0944c25f",
   "metadata": {},
   "source": [
    "2. Exportamos los subsets de Nike (uno de calidad y otro de precio).\n",
    "\n",
    "    2.1. Precio:"
   ]
  },
  {
   "cell_type": "code",
   "execution_count": 19,
   "id": "c141505f",
   "metadata": {},
   "outputs": [],
   "source": [
    "nike_price = pd.DataFrame(nike_tw.where(nike_tw.brand_attribute=='price').dropna().drop('brand_attribute',axis=1))"
   ]
  },
  {
   "cell_type": "code",
   "execution_count": 20,
   "id": "f46891a3",
   "metadata": {},
   "outputs": [
    {
     "data": {
      "text/plain": [
       "text        0\n",
       "hashtags    0\n",
       "dtype: int64"
      ]
     },
     "execution_count": 20,
     "metadata": {},
     "output_type": "execute_result"
    }
   ],
   "source": [
    "nike_price.isnull().sum()"
   ]
  },
  {
   "cell_type": "code",
   "execution_count": 21,
   "id": "4013c3bf",
   "metadata": {},
   "outputs": [
    {
     "data": {
      "text/plain": [
       "(5384, 2)"
      ]
     },
     "execution_count": 21,
     "metadata": {},
     "output_type": "execute_result"
    }
   ],
   "source": [
    "nike_price.shape"
   ]
  },
  {
   "cell_type": "code",
   "execution_count": 22,
   "id": "bc6c2b2a",
   "metadata": {},
   "outputs": [],
   "source": [
    "# Exportamos el subset de precio.\n",
    "\n",
    "nike_price.to_csv('data/nike_price.csv', index = False)"
   ]
  },
  {
   "cell_type": "markdown",
   "id": "19dba4ec",
   "metadata": {},
   "source": [
    "    2.2. Calidad:"
   ]
  },
  {
   "cell_type": "code",
   "execution_count": 23,
   "id": "5d264ecf",
   "metadata": {},
   "outputs": [],
   "source": [
    "nike_quality = pd.DataFrame(nike_tw.where(nike_tw.brand_attribute=='quality').dropna().drop('brand_attribute',axis=1))"
   ]
  },
  {
   "cell_type": "code",
   "execution_count": 24,
   "id": "f0d1cee2",
   "metadata": {},
   "outputs": [
    {
     "data": {
      "text/plain": [
       "text        0\n",
       "hashtags    0\n",
       "dtype: int64"
      ]
     },
     "execution_count": 24,
     "metadata": {},
     "output_type": "execute_result"
    }
   ],
   "source": [
    "nike_quality.isnull().sum()"
   ]
  },
  {
   "cell_type": "code",
   "execution_count": 25,
   "id": "2fe13379",
   "metadata": {},
   "outputs": [
    {
     "data": {
      "text/plain": [
       "(23892, 2)"
      ]
     },
     "execution_count": 25,
     "metadata": {},
     "output_type": "execute_result"
    }
   ],
   "source": [
    "nike_quality.shape"
   ]
  },
  {
   "cell_type": "code",
   "execution_count": 26,
   "id": "77d66c58",
   "metadata": {},
   "outputs": [],
   "source": [
    "# Exportamos el subset de calidad.\n",
    "\n",
    "nike_quality.to_csv('data/nike_quality.csv', index = False)"
   ]
  },
  {
   "cell_type": "markdown",
   "id": "9aab835a",
   "metadata": {},
   "source": [
    "**Nota importante:**\n",
    "\n",
    "Aunque hemos exportado cada subset en archivos csv independientes (lo tenemos guardado de manera desagregada), en realidad trabajaremos con un único DataFrame que contenga todos los tweets analizados (los de todas las marcas y todos los atributos). En este DataFrame recogeremos en una columna la marca a la que hacen referencia y en otra columna el atributo al que se refieren (calidad y precio). Esto lo hacemos así porque nos permitirá agilizar mucho los procesos de visualización de resultados y obtener gráficos de mejor calidad (podremos filtrar en función de la marca y el atributo, al tiempo que manejamos un único DataFrame para mayor eficiencia)."
   ]
  },
  {
   "cell_type": "markdown",
   "id": "eb00b889",
   "metadata": {},
   "source": [
    "## Adidas data."
   ]
  },
  {
   "cell_type": "code",
   "execution_count": 27,
   "id": "085dceae",
   "metadata": {},
   "outputs": [],
   "source": [
    "adidas = pd.read_csv('data/adidas.csv')"
   ]
  },
  {
   "cell_type": "code",
   "execution_count": 28,
   "id": "a5ec80b7",
   "metadata": {},
   "outputs": [],
   "source": [
    "adidas_tw = pd.DataFrame(adidas.text)"
   ]
  },
  {
   "cell_type": "markdown",
   "id": "d4260b42",
   "metadata": {},
   "source": [
    "### Exploración inicial de los datos:"
   ]
  },
  {
   "cell_type": "code",
   "execution_count": 29,
   "id": "e80a34cb",
   "metadata": {},
   "outputs": [
    {
     "data": {
      "text/plain": [
       "(29816, 1)"
      ]
     },
     "execution_count": 29,
     "metadata": {},
     "output_type": "execute_result"
    }
   ],
   "source": [
    "adidas_tw.shape"
   ]
  },
  {
   "cell_type": "code",
   "execution_count": 30,
   "id": "7ca3b1e2",
   "metadata": {},
   "outputs": [
    {
     "name": "stdout",
     "output_type": "stream",
     "text": [
      "<class 'pandas.core.frame.DataFrame'>\n",
      "RangeIndex: 29816 entries, 0 to 29815\n",
      "Data columns (total 1 columns):\n",
      " #   Column  Non-Null Count  Dtype \n",
      "---  ------  --------------  ----- \n",
      " 0   text    29816 non-null  object\n",
      "dtypes: object(1)\n",
      "memory usage: 233.1+ KB\n"
     ]
    }
   ],
   "source": [
    "adidas_tw.info()"
   ]
  },
  {
   "cell_type": "code",
   "execution_count": 31,
   "id": "24cb8a51",
   "metadata": {},
   "outputs": [
    {
     "data": {
      "text/html": [
       "<div>\n",
       "<style scoped>\n",
       "    .dataframe tbody tr th:only-of-type {\n",
       "        vertical-align: middle;\n",
       "    }\n",
       "\n",
       "    .dataframe tbody tr th {\n",
       "        vertical-align: top;\n",
       "    }\n",
       "\n",
       "    .dataframe thead th {\n",
       "        text-align: right;\n",
       "    }\n",
       "</style>\n",
       "<table border=\"1\" class=\"dataframe\">\n",
       "  <thead>\n",
       "    <tr style=\"text-align: right;\">\n",
       "      <th></th>\n",
       "      <th>text</th>\n",
       "    </tr>\n",
       "  </thead>\n",
       "  <tbody>\n",
       "    <tr>\n",
       "      <th>count</th>\n",
       "      <td>29816</td>\n",
       "    </tr>\n",
       "    <tr>\n",
       "      <th>unique</th>\n",
       "      <td>29280</td>\n",
       "    </tr>\n",
       "    <tr>\n",
       "      <th>top</th>\n",
       "      <td>@whatudohazz nike</td>\n",
       "    </tr>\n",
       "    <tr>\n",
       "      <th>freq</th>\n",
       "      <td>60</td>\n",
       "    </tr>\n",
       "  </tbody>\n",
       "</table>\n",
       "</div>"
      ],
      "text/plain": [
       "                     text\n",
       "count               29816\n",
       "unique              29280\n",
       "top     @whatudohazz nike\n",
       "freq                   60"
      ]
     },
     "execution_count": 31,
     "metadata": {},
     "output_type": "execute_result"
    }
   ],
   "source": [
    "adidas_tw.describe()"
   ]
  },
  {
   "cell_type": "code",
   "execution_count": 32,
   "id": "c11fc78d",
   "metadata": {},
   "outputs": [
    {
     "data": {
      "text/plain": [
       "text    0\n",
       "dtype: int64"
      ]
     },
     "execution_count": 32,
     "metadata": {},
     "output_type": "execute_result"
    }
   ],
   "source": [
    "adidas_tw.isnull().sum()  # No existen nulos."
   ]
  },
  {
   "cell_type": "code",
   "execution_count": 33,
   "id": "a640781c",
   "metadata": {},
   "outputs": [
    {
     "data": {
      "text/plain": [
       "536"
      ]
     },
     "execution_count": 33,
     "metadata": {},
     "output_type": "execute_result"
    }
   ],
   "source": [
    "adidas_tw.duplicated().sum() # Encontramos 536 valores duplicados."
   ]
  },
  {
   "cell_type": "code",
   "execution_count": 34,
   "id": "01619e35",
   "metadata": {},
   "outputs": [],
   "source": [
    "drop_duplicates(adidas_tw) # Eliminamos los valores duplicados."
   ]
  },
  {
   "cell_type": "code",
   "execution_count": 35,
   "id": "4064c6fa",
   "metadata": {},
   "outputs": [
    {
     "data": {
      "text/plain": [
       "(29280, 1)"
      ]
     },
     "execution_count": 35,
     "metadata": {},
     "output_type": "execute_result"
    }
   ],
   "source": [
    "adidas_tw.shape"
   ]
  },
  {
   "cell_type": "markdown",
   "id": "b2757d52",
   "metadata": {},
   "source": [
    "### Hashtags."
   ]
  },
  {
   "cell_type": "markdown",
   "id": "238c0f60",
   "metadata": {},
   "source": [
    "Queremos extraer los hastags de los tweets y almacenarlos en una nueva columna del DatFrame. Esto nos permitirá llevar a cabo un análisis específico de los hashtags una vez hecho el análisis del sentimiento de los tweets, relacionando el sentimiento con los hashtags utilizados en el tweet."
   ]
  },
  {
   "cell_type": "code",
   "execution_count": 36,
   "id": "b13d0f85",
   "metadata": {},
   "outputs": [],
   "source": [
    "adidas_tw['hashtags'] = adidas_tw.text.apply(extract_hashtags)"
   ]
  },
  {
   "cell_type": "code",
   "execution_count": 37,
   "id": "b14e1620",
   "metadata": {
    "scrolled": true
   },
   "outputs": [
    {
     "data": {
      "text/html": [
       "<div>\n",
       "<style scoped>\n",
       "    .dataframe tbody tr th:only-of-type {\n",
       "        vertical-align: middle;\n",
       "    }\n",
       "\n",
       "    .dataframe tbody tr th {\n",
       "        vertical-align: top;\n",
       "    }\n",
       "\n",
       "    .dataframe thead th {\n",
       "        text-align: right;\n",
       "    }\n",
       "</style>\n",
       "<table border=\"1\" class=\"dataframe\">\n",
       "  <thead>\n",
       "    <tr style=\"text-align: right;\">\n",
       "      <th></th>\n",
       "      <th>text</th>\n",
       "      <th>hashtags</th>\n",
       "    </tr>\n",
       "  </thead>\n",
       "  <tbody>\n",
       "    <tr>\n",
       "      <th>0</th>\n",
       "      <td>@Coop8517 Because my lad is a div he won't wea...</td>\n",
       "      <td>[]</td>\n",
       "    </tr>\n",
       "    <tr>\n",
       "      <th>1</th>\n",
       "      <td>@shirtsinthshire beside wrong nameset, its lik...</td>\n",
       "      <td>[]</td>\n",
       "    </tr>\n",
       "    <tr>\n",
       "      <th>2</th>\n",
       "      <td>@ChefLerrie @Jakjakph1 Yes dude sa Adidas webs...</td>\n",
       "      <td>[]</td>\n",
       "    </tr>\n",
       "    <tr>\n",
       "      <th>3</th>\n",
       "      <td>Footlocker is solely focusing on only selling ...</td>\n",
       "      <td>[]</td>\n",
       "    </tr>\n",
       "    <tr>\n",
       "      <th>4</th>\n",
       "      <td>adidas Yeezy Boost 350 Pirate Black V1 (Infant...</td>\n",
       "      <td>[]</td>\n",
       "    </tr>\n",
       "  </tbody>\n",
       "</table>\n",
       "</div>"
      ],
      "text/plain": [
       "                                                text hashtags\n",
       "0  @Coop8517 Because my lad is a div he won't wea...       []\n",
       "1  @shirtsinthshire beside wrong nameset, its lik...       []\n",
       "2  @ChefLerrie @Jakjakph1 Yes dude sa Adidas webs...       []\n",
       "3  Footlocker is solely focusing on only selling ...       []\n",
       "4  adidas Yeezy Boost 350 Pirate Black V1 (Infant...       []"
      ]
     },
     "execution_count": 37,
     "metadata": {},
     "output_type": "execute_result"
    }
   ],
   "source": [
    "adidas_tw.head()"
   ]
  },
  {
   "cell_type": "markdown",
   "id": "295dcf73",
   "metadata": {},
   "source": [
    "### Preparing Data."
   ]
  },
  {
   "cell_type": "markdown",
   "id": "dc68b0bb",
   "metadata": {},
   "source": [
    "**Limpieza básica:**\n",
    "- Pasamos todo a minúsculas.\n",
    "- Eliminamos usuarios ('@ + user' ya que en principio el nombre de los usuarios no aporta información relevante para el modelo).\n",
    "- Eliminamos urls.\n",
    "- Convertimos dígitos a números escritos.\n",
    "- Convertimos $ en 'dollars' y € en 'euros.\n",
    "- Eliminamos valores no alfabéticos: # (aunque manteniendo el texto que viene después ya que puede contener información relevante), signos de puntuación...\n",
    "\n",
    "Esta limpieza se ejecutará a través de nuestra función `basic_cleaning()`."
   ]
  },
  {
   "cell_type": "code",
   "execution_count": 38,
   "id": "dcaf2d6c",
   "metadata": {},
   "outputs": [
    {
     "data": {
      "text/html": [
       "<div>\n",
       "<style scoped>\n",
       "    .dataframe tbody tr th:only-of-type {\n",
       "        vertical-align: middle;\n",
       "    }\n",
       "\n",
       "    .dataframe tbody tr th {\n",
       "        vertical-align: top;\n",
       "    }\n",
       "\n",
       "    .dataframe thead th {\n",
       "        text-align: right;\n",
       "    }\n",
       "</style>\n",
       "<table border=\"1\" class=\"dataframe\">\n",
       "  <thead>\n",
       "    <tr style=\"text-align: right;\">\n",
       "      <th></th>\n",
       "      <th>text</th>\n",
       "      <th>hashtags</th>\n",
       "    </tr>\n",
       "  </thead>\n",
       "  <tbody>\n",
       "    <tr>\n",
       "      <th>0</th>\n",
       "      <td>@Coop8517 Because my lad is a div he won't wea...</td>\n",
       "      <td>[]</td>\n",
       "    </tr>\n",
       "    <tr>\n",
       "      <th>1</th>\n",
       "      <td>@shirtsinthshire beside wrong nameset, its lik...</td>\n",
       "      <td>[]</td>\n",
       "    </tr>\n",
       "    <tr>\n",
       "      <th>2</th>\n",
       "      <td>@ChefLerrie @Jakjakph1 Yes dude sa Adidas webs...</td>\n",
       "      <td>[]</td>\n",
       "    </tr>\n",
       "    <tr>\n",
       "      <th>3</th>\n",
       "      <td>Footlocker is solely focusing on only selling ...</td>\n",
       "      <td>[]</td>\n",
       "    </tr>\n",
       "    <tr>\n",
       "      <th>4</th>\n",
       "      <td>adidas Yeezy Boost 350 Pirate Black V1 (Infant...</td>\n",
       "      <td>[]</td>\n",
       "    </tr>\n",
       "  </tbody>\n",
       "</table>\n",
       "</div>"
      ],
      "text/plain": [
       "                                                text hashtags\n",
       "0  @Coop8517 Because my lad is a div he won't wea...       []\n",
       "1  @shirtsinthshire beside wrong nameset, its lik...       []\n",
       "2  @ChefLerrie @Jakjakph1 Yes dude sa Adidas webs...       []\n",
       "3  Footlocker is solely focusing on only selling ...       []\n",
       "4  adidas Yeezy Boost 350 Pirate Black V1 (Infant...       []"
      ]
     },
     "execution_count": 38,
     "metadata": {},
     "output_type": "execute_result"
    }
   ],
   "source": [
    "adidas_tw.head()"
   ]
  },
  {
   "cell_type": "code",
   "execution_count": 39,
   "id": "25342089",
   "metadata": {},
   "outputs": [],
   "source": [
    "adidas_tw['text'] = adidas_tw.text.apply(basic_cleaning)"
   ]
  },
  {
   "cell_type": "code",
   "execution_count": 40,
   "id": "99867f78",
   "metadata": {
    "scrolled": true
   },
   "outputs": [
    {
     "data": {
      "text/html": [
       "<div>\n",
       "<style scoped>\n",
       "    .dataframe tbody tr th:only-of-type {\n",
       "        vertical-align: middle;\n",
       "    }\n",
       "\n",
       "    .dataframe tbody tr th {\n",
       "        vertical-align: top;\n",
       "    }\n",
       "\n",
       "    .dataframe thead th {\n",
       "        text-align: right;\n",
       "    }\n",
       "</style>\n",
       "<table border=\"1\" class=\"dataframe\">\n",
       "  <thead>\n",
       "    <tr style=\"text-align: right;\">\n",
       "      <th></th>\n",
       "      <th>text</th>\n",
       "      <th>hashtags</th>\n",
       "    </tr>\n",
       "  </thead>\n",
       "  <tbody>\n",
       "    <tr>\n",
       "      <th>0</th>\n",
       "      <td>because my lad is a div he won t wear adidas o...</td>\n",
       "      <td>[]</td>\n",
       "    </tr>\n",
       "    <tr>\n",
       "      <th>1</th>\n",
       "      <td>beside wrong nameset its like fake shirts spac...</td>\n",
       "      <td>[]</td>\n",
       "    </tr>\n",
       "    <tr>\n",
       "      <th>2</th>\n",
       "      <td>yes dude sa adidas website mismo yang link sa ...</td>\n",
       "      <td>[]</td>\n",
       "    </tr>\n",
       "    <tr>\n",
       "      <th>3</th>\n",
       "      <td>footlocker is solely focusing on only selling ...</td>\n",
       "      <td>[]</td>\n",
       "    </tr>\n",
       "    <tr>\n",
       "      <th>4</th>\n",
       "      <td>adidas yeezy boost three five zero pirate blac...</td>\n",
       "      <td>[]</td>\n",
       "    </tr>\n",
       "  </tbody>\n",
       "</table>\n",
       "</div>"
      ],
      "text/plain": [
       "                                                text hashtags\n",
       "0  because my lad is a div he won t wear adidas o...       []\n",
       "1  beside wrong nameset its like fake shirts spac...       []\n",
       "2  yes dude sa adidas website mismo yang link sa ...       []\n",
       "3  footlocker is solely focusing on only selling ...       []\n",
       "4  adidas yeezy boost three five zero pirate blac...       []"
      ]
     },
     "execution_count": 40,
     "metadata": {},
     "output_type": "execute_result"
    }
   ],
   "source": [
    "adidas_tw.head()"
   ]
  },
  {
   "cell_type": "markdown",
   "id": "ab990ae0",
   "metadata": {},
   "source": [
    "### Subsets."
   ]
  },
  {
   "cell_type": "markdown",
   "id": "fe6e2e2e",
   "metadata": {},
   "source": [
    "En esta primera versión de la herramienta construiremos el mapa de posicionamiento en base a dos atributos de marca (variables): calidad y precio. Estos son los dos atributos básicos más utilizados de manera general en los mapas de posicionamiento (los mapas más sofisticados introducen ya otros atributos más específicos).\n",
    "\n",
    "Para poder completar el proceso de mapeo, lo primero que debemos hacer es dividir los datos (tweets recopilados) en dos subsets: los que hacen referencia al precio y los que hacen referencia a la calidad. Una vez subdivididos, ya podremos introducir los datos en el modelo NLP para evaluar el sentimiento en cada subset.\n",
    "\n",
    "La subdivisión nos permite diferenciar el sentimiento de los tweets que hablan del precio, del sentimiento en torno a la calidad general de la marca en cuestión. Ahora llevaremos a cabo este proceso sobre los tweets que mencionan a Adidas."
   ]
  },
  {
   "cell_type": "markdown",
   "id": "ddfa157e",
   "metadata": {},
   "source": [
    "1. Generamos una nueva columna que recoge la temática del tweet (atributo al que hace refencia)."
   ]
  },
  {
   "cell_type": "code",
   "execution_count": 41,
   "id": "dbeb2d07",
   "metadata": {
    "scrolled": true
   },
   "outputs": [],
   "source": [
    "adidas_tw['brand_attribute'] = adidas_tw['text'].apply(data_groups)"
   ]
  },
  {
   "cell_type": "code",
   "execution_count": 42,
   "id": "46658722",
   "metadata": {},
   "outputs": [
    {
     "data": {
      "text/html": [
       "<div>\n",
       "<style scoped>\n",
       "    .dataframe tbody tr th:only-of-type {\n",
       "        vertical-align: middle;\n",
       "    }\n",
       "\n",
       "    .dataframe tbody tr th {\n",
       "        vertical-align: top;\n",
       "    }\n",
       "\n",
       "    .dataframe thead th {\n",
       "        text-align: right;\n",
       "    }\n",
       "</style>\n",
       "<table border=\"1\" class=\"dataframe\">\n",
       "  <thead>\n",
       "    <tr style=\"text-align: right;\">\n",
       "      <th></th>\n",
       "      <th>text</th>\n",
       "      <th>hashtags</th>\n",
       "      <th>brand_attribute</th>\n",
       "    </tr>\n",
       "  </thead>\n",
       "  <tbody>\n",
       "    <tr>\n",
       "      <th>0</th>\n",
       "      <td>because my lad is a div he won t wear adidas o...</td>\n",
       "      <td>[]</td>\n",
       "      <td>quality</td>\n",
       "    </tr>\n",
       "    <tr>\n",
       "      <th>1</th>\n",
       "      <td>beside wrong nameset its like fake shirts spac...</td>\n",
       "      <td>[]</td>\n",
       "      <td>quality</td>\n",
       "    </tr>\n",
       "    <tr>\n",
       "      <th>2</th>\n",
       "      <td>yes dude sa adidas website mismo yang link sa ...</td>\n",
       "      <td>[]</td>\n",
       "      <td>quality</td>\n",
       "    </tr>\n",
       "    <tr>\n",
       "      <th>3</th>\n",
       "      <td>footlocker is solely focusing on only selling ...</td>\n",
       "      <td>[]</td>\n",
       "      <td>quality</td>\n",
       "    </tr>\n",
       "    <tr>\n",
       "      <th>4</th>\n",
       "      <td>adidas yeezy boost three five zero pirate blac...</td>\n",
       "      <td>[]</td>\n",
       "      <td>price</td>\n",
       "    </tr>\n",
       "  </tbody>\n",
       "</table>\n",
       "</div>"
      ],
      "text/plain": [
       "                                                text hashtags brand_attribute\n",
       "0  because my lad is a div he won t wear adidas o...       []         quality\n",
       "1  beside wrong nameset its like fake shirts spac...       []         quality\n",
       "2  yes dude sa adidas website mismo yang link sa ...       []         quality\n",
       "3  footlocker is solely focusing on only selling ...       []         quality\n",
       "4  adidas yeezy boost three five zero pirate blac...       []           price"
      ]
     },
     "execution_count": 42,
     "metadata": {},
     "output_type": "execute_result"
    }
   ],
   "source": [
    "adidas_tw.head()"
   ]
  },
  {
   "cell_type": "code",
   "execution_count": 43,
   "id": "eae9256c",
   "metadata": {},
   "outputs": [
    {
     "data": {
      "text/plain": [
       "quality    23892\n",
       "price       5388\n",
       "Name: brand_attribute, dtype: int64"
      ]
     },
     "execution_count": 43,
     "metadata": {},
     "output_type": "execute_result"
    }
   ],
   "source": [
    "adidas_tw.brand_attribute.value_counts()"
   ]
  },
  {
   "cell_type": "markdown",
   "id": "b8bd3c86",
   "metadata": {},
   "source": [
    "2. Generamos los subsets de Adidas (uno de calidad y otro de precio).\n",
    "\n",
    "    2.1. Precio:"
   ]
  },
  {
   "cell_type": "code",
   "execution_count": 44,
   "id": "24539db5",
   "metadata": {},
   "outputs": [],
   "source": [
    "adidas_price = pd.DataFrame(adidas_tw.where(adidas_tw.brand_attribute=='price').dropna().drop('brand_attribute',axis=1))"
   ]
  },
  {
   "cell_type": "code",
   "execution_count": 45,
   "id": "c09760c4",
   "metadata": {},
   "outputs": [
    {
     "data": {
      "text/plain": [
       "text        0\n",
       "hashtags    0\n",
       "dtype: int64"
      ]
     },
     "execution_count": 45,
     "metadata": {},
     "output_type": "execute_result"
    }
   ],
   "source": [
    "adidas_price.isnull().sum()"
   ]
  },
  {
   "cell_type": "code",
   "execution_count": 46,
   "id": "b2220506",
   "metadata": {},
   "outputs": [
    {
     "data": {
      "text/plain": [
       "(5388, 2)"
      ]
     },
     "execution_count": 46,
     "metadata": {},
     "output_type": "execute_result"
    }
   ],
   "source": [
    "adidas_price.shape"
   ]
  },
  {
   "cell_type": "code",
   "execution_count": 47,
   "id": "35a7f197",
   "metadata": {},
   "outputs": [],
   "source": [
    "# Exportamos el subset de precio.\n",
    "\n",
    "adidas_price.to_csv('data/adidas_price.csv', index = False)"
   ]
  },
  {
   "cell_type": "markdown",
   "id": "6e54f077",
   "metadata": {},
   "source": [
    "    2.2. Calidad:"
   ]
  },
  {
   "cell_type": "code",
   "execution_count": 48,
   "id": "209c3ac0",
   "metadata": {},
   "outputs": [],
   "source": [
    "adidas_quality = pd.DataFrame(adidas_tw.where(adidas_tw.brand_attribute=='quality').dropna().drop('brand_attribute',axis=1))"
   ]
  },
  {
   "cell_type": "code",
   "execution_count": 49,
   "id": "4a4c8468",
   "metadata": {},
   "outputs": [
    {
     "data": {
      "text/plain": [
       "text        0\n",
       "hashtags    0\n",
       "dtype: int64"
      ]
     },
     "execution_count": 49,
     "metadata": {},
     "output_type": "execute_result"
    }
   ],
   "source": [
    "adidas_quality.isnull().sum()"
   ]
  },
  {
   "cell_type": "code",
   "execution_count": 50,
   "id": "1794f18d",
   "metadata": {},
   "outputs": [
    {
     "data": {
      "text/plain": [
       "(23892, 2)"
      ]
     },
     "execution_count": 50,
     "metadata": {},
     "output_type": "execute_result"
    }
   ],
   "source": [
    "adidas_quality.shape"
   ]
  },
  {
   "cell_type": "code",
   "execution_count": 51,
   "id": "100252d7",
   "metadata": {},
   "outputs": [],
   "source": [
    "# Exportamos el subset de calidad.\n",
    "\n",
    "adidas_quality.to_csv('data/adidas_quality.csv', index = False)"
   ]
  },
  {
   "cell_type": "markdown",
   "id": "da0b84e1",
   "metadata": {},
   "source": [
    "**Nota importante:**\n",
    "\n",
    "Aunque hemos exportado cada subset en archivos csv independientes (lo tenemos guardado de manera desagregada), en realidad trabajaremos con un único DataFrame que contenga todos los tweets analizados (los de todas las marcas y todos los atributos). En este DataFrame recogeremos en una columna la marca a la que hacen referencia y en otra columna el atributo al que se refieren (calidad y precio). Esto lo hacemos así porque nos permitirá agilizar mucho los procesos de visualización de resultados y obtener gráficos de mejor calidad (podremos filtrar en función de la marca y el atributo, al tiempo que manejamos un único DataFrame para mayor eficiencia)."
   ]
  },
  {
   "cell_type": "markdown",
   "id": "0129611c",
   "metadata": {},
   "source": [
    "## Asics data."
   ]
  },
  {
   "cell_type": "code",
   "execution_count": 62,
   "id": "fc4680ce",
   "metadata": {},
   "outputs": [],
   "source": [
    "asics = pd.read_csv('data/asics.csv')"
   ]
  },
  {
   "cell_type": "code",
   "execution_count": 63,
   "id": "5c53e6cc",
   "metadata": {},
   "outputs": [],
   "source": [
    "asics_tw = pd.DataFrame(asics.text)"
   ]
  },
  {
   "cell_type": "markdown",
   "id": "9b0c5e0f",
   "metadata": {},
   "source": [
    "### Exploración inicial de los datos:"
   ]
  },
  {
   "cell_type": "code",
   "execution_count": 64,
   "id": "718ccff2",
   "metadata": {},
   "outputs": [
    {
     "data": {
      "text/plain": [
       "(1999, 1)"
      ]
     },
     "execution_count": 64,
     "metadata": {},
     "output_type": "execute_result"
    }
   ],
   "source": [
    "asics_tw.shape"
   ]
  },
  {
   "cell_type": "code",
   "execution_count": 65,
   "id": "c6006fed",
   "metadata": {},
   "outputs": [
    {
     "name": "stdout",
     "output_type": "stream",
     "text": [
      "<class 'pandas.core.frame.DataFrame'>\n",
      "RangeIndex: 1999 entries, 0 to 1998\n",
      "Data columns (total 1 columns):\n",
      " #   Column  Non-Null Count  Dtype \n",
      "---  ------  --------------  ----- \n",
      " 0   text    1999 non-null   object\n",
      "dtypes: object(1)\n",
      "memory usage: 15.7+ KB\n"
     ]
    }
   ],
   "source": [
    "asics_tw.info()"
   ]
  },
  {
   "cell_type": "code",
   "execution_count": 66,
   "id": "1d17a149",
   "metadata": {},
   "outputs": [
    {
     "data": {
      "text/html": [
       "<div>\n",
       "<style scoped>\n",
       "    .dataframe tbody tr th:only-of-type {\n",
       "        vertical-align: middle;\n",
       "    }\n",
       "\n",
       "    .dataframe tbody tr th {\n",
       "        vertical-align: top;\n",
       "    }\n",
       "\n",
       "    .dataframe thead th {\n",
       "        text-align: right;\n",
       "    }\n",
       "</style>\n",
       "<table border=\"1\" class=\"dataframe\">\n",
       "  <thead>\n",
       "    <tr style=\"text-align: right;\">\n",
       "      <th></th>\n",
       "      <th>text</th>\n",
       "    </tr>\n",
       "  </thead>\n",
       "  <tbody>\n",
       "    <tr>\n",
       "      <th>count</th>\n",
       "      <td>1999</td>\n",
       "    </tr>\n",
       "    <tr>\n",
       "      <th>unique</th>\n",
       "      <td>1976</td>\n",
       "    </tr>\n",
       "    <tr>\n",
       "      <th>top</th>\n",
       "      <td>💥INTEL has signed up another #Bitcoin miner fo...</td>\n",
       "    </tr>\n",
       "    <tr>\n",
       "      <th>freq</th>\n",
       "      <td>5</td>\n",
       "    </tr>\n",
       "  </tbody>\n",
       "</table>\n",
       "</div>"
      ],
      "text/plain": [
       "                                                     text\n",
       "count                                                1999\n",
       "unique                                               1976\n",
       "top     💥INTEL has signed up another #Bitcoin miner fo...\n",
       "freq                                                    5"
      ]
     },
     "execution_count": 66,
     "metadata": {},
     "output_type": "execute_result"
    }
   ],
   "source": [
    "asics_tw.describe()"
   ]
  },
  {
   "cell_type": "code",
   "execution_count": 67,
   "id": "87854bbb",
   "metadata": {},
   "outputs": [
    {
     "data": {
      "text/plain": [
       "text    0\n",
       "dtype: int64"
      ]
     },
     "execution_count": 67,
     "metadata": {},
     "output_type": "execute_result"
    }
   ],
   "source": [
    "asics_tw.isnull().sum()  # No existen nulos."
   ]
  },
  {
   "cell_type": "code",
   "execution_count": 68,
   "id": "ad2d075d",
   "metadata": {},
   "outputs": [
    {
     "data": {
      "text/plain": [
       "23"
      ]
     },
     "execution_count": 68,
     "metadata": {},
     "output_type": "execute_result"
    }
   ],
   "source": [
    "asics_tw.duplicated().sum() # Encontramos 23 valores duplicados."
   ]
  },
  {
   "cell_type": "code",
   "execution_count": 9,
   "id": "df238cb2",
   "metadata": {},
   "outputs": [],
   "source": [
    "drop_duplicates(nike_tw) # Eliminamos los valores duplicados."
   ]
  },
  {
   "cell_type": "code",
   "execution_count": 10,
   "id": "3c7631ab",
   "metadata": {},
   "outputs": [
    {
     "data": {
      "text/plain": [
       "(29276, 1)"
      ]
     },
     "execution_count": 10,
     "metadata": {},
     "output_type": "execute_result"
    }
   ],
   "source": [
    "nike_tw.shape"
   ]
  },
  {
   "cell_type": "markdown",
   "id": "cc25eb78",
   "metadata": {},
   "source": [
    "### Hashtags."
   ]
  },
  {
   "cell_type": "markdown",
   "id": "fdde5aed",
   "metadata": {},
   "source": [
    "Queremos extraer los hastags de los tweets y almacenarlos en una nueva columna del DatFrame. Esto nos permitirá llevar a cabo un análisis específico de los hashtags una vez hecho el análisis del sentimiento de los tweets, relacionando el sentimiento con los hashtags utilizados en el tweet.\n",
    "\n",
    "*Posibles aplicaciones de este análisis:*\n",
    "- *Análisis del sentimiento de la conversación en torno a un hashtag específico (nos permite analizar la percepción acerca de una campaña online, un evento en directo o similares).*\n",
    "\n",
    "\n",
    "- *Ranking de hashtags con mayor sentimiento positivo o negativo.*\n",
    "\n",
    "\n",
    "- *Análisis de utilización de hashtags: podemos analizar elementos más básicos como los hashtags más frecuentes o incluso cruzarlo con otros datos extraídos (datetime de publicación, usuarios que publican el tweet...) para llegar a conclusiones relevantes.*"
   ]
  },
  {
   "cell_type": "code",
   "execution_count": 11,
   "id": "a4f9dd5d",
   "metadata": {},
   "outputs": [],
   "source": [
    "nike_tw['hashtags'] = nike_tw.text.apply(extract_hashtags)"
   ]
  },
  {
   "cell_type": "code",
   "execution_count": 12,
   "id": "f4451e9c",
   "metadata": {
    "scrolled": true
   },
   "outputs": [
    {
     "data": {
      "text/html": [
       "<div>\n",
       "<style scoped>\n",
       "    .dataframe tbody tr th:only-of-type {\n",
       "        vertical-align: middle;\n",
       "    }\n",
       "\n",
       "    .dataframe tbody tr th {\n",
       "        vertical-align: top;\n",
       "    }\n",
       "\n",
       "    .dataframe thead th {\n",
       "        text-align: right;\n",
       "    }\n",
       "</style>\n",
       "<table border=\"1\" class=\"dataframe\">\n",
       "  <thead>\n",
       "    <tr style=\"text-align: right;\">\n",
       "      <th></th>\n",
       "      <th>text</th>\n",
       "      <th>hashtags</th>\n",
       "    </tr>\n",
       "  </thead>\n",
       "  <tbody>\n",
       "    <tr>\n",
       "      <th>0</th>\n",
       "      <td>@ZubyMusic @LPMisesCaucus Nobody cares about N...</td>\n",
       "      <td>[]</td>\n",
       "    </tr>\n",
       "    <tr>\n",
       "      <th>1</th>\n",
       "      <td>@PoojaPraharaj @IndiainUkraine @PMOIndia @MEAI...</td>\n",
       "      <td>[]</td>\n",
       "    </tr>\n",
       "    <tr>\n",
       "      <th>2</th>\n",
       "      <td>@DocumentWomen Nike Okundaye. Also knowns Nike...</td>\n",
       "      <td>[#womengiant, #Documentwomen]</td>\n",
       "    </tr>\n",
       "    <tr>\n",
       "      <th>3</th>\n",
       "      <td>Day 4 of #maxmadness #AirMaxMonth \\nNike Air M...</td>\n",
       "      <td>[#maxmadness, #AirMaxMonth, #airmaxgang, #kotd...</td>\n",
       "    </tr>\n",
       "    <tr>\n",
       "      <th>4</th>\n",
       "      <td>@MagMr44 @soleguru @nikestore @Nike @SneakerAd...</td>\n",
       "      <td>[]</td>\n",
       "    </tr>\n",
       "  </tbody>\n",
       "</table>\n",
       "</div>"
      ],
      "text/plain": [
       "                                                text  \\\n",
       "0  @ZubyMusic @LPMisesCaucus Nobody cares about N...   \n",
       "1  @PoojaPraharaj @IndiainUkraine @PMOIndia @MEAI...   \n",
       "2  @DocumentWomen Nike Okundaye. Also knowns Nike...   \n",
       "3  Day 4 of #maxmadness #AirMaxMonth \\nNike Air M...   \n",
       "4  @MagMr44 @soleguru @nikestore @Nike @SneakerAd...   \n",
       "\n",
       "                                            hashtags  \n",
       "0                                                 []  \n",
       "1                                                 []  \n",
       "2                      [#womengiant, #Documentwomen]  \n",
       "3  [#maxmadness, #AirMaxMonth, #airmaxgang, #kotd...  \n",
       "4                                                 []  "
      ]
     },
     "execution_count": 12,
     "metadata": {},
     "output_type": "execute_result"
    }
   ],
   "source": [
    "nike_tw.head()"
   ]
  },
  {
   "cell_type": "markdown",
   "id": "4d535c82",
   "metadata": {},
   "source": [
    "### Preparing Data."
   ]
  },
  {
   "cell_type": "markdown",
   "id": "2143c73d",
   "metadata": {},
   "source": [
    "**Limpieza básica:**\n",
    "- Pasamos todo a minúsculas.\n",
    "- Eliminamos usuarios ('@ + user' ya que en principio el nombre de los usuarios no aporta información relevante para el modelo).\n",
    "- Eliminamos urls.\n",
    "- Convertimos dígitos a números escritos.\n",
    "- Convertimos $ en 'dollars' y € en 'euros.\n",
    "- Eliminamos valores no alfabéticos: # (aunque manteniendo el texto que viene después ya que puede contener información relevante), signos de puntuación...\n",
    "\n",
    "Esta limpieza se ejecutará a través de nuestra función `basic_cleaning()`."
   ]
  },
  {
   "cell_type": "code",
   "execution_count": 13,
   "id": "36315b34",
   "metadata": {},
   "outputs": [
    {
     "data": {
      "text/html": [
       "<div>\n",
       "<style scoped>\n",
       "    .dataframe tbody tr th:only-of-type {\n",
       "        vertical-align: middle;\n",
       "    }\n",
       "\n",
       "    .dataframe tbody tr th {\n",
       "        vertical-align: top;\n",
       "    }\n",
       "\n",
       "    .dataframe thead th {\n",
       "        text-align: right;\n",
       "    }\n",
       "</style>\n",
       "<table border=\"1\" class=\"dataframe\">\n",
       "  <thead>\n",
       "    <tr style=\"text-align: right;\">\n",
       "      <th></th>\n",
       "      <th>text</th>\n",
       "      <th>hashtags</th>\n",
       "    </tr>\n",
       "  </thead>\n",
       "  <tbody>\n",
       "    <tr>\n",
       "      <th>0</th>\n",
       "      <td>@ZubyMusic @LPMisesCaucus Nobody cares about N...</td>\n",
       "      <td>[]</td>\n",
       "    </tr>\n",
       "    <tr>\n",
       "      <th>1</th>\n",
       "      <td>@PoojaPraharaj @IndiainUkraine @PMOIndia @MEAI...</td>\n",
       "      <td>[]</td>\n",
       "    </tr>\n",
       "    <tr>\n",
       "      <th>2</th>\n",
       "      <td>@DocumentWomen Nike Okundaye. Also knowns Nike...</td>\n",
       "      <td>[#womengiant, #Documentwomen]</td>\n",
       "    </tr>\n",
       "    <tr>\n",
       "      <th>3</th>\n",
       "      <td>Day 4 of #maxmadness #AirMaxMonth \\nNike Air M...</td>\n",
       "      <td>[#maxmadness, #AirMaxMonth, #airmaxgang, #kotd...</td>\n",
       "    </tr>\n",
       "    <tr>\n",
       "      <th>4</th>\n",
       "      <td>@MagMr44 @soleguru @nikestore @Nike @SneakerAd...</td>\n",
       "      <td>[]</td>\n",
       "    </tr>\n",
       "  </tbody>\n",
       "</table>\n",
       "</div>"
      ],
      "text/plain": [
       "                                                text  \\\n",
       "0  @ZubyMusic @LPMisesCaucus Nobody cares about N...   \n",
       "1  @PoojaPraharaj @IndiainUkraine @PMOIndia @MEAI...   \n",
       "2  @DocumentWomen Nike Okundaye. Also knowns Nike...   \n",
       "3  Day 4 of #maxmadness #AirMaxMonth \\nNike Air M...   \n",
       "4  @MagMr44 @soleguru @nikestore @Nike @SneakerAd...   \n",
       "\n",
       "                                            hashtags  \n",
       "0                                                 []  \n",
       "1                                                 []  \n",
       "2                      [#womengiant, #Documentwomen]  \n",
       "3  [#maxmadness, #AirMaxMonth, #airmaxgang, #kotd...  \n",
       "4                                                 []  "
      ]
     },
     "execution_count": 13,
     "metadata": {},
     "output_type": "execute_result"
    }
   ],
   "source": [
    "nike_tw.head()"
   ]
  },
  {
   "cell_type": "code",
   "execution_count": 14,
   "id": "3801f31e",
   "metadata": {},
   "outputs": [],
   "source": [
    "nike_tw['text'] = nike_tw.text.apply(basic_cleaning)"
   ]
  },
  {
   "cell_type": "code",
   "execution_count": 15,
   "id": "30e2fe30",
   "metadata": {},
   "outputs": [
    {
     "data": {
      "text/html": [
       "<div>\n",
       "<style scoped>\n",
       "    .dataframe tbody tr th:only-of-type {\n",
       "        vertical-align: middle;\n",
       "    }\n",
       "\n",
       "    .dataframe tbody tr th {\n",
       "        vertical-align: top;\n",
       "    }\n",
       "\n",
       "    .dataframe thead th {\n",
       "        text-align: right;\n",
       "    }\n",
       "</style>\n",
       "<table border=\"1\" class=\"dataframe\">\n",
       "  <thead>\n",
       "    <tr style=\"text-align: right;\">\n",
       "      <th></th>\n",
       "      <th>text</th>\n",
       "      <th>hashtags</th>\n",
       "    </tr>\n",
       "  </thead>\n",
       "  <tbody>\n",
       "    <tr>\n",
       "      <th>0</th>\n",
       "      <td>nobody cares about nike in russia russia is al...</td>\n",
       "      <td>[]</td>\n",
       "    </tr>\n",
       "    <tr>\n",
       "      <th>1</th>\n",
       "      <td>ye green nike hoodie waala two weeks pehle put...</td>\n",
       "      <td>[]</td>\n",
       "    </tr>\n",
       "    <tr>\n",
       "      <th>2</th>\n",
       "      <td>nike okundaye also knowns nike twins seven sev...</td>\n",
       "      <td>[#womengiant, #Documentwomen]</td>\n",
       "    </tr>\n",
       "    <tr>\n",
       "      <th>3</th>\n",
       "      <td>day four of maxmadness air max month nike air ...</td>\n",
       "      <td>[#maxmadness, #AirMaxMonth, #airmaxgang, #kotd...</td>\n",
       "    </tr>\n",
       "    <tr>\n",
       "      <th>4</th>\n",
       "      <td>thank you sir</td>\n",
       "      <td>[]</td>\n",
       "    </tr>\n",
       "  </tbody>\n",
       "</table>\n",
       "</div>"
      ],
      "text/plain": [
       "                                                text  \\\n",
       "0  nobody cares about nike in russia russia is al...   \n",
       "1  ye green nike hoodie waala two weeks pehle put...   \n",
       "2  nike okundaye also knowns nike twins seven sev...   \n",
       "3  day four of maxmadness air max month nike air ...   \n",
       "4                                      thank you sir   \n",
       "\n",
       "                                            hashtags  \n",
       "0                                                 []  \n",
       "1                                                 []  \n",
       "2                      [#womengiant, #Documentwomen]  \n",
       "3  [#maxmadness, #AirMaxMonth, #airmaxgang, #kotd...  \n",
       "4                                                 []  "
      ]
     },
     "execution_count": 15,
     "metadata": {},
     "output_type": "execute_result"
    }
   ],
   "source": [
    "nike_tw.head()"
   ]
  },
  {
   "cell_type": "markdown",
   "id": "c635896b",
   "metadata": {},
   "source": [
    "### Subsets."
   ]
  },
  {
   "cell_type": "markdown",
   "id": "e3816ad1",
   "metadata": {},
   "source": [
    "En esta primera versión de la herramienta construiremos el mapa de posicionamiento en base a dos atributos de marca (variables): calidad y precio. Estos son los dos atributos básicos más utilizados de manera general en los mapas de posicionamiento (los mapas más sofisticados introducen ya otros atributos más específicos).\n",
    "\n",
    "Para poder completar el proceso de mapeo, lo primero que debemos hacer es dividir los datos (tweets recopilados) en dos subsets: los que hacen referencia al precio y los que hacen referencia a la calidad. Una vez subdivididos, ya podremos introducir los datos en el modelo NLP para evaluar el sentimiento en cada subset.\n",
    "\n",
    "La subdivisión nos permite diferenciar el sentimiento de los tweets que hablan del precio, del sentimiento en torno a la calidad general de la marca en cuestión. Esto es lo que haremos en esta etapa del proceso, en este caso sobre los tweets que mencionan a Nike."
   ]
  },
  {
   "cell_type": "markdown",
   "id": "681d51df",
   "metadata": {},
   "source": [
    "1. Generamos una nueva columna que recoge la temática del tweet (atributo al que hace refencia)."
   ]
  },
  {
   "cell_type": "code",
   "execution_count": 16,
   "id": "9d1dec8e",
   "metadata": {
    "scrolled": true
   },
   "outputs": [],
   "source": [
    "nike_tw['brand_attribute'] = nike_tw['text'].apply(data_groups)"
   ]
  },
  {
   "cell_type": "code",
   "execution_count": 17,
   "id": "59ae29fa",
   "metadata": {
    "scrolled": false
   },
   "outputs": [
    {
     "data": {
      "text/html": [
       "<div>\n",
       "<style scoped>\n",
       "    .dataframe tbody tr th:only-of-type {\n",
       "        vertical-align: middle;\n",
       "    }\n",
       "\n",
       "    .dataframe tbody tr th {\n",
       "        vertical-align: top;\n",
       "    }\n",
       "\n",
       "    .dataframe thead th {\n",
       "        text-align: right;\n",
       "    }\n",
       "</style>\n",
       "<table border=\"1\" class=\"dataframe\">\n",
       "  <thead>\n",
       "    <tr style=\"text-align: right;\">\n",
       "      <th></th>\n",
       "      <th>text</th>\n",
       "      <th>hashtags</th>\n",
       "      <th>brand_attribute</th>\n",
       "    </tr>\n",
       "  </thead>\n",
       "  <tbody>\n",
       "    <tr>\n",
       "      <th>0</th>\n",
       "      <td>nobody cares about nike in russia russia is al...</td>\n",
       "      <td>[]</td>\n",
       "      <td>quality</td>\n",
       "    </tr>\n",
       "    <tr>\n",
       "      <th>1</th>\n",
       "      <td>ye green nike hoodie waala two weeks pehle put...</td>\n",
       "      <td>[]</td>\n",
       "      <td>quality</td>\n",
       "    </tr>\n",
       "    <tr>\n",
       "      <th>2</th>\n",
       "      <td>nike okundaye also knowns nike twins seven sev...</td>\n",
       "      <td>[#womengiant, #Documentwomen]</td>\n",
       "      <td>quality</td>\n",
       "    </tr>\n",
       "    <tr>\n",
       "      <th>3</th>\n",
       "      <td>day four of maxmadness air max month nike air ...</td>\n",
       "      <td>[#maxmadness, #AirMaxMonth, #airmaxgang, #kotd...</td>\n",
       "      <td>quality</td>\n",
       "    </tr>\n",
       "    <tr>\n",
       "      <th>4</th>\n",
       "      <td>thank you sir</td>\n",
       "      <td>[]</td>\n",
       "      <td>quality</td>\n",
       "    </tr>\n",
       "  </tbody>\n",
       "</table>\n",
       "</div>"
      ],
      "text/plain": [
       "                                                text  \\\n",
       "0  nobody cares about nike in russia russia is al...   \n",
       "1  ye green nike hoodie waala two weeks pehle put...   \n",
       "2  nike okundaye also knowns nike twins seven sev...   \n",
       "3  day four of maxmadness air max month nike air ...   \n",
       "4                                      thank you sir   \n",
       "\n",
       "                                            hashtags brand_attribute  \n",
       "0                                                 []         quality  \n",
       "1                                                 []         quality  \n",
       "2                      [#womengiant, #Documentwomen]         quality  \n",
       "3  [#maxmadness, #AirMaxMonth, #airmaxgang, #kotd...         quality  \n",
       "4                                                 []         quality  "
      ]
     },
     "execution_count": 17,
     "metadata": {},
     "output_type": "execute_result"
    }
   ],
   "source": [
    "nike_tw.head()"
   ]
  },
  {
   "cell_type": "code",
   "execution_count": 18,
   "id": "9014f001",
   "metadata": {},
   "outputs": [
    {
     "data": {
      "text/plain": [
       "quality    23892\n",
       "price       5384\n",
       "Name: brand_attribute, dtype: int64"
      ]
     },
     "execution_count": 18,
     "metadata": {},
     "output_type": "execute_result"
    }
   ],
   "source": [
    "nike_tw.brand_attribute.value_counts()"
   ]
  },
  {
   "cell_type": "markdown",
   "id": "4c46adfc",
   "metadata": {},
   "source": [
    "2. Exportamos los subsets de Nike (uno de calidad y otro de precio).\n",
    "\n",
    "    2.1. Precio:"
   ]
  },
  {
   "cell_type": "code",
   "execution_count": 19,
   "id": "3764c28d",
   "metadata": {},
   "outputs": [],
   "source": [
    "nike_price = pd.DataFrame(nike_tw.where(nike_tw.brand_attribute=='price').dropna().drop('brand_attribute',axis=1))"
   ]
  },
  {
   "cell_type": "code",
   "execution_count": 20,
   "id": "43ff0893",
   "metadata": {},
   "outputs": [
    {
     "data": {
      "text/plain": [
       "text        0\n",
       "hashtags    0\n",
       "dtype: int64"
      ]
     },
     "execution_count": 20,
     "metadata": {},
     "output_type": "execute_result"
    }
   ],
   "source": [
    "nike_price.isnull().sum()"
   ]
  },
  {
   "cell_type": "code",
   "execution_count": 21,
   "id": "7f505fe9",
   "metadata": {},
   "outputs": [
    {
     "data": {
      "text/plain": [
       "(5384, 2)"
      ]
     },
     "execution_count": 21,
     "metadata": {},
     "output_type": "execute_result"
    }
   ],
   "source": [
    "nike_price.shape"
   ]
  },
  {
   "cell_type": "code",
   "execution_count": 22,
   "id": "d80dfb82",
   "metadata": {},
   "outputs": [],
   "source": [
    "# Exportamos el subset de precio.\n",
    "\n",
    "nike_price.to_csv('data/nike_price.csv', index = False)"
   ]
  },
  {
   "cell_type": "markdown",
   "id": "8102af44",
   "metadata": {},
   "source": [
    "    2.2. Calidad:"
   ]
  },
  {
   "cell_type": "code",
   "execution_count": 23,
   "id": "2baecc89",
   "metadata": {},
   "outputs": [],
   "source": [
    "nike_quality = pd.DataFrame(nike_tw.where(nike_tw.brand_attribute=='quality').dropna().drop('brand_attribute',axis=1))"
   ]
  },
  {
   "cell_type": "code",
   "execution_count": 24,
   "id": "99d03326",
   "metadata": {},
   "outputs": [
    {
     "data": {
      "text/plain": [
       "text        0\n",
       "hashtags    0\n",
       "dtype: int64"
      ]
     },
     "execution_count": 24,
     "metadata": {},
     "output_type": "execute_result"
    }
   ],
   "source": [
    "nike_quality.isnull().sum()"
   ]
  },
  {
   "cell_type": "code",
   "execution_count": 25,
   "id": "e4d84863",
   "metadata": {},
   "outputs": [
    {
     "data": {
      "text/plain": [
       "(23892, 2)"
      ]
     },
     "execution_count": 25,
     "metadata": {},
     "output_type": "execute_result"
    }
   ],
   "source": [
    "nike_quality.shape"
   ]
  },
  {
   "cell_type": "code",
   "execution_count": 26,
   "id": "29b39ece",
   "metadata": {},
   "outputs": [],
   "source": [
    "# Exportamos el subset de calidad.\n",
    "\n",
    "nike_quality.to_csv('data/nike_quality.csv', index = False)"
   ]
  },
  {
   "cell_type": "markdown",
   "id": "f5720a3b",
   "metadata": {},
   "source": [
    "**Nota importante:**\n",
    "\n",
    "Aunque hemos exportado cada subset en archivos csv independientes (lo tenemos guardado de manera desagregada), en realidad trabajaremos con un único DataFrame que contenga todos los tweets analizados (los de todas las marcas y todos los atributos). En este DataFrame recogeremos en una columna la marca a la que hacen referencia y en otra columna el atributo al que se refieren (calidad y precio). Esto lo hacemos así porque nos permitirá agilizar mucho los procesos de visualización de resultados y obtener gráficos de mejor calidad (podremos filtrar en función de la marca y el atributo, al tiempo que manejamos un único DataFrame para mayor eficiencia)."
   ]
  },
  {
   "cell_type": "markdown",
   "id": "5863834e",
   "metadata": {},
   "source": [
    "## Dataset Completo."
   ]
  },
  {
   "cell_type": "markdown",
   "id": "37c43e78",
   "metadata": {},
   "source": [
    "Primero generamos una nueva columna en la que se recoja la marca a la que hace referencia el tweet (todos los valores de la columna serán 'nike' para el DataFrame de Nike, 'adidas' para el DataFrame de Adidas...)."
   ]
  },
  {
   "cell_type": "markdown",
   "id": "d6c81375",
   "metadata": {},
   "source": [
    "#### Columna 'brand' para los datos de Nike."
   ]
  },
  {
   "cell_type": "code",
   "execution_count": 52,
   "id": "6fe9b79f",
   "metadata": {},
   "outputs": [
    {
     "data": {
      "text/html": [
       "<div>\n",
       "<style scoped>\n",
       "    .dataframe tbody tr th:only-of-type {\n",
       "        vertical-align: middle;\n",
       "    }\n",
       "\n",
       "    .dataframe tbody tr th {\n",
       "        vertical-align: top;\n",
       "    }\n",
       "\n",
       "    .dataframe thead th {\n",
       "        text-align: right;\n",
       "    }\n",
       "</style>\n",
       "<table border=\"1\" class=\"dataframe\">\n",
       "  <thead>\n",
       "    <tr style=\"text-align: right;\">\n",
       "      <th></th>\n",
       "      <th>text</th>\n",
       "      <th>hashtags</th>\n",
       "      <th>brand_attribute</th>\n",
       "    </tr>\n",
       "  </thead>\n",
       "  <tbody>\n",
       "    <tr>\n",
       "      <th>0</th>\n",
       "      <td>nobody cares about nike in russia russia is al...</td>\n",
       "      <td>[]</td>\n",
       "      <td>quality</td>\n",
       "    </tr>\n",
       "    <tr>\n",
       "      <th>1</th>\n",
       "      <td>ye green nike hoodie waala two weeks pehle put...</td>\n",
       "      <td>[]</td>\n",
       "      <td>quality</td>\n",
       "    </tr>\n",
       "    <tr>\n",
       "      <th>2</th>\n",
       "      <td>nike okundaye also knowns nike twins seven sev...</td>\n",
       "      <td>[#womengiant, #Documentwomen]</td>\n",
       "      <td>quality</td>\n",
       "    </tr>\n",
       "    <tr>\n",
       "      <th>3</th>\n",
       "      <td>day four of maxmadness air max month nike air ...</td>\n",
       "      <td>[#maxmadness, #AirMaxMonth, #airmaxgang, #kotd...</td>\n",
       "      <td>quality</td>\n",
       "    </tr>\n",
       "    <tr>\n",
       "      <th>4</th>\n",
       "      <td>thank you sir</td>\n",
       "      <td>[]</td>\n",
       "      <td>quality</td>\n",
       "    </tr>\n",
       "  </tbody>\n",
       "</table>\n",
       "</div>"
      ],
      "text/plain": [
       "                                                text  \\\n",
       "0  nobody cares about nike in russia russia is al...   \n",
       "1  ye green nike hoodie waala two weeks pehle put...   \n",
       "2  nike okundaye also knowns nike twins seven sev...   \n",
       "3  day four of maxmadness air max month nike air ...   \n",
       "4                                      thank you sir   \n",
       "\n",
       "                                            hashtags brand_attribute  \n",
       "0                                                 []         quality  \n",
       "1                                                 []         quality  \n",
       "2                      [#womengiant, #Documentwomen]         quality  \n",
       "3  [#maxmadness, #AirMaxMonth, #airmaxgang, #kotd...         quality  \n",
       "4                                                 []         quality  "
      ]
     },
     "execution_count": 52,
     "metadata": {},
     "output_type": "execute_result"
    }
   ],
   "source": [
    "nike_tw.head()"
   ]
  },
  {
   "cell_type": "code",
   "execution_count": 53,
   "id": "a49a3c73",
   "metadata": {},
   "outputs": [],
   "source": [
    "nike_tw = nike_tw.assign(brand='nike')"
   ]
  },
  {
   "cell_type": "code",
   "execution_count": 54,
   "id": "6848609d",
   "metadata": {
    "scrolled": false
   },
   "outputs": [
    {
     "data": {
      "text/html": [
       "<div>\n",
       "<style scoped>\n",
       "    .dataframe tbody tr th:only-of-type {\n",
       "        vertical-align: middle;\n",
       "    }\n",
       "\n",
       "    .dataframe tbody tr th {\n",
       "        vertical-align: top;\n",
       "    }\n",
       "\n",
       "    .dataframe thead th {\n",
       "        text-align: right;\n",
       "    }\n",
       "</style>\n",
       "<table border=\"1\" class=\"dataframe\">\n",
       "  <thead>\n",
       "    <tr style=\"text-align: right;\">\n",
       "      <th></th>\n",
       "      <th>text</th>\n",
       "      <th>hashtags</th>\n",
       "      <th>brand_attribute</th>\n",
       "      <th>brand</th>\n",
       "    </tr>\n",
       "  </thead>\n",
       "  <tbody>\n",
       "    <tr>\n",
       "      <th>0</th>\n",
       "      <td>nobody cares about nike in russia russia is al...</td>\n",
       "      <td>[]</td>\n",
       "      <td>quality</td>\n",
       "      <td>nike</td>\n",
       "    </tr>\n",
       "    <tr>\n",
       "      <th>1</th>\n",
       "      <td>ye green nike hoodie waala two weeks pehle put...</td>\n",
       "      <td>[]</td>\n",
       "      <td>quality</td>\n",
       "      <td>nike</td>\n",
       "    </tr>\n",
       "    <tr>\n",
       "      <th>2</th>\n",
       "      <td>nike okundaye also knowns nike twins seven sev...</td>\n",
       "      <td>[#womengiant, #Documentwomen]</td>\n",
       "      <td>quality</td>\n",
       "      <td>nike</td>\n",
       "    </tr>\n",
       "    <tr>\n",
       "      <th>3</th>\n",
       "      <td>day four of maxmadness air max month nike air ...</td>\n",
       "      <td>[#maxmadness, #AirMaxMonth, #airmaxgang, #kotd...</td>\n",
       "      <td>quality</td>\n",
       "      <td>nike</td>\n",
       "    </tr>\n",
       "    <tr>\n",
       "      <th>4</th>\n",
       "      <td>thank you sir</td>\n",
       "      <td>[]</td>\n",
       "      <td>quality</td>\n",
       "      <td>nike</td>\n",
       "    </tr>\n",
       "  </tbody>\n",
       "</table>\n",
       "</div>"
      ],
      "text/plain": [
       "                                                text  \\\n",
       "0  nobody cares about nike in russia russia is al...   \n",
       "1  ye green nike hoodie waala two weeks pehle put...   \n",
       "2  nike okundaye also knowns nike twins seven sev...   \n",
       "3  day four of maxmadness air max month nike air ...   \n",
       "4                                      thank you sir   \n",
       "\n",
       "                                            hashtags brand_attribute brand  \n",
       "0                                                 []         quality  nike  \n",
       "1                                                 []         quality  nike  \n",
       "2                      [#womengiant, #Documentwomen]         quality  nike  \n",
       "3  [#maxmadness, #AirMaxMonth, #airmaxgang, #kotd...         quality  nike  \n",
       "4                                                 []         quality  nike  "
      ]
     },
     "execution_count": 54,
     "metadata": {},
     "output_type": "execute_result"
    }
   ],
   "source": [
    "nike_tw.head()"
   ]
  },
  {
   "cell_type": "markdown",
   "id": "2ea01eec",
   "metadata": {},
   "source": [
    "#### Columna 'brand' para los datos de Adidas."
   ]
  },
  {
   "cell_type": "code",
   "execution_count": 55,
   "id": "ac5fe6a8",
   "metadata": {},
   "outputs": [
    {
     "data": {
      "text/html": [
       "<div>\n",
       "<style scoped>\n",
       "    .dataframe tbody tr th:only-of-type {\n",
       "        vertical-align: middle;\n",
       "    }\n",
       "\n",
       "    .dataframe tbody tr th {\n",
       "        vertical-align: top;\n",
       "    }\n",
       "\n",
       "    .dataframe thead th {\n",
       "        text-align: right;\n",
       "    }\n",
       "</style>\n",
       "<table border=\"1\" class=\"dataframe\">\n",
       "  <thead>\n",
       "    <tr style=\"text-align: right;\">\n",
       "      <th></th>\n",
       "      <th>text</th>\n",
       "      <th>hashtags</th>\n",
       "      <th>brand_attribute</th>\n",
       "    </tr>\n",
       "  </thead>\n",
       "  <tbody>\n",
       "    <tr>\n",
       "      <th>0</th>\n",
       "      <td>because my lad is a div he won t wear adidas o...</td>\n",
       "      <td>[]</td>\n",
       "      <td>quality</td>\n",
       "    </tr>\n",
       "    <tr>\n",
       "      <th>1</th>\n",
       "      <td>beside wrong nameset its like fake shirts spac...</td>\n",
       "      <td>[]</td>\n",
       "      <td>quality</td>\n",
       "    </tr>\n",
       "    <tr>\n",
       "      <th>2</th>\n",
       "      <td>yes dude sa adidas website mismo yang link sa ...</td>\n",
       "      <td>[]</td>\n",
       "      <td>quality</td>\n",
       "    </tr>\n",
       "    <tr>\n",
       "      <th>3</th>\n",
       "      <td>footlocker is solely focusing on only selling ...</td>\n",
       "      <td>[]</td>\n",
       "      <td>quality</td>\n",
       "    </tr>\n",
       "    <tr>\n",
       "      <th>4</th>\n",
       "      <td>adidas yeezy boost three five zero pirate blac...</td>\n",
       "      <td>[]</td>\n",
       "      <td>price</td>\n",
       "    </tr>\n",
       "  </tbody>\n",
       "</table>\n",
       "</div>"
      ],
      "text/plain": [
       "                                                text hashtags brand_attribute\n",
       "0  because my lad is a div he won t wear adidas o...       []         quality\n",
       "1  beside wrong nameset its like fake shirts spac...       []         quality\n",
       "2  yes dude sa adidas website mismo yang link sa ...       []         quality\n",
       "3  footlocker is solely focusing on only selling ...       []         quality\n",
       "4  adidas yeezy boost three five zero pirate blac...       []           price"
      ]
     },
     "execution_count": 55,
     "metadata": {},
     "output_type": "execute_result"
    }
   ],
   "source": [
    "adidas_tw.head()"
   ]
  },
  {
   "cell_type": "code",
   "execution_count": 56,
   "id": "48f5d7ff",
   "metadata": {},
   "outputs": [],
   "source": [
    "adidas_tw = adidas_tw.assign(brand='adidas')"
   ]
  },
  {
   "cell_type": "code",
   "execution_count": 57,
   "id": "f39d18ef",
   "metadata": {
    "scrolled": true
   },
   "outputs": [
    {
     "data": {
      "text/html": [
       "<div>\n",
       "<style scoped>\n",
       "    .dataframe tbody tr th:only-of-type {\n",
       "        vertical-align: middle;\n",
       "    }\n",
       "\n",
       "    .dataframe tbody tr th {\n",
       "        vertical-align: top;\n",
       "    }\n",
       "\n",
       "    .dataframe thead th {\n",
       "        text-align: right;\n",
       "    }\n",
       "</style>\n",
       "<table border=\"1\" class=\"dataframe\">\n",
       "  <thead>\n",
       "    <tr style=\"text-align: right;\">\n",
       "      <th></th>\n",
       "      <th>text</th>\n",
       "      <th>hashtags</th>\n",
       "      <th>brand_attribute</th>\n",
       "      <th>brand</th>\n",
       "    </tr>\n",
       "  </thead>\n",
       "  <tbody>\n",
       "    <tr>\n",
       "      <th>0</th>\n",
       "      <td>because my lad is a div he won t wear adidas o...</td>\n",
       "      <td>[]</td>\n",
       "      <td>quality</td>\n",
       "      <td>adidas</td>\n",
       "    </tr>\n",
       "    <tr>\n",
       "      <th>1</th>\n",
       "      <td>beside wrong nameset its like fake shirts spac...</td>\n",
       "      <td>[]</td>\n",
       "      <td>quality</td>\n",
       "      <td>adidas</td>\n",
       "    </tr>\n",
       "    <tr>\n",
       "      <th>2</th>\n",
       "      <td>yes dude sa adidas website mismo yang link sa ...</td>\n",
       "      <td>[]</td>\n",
       "      <td>quality</td>\n",
       "      <td>adidas</td>\n",
       "    </tr>\n",
       "    <tr>\n",
       "      <th>3</th>\n",
       "      <td>footlocker is solely focusing on only selling ...</td>\n",
       "      <td>[]</td>\n",
       "      <td>quality</td>\n",
       "      <td>adidas</td>\n",
       "    </tr>\n",
       "    <tr>\n",
       "      <th>4</th>\n",
       "      <td>adidas yeezy boost three five zero pirate blac...</td>\n",
       "      <td>[]</td>\n",
       "      <td>price</td>\n",
       "      <td>adidas</td>\n",
       "    </tr>\n",
       "  </tbody>\n",
       "</table>\n",
       "</div>"
      ],
      "text/plain": [
       "                                                text hashtags brand_attribute  \\\n",
       "0  because my lad is a div he won t wear adidas o...       []         quality   \n",
       "1  beside wrong nameset its like fake shirts spac...       []         quality   \n",
       "2  yes dude sa adidas website mismo yang link sa ...       []         quality   \n",
       "3  footlocker is solely focusing on only selling ...       []         quality   \n",
       "4  adidas yeezy boost three five zero pirate blac...       []           price   \n",
       "\n",
       "    brand  \n",
       "0  adidas  \n",
       "1  adidas  \n",
       "2  adidas  \n",
       "3  adidas  \n",
       "4  adidas  "
      ]
     },
     "execution_count": 57,
     "metadata": {},
     "output_type": "execute_result"
    }
   ],
   "source": [
    "adidas_tw.head()"
   ]
  },
  {
   "cell_type": "markdown",
   "id": "5ba59e01",
   "metadata": {},
   "source": [
    "#### Generamos dataset completo."
   ]
  },
  {
   "cell_type": "code",
   "execution_count": 58,
   "id": "f7289230",
   "metadata": {},
   "outputs": [],
   "source": [
    "brands_tw = pd.concat([nike_tw, adidas_tw])"
   ]
  },
  {
   "cell_type": "code",
   "execution_count": 59,
   "id": "54e126c7",
   "metadata": {},
   "outputs": [
    {
     "data": {
      "text/plain": [
       "adidas    29280\n",
       "nike      29276\n",
       "Name: brand, dtype: int64"
      ]
     },
     "execution_count": 59,
     "metadata": {},
     "output_type": "execute_result"
    }
   ],
   "source": [
    "brands_tw.brand.value_counts()"
   ]
  },
  {
   "cell_type": "markdown",
   "id": "8befbfc6",
   "metadata": {},
   "source": [
    "#### Exportamos el dataset completo."
   ]
  },
  {
   "cell_type": "code",
   "execution_count": 60,
   "id": "6668f301",
   "metadata": {},
   "outputs": [],
   "source": [
    "brands_tw.to_csv('data/brands.csv', index = False)"
   ]
  },
  {
   "cell_type": "code",
   "execution_count": 61,
   "id": "d60574a6",
   "metadata": {},
   "outputs": [],
   "source": [
    "# Exportamos con pickle para mantener todas las propiedades del DataFrame.\n",
    "\n",
    "brands_tw.to_pickle('data/brands.pkl')"
   ]
  }
 ],
 "metadata": {
  "kernelspec": {
   "display_name": "ironhack",
   "language": "python",
   "name": "myenv"
  },
  "language_info": {
   "codemirror_mode": {
    "name": "ipython",
    "version": 3
   },
   "file_extension": ".py",
   "mimetype": "text/x-python",
   "name": "python",
   "nbconvert_exporter": "python",
   "pygments_lexer": "ipython3",
   "version": "3.8.5"
  }
 },
 "nbformat": 4,
 "nbformat_minor": 5
}
