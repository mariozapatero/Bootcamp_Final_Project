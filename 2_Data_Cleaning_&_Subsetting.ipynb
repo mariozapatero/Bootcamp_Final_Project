{
 "cells": [
  {
   "cell_type": "markdown",
   "id": "28f23731",
   "metadata": {},
   "source": [
    "# Data Cleaning."
   ]
  },
  {
   "cell_type": "code",
   "execution_count": 1,
   "id": "53bb75f6",
   "metadata": {},
   "outputs": [],
   "source": [
    "import pandas as pd\n",
    "\n",
    "from src.cleaning_functions import *\n",
    "\n",
    "from src.text_functions import *"
   ]
  },
  {
   "cell_type": "markdown",
   "id": "7f198dcd",
   "metadata": {},
   "source": [
    "**ÍNDICE:**\n",
    "1. Nike data.\n",
    "    - Exploración inicial de los datos.\n",
    "    - Hashtags.\n",
    "    - Preparing Data.\n",
    "    - Subsets.\n",
    "\n",
    "\n",
    "\n",
    "2. Adidas data.\n",
    "    - Exploración inicial de los datos.\n",
    "    - Hashtags.\n",
    "    - Preparing Data.\n",
    "    - Subsets.\n",
    "\n",
    "\n",
    "\n",
    "3. Dataset Completo.\n"
   ]
  },
  {
   "cell_type": "markdown",
   "id": "05474132",
   "metadata": {},
   "source": [
    "## Nike data."
   ]
  },
  {
   "cell_type": "code",
   "execution_count": 2,
   "id": "fdeebd13",
   "metadata": {},
   "outputs": [],
   "source": [
    "nike = pd.read_csv('data/nike.csv')"
   ]
  },
  {
   "cell_type": "code",
   "execution_count": 3,
   "id": "5f18168e",
   "metadata": {},
   "outputs": [],
   "source": [
    "nike_tw = pd.DataFrame(nike.text)"
   ]
  },
  {
   "cell_type": "markdown",
   "id": "4ec994ce",
   "metadata": {},
   "source": [
    "### Exploración inicial de los datos:"
   ]
  },
  {
   "cell_type": "code",
   "execution_count": 4,
   "id": "312aeb6f",
   "metadata": {},
   "outputs": [
    {
     "data": {
      "text/plain": [
       "(29804, 1)"
      ]
     },
     "execution_count": 4,
     "metadata": {},
     "output_type": "execute_result"
    }
   ],
   "source": [
    "nike_tw.shape"
   ]
  },
  {
   "cell_type": "code",
   "execution_count": 5,
   "id": "9d2f55fa",
   "metadata": {},
   "outputs": [
    {
     "name": "stdout",
     "output_type": "stream",
     "text": [
      "<class 'pandas.core.frame.DataFrame'>\n",
      "RangeIndex: 29804 entries, 0 to 29803\n",
      "Data columns (total 1 columns):\n",
      " #   Column  Non-Null Count  Dtype \n",
      "---  ------  --------------  ----- \n",
      " 0   text    29804 non-null  object\n",
      "dtypes: object(1)\n",
      "memory usage: 233.0+ KB\n"
     ]
    }
   ],
   "source": [
    "nike_tw.info()"
   ]
  },
  {
   "cell_type": "code",
   "execution_count": 6,
   "id": "5bf22bd7",
   "metadata": {},
   "outputs": [
    {
     "data": {
      "text/html": [
       "<div>\n",
       "<style scoped>\n",
       "    .dataframe tbody tr th:only-of-type {\n",
       "        vertical-align: middle;\n",
       "    }\n",
       "\n",
       "    .dataframe tbody tr th {\n",
       "        vertical-align: top;\n",
       "    }\n",
       "\n",
       "    .dataframe thead th {\n",
       "        text-align: right;\n",
       "    }\n",
       "</style>\n",
       "<table border=\"1\" class=\"dataframe\">\n",
       "  <thead>\n",
       "    <tr style=\"text-align: right;\">\n",
       "      <th></th>\n",
       "      <th>text</th>\n",
       "    </tr>\n",
       "  </thead>\n",
       "  <tbody>\n",
       "    <tr>\n",
       "      <th>count</th>\n",
       "      <td>29804</td>\n",
       "    </tr>\n",
       "    <tr>\n",
       "      <th>unique</th>\n",
       "      <td>29276</td>\n",
       "    </tr>\n",
       "    <tr>\n",
       "      <th>top</th>\n",
       "      <td>@whatudohazz nike</td>\n",
       "    </tr>\n",
       "    <tr>\n",
       "      <th>freq</th>\n",
       "      <td>59</td>\n",
       "    </tr>\n",
       "  </tbody>\n",
       "</table>\n",
       "</div>"
      ],
      "text/plain": [
       "                     text\n",
       "count               29804\n",
       "unique              29276\n",
       "top     @whatudohazz nike\n",
       "freq                   59"
      ]
     },
     "execution_count": 6,
     "metadata": {},
     "output_type": "execute_result"
    }
   ],
   "source": [
    "nike_tw.describe()"
   ]
  },
  {
   "cell_type": "code",
   "execution_count": 7,
   "id": "bd68dfdf",
   "metadata": {},
   "outputs": [
    {
     "data": {
      "text/plain": [
       "text    0\n",
       "dtype: int64"
      ]
     },
     "execution_count": 7,
     "metadata": {},
     "output_type": "execute_result"
    }
   ],
   "source": [
    "nike_tw.isnull().sum()  # No existen nulos."
   ]
  },
  {
   "cell_type": "code",
   "execution_count": 8,
   "id": "b425e884",
   "metadata": {},
   "outputs": [
    {
     "data": {
      "text/plain": [
       "528"
      ]
     },
     "execution_count": 8,
     "metadata": {},
     "output_type": "execute_result"
    }
   ],
   "source": [
    "nike_tw.duplicated().sum() # Encontramos 528 valores duplicados."
   ]
  },
  {
   "cell_type": "code",
   "execution_count": 9,
   "id": "fe0f2ffd",
   "metadata": {},
   "outputs": [],
   "source": [
    "drop_duplicates(nike_tw) # Eliminamos los valores duplicados."
   ]
  },
  {
   "cell_type": "code",
   "execution_count": 10,
   "id": "215837a4",
   "metadata": {},
   "outputs": [
    {
     "data": {
      "text/plain": [
       "(29276, 1)"
      ]
     },
     "execution_count": 10,
     "metadata": {},
     "output_type": "execute_result"
    }
   ],
   "source": [
    "nike_tw.shape"
   ]
  },
  {
   "cell_type": "markdown",
   "id": "55b90307",
   "metadata": {},
   "source": [
    "### Hashtags."
   ]
  },
  {
   "cell_type": "markdown",
   "id": "0021a99a",
   "metadata": {},
   "source": [
    "Queremos extraer los hastags de los tweets y almacenarlos en una nueva columna del DataFrame. Esto nos permitirá llevar a cabo un análisis específico de los hashtags una vez hecho el análisis del sentimiento de los tweets, relacionando el sentimiento con los hashtags utilizados en el tweet.\n",
    "\n",
    "*Posibles aplicaciones de este análisis:*\n",
    "- *Análisis del sentimiento de la conversación en torno a un hashtag específico (nos permite analizar la percepción acerca de una campaña online, un evento en directo o similares).*\n",
    "\n",
    "\n",
    "- *Ranking de hashtags con mayor sentimiento positivo o negativo.*\n",
    "\n",
    "\n",
    "- *Análisis de utilización de hashtags: podemos analizar elementos más básicos como los hashtags más frecuentes o incluso cruzarlo con otros datos extraídos (datetime de publicación, usuarios que publican el tweet...) para llegar a conclusiones relevantes.*"
   ]
  },
  {
   "cell_type": "code",
   "execution_count": 11,
   "id": "9fa36e16",
   "metadata": {},
   "outputs": [],
   "source": [
    "nike_tw['hashtags'] = nike_tw.text.apply(extract_hashtags)"
   ]
  },
  {
   "cell_type": "code",
   "execution_count": 12,
   "id": "96270d40",
   "metadata": {
    "scrolled": true
   },
   "outputs": [
    {
     "data": {
      "text/html": [
       "<div>\n",
       "<style scoped>\n",
       "    .dataframe tbody tr th:only-of-type {\n",
       "        vertical-align: middle;\n",
       "    }\n",
       "\n",
       "    .dataframe tbody tr th {\n",
       "        vertical-align: top;\n",
       "    }\n",
       "\n",
       "    .dataframe thead th {\n",
       "        text-align: right;\n",
       "    }\n",
       "</style>\n",
       "<table border=\"1\" class=\"dataframe\">\n",
       "  <thead>\n",
       "    <tr style=\"text-align: right;\">\n",
       "      <th></th>\n",
       "      <th>text</th>\n",
       "      <th>hashtags</th>\n",
       "    </tr>\n",
       "  </thead>\n",
       "  <tbody>\n",
       "    <tr>\n",
       "      <th>0</th>\n",
       "      <td>@ZubyMusic @LPMisesCaucus Nobody cares about N...</td>\n",
       "      <td>[]</td>\n",
       "    </tr>\n",
       "    <tr>\n",
       "      <th>1</th>\n",
       "      <td>@PoojaPraharaj @IndiainUkraine @PMOIndia @MEAI...</td>\n",
       "      <td>[]</td>\n",
       "    </tr>\n",
       "    <tr>\n",
       "      <th>2</th>\n",
       "      <td>@DocumentWomen Nike Okundaye. Also knowns Nike...</td>\n",
       "      <td>[#womengiant, #Documentwomen]</td>\n",
       "    </tr>\n",
       "    <tr>\n",
       "      <th>3</th>\n",
       "      <td>Day 4 of #maxmadness #AirMaxMonth \\nNike Air M...</td>\n",
       "      <td>[#maxmadness, #AirMaxMonth, #airmaxgang, #kotd...</td>\n",
       "    </tr>\n",
       "    <tr>\n",
       "      <th>4</th>\n",
       "      <td>@MagMr44 @soleguru @nikestore @Nike @SneakerAd...</td>\n",
       "      <td>[]</td>\n",
       "    </tr>\n",
       "  </tbody>\n",
       "</table>\n",
       "</div>"
      ],
      "text/plain": [
       "                                                text  \\\n",
       "0  @ZubyMusic @LPMisesCaucus Nobody cares about N...   \n",
       "1  @PoojaPraharaj @IndiainUkraine @PMOIndia @MEAI...   \n",
       "2  @DocumentWomen Nike Okundaye. Also knowns Nike...   \n",
       "3  Day 4 of #maxmadness #AirMaxMonth \\nNike Air M...   \n",
       "4  @MagMr44 @soleguru @nikestore @Nike @SneakerAd...   \n",
       "\n",
       "                                            hashtags  \n",
       "0                                                 []  \n",
       "1                                                 []  \n",
       "2                      [#womengiant, #Documentwomen]  \n",
       "3  [#maxmadness, #AirMaxMonth, #airmaxgang, #kotd...  \n",
       "4                                                 []  "
      ]
     },
     "execution_count": 12,
     "metadata": {},
     "output_type": "execute_result"
    }
   ],
   "source": [
    "nike_tw.head()"
   ]
  },
  {
   "cell_type": "markdown",
   "id": "ab367afe",
   "metadata": {},
   "source": [
    "### Preparing Data."
   ]
  },
  {
   "cell_type": "markdown",
   "id": "78260728",
   "metadata": {},
   "source": [
    "**Limpieza básica:**\n",
    "- Pasamos todo a minúsculas.\n",
    "- Eliminamos usuarios ('@ + user' ya que en principio el nombre de los usuarios no aporta información relevante para el modelo).\n",
    "- Eliminamos urls.\n",
    "- Convertimos dígitos a números escritos.\n",
    "- Convertimos $ en 'dollars' y € en 'euros.\n",
    "- Eliminamos valores no alfabéticos: # (aunque manteniendo el texto que viene después ya que puede contener información relevante), signos de puntuación...\n",
    "\n",
    "Esta limpieza se ejecutará a través de nuestra función `basic_cleaning()`."
   ]
  },
  {
   "cell_type": "code",
   "execution_count": 13,
   "id": "d790f995",
   "metadata": {},
   "outputs": [
    {
     "data": {
      "text/html": [
       "<div>\n",
       "<style scoped>\n",
       "    .dataframe tbody tr th:only-of-type {\n",
       "        vertical-align: middle;\n",
       "    }\n",
       "\n",
       "    .dataframe tbody tr th {\n",
       "        vertical-align: top;\n",
       "    }\n",
       "\n",
       "    .dataframe thead th {\n",
       "        text-align: right;\n",
       "    }\n",
       "</style>\n",
       "<table border=\"1\" class=\"dataframe\">\n",
       "  <thead>\n",
       "    <tr style=\"text-align: right;\">\n",
       "      <th></th>\n",
       "      <th>text</th>\n",
       "      <th>hashtags</th>\n",
       "    </tr>\n",
       "  </thead>\n",
       "  <tbody>\n",
       "    <tr>\n",
       "      <th>0</th>\n",
       "      <td>@ZubyMusic @LPMisesCaucus Nobody cares about N...</td>\n",
       "      <td>[]</td>\n",
       "    </tr>\n",
       "    <tr>\n",
       "      <th>1</th>\n",
       "      <td>@PoojaPraharaj @IndiainUkraine @PMOIndia @MEAI...</td>\n",
       "      <td>[]</td>\n",
       "    </tr>\n",
       "    <tr>\n",
       "      <th>2</th>\n",
       "      <td>@DocumentWomen Nike Okundaye. Also knowns Nike...</td>\n",
       "      <td>[#womengiant, #Documentwomen]</td>\n",
       "    </tr>\n",
       "    <tr>\n",
       "      <th>3</th>\n",
       "      <td>Day 4 of #maxmadness #AirMaxMonth \\nNike Air M...</td>\n",
       "      <td>[#maxmadness, #AirMaxMonth, #airmaxgang, #kotd...</td>\n",
       "    </tr>\n",
       "    <tr>\n",
       "      <th>4</th>\n",
       "      <td>@MagMr44 @soleguru @nikestore @Nike @SneakerAd...</td>\n",
       "      <td>[]</td>\n",
       "    </tr>\n",
       "  </tbody>\n",
       "</table>\n",
       "</div>"
      ],
      "text/plain": [
       "                                                text  \\\n",
       "0  @ZubyMusic @LPMisesCaucus Nobody cares about N...   \n",
       "1  @PoojaPraharaj @IndiainUkraine @PMOIndia @MEAI...   \n",
       "2  @DocumentWomen Nike Okundaye. Also knowns Nike...   \n",
       "3  Day 4 of #maxmadness #AirMaxMonth \\nNike Air M...   \n",
       "4  @MagMr44 @soleguru @nikestore @Nike @SneakerAd...   \n",
       "\n",
       "                                            hashtags  \n",
       "0                                                 []  \n",
       "1                                                 []  \n",
       "2                      [#womengiant, #Documentwomen]  \n",
       "3  [#maxmadness, #AirMaxMonth, #airmaxgang, #kotd...  \n",
       "4                                                 []  "
      ]
     },
     "execution_count": 13,
     "metadata": {},
     "output_type": "execute_result"
    }
   ],
   "source": [
    "nike_tw.head()"
   ]
  },
  {
   "cell_type": "code",
   "execution_count": 14,
   "id": "211d1822",
   "metadata": {},
   "outputs": [],
   "source": [
    "nike_tw['text'] = nike_tw.text.apply(basic_cleaning)"
   ]
  },
  {
   "cell_type": "code",
   "execution_count": 15,
   "id": "2e20950a",
   "metadata": {},
   "outputs": [
    {
     "data": {
      "text/html": [
       "<div>\n",
       "<style scoped>\n",
       "    .dataframe tbody tr th:only-of-type {\n",
       "        vertical-align: middle;\n",
       "    }\n",
       "\n",
       "    .dataframe tbody tr th {\n",
       "        vertical-align: top;\n",
       "    }\n",
       "\n",
       "    .dataframe thead th {\n",
       "        text-align: right;\n",
       "    }\n",
       "</style>\n",
       "<table border=\"1\" class=\"dataframe\">\n",
       "  <thead>\n",
       "    <tr style=\"text-align: right;\">\n",
       "      <th></th>\n",
       "      <th>text</th>\n",
       "      <th>hashtags</th>\n",
       "    </tr>\n",
       "  </thead>\n",
       "  <tbody>\n",
       "    <tr>\n",
       "      <th>0</th>\n",
       "      <td>nobody cares about nike in russia russia is al...</td>\n",
       "      <td>[]</td>\n",
       "    </tr>\n",
       "    <tr>\n",
       "      <th>1</th>\n",
       "      <td>ye green nike hoodie waala two weeks pehle put...</td>\n",
       "      <td>[]</td>\n",
       "    </tr>\n",
       "    <tr>\n",
       "      <th>2</th>\n",
       "      <td>nike okundaye also knowns nike twins seven sev...</td>\n",
       "      <td>[#womengiant, #Documentwomen]</td>\n",
       "    </tr>\n",
       "    <tr>\n",
       "      <th>3</th>\n",
       "      <td>day four of maxmadness air max month nike air ...</td>\n",
       "      <td>[#maxmadness, #AirMaxMonth, #airmaxgang, #kotd...</td>\n",
       "    </tr>\n",
       "    <tr>\n",
       "      <th>4</th>\n",
       "      <td>thank you sir</td>\n",
       "      <td>[]</td>\n",
       "    </tr>\n",
       "  </tbody>\n",
       "</table>\n",
       "</div>"
      ],
      "text/plain": [
       "                                                text  \\\n",
       "0  nobody cares about nike in russia russia is al...   \n",
       "1  ye green nike hoodie waala two weeks pehle put...   \n",
       "2  nike okundaye also knowns nike twins seven sev...   \n",
       "3  day four of maxmadness air max month nike air ...   \n",
       "4                                      thank you sir   \n",
       "\n",
       "                                            hashtags  \n",
       "0                                                 []  \n",
       "1                                                 []  \n",
       "2                      [#womengiant, #Documentwomen]  \n",
       "3  [#maxmadness, #AirMaxMonth, #airmaxgang, #kotd...  \n",
       "4                                                 []  "
      ]
     },
     "execution_count": 15,
     "metadata": {},
     "output_type": "execute_result"
    }
   ],
   "source": [
    "nike_tw.head()"
   ]
  },
  {
   "cell_type": "markdown",
   "id": "7c0c0783",
   "metadata": {},
   "source": [
    "### Subsets."
   ]
  },
  {
   "cell_type": "markdown",
   "id": "1b093513",
   "metadata": {},
   "source": [
    "En esta primera versión de la herramienta construiremos el mapa de posicionamiento en base a dos atributos de marca (variables): calidad y precio. Estos son los dos atributos básicos más utilizados de manera general en los mapas de posicionamiento (los mapas más sofisticados introducen ya otros atributos más específicos).\n",
    "\n",
    "Para poder completar el proceso de mapeo, lo primero que debemos hacer es dividir los datos (tweets recopilados) en dos subsets: los que hacen referencia al precio y los que hacen referencia a la calidad. Una vez subdivididos, ya podremos introducir los datos en el modelo NLP para evaluar el sentimiento en cada subset.\n",
    "\n",
    "La subdivisión nos permite diferenciar el sentimiento de los tweets que hablan del precio, del sentimiento en torno a la calidad general de la marca en cuestión. Esto es lo que haremos en esta etapa del proceso, en este caso sobre los tweets que mencionan a Nike."
   ]
  },
  {
   "cell_type": "markdown",
   "id": "13f588a6",
   "metadata": {},
   "source": [
    "1. Generamos una nueva columna que recoge la temática del tweet (atributo al que hace refencia)."
   ]
  },
  {
   "cell_type": "code",
   "execution_count": 16,
   "id": "6ed7e0d7",
   "metadata": {
    "scrolled": true
   },
   "outputs": [],
   "source": [
    "nike_tw['brand_attribute'] = nike_tw['text'].apply(data_groups)"
   ]
  },
  {
   "cell_type": "code",
   "execution_count": 17,
   "id": "179d6a1c",
   "metadata": {
    "scrolled": false
   },
   "outputs": [
    {
     "data": {
      "text/html": [
       "<div>\n",
       "<style scoped>\n",
       "    .dataframe tbody tr th:only-of-type {\n",
       "        vertical-align: middle;\n",
       "    }\n",
       "\n",
       "    .dataframe tbody tr th {\n",
       "        vertical-align: top;\n",
       "    }\n",
       "\n",
       "    .dataframe thead th {\n",
       "        text-align: right;\n",
       "    }\n",
       "</style>\n",
       "<table border=\"1\" class=\"dataframe\">\n",
       "  <thead>\n",
       "    <tr style=\"text-align: right;\">\n",
       "      <th></th>\n",
       "      <th>text</th>\n",
       "      <th>hashtags</th>\n",
       "      <th>brand_attribute</th>\n",
       "    </tr>\n",
       "  </thead>\n",
       "  <tbody>\n",
       "    <tr>\n",
       "      <th>0</th>\n",
       "      <td>nobody cares about nike in russia russia is al...</td>\n",
       "      <td>[]</td>\n",
       "      <td>quality</td>\n",
       "    </tr>\n",
       "    <tr>\n",
       "      <th>1</th>\n",
       "      <td>ye green nike hoodie waala two weeks pehle put...</td>\n",
       "      <td>[]</td>\n",
       "      <td>quality</td>\n",
       "    </tr>\n",
       "    <tr>\n",
       "      <th>2</th>\n",
       "      <td>nike okundaye also knowns nike twins seven sev...</td>\n",
       "      <td>[#womengiant, #Documentwomen]</td>\n",
       "      <td>quality</td>\n",
       "    </tr>\n",
       "    <tr>\n",
       "      <th>3</th>\n",
       "      <td>day four of maxmadness air max month nike air ...</td>\n",
       "      <td>[#maxmadness, #AirMaxMonth, #airmaxgang, #kotd...</td>\n",
       "      <td>quality</td>\n",
       "    </tr>\n",
       "    <tr>\n",
       "      <th>4</th>\n",
       "      <td>thank you sir</td>\n",
       "      <td>[]</td>\n",
       "      <td>quality</td>\n",
       "    </tr>\n",
       "  </tbody>\n",
       "</table>\n",
       "</div>"
      ],
      "text/plain": [
       "                                                text  \\\n",
       "0  nobody cares about nike in russia russia is al...   \n",
       "1  ye green nike hoodie waala two weeks pehle put...   \n",
       "2  nike okundaye also knowns nike twins seven sev...   \n",
       "3  day four of maxmadness air max month nike air ...   \n",
       "4                                      thank you sir   \n",
       "\n",
       "                                            hashtags brand_attribute  \n",
       "0                                                 []         quality  \n",
       "1                                                 []         quality  \n",
       "2                      [#womengiant, #Documentwomen]         quality  \n",
       "3  [#maxmadness, #AirMaxMonth, #airmaxgang, #kotd...         quality  \n",
       "4                                                 []         quality  "
      ]
     },
     "execution_count": 17,
     "metadata": {},
     "output_type": "execute_result"
    }
   ],
   "source": [
    "nike_tw.head()"
   ]
  },
  {
   "cell_type": "code",
   "execution_count": 18,
   "id": "18280c29",
   "metadata": {},
   "outputs": [
    {
     "data": {
      "text/plain": [
       "quality    23892\n",
       "price       5384\n",
       "Name: brand_attribute, dtype: int64"
      ]
     },
     "execution_count": 18,
     "metadata": {},
     "output_type": "execute_result"
    }
   ],
   "source": [
    "nike_tw.brand_attribute.value_counts()"
   ]
  },
  {
   "cell_type": "markdown",
   "id": "76aa8f3a",
   "metadata": {},
   "source": [
    "2. Exportamos los subsets de Nike (uno de calidad y otro de precio).\n",
    "\n",
    "    2.1. Precio:"
   ]
  },
  {
   "cell_type": "code",
   "execution_count": 19,
   "id": "3eb8d170",
   "metadata": {},
   "outputs": [],
   "source": [
    "nike_price = pd.DataFrame(nike_tw.where(nike_tw.brand_attribute=='price').dropna().drop('brand_attribute',axis=1))"
   ]
  },
  {
   "cell_type": "code",
   "execution_count": 20,
   "id": "94003970",
   "metadata": {},
   "outputs": [
    {
     "data": {
      "text/plain": [
       "text        0\n",
       "hashtags    0\n",
       "dtype: int64"
      ]
     },
     "execution_count": 20,
     "metadata": {},
     "output_type": "execute_result"
    }
   ],
   "source": [
    "nike_price.isnull().sum()"
   ]
  },
  {
   "cell_type": "code",
   "execution_count": 21,
   "id": "b33d7fb4",
   "metadata": {},
   "outputs": [
    {
     "data": {
      "text/plain": [
       "(5384, 2)"
      ]
     },
     "execution_count": 21,
     "metadata": {},
     "output_type": "execute_result"
    }
   ],
   "source": [
    "nike_price.shape"
   ]
  },
  {
   "cell_type": "code",
   "execution_count": 22,
   "id": "e51cb9bf",
   "metadata": {},
   "outputs": [],
   "source": [
    "# Exportamos el subset de precio.\n",
    "\n",
    "nike_price.to_csv('data/nike_price.csv', index = False)"
   ]
  },
  {
   "cell_type": "markdown",
   "id": "c7c8ded5",
   "metadata": {},
   "source": [
    "    2.2. Calidad:"
   ]
  },
  {
   "cell_type": "code",
   "execution_count": 23,
   "id": "f80a0ea2",
   "metadata": {},
   "outputs": [],
   "source": [
    "nike_quality = pd.DataFrame(nike_tw.where(nike_tw.brand_attribute=='quality').dropna().drop('brand_attribute',axis=1))"
   ]
  },
  {
   "cell_type": "code",
   "execution_count": 24,
   "id": "aeabc8e7",
   "metadata": {},
   "outputs": [
    {
     "data": {
      "text/plain": [
       "text        0\n",
       "hashtags    0\n",
       "dtype: int64"
      ]
     },
     "execution_count": 24,
     "metadata": {},
     "output_type": "execute_result"
    }
   ],
   "source": [
    "nike_quality.isnull().sum()"
   ]
  },
  {
   "cell_type": "code",
   "execution_count": 25,
   "id": "091e85d8",
   "metadata": {},
   "outputs": [
    {
     "data": {
      "text/plain": [
       "(23892, 2)"
      ]
     },
     "execution_count": 25,
     "metadata": {},
     "output_type": "execute_result"
    }
   ],
   "source": [
    "nike_quality.shape"
   ]
  },
  {
   "cell_type": "code",
   "execution_count": 26,
   "id": "ef4909d1",
   "metadata": {},
   "outputs": [],
   "source": [
    "# Exportamos el subset de calidad.\n",
    "\n",
    "nike_quality.to_csv('data/nike_quality.csv', index = False)"
   ]
  },
  {
   "cell_type": "markdown",
   "id": "f4247713",
   "metadata": {},
   "source": [
    "**Nota importante:**\n",
    "\n",
    "Aunque hemos exportado cada subset en archivos csv independientes (lo tenemos guardado de manera desagregada), en realidad trabajaremos con un único DataFrame que contenga todos los tweets analizados (los de todas las marcas y todos los atributos). En este DataFrame recogeremos en una columna la marca a la que hacen referencia y en otra columna el atributo al que se refieren (calidad y precio). Esto lo hacemos así porque nos permitirá agilizar mucho los procesos de visualización de resultados y obtener gráficos de mejor calidad (podremos filtrar en función de la marca y el atributo, al tiempo que manejamos un único DataFrame para mayor eficiencia)."
   ]
  },
  {
   "cell_type": "markdown",
   "id": "e1e29638",
   "metadata": {},
   "source": [
    "## Adidas data."
   ]
  },
  {
   "cell_type": "code",
   "execution_count": 27,
   "id": "f8c45f0b",
   "metadata": {},
   "outputs": [],
   "source": [
    "adidas = pd.read_csv('data/adidas.csv')"
   ]
  },
  {
   "cell_type": "code",
   "execution_count": 28,
   "id": "cd1fcd89",
   "metadata": {},
   "outputs": [],
   "source": [
    "adidas_tw = pd.DataFrame(adidas.text)"
   ]
  },
  {
   "cell_type": "markdown",
   "id": "5f35587f",
   "metadata": {},
   "source": [
    "### Exploración inicial de los datos:"
   ]
  },
  {
   "cell_type": "code",
   "execution_count": 29,
   "id": "fde0c642",
   "metadata": {},
   "outputs": [
    {
     "data": {
      "text/plain": [
       "(29816, 1)"
      ]
     },
     "execution_count": 29,
     "metadata": {},
     "output_type": "execute_result"
    }
   ],
   "source": [
    "adidas_tw.shape"
   ]
  },
  {
   "cell_type": "code",
   "execution_count": 30,
   "id": "d424993b",
   "metadata": {},
   "outputs": [
    {
     "name": "stdout",
     "output_type": "stream",
     "text": [
      "<class 'pandas.core.frame.DataFrame'>\n",
      "RangeIndex: 29816 entries, 0 to 29815\n",
      "Data columns (total 1 columns):\n",
      " #   Column  Non-Null Count  Dtype \n",
      "---  ------  --------------  ----- \n",
      " 0   text    29816 non-null  object\n",
      "dtypes: object(1)\n",
      "memory usage: 233.1+ KB\n"
     ]
    }
   ],
   "source": [
    "adidas_tw.info()"
   ]
  },
  {
   "cell_type": "code",
   "execution_count": 31,
   "id": "871cfcf3",
   "metadata": {},
   "outputs": [
    {
     "data": {
      "text/html": [
       "<div>\n",
       "<style scoped>\n",
       "    .dataframe tbody tr th:only-of-type {\n",
       "        vertical-align: middle;\n",
       "    }\n",
       "\n",
       "    .dataframe tbody tr th {\n",
       "        vertical-align: top;\n",
       "    }\n",
       "\n",
       "    .dataframe thead th {\n",
       "        text-align: right;\n",
       "    }\n",
       "</style>\n",
       "<table border=\"1\" class=\"dataframe\">\n",
       "  <thead>\n",
       "    <tr style=\"text-align: right;\">\n",
       "      <th></th>\n",
       "      <th>text</th>\n",
       "    </tr>\n",
       "  </thead>\n",
       "  <tbody>\n",
       "    <tr>\n",
       "      <th>count</th>\n",
       "      <td>29816</td>\n",
       "    </tr>\n",
       "    <tr>\n",
       "      <th>unique</th>\n",
       "      <td>29280</td>\n",
       "    </tr>\n",
       "    <tr>\n",
       "      <th>top</th>\n",
       "      <td>@whatudohazz nike</td>\n",
       "    </tr>\n",
       "    <tr>\n",
       "      <th>freq</th>\n",
       "      <td>60</td>\n",
       "    </tr>\n",
       "  </tbody>\n",
       "</table>\n",
       "</div>"
      ],
      "text/plain": [
       "                     text\n",
       "count               29816\n",
       "unique              29280\n",
       "top     @whatudohazz nike\n",
       "freq                   60"
      ]
     },
     "execution_count": 31,
     "metadata": {},
     "output_type": "execute_result"
    }
   ],
   "source": [
    "adidas_tw.describe()"
   ]
  },
  {
   "cell_type": "code",
   "execution_count": 32,
   "id": "9916e2a3",
   "metadata": {},
   "outputs": [
    {
     "data": {
      "text/plain": [
       "text    0\n",
       "dtype: int64"
      ]
     },
     "execution_count": 32,
     "metadata": {},
     "output_type": "execute_result"
    }
   ],
   "source": [
    "adidas_tw.isnull().sum()  # No existen nulos."
   ]
  },
  {
   "cell_type": "code",
   "execution_count": 33,
   "id": "aa5d43ee",
   "metadata": {},
   "outputs": [
    {
     "data": {
      "text/plain": [
       "536"
      ]
     },
     "execution_count": 33,
     "metadata": {},
     "output_type": "execute_result"
    }
   ],
   "source": [
    "adidas_tw.duplicated().sum() # Encontramos 536 valores duplicados."
   ]
  },
  {
   "cell_type": "code",
   "execution_count": 34,
   "id": "b67da4aa",
   "metadata": {},
   "outputs": [],
   "source": [
    "drop_duplicates(adidas_tw) # Eliminamos los valores duplicados."
   ]
  },
  {
   "cell_type": "code",
   "execution_count": 35,
   "id": "45466f23",
   "metadata": {},
   "outputs": [
    {
     "data": {
      "text/plain": [
       "(29280, 1)"
      ]
     },
     "execution_count": 35,
     "metadata": {},
     "output_type": "execute_result"
    }
   ],
   "source": [
    "adidas_tw.shape"
   ]
  },
  {
   "cell_type": "markdown",
   "id": "08cc0f4c",
   "metadata": {},
   "source": [
    "### Hashtags."
   ]
  },
  {
   "cell_type": "markdown",
   "id": "0364a316",
   "metadata": {},
   "source": [
    "Queremos extraer los hastags de los tweets y almacenarlos en una nueva columna del DataFrame. Esto nos permitirá llevar a cabo un análisis específico de los hashtags una vez hecho el análisis del sentimiento de los tweets, relacionando el sentimiento con los hashtags utilizados en el tweet."
   ]
  },
  {
   "cell_type": "code",
   "execution_count": 36,
   "id": "3b745847",
   "metadata": {},
   "outputs": [],
   "source": [
    "adidas_tw['hashtags'] = adidas_tw.text.apply(extract_hashtags)"
   ]
  },
  {
   "cell_type": "code",
   "execution_count": 37,
   "id": "41da28b0",
   "metadata": {
    "scrolled": true
   },
   "outputs": [
    {
     "data": {
      "text/html": [
       "<div>\n",
       "<style scoped>\n",
       "    .dataframe tbody tr th:only-of-type {\n",
       "        vertical-align: middle;\n",
       "    }\n",
       "\n",
       "    .dataframe tbody tr th {\n",
       "        vertical-align: top;\n",
       "    }\n",
       "\n",
       "    .dataframe thead th {\n",
       "        text-align: right;\n",
       "    }\n",
       "</style>\n",
       "<table border=\"1\" class=\"dataframe\">\n",
       "  <thead>\n",
       "    <tr style=\"text-align: right;\">\n",
       "      <th></th>\n",
       "      <th>text</th>\n",
       "      <th>hashtags</th>\n",
       "    </tr>\n",
       "  </thead>\n",
       "  <tbody>\n",
       "    <tr>\n",
       "      <th>0</th>\n",
       "      <td>@Coop8517 Because my lad is a div he won't wea...</td>\n",
       "      <td>[]</td>\n",
       "    </tr>\n",
       "    <tr>\n",
       "      <th>1</th>\n",
       "      <td>@shirtsinthshire beside wrong nameset, its lik...</td>\n",
       "      <td>[]</td>\n",
       "    </tr>\n",
       "    <tr>\n",
       "      <th>2</th>\n",
       "      <td>@ChefLerrie @Jakjakph1 Yes dude sa Adidas webs...</td>\n",
       "      <td>[]</td>\n",
       "    </tr>\n",
       "    <tr>\n",
       "      <th>3</th>\n",
       "      <td>Footlocker is solely focusing on only selling ...</td>\n",
       "      <td>[]</td>\n",
       "    </tr>\n",
       "    <tr>\n",
       "      <th>4</th>\n",
       "      <td>adidas Yeezy Boost 350 Pirate Black V1 (Infant...</td>\n",
       "      <td>[]</td>\n",
       "    </tr>\n",
       "  </tbody>\n",
       "</table>\n",
       "</div>"
      ],
      "text/plain": [
       "                                                text hashtags\n",
       "0  @Coop8517 Because my lad is a div he won't wea...       []\n",
       "1  @shirtsinthshire beside wrong nameset, its lik...       []\n",
       "2  @ChefLerrie @Jakjakph1 Yes dude sa Adidas webs...       []\n",
       "3  Footlocker is solely focusing on only selling ...       []\n",
       "4  adidas Yeezy Boost 350 Pirate Black V1 (Infant...       []"
      ]
     },
     "execution_count": 37,
     "metadata": {},
     "output_type": "execute_result"
    }
   ],
   "source": [
    "adidas_tw.head()"
   ]
  },
  {
   "cell_type": "markdown",
   "id": "e4f8678a",
   "metadata": {},
   "source": [
    "### Preparing Data."
   ]
  },
  {
   "cell_type": "markdown",
   "id": "8b5fb485",
   "metadata": {},
   "source": [
    "**Limpieza básica:**\n",
    "- Pasamos todo a minúsculas.\n",
    "- Eliminamos usuarios ('@ + user' ya que en principio el nombre de los usuarios no aporta información relevante para el modelo).\n",
    "- Eliminamos urls.\n",
    "- Convertimos dígitos a números escritos.\n",
    "- Convertimos $ en 'dollars' y € en 'euros.\n",
    "- Eliminamos valores no alfabéticos: # (aunque manteniendo el texto que viene después ya que puede contener información relevante), signos de puntuación...\n",
    "\n",
    "Esta limpieza se ejecutará a través de nuestra función `basic_cleaning()`."
   ]
  },
  {
   "cell_type": "code",
   "execution_count": 38,
   "id": "bc6f7400",
   "metadata": {},
   "outputs": [
    {
     "data": {
      "text/html": [
       "<div>\n",
       "<style scoped>\n",
       "    .dataframe tbody tr th:only-of-type {\n",
       "        vertical-align: middle;\n",
       "    }\n",
       "\n",
       "    .dataframe tbody tr th {\n",
       "        vertical-align: top;\n",
       "    }\n",
       "\n",
       "    .dataframe thead th {\n",
       "        text-align: right;\n",
       "    }\n",
       "</style>\n",
       "<table border=\"1\" class=\"dataframe\">\n",
       "  <thead>\n",
       "    <tr style=\"text-align: right;\">\n",
       "      <th></th>\n",
       "      <th>text</th>\n",
       "      <th>hashtags</th>\n",
       "    </tr>\n",
       "  </thead>\n",
       "  <tbody>\n",
       "    <tr>\n",
       "      <th>0</th>\n",
       "      <td>@Coop8517 Because my lad is a div he won't wea...</td>\n",
       "      <td>[]</td>\n",
       "    </tr>\n",
       "    <tr>\n",
       "      <th>1</th>\n",
       "      <td>@shirtsinthshire beside wrong nameset, its lik...</td>\n",
       "      <td>[]</td>\n",
       "    </tr>\n",
       "    <tr>\n",
       "      <th>2</th>\n",
       "      <td>@ChefLerrie @Jakjakph1 Yes dude sa Adidas webs...</td>\n",
       "      <td>[]</td>\n",
       "    </tr>\n",
       "    <tr>\n",
       "      <th>3</th>\n",
       "      <td>Footlocker is solely focusing on only selling ...</td>\n",
       "      <td>[]</td>\n",
       "    </tr>\n",
       "    <tr>\n",
       "      <th>4</th>\n",
       "      <td>adidas Yeezy Boost 350 Pirate Black V1 (Infant...</td>\n",
       "      <td>[]</td>\n",
       "    </tr>\n",
       "  </tbody>\n",
       "</table>\n",
       "</div>"
      ],
      "text/plain": [
       "                                                text hashtags\n",
       "0  @Coop8517 Because my lad is a div he won't wea...       []\n",
       "1  @shirtsinthshire beside wrong nameset, its lik...       []\n",
       "2  @ChefLerrie @Jakjakph1 Yes dude sa Adidas webs...       []\n",
       "3  Footlocker is solely focusing on only selling ...       []\n",
       "4  adidas Yeezy Boost 350 Pirate Black V1 (Infant...       []"
      ]
     },
     "execution_count": 38,
     "metadata": {},
     "output_type": "execute_result"
    }
   ],
   "source": [
    "adidas_tw.head()"
   ]
  },
  {
   "cell_type": "code",
   "execution_count": 39,
   "id": "05ed6f35",
   "metadata": {},
   "outputs": [],
   "source": [
    "adidas_tw['text'] = adidas_tw.text.apply(basic_cleaning)"
   ]
  },
  {
   "cell_type": "code",
   "execution_count": 40,
   "id": "5cfa87b0",
   "metadata": {
    "scrolled": true
   },
   "outputs": [
    {
     "data": {
      "text/html": [
       "<div>\n",
       "<style scoped>\n",
       "    .dataframe tbody tr th:only-of-type {\n",
       "        vertical-align: middle;\n",
       "    }\n",
       "\n",
       "    .dataframe tbody tr th {\n",
       "        vertical-align: top;\n",
       "    }\n",
       "\n",
       "    .dataframe thead th {\n",
       "        text-align: right;\n",
       "    }\n",
       "</style>\n",
       "<table border=\"1\" class=\"dataframe\">\n",
       "  <thead>\n",
       "    <tr style=\"text-align: right;\">\n",
       "      <th></th>\n",
       "      <th>text</th>\n",
       "      <th>hashtags</th>\n",
       "    </tr>\n",
       "  </thead>\n",
       "  <tbody>\n",
       "    <tr>\n",
       "      <th>0</th>\n",
       "      <td>because my lad is a div he won t wear adidas o...</td>\n",
       "      <td>[]</td>\n",
       "    </tr>\n",
       "    <tr>\n",
       "      <th>1</th>\n",
       "      <td>beside wrong nameset its like fake shirts spac...</td>\n",
       "      <td>[]</td>\n",
       "    </tr>\n",
       "    <tr>\n",
       "      <th>2</th>\n",
       "      <td>yes dude sa adidas website mismo yang link sa ...</td>\n",
       "      <td>[]</td>\n",
       "    </tr>\n",
       "    <tr>\n",
       "      <th>3</th>\n",
       "      <td>footlocker is solely focusing on only selling ...</td>\n",
       "      <td>[]</td>\n",
       "    </tr>\n",
       "    <tr>\n",
       "      <th>4</th>\n",
       "      <td>adidas yeezy boost three five zero pirate blac...</td>\n",
       "      <td>[]</td>\n",
       "    </tr>\n",
       "  </tbody>\n",
       "</table>\n",
       "</div>"
      ],
      "text/plain": [
       "                                                text hashtags\n",
       "0  because my lad is a div he won t wear adidas o...       []\n",
       "1  beside wrong nameset its like fake shirts spac...       []\n",
       "2  yes dude sa adidas website mismo yang link sa ...       []\n",
       "3  footlocker is solely focusing on only selling ...       []\n",
       "4  adidas yeezy boost three five zero pirate blac...       []"
      ]
     },
     "execution_count": 40,
     "metadata": {},
     "output_type": "execute_result"
    }
   ],
   "source": [
    "adidas_tw.head()"
   ]
  },
  {
   "cell_type": "markdown",
   "id": "c23a6717",
   "metadata": {},
   "source": [
    "### Subsets."
   ]
  },
  {
   "cell_type": "markdown",
   "id": "5daf9f8c",
   "metadata": {},
   "source": [
    "En esta primera versión de la herramienta construiremos el mapa de posicionamiento en base a dos atributos de marca (variables): calidad y precio. Estos son los dos atributos básicos más utilizados de manera general en los mapas de posicionamiento (los mapas más sofisticados introducen ya otros atributos más específicos).\n",
    "\n",
    "Para poder completar el proceso de mapeo, lo primero que debemos hacer es dividir los datos (tweets recopilados) en dos subsets: los que hacen referencia al precio y los que hacen referencia a la calidad. Una vez subdivididos, ya podremos introducir los datos en el modelo NLP para evaluar el sentimiento en cada subset.\n",
    "\n",
    "La subdivisión nos permite diferenciar el sentimiento de los tweets que hablan del precio, del sentimiento en torno a la calidad general de la marca en cuestión. Ahora llevaremos a cabo este proceso sobre los tweets que mencionan a Adidas."
   ]
  },
  {
   "cell_type": "markdown",
   "id": "f8caa770",
   "metadata": {},
   "source": [
    "1. Generamos una nueva columna que recoge la temática del tweet (atributo al que hace refencia)."
   ]
  },
  {
   "cell_type": "code",
   "execution_count": 41,
   "id": "f037e6b6",
   "metadata": {
    "scrolled": true
   },
   "outputs": [],
   "source": [
    "adidas_tw['brand_attribute'] = adidas_tw['text'].apply(data_groups)"
   ]
  },
  {
   "cell_type": "code",
   "execution_count": 42,
   "id": "4ae9d77d",
   "metadata": {},
   "outputs": [
    {
     "data": {
      "text/html": [
       "<div>\n",
       "<style scoped>\n",
       "    .dataframe tbody tr th:only-of-type {\n",
       "        vertical-align: middle;\n",
       "    }\n",
       "\n",
       "    .dataframe tbody tr th {\n",
       "        vertical-align: top;\n",
       "    }\n",
       "\n",
       "    .dataframe thead th {\n",
       "        text-align: right;\n",
       "    }\n",
       "</style>\n",
       "<table border=\"1\" class=\"dataframe\">\n",
       "  <thead>\n",
       "    <tr style=\"text-align: right;\">\n",
       "      <th></th>\n",
       "      <th>text</th>\n",
       "      <th>hashtags</th>\n",
       "      <th>brand_attribute</th>\n",
       "    </tr>\n",
       "  </thead>\n",
       "  <tbody>\n",
       "    <tr>\n",
       "      <th>0</th>\n",
       "      <td>because my lad is a div he won t wear adidas o...</td>\n",
       "      <td>[]</td>\n",
       "      <td>quality</td>\n",
       "    </tr>\n",
       "    <tr>\n",
       "      <th>1</th>\n",
       "      <td>beside wrong nameset its like fake shirts spac...</td>\n",
       "      <td>[]</td>\n",
       "      <td>quality</td>\n",
       "    </tr>\n",
       "    <tr>\n",
       "      <th>2</th>\n",
       "      <td>yes dude sa adidas website mismo yang link sa ...</td>\n",
       "      <td>[]</td>\n",
       "      <td>quality</td>\n",
       "    </tr>\n",
       "    <tr>\n",
       "      <th>3</th>\n",
       "      <td>footlocker is solely focusing on only selling ...</td>\n",
       "      <td>[]</td>\n",
       "      <td>quality</td>\n",
       "    </tr>\n",
       "    <tr>\n",
       "      <th>4</th>\n",
       "      <td>adidas yeezy boost three five zero pirate blac...</td>\n",
       "      <td>[]</td>\n",
       "      <td>price</td>\n",
       "    </tr>\n",
       "  </tbody>\n",
       "</table>\n",
       "</div>"
      ],
      "text/plain": [
       "                                                text hashtags brand_attribute\n",
       "0  because my lad is a div he won t wear adidas o...       []         quality\n",
       "1  beside wrong nameset its like fake shirts spac...       []         quality\n",
       "2  yes dude sa adidas website mismo yang link sa ...       []         quality\n",
       "3  footlocker is solely focusing on only selling ...       []         quality\n",
       "4  adidas yeezy boost three five zero pirate blac...       []           price"
      ]
     },
     "execution_count": 42,
     "metadata": {},
     "output_type": "execute_result"
    }
   ],
   "source": [
    "adidas_tw.head()"
   ]
  },
  {
   "cell_type": "code",
   "execution_count": 43,
   "id": "6f602ad6",
   "metadata": {},
   "outputs": [
    {
     "data": {
      "text/plain": [
       "quality    23892\n",
       "price       5388\n",
       "Name: brand_attribute, dtype: int64"
      ]
     },
     "execution_count": 43,
     "metadata": {},
     "output_type": "execute_result"
    }
   ],
   "source": [
    "adidas_tw.brand_attribute.value_counts()"
   ]
  },
  {
   "cell_type": "markdown",
   "id": "04069d11",
   "metadata": {},
   "source": [
    "2. Generamos los subsets de Adidas (uno de calidad y otro de precio).\n",
    "\n",
    "    2.1. Precio:"
   ]
  },
  {
   "cell_type": "code",
   "execution_count": 44,
   "id": "9468907c",
   "metadata": {},
   "outputs": [],
   "source": [
    "adidas_price = pd.DataFrame(adidas_tw.where(adidas_tw.brand_attribute=='price').dropna().drop('brand_attribute',axis=1))"
   ]
  },
  {
   "cell_type": "code",
   "execution_count": 45,
   "id": "122dbf04",
   "metadata": {},
   "outputs": [
    {
     "data": {
      "text/plain": [
       "text        0\n",
       "hashtags    0\n",
       "dtype: int64"
      ]
     },
     "execution_count": 45,
     "metadata": {},
     "output_type": "execute_result"
    }
   ],
   "source": [
    "adidas_price.isnull().sum()"
   ]
  },
  {
   "cell_type": "code",
   "execution_count": 46,
   "id": "8c0576fc",
   "metadata": {},
   "outputs": [
    {
     "data": {
      "text/plain": [
       "(5388, 2)"
      ]
     },
     "execution_count": 46,
     "metadata": {},
     "output_type": "execute_result"
    }
   ],
   "source": [
    "adidas_price.shape"
   ]
  },
  {
   "cell_type": "code",
   "execution_count": 47,
   "id": "d134d3c1",
   "metadata": {},
   "outputs": [],
   "source": [
    "# Exportamos el subset de precio.\n",
    "\n",
    "adidas_price.to_csv('data/adidas_price.csv', index = False)"
   ]
  },
  {
   "cell_type": "markdown",
   "id": "3a6d7439",
   "metadata": {},
   "source": [
    "    2.2. Calidad:"
   ]
  },
  {
   "cell_type": "code",
   "execution_count": 48,
   "id": "8b04c20c",
   "metadata": {},
   "outputs": [],
   "source": [
    "adidas_quality = pd.DataFrame(adidas_tw.where(adidas_tw.brand_attribute=='quality').dropna().drop('brand_attribute',axis=1))"
   ]
  },
  {
   "cell_type": "code",
   "execution_count": 49,
   "id": "d84d22f3",
   "metadata": {},
   "outputs": [
    {
     "data": {
      "text/plain": [
       "text        0\n",
       "hashtags    0\n",
       "dtype: int64"
      ]
     },
     "execution_count": 49,
     "metadata": {},
     "output_type": "execute_result"
    }
   ],
   "source": [
    "adidas_quality.isnull().sum()"
   ]
  },
  {
   "cell_type": "code",
   "execution_count": 50,
   "id": "c27c3ba2",
   "metadata": {},
   "outputs": [
    {
     "data": {
      "text/plain": [
       "(23892, 2)"
      ]
     },
     "execution_count": 50,
     "metadata": {},
     "output_type": "execute_result"
    }
   ],
   "source": [
    "adidas_quality.shape"
   ]
  },
  {
   "cell_type": "code",
   "execution_count": 51,
   "id": "0d662d56",
   "metadata": {},
   "outputs": [],
   "source": [
    "# Exportamos el subset de calidad.\n",
    "\n",
    "adidas_quality.to_csv('data/adidas_quality.csv', index = False)"
   ]
  },
  {
   "cell_type": "markdown",
   "id": "034002ab",
   "metadata": {},
   "source": [
    "**Nota importante:**\n",
    "\n",
    "Aunque hemos exportado cada subset en archivos csv independientes (lo tenemos guardado de manera desagregada), en realidad trabajaremos con un único DataFrame que contenga todos los tweets analizados (los de todas las marcas y todos los atributos). En este DataFrame recogeremos en una columna la marca a la que hacen referencia y en otra columna el atributo al que se refieren (calidad y precio). Esto lo hacemos así porque nos permitirá agilizar mucho los procesos de visualización de resultados y obtener gráficos de mejor calidad (podremos filtrar en función de la marca y el atributo, al tiempo que manejamos un único DataFrame para mayor eficiencia)."
   ]
  },
  {
   "cell_type": "markdown",
   "id": "d2323006",
   "metadata": {},
   "source": [
    "## Asics data."
   ]
  },
  {
   "cell_type": "code",
   "execution_count": 52,
   "id": "6744b37a",
   "metadata": {},
   "outputs": [],
   "source": [
    "asics = pd.read_csv('data/asics.csv')"
   ]
  },
  {
   "cell_type": "code",
   "execution_count": 53,
   "id": "17c7d3d2",
   "metadata": {},
   "outputs": [],
   "source": [
    "asics_tw = pd.DataFrame(asics.text)"
   ]
  },
  {
   "cell_type": "markdown",
   "id": "5c9fcd10",
   "metadata": {},
   "source": [
    "### Exploración inicial de los datos:"
   ]
  },
  {
   "cell_type": "code",
   "execution_count": 54,
   "id": "8d8aef8b",
   "metadata": {},
   "outputs": [
    {
     "data": {
      "text/plain": [
       "(1999, 1)"
      ]
     },
     "execution_count": 54,
     "metadata": {},
     "output_type": "execute_result"
    }
   ],
   "source": [
    "asics_tw.shape"
   ]
  },
  {
   "cell_type": "code",
   "execution_count": 55,
   "id": "65e61553",
   "metadata": {},
   "outputs": [
    {
     "name": "stdout",
     "output_type": "stream",
     "text": [
      "<class 'pandas.core.frame.DataFrame'>\n",
      "RangeIndex: 1999 entries, 0 to 1998\n",
      "Data columns (total 1 columns):\n",
      " #   Column  Non-Null Count  Dtype \n",
      "---  ------  --------------  ----- \n",
      " 0   text    1999 non-null   object\n",
      "dtypes: object(1)\n",
      "memory usage: 15.7+ KB\n"
     ]
    }
   ],
   "source": [
    "asics_tw.info()"
   ]
  },
  {
   "cell_type": "code",
   "execution_count": 56,
   "id": "56214db1",
   "metadata": {},
   "outputs": [
    {
     "data": {
      "text/html": [
       "<div>\n",
       "<style scoped>\n",
       "    .dataframe tbody tr th:only-of-type {\n",
       "        vertical-align: middle;\n",
       "    }\n",
       "\n",
       "    .dataframe tbody tr th {\n",
       "        vertical-align: top;\n",
       "    }\n",
       "\n",
       "    .dataframe thead th {\n",
       "        text-align: right;\n",
       "    }\n",
       "</style>\n",
       "<table border=\"1\" class=\"dataframe\">\n",
       "  <thead>\n",
       "    <tr style=\"text-align: right;\">\n",
       "      <th></th>\n",
       "      <th>text</th>\n",
       "    </tr>\n",
       "  </thead>\n",
       "  <tbody>\n",
       "    <tr>\n",
       "      <th>count</th>\n",
       "      <td>1999</td>\n",
       "    </tr>\n",
       "    <tr>\n",
       "      <th>unique</th>\n",
       "      <td>1976</td>\n",
       "    </tr>\n",
       "    <tr>\n",
       "      <th>top</th>\n",
       "      <td>💥INTEL has signed up another #Bitcoin miner fo...</td>\n",
       "    </tr>\n",
       "    <tr>\n",
       "      <th>freq</th>\n",
       "      <td>5</td>\n",
       "    </tr>\n",
       "  </tbody>\n",
       "</table>\n",
       "</div>"
      ],
      "text/plain": [
       "                                                     text\n",
       "count                                                1999\n",
       "unique                                               1976\n",
       "top     💥INTEL has signed up another #Bitcoin miner fo...\n",
       "freq                                                    5"
      ]
     },
     "execution_count": 56,
     "metadata": {},
     "output_type": "execute_result"
    }
   ],
   "source": [
    "asics_tw.describe()"
   ]
  },
  {
   "cell_type": "code",
   "execution_count": 57,
   "id": "527c2744",
   "metadata": {},
   "outputs": [
    {
     "data": {
      "text/plain": [
       "text    0\n",
       "dtype: int64"
      ]
     },
     "execution_count": 57,
     "metadata": {},
     "output_type": "execute_result"
    }
   ],
   "source": [
    "asics_tw.isnull().sum()  # No existen nulos."
   ]
  },
  {
   "cell_type": "code",
   "execution_count": 58,
   "id": "1d7dd562",
   "metadata": {},
   "outputs": [
    {
     "data": {
      "text/plain": [
       "23"
      ]
     },
     "execution_count": 58,
     "metadata": {},
     "output_type": "execute_result"
    }
   ],
   "source": [
    "asics_tw.duplicated().sum() # Encontramos 23 valores duplicados."
   ]
  },
  {
   "cell_type": "code",
   "execution_count": 59,
   "id": "8bf2b34e",
   "metadata": {},
   "outputs": [],
   "source": [
    "drop_duplicates(asics_tw) # Eliminamos los valores duplicados."
   ]
  },
  {
   "cell_type": "code",
   "execution_count": 60,
   "id": "dc393d1a",
   "metadata": {},
   "outputs": [
    {
     "data": {
      "text/plain": [
       "(1976, 1)"
      ]
     },
     "execution_count": 60,
     "metadata": {},
     "output_type": "execute_result"
    }
   ],
   "source": [
    "asics_tw.shape"
   ]
  },
  {
   "cell_type": "markdown",
   "id": "49f3b68a",
   "metadata": {},
   "source": [
    "### Hashtags."
   ]
  },
  {
   "cell_type": "markdown",
   "id": "17b6865e",
   "metadata": {},
   "source": [
    "Queremos extraer los hastags de los tweets y almacenarlos en una nueva columna del DataFrame. Esto nos permitirá llevar a cabo un análisis específico de los hashtags una vez hecho el análisis del sentimiento de los tweets, relacionando el sentimiento con los hashtags utilizados en el tweet."
   ]
  },
  {
   "cell_type": "code",
   "execution_count": 61,
   "id": "d8c50c8b",
   "metadata": {},
   "outputs": [],
   "source": [
    "asics_tw['hashtags'] = asics_tw.text.apply(extract_hashtags)"
   ]
  },
  {
   "cell_type": "code",
   "execution_count": 62,
   "id": "fa83bd6b",
   "metadata": {
    "scrolled": true
   },
   "outputs": [
    {
     "data": {
      "text/html": [
       "<div>\n",
       "<style scoped>\n",
       "    .dataframe tbody tr th:only-of-type {\n",
       "        vertical-align: middle;\n",
       "    }\n",
       "\n",
       "    .dataframe tbody tr th {\n",
       "        vertical-align: top;\n",
       "    }\n",
       "\n",
       "    .dataframe thead th {\n",
       "        text-align: right;\n",
       "    }\n",
       "</style>\n",
       "<table border=\"1\" class=\"dataframe\">\n",
       "  <thead>\n",
       "    <tr style=\"text-align: right;\">\n",
       "      <th></th>\n",
       "      <th>text</th>\n",
       "      <th>hashtags</th>\n",
       "    </tr>\n",
       "  </thead>\n",
       "  <tbody>\n",
       "    <tr>\n",
       "      <th>0</th>\n",
       "      <td>@LadyLibertas76 Probably around $90 for a pair...</td>\n",
       "      <td>[]</td>\n",
       "    </tr>\n",
       "    <tr>\n",
       "      <th>1</th>\n",
       "      <td>@surferliv Hi, Thanks for your message, we're ...</td>\n",
       "      <td>[]</td>\n",
       "    </tr>\n",
       "    <tr>\n",
       "      <th>2</th>\n",
       "      <td>@knivd @aradiogurl The fun about it is that th...</td>\n",
       "      <td>[]</td>\n",
       "    </tr>\n",
       "    <tr>\n",
       "      <th>3</th>\n",
       "      <td>Check out this listing I just added to my #Pos...</td>\n",
       "      <td>[#Poshmark, #shopmycloset]</td>\n",
       "    </tr>\n",
       "    <tr>\n",
       "      <th>4</th>\n",
       "      <td>Check out this listing I just added to my #Pos...</td>\n",
       "      <td>[#Poshmark, #shopmycloset]</td>\n",
       "    </tr>\n",
       "  </tbody>\n",
       "</table>\n",
       "</div>"
      ],
      "text/plain": [
       "                                                text  \\\n",
       "0  @LadyLibertas76 Probably around $90 for a pair...   \n",
       "1  @surferliv Hi, Thanks for your message, we're ...   \n",
       "2  @knivd @aradiogurl The fun about it is that th...   \n",
       "3  Check out this listing I just added to my #Pos...   \n",
       "4  Check out this listing I just added to my #Pos...   \n",
       "\n",
       "                     hashtags  \n",
       "0                          []  \n",
       "1                          []  \n",
       "2                          []  \n",
       "3  [#Poshmark, #shopmycloset]  \n",
       "4  [#Poshmark, #shopmycloset]  "
      ]
     },
     "execution_count": 62,
     "metadata": {},
     "output_type": "execute_result"
    }
   ],
   "source": [
    "asics_tw.head()"
   ]
  },
  {
   "cell_type": "markdown",
   "id": "f1c5a811",
   "metadata": {},
   "source": [
    "### Preparing Data."
   ]
  },
  {
   "cell_type": "markdown",
   "id": "8ebe0eaa",
   "metadata": {},
   "source": [
    "**Limpieza básica:**\n",
    "- Pasamos todo a minúsculas.\n",
    "- Eliminamos usuarios ('@ + user' ya que en principio el nombre de los usuarios no aporta información relevante para el modelo).\n",
    "- Eliminamos urls.\n",
    "- Convertimos dígitos a números escritos.\n",
    "- Convertimos $ en 'dollars' y € en 'euros.\n",
    "- Eliminamos valores no alfabéticos: # (aunque manteniendo el texto que viene después ya que puede contener información relevante), signos de puntuación...\n",
    "\n",
    "Esta limpieza se ejecutará a través de nuestra función `basic_cleaning()`."
   ]
  },
  {
   "cell_type": "code",
   "execution_count": 63,
   "id": "a36db358",
   "metadata": {},
   "outputs": [
    {
     "data": {
      "text/html": [
       "<div>\n",
       "<style scoped>\n",
       "    .dataframe tbody tr th:only-of-type {\n",
       "        vertical-align: middle;\n",
       "    }\n",
       "\n",
       "    .dataframe tbody tr th {\n",
       "        vertical-align: top;\n",
       "    }\n",
       "\n",
       "    .dataframe thead th {\n",
       "        text-align: right;\n",
       "    }\n",
       "</style>\n",
       "<table border=\"1\" class=\"dataframe\">\n",
       "  <thead>\n",
       "    <tr style=\"text-align: right;\">\n",
       "      <th></th>\n",
       "      <th>text</th>\n",
       "      <th>hashtags</th>\n",
       "    </tr>\n",
       "  </thead>\n",
       "  <tbody>\n",
       "    <tr>\n",
       "      <th>0</th>\n",
       "      <td>@LadyLibertas76 Probably around $90 for a pair...</td>\n",
       "      <td>[]</td>\n",
       "    </tr>\n",
       "    <tr>\n",
       "      <th>1</th>\n",
       "      <td>@surferliv Hi, Thanks for your message, we're ...</td>\n",
       "      <td>[]</td>\n",
       "    </tr>\n",
       "    <tr>\n",
       "      <th>2</th>\n",
       "      <td>@knivd @aradiogurl The fun about it is that th...</td>\n",
       "      <td>[]</td>\n",
       "    </tr>\n",
       "    <tr>\n",
       "      <th>3</th>\n",
       "      <td>Check out this listing I just added to my #Pos...</td>\n",
       "      <td>[#Poshmark, #shopmycloset]</td>\n",
       "    </tr>\n",
       "    <tr>\n",
       "      <th>4</th>\n",
       "      <td>Check out this listing I just added to my #Pos...</td>\n",
       "      <td>[#Poshmark, #shopmycloset]</td>\n",
       "    </tr>\n",
       "  </tbody>\n",
       "</table>\n",
       "</div>"
      ],
      "text/plain": [
       "                                                text  \\\n",
       "0  @LadyLibertas76 Probably around $90 for a pair...   \n",
       "1  @surferliv Hi, Thanks for your message, we're ...   \n",
       "2  @knivd @aradiogurl The fun about it is that th...   \n",
       "3  Check out this listing I just added to my #Pos...   \n",
       "4  Check out this listing I just added to my #Pos...   \n",
       "\n",
       "                     hashtags  \n",
       "0                          []  \n",
       "1                          []  \n",
       "2                          []  \n",
       "3  [#Poshmark, #shopmycloset]  \n",
       "4  [#Poshmark, #shopmycloset]  "
      ]
     },
     "execution_count": 63,
     "metadata": {},
     "output_type": "execute_result"
    }
   ],
   "source": [
    "asics_tw.head()"
   ]
  },
  {
   "cell_type": "code",
   "execution_count": 64,
   "id": "4cf5f5cb",
   "metadata": {},
   "outputs": [],
   "source": [
    "asics_tw['text'] = asics_tw.text.apply(basic_cleaning)"
   ]
  },
  {
   "cell_type": "code",
   "execution_count": 65,
   "id": "517c32a0",
   "metadata": {},
   "outputs": [
    {
     "data": {
      "text/html": [
       "<div>\n",
       "<style scoped>\n",
       "    .dataframe tbody tr th:only-of-type {\n",
       "        vertical-align: middle;\n",
       "    }\n",
       "\n",
       "    .dataframe tbody tr th {\n",
       "        vertical-align: top;\n",
       "    }\n",
       "\n",
       "    .dataframe thead th {\n",
       "        text-align: right;\n",
       "    }\n",
       "</style>\n",
       "<table border=\"1\" class=\"dataframe\">\n",
       "  <thead>\n",
       "    <tr style=\"text-align: right;\">\n",
       "      <th></th>\n",
       "      <th>text</th>\n",
       "      <th>hashtags</th>\n",
       "    </tr>\n",
       "  </thead>\n",
       "  <tbody>\n",
       "    <tr>\n",
       "      <th>0</th>\n",
       "      <td>probably around dollars nine zero for a pair o...</td>\n",
       "      <td>[]</td>\n",
       "    </tr>\n",
       "    <tr>\n",
       "      <th>1</th>\n",
       "      <td>hi thanks for your message we re really sorry ...</td>\n",
       "      <td>[]</td>\n",
       "    </tr>\n",
       "    <tr>\n",
       "      <th>2</th>\n",
       "      <td>the fun about it is that the two eight six mb ...</td>\n",
       "      <td>[]</td>\n",
       "    </tr>\n",
       "    <tr>\n",
       "      <th>3</th>\n",
       "      <td>check out this listing i just added to my posh...</td>\n",
       "      <td>[#Poshmark, #shopmycloset]</td>\n",
       "    </tr>\n",
       "    <tr>\n",
       "      <th>4</th>\n",
       "      <td>check out this listing i just added to my posh...</td>\n",
       "      <td>[#Poshmark, #shopmycloset]</td>\n",
       "    </tr>\n",
       "  </tbody>\n",
       "</table>\n",
       "</div>"
      ],
      "text/plain": [
       "                                                text  \\\n",
       "0  probably around dollars nine zero for a pair o...   \n",
       "1  hi thanks for your message we re really sorry ...   \n",
       "2  the fun about it is that the two eight six mb ...   \n",
       "3  check out this listing i just added to my posh...   \n",
       "4  check out this listing i just added to my posh...   \n",
       "\n",
       "                     hashtags  \n",
       "0                          []  \n",
       "1                          []  \n",
       "2                          []  \n",
       "3  [#Poshmark, #shopmycloset]  \n",
       "4  [#Poshmark, #shopmycloset]  "
      ]
     },
     "execution_count": 65,
     "metadata": {},
     "output_type": "execute_result"
    }
   ],
   "source": [
    "asics_tw.head()"
   ]
  },
  {
   "cell_type": "markdown",
   "id": "58056b21",
   "metadata": {},
   "source": [
    "### Subsets."
   ]
  },
  {
   "cell_type": "markdown",
   "id": "f8b74c9a",
   "metadata": {},
   "source": [
    "En esta primera versión de la herramienta construiremos el mapa de posicionamiento en base a dos atributos de marca (variables): calidad y precio. Estos son los dos atributos básicos más utilizados de manera general en los mapas de posicionamiento (los mapas más sofisticados introducen ya otros atributos más específicos).\n",
    "\n",
    "Para poder completar el proceso de mapeo, lo primero que debemos hacer es dividir los datos (tweets recopilados) en dos subsets: los que hacen referencia al precio y los que hacen referencia a la calidad. Una vez subdivididos, ya podremos introducir los datos en el modelo NLP para evaluar el sentimiento en cada subset.\n",
    "\n",
    "La subdivisión nos permite diferenciar el sentimiento de los tweets que hablan del precio, del sentimiento en torno a la calidad general de la marca en cuestión. Esto es lo que haremos en esta etapa del proceso, en este caso sobre los tweets que mencionan a Nike."
   ]
  },
  {
   "cell_type": "markdown",
   "id": "1e5395bf",
   "metadata": {},
   "source": [
    "1. Generamos una nueva columna que recoge la temática del tweet (atributo al que hace refencia)."
   ]
  },
  {
   "cell_type": "code",
   "execution_count": 66,
   "id": "bbb961d5",
   "metadata": {
    "scrolled": true
   },
   "outputs": [],
   "source": [
    "asics_tw['brand_attribute'] = asics_tw['text'].apply(data_groups)"
   ]
  },
  {
   "cell_type": "code",
   "execution_count": 67,
   "id": "8bed0700",
   "metadata": {
    "scrolled": false
   },
   "outputs": [
    {
     "data": {
      "text/html": [
       "<div>\n",
       "<style scoped>\n",
       "    .dataframe tbody tr th:only-of-type {\n",
       "        vertical-align: middle;\n",
       "    }\n",
       "\n",
       "    .dataframe tbody tr th {\n",
       "        vertical-align: top;\n",
       "    }\n",
       "\n",
       "    .dataframe thead th {\n",
       "        text-align: right;\n",
       "    }\n",
       "</style>\n",
       "<table border=\"1\" class=\"dataframe\">\n",
       "  <thead>\n",
       "    <tr style=\"text-align: right;\">\n",
       "      <th></th>\n",
       "      <th>text</th>\n",
       "      <th>hashtags</th>\n",
       "      <th>brand_attribute</th>\n",
       "    </tr>\n",
       "  </thead>\n",
       "  <tbody>\n",
       "    <tr>\n",
       "      <th>0</th>\n",
       "      <td>probably around dollars nine zero for a pair o...</td>\n",
       "      <td>[]</td>\n",
       "      <td>price</td>\n",
       "    </tr>\n",
       "    <tr>\n",
       "      <th>1</th>\n",
       "      <td>hi thanks for your message we re really sorry ...</td>\n",
       "      <td>[]</td>\n",
       "      <td>quality</td>\n",
       "    </tr>\n",
       "    <tr>\n",
       "      <th>2</th>\n",
       "      <td>the fun about it is that the two eight six mb ...</td>\n",
       "      <td>[]</td>\n",
       "      <td>price</td>\n",
       "    </tr>\n",
       "    <tr>\n",
       "      <th>3</th>\n",
       "      <td>check out this listing i just added to my posh...</td>\n",
       "      <td>[#Poshmark, #shopmycloset]</td>\n",
       "      <td>quality</td>\n",
       "    </tr>\n",
       "    <tr>\n",
       "      <th>4</th>\n",
       "      <td>check out this listing i just added to my posh...</td>\n",
       "      <td>[#Poshmark, #shopmycloset]</td>\n",
       "      <td>quality</td>\n",
       "    </tr>\n",
       "  </tbody>\n",
       "</table>\n",
       "</div>"
      ],
      "text/plain": [
       "                                                text  \\\n",
       "0  probably around dollars nine zero for a pair o...   \n",
       "1  hi thanks for your message we re really sorry ...   \n",
       "2  the fun about it is that the two eight six mb ...   \n",
       "3  check out this listing i just added to my posh...   \n",
       "4  check out this listing i just added to my posh...   \n",
       "\n",
       "                     hashtags brand_attribute  \n",
       "0                          []           price  \n",
       "1                          []         quality  \n",
       "2                          []           price  \n",
       "3  [#Poshmark, #shopmycloset]         quality  \n",
       "4  [#Poshmark, #shopmycloset]         quality  "
      ]
     },
     "execution_count": 67,
     "metadata": {},
     "output_type": "execute_result"
    }
   ],
   "source": [
    "asics_tw.head()"
   ]
  },
  {
   "cell_type": "code",
   "execution_count": 68,
   "id": "57010bae",
   "metadata": {},
   "outputs": [
    {
     "data": {
      "text/plain": [
       "quality    1540\n",
       "price       436\n",
       "Name: brand_attribute, dtype: int64"
      ]
     },
     "execution_count": 68,
     "metadata": {},
     "output_type": "execute_result"
    }
   ],
   "source": [
    "asics_tw.brand_attribute.value_counts()"
   ]
  },
  {
   "cell_type": "markdown",
   "id": "90b63fe5",
   "metadata": {},
   "source": [
    "2. Exportamos los subsets de Nike (uno de calidad y otro de precio).\n",
    "\n",
    "    2.1. Precio:"
   ]
  },
  {
   "cell_type": "code",
   "execution_count": 69,
   "id": "ad13be19",
   "metadata": {},
   "outputs": [],
   "source": [
    "asics_price = pd.DataFrame(asics_tw.where(asics_tw.brand_attribute=='price').dropna().drop('brand_attribute',axis=1))"
   ]
  },
  {
   "cell_type": "code",
   "execution_count": 70,
   "id": "844ac003",
   "metadata": {},
   "outputs": [
    {
     "data": {
      "text/plain": [
       "text        0\n",
       "hashtags    0\n",
       "dtype: int64"
      ]
     },
     "execution_count": 70,
     "metadata": {},
     "output_type": "execute_result"
    }
   ],
   "source": [
    "asics_price.isnull().sum()"
   ]
  },
  {
   "cell_type": "code",
   "execution_count": 71,
   "id": "824fd7b4",
   "metadata": {},
   "outputs": [
    {
     "data": {
      "text/plain": [
       "(436, 2)"
      ]
     },
     "execution_count": 71,
     "metadata": {},
     "output_type": "execute_result"
    }
   ],
   "source": [
    "asics_price.shape"
   ]
  },
  {
   "cell_type": "code",
   "execution_count": 72,
   "id": "0efd3dbb",
   "metadata": {},
   "outputs": [],
   "source": [
    "# Exportamos el subset de precio.\n",
    "\n",
    "asics_price.to_csv('data/asics_price.csv', index = False)"
   ]
  },
  {
   "cell_type": "markdown",
   "id": "d5ddc06e",
   "metadata": {},
   "source": [
    "    2.2. Calidad:"
   ]
  },
  {
   "cell_type": "code",
   "execution_count": 73,
   "id": "537201ab",
   "metadata": {},
   "outputs": [],
   "source": [
    "asics_quality = pd.DataFrame(asics_tw.where(asics_tw.brand_attribute=='quality').dropna().drop('brand_attribute',axis=1))"
   ]
  },
  {
   "cell_type": "code",
   "execution_count": 74,
   "id": "45e79954",
   "metadata": {},
   "outputs": [
    {
     "data": {
      "text/plain": [
       "text        0\n",
       "hashtags    0\n",
       "dtype: int64"
      ]
     },
     "execution_count": 74,
     "metadata": {},
     "output_type": "execute_result"
    }
   ],
   "source": [
    "asics_quality.isnull().sum()"
   ]
  },
  {
   "cell_type": "code",
   "execution_count": 75,
   "id": "373d697c",
   "metadata": {},
   "outputs": [
    {
     "data": {
      "text/plain": [
       "(1540, 2)"
      ]
     },
     "execution_count": 75,
     "metadata": {},
     "output_type": "execute_result"
    }
   ],
   "source": [
    "asics_quality.shape"
   ]
  },
  {
   "cell_type": "code",
   "execution_count": 76,
   "id": "e1d18e9a",
   "metadata": {},
   "outputs": [],
   "source": [
    "# Exportamos el subset de calidad.\n",
    "\n",
    "asics_quality.to_csv('data/asics_quality.csv', index = False)"
   ]
  },
  {
   "cell_type": "markdown",
   "id": "0b0de4fb",
   "metadata": {},
   "source": [
    "**Nota importante:**\n",
    "\n",
    "Aunque hemos exportado cada subset en archivos csv independientes (lo tenemos guardado de manera desagregada), en realidad trabajaremos con un único DataFrame que contenga todos los tweets analizados (los de todas las marcas y todos los atributos). En este DataFrame recogeremos en una columna la marca a la que hacen referencia y en otra columna el atributo al que se refieren (calidad y precio). Esto lo hacemos así porque nos permitirá agilizar mucho los procesos de visualización de resultados y obtener gráficos de mejor calidad (podremos filtrar en función de la marca y el atributo, al tiempo que manejamos un único DataFrame para mayor eficiencia)."
   ]
  },
  {
   "cell_type": "markdown",
   "id": "235d6e0d",
   "metadata": {},
   "source": [
    "## Reebok data."
   ]
  },
  {
   "cell_type": "code",
   "execution_count": 77,
   "id": "a7dfaa67",
   "metadata": {},
   "outputs": [],
   "source": [
    "reebok = pd.read_csv('data/reebok.csv')"
   ]
  },
  {
   "cell_type": "code",
   "execution_count": 78,
   "id": "8e972743",
   "metadata": {},
   "outputs": [],
   "source": [
    "reebok_tw = pd.DataFrame(reebok.text)"
   ]
  },
  {
   "cell_type": "markdown",
   "id": "6643efc5",
   "metadata": {},
   "source": [
    "### Exploración inicial de los datos:"
   ]
  },
  {
   "cell_type": "code",
   "execution_count": 79,
   "id": "bfe3596a",
   "metadata": {},
   "outputs": [
    {
     "data": {
      "text/plain": [
       "(1996, 1)"
      ]
     },
     "execution_count": 79,
     "metadata": {},
     "output_type": "execute_result"
    }
   ],
   "source": [
    "reebok_tw.shape"
   ]
  },
  {
   "cell_type": "code",
   "execution_count": 80,
   "id": "2f2003e9",
   "metadata": {},
   "outputs": [
    {
     "name": "stdout",
     "output_type": "stream",
     "text": [
      "<class 'pandas.core.frame.DataFrame'>\n",
      "RangeIndex: 1996 entries, 0 to 1995\n",
      "Data columns (total 1 columns):\n",
      " #   Column  Non-Null Count  Dtype \n",
      "---  ------  --------------  ----- \n",
      " 0   text    1996 non-null   object\n",
      "dtypes: object(1)\n",
      "memory usage: 15.7+ KB\n"
     ]
    }
   ],
   "source": [
    "reebok_tw.info()"
   ]
  },
  {
   "cell_type": "code",
   "execution_count": 81,
   "id": "8b10fdfc",
   "metadata": {},
   "outputs": [
    {
     "data": {
      "text/html": [
       "<div>\n",
       "<style scoped>\n",
       "    .dataframe tbody tr th:only-of-type {\n",
       "        vertical-align: middle;\n",
       "    }\n",
       "\n",
       "    .dataframe tbody tr th {\n",
       "        vertical-align: top;\n",
       "    }\n",
       "\n",
       "    .dataframe thead th {\n",
       "        text-align: right;\n",
       "    }\n",
       "</style>\n",
       "<table border=\"1\" class=\"dataframe\">\n",
       "  <thead>\n",
       "    <tr style=\"text-align: right;\">\n",
       "      <th></th>\n",
       "      <th>text</th>\n",
       "    </tr>\n",
       "  </thead>\n",
       "  <tbody>\n",
       "    <tr>\n",
       "      <th>count</th>\n",
       "      <td>1996</td>\n",
       "    </tr>\n",
       "    <tr>\n",
       "      <th>unique</th>\n",
       "      <td>1953</td>\n",
       "    </tr>\n",
       "    <tr>\n",
       "      <th>top</th>\n",
       "      <td>#NowPlaying Reebok - \"Be More Than Human\" http...</td>\n",
       "    </tr>\n",
       "    <tr>\n",
       "      <th>freq</th>\n",
       "      <td>7</td>\n",
       "    </tr>\n",
       "  </tbody>\n",
       "</table>\n",
       "</div>"
      ],
      "text/plain": [
       "                                                     text\n",
       "count                                                1996\n",
       "unique                                               1953\n",
       "top     #NowPlaying Reebok - \"Be More Than Human\" http...\n",
       "freq                                                    7"
      ]
     },
     "execution_count": 81,
     "metadata": {},
     "output_type": "execute_result"
    }
   ],
   "source": [
    "reebok_tw.describe()"
   ]
  },
  {
   "cell_type": "code",
   "execution_count": 82,
   "id": "36f9848f",
   "metadata": {},
   "outputs": [
    {
     "data": {
      "text/plain": [
       "text    0\n",
       "dtype: int64"
      ]
     },
     "execution_count": 82,
     "metadata": {},
     "output_type": "execute_result"
    }
   ],
   "source": [
    "reebok_tw.isnull().sum()  # No existen nulos."
   ]
  },
  {
   "cell_type": "code",
   "execution_count": 83,
   "id": "950e99dc",
   "metadata": {},
   "outputs": [
    {
     "data": {
      "text/plain": [
       "43"
      ]
     },
     "execution_count": 83,
     "metadata": {},
     "output_type": "execute_result"
    }
   ],
   "source": [
    "reebok_tw.duplicated().sum() # Encontramos 43 valores duplicados."
   ]
  },
  {
   "cell_type": "code",
   "execution_count": 84,
   "id": "3e9d6f39",
   "metadata": {},
   "outputs": [],
   "source": [
    "drop_duplicates(reebok_tw) # Eliminamos los valores duplicados."
   ]
  },
  {
   "cell_type": "code",
   "execution_count": 85,
   "id": "25ca939d",
   "metadata": {},
   "outputs": [
    {
     "data": {
      "text/plain": [
       "(1953, 1)"
      ]
     },
     "execution_count": 85,
     "metadata": {},
     "output_type": "execute_result"
    }
   ],
   "source": [
    "reebok_tw.shape"
   ]
  },
  {
   "cell_type": "markdown",
   "id": "05abcdf5",
   "metadata": {},
   "source": [
    "### Hashtags."
   ]
  },
  {
   "cell_type": "markdown",
   "id": "6979f275",
   "metadata": {},
   "source": [
    "Queremos extraer los hastags de los tweets y almacenarlos en una nueva columna del DataFrame. Esto nos permitirá llevar a cabo un análisis específico de los hashtags una vez hecho el análisis del sentimiento de los tweets, relacionando el sentimiento con los hashtags utilizados en el tweet."
   ]
  },
  {
   "cell_type": "code",
   "execution_count": 86,
   "id": "4c14e4c7",
   "metadata": {},
   "outputs": [],
   "source": [
    "reebok_tw['hashtags'] = reebok_tw.text.apply(extract_hashtags)"
   ]
  },
  {
   "cell_type": "code",
   "execution_count": 87,
   "id": "66ad379c",
   "metadata": {
    "scrolled": true
   },
   "outputs": [
    {
     "data": {
      "text/html": [
       "<div>\n",
       "<style scoped>\n",
       "    .dataframe tbody tr th:only-of-type {\n",
       "        vertical-align: middle;\n",
       "    }\n",
       "\n",
       "    .dataframe tbody tr th {\n",
       "        vertical-align: top;\n",
       "    }\n",
       "\n",
       "    .dataframe thead th {\n",
       "        text-align: right;\n",
       "    }\n",
       "</style>\n",
       "<table border=\"1\" class=\"dataframe\">\n",
       "  <thead>\n",
       "    <tr style=\"text-align: right;\">\n",
       "      <th></th>\n",
       "      <th>text</th>\n",
       "      <th>hashtags</th>\n",
       "    </tr>\n",
       "  </thead>\n",
       "  <tbody>\n",
       "    <tr>\n",
       "      <th>0</th>\n",
       "      <td>@sportsceneSA @Reebok My wife @prittypriss you...</td>\n",
       "      <td>[]</td>\n",
       "    </tr>\n",
       "    <tr>\n",
       "      <th>1</th>\n",
       "      <td>@Lesley_NOPE Sponsored by Reebok!</td>\n",
       "      <td>[]</td>\n",
       "    </tr>\n",
       "    <tr>\n",
       "      <th>2</th>\n",
       "      <td>@OneMarineSempFi Thank you. The one in bottom ...</td>\n",
       "      <td>[]</td>\n",
       "    </tr>\n",
       "    <tr>\n",
       "      <th>3</th>\n",
       "      <td>https://t.co/mq87iKB9DH\\nat 824 save 2474</td>\n",
       "      <td>[]</td>\n",
       "    </tr>\n",
       "    <tr>\n",
       "      <th>4</th>\n",
       "      <td>@sportsceneSA @Reebok @EnoughMoela •Thank you ...</td>\n",
       "      <td>[]</td>\n",
       "    </tr>\n",
       "  </tbody>\n",
       "</table>\n",
       "</div>"
      ],
      "text/plain": [
       "                                                text hashtags\n",
       "0  @sportsceneSA @Reebok My wife @prittypriss you...       []\n",
       "1                  @Lesley_NOPE Sponsored by Reebok!       []\n",
       "2  @OneMarineSempFi Thank you. The one in bottom ...       []\n",
       "3          https://t.co/mq87iKB9DH\\nat 824 save 2474       []\n",
       "4  @sportsceneSA @Reebok @EnoughMoela •Thank you ...       []"
      ]
     },
     "execution_count": 87,
     "metadata": {},
     "output_type": "execute_result"
    }
   ],
   "source": [
    "reebok_tw.head()"
   ]
  },
  {
   "cell_type": "markdown",
   "id": "4d692e4c",
   "metadata": {},
   "source": [
    "### Preparing Data."
   ]
  },
  {
   "cell_type": "markdown",
   "id": "f836ca31",
   "metadata": {},
   "source": [
    "**Limpieza básica:**\n",
    "- Pasamos todo a minúsculas.\n",
    "- Eliminamos usuarios ('@ + user' ya que en principio el nombre de los usuarios no aporta información relevante para el modelo).\n",
    "- Eliminamos urls.\n",
    "- Convertimos dígitos a números escritos.\n",
    "- Convertimos $ en 'dollars' y € en 'euros.\n",
    "- Eliminamos valores no alfabéticos: # (aunque manteniendo el texto que viene después ya que puede contener información relevante), signos de puntuación...\n",
    "\n",
    "Esta limpieza se ejecutará a través de nuestra función `basic_cleaning()`."
   ]
  },
  {
   "cell_type": "code",
   "execution_count": 88,
   "id": "785232af",
   "metadata": {},
   "outputs": [
    {
     "data": {
      "text/html": [
       "<div>\n",
       "<style scoped>\n",
       "    .dataframe tbody tr th:only-of-type {\n",
       "        vertical-align: middle;\n",
       "    }\n",
       "\n",
       "    .dataframe tbody tr th {\n",
       "        vertical-align: top;\n",
       "    }\n",
       "\n",
       "    .dataframe thead th {\n",
       "        text-align: right;\n",
       "    }\n",
       "</style>\n",
       "<table border=\"1\" class=\"dataframe\">\n",
       "  <thead>\n",
       "    <tr style=\"text-align: right;\">\n",
       "      <th></th>\n",
       "      <th>text</th>\n",
       "      <th>hashtags</th>\n",
       "    </tr>\n",
       "  </thead>\n",
       "  <tbody>\n",
       "    <tr>\n",
       "      <th>0</th>\n",
       "      <td>@sportsceneSA @Reebok My wife @prittypriss you...</td>\n",
       "      <td>[]</td>\n",
       "    </tr>\n",
       "    <tr>\n",
       "      <th>1</th>\n",
       "      <td>@Lesley_NOPE Sponsored by Reebok!</td>\n",
       "      <td>[]</td>\n",
       "    </tr>\n",
       "    <tr>\n",
       "      <th>2</th>\n",
       "      <td>@OneMarineSempFi Thank you. The one in bottom ...</td>\n",
       "      <td>[]</td>\n",
       "    </tr>\n",
       "    <tr>\n",
       "      <th>3</th>\n",
       "      <td>https://t.co/mq87iKB9DH\\nat 824 save 2474</td>\n",
       "      <td>[]</td>\n",
       "    </tr>\n",
       "    <tr>\n",
       "      <th>4</th>\n",
       "      <td>@sportsceneSA @Reebok @EnoughMoela •Thank you ...</td>\n",
       "      <td>[]</td>\n",
       "    </tr>\n",
       "  </tbody>\n",
       "</table>\n",
       "</div>"
      ],
      "text/plain": [
       "                                                text hashtags\n",
       "0  @sportsceneSA @Reebok My wife @prittypriss you...       []\n",
       "1                  @Lesley_NOPE Sponsored by Reebok!       []\n",
       "2  @OneMarineSempFi Thank you. The one in bottom ...       []\n",
       "3          https://t.co/mq87iKB9DH\\nat 824 save 2474       []\n",
       "4  @sportsceneSA @Reebok @EnoughMoela •Thank you ...       []"
      ]
     },
     "execution_count": 88,
     "metadata": {},
     "output_type": "execute_result"
    }
   ],
   "source": [
    "reebok_tw.head()"
   ]
  },
  {
   "cell_type": "code",
   "execution_count": 89,
   "id": "f0de8e3c",
   "metadata": {},
   "outputs": [],
   "source": [
    "reebok_tw['text'] = reebok_tw.text.apply(basic_cleaning)"
   ]
  },
  {
   "cell_type": "code",
   "execution_count": 90,
   "id": "87f7fe3b",
   "metadata": {},
   "outputs": [
    {
     "data": {
      "text/html": [
       "<div>\n",
       "<style scoped>\n",
       "    .dataframe tbody tr th:only-of-type {\n",
       "        vertical-align: middle;\n",
       "    }\n",
       "\n",
       "    .dataframe tbody tr th {\n",
       "        vertical-align: top;\n",
       "    }\n",
       "\n",
       "    .dataframe thead th {\n",
       "        text-align: right;\n",
       "    }\n",
       "</style>\n",
       "<table border=\"1\" class=\"dataframe\">\n",
       "  <thead>\n",
       "    <tr style=\"text-align: right;\">\n",
       "      <th></th>\n",
       "      <th>text</th>\n",
       "      <th>hashtags</th>\n",
       "    </tr>\n",
       "  </thead>\n",
       "  <tbody>\n",
       "    <tr>\n",
       "      <th>0</th>\n",
       "      <td>my wife you re strong inspirational caring ama...</td>\n",
       "      <td>[]</td>\n",
       "    </tr>\n",
       "    <tr>\n",
       "      <th>1</th>\n",
       "      <td>sponsored by reebok</td>\n",
       "      <td>[]</td>\n",
       "    </tr>\n",
       "    <tr>\n",
       "      <th>2</th>\n",
       "      <td>thank you the one in bottom middle pic was ree...</td>\n",
       "      <td>[]</td>\n",
       "    </tr>\n",
       "    <tr>\n",
       "      <th>3</th>\n",
       "      <td>at eight two four save two four seven four</td>\n",
       "      <td>[]</td>\n",
       "    </tr>\n",
       "    <tr>\n",
       "      <th>4</th>\n",
       "      <td>thank you for always supporting me you was the...</td>\n",
       "      <td>[]</td>\n",
       "    </tr>\n",
       "  </tbody>\n",
       "</table>\n",
       "</div>"
      ],
      "text/plain": [
       "                                                text hashtags\n",
       "0  my wife you re strong inspirational caring ama...       []\n",
       "1                                sponsored by reebok       []\n",
       "2  thank you the one in bottom middle pic was ree...       []\n",
       "3         at eight two four save two four seven four       []\n",
       "4  thank you for always supporting me you was the...       []"
      ]
     },
     "execution_count": 90,
     "metadata": {},
     "output_type": "execute_result"
    }
   ],
   "source": [
    "reebok_tw.head()"
   ]
  },
  {
   "cell_type": "markdown",
   "id": "4276491d",
   "metadata": {},
   "source": [
    "### Subsets."
   ]
  },
  {
   "cell_type": "markdown",
   "id": "912484c1",
   "metadata": {},
   "source": [
    "En esta primera versión de la herramienta construiremos el mapa de posicionamiento en base a dos atributos de marca (variables): calidad y precio. Estos son los dos atributos básicos más utilizados de manera general en los mapas de posicionamiento (los mapas más sofisticados introducen ya otros atributos más específicos).\n",
    "\n",
    "Para poder completar el proceso de mapeo, lo primero que debemos hacer es dividir los datos (tweets recopilados) en dos subsets: los que hacen referencia al precio y los que hacen referencia a la calidad. Una vez subdivididos, ya podremos introducir los datos en el modelo NLP para evaluar el sentimiento en cada subset.\n",
    "\n",
    "La subdivisión nos permite diferenciar el sentimiento de los tweets que hablan del precio, del sentimiento en torno a la calidad general de la marca en cuestión. Esto es lo que haremos en esta etapa del proceso, en este caso sobre los tweets que mencionan a Nike."
   ]
  },
  {
   "cell_type": "markdown",
   "id": "35c3b8d8",
   "metadata": {},
   "source": [
    "1. Generamos una nueva columna que recoge la temática del tweet (atributo al que hace refencia)."
   ]
  },
  {
   "cell_type": "code",
   "execution_count": 91,
   "id": "fc52ad08",
   "metadata": {
    "scrolled": true
   },
   "outputs": [],
   "source": [
    "reebok_tw['brand_attribute'] = reebok_tw['text'].apply(data_groups)"
   ]
  },
  {
   "cell_type": "code",
   "execution_count": 92,
   "id": "0d573564",
   "metadata": {
    "scrolled": false
   },
   "outputs": [
    {
     "data": {
      "text/html": [
       "<div>\n",
       "<style scoped>\n",
       "    .dataframe tbody tr th:only-of-type {\n",
       "        vertical-align: middle;\n",
       "    }\n",
       "\n",
       "    .dataframe tbody tr th {\n",
       "        vertical-align: top;\n",
       "    }\n",
       "\n",
       "    .dataframe thead th {\n",
       "        text-align: right;\n",
       "    }\n",
       "</style>\n",
       "<table border=\"1\" class=\"dataframe\">\n",
       "  <thead>\n",
       "    <tr style=\"text-align: right;\">\n",
       "      <th></th>\n",
       "      <th>text</th>\n",
       "      <th>hashtags</th>\n",
       "      <th>brand_attribute</th>\n",
       "    </tr>\n",
       "  </thead>\n",
       "  <tbody>\n",
       "    <tr>\n",
       "      <th>0</th>\n",
       "      <td>my wife you re strong inspirational caring ama...</td>\n",
       "      <td>[]</td>\n",
       "      <td>price</td>\n",
       "    </tr>\n",
       "    <tr>\n",
       "      <th>1</th>\n",
       "      <td>sponsored by reebok</td>\n",
       "      <td>[]</td>\n",
       "      <td>quality</td>\n",
       "    </tr>\n",
       "    <tr>\n",
       "      <th>2</th>\n",
       "      <td>thank you the one in bottom middle pic was ree...</td>\n",
       "      <td>[]</td>\n",
       "      <td>price</td>\n",
       "    </tr>\n",
       "    <tr>\n",
       "      <th>3</th>\n",
       "      <td>at eight two four save two four seven four</td>\n",
       "      <td>[]</td>\n",
       "      <td>quality</td>\n",
       "    </tr>\n",
       "    <tr>\n",
       "      <th>4</th>\n",
       "      <td>thank you for always supporting me you was the...</td>\n",
       "      <td>[]</td>\n",
       "      <td>quality</td>\n",
       "    </tr>\n",
       "  </tbody>\n",
       "</table>\n",
       "</div>"
      ],
      "text/plain": [
       "                                                text hashtags brand_attribute\n",
       "0  my wife you re strong inspirational caring ama...       []           price\n",
       "1                                sponsored by reebok       []         quality\n",
       "2  thank you the one in bottom middle pic was ree...       []           price\n",
       "3         at eight two four save two four seven four       []         quality\n",
       "4  thank you for always supporting me you was the...       []         quality"
      ]
     },
     "execution_count": 92,
     "metadata": {},
     "output_type": "execute_result"
    }
   ],
   "source": [
    "reebok_tw.head()"
   ]
  },
  {
   "cell_type": "code",
   "execution_count": 93,
   "id": "4196a4d2",
   "metadata": {},
   "outputs": [
    {
     "data": {
      "text/plain": [
       "quality    1617\n",
       "price       336\n",
       "Name: brand_attribute, dtype: int64"
      ]
     },
     "execution_count": 93,
     "metadata": {},
     "output_type": "execute_result"
    }
   ],
   "source": [
    "reebok_tw.brand_attribute.value_counts()"
   ]
  },
  {
   "cell_type": "markdown",
   "id": "5e1f33e4",
   "metadata": {},
   "source": [
    "2. Exportamos los subsets de Nike (uno de calidad y otro de precio).\n",
    "\n",
    "    2.1. Precio:"
   ]
  },
  {
   "cell_type": "code",
   "execution_count": 94,
   "id": "c61c207c",
   "metadata": {},
   "outputs": [],
   "source": [
    "reebok_price = pd.DataFrame(reebok_tw.where(reebok_tw.brand_attribute=='price').dropna().drop('brand_attribute',axis=1))"
   ]
  },
  {
   "cell_type": "code",
   "execution_count": 95,
   "id": "86f90f59",
   "metadata": {},
   "outputs": [
    {
     "data": {
      "text/plain": [
       "text        0\n",
       "hashtags    0\n",
       "dtype: int64"
      ]
     },
     "execution_count": 95,
     "metadata": {},
     "output_type": "execute_result"
    }
   ],
   "source": [
    "reebok_price.isnull().sum()"
   ]
  },
  {
   "cell_type": "code",
   "execution_count": 96,
   "id": "29a68f91",
   "metadata": {},
   "outputs": [
    {
     "data": {
      "text/plain": [
       "(336, 2)"
      ]
     },
     "execution_count": 96,
     "metadata": {},
     "output_type": "execute_result"
    }
   ],
   "source": [
    "reebok_price.shape"
   ]
  },
  {
   "cell_type": "code",
   "execution_count": 97,
   "id": "3359f1c5",
   "metadata": {},
   "outputs": [],
   "source": [
    "# Exportamos el subset de precio.\n",
    "\n",
    "reebok_price.to_csv('data/reebok_price.csv', index = False)"
   ]
  },
  {
   "cell_type": "markdown",
   "id": "cb3b53f7",
   "metadata": {},
   "source": [
    "    2.2. Calidad:"
   ]
  },
  {
   "cell_type": "code",
   "execution_count": 98,
   "id": "bca8f010",
   "metadata": {},
   "outputs": [],
   "source": [
    "reebok_quality = pd.DataFrame(reebok_tw.where(reebok_tw.brand_attribute=='quality').dropna().drop('brand_attribute',axis=1))"
   ]
  },
  {
   "cell_type": "code",
   "execution_count": 99,
   "id": "37592987",
   "metadata": {},
   "outputs": [
    {
     "data": {
      "text/plain": [
       "text        0\n",
       "hashtags    0\n",
       "dtype: int64"
      ]
     },
     "execution_count": 99,
     "metadata": {},
     "output_type": "execute_result"
    }
   ],
   "source": [
    "reebok_quality.isnull().sum()"
   ]
  },
  {
   "cell_type": "code",
   "execution_count": 100,
   "id": "43cd5ea0",
   "metadata": {},
   "outputs": [
    {
     "data": {
      "text/plain": [
       "(1617, 2)"
      ]
     },
     "execution_count": 100,
     "metadata": {},
     "output_type": "execute_result"
    }
   ],
   "source": [
    "reebok_quality.shape"
   ]
  },
  {
   "cell_type": "code",
   "execution_count": 101,
   "id": "677f3652",
   "metadata": {},
   "outputs": [],
   "source": [
    "# Exportamos el subset de calidad.\n",
    "\n",
    "reebok_quality.to_csv('data/reebok_quality.csv', index = False)"
   ]
  },
  {
   "cell_type": "markdown",
   "id": "08dac62b",
   "metadata": {},
   "source": [
    "**Nota importante:**\n",
    "\n",
    "Aunque hemos exportado cada subset en archivos csv independientes (lo tenemos guardado de manera desagregada), en realidad trabajaremos con un único DataFrame que contenga todos los tweets analizados (los de todas las marcas y todos los atributos). En este DataFrame recogeremos en una columna la marca a la que hacen referencia y en otra columna el atributo al que se refieren (calidad y precio). Esto lo hacemos así porque nos permitirá agilizar mucho los procesos de visualización de resultados y obtener gráficos de mejor calidad (podremos filtrar en función de la marca y el atributo, al tiempo que manejamos un único DataFrame para mayor eficiencia)."
   ]
  },
  {
   "cell_type": "markdown",
   "id": "cc7fa273",
   "metadata": {},
   "source": [
    "## Skechers data."
   ]
  },
  {
   "cell_type": "code",
   "execution_count": 102,
   "id": "4a07f769",
   "metadata": {},
   "outputs": [],
   "source": [
    "skechers = pd.read_csv('data/skechers.csv')"
   ]
  },
  {
   "cell_type": "code",
   "execution_count": 103,
   "id": "ddae01bc",
   "metadata": {},
   "outputs": [],
   "source": [
    "skechers_tw = pd.DataFrame(skechers.text)"
   ]
  },
  {
   "cell_type": "markdown",
   "id": "f785d01e",
   "metadata": {},
   "source": [
    "### Exploración inicial de los datos:"
   ]
  },
  {
   "cell_type": "code",
   "execution_count": 104,
   "id": "933514ac",
   "metadata": {},
   "outputs": [
    {
     "data": {
      "text/plain": [
       "(1997, 1)"
      ]
     },
     "execution_count": 104,
     "metadata": {},
     "output_type": "execute_result"
    }
   ],
   "source": [
    "skechers_tw.shape"
   ]
  },
  {
   "cell_type": "code",
   "execution_count": 105,
   "id": "82abe5ef",
   "metadata": {},
   "outputs": [
    {
     "name": "stdout",
     "output_type": "stream",
     "text": [
      "<class 'pandas.core.frame.DataFrame'>\n",
      "RangeIndex: 1997 entries, 0 to 1996\n",
      "Data columns (total 1 columns):\n",
      " #   Column  Non-Null Count  Dtype \n",
      "---  ------  --------------  ----- \n",
      " 0   text    1997 non-null   object\n",
      "dtypes: object(1)\n",
      "memory usage: 15.7+ KB\n"
     ]
    }
   ],
   "source": [
    "skechers_tw.info()"
   ]
  },
  {
   "cell_type": "code",
   "execution_count": 106,
   "id": "ca79640f",
   "metadata": {},
   "outputs": [
    {
     "data": {
      "text/html": [
       "<div>\n",
       "<style scoped>\n",
       "    .dataframe tbody tr th:only-of-type {\n",
       "        vertical-align: middle;\n",
       "    }\n",
       "\n",
       "    .dataframe tbody tr th {\n",
       "        vertical-align: top;\n",
       "    }\n",
       "\n",
       "    .dataframe thead th {\n",
       "        text-align: right;\n",
       "    }\n",
       "</style>\n",
       "<table border=\"1\" class=\"dataframe\">\n",
       "  <thead>\n",
       "    <tr style=\"text-align: right;\">\n",
       "      <th></th>\n",
       "      <th>text</th>\n",
       "    </tr>\n",
       "  </thead>\n",
       "  <tbody>\n",
       "    <tr>\n",
       "      <th>count</th>\n",
       "      <td>1997</td>\n",
       "    </tr>\n",
       "    <tr>\n",
       "      <th>unique</th>\n",
       "      <td>1961</td>\n",
       "    </tr>\n",
       "    <tr>\n",
       "      <th>top</th>\n",
       "      <td>Check out this listing I just added to my #Pos...</td>\n",
       "    </tr>\n",
       "    <tr>\n",
       "      <th>freq</th>\n",
       "      <td>4</td>\n",
       "    </tr>\n",
       "  </tbody>\n",
       "</table>\n",
       "</div>"
      ],
      "text/plain": [
       "                                                     text\n",
       "count                                                1997\n",
       "unique                                               1961\n",
       "top     Check out this listing I just added to my #Pos...\n",
       "freq                                                    4"
      ]
     },
     "execution_count": 106,
     "metadata": {},
     "output_type": "execute_result"
    }
   ],
   "source": [
    "skechers_tw.describe()"
   ]
  },
  {
   "cell_type": "code",
   "execution_count": 107,
   "id": "2d2525be",
   "metadata": {},
   "outputs": [
    {
     "data": {
      "text/plain": [
       "text    0\n",
       "dtype: int64"
      ]
     },
     "execution_count": 107,
     "metadata": {},
     "output_type": "execute_result"
    }
   ],
   "source": [
    "skechers_tw.isnull().sum()  # No existen nulos."
   ]
  },
  {
   "cell_type": "code",
   "execution_count": 108,
   "id": "5346acc2",
   "metadata": {},
   "outputs": [
    {
     "data": {
      "text/plain": [
       "36"
      ]
     },
     "execution_count": 108,
     "metadata": {},
     "output_type": "execute_result"
    }
   ],
   "source": [
    "skechers_tw.duplicated().sum() # Encontramos 36 valores duplicados."
   ]
  },
  {
   "cell_type": "code",
   "execution_count": 109,
   "id": "98a24b00",
   "metadata": {},
   "outputs": [],
   "source": [
    "drop_duplicates(skechers_tw) # Eliminamos los valores duplicados."
   ]
  },
  {
   "cell_type": "code",
   "execution_count": 110,
   "id": "6445fc67",
   "metadata": {},
   "outputs": [
    {
     "data": {
      "text/plain": [
       "(1961, 1)"
      ]
     },
     "execution_count": 110,
     "metadata": {},
     "output_type": "execute_result"
    }
   ],
   "source": [
    "skechers_tw.shape"
   ]
  },
  {
   "cell_type": "markdown",
   "id": "9a554594",
   "metadata": {},
   "source": [
    "### Hashtags."
   ]
  },
  {
   "cell_type": "markdown",
   "id": "ca41dc47",
   "metadata": {},
   "source": [
    "Queremos extraer los hastags de los tweets y almacenarlos en una nueva columna del DataFrame. Esto nos permitirá llevar a cabo un análisis específico de los hashtags una vez hecho el análisis del sentimiento de los tweets, relacionando el sentimiento con los hashtags utilizados en el tweet."
   ]
  },
  {
   "cell_type": "code",
   "execution_count": 111,
   "id": "6349c9ae",
   "metadata": {},
   "outputs": [],
   "source": [
    "skechers_tw['hashtags'] = skechers_tw.text.apply(extract_hashtags)"
   ]
  },
  {
   "cell_type": "code",
   "execution_count": 112,
   "id": "52c9b9c0",
   "metadata": {
    "scrolled": true
   },
   "outputs": [
    {
     "data": {
      "text/html": [
       "<div>\n",
       "<style scoped>\n",
       "    .dataframe tbody tr th:only-of-type {\n",
       "        vertical-align: middle;\n",
       "    }\n",
       "\n",
       "    .dataframe tbody tr th {\n",
       "        vertical-align: top;\n",
       "    }\n",
       "\n",
       "    .dataframe thead th {\n",
       "        text-align: right;\n",
       "    }\n",
       "</style>\n",
       "<table border=\"1\" class=\"dataframe\">\n",
       "  <thead>\n",
       "    <tr style=\"text-align: right;\">\n",
       "      <th></th>\n",
       "      <th>text</th>\n",
       "      <th>hashtags</th>\n",
       "    </tr>\n",
       "  </thead>\n",
       "  <tbody>\n",
       "    <tr>\n",
       "      <th>0</th>\n",
       "      <td>I don’t think this is true his mother is heavy...</td>\n",
       "      <td>[]</td>\n",
       "    </tr>\n",
       "    <tr>\n",
       "      <th>1</th>\n",
       "      <td>╱  the  skechers  gif  i’m  crying  😭😭</td>\n",
       "      <td>[]</td>\n",
       "    </tr>\n",
       "    <tr>\n",
       "      <th>2</th>\n",
       "      <td>Skechers USA jumps after President added $3.9M...</td>\n",
       "      <td>[]</td>\n",
       "    </tr>\n",
       "    <tr>\n",
       "      <th>3</th>\n",
       "      <td>So good I had to share! Check out all the item...</td>\n",
       "      <td>[#poshmark, #fashion, #style, #shopmycloset, #...</td>\n",
       "    </tr>\n",
       "    <tr>\n",
       "      <th>4</th>\n",
       "      <td>I was broke had it drippin in Skechers</td>\n",
       "      <td>[]</td>\n",
       "    </tr>\n",
       "  </tbody>\n",
       "</table>\n",
       "</div>"
      ],
      "text/plain": [
       "                                                text  \\\n",
       "0  I don’t think this is true his mother is heavy...   \n",
       "1             ╱  the  skechers  gif  i’m  crying  😭😭   \n",
       "2  Skechers USA jumps after President added $3.9M...   \n",
       "3  So good I had to share! Check out all the item...   \n",
       "4             I was broke had it drippin in Skechers   \n",
       "\n",
       "                                            hashtags  \n",
       "0                                                 []  \n",
       "1                                                 []  \n",
       "2                                                 []  \n",
       "3  [#poshmark, #fashion, #style, #shopmycloset, #...  \n",
       "4                                                 []  "
      ]
     },
     "execution_count": 112,
     "metadata": {},
     "output_type": "execute_result"
    }
   ],
   "source": [
    "skechers_tw.head()"
   ]
  },
  {
   "cell_type": "markdown",
   "id": "25cd8eed",
   "metadata": {},
   "source": [
    "### Preparing Data."
   ]
  },
  {
   "cell_type": "markdown",
   "id": "fc490c2a",
   "metadata": {},
   "source": [
    "**Limpieza básica:**\n",
    "- Pasamos todo a minúsculas.\n",
    "- Eliminamos usuarios ('@ + user' ya que en principio el nombre de los usuarios no aporta información relevante para el modelo).\n",
    "- Eliminamos urls.\n",
    "- Convertimos dígitos a números escritos.\n",
    "- Convertimos $ en 'dollars' y € en 'euros.\n",
    "- Eliminamos valores no alfabéticos: # (aunque manteniendo el texto que viene después ya que puede contener información relevante), signos de puntuación...\n",
    "\n",
    "Esta limpieza se ejecutará a través de nuestra función `basic_cleaning()`."
   ]
  },
  {
   "cell_type": "code",
   "execution_count": 113,
   "id": "1d70db14",
   "metadata": {},
   "outputs": [
    {
     "data": {
      "text/html": [
       "<div>\n",
       "<style scoped>\n",
       "    .dataframe tbody tr th:only-of-type {\n",
       "        vertical-align: middle;\n",
       "    }\n",
       "\n",
       "    .dataframe tbody tr th {\n",
       "        vertical-align: top;\n",
       "    }\n",
       "\n",
       "    .dataframe thead th {\n",
       "        text-align: right;\n",
       "    }\n",
       "</style>\n",
       "<table border=\"1\" class=\"dataframe\">\n",
       "  <thead>\n",
       "    <tr style=\"text-align: right;\">\n",
       "      <th></th>\n",
       "      <th>text</th>\n",
       "      <th>hashtags</th>\n",
       "    </tr>\n",
       "  </thead>\n",
       "  <tbody>\n",
       "    <tr>\n",
       "      <th>0</th>\n",
       "      <td>I don’t think this is true his mother is heavy...</td>\n",
       "      <td>[]</td>\n",
       "    </tr>\n",
       "    <tr>\n",
       "      <th>1</th>\n",
       "      <td>╱  the  skechers  gif  i’m  crying  😭😭</td>\n",
       "      <td>[]</td>\n",
       "    </tr>\n",
       "    <tr>\n",
       "      <th>2</th>\n",
       "      <td>Skechers USA jumps after President added $3.9M...</td>\n",
       "      <td>[]</td>\n",
       "    </tr>\n",
       "    <tr>\n",
       "      <th>3</th>\n",
       "      <td>So good I had to share! Check out all the item...</td>\n",
       "      <td>[#poshmark, #fashion, #style, #shopmycloset, #...</td>\n",
       "    </tr>\n",
       "    <tr>\n",
       "      <th>4</th>\n",
       "      <td>I was broke had it drippin in Skechers</td>\n",
       "      <td>[]</td>\n",
       "    </tr>\n",
       "  </tbody>\n",
       "</table>\n",
       "</div>"
      ],
      "text/plain": [
       "                                                text  \\\n",
       "0  I don’t think this is true his mother is heavy...   \n",
       "1             ╱  the  skechers  gif  i’m  crying  😭😭   \n",
       "2  Skechers USA jumps after President added $3.9M...   \n",
       "3  So good I had to share! Check out all the item...   \n",
       "4             I was broke had it drippin in Skechers   \n",
       "\n",
       "                                            hashtags  \n",
       "0                                                 []  \n",
       "1                                                 []  \n",
       "2                                                 []  \n",
       "3  [#poshmark, #fashion, #style, #shopmycloset, #...  \n",
       "4                                                 []  "
      ]
     },
     "execution_count": 113,
     "metadata": {},
     "output_type": "execute_result"
    }
   ],
   "source": [
    "skechers_tw.head()"
   ]
  },
  {
   "cell_type": "code",
   "execution_count": 114,
   "id": "4753d87e",
   "metadata": {},
   "outputs": [],
   "source": [
    "skechers_tw['text'] = skechers_tw.text.apply(basic_cleaning)"
   ]
  },
  {
   "cell_type": "code",
   "execution_count": 115,
   "id": "45f3b982",
   "metadata": {},
   "outputs": [
    {
     "data": {
      "text/html": [
       "<div>\n",
       "<style scoped>\n",
       "    .dataframe tbody tr th:only-of-type {\n",
       "        vertical-align: middle;\n",
       "    }\n",
       "\n",
       "    .dataframe tbody tr th {\n",
       "        vertical-align: top;\n",
       "    }\n",
       "\n",
       "    .dataframe thead th {\n",
       "        text-align: right;\n",
       "    }\n",
       "</style>\n",
       "<table border=\"1\" class=\"dataframe\">\n",
       "  <thead>\n",
       "    <tr style=\"text-align: right;\">\n",
       "      <th></th>\n",
       "      <th>text</th>\n",
       "      <th>hashtags</th>\n",
       "    </tr>\n",
       "  </thead>\n",
       "  <tbody>\n",
       "    <tr>\n",
       "      <th>0</th>\n",
       "      <td>i don t think this is true his mother is heavy...</td>\n",
       "      <td>[]</td>\n",
       "    </tr>\n",
       "    <tr>\n",
       "      <th>1</th>\n",
       "      <td>the skechers gif i m crying</td>\n",
       "      <td>[]</td>\n",
       "    </tr>\n",
       "    <tr>\n",
       "      <th>2</th>\n",
       "      <td>skechers usa jumps after president added dolla...</td>\n",
       "      <td>[]</td>\n",
       "    </tr>\n",
       "    <tr>\n",
       "      <th>3</th>\n",
       "      <td>so good i had to share check out all the items...</td>\n",
       "      <td>[#poshmark, #fashion, #style, #shopmycloset, #...</td>\n",
       "    </tr>\n",
       "    <tr>\n",
       "      <th>4</th>\n",
       "      <td>i was broke had it drippin in skechers</td>\n",
       "      <td>[]</td>\n",
       "    </tr>\n",
       "  </tbody>\n",
       "</table>\n",
       "</div>"
      ],
      "text/plain": [
       "                                                text  \\\n",
       "0  i don t think this is true his mother is heavy...   \n",
       "1                        the skechers gif i m crying   \n",
       "2  skechers usa jumps after president added dolla...   \n",
       "3  so good i had to share check out all the items...   \n",
       "4             i was broke had it drippin in skechers   \n",
       "\n",
       "                                            hashtags  \n",
       "0                                                 []  \n",
       "1                                                 []  \n",
       "2                                                 []  \n",
       "3  [#poshmark, #fashion, #style, #shopmycloset, #...  \n",
       "4                                                 []  "
      ]
     },
     "execution_count": 115,
     "metadata": {},
     "output_type": "execute_result"
    }
   ],
   "source": [
    "skechers_tw.head()"
   ]
  },
  {
   "cell_type": "markdown",
   "id": "153c7cad",
   "metadata": {},
   "source": [
    "### Subsets."
   ]
  },
  {
   "cell_type": "markdown",
   "id": "ccdc0e34",
   "metadata": {},
   "source": [
    "En esta primera versión de la herramienta construiremos el mapa de posicionamiento en base a dos atributos de marca (variables): calidad y precio. Estos son los dos atributos básicos más utilizados de manera general en los mapas de posicionamiento (los mapas más sofisticados introducen ya otros atributos más específicos).\n",
    "\n",
    "Para poder completar el proceso de mapeo, lo primero que debemos hacer es dividir los datos (tweets recopilados) en dos subsets: los que hacen referencia al precio y los que hacen referencia a la calidad. Una vez subdivididos, ya podremos introducir los datos en el modelo NLP para evaluar el sentimiento en cada subset.\n",
    "\n",
    "La subdivisión nos permite diferenciar el sentimiento de los tweets que hablan del precio, del sentimiento en torno a la calidad general de la marca en cuestión. Esto es lo que haremos en esta etapa del proceso, en este caso sobre los tweets que mencionan a Nike."
   ]
  },
  {
   "cell_type": "markdown",
   "id": "3cd65cfb",
   "metadata": {},
   "source": [
    "1. Generamos una nueva columna que recoge la temática del tweet (atributo al que hace refencia)."
   ]
  },
  {
   "cell_type": "code",
   "execution_count": 116,
   "id": "9e5da39b",
   "metadata": {
    "scrolled": true
   },
   "outputs": [],
   "source": [
    "skechers_tw['brand_attribute'] = skechers_tw['text'].apply(data_groups)"
   ]
  },
  {
   "cell_type": "code",
   "execution_count": 117,
   "id": "93818c65",
   "metadata": {
    "scrolled": false
   },
   "outputs": [
    {
     "data": {
      "text/html": [
       "<div>\n",
       "<style scoped>\n",
       "    .dataframe tbody tr th:only-of-type {\n",
       "        vertical-align: middle;\n",
       "    }\n",
       "\n",
       "    .dataframe tbody tr th {\n",
       "        vertical-align: top;\n",
       "    }\n",
       "\n",
       "    .dataframe thead th {\n",
       "        text-align: right;\n",
       "    }\n",
       "</style>\n",
       "<table border=\"1\" class=\"dataframe\">\n",
       "  <thead>\n",
       "    <tr style=\"text-align: right;\">\n",
       "      <th></th>\n",
       "      <th>text</th>\n",
       "      <th>hashtags</th>\n",
       "      <th>brand_attribute</th>\n",
       "    </tr>\n",
       "  </thead>\n",
       "  <tbody>\n",
       "    <tr>\n",
       "      <th>0</th>\n",
       "      <td>i don t think this is true his mother is heavy...</td>\n",
       "      <td>[]</td>\n",
       "      <td>quality</td>\n",
       "    </tr>\n",
       "    <tr>\n",
       "      <th>1</th>\n",
       "      <td>the skechers gif i m crying</td>\n",
       "      <td>[]</td>\n",
       "      <td>quality</td>\n",
       "    </tr>\n",
       "    <tr>\n",
       "      <th>2</th>\n",
       "      <td>skechers usa jumps after president added dolla...</td>\n",
       "      <td>[]</td>\n",
       "      <td>price</td>\n",
       "    </tr>\n",
       "    <tr>\n",
       "      <th>3</th>\n",
       "      <td>so good i had to share check out all the items...</td>\n",
       "      <td>[#poshmark, #fashion, #style, #shopmycloset, #...</td>\n",
       "      <td>quality</td>\n",
       "    </tr>\n",
       "    <tr>\n",
       "      <th>4</th>\n",
       "      <td>i was broke had it drippin in skechers</td>\n",
       "      <td>[]</td>\n",
       "      <td>quality</td>\n",
       "    </tr>\n",
       "  </tbody>\n",
       "</table>\n",
       "</div>"
      ],
      "text/plain": [
       "                                                text  \\\n",
       "0  i don t think this is true his mother is heavy...   \n",
       "1                        the skechers gif i m crying   \n",
       "2  skechers usa jumps after president added dolla...   \n",
       "3  so good i had to share check out all the items...   \n",
       "4             i was broke had it drippin in skechers   \n",
       "\n",
       "                                            hashtags brand_attribute  \n",
       "0                                                 []         quality  \n",
       "1                                                 []         quality  \n",
       "2                                                 []           price  \n",
       "3  [#poshmark, #fashion, #style, #shopmycloset, #...         quality  \n",
       "4                                                 []         quality  "
      ]
     },
     "execution_count": 117,
     "metadata": {},
     "output_type": "execute_result"
    }
   ],
   "source": [
    "skechers_tw.head()"
   ]
  },
  {
   "cell_type": "code",
   "execution_count": 118,
   "id": "f51f7a77",
   "metadata": {},
   "outputs": [
    {
     "data": {
      "text/plain": [
       "quality    1654\n",
       "price       307\n",
       "Name: brand_attribute, dtype: int64"
      ]
     },
     "execution_count": 118,
     "metadata": {},
     "output_type": "execute_result"
    }
   ],
   "source": [
    "skechers_tw.brand_attribute.value_counts()"
   ]
  },
  {
   "cell_type": "markdown",
   "id": "365a1c25",
   "metadata": {},
   "source": [
    "2. Exportamos los subsets de Nike (uno de calidad y otro de precio).\n",
    "\n",
    "    2.1. Precio:"
   ]
  },
  {
   "cell_type": "code",
   "execution_count": 119,
   "id": "72b206ff",
   "metadata": {},
   "outputs": [],
   "source": [
    "skechers_price = pd.DataFrame(skechers_tw.where(skechers_tw.brand_attribute=='price').dropna().drop('brand_attribute',axis=1))"
   ]
  },
  {
   "cell_type": "code",
   "execution_count": 120,
   "id": "4917e21d",
   "metadata": {},
   "outputs": [
    {
     "data": {
      "text/plain": [
       "text        0\n",
       "hashtags    0\n",
       "dtype: int64"
      ]
     },
     "execution_count": 120,
     "metadata": {},
     "output_type": "execute_result"
    }
   ],
   "source": [
    "skechers_price.isnull().sum()"
   ]
  },
  {
   "cell_type": "code",
   "execution_count": 121,
   "id": "18b5d518",
   "metadata": {},
   "outputs": [
    {
     "data": {
      "text/plain": [
       "(307, 2)"
      ]
     },
     "execution_count": 121,
     "metadata": {},
     "output_type": "execute_result"
    }
   ],
   "source": [
    "skechers_price.shape"
   ]
  },
  {
   "cell_type": "code",
   "execution_count": 122,
   "id": "5b3a3df4",
   "metadata": {},
   "outputs": [],
   "source": [
    "# Exportamos el subset de precio.\n",
    "\n",
    "skechers_price.to_csv('data/skechers_price.csv', index = False)"
   ]
  },
  {
   "cell_type": "markdown",
   "id": "a2e69525",
   "metadata": {},
   "source": [
    "    2.2. Calidad:"
   ]
  },
  {
   "cell_type": "code",
   "execution_count": 123,
   "id": "ccfd2352",
   "metadata": {},
   "outputs": [],
   "source": [
    "skechers_quality = pd.DataFrame(skechers_tw.where(skechers_tw.brand_attribute=='quality').dropna().drop('brand_attribute',axis=1))"
   ]
  },
  {
   "cell_type": "code",
   "execution_count": 124,
   "id": "067953ba",
   "metadata": {},
   "outputs": [
    {
     "data": {
      "text/plain": [
       "text        0\n",
       "hashtags    0\n",
       "dtype: int64"
      ]
     },
     "execution_count": 124,
     "metadata": {},
     "output_type": "execute_result"
    }
   ],
   "source": [
    "skechers_quality.isnull().sum()"
   ]
  },
  {
   "cell_type": "code",
   "execution_count": 125,
   "id": "035fddb0",
   "metadata": {},
   "outputs": [
    {
     "data": {
      "text/plain": [
       "(1654, 2)"
      ]
     },
     "execution_count": 125,
     "metadata": {},
     "output_type": "execute_result"
    }
   ],
   "source": [
    "skechers_quality.shape"
   ]
  },
  {
   "cell_type": "code",
   "execution_count": 126,
   "id": "0dd50b96",
   "metadata": {},
   "outputs": [],
   "source": [
    "# Exportamos el subset de calidad.\n",
    "\n",
    "skechers_quality.to_csv('data/skechers_quality.csv', index = False)"
   ]
  },
  {
   "cell_type": "markdown",
   "id": "f3a10599",
   "metadata": {},
   "source": [
    "**Nota importante:**\n",
    "\n",
    "Aunque hemos exportado cada subset en archivos csv independientes (lo tenemos guardado de manera desagregada), en realidad trabajaremos con un único DataFrame que contenga todos los tweets analizados (los de todas las marcas y todos los atributos). En este DataFrame recogeremos en una columna la marca a la que hacen referencia y en otra columna el atributo al que se refieren (calidad y precio). Esto lo hacemos así porque nos permitirá agilizar mucho los procesos de visualización de resultados y obtener gráficos de mejor calidad (podremos filtrar en función de la marca y el atributo, al tiempo que manejamos un único DataFrame para mayor eficiencia)."
   ]
  },
  {
   "cell_type": "markdown",
   "id": "cb4a6fe9",
   "metadata": {},
   "source": [
    "## Under Armour data."
   ]
  },
  {
   "cell_type": "code",
   "execution_count": 127,
   "id": "23dcbdf2",
   "metadata": {},
   "outputs": [],
   "source": [
    "under_armour = pd.read_csv('data/under_armour.csv')"
   ]
  },
  {
   "cell_type": "code",
   "execution_count": 128,
   "id": "597ba4ab",
   "metadata": {},
   "outputs": [],
   "source": [
    "under_armour_tw = pd.DataFrame(under_armour.text)"
   ]
  },
  {
   "cell_type": "markdown",
   "id": "dbf36739",
   "metadata": {},
   "source": [
    "### Exploración inicial de los datos:"
   ]
  },
  {
   "cell_type": "code",
   "execution_count": 129,
   "id": "2f597637",
   "metadata": {},
   "outputs": [
    {
     "data": {
      "text/plain": [
       "(1998, 1)"
      ]
     },
     "execution_count": 129,
     "metadata": {},
     "output_type": "execute_result"
    }
   ],
   "source": [
    "under_armour_tw.shape"
   ]
  },
  {
   "cell_type": "code",
   "execution_count": 130,
   "id": "28a64501",
   "metadata": {},
   "outputs": [
    {
     "name": "stdout",
     "output_type": "stream",
     "text": [
      "<class 'pandas.core.frame.DataFrame'>\n",
      "RangeIndex: 1998 entries, 0 to 1997\n",
      "Data columns (total 1 columns):\n",
      " #   Column  Non-Null Count  Dtype \n",
      "---  ------  --------------  ----- \n",
      " 0   text    1998 non-null   object\n",
      "dtypes: object(1)\n",
      "memory usage: 15.7+ KB\n"
     ]
    }
   ],
   "source": [
    "under_armour_tw.info()"
   ]
  },
  {
   "cell_type": "code",
   "execution_count": 131,
   "id": "295c7cae",
   "metadata": {},
   "outputs": [
    {
     "data": {
      "text/html": [
       "<div>\n",
       "<style scoped>\n",
       "    .dataframe tbody tr th:only-of-type {\n",
       "        vertical-align: middle;\n",
       "    }\n",
       "\n",
       "    .dataframe tbody tr th {\n",
       "        vertical-align: top;\n",
       "    }\n",
       "\n",
       "    .dataframe thead th {\n",
       "        text-align: right;\n",
       "    }\n",
       "</style>\n",
       "<table border=\"1\" class=\"dataframe\">\n",
       "  <thead>\n",
       "    <tr style=\"text-align: right;\">\n",
       "      <th></th>\n",
       "      <th>text</th>\n",
       "    </tr>\n",
       "  </thead>\n",
       "  <tbody>\n",
       "    <tr>\n",
       "      <th>count</th>\n",
       "      <td>1998</td>\n",
       "    </tr>\n",
       "    <tr>\n",
       "      <th>unique</th>\n",
       "      <td>1940</td>\n",
       "    </tr>\n",
       "    <tr>\n",
       "      <th>top</th>\n",
       "      <td>Too little, too late, you'll never change! Som...</td>\n",
       "    </tr>\n",
       "    <tr>\n",
       "      <th>freq</th>\n",
       "      <td>5</td>\n",
       "    </tr>\n",
       "  </tbody>\n",
       "</table>\n",
       "</div>"
      ],
      "text/plain": [
       "                                                     text\n",
       "count                                                1998\n",
       "unique                                               1940\n",
       "top     Too little, too late, you'll never change! Som...\n",
       "freq                                                    5"
      ]
     },
     "execution_count": 131,
     "metadata": {},
     "output_type": "execute_result"
    }
   ],
   "source": [
    "under_armour_tw.describe()"
   ]
  },
  {
   "cell_type": "code",
   "execution_count": 132,
   "id": "41d875ad",
   "metadata": {},
   "outputs": [
    {
     "data": {
      "text/plain": [
       "text    0\n",
       "dtype: int64"
      ]
     },
     "execution_count": 132,
     "metadata": {},
     "output_type": "execute_result"
    }
   ],
   "source": [
    "under_armour_tw.isnull().sum()  # No existen nulos."
   ]
  },
  {
   "cell_type": "code",
   "execution_count": 133,
   "id": "e01ab51d",
   "metadata": {},
   "outputs": [
    {
     "data": {
      "text/plain": [
       "58"
      ]
     },
     "execution_count": 133,
     "metadata": {},
     "output_type": "execute_result"
    }
   ],
   "source": [
    "under_armour_tw.duplicated().sum() # Encontramos 58 valores duplicados."
   ]
  },
  {
   "cell_type": "code",
   "execution_count": 134,
   "id": "3fba6fad",
   "metadata": {},
   "outputs": [],
   "source": [
    "drop_duplicates(under_armour_tw) # Eliminamos los valores duplicados."
   ]
  },
  {
   "cell_type": "code",
   "execution_count": 135,
   "id": "20b7e746",
   "metadata": {},
   "outputs": [
    {
     "data": {
      "text/plain": [
       "(1940, 1)"
      ]
     },
     "execution_count": 135,
     "metadata": {},
     "output_type": "execute_result"
    }
   ],
   "source": [
    "under_armour_tw.shape"
   ]
  },
  {
   "cell_type": "markdown",
   "id": "845628a4",
   "metadata": {},
   "source": [
    "### Hashtags."
   ]
  },
  {
   "cell_type": "markdown",
   "id": "2b356dd2",
   "metadata": {},
   "source": [
    "Queremos extraer los hastags de los tweets y almacenarlos en una nueva columna del DataFrame. Esto nos permitirá llevar a cabo un análisis específico de los hashtags una vez hecho el análisis del sentimiento de los tweets, relacionando el sentimiento con los hashtags utilizados en el tweet."
   ]
  },
  {
   "cell_type": "code",
   "execution_count": 136,
   "id": "10cc9fc1",
   "metadata": {},
   "outputs": [],
   "source": [
    "under_armour_tw['hashtags'] = under_armour_tw.text.apply(extract_hashtags)"
   ]
  },
  {
   "cell_type": "code",
   "execution_count": 137,
   "id": "65a43415",
   "metadata": {
    "scrolled": true
   },
   "outputs": [
    {
     "data": {
      "text/html": [
       "<div>\n",
       "<style scoped>\n",
       "    .dataframe tbody tr th:only-of-type {\n",
       "        vertical-align: middle;\n",
       "    }\n",
       "\n",
       "    .dataframe tbody tr th {\n",
       "        vertical-align: top;\n",
       "    }\n",
       "\n",
       "    .dataframe thead th {\n",
       "        text-align: right;\n",
       "    }\n",
       "</style>\n",
       "<table border=\"1\" class=\"dataframe\">\n",
       "  <thead>\n",
       "    <tr style=\"text-align: right;\">\n",
       "      <th></th>\n",
       "      <th>text</th>\n",
       "      <th>hashtags</th>\n",
       "    </tr>\n",
       "  </thead>\n",
       "  <tbody>\n",
       "    <tr>\n",
       "      <th>0</th>\n",
       "      <td>“ I would…appreciate the help with the armour....</td>\n",
       "      <td>[]</td>\n",
       "    </tr>\n",
       "    <tr>\n",
       "      <th>1</th>\n",
       "      <td>@EuphoriantForce Boots (Under Armour Stellar)\\...</td>\n",
       "      <td>[]</td>\n",
       "    </tr>\n",
       "    <tr>\n",
       "      <th>2</th>\n",
       "      <td>Under Armour NEW Blue Womens Size XL Compressi...</td>\n",
       "      <td>[#eBay🇺🇸, #Women, #Pants]</td>\n",
       "    </tr>\n",
       "    <tr>\n",
       "      <th>3</th>\n",
       "      <td>Boycott Under Armour for Promoting Trophy-Hunt...</td>\n",
       "      <td>[]</td>\n",
       "    </tr>\n",
       "    <tr>\n",
       "      <th>4</th>\n",
       "      <td>Under Armour Men's Rival Fleece Big Logo Hoodi...</td>\n",
       "      <td>[]</td>\n",
       "    </tr>\n",
       "  </tbody>\n",
       "</table>\n",
       "</div>"
      ],
      "text/plain": [
       "                                                text  \\\n",
       "0  “ I would…appreciate the help with the armour....   \n",
       "1  @EuphoriantForce Boots (Under Armour Stellar)\\...   \n",
       "2  Under Armour NEW Blue Womens Size XL Compressi...   \n",
       "3  Boycott Under Armour for Promoting Trophy-Hunt...   \n",
       "4  Under Armour Men's Rival Fleece Big Logo Hoodi...   \n",
       "\n",
       "                    hashtags  \n",
       "0                         []  \n",
       "1                         []  \n",
       "2  [#eBay🇺🇸, #Women, #Pants]  \n",
       "3                         []  \n",
       "4                         []  "
      ]
     },
     "execution_count": 137,
     "metadata": {},
     "output_type": "execute_result"
    }
   ],
   "source": [
    "under_armour_tw.head()"
   ]
  },
  {
   "cell_type": "markdown",
   "id": "a87616f1",
   "metadata": {},
   "source": [
    "### Preparing Data."
   ]
  },
  {
   "cell_type": "markdown",
   "id": "136de59d",
   "metadata": {},
   "source": [
    "**Limpieza básica:**\n",
    "- Pasamos todo a minúsculas.\n",
    "- Eliminamos usuarios ('@ + user' ya que en principio el nombre de los usuarios no aporta información relevante para el modelo).\n",
    "- Eliminamos urls.\n",
    "- Convertimos dígitos a números escritos.\n",
    "- Convertimos $ en 'dollars' y € en 'euros.\n",
    "- Eliminamos valores no alfabéticos: # (aunque manteniendo el texto que viene después ya que puede contener información relevante), signos de puntuación...\n",
    "\n",
    "Esta limpieza se ejecutará a través de nuestra función `basic_cleaning()`."
   ]
  },
  {
   "cell_type": "code",
   "execution_count": 138,
   "id": "7b2453d2",
   "metadata": {},
   "outputs": [
    {
     "data": {
      "text/html": [
       "<div>\n",
       "<style scoped>\n",
       "    .dataframe tbody tr th:only-of-type {\n",
       "        vertical-align: middle;\n",
       "    }\n",
       "\n",
       "    .dataframe tbody tr th {\n",
       "        vertical-align: top;\n",
       "    }\n",
       "\n",
       "    .dataframe thead th {\n",
       "        text-align: right;\n",
       "    }\n",
       "</style>\n",
       "<table border=\"1\" class=\"dataframe\">\n",
       "  <thead>\n",
       "    <tr style=\"text-align: right;\">\n",
       "      <th></th>\n",
       "      <th>text</th>\n",
       "      <th>hashtags</th>\n",
       "    </tr>\n",
       "  </thead>\n",
       "  <tbody>\n",
       "    <tr>\n",
       "      <th>0</th>\n",
       "      <td>“ I would…appreciate the help with the armour....</td>\n",
       "      <td>[]</td>\n",
       "    </tr>\n",
       "    <tr>\n",
       "      <th>1</th>\n",
       "      <td>@EuphoriantForce Boots (Under Armour Stellar)\\...</td>\n",
       "      <td>[]</td>\n",
       "    </tr>\n",
       "    <tr>\n",
       "      <th>2</th>\n",
       "      <td>Under Armour NEW Blue Womens Size XL Compressi...</td>\n",
       "      <td>[#eBay🇺🇸, #Women, #Pants]</td>\n",
       "    </tr>\n",
       "    <tr>\n",
       "      <th>3</th>\n",
       "      <td>Boycott Under Armour for Promoting Trophy-Hunt...</td>\n",
       "      <td>[]</td>\n",
       "    </tr>\n",
       "    <tr>\n",
       "      <th>4</th>\n",
       "      <td>Under Armour Men's Rival Fleece Big Logo Hoodi...</td>\n",
       "      <td>[]</td>\n",
       "    </tr>\n",
       "  </tbody>\n",
       "</table>\n",
       "</div>"
      ],
      "text/plain": [
       "                                                text  \\\n",
       "0  “ I would…appreciate the help with the armour....   \n",
       "1  @EuphoriantForce Boots (Under Armour Stellar)\\...   \n",
       "2  Under Armour NEW Blue Womens Size XL Compressi...   \n",
       "3  Boycott Under Armour for Promoting Trophy-Hunt...   \n",
       "4  Under Armour Men's Rival Fleece Big Logo Hoodi...   \n",
       "\n",
       "                    hashtags  \n",
       "0                         []  \n",
       "1                         []  \n",
       "2  [#eBay🇺🇸, #Women, #Pants]  \n",
       "3                         []  \n",
       "4                         []  "
      ]
     },
     "execution_count": 138,
     "metadata": {},
     "output_type": "execute_result"
    }
   ],
   "source": [
    "under_armour_tw.head()"
   ]
  },
  {
   "cell_type": "code",
   "execution_count": 139,
   "id": "7a53e6b1",
   "metadata": {},
   "outputs": [],
   "source": [
    "under_armour_tw['text'] = under_armour_tw.text.apply(basic_cleaning)"
   ]
  },
  {
   "cell_type": "code",
   "execution_count": 140,
   "id": "fa561310",
   "metadata": {},
   "outputs": [
    {
     "data": {
      "text/html": [
       "<div>\n",
       "<style scoped>\n",
       "    .dataframe tbody tr th:only-of-type {\n",
       "        vertical-align: middle;\n",
       "    }\n",
       "\n",
       "    .dataframe tbody tr th {\n",
       "        vertical-align: top;\n",
       "    }\n",
       "\n",
       "    .dataframe thead th {\n",
       "        text-align: right;\n",
       "    }\n",
       "</style>\n",
       "<table border=\"1\" class=\"dataframe\">\n",
       "  <thead>\n",
       "    <tr style=\"text-align: right;\">\n",
       "      <th></th>\n",
       "      <th>text</th>\n",
       "      <th>hashtags</th>\n",
       "    </tr>\n",
       "  </thead>\n",
       "  <tbody>\n",
       "    <tr>\n",
       "      <th>0</th>\n",
       "      <td>i would appreciate the help with the armour he...</td>\n",
       "      <td>[]</td>\n",
       "    </tr>\n",
       "    <tr>\n",
       "      <th>1</th>\n",
       "      <td>boots under armour stellar then usually some s...</td>\n",
       "      <td>[]</td>\n",
       "    </tr>\n",
       "    <tr>\n",
       "      <th>2</th>\n",
       "      <td>under armour new blue womens size xl compressi...</td>\n",
       "      <td>[#eBay🇺🇸, #Women, #Pants]</td>\n",
       "    </tr>\n",
       "    <tr>\n",
       "      <th>3</th>\n",
       "      <td>boycott under armour for promoting trophy hunt...</td>\n",
       "      <td>[]</td>\n",
       "    </tr>\n",
       "    <tr>\n",
       "      <th>4</th>\n",
       "      <td>under armour men s rival fleece big logo hoodie</td>\n",
       "      <td>[]</td>\n",
       "    </tr>\n",
       "  </tbody>\n",
       "</table>\n",
       "</div>"
      ],
      "text/plain": [
       "                                                text  \\\n",
       "0  i would appreciate the help with the armour he...   \n",
       "1  boots under armour stellar then usually some s...   \n",
       "2  under armour new blue womens size xl compressi...   \n",
       "3  boycott under armour for promoting trophy hunt...   \n",
       "4    under armour men s rival fleece big logo hoodie   \n",
       "\n",
       "                    hashtags  \n",
       "0                         []  \n",
       "1                         []  \n",
       "2  [#eBay🇺🇸, #Women, #Pants]  \n",
       "3                         []  \n",
       "4                         []  "
      ]
     },
     "execution_count": 140,
     "metadata": {},
     "output_type": "execute_result"
    }
   ],
   "source": [
    "under_armour_tw.head()"
   ]
  },
  {
   "cell_type": "markdown",
   "id": "19048a46",
   "metadata": {},
   "source": [
    "### Subsets."
   ]
  },
  {
   "cell_type": "markdown",
   "id": "85d46ea2",
   "metadata": {},
   "source": [
    "En esta primera versión de la herramienta construiremos el mapa de posicionamiento en base a dos atributos de marca (variables): calidad y precio. Estos son los dos atributos básicos más utilizados de manera general en los mapas de posicionamiento (los mapas más sofisticados introducen ya otros atributos más específicos).\n",
    "\n",
    "Para poder completar el proceso de mapeo, lo primero que debemos hacer es dividir los datos (tweets recopilados) en dos subsets: los que hacen referencia al precio y los que hacen referencia a la calidad. Una vez subdivididos, ya podremos introducir los datos en el modelo NLP para evaluar el sentimiento en cada subset.\n",
    "\n",
    "La subdivisión nos permite diferenciar el sentimiento de los tweets que hablan del precio, del sentimiento en torno a la calidad general de la marca en cuestión. Esto es lo que haremos en esta etapa del proceso, en este caso sobre los tweets que mencionan a Nike."
   ]
  },
  {
   "cell_type": "markdown",
   "id": "ad490c06",
   "metadata": {},
   "source": [
    "1. Generamos una nueva columna que recoge la temática del tweet (atributo al que hace refencia)."
   ]
  },
  {
   "cell_type": "code",
   "execution_count": 141,
   "id": "54f005c9",
   "metadata": {
    "scrolled": true
   },
   "outputs": [],
   "source": [
    "under_armour_tw['brand_attribute'] = under_armour_tw['text'].apply(data_groups)"
   ]
  },
  {
   "cell_type": "code",
   "execution_count": 142,
   "id": "1f83d7aa",
   "metadata": {
    "scrolled": false
   },
   "outputs": [
    {
     "data": {
      "text/html": [
       "<div>\n",
       "<style scoped>\n",
       "    .dataframe tbody tr th:only-of-type {\n",
       "        vertical-align: middle;\n",
       "    }\n",
       "\n",
       "    .dataframe tbody tr th {\n",
       "        vertical-align: top;\n",
       "    }\n",
       "\n",
       "    .dataframe thead th {\n",
       "        text-align: right;\n",
       "    }\n",
       "</style>\n",
       "<table border=\"1\" class=\"dataframe\">\n",
       "  <thead>\n",
       "    <tr style=\"text-align: right;\">\n",
       "      <th></th>\n",
       "      <th>text</th>\n",
       "      <th>hashtags</th>\n",
       "      <th>brand_attribute</th>\n",
       "    </tr>\n",
       "  </thead>\n",
       "  <tbody>\n",
       "    <tr>\n",
       "      <th>0</th>\n",
       "      <td>i would appreciate the help with the armour he...</td>\n",
       "      <td>[]</td>\n",
       "      <td>quality</td>\n",
       "    </tr>\n",
       "    <tr>\n",
       "      <th>1</th>\n",
       "      <td>boots under armour stellar then usually some s...</td>\n",
       "      <td>[]</td>\n",
       "      <td>quality</td>\n",
       "    </tr>\n",
       "    <tr>\n",
       "      <th>2</th>\n",
       "      <td>under armour new blue womens size xl compressi...</td>\n",
       "      <td>[#eBay🇺🇸, #Women, #Pants]</td>\n",
       "      <td>price</td>\n",
       "    </tr>\n",
       "    <tr>\n",
       "      <th>3</th>\n",
       "      <td>boycott under armour for promoting trophy hunt...</td>\n",
       "      <td>[]</td>\n",
       "      <td>quality</td>\n",
       "    </tr>\n",
       "    <tr>\n",
       "      <th>4</th>\n",
       "      <td>under armour men s rival fleece big logo hoodie</td>\n",
       "      <td>[]</td>\n",
       "      <td>quality</td>\n",
       "    </tr>\n",
       "  </tbody>\n",
       "</table>\n",
       "</div>"
      ],
      "text/plain": [
       "                                                text  \\\n",
       "0  i would appreciate the help with the armour he...   \n",
       "1  boots under armour stellar then usually some s...   \n",
       "2  under armour new blue womens size xl compressi...   \n",
       "3  boycott under armour for promoting trophy hunt...   \n",
       "4    under armour men s rival fleece big logo hoodie   \n",
       "\n",
       "                    hashtags brand_attribute  \n",
       "0                         []         quality  \n",
       "1                         []         quality  \n",
       "2  [#eBay🇺🇸, #Women, #Pants]           price  \n",
       "3                         []         quality  \n",
       "4                         []         quality  "
      ]
     },
     "execution_count": 142,
     "metadata": {},
     "output_type": "execute_result"
    }
   ],
   "source": [
    "under_armour_tw.head()"
   ]
  },
  {
   "cell_type": "code",
   "execution_count": 143,
   "id": "31853bfa",
   "metadata": {},
   "outputs": [
    {
     "data": {
      "text/plain": [
       "quality    1594\n",
       "price       346\n",
       "Name: brand_attribute, dtype: int64"
      ]
     },
     "execution_count": 143,
     "metadata": {},
     "output_type": "execute_result"
    }
   ],
   "source": [
    "under_armour_tw.brand_attribute.value_counts()"
   ]
  },
  {
   "cell_type": "markdown",
   "id": "ae9b46cb",
   "metadata": {},
   "source": [
    "2. Exportamos los subsets de Nike (uno de calidad y otro de precio).\n",
    "\n",
    "    2.1. Precio:"
   ]
  },
  {
   "cell_type": "code",
   "execution_count": 144,
   "id": "81de0929",
   "metadata": {},
   "outputs": [],
   "source": [
    "under_armour_price = pd.DataFrame(under_armour_tw.where(under_armour_tw.brand_attribute=='price').dropna().drop('brand_attribute',axis=1))"
   ]
  },
  {
   "cell_type": "code",
   "execution_count": 145,
   "id": "dff9a7b0",
   "metadata": {},
   "outputs": [
    {
     "data": {
      "text/plain": [
       "text        0\n",
       "hashtags    0\n",
       "dtype: int64"
      ]
     },
     "execution_count": 145,
     "metadata": {},
     "output_type": "execute_result"
    }
   ],
   "source": [
    "under_armour_price.isnull().sum()"
   ]
  },
  {
   "cell_type": "code",
   "execution_count": 146,
   "id": "8033226a",
   "metadata": {},
   "outputs": [
    {
     "data": {
      "text/plain": [
       "(346, 2)"
      ]
     },
     "execution_count": 146,
     "metadata": {},
     "output_type": "execute_result"
    }
   ],
   "source": [
    "under_armour_price.shape"
   ]
  },
  {
   "cell_type": "code",
   "execution_count": 147,
   "id": "7c2c7820",
   "metadata": {},
   "outputs": [],
   "source": [
    "# Exportamos el subset de precio.\n",
    "\n",
    "under_armour_price.to_csv('data/under_armour_price.csv', index = False)"
   ]
  },
  {
   "cell_type": "markdown",
   "id": "6f338cea",
   "metadata": {},
   "source": [
    "    2.2. Calidad:"
   ]
  },
  {
   "cell_type": "code",
   "execution_count": 148,
   "id": "1164fbb7",
   "metadata": {},
   "outputs": [],
   "source": [
    "under_armour_quality = pd.DataFrame(under_armour_tw.where(under_armour_tw.brand_attribute=='quality').dropna().drop('brand_attribute',axis=1))"
   ]
  },
  {
   "cell_type": "code",
   "execution_count": 149,
   "id": "a8982493",
   "metadata": {},
   "outputs": [
    {
     "data": {
      "text/plain": [
       "text        0\n",
       "hashtags    0\n",
       "dtype: int64"
      ]
     },
     "execution_count": 149,
     "metadata": {},
     "output_type": "execute_result"
    }
   ],
   "source": [
    "under_armour_quality.isnull().sum()"
   ]
  },
  {
   "cell_type": "code",
   "execution_count": 150,
   "id": "08176f54",
   "metadata": {},
   "outputs": [
    {
     "data": {
      "text/plain": [
       "(1594, 2)"
      ]
     },
     "execution_count": 150,
     "metadata": {},
     "output_type": "execute_result"
    }
   ],
   "source": [
    "under_armour_quality.shape"
   ]
  },
  {
   "cell_type": "code",
   "execution_count": 151,
   "id": "9786634b",
   "metadata": {},
   "outputs": [],
   "source": [
    "# Exportamos el subset de calidad.\n",
    "\n",
    "under_armour_quality.to_csv('data/under_armour_quality.csv', index = False)"
   ]
  },
  {
   "cell_type": "markdown",
   "id": "9fc485c8",
   "metadata": {},
   "source": [
    "**Nota importante:**\n",
    "\n",
    "Aunque hemos exportado cada subset en archivos csv independientes (lo tenemos guardado de manera desagregada), en realidad trabajaremos con un único DataFrame que contenga todos los tweets analizados (los de todas las marcas y todos los atributos). En este DataFrame recogeremos en una columna la marca a la que hacen referencia y en otra columna el atributo al que se refieren (calidad y precio). Esto lo hacemos así porque nos permitirá agilizar mucho los procesos de visualización de resultados y obtener gráficos de mejor calidad (podremos filtrar en función de la marca y el atributo, al tiempo que manejamos un único DataFrame para mayor eficiencia)."
   ]
  },
  {
   "cell_type": "markdown",
   "id": "948a3d0b",
   "metadata": {},
   "source": [
    "## Umbro data."
   ]
  },
  {
   "cell_type": "code",
   "execution_count": 152,
   "id": "3ed1caf0",
   "metadata": {},
   "outputs": [],
   "source": [
    "umbro = pd.read_csv('data/umbro.csv')"
   ]
  },
  {
   "cell_type": "code",
   "execution_count": 153,
   "id": "bfbdffe7",
   "metadata": {},
   "outputs": [],
   "source": [
    "umbro_tw = pd.DataFrame(umbro.text)"
   ]
  },
  {
   "cell_type": "markdown",
   "id": "d0e77c79",
   "metadata": {},
   "source": [
    "### Exploración inicial de los datos:"
   ]
  },
  {
   "cell_type": "code",
   "execution_count": 154,
   "id": "41ee043a",
   "metadata": {},
   "outputs": [
    {
     "data": {
      "text/plain": [
       "(698, 1)"
      ]
     },
     "execution_count": 154,
     "metadata": {},
     "output_type": "execute_result"
    }
   ],
   "source": [
    "umbro_tw.shape"
   ]
  },
  {
   "cell_type": "code",
   "execution_count": 155,
   "id": "a3729ab6",
   "metadata": {},
   "outputs": [
    {
     "name": "stdout",
     "output_type": "stream",
     "text": [
      "<class 'pandas.core.frame.DataFrame'>\n",
      "RangeIndex: 698 entries, 0 to 697\n",
      "Data columns (total 1 columns):\n",
      " #   Column  Non-Null Count  Dtype \n",
      "---  ------  --------------  ----- \n",
      " 0   text    698 non-null    object\n",
      "dtypes: object(1)\n",
      "memory usage: 5.6+ KB\n"
     ]
    }
   ],
   "source": [
    "umbro_tw.info()"
   ]
  },
  {
   "cell_type": "code",
   "execution_count": 156,
   "id": "6fcf8b3b",
   "metadata": {},
   "outputs": [
    {
     "data": {
      "text/html": [
       "<div>\n",
       "<style scoped>\n",
       "    .dataframe tbody tr th:only-of-type {\n",
       "        vertical-align: middle;\n",
       "    }\n",
       "\n",
       "    .dataframe tbody tr th {\n",
       "        vertical-align: top;\n",
       "    }\n",
       "\n",
       "    .dataframe thead th {\n",
       "        text-align: right;\n",
       "    }\n",
       "</style>\n",
       "<table border=\"1\" class=\"dataframe\">\n",
       "  <thead>\n",
       "    <tr style=\"text-align: right;\">\n",
       "      <th></th>\n",
       "      <th>text</th>\n",
       "    </tr>\n",
       "  </thead>\n",
       "  <tbody>\n",
       "    <tr>\n",
       "      <th>count</th>\n",
       "      <td>698</td>\n",
       "    </tr>\n",
       "    <tr>\n",
       "      <th>unique</th>\n",
       "      <td>698</td>\n",
       "    </tr>\n",
       "    <tr>\n",
       "      <th>top</th>\n",
       "      <td>@JeffreyLloydXXX @Orsini_Umbro Let s do flip f...</td>\n",
       "    </tr>\n",
       "    <tr>\n",
       "      <th>freq</th>\n",
       "      <td>1</td>\n",
       "    </tr>\n",
       "  </tbody>\n",
       "</table>\n",
       "</div>"
      ],
      "text/plain": [
       "                                                     text\n",
       "count                                                 698\n",
       "unique                                                698\n",
       "top     @JeffreyLloydXXX @Orsini_Umbro Let s do flip f...\n",
       "freq                                                    1"
      ]
     },
     "execution_count": 156,
     "metadata": {},
     "output_type": "execute_result"
    }
   ],
   "source": [
    "umbro_tw.describe()"
   ]
  },
  {
   "cell_type": "code",
   "execution_count": 157,
   "id": "c9d1311a",
   "metadata": {},
   "outputs": [
    {
     "data": {
      "text/plain": [
       "text    0\n",
       "dtype: int64"
      ]
     },
     "execution_count": 157,
     "metadata": {},
     "output_type": "execute_result"
    }
   ],
   "source": [
    "umbro_tw.isnull().sum()  # No existen nulos."
   ]
  },
  {
   "cell_type": "code",
   "execution_count": 158,
   "id": "227d3fce",
   "metadata": {},
   "outputs": [
    {
     "data": {
      "text/plain": [
       "0"
      ]
     },
     "execution_count": 158,
     "metadata": {},
     "output_type": "execute_result"
    }
   ],
   "source": [
    "umbro_tw.duplicated().sum() # No existen valores duplicados."
   ]
  },
  {
   "cell_type": "markdown",
   "id": "9ea40626",
   "metadata": {},
   "source": [
    "### Hashtags."
   ]
  },
  {
   "cell_type": "markdown",
   "id": "6242e286",
   "metadata": {},
   "source": [
    "Queremos extraer los hastags de los tweets y almacenarlos en una nueva columna del DataFrame. Esto nos permitirá llevar a cabo un análisis específico de los hashtags una vez hecho el análisis del sentimiento de los tweets, relacionando el sentimiento con los hashtags utilizados en el tweet."
   ]
  },
  {
   "cell_type": "code",
   "execution_count": 159,
   "id": "641cce94",
   "metadata": {},
   "outputs": [],
   "source": [
    "umbro_tw['hashtags'] = umbro_tw.text.apply(extract_hashtags)"
   ]
  },
  {
   "cell_type": "code",
   "execution_count": 160,
   "id": "ad097505",
   "metadata": {
    "scrolled": true
   },
   "outputs": [
    {
     "data": {
      "text/html": [
       "<div>\n",
       "<style scoped>\n",
       "    .dataframe tbody tr th:only-of-type {\n",
       "        vertical-align: middle;\n",
       "    }\n",
       "\n",
       "    .dataframe tbody tr th {\n",
       "        vertical-align: top;\n",
       "    }\n",
       "\n",
       "    .dataframe thead th {\n",
       "        text-align: right;\n",
       "    }\n",
       "</style>\n",
       "<table border=\"1\" class=\"dataframe\">\n",
       "  <thead>\n",
       "    <tr style=\"text-align: right;\">\n",
       "      <th></th>\n",
       "      <th>text</th>\n",
       "      <th>hashtags</th>\n",
       "    </tr>\n",
       "  </thead>\n",
       "  <tbody>\n",
       "    <tr>\n",
       "      <th>0</th>\n",
       "      <td>@JeffreyLloydXXX @Orsini_Umbro Let s do flip f...</td>\n",
       "      <td>[]</td>\n",
       "    </tr>\n",
       "    <tr>\n",
       "      <th>1</th>\n",
       "      <td>@sportbible Umbro ball 🤔</td>\n",
       "      <td>[]</td>\n",
       "    </tr>\n",
       "    <tr>\n",
       "      <th>2</th>\n",
       "      <td>Manchester United Shirt 1992-1994 Umbro Small ...</td>\n",
       "      <td>[]</td>\n",
       "    </tr>\n",
       "    <tr>\n",
       "      <th>3</th>\n",
       "      <td>Celtic football shirt\\n1999 away season \\nLarg...</td>\n",
       "      <td>[]</td>\n",
       "    </tr>\n",
       "    <tr>\n",
       "      <th>4</th>\n",
       "      <td>@sid_lambert an umbro football..</td>\n",
       "      <td>[]</td>\n",
       "    </tr>\n",
       "  </tbody>\n",
       "</table>\n",
       "</div>"
      ],
      "text/plain": [
       "                                                text hashtags\n",
       "0  @JeffreyLloydXXX @Orsini_Umbro Let s do flip f...       []\n",
       "1                           @sportbible Umbro ball 🤔       []\n",
       "2  Manchester United Shirt 1992-1994 Umbro Small ...       []\n",
       "3  Celtic football shirt\\n1999 away season \\nLarg...       []\n",
       "4                   @sid_lambert an umbro football..       []"
      ]
     },
     "execution_count": 160,
     "metadata": {},
     "output_type": "execute_result"
    }
   ],
   "source": [
    "umbro_tw.head()"
   ]
  },
  {
   "cell_type": "markdown",
   "id": "774acc26",
   "metadata": {},
   "source": [
    "### Preparing Data."
   ]
  },
  {
   "cell_type": "markdown",
   "id": "472cae4c",
   "metadata": {},
   "source": [
    "**Limpieza básica:**\n",
    "- Pasamos todo a minúsculas.\n",
    "- Eliminamos usuarios ('@ + user' ya que en principio el nombre de los usuarios no aporta información relevante para el modelo).\n",
    "- Eliminamos urls.\n",
    "- Convertimos dígitos a números escritos.\n",
    "- Convertimos $ en 'dollars' y € en 'euros.\n",
    "- Eliminamos valores no alfabéticos: # (aunque manteniendo el texto que viene después ya que puede contener información relevante), signos de puntuación...\n",
    "\n",
    "Esta limpieza se ejecutará a través de nuestra función `basic_cleaning()`."
   ]
  },
  {
   "cell_type": "code",
   "execution_count": 161,
   "id": "76776097",
   "metadata": {},
   "outputs": [
    {
     "data": {
      "text/html": [
       "<div>\n",
       "<style scoped>\n",
       "    .dataframe tbody tr th:only-of-type {\n",
       "        vertical-align: middle;\n",
       "    }\n",
       "\n",
       "    .dataframe tbody tr th {\n",
       "        vertical-align: top;\n",
       "    }\n",
       "\n",
       "    .dataframe thead th {\n",
       "        text-align: right;\n",
       "    }\n",
       "</style>\n",
       "<table border=\"1\" class=\"dataframe\">\n",
       "  <thead>\n",
       "    <tr style=\"text-align: right;\">\n",
       "      <th></th>\n",
       "      <th>text</th>\n",
       "      <th>hashtags</th>\n",
       "    </tr>\n",
       "  </thead>\n",
       "  <tbody>\n",
       "    <tr>\n",
       "      <th>0</th>\n",
       "      <td>@JeffreyLloydXXX @Orsini_Umbro Let s do flip f...</td>\n",
       "      <td>[]</td>\n",
       "    </tr>\n",
       "    <tr>\n",
       "      <th>1</th>\n",
       "      <td>@sportbible Umbro ball 🤔</td>\n",
       "      <td>[]</td>\n",
       "    </tr>\n",
       "    <tr>\n",
       "      <th>2</th>\n",
       "      <td>Manchester United Shirt 1992-1994 Umbro Small ...</td>\n",
       "      <td>[]</td>\n",
       "    </tr>\n",
       "    <tr>\n",
       "      <th>3</th>\n",
       "      <td>Celtic football shirt\\n1999 away season \\nLarg...</td>\n",
       "      <td>[]</td>\n",
       "    </tr>\n",
       "    <tr>\n",
       "      <th>4</th>\n",
       "      <td>@sid_lambert an umbro football..</td>\n",
       "      <td>[]</td>\n",
       "    </tr>\n",
       "  </tbody>\n",
       "</table>\n",
       "</div>"
      ],
      "text/plain": [
       "                                                text hashtags\n",
       "0  @JeffreyLloydXXX @Orsini_Umbro Let s do flip f...       []\n",
       "1                           @sportbible Umbro ball 🤔       []\n",
       "2  Manchester United Shirt 1992-1994 Umbro Small ...       []\n",
       "3  Celtic football shirt\\n1999 away season \\nLarg...       []\n",
       "4                   @sid_lambert an umbro football..       []"
      ]
     },
     "execution_count": 161,
     "metadata": {},
     "output_type": "execute_result"
    }
   ],
   "source": [
    "umbro_tw.head()"
   ]
  },
  {
   "cell_type": "code",
   "execution_count": 162,
   "id": "b1b8046f",
   "metadata": {},
   "outputs": [],
   "source": [
    "umbro_tw['text'] = umbro_tw.text.apply(basic_cleaning)"
   ]
  },
  {
   "cell_type": "code",
   "execution_count": 163,
   "id": "783e758b",
   "metadata": {},
   "outputs": [
    {
     "data": {
      "text/html": [
       "<div>\n",
       "<style scoped>\n",
       "    .dataframe tbody tr th:only-of-type {\n",
       "        vertical-align: middle;\n",
       "    }\n",
       "\n",
       "    .dataframe tbody tr th {\n",
       "        vertical-align: top;\n",
       "    }\n",
       "\n",
       "    .dataframe thead th {\n",
       "        text-align: right;\n",
       "    }\n",
       "</style>\n",
       "<table border=\"1\" class=\"dataframe\">\n",
       "  <thead>\n",
       "    <tr style=\"text-align: right;\">\n",
       "      <th></th>\n",
       "      <th>text</th>\n",
       "      <th>hashtags</th>\n",
       "    </tr>\n",
       "  </thead>\n",
       "  <tbody>\n",
       "    <tr>\n",
       "      <th>0</th>\n",
       "      <td>let s do flip flop</td>\n",
       "      <td>[]</td>\n",
       "    </tr>\n",
       "    <tr>\n",
       "      <th>1</th>\n",
       "      <td>umbro ball</td>\n",
       "      <td>[]</td>\n",
       "    </tr>\n",
       "    <tr>\n",
       "      <th>2</th>\n",
       "      <td>manchester united shirt one nine nine two one ...</td>\n",
       "      <td>[]</td>\n",
       "    </tr>\n",
       "    <tr>\n",
       "      <th>3</th>\n",
       "      <td>celtic football shirt one nine nine nine away ...</td>\n",
       "      <td>[]</td>\n",
       "    </tr>\n",
       "    <tr>\n",
       "      <th>4</th>\n",
       "      <td>an umbro football</td>\n",
       "      <td>[]</td>\n",
       "    </tr>\n",
       "  </tbody>\n",
       "</table>\n",
       "</div>"
      ],
      "text/plain": [
       "                                                text hashtags\n",
       "0                                 let s do flip flop       []\n",
       "1                                         umbro ball       []\n",
       "2  manchester united shirt one nine nine two one ...       []\n",
       "3  celtic football shirt one nine nine nine away ...       []\n",
       "4                                  an umbro football       []"
      ]
     },
     "execution_count": 163,
     "metadata": {},
     "output_type": "execute_result"
    }
   ],
   "source": [
    "umbro_tw.head()"
   ]
  },
  {
   "cell_type": "markdown",
   "id": "387f3f38",
   "metadata": {},
   "source": [
    "### Subsets."
   ]
  },
  {
   "cell_type": "markdown",
   "id": "440f0e75",
   "metadata": {},
   "source": [
    "En esta primera versión de la herramienta construiremos el mapa de posicionamiento en base a dos atributos de marca (variables): calidad y precio. Estos son los dos atributos básicos más utilizados de manera general en los mapas de posicionamiento (los mapas más sofisticados introducen ya otros atributos más específicos).\n",
    "\n",
    "Para poder completar el proceso de mapeo, lo primero que debemos hacer es dividir los datos (tweets recopilados) en dos subsets: los que hacen referencia al precio y los que hacen referencia a la calidad. Una vez subdivididos, ya podremos introducir los datos en el modelo NLP para evaluar el sentimiento en cada subset.\n",
    "\n",
    "La subdivisión nos permite diferenciar el sentimiento de los tweets que hablan del precio, del sentimiento en torno a la calidad general de la marca en cuestión. Esto es lo que haremos en esta etapa del proceso, en este caso sobre los tweets que mencionan a Nike."
   ]
  },
  {
   "cell_type": "markdown",
   "id": "cb2082ff",
   "metadata": {},
   "source": [
    "1. Generamos una nueva columna que recoge la temática del tweet (atributo al que hace refencia)."
   ]
  },
  {
   "cell_type": "code",
   "execution_count": 164,
   "id": "bcb19cf6",
   "metadata": {
    "scrolled": true
   },
   "outputs": [],
   "source": [
    "umbro_tw['brand_attribute'] = umbro_tw['text'].apply(data_groups)"
   ]
  },
  {
   "cell_type": "code",
   "execution_count": 165,
   "id": "1fdda79f",
   "metadata": {
    "scrolled": false
   },
   "outputs": [
    {
     "data": {
      "text/html": [
       "<div>\n",
       "<style scoped>\n",
       "    .dataframe tbody tr th:only-of-type {\n",
       "        vertical-align: middle;\n",
       "    }\n",
       "\n",
       "    .dataframe tbody tr th {\n",
       "        vertical-align: top;\n",
       "    }\n",
       "\n",
       "    .dataframe thead th {\n",
       "        text-align: right;\n",
       "    }\n",
       "</style>\n",
       "<table border=\"1\" class=\"dataframe\">\n",
       "  <thead>\n",
       "    <tr style=\"text-align: right;\">\n",
       "      <th></th>\n",
       "      <th>text</th>\n",
       "      <th>hashtags</th>\n",
       "      <th>brand_attribute</th>\n",
       "    </tr>\n",
       "  </thead>\n",
       "  <tbody>\n",
       "    <tr>\n",
       "      <th>0</th>\n",
       "      <td>let s do flip flop</td>\n",
       "      <td>[]</td>\n",
       "      <td>quality</td>\n",
       "    </tr>\n",
       "    <tr>\n",
       "      <th>1</th>\n",
       "      <td>umbro ball</td>\n",
       "      <td>[]</td>\n",
       "      <td>quality</td>\n",
       "    </tr>\n",
       "    <tr>\n",
       "      <th>2</th>\n",
       "      <td>manchester united shirt one nine nine two one ...</td>\n",
       "      <td>[]</td>\n",
       "      <td>quality</td>\n",
       "    </tr>\n",
       "    <tr>\n",
       "      <th>3</th>\n",
       "      <td>celtic football shirt one nine nine nine away ...</td>\n",
       "      <td>[]</td>\n",
       "      <td>price</td>\n",
       "    </tr>\n",
       "    <tr>\n",
       "      <th>4</th>\n",
       "      <td>an umbro football</td>\n",
       "      <td>[]</td>\n",
       "      <td>quality</td>\n",
       "    </tr>\n",
       "  </tbody>\n",
       "</table>\n",
       "</div>"
      ],
      "text/plain": [
       "                                                text hashtags brand_attribute\n",
       "0                                 let s do flip flop       []         quality\n",
       "1                                         umbro ball       []         quality\n",
       "2  manchester united shirt one nine nine two one ...       []         quality\n",
       "3  celtic football shirt one nine nine nine away ...       []           price\n",
       "4                                  an umbro football       []         quality"
      ]
     },
     "execution_count": 165,
     "metadata": {},
     "output_type": "execute_result"
    }
   ],
   "source": [
    "umbro_tw.head()"
   ]
  },
  {
   "cell_type": "code",
   "execution_count": 166,
   "id": "825909ff",
   "metadata": {},
   "outputs": [
    {
     "data": {
      "text/plain": [
       "quality    621\n",
       "price       77\n",
       "Name: brand_attribute, dtype: int64"
      ]
     },
     "execution_count": 166,
     "metadata": {},
     "output_type": "execute_result"
    }
   ],
   "source": [
    "umbro_tw.brand_attribute.value_counts()"
   ]
  },
  {
   "cell_type": "markdown",
   "id": "c874e74a",
   "metadata": {},
   "source": [
    "2. Exportamos los subsets de Nike (uno de calidad y otro de precio).\n",
    "\n",
    "    2.1. Precio:"
   ]
  },
  {
   "cell_type": "code",
   "execution_count": 167,
   "id": "48447ec4",
   "metadata": {},
   "outputs": [],
   "source": [
    "umbro_price = pd.DataFrame(umbro_tw.where(umbro_tw.brand_attribute=='price').dropna().drop('brand_attribute',axis=1))"
   ]
  },
  {
   "cell_type": "code",
   "execution_count": 168,
   "id": "bea57fc0",
   "metadata": {},
   "outputs": [
    {
     "data": {
      "text/plain": [
       "text        0\n",
       "hashtags    0\n",
       "dtype: int64"
      ]
     },
     "execution_count": 168,
     "metadata": {},
     "output_type": "execute_result"
    }
   ],
   "source": [
    "umbro_price.isnull().sum()"
   ]
  },
  {
   "cell_type": "code",
   "execution_count": 169,
   "id": "48a1fc5a",
   "metadata": {},
   "outputs": [
    {
     "data": {
      "text/plain": [
       "(77, 2)"
      ]
     },
     "execution_count": 169,
     "metadata": {},
     "output_type": "execute_result"
    }
   ],
   "source": [
    "umbro_price.shape"
   ]
  },
  {
   "cell_type": "code",
   "execution_count": 170,
   "id": "e039e309",
   "metadata": {},
   "outputs": [],
   "source": [
    "# Exportamos el subset de precio.\n",
    "\n",
    "umbro_price.to_csv('data/umbro_price.csv', index = False)"
   ]
  },
  {
   "cell_type": "markdown",
   "id": "2824d590",
   "metadata": {},
   "source": [
    "    2.2. Calidad:"
   ]
  },
  {
   "cell_type": "code",
   "execution_count": 171,
   "id": "6ac12f87",
   "metadata": {},
   "outputs": [],
   "source": [
    "umbro_quality = pd.DataFrame(umbro_tw.where(umbro_tw.brand_attribute=='quality').dropna().drop('brand_attribute',axis=1))"
   ]
  },
  {
   "cell_type": "code",
   "execution_count": 172,
   "id": "91043d59",
   "metadata": {},
   "outputs": [
    {
     "data": {
      "text/plain": [
       "text        0\n",
       "hashtags    0\n",
       "dtype: int64"
      ]
     },
     "execution_count": 172,
     "metadata": {},
     "output_type": "execute_result"
    }
   ],
   "source": [
    "umbro_quality.isnull().sum()"
   ]
  },
  {
   "cell_type": "code",
   "execution_count": 173,
   "id": "7ae96b9e",
   "metadata": {},
   "outputs": [
    {
     "data": {
      "text/plain": [
       "(621, 2)"
      ]
     },
     "execution_count": 173,
     "metadata": {},
     "output_type": "execute_result"
    }
   ],
   "source": [
    "umbro_quality.shape"
   ]
  },
  {
   "cell_type": "code",
   "execution_count": 174,
   "id": "40132cc7",
   "metadata": {},
   "outputs": [],
   "source": [
    "# Exportamos el subset de calidad.\n",
    "\n",
    "umbro_quality.to_csv('data/umbro_quality.csv', index = False)"
   ]
  },
  {
   "cell_type": "markdown",
   "id": "0e1c0975",
   "metadata": {},
   "source": [
    "**Nota importante:**\n",
    "\n",
    "Aunque hemos exportado cada subset en archivos csv independientes (lo tenemos guardado de manera desagregada), en realidad trabajaremos con un único DataFrame que contenga todos los tweets analizados (los de todas las marcas y todos los atributos). En este DataFrame recogeremos en una columna la marca a la que hacen referencia y en otra columna el atributo al que se refieren (calidad y precio). Esto lo hacemos así porque nos permitirá agilizar mucho los procesos de visualización de resultados y obtener gráficos de mejor calidad (podremos filtrar en función de la marca y el atributo, al tiempo que manejamos un único DataFrame para mayor eficiencia)."
   ]
  },
  {
   "cell_type": "markdown",
   "id": "4cc13eaf",
   "metadata": {},
   "source": [
    "## Puma data."
   ]
  },
  {
   "cell_type": "code",
   "execution_count": 175,
   "id": "ca344daa",
   "metadata": {},
   "outputs": [],
   "source": [
    "puma = pd.read_csv('data/puma.csv')"
   ]
  },
  {
   "cell_type": "code",
   "execution_count": 176,
   "id": "ad760108",
   "metadata": {},
   "outputs": [],
   "source": [
    "puma_tw = pd.DataFrame(puma.text)"
   ]
  },
  {
   "cell_type": "markdown",
   "id": "0a3cb4fb",
   "metadata": {},
   "source": [
    "### Exploración inicial de los datos:"
   ]
  },
  {
   "cell_type": "code",
   "execution_count": 177,
   "id": "55c6f732",
   "metadata": {},
   "outputs": [
    {
     "data": {
      "text/plain": [
       "(5090, 1)"
      ]
     },
     "execution_count": 177,
     "metadata": {},
     "output_type": "execute_result"
    }
   ],
   "source": [
    "puma_tw.shape"
   ]
  },
  {
   "cell_type": "code",
   "execution_count": 178,
   "id": "fe9f7024",
   "metadata": {},
   "outputs": [
    {
     "name": "stdout",
     "output_type": "stream",
     "text": [
      "<class 'pandas.core.frame.DataFrame'>\n",
      "RangeIndex: 5090 entries, 0 to 5089\n",
      "Data columns (total 1 columns):\n",
      " #   Column  Non-Null Count  Dtype \n",
      "---  ------  --------------  ----- \n",
      " 0   text    5090 non-null   object\n",
      "dtypes: object(1)\n",
      "memory usage: 39.9+ KB\n"
     ]
    }
   ],
   "source": [
    "puma_tw.info()"
   ]
  },
  {
   "cell_type": "code",
   "execution_count": 179,
   "id": "1891d80b",
   "metadata": {},
   "outputs": [
    {
     "data": {
      "text/html": [
       "<div>\n",
       "<style scoped>\n",
       "    .dataframe tbody tr th:only-of-type {\n",
       "        vertical-align: middle;\n",
       "    }\n",
       "\n",
       "    .dataframe tbody tr th {\n",
       "        vertical-align: top;\n",
       "    }\n",
       "\n",
       "    .dataframe thead th {\n",
       "        text-align: right;\n",
       "    }\n",
       "</style>\n",
       "<table border=\"1\" class=\"dataframe\">\n",
       "  <thead>\n",
       "    <tr style=\"text-align: right;\">\n",
       "      <th></th>\n",
       "      <th>text</th>\n",
       "    </tr>\n",
       "  </thead>\n",
       "  <tbody>\n",
       "    <tr>\n",
       "      <th>count</th>\n",
       "      <td>5090</td>\n",
       "    </tr>\n",
       "    <tr>\n",
       "      <th>unique</th>\n",
       "      <td>4984</td>\n",
       "    </tr>\n",
       "    <tr>\n",
       "      <th>top</th>\n",
       "      <td>Puma\\n\\nI vote for #Butter for #BestMusicVideo...</td>\n",
       "    </tr>\n",
       "    <tr>\n",
       "      <th>freq</th>\n",
       "      <td>10</td>\n",
       "    </tr>\n",
       "  </tbody>\n",
       "</table>\n",
       "</div>"
      ],
      "text/plain": [
       "                                                     text\n",
       "count                                                5090\n",
       "unique                                               4984\n",
       "top     Puma\\n\\nI vote for #Butter for #BestMusicVideo...\n",
       "freq                                                   10"
      ]
     },
     "execution_count": 179,
     "metadata": {},
     "output_type": "execute_result"
    }
   ],
   "source": [
    "puma_tw.describe()"
   ]
  },
  {
   "cell_type": "code",
   "execution_count": 180,
   "id": "59ebdf6d",
   "metadata": {},
   "outputs": [
    {
     "data": {
      "text/plain": [
       "text    0\n",
       "dtype: int64"
      ]
     },
     "execution_count": 180,
     "metadata": {},
     "output_type": "execute_result"
    }
   ],
   "source": [
    "puma_tw.isnull().sum()  # No existen nulos."
   ]
  },
  {
   "cell_type": "code",
   "execution_count": 181,
   "id": "64129269",
   "metadata": {},
   "outputs": [
    {
     "data": {
      "text/plain": [
       "106"
      ]
     },
     "execution_count": 181,
     "metadata": {},
     "output_type": "execute_result"
    }
   ],
   "source": [
    "puma_tw.duplicated().sum() # Encontramos 106 valores duplicados."
   ]
  },
  {
   "cell_type": "code",
   "execution_count": 182,
   "id": "ad0852fd",
   "metadata": {},
   "outputs": [],
   "source": [
    "drop_duplicates(puma_tw) # Eliminamos los valores duplicados."
   ]
  },
  {
   "cell_type": "code",
   "execution_count": 183,
   "id": "5a18ca2f",
   "metadata": {},
   "outputs": [
    {
     "data": {
      "text/plain": [
       "(4984, 1)"
      ]
     },
     "execution_count": 183,
     "metadata": {},
     "output_type": "execute_result"
    }
   ],
   "source": [
    "puma_tw.shape"
   ]
  },
  {
   "cell_type": "markdown",
   "id": "93c05236",
   "metadata": {},
   "source": [
    "### Hashtags."
   ]
  },
  {
   "cell_type": "markdown",
   "id": "3dc9ffd6",
   "metadata": {},
   "source": [
    "Queremos extraer los hastags de los tweets y almacenarlos en una nueva columna del DataFrame. Esto nos permitirá llevar a cabo un análisis específico de los hashtags una vez hecho el análisis del sentimiento de los tweets, relacionando el sentimiento con los hashtags utilizados en el tweet."
   ]
  },
  {
   "cell_type": "code",
   "execution_count": 184,
   "id": "eedf37aa",
   "metadata": {},
   "outputs": [],
   "source": [
    "puma_tw['hashtags'] = puma_tw.text.apply(extract_hashtags)"
   ]
  },
  {
   "cell_type": "code",
   "execution_count": 185,
   "id": "1d3b70cb",
   "metadata": {
    "scrolled": true
   },
   "outputs": [
    {
     "data": {
      "text/html": [
       "<div>\n",
       "<style scoped>\n",
       "    .dataframe tbody tr th:only-of-type {\n",
       "        vertical-align: middle;\n",
       "    }\n",
       "\n",
       "    .dataframe tbody tr th {\n",
       "        vertical-align: top;\n",
       "    }\n",
       "\n",
       "    .dataframe thead th {\n",
       "        text-align: right;\n",
       "    }\n",
       "</style>\n",
       "<table border=\"1\" class=\"dataframe\">\n",
       "  <thead>\n",
       "    <tr style=\"text-align: right;\">\n",
       "      <th></th>\n",
       "      <th>text</th>\n",
       "      <th>hashtags</th>\n",
       "    </tr>\n",
       "  </thead>\n",
       "  <tbody>\n",
       "    <tr>\n",
       "      <th>0</th>\n",
       "      <td>#Puma is coming to Roblox. https://t.co/h2x1Wk...</td>\n",
       "      <td>[#Puma]</td>\n",
       "    </tr>\n",
       "    <tr>\n",
       "      <th>1</th>\n",
       "      <td>[RANKING BEST TXT CHOREOGRAPHIES] \\n\\n7. Puma ...</td>\n",
       "      <td>[]</td>\n",
       "    </tr>\n",
       "    <tr>\n",
       "      <th>2</th>\n",
       "      <td>@PUMA @CatBloxStudios LFG PUMA</td>\n",
       "      <td>[]</td>\n",
       "    </tr>\n",
       "    <tr>\n",
       "      <th>3</th>\n",
       "      <td>Palestine is a feminist issue. @HP, @HPE, @AXA...</td>\n",
       "      <td>[#BDS, #InternationalWomensDay, #IWD2022]</td>\n",
       "    </tr>\n",
       "    <tr>\n",
       "      <th>4</th>\n",
       "      <td>@kappie777 @PUMA @PUMASouthAfrica Happy women'...</td>\n",
       "      <td>[]</td>\n",
       "    </tr>\n",
       "  </tbody>\n",
       "</table>\n",
       "</div>"
      ],
      "text/plain": [
       "                                                text  \\\n",
       "0  #Puma is coming to Roblox. https://t.co/h2x1Wk...   \n",
       "1  [RANKING BEST TXT CHOREOGRAPHIES] \\n\\n7. Puma ...   \n",
       "2                     @PUMA @CatBloxStudios LFG PUMA   \n",
       "3  Palestine is a feminist issue. @HP, @HPE, @AXA...   \n",
       "4  @kappie777 @PUMA @PUMASouthAfrica Happy women'...   \n",
       "\n",
       "                                    hashtags  \n",
       "0                                    [#Puma]  \n",
       "1                                         []  \n",
       "2                                         []  \n",
       "3  [#BDS, #InternationalWomensDay, #IWD2022]  \n",
       "4                                         []  "
      ]
     },
     "execution_count": 185,
     "metadata": {},
     "output_type": "execute_result"
    }
   ],
   "source": [
    "puma_tw.head()"
   ]
  },
  {
   "cell_type": "markdown",
   "id": "4e44bf6b",
   "metadata": {},
   "source": [
    "### Preparing Data."
   ]
  },
  {
   "cell_type": "markdown",
   "id": "170ea09a",
   "metadata": {},
   "source": [
    "**Limpieza básica:**\n",
    "- Pasamos todo a minúsculas.\n",
    "- Eliminamos usuarios ('@ + user' ya que en principio el nombre de los usuarios no aporta información relevante para el modelo).\n",
    "- Eliminamos urls.\n",
    "- Convertimos dígitos a números escritos.\n",
    "- Convertimos $ en 'dollars' y € en 'euros.\n",
    "- Eliminamos valores no alfabéticos: # (aunque manteniendo el texto que viene después ya que puede contener información relevante), signos de puntuación...\n",
    "\n",
    "Esta limpieza se ejecutará a través de nuestra función `basic_cleaning()`."
   ]
  },
  {
   "cell_type": "code",
   "execution_count": 186,
   "id": "e1b49593",
   "metadata": {},
   "outputs": [
    {
     "data": {
      "text/html": [
       "<div>\n",
       "<style scoped>\n",
       "    .dataframe tbody tr th:only-of-type {\n",
       "        vertical-align: middle;\n",
       "    }\n",
       "\n",
       "    .dataframe tbody tr th {\n",
       "        vertical-align: top;\n",
       "    }\n",
       "\n",
       "    .dataframe thead th {\n",
       "        text-align: right;\n",
       "    }\n",
       "</style>\n",
       "<table border=\"1\" class=\"dataframe\">\n",
       "  <thead>\n",
       "    <tr style=\"text-align: right;\">\n",
       "      <th></th>\n",
       "      <th>text</th>\n",
       "      <th>hashtags</th>\n",
       "    </tr>\n",
       "  </thead>\n",
       "  <tbody>\n",
       "    <tr>\n",
       "      <th>0</th>\n",
       "      <td>#Puma is coming to Roblox. https://t.co/h2x1Wk...</td>\n",
       "      <td>[#Puma]</td>\n",
       "    </tr>\n",
       "    <tr>\n",
       "      <th>1</th>\n",
       "      <td>[RANKING BEST TXT CHOREOGRAPHIES] \\n\\n7. Puma ...</td>\n",
       "      <td>[]</td>\n",
       "    </tr>\n",
       "    <tr>\n",
       "      <th>2</th>\n",
       "      <td>@PUMA @CatBloxStudios LFG PUMA</td>\n",
       "      <td>[]</td>\n",
       "    </tr>\n",
       "    <tr>\n",
       "      <th>3</th>\n",
       "      <td>Palestine is a feminist issue. @HP, @HPE, @AXA...</td>\n",
       "      <td>[#BDS, #InternationalWomensDay, #IWD2022]</td>\n",
       "    </tr>\n",
       "    <tr>\n",
       "      <th>4</th>\n",
       "      <td>@kappie777 @PUMA @PUMASouthAfrica Happy women'...</td>\n",
       "      <td>[]</td>\n",
       "    </tr>\n",
       "  </tbody>\n",
       "</table>\n",
       "</div>"
      ],
      "text/plain": [
       "                                                text  \\\n",
       "0  #Puma is coming to Roblox. https://t.co/h2x1Wk...   \n",
       "1  [RANKING BEST TXT CHOREOGRAPHIES] \\n\\n7. Puma ...   \n",
       "2                     @PUMA @CatBloxStudios LFG PUMA   \n",
       "3  Palestine is a feminist issue. @HP, @HPE, @AXA...   \n",
       "4  @kappie777 @PUMA @PUMASouthAfrica Happy women'...   \n",
       "\n",
       "                                    hashtags  \n",
       "0                                    [#Puma]  \n",
       "1                                         []  \n",
       "2                                         []  \n",
       "3  [#BDS, #InternationalWomensDay, #IWD2022]  \n",
       "4                                         []  "
      ]
     },
     "execution_count": 186,
     "metadata": {},
     "output_type": "execute_result"
    }
   ],
   "source": [
    "puma_tw.head()"
   ]
  },
  {
   "cell_type": "code",
   "execution_count": 187,
   "id": "b5df2ceb",
   "metadata": {},
   "outputs": [],
   "source": [
    "puma_tw['text'] = puma_tw.text.apply(basic_cleaning)"
   ]
  },
  {
   "cell_type": "code",
   "execution_count": 188,
   "id": "9eecdbc8",
   "metadata": {},
   "outputs": [
    {
     "data": {
      "text/html": [
       "<div>\n",
       "<style scoped>\n",
       "    .dataframe tbody tr th:only-of-type {\n",
       "        vertical-align: middle;\n",
       "    }\n",
       "\n",
       "    .dataframe tbody tr th {\n",
       "        vertical-align: top;\n",
       "    }\n",
       "\n",
       "    .dataframe thead th {\n",
       "        text-align: right;\n",
       "    }\n",
       "</style>\n",
       "<table border=\"1\" class=\"dataframe\">\n",
       "  <thead>\n",
       "    <tr style=\"text-align: right;\">\n",
       "      <th></th>\n",
       "      <th>text</th>\n",
       "      <th>hashtags</th>\n",
       "    </tr>\n",
       "  </thead>\n",
       "  <tbody>\n",
       "    <tr>\n",
       "      <th>0</th>\n",
       "      <td>puma is coming to roblox</td>\n",
       "      <td>[#Puma]</td>\n",
       "    </tr>\n",
       "    <tr>\n",
       "      <th>1</th>\n",
       "      <td>ranking best txt choreographies seven puma six...</td>\n",
       "      <td>[]</td>\n",
       "    </tr>\n",
       "    <tr>\n",
       "      <th>2</th>\n",
       "      <td>lfg puma</td>\n",
       "      <td>[]</td>\n",
       "    </tr>\n",
       "    <tr>\n",
       "      <th>3</th>\n",
       "      <td>palestine is a feminist issue more are complic...</td>\n",
       "      <td>[#BDS, #InternationalWomensDay, #IWD2022]</td>\n",
       "    </tr>\n",
       "    <tr>\n",
       "      <th>4</th>\n",
       "      <td>happy women s day keep shining mam could i get...</td>\n",
       "      <td>[]</td>\n",
       "    </tr>\n",
       "  </tbody>\n",
       "</table>\n",
       "</div>"
      ],
      "text/plain": [
       "                                                text  \\\n",
       "0                           puma is coming to roblox   \n",
       "1  ranking best txt choreographies seven puma six...   \n",
       "2                                           lfg puma   \n",
       "3  palestine is a feminist issue more are complic...   \n",
       "4  happy women s day keep shining mam could i get...   \n",
       "\n",
       "                                    hashtags  \n",
       "0                                    [#Puma]  \n",
       "1                                         []  \n",
       "2                                         []  \n",
       "3  [#BDS, #InternationalWomensDay, #IWD2022]  \n",
       "4                                         []  "
      ]
     },
     "execution_count": 188,
     "metadata": {},
     "output_type": "execute_result"
    }
   ],
   "source": [
    "puma_tw.head()"
   ]
  },
  {
   "cell_type": "markdown",
   "id": "a5e941f3",
   "metadata": {},
   "source": [
    "### Subsets."
   ]
  },
  {
   "cell_type": "markdown",
   "id": "3f068f1a",
   "metadata": {},
   "source": [
    "En esta primera versión de la herramienta construiremos el mapa de posicionamiento en base a dos atributos de marca (variables): calidad y precio. Estos son los dos atributos básicos más utilizados de manera general en los mapas de posicionamiento (los mapas más sofisticados introducen ya otros atributos más específicos).\n",
    "\n",
    "Para poder completar el proceso de mapeo, lo primero que debemos hacer es dividir los datos (tweets recopilados) en dos subsets: los que hacen referencia al precio y los que hacen referencia a la calidad. Una vez subdivididos, ya podremos introducir los datos en el modelo NLP para evaluar el sentimiento en cada subset.\n",
    "\n",
    "La subdivisión nos permite diferenciar el sentimiento de los tweets que hablan del precio, del sentimiento en torno a la calidad general de la marca en cuestión. Esto es lo que haremos en esta etapa del proceso, en este caso sobre los tweets que mencionan a Nike."
   ]
  },
  {
   "cell_type": "markdown",
   "id": "6934c4f0",
   "metadata": {},
   "source": [
    "1. Generamos una nueva columna que recoge la temática del tweet (atributo al que hace refencia)."
   ]
  },
  {
   "cell_type": "code",
   "execution_count": 189,
   "id": "6d887b0c",
   "metadata": {
    "scrolled": true
   },
   "outputs": [],
   "source": [
    "puma_tw['brand_attribute'] = puma_tw['text'].apply(data_groups)"
   ]
  },
  {
   "cell_type": "code",
   "execution_count": 190,
   "id": "7d5b6cab",
   "metadata": {
    "scrolled": false
   },
   "outputs": [
    {
     "data": {
      "text/html": [
       "<div>\n",
       "<style scoped>\n",
       "    .dataframe tbody tr th:only-of-type {\n",
       "        vertical-align: middle;\n",
       "    }\n",
       "\n",
       "    .dataframe tbody tr th {\n",
       "        vertical-align: top;\n",
       "    }\n",
       "\n",
       "    .dataframe thead th {\n",
       "        text-align: right;\n",
       "    }\n",
       "</style>\n",
       "<table border=\"1\" class=\"dataframe\">\n",
       "  <thead>\n",
       "    <tr style=\"text-align: right;\">\n",
       "      <th></th>\n",
       "      <th>text</th>\n",
       "      <th>hashtags</th>\n",
       "      <th>brand_attribute</th>\n",
       "    </tr>\n",
       "  </thead>\n",
       "  <tbody>\n",
       "    <tr>\n",
       "      <th>0</th>\n",
       "      <td>puma is coming to roblox</td>\n",
       "      <td>[#Puma]</td>\n",
       "      <td>price</td>\n",
       "    </tr>\n",
       "    <tr>\n",
       "      <th>1</th>\n",
       "      <td>ranking best txt choreographies seven puma six...</td>\n",
       "      <td>[]</td>\n",
       "      <td>quality</td>\n",
       "    </tr>\n",
       "    <tr>\n",
       "      <th>2</th>\n",
       "      <td>lfg puma</td>\n",
       "      <td>[]</td>\n",
       "      <td>quality</td>\n",
       "    </tr>\n",
       "    <tr>\n",
       "      <th>3</th>\n",
       "      <td>palestine is a feminist issue more are complic...</td>\n",
       "      <td>[#BDS, #InternationalWomensDay, #IWD2022]</td>\n",
       "      <td>quality</td>\n",
       "    </tr>\n",
       "    <tr>\n",
       "      <th>4</th>\n",
       "      <td>happy women s day keep shining mam could i get...</td>\n",
       "      <td>[]</td>\n",
       "      <td>quality</td>\n",
       "    </tr>\n",
       "  </tbody>\n",
       "</table>\n",
       "</div>"
      ],
      "text/plain": [
       "                                                text  \\\n",
       "0                           puma is coming to roblox   \n",
       "1  ranking best txt choreographies seven puma six...   \n",
       "2                                           lfg puma   \n",
       "3  palestine is a feminist issue more are complic...   \n",
       "4  happy women s day keep shining mam could i get...   \n",
       "\n",
       "                                    hashtags brand_attribute  \n",
       "0                                    [#Puma]           price  \n",
       "1                                         []         quality  \n",
       "2                                         []         quality  \n",
       "3  [#BDS, #InternationalWomensDay, #IWD2022]         quality  \n",
       "4                                         []         quality  "
      ]
     },
     "execution_count": 190,
     "metadata": {},
     "output_type": "execute_result"
    }
   ],
   "source": [
    "puma_tw.head()"
   ]
  },
  {
   "cell_type": "code",
   "execution_count": 191,
   "id": "120484c8",
   "metadata": {},
   "outputs": [
    {
     "data": {
      "text/plain": [
       "quality    4132\n",
       "price       852\n",
       "Name: brand_attribute, dtype: int64"
      ]
     },
     "execution_count": 191,
     "metadata": {},
     "output_type": "execute_result"
    }
   ],
   "source": [
    "puma_tw.brand_attribute.value_counts()"
   ]
  },
  {
   "cell_type": "markdown",
   "id": "747213f7",
   "metadata": {},
   "source": [
    "2. Exportamos los subsets de Nike (uno de calidad y otro de precio).\n",
    "\n",
    "    2.1. Precio:"
   ]
  },
  {
   "cell_type": "code",
   "execution_count": 192,
   "id": "c5b0752e",
   "metadata": {},
   "outputs": [],
   "source": [
    "puma_price = pd.DataFrame(puma_tw.where(puma_tw.brand_attribute=='price').dropna().drop('brand_attribute',axis=1))"
   ]
  },
  {
   "cell_type": "code",
   "execution_count": 193,
   "id": "53fef0f7",
   "metadata": {},
   "outputs": [
    {
     "data": {
      "text/plain": [
       "text        0\n",
       "hashtags    0\n",
       "dtype: int64"
      ]
     },
     "execution_count": 193,
     "metadata": {},
     "output_type": "execute_result"
    }
   ],
   "source": [
    "puma_price.isnull().sum()"
   ]
  },
  {
   "cell_type": "code",
   "execution_count": 194,
   "id": "be33b26d",
   "metadata": {},
   "outputs": [
    {
     "data": {
      "text/plain": [
       "(852, 2)"
      ]
     },
     "execution_count": 194,
     "metadata": {},
     "output_type": "execute_result"
    }
   ],
   "source": [
    "puma_price.shape"
   ]
  },
  {
   "cell_type": "code",
   "execution_count": 195,
   "id": "b26e29ea",
   "metadata": {},
   "outputs": [],
   "source": [
    "# Exportamos el subset de precio.\n",
    "\n",
    "puma_price.to_csv('data/puma_price.csv', index = False)"
   ]
  },
  {
   "cell_type": "markdown",
   "id": "7e5d15e9",
   "metadata": {},
   "source": [
    "    2.2. Calidad:"
   ]
  },
  {
   "cell_type": "code",
   "execution_count": 196,
   "id": "18e827d0",
   "metadata": {},
   "outputs": [],
   "source": [
    "puma_quality = pd.DataFrame(puma_tw.where(puma_tw.brand_attribute=='quality').dropna().drop('brand_attribute',axis=1))"
   ]
  },
  {
   "cell_type": "code",
   "execution_count": 197,
   "id": "8192942d",
   "metadata": {},
   "outputs": [
    {
     "data": {
      "text/plain": [
       "text        0\n",
       "hashtags    0\n",
       "dtype: int64"
      ]
     },
     "execution_count": 197,
     "metadata": {},
     "output_type": "execute_result"
    }
   ],
   "source": [
    "puma_quality.isnull().sum()"
   ]
  },
  {
   "cell_type": "code",
   "execution_count": 198,
   "id": "dbafebf9",
   "metadata": {},
   "outputs": [
    {
     "data": {
      "text/plain": [
       "(4132, 2)"
      ]
     },
     "execution_count": 198,
     "metadata": {},
     "output_type": "execute_result"
    }
   ],
   "source": [
    "puma_quality.shape"
   ]
  },
  {
   "cell_type": "code",
   "execution_count": 199,
   "id": "4f63e309",
   "metadata": {},
   "outputs": [],
   "source": [
    "# Exportamos el subset de calidad.\n",
    "\n",
    "puma_quality.to_csv('data/puma_quality.csv', index = False)"
   ]
  },
  {
   "cell_type": "markdown",
   "id": "89382c90",
   "metadata": {},
   "source": [
    "**Nota importante:**\n",
    "\n",
    "Aunque hemos exportado cada subset en archivos csv independientes (lo tenemos guardado de manera desagregada), en realidad trabajaremos con un único DataFrame que contenga todos los tweets analizados (los de todas las marcas y todos los atributos). En este DataFrame recogeremos en una columna la marca a la que hacen referencia y en otra columna el atributo al que se refieren (calidad y precio). Esto lo hacemos así porque nos permitirá agilizar mucho los procesos de visualización de resultados y obtener gráficos de mejor calidad (podremos filtrar en función de la marca y el atributo, al tiempo que manejamos un único DataFrame para mayor eficiencia)."
   ]
  },
  {
   "cell_type": "markdown",
   "id": "022391aa",
   "metadata": {},
   "source": [
    "## Dataset Completo."
   ]
  },
  {
   "cell_type": "markdown",
   "id": "8beeb29e",
   "metadata": {},
   "source": [
    "Primero generamos una nueva columna en la que se recoja la marca a la que hace referencia el tweet (todos los valores de la columna serán 'nike' para el DataFrame de Nike, 'adidas' para el DataFrame de Adidas...)."
   ]
  },
  {
   "cell_type": "markdown",
   "id": "41a35b7f",
   "metadata": {},
   "source": [
    "#### Columna 'brand' para los datos de Nike."
   ]
  },
  {
   "cell_type": "code",
   "execution_count": 200,
   "id": "576535ef",
   "metadata": {},
   "outputs": [
    {
     "data": {
      "text/html": [
       "<div>\n",
       "<style scoped>\n",
       "    .dataframe tbody tr th:only-of-type {\n",
       "        vertical-align: middle;\n",
       "    }\n",
       "\n",
       "    .dataframe tbody tr th {\n",
       "        vertical-align: top;\n",
       "    }\n",
       "\n",
       "    .dataframe thead th {\n",
       "        text-align: right;\n",
       "    }\n",
       "</style>\n",
       "<table border=\"1\" class=\"dataframe\">\n",
       "  <thead>\n",
       "    <tr style=\"text-align: right;\">\n",
       "      <th></th>\n",
       "      <th>text</th>\n",
       "      <th>hashtags</th>\n",
       "      <th>brand_attribute</th>\n",
       "    </tr>\n",
       "  </thead>\n",
       "  <tbody>\n",
       "    <tr>\n",
       "      <th>0</th>\n",
       "      <td>nobody cares about nike in russia russia is al...</td>\n",
       "      <td>[]</td>\n",
       "      <td>quality</td>\n",
       "    </tr>\n",
       "    <tr>\n",
       "      <th>1</th>\n",
       "      <td>ye green nike hoodie waala two weeks pehle put...</td>\n",
       "      <td>[]</td>\n",
       "      <td>quality</td>\n",
       "    </tr>\n",
       "    <tr>\n",
       "      <th>2</th>\n",
       "      <td>nike okundaye also knowns nike twins seven sev...</td>\n",
       "      <td>[#womengiant, #Documentwomen]</td>\n",
       "      <td>quality</td>\n",
       "    </tr>\n",
       "    <tr>\n",
       "      <th>3</th>\n",
       "      <td>day four of maxmadness air max month nike air ...</td>\n",
       "      <td>[#maxmadness, #AirMaxMonth, #airmaxgang, #kotd...</td>\n",
       "      <td>quality</td>\n",
       "    </tr>\n",
       "    <tr>\n",
       "      <th>4</th>\n",
       "      <td>thank you sir</td>\n",
       "      <td>[]</td>\n",
       "      <td>quality</td>\n",
       "    </tr>\n",
       "  </tbody>\n",
       "</table>\n",
       "</div>"
      ],
      "text/plain": [
       "                                                text  \\\n",
       "0  nobody cares about nike in russia russia is al...   \n",
       "1  ye green nike hoodie waala two weeks pehle put...   \n",
       "2  nike okundaye also knowns nike twins seven sev...   \n",
       "3  day four of maxmadness air max month nike air ...   \n",
       "4                                      thank you sir   \n",
       "\n",
       "                                            hashtags brand_attribute  \n",
       "0                                                 []         quality  \n",
       "1                                                 []         quality  \n",
       "2                      [#womengiant, #Documentwomen]         quality  \n",
       "3  [#maxmadness, #AirMaxMonth, #airmaxgang, #kotd...         quality  \n",
       "4                                                 []         quality  "
      ]
     },
     "execution_count": 200,
     "metadata": {},
     "output_type": "execute_result"
    }
   ],
   "source": [
    "nike_tw.head()"
   ]
  },
  {
   "cell_type": "code",
   "execution_count": 201,
   "id": "460bffcb",
   "metadata": {},
   "outputs": [],
   "source": [
    "nike_tw = nike_tw.assign(brand='nike')"
   ]
  },
  {
   "cell_type": "code",
   "execution_count": 202,
   "id": "f56ecbf9",
   "metadata": {
    "scrolled": true
   },
   "outputs": [
    {
     "data": {
      "text/html": [
       "<div>\n",
       "<style scoped>\n",
       "    .dataframe tbody tr th:only-of-type {\n",
       "        vertical-align: middle;\n",
       "    }\n",
       "\n",
       "    .dataframe tbody tr th {\n",
       "        vertical-align: top;\n",
       "    }\n",
       "\n",
       "    .dataframe thead th {\n",
       "        text-align: right;\n",
       "    }\n",
       "</style>\n",
       "<table border=\"1\" class=\"dataframe\">\n",
       "  <thead>\n",
       "    <tr style=\"text-align: right;\">\n",
       "      <th></th>\n",
       "      <th>text</th>\n",
       "      <th>hashtags</th>\n",
       "      <th>brand_attribute</th>\n",
       "      <th>brand</th>\n",
       "    </tr>\n",
       "  </thead>\n",
       "  <tbody>\n",
       "    <tr>\n",
       "      <th>0</th>\n",
       "      <td>nobody cares about nike in russia russia is al...</td>\n",
       "      <td>[]</td>\n",
       "      <td>quality</td>\n",
       "      <td>nike</td>\n",
       "    </tr>\n",
       "    <tr>\n",
       "      <th>1</th>\n",
       "      <td>ye green nike hoodie waala two weeks pehle put...</td>\n",
       "      <td>[]</td>\n",
       "      <td>quality</td>\n",
       "      <td>nike</td>\n",
       "    </tr>\n",
       "    <tr>\n",
       "      <th>2</th>\n",
       "      <td>nike okundaye also knowns nike twins seven sev...</td>\n",
       "      <td>[#womengiant, #Documentwomen]</td>\n",
       "      <td>quality</td>\n",
       "      <td>nike</td>\n",
       "    </tr>\n",
       "    <tr>\n",
       "      <th>3</th>\n",
       "      <td>day four of maxmadness air max month nike air ...</td>\n",
       "      <td>[#maxmadness, #AirMaxMonth, #airmaxgang, #kotd...</td>\n",
       "      <td>quality</td>\n",
       "      <td>nike</td>\n",
       "    </tr>\n",
       "    <tr>\n",
       "      <th>4</th>\n",
       "      <td>thank you sir</td>\n",
       "      <td>[]</td>\n",
       "      <td>quality</td>\n",
       "      <td>nike</td>\n",
       "    </tr>\n",
       "  </tbody>\n",
       "</table>\n",
       "</div>"
      ],
      "text/plain": [
       "                                                text  \\\n",
       "0  nobody cares about nike in russia russia is al...   \n",
       "1  ye green nike hoodie waala two weeks pehle put...   \n",
       "2  nike okundaye also knowns nike twins seven sev...   \n",
       "3  day four of maxmadness air max month nike air ...   \n",
       "4                                      thank you sir   \n",
       "\n",
       "                                            hashtags brand_attribute brand  \n",
       "0                                                 []         quality  nike  \n",
       "1                                                 []         quality  nike  \n",
       "2                      [#womengiant, #Documentwomen]         quality  nike  \n",
       "3  [#maxmadness, #AirMaxMonth, #airmaxgang, #kotd...         quality  nike  \n",
       "4                                                 []         quality  nike  "
      ]
     },
     "execution_count": 202,
     "metadata": {},
     "output_type": "execute_result"
    }
   ],
   "source": [
    "nike_tw.head()"
   ]
  },
  {
   "cell_type": "markdown",
   "id": "5505d756",
   "metadata": {},
   "source": [
    "#### Columna 'brand' para los datos de Adidas."
   ]
  },
  {
   "cell_type": "code",
   "execution_count": 203,
   "id": "001ab2de",
   "metadata": {},
   "outputs": [
    {
     "data": {
      "text/html": [
       "<div>\n",
       "<style scoped>\n",
       "    .dataframe tbody tr th:only-of-type {\n",
       "        vertical-align: middle;\n",
       "    }\n",
       "\n",
       "    .dataframe tbody tr th {\n",
       "        vertical-align: top;\n",
       "    }\n",
       "\n",
       "    .dataframe thead th {\n",
       "        text-align: right;\n",
       "    }\n",
       "</style>\n",
       "<table border=\"1\" class=\"dataframe\">\n",
       "  <thead>\n",
       "    <tr style=\"text-align: right;\">\n",
       "      <th></th>\n",
       "      <th>text</th>\n",
       "      <th>hashtags</th>\n",
       "      <th>brand_attribute</th>\n",
       "    </tr>\n",
       "  </thead>\n",
       "  <tbody>\n",
       "    <tr>\n",
       "      <th>0</th>\n",
       "      <td>because my lad is a div he won t wear adidas o...</td>\n",
       "      <td>[]</td>\n",
       "      <td>quality</td>\n",
       "    </tr>\n",
       "    <tr>\n",
       "      <th>1</th>\n",
       "      <td>beside wrong nameset its like fake shirts spac...</td>\n",
       "      <td>[]</td>\n",
       "      <td>quality</td>\n",
       "    </tr>\n",
       "    <tr>\n",
       "      <th>2</th>\n",
       "      <td>yes dude sa adidas website mismo yang link sa ...</td>\n",
       "      <td>[]</td>\n",
       "      <td>quality</td>\n",
       "    </tr>\n",
       "    <tr>\n",
       "      <th>3</th>\n",
       "      <td>footlocker is solely focusing on only selling ...</td>\n",
       "      <td>[]</td>\n",
       "      <td>quality</td>\n",
       "    </tr>\n",
       "    <tr>\n",
       "      <th>4</th>\n",
       "      <td>adidas yeezy boost three five zero pirate blac...</td>\n",
       "      <td>[]</td>\n",
       "      <td>price</td>\n",
       "    </tr>\n",
       "  </tbody>\n",
       "</table>\n",
       "</div>"
      ],
      "text/plain": [
       "                                                text hashtags brand_attribute\n",
       "0  because my lad is a div he won t wear adidas o...       []         quality\n",
       "1  beside wrong nameset its like fake shirts spac...       []         quality\n",
       "2  yes dude sa adidas website mismo yang link sa ...       []         quality\n",
       "3  footlocker is solely focusing on only selling ...       []         quality\n",
       "4  adidas yeezy boost three five zero pirate blac...       []           price"
      ]
     },
     "execution_count": 203,
     "metadata": {},
     "output_type": "execute_result"
    }
   ],
   "source": [
    "adidas_tw.head()"
   ]
  },
  {
   "cell_type": "code",
   "execution_count": 204,
   "id": "d3df8f55",
   "metadata": {},
   "outputs": [],
   "source": [
    "adidas_tw = adidas_tw.assign(brand='adidas')"
   ]
  },
  {
   "cell_type": "code",
   "execution_count": 205,
   "id": "b86d4963",
   "metadata": {
    "scrolled": false
   },
   "outputs": [
    {
     "data": {
      "text/html": [
       "<div>\n",
       "<style scoped>\n",
       "    .dataframe tbody tr th:only-of-type {\n",
       "        vertical-align: middle;\n",
       "    }\n",
       "\n",
       "    .dataframe tbody tr th {\n",
       "        vertical-align: top;\n",
       "    }\n",
       "\n",
       "    .dataframe thead th {\n",
       "        text-align: right;\n",
       "    }\n",
       "</style>\n",
       "<table border=\"1\" class=\"dataframe\">\n",
       "  <thead>\n",
       "    <tr style=\"text-align: right;\">\n",
       "      <th></th>\n",
       "      <th>text</th>\n",
       "      <th>hashtags</th>\n",
       "      <th>brand_attribute</th>\n",
       "      <th>brand</th>\n",
       "    </tr>\n",
       "  </thead>\n",
       "  <tbody>\n",
       "    <tr>\n",
       "      <th>0</th>\n",
       "      <td>because my lad is a div he won t wear adidas o...</td>\n",
       "      <td>[]</td>\n",
       "      <td>quality</td>\n",
       "      <td>adidas</td>\n",
       "    </tr>\n",
       "    <tr>\n",
       "      <th>1</th>\n",
       "      <td>beside wrong nameset its like fake shirts spac...</td>\n",
       "      <td>[]</td>\n",
       "      <td>quality</td>\n",
       "      <td>adidas</td>\n",
       "    </tr>\n",
       "    <tr>\n",
       "      <th>2</th>\n",
       "      <td>yes dude sa adidas website mismo yang link sa ...</td>\n",
       "      <td>[]</td>\n",
       "      <td>quality</td>\n",
       "      <td>adidas</td>\n",
       "    </tr>\n",
       "    <tr>\n",
       "      <th>3</th>\n",
       "      <td>footlocker is solely focusing on only selling ...</td>\n",
       "      <td>[]</td>\n",
       "      <td>quality</td>\n",
       "      <td>adidas</td>\n",
       "    </tr>\n",
       "    <tr>\n",
       "      <th>4</th>\n",
       "      <td>adidas yeezy boost three five zero pirate blac...</td>\n",
       "      <td>[]</td>\n",
       "      <td>price</td>\n",
       "      <td>adidas</td>\n",
       "    </tr>\n",
       "  </tbody>\n",
       "</table>\n",
       "</div>"
      ],
      "text/plain": [
       "                                                text hashtags brand_attribute  \\\n",
       "0  because my lad is a div he won t wear adidas o...       []         quality   \n",
       "1  beside wrong nameset its like fake shirts spac...       []         quality   \n",
       "2  yes dude sa adidas website mismo yang link sa ...       []         quality   \n",
       "3  footlocker is solely focusing on only selling ...       []         quality   \n",
       "4  adidas yeezy boost three five zero pirate blac...       []           price   \n",
       "\n",
       "    brand  \n",
       "0  adidas  \n",
       "1  adidas  \n",
       "2  adidas  \n",
       "3  adidas  \n",
       "4  adidas  "
      ]
     },
     "execution_count": 205,
     "metadata": {},
     "output_type": "execute_result"
    }
   ],
   "source": [
    "adidas_tw.head()"
   ]
  },
  {
   "cell_type": "markdown",
   "id": "8ec28644",
   "metadata": {},
   "source": [
    "#### Columna 'brand' para los datos de Asics."
   ]
  },
  {
   "cell_type": "code",
   "execution_count": 206,
   "id": "6ca847b8",
   "metadata": {},
   "outputs": [
    {
     "data": {
      "text/html": [
       "<div>\n",
       "<style scoped>\n",
       "    .dataframe tbody tr th:only-of-type {\n",
       "        vertical-align: middle;\n",
       "    }\n",
       "\n",
       "    .dataframe tbody tr th {\n",
       "        vertical-align: top;\n",
       "    }\n",
       "\n",
       "    .dataframe thead th {\n",
       "        text-align: right;\n",
       "    }\n",
       "</style>\n",
       "<table border=\"1\" class=\"dataframe\">\n",
       "  <thead>\n",
       "    <tr style=\"text-align: right;\">\n",
       "      <th></th>\n",
       "      <th>text</th>\n",
       "      <th>hashtags</th>\n",
       "      <th>brand_attribute</th>\n",
       "    </tr>\n",
       "  </thead>\n",
       "  <tbody>\n",
       "    <tr>\n",
       "      <th>0</th>\n",
       "      <td>probably around dollars nine zero for a pair o...</td>\n",
       "      <td>[]</td>\n",
       "      <td>price</td>\n",
       "    </tr>\n",
       "    <tr>\n",
       "      <th>1</th>\n",
       "      <td>hi thanks for your message we re really sorry ...</td>\n",
       "      <td>[]</td>\n",
       "      <td>quality</td>\n",
       "    </tr>\n",
       "    <tr>\n",
       "      <th>2</th>\n",
       "      <td>the fun about it is that the two eight six mb ...</td>\n",
       "      <td>[]</td>\n",
       "      <td>price</td>\n",
       "    </tr>\n",
       "    <tr>\n",
       "      <th>3</th>\n",
       "      <td>check out this listing i just added to my posh...</td>\n",
       "      <td>[#Poshmark, #shopmycloset]</td>\n",
       "      <td>quality</td>\n",
       "    </tr>\n",
       "    <tr>\n",
       "      <th>4</th>\n",
       "      <td>check out this listing i just added to my posh...</td>\n",
       "      <td>[#Poshmark, #shopmycloset]</td>\n",
       "      <td>quality</td>\n",
       "    </tr>\n",
       "  </tbody>\n",
       "</table>\n",
       "</div>"
      ],
      "text/plain": [
       "                                                text  \\\n",
       "0  probably around dollars nine zero for a pair o...   \n",
       "1  hi thanks for your message we re really sorry ...   \n",
       "2  the fun about it is that the two eight six mb ...   \n",
       "3  check out this listing i just added to my posh...   \n",
       "4  check out this listing i just added to my posh...   \n",
       "\n",
       "                     hashtags brand_attribute  \n",
       "0                          []           price  \n",
       "1                          []         quality  \n",
       "2                          []           price  \n",
       "3  [#Poshmark, #shopmycloset]         quality  \n",
       "4  [#Poshmark, #shopmycloset]         quality  "
      ]
     },
     "execution_count": 206,
     "metadata": {},
     "output_type": "execute_result"
    }
   ],
   "source": [
    "asics_tw.head()"
   ]
  },
  {
   "cell_type": "code",
   "execution_count": 207,
   "id": "305ec806",
   "metadata": {},
   "outputs": [],
   "source": [
    "asics_tw = asics_tw.assign(brand='asics')"
   ]
  },
  {
   "cell_type": "code",
   "execution_count": 208,
   "id": "346d3459",
   "metadata": {
    "scrolled": true
   },
   "outputs": [
    {
     "data": {
      "text/html": [
       "<div>\n",
       "<style scoped>\n",
       "    .dataframe tbody tr th:only-of-type {\n",
       "        vertical-align: middle;\n",
       "    }\n",
       "\n",
       "    .dataframe tbody tr th {\n",
       "        vertical-align: top;\n",
       "    }\n",
       "\n",
       "    .dataframe thead th {\n",
       "        text-align: right;\n",
       "    }\n",
       "</style>\n",
       "<table border=\"1\" class=\"dataframe\">\n",
       "  <thead>\n",
       "    <tr style=\"text-align: right;\">\n",
       "      <th></th>\n",
       "      <th>text</th>\n",
       "      <th>hashtags</th>\n",
       "      <th>brand_attribute</th>\n",
       "      <th>brand</th>\n",
       "    </tr>\n",
       "  </thead>\n",
       "  <tbody>\n",
       "    <tr>\n",
       "      <th>0</th>\n",
       "      <td>probably around dollars nine zero for a pair o...</td>\n",
       "      <td>[]</td>\n",
       "      <td>price</td>\n",
       "      <td>asics</td>\n",
       "    </tr>\n",
       "    <tr>\n",
       "      <th>1</th>\n",
       "      <td>hi thanks for your message we re really sorry ...</td>\n",
       "      <td>[]</td>\n",
       "      <td>quality</td>\n",
       "      <td>asics</td>\n",
       "    </tr>\n",
       "    <tr>\n",
       "      <th>2</th>\n",
       "      <td>the fun about it is that the two eight six mb ...</td>\n",
       "      <td>[]</td>\n",
       "      <td>price</td>\n",
       "      <td>asics</td>\n",
       "    </tr>\n",
       "    <tr>\n",
       "      <th>3</th>\n",
       "      <td>check out this listing i just added to my posh...</td>\n",
       "      <td>[#Poshmark, #shopmycloset]</td>\n",
       "      <td>quality</td>\n",
       "      <td>asics</td>\n",
       "    </tr>\n",
       "    <tr>\n",
       "      <th>4</th>\n",
       "      <td>check out this listing i just added to my posh...</td>\n",
       "      <td>[#Poshmark, #shopmycloset]</td>\n",
       "      <td>quality</td>\n",
       "      <td>asics</td>\n",
       "    </tr>\n",
       "  </tbody>\n",
       "</table>\n",
       "</div>"
      ],
      "text/plain": [
       "                                                text  \\\n",
       "0  probably around dollars nine zero for a pair o...   \n",
       "1  hi thanks for your message we re really sorry ...   \n",
       "2  the fun about it is that the two eight six mb ...   \n",
       "3  check out this listing i just added to my posh...   \n",
       "4  check out this listing i just added to my posh...   \n",
       "\n",
       "                     hashtags brand_attribute  brand  \n",
       "0                          []           price  asics  \n",
       "1                          []         quality  asics  \n",
       "2                          []           price  asics  \n",
       "3  [#Poshmark, #shopmycloset]         quality  asics  \n",
       "4  [#Poshmark, #shopmycloset]         quality  asics  "
      ]
     },
     "execution_count": 208,
     "metadata": {},
     "output_type": "execute_result"
    }
   ],
   "source": [
    "asics_tw.head()"
   ]
  },
  {
   "cell_type": "markdown",
   "id": "54f8bb2b",
   "metadata": {},
   "source": [
    "#### Columna 'brand' para los datos de Reebok."
   ]
  },
  {
   "cell_type": "code",
   "execution_count": 209,
   "id": "6ea54fde",
   "metadata": {},
   "outputs": [
    {
     "data": {
      "text/html": [
       "<div>\n",
       "<style scoped>\n",
       "    .dataframe tbody tr th:only-of-type {\n",
       "        vertical-align: middle;\n",
       "    }\n",
       "\n",
       "    .dataframe tbody tr th {\n",
       "        vertical-align: top;\n",
       "    }\n",
       "\n",
       "    .dataframe thead th {\n",
       "        text-align: right;\n",
       "    }\n",
       "</style>\n",
       "<table border=\"1\" class=\"dataframe\">\n",
       "  <thead>\n",
       "    <tr style=\"text-align: right;\">\n",
       "      <th></th>\n",
       "      <th>text</th>\n",
       "      <th>hashtags</th>\n",
       "      <th>brand_attribute</th>\n",
       "    </tr>\n",
       "  </thead>\n",
       "  <tbody>\n",
       "    <tr>\n",
       "      <th>0</th>\n",
       "      <td>my wife you re strong inspirational caring ama...</td>\n",
       "      <td>[]</td>\n",
       "      <td>price</td>\n",
       "    </tr>\n",
       "    <tr>\n",
       "      <th>1</th>\n",
       "      <td>sponsored by reebok</td>\n",
       "      <td>[]</td>\n",
       "      <td>quality</td>\n",
       "    </tr>\n",
       "    <tr>\n",
       "      <th>2</th>\n",
       "      <td>thank you the one in bottom middle pic was ree...</td>\n",
       "      <td>[]</td>\n",
       "      <td>price</td>\n",
       "    </tr>\n",
       "    <tr>\n",
       "      <th>3</th>\n",
       "      <td>at eight two four save two four seven four</td>\n",
       "      <td>[]</td>\n",
       "      <td>quality</td>\n",
       "    </tr>\n",
       "    <tr>\n",
       "      <th>4</th>\n",
       "      <td>thank you for always supporting me you was the...</td>\n",
       "      <td>[]</td>\n",
       "      <td>quality</td>\n",
       "    </tr>\n",
       "  </tbody>\n",
       "</table>\n",
       "</div>"
      ],
      "text/plain": [
       "                                                text hashtags brand_attribute\n",
       "0  my wife you re strong inspirational caring ama...       []           price\n",
       "1                                sponsored by reebok       []         quality\n",
       "2  thank you the one in bottom middle pic was ree...       []           price\n",
       "3         at eight two four save two four seven four       []         quality\n",
       "4  thank you for always supporting me you was the...       []         quality"
      ]
     },
     "execution_count": 209,
     "metadata": {},
     "output_type": "execute_result"
    }
   ],
   "source": [
    "reebok_tw.head()"
   ]
  },
  {
   "cell_type": "code",
   "execution_count": 210,
   "id": "7d9d1b36",
   "metadata": {},
   "outputs": [],
   "source": [
    "reebok_tw = reebok_tw.assign(brand='reebok')"
   ]
  },
  {
   "cell_type": "code",
   "execution_count": 211,
   "id": "bcf5493d",
   "metadata": {
    "scrolled": true
   },
   "outputs": [
    {
     "data": {
      "text/html": [
       "<div>\n",
       "<style scoped>\n",
       "    .dataframe tbody tr th:only-of-type {\n",
       "        vertical-align: middle;\n",
       "    }\n",
       "\n",
       "    .dataframe tbody tr th {\n",
       "        vertical-align: top;\n",
       "    }\n",
       "\n",
       "    .dataframe thead th {\n",
       "        text-align: right;\n",
       "    }\n",
       "</style>\n",
       "<table border=\"1\" class=\"dataframe\">\n",
       "  <thead>\n",
       "    <tr style=\"text-align: right;\">\n",
       "      <th></th>\n",
       "      <th>text</th>\n",
       "      <th>hashtags</th>\n",
       "      <th>brand_attribute</th>\n",
       "      <th>brand</th>\n",
       "    </tr>\n",
       "  </thead>\n",
       "  <tbody>\n",
       "    <tr>\n",
       "      <th>0</th>\n",
       "      <td>my wife you re strong inspirational caring ama...</td>\n",
       "      <td>[]</td>\n",
       "      <td>price</td>\n",
       "      <td>reebok</td>\n",
       "    </tr>\n",
       "    <tr>\n",
       "      <th>1</th>\n",
       "      <td>sponsored by reebok</td>\n",
       "      <td>[]</td>\n",
       "      <td>quality</td>\n",
       "      <td>reebok</td>\n",
       "    </tr>\n",
       "    <tr>\n",
       "      <th>2</th>\n",
       "      <td>thank you the one in bottom middle pic was ree...</td>\n",
       "      <td>[]</td>\n",
       "      <td>price</td>\n",
       "      <td>reebok</td>\n",
       "    </tr>\n",
       "    <tr>\n",
       "      <th>3</th>\n",
       "      <td>at eight two four save two four seven four</td>\n",
       "      <td>[]</td>\n",
       "      <td>quality</td>\n",
       "      <td>reebok</td>\n",
       "    </tr>\n",
       "    <tr>\n",
       "      <th>4</th>\n",
       "      <td>thank you for always supporting me you was the...</td>\n",
       "      <td>[]</td>\n",
       "      <td>quality</td>\n",
       "      <td>reebok</td>\n",
       "    </tr>\n",
       "  </tbody>\n",
       "</table>\n",
       "</div>"
      ],
      "text/plain": [
       "                                                text hashtags brand_attribute  \\\n",
       "0  my wife you re strong inspirational caring ama...       []           price   \n",
       "1                                sponsored by reebok       []         quality   \n",
       "2  thank you the one in bottom middle pic was ree...       []           price   \n",
       "3         at eight two four save two four seven four       []         quality   \n",
       "4  thank you for always supporting me you was the...       []         quality   \n",
       "\n",
       "    brand  \n",
       "0  reebok  \n",
       "1  reebok  \n",
       "2  reebok  \n",
       "3  reebok  \n",
       "4  reebok  "
      ]
     },
     "execution_count": 211,
     "metadata": {},
     "output_type": "execute_result"
    }
   ],
   "source": [
    "reebok_tw.head()"
   ]
  },
  {
   "cell_type": "markdown",
   "id": "93e13b40",
   "metadata": {},
   "source": [
    "#### Columna 'brand' para los datos de Skechers."
   ]
  },
  {
   "cell_type": "code",
   "execution_count": 212,
   "id": "7a2f66f2",
   "metadata": {},
   "outputs": [
    {
     "data": {
      "text/html": [
       "<div>\n",
       "<style scoped>\n",
       "    .dataframe tbody tr th:only-of-type {\n",
       "        vertical-align: middle;\n",
       "    }\n",
       "\n",
       "    .dataframe tbody tr th {\n",
       "        vertical-align: top;\n",
       "    }\n",
       "\n",
       "    .dataframe thead th {\n",
       "        text-align: right;\n",
       "    }\n",
       "</style>\n",
       "<table border=\"1\" class=\"dataframe\">\n",
       "  <thead>\n",
       "    <tr style=\"text-align: right;\">\n",
       "      <th></th>\n",
       "      <th>text</th>\n",
       "      <th>hashtags</th>\n",
       "      <th>brand_attribute</th>\n",
       "    </tr>\n",
       "  </thead>\n",
       "  <tbody>\n",
       "    <tr>\n",
       "      <th>0</th>\n",
       "      <td>i don t think this is true his mother is heavy...</td>\n",
       "      <td>[]</td>\n",
       "      <td>quality</td>\n",
       "    </tr>\n",
       "    <tr>\n",
       "      <th>1</th>\n",
       "      <td>the skechers gif i m crying</td>\n",
       "      <td>[]</td>\n",
       "      <td>quality</td>\n",
       "    </tr>\n",
       "    <tr>\n",
       "      <th>2</th>\n",
       "      <td>skechers usa jumps after president added dolla...</td>\n",
       "      <td>[]</td>\n",
       "      <td>price</td>\n",
       "    </tr>\n",
       "    <tr>\n",
       "      <th>3</th>\n",
       "      <td>so good i had to share check out all the items...</td>\n",
       "      <td>[#poshmark, #fashion, #style, #shopmycloset, #...</td>\n",
       "      <td>quality</td>\n",
       "    </tr>\n",
       "    <tr>\n",
       "      <th>4</th>\n",
       "      <td>i was broke had it drippin in skechers</td>\n",
       "      <td>[]</td>\n",
       "      <td>quality</td>\n",
       "    </tr>\n",
       "  </tbody>\n",
       "</table>\n",
       "</div>"
      ],
      "text/plain": [
       "                                                text  \\\n",
       "0  i don t think this is true his mother is heavy...   \n",
       "1                        the skechers gif i m crying   \n",
       "2  skechers usa jumps after president added dolla...   \n",
       "3  so good i had to share check out all the items...   \n",
       "4             i was broke had it drippin in skechers   \n",
       "\n",
       "                                            hashtags brand_attribute  \n",
       "0                                                 []         quality  \n",
       "1                                                 []         quality  \n",
       "2                                                 []           price  \n",
       "3  [#poshmark, #fashion, #style, #shopmycloset, #...         quality  \n",
       "4                                                 []         quality  "
      ]
     },
     "execution_count": 212,
     "metadata": {},
     "output_type": "execute_result"
    }
   ],
   "source": [
    "skechers_tw.head()"
   ]
  },
  {
   "cell_type": "code",
   "execution_count": 213,
   "id": "14075125",
   "metadata": {},
   "outputs": [],
   "source": [
    "skechers_tw = skechers_tw.assign(brand='skechers')"
   ]
  },
  {
   "cell_type": "code",
   "execution_count": 214,
   "id": "913e53b3",
   "metadata": {
    "scrolled": true
   },
   "outputs": [
    {
     "data": {
      "text/html": [
       "<div>\n",
       "<style scoped>\n",
       "    .dataframe tbody tr th:only-of-type {\n",
       "        vertical-align: middle;\n",
       "    }\n",
       "\n",
       "    .dataframe tbody tr th {\n",
       "        vertical-align: top;\n",
       "    }\n",
       "\n",
       "    .dataframe thead th {\n",
       "        text-align: right;\n",
       "    }\n",
       "</style>\n",
       "<table border=\"1\" class=\"dataframe\">\n",
       "  <thead>\n",
       "    <tr style=\"text-align: right;\">\n",
       "      <th></th>\n",
       "      <th>text</th>\n",
       "      <th>hashtags</th>\n",
       "      <th>brand_attribute</th>\n",
       "      <th>brand</th>\n",
       "    </tr>\n",
       "  </thead>\n",
       "  <tbody>\n",
       "    <tr>\n",
       "      <th>0</th>\n",
       "      <td>i don t think this is true his mother is heavy...</td>\n",
       "      <td>[]</td>\n",
       "      <td>quality</td>\n",
       "      <td>skechers</td>\n",
       "    </tr>\n",
       "    <tr>\n",
       "      <th>1</th>\n",
       "      <td>the skechers gif i m crying</td>\n",
       "      <td>[]</td>\n",
       "      <td>quality</td>\n",
       "      <td>skechers</td>\n",
       "    </tr>\n",
       "    <tr>\n",
       "      <th>2</th>\n",
       "      <td>skechers usa jumps after president added dolla...</td>\n",
       "      <td>[]</td>\n",
       "      <td>price</td>\n",
       "      <td>skechers</td>\n",
       "    </tr>\n",
       "    <tr>\n",
       "      <th>3</th>\n",
       "      <td>so good i had to share check out all the items...</td>\n",
       "      <td>[#poshmark, #fashion, #style, #shopmycloset, #...</td>\n",
       "      <td>quality</td>\n",
       "      <td>skechers</td>\n",
       "    </tr>\n",
       "    <tr>\n",
       "      <th>4</th>\n",
       "      <td>i was broke had it drippin in skechers</td>\n",
       "      <td>[]</td>\n",
       "      <td>quality</td>\n",
       "      <td>skechers</td>\n",
       "    </tr>\n",
       "  </tbody>\n",
       "</table>\n",
       "</div>"
      ],
      "text/plain": [
       "                                                text  \\\n",
       "0  i don t think this is true his mother is heavy...   \n",
       "1                        the skechers gif i m crying   \n",
       "2  skechers usa jumps after president added dolla...   \n",
       "3  so good i had to share check out all the items...   \n",
       "4             i was broke had it drippin in skechers   \n",
       "\n",
       "                                            hashtags brand_attribute     brand  \n",
       "0                                                 []         quality  skechers  \n",
       "1                                                 []         quality  skechers  \n",
       "2                                                 []           price  skechers  \n",
       "3  [#poshmark, #fashion, #style, #shopmycloset, #...         quality  skechers  \n",
       "4                                                 []         quality  skechers  "
      ]
     },
     "execution_count": 214,
     "metadata": {},
     "output_type": "execute_result"
    }
   ],
   "source": [
    "skechers_tw.head()"
   ]
  },
  {
   "cell_type": "markdown",
   "id": "53531325",
   "metadata": {},
   "source": [
    "#### Columna 'brand' para los datos de Under Armour."
   ]
  },
  {
   "cell_type": "code",
   "execution_count": 215,
   "id": "b0dcf4fb",
   "metadata": {},
   "outputs": [
    {
     "data": {
      "text/html": [
       "<div>\n",
       "<style scoped>\n",
       "    .dataframe tbody tr th:only-of-type {\n",
       "        vertical-align: middle;\n",
       "    }\n",
       "\n",
       "    .dataframe tbody tr th {\n",
       "        vertical-align: top;\n",
       "    }\n",
       "\n",
       "    .dataframe thead th {\n",
       "        text-align: right;\n",
       "    }\n",
       "</style>\n",
       "<table border=\"1\" class=\"dataframe\">\n",
       "  <thead>\n",
       "    <tr style=\"text-align: right;\">\n",
       "      <th></th>\n",
       "      <th>text</th>\n",
       "      <th>hashtags</th>\n",
       "      <th>brand_attribute</th>\n",
       "    </tr>\n",
       "  </thead>\n",
       "  <tbody>\n",
       "    <tr>\n",
       "      <th>0</th>\n",
       "      <td>i would appreciate the help with the armour he...</td>\n",
       "      <td>[]</td>\n",
       "      <td>quality</td>\n",
       "    </tr>\n",
       "    <tr>\n",
       "      <th>1</th>\n",
       "      <td>boots under armour stellar then usually some s...</td>\n",
       "      <td>[]</td>\n",
       "      <td>quality</td>\n",
       "    </tr>\n",
       "    <tr>\n",
       "      <th>2</th>\n",
       "      <td>under armour new blue womens size xl compressi...</td>\n",
       "      <td>[#eBay🇺🇸, #Women, #Pants]</td>\n",
       "      <td>price</td>\n",
       "    </tr>\n",
       "    <tr>\n",
       "      <th>3</th>\n",
       "      <td>boycott under armour for promoting trophy hunt...</td>\n",
       "      <td>[]</td>\n",
       "      <td>quality</td>\n",
       "    </tr>\n",
       "    <tr>\n",
       "      <th>4</th>\n",
       "      <td>under armour men s rival fleece big logo hoodie</td>\n",
       "      <td>[]</td>\n",
       "      <td>quality</td>\n",
       "    </tr>\n",
       "  </tbody>\n",
       "</table>\n",
       "</div>"
      ],
      "text/plain": [
       "                                                text  \\\n",
       "0  i would appreciate the help with the armour he...   \n",
       "1  boots under armour stellar then usually some s...   \n",
       "2  under armour new blue womens size xl compressi...   \n",
       "3  boycott under armour for promoting trophy hunt...   \n",
       "4    under armour men s rival fleece big logo hoodie   \n",
       "\n",
       "                    hashtags brand_attribute  \n",
       "0                         []         quality  \n",
       "1                         []         quality  \n",
       "2  [#eBay🇺🇸, #Women, #Pants]           price  \n",
       "3                         []         quality  \n",
       "4                         []         quality  "
      ]
     },
     "execution_count": 215,
     "metadata": {},
     "output_type": "execute_result"
    }
   ],
   "source": [
    "under_armour_tw.head()"
   ]
  },
  {
   "cell_type": "code",
   "execution_count": 216,
   "id": "69110f74",
   "metadata": {},
   "outputs": [],
   "source": [
    "under_armour_tw = under_armour_tw.assign(brand='under armour')"
   ]
  },
  {
   "cell_type": "code",
   "execution_count": 217,
   "id": "36be0118",
   "metadata": {
    "scrolled": true
   },
   "outputs": [
    {
     "data": {
      "text/html": [
       "<div>\n",
       "<style scoped>\n",
       "    .dataframe tbody tr th:only-of-type {\n",
       "        vertical-align: middle;\n",
       "    }\n",
       "\n",
       "    .dataframe tbody tr th {\n",
       "        vertical-align: top;\n",
       "    }\n",
       "\n",
       "    .dataframe thead th {\n",
       "        text-align: right;\n",
       "    }\n",
       "</style>\n",
       "<table border=\"1\" class=\"dataframe\">\n",
       "  <thead>\n",
       "    <tr style=\"text-align: right;\">\n",
       "      <th></th>\n",
       "      <th>text</th>\n",
       "      <th>hashtags</th>\n",
       "      <th>brand_attribute</th>\n",
       "      <th>brand</th>\n",
       "    </tr>\n",
       "  </thead>\n",
       "  <tbody>\n",
       "    <tr>\n",
       "      <th>0</th>\n",
       "      <td>i would appreciate the help with the armour he...</td>\n",
       "      <td>[]</td>\n",
       "      <td>quality</td>\n",
       "      <td>under armour</td>\n",
       "    </tr>\n",
       "    <tr>\n",
       "      <th>1</th>\n",
       "      <td>boots under armour stellar then usually some s...</td>\n",
       "      <td>[]</td>\n",
       "      <td>quality</td>\n",
       "      <td>under armour</td>\n",
       "    </tr>\n",
       "    <tr>\n",
       "      <th>2</th>\n",
       "      <td>under armour new blue womens size xl compressi...</td>\n",
       "      <td>[#eBay🇺🇸, #Women, #Pants]</td>\n",
       "      <td>price</td>\n",
       "      <td>under armour</td>\n",
       "    </tr>\n",
       "    <tr>\n",
       "      <th>3</th>\n",
       "      <td>boycott under armour for promoting trophy hunt...</td>\n",
       "      <td>[]</td>\n",
       "      <td>quality</td>\n",
       "      <td>under armour</td>\n",
       "    </tr>\n",
       "    <tr>\n",
       "      <th>4</th>\n",
       "      <td>under armour men s rival fleece big logo hoodie</td>\n",
       "      <td>[]</td>\n",
       "      <td>quality</td>\n",
       "      <td>under armour</td>\n",
       "    </tr>\n",
       "  </tbody>\n",
       "</table>\n",
       "</div>"
      ],
      "text/plain": [
       "                                                text  \\\n",
       "0  i would appreciate the help with the armour he...   \n",
       "1  boots under armour stellar then usually some s...   \n",
       "2  under armour new blue womens size xl compressi...   \n",
       "3  boycott under armour for promoting trophy hunt...   \n",
       "4    under armour men s rival fleece big logo hoodie   \n",
       "\n",
       "                    hashtags brand_attribute         brand  \n",
       "0                         []         quality  under armour  \n",
       "1                         []         quality  under armour  \n",
       "2  [#eBay🇺🇸, #Women, #Pants]           price  under armour  \n",
       "3                         []         quality  under armour  \n",
       "4                         []         quality  under armour  "
      ]
     },
     "execution_count": 217,
     "metadata": {},
     "output_type": "execute_result"
    }
   ],
   "source": [
    "under_armour_tw.head()"
   ]
  },
  {
   "cell_type": "markdown",
   "id": "32c05554",
   "metadata": {},
   "source": [
    "#### Columna 'brand' para los datos de Umbro."
   ]
  },
  {
   "cell_type": "code",
   "execution_count": 218,
   "id": "55b38286",
   "metadata": {},
   "outputs": [
    {
     "data": {
      "text/html": [
       "<div>\n",
       "<style scoped>\n",
       "    .dataframe tbody tr th:only-of-type {\n",
       "        vertical-align: middle;\n",
       "    }\n",
       "\n",
       "    .dataframe tbody tr th {\n",
       "        vertical-align: top;\n",
       "    }\n",
       "\n",
       "    .dataframe thead th {\n",
       "        text-align: right;\n",
       "    }\n",
       "</style>\n",
       "<table border=\"1\" class=\"dataframe\">\n",
       "  <thead>\n",
       "    <tr style=\"text-align: right;\">\n",
       "      <th></th>\n",
       "      <th>text</th>\n",
       "      <th>hashtags</th>\n",
       "      <th>brand_attribute</th>\n",
       "    </tr>\n",
       "  </thead>\n",
       "  <tbody>\n",
       "    <tr>\n",
       "      <th>0</th>\n",
       "      <td>let s do flip flop</td>\n",
       "      <td>[]</td>\n",
       "      <td>quality</td>\n",
       "    </tr>\n",
       "    <tr>\n",
       "      <th>1</th>\n",
       "      <td>umbro ball</td>\n",
       "      <td>[]</td>\n",
       "      <td>quality</td>\n",
       "    </tr>\n",
       "    <tr>\n",
       "      <th>2</th>\n",
       "      <td>manchester united shirt one nine nine two one ...</td>\n",
       "      <td>[]</td>\n",
       "      <td>quality</td>\n",
       "    </tr>\n",
       "    <tr>\n",
       "      <th>3</th>\n",
       "      <td>celtic football shirt one nine nine nine away ...</td>\n",
       "      <td>[]</td>\n",
       "      <td>price</td>\n",
       "    </tr>\n",
       "    <tr>\n",
       "      <th>4</th>\n",
       "      <td>an umbro football</td>\n",
       "      <td>[]</td>\n",
       "      <td>quality</td>\n",
       "    </tr>\n",
       "  </tbody>\n",
       "</table>\n",
       "</div>"
      ],
      "text/plain": [
       "                                                text hashtags brand_attribute\n",
       "0                                 let s do flip flop       []         quality\n",
       "1                                         umbro ball       []         quality\n",
       "2  manchester united shirt one nine nine two one ...       []         quality\n",
       "3  celtic football shirt one nine nine nine away ...       []           price\n",
       "4                                  an umbro football       []         quality"
      ]
     },
     "execution_count": 218,
     "metadata": {},
     "output_type": "execute_result"
    }
   ],
   "source": [
    "umbro_tw.head()"
   ]
  },
  {
   "cell_type": "code",
   "execution_count": 219,
   "id": "03e97172",
   "metadata": {},
   "outputs": [],
   "source": [
    "umbro_tw = umbro_tw.assign(brand='umbro')"
   ]
  },
  {
   "cell_type": "code",
   "execution_count": 220,
   "id": "47ec3f81",
   "metadata": {
    "scrolled": true
   },
   "outputs": [
    {
     "data": {
      "text/html": [
       "<div>\n",
       "<style scoped>\n",
       "    .dataframe tbody tr th:only-of-type {\n",
       "        vertical-align: middle;\n",
       "    }\n",
       "\n",
       "    .dataframe tbody tr th {\n",
       "        vertical-align: top;\n",
       "    }\n",
       "\n",
       "    .dataframe thead th {\n",
       "        text-align: right;\n",
       "    }\n",
       "</style>\n",
       "<table border=\"1\" class=\"dataframe\">\n",
       "  <thead>\n",
       "    <tr style=\"text-align: right;\">\n",
       "      <th></th>\n",
       "      <th>text</th>\n",
       "      <th>hashtags</th>\n",
       "      <th>brand_attribute</th>\n",
       "      <th>brand</th>\n",
       "    </tr>\n",
       "  </thead>\n",
       "  <tbody>\n",
       "    <tr>\n",
       "      <th>0</th>\n",
       "      <td>let s do flip flop</td>\n",
       "      <td>[]</td>\n",
       "      <td>quality</td>\n",
       "      <td>umbro</td>\n",
       "    </tr>\n",
       "    <tr>\n",
       "      <th>1</th>\n",
       "      <td>umbro ball</td>\n",
       "      <td>[]</td>\n",
       "      <td>quality</td>\n",
       "      <td>umbro</td>\n",
       "    </tr>\n",
       "    <tr>\n",
       "      <th>2</th>\n",
       "      <td>manchester united shirt one nine nine two one ...</td>\n",
       "      <td>[]</td>\n",
       "      <td>quality</td>\n",
       "      <td>umbro</td>\n",
       "    </tr>\n",
       "    <tr>\n",
       "      <th>3</th>\n",
       "      <td>celtic football shirt one nine nine nine away ...</td>\n",
       "      <td>[]</td>\n",
       "      <td>price</td>\n",
       "      <td>umbro</td>\n",
       "    </tr>\n",
       "    <tr>\n",
       "      <th>4</th>\n",
       "      <td>an umbro football</td>\n",
       "      <td>[]</td>\n",
       "      <td>quality</td>\n",
       "      <td>umbro</td>\n",
       "    </tr>\n",
       "  </tbody>\n",
       "</table>\n",
       "</div>"
      ],
      "text/plain": [
       "                                                text hashtags brand_attribute  \\\n",
       "0                                 let s do flip flop       []         quality   \n",
       "1                                         umbro ball       []         quality   \n",
       "2  manchester united shirt one nine nine two one ...       []         quality   \n",
       "3  celtic football shirt one nine nine nine away ...       []           price   \n",
       "4                                  an umbro football       []         quality   \n",
       "\n",
       "   brand  \n",
       "0  umbro  \n",
       "1  umbro  \n",
       "2  umbro  \n",
       "3  umbro  \n",
       "4  umbro  "
      ]
     },
     "execution_count": 220,
     "metadata": {},
     "output_type": "execute_result"
    }
   ],
   "source": [
    "umbro_tw.head()"
   ]
  },
  {
   "cell_type": "markdown",
   "id": "c4be3cc9",
   "metadata": {},
   "source": [
    "#### Columna 'brand' para los datos de Puma."
   ]
  },
  {
   "cell_type": "code",
   "execution_count": 221,
   "id": "464a2637",
   "metadata": {},
   "outputs": [
    {
     "data": {
      "text/html": [
       "<div>\n",
       "<style scoped>\n",
       "    .dataframe tbody tr th:only-of-type {\n",
       "        vertical-align: middle;\n",
       "    }\n",
       "\n",
       "    .dataframe tbody tr th {\n",
       "        vertical-align: top;\n",
       "    }\n",
       "\n",
       "    .dataframe thead th {\n",
       "        text-align: right;\n",
       "    }\n",
       "</style>\n",
       "<table border=\"1\" class=\"dataframe\">\n",
       "  <thead>\n",
       "    <tr style=\"text-align: right;\">\n",
       "      <th></th>\n",
       "      <th>text</th>\n",
       "      <th>hashtags</th>\n",
       "      <th>brand_attribute</th>\n",
       "    </tr>\n",
       "  </thead>\n",
       "  <tbody>\n",
       "    <tr>\n",
       "      <th>0</th>\n",
       "      <td>puma is coming to roblox</td>\n",
       "      <td>[#Puma]</td>\n",
       "      <td>price</td>\n",
       "    </tr>\n",
       "    <tr>\n",
       "      <th>1</th>\n",
       "      <td>ranking best txt choreographies seven puma six...</td>\n",
       "      <td>[]</td>\n",
       "      <td>quality</td>\n",
       "    </tr>\n",
       "    <tr>\n",
       "      <th>2</th>\n",
       "      <td>lfg puma</td>\n",
       "      <td>[]</td>\n",
       "      <td>quality</td>\n",
       "    </tr>\n",
       "    <tr>\n",
       "      <th>3</th>\n",
       "      <td>palestine is a feminist issue more are complic...</td>\n",
       "      <td>[#BDS, #InternationalWomensDay, #IWD2022]</td>\n",
       "      <td>quality</td>\n",
       "    </tr>\n",
       "    <tr>\n",
       "      <th>4</th>\n",
       "      <td>happy women s day keep shining mam could i get...</td>\n",
       "      <td>[]</td>\n",
       "      <td>quality</td>\n",
       "    </tr>\n",
       "  </tbody>\n",
       "</table>\n",
       "</div>"
      ],
      "text/plain": [
       "                                                text  \\\n",
       "0                           puma is coming to roblox   \n",
       "1  ranking best txt choreographies seven puma six...   \n",
       "2                                           lfg puma   \n",
       "3  palestine is a feminist issue more are complic...   \n",
       "4  happy women s day keep shining mam could i get...   \n",
       "\n",
       "                                    hashtags brand_attribute  \n",
       "0                                    [#Puma]           price  \n",
       "1                                         []         quality  \n",
       "2                                         []         quality  \n",
       "3  [#BDS, #InternationalWomensDay, #IWD2022]         quality  \n",
       "4                                         []         quality  "
      ]
     },
     "execution_count": 221,
     "metadata": {},
     "output_type": "execute_result"
    }
   ],
   "source": [
    "puma_tw.head()"
   ]
  },
  {
   "cell_type": "code",
   "execution_count": 222,
   "id": "b1716b3f",
   "metadata": {},
   "outputs": [],
   "source": [
    "puma_tw = puma_tw.assign(brand='puma')"
   ]
  },
  {
   "cell_type": "code",
   "execution_count": 223,
   "id": "09db0e65",
   "metadata": {
    "scrolled": false
   },
   "outputs": [
    {
     "data": {
      "text/html": [
       "<div>\n",
       "<style scoped>\n",
       "    .dataframe tbody tr th:only-of-type {\n",
       "        vertical-align: middle;\n",
       "    }\n",
       "\n",
       "    .dataframe tbody tr th {\n",
       "        vertical-align: top;\n",
       "    }\n",
       "\n",
       "    .dataframe thead th {\n",
       "        text-align: right;\n",
       "    }\n",
       "</style>\n",
       "<table border=\"1\" class=\"dataframe\">\n",
       "  <thead>\n",
       "    <tr style=\"text-align: right;\">\n",
       "      <th></th>\n",
       "      <th>text</th>\n",
       "      <th>hashtags</th>\n",
       "      <th>brand_attribute</th>\n",
       "      <th>brand</th>\n",
       "    </tr>\n",
       "  </thead>\n",
       "  <tbody>\n",
       "    <tr>\n",
       "      <th>0</th>\n",
       "      <td>puma is coming to roblox</td>\n",
       "      <td>[#Puma]</td>\n",
       "      <td>price</td>\n",
       "      <td>puma</td>\n",
       "    </tr>\n",
       "    <tr>\n",
       "      <th>1</th>\n",
       "      <td>ranking best txt choreographies seven puma six...</td>\n",
       "      <td>[]</td>\n",
       "      <td>quality</td>\n",
       "      <td>puma</td>\n",
       "    </tr>\n",
       "    <tr>\n",
       "      <th>2</th>\n",
       "      <td>lfg puma</td>\n",
       "      <td>[]</td>\n",
       "      <td>quality</td>\n",
       "      <td>puma</td>\n",
       "    </tr>\n",
       "    <tr>\n",
       "      <th>3</th>\n",
       "      <td>palestine is a feminist issue more are complic...</td>\n",
       "      <td>[#BDS, #InternationalWomensDay, #IWD2022]</td>\n",
       "      <td>quality</td>\n",
       "      <td>puma</td>\n",
       "    </tr>\n",
       "    <tr>\n",
       "      <th>4</th>\n",
       "      <td>happy women s day keep shining mam could i get...</td>\n",
       "      <td>[]</td>\n",
       "      <td>quality</td>\n",
       "      <td>puma</td>\n",
       "    </tr>\n",
       "  </tbody>\n",
       "</table>\n",
       "</div>"
      ],
      "text/plain": [
       "                                                text  \\\n",
       "0                           puma is coming to roblox   \n",
       "1  ranking best txt choreographies seven puma six...   \n",
       "2                                           lfg puma   \n",
       "3  palestine is a feminist issue more are complic...   \n",
       "4  happy women s day keep shining mam could i get...   \n",
       "\n",
       "                                    hashtags brand_attribute brand  \n",
       "0                                    [#Puma]           price  puma  \n",
       "1                                         []         quality  puma  \n",
       "2                                         []         quality  puma  \n",
       "3  [#BDS, #InternationalWomensDay, #IWD2022]         quality  puma  \n",
       "4                                         []         quality  puma  "
      ]
     },
     "execution_count": 223,
     "metadata": {},
     "output_type": "execute_result"
    }
   ],
   "source": [
    "puma_tw.head()"
   ]
  },
  {
   "cell_type": "markdown",
   "id": "78b0c57a",
   "metadata": {},
   "source": [
    "### Generamos dataset completo."
   ]
  },
  {
   "cell_type": "code",
   "execution_count": 224,
   "id": "c6e96e35",
   "metadata": {},
   "outputs": [],
   "source": [
    "brands_tw = pd.concat([nike_tw, adidas_tw, asics_tw, reebok_tw, skechers_tw, under_armour_tw, umbro_tw, puma_tw])"
   ]
  },
  {
   "cell_type": "code",
   "execution_count": 225,
   "id": "46ef6cc3",
   "metadata": {},
   "outputs": [
    {
     "data": {
      "text/plain": [
       "adidas          29280\n",
       "nike            29276\n",
       "puma             4984\n",
       "asics            1976\n",
       "skechers         1961\n",
       "reebok           1953\n",
       "under armour     1940\n",
       "umbro             698\n",
       "Name: brand, dtype: int64"
      ]
     },
     "execution_count": 225,
     "metadata": {},
     "output_type": "execute_result"
    }
   ],
   "source": [
    "brands_tw.brand.value_counts()"
   ]
  },
  {
   "cell_type": "markdown",
   "id": "6ff4896c",
   "metadata": {},
   "source": [
    "### Exportamos el dataset completo."
   ]
  },
  {
   "cell_type": "code",
   "execution_count": 226,
   "id": "0c8b658f",
   "metadata": {},
   "outputs": [],
   "source": [
    "brands_tw.to_csv('data/sports_equipment_brands.csv', index = False)"
   ]
  },
  {
   "cell_type": "code",
   "execution_count": 227,
   "id": "05973e9e",
   "metadata": {},
   "outputs": [],
   "source": [
    "# Exportamos con pickle para mantener todas las propiedades del DataFrame.\n",
    "\n",
    "brands_tw.to_pickle('data/sports_equipment_brands.pkl')"
   ]
  }
 ],
 "metadata": {
  "kernelspec": {
   "display_name": "ironhack",
   "language": "python",
   "name": "myenv"
  },
  "language_info": {
   "codemirror_mode": {
    "name": "ipython",
    "version": 3
   },
   "file_extension": ".py",
   "mimetype": "text/x-python",
   "name": "python",
   "nbconvert_exporter": "python",
   "pygments_lexer": "ipython3",
   "version": "3.8.5"
  }
 },
 "nbformat": 4,
 "nbformat_minor": 5
}
