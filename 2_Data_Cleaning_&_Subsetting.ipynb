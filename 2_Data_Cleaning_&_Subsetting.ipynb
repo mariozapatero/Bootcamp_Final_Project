{
 "cells": [
  {
   "cell_type": "markdown",
   "id": "d3f173ea",
   "metadata": {},
   "source": [
    "# Data Cleaning."
   ]
  },
  {
   "cell_type": "code",
   "execution_count": 1,
   "id": "4bbb90b3",
   "metadata": {},
   "outputs": [],
   "source": [
    "import pandas as pd\n",
    "\n",
    "from src.cleaning_functions import *\n",
    "\n",
    "from src.text_functions import *"
   ]
  },
  {
   "cell_type": "markdown",
   "id": "08f2e91b",
   "metadata": {},
   "source": [
    "**ÍNDICE:**\n",
    "1. Nike data.\n",
    "    - Exploración inicial de los datos.\n",
    "    - Hashtags.\n",
    "    - Preparing Data.\n",
    "    - Subsets.\n",
    "\n",
    "\n",
    "\n",
    "2. Adidas data.\n",
    "    - Exploración inicial de los datos.\n",
    "    - Hashtags.\n",
    "    - Preparing Data.\n",
    "    - Subsets.\n",
    "\n",
    "\n",
    "\n",
    "3. Dataset Completo.\n"
   ]
  },
  {
   "cell_type": "markdown",
   "id": "d599bbb8",
   "metadata": {},
   "source": [
    "## Nike data."
   ]
  },
  {
   "cell_type": "code",
   "execution_count": 2,
   "id": "a71f22d6",
   "metadata": {},
   "outputs": [],
   "source": [
    "nike = pd.read_csv('data/nike.csv')"
   ]
  },
  {
   "cell_type": "code",
   "execution_count": 3,
   "id": "dd8342fe",
   "metadata": {},
   "outputs": [],
   "source": [
    "nike_tw = pd.DataFrame(nike.text)"
   ]
  },
  {
   "cell_type": "markdown",
   "id": "5c0a32be",
   "metadata": {},
   "source": [
    "### Exploración inicial de los datos:"
   ]
  },
  {
   "cell_type": "code",
   "execution_count": 4,
   "id": "f4c4d0cf",
   "metadata": {},
   "outputs": [
    {
     "data": {
      "text/plain": [
       "(29804, 1)"
      ]
     },
     "execution_count": 4,
     "metadata": {},
     "output_type": "execute_result"
    }
   ],
   "source": [
    "nike_tw.shape"
   ]
  },
  {
   "cell_type": "code",
   "execution_count": 5,
   "id": "dcf53cb7",
   "metadata": {},
   "outputs": [
    {
     "name": "stdout",
     "output_type": "stream",
     "text": [
      "<class 'pandas.core.frame.DataFrame'>\n",
      "RangeIndex: 29804 entries, 0 to 29803\n",
      "Data columns (total 1 columns):\n",
      " #   Column  Non-Null Count  Dtype \n",
      "---  ------  --------------  ----- \n",
      " 0   text    29804 non-null  object\n",
      "dtypes: object(1)\n",
      "memory usage: 233.0+ KB\n"
     ]
    }
   ],
   "source": [
    "nike_tw.info()"
   ]
  },
  {
   "cell_type": "code",
   "execution_count": 6,
   "id": "e9f0ee4f",
   "metadata": {},
   "outputs": [
    {
     "data": {
      "text/html": [
       "<div>\n",
       "<style scoped>\n",
       "    .dataframe tbody tr th:only-of-type {\n",
       "        vertical-align: middle;\n",
       "    }\n",
       "\n",
       "    .dataframe tbody tr th {\n",
       "        vertical-align: top;\n",
       "    }\n",
       "\n",
       "    .dataframe thead th {\n",
       "        text-align: right;\n",
       "    }\n",
       "</style>\n",
       "<table border=\"1\" class=\"dataframe\">\n",
       "  <thead>\n",
       "    <tr style=\"text-align: right;\">\n",
       "      <th></th>\n",
       "      <th>text</th>\n",
       "    </tr>\n",
       "  </thead>\n",
       "  <tbody>\n",
       "    <tr>\n",
       "      <th>count</th>\n",
       "      <td>29804</td>\n",
       "    </tr>\n",
       "    <tr>\n",
       "      <th>unique</th>\n",
       "      <td>29276</td>\n",
       "    </tr>\n",
       "    <tr>\n",
       "      <th>top</th>\n",
       "      <td>@whatudohazz nike</td>\n",
       "    </tr>\n",
       "    <tr>\n",
       "      <th>freq</th>\n",
       "      <td>59</td>\n",
       "    </tr>\n",
       "  </tbody>\n",
       "</table>\n",
       "</div>"
      ],
      "text/plain": [
       "                     text\n",
       "count               29804\n",
       "unique              29276\n",
       "top     @whatudohazz nike\n",
       "freq                   59"
      ]
     },
     "execution_count": 6,
     "metadata": {},
     "output_type": "execute_result"
    }
   ],
   "source": [
    "nike_tw.describe()"
   ]
  },
  {
   "cell_type": "code",
   "execution_count": 7,
   "id": "319bc074",
   "metadata": {},
   "outputs": [
    {
     "data": {
      "text/plain": [
       "text    0\n",
       "dtype: int64"
      ]
     },
     "execution_count": 7,
     "metadata": {},
     "output_type": "execute_result"
    }
   ],
   "source": [
    "nike_tw.isnull().sum()  # No existen nulos."
   ]
  },
  {
   "cell_type": "code",
   "execution_count": 8,
   "id": "3784fa30",
   "metadata": {},
   "outputs": [
    {
     "data": {
      "text/plain": [
       "528"
      ]
     },
     "execution_count": 8,
     "metadata": {},
     "output_type": "execute_result"
    }
   ],
   "source": [
    "nike_tw.duplicated().sum() # Encontramos 528 valores duplicados."
   ]
  },
  {
   "cell_type": "code",
   "execution_count": 9,
   "id": "57545104",
   "metadata": {},
   "outputs": [],
   "source": [
    "drop_duplicates(nike_tw) # Eliminamos los valores duplicados."
   ]
  },
  {
   "cell_type": "code",
   "execution_count": 10,
   "id": "a8eca5f6",
   "metadata": {},
   "outputs": [
    {
     "data": {
      "text/plain": [
       "(29276, 1)"
      ]
     },
     "execution_count": 10,
     "metadata": {},
     "output_type": "execute_result"
    }
   ],
   "source": [
    "nike_tw.shape"
   ]
  },
  {
   "cell_type": "markdown",
   "id": "eb2b0dc7",
   "metadata": {},
   "source": [
    "### Hashtags."
   ]
  },
  {
   "cell_type": "markdown",
   "id": "ae4ad203",
   "metadata": {},
   "source": [
    "Queremos extraer los hastags de los tweets y almacenarlos en una nueva columna del DataFrame. Esto nos permitirá llevar a cabo un análisis específico de los hashtags una vez hecho el análisis del sentimiento de los tweets, relacionando el sentimiento con los hashtags utilizados en el tweet.\n",
    "\n",
    "*Posibles aplicaciones de este análisis:*\n",
    "- *Análisis del sentimiento de la conversación en torno a un hashtag específico (nos permite analizar la percepción acerca de una campaña online, un evento en directo o similares).*\n",
    "\n",
    "\n",
    "- *Ranking de hashtags con mayor sentimiento positivo o negativo.*\n",
    "\n",
    "\n",
    "- *Análisis de utilización de hashtags: podemos analizar elementos más básicos como los hashtags más frecuentes o incluso cruzarlo con otros datos extraídos (datetime de publicación, usuarios que publican el tweet...) para llegar a conclusiones relevantes.*"
   ]
  },
  {
   "cell_type": "code",
   "execution_count": 11,
   "id": "e2de2624",
   "metadata": {},
   "outputs": [],
   "source": [
    "nike_tw['hashtags'] = nike_tw.text.apply(extract_hashtags)"
   ]
  },
  {
   "cell_type": "code",
   "execution_count": 12,
   "id": "778337dd",
   "metadata": {
    "scrolled": true
   },
   "outputs": [
    {
     "data": {
      "text/html": [
       "<div>\n",
       "<style scoped>\n",
       "    .dataframe tbody tr th:only-of-type {\n",
       "        vertical-align: middle;\n",
       "    }\n",
       "\n",
       "    .dataframe tbody tr th {\n",
       "        vertical-align: top;\n",
       "    }\n",
       "\n",
       "    .dataframe thead th {\n",
       "        text-align: right;\n",
       "    }\n",
       "</style>\n",
       "<table border=\"1\" class=\"dataframe\">\n",
       "  <thead>\n",
       "    <tr style=\"text-align: right;\">\n",
       "      <th></th>\n",
       "      <th>text</th>\n",
       "      <th>hashtags</th>\n",
       "    </tr>\n",
       "  </thead>\n",
       "  <tbody>\n",
       "    <tr>\n",
       "      <th>0</th>\n",
       "      <td>@ZubyMusic @LPMisesCaucus Nobody cares about N...</td>\n",
       "      <td>[]</td>\n",
       "    </tr>\n",
       "    <tr>\n",
       "      <th>1</th>\n",
       "      <td>@PoojaPraharaj @IndiainUkraine @PMOIndia @MEAI...</td>\n",
       "      <td>[]</td>\n",
       "    </tr>\n",
       "    <tr>\n",
       "      <th>2</th>\n",
       "      <td>@DocumentWomen Nike Okundaye. Also knowns Nike...</td>\n",
       "      <td>[#womengiant, #Documentwomen]</td>\n",
       "    </tr>\n",
       "    <tr>\n",
       "      <th>3</th>\n",
       "      <td>Day 4 of #maxmadness #AirMaxMonth \\nNike Air M...</td>\n",
       "      <td>[#maxmadness, #AirMaxMonth, #airmaxgang, #kotd...</td>\n",
       "    </tr>\n",
       "    <tr>\n",
       "      <th>4</th>\n",
       "      <td>@MagMr44 @soleguru @nikestore @Nike @SneakerAd...</td>\n",
       "      <td>[]</td>\n",
       "    </tr>\n",
       "  </tbody>\n",
       "</table>\n",
       "</div>"
      ],
      "text/plain": [
       "                                                text  \\\n",
       "0  @ZubyMusic @LPMisesCaucus Nobody cares about N...   \n",
       "1  @PoojaPraharaj @IndiainUkraine @PMOIndia @MEAI...   \n",
       "2  @DocumentWomen Nike Okundaye. Also knowns Nike...   \n",
       "3  Day 4 of #maxmadness #AirMaxMonth \\nNike Air M...   \n",
       "4  @MagMr44 @soleguru @nikestore @Nike @SneakerAd...   \n",
       "\n",
       "                                            hashtags  \n",
       "0                                                 []  \n",
       "1                                                 []  \n",
       "2                      [#womengiant, #Documentwomen]  \n",
       "3  [#maxmadness, #AirMaxMonth, #airmaxgang, #kotd...  \n",
       "4                                                 []  "
      ]
     },
     "execution_count": 12,
     "metadata": {},
     "output_type": "execute_result"
    }
   ],
   "source": [
    "nike_tw.head()"
   ]
  },
  {
   "cell_type": "markdown",
   "id": "4a8c77a0",
   "metadata": {},
   "source": [
    "### Preparing Data."
   ]
  },
  {
   "cell_type": "markdown",
   "id": "e3d9bbc6",
   "metadata": {},
   "source": [
    "**Limpieza básica:**\n",
    "- Pasamos todo a minúsculas.\n",
    "- Eliminamos usuarios ('@ + user' ya que en principio el nombre de los usuarios no aporta información relevante para el modelo).\n",
    "- Eliminamos urls.\n",
    "- Convertimos dígitos a números escritos.\n",
    "- Convertimos $ en 'dollars' y € en 'euros.\n",
    "- Eliminamos valores no alfabéticos: # (aunque manteniendo el texto que viene después ya que puede contener información relevante), signos de puntuación...\n",
    "\n",
    "Esta limpieza se ejecutará a través de nuestra función `basic_cleaning()`."
   ]
  },
  {
   "cell_type": "code",
   "execution_count": 13,
   "id": "120def93",
   "metadata": {},
   "outputs": [
    {
     "data": {
      "text/html": [
       "<div>\n",
       "<style scoped>\n",
       "    .dataframe tbody tr th:only-of-type {\n",
       "        vertical-align: middle;\n",
       "    }\n",
       "\n",
       "    .dataframe tbody tr th {\n",
       "        vertical-align: top;\n",
       "    }\n",
       "\n",
       "    .dataframe thead th {\n",
       "        text-align: right;\n",
       "    }\n",
       "</style>\n",
       "<table border=\"1\" class=\"dataframe\">\n",
       "  <thead>\n",
       "    <tr style=\"text-align: right;\">\n",
       "      <th></th>\n",
       "      <th>text</th>\n",
       "      <th>hashtags</th>\n",
       "    </tr>\n",
       "  </thead>\n",
       "  <tbody>\n",
       "    <tr>\n",
       "      <th>0</th>\n",
       "      <td>@ZubyMusic @LPMisesCaucus Nobody cares about N...</td>\n",
       "      <td>[]</td>\n",
       "    </tr>\n",
       "    <tr>\n",
       "      <th>1</th>\n",
       "      <td>@PoojaPraharaj @IndiainUkraine @PMOIndia @MEAI...</td>\n",
       "      <td>[]</td>\n",
       "    </tr>\n",
       "    <tr>\n",
       "      <th>2</th>\n",
       "      <td>@DocumentWomen Nike Okundaye. Also knowns Nike...</td>\n",
       "      <td>[#womengiant, #Documentwomen]</td>\n",
       "    </tr>\n",
       "    <tr>\n",
       "      <th>3</th>\n",
       "      <td>Day 4 of #maxmadness #AirMaxMonth \\nNike Air M...</td>\n",
       "      <td>[#maxmadness, #AirMaxMonth, #airmaxgang, #kotd...</td>\n",
       "    </tr>\n",
       "    <tr>\n",
       "      <th>4</th>\n",
       "      <td>@MagMr44 @soleguru @nikestore @Nike @SneakerAd...</td>\n",
       "      <td>[]</td>\n",
       "    </tr>\n",
       "  </tbody>\n",
       "</table>\n",
       "</div>"
      ],
      "text/plain": [
       "                                                text  \\\n",
       "0  @ZubyMusic @LPMisesCaucus Nobody cares about N...   \n",
       "1  @PoojaPraharaj @IndiainUkraine @PMOIndia @MEAI...   \n",
       "2  @DocumentWomen Nike Okundaye. Also knowns Nike...   \n",
       "3  Day 4 of #maxmadness #AirMaxMonth \\nNike Air M...   \n",
       "4  @MagMr44 @soleguru @nikestore @Nike @SneakerAd...   \n",
       "\n",
       "                                            hashtags  \n",
       "0                                                 []  \n",
       "1                                                 []  \n",
       "2                      [#womengiant, #Documentwomen]  \n",
       "3  [#maxmadness, #AirMaxMonth, #airmaxgang, #kotd...  \n",
       "4                                                 []  "
      ]
     },
     "execution_count": 13,
     "metadata": {},
     "output_type": "execute_result"
    }
   ],
   "source": [
    "nike_tw.head()"
   ]
  },
  {
   "cell_type": "code",
   "execution_count": 14,
   "id": "f243cbe3",
   "metadata": {},
   "outputs": [],
   "source": [
    "nike_tw['text'] = nike_tw.text.apply(basic_cleaning)"
   ]
  },
  {
   "cell_type": "code",
   "execution_count": 15,
   "id": "4df068ff",
   "metadata": {},
   "outputs": [
    {
     "data": {
      "text/html": [
       "<div>\n",
       "<style scoped>\n",
       "    .dataframe tbody tr th:only-of-type {\n",
       "        vertical-align: middle;\n",
       "    }\n",
       "\n",
       "    .dataframe tbody tr th {\n",
       "        vertical-align: top;\n",
       "    }\n",
       "\n",
       "    .dataframe thead th {\n",
       "        text-align: right;\n",
       "    }\n",
       "</style>\n",
       "<table border=\"1\" class=\"dataframe\">\n",
       "  <thead>\n",
       "    <tr style=\"text-align: right;\">\n",
       "      <th></th>\n",
       "      <th>text</th>\n",
       "      <th>hashtags</th>\n",
       "    </tr>\n",
       "  </thead>\n",
       "  <tbody>\n",
       "    <tr>\n",
       "      <th>0</th>\n",
       "      <td>nobody cares about nike in russia russia is al...</td>\n",
       "      <td>[]</td>\n",
       "    </tr>\n",
       "    <tr>\n",
       "      <th>1</th>\n",
       "      <td>ye green nike hoodie waala two weeks pehle put...</td>\n",
       "      <td>[]</td>\n",
       "    </tr>\n",
       "    <tr>\n",
       "      <th>2</th>\n",
       "      <td>nike okundaye also knowns nike twins seven sev...</td>\n",
       "      <td>[#womengiant, #Documentwomen]</td>\n",
       "    </tr>\n",
       "    <tr>\n",
       "      <th>3</th>\n",
       "      <td>day four of maxmadness air max month nike air ...</td>\n",
       "      <td>[#maxmadness, #AirMaxMonth, #airmaxgang, #kotd...</td>\n",
       "    </tr>\n",
       "    <tr>\n",
       "      <th>4</th>\n",
       "      <td>thank you sir</td>\n",
       "      <td>[]</td>\n",
       "    </tr>\n",
       "  </tbody>\n",
       "</table>\n",
       "</div>"
      ],
      "text/plain": [
       "                                                text  \\\n",
       "0  nobody cares about nike in russia russia is al...   \n",
       "1  ye green nike hoodie waala two weeks pehle put...   \n",
       "2  nike okundaye also knowns nike twins seven sev...   \n",
       "3  day four of maxmadness air max month nike air ...   \n",
       "4                                      thank you sir   \n",
       "\n",
       "                                            hashtags  \n",
       "0                                                 []  \n",
       "1                                                 []  \n",
       "2                      [#womengiant, #Documentwomen]  \n",
       "3  [#maxmadness, #AirMaxMonth, #airmaxgang, #kotd...  \n",
       "4                                                 []  "
      ]
     },
     "execution_count": 15,
     "metadata": {},
     "output_type": "execute_result"
    }
   ],
   "source": [
    "nike_tw.head()"
   ]
  },
  {
   "cell_type": "markdown",
   "id": "14c0168a",
   "metadata": {},
   "source": [
    "### Subsets."
   ]
  },
  {
   "cell_type": "markdown",
   "id": "d8c21bf5",
   "metadata": {},
   "source": [
    "En esta primera versión de la herramienta construiremos el mapa de posicionamiento en base a dos atributos de marca (variables): calidad y precio. Estos son los dos atributos básicos más utilizados de manera general en los mapas de posicionamiento (los mapas más sofisticados introducen ya otros atributos más específicos).\n",
    "\n",
    "Para poder completar el proceso de mapeo, lo primero que debemos hacer es dividir los datos (tweets recopilados) en dos subsets: los que hacen referencia al precio y los que hacen referencia a la calidad. Una vez subdivididos, ya podremos introducir los datos en el modelo NLP para evaluar el sentimiento en cada subset.\n",
    "\n",
    "La subdivisión nos permite diferenciar el sentimiento de los tweets que hablan del precio, del sentimiento en torno a la calidad general de la marca en cuestión. Esto es lo que haremos en esta etapa del proceso, en este caso sobre los tweets que mencionan a Nike."
   ]
  },
  {
   "cell_type": "markdown",
   "id": "a1f35928",
   "metadata": {},
   "source": [
    "1. Generamos una nueva columna que recoge la temática del tweet (atributo al que hace refencia)."
   ]
  },
  {
   "cell_type": "code",
   "execution_count": 16,
   "id": "356adbc1",
   "metadata": {
    "scrolled": true
   },
   "outputs": [],
   "source": [
    "nike_tw['brand_attribute'] = nike_tw['text'].apply(data_groups)"
   ]
  },
  {
   "cell_type": "code",
   "execution_count": 17,
   "id": "e0fec296",
   "metadata": {
    "scrolled": false
   },
   "outputs": [
    {
     "data": {
      "text/html": [
       "<div>\n",
       "<style scoped>\n",
       "    .dataframe tbody tr th:only-of-type {\n",
       "        vertical-align: middle;\n",
       "    }\n",
       "\n",
       "    .dataframe tbody tr th {\n",
       "        vertical-align: top;\n",
       "    }\n",
       "\n",
       "    .dataframe thead th {\n",
       "        text-align: right;\n",
       "    }\n",
       "</style>\n",
       "<table border=\"1\" class=\"dataframe\">\n",
       "  <thead>\n",
       "    <tr style=\"text-align: right;\">\n",
       "      <th></th>\n",
       "      <th>text</th>\n",
       "      <th>hashtags</th>\n",
       "      <th>brand_attribute</th>\n",
       "    </tr>\n",
       "  </thead>\n",
       "  <tbody>\n",
       "    <tr>\n",
       "      <th>0</th>\n",
       "      <td>nobody cares about nike in russia russia is al...</td>\n",
       "      <td>[]</td>\n",
       "      <td>quality</td>\n",
       "    </tr>\n",
       "    <tr>\n",
       "      <th>1</th>\n",
       "      <td>ye green nike hoodie waala two weeks pehle put...</td>\n",
       "      <td>[]</td>\n",
       "      <td>quality</td>\n",
       "    </tr>\n",
       "    <tr>\n",
       "      <th>2</th>\n",
       "      <td>nike okundaye also knowns nike twins seven sev...</td>\n",
       "      <td>[#womengiant, #Documentwomen]</td>\n",
       "      <td>quality</td>\n",
       "    </tr>\n",
       "    <tr>\n",
       "      <th>3</th>\n",
       "      <td>day four of maxmadness air max month nike air ...</td>\n",
       "      <td>[#maxmadness, #AirMaxMonth, #airmaxgang, #kotd...</td>\n",
       "      <td>quality</td>\n",
       "    </tr>\n",
       "    <tr>\n",
       "      <th>4</th>\n",
       "      <td>thank you sir</td>\n",
       "      <td>[]</td>\n",
       "      <td>quality</td>\n",
       "    </tr>\n",
       "  </tbody>\n",
       "</table>\n",
       "</div>"
      ],
      "text/plain": [
       "                                                text  \\\n",
       "0  nobody cares about nike in russia russia is al...   \n",
       "1  ye green nike hoodie waala two weeks pehle put...   \n",
       "2  nike okundaye also knowns nike twins seven sev...   \n",
       "3  day four of maxmadness air max month nike air ...   \n",
       "4                                      thank you sir   \n",
       "\n",
       "                                            hashtags brand_attribute  \n",
       "0                                                 []         quality  \n",
       "1                                                 []         quality  \n",
       "2                      [#womengiant, #Documentwomen]         quality  \n",
       "3  [#maxmadness, #AirMaxMonth, #airmaxgang, #kotd...         quality  \n",
       "4                                                 []         quality  "
      ]
     },
     "execution_count": 17,
     "metadata": {},
     "output_type": "execute_result"
    }
   ],
   "source": [
    "nike_tw.head()"
   ]
  },
  {
   "cell_type": "code",
   "execution_count": 18,
   "id": "e55a7d15",
   "metadata": {},
   "outputs": [
    {
     "data": {
      "text/plain": [
       "quality    23892\n",
       "price       5384\n",
       "Name: brand_attribute, dtype: int64"
      ]
     },
     "execution_count": 18,
     "metadata": {},
     "output_type": "execute_result"
    }
   ],
   "source": [
    "nike_tw.brand_attribute.value_counts()"
   ]
  },
  {
   "cell_type": "markdown",
   "id": "07b548e6",
   "metadata": {},
   "source": [
    "2. Exportamos los subsets de Nike (uno de calidad y otro de precio).\n",
    "\n",
    "    2.1. Precio:"
   ]
  },
  {
   "cell_type": "code",
   "execution_count": 19,
   "id": "d3c9f63d",
   "metadata": {},
   "outputs": [],
   "source": [
    "nike_price = pd.DataFrame(nike_tw.where(nike_tw.brand_attribute=='price').dropna().drop('brand_attribute',axis=1))"
   ]
  },
  {
   "cell_type": "code",
   "execution_count": 20,
   "id": "ea74e225",
   "metadata": {},
   "outputs": [
    {
     "data": {
      "text/plain": [
       "text        0\n",
       "hashtags    0\n",
       "dtype: int64"
      ]
     },
     "execution_count": 20,
     "metadata": {},
     "output_type": "execute_result"
    }
   ],
   "source": [
    "nike_price.isnull().sum()"
   ]
  },
  {
   "cell_type": "code",
   "execution_count": 21,
   "id": "e06d8f1e",
   "metadata": {},
   "outputs": [
    {
     "data": {
      "text/plain": [
       "(5384, 2)"
      ]
     },
     "execution_count": 21,
     "metadata": {},
     "output_type": "execute_result"
    }
   ],
   "source": [
    "nike_price.shape"
   ]
  },
  {
   "cell_type": "code",
   "execution_count": 22,
   "id": "1d67572c",
   "metadata": {},
   "outputs": [],
   "source": [
    "# Exportamos el subset de precio.\n",
    "\n",
    "nike_price.to_csv('data/nike_price.csv', index = False)"
   ]
  },
  {
   "cell_type": "markdown",
   "id": "d8a40b9d",
   "metadata": {},
   "source": [
    "    2.2. Calidad:"
   ]
  },
  {
   "cell_type": "code",
   "execution_count": 23,
   "id": "53c8666e",
   "metadata": {},
   "outputs": [],
   "source": [
    "nike_quality = pd.DataFrame(nike_tw.where(nike_tw.brand_attribute=='quality').dropna().drop('brand_attribute',axis=1))"
   ]
  },
  {
   "cell_type": "code",
   "execution_count": 24,
   "id": "6f72f210",
   "metadata": {},
   "outputs": [
    {
     "data": {
      "text/plain": [
       "text        0\n",
       "hashtags    0\n",
       "dtype: int64"
      ]
     },
     "execution_count": 24,
     "metadata": {},
     "output_type": "execute_result"
    }
   ],
   "source": [
    "nike_quality.isnull().sum()"
   ]
  },
  {
   "cell_type": "code",
   "execution_count": 25,
   "id": "802d9663",
   "metadata": {},
   "outputs": [
    {
     "data": {
      "text/plain": [
       "(23892, 2)"
      ]
     },
     "execution_count": 25,
     "metadata": {},
     "output_type": "execute_result"
    }
   ],
   "source": [
    "nike_quality.shape"
   ]
  },
  {
   "cell_type": "code",
   "execution_count": 26,
   "id": "f7328bf4",
   "metadata": {},
   "outputs": [],
   "source": [
    "# Exportamos el subset de calidad.\n",
    "\n",
    "nike_quality.to_csv('data/nike_quality.csv', index = False)"
   ]
  },
  {
   "cell_type": "markdown",
   "id": "47ae2c1e",
   "metadata": {},
   "source": [
    "**Nota importante:**\n",
    "\n",
    "Aunque hemos exportado cada subset en archivos csv independientes (lo tenemos guardado de manera desagregada), en realidad trabajaremos con un único DataFrame que contenga todos los tweets analizados (los de todas las marcas y todos los atributos). En este DataFrame recogeremos en una columna la marca a la que hacen referencia y en otra columna el atributo al que se refieren (calidad y precio). Esto lo hacemos así porque nos permitirá agilizar mucho los procesos de visualización de resultados y obtener gráficos de mejor calidad (podremos filtrar en función de la marca y el atributo, al tiempo que manejamos un único DataFrame para mayor eficiencia)."
   ]
  },
  {
   "cell_type": "markdown",
   "id": "f655eed5",
   "metadata": {},
   "source": [
    "## Adidas data."
   ]
  },
  {
   "cell_type": "code",
   "execution_count": 27,
   "id": "23b82142",
   "metadata": {},
   "outputs": [],
   "source": [
    "adidas = pd.read_csv('data/adidas.csv')"
   ]
  },
  {
   "cell_type": "code",
   "execution_count": 28,
   "id": "5589f936",
   "metadata": {},
   "outputs": [],
   "source": [
    "adidas_tw = pd.DataFrame(adidas.text)"
   ]
  },
  {
   "cell_type": "markdown",
   "id": "b1fe7dc7",
   "metadata": {},
   "source": [
    "### Exploración inicial de los datos:"
   ]
  },
  {
   "cell_type": "code",
   "execution_count": 29,
   "id": "6b296dae",
   "metadata": {},
   "outputs": [
    {
     "data": {
      "text/plain": [
       "(29816, 1)"
      ]
     },
     "execution_count": 29,
     "metadata": {},
     "output_type": "execute_result"
    }
   ],
   "source": [
    "adidas_tw.shape"
   ]
  },
  {
   "cell_type": "code",
   "execution_count": 30,
   "id": "097e26ee",
   "metadata": {},
   "outputs": [
    {
     "name": "stdout",
     "output_type": "stream",
     "text": [
      "<class 'pandas.core.frame.DataFrame'>\n",
      "RangeIndex: 29816 entries, 0 to 29815\n",
      "Data columns (total 1 columns):\n",
      " #   Column  Non-Null Count  Dtype \n",
      "---  ------  --------------  ----- \n",
      " 0   text    29816 non-null  object\n",
      "dtypes: object(1)\n",
      "memory usage: 233.1+ KB\n"
     ]
    }
   ],
   "source": [
    "adidas_tw.info()"
   ]
  },
  {
   "cell_type": "code",
   "execution_count": 31,
   "id": "6798b915",
   "metadata": {},
   "outputs": [
    {
     "data": {
      "text/html": [
       "<div>\n",
       "<style scoped>\n",
       "    .dataframe tbody tr th:only-of-type {\n",
       "        vertical-align: middle;\n",
       "    }\n",
       "\n",
       "    .dataframe tbody tr th {\n",
       "        vertical-align: top;\n",
       "    }\n",
       "\n",
       "    .dataframe thead th {\n",
       "        text-align: right;\n",
       "    }\n",
       "</style>\n",
       "<table border=\"1\" class=\"dataframe\">\n",
       "  <thead>\n",
       "    <tr style=\"text-align: right;\">\n",
       "      <th></th>\n",
       "      <th>text</th>\n",
       "    </tr>\n",
       "  </thead>\n",
       "  <tbody>\n",
       "    <tr>\n",
       "      <th>count</th>\n",
       "      <td>29816</td>\n",
       "    </tr>\n",
       "    <tr>\n",
       "      <th>unique</th>\n",
       "      <td>29280</td>\n",
       "    </tr>\n",
       "    <tr>\n",
       "      <th>top</th>\n",
       "      <td>@whatudohazz nike</td>\n",
       "    </tr>\n",
       "    <tr>\n",
       "      <th>freq</th>\n",
       "      <td>60</td>\n",
       "    </tr>\n",
       "  </tbody>\n",
       "</table>\n",
       "</div>"
      ],
      "text/plain": [
       "                     text\n",
       "count               29816\n",
       "unique              29280\n",
       "top     @whatudohazz nike\n",
       "freq                   60"
      ]
     },
     "execution_count": 31,
     "metadata": {},
     "output_type": "execute_result"
    }
   ],
   "source": [
    "adidas_tw.describe()"
   ]
  },
  {
   "cell_type": "code",
   "execution_count": 32,
   "id": "f75b7940",
   "metadata": {},
   "outputs": [
    {
     "data": {
      "text/plain": [
       "text    0\n",
       "dtype: int64"
      ]
     },
     "execution_count": 32,
     "metadata": {},
     "output_type": "execute_result"
    }
   ],
   "source": [
    "adidas_tw.isnull().sum()  # No existen nulos."
   ]
  },
  {
   "cell_type": "code",
   "execution_count": 33,
   "id": "ee01be39",
   "metadata": {},
   "outputs": [
    {
     "data": {
      "text/plain": [
       "536"
      ]
     },
     "execution_count": 33,
     "metadata": {},
     "output_type": "execute_result"
    }
   ],
   "source": [
    "adidas_tw.duplicated().sum() # Encontramos 536 valores duplicados."
   ]
  },
  {
   "cell_type": "code",
   "execution_count": 34,
   "id": "2e45fd92",
   "metadata": {},
   "outputs": [],
   "source": [
    "drop_duplicates(adidas_tw) # Eliminamos los valores duplicados."
   ]
  },
  {
   "cell_type": "code",
   "execution_count": 35,
   "id": "ba98fbdd",
   "metadata": {},
   "outputs": [
    {
     "data": {
      "text/plain": [
       "(29280, 1)"
      ]
     },
     "execution_count": 35,
     "metadata": {},
     "output_type": "execute_result"
    }
   ],
   "source": [
    "adidas_tw.shape"
   ]
  },
  {
   "cell_type": "markdown",
   "id": "6dab10f4",
   "metadata": {},
   "source": [
    "### Hashtags."
   ]
  },
  {
   "cell_type": "markdown",
   "id": "8b6a8d0c",
   "metadata": {},
   "source": [
    "Queremos extraer los hastags de los tweets y almacenarlos en una nueva columna del DataFrame. Esto nos permitirá llevar a cabo un análisis específico de los hashtags una vez hecho el análisis del sentimiento de los tweets, relacionando el sentimiento con los hashtags utilizados en el tweet."
   ]
  },
  {
   "cell_type": "code",
   "execution_count": 36,
   "id": "d8d51d50",
   "metadata": {},
   "outputs": [],
   "source": [
    "adidas_tw['hashtags'] = adidas_tw.text.apply(extract_hashtags)"
   ]
  },
  {
   "cell_type": "code",
   "execution_count": 37,
   "id": "9200a748",
   "metadata": {
    "scrolled": true
   },
   "outputs": [
    {
     "data": {
      "text/html": [
       "<div>\n",
       "<style scoped>\n",
       "    .dataframe tbody tr th:only-of-type {\n",
       "        vertical-align: middle;\n",
       "    }\n",
       "\n",
       "    .dataframe tbody tr th {\n",
       "        vertical-align: top;\n",
       "    }\n",
       "\n",
       "    .dataframe thead th {\n",
       "        text-align: right;\n",
       "    }\n",
       "</style>\n",
       "<table border=\"1\" class=\"dataframe\">\n",
       "  <thead>\n",
       "    <tr style=\"text-align: right;\">\n",
       "      <th></th>\n",
       "      <th>text</th>\n",
       "      <th>hashtags</th>\n",
       "    </tr>\n",
       "  </thead>\n",
       "  <tbody>\n",
       "    <tr>\n",
       "      <th>0</th>\n",
       "      <td>@Coop8517 Because my lad is a div he won't wea...</td>\n",
       "      <td>[]</td>\n",
       "    </tr>\n",
       "    <tr>\n",
       "      <th>1</th>\n",
       "      <td>@shirtsinthshire beside wrong nameset, its lik...</td>\n",
       "      <td>[]</td>\n",
       "    </tr>\n",
       "    <tr>\n",
       "      <th>2</th>\n",
       "      <td>@ChefLerrie @Jakjakph1 Yes dude sa Adidas webs...</td>\n",
       "      <td>[]</td>\n",
       "    </tr>\n",
       "    <tr>\n",
       "      <th>3</th>\n",
       "      <td>Footlocker is solely focusing on only selling ...</td>\n",
       "      <td>[]</td>\n",
       "    </tr>\n",
       "    <tr>\n",
       "      <th>4</th>\n",
       "      <td>adidas Yeezy Boost 350 Pirate Black V1 (Infant...</td>\n",
       "      <td>[]</td>\n",
       "    </tr>\n",
       "  </tbody>\n",
       "</table>\n",
       "</div>"
      ],
      "text/plain": [
       "                                                text hashtags\n",
       "0  @Coop8517 Because my lad is a div he won't wea...       []\n",
       "1  @shirtsinthshire beside wrong nameset, its lik...       []\n",
       "2  @ChefLerrie @Jakjakph1 Yes dude sa Adidas webs...       []\n",
       "3  Footlocker is solely focusing on only selling ...       []\n",
       "4  adidas Yeezy Boost 350 Pirate Black V1 (Infant...       []"
      ]
     },
     "execution_count": 37,
     "metadata": {},
     "output_type": "execute_result"
    }
   ],
   "source": [
    "adidas_tw.head()"
   ]
  },
  {
   "cell_type": "markdown",
   "id": "11edc94e",
   "metadata": {},
   "source": [
    "### Preparing Data."
   ]
  },
  {
   "cell_type": "markdown",
   "id": "71a17be1",
   "metadata": {},
   "source": [
    "**Limpieza básica:**\n",
    "- Pasamos todo a minúsculas.\n",
    "- Eliminamos usuarios ('@ + user' ya que en principio el nombre de los usuarios no aporta información relevante para el modelo).\n",
    "- Eliminamos urls.\n",
    "- Convertimos dígitos a números escritos.\n",
    "- Convertimos $ en 'dollars' y € en 'euros.\n",
    "- Eliminamos valores no alfabéticos: # (aunque manteniendo el texto que viene después ya que puede contener información relevante), signos de puntuación...\n",
    "\n",
    "Esta limpieza se ejecutará a través de nuestra función `basic_cleaning()`."
   ]
  },
  {
   "cell_type": "code",
   "execution_count": 38,
   "id": "0afc5f10",
   "metadata": {},
   "outputs": [
    {
     "data": {
      "text/html": [
       "<div>\n",
       "<style scoped>\n",
       "    .dataframe tbody tr th:only-of-type {\n",
       "        vertical-align: middle;\n",
       "    }\n",
       "\n",
       "    .dataframe tbody tr th {\n",
       "        vertical-align: top;\n",
       "    }\n",
       "\n",
       "    .dataframe thead th {\n",
       "        text-align: right;\n",
       "    }\n",
       "</style>\n",
       "<table border=\"1\" class=\"dataframe\">\n",
       "  <thead>\n",
       "    <tr style=\"text-align: right;\">\n",
       "      <th></th>\n",
       "      <th>text</th>\n",
       "      <th>hashtags</th>\n",
       "    </tr>\n",
       "  </thead>\n",
       "  <tbody>\n",
       "    <tr>\n",
       "      <th>0</th>\n",
       "      <td>@Coop8517 Because my lad is a div he won't wea...</td>\n",
       "      <td>[]</td>\n",
       "    </tr>\n",
       "    <tr>\n",
       "      <th>1</th>\n",
       "      <td>@shirtsinthshire beside wrong nameset, its lik...</td>\n",
       "      <td>[]</td>\n",
       "    </tr>\n",
       "    <tr>\n",
       "      <th>2</th>\n",
       "      <td>@ChefLerrie @Jakjakph1 Yes dude sa Adidas webs...</td>\n",
       "      <td>[]</td>\n",
       "    </tr>\n",
       "    <tr>\n",
       "      <th>3</th>\n",
       "      <td>Footlocker is solely focusing on only selling ...</td>\n",
       "      <td>[]</td>\n",
       "    </tr>\n",
       "    <tr>\n",
       "      <th>4</th>\n",
       "      <td>adidas Yeezy Boost 350 Pirate Black V1 (Infant...</td>\n",
       "      <td>[]</td>\n",
       "    </tr>\n",
       "  </tbody>\n",
       "</table>\n",
       "</div>"
      ],
      "text/plain": [
       "                                                text hashtags\n",
       "0  @Coop8517 Because my lad is a div he won't wea...       []\n",
       "1  @shirtsinthshire beside wrong nameset, its lik...       []\n",
       "2  @ChefLerrie @Jakjakph1 Yes dude sa Adidas webs...       []\n",
       "3  Footlocker is solely focusing on only selling ...       []\n",
       "4  adidas Yeezy Boost 350 Pirate Black V1 (Infant...       []"
      ]
     },
     "execution_count": 38,
     "metadata": {},
     "output_type": "execute_result"
    }
   ],
   "source": [
    "adidas_tw.head()"
   ]
  },
  {
   "cell_type": "code",
   "execution_count": 39,
   "id": "8b159d45",
   "metadata": {},
   "outputs": [],
   "source": [
    "adidas_tw['text'] = adidas_tw.text.apply(basic_cleaning)"
   ]
  },
  {
   "cell_type": "code",
   "execution_count": 40,
   "id": "696517ab",
   "metadata": {
    "scrolled": true
   },
   "outputs": [
    {
     "data": {
      "text/html": [
       "<div>\n",
       "<style scoped>\n",
       "    .dataframe tbody tr th:only-of-type {\n",
       "        vertical-align: middle;\n",
       "    }\n",
       "\n",
       "    .dataframe tbody tr th {\n",
       "        vertical-align: top;\n",
       "    }\n",
       "\n",
       "    .dataframe thead th {\n",
       "        text-align: right;\n",
       "    }\n",
       "</style>\n",
       "<table border=\"1\" class=\"dataframe\">\n",
       "  <thead>\n",
       "    <tr style=\"text-align: right;\">\n",
       "      <th></th>\n",
       "      <th>text</th>\n",
       "      <th>hashtags</th>\n",
       "    </tr>\n",
       "  </thead>\n",
       "  <tbody>\n",
       "    <tr>\n",
       "      <th>0</th>\n",
       "      <td>because my lad is a div he won t wear adidas o...</td>\n",
       "      <td>[]</td>\n",
       "    </tr>\n",
       "    <tr>\n",
       "      <th>1</th>\n",
       "      <td>beside wrong nameset its like fake shirts spac...</td>\n",
       "      <td>[]</td>\n",
       "    </tr>\n",
       "    <tr>\n",
       "      <th>2</th>\n",
       "      <td>yes dude sa adidas website mismo yang link sa ...</td>\n",
       "      <td>[]</td>\n",
       "    </tr>\n",
       "    <tr>\n",
       "      <th>3</th>\n",
       "      <td>footlocker is solely focusing on only selling ...</td>\n",
       "      <td>[]</td>\n",
       "    </tr>\n",
       "    <tr>\n",
       "      <th>4</th>\n",
       "      <td>adidas yeezy boost three five zero pirate blac...</td>\n",
       "      <td>[]</td>\n",
       "    </tr>\n",
       "  </tbody>\n",
       "</table>\n",
       "</div>"
      ],
      "text/plain": [
       "                                                text hashtags\n",
       "0  because my lad is a div he won t wear adidas o...       []\n",
       "1  beside wrong nameset its like fake shirts spac...       []\n",
       "2  yes dude sa adidas website mismo yang link sa ...       []\n",
       "3  footlocker is solely focusing on only selling ...       []\n",
       "4  adidas yeezy boost three five zero pirate blac...       []"
      ]
     },
     "execution_count": 40,
     "metadata": {},
     "output_type": "execute_result"
    }
   ],
   "source": [
    "adidas_tw.head()"
   ]
  },
  {
   "cell_type": "markdown",
   "id": "1ee0ae00",
   "metadata": {},
   "source": [
    "### Subsets."
   ]
  },
  {
   "cell_type": "markdown",
   "id": "d87bd429",
   "metadata": {},
   "source": [
    "En esta primera versión de la herramienta construiremos el mapa de posicionamiento en base a dos atributos de marca (variables): calidad y precio. Estos son los dos atributos básicos más utilizados de manera general en los mapas de posicionamiento (los mapas más sofisticados introducen ya otros atributos más específicos).\n",
    "\n",
    "Para poder completar el proceso de mapeo, lo primero que debemos hacer es dividir los datos (tweets recopilados) en dos subsets: los que hacen referencia al precio y los que hacen referencia a la calidad. Una vez subdivididos, ya podremos introducir los datos en el modelo NLP para evaluar el sentimiento en cada subset.\n",
    "\n",
    "La subdivisión nos permite diferenciar el sentimiento de los tweets que hablan del precio, del sentimiento en torno a la calidad general de la marca en cuestión. Ahora llevaremos a cabo este proceso sobre los tweets que mencionan a Adidas."
   ]
  },
  {
   "cell_type": "markdown",
   "id": "585aa525",
   "metadata": {},
   "source": [
    "1. Generamos una nueva columna que recoge la temática del tweet (atributo al que hace refencia)."
   ]
  },
  {
   "cell_type": "code",
   "execution_count": 41,
   "id": "f6ad4da3",
   "metadata": {
    "scrolled": true
   },
   "outputs": [],
   "source": [
    "adidas_tw['brand_attribute'] = adidas_tw['text'].apply(data_groups)"
   ]
  },
  {
   "cell_type": "code",
   "execution_count": 42,
   "id": "f7d38026",
   "metadata": {},
   "outputs": [
    {
     "data": {
      "text/html": [
       "<div>\n",
       "<style scoped>\n",
       "    .dataframe tbody tr th:only-of-type {\n",
       "        vertical-align: middle;\n",
       "    }\n",
       "\n",
       "    .dataframe tbody tr th {\n",
       "        vertical-align: top;\n",
       "    }\n",
       "\n",
       "    .dataframe thead th {\n",
       "        text-align: right;\n",
       "    }\n",
       "</style>\n",
       "<table border=\"1\" class=\"dataframe\">\n",
       "  <thead>\n",
       "    <tr style=\"text-align: right;\">\n",
       "      <th></th>\n",
       "      <th>text</th>\n",
       "      <th>hashtags</th>\n",
       "      <th>brand_attribute</th>\n",
       "    </tr>\n",
       "  </thead>\n",
       "  <tbody>\n",
       "    <tr>\n",
       "      <th>0</th>\n",
       "      <td>because my lad is a div he won t wear adidas o...</td>\n",
       "      <td>[]</td>\n",
       "      <td>quality</td>\n",
       "    </tr>\n",
       "    <tr>\n",
       "      <th>1</th>\n",
       "      <td>beside wrong nameset its like fake shirts spac...</td>\n",
       "      <td>[]</td>\n",
       "      <td>quality</td>\n",
       "    </tr>\n",
       "    <tr>\n",
       "      <th>2</th>\n",
       "      <td>yes dude sa adidas website mismo yang link sa ...</td>\n",
       "      <td>[]</td>\n",
       "      <td>quality</td>\n",
       "    </tr>\n",
       "    <tr>\n",
       "      <th>3</th>\n",
       "      <td>footlocker is solely focusing on only selling ...</td>\n",
       "      <td>[]</td>\n",
       "      <td>quality</td>\n",
       "    </tr>\n",
       "    <tr>\n",
       "      <th>4</th>\n",
       "      <td>adidas yeezy boost three five zero pirate blac...</td>\n",
       "      <td>[]</td>\n",
       "      <td>price</td>\n",
       "    </tr>\n",
       "  </tbody>\n",
       "</table>\n",
       "</div>"
      ],
      "text/plain": [
       "                                                text hashtags brand_attribute\n",
       "0  because my lad is a div he won t wear adidas o...       []         quality\n",
       "1  beside wrong nameset its like fake shirts spac...       []         quality\n",
       "2  yes dude sa adidas website mismo yang link sa ...       []         quality\n",
       "3  footlocker is solely focusing on only selling ...       []         quality\n",
       "4  adidas yeezy boost three five zero pirate blac...       []           price"
      ]
     },
     "execution_count": 42,
     "metadata": {},
     "output_type": "execute_result"
    }
   ],
   "source": [
    "adidas_tw.head()"
   ]
  },
  {
   "cell_type": "code",
   "execution_count": 43,
   "id": "928c6e25",
   "metadata": {},
   "outputs": [
    {
     "data": {
      "text/plain": [
       "quality    23892\n",
       "price       5388\n",
       "Name: brand_attribute, dtype: int64"
      ]
     },
     "execution_count": 43,
     "metadata": {},
     "output_type": "execute_result"
    }
   ],
   "source": [
    "adidas_tw.brand_attribute.value_counts()"
   ]
  },
  {
   "cell_type": "markdown",
   "id": "4c56a090",
   "metadata": {},
   "source": [
    "2. Generamos los subsets de Adidas (uno de calidad y otro de precio).\n",
    "\n",
    "    2.1. Precio:"
   ]
  },
  {
   "cell_type": "code",
   "execution_count": 44,
   "id": "04731206",
   "metadata": {},
   "outputs": [],
   "source": [
    "adidas_price = pd.DataFrame(adidas_tw.where(adidas_tw.brand_attribute=='price').dropna().drop('brand_attribute',axis=1))"
   ]
  },
  {
   "cell_type": "code",
   "execution_count": 45,
   "id": "29bdf0dd",
   "metadata": {},
   "outputs": [
    {
     "data": {
      "text/plain": [
       "text        0\n",
       "hashtags    0\n",
       "dtype: int64"
      ]
     },
     "execution_count": 45,
     "metadata": {},
     "output_type": "execute_result"
    }
   ],
   "source": [
    "adidas_price.isnull().sum()"
   ]
  },
  {
   "cell_type": "code",
   "execution_count": 46,
   "id": "da8aef09",
   "metadata": {},
   "outputs": [
    {
     "data": {
      "text/plain": [
       "(5388, 2)"
      ]
     },
     "execution_count": 46,
     "metadata": {},
     "output_type": "execute_result"
    }
   ],
   "source": [
    "adidas_price.shape"
   ]
  },
  {
   "cell_type": "code",
   "execution_count": 47,
   "id": "1e790aa1",
   "metadata": {},
   "outputs": [],
   "source": [
    "# Exportamos el subset de precio.\n",
    "\n",
    "adidas_price.to_csv('data/adidas_price.csv', index = False)"
   ]
  },
  {
   "cell_type": "markdown",
   "id": "e417f359",
   "metadata": {},
   "source": [
    "    2.2. Calidad:"
   ]
  },
  {
   "cell_type": "code",
   "execution_count": 48,
   "id": "83959355",
   "metadata": {},
   "outputs": [],
   "source": [
    "adidas_quality = pd.DataFrame(adidas_tw.where(adidas_tw.brand_attribute=='quality').dropna().drop('brand_attribute',axis=1))"
   ]
  },
  {
   "cell_type": "code",
   "execution_count": 49,
   "id": "840c48fe",
   "metadata": {},
   "outputs": [
    {
     "data": {
      "text/plain": [
       "text        0\n",
       "hashtags    0\n",
       "dtype: int64"
      ]
     },
     "execution_count": 49,
     "metadata": {},
     "output_type": "execute_result"
    }
   ],
   "source": [
    "adidas_quality.isnull().sum()"
   ]
  },
  {
   "cell_type": "code",
   "execution_count": 50,
   "id": "b650353f",
   "metadata": {},
   "outputs": [
    {
     "data": {
      "text/plain": [
       "(23892, 2)"
      ]
     },
     "execution_count": 50,
     "metadata": {},
     "output_type": "execute_result"
    }
   ],
   "source": [
    "adidas_quality.shape"
   ]
  },
  {
   "cell_type": "code",
   "execution_count": 51,
   "id": "bed13f2d",
   "metadata": {},
   "outputs": [],
   "source": [
    "# Exportamos el subset de calidad.\n",
    "\n",
    "adidas_quality.to_csv('data/adidas_quality.csv', index = False)"
   ]
  },
  {
   "cell_type": "markdown",
   "id": "08d90f77",
   "metadata": {},
   "source": [
    "**Nota importante:**\n",
    "\n",
    "Aunque hemos exportado cada subset en archivos csv independientes (lo tenemos guardado de manera desagregada), en realidad trabajaremos con un único DataFrame que contenga todos los tweets analizados (los de todas las marcas y todos los atributos). En este DataFrame recogeremos en una columna la marca a la que hacen referencia y en otra columna el atributo al que se refieren (calidad y precio). Esto lo hacemos así porque nos permitirá agilizar mucho los procesos de visualización de resultados y obtener gráficos de mejor calidad (podremos filtrar en función de la marca y el atributo, al tiempo que manejamos un único DataFrame para mayor eficiencia)."
   ]
  },
  {
   "cell_type": "markdown",
   "id": "ece2ec54",
   "metadata": {},
   "source": [
    "## Asics data."
   ]
  },
  {
   "cell_type": "code",
   "execution_count": 62,
   "id": "ebc65123",
   "metadata": {},
   "outputs": [],
   "source": [
    "asics = pd.read_csv('data/asics.csv')"
   ]
  },
  {
   "cell_type": "code",
   "execution_count": 63,
   "id": "2ee4c9f6",
   "metadata": {},
   "outputs": [],
   "source": [
    "asics_tw = pd.DataFrame(asics.text)"
   ]
  },
  {
   "cell_type": "markdown",
   "id": "2d27c10f",
   "metadata": {},
   "source": [
    "### Exploración inicial de los datos:"
   ]
  },
  {
   "cell_type": "code",
   "execution_count": 64,
   "id": "0cac6c69",
   "metadata": {},
   "outputs": [
    {
     "data": {
      "text/plain": [
       "(1999, 1)"
      ]
     },
     "execution_count": 64,
     "metadata": {},
     "output_type": "execute_result"
    }
   ],
   "source": [
    "asics_tw.shape"
   ]
  },
  {
   "cell_type": "code",
   "execution_count": 65,
   "id": "db5879f1",
   "metadata": {},
   "outputs": [
    {
     "name": "stdout",
     "output_type": "stream",
     "text": [
      "<class 'pandas.core.frame.DataFrame'>\n",
      "RangeIndex: 1999 entries, 0 to 1998\n",
      "Data columns (total 1 columns):\n",
      " #   Column  Non-Null Count  Dtype \n",
      "---  ------  --------------  ----- \n",
      " 0   text    1999 non-null   object\n",
      "dtypes: object(1)\n",
      "memory usage: 15.7+ KB\n"
     ]
    }
   ],
   "source": [
    "asics_tw.info()"
   ]
  },
  {
   "cell_type": "code",
   "execution_count": 66,
   "id": "85797f03",
   "metadata": {},
   "outputs": [
    {
     "data": {
      "text/html": [
       "<div>\n",
       "<style scoped>\n",
       "    .dataframe tbody tr th:only-of-type {\n",
       "        vertical-align: middle;\n",
       "    }\n",
       "\n",
       "    .dataframe tbody tr th {\n",
       "        vertical-align: top;\n",
       "    }\n",
       "\n",
       "    .dataframe thead th {\n",
       "        text-align: right;\n",
       "    }\n",
       "</style>\n",
       "<table border=\"1\" class=\"dataframe\">\n",
       "  <thead>\n",
       "    <tr style=\"text-align: right;\">\n",
       "      <th></th>\n",
       "      <th>text</th>\n",
       "    </tr>\n",
       "  </thead>\n",
       "  <tbody>\n",
       "    <tr>\n",
       "      <th>count</th>\n",
       "      <td>1999</td>\n",
       "    </tr>\n",
       "    <tr>\n",
       "      <th>unique</th>\n",
       "      <td>1976</td>\n",
       "    </tr>\n",
       "    <tr>\n",
       "      <th>top</th>\n",
       "      <td>💥INTEL has signed up another #Bitcoin miner fo...</td>\n",
       "    </tr>\n",
       "    <tr>\n",
       "      <th>freq</th>\n",
       "      <td>5</td>\n",
       "    </tr>\n",
       "  </tbody>\n",
       "</table>\n",
       "</div>"
      ],
      "text/plain": [
       "                                                     text\n",
       "count                                                1999\n",
       "unique                                               1976\n",
       "top     💥INTEL has signed up another #Bitcoin miner fo...\n",
       "freq                                                    5"
      ]
     },
     "execution_count": 66,
     "metadata": {},
     "output_type": "execute_result"
    }
   ],
   "source": [
    "asics_tw.describe()"
   ]
  },
  {
   "cell_type": "code",
   "execution_count": 67,
   "id": "af909729",
   "metadata": {},
   "outputs": [
    {
     "data": {
      "text/plain": [
       "text    0\n",
       "dtype: int64"
      ]
     },
     "execution_count": 67,
     "metadata": {},
     "output_type": "execute_result"
    }
   ],
   "source": [
    "asics_tw.isnull().sum()  # No existen nulos."
   ]
  },
  {
   "cell_type": "code",
   "execution_count": 68,
   "id": "7fc74357",
   "metadata": {},
   "outputs": [
    {
     "data": {
      "text/plain": [
       "23"
      ]
     },
     "execution_count": 68,
     "metadata": {},
     "output_type": "execute_result"
    }
   ],
   "source": [
    "asics_tw.duplicated().sum() # Encontramos 23 valores duplicados."
   ]
  },
  {
   "cell_type": "code",
   "execution_count": 69,
   "id": "fe029fcc",
   "metadata": {},
   "outputs": [],
   "source": [
    "drop_duplicates(asics_tw) # Eliminamos los valores duplicados."
   ]
  },
  {
   "cell_type": "code",
   "execution_count": 70,
   "id": "7d5ee109",
   "metadata": {},
   "outputs": [
    {
     "data": {
      "text/plain": [
       "(1976, 1)"
      ]
     },
     "execution_count": 70,
     "metadata": {},
     "output_type": "execute_result"
    }
   ],
   "source": [
    "asics_tw.shape"
   ]
  },
  {
   "cell_type": "markdown",
   "id": "a7e6b484",
   "metadata": {},
   "source": [
    "### Hashtags."
   ]
  },
  {
   "cell_type": "markdown",
   "id": "8b5ff70f",
   "metadata": {},
   "source": [
    "Queremos extraer los hastags de los tweets y almacenarlos en una nueva columna del DataFrame. Esto nos permitirá llevar a cabo un análisis específico de los hashtags una vez hecho el análisis del sentimiento de los tweets, relacionando el sentimiento con los hashtags utilizados en el tweet."
   ]
  },
  {
   "cell_type": "code",
   "execution_count": 71,
   "id": "055facac",
   "metadata": {},
   "outputs": [],
   "source": [
    "asics_tw['hashtags'] = asics_tw.text.apply(extract_hashtags)"
   ]
  },
  {
   "cell_type": "code",
   "execution_count": 72,
   "id": "e26a8fa7",
   "metadata": {
    "scrolled": true
   },
   "outputs": [
    {
     "data": {
      "text/html": [
       "<div>\n",
       "<style scoped>\n",
       "    .dataframe tbody tr th:only-of-type {\n",
       "        vertical-align: middle;\n",
       "    }\n",
       "\n",
       "    .dataframe tbody tr th {\n",
       "        vertical-align: top;\n",
       "    }\n",
       "\n",
       "    .dataframe thead th {\n",
       "        text-align: right;\n",
       "    }\n",
       "</style>\n",
       "<table border=\"1\" class=\"dataframe\">\n",
       "  <thead>\n",
       "    <tr style=\"text-align: right;\">\n",
       "      <th></th>\n",
       "      <th>text</th>\n",
       "      <th>hashtags</th>\n",
       "    </tr>\n",
       "  </thead>\n",
       "  <tbody>\n",
       "    <tr>\n",
       "      <th>0</th>\n",
       "      <td>@LadyLibertas76 Probably around $90 for a pair...</td>\n",
       "      <td>[]</td>\n",
       "    </tr>\n",
       "    <tr>\n",
       "      <th>1</th>\n",
       "      <td>@surferliv Hi, Thanks for your message, we're ...</td>\n",
       "      <td>[]</td>\n",
       "    </tr>\n",
       "    <tr>\n",
       "      <th>2</th>\n",
       "      <td>@knivd @aradiogurl The fun about it is that th...</td>\n",
       "      <td>[]</td>\n",
       "    </tr>\n",
       "    <tr>\n",
       "      <th>3</th>\n",
       "      <td>Check out this listing I just added to my #Pos...</td>\n",
       "      <td>[#Poshmark, #shopmycloset]</td>\n",
       "    </tr>\n",
       "    <tr>\n",
       "      <th>4</th>\n",
       "      <td>Check out this listing I just added to my #Pos...</td>\n",
       "      <td>[#Poshmark, #shopmycloset]</td>\n",
       "    </tr>\n",
       "  </tbody>\n",
       "</table>\n",
       "</div>"
      ],
      "text/plain": [
       "                                                text  \\\n",
       "0  @LadyLibertas76 Probably around $90 for a pair...   \n",
       "1  @surferliv Hi, Thanks for your message, we're ...   \n",
       "2  @knivd @aradiogurl The fun about it is that th...   \n",
       "3  Check out this listing I just added to my #Pos...   \n",
       "4  Check out this listing I just added to my #Pos...   \n",
       "\n",
       "                     hashtags  \n",
       "0                          []  \n",
       "1                          []  \n",
       "2                          []  \n",
       "3  [#Poshmark, #shopmycloset]  \n",
       "4  [#Poshmark, #shopmycloset]  "
      ]
     },
     "execution_count": 72,
     "metadata": {},
     "output_type": "execute_result"
    }
   ],
   "source": [
    "asics_tw.head()"
   ]
  },
  {
   "cell_type": "markdown",
   "id": "a5789e99",
   "metadata": {},
   "source": [
    "### Preparing Data."
   ]
  },
  {
   "cell_type": "markdown",
   "id": "e20d4762",
   "metadata": {},
   "source": [
    "**Limpieza básica:**\n",
    "- Pasamos todo a minúsculas.\n",
    "- Eliminamos usuarios ('@ + user' ya que en principio el nombre de los usuarios no aporta información relevante para el modelo).\n",
    "- Eliminamos urls.\n",
    "- Convertimos dígitos a números escritos.\n",
    "- Convertimos $ en 'dollars' y € en 'euros.\n",
    "- Eliminamos valores no alfabéticos: # (aunque manteniendo el texto que viene después ya que puede contener información relevante), signos de puntuación...\n",
    "\n",
    "Esta limpieza se ejecutará a través de nuestra función `basic_cleaning()`."
   ]
  },
  {
   "cell_type": "code",
   "execution_count": 77,
   "id": "3f8affc1",
   "metadata": {},
   "outputs": [
    {
     "data": {
      "text/html": [
       "<div>\n",
       "<style scoped>\n",
       "    .dataframe tbody tr th:only-of-type {\n",
       "        vertical-align: middle;\n",
       "    }\n",
       "\n",
       "    .dataframe tbody tr th {\n",
       "        vertical-align: top;\n",
       "    }\n",
       "\n",
       "    .dataframe thead th {\n",
       "        text-align: right;\n",
       "    }\n",
       "</style>\n",
       "<table border=\"1\" class=\"dataframe\">\n",
       "  <thead>\n",
       "    <tr style=\"text-align: right;\">\n",
       "      <th></th>\n",
       "      <th>text</th>\n",
       "      <th>hashtags</th>\n",
       "    </tr>\n",
       "  </thead>\n",
       "  <tbody>\n",
       "    <tr>\n",
       "      <th>0</th>\n",
       "      <td>@LadyLibertas76 Probably around $90 for a pair...</td>\n",
       "      <td>[]</td>\n",
       "    </tr>\n",
       "    <tr>\n",
       "      <th>1</th>\n",
       "      <td>@surferliv Hi, Thanks for your message, we're ...</td>\n",
       "      <td>[]</td>\n",
       "    </tr>\n",
       "    <tr>\n",
       "      <th>2</th>\n",
       "      <td>@knivd @aradiogurl The fun about it is that th...</td>\n",
       "      <td>[]</td>\n",
       "    </tr>\n",
       "    <tr>\n",
       "      <th>3</th>\n",
       "      <td>Check out this listing I just added to my #Pos...</td>\n",
       "      <td>[#Poshmark, #shopmycloset]</td>\n",
       "    </tr>\n",
       "    <tr>\n",
       "      <th>4</th>\n",
       "      <td>Check out this listing I just added to my #Pos...</td>\n",
       "      <td>[#Poshmark, #shopmycloset]</td>\n",
       "    </tr>\n",
       "  </tbody>\n",
       "</table>\n",
       "</div>"
      ],
      "text/plain": [
       "                                                text  \\\n",
       "0  @LadyLibertas76 Probably around $90 for a pair...   \n",
       "1  @surferliv Hi, Thanks for your message, we're ...   \n",
       "2  @knivd @aradiogurl The fun about it is that th...   \n",
       "3  Check out this listing I just added to my #Pos...   \n",
       "4  Check out this listing I just added to my #Pos...   \n",
       "\n",
       "                     hashtags  \n",
       "0                          []  \n",
       "1                          []  \n",
       "2                          []  \n",
       "3  [#Poshmark, #shopmycloset]  \n",
       "4  [#Poshmark, #shopmycloset]  "
      ]
     },
     "execution_count": 77,
     "metadata": {},
     "output_type": "execute_result"
    }
   ],
   "source": [
    "asics_tw.head()"
   ]
  },
  {
   "cell_type": "code",
   "execution_count": 82,
   "id": "93db829c",
   "metadata": {},
   "outputs": [],
   "source": [
    "asics_tw['text'] = asics_tw.text.apply(basic_cleaning)"
   ]
  },
  {
   "cell_type": "code",
   "execution_count": 83,
   "id": "055495c2",
   "metadata": {},
   "outputs": [
    {
     "data": {
      "text/html": [
       "<div>\n",
       "<style scoped>\n",
       "    .dataframe tbody tr th:only-of-type {\n",
       "        vertical-align: middle;\n",
       "    }\n",
       "\n",
       "    .dataframe tbody tr th {\n",
       "        vertical-align: top;\n",
       "    }\n",
       "\n",
       "    .dataframe thead th {\n",
       "        text-align: right;\n",
       "    }\n",
       "</style>\n",
       "<table border=\"1\" class=\"dataframe\">\n",
       "  <thead>\n",
       "    <tr style=\"text-align: right;\">\n",
       "      <th></th>\n",
       "      <th>text</th>\n",
       "      <th>hashtags</th>\n",
       "    </tr>\n",
       "  </thead>\n",
       "  <tbody>\n",
       "    <tr>\n",
       "      <th>0</th>\n",
       "      <td>probably around dollars nine zero for a pair o...</td>\n",
       "      <td>[]</td>\n",
       "    </tr>\n",
       "    <tr>\n",
       "      <th>1</th>\n",
       "      <td>hi thanks for your message we re really sorry ...</td>\n",
       "      <td>[]</td>\n",
       "    </tr>\n",
       "    <tr>\n",
       "      <th>2</th>\n",
       "      <td>the fun about it is that the two eight six mb ...</td>\n",
       "      <td>[]</td>\n",
       "    </tr>\n",
       "    <tr>\n",
       "      <th>3</th>\n",
       "      <td>check out this listing i just added to my posh...</td>\n",
       "      <td>[#Poshmark, #shopmycloset]</td>\n",
       "    </tr>\n",
       "    <tr>\n",
       "      <th>4</th>\n",
       "      <td>check out this listing i just added to my posh...</td>\n",
       "      <td>[#Poshmark, #shopmycloset]</td>\n",
       "    </tr>\n",
       "  </tbody>\n",
       "</table>\n",
       "</div>"
      ],
      "text/plain": [
       "                                                text  \\\n",
       "0  probably around dollars nine zero for a pair o...   \n",
       "1  hi thanks for your message we re really sorry ...   \n",
       "2  the fun about it is that the two eight six mb ...   \n",
       "3  check out this listing i just added to my posh...   \n",
       "4  check out this listing i just added to my posh...   \n",
       "\n",
       "                     hashtags  \n",
       "0                          []  \n",
       "1                          []  \n",
       "2                          []  \n",
       "3  [#Poshmark, #shopmycloset]  \n",
       "4  [#Poshmark, #shopmycloset]  "
      ]
     },
     "execution_count": 83,
     "metadata": {},
     "output_type": "execute_result"
    }
   ],
   "source": [
    "asics_tw.head()"
   ]
  },
  {
   "cell_type": "markdown",
   "id": "5df0db97",
   "metadata": {},
   "source": [
    "### Subsets."
   ]
  },
  {
   "cell_type": "markdown",
   "id": "b9eafd5f",
   "metadata": {},
   "source": [
    "En esta primera versión de la herramienta construiremos el mapa de posicionamiento en base a dos atributos de marca (variables): calidad y precio. Estos son los dos atributos básicos más utilizados de manera general en los mapas de posicionamiento (los mapas más sofisticados introducen ya otros atributos más específicos).\n",
    "\n",
    "Para poder completar el proceso de mapeo, lo primero que debemos hacer es dividir los datos (tweets recopilados) en dos subsets: los que hacen referencia al precio y los que hacen referencia a la calidad. Una vez subdivididos, ya podremos introducir los datos en el modelo NLP para evaluar el sentimiento en cada subset.\n",
    "\n",
    "La subdivisión nos permite diferenciar el sentimiento de los tweets que hablan del precio, del sentimiento en torno a la calidad general de la marca en cuestión. Esto es lo que haremos en esta etapa del proceso, en este caso sobre los tweets que mencionan a Nike."
   ]
  },
  {
   "cell_type": "markdown",
   "id": "11f71808",
   "metadata": {},
   "source": [
    "1. Generamos una nueva columna que recoge la temática del tweet (atributo al que hace refencia)."
   ]
  },
  {
   "cell_type": "code",
   "execution_count": 88,
   "id": "2727ca27",
   "metadata": {
    "scrolled": true
   },
   "outputs": [],
   "source": [
    "asics_tw['brand_attribute'] = asics_tw['text'].apply(data_groups)"
   ]
  },
  {
   "cell_type": "code",
   "execution_count": 89,
   "id": "ce7ef285",
   "metadata": {
    "scrolled": false
   },
   "outputs": [
    {
     "data": {
      "text/html": [
       "<div>\n",
       "<style scoped>\n",
       "    .dataframe tbody tr th:only-of-type {\n",
       "        vertical-align: middle;\n",
       "    }\n",
       "\n",
       "    .dataframe tbody tr th {\n",
       "        vertical-align: top;\n",
       "    }\n",
       "\n",
       "    .dataframe thead th {\n",
       "        text-align: right;\n",
       "    }\n",
       "</style>\n",
       "<table border=\"1\" class=\"dataframe\">\n",
       "  <thead>\n",
       "    <tr style=\"text-align: right;\">\n",
       "      <th></th>\n",
       "      <th>text</th>\n",
       "      <th>hashtags</th>\n",
       "      <th>brand_attribute</th>\n",
       "    </tr>\n",
       "  </thead>\n",
       "  <tbody>\n",
       "    <tr>\n",
       "      <th>0</th>\n",
       "      <td>probably around dollars nine zero for a pair o...</td>\n",
       "      <td>[]</td>\n",
       "      <td>price</td>\n",
       "    </tr>\n",
       "    <tr>\n",
       "      <th>1</th>\n",
       "      <td>hi thanks for your message we re really sorry ...</td>\n",
       "      <td>[]</td>\n",
       "      <td>quality</td>\n",
       "    </tr>\n",
       "    <tr>\n",
       "      <th>2</th>\n",
       "      <td>the fun about it is that the two eight six mb ...</td>\n",
       "      <td>[]</td>\n",
       "      <td>price</td>\n",
       "    </tr>\n",
       "    <tr>\n",
       "      <th>3</th>\n",
       "      <td>check out this listing i just added to my posh...</td>\n",
       "      <td>[#Poshmark, #shopmycloset]</td>\n",
       "      <td>quality</td>\n",
       "    </tr>\n",
       "    <tr>\n",
       "      <th>4</th>\n",
       "      <td>check out this listing i just added to my posh...</td>\n",
       "      <td>[#Poshmark, #shopmycloset]</td>\n",
       "      <td>quality</td>\n",
       "    </tr>\n",
       "  </tbody>\n",
       "</table>\n",
       "</div>"
      ],
      "text/plain": [
       "                                                text  \\\n",
       "0  probably around dollars nine zero for a pair o...   \n",
       "1  hi thanks for your message we re really sorry ...   \n",
       "2  the fun about it is that the two eight six mb ...   \n",
       "3  check out this listing i just added to my posh...   \n",
       "4  check out this listing i just added to my posh...   \n",
       "\n",
       "                     hashtags brand_attribute  \n",
       "0                          []           price  \n",
       "1                          []         quality  \n",
       "2                          []           price  \n",
       "3  [#Poshmark, #shopmycloset]         quality  \n",
       "4  [#Poshmark, #shopmycloset]         quality  "
      ]
     },
     "execution_count": 89,
     "metadata": {},
     "output_type": "execute_result"
    }
   ],
   "source": [
    "asics_tw.head()"
   ]
  },
  {
   "cell_type": "code",
   "execution_count": 90,
   "id": "3d829bfc",
   "metadata": {},
   "outputs": [
    {
     "data": {
      "text/plain": [
       "quality    1540\n",
       "price       436\n",
       "Name: brand_attribute, dtype: int64"
      ]
     },
     "execution_count": 90,
     "metadata": {},
     "output_type": "execute_result"
    }
   ],
   "source": [
    "asics_tw.brand_attribute.value_counts()"
   ]
  },
  {
   "cell_type": "markdown",
   "id": "1b78e681",
   "metadata": {},
   "source": [
    "2. Exportamos los subsets de Nike (uno de calidad y otro de precio).\n",
    "\n",
    "    2.1. Precio:"
   ]
  },
  {
   "cell_type": "code",
   "execution_count": 91,
   "id": "009d4b7f",
   "metadata": {},
   "outputs": [],
   "source": [
    "asics_price = pd.DataFrame(asics_tw.where(asics_tw.brand_attribute=='price').dropna().drop('brand_attribute',axis=1))"
   ]
  },
  {
   "cell_type": "code",
   "execution_count": 92,
   "id": "94bd5f6c",
   "metadata": {},
   "outputs": [
    {
     "data": {
      "text/plain": [
       "text        0\n",
       "hashtags    0\n",
       "dtype: int64"
      ]
     },
     "execution_count": 92,
     "metadata": {},
     "output_type": "execute_result"
    }
   ],
   "source": [
    "asics_price.isnull().sum()"
   ]
  },
  {
   "cell_type": "code",
   "execution_count": 93,
   "id": "011fdb82",
   "metadata": {},
   "outputs": [
    {
     "data": {
      "text/plain": [
       "(436, 2)"
      ]
     },
     "execution_count": 93,
     "metadata": {},
     "output_type": "execute_result"
    }
   ],
   "source": [
    "asics_price.shape"
   ]
  },
  {
   "cell_type": "code",
   "execution_count": 94,
   "id": "5401cbfe",
   "metadata": {},
   "outputs": [],
   "source": [
    "# Exportamos el subset de precio.\n",
    "\n",
    "asics_price.to_csv('data/asics_price.csv', index = False)"
   ]
  },
  {
   "cell_type": "markdown",
   "id": "2d07033f",
   "metadata": {},
   "source": [
    "    2.2. Calidad:"
   ]
  },
  {
   "cell_type": "code",
   "execution_count": 95,
   "id": "adc241d7",
   "metadata": {},
   "outputs": [],
   "source": [
    "asics_quality = pd.DataFrame(asics_tw.where(asics_tw.brand_attribute=='quality').dropna().drop('brand_attribute',axis=1))"
   ]
  },
  {
   "cell_type": "code",
   "execution_count": 96,
   "id": "00db0b25",
   "metadata": {},
   "outputs": [
    {
     "data": {
      "text/plain": [
       "text        0\n",
       "hashtags    0\n",
       "dtype: int64"
      ]
     },
     "execution_count": 96,
     "metadata": {},
     "output_type": "execute_result"
    }
   ],
   "source": [
    "asics_quality.isnull().sum()"
   ]
  },
  {
   "cell_type": "code",
   "execution_count": 97,
   "id": "40c9b05c",
   "metadata": {},
   "outputs": [
    {
     "data": {
      "text/plain": [
       "(1540, 2)"
      ]
     },
     "execution_count": 97,
     "metadata": {},
     "output_type": "execute_result"
    }
   ],
   "source": [
    "asics_quality.shape"
   ]
  },
  {
   "cell_type": "code",
   "execution_count": 98,
   "id": "e0e69b42",
   "metadata": {},
   "outputs": [],
   "source": [
    "# Exportamos el subset de calidad.\n",
    "\n",
    "asics_quality.to_csv('data/asics_quality.csv', index = False)"
   ]
  },
  {
   "cell_type": "markdown",
   "id": "8a3773d3",
   "metadata": {},
   "source": [
    "**Nota importante:**\n",
    "\n",
    "Aunque hemos exportado cada subset en archivos csv independientes (lo tenemos guardado de manera desagregada), en realidad trabajaremos con un único DataFrame que contenga todos los tweets analizados (los de todas las marcas y todos los atributos). En este DataFrame recogeremos en una columna la marca a la que hacen referencia y en otra columna el atributo al que se refieren (calidad y precio). Esto lo hacemos así porque nos permitirá agilizar mucho los procesos de visualización de resultados y obtener gráficos de mejor calidad (podremos filtrar en función de la marca y el atributo, al tiempo que manejamos un único DataFrame para mayor eficiencia)."
   ]
  },
  {
   "cell_type": "markdown",
   "id": "6e2780db",
   "metadata": {},
   "source": [
    "## Reebok data."
   ]
  },
  {
   "cell_type": "code",
   "execution_count": 99,
   "id": "76b2ac29",
   "metadata": {},
   "outputs": [],
   "source": [
    "reebok = pd.read_csv('data/reebok.csv')"
   ]
  },
  {
   "cell_type": "code",
   "execution_count": 100,
   "id": "69bf87ef",
   "metadata": {},
   "outputs": [],
   "source": [
    "reebok_tw = pd.DataFrame(reebok.text)"
   ]
  },
  {
   "cell_type": "markdown",
   "id": "edc192c6",
   "metadata": {},
   "source": [
    "### Exploración inicial de los datos:"
   ]
  },
  {
   "cell_type": "code",
   "execution_count": 101,
   "id": "13681f8f",
   "metadata": {},
   "outputs": [
    {
     "data": {
      "text/plain": [
       "(1996, 1)"
      ]
     },
     "execution_count": 101,
     "metadata": {},
     "output_type": "execute_result"
    }
   ],
   "source": [
    "reebok_tw.shape"
   ]
  },
  {
   "cell_type": "code",
   "execution_count": 102,
   "id": "07500f32",
   "metadata": {},
   "outputs": [
    {
     "name": "stdout",
     "output_type": "stream",
     "text": [
      "<class 'pandas.core.frame.DataFrame'>\n",
      "RangeIndex: 1996 entries, 0 to 1995\n",
      "Data columns (total 1 columns):\n",
      " #   Column  Non-Null Count  Dtype \n",
      "---  ------  --------------  ----- \n",
      " 0   text    1996 non-null   object\n",
      "dtypes: object(1)\n",
      "memory usage: 15.7+ KB\n"
     ]
    }
   ],
   "source": [
    "reebok_tw.info()"
   ]
  },
  {
   "cell_type": "code",
   "execution_count": 103,
   "id": "64e18d25",
   "metadata": {},
   "outputs": [
    {
     "data": {
      "text/html": [
       "<div>\n",
       "<style scoped>\n",
       "    .dataframe tbody tr th:only-of-type {\n",
       "        vertical-align: middle;\n",
       "    }\n",
       "\n",
       "    .dataframe tbody tr th {\n",
       "        vertical-align: top;\n",
       "    }\n",
       "\n",
       "    .dataframe thead th {\n",
       "        text-align: right;\n",
       "    }\n",
       "</style>\n",
       "<table border=\"1\" class=\"dataframe\">\n",
       "  <thead>\n",
       "    <tr style=\"text-align: right;\">\n",
       "      <th></th>\n",
       "      <th>text</th>\n",
       "    </tr>\n",
       "  </thead>\n",
       "  <tbody>\n",
       "    <tr>\n",
       "      <th>count</th>\n",
       "      <td>1996</td>\n",
       "    </tr>\n",
       "    <tr>\n",
       "      <th>unique</th>\n",
       "      <td>1953</td>\n",
       "    </tr>\n",
       "    <tr>\n",
       "      <th>top</th>\n",
       "      <td>#NowPlaying Reebok - \"Be More Than Human\" http...</td>\n",
       "    </tr>\n",
       "    <tr>\n",
       "      <th>freq</th>\n",
       "      <td>7</td>\n",
       "    </tr>\n",
       "  </tbody>\n",
       "</table>\n",
       "</div>"
      ],
      "text/plain": [
       "                                                     text\n",
       "count                                                1996\n",
       "unique                                               1953\n",
       "top     #NowPlaying Reebok - \"Be More Than Human\" http...\n",
       "freq                                                    7"
      ]
     },
     "execution_count": 103,
     "metadata": {},
     "output_type": "execute_result"
    }
   ],
   "source": [
    "reebok_tw.describe()"
   ]
  },
  {
   "cell_type": "code",
   "execution_count": 104,
   "id": "e57c6aec",
   "metadata": {},
   "outputs": [
    {
     "data": {
      "text/plain": [
       "text    0\n",
       "dtype: int64"
      ]
     },
     "execution_count": 104,
     "metadata": {},
     "output_type": "execute_result"
    }
   ],
   "source": [
    "reebok_tw.isnull().sum()  # No existen nulos."
   ]
  },
  {
   "cell_type": "code",
   "execution_count": 105,
   "id": "2ecd2b74",
   "metadata": {},
   "outputs": [
    {
     "data": {
      "text/plain": [
       "43"
      ]
     },
     "execution_count": 105,
     "metadata": {},
     "output_type": "execute_result"
    }
   ],
   "source": [
    "reebok_tw.duplicated().sum() # Encontramos 43 valores duplicados."
   ]
  },
  {
   "cell_type": "code",
   "execution_count": 106,
   "id": "3fb76f7b",
   "metadata": {},
   "outputs": [],
   "source": [
    "drop_duplicates(reebok_tw) # Eliminamos los valores duplicados."
   ]
  },
  {
   "cell_type": "code",
   "execution_count": 107,
   "id": "f164306b",
   "metadata": {},
   "outputs": [
    {
     "data": {
      "text/plain": [
       "(1953, 1)"
      ]
     },
     "execution_count": 107,
     "metadata": {},
     "output_type": "execute_result"
    }
   ],
   "source": [
    "reebok_tw.shape"
   ]
  },
  {
   "cell_type": "markdown",
   "id": "3be98fcc",
   "metadata": {},
   "source": [
    "### Hashtags."
   ]
  },
  {
   "cell_type": "markdown",
   "id": "ee3c568a",
   "metadata": {},
   "source": [
    "Queremos extraer los hastags de los tweets y almacenarlos en una nueva columna del DataFrame. Esto nos permitirá llevar a cabo un análisis específico de los hashtags una vez hecho el análisis del sentimiento de los tweets, relacionando el sentimiento con los hashtags utilizados en el tweet."
   ]
  },
  {
   "cell_type": "code",
   "execution_count": 108,
   "id": "ef074127",
   "metadata": {},
   "outputs": [],
   "source": [
    "reebok_tw['hashtags'] = reebok_tw.text.apply(extract_hashtags)"
   ]
  },
  {
   "cell_type": "code",
   "execution_count": 109,
   "id": "5b49c529",
   "metadata": {
    "scrolled": true
   },
   "outputs": [
    {
     "data": {
      "text/html": [
       "<div>\n",
       "<style scoped>\n",
       "    .dataframe tbody tr th:only-of-type {\n",
       "        vertical-align: middle;\n",
       "    }\n",
       "\n",
       "    .dataframe tbody tr th {\n",
       "        vertical-align: top;\n",
       "    }\n",
       "\n",
       "    .dataframe thead th {\n",
       "        text-align: right;\n",
       "    }\n",
       "</style>\n",
       "<table border=\"1\" class=\"dataframe\">\n",
       "  <thead>\n",
       "    <tr style=\"text-align: right;\">\n",
       "      <th></th>\n",
       "      <th>text</th>\n",
       "      <th>hashtags</th>\n",
       "    </tr>\n",
       "  </thead>\n",
       "  <tbody>\n",
       "    <tr>\n",
       "      <th>0</th>\n",
       "      <td>@sportsceneSA @Reebok My wife @prittypriss you...</td>\n",
       "      <td>[]</td>\n",
       "    </tr>\n",
       "    <tr>\n",
       "      <th>1</th>\n",
       "      <td>@Lesley_NOPE Sponsored by Reebok!</td>\n",
       "      <td>[]</td>\n",
       "    </tr>\n",
       "    <tr>\n",
       "      <th>2</th>\n",
       "      <td>@OneMarineSempFi Thank you. The one in bottom ...</td>\n",
       "      <td>[]</td>\n",
       "    </tr>\n",
       "    <tr>\n",
       "      <th>3</th>\n",
       "      <td>https://t.co/mq87iKB9DH\\nat 824 save 2474</td>\n",
       "      <td>[]</td>\n",
       "    </tr>\n",
       "    <tr>\n",
       "      <th>4</th>\n",
       "      <td>@sportsceneSA @Reebok @EnoughMoela •Thank you ...</td>\n",
       "      <td>[]</td>\n",
       "    </tr>\n",
       "  </tbody>\n",
       "</table>\n",
       "</div>"
      ],
      "text/plain": [
       "                                                text hashtags\n",
       "0  @sportsceneSA @Reebok My wife @prittypriss you...       []\n",
       "1                  @Lesley_NOPE Sponsored by Reebok!       []\n",
       "2  @OneMarineSempFi Thank you. The one in bottom ...       []\n",
       "3          https://t.co/mq87iKB9DH\\nat 824 save 2474       []\n",
       "4  @sportsceneSA @Reebok @EnoughMoela •Thank you ...       []"
      ]
     },
     "execution_count": 109,
     "metadata": {},
     "output_type": "execute_result"
    }
   ],
   "source": [
    "reebok_tw.head()"
   ]
  },
  {
   "cell_type": "markdown",
   "id": "85587c37",
   "metadata": {},
   "source": [
    "### Preparing Data."
   ]
  },
  {
   "cell_type": "markdown",
   "id": "5c609233",
   "metadata": {},
   "source": [
    "**Limpieza básica:**\n",
    "- Pasamos todo a minúsculas.\n",
    "- Eliminamos usuarios ('@ + user' ya que en principio el nombre de los usuarios no aporta información relevante para el modelo).\n",
    "- Eliminamos urls.\n",
    "- Convertimos dígitos a números escritos.\n",
    "- Convertimos $ en 'dollars' y € en 'euros.\n",
    "- Eliminamos valores no alfabéticos: # (aunque manteniendo el texto que viene después ya que puede contener información relevante), signos de puntuación...\n",
    "\n",
    "Esta limpieza se ejecutará a través de nuestra función `basic_cleaning()`."
   ]
  },
  {
   "cell_type": "code",
   "execution_count": 110,
   "id": "0975a35f",
   "metadata": {},
   "outputs": [
    {
     "data": {
      "text/html": [
       "<div>\n",
       "<style scoped>\n",
       "    .dataframe tbody tr th:only-of-type {\n",
       "        vertical-align: middle;\n",
       "    }\n",
       "\n",
       "    .dataframe tbody tr th {\n",
       "        vertical-align: top;\n",
       "    }\n",
       "\n",
       "    .dataframe thead th {\n",
       "        text-align: right;\n",
       "    }\n",
       "</style>\n",
       "<table border=\"1\" class=\"dataframe\">\n",
       "  <thead>\n",
       "    <tr style=\"text-align: right;\">\n",
       "      <th></th>\n",
       "      <th>text</th>\n",
       "      <th>hashtags</th>\n",
       "    </tr>\n",
       "  </thead>\n",
       "  <tbody>\n",
       "    <tr>\n",
       "      <th>0</th>\n",
       "      <td>@sportsceneSA @Reebok My wife @prittypriss you...</td>\n",
       "      <td>[]</td>\n",
       "    </tr>\n",
       "    <tr>\n",
       "      <th>1</th>\n",
       "      <td>@Lesley_NOPE Sponsored by Reebok!</td>\n",
       "      <td>[]</td>\n",
       "    </tr>\n",
       "    <tr>\n",
       "      <th>2</th>\n",
       "      <td>@OneMarineSempFi Thank you. The one in bottom ...</td>\n",
       "      <td>[]</td>\n",
       "    </tr>\n",
       "    <tr>\n",
       "      <th>3</th>\n",
       "      <td>https://t.co/mq87iKB9DH\\nat 824 save 2474</td>\n",
       "      <td>[]</td>\n",
       "    </tr>\n",
       "    <tr>\n",
       "      <th>4</th>\n",
       "      <td>@sportsceneSA @Reebok @EnoughMoela •Thank you ...</td>\n",
       "      <td>[]</td>\n",
       "    </tr>\n",
       "  </tbody>\n",
       "</table>\n",
       "</div>"
      ],
      "text/plain": [
       "                                                text hashtags\n",
       "0  @sportsceneSA @Reebok My wife @prittypriss you...       []\n",
       "1                  @Lesley_NOPE Sponsored by Reebok!       []\n",
       "2  @OneMarineSempFi Thank you. The one in bottom ...       []\n",
       "3          https://t.co/mq87iKB9DH\\nat 824 save 2474       []\n",
       "4  @sportsceneSA @Reebok @EnoughMoela •Thank you ...       []"
      ]
     },
     "execution_count": 110,
     "metadata": {},
     "output_type": "execute_result"
    }
   ],
   "source": [
    "reebok_tw.head()"
   ]
  },
  {
   "cell_type": "code",
   "execution_count": 111,
   "id": "6317c554",
   "metadata": {},
   "outputs": [],
   "source": [
    "reebok_tw['text'] = reebok_tw.text.apply(basic_cleaning)"
   ]
  },
  {
   "cell_type": "code",
   "execution_count": 112,
   "id": "dbe12097",
   "metadata": {},
   "outputs": [
    {
     "data": {
      "text/html": [
       "<div>\n",
       "<style scoped>\n",
       "    .dataframe tbody tr th:only-of-type {\n",
       "        vertical-align: middle;\n",
       "    }\n",
       "\n",
       "    .dataframe tbody tr th {\n",
       "        vertical-align: top;\n",
       "    }\n",
       "\n",
       "    .dataframe thead th {\n",
       "        text-align: right;\n",
       "    }\n",
       "</style>\n",
       "<table border=\"1\" class=\"dataframe\">\n",
       "  <thead>\n",
       "    <tr style=\"text-align: right;\">\n",
       "      <th></th>\n",
       "      <th>text</th>\n",
       "      <th>hashtags</th>\n",
       "    </tr>\n",
       "  </thead>\n",
       "  <tbody>\n",
       "    <tr>\n",
       "      <th>0</th>\n",
       "      <td>my wife you re strong inspirational caring ama...</td>\n",
       "      <td>[]</td>\n",
       "    </tr>\n",
       "    <tr>\n",
       "      <th>1</th>\n",
       "      <td>sponsored by reebok</td>\n",
       "      <td>[]</td>\n",
       "    </tr>\n",
       "    <tr>\n",
       "      <th>2</th>\n",
       "      <td>thank you the one in bottom middle pic was ree...</td>\n",
       "      <td>[]</td>\n",
       "    </tr>\n",
       "    <tr>\n",
       "      <th>3</th>\n",
       "      <td>at eight two four save two four seven four</td>\n",
       "      <td>[]</td>\n",
       "    </tr>\n",
       "    <tr>\n",
       "      <th>4</th>\n",
       "      <td>thank you for always supporting me you was the...</td>\n",
       "      <td>[]</td>\n",
       "    </tr>\n",
       "  </tbody>\n",
       "</table>\n",
       "</div>"
      ],
      "text/plain": [
       "                                                text hashtags\n",
       "0  my wife you re strong inspirational caring ama...       []\n",
       "1                                sponsored by reebok       []\n",
       "2  thank you the one in bottom middle pic was ree...       []\n",
       "3         at eight two four save two four seven four       []\n",
       "4  thank you for always supporting me you was the...       []"
      ]
     },
     "execution_count": 112,
     "metadata": {},
     "output_type": "execute_result"
    }
   ],
   "source": [
    "reebok_tw.head()"
   ]
  },
  {
   "cell_type": "markdown",
   "id": "a1eb47de",
   "metadata": {},
   "source": [
    "### Subsets."
   ]
  },
  {
   "cell_type": "markdown",
   "id": "04a6ce9e",
   "metadata": {},
   "source": [
    "En esta primera versión de la herramienta construiremos el mapa de posicionamiento en base a dos atributos de marca (variables): calidad y precio. Estos son los dos atributos básicos más utilizados de manera general en los mapas de posicionamiento (los mapas más sofisticados introducen ya otros atributos más específicos).\n",
    "\n",
    "Para poder completar el proceso de mapeo, lo primero que debemos hacer es dividir los datos (tweets recopilados) en dos subsets: los que hacen referencia al precio y los que hacen referencia a la calidad. Una vez subdivididos, ya podremos introducir los datos en el modelo NLP para evaluar el sentimiento en cada subset.\n",
    "\n",
    "La subdivisión nos permite diferenciar el sentimiento de los tweets que hablan del precio, del sentimiento en torno a la calidad general de la marca en cuestión. Esto es lo que haremos en esta etapa del proceso, en este caso sobre los tweets que mencionan a Nike."
   ]
  },
  {
   "cell_type": "markdown",
   "id": "0e3e3d99",
   "metadata": {},
   "source": [
    "1. Generamos una nueva columna que recoge la temática del tweet (atributo al que hace refencia)."
   ]
  },
  {
   "cell_type": "code",
   "execution_count": 113,
   "id": "42f7f21e",
   "metadata": {
    "scrolled": true
   },
   "outputs": [],
   "source": [
    "reebok_tw['brand_attribute'] = reebok_tw['text'].apply(data_groups)"
   ]
  },
  {
   "cell_type": "code",
   "execution_count": 114,
   "id": "d4888e5a",
   "metadata": {
    "scrolled": false
   },
   "outputs": [
    {
     "data": {
      "text/html": [
       "<div>\n",
       "<style scoped>\n",
       "    .dataframe tbody tr th:only-of-type {\n",
       "        vertical-align: middle;\n",
       "    }\n",
       "\n",
       "    .dataframe tbody tr th {\n",
       "        vertical-align: top;\n",
       "    }\n",
       "\n",
       "    .dataframe thead th {\n",
       "        text-align: right;\n",
       "    }\n",
       "</style>\n",
       "<table border=\"1\" class=\"dataframe\">\n",
       "  <thead>\n",
       "    <tr style=\"text-align: right;\">\n",
       "      <th></th>\n",
       "      <th>text</th>\n",
       "      <th>hashtags</th>\n",
       "      <th>brand_attribute</th>\n",
       "    </tr>\n",
       "  </thead>\n",
       "  <tbody>\n",
       "    <tr>\n",
       "      <th>0</th>\n",
       "      <td>my wife you re strong inspirational caring ama...</td>\n",
       "      <td>[]</td>\n",
       "      <td>price</td>\n",
       "    </tr>\n",
       "    <tr>\n",
       "      <th>1</th>\n",
       "      <td>sponsored by reebok</td>\n",
       "      <td>[]</td>\n",
       "      <td>quality</td>\n",
       "    </tr>\n",
       "    <tr>\n",
       "      <th>2</th>\n",
       "      <td>thank you the one in bottom middle pic was ree...</td>\n",
       "      <td>[]</td>\n",
       "      <td>price</td>\n",
       "    </tr>\n",
       "    <tr>\n",
       "      <th>3</th>\n",
       "      <td>at eight two four save two four seven four</td>\n",
       "      <td>[]</td>\n",
       "      <td>quality</td>\n",
       "    </tr>\n",
       "    <tr>\n",
       "      <th>4</th>\n",
       "      <td>thank you for always supporting me you was the...</td>\n",
       "      <td>[]</td>\n",
       "      <td>quality</td>\n",
       "    </tr>\n",
       "  </tbody>\n",
       "</table>\n",
       "</div>"
      ],
      "text/plain": [
       "                                                text hashtags brand_attribute\n",
       "0  my wife you re strong inspirational caring ama...       []           price\n",
       "1                                sponsored by reebok       []         quality\n",
       "2  thank you the one in bottom middle pic was ree...       []           price\n",
       "3         at eight two four save two four seven four       []         quality\n",
       "4  thank you for always supporting me you was the...       []         quality"
      ]
     },
     "execution_count": 114,
     "metadata": {},
     "output_type": "execute_result"
    }
   ],
   "source": [
    "reebok_tw.head()"
   ]
  },
  {
   "cell_type": "code",
   "execution_count": 115,
   "id": "efe25104",
   "metadata": {},
   "outputs": [
    {
     "data": {
      "text/plain": [
       "quality    1617\n",
       "price       336\n",
       "Name: brand_attribute, dtype: int64"
      ]
     },
     "execution_count": 115,
     "metadata": {},
     "output_type": "execute_result"
    }
   ],
   "source": [
    "reebok_tw.brand_attribute.value_counts()"
   ]
  },
  {
   "cell_type": "markdown",
   "id": "53575448",
   "metadata": {},
   "source": [
    "2. Exportamos los subsets de Nike (uno de calidad y otro de precio).\n",
    "\n",
    "    2.1. Precio:"
   ]
  },
  {
   "cell_type": "code",
   "execution_count": 116,
   "id": "8234b660",
   "metadata": {},
   "outputs": [],
   "source": [
    "reebok_price = pd.DataFrame(reebok_tw.where(reebok_tw.brand_attribute=='price').dropna().drop('brand_attribute',axis=1))"
   ]
  },
  {
   "cell_type": "code",
   "execution_count": 117,
   "id": "1bcf90cf",
   "metadata": {},
   "outputs": [
    {
     "data": {
      "text/plain": [
       "text        0\n",
       "hashtags    0\n",
       "dtype: int64"
      ]
     },
     "execution_count": 117,
     "metadata": {},
     "output_type": "execute_result"
    }
   ],
   "source": [
    "reebok_price.isnull().sum()"
   ]
  },
  {
   "cell_type": "code",
   "execution_count": 118,
   "id": "c4aaa5d5",
   "metadata": {},
   "outputs": [
    {
     "data": {
      "text/plain": [
       "(336, 2)"
      ]
     },
     "execution_count": 118,
     "metadata": {},
     "output_type": "execute_result"
    }
   ],
   "source": [
    "reebok_price.shape"
   ]
  },
  {
   "cell_type": "code",
   "execution_count": 119,
   "id": "5c07ce7f",
   "metadata": {},
   "outputs": [],
   "source": [
    "# Exportamos el subset de precio.\n",
    "\n",
    "reebok_price.to_csv('data/reebok_price.csv', index = False)"
   ]
  },
  {
   "cell_type": "markdown",
   "id": "2e6ba610",
   "metadata": {},
   "source": [
    "    2.2. Calidad:"
   ]
  },
  {
   "cell_type": "code",
   "execution_count": 120,
   "id": "ab163ab1",
   "metadata": {},
   "outputs": [],
   "source": [
    "reebok_quality = pd.DataFrame(reebok_tw.where(reebok_tw.brand_attribute=='quality').dropna().drop('brand_attribute',axis=1))"
   ]
  },
  {
   "cell_type": "code",
   "execution_count": 121,
   "id": "05569363",
   "metadata": {},
   "outputs": [
    {
     "data": {
      "text/plain": [
       "text        0\n",
       "hashtags    0\n",
       "dtype: int64"
      ]
     },
     "execution_count": 121,
     "metadata": {},
     "output_type": "execute_result"
    }
   ],
   "source": [
    "reebok_quality.isnull().sum()"
   ]
  },
  {
   "cell_type": "code",
   "execution_count": 122,
   "id": "c71d8133",
   "metadata": {},
   "outputs": [
    {
     "data": {
      "text/plain": [
       "(1617, 2)"
      ]
     },
     "execution_count": 122,
     "metadata": {},
     "output_type": "execute_result"
    }
   ],
   "source": [
    "reebok_quality.shape"
   ]
  },
  {
   "cell_type": "code",
   "execution_count": 123,
   "id": "4be7ca2b",
   "metadata": {},
   "outputs": [],
   "source": [
    "# Exportamos el subset de calidad.\n",
    "\n",
    "reebok_quality.to_csv('data/reebok_quality.csv', index = False)"
   ]
  },
  {
   "cell_type": "markdown",
   "id": "70a6e559",
   "metadata": {},
   "source": [
    "**Nota importante:**\n",
    "\n",
    "Aunque hemos exportado cada subset en archivos csv independientes (lo tenemos guardado de manera desagregada), en realidad trabajaremos con un único DataFrame que contenga todos los tweets analizados (los de todas las marcas y todos los atributos). En este DataFrame recogeremos en una columna la marca a la que hacen referencia y en otra columna el atributo al que se refieren (calidad y precio). Esto lo hacemos así porque nos permitirá agilizar mucho los procesos de visualización de resultados y obtener gráficos de mejor calidad (podremos filtrar en función de la marca y el atributo, al tiempo que manejamos un único DataFrame para mayor eficiencia)."
   ]
  },
  {
   "cell_type": "markdown",
   "id": "1d9975fd",
   "metadata": {},
   "source": [
    "## Dataset Completo."
   ]
  },
  {
   "cell_type": "markdown",
   "id": "9daf3380",
   "metadata": {},
   "source": [
    "Primero generamos una nueva columna en la que se recoja la marca a la que hace referencia el tweet (todos los valores de la columna serán 'nike' para el DataFrame de Nike, 'adidas' para el DataFrame de Adidas...)."
   ]
  },
  {
   "cell_type": "markdown",
   "id": "04ac0e53",
   "metadata": {},
   "source": [
    "#### Columna 'brand' para los datos de Nike."
   ]
  },
  {
   "cell_type": "code",
   "execution_count": 52,
   "id": "d6d86c86",
   "metadata": {},
   "outputs": [
    {
     "data": {
      "text/html": [
       "<div>\n",
       "<style scoped>\n",
       "    .dataframe tbody tr th:only-of-type {\n",
       "        vertical-align: middle;\n",
       "    }\n",
       "\n",
       "    .dataframe tbody tr th {\n",
       "        vertical-align: top;\n",
       "    }\n",
       "\n",
       "    .dataframe thead th {\n",
       "        text-align: right;\n",
       "    }\n",
       "</style>\n",
       "<table border=\"1\" class=\"dataframe\">\n",
       "  <thead>\n",
       "    <tr style=\"text-align: right;\">\n",
       "      <th></th>\n",
       "      <th>text</th>\n",
       "      <th>hashtags</th>\n",
       "      <th>brand_attribute</th>\n",
       "    </tr>\n",
       "  </thead>\n",
       "  <tbody>\n",
       "    <tr>\n",
       "      <th>0</th>\n",
       "      <td>nobody cares about nike in russia russia is al...</td>\n",
       "      <td>[]</td>\n",
       "      <td>quality</td>\n",
       "    </tr>\n",
       "    <tr>\n",
       "      <th>1</th>\n",
       "      <td>ye green nike hoodie waala two weeks pehle put...</td>\n",
       "      <td>[]</td>\n",
       "      <td>quality</td>\n",
       "    </tr>\n",
       "    <tr>\n",
       "      <th>2</th>\n",
       "      <td>nike okundaye also knowns nike twins seven sev...</td>\n",
       "      <td>[#womengiant, #Documentwomen]</td>\n",
       "      <td>quality</td>\n",
       "    </tr>\n",
       "    <tr>\n",
       "      <th>3</th>\n",
       "      <td>day four of maxmadness air max month nike air ...</td>\n",
       "      <td>[#maxmadness, #AirMaxMonth, #airmaxgang, #kotd...</td>\n",
       "      <td>quality</td>\n",
       "    </tr>\n",
       "    <tr>\n",
       "      <th>4</th>\n",
       "      <td>thank you sir</td>\n",
       "      <td>[]</td>\n",
       "      <td>quality</td>\n",
       "    </tr>\n",
       "  </tbody>\n",
       "</table>\n",
       "</div>"
      ],
      "text/plain": [
       "                                                text  \\\n",
       "0  nobody cares about nike in russia russia is al...   \n",
       "1  ye green nike hoodie waala two weeks pehle put...   \n",
       "2  nike okundaye also knowns nike twins seven sev...   \n",
       "3  day four of maxmadness air max month nike air ...   \n",
       "4                                      thank you sir   \n",
       "\n",
       "                                            hashtags brand_attribute  \n",
       "0                                                 []         quality  \n",
       "1                                                 []         quality  \n",
       "2                      [#womengiant, #Documentwomen]         quality  \n",
       "3  [#maxmadness, #AirMaxMonth, #airmaxgang, #kotd...         quality  \n",
       "4                                                 []         quality  "
      ]
     },
     "execution_count": 52,
     "metadata": {},
     "output_type": "execute_result"
    }
   ],
   "source": [
    "nike_tw.head()"
   ]
  },
  {
   "cell_type": "code",
   "execution_count": 53,
   "id": "3f007d90",
   "metadata": {},
   "outputs": [],
   "source": [
    "nike_tw = nike_tw.assign(brand='nike')"
   ]
  },
  {
   "cell_type": "code",
   "execution_count": 54,
   "id": "f33e58ff",
   "metadata": {
    "scrolled": true
   },
   "outputs": [
    {
     "data": {
      "text/html": [
       "<div>\n",
       "<style scoped>\n",
       "    .dataframe tbody tr th:only-of-type {\n",
       "        vertical-align: middle;\n",
       "    }\n",
       "\n",
       "    .dataframe tbody tr th {\n",
       "        vertical-align: top;\n",
       "    }\n",
       "\n",
       "    .dataframe thead th {\n",
       "        text-align: right;\n",
       "    }\n",
       "</style>\n",
       "<table border=\"1\" class=\"dataframe\">\n",
       "  <thead>\n",
       "    <tr style=\"text-align: right;\">\n",
       "      <th></th>\n",
       "      <th>text</th>\n",
       "      <th>hashtags</th>\n",
       "      <th>brand_attribute</th>\n",
       "      <th>brand</th>\n",
       "    </tr>\n",
       "  </thead>\n",
       "  <tbody>\n",
       "    <tr>\n",
       "      <th>0</th>\n",
       "      <td>nobody cares about nike in russia russia is al...</td>\n",
       "      <td>[]</td>\n",
       "      <td>quality</td>\n",
       "      <td>nike</td>\n",
       "    </tr>\n",
       "    <tr>\n",
       "      <th>1</th>\n",
       "      <td>ye green nike hoodie waala two weeks pehle put...</td>\n",
       "      <td>[]</td>\n",
       "      <td>quality</td>\n",
       "      <td>nike</td>\n",
       "    </tr>\n",
       "    <tr>\n",
       "      <th>2</th>\n",
       "      <td>nike okundaye also knowns nike twins seven sev...</td>\n",
       "      <td>[#womengiant, #Documentwomen]</td>\n",
       "      <td>quality</td>\n",
       "      <td>nike</td>\n",
       "    </tr>\n",
       "    <tr>\n",
       "      <th>3</th>\n",
       "      <td>day four of maxmadness air max month nike air ...</td>\n",
       "      <td>[#maxmadness, #AirMaxMonth, #airmaxgang, #kotd...</td>\n",
       "      <td>quality</td>\n",
       "      <td>nike</td>\n",
       "    </tr>\n",
       "    <tr>\n",
       "      <th>4</th>\n",
       "      <td>thank you sir</td>\n",
       "      <td>[]</td>\n",
       "      <td>quality</td>\n",
       "      <td>nike</td>\n",
       "    </tr>\n",
       "  </tbody>\n",
       "</table>\n",
       "</div>"
      ],
      "text/plain": [
       "                                                text  \\\n",
       "0  nobody cares about nike in russia russia is al...   \n",
       "1  ye green nike hoodie waala two weeks pehle put...   \n",
       "2  nike okundaye also knowns nike twins seven sev...   \n",
       "3  day four of maxmadness air max month nike air ...   \n",
       "4                                      thank you sir   \n",
       "\n",
       "                                            hashtags brand_attribute brand  \n",
       "0                                                 []         quality  nike  \n",
       "1                                                 []         quality  nike  \n",
       "2                      [#womengiant, #Documentwomen]         quality  nike  \n",
       "3  [#maxmadness, #AirMaxMonth, #airmaxgang, #kotd...         quality  nike  \n",
       "4                                                 []         quality  nike  "
      ]
     },
     "execution_count": 54,
     "metadata": {},
     "output_type": "execute_result"
    }
   ],
   "source": [
    "nike_tw.head()"
   ]
  },
  {
   "cell_type": "markdown",
   "id": "f5ca24ae",
   "metadata": {},
   "source": [
    "#### Columna 'brand' para los datos de Adidas."
   ]
  },
  {
   "cell_type": "code",
   "execution_count": 55,
   "id": "b28b4be2",
   "metadata": {},
   "outputs": [
    {
     "data": {
      "text/html": [
       "<div>\n",
       "<style scoped>\n",
       "    .dataframe tbody tr th:only-of-type {\n",
       "        vertical-align: middle;\n",
       "    }\n",
       "\n",
       "    .dataframe tbody tr th {\n",
       "        vertical-align: top;\n",
       "    }\n",
       "\n",
       "    .dataframe thead th {\n",
       "        text-align: right;\n",
       "    }\n",
       "</style>\n",
       "<table border=\"1\" class=\"dataframe\">\n",
       "  <thead>\n",
       "    <tr style=\"text-align: right;\">\n",
       "      <th></th>\n",
       "      <th>text</th>\n",
       "      <th>hashtags</th>\n",
       "      <th>brand_attribute</th>\n",
       "    </tr>\n",
       "  </thead>\n",
       "  <tbody>\n",
       "    <tr>\n",
       "      <th>0</th>\n",
       "      <td>because my lad is a div he won t wear adidas o...</td>\n",
       "      <td>[]</td>\n",
       "      <td>quality</td>\n",
       "    </tr>\n",
       "    <tr>\n",
       "      <th>1</th>\n",
       "      <td>beside wrong nameset its like fake shirts spac...</td>\n",
       "      <td>[]</td>\n",
       "      <td>quality</td>\n",
       "    </tr>\n",
       "    <tr>\n",
       "      <th>2</th>\n",
       "      <td>yes dude sa adidas website mismo yang link sa ...</td>\n",
       "      <td>[]</td>\n",
       "      <td>quality</td>\n",
       "    </tr>\n",
       "    <tr>\n",
       "      <th>3</th>\n",
       "      <td>footlocker is solely focusing on only selling ...</td>\n",
       "      <td>[]</td>\n",
       "      <td>quality</td>\n",
       "    </tr>\n",
       "    <tr>\n",
       "      <th>4</th>\n",
       "      <td>adidas yeezy boost three five zero pirate blac...</td>\n",
       "      <td>[]</td>\n",
       "      <td>price</td>\n",
       "    </tr>\n",
       "  </tbody>\n",
       "</table>\n",
       "</div>"
      ],
      "text/plain": [
       "                                                text hashtags brand_attribute\n",
       "0  because my lad is a div he won t wear adidas o...       []         quality\n",
       "1  beside wrong nameset its like fake shirts spac...       []         quality\n",
       "2  yes dude sa adidas website mismo yang link sa ...       []         quality\n",
       "3  footlocker is solely focusing on only selling ...       []         quality\n",
       "4  adidas yeezy boost three five zero pirate blac...       []           price"
      ]
     },
     "execution_count": 55,
     "metadata": {},
     "output_type": "execute_result"
    }
   ],
   "source": [
    "adidas_tw.head()"
   ]
  },
  {
   "cell_type": "code",
   "execution_count": 56,
   "id": "016b871f",
   "metadata": {},
   "outputs": [],
   "source": [
    "adidas_tw = adidas_tw.assign(brand='adidas')"
   ]
  },
  {
   "cell_type": "code",
   "execution_count": 57,
   "id": "cda1d703",
   "metadata": {
    "scrolled": false
   },
   "outputs": [
    {
     "data": {
      "text/html": [
       "<div>\n",
       "<style scoped>\n",
       "    .dataframe tbody tr th:only-of-type {\n",
       "        vertical-align: middle;\n",
       "    }\n",
       "\n",
       "    .dataframe tbody tr th {\n",
       "        vertical-align: top;\n",
       "    }\n",
       "\n",
       "    .dataframe thead th {\n",
       "        text-align: right;\n",
       "    }\n",
       "</style>\n",
       "<table border=\"1\" class=\"dataframe\">\n",
       "  <thead>\n",
       "    <tr style=\"text-align: right;\">\n",
       "      <th></th>\n",
       "      <th>text</th>\n",
       "      <th>hashtags</th>\n",
       "      <th>brand_attribute</th>\n",
       "      <th>brand</th>\n",
       "    </tr>\n",
       "  </thead>\n",
       "  <tbody>\n",
       "    <tr>\n",
       "      <th>0</th>\n",
       "      <td>because my lad is a div he won t wear adidas o...</td>\n",
       "      <td>[]</td>\n",
       "      <td>quality</td>\n",
       "      <td>adidas</td>\n",
       "    </tr>\n",
       "    <tr>\n",
       "      <th>1</th>\n",
       "      <td>beside wrong nameset its like fake shirts spac...</td>\n",
       "      <td>[]</td>\n",
       "      <td>quality</td>\n",
       "      <td>adidas</td>\n",
       "    </tr>\n",
       "    <tr>\n",
       "      <th>2</th>\n",
       "      <td>yes dude sa adidas website mismo yang link sa ...</td>\n",
       "      <td>[]</td>\n",
       "      <td>quality</td>\n",
       "      <td>adidas</td>\n",
       "    </tr>\n",
       "    <tr>\n",
       "      <th>3</th>\n",
       "      <td>footlocker is solely focusing on only selling ...</td>\n",
       "      <td>[]</td>\n",
       "      <td>quality</td>\n",
       "      <td>adidas</td>\n",
       "    </tr>\n",
       "    <tr>\n",
       "      <th>4</th>\n",
       "      <td>adidas yeezy boost three five zero pirate blac...</td>\n",
       "      <td>[]</td>\n",
       "      <td>price</td>\n",
       "      <td>adidas</td>\n",
       "    </tr>\n",
       "  </tbody>\n",
       "</table>\n",
       "</div>"
      ],
      "text/plain": [
       "                                                text hashtags brand_attribute  \\\n",
       "0  because my lad is a div he won t wear adidas o...       []         quality   \n",
       "1  beside wrong nameset its like fake shirts spac...       []         quality   \n",
       "2  yes dude sa adidas website mismo yang link sa ...       []         quality   \n",
       "3  footlocker is solely focusing on only selling ...       []         quality   \n",
       "4  adidas yeezy boost three five zero pirate blac...       []           price   \n",
       "\n",
       "    brand  \n",
       "0  adidas  \n",
       "1  adidas  \n",
       "2  adidas  \n",
       "3  adidas  \n",
       "4  adidas  "
      ]
     },
     "execution_count": 57,
     "metadata": {},
     "output_type": "execute_result"
    }
   ],
   "source": [
    "adidas_tw.head()"
   ]
  },
  {
   "cell_type": "markdown",
   "id": "c47e843a",
   "metadata": {},
   "source": [
    "#### Columna 'brand' para los datos de Asics."
   ]
  },
  {
   "cell_type": "code",
   "execution_count": 124,
   "id": "e7ffc25a",
   "metadata": {},
   "outputs": [
    {
     "data": {
      "text/html": [
       "<div>\n",
       "<style scoped>\n",
       "    .dataframe tbody tr th:only-of-type {\n",
       "        vertical-align: middle;\n",
       "    }\n",
       "\n",
       "    .dataframe tbody tr th {\n",
       "        vertical-align: top;\n",
       "    }\n",
       "\n",
       "    .dataframe thead th {\n",
       "        text-align: right;\n",
       "    }\n",
       "</style>\n",
       "<table border=\"1\" class=\"dataframe\">\n",
       "  <thead>\n",
       "    <tr style=\"text-align: right;\">\n",
       "      <th></th>\n",
       "      <th>text</th>\n",
       "      <th>hashtags</th>\n",
       "      <th>brand_attribute</th>\n",
       "    </tr>\n",
       "  </thead>\n",
       "  <tbody>\n",
       "    <tr>\n",
       "      <th>0</th>\n",
       "      <td>probably around dollars nine zero for a pair o...</td>\n",
       "      <td>[]</td>\n",
       "      <td>price</td>\n",
       "    </tr>\n",
       "    <tr>\n",
       "      <th>1</th>\n",
       "      <td>hi thanks for your message we re really sorry ...</td>\n",
       "      <td>[]</td>\n",
       "      <td>quality</td>\n",
       "    </tr>\n",
       "    <tr>\n",
       "      <th>2</th>\n",
       "      <td>the fun about it is that the two eight six mb ...</td>\n",
       "      <td>[]</td>\n",
       "      <td>price</td>\n",
       "    </tr>\n",
       "    <tr>\n",
       "      <th>3</th>\n",
       "      <td>check out this listing i just added to my posh...</td>\n",
       "      <td>[#Poshmark, #shopmycloset]</td>\n",
       "      <td>quality</td>\n",
       "    </tr>\n",
       "    <tr>\n",
       "      <th>4</th>\n",
       "      <td>check out this listing i just added to my posh...</td>\n",
       "      <td>[#Poshmark, #shopmycloset]</td>\n",
       "      <td>quality</td>\n",
       "    </tr>\n",
       "  </tbody>\n",
       "</table>\n",
       "</div>"
      ],
      "text/plain": [
       "                                                text  \\\n",
       "0  probably around dollars nine zero for a pair o...   \n",
       "1  hi thanks for your message we re really sorry ...   \n",
       "2  the fun about it is that the two eight six mb ...   \n",
       "3  check out this listing i just added to my posh...   \n",
       "4  check out this listing i just added to my posh...   \n",
       "\n",
       "                     hashtags brand_attribute  \n",
       "0                          []           price  \n",
       "1                          []         quality  \n",
       "2                          []           price  \n",
       "3  [#Poshmark, #shopmycloset]         quality  \n",
       "4  [#Poshmark, #shopmycloset]         quality  "
      ]
     },
     "execution_count": 124,
     "metadata": {},
     "output_type": "execute_result"
    }
   ],
   "source": [
    "asics_tw.head()"
   ]
  },
  {
   "cell_type": "code",
   "execution_count": 125,
   "id": "80e59b0e",
   "metadata": {},
   "outputs": [],
   "source": [
    "asics_tw = asics_tw.assign(brand='asics')"
   ]
  },
  {
   "cell_type": "code",
   "execution_count": 127,
   "id": "bcaf4de9",
   "metadata": {
    "scrolled": true
   },
   "outputs": [
    {
     "data": {
      "text/html": [
       "<div>\n",
       "<style scoped>\n",
       "    .dataframe tbody tr th:only-of-type {\n",
       "        vertical-align: middle;\n",
       "    }\n",
       "\n",
       "    .dataframe tbody tr th {\n",
       "        vertical-align: top;\n",
       "    }\n",
       "\n",
       "    .dataframe thead th {\n",
       "        text-align: right;\n",
       "    }\n",
       "</style>\n",
       "<table border=\"1\" class=\"dataframe\">\n",
       "  <thead>\n",
       "    <tr style=\"text-align: right;\">\n",
       "      <th></th>\n",
       "      <th>text</th>\n",
       "      <th>hashtags</th>\n",
       "      <th>brand_attribute</th>\n",
       "      <th>brand</th>\n",
       "    </tr>\n",
       "  </thead>\n",
       "  <tbody>\n",
       "    <tr>\n",
       "      <th>0</th>\n",
       "      <td>probably around dollars nine zero for a pair o...</td>\n",
       "      <td>[]</td>\n",
       "      <td>price</td>\n",
       "      <td>asics</td>\n",
       "    </tr>\n",
       "    <tr>\n",
       "      <th>1</th>\n",
       "      <td>hi thanks for your message we re really sorry ...</td>\n",
       "      <td>[]</td>\n",
       "      <td>quality</td>\n",
       "      <td>asics</td>\n",
       "    </tr>\n",
       "    <tr>\n",
       "      <th>2</th>\n",
       "      <td>the fun about it is that the two eight six mb ...</td>\n",
       "      <td>[]</td>\n",
       "      <td>price</td>\n",
       "      <td>asics</td>\n",
       "    </tr>\n",
       "    <tr>\n",
       "      <th>3</th>\n",
       "      <td>check out this listing i just added to my posh...</td>\n",
       "      <td>[#Poshmark, #shopmycloset]</td>\n",
       "      <td>quality</td>\n",
       "      <td>asics</td>\n",
       "    </tr>\n",
       "    <tr>\n",
       "      <th>4</th>\n",
       "      <td>check out this listing i just added to my posh...</td>\n",
       "      <td>[#Poshmark, #shopmycloset]</td>\n",
       "      <td>quality</td>\n",
       "      <td>asics</td>\n",
       "    </tr>\n",
       "  </tbody>\n",
       "</table>\n",
       "</div>"
      ],
      "text/plain": [
       "                                                text  \\\n",
       "0  probably around dollars nine zero for a pair o...   \n",
       "1  hi thanks for your message we re really sorry ...   \n",
       "2  the fun about it is that the two eight six mb ...   \n",
       "3  check out this listing i just added to my posh...   \n",
       "4  check out this listing i just added to my posh...   \n",
       "\n",
       "                     hashtags brand_attribute  brand  \n",
       "0                          []           price  asics  \n",
       "1                          []         quality  asics  \n",
       "2                          []           price  asics  \n",
       "3  [#Poshmark, #shopmycloset]         quality  asics  \n",
       "4  [#Poshmark, #shopmycloset]         quality  asics  "
      ]
     },
     "execution_count": 127,
     "metadata": {},
     "output_type": "execute_result"
    }
   ],
   "source": [
    "asics_tw.head()"
   ]
  },
  {
   "cell_type": "markdown",
   "id": "48d61d8e",
   "metadata": {},
   "source": [
    "#### Columna 'brand' para los datos de Reebok."
   ]
  },
  {
   "cell_type": "code",
   "execution_count": 128,
   "id": "53633d37",
   "metadata": {},
   "outputs": [
    {
     "data": {
      "text/html": [
       "<div>\n",
       "<style scoped>\n",
       "    .dataframe tbody tr th:only-of-type {\n",
       "        vertical-align: middle;\n",
       "    }\n",
       "\n",
       "    .dataframe tbody tr th {\n",
       "        vertical-align: top;\n",
       "    }\n",
       "\n",
       "    .dataframe thead th {\n",
       "        text-align: right;\n",
       "    }\n",
       "</style>\n",
       "<table border=\"1\" class=\"dataframe\">\n",
       "  <thead>\n",
       "    <tr style=\"text-align: right;\">\n",
       "      <th></th>\n",
       "      <th>text</th>\n",
       "      <th>hashtags</th>\n",
       "      <th>brand_attribute</th>\n",
       "    </tr>\n",
       "  </thead>\n",
       "  <tbody>\n",
       "    <tr>\n",
       "      <th>0</th>\n",
       "      <td>my wife you re strong inspirational caring ama...</td>\n",
       "      <td>[]</td>\n",
       "      <td>price</td>\n",
       "    </tr>\n",
       "    <tr>\n",
       "      <th>1</th>\n",
       "      <td>sponsored by reebok</td>\n",
       "      <td>[]</td>\n",
       "      <td>quality</td>\n",
       "    </tr>\n",
       "    <tr>\n",
       "      <th>2</th>\n",
       "      <td>thank you the one in bottom middle pic was ree...</td>\n",
       "      <td>[]</td>\n",
       "      <td>price</td>\n",
       "    </tr>\n",
       "    <tr>\n",
       "      <th>3</th>\n",
       "      <td>at eight two four save two four seven four</td>\n",
       "      <td>[]</td>\n",
       "      <td>quality</td>\n",
       "    </tr>\n",
       "    <tr>\n",
       "      <th>4</th>\n",
       "      <td>thank you for always supporting me you was the...</td>\n",
       "      <td>[]</td>\n",
       "      <td>quality</td>\n",
       "    </tr>\n",
       "  </tbody>\n",
       "</table>\n",
       "</div>"
      ],
      "text/plain": [
       "                                                text hashtags brand_attribute\n",
       "0  my wife you re strong inspirational caring ama...       []           price\n",
       "1                                sponsored by reebok       []         quality\n",
       "2  thank you the one in bottom middle pic was ree...       []           price\n",
       "3         at eight two four save two four seven four       []         quality\n",
       "4  thank you for always supporting me you was the...       []         quality"
      ]
     },
     "execution_count": 128,
     "metadata": {},
     "output_type": "execute_result"
    }
   ],
   "source": [
    "reebok_tw.head()"
   ]
  },
  {
   "cell_type": "code",
   "execution_count": 131,
   "id": "dca05e04",
   "metadata": {},
   "outputs": [],
   "source": [
    "reebok_tw = reebok_tw.assign(brand='reebok')"
   ]
  },
  {
   "cell_type": "code",
   "execution_count": 132,
   "id": "34aa1c6b",
   "metadata": {
    "scrolled": true
   },
   "outputs": [
    {
     "data": {
      "text/html": [
       "<div>\n",
       "<style scoped>\n",
       "    .dataframe tbody tr th:only-of-type {\n",
       "        vertical-align: middle;\n",
       "    }\n",
       "\n",
       "    .dataframe tbody tr th {\n",
       "        vertical-align: top;\n",
       "    }\n",
       "\n",
       "    .dataframe thead th {\n",
       "        text-align: right;\n",
       "    }\n",
       "</style>\n",
       "<table border=\"1\" class=\"dataframe\">\n",
       "  <thead>\n",
       "    <tr style=\"text-align: right;\">\n",
       "      <th></th>\n",
       "      <th>text</th>\n",
       "      <th>hashtags</th>\n",
       "      <th>brand_attribute</th>\n",
       "      <th>brand</th>\n",
       "    </tr>\n",
       "  </thead>\n",
       "  <tbody>\n",
       "    <tr>\n",
       "      <th>0</th>\n",
       "      <td>my wife you re strong inspirational caring ama...</td>\n",
       "      <td>[]</td>\n",
       "      <td>price</td>\n",
       "      <td>reebok</td>\n",
       "    </tr>\n",
       "    <tr>\n",
       "      <th>1</th>\n",
       "      <td>sponsored by reebok</td>\n",
       "      <td>[]</td>\n",
       "      <td>quality</td>\n",
       "      <td>reebok</td>\n",
       "    </tr>\n",
       "    <tr>\n",
       "      <th>2</th>\n",
       "      <td>thank you the one in bottom middle pic was ree...</td>\n",
       "      <td>[]</td>\n",
       "      <td>price</td>\n",
       "      <td>reebok</td>\n",
       "    </tr>\n",
       "    <tr>\n",
       "      <th>3</th>\n",
       "      <td>at eight two four save two four seven four</td>\n",
       "      <td>[]</td>\n",
       "      <td>quality</td>\n",
       "      <td>reebok</td>\n",
       "    </tr>\n",
       "    <tr>\n",
       "      <th>4</th>\n",
       "      <td>thank you for always supporting me you was the...</td>\n",
       "      <td>[]</td>\n",
       "      <td>quality</td>\n",
       "      <td>reebok</td>\n",
       "    </tr>\n",
       "  </tbody>\n",
       "</table>\n",
       "</div>"
      ],
      "text/plain": [
       "                                                text hashtags brand_attribute  \\\n",
       "0  my wife you re strong inspirational caring ama...       []           price   \n",
       "1                                sponsored by reebok       []         quality   \n",
       "2  thank you the one in bottom middle pic was ree...       []           price   \n",
       "3         at eight two four save two four seven four       []         quality   \n",
       "4  thank you for always supporting me you was the...       []         quality   \n",
       "\n",
       "    brand  \n",
       "0  reebok  \n",
       "1  reebok  \n",
       "2  reebok  \n",
       "3  reebok  \n",
       "4  reebok  "
      ]
     },
     "execution_count": 132,
     "metadata": {},
     "output_type": "execute_result"
    }
   ],
   "source": [
    "reebok_tw.head()"
   ]
  },
  {
   "cell_type": "markdown",
   "id": "7bb6b4c9",
   "metadata": {},
   "source": [
    "#### Generamos dataset completo."
   ]
  },
  {
   "cell_type": "code",
   "execution_count": 133,
   "id": "05d6c5a2",
   "metadata": {},
   "outputs": [],
   "source": [
    "brands_tw = pd.concat([nike_tw, adidas_tw, asics_tw, reebok_tw])"
   ]
  },
  {
   "cell_type": "code",
   "execution_count": 134,
   "id": "3285aef7",
   "metadata": {},
   "outputs": [
    {
     "data": {
      "text/plain": [
       "adidas    29280\n",
       "nike      29276\n",
       "asics      1976\n",
       "reebok     1953\n",
       "Name: brand, dtype: int64"
      ]
     },
     "execution_count": 134,
     "metadata": {},
     "output_type": "execute_result"
    }
   ],
   "source": [
    "brands_tw.brand.value_counts()"
   ]
  },
  {
   "cell_type": "markdown",
   "id": "918f381f",
   "metadata": {},
   "source": [
    "#### Exportamos el dataset completo."
   ]
  },
  {
   "cell_type": "code",
   "execution_count": 135,
   "id": "e8cde51e",
   "metadata": {},
   "outputs": [],
   "source": [
    "brands_tw.to_csv('data/brands.csv', index = False)"
   ]
  },
  {
   "cell_type": "code",
   "execution_count": 136,
   "id": "6549ff32",
   "metadata": {},
   "outputs": [],
   "source": [
    "# Exportamos con pickle para mantener todas las propiedades del DataFrame.\n",
    "\n",
    "brands_tw.to_pickle('data/brands.pkl')"
   ]
  }
 ],
 "metadata": {
  "kernelspec": {
   "display_name": "ironhack",
   "language": "python",
   "name": "myenv"
  },
  "language_info": {
   "codemirror_mode": {
    "name": "ipython",
    "version": 3
   },
   "file_extension": ".py",
   "mimetype": "text/x-python",
   "name": "python",
   "nbconvert_exporter": "python",
   "pygments_lexer": "ipython3",
   "version": "3.8.5"
  }
 },
 "nbformat": 4,
 "nbformat_minor": 5
}
