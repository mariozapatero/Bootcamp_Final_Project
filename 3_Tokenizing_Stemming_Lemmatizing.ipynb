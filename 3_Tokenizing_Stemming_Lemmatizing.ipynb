{
 "cells": [
  {
   "cell_type": "code",
   "execution_count": 1,
   "id": "17907a37",
   "metadata": {},
   "outputs": [],
   "source": [
    "import nltk\n",
    "\n",
    "import spacy"
   ]
  },
  {
   "cell_type": "markdown",
   "id": "65d44b43",
   "metadata": {},
   "source": [
    "### Tokenization."
   ]
  },
  {
   "cell_type": "code",
   "execution_count": 8,
   "id": "fcd5fdc6",
   "metadata": {},
   "outputs": [
    {
     "data": {
      "text/plain": [
       "'EXPLICACIÓN'"
      ]
     },
     "execution_count": 8,
     "metadata": {},
     "output_type": "execute_result"
    }
   ],
   "source": [
    "'''EXPLICACIÓN'''"
   ]
  },
  {
   "cell_type": "code",
   "execution_count": 11,
   "id": "bd19ec8f",
   "metadata": {},
   "outputs": [],
   "source": [
    "import pandas as pd\n",
    "data = pd.read_csv('data/adidas_quality.csv')"
   ]
  },
  {
   "cell_type": "code",
   "execution_count": 13,
   "id": "ba523ad3",
   "metadata": {},
   "outputs": [
    {
     "data": {
      "text/html": [
       "<div>\n",
       "<style scoped>\n",
       "    .dataframe tbody tr th:only-of-type {\n",
       "        vertical-align: middle;\n",
       "    }\n",
       "\n",
       "    .dataframe tbody tr th {\n",
       "        vertical-align: top;\n",
       "    }\n",
       "\n",
       "    .dataframe thead th {\n",
       "        text-align: right;\n",
       "    }\n",
       "</style>\n",
       "<table border=\"1\" class=\"dataframe\">\n",
       "  <thead>\n",
       "    <tr style=\"text-align: right;\">\n",
       "      <th></th>\n",
       "      <th>Unnamed: 0</th>\n",
       "      <th>text</th>\n",
       "    </tr>\n",
       "  </thead>\n",
       "  <tbody>\n",
       "    <tr>\n",
       "      <th>0</th>\n",
       "      <td>0</td>\n",
       "      <td>because my lad is a div he won t wear adidas o...</td>\n",
       "    </tr>\n",
       "    <tr>\n",
       "      <th>1</th>\n",
       "      <td>1</td>\n",
       "      <td>beside wrong nameset its like fake shirts spac...</td>\n",
       "    </tr>\n",
       "    <tr>\n",
       "      <th>2</th>\n",
       "      <td>2</td>\n",
       "      <td>yes dude sa adidas website mismo yang link sa ...</td>\n",
       "    </tr>\n",
       "    <tr>\n",
       "      <th>3</th>\n",
       "      <td>3</td>\n",
       "      <td>footlocker is solely focusing on only selling ...</td>\n",
       "    </tr>\n",
       "    <tr>\n",
       "      <th>4</th>\n",
       "      <td>6</td>\n",
       "      <td>he s wearing adidas and his bro is in sweatpants</td>\n",
       "    </tr>\n",
       "  </tbody>\n",
       "</table>\n",
       "</div>"
      ],
      "text/plain": [
       "   Unnamed: 0                                               text\n",
       "0           0  because my lad is a div he won t wear adidas o...\n",
       "1           1  beside wrong nameset its like fake shirts spac...\n",
       "2           2  yes dude sa adidas website mismo yang link sa ...\n",
       "3           3  footlocker is solely focusing on only selling ...\n",
       "4           6   he s wearing adidas and his bro is in sweatpants"
      ]
     },
     "execution_count": 13,
     "metadata": {},
     "output_type": "execute_result"
    }
   ],
   "source": [
    "data.head()"
   ]
  },
  {
   "cell_type": "code",
   "execution_count": 14,
   "id": "59d9e9fd",
   "metadata": {},
   "outputs": [
    {
     "data": {
      "text/plain": [
       "'get nike phantom gt two for clean ball striking and agile movement place an order via dm or whatsapp link in our bio sunprincesports sharwama world cup leno https t co ynrcok zerosog'"
      ]
     },
     "execution_count": 14,
     "metadata": {},
     "output_type": "execute_result"
    }
   ],
   "source": [
    "data.text[10]"
   ]
  },
  {
   "cell_type": "markdown",
   "id": "3dd01f3a",
   "metadata": {},
   "source": [
    "### Stop Words Removal."
   ]
  },
  {
   "cell_type": "markdown",
   "id": "a1bf4569",
   "metadata": {},
   "source": [
    "Antes de nada, eliminaremos las *stop words* del texto de nuestro dataset.\n",
    "\n",
    "Las *stop words* son palabras que realmente no aportan información a la hora de analizar el sentimiento del lenguaje (artículos, preposiciones, pronombres...) y, por tanto, deben ser eliminadas para optimiar nuestro modelo de NLP. Lo haremos apoyánonos en *nltk* donde se nos proporciona una lista de estas palabras a eliminar."
   ]
  },
  {
   "cell_type": "code",
   "execution_count": 2,
   "id": "9b4d304c",
   "metadata": {},
   "outputs": [],
   "source": [
    "# Importamos las stop words (tanto de nltk, como de Spacy):\n",
    "\n",
    "from nltk.corpus import stopwords\n",
    "from spacy.lang.en.stop_words import STOP_WORDS"
   ]
  },
  {
   "cell_type": "code",
   "execution_count": 3,
   "id": "bf2e2dfe",
   "metadata": {},
   "outputs": [],
   "source": [
    "\n",
    "\n",
    "\n",
    "from spacy.lang.en import English"
   ]
  },
  {
   "cell_type": "code",
   "execution_count": null,
   "id": "2368eed0",
   "metadata": {},
   "outputs": [],
   "source": []
  },
  {
   "cell_type": "code",
   "execution_count": 5,
   "id": "980c2f14",
   "metadata": {},
   "outputs": [],
   "source": [
    "from nltk.tokenize import word_tokenize"
   ]
  },
  {
   "cell_type": "code",
   "execution_count": 6,
   "id": "2800951b",
   "metadata": {},
   "outputs": [],
   "source": [
    "def tokenize(string):\n",
    "    return word_tokenize(string)"
   ]
  },
  {
   "cell_type": "code",
   "execution_count": 7,
   "id": "51a41f65",
   "metadata": {
    "scrolled": true
   },
   "outputs": [
    {
     "data": {
      "text/plain": [
       "['ironhack', 's', 'q', 'website', 'is']"
      ]
     },
     "execution_count": 7,
     "metadata": {},
     "output_type": "execute_result"
    }
   ],
   "source": [
    "tokenize('ironhack s q website is')"
   ]
  },
  {
   "cell_type": "code",
   "execution_count": null,
   "id": "6fb4925f",
   "metadata": {},
   "outputs": [],
   "source": []
  },
  {
   "cell_type": "code",
   "execution_count": null,
   "id": "962e78c7",
   "metadata": {},
   "outputs": [],
   "source": []
  },
  {
   "cell_type": "code",
   "execution_count": 28,
   "id": "49ef907f",
   "metadata": {},
   "outputs": [],
   "source": [
    "def extract_hashtags(string): # Queremos extraer los hashtags de los tweets para tratarlos como caso particular de limpieza, al tiempo que los almacenamos en una nueva columna.\n",
    "                              # Esta nueva columna de hashtags nos servirá para análisis de los hashtags a posteriori.\n",
    "    hashtags = re.findall('#[^\\s]*\\s', string)\n",
    "    return hashtags"
   ]
  },
  {
   "cell_type": "code",
   "execution_count": 31,
   "id": "d7770eaa",
   "metadata": {},
   "outputs": [
    {
     "data": {
      "text/plain": [
       "['#QueTaL ']"
      ]
     },
     "execution_count": 31,
     "metadata": {},
     "output_type": "execute_result"
    }
   ],
   "source": [
    "import re\n",
    "\n",
    "extract_hashtags('Hola buenas #QueTaL a ver si')"
   ]
  }
 ],
 "metadata": {
  "kernelspec": {
   "display_name": "ironhack",
   "language": "python",
   "name": "myenv"
  },
  "language_info": {
   "codemirror_mode": {
    "name": "ipython",
    "version": 3
   },
   "file_extension": ".py",
   "mimetype": "text/x-python",
   "name": "python",
   "nbconvert_exporter": "python",
   "pygments_lexer": "ipython3",
   "version": "3.8.5"
  }
 },
 "nbformat": 4,
 "nbformat_minor": 5
}
