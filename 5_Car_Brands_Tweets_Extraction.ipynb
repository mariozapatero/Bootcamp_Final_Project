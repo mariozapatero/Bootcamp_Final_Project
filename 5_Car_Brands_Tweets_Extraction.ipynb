{
 "cells": [
  {
   "cell_type": "markdown",
   "id": "5db09226",
   "metadata": {},
   "source": [
    "# Tweets Extraction."
   ]
  },
  {
   "cell_type": "markdown",
   "id": "0cefc480",
   "metadata": {},
   "source": [
    "## Configuración inical."
   ]
  },
  {
   "cell_type": "markdown",
   "id": "d023eb01",
   "metadata": {},
   "source": [
    "**Importamos librerías.**"
   ]
  },
  {
   "cell_type": "code",
   "execution_count": 1,
   "id": "daf0efff",
   "metadata": {},
   "outputs": [],
   "source": [
    "import tweepy\n",
    "\n",
    "import config\n",
    "\n",
    "from src.extraction_functions import *\n",
    "\n",
    "import pandas as pd"
   ]
  },
  {
   "cell_type": "markdown",
   "id": "5c567d71",
   "metadata": {},
   "source": [
    "**Nos autenticamos con nuestros tokens a través de nuestra función para configurar el cliente.**"
   ]
  },
  {
   "cell_type": "code",
   "execution_count": 2,
   "id": "7321902f",
   "metadata": {
    "scrolled": true
   },
   "outputs": [
    {
     "data": {
      "text/plain": [
       "<tweepy.client.Client at 0x7f06ac7d8790>"
      ]
     },
     "execution_count": 2,
     "metadata": {},
     "output_type": "execute_result"
    }
   ],
   "source": [
    "getClient()"
   ]
  },
  {
   "cell_type": "markdown",
   "id": "f363cfb4",
   "metadata": {},
   "source": [
    "# Sector del Automóvil."
   ]
  },
  {
   "cell_type": "markdown",
   "id": "46a1bace",
   "metadata": {},
   "source": [
    "Ahora probaremos con la comparación de competidores en el sector del automóvil, un marco más amplio que el mercado de ropa deportiva. Comprobaremos si encontramos mayores diferencias entre las marcas, ya que se asume una mayor variedad en la percepción acerca de las mismas."
   ]
  },
  {
   "cell_type": "markdown",
   "id": "f46ee5df",
   "metadata": {},
   "source": [
    "## BMW related Tweets."
   ]
  },
  {
   "cell_type": "markdown",
   "id": "98e3bc60",
   "metadata": {},
   "source": [
    "**Extraemos los tweets en los que se menciona a BMW.**\n",
    "\n",
    "En la query configuramos que se descarten los retweets (buscamos tweets originales y nos evitamos posibles tweets duplicados) y que el texto sea en inglés (nos ofrecerá resultados mucho mejores en el modelo de NLP)."
   ]
  },
  {
   "cell_type": "code",
   "execution_count": 3,
   "id": "17e5916a",
   "metadata": {},
   "outputs": [],
   "source": [
    "query_results = single_searchTweets('bmw -is:retweet lang:en')[0]\n",
    "token = single_searchTweets('bmw -is:retweet lang:en')[1]\n",
    "\n",
    "query = ['setting','while']\n",
    "\n",
    "while len(query_results) < 5000:  # Extraemos alrededor de 5000 tweets.\n",
    "    query = all_searchTweets('bmw -is:retweet lang:en', token)\n",
    "    #print(query[1])  # Para comprobar que funciona.\n",
    "    query_results += query[0]\n",
    "    token = query[1]"
   ]
  },
  {
   "cell_type": "code",
   "execution_count": 4,
   "id": "081888ce",
   "metadata": {},
   "outputs": [
    {
     "data": {
      "text/plain": [
       "5090"
      ]
     },
     "execution_count": 4,
     "metadata": {},
     "output_type": "execute_result"
    }
   ],
   "source": [
    "len(query_results) # Hemos recopilado un total de 29.804 tweets en los que se menciona a Nike."
   ]
  },
  {
   "cell_type": "markdown",
   "id": "c38b3492",
   "metadata": {},
   "source": [
    "**Exportamos los datos de BMW a un archivo csv.**"
   ]
  },
  {
   "cell_type": "code",
   "execution_count": 6,
   "id": "d36c3da6",
   "metadata": {},
   "outputs": [],
   "source": [
    "bmw_df = pd.DataFrame(query_results)\n",
    "\n",
    "bmw_df.to_csv('data/bmw.csv')"
   ]
  },
  {
   "cell_type": "code",
   "execution_count": 7,
   "id": "cb27d3ac",
   "metadata": {},
   "outputs": [
    {
     "data": {
      "text/html": [
       "<div>\n",
       "<style scoped>\n",
       "    .dataframe tbody tr th:only-of-type {\n",
       "        vertical-align: middle;\n",
       "    }\n",
       "\n",
       "    .dataframe tbody tr th {\n",
       "        vertical-align: top;\n",
       "    }\n",
       "\n",
       "    .dataframe thead th {\n",
       "        text-align: right;\n",
       "    }\n",
       "</style>\n",
       "<table border=\"1\" class=\"dataframe\">\n",
       "  <thead>\n",
       "    <tr style=\"text-align: right;\">\n",
       "      <th></th>\n",
       "      <th>id</th>\n",
       "      <th>text</th>\n",
       "      <th>date</th>\n",
       "      <th>author_id</th>\n",
       "    </tr>\n",
       "  </thead>\n",
       "  <tbody>\n",
       "    <tr>\n",
       "      <th>0</th>\n",
       "      <td>1501492384907108353</td>\n",
       "      <td>@EternityWalker @AnneGreen545 I was told by bm...</td>\n",
       "      <td>2022-03-09 09:37:35+00:00</td>\n",
       "      <td>1244219536561315841</td>\n",
       "    </tr>\n",
       "    <tr>\n",
       "      <th>1</th>\n",
       "      <td>1501492239058489347</td>\n",
       "      <td>A new listing for BMW E28 M5 engine has been p...</td>\n",
       "      <td>2022-03-09 09:37:00+00:00</td>\n",
       "      <td>1623181249</td>\n",
       "    </tr>\n",
       "    <tr>\n",
       "      <th>2</th>\n",
       "      <td>1501492190589198337</td>\n",
       "      <td>@TheBishF1 He only led a few hundert meters at...</td>\n",
       "      <td>2022-03-09 09:36:49+00:00</td>\n",
       "      <td>244015323</td>\n",
       "    </tr>\n",
       "    <tr>\n",
       "      <th>3</th>\n",
       "      <td>1501492006874406913</td>\n",
       "      <td>@StyleLatvia @markito0171 Russians making \"BMW...</td>\n",
       "      <td>2022-03-09 09:36:05+00:00</td>\n",
       "      <td>1395817125810483203</td>\n",
       "    </tr>\n",
       "    <tr>\n",
       "      <th>4</th>\n",
       "      <td>1501491913278758914</td>\n",
       "      <td>does anyone want to hati? will just get doyoun...</td>\n",
       "      <td>2022-03-09 09:35:43+00:00</td>\n",
       "      <td>954860245100056578</td>\n",
       "    </tr>\n",
       "  </tbody>\n",
       "</table>\n",
       "</div>"
      ],
      "text/plain": [
       "                    id                                               text  \\\n",
       "0  1501492384907108353  @EternityWalker @AnneGreen545 I was told by bm...   \n",
       "1  1501492239058489347  A new listing for BMW E28 M5 engine has been p...   \n",
       "2  1501492190589198337  @TheBishF1 He only led a few hundert meters at...   \n",
       "3  1501492006874406913  @StyleLatvia @markito0171 Russians making \"BMW...   \n",
       "4  1501491913278758914  does anyone want to hati? will just get doyoun...   \n",
       "\n",
       "                       date            author_id  \n",
       "0 2022-03-09 09:37:35+00:00  1244219536561315841  \n",
       "1 2022-03-09 09:37:00+00:00           1623181249  \n",
       "2 2022-03-09 09:36:49+00:00            244015323  \n",
       "3 2022-03-09 09:36:05+00:00  1395817125810483203  \n",
       "4 2022-03-09 09:35:43+00:00   954860245100056578  "
      ]
     },
     "execution_count": 7,
     "metadata": {},
     "output_type": "execute_result"
    }
   ],
   "source": [
    "bmw_df.head()"
   ]
  },
  {
   "cell_type": "markdown",
   "id": "db04c2df",
   "metadata": {},
   "source": [
    "## Audi related Tweets."
   ]
  },
  {
   "cell_type": "markdown",
   "id": "48111281",
   "metadata": {},
   "source": [
    "**Extraemos los tweets en los que se menciona a Audi.**\n",
    "\n",
    "De nuevo, configuramos la query para descartar los retweets y extraer únicamente los tweets en los que el texto sea en inglés."
   ]
  },
  {
   "cell_type": "code",
   "execution_count": 8,
   "id": "1624b229",
   "metadata": {},
   "outputs": [],
   "source": [
    "query_results = single_searchTweets('audi -is:retweet lang:en')[0]\n",
    "token = single_searchTweets('audi -is:retweet lang:en')[1]\n",
    "\n",
    "query = ['setting','while']\n",
    "\n",
    "while len(query_results) < 5000:    # Extraemos alrededor de 5000 tweets.\n",
    "    query = all_searchTweets('audi -is:retweet lang:en', token)\n",
    "    #print(query[1])   # Para comprobar que funciona.\n",
    "    query_results += query[0]\n",
    "    token = query[1]"
   ]
  },
  {
   "cell_type": "code",
   "execution_count": 9,
   "id": "1393defc",
   "metadata": {},
   "outputs": [
    {
     "data": {
      "text/plain": [
       "5089"
      ]
     },
     "execution_count": 9,
     "metadata": {},
     "output_type": "execute_result"
    }
   ],
   "source": [
    "len(query_results)"
   ]
  },
  {
   "cell_type": "markdown",
   "id": "be8c08b0",
   "metadata": {},
   "source": [
    "**Exportamos los datos de Audi a un archivo csv.**"
   ]
  },
  {
   "cell_type": "code",
   "execution_count": 10,
   "id": "84dcf156",
   "metadata": {},
   "outputs": [],
   "source": [
    "audi_df = pd.DataFrame(query_results)\n",
    "\n",
    "audi_df.to_csv('data/audi.csv')"
   ]
  },
  {
   "cell_type": "code",
   "execution_count": 12,
   "id": "9f4c88e1",
   "metadata": {},
   "outputs": [
    {
     "data": {
      "text/html": [
       "<div>\n",
       "<style scoped>\n",
       "    .dataframe tbody tr th:only-of-type {\n",
       "        vertical-align: middle;\n",
       "    }\n",
       "\n",
       "    .dataframe tbody tr th {\n",
       "        vertical-align: top;\n",
       "    }\n",
       "\n",
       "    .dataframe thead th {\n",
       "        text-align: right;\n",
       "    }\n",
       "</style>\n",
       "<table border=\"1\" class=\"dataframe\">\n",
       "  <thead>\n",
       "    <tr style=\"text-align: right;\">\n",
       "      <th></th>\n",
       "      <th>id</th>\n",
       "      <th>text</th>\n",
       "      <th>date</th>\n",
       "      <th>author_id</th>\n",
       "    </tr>\n",
       "  </thead>\n",
       "  <tbody>\n",
       "    <tr>\n",
       "      <th>0</th>\n",
       "      <td>1501492872214106115</td>\n",
       "      <td>@CGV_ID WTT Tiket PTD BTS LIVE VIEWING CGV BG ...</td>\n",
       "      <td>2022-03-09 09:39:31+00:00</td>\n",
       "      <td>1460869977372651528</td>\n",
       "    </tr>\n",
       "    <tr>\n",
       "      <th>1</th>\n",
       "      <td>1501492686917799938</td>\n",
       "      <td>Antonio Giovinazzi will win the Audi Grand Pri...</td>\n",
       "      <td>2022-03-09 09:38:47+00:00</td>\n",
       "      <td>1389159414255341569</td>\n",
       "    </tr>\n",
       "    <tr>\n",
       "      <th>2</th>\n",
       "      <td>1501492385381249027</td>\n",
       "      <td>Blancpain GT Series/Endurance:2014 Audi R8 LMS...</td>\n",
       "      <td>2022-03-09 09:37:35+00:00</td>\n",
       "      <td>1946786108</td>\n",
       "    </tr>\n",
       "    <tr>\n",
       "      <th>3</th>\n",
       "      <td>1501492151498469377</td>\n",
       "      <td>@CGV_ID WTT Tiket PTD BTS LIVE VIEWING CGV GRA...</td>\n",
       "      <td>2022-03-09 09:36:39+00:00</td>\n",
       "      <td>43663760</td>\n",
       "    </tr>\n",
       "    <tr>\n",
       "      <th>4</th>\n",
       "      <td>1501492106182934532</td>\n",
       "      <td>A new listing for Audi R8 Hoer gearbox has bee...</td>\n",
       "      <td>2022-03-09 09:36:29+00:00</td>\n",
       "      <td>1623181249</td>\n",
       "    </tr>\n",
       "  </tbody>\n",
       "</table>\n",
       "</div>"
      ],
      "text/plain": [
       "                    id                                               text  \\\n",
       "0  1501492872214106115  @CGV_ID WTT Tiket PTD BTS LIVE VIEWING CGV BG ...   \n",
       "1  1501492686917799938  Antonio Giovinazzi will win the Audi Grand Pri...   \n",
       "2  1501492385381249027  Blancpain GT Series/Endurance:2014 Audi R8 LMS...   \n",
       "3  1501492151498469377  @CGV_ID WTT Tiket PTD BTS LIVE VIEWING CGV GRA...   \n",
       "4  1501492106182934532  A new listing for Audi R8 Hoer gearbox has bee...   \n",
       "\n",
       "                       date            author_id  \n",
       "0 2022-03-09 09:39:31+00:00  1460869977372651528  \n",
       "1 2022-03-09 09:38:47+00:00  1389159414255341569  \n",
       "2 2022-03-09 09:37:35+00:00           1946786108  \n",
       "3 2022-03-09 09:36:39+00:00             43663760  \n",
       "4 2022-03-09 09:36:29+00:00           1623181249  "
      ]
     },
     "execution_count": 12,
     "metadata": {},
     "output_type": "execute_result"
    }
   ],
   "source": [
    "audi_df.head()"
   ]
  },
  {
   "cell_type": "markdown",
   "id": "b40e9eef",
   "metadata": {},
   "source": [
    "## Volkswagen related Tweets."
   ]
  },
  {
   "cell_type": "markdown",
   "id": "a28b1496",
   "metadata": {},
   "source": [
    "**Extraemos los tweets en los que se menciona a Volkswagen.**\n",
    "\n",
    "De nuevo, configuramos la query para descartar los retweets y extraer únicamente los tweets en los que el texto sea en inglés."
   ]
  },
  {
   "cell_type": "code",
   "execution_count": 13,
   "id": "52491bcf",
   "metadata": {},
   "outputs": [],
   "source": [
    "query_results = single_searchTweets('volkswagen -is:retweet lang:en')[0]\n",
    "token = single_searchTweets('volkswagen -is:retweet lang:en')[1]\n",
    "\n",
    "query = ['setting','while']\n",
    "\n",
    "while len(query_results) < 5000:   # Extraemos alrededor de 5000 tweets.\n",
    "    query = all_searchTweets('volkswagen -is:retweet lang:en', token)\n",
    "    #print(query[1])\n",
    "    query_results += query[0]\n",
    "    token = query[1]"
   ]
  },
  {
   "cell_type": "code",
   "execution_count": 14,
   "id": "ba4e6002",
   "metadata": {},
   "outputs": [
    {
     "data": {
      "text/plain": [
       "5093"
      ]
     },
     "execution_count": 14,
     "metadata": {},
     "output_type": "execute_result"
    }
   ],
   "source": [
    "len(query_results)"
   ]
  },
  {
   "cell_type": "markdown",
   "id": "dc3f3766",
   "metadata": {},
   "source": [
    "**Exportamos los datos de Volkswagen a un archivo csv.**"
   ]
  },
  {
   "cell_type": "code",
   "execution_count": 16,
   "id": "119ad03d",
   "metadata": {},
   "outputs": [],
   "source": [
    "volkswagen_df = pd.DataFrame(query_results)\n",
    "\n",
    "volkswagen_df.to_csv('data/volkswagen.csv')"
   ]
  },
  {
   "cell_type": "code",
   "execution_count": 17,
   "id": "6f47d659",
   "metadata": {
    "scrolled": false
   },
   "outputs": [
    {
     "data": {
      "text/html": [
       "<div>\n",
       "<style scoped>\n",
       "    .dataframe tbody tr th:only-of-type {\n",
       "        vertical-align: middle;\n",
       "    }\n",
       "\n",
       "    .dataframe tbody tr th {\n",
       "        vertical-align: top;\n",
       "    }\n",
       "\n",
       "    .dataframe thead th {\n",
       "        text-align: right;\n",
       "    }\n",
       "</style>\n",
       "<table border=\"1\" class=\"dataframe\">\n",
       "  <thead>\n",
       "    <tr style=\"text-align: right;\">\n",
       "      <th></th>\n",
       "      <th>id</th>\n",
       "      <th>text</th>\n",
       "      <th>date</th>\n",
       "      <th>author_id</th>\n",
       "    </tr>\n",
       "  </thead>\n",
       "  <tbody>\n",
       "    <tr>\n",
       "      <th>0</th>\n",
       "      <td>1501492884901613569</td>\n",
       "      <td>Just Arrived !!! Volkswagen Tiguan 2.0 Diesel ...</td>\n",
       "      <td>2022-03-09 09:39:34+00:00</td>\n",
       "      <td>1199702894657908736</td>\n",
       "    </tr>\n",
       "    <tr>\n",
       "      <th>1</th>\n",
       "      <td>1501492091884490756</td>\n",
       "      <td>Glimpses of Women's Day Celebrations at Autoba...</td>\n",
       "      <td>2022-03-09 09:36:25+00:00</td>\n",
       "      <td>1264132103224074240</td>\n",
       "    </tr>\n",
       "    <tr>\n",
       "      <th>2</th>\n",
       "      <td>1501492081738539009</td>\n",
       "      <td>MARSHALL #VOLKSWAGEN VIP 4 DAY SALES EVENT – S...</td>\n",
       "      <td>2022-03-09 09:36:23+00:00</td>\n",
       "      <td>491129466</td>\n",
       "    </tr>\n",
       "    <tr>\n",
       "      <th>3</th>\n",
       "      <td>1501491816981401603</td>\n",
       "      <td>Volkswagen presents their all-new model Virtus...</td>\n",
       "      <td>2022-03-09 09:35:20+00:00</td>\n",
       "      <td>799127382997118977</td>\n",
       "    </tr>\n",
       "    <tr>\n",
       "      <th>4</th>\n",
       "      <td>1501491756113666048</td>\n",
       "      <td>2Pcs Roof Rail Racks Cross Bars Crossbars Fits...</td>\n",
       "      <td>2022-03-09 09:35:05+00:00</td>\n",
       "      <td>1403128435757633536</td>\n",
       "    </tr>\n",
       "  </tbody>\n",
       "</table>\n",
       "</div>"
      ],
      "text/plain": [
       "                    id                                               text  \\\n",
       "0  1501492884901613569  Just Arrived !!! Volkswagen Tiguan 2.0 Diesel ...   \n",
       "1  1501492091884490756  Glimpses of Women's Day Celebrations at Autoba...   \n",
       "2  1501492081738539009  MARSHALL #VOLKSWAGEN VIP 4 DAY SALES EVENT – S...   \n",
       "3  1501491816981401603  Volkswagen presents their all-new model Virtus...   \n",
       "4  1501491756113666048  2Pcs Roof Rail Racks Cross Bars Crossbars Fits...   \n",
       "\n",
       "                       date            author_id  \n",
       "0 2022-03-09 09:39:34+00:00  1199702894657908736  \n",
       "1 2022-03-09 09:36:25+00:00  1264132103224074240  \n",
       "2 2022-03-09 09:36:23+00:00            491129466  \n",
       "3 2022-03-09 09:35:20+00:00   799127382997118977  \n",
       "4 2022-03-09 09:35:05+00:00  1403128435757633536  "
      ]
     },
     "execution_count": 17,
     "metadata": {},
     "output_type": "execute_result"
    }
   ],
   "source": [
    "volkswagen_df.head()"
   ]
  },
  {
   "cell_type": "markdown",
   "id": "03a06887",
   "metadata": {},
   "source": [
    "## Renault related Tweets."
   ]
  },
  {
   "cell_type": "markdown",
   "id": "25a77990",
   "metadata": {},
   "source": [
    "**Extraemos los tweets en los que se menciona a Renault.**\n",
    "\n",
    "De nuevo, configuramos la query para descartar los retweets y extraer únicamente los tweets en los que el texto sea en inglés."
   ]
  },
  {
   "cell_type": "code",
   "execution_count": 22,
   "id": "cf8d4f0f",
   "metadata": {},
   "outputs": [],
   "source": [
    "query_results = single_searchTweets('renault -is:retweet lang:en')[0]\n",
    "token = single_searchTweets('renault -is:retweet lang:en')[1]\n",
    "\n",
    "query = ['setting','while']\n",
    "\n",
    "while len(query_results) < 3805:   # Extraemos alrededor de 4000 tweets. \n",
    "    query = all_searchTweets('renault -is:retweet lang:en', token)\n",
    "    #print(query[1])\n",
    "    query_results += query[0]\n",
    "    token = query[1]"
   ]
  },
  {
   "cell_type": "code",
   "execution_count": 23,
   "id": "c44cffc8",
   "metadata": {
    "scrolled": true
   },
   "outputs": [
    {
     "data": {
      "text/plain": [
       "3897"
      ]
     },
     "execution_count": 23,
     "metadata": {},
     "output_type": "execute_result"
    }
   ],
   "source": [
    "len(query_results)"
   ]
  },
  {
   "cell_type": "markdown",
   "id": "f5d57dd6",
   "metadata": {},
   "source": [
    "**Exportamos los datos de Renault a un archivo csv.**"
   ]
  },
  {
   "cell_type": "code",
   "execution_count": 24,
   "id": "08779c6c",
   "metadata": {},
   "outputs": [],
   "source": [
    "renault_df = pd.DaRenaulttaFrame(query_results)\n",
    "\n",
    "renault_df.to_csv('data/renault.csv')"
   ]
  },
  {
   "cell_type": "code",
   "execution_count": 25,
   "id": "31b939c8",
   "metadata": {
    "scrolled": true
   },
   "outputs": [
    {
     "data": {
      "text/html": [
       "<div>\n",
       "<style scoped>\n",
       "    .dataframe tbody tr th:only-of-type {\n",
       "        vertical-align: middle;\n",
       "    }\n",
       "\n",
       "    .dataframe tbody tr th {\n",
       "        vertical-align: top;\n",
       "    }\n",
       "\n",
       "    .dataframe thead th {\n",
       "        text-align: right;\n",
       "    }\n",
       "</style>\n",
       "<table border=\"1\" class=\"dataframe\">\n",
       "  <thead>\n",
       "    <tr style=\"text-align: right;\">\n",
       "      <th></th>\n",
       "      <th>id</th>\n",
       "      <th>text</th>\n",
       "      <th>date</th>\n",
       "      <th>author_id</th>\n",
       "    </tr>\n",
       "  </thead>\n",
       "  <tbody>\n",
       "    <tr>\n",
       "      <th>0</th>\n",
       "      <td>1501494684174147585</td>\n",
       "      <td>@Ianbarnes2001 @sheridan100_a @EnfieldCouncil ...</td>\n",
       "      <td>2022-03-09 09:46:43+00:00</td>\n",
       "      <td>1433310379191508992</td>\n",
       "    </tr>\n",
       "    <tr>\n",
       "      <th>1</th>\n",
       "      <td>1501493979598184460</td>\n",
       "      <td>@fo11owthe1ight @EnfieldCouncil @renault_uk Th...</td>\n",
       "      <td>2022-03-09 09:43:55+00:00</td>\n",
       "      <td>1433310379191508992</td>\n",
       "    </tr>\n",
       "    <tr>\n",
       "      <th>2</th>\n",
       "      <td>1501493093203591171</td>\n",
       "      <td>Some talented directors need to move their ass...</td>\n",
       "      <td>2022-03-09 09:40:24+00:00</td>\n",
       "      <td>1098730037900013568</td>\n",
       "    </tr>\n",
       "    <tr>\n",
       "      <th>3</th>\n",
       "      <td>1501492993114746881</td>\n",
       "      <td>An extra 25% of people are now more likely to ...</td>\n",
       "      <td>2022-03-09 09:40:00+00:00</td>\n",
       "      <td>18551380</td>\n",
       "    </tr>\n",
       "    <tr>\n",
       "      <th>4</th>\n",
       "      <td>1501492820628099073</td>\n",
       "      <td>@timalmond @whitesundesert @streetwiseprof Wel...</td>\n",
       "      <td>2022-03-09 09:39:19+00:00</td>\n",
       "      <td>79949872</td>\n",
       "    </tr>\n",
       "  </tbody>\n",
       "</table>\n",
       "</div>"
      ],
      "text/plain": [
       "                    id                                               text  \\\n",
       "0  1501494684174147585  @Ianbarnes2001 @sheridan100_a @EnfieldCouncil ...   \n",
       "1  1501493979598184460  @fo11owthe1ight @EnfieldCouncil @renault_uk Th...   \n",
       "2  1501493093203591171  Some talented directors need to move their ass...   \n",
       "3  1501492993114746881  An extra 25% of people are now more likely to ...   \n",
       "4  1501492820628099073  @timalmond @whitesundesert @streetwiseprof Wel...   \n",
       "\n",
       "                       date            author_id  \n",
       "0 2022-03-09 09:46:43+00:00  1433310379191508992  \n",
       "1 2022-03-09 09:43:55+00:00  1433310379191508992  \n",
       "2 2022-03-09 09:40:24+00:00  1098730037900013568  \n",
       "3 2022-03-09 09:40:00+00:00             18551380  \n",
       "4 2022-03-09 09:39:19+00:00             79949872  "
      ]
     },
     "execution_count": 25,
     "metadata": {},
     "output_type": "execute_result"
    }
   ],
   "source": [
    "renault_df.head()"
   ]
  },
  {
   "cell_type": "markdown",
   "id": "39a124e1",
   "metadata": {},
   "source": [
    "## Fiat related Tweets."
   ]
  },
  {
   "cell_type": "markdown",
   "id": "38b1837c",
   "metadata": {},
   "source": [
    "**Extraemos los tweets en los que se menciona a Fiat.**\n",
    "\n",
    "De nuevo, configuramos la query para descartar los retweets y extraer únicamente los tweets en los que el texto sea en inglés."
   ]
  },
  {
   "cell_type": "code",
   "execution_count": 26,
   "id": "8e26c6b9",
   "metadata": {},
   "outputs": [],
   "source": [
    "query_results = single_searchTweets('fiat -is:retweet lang:en')[0]\n",
    "token = single_searchTweets('fiat -is:retweet lang:en')[1]\n",
    "\n",
    "query = ['setting','while']\n",
    "\n",
    "while len(query_results) < 5000:    # Extraemos alrededor de 5000 tweets.\n",
    "    query = all_searchTweets('fiat -is:retweet lang:en', token)\n",
    "    #print(query[1])\n",
    "    query_results += query[0]\n",
    "    token = query[1]"
   ]
  },
  {
   "cell_type": "code",
   "execution_count": 27,
   "id": "658f0c46",
   "metadata": {
    "scrolled": true
   },
   "outputs": [
    {
     "data": {
      "text/plain": [
       "5098"
      ]
     },
     "execution_count": 27,
     "metadata": {},
     "output_type": "execute_result"
    }
   ],
   "source": [
    "len(query_results)"
   ]
  },
  {
   "cell_type": "markdown",
   "id": "58bb7629",
   "metadata": {},
   "source": [
    "**Exportamos los datos de Fiat a un archivo csv.**"
   ]
  },
  {
   "cell_type": "code",
   "execution_count": 28,
   "id": "6ccc1b8c",
   "metadata": {},
   "outputs": [],
   "source": [
    "fiat_df = pd.DataFrame(query_results)\n",
    "\n",
    "fiat_df.to_csv('data/fiat.csv')"
   ]
  },
  {
   "cell_type": "code",
   "execution_count": 29,
   "id": "9363c117",
   "metadata": {
    "scrolled": true
   },
   "outputs": [
    {
     "data": {
      "text/html": [
       "<div>\n",
       "<style scoped>\n",
       "    .dataframe tbody tr th:only-of-type {\n",
       "        vertical-align: middle;\n",
       "    }\n",
       "\n",
       "    .dataframe tbody tr th {\n",
       "        vertical-align: top;\n",
       "    }\n",
       "\n",
       "    .dataframe thead th {\n",
       "        text-align: right;\n",
       "    }\n",
       "</style>\n",
       "<table border=\"1\" class=\"dataframe\">\n",
       "  <thead>\n",
       "    <tr style=\"text-align: right;\">\n",
       "      <th></th>\n",
       "      <th>id</th>\n",
       "      <th>text</th>\n",
       "      <th>date</th>\n",
       "      <th>author_id</th>\n",
       "    </tr>\n",
       "  </thead>\n",
       "  <tbody>\n",
       "    <tr>\n",
       "      <th>0</th>\n",
       "      <td>1501495951260749826</td>\n",
       "      <td>@TheMoonCarl #RoboWallet converts crypto to fi...</td>\n",
       "      <td>2022-03-09 09:51:45+00:00</td>\n",
       "      <td>1491003663396982786</td>\n",
       "    </tr>\n",
       "    <tr>\n",
       "      <th>1</th>\n",
       "      <td>1501495905660256270</td>\n",
       "      <td>@TapasCrypto @RoboInuFinance ROBO INU FINANCE ...</td>\n",
       "      <td>2022-03-09 09:51:35+00:00</td>\n",
       "      <td>1461047833260281860</td>\n",
       "    </tr>\n",
       "    <tr>\n",
       "      <th>2</th>\n",
       "      <td>1501495895778476034</td>\n",
       "      <td>Fiat Panda 1.0 GSE Hybrid Cross https://t.co/f...</td>\n",
       "      <td>2022-03-09 09:51:32+00:00</td>\n",
       "      <td>1466523775898251269</td>\n",
       "    </tr>\n",
       "    <tr>\n",
       "      <th>3</th>\n",
       "      <td>1501495875885056000</td>\n",
       "      <td>@TheVladCostea noun, the fiat\\nverb, to fiat\\n...</td>\n",
       "      <td>2022-03-09 09:51:27+00:00</td>\n",
       "      <td>1362359441799213056</td>\n",
       "    </tr>\n",
       "    <tr>\n",
       "      <th>4</th>\n",
       "      <td>1501495764798754816</td>\n",
       "      <td>Convert as much fiat into #Bitcoin  as you can...</td>\n",
       "      <td>2022-03-09 09:51:01+00:00</td>\n",
       "      <td>1494171322519281665</td>\n",
       "    </tr>\n",
       "  </tbody>\n",
       "</table>\n",
       "</div>"
      ],
      "text/plain": [
       "                    id                                               text  \\\n",
       "0  1501495951260749826  @TheMoonCarl #RoboWallet converts crypto to fi...   \n",
       "1  1501495905660256270  @TapasCrypto @RoboInuFinance ROBO INU FINANCE ...   \n",
       "2  1501495895778476034  Fiat Panda 1.0 GSE Hybrid Cross https://t.co/f...   \n",
       "3  1501495875885056000  @TheVladCostea noun, the fiat\\nverb, to fiat\\n...   \n",
       "4  1501495764798754816  Convert as much fiat into #Bitcoin  as you can...   \n",
       "\n",
       "                       date            author_id  \n",
       "0 2022-03-09 09:51:45+00:00  1491003663396982786  \n",
       "1 2022-03-09 09:51:35+00:00  1461047833260281860  \n",
       "2 2022-03-09 09:51:32+00:00  1466523775898251269  \n",
       "3 2022-03-09 09:51:27+00:00  1362359441799213056  \n",
       "4 2022-03-09 09:51:01+00:00  1494171322519281665  "
      ]
     },
     "execution_count": 29,
     "metadata": {},
     "output_type": "execute_result"
    }
   ],
   "source": [
    "fiat_df.head()"
   ]
  },
  {
   "cell_type": "markdown",
   "id": "155fdfb9",
   "metadata": {},
   "source": [
    "## Ferrari related Tweets."
   ]
  },
  {
   "cell_type": "markdown",
   "id": "dd52ee5c",
   "metadata": {},
   "source": [
    "**Extraemos los tweets en los que se menciona a Ferrari.**\n",
    "\n",
    "De nuevo, configuramos la query para descartar los retweets y extraer únicamente los tweets en los que el texto sea en inglés."
   ]
  },
  {
   "cell_type": "code",
   "execution_count": 32,
   "id": "b5f5eab0",
   "metadata": {},
   "outputs": [],
   "source": [
    "query_results = single_searchTweets('ferrari -is:retweet lang:en')[0]\n",
    "token = single_searchTweets('ferrari -is:retweet lang:en')[1]\n",
    "\n",
    "query = ['setting','while']\n",
    "\n",
    "while len(query_results) < 550:   # Extraemos alrededor de 600 tweets.\n",
    "    query = all_searchTweets('ferrari -is:retweet lang:en', token)\n",
    "    #print(query[1])\n",
    "    query_results += query[0]\n",
    "    token = query[1]"
   ]
  },
  {
   "cell_type": "code",
   "execution_count": 33,
   "id": "9c55269c",
   "metadata": {
    "scrolled": true
   },
   "outputs": [
    {
     "data": {
      "text/plain": [
       "600"
      ]
     },
     "execution_count": 33,
     "metadata": {},
     "output_type": "execute_result"
    }
   ],
   "source": [
    "len(query_results)"
   ]
  },
  {
   "cell_type": "markdown",
   "id": "6bdf250c",
   "metadata": {},
   "source": [
    "**Exportamos los datos de Ferrari a un archivo csv.**"
   ]
  },
  {
   "cell_type": "code",
   "execution_count": 34,
   "id": "ad941b8d",
   "metadata": {},
   "outputs": [],
   "source": [
    "ferrari_df = pd.DataFrame(query_results)\n",
    "\n",
    "ferrari_df.to_csv('data/ferrari.csv')"
   ]
  },
  {
   "cell_type": "code",
   "execution_count": 35,
   "id": "41aeb33e",
   "metadata": {
    "scrolled": false
   },
   "outputs": [
    {
     "data": {
      "text/html": [
       "<div>\n",
       "<style scoped>\n",
       "    .dataframe tbody tr th:only-of-type {\n",
       "        vertical-align: middle;\n",
       "    }\n",
       "\n",
       "    .dataframe tbody tr th {\n",
       "        vertical-align: top;\n",
       "    }\n",
       "\n",
       "    .dataframe thead th {\n",
       "        text-align: right;\n",
       "    }\n",
       "</style>\n",
       "<table border=\"1\" class=\"dataframe\">\n",
       "  <thead>\n",
       "    <tr style=\"text-align: right;\">\n",
       "      <th></th>\n",
       "      <th>id</th>\n",
       "      <th>text</th>\n",
       "      <th>date</th>\n",
       "      <th>author_id</th>\n",
       "    </tr>\n",
       "  </thead>\n",
       "  <tbody>\n",
       "    <tr>\n",
       "      <th>0</th>\n",
       "      <td>1501496806970060801</td>\n",
       "      <td>@1Adhughes @Tessasoldestson Mercedes achieved ...</td>\n",
       "      <td>2022-03-09 09:55:09+00:00</td>\n",
       "      <td>1000211253632028672</td>\n",
       "    </tr>\n",
       "    <tr>\n",
       "      <th>1</th>\n",
       "      <td>1501496805409923075</td>\n",
       "      <td>If this rumour was about Ferrari nobody would ...</td>\n",
       "      <td>2022-03-09 09:55:09+00:00</td>\n",
       "      <td>1334094218306985984</td>\n",
       "    </tr>\n",
       "    <tr>\n",
       "      <th>2</th>\n",
       "      <td>1501496631362920452</td>\n",
       "      <td>@sunnysideseb aaahhhh thank you so much bestie...</td>\n",
       "      <td>2022-03-09 09:54:28+00:00</td>\n",
       "      <td>2917454215</td>\n",
       "    </tr>\n",
       "    <tr>\n",
       "      <th>3</th>\n",
       "      <td>1501496571044802561</td>\n",
       "      <td>Motorsport Italia: Scuderia Ferrari successful...</td>\n",
       "      <td>2022-03-09 09:54:13+00:00</td>\n",
       "      <td>486720661</td>\n",
       "    </tr>\n",
       "    <tr>\n",
       "      <th>4</th>\n",
       "      <td>1501496404631601153</td>\n",
       "      <td>@LBC Nick Ferrari using Ukraine as an excuse t...</td>\n",
       "      <td>2022-03-09 09:53:33+00:00</td>\n",
       "      <td>1427345963128086529</td>\n",
       "    </tr>\n",
       "  </tbody>\n",
       "</table>\n",
       "</div>"
      ],
      "text/plain": [
       "                    id                                               text  \\\n",
       "0  1501496806970060801  @1Adhughes @Tessasoldestson Mercedes achieved ...   \n",
       "1  1501496805409923075  If this rumour was about Ferrari nobody would ...   \n",
       "2  1501496631362920452  @sunnysideseb aaahhhh thank you so much bestie...   \n",
       "3  1501496571044802561  Motorsport Italia: Scuderia Ferrari successful...   \n",
       "4  1501496404631601153  @LBC Nick Ferrari using Ukraine as an excuse t...   \n",
       "\n",
       "                       date            author_id  \n",
       "0 2022-03-09 09:55:09+00:00  1000211253632028672  \n",
       "1 2022-03-09 09:55:09+00:00  1334094218306985984  \n",
       "2 2022-03-09 09:54:28+00:00           2917454215  \n",
       "3 2022-03-09 09:54:13+00:00            486720661  \n",
       "4 2022-03-09 09:53:33+00:00  1427345963128086529  "
      ]
     },
     "execution_count": 35,
     "metadata": {},
     "output_type": "execute_result"
    }
   ],
   "source": [
    "ferrari_df.head()"
   ]
  },
  {
   "cell_type": "markdown",
   "id": "4dcd6f86",
   "metadata": {},
   "source": [
    "## Lamborghini related Tweets."
   ]
  },
  {
   "cell_type": "markdown",
   "id": "25344c22",
   "metadata": {},
   "source": [
    "**Extraemos los tweets en los que se menciona a Lamborghini.**\n",
    "\n",
    "De nuevo, configuramos la query para descartar los retweets y extraer únicamente los tweets en los que el texto sea en inglés."
   ]
  },
  {
   "cell_type": "code",
   "execution_count": 36,
   "id": "cecb5924",
   "metadata": {},
   "outputs": [],
   "source": [
    "query_results = single_searchTweets('lamborghini -is:retweet lang:en')[0]\n",
    "token = single_searchTweets('lamborghini -is:retweet lang:en')[1]\n",
    "\n",
    "query = ['setting','while']\n",
    "\n",
    "while len(query_results) < 5000:    # Extraemos alrededor de 5000 tweets.\n",
    "    query = all_searchTweets('lamborghini -is:retweet lang:en', token)\n",
    "    #print(query[1])\n",
    "    query_results += query[0]\n",
    "    token = query[1]"
   ]
  },
  {
   "cell_type": "code",
   "execution_count": 37,
   "id": "b4bd5b8f",
   "metadata": {
    "scrolled": true
   },
   "outputs": [
    {
     "data": {
      "text/plain": [
       "5088"
      ]
     },
     "execution_count": 37,
     "metadata": {},
     "output_type": "execute_result"
    }
   ],
   "source": [
    "len(query_results)"
   ]
  },
  {
   "cell_type": "markdown",
   "id": "67911dfa",
   "metadata": {},
   "source": [
    "**Exportamos los datos de Lamborghini a un archivo csv.**"
   ]
  },
  {
   "cell_type": "code",
   "execution_count": 38,
   "id": "39ca5c19",
   "metadata": {
    "scrolled": true
   },
   "outputs": [
    {
     "data": {
      "text/html": [
       "<div>\n",
       "<style scoped>\n",
       "    .dataframe tbody tr th:only-of-type {\n",
       "        vertical-align: middle;\n",
       "    }\n",
       "\n",
       "    .dataframe tbody tr th {\n",
       "        vertical-align: top;\n",
       "    }\n",
       "\n",
       "    .dataframe thead th {\n",
       "        text-align: right;\n",
       "    }\n",
       "</style>\n",
       "<table border=\"1\" class=\"dataframe\">\n",
       "  <thead>\n",
       "    <tr style=\"text-align: right;\">\n",
       "      <th></th>\n",
       "      <th>id</th>\n",
       "      <th>text</th>\n",
       "      <th>date</th>\n",
       "      <th>author_id</th>\n",
       "    </tr>\n",
       "  </thead>\n",
       "  <tbody>\n",
       "    <tr>\n",
       "      <th>0</th>\n",
       "      <td>1501496612526469123</td>\n",
       "      <td>@WholeMarsBlog @elonmusk this is getting old.....</td>\n",
       "      <td>2022-03-09 09:54:23+00:00</td>\n",
       "      <td>755421537952526340</td>\n",
       "    </tr>\n",
       "    <tr>\n",
       "      <th>1</th>\n",
       "      <td>1501496356170776578</td>\n",
       "      <td>@cibaiken @StarLinkETH @woof_decentra @Samsung...</td>\n",
       "      <td>2022-03-09 09:53:22+00:00</td>\n",
       "      <td>1447450788834394117</td>\n",
       "    </tr>\n",
       "    <tr>\n",
       "      <th>2</th>\n",
       "      <td>1501496307948658690</td>\n",
       "      <td>@davidgokhshtein new coin did great things @sh...</td>\n",
       "      <td>2022-03-09 09:53:10+00:00</td>\n",
       "      <td>1499051959193677830</td>\n",
       "    </tr>\n",
       "    <tr>\n",
       "      <th>3</th>\n",
       "      <td>1501496235882074113</td>\n",
       "      <td>@Crypto__Diva new coin did great things @shibt...</td>\n",
       "      <td>2022-03-09 09:52:53+00:00</td>\n",
       "      <td>1499051959193677830</td>\n",
       "    </tr>\n",
       "    <tr>\n",
       "      <th>4</th>\n",
       "      <td>1501496127958441988</td>\n",
       "      <td>@kucoincom @MetisDAO @thewastedlands @ideaolog...</td>\n",
       "      <td>2022-03-09 09:52:28+00:00</td>\n",
       "      <td>1499051959193677830</td>\n",
       "    </tr>\n",
       "  </tbody>\n",
       "</table>\n",
       "</div>"
      ],
      "text/plain": [
       "                    id                                               text  \\\n",
       "0  1501496612526469123  @WholeMarsBlog @elonmusk this is getting old.....   \n",
       "1  1501496356170776578  @cibaiken @StarLinkETH @woof_decentra @Samsung...   \n",
       "2  1501496307948658690  @davidgokhshtein new coin did great things @sh...   \n",
       "3  1501496235882074113  @Crypto__Diva new coin did great things @shibt...   \n",
       "4  1501496127958441988  @kucoincom @MetisDAO @thewastedlands @ideaolog...   \n",
       "\n",
       "                       date            author_id  \n",
       "0 2022-03-09 09:54:23+00:00   755421537952526340  \n",
       "1 2022-03-09 09:53:22+00:00  1447450788834394117  \n",
       "2 2022-03-09 09:53:10+00:00  1499051959193677830  \n",
       "3 2022-03-09 09:52:53+00:00  1499051959193677830  \n",
       "4 2022-03-09 09:52:28+00:00  1499051959193677830  "
      ]
     },
     "execution_count": 38,
     "metadata": {},
     "output_type": "execute_result"
    }
   ],
   "source": [
    "lamborghini_df = pd.DataFrame(query_results[:-4])\n",
    "\n",
    "lamborghini_df.to_csv('data/lamborghini.csv')\n",
    "\n",
    "lamborghini_df.head()"
   ]
  },
  {
   "cell_type": "markdown",
   "id": "032872e6",
   "metadata": {},
   "source": [
    "## Hyundai related Tweets."
   ]
  },
  {
   "cell_type": "markdown",
   "id": "50db420f",
   "metadata": {},
   "source": [
    "**Extraemos los tweets en los que se menciona a Hyundai.**\n",
    "\n",
    "De nuevo, configuramos la query para descartar los retweets y extraer únicamente los tweets en los que el texto sea en inglés."
   ]
  },
  {
   "cell_type": "code",
   "execution_count": 39,
   "id": "bf4adf21",
   "metadata": {},
   "outputs": [],
   "source": [
    "query_results = single_searchTweets('hyundai -is:retweet lang:en')[0]\n",
    "token = single_searchTweets('hyundai -is:retweet lang:en')[1]\n",
    "\n",
    "query = ['setting','while']\n",
    "\n",
    "while len(query_results) < 5000:    # Extraemos alrededor de 5000 tweets.\n",
    "    query = all_searchTweets('hyundai -is:retweet lang:en', token)\n",
    "    #print(query[1])\n",
    "    query_results += query[0]\n",
    "    token = query[1]"
   ]
  },
  {
   "cell_type": "code",
   "execution_count": 40,
   "id": "1b52b7fe",
   "metadata": {
    "scrolled": true
   },
   "outputs": [
    {
     "data": {
      "text/plain": [
       "5093"
      ]
     },
     "execution_count": 40,
     "metadata": {},
     "output_type": "execute_result"
    }
   ],
   "source": [
    "len(query_results)"
   ]
  },
  {
   "cell_type": "markdown",
   "id": "c09b4b0e",
   "metadata": {},
   "source": [
    "**Exportamos los datos de Hyundai a un archivo csv.**"
   ]
  },
  {
   "cell_type": "code",
   "execution_count": 41,
   "id": "419d6111",
   "metadata": {
    "scrolled": false
   },
   "outputs": [
    {
     "data": {
      "text/html": [
       "<div>\n",
       "<style scoped>\n",
       "    .dataframe tbody tr th:only-of-type {\n",
       "        vertical-align: middle;\n",
       "    }\n",
       "\n",
       "    .dataframe tbody tr th {\n",
       "        vertical-align: top;\n",
       "    }\n",
       "\n",
       "    .dataframe thead th {\n",
       "        text-align: right;\n",
       "    }\n",
       "</style>\n",
       "<table border=\"1\" class=\"dataframe\">\n",
       "  <thead>\n",
       "    <tr style=\"text-align: right;\">\n",
       "      <th></th>\n",
       "      <th>id</th>\n",
       "      <th>text</th>\n",
       "      <th>date</th>\n",
       "      <th>author_id</th>\n",
       "    </tr>\n",
       "  </thead>\n",
       "  <tbody>\n",
       "    <tr>\n",
       "      <th>0</th>\n",
       "      <td>1501497758464856064</td>\n",
       "      <td>@Liberebil @CarsSouthAfrica No, we get the sta...</td>\n",
       "      <td>2022-03-09 09:58:56+00:00</td>\n",
       "      <td>431622430</td>\n",
       "    </tr>\n",
       "    <tr>\n",
       "      <th>1</th>\n",
       "      <td>1501497209862434816</td>\n",
       "      <td>Hyundai and Haval are competing mbela</td>\n",
       "      <td>2022-03-09 09:56:45+00:00</td>\n",
       "      <td>1188256319993724929</td>\n",
       "    </tr>\n",
       "    <tr>\n",
       "      <th>2</th>\n",
       "      <td>1501497172759621632</td>\n",
       "      <td>@GreenpeaceEAsia @Greenpeace @ToyotaMotorCorp ...</td>\n",
       "      <td>2022-03-09 09:56:37+00:00</td>\n",
       "      <td>449173094</td>\n",
       "    </tr>\n",
       "    <tr>\n",
       "      <th>3</th>\n",
       "      <td>1501496711390375939</td>\n",
       "      <td>HYUNDAI-ACCENT/XCENT-DISC ASSY-CLUTCH-41100262...</td>\n",
       "      <td>2022-03-09 09:54:47+00:00</td>\n",
       "      <td>37198225</td>\n",
       "    </tr>\n",
       "    <tr>\n",
       "      <th>4</th>\n",
       "      <td>1501496610014089219</td>\n",
       "      <td>Hyundai i20 lovers \\n\\nJust pay as little as R...</td>\n",
       "      <td>2022-03-09 09:54:22+00:00</td>\n",
       "      <td>1181492902905692160</td>\n",
       "    </tr>\n",
       "  </tbody>\n",
       "</table>\n",
       "</div>"
      ],
      "text/plain": [
       "                    id                                               text  \\\n",
       "0  1501497758464856064  @Liberebil @CarsSouthAfrica No, we get the sta...   \n",
       "1  1501497209862434816              Hyundai and Haval are competing mbela   \n",
       "2  1501497172759621632  @GreenpeaceEAsia @Greenpeace @ToyotaMotorCorp ...   \n",
       "3  1501496711390375939  HYUNDAI-ACCENT/XCENT-DISC ASSY-CLUTCH-41100262...   \n",
       "4  1501496610014089219  Hyundai i20 lovers \\n\\nJust pay as little as R...   \n",
       "\n",
       "                       date            author_id  \n",
       "0 2022-03-09 09:58:56+00:00            431622430  \n",
       "1 2022-03-09 09:56:45+00:00  1188256319993724929  \n",
       "2 2022-03-09 09:56:37+00:00            449173094  \n",
       "3 2022-03-09 09:54:47+00:00             37198225  \n",
       "4 2022-03-09 09:54:22+00:00  1181492902905692160  "
      ]
     },
     "execution_count": 41,
     "metadata": {},
     "output_type": "execute_result"
    }
   ],
   "source": [
    "hyundai_df = pd.DataFrame(query_results)\n",
    "\n",
    "hyundai_df.to_csv('data/hyundai.csv')\n",
    "\n",
    "hyundai_df.head()"
   ]
  },
  {
   "cell_type": "markdown",
   "id": "6d02810a",
   "metadata": {},
   "source": [
    "## Peugeot related Tweets."
   ]
  },
  {
   "cell_type": "markdown",
   "id": "f7b7d18f",
   "metadata": {},
   "source": [
    "**Extraemos los tweets en los que se menciona a Peugeot.**\n",
    "\n",
    "De nuevo, configuramos la query para descartar los retweets y extraer únicamente los tweets en los que el texto sea en inglés."
   ]
  },
  {
   "cell_type": "code",
   "execution_count": 44,
   "id": "00608d77",
   "metadata": {},
   "outputs": [],
   "source": [
    "query_results = single_searchTweets('peugeot -is:retweet lang:en')[0]\n",
    "token = single_searchTweets('peugeot -is:retweet lang:en')[1]\n",
    "\n",
    "query = ['setting','while']\n",
    "\n",
    "while len(query_results) < 1550:    # Extraemos alrededor de 1600 tweets.\n",
    "    query = all_searchTweets('peugeot -is:retweet lang:en', token)\n",
    "    #print(query[1])\n",
    "    query_results += query[0]\n",
    "    token = query[1]"
   ]
  },
  {
   "cell_type": "code",
   "execution_count": 45,
   "id": "fc888832",
   "metadata": {
    "scrolled": true
   },
   "outputs": [
    {
     "data": {
      "text/plain": [
       "1597"
      ]
     },
     "execution_count": 45,
     "metadata": {},
     "output_type": "execute_result"
    }
   ],
   "source": [
    "len(query_results)"
   ]
  },
  {
   "cell_type": "markdown",
   "id": "4e125542",
   "metadata": {},
   "source": [
    "**Exportamos los datos de Peugeot a un archivo csv.**"
   ]
  },
  {
   "cell_type": "code",
   "execution_count": 46,
   "id": "95647d49",
   "metadata": {
    "scrolled": true
   },
   "outputs": [
    {
     "data": {
      "text/html": [
       "<div>\n",
       "<style scoped>\n",
       "    .dataframe tbody tr th:only-of-type {\n",
       "        vertical-align: middle;\n",
       "    }\n",
       "\n",
       "    .dataframe tbody tr th {\n",
       "        vertical-align: top;\n",
       "    }\n",
       "\n",
       "    .dataframe thead th {\n",
       "        text-align: right;\n",
       "    }\n",
       "</style>\n",
       "<table border=\"1\" class=\"dataframe\">\n",
       "  <thead>\n",
       "    <tr style=\"text-align: right;\">\n",
       "      <th></th>\n",
       "      <th>id</th>\n",
       "      <th>text</th>\n",
       "      <th>date</th>\n",
       "      <th>author_id</th>\n",
       "    </tr>\n",
       "  </thead>\n",
       "  <tbody>\n",
       "    <tr>\n",
       "      <th>0</th>\n",
       "      <td>1501497451160739842</td>\n",
       "      <td>@Space_Robot1 @eyeguy_one I experienced this l...</td>\n",
       "      <td>2022-03-09 09:57:43+00:00</td>\n",
       "      <td>376779374</td>\n",
       "    </tr>\n",
       "    <tr>\n",
       "      <th>1</th>\n",
       "      <td>1501496536911470592</td>\n",
       "      <td>@AllegoCharging I am trying to request a charg...</td>\n",
       "      <td>2022-03-09 09:54:05+00:00</td>\n",
       "      <td>195416818</td>\n",
       "    </tr>\n",
       "    <tr>\n",
       "      <th>2</th>\n",
       "      <td>1501495889931935749</td>\n",
       "      <td>@czechidiot @jackbyrne77 @Formula_Nerds @Jonas...</td>\n",
       "      <td>2022-03-09 09:51:31+00:00</td>\n",
       "      <td>79259849</td>\n",
       "    </tr>\n",
       "    <tr>\n",
       "      <th>3</th>\n",
       "      <td>1501494131880775682</td>\n",
       "      <td>@JonasHut I have a hard time seeing him take t...</td>\n",
       "      <td>2022-03-09 09:44:32+00:00</td>\n",
       "      <td>548610788</td>\n",
       "    </tr>\n",
       "    <tr>\n",
       "      <th>4</th>\n",
       "      <td>1501492883240759299</td>\n",
       "      <td>Peugeot 308 Raih Predikat Women’s World Car of...</td>\n",
       "      <td>2022-03-09 09:39:34+00:00</td>\n",
       "      <td>2336466469</td>\n",
       "    </tr>\n",
       "  </tbody>\n",
       "</table>\n",
       "</div>"
      ],
      "text/plain": [
       "                    id                                               text  \\\n",
       "0  1501497451160739842  @Space_Robot1 @eyeguy_one I experienced this l...   \n",
       "1  1501496536911470592  @AllegoCharging I am trying to request a charg...   \n",
       "2  1501495889931935749  @czechidiot @jackbyrne77 @Formula_Nerds @Jonas...   \n",
       "3  1501494131880775682  @JonasHut I have a hard time seeing him take t...   \n",
       "4  1501492883240759299  Peugeot 308 Raih Predikat Women’s World Car of...   \n",
       "\n",
       "                       date   author_id  \n",
       "0 2022-03-09 09:57:43+00:00   376779374  \n",
       "1 2022-03-09 09:54:05+00:00   195416818  \n",
       "2 2022-03-09 09:51:31+00:00    79259849  \n",
       "3 2022-03-09 09:44:32+00:00   548610788  \n",
       "4 2022-03-09 09:39:34+00:00  2336466469  "
      ]
     },
     "execution_count": 46,
     "metadata": {},
     "output_type": "execute_result"
    }
   ],
   "source": [
    "peugeot_df = pd.DataFrame(query_results)\n",
    "\n",
    "peugeot_df.to_csv('data/peugeot.csv')\n",
    "\n",
    "peugeot_df.head()"
   ]
  },
  {
   "cell_type": "markdown",
   "id": "93e171d1",
   "metadata": {},
   "source": [
    "## Ford related Tweets."
   ]
  },
  {
   "cell_type": "markdown",
   "id": "191ac22b",
   "metadata": {},
   "source": [
    "**Extraemos los tweets en los que se menciona a Ford.**\n",
    "\n",
    "De nuevo, configuramos la query para descartar los retweets y extraer únicamente los tweets en los que el texto sea en inglés."
   ]
  },
  {
   "cell_type": "code",
   "execution_count": 49,
   "id": "340fa253",
   "metadata": {},
   "outputs": [],
   "source": [
    "query_results = single_searchTweets('ford -is:retweet lang:en')[0]\n",
    "token = single_searchTweets('ford -is:retweet lang:en')[1]\n",
    "\n",
    "query = ['setting','while']\n",
    "\n",
    "while len(query_results) < 5000:    # Extraemos alrededor de 5000 tweets.\n",
    "    query = all_searchTweets('ford -is:retweet lang:en', token)\n",
    "    #print(query[1])\n",
    "    query_results += query[0]\n",
    "    token = query[1]"
   ]
  },
  {
   "cell_type": "code",
   "execution_count": 50,
   "id": "9ede918b",
   "metadata": {
    "scrolled": true
   },
   "outputs": [
    {
     "data": {
      "text/plain": [
       "5093"
      ]
     },
     "execution_count": 50,
     "metadata": {},
     "output_type": "execute_result"
    }
   ],
   "source": [
    "len(query_results)"
   ]
  },
  {
   "cell_type": "markdown",
   "id": "b5bfe440",
   "metadata": {},
   "source": [
    "**Exportamos los datos de Ford a un archivo csv.**"
   ]
  },
  {
   "cell_type": "code",
   "execution_count": 51,
   "id": "cf71c676",
   "metadata": {
    "scrolled": false
   },
   "outputs": [
    {
     "data": {
      "text/html": [
       "<div>\n",
       "<style scoped>\n",
       "    .dataframe tbody tr th:only-of-type {\n",
       "        vertical-align: middle;\n",
       "    }\n",
       "\n",
       "    .dataframe tbody tr th {\n",
       "        vertical-align: top;\n",
       "    }\n",
       "\n",
       "    .dataframe thead th {\n",
       "        text-align: right;\n",
       "    }\n",
       "</style>\n",
       "<table border=\"1\" class=\"dataframe\">\n",
       "  <thead>\n",
       "    <tr style=\"text-align: right;\">\n",
       "      <th></th>\n",
       "      <th>id</th>\n",
       "      <th>text</th>\n",
       "      <th>date</th>\n",
       "      <th>author_id</th>\n",
       "    </tr>\n",
       "  </thead>\n",
       "  <tbody>\n",
       "    <tr>\n",
       "      <th>0</th>\n",
       "      <td>1501500100853518337</td>\n",
       "      <td>We're incredibly excited to be boosting the Lo...</td>\n",
       "      <td>2022-03-09 10:08:15+00:00</td>\n",
       "      <td>67617769</td>\n",
       "    </tr>\n",
       "    <tr>\n",
       "      <th>1</th>\n",
       "      <td>1501500056934879233</td>\n",
       "      <td>32NN66D Engine Cooling Fan Module Fits 2007-20...</td>\n",
       "      <td>2022-03-09 10:08:04+00:00</td>\n",
       "      <td>1375565959449047042</td>\n",
       "    </tr>\n",
       "    <tr>\n",
       "      <th>2</th>\n",
       "      <td>1501500053474590721</td>\n",
       "      <td>68XQ36C Inlet and Outlet Assembly Oil Cooler H...</td>\n",
       "      <td>2022-03-09 10:08:03+00:00</td>\n",
       "      <td>1375580130139983872</td>\n",
       "    </tr>\n",
       "    <tr>\n",
       "      <th>3</th>\n",
       "      <td>1501500051687837698</td>\n",
       "      <td>COVERKING CSC2S1-FD7258 Spacermesh Seat Covers...</td>\n",
       "      <td>2022-03-09 10:08:03+00:00</td>\n",
       "      <td>1394750790993018881</td>\n",
       "    </tr>\n",
       "    <tr>\n",
       "      <th>4</th>\n",
       "      <td>1501500051062886403</td>\n",
       "      <td>Motorcraft 76YC88M Idle Air Control Valve Fits...</td>\n",
       "      <td>2022-03-09 10:08:03+00:00</td>\n",
       "      <td>1337183001860456448</td>\n",
       "    </tr>\n",
       "  </tbody>\n",
       "</table>\n",
       "</div>"
      ],
      "text/plain": [
       "                    id                                               text  \\\n",
       "0  1501500100853518337  We're incredibly excited to be boosting the Lo...   \n",
       "1  1501500056934879233  32NN66D Engine Cooling Fan Module Fits 2007-20...   \n",
       "2  1501500053474590721  68XQ36C Inlet and Outlet Assembly Oil Cooler H...   \n",
       "3  1501500051687837698  COVERKING CSC2S1-FD7258 Spacermesh Seat Covers...   \n",
       "4  1501500051062886403  Motorcraft 76YC88M Idle Air Control Valve Fits...   \n",
       "\n",
       "                       date            author_id  \n",
       "0 2022-03-09 10:08:15+00:00             67617769  \n",
       "1 2022-03-09 10:08:04+00:00  1375565959449047042  \n",
       "2 2022-03-09 10:08:03+00:00  1375580130139983872  \n",
       "3 2022-03-09 10:08:03+00:00  1394750790993018881  \n",
       "4 2022-03-09 10:08:03+00:00  1337183001860456448  "
      ]
     },
     "execution_count": 51,
     "metadata": {},
     "output_type": "execute_result"
    }
   ],
   "source": [
    "ford_df = pd.DataFrame(query_results)\n",
    "\n",
    "ford_df.to_csv('data/ford.csv')\n",
    "\n",
    "ford_df.head()"
   ]
  }
 ],
 "metadata": {
  "kernelspec": {
   "display_name": "ironhack",
   "language": "python",
   "name": "myenv"
  },
  "language_info": {
   "codemirror_mode": {
    "name": "ipython",
    "version": 3
   },
   "file_extension": ".py",
   "mimetype": "text/x-python",
   "name": "python",
   "nbconvert_exporter": "python",
   "pygments_lexer": "ipython3",
   "version": "3.8.5"
  }
 },
 "nbformat": 4,
 "nbformat_minor": 5
}
