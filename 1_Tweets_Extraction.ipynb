{
 "cells": [
  {
   "cell_type": "markdown",
   "id": "11114276",
   "metadata": {},
   "source": [
    "## Configuración inical."
   ]
  },
  {
   "cell_type": "markdown",
   "id": "29c8ec9a",
   "metadata": {},
   "source": [
    "**Importamos librerías.**"
   ]
  },
  {
   "cell_type": "code",
   "execution_count": 1,
   "id": "b4472abf",
   "metadata": {},
   "outputs": [],
   "source": [
    "import tweepy\n",
    "\n",
    "import config\n",
    "\n",
    "from src.extraction_functions import *\n",
    "\n",
    "import pandas as pd"
   ]
  },
  {
   "cell_type": "markdown",
   "id": "dde21f0c",
   "metadata": {},
   "source": [
    "**Nos autenticamos con nuestros tokens a través de nuestra función para configurar el cliente.**"
   ]
  },
  {
   "cell_type": "code",
   "execution_count": 2,
   "id": "97acb249",
   "metadata": {},
   "outputs": [
    {
     "data": {
      "text/plain": [
       "<tweepy.client.Client at 0x7ff909fd1c70>"
      ]
     },
     "execution_count": 2,
     "metadata": {},
     "output_type": "execute_result"
    }
   ],
   "source": [
    "getClient()"
   ]
  },
  {
   "cell_type": "markdown",
   "id": "5a176314",
   "metadata": {},
   "source": [
    "## Nike related Tweets."
   ]
  },
  {
   "cell_type": "markdown",
   "id": "4edb80a8",
   "metadata": {},
   "source": [
    "**Extraemos los tweets en los que se menciona a Nike.**\n",
    "\n",
    "En la query configuramos que se descarten los retweets (buscamos tweets originales y nos evitamos posibles tweets duplicados) y que el texto sea en inglés (nos ofrecerá resultados mucho mejores en el modelo de NLP)."
   ]
  },
  {
   "cell_type": "code",
   "execution_count": null,
   "id": "c5b429ab",
   "metadata": {},
   "outputs": [],
   "source": [
    "query_results = single_searchTweets('nike -is:retweet lang:en')[0]\n",
    "token = single_searchTweets('nike -is:retweet lang:en')[1]\n",
    "\n",
    "query = ['setting','while']\n",
    "\n",
    "while query[1]:\n",
    "    query = all_searchTweets('nike -is:retweet lang:en', token)\n",
    "    print(query[1])  # Para comprobar que funciona.\n",
    "    query_results += query[0]\n",
    "    token = query[1]"
   ]
  },
  {
   "cell_type": "code",
   "execution_count": 12,
   "id": "8723f0ae",
   "metadata": {},
   "outputs": [
    {
     "data": {
      "text/plain": [
       "29804"
      ]
     },
     "execution_count": 12,
     "metadata": {},
     "output_type": "execute_result"
    }
   ],
   "source": [
    "len(query_results) # Hemos recopilado un total de 29.804 tweets en los que se menciona a Nike."
   ]
  },
  {
   "cell_type": "markdown",
   "id": "17da4944",
   "metadata": {},
   "source": [
    "**Exportamos los datos de Nike a un archivo csv.**"
   ]
  },
  {
   "cell_type": "code",
   "execution_count": 24,
   "id": "443f8da5",
   "metadata": {
    "collapsed": true
   },
   "outputs": [],
   "source": [
    "nike_df = pd.DataFrame(query_results)\n",
    "\n",
    "nike_df.to_csv('data/nike.csv')"
   ]
  },
  {
   "cell_type": "code",
   "execution_count": 46,
   "id": "aa21fd44",
   "metadata": {},
   "outputs": [
    {
     "data": {
      "text/html": [
       "<div>\n",
       "<style scoped>\n",
       "    .dataframe tbody tr th:only-of-type {\n",
       "        vertical-align: middle;\n",
       "    }\n",
       "\n",
       "    .dataframe tbody tr th {\n",
       "        vertical-align: top;\n",
       "    }\n",
       "\n",
       "    .dataframe thead th {\n",
       "        text-align: right;\n",
       "    }\n",
       "</style>\n",
       "<table border=\"1\" class=\"dataframe\">\n",
       "  <thead>\n",
       "    <tr style=\"text-align: right;\">\n",
       "      <th></th>\n",
       "      <th>id</th>\n",
       "      <th>text</th>\n",
       "      <th>date</th>\n",
       "      <th>author_id</th>\n",
       "    </tr>\n",
       "  </thead>\n",
       "  <tbody>\n",
       "    <tr>\n",
       "      <th>0</th>\n",
       "      <td>1499705431329017864</td>\n",
       "      <td>@ZubyMusic @LPMisesCaucus Nobody cares about N...</td>\n",
       "      <td>2022-03-04 11:16:52+00:00</td>\n",
       "      <td>949655415658336256</td>\n",
       "    </tr>\n",
       "    <tr>\n",
       "      <th>1</th>\n",
       "      <td>1499705375129366530</td>\n",
       "      <td>@PoojaPraharaj @IndiainUkraine @PMOIndia @MEAI...</td>\n",
       "      <td>2022-03-04 11:16:39+00:00</td>\n",
       "      <td>1097779100670779392</td>\n",
       "    </tr>\n",
       "    <tr>\n",
       "      <th>2</th>\n",
       "      <td>1499705344259506179</td>\n",
       "      <td>@DocumentWomen Nike Okundaye. Also knowns Nike...</td>\n",
       "      <td>2022-03-04 11:16:31+00:00</td>\n",
       "      <td>1213598509166804992</td>\n",
       "    </tr>\n",
       "    <tr>\n",
       "      <th>3</th>\n",
       "      <td>1499705294359777286</td>\n",
       "      <td>Day 4 of #maxmadness #AirMaxMonth \\nNike Air M...</td>\n",
       "      <td>2022-03-04 11:16:20+00:00</td>\n",
       "      <td>1334875428172034049</td>\n",
       "    </tr>\n",
       "    <tr>\n",
       "      <th>4</th>\n",
       "      <td>1499705239888449538</td>\n",
       "      <td>@MagMr44 @soleguru @nikestore @Nike @SneakerAd...</td>\n",
       "      <td>2022-03-04 11:16:07+00:00</td>\n",
       "      <td>1649250498</td>\n",
       "    </tr>\n",
       "  </tbody>\n",
       "</table>\n",
       "</div>"
      ],
      "text/plain": [
       "                    id                                               text  \\\n",
       "0  1499705431329017864  @ZubyMusic @LPMisesCaucus Nobody cares about N...   \n",
       "1  1499705375129366530  @PoojaPraharaj @IndiainUkraine @PMOIndia @MEAI...   \n",
       "2  1499705344259506179  @DocumentWomen Nike Okundaye. Also knowns Nike...   \n",
       "3  1499705294359777286  Day 4 of #maxmadness #AirMaxMonth \\nNike Air M...   \n",
       "4  1499705239888449538  @MagMr44 @soleguru @nikestore @Nike @SneakerAd...   \n",
       "\n",
       "                       date            author_id  \n",
       "0 2022-03-04 11:16:52+00:00   949655415658336256  \n",
       "1 2022-03-04 11:16:39+00:00  1097779100670779392  \n",
       "2 2022-03-04 11:16:31+00:00  1213598509166804992  \n",
       "3 2022-03-04 11:16:20+00:00  1334875428172034049  \n",
       "4 2022-03-04 11:16:07+00:00           1649250498  "
      ]
     },
     "execution_count": 46,
     "metadata": {},
     "output_type": "execute_result"
    }
   ],
   "source": [
    "nike_df.head()"
   ]
  },
  {
   "cell_type": "markdown",
   "id": "ce66363b",
   "metadata": {},
   "source": [
    "## Adidas related Tweets."
   ]
  },
  {
   "cell_type": "markdown",
   "id": "71a21a8d",
   "metadata": {},
   "source": [
    "**Extraemos los tweets en los que se menciona a Adidas.**\n",
    "\n",
    "De nuevo, configuramos la query para descartar los retweets y extraer únicamente los tweets en los que el texto sea en inglés."
   ]
  },
  {
   "cell_type": "code",
   "execution_count": null,
   "id": "13d17a70",
   "metadata": {},
   "outputs": [],
   "source": [
    "query_results = single_searchTweets('adidas -is:retweet lang:en')[0]\n",
    "token = single_searchTweets('adidas -is:retweet lang:en')[1]\n",
    "\n",
    "query = ['setting','while']\n",
    "\n",
    "while len(query_results) < 29804:    # Fijamos el mismo número de tweets que los obtenidos para Nike.\n",
    "    query = all_searchTweets('nike -is:retweet lang:en', token)\n",
    "    print(query[1])   # Para comprobar que funciona.\n",
    "    query_results += query[0]\n",
    "    token = query[1]"
   ]
  },
  {
   "cell_type": "code",
   "execution_count": 42,
   "id": "f92f9382",
   "metadata": {},
   "outputs": [
    {
     "data": {
      "text/plain": [
       "29816"
      ]
     },
     "execution_count": 42,
     "metadata": {},
     "output_type": "execute_result"
    }
   ],
   "source": [
    "len(query_results)"
   ]
  },
  {
   "cell_type": "markdown",
   "id": "77d725ff",
   "metadata": {},
   "source": [
    "**Exportamos los datos de Adidas a un archivo csv.**"
   ]
  },
  {
   "cell_type": "code",
   "execution_count": 43,
   "id": "81d0f326",
   "metadata": {
    "collapsed": true
   },
   "outputs": [],
   "source": [
    "adidas_df = pd.DataFrame(query_results)\n",
    "\n",
    "adidas_df.to_csv('data/adidas.csv')"
   ]
  },
  {
   "cell_type": "code",
   "execution_count": 45,
   "id": "ec719526",
   "metadata": {},
   "outputs": [
    {
     "data": {
      "text/html": [
       "<div>\n",
       "<style scoped>\n",
       "    .dataframe tbody tr th:only-of-type {\n",
       "        vertical-align: middle;\n",
       "    }\n",
       "\n",
       "    .dataframe tbody tr th {\n",
       "        vertical-align: top;\n",
       "    }\n",
       "\n",
       "    .dataframe thead th {\n",
       "        text-align: right;\n",
       "    }\n",
       "</style>\n",
       "<table border=\"1\" class=\"dataframe\">\n",
       "  <thead>\n",
       "    <tr style=\"text-align: right;\">\n",
       "      <th></th>\n",
       "      <th>id</th>\n",
       "      <th>text</th>\n",
       "      <th>date</th>\n",
       "      <th>author_id</th>\n",
       "    </tr>\n",
       "  </thead>\n",
       "  <tbody>\n",
       "    <tr>\n",
       "      <th>0</th>\n",
       "      <td>1499737235675140098</td>\n",
       "      <td>@Coop8517 Because my lad is a div he won't wea...</td>\n",
       "      <td>2022-03-04 13:23:15+00:00</td>\n",
       "      <td>222816617</td>\n",
       "    </tr>\n",
       "    <tr>\n",
       "      <th>1</th>\n",
       "      <td>1499737227760259077</td>\n",
       "      <td>@shirtsinthshire beside wrong nameset, its lik...</td>\n",
       "      <td>2022-03-04 13:23:13+00:00</td>\n",
       "      <td>1258109697975934976</td>\n",
       "    </tr>\n",
       "    <tr>\n",
       "      <th>2</th>\n",
       "      <td>1499737070461665286</td>\n",
       "      <td>@ChefLerrie @Jakjakph1 Yes dude sa Adidas webs...</td>\n",
       "      <td>2022-03-04 13:22:36+00:00</td>\n",
       "      <td>825235525963386880</td>\n",
       "    </tr>\n",
       "    <tr>\n",
       "      <th>3</th>\n",
       "      <td>1499736971912130560</td>\n",
       "      <td>Footlocker is solely focusing on only selling ...</td>\n",
       "      <td>2022-03-04 13:22:12+00:00</td>\n",
       "      <td>1976820866</td>\n",
       "    </tr>\n",
       "    <tr>\n",
       "      <th>4</th>\n",
       "      <td>1499736937753575427</td>\n",
       "      <td>adidas Yeezy Boost 350 Pirate Black V1 (Infant...</td>\n",
       "      <td>2022-03-04 13:22:04+00:00</td>\n",
       "      <td>1456387795614724100</td>\n",
       "    </tr>\n",
       "  </tbody>\n",
       "</table>\n",
       "</div>"
      ],
      "text/plain": [
       "                    id                                               text  \\\n",
       "0  1499737235675140098  @Coop8517 Because my lad is a div he won't wea...   \n",
       "1  1499737227760259077  @shirtsinthshire beside wrong nameset, its lik...   \n",
       "2  1499737070461665286  @ChefLerrie @Jakjakph1 Yes dude sa Adidas webs...   \n",
       "3  1499736971912130560  Footlocker is solely focusing on only selling ...   \n",
       "4  1499736937753575427  adidas Yeezy Boost 350 Pirate Black V1 (Infant...   \n",
       "\n",
       "                       date            author_id  \n",
       "0 2022-03-04 13:23:15+00:00            222816617  \n",
       "1 2022-03-04 13:23:13+00:00  1258109697975934976  \n",
       "2 2022-03-04 13:22:36+00:00   825235525963386880  \n",
       "3 2022-03-04 13:22:12+00:00           1976820866  \n",
       "4 2022-03-04 13:22:04+00:00  1456387795614724100  "
      ]
     },
     "execution_count": 45,
     "metadata": {},
     "output_type": "execute_result"
    }
   ],
   "source": [
    "adidas_df.head()"
   ]
  },
  {
   "cell_type": "markdown",
   "id": "760d26f0",
   "metadata": {},
   "source": [
    "## Asics related Tweets."
   ]
  },
  {
   "cell_type": "markdown",
   "id": "1f9297e0",
   "metadata": {},
   "source": [
    "**Extraemos los tweets en los que se menciona a Asics.**\n",
    "\n",
    "De nuevo, configuramos la query para descartar los retweets y extraer únicamente los tweets en los que el texto sea en inglés."
   ]
  },
  {
   "cell_type": "code",
   "execution_count": 20,
   "id": "f96626c3",
   "metadata": {},
   "outputs": [],
   "source": [
    "query_results = single_searchTweets('asics -is:retweet lang:en')[0]\n",
    "token = single_searchTweets('asics -is:retweet lang:en')[1]\n",
    "\n",
    "query = ['setting','while']\n",
    "\n",
    "# Asics es una marca que se menciona mucho menos que nike o adidas.\n",
    "# (Recordemos que solo tenemos acceso a los tweets de la última semana).\n",
    "# Extraemos alrededor de 2000 tweets como muestra para el estudio.\n",
    "\n",
    "while len(query_results) < 1950: \n",
    "    query = all_searchTweets('asics -is:retweet lang:en', token)\n",
    "    #print(query[1])\n",
    "    query_results += query[0]\n",
    "    token = query[1]"
   ]
  },
  {
   "cell_type": "code",
   "execution_count": 21,
   "id": "76e47886",
   "metadata": {},
   "outputs": [
    {
     "data": {
      "text/plain": [
       "1999"
      ]
     },
     "execution_count": 21,
     "metadata": {},
     "output_type": "execute_result"
    }
   ],
   "source": [
    "len(query_results)"
   ]
  },
  {
   "cell_type": "markdown",
   "id": "abf7fa70",
   "metadata": {},
   "source": [
    "**Exportamos los datos de Asics a un archivo csv.**"
   ]
  },
  {
   "cell_type": "code",
   "execution_count": 22,
   "id": "d0d7b5b9",
   "metadata": {},
   "outputs": [],
   "source": [
    "asics_df = pd.DataFrame(query_results)\n",
    "\n",
    "asics_df.to_csv('data/asics.csv')"
   ]
  },
  {
   "cell_type": "code",
   "execution_count": 25,
   "id": "992d07c1",
   "metadata": {
    "scrolled": false
   },
   "outputs": [
    {
     "data": {
      "text/html": [
       "<div>\n",
       "<style scoped>\n",
       "    .dataframe tbody tr th:only-of-type {\n",
       "        vertical-align: middle;\n",
       "    }\n",
       "\n",
       "    .dataframe tbody tr th {\n",
       "        vertical-align: top;\n",
       "    }\n",
       "\n",
       "    .dataframe thead th {\n",
       "        text-align: right;\n",
       "    }\n",
       "</style>\n",
       "<table border=\"1\" class=\"dataframe\">\n",
       "  <thead>\n",
       "    <tr style=\"text-align: right;\">\n",
       "      <th></th>\n",
       "      <th>id</th>\n",
       "      <th>text</th>\n",
       "      <th>date</th>\n",
       "      <th>author_id</th>\n",
       "    </tr>\n",
       "  </thead>\n",
       "  <tbody>\n",
       "    <tr>\n",
       "      <th>0</th>\n",
       "      <td>1501239745518702594</td>\n",
       "      <td>@LadyLibertas76 Probably around $90 for a pair...</td>\n",
       "      <td>2022-03-08 16:53:41+00:00</td>\n",
       "      <td>153109119</td>\n",
       "    </tr>\n",
       "    <tr>\n",
       "      <th>1</th>\n",
       "      <td>1501239693492559880</td>\n",
       "      <td>@surferliv Hi, Thanks for your message, we're ...</td>\n",
       "      <td>2022-03-08 16:53:29+00:00</td>\n",
       "      <td>3651405317</td>\n",
       "    </tr>\n",
       "    <tr>\n",
       "      <th>2</th>\n",
       "      <td>1501237770806833157</td>\n",
       "      <td>@knivd @aradiogurl The fun about it is that th...</td>\n",
       "      <td>2022-03-08 16:45:50+00:00</td>\n",
       "      <td>2262329527</td>\n",
       "    </tr>\n",
       "    <tr>\n",
       "      <th>3</th>\n",
       "      <td>1501233975913713665</td>\n",
       "      <td>Check out this listing I just added to my #Pos...</td>\n",
       "      <td>2022-03-08 16:30:46+00:00</td>\n",
       "      <td>1495417692483772416</td>\n",
       "    </tr>\n",
       "    <tr>\n",
       "      <th>4</th>\n",
       "      <td>1501233341437136898</td>\n",
       "      <td>Check out this listing I just added to my #Pos...</td>\n",
       "      <td>2022-03-08 16:28:14+00:00</td>\n",
       "      <td>1495417692483772416</td>\n",
       "    </tr>\n",
       "  </tbody>\n",
       "</table>\n",
       "</div>"
      ],
      "text/plain": [
       "                    id                                               text  \\\n",
       "0  1501239745518702594  @LadyLibertas76 Probably around $90 for a pair...   \n",
       "1  1501239693492559880  @surferliv Hi, Thanks for your message, we're ...   \n",
       "2  1501237770806833157  @knivd @aradiogurl The fun about it is that th...   \n",
       "3  1501233975913713665  Check out this listing I just added to my #Pos...   \n",
       "4  1501233341437136898  Check out this listing I just added to my #Pos...   \n",
       "\n",
       "                       date            author_id  \n",
       "0 2022-03-08 16:53:41+00:00            153109119  \n",
       "1 2022-03-08 16:53:29+00:00           3651405317  \n",
       "2 2022-03-08 16:45:50+00:00           2262329527  \n",
       "3 2022-03-08 16:30:46+00:00  1495417692483772416  \n",
       "4 2022-03-08 16:28:14+00:00  1495417692483772416  "
      ]
     },
     "execution_count": 25,
     "metadata": {},
     "output_type": "execute_result"
    }
   ],
   "source": [
    "asics_df.head()"
   ]
  },
  {
   "cell_type": "markdown",
   "id": "ca91ee2b",
   "metadata": {},
   "source": [
    "## Reebok related Tweets."
   ]
  },
  {
   "cell_type": "markdown",
   "id": "84b69def",
   "metadata": {},
   "source": [
    "**Extraemos los tweets en los que se menciona a Reebok.**\n",
    "\n",
    "De nuevo, configuramos la query para descartar los retweets y extraer únicamente los tweets en los que el texto sea en inglés."
   ]
  },
  {
   "cell_type": "code",
   "execution_count": 33,
   "id": "c8b07b80",
   "metadata": {},
   "outputs": [],
   "source": [
    "query_results = single_searchTweets('reebok -is:retweet lang:en')[0]\n",
    "token = single_searchTweets('reebok -is:retweet lang:en')[1]\n",
    "\n",
    "query = ['setting','while']\n",
    "\n",
    "# Reebok es una marca que se menciona mucho menos que nike o adidas.\n",
    "# (Recordemos que solo tenemos acceso a los tweets de la última semana).\n",
    "# Extraemos alrededor de 2000 tweets como muestra para el estudio.\n",
    "\n",
    "while len(query_results) < 1950: \n",
    "    query = all_searchTweets('reebok -is:retweet lang:en', token)\n",
    "    #print(query[1])\n",
    "    query_results += query[0]\n",
    "    token = query[1]"
   ]
  },
  {
   "cell_type": "code",
   "execution_count": 34,
   "id": "1bcf4c64",
   "metadata": {
    "scrolled": true
   },
   "outputs": [
    {
     "data": {
      "text/plain": [
       "1996"
      ]
     },
     "execution_count": 34,
     "metadata": {},
     "output_type": "execute_result"
    }
   ],
   "source": [
    "len(query_results)"
   ]
  },
  {
   "cell_type": "markdown",
   "id": "28b98e96",
   "metadata": {},
   "source": [
    "**Exportamos los datos de Reebok a un archivo csv.**"
   ]
  },
  {
   "cell_type": "code",
   "execution_count": 35,
   "id": "491d5e7a",
   "metadata": {},
   "outputs": [],
   "source": [
    "reebok_df = pd.DataFrame(query_results)\n",
    "\n",
    "reebok_df.to_csv('data/reebok.csv')"
   ]
  },
  {
   "cell_type": "code",
   "execution_count": 36,
   "id": "3cdb5a67",
   "metadata": {
    "scrolled": true
   },
   "outputs": [
    {
     "data": {
      "text/html": [
       "<div>\n",
       "<style scoped>\n",
       "    .dataframe tbody tr th:only-of-type {\n",
       "        vertical-align: middle;\n",
       "    }\n",
       "\n",
       "    .dataframe tbody tr th {\n",
       "        vertical-align: top;\n",
       "    }\n",
       "\n",
       "    .dataframe thead th {\n",
       "        text-align: right;\n",
       "    }\n",
       "</style>\n",
       "<table border=\"1\" class=\"dataframe\">\n",
       "  <thead>\n",
       "    <tr style=\"text-align: right;\">\n",
       "      <th></th>\n",
       "      <th>id</th>\n",
       "      <th>text</th>\n",
       "      <th>date</th>\n",
       "      <th>author_id</th>\n",
       "    </tr>\n",
       "  </thead>\n",
       "  <tbody>\n",
       "    <tr>\n",
       "      <th>0</th>\n",
       "      <td>1501239745518702594</td>\n",
       "      <td>@LadyLibertas76 Probably around $90 for a pair...</td>\n",
       "      <td>2022-03-08 16:53:41+00:00</td>\n",
       "      <td>153109119</td>\n",
       "    </tr>\n",
       "    <tr>\n",
       "      <th>1</th>\n",
       "      <td>1501239693492559880</td>\n",
       "      <td>@surferliv Hi, Thanks for your message, we're ...</td>\n",
       "      <td>2022-03-08 16:53:29+00:00</td>\n",
       "      <td>3651405317</td>\n",
       "    </tr>\n",
       "    <tr>\n",
       "      <th>2</th>\n",
       "      <td>1501237770806833157</td>\n",
       "      <td>@knivd @aradiogurl The fun about it is that th...</td>\n",
       "      <td>2022-03-08 16:45:50+00:00</td>\n",
       "      <td>2262329527</td>\n",
       "    </tr>\n",
       "    <tr>\n",
       "      <th>3</th>\n",
       "      <td>1501233975913713665</td>\n",
       "      <td>Check out this listing I just added to my #Pos...</td>\n",
       "      <td>2022-03-08 16:30:46+00:00</td>\n",
       "      <td>1495417692483772416</td>\n",
       "    </tr>\n",
       "    <tr>\n",
       "      <th>4</th>\n",
       "      <td>1501233341437136898</td>\n",
       "      <td>Check out this listing I just added to my #Pos...</td>\n",
       "      <td>2022-03-08 16:28:14+00:00</td>\n",
       "      <td>1495417692483772416</td>\n",
       "    </tr>\n",
       "  </tbody>\n",
       "</table>\n",
       "</div>"
      ],
      "text/plain": [
       "                    id                                               text  \\\n",
       "0  1501239745518702594  @LadyLibertas76 Probably around $90 for a pair...   \n",
       "1  1501239693492559880  @surferliv Hi, Thanks for your message, we're ...   \n",
       "2  1501237770806833157  @knivd @aradiogurl The fun about it is that th...   \n",
       "3  1501233975913713665  Check out this listing I just added to my #Pos...   \n",
       "4  1501233341437136898  Check out this listing I just added to my #Pos...   \n",
       "\n",
       "                       date            author_id  \n",
       "0 2022-03-08 16:53:41+00:00            153109119  \n",
       "1 2022-03-08 16:53:29+00:00           3651405317  \n",
       "2 2022-03-08 16:45:50+00:00           2262329527  \n",
       "3 2022-03-08 16:30:46+00:00  1495417692483772416  \n",
       "4 2022-03-08 16:28:14+00:00  1495417692483772416  "
      ]
     },
     "execution_count": 36,
     "metadata": {},
     "output_type": "execute_result"
    }
   ],
   "source": [
    "asics_df.head()"
   ]
  }
 ],
 "metadata": {
  "kernelspec": {
   "display_name": "ironhack",
   "language": "python",
   "name": "myenv"
  },
  "language_info": {
   "codemirror_mode": {
    "name": "ipython",
    "version": 3
   },
   "file_extension": ".py",
   "mimetype": "text/x-python",
   "name": "python",
   "nbconvert_exporter": "python",
   "pygments_lexer": "ipython3",
   "version": "3.8.5"
  }
 },
 "nbformat": 4,
 "nbformat_minor": 5
}
