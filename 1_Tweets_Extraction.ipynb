{
 "cells": [
  {
   "cell_type": "markdown",
   "id": "8351f541",
   "metadata": {},
   "source": [
    "## Configuración inical."
   ]
  },
  {
   "cell_type": "markdown",
   "id": "01c38e50",
   "metadata": {},
   "source": [
    "**Importamos librerías.**"
   ]
  },
  {
   "cell_type": "code",
   "execution_count": 12,
   "id": "84c3206d",
   "metadata": {
    "collapsed": true
   },
   "outputs": [],
   "source": [
    "import tweepy\n",
    "\n",
    "import config\n",
    "\n",
    "from src.extraction_functions import *\n",
    "\n",
    "import pandas as pd"
   ]
  },
  {
   "cell_type": "markdown",
   "id": "63ae6be2",
   "metadata": {},
   "source": [
    "**Nos autenticamos con nuestros tokens a través de nuestra función para configurar el cliente.**"
   ]
  },
  {
   "cell_type": "code",
   "execution_count": 13,
   "id": "fcae3483",
   "metadata": {},
   "outputs": [
    {
     "data": {
      "text/plain": [
       "<tweepy.client.Client at 0x7efee73be040>"
      ]
     },
     "execution_count": 13,
     "metadata": {},
     "output_type": "execute_result"
    }
   ],
   "source": [
    "getClient()"
   ]
  },
  {
   "cell_type": "markdown",
   "id": "6989921b",
   "metadata": {},
   "source": [
    "## Nike related Tweets."
   ]
  },
  {
   "cell_type": "markdown",
   "id": "f2223d11",
   "metadata": {},
   "source": [
    "**Extraemos los tweets en los que se menciona a Nike.**\n",
    "\n",
    "En la query configuramos que se descarten los retweets (buscamos tweets originales y nos evitamos posibles tweets duplicados) y que el texto sea en inglés (nos ofrecerá resultados mucho mejores en el modelo de NLP)."
   ]
  },
  {
   "cell_type": "code",
   "execution_count": null,
   "id": "9f21b9b1",
   "metadata": {},
   "outputs": [],
   "source": [
    "query_results = single_searchTweets('nike -is:retweet lang:en')[0]\n",
    "token = single_searchTweets('nike -is:retweet lang:en')[1]\n",
    "\n",
    "query = ['setting','while']\n",
    "\n",
    "while query[1]:\n",
    "    query = all_searchTweets('nike -is:retweet lang:en', token)\n",
    "    print(query[1])\n",
    "    query_results += query[0]\n",
    "    token = query[1]"
   ]
  },
  {
   "cell_type": "code",
   "execution_count": 12,
   "id": "52ef7a34",
   "metadata": {},
   "outputs": [
    {
     "data": {
      "text/plain": [
       "29804"
      ]
     },
     "execution_count": 12,
     "metadata": {},
     "output_type": "execute_result"
    }
   ],
   "source": [
    "len(query_results) # Hemos recopilado un total de 29.804 tweets en los que se menciona a Nike."
   ]
  },
  {
   "cell_type": "markdown",
   "id": "0a1b3615",
   "metadata": {},
   "source": [
    "**Exportamos los datos de nike a un archivo csv.**"
   ]
  },
  {
   "cell_type": "code",
   "execution_count": 24,
   "id": "314e13bc",
   "metadata": {
    "collapsed": true
   },
   "outputs": [],
   "source": [
    "nike_df = pd.DataFrame(query_results)\n",
    "\n",
    "nike_df.to_csv('data/nike.csv')"
   ]
  },
  {
   "cell_type": "code",
   "execution_count": 46,
   "id": "95835db4",
   "metadata": {},
   "outputs": [
    {
     "data": {
      "text/html": [
       "<div>\n",
       "<style scoped>\n",
       "    .dataframe tbody tr th:only-of-type {\n",
       "        vertical-align: middle;\n",
       "    }\n",
       "\n",
       "    .dataframe tbody tr th {\n",
       "        vertical-align: top;\n",
       "    }\n",
       "\n",
       "    .dataframe thead th {\n",
       "        text-align: right;\n",
       "    }\n",
       "</style>\n",
       "<table border=\"1\" class=\"dataframe\">\n",
       "  <thead>\n",
       "    <tr style=\"text-align: right;\">\n",
       "      <th></th>\n",
       "      <th>id</th>\n",
       "      <th>text</th>\n",
       "      <th>date</th>\n",
       "      <th>author_id</th>\n",
       "    </tr>\n",
       "  </thead>\n",
       "  <tbody>\n",
       "    <tr>\n",
       "      <th>0</th>\n",
       "      <td>1499705431329017864</td>\n",
       "      <td>@ZubyMusic @LPMisesCaucus Nobody cares about N...</td>\n",
       "      <td>2022-03-04 11:16:52+00:00</td>\n",
       "      <td>949655415658336256</td>\n",
       "    </tr>\n",
       "    <tr>\n",
       "      <th>1</th>\n",
       "      <td>1499705375129366530</td>\n",
       "      <td>@PoojaPraharaj @IndiainUkraine @PMOIndia @MEAI...</td>\n",
       "      <td>2022-03-04 11:16:39+00:00</td>\n",
       "      <td>1097779100670779392</td>\n",
       "    </tr>\n",
       "    <tr>\n",
       "      <th>2</th>\n",
       "      <td>1499705344259506179</td>\n",
       "      <td>@DocumentWomen Nike Okundaye. Also knowns Nike...</td>\n",
       "      <td>2022-03-04 11:16:31+00:00</td>\n",
       "      <td>1213598509166804992</td>\n",
       "    </tr>\n",
       "    <tr>\n",
       "      <th>3</th>\n",
       "      <td>1499705294359777286</td>\n",
       "      <td>Day 4 of #maxmadness #AirMaxMonth \\nNike Air M...</td>\n",
       "      <td>2022-03-04 11:16:20+00:00</td>\n",
       "      <td>1334875428172034049</td>\n",
       "    </tr>\n",
       "    <tr>\n",
       "      <th>4</th>\n",
       "      <td>1499705239888449538</td>\n",
       "      <td>@MagMr44 @soleguru @nikestore @Nike @SneakerAd...</td>\n",
       "      <td>2022-03-04 11:16:07+00:00</td>\n",
       "      <td>1649250498</td>\n",
       "    </tr>\n",
       "  </tbody>\n",
       "</table>\n",
       "</div>"
      ],
      "text/plain": [
       "                    id                                               text  \\\n",
       "0  1499705431329017864  @ZubyMusic @LPMisesCaucus Nobody cares about N...   \n",
       "1  1499705375129366530  @PoojaPraharaj @IndiainUkraine @PMOIndia @MEAI...   \n",
       "2  1499705344259506179  @DocumentWomen Nike Okundaye. Also knowns Nike...   \n",
       "3  1499705294359777286  Day 4 of #maxmadness #AirMaxMonth \\nNike Air M...   \n",
       "4  1499705239888449538  @MagMr44 @soleguru @nikestore @Nike @SneakerAd...   \n",
       "\n",
       "                       date            author_id  \n",
       "0 2022-03-04 11:16:52+00:00   949655415658336256  \n",
       "1 2022-03-04 11:16:39+00:00  1097779100670779392  \n",
       "2 2022-03-04 11:16:31+00:00  1213598509166804992  \n",
       "3 2022-03-04 11:16:20+00:00  1334875428172034049  \n",
       "4 2022-03-04 11:16:07+00:00           1649250498  "
      ]
     },
     "execution_count": 46,
     "metadata": {},
     "output_type": "execute_result"
    }
   ],
   "source": [
    "nike_df.head()"
   ]
  },
  {
   "cell_type": "markdown",
   "id": "4c4f2419",
   "metadata": {},
   "source": [
    "## Adidas related Tweets."
   ]
  },
  {
   "cell_type": "markdown",
   "id": "af6fbeaf",
   "metadata": {},
   "source": [
    "**Extraemos los tweets en los que se menciona a Adidas.**\n",
    "\n",
    "De nuevo, configuramos la query para descartar los retweets y extraer únicamente los tweets en los que el texto sea en inglés."
   ]
  },
  {
   "cell_type": "code",
   "execution_count": null,
   "id": "ecf117ef",
   "metadata": {},
   "outputs": [],
   "source": [
    "query_results = single_searchTweets('adidas -is:retweet lang:en')[0]\n",
    "token = single_searchTweets('adidas -is:retweet lang:en')[1]\n",
    "\n",
    "query = ['setting','while']\n",
    "\n",
    "while len(query_results) < 29804:    # Fijamos el mismo número de tweets que los obtenidos para Nike.\n",
    "    query = all_searchTweets('nike -is:retweet lang:en', token)\n",
    "    print(query[1])\n",
    "    query_results += query[0]\n",
    "    token = query[1]"
   ]
  },
  {
   "cell_type": "code",
   "execution_count": 42,
   "id": "72363640",
   "metadata": {},
   "outputs": [
    {
     "data": {
      "text/plain": [
       "29816"
      ]
     },
     "execution_count": 42,
     "metadata": {},
     "output_type": "execute_result"
    }
   ],
   "source": [
    "len(query_results)"
   ]
  },
  {
   "cell_type": "markdown",
   "id": "7a23a472",
   "metadata": {},
   "source": [
    "**Exportamos los datos de adidas a un archivo csv.**"
   ]
  },
  {
   "cell_type": "code",
   "execution_count": 43,
   "id": "626de890",
   "metadata": {
    "collapsed": true
   },
   "outputs": [],
   "source": [
    "adidas_df = pd.DataFrame(query_results)\n",
    "\n",
    "adidas_df.to_csv('data/adidas.csv')"
   ]
  },
  {
   "cell_type": "code",
   "execution_count": 45,
   "id": "3b70027e",
   "metadata": {},
   "outputs": [
    {
     "data": {
      "text/html": [
       "<div>\n",
       "<style scoped>\n",
       "    .dataframe tbody tr th:only-of-type {\n",
       "        vertical-align: middle;\n",
       "    }\n",
       "\n",
       "    .dataframe tbody tr th {\n",
       "        vertical-align: top;\n",
       "    }\n",
       "\n",
       "    .dataframe thead th {\n",
       "        text-align: right;\n",
       "    }\n",
       "</style>\n",
       "<table border=\"1\" class=\"dataframe\">\n",
       "  <thead>\n",
       "    <tr style=\"text-align: right;\">\n",
       "      <th></th>\n",
       "      <th>id</th>\n",
       "      <th>text</th>\n",
       "      <th>date</th>\n",
       "      <th>author_id</th>\n",
       "    </tr>\n",
       "  </thead>\n",
       "  <tbody>\n",
       "    <tr>\n",
       "      <th>0</th>\n",
       "      <td>1499737235675140098</td>\n",
       "      <td>@Coop8517 Because my lad is a div he won't wea...</td>\n",
       "      <td>2022-03-04 13:23:15+00:00</td>\n",
       "      <td>222816617</td>\n",
       "    </tr>\n",
       "    <tr>\n",
       "      <th>1</th>\n",
       "      <td>1499737227760259077</td>\n",
       "      <td>@shirtsinthshire beside wrong nameset, its lik...</td>\n",
       "      <td>2022-03-04 13:23:13+00:00</td>\n",
       "      <td>1258109697975934976</td>\n",
       "    </tr>\n",
       "    <tr>\n",
       "      <th>2</th>\n",
       "      <td>1499737070461665286</td>\n",
       "      <td>@ChefLerrie @Jakjakph1 Yes dude sa Adidas webs...</td>\n",
       "      <td>2022-03-04 13:22:36+00:00</td>\n",
       "      <td>825235525963386880</td>\n",
       "    </tr>\n",
       "    <tr>\n",
       "      <th>3</th>\n",
       "      <td>1499736971912130560</td>\n",
       "      <td>Footlocker is solely focusing on only selling ...</td>\n",
       "      <td>2022-03-04 13:22:12+00:00</td>\n",
       "      <td>1976820866</td>\n",
       "    </tr>\n",
       "    <tr>\n",
       "      <th>4</th>\n",
       "      <td>1499736937753575427</td>\n",
       "      <td>adidas Yeezy Boost 350 Pirate Black V1 (Infant...</td>\n",
       "      <td>2022-03-04 13:22:04+00:00</td>\n",
       "      <td>1456387795614724100</td>\n",
       "    </tr>\n",
       "  </tbody>\n",
       "</table>\n",
       "</div>"
      ],
      "text/plain": [
       "                    id                                               text  \\\n",
       "0  1499737235675140098  @Coop8517 Because my lad is a div he won't wea...   \n",
       "1  1499737227760259077  @shirtsinthshire beside wrong nameset, its lik...   \n",
       "2  1499737070461665286  @ChefLerrie @Jakjakph1 Yes dude sa Adidas webs...   \n",
       "3  1499736971912130560  Footlocker is solely focusing on only selling ...   \n",
       "4  1499736937753575427  adidas Yeezy Boost 350 Pirate Black V1 (Infant...   \n",
       "\n",
       "                       date            author_id  \n",
       "0 2022-03-04 13:23:15+00:00            222816617  \n",
       "1 2022-03-04 13:23:13+00:00  1258109697975934976  \n",
       "2 2022-03-04 13:22:36+00:00   825235525963386880  \n",
       "3 2022-03-04 13:22:12+00:00           1976820866  \n",
       "4 2022-03-04 13:22:04+00:00  1456387795614724100  "
      ]
     },
     "execution_count": 45,
     "metadata": {},
     "output_type": "execute_result"
    }
   ],
   "source": [
    "adidas_df.head()"
   ]
  },
  {
   "cell_type": "markdown",
   "id": "4bba422d",
   "metadata": {},
   "source": [
    "## Asics related Tweets."
   ]
  },
  {
   "cell_type": "markdown",
   "id": "bb1eb66b",
   "metadata": {},
   "source": [
    "**Extraemos los tweets en los que se menciona a Asics.**\n",
    "\n",
    "De nuevo, configuramos la query para descartar los retweets y extraer únicamente los tweets en los que el texto sea en inglés."
   ]
  },
  {
   "cell_type": "code",
   "execution_count": 28,
   "id": "ce743cea",
   "metadata": {
    "collapsed": true
   },
   "outputs": [
    {
     "name": "stdout",
     "output_type": "stream",
     "text": [
      "b26v89c19zqg8o3fpe78ongaseal1qobopua75ri5527x\n",
      "b26v89c19zqg8o3fpe78ong0920mz5ufkcqnmncprgfb1\n",
      "b26v89c19zqg8o3fpe78ong02yo1yoywo45q5j3pbeirh\n",
      "b26v89c19zqg8o3fpe78onfpi5oro51jmxwf3xv4ixvnh\n",
      "b26v89c19zqg8o3fpe78onfp91ycswv75alxjyuzsw1od\n",
      "b26v89c19zqg8o3fpe78oldogmlqi94qghbbcrdmw7lh9\n",
      "b26v89c19zqg8o3fpe78oldo91hushixmfgx09agit5dp\n",
      "b26v89c19zqg8o3fpe78olddjnsd93it6ush1254odoxp\n",
      "b26v89c19zqg8o3fpe78old2xawjvdbpljtizs6cbwltp\n",
      "b26v89c19zqg8o3fpe78old2ppkt62yk8mhn00f7tsvp9\n",
      "b26v89c19zqg8o3fpe78olcs1upquk6iogor3f5u2m16l\n",
      "b26v89c19zqg8o3fpe78olcrvs7x1fjtj1jkua2av3s71\n",
      "b26v89c19zqg8o3fpe78olchayll5337s90ivdraaubnh\n",
      "b26v89c19zqg8o3fpe78olch1uvbp1r2js2mh0rh2k60t\n",
      "b26v89c19zqg8o3fpe78olc6ihy4hoizflbcl465mvzp9\n",
      "b26v89c19zqg8o3fpe78olc69fhnejh0ij7rvn9x74pkt\n",
      "b26v89c19zqg8o3fpe78olbvljrst3t810twxl84svb7h\n",
      "b26v89c19zqg8o3fpe78olbvfha02elt2u8jozwswisfx\n",
      "b26v89c19zqg8o3fpe78olbkulirpawfmfkjyx65rhf25\n",
      "b26v89c19zqg8o3fpe78olbklifgkqdxuws1772yoepod\n",
      "b26v89c19zqg8o3fpe78olba0nj0fvpky7uq8ixuf6zr1\n",
      "b26v89c19zqg8o3fpe78olazeb2eqpdghw6v9iwhe8gal\n",
      "b26v89c19zqg8o3fpe78olaz6pqq6f7z7x10a52k4kd4t\n",
      "b26v89c19zqg8o3fpe78oj8ycuz3faibawm5tp89gdj0d\n",
      "b26v89c19zqg8o3fpe78oj8y6s27d9740h1q4f5ghzekd\n",
      "b26v89c19zqg8o3fpe78oj8y0pzpieq6hljwcubpsr81p\n",
      "b26v89c19zqg8o3fpe78oj8nivhbucj60seaihwbanblp\n",
      "b26v89c19zqg8o3fpe78oj8ncu2cvmk1rkiiuob12oqyl\n",
      "b26v89c19zqg8o3fpe78oj8n88paimj2snm8o2kdnar99\n",
      "b26v89c19zqg8o3fpe78oj8cngcvbs8emb8khiq4docxp\n",
      "b26v89c19zqg8o3fpe78oj8cius7omv3e8q8dya3novb1\n",
      "b26v89c19zqg8o3fpe78oj8ceapg1ls9mehjbge5sbypp\n",
      "b26v89c19zqg8o3fpe78oj81wiqyzk0y3ulf2mh9pihz1\n",
      "b26v89c19zqg8o3fpe78oj81qgwin29hqoy92jwfso6t9\n",
      "b26v89c19zqg8o3fpe78oj81lwluwk911laf24uxt9qpp\n",
      "b26v89c19zqg8o3fpe78oj7r42y57c0ql354zakldun3x\n",
      "b26v89c19zqg8o3fpe78oj7qzinnywydfsulvvnetm6wt\n",
      "b26v89c19zqg8o3fpe78oj7qtgl9e8q5bd3lseayfi1rx\n",
      "b26v89c19zqg8o3fpe78oj7ga4qnae21s9end0z85t4l9\n",
      "b26v89c19zqg8o3fpe78oj7g5kvgxtduko1355fduf7nh\n",
      "b26v89c19zqg8o3fpe78oj7g117so3fqipspuwggqzy4d\n",
      "b26v89c19zqg8o3fpe78oj75j7rxydys1k6oku6z70pkt\n",
      "b26v89c19zqg8o3fpe78oj75eo48l0v7cevhgytqy9n5p\n",
      "b26v89c19zqg8o3fpe78oj758m9lq5ciqgsqbgpn5qcu5\n",
      "b26v89c19zqg8o3fpe78oj6uqu3t48kwbw1uoyf3d3rst\n",
      "b26v89c19zqg8o3fpe78oj6unrd4jbnfccmk3xqvosnel\n",
      "b26v89c19zqg8o3fpe78oj6uj7pmppin51qex3ws5wtx9\n",
      "b26v89c19zqg8o3fpe78oj6jzwxe6ov46lcoz3b15clml\n",
      "b26v89c19zqg8o3fpe78oj6jvd24md2zwi7hm03ci01a5\n",
      "b26v89c19zqg8o3fpe78oj6jqsc4xqkjdwqgqgk2qwrct\n",
      "b26v89c19zqg8o3fpe78oj698zbm7zb11hp6dm1lr5xml\n",
      "b26v89c19zqg8o3fpe78oj694f10nk317rvuogjlymqgt\n",
      "b26v89c19zqg8o3fpe78oj68ydtfe6ah5k33nf2lfhhml\n",
      "b26v89c19zqg8o3fpe78oj68vbafb0a4c5jm8i6yjx4l9\n",
      "b26v89c19zqg8o3fpe78oh484g2bdzlq73amyf1muage5\n",
      "b26v89c19zqg8o3fpe78oh47zw71swl564q5ip7pctg1p\n",
      "b26v89c19zqg8o3fpe78oh47vdlxjyrmp6nbei3zbjwcd\n",
      "b26v89c19zqg8o3fpe78oh3xf25cwgewecluo5ks3w519\n",
      "b26v89c19zqg8o3fpe78oh3xaj4p3nz0e6o3pbhnx6vzx\n",
      "b26v89c19zqg8o3fpe78oh3x5z9fh7tpvcmz631u8xxml\n",
      "b26v89c19zqg8o3fpe78oh3x2xt0jujo1cromhy49vrst\n",
      "b26v89c19zqg8o3fpe78oh3ml5n5sglsbr4f14dkpw41p\n",
      "b26v89c19zqg8o3fpe78oh3mi4e7rkjvhk99rtnlesfwd\n",
      "b26v89c19zqg8o3fpe78oh3mgl500bfa7il9r0k3z9ugt\n",
      "b26v89c19zqg8o3fpe78oh3mf22ye75dosdkahuw5g29p\n",
      "b26v89c19zqg8o3fpe78oh3maiv16etujfuxwhrikfnnh\n",
      "b26v89c19zqg8o3fpe78oh3bu7eb4b4jmpie25gjq2071\n",
      "b26v89c19zqg8o3fpe78oh3bpo66cba7zvpy8uwj6xd31\n",
      "b26v89c19zqg8o3fpe78oh3bl55p0jnt6vt7uswg1ocjh\n",
      "b26v89c19zqg8o3fpe78oh3bgkuvxl4u3gtue4qw427wd\n",
      "b26v89c19zqg8o3fpe78oh310a91cp9w00987o6rkz1x9\n",
      "b26v89c19zqg8o3fpe78oh30vqlmragqo5sj86y1n93st\n",
      "b26v89c19zqg8o3fpe78oh30r75q8fmtfzpgsxwe59mkd\n",
      "b26v89c19zqg8o3fpe78oh30o5ws8lqblzg1rtu6cm0l9\n",
      "b26v89c19zqg8o3fpe78oh2q7vik24ga5b6v6rr4bshvh\n",
      "b26v89c19zqg8o3fpe78oh2q4tf4kh7m8uwv9d2rjna7x\n",
      "b26v89c19zqg8o3fpe78oh2q0aeoci6qtteccab0ylyt9\n",
      "b26v89c19zqg8o3fpe78oh2px7vsl6qiqzwlflu46hwu5\n",
      "b26v89c19zqg8o3fpe78oh2fffxfuzpiquz4adjbx2qnx\n",
      "b26v89c19zqg8o3fpe78oh2fce95wfjenp3avqrym4scd\n",
      "b26v89c19zqg8o3fpe78oh2f7utfuqi3wbtpfdl7bfrst\n",
      "b26v89c19zqg8o3fpe78oh2f3aqn4o0mduhwtwn9xwnlp\n",
      "b26v89c19zqg8o3fpe78oh24mzhmnt5hui2sur42xtr3x\n",
      "b26v89c19zqg8o3fpe78oh24jy8nlefvb3ezf0hpuk1vh\n",
      "b26v89c19zqg8o3fpe78oh24gws4cmxxpzrp8xmuuai65\n",
      "b26v89c19zqg8o3fpe78oh24cdzbjitc9rmkf4l7kw399\n",
      "b26v89c19zqg8o3fpe78oh1tw35sfz8uwccq2dn5ib7ul\n",
      "b26v89c19zqg8o3fpe78oh1tt1hr4tauh8ub8ckzcthml\n",
      "b26v89c19zqg8o3fpe78oh1tpzlobfzlnmoi78vjndjst\n",
      "b26v89c19zqg8o3fpe78oh1tlgdlpza25ardc725fngjh\n",
      "b26v89c19zqg8o3fpe78oh1j3nkn6vftnc2ut9afvh5rx\n",
      "b26v89c19zqg8o3fpe78oh1j0mr4eqpbvfagmsspgpshp\n",
      "b26v89c19zqg8o3fpe78oh1ixm5gnnch5bxiadt8pr3wd\n",
      "b26v89c19zqg8o3fpe78oh1iukh9y1qg95incwdlnn531\n",
      "b26v89c19zqg8o3fpe78oh1irjntarwvzacvxpf2v0bct\n",
      "b26v89c19zqg8o3fpe78oh1ipz44cjbj4giqd5um13c71\n",
      "b26v89c19zqg8o3fpe78oezhz565r7jgq5voyrtfij98d\n",
      "b26v89c19zqg8o3fpe78oezhw2n2fzp4c52ccamj59unx\n",
      "b26v89c19zqg8o3fpe78oezhq1uyk881b3yt1zmnmssxp\n",
      "b26v89c19zqg8o3fpe78oez79qm6q075900nubaum5a4d\n",
      "b26v89c19zqg8o3fpe78oez73oc1f8bg8juqx7uqxmpvh\n",
      "b26v89c19zqg8o3fpe78oez6z53ytm9mzzfdkubnyqkcd\n",
      "b26v89c19zqg8o3fpe78oeywhbvocp21nu8zo3pus1i7x\n",
      "b26v89c19zqg8o3fpe78oeywcs0dnyptvd39puhrla1z1\n",
      "b26v89c19zqg8o3fpe78oeyw9qc2nfb9ho98wl3g2pmkd\n",
      "b26v89c19zqg8o3fpe78oeyw56w9bk0j9kz5gf1n5ssxp\n",
      "b26v89c19zqg8o3fpe78oeylneb2lqum3783wc4vcvnnh\n",
      "b26v89c19zqg8o3fpe78oeylkc7fkt0xxmi75up7y37nh\n",
      "b26v89c19zqg8o3fpe78oeylfrp8prwndk3ini01e7erh\n",
      "b26v89c19zqg8o3fpe78oeylb9bqus9h6enhzv3ond9j1\n",
      "b26v89c19zqg8o3fpe78oeyatedxzsjjtqtrf5uuyhjel\n",
      "b26v89c19zqg8o3fpe78oeyalu4serzlxymp3awa4jd6l\n",
      "b26v89c19zqg8o3fpe78oey010pzmhy9hhaoor4advse5\n",
      "b26v89c19zqg8o3fpe78oexzuxt3k603eeqztt2pked8d\n",
      "b26v89c19zqg8o3fpe78oexpbmdp4vcc1d28a5qtivipp\n",
      "b26v89c19zqg8o3fpe78oexp41osg3namsnkugildg325\n",
      "b26v89c19zqg8o3fpe78oexej708evh8mlwd6g7h26hz1\n",
      "b26v89c19zqg8o3fpe78oexed3g36u9ewdo6b2vlwo5tp\n",
      "b26v89c19zqg8o3fpe78oex3qr7em72g3czd6m5o3if7h\n",
      "b26v89c19zqg8o3fpe78oex3hmm7i9bto6b6pi6srya2l\n",
      "b26v89c19zqg8o3fpe78oewsvbfmsmhzqijr8oq7m8sql\n",
      "b26v89c19zqg8o3fpe78oewsnoeerzwgmqhl1v7ie9dvh\n",
      "b26v89c19zqg8o3fpe78ocurvc9efftuvbj8v6ql9mg71\n",
      "b26v89c19zqg8o3fpe78ocurp9jtwd1b9lgvhljtde2d9\n",
      "b26v89c19zqg8o3fpe78ocuh4fafd5gvgsp07jv1q7rzx\n",
      "b26v89c19zqg8o3fpe78ocugyc5tonz7mawahz2wrrwql\n",
      "b26v89c19zqg8o3fpe78ocu6c04n6kmv8so0qp9nrx9bx\n",
      "b26v89c19zqg8o3fpe78ocu61drq92p45oms5aolnfud9\n",
      "b26v89c19zqg8o3fpe78octvghsyqznguyzec52bk1oql\n",
      "b26v89c19zqg8o3fpe78octkr4qlz0ovrg9g63nwrkeil\n",
      "b26v89c19zqg8o3fpe78octkl2gjxtdbx4o7pg5k6k3ul\n",
      "b26v89c19zqg8o3fpe78octkez4czhbnyy3d2cmp2lu2l\n",
      "b26v89c19zqg8o3fpe78oct9u5xf76hsb3glqq2wz1im5\n",
      "b26v89c19zqg8o3fpe78oct9ml8p13t7wxmg1u7ijgl19\n",
      "b26v89c19zqg8o3fpe78ocsz4rspzumrwjuwjwmaa788t\n",
      "b26v89c19zqg8o3fpe78ocsyyp38qy927amynuqzlafzx\n",
      "b26v89c19zqg8o3fpe78ocsysn0v71f9egmoofidubg59\n",
      "b26v89c19zqg8o3fpe78ocsoasqfu1qt5mcg6uwes06f1\n",
      "b26v89c19zqg8o3fpe78ocso6acqc9tvfs6m5egqgjo1p\n",
      "b26v89c19zqg8o3fpe78ocso1pmx4t73smx871kbwygsd\n",
      "b26v89c19zqg8o3fpe78ocsdjvz6dm0cxq9g1shffqttp\n",
      "b26v89c19zqg8o3fpe78ocsdfcbj4nedgzjzzb5xcd9bx\n",
      "b26v89c19zqg8o3fpe78ocsdas8m4uw2ebwxg8gk7s2v1\n",
      "b26v89c19zqg8o3fpe78ocs2sz87q1difu1ljzp4e3jb1\n",
      "b26v89c19zqg8o3fpe78ocs2my88tztj2xdi7hqufj8n1\n",
      "b26v89c19zqg8o3fpe78ocs2idiejcjqg5j6eiysyh8cd\n",
      "b26v89c19zqg8o3fpe78oaq1rix4o2hasdi9alahun9ml\n",
      "b26v89c19zqg8o3fpe78oaq1mz9mtuhu2lwe8v5qg0m0t\n",
      "b26v89c19zqg8o3fpe78oaq1jxt1e8r8uaba9gow1x56l\n",
      "b26v89c19zqg8o3fpe78oaq1fdq270cjmkuo48hp1x0u5\n",
      "b26v89c19zqg8o3fpe78oapqz21qtumbo6c8lj7n8ttvh\n",
      "b26v89c19zqg8o3fpe78oapquj9074a8xxo31z7z0c29p\n",
      "b26v89c19zqg8o3fpe78oapqri03b8ntv9k4lye6cbtz1\n",
      "b26v89c19zqg8o3fpe78oapqofwjii1xqps9rr7z2wscd\n",
      "b26v89c19zqg8o3fpe78oapg54p1681t791xuz7crve65\n",
      "b26v89c19zqg8o3fpe78oapfz2uc5vhh9wstxfw6yttvh\n",
      "b26v89c19zqg8o3fpe78oapfuijqmyxdakm9skk8nd5z1\n",
      "b26v89c19zqg8o3fpe78oap5cpja1ru0f6zon59ohiqgt\n",
      "b26v89c19zqg8o3fpe78oap584lhj3ggd5ppsg0odx7y5\n",
      "b26v89c19zqg8o3fpe78oap53kqdcwduq5eksbmj74wvx\n",
      "b26v89c19zqg8o3fpe78oaoukasroltg3mklz88ago7st\n",
      "b26v89c19zqg8o3fpe78oaouh9c30ni3hms1ey8hf4131\n",
      "b26v89c19zqg8o3fpe78oaoucponc7cld8fhw06ixsvb1\n",
      "b26v89c19zqg8o3fpe78oaou9n5rlcdarita562xpxcal\n",
      "b26v89c19zqg8o3fpe78oaojrvf6nddis7obj7ffmmkjh\n",
      "b26v89c19zqg8o3fpe78oaojosongfq8u0frduxbsmgl9\n",
      "b26v89c19zqg8o3fpe78oaojk9vshurpnwmkolcjcrd6l\n",
      "b26v89c19zqg8o3fpe78oaojh7cvo3vey58ej85zih20t\n",
      "b26v89c19zqg8o3fpe78oao8zfesna1qhb77ch6zzxy0t\n",
      "b26v89c19zqg8o3fpe78oao8uwe5x8aftcbeu3qlmesu5\n",
      "b26v89c19zqg8o3fpe78oao8rv5b6o3fmjnvgzitwgc59\n",
      "b26v89c19zqg8o3fpe78oao8ot9h1g6gx6mnwy627nd6l\n",
      "b26v89c19zqg8o3fpe78oany8hswbt3ity0re0ne77lvh\n",
      "b26v89c19zqg8o3fpe78oany5gcgahphz9471ofs5a2yl\n",
      "b26v89c19zqg8o3fpe78oany0woxfi7qjmzf8lxsfu7wd\n",
      "b26v89c19zqg8o3fpe78oanxxvfu0c40l1816tu346hz1\n",
      "b26v89c19zqg8o3fpe78oanng3pfj89wph30qmu8sbcsd\n",
      "b26v89c19zqg8o3fpe78oannd2oepg7y3qja4q6zsvbzx\n",
      "b26v89c19zqg8o3fpe78oanna0ktul7j1lm8s1hz6at8d\n"
     ]
    },
    {
     "name": "stdout",
     "output_type": "stream",
     "text": [
      "b26v89c19zqg8o3fpe78oann6ywo7q1lzqrs236i65bp9\n",
      "b26v89c19zqg8o3fpe78oann2gj8gzoe5vw6lwmutelbx\n",
      "b26v89c19zqg8o3fpe78oancm52d05pmlcjpsjbjm9im5\n",
      "b26v89c19zqg8o3fpe78oancj3lwz53xzuma3acxfzn25\n",
      "b26v89c19zqg8o3fpe78oancg2se6p80sq1nu8nvjcm0t\n",
      "b26v89c19zqg8o3fpe78oancej3kpiwaxfortvw45rq7x\n",
      "b26v89c19zqg8o3fpe78oancbi2isv0ftd5y1cokvvgcd\n",
      "b26v89c19zqg8o3fpe78o8lbm5w3kjhkvxdydiiyyiu7x\n",
      "b26v89c19zqg8o3fpe78o8lbj4n6nwadwm59rovfmf7nh\n",
      "b26v89c19zqg8o3fpe78o8lbg36ncurihp77jw66iezr1\n",
      "b26v89c19zqg8o3fpe78o8lbbke25rpr2nz049uezz919\n",
      "b26v89c19zqg8o3fpe78o8lb8ipq0trurbvb95jimzou5\n",
      "b26v89c19zqg8o3fpe78o8l0s9690s0jytwsf9jjr6gl9\n",
      "b26v89c19zqg8o3fpe78o8l0qomqhqekpp9505igmcarh\n",
      "b26v89c19zqg8o3fpe78o8l0nnloloe689t3l2cgkfm2l\n",
      "b26v89c19zqg8o3fpe78o8l0kn7ek2jdbjnckjr0g2f0d\n",
      "b26v89c19zqg8o3fpe78o8l0hmlrusthlor36z2ylmyrh\n",
      "b26v89c19zqg8o3fpe78o8l0g2heuu3wwva8brv9ssbjx\n",
      "b26v89c19zqg8o3fpe78o8kpzrvnk4t6hyjukgzxmuzjx\n",
      "b26v89c19zqg8o3fpe78o8kpwqmpkgbzq2qnj44e0wakd\n",
      "b26v89c19zqg8o3fpe78o8kptq0yk3b6xxoknz8rbgigt\n",
      "b26v89c19zqg8o3fpe78o8kpp7fylhht33pvz68d62y65\n",
      "b26v89c19zqg8o3fpe78o8kpnmwg31sttzqdskyk0mu7x\n",
      "b26v89c19zqg8o3fpe78o8kf7dkh58xnukrn024kenofx\n",
      "b26v89c19zqg8o3fpe78o8kf4cj9ult437wgtcziec7zx\n",
      "b26v89c19zqg8o3fpe78o8keztb8bf6n3ub7ophd6t6yl\n",
      "b26v89c19zqg8o3fpe78o8kev90jhkw4z4j32jdlc0xa5\n",
      "b26v89c19zqg8o3fpe78o8k4gfqzipojwrv6ogii3osql\n",
      "b26v89c19zqg8o3fpe78o8k4bx5yiaair2rw2nedrh8jh\n",
      "b26v89c19zqg8o3fpe78o8k47dxobus6uv2j38bnieovx\n",
      "b26v89c19zqg8o3fpe78o8k44chclxfw2atpj6ghl7vy5\n",
      "b26v89c19zqg8o3fpe78o8jtmhyxw1s1yjvsowc7p8r5p\n",
      "b26v89c19zqg8o3fpe78o8jthz62xm8u2ef75zuburmv1\n",
      "b26v89c19zqg8o3fpe78o8jtex2h068e0gzmz02bsybnh\n",
      "b26v89c19zqg8o3fpe78o8jtbve8470qkps1uuirgplz1\n",
      "b26v89c19zqg8o3fpe78o8jiu38egaukofpyje9o92yrh\n",
      "b26v89c19zqg8o3fpe78o8jipjkvji0gra30wvp9dtf25\n",
      "b26v89c19zqg8o3fpe78o8jikzhyiy17za2wzn3x0igl9\n",
      "b26v89c19zqg8o3fpe78o8j8369hjxzcjfi6k75m2xful\n",
      "b26v89c19zqg8o3fpe78o8j7ym6otklocjq4ekvfviikd\n",
      "b26v89c19zqg8o3fpe78o8j7r2kjrm8nwvhxgkbwrs58d\n",
      "b26v89c19zqg8o3fpe78o8ix994ikw89n3n9evg7ayo3h\n",
      "b26v89c19zqg8o3fpe78o8ix36mxe9203chfzx5zqb2pp\n",
      "b26v89c19zqg8o3fpe78o8iwymk0d8v3zvm1zxrvpdmkd\n",
      "b26v89c19zqg8o3fpe78o8imgtj90ul5uyl4mqx7i6tfh\n",
      "b26v89c19zqg8o3fpe78o8imargztjpea2s1kghf0x1tp\n",
      "b26v89c19zqg8o3fpe78o8im4nwzzcboay58oervlgs59\n",
      "b26v89c19zqg8o3fpe789m5wwjgksu6fng6rsmup3b4hp\n",
      "b26v89c19zqg8o3fpe789m5wqhlsk51b9jw78j81dv2pp\n",
      "b26v89c19zqg8o3fpe789m5m8nqp4ihsyscim6d3g194t\n",
      "b26v89c19zqg8o3fpe789m5lzkfgu6omep335uh35hoxp\n",
      "b26v89c19zqg8o3fpe789m5ba62zvufferwdqsdftkfi5\n",
      "b26v89c19zqg8o3fpe789m50mbv07y0ixszim2w9ikk1p\n",
      "b26v89c19zqg8o3fpe789m50epoh8kt14ben569r8dsot\n",
      "b26v89c19zqg8o3fpe789m4ptvexb8rjb3wjuyx3bw0vx\n",
      "b26v89c19zqg8o3fpe789m4pj99zp44hp2v5ax9dx0gal\n",
      "b26v89c19zqg8o3fpe789m4evcwux7uwbqjptr4gzmdfh\n",
      "b26v89c19zqg8o3fpe789m4epamrs2bjstpbqh8r25gu5\n",
      "b26v89c19zqg8o3fpe789m446029x656s3gpufmyxg8sd\n",
      "b26v89c19zqg8o3fpe789m43zwxiupdahrx11k0i7inb1\n",
      "b26v89c19zqg8o3fpe789m3tdkh4o7pxvars8di991z7h\n",
      "b26v89c19zqg8o3fpe789m3t7hrx4jezctldzhixi4qd9\n",
      "b26v89c19zqg8o3fpe789m3ijmowkj6weqrrx846cvo8t\n",
      "b26v89c19zqg8o3fpe789m3ic0ao0jg3ebdto33m3bmnx\n",
      "b26v89c19zqg8o3fpe789m37r61fx4prfw63i0vshrla5\n",
      "b26v89c19zqg8o3fpe789k16vrdb5pdcbnk3zgmvikku5\n",
      "b26v89c19zqg8o3fpe789k16mnf094pm3xwvjsdbaz7ul\n",
      "b26v89c19zqg8o3fpe789k0w1t5iffx7hpt5c1h587xbx\n",
      "b26v89c19zqg8o3fpe789k0vr70da64ja72pt9qoh8sql\n",
      "b26v89c19zqg8o3fpe789k0l7vsohbuwzpvxtklvwgqrh\n",
      "b26v89c19zqg8o3fpe789k0l0aol7syrr1fpm2kn3nmgt\n",
      "b26v89c19zqg8o3fpe789k0afha38uo2znsvptdi2hdh9\n",
      "b26v89c19zqg8o3fpe789k0a9dahr5b1432xkjq2ozr7h\n",
      "b26v89c19zqg8o3fpe789jzzn19hp0diale6esrzam7i5\n",
      "b26v89c19zqg8o3fpe789jzzgychbvz1p71w6se73p7ct\n",
      "b26v89c19zqg8o3fpe789jzoxnci37ytb9tp9436k0tq5\n",
      "b26v89c19zqg8o3fpe789jzot31ozynie6u0ng8kujpfh\n",
      "b26v89c19zqg8o3fpe789jzooibsixmqmco1quarvin3x\n",
      "b26v89c19zqg8o3fpe789jzojz3nre3yg8u050ushovwd\n",
      "b26v89c19zqg8o3fpe789jze26aunh6zi9czbumgxk3nh\n",
      "b26v89c19zqg8o3fpe789jzdw4g2es1vc1j2pvjcs46m5\n",
      "b26v89c19zqg8o3fpe789jzdt1x5kvoos6r75ogg31hml\n",
      "b26v89c19zqg8o3fpe789jz389d9fqow5gnwkxl7gh0n1\n",
      "b26v89c19zqg8o3fpe789jz326gdbvz0zxlx5q1z2p94t\n",
      "b26v89c19zqg8o3fpe789jyskcsli97kj1be21ie0f98d\n",
      "b26v89c19zqg8o3fpe789jysfspk4c132goomrc2bhkzh\n",
      "b26v89c19zqg8o3fpe789jys9qnd398hqw3tj05u2raf1\n",
      "b26v89c19zqg8o3fpe789jyhrwzohdh5jxo56ylv2zipp\n",
      "b26v89c19zqg8o3fpe789jyhluxhf35cchm7423mn8ebh\n",
      "b26v89c19zqg8o3fpe789jyhhaujavuh8k6vy366v594t\n",
      "b26v89c19zqg8o3fpe789hwgoya2nldeo0a984yzd22yl\n",
      "b26v89c19zqg8o3fpe789hwgkdzducsyavi0f3z25up31\n",
      "b26v89c19zqg8o3fpe789hwgfsu39a03yhi4k73p7qgsd\n",
      "b26v89c19zqg8o3fpe789hw5xztg8a47d7gmfdzmsnzp9\n",
      "b26v89c19zqg8o3fpe789hw5th87nsl69x56t6s3z01h9\n",
      "b26v89c19zqg8o3fpe789hw5ox59iu9ixkcxqofbzbjp9\n",
      "b26v89c19zqg8o3fpe789hw5kdhst0u5q6rwc1owxpkl9\n",
      "b26v89c19zqg8o3fpe789hvv2kh6uls5b08uxfdumevst\n",
      "b26v89c19zqg8o3fpe789hvuy0tmuwuvh7feboot4sy9p\n",
      "b26v89c19zqg8o3fpe789hvuuyalpbaldwurxmjtdhxfh\n",
      "b26v89c19zqg8o3fpe789hvkd4us3v0oshkbec1rl5471\n",
      "b26v89c19zqg8o3fpe789hvk8kzlrqosb0h6lmqvr8qrh\n",
      "b26v89c19zqg8o3fpe789hvk41jires7q8zo2pz52txfh\n",
      "b26v89c19zqg8o3fpe789hvjzh95t6281pyog9w0gw58d\n",
      "b26v89c19zqg8o3fpe789hv9hono9qcjnwi0vvlwcwgvx\n",
      "b26v89c19zqg8o3fpe789hv9d504b90tf7kw47x8bljst\n",
      "b26v89c19zqg8o3fpe789hv98lkd5gk3jjlyggzs3lcot\n",
      "b26v89c19zqg8o3fpe789huysc0tzxv06hq9cc23mtym5\n",
      "b26v89c19zqg8o3fpe789huyp9hy8bk546domu92tnddp\n",
      "b26v89c19zqg8o3fpe789huykp7bm2m52c4y996d7i0zh\n",
      "b26v89c19zqg8o3fpe789huyhnqtezb249sbd3vazjszh\n",
      "b26v89c19zqg8o3fpe789hunydlkbogkyzc7zi2gkhwu5\n",
      "b26v89c19zqg8o3fpe789huntu5llizg22fq1ktbc85ml\n",
      "b26v89c19zqg8o3fpe789hunqrufhks4e703txruhd5z1\n",
      "b26v89c19zqg8o3fpe789hunnpquly9yv4thwo97axjst\n",
      "b26v89c19zqg8o3fpe789hud5wxx6naj1bwee2ges2zct\n",
      "b26v89c19zqg8o3fpe789hud1ecu0g080dimh5eebpkl9\n",
      "b26v89c19zqg8o3fpe789hucycgyqo5dw01m83q8vjxq5\n",
      "b26v89c19zqg8o3fpe789huctstbj8eycj09x4mh6bhx9\n"
     ]
    }
   ],
   "source": [
    "query_results = single_searchTweets('asics -is:retweet lang:en')[0]\n",
    "token = single_searchTweets('asics -is:retweet lang:en')[1]\n",
    "\n",
    "query = ['setting','while']\n",
    "\n",
    "while len(query_results) < 29804:    # Fijamos el mismo número de tweets que los obtenidos para Nike.\n",
    "    query = all_searchTweets('asics -is:retweet lang:en', token)\n",
    "    print(query[1])\n",
    "    query_results += query[0]\n",
    "    token = query[1]"
   ]
  },
  {
   "cell_type": "code",
   "execution_count": 42,
   "id": "2c310a86",
   "metadata": {
    "collapsed": true
   },
   "outputs": [
    {
     "data": {
      "text/plain": [
       "29816"
      ]
     },
     "execution_count": 42,
     "metadata": {},
     "output_type": "execute_result"
    }
   ],
   "source": [
    "len(query_results)"
   ]
  },
  {
   "cell_type": "markdown",
   "id": "3ca9c5f8",
   "metadata": {},
   "source": [
    "**Exportamos los datos de adidas a un archivo csv.**"
   ]
  },
  {
   "cell_type": "code",
   "execution_count": 43,
   "id": "563100df",
   "metadata": {
    "collapsed": true
   },
   "outputs": [],
   "source": [
    "adidas_df = pd.DataFrame(query_results)\n",
    "\n",
    "adidas_df.to_csv('data/adidas.csv')"
   ]
  },
  {
   "cell_type": "code",
   "execution_count": 45,
   "id": "536c26bc",
   "metadata": {
    "collapsed": true
   },
   "outputs": [
    {
     "data": {
      "text/html": [
       "<div>\n",
       "<style scoped>\n",
       "    .dataframe tbody tr th:only-of-type {\n",
       "        vertical-align: middle;\n",
       "    }\n",
       "\n",
       "    .dataframe tbody tr th {\n",
       "        vertical-align: top;\n",
       "    }\n",
       "\n",
       "    .dataframe thead th {\n",
       "        text-align: right;\n",
       "    }\n",
       "</style>\n",
       "<table border=\"1\" class=\"dataframe\">\n",
       "  <thead>\n",
       "    <tr style=\"text-align: right;\">\n",
       "      <th></th>\n",
       "      <th>id</th>\n",
       "      <th>text</th>\n",
       "      <th>date</th>\n",
       "      <th>author_id</th>\n",
       "    </tr>\n",
       "  </thead>\n",
       "  <tbody>\n",
       "    <tr>\n",
       "      <th>0</th>\n",
       "      <td>1499737235675140098</td>\n",
       "      <td>@Coop8517 Because my lad is a div he won't wea...</td>\n",
       "      <td>2022-03-04 13:23:15+00:00</td>\n",
       "      <td>222816617</td>\n",
       "    </tr>\n",
       "    <tr>\n",
       "      <th>1</th>\n",
       "      <td>1499737227760259077</td>\n",
       "      <td>@shirtsinthshire beside wrong nameset, its lik...</td>\n",
       "      <td>2022-03-04 13:23:13+00:00</td>\n",
       "      <td>1258109697975934976</td>\n",
       "    </tr>\n",
       "    <tr>\n",
       "      <th>2</th>\n",
       "      <td>1499737070461665286</td>\n",
       "      <td>@ChefLerrie @Jakjakph1 Yes dude sa Adidas webs...</td>\n",
       "      <td>2022-03-04 13:22:36+00:00</td>\n",
       "      <td>825235525963386880</td>\n",
       "    </tr>\n",
       "    <tr>\n",
       "      <th>3</th>\n",
       "      <td>1499736971912130560</td>\n",
       "      <td>Footlocker is solely focusing on only selling ...</td>\n",
       "      <td>2022-03-04 13:22:12+00:00</td>\n",
       "      <td>1976820866</td>\n",
       "    </tr>\n",
       "    <tr>\n",
       "      <th>4</th>\n",
       "      <td>1499736937753575427</td>\n",
       "      <td>adidas Yeezy Boost 350 Pirate Black V1 (Infant...</td>\n",
       "      <td>2022-03-04 13:22:04+00:00</td>\n",
       "      <td>1456387795614724100</td>\n",
       "    </tr>\n",
       "  </tbody>\n",
       "</table>\n",
       "</div>"
      ],
      "text/plain": [
       "                    id                                               text  \\\n",
       "0  1499737235675140098  @Coop8517 Because my lad is a div he won't wea...   \n",
       "1  1499737227760259077  @shirtsinthshire beside wrong nameset, its lik...   \n",
       "2  1499737070461665286  @ChefLerrie @Jakjakph1 Yes dude sa Adidas webs...   \n",
       "3  1499736971912130560  Footlocker is solely focusing on only selling ...   \n",
       "4  1499736937753575427  adidas Yeezy Boost 350 Pirate Black V1 (Infant...   \n",
       "\n",
       "                       date            author_id  \n",
       "0 2022-03-04 13:23:15+00:00            222816617  \n",
       "1 2022-03-04 13:23:13+00:00  1258109697975934976  \n",
       "2 2022-03-04 13:22:36+00:00   825235525963386880  \n",
       "3 2022-03-04 13:22:12+00:00           1976820866  \n",
       "4 2022-03-04 13:22:04+00:00  1456387795614724100  "
      ]
     },
     "execution_count": 45,
     "metadata": {},
     "output_type": "execute_result"
    }
   ],
   "source": [
    "adidas_df.head()"
   ]
  }
 ],
 "metadata": {
  "kernelspec": {
   "display_name": "ironhack",
   "language": "python",
   "name": "myenv"
  },
  "language_info": {
   "codemirror_mode": {
    "name": "ipython",
    "version": 3
   },
   "file_extension": ".py",
   "mimetype": "text/x-python",
   "name": "python",
   "nbconvert_exporter": "python",
   "pygments_lexer": "ipython3",
   "version": "3.8.5"
  }
 },
 "nbformat": 4,
 "nbformat_minor": 5
}
