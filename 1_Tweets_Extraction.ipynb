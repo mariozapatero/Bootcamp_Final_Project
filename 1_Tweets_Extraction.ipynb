{
 "cells": [
  {
   "cell_type": "markdown",
   "id": "9b96a943",
   "metadata": {},
   "source": [
    "# Tweets Extraction."
   ]
  },
  {
   "cell_type": "markdown",
   "id": "620c96d4",
   "metadata": {},
   "source": [
    "## Configuración inical."
   ]
  },
  {
   "cell_type": "markdown",
   "id": "69a859f2",
   "metadata": {},
   "source": [
    "**Importamos librerías.**"
   ]
  },
  {
   "cell_type": "code",
   "execution_count": 1,
   "id": "139e0908",
   "metadata": {},
   "outputs": [],
   "source": [
    "import tweepy\n",
    "\n",
    "import config\n",
    "\n",
    "from src.extraction_functions import *\n",
    "\n",
    "import pandas as pd"
   ]
  },
  {
   "cell_type": "markdown",
   "id": "fdb6c752",
   "metadata": {},
   "source": [
    "**Nos autenticamos con nuestros tokens a través de nuestra función para configurar el cliente.**"
   ]
  },
  {
   "cell_type": "code",
   "execution_count": 2,
   "id": "4a177e64",
   "metadata": {},
   "outputs": [
    {
     "data": {
      "text/plain": [
       "<tweepy.client.Client at 0x7ff909fd1c70>"
      ]
     },
     "execution_count": 2,
     "metadata": {},
     "output_type": "execute_result"
    }
   ],
   "source": [
    "getClient()"
   ]
  },
  {
   "cell_type": "markdown",
   "id": "6d9fb62c",
   "metadata": {},
   "source": [
    "En realidad, este paso no es necesario porque la autenticación está incluida en las funciones de extracción que vamos a utilizar. No obstante, lo mostramos aquí para que tengamos en cuenta que debemos autenticarnos antes de hacer cualquier petición a la API de Twitter."
   ]
  },
  {
   "cell_type": "markdown",
   "id": "52647317",
   "metadata": {},
   "source": [
    "# Mercado del Equipamiento Deportivo."
   ]
  },
  {
   "cell_type": "markdown",
   "id": "74f244d8",
   "metadata": {},
   "source": [
    "## Nike related Tweets."
   ]
  },
  {
   "cell_type": "markdown",
   "id": "85c822a0",
   "metadata": {},
   "source": [
    "**Extraemos los tweets en los que se menciona a Nike.**\n",
    "\n",
    "En la query configuramos que se descarten los retweets (buscamos tweets originales y nos evitamos posibles tweets duplicados) y que el texto sea en inglés (nos ofrecerá resultados mucho mejores en el modelo de NLP)."
   ]
  },
  {
   "cell_type": "code",
   "execution_count": null,
   "id": "76097c94",
   "metadata": {},
   "outputs": [],
   "source": [
    "nike_tweets = config_searchTweets('nike -is:retweet lang:en', 30000)"
   ]
  },
  {
   "cell_type": "markdown",
   "id": "1fa6ab53",
   "metadata": {},
   "source": [
    "**Exportamos los datos de Nike a un archivo csv.**"
   ]
  },
  {
   "cell_type": "code",
   "execution_count": 24,
   "id": "7363c77c",
   "metadata": {
    "collapsed": true
   },
   "outputs": [],
   "source": [
    "nike_df = pd.DataFrame(nike_tweets)\n",
    "\n",
    "nike_df.to_csv('data/nike.csv')"
   ]
  },
  {
   "cell_type": "code",
   "execution_count": 46,
   "id": "d77ecd81",
   "metadata": {},
   "outputs": [
    {
     "data": {
      "text/html": [
       "<div>\n",
       "<style scoped>\n",
       "    .dataframe tbody tr th:only-of-type {\n",
       "        vertical-align: middle;\n",
       "    }\n",
       "\n",
       "    .dataframe tbody tr th {\n",
       "        vertical-align: top;\n",
       "    }\n",
       "\n",
       "    .dataframe thead th {\n",
       "        text-align: right;\n",
       "    }\n",
       "</style>\n",
       "<table border=\"1\" class=\"dataframe\">\n",
       "  <thead>\n",
       "    <tr style=\"text-align: right;\">\n",
       "      <th></th>\n",
       "      <th>id</th>\n",
       "      <th>text</th>\n",
       "      <th>date</th>\n",
       "      <th>author_id</th>\n",
       "    </tr>\n",
       "  </thead>\n",
       "  <tbody>\n",
       "    <tr>\n",
       "      <th>0</th>\n",
       "      <td>1499705431329017864</td>\n",
       "      <td>@ZubyMusic @LPMisesCaucus Nobody cares about N...</td>\n",
       "      <td>2022-03-04 11:16:52+00:00</td>\n",
       "      <td>949655415658336256</td>\n",
       "    </tr>\n",
       "    <tr>\n",
       "      <th>1</th>\n",
       "      <td>1499705375129366530</td>\n",
       "      <td>@PoojaPraharaj @IndiainUkraine @PMOIndia @MEAI...</td>\n",
       "      <td>2022-03-04 11:16:39+00:00</td>\n",
       "      <td>1097779100670779392</td>\n",
       "    </tr>\n",
       "    <tr>\n",
       "      <th>2</th>\n",
       "      <td>1499705344259506179</td>\n",
       "      <td>@DocumentWomen Nike Okundaye. Also knowns Nike...</td>\n",
       "      <td>2022-03-04 11:16:31+00:00</td>\n",
       "      <td>1213598509166804992</td>\n",
       "    </tr>\n",
       "    <tr>\n",
       "      <th>3</th>\n",
       "      <td>1499705294359777286</td>\n",
       "      <td>Day 4 of #maxmadness #AirMaxMonth \\nNike Air M...</td>\n",
       "      <td>2022-03-04 11:16:20+00:00</td>\n",
       "      <td>1334875428172034049</td>\n",
       "    </tr>\n",
       "    <tr>\n",
       "      <th>4</th>\n",
       "      <td>1499705239888449538</td>\n",
       "      <td>@MagMr44 @soleguru @nikestore @Nike @SneakerAd...</td>\n",
       "      <td>2022-03-04 11:16:07+00:00</td>\n",
       "      <td>1649250498</td>\n",
       "    </tr>\n",
       "  </tbody>\n",
       "</table>\n",
       "</div>"
      ],
      "text/plain": [
       "                    id                                               text  \\\n",
       "0  1499705431329017864  @ZubyMusic @LPMisesCaucus Nobody cares about N...   \n",
       "1  1499705375129366530  @PoojaPraharaj @IndiainUkraine @PMOIndia @MEAI...   \n",
       "2  1499705344259506179  @DocumentWomen Nike Okundaye. Also knowns Nike...   \n",
       "3  1499705294359777286  Day 4 of #maxmadness #AirMaxMonth \\nNike Air M...   \n",
       "4  1499705239888449538  @MagMr44 @soleguru @nikestore @Nike @SneakerAd...   \n",
       "\n",
       "                       date            author_id  \n",
       "0 2022-03-04 11:16:52+00:00   949655415658336256  \n",
       "1 2022-03-04 11:16:39+00:00  1097779100670779392  \n",
       "2 2022-03-04 11:16:31+00:00  1213598509166804992  \n",
       "3 2022-03-04 11:16:20+00:00  1334875428172034049  \n",
       "4 2022-03-04 11:16:07+00:00           1649250498  "
      ]
     },
     "execution_count": 46,
     "metadata": {},
     "output_type": "execute_result"
    }
   ],
   "source": [
    "nike_df.head()"
   ]
  },
  {
   "cell_type": "markdown",
   "id": "81117009",
   "metadata": {},
   "source": [
    "## Adidas related Tweets."
   ]
  },
  {
   "cell_type": "markdown",
   "id": "11da186e",
   "metadata": {},
   "source": [
    "**Extraemos los tweets en los que se menciona a Adidas.**\n",
    "\n",
    "De nuevo, configuramos la query para descartar los retweets y extraer únicamente los tweets en los que el texto sea en inglés."
   ]
  },
  {
   "cell_type": "code",
   "execution_count": null,
   "id": "3b360e52",
   "metadata": {},
   "outputs": [],
   "source": [
    "adidas_tweets = config_searchTweets('adidas -is:retweet lang:en', 30000)"
   ]
  },
  {
   "cell_type": "markdown",
   "id": "fc3ef430",
   "metadata": {},
   "source": [
    "**Exportamos los datos de Adidas a un archivo csv.**"
   ]
  },
  {
   "cell_type": "code",
   "execution_count": 43,
   "id": "d85e6c06",
   "metadata": {
    "collapsed": true
   },
   "outputs": [],
   "source": [
    "adidas_df = pd.DataFrame(adidas_tweets)\n",
    "\n",
    "adidas_df.to_csv('data/adidas.csv')"
   ]
  },
  {
   "cell_type": "code",
   "execution_count": 45,
   "id": "3d08ba80",
   "metadata": {},
   "outputs": [
    {
     "data": {
      "text/html": [
       "<div>\n",
       "<style scoped>\n",
       "    .dataframe tbody tr th:only-of-type {\n",
       "        vertical-align: middle;\n",
       "    }\n",
       "\n",
       "    .dataframe tbody tr th {\n",
       "        vertical-align: top;\n",
       "    }\n",
       "\n",
       "    .dataframe thead th {\n",
       "        text-align: right;\n",
       "    }\n",
       "</style>\n",
       "<table border=\"1\" class=\"dataframe\">\n",
       "  <thead>\n",
       "    <tr style=\"text-align: right;\">\n",
       "      <th></th>\n",
       "      <th>id</th>\n",
       "      <th>text</th>\n",
       "      <th>date</th>\n",
       "      <th>author_id</th>\n",
       "    </tr>\n",
       "  </thead>\n",
       "  <tbody>\n",
       "    <tr>\n",
       "      <th>0</th>\n",
       "      <td>1499737235675140098</td>\n",
       "      <td>@Coop8517 Because my lad is a div he won't wea...</td>\n",
       "      <td>2022-03-04 13:23:15+00:00</td>\n",
       "      <td>222816617</td>\n",
       "    </tr>\n",
       "    <tr>\n",
       "      <th>1</th>\n",
       "      <td>1499737227760259077</td>\n",
       "      <td>@shirtsinthshire beside wrong nameset, its lik...</td>\n",
       "      <td>2022-03-04 13:23:13+00:00</td>\n",
       "      <td>1258109697975934976</td>\n",
       "    </tr>\n",
       "    <tr>\n",
       "      <th>2</th>\n",
       "      <td>1499737070461665286</td>\n",
       "      <td>@ChefLerrie @Jakjakph1 Yes dude sa Adidas webs...</td>\n",
       "      <td>2022-03-04 13:22:36+00:00</td>\n",
       "      <td>825235525963386880</td>\n",
       "    </tr>\n",
       "    <tr>\n",
       "      <th>3</th>\n",
       "      <td>1499736971912130560</td>\n",
       "      <td>Footlocker is solely focusing on only selling ...</td>\n",
       "      <td>2022-03-04 13:22:12+00:00</td>\n",
       "      <td>1976820866</td>\n",
       "    </tr>\n",
       "    <tr>\n",
       "      <th>4</th>\n",
       "      <td>1499736937753575427</td>\n",
       "      <td>adidas Yeezy Boost 350 Pirate Black V1 (Infant...</td>\n",
       "      <td>2022-03-04 13:22:04+00:00</td>\n",
       "      <td>1456387795614724100</td>\n",
       "    </tr>\n",
       "  </tbody>\n",
       "</table>\n",
       "</div>"
      ],
      "text/plain": [
       "                    id                                               text  \\\n",
       "0  1499737235675140098  @Coop8517 Because my lad is a div he won't wea...   \n",
       "1  1499737227760259077  @shirtsinthshire beside wrong nameset, its lik...   \n",
       "2  1499737070461665286  @ChefLerrie @Jakjakph1 Yes dude sa Adidas webs...   \n",
       "3  1499736971912130560  Footlocker is solely focusing on only selling ...   \n",
       "4  1499736937753575427  adidas Yeezy Boost 350 Pirate Black V1 (Infant...   \n",
       "\n",
       "                       date            author_id  \n",
       "0 2022-03-04 13:23:15+00:00            222816617  \n",
       "1 2022-03-04 13:23:13+00:00  1258109697975934976  \n",
       "2 2022-03-04 13:22:36+00:00   825235525963386880  \n",
       "3 2022-03-04 13:22:12+00:00           1976820866  \n",
       "4 2022-03-04 13:22:04+00:00  1456387795614724100  "
      ]
     },
     "execution_count": 45,
     "metadata": {},
     "output_type": "execute_result"
    }
   ],
   "source": [
    "adidas_df.head()"
   ]
  },
  {
   "cell_type": "markdown",
   "id": "c36da332",
   "metadata": {},
   "source": [
    "## Asics related Tweets."
   ]
  },
  {
   "cell_type": "markdown",
   "id": "5893a6ce",
   "metadata": {},
   "source": [
    "**Extraemos los tweets en los que se menciona a Asics.**\n",
    "\n",
    "De nuevo, configuramos la query para descartar los retweets y extraer únicamente los tweets en los que el texto sea en inglés."
   ]
  },
  {
   "cell_type": "code",
   "execution_count": null,
   "id": "bc6da1d0",
   "metadata": {},
   "outputs": [],
   "source": [
    "asics_tweets = config_searchTweets('asics -is:retweet lang:en', 1999)\n",
    "\n",
    "# Asics es una marca que se menciona mucho menos que nike o adidas.\n",
    "# (Recordemos que solo tenemos acceso a los tweets de la última semana).\n",
    "# Extraemos alrededor de 2000 tweets como muestra para el estudio."
   ]
  },
  {
   "cell_type": "markdown",
   "id": "898dbdbc",
   "metadata": {},
   "source": [
    "**Exportamos los datos de Asics a un archivo csv.**"
   ]
  },
  {
   "cell_type": "code",
   "execution_count": 22,
   "id": "6ae85b15",
   "metadata": {},
   "outputs": [],
   "source": [
    "asics_df = pd.DataFrame(asics_tweets)\n",
    "\n",
    "asics_df.to_csv('data/asics.csv')"
   ]
  },
  {
   "cell_type": "code",
   "execution_count": 25,
   "id": "0e893937",
   "metadata": {
    "scrolled": false
   },
   "outputs": [
    {
     "data": {
      "text/html": [
       "<div>\n",
       "<style scoped>\n",
       "    .dataframe tbody tr th:only-of-type {\n",
       "        vertical-align: middle;\n",
       "    }\n",
       "\n",
       "    .dataframe tbody tr th {\n",
       "        vertical-align: top;\n",
       "    }\n",
       "\n",
       "    .dataframe thead th {\n",
       "        text-align: right;\n",
       "    }\n",
       "</style>\n",
       "<table border=\"1\" class=\"dataframe\">\n",
       "  <thead>\n",
       "    <tr style=\"text-align: right;\">\n",
       "      <th></th>\n",
       "      <th>id</th>\n",
       "      <th>text</th>\n",
       "      <th>date</th>\n",
       "      <th>author_id</th>\n",
       "    </tr>\n",
       "  </thead>\n",
       "  <tbody>\n",
       "    <tr>\n",
       "      <th>0</th>\n",
       "      <td>1501239745518702594</td>\n",
       "      <td>@LadyLibertas76 Probably around $90 for a pair...</td>\n",
       "      <td>2022-03-08 16:53:41+00:00</td>\n",
       "      <td>153109119</td>\n",
       "    </tr>\n",
       "    <tr>\n",
       "      <th>1</th>\n",
       "      <td>1501239693492559880</td>\n",
       "      <td>@surferliv Hi, Thanks for your message, we're ...</td>\n",
       "      <td>2022-03-08 16:53:29+00:00</td>\n",
       "      <td>3651405317</td>\n",
       "    </tr>\n",
       "    <tr>\n",
       "      <th>2</th>\n",
       "      <td>1501237770806833157</td>\n",
       "      <td>@knivd @aradiogurl The fun about it is that th...</td>\n",
       "      <td>2022-03-08 16:45:50+00:00</td>\n",
       "      <td>2262329527</td>\n",
       "    </tr>\n",
       "    <tr>\n",
       "      <th>3</th>\n",
       "      <td>1501233975913713665</td>\n",
       "      <td>Check out this listing I just added to my #Pos...</td>\n",
       "      <td>2022-03-08 16:30:46+00:00</td>\n",
       "      <td>1495417692483772416</td>\n",
       "    </tr>\n",
       "    <tr>\n",
       "      <th>4</th>\n",
       "      <td>1501233341437136898</td>\n",
       "      <td>Check out this listing I just added to my #Pos...</td>\n",
       "      <td>2022-03-08 16:28:14+00:00</td>\n",
       "      <td>1495417692483772416</td>\n",
       "    </tr>\n",
       "  </tbody>\n",
       "</table>\n",
       "</div>"
      ],
      "text/plain": [
       "                    id                                               text  \\\n",
       "0  1501239745518702594  @LadyLibertas76 Probably around $90 for a pair...   \n",
       "1  1501239693492559880  @surferliv Hi, Thanks for your message, we're ...   \n",
       "2  1501237770806833157  @knivd @aradiogurl The fun about it is that th...   \n",
       "3  1501233975913713665  Check out this listing I just added to my #Pos...   \n",
       "4  1501233341437136898  Check out this listing I just added to my #Pos...   \n",
       "\n",
       "                       date            author_id  \n",
       "0 2022-03-08 16:53:41+00:00            153109119  \n",
       "1 2022-03-08 16:53:29+00:00           3651405317  \n",
       "2 2022-03-08 16:45:50+00:00           2262329527  \n",
       "3 2022-03-08 16:30:46+00:00  1495417692483772416  \n",
       "4 2022-03-08 16:28:14+00:00  1495417692483772416  "
      ]
     },
     "execution_count": 25,
     "metadata": {},
     "output_type": "execute_result"
    }
   ],
   "source": [
    "asics_df.head()"
   ]
  },
  {
   "cell_type": "markdown",
   "id": "f4c38e5d",
   "metadata": {},
   "source": [
    "## Reebok related Tweets."
   ]
  },
  {
   "cell_type": "markdown",
   "id": "b92b0456",
   "metadata": {},
   "source": [
    "**Extraemos los tweets en los que se menciona a Reebok.**\n",
    "\n",
    "De nuevo, configuramos la query para descartar los retweets y extraer únicamente los tweets en los que el texto sea en inglés."
   ]
  },
  {
   "cell_type": "code",
   "execution_count": null,
   "id": "ccf75ca9",
   "metadata": {},
   "outputs": [],
   "source": [
    "reebok_tweets = config_searchTweets('reebok -is:retweet lang:en', 1999)\n",
    "\n",
    "# Reebok es una marca que se menciona mucho menos que nike o adidas.\n",
    "# (Recordemos que solo tenemos acceso a los tweets de la última semana).\n",
    "# Extraemos alrededor de 2000 tweets como muestra para el estudio."
   ]
  },
  {
   "cell_type": "markdown",
   "id": "efb9b165",
   "metadata": {},
   "source": [
    "**Exportamos los datos de Reebok a un archivo csv.**"
   ]
  },
  {
   "cell_type": "code",
   "execution_count": 35,
   "id": "a2948c64",
   "metadata": {},
   "outputs": [],
   "source": [
    "reebok_df = pd.DataFrame(reebok_tweets)\n",
    "\n",
    "reebok_df.to_csv('data/reebok.csv')"
   ]
  },
  {
   "cell_type": "code",
   "execution_count": 36,
   "id": "41e27848",
   "metadata": {
    "scrolled": true
   },
   "outputs": [
    {
     "data": {
      "text/html": [
       "<div>\n",
       "<style scoped>\n",
       "    .dataframe tbody tr th:only-of-type {\n",
       "        vertical-align: middle;\n",
       "    }\n",
       "\n",
       "    .dataframe tbody tr th {\n",
       "        vertical-align: top;\n",
       "    }\n",
       "\n",
       "    .dataframe thead th {\n",
       "        text-align: right;\n",
       "    }\n",
       "</style>\n",
       "<table border=\"1\" class=\"dataframe\">\n",
       "  <thead>\n",
       "    <tr style=\"text-align: right;\">\n",
       "      <th></th>\n",
       "      <th>id</th>\n",
       "      <th>text</th>\n",
       "      <th>date</th>\n",
       "      <th>author_id</th>\n",
       "    </tr>\n",
       "  </thead>\n",
       "  <tbody>\n",
       "    <tr>\n",
       "      <th>0</th>\n",
       "      <td>1501239745518702594</td>\n",
       "      <td>@LadyLibertas76 Probably around $90 for a pair...</td>\n",
       "      <td>2022-03-08 16:53:41+00:00</td>\n",
       "      <td>153109119</td>\n",
       "    </tr>\n",
       "    <tr>\n",
       "      <th>1</th>\n",
       "      <td>1501239693492559880</td>\n",
       "      <td>@surferliv Hi, Thanks for your message, we're ...</td>\n",
       "      <td>2022-03-08 16:53:29+00:00</td>\n",
       "      <td>3651405317</td>\n",
       "    </tr>\n",
       "    <tr>\n",
       "      <th>2</th>\n",
       "      <td>1501237770806833157</td>\n",
       "      <td>@knivd @aradiogurl The fun about it is that th...</td>\n",
       "      <td>2022-03-08 16:45:50+00:00</td>\n",
       "      <td>2262329527</td>\n",
       "    </tr>\n",
       "    <tr>\n",
       "      <th>3</th>\n",
       "      <td>1501233975913713665</td>\n",
       "      <td>Check out this listing I just added to my #Pos...</td>\n",
       "      <td>2022-03-08 16:30:46+00:00</td>\n",
       "      <td>1495417692483772416</td>\n",
       "    </tr>\n",
       "    <tr>\n",
       "      <th>4</th>\n",
       "      <td>1501233341437136898</td>\n",
       "      <td>Check out this listing I just added to my #Pos...</td>\n",
       "      <td>2022-03-08 16:28:14+00:00</td>\n",
       "      <td>1495417692483772416</td>\n",
       "    </tr>\n",
       "  </tbody>\n",
       "</table>\n",
       "</div>"
      ],
      "text/plain": [
       "                    id                                               text  \\\n",
       "0  1501239745518702594  @LadyLibertas76 Probably around $90 for a pair...   \n",
       "1  1501239693492559880  @surferliv Hi, Thanks for your message, we're ...   \n",
       "2  1501237770806833157  @knivd @aradiogurl The fun about it is that th...   \n",
       "3  1501233975913713665  Check out this listing I just added to my #Pos...   \n",
       "4  1501233341437136898  Check out this listing I just added to my #Pos...   \n",
       "\n",
       "                       date            author_id  \n",
       "0 2022-03-08 16:53:41+00:00            153109119  \n",
       "1 2022-03-08 16:53:29+00:00           3651405317  \n",
       "2 2022-03-08 16:45:50+00:00           2262329527  \n",
       "3 2022-03-08 16:30:46+00:00  1495417692483772416  \n",
       "4 2022-03-08 16:28:14+00:00  1495417692483772416  "
      ]
     },
     "execution_count": 36,
     "metadata": {},
     "output_type": "execute_result"
    }
   ],
   "source": [
    "asics_df.head()"
   ]
  },
  {
   "cell_type": "markdown",
   "id": "5f493dde",
   "metadata": {},
   "source": [
    "## Skechers related Tweets."
   ]
  },
  {
   "cell_type": "markdown",
   "id": "b5d35561",
   "metadata": {},
   "source": [
    "**Extraemos los tweets en los que se menciona a Skechers.**\n",
    "\n",
    "De nuevo, configuramos la query para descartar los retweets y extraer únicamente los tweets en los que el texto sea en inglés."
   ]
  },
  {
   "cell_type": "code",
   "execution_count": null,
   "id": "eebcb15b",
   "metadata": {},
   "outputs": [],
   "source": [
    "skechers_tweets = config_searchTweets('skechers -is:retweet lang:en', 1999)\n",
    "\n",
    "# Skechers es una marca que se menciona mucho menos que nike o adidas.\n",
    "# (Recordemos que solo tenemos acceso a los tweets de la última semana).\n",
    "# Extraemos alrededor de 2000 tweets como muestra para el estudio."
   ]
  },
  {
   "cell_type": "markdown",
   "id": "626d720e",
   "metadata": {},
   "source": [
    "**Exportamos los datos de Skechers a un archivo csv.**"
   ]
  },
  {
   "cell_type": "code",
   "execution_count": 42,
   "id": "a2953132",
   "metadata": {},
   "outputs": [],
   "source": [
    "skechers_df = pd.DataFrame(skechers_tweets)\n",
    "\n",
    "skechers_df.to_csv('data/skechers.csv')"
   ]
  },
  {
   "cell_type": "code",
   "execution_count": 43,
   "id": "da61d9d8",
   "metadata": {
    "scrolled": true
   },
   "outputs": [
    {
     "data": {
      "text/html": [
       "<div>\n",
       "<style scoped>\n",
       "    .dataframe tbody tr th:only-of-type {\n",
       "        vertical-align: middle;\n",
       "    }\n",
       "\n",
       "    .dataframe tbody tr th {\n",
       "        vertical-align: top;\n",
       "    }\n",
       "\n",
       "    .dataframe thead th {\n",
       "        text-align: right;\n",
       "    }\n",
       "</style>\n",
       "<table border=\"1\" class=\"dataframe\">\n",
       "  <thead>\n",
       "    <tr style=\"text-align: right;\">\n",
       "      <th></th>\n",
       "      <th>id</th>\n",
       "      <th>text</th>\n",
       "      <th>date</th>\n",
       "      <th>author_id</th>\n",
       "    </tr>\n",
       "  </thead>\n",
       "  <tbody>\n",
       "    <tr>\n",
       "      <th>0</th>\n",
       "      <td>1501280437028769801</td>\n",
       "      <td>I don’t think this is true his mother is heavy...</td>\n",
       "      <td>2022-03-08 19:35:23+00:00</td>\n",
       "      <td>21882237</td>\n",
       "    </tr>\n",
       "    <tr>\n",
       "      <th>1</th>\n",
       "      <td>1501280328635322372</td>\n",
       "      <td>╱  the  skechers  gif  i’m  crying  😭😭</td>\n",
       "      <td>2022-03-08 19:34:57+00:00</td>\n",
       "      <td>1489505644755439618</td>\n",
       "    </tr>\n",
       "    <tr>\n",
       "      <th>2</th>\n",
       "      <td>1501280104504201216</td>\n",
       "      <td>Skechers USA jumps after President added $3.9M...</td>\n",
       "      <td>2022-03-08 19:34:04+00:00</td>\n",
       "      <td>31372539</td>\n",
       "    </tr>\n",
       "    <tr>\n",
       "      <th>3</th>\n",
       "      <td>1501279345129623553</td>\n",
       "      <td>So good I had to share! Check out all the item...</td>\n",
       "      <td>2022-03-08 19:31:02+00:00</td>\n",
       "      <td>29310683</td>\n",
       "    </tr>\n",
       "    <tr>\n",
       "      <th>4</th>\n",
       "      <td>1501278534165315587</td>\n",
       "      <td>I was broke had it drippin in Skechers</td>\n",
       "      <td>2022-03-08 19:27:49+00:00</td>\n",
       "      <td>1006709699146862592</td>\n",
       "    </tr>\n",
       "  </tbody>\n",
       "</table>\n",
       "</div>"
      ],
      "text/plain": [
       "                    id                                               text  \\\n",
       "0  1501280437028769801  I don’t think this is true his mother is heavy...   \n",
       "1  1501280328635322372             ╱  the  skechers  gif  i’m  crying  😭😭   \n",
       "2  1501280104504201216  Skechers USA jumps after President added $3.9M...   \n",
       "3  1501279345129623553  So good I had to share! Check out all the item...   \n",
       "4  1501278534165315587             I was broke had it drippin in Skechers   \n",
       "\n",
       "                       date            author_id  \n",
       "0 2022-03-08 19:35:23+00:00             21882237  \n",
       "1 2022-03-08 19:34:57+00:00  1489505644755439618  \n",
       "2 2022-03-08 19:34:04+00:00             31372539  \n",
       "3 2022-03-08 19:31:02+00:00             29310683  \n",
       "4 2022-03-08 19:27:49+00:00  1006709699146862592  "
      ]
     },
     "execution_count": 43,
     "metadata": {},
     "output_type": "execute_result"
    }
   ],
   "source": [
    "skechers_df.head()"
   ]
  },
  {
   "cell_type": "markdown",
   "id": "39968dac",
   "metadata": {},
   "source": [
    "## Under Armour related Tweets."
   ]
  },
  {
   "cell_type": "markdown",
   "id": "006eb7cb",
   "metadata": {},
   "source": [
    "**Extraemos los tweets en los que se menciona a Under Armour.**\n",
    "\n",
    "De nuevo, configuramos la query para descartar los retweets y extraer únicamente los tweets en los que el texto sea en inglés."
   ]
  },
  {
   "cell_type": "code",
   "execution_count": null,
   "id": "07c27863",
   "metadata": {},
   "outputs": [],
   "source": [
    "under_armour_tweets = config_searchTweets('under armour -is:retweet lang:en', 1999)\n",
    "\n",
    "# Under Armour es una marca que se menciona mucho menos que nike o adidas.\n",
    "# (Recordemos que solo tenemos acceso a los tweets de la última semana).\n",
    "# Extraemos alrededor de 2000 tweets como muestra para el estudio."
   ]
  },
  {
   "cell_type": "markdown",
   "id": "9c5e9827",
   "metadata": {},
   "source": [
    "**Exportamos los datos de Under Armour a un archivo csv.**"
   ]
  },
  {
   "cell_type": "code",
   "execution_count": 46,
   "id": "e30f3be1",
   "metadata": {},
   "outputs": [],
   "source": [
    "under_armour_df = pd.DataFrame(under_armour_tweets)\n",
    "\n",
    "under_armour_df.to_csv('data/under_armour.csv')"
   ]
  },
  {
   "cell_type": "code",
   "execution_count": 47,
   "id": "c3b06be3",
   "metadata": {
    "scrolled": false
   },
   "outputs": [
    {
     "data": {
      "text/html": [
       "<div>\n",
       "<style scoped>\n",
       "    .dataframe tbody tr th:only-of-type {\n",
       "        vertical-align: middle;\n",
       "    }\n",
       "\n",
       "    .dataframe tbody tr th {\n",
       "        vertical-align: top;\n",
       "    }\n",
       "\n",
       "    .dataframe thead th {\n",
       "        text-align: right;\n",
       "    }\n",
       "</style>\n",
       "<table border=\"1\" class=\"dataframe\">\n",
       "  <thead>\n",
       "    <tr style=\"text-align: right;\">\n",
       "      <th></th>\n",
       "      <th>id</th>\n",
       "      <th>text</th>\n",
       "      <th>date</th>\n",
       "      <th>author_id</th>\n",
       "    </tr>\n",
       "  </thead>\n",
       "  <tbody>\n",
       "    <tr>\n",
       "      <th>0</th>\n",
       "      <td>1501281507293474818</td>\n",
       "      <td>“ I would…appreciate the help with the armour....</td>\n",
       "      <td>2022-03-08 19:39:38+00:00</td>\n",
       "      <td>1496681219387531265</td>\n",
       "    </tr>\n",
       "    <tr>\n",
       "      <th>1</th>\n",
       "      <td>1501280393462304768</td>\n",
       "      <td>@EuphoriantForce Boots (Under Armour Stellar)\\...</td>\n",
       "      <td>2022-03-08 19:35:12+00:00</td>\n",
       "      <td>3044972040</td>\n",
       "    </tr>\n",
       "    <tr>\n",
       "      <th>2</th>\n",
       "      <td>1501279248639741956</td>\n",
       "      <td>Under Armour NEW Blue Womens Size XL Compressi...</td>\n",
       "      <td>2022-03-08 19:30:39+00:00</td>\n",
       "      <td>1478247278452293632</td>\n",
       "    </tr>\n",
       "    <tr>\n",
       "      <th>3</th>\n",
       "      <td>1501278667342815239</td>\n",
       "      <td>Boycott Under Armour for Promoting Trophy-Hunt...</td>\n",
       "      <td>2022-03-08 19:28:21+00:00</td>\n",
       "      <td>871425486</td>\n",
       "    </tr>\n",
       "    <tr>\n",
       "      <th>4</th>\n",
       "      <td>1501277599326040066</td>\n",
       "      <td>Under Armour Men's Rival Fleece Big Logo Hoodi...</td>\n",
       "      <td>2022-03-08 19:24:06+00:00</td>\n",
       "      <td>763683643</td>\n",
       "    </tr>\n",
       "  </tbody>\n",
       "</table>\n",
       "</div>"
      ],
      "text/plain": [
       "                    id                                               text  \\\n",
       "0  1501281507293474818  “ I would…appreciate the help with the armour....   \n",
       "1  1501280393462304768  @EuphoriantForce Boots (Under Armour Stellar)\\...   \n",
       "2  1501279248639741956  Under Armour NEW Blue Womens Size XL Compressi...   \n",
       "3  1501278667342815239  Boycott Under Armour for Promoting Trophy-Hunt...   \n",
       "4  1501277599326040066  Under Armour Men's Rival Fleece Big Logo Hoodi...   \n",
       "\n",
       "                       date            author_id  \n",
       "0 2022-03-08 19:39:38+00:00  1496681219387531265  \n",
       "1 2022-03-08 19:35:12+00:00           3044972040  \n",
       "2 2022-03-08 19:30:39+00:00  1478247278452293632  \n",
       "3 2022-03-08 19:28:21+00:00            871425486  \n",
       "4 2022-03-08 19:24:06+00:00            763683643  "
      ]
     },
     "execution_count": 47,
     "metadata": {},
     "output_type": "execute_result"
    }
   ],
   "source": [
    "under_armour_df.head()"
   ]
  },
  {
   "cell_type": "markdown",
   "id": "c9658cdd",
   "metadata": {},
   "source": [
    "## Umbro related Tweets."
   ]
  },
  {
   "cell_type": "markdown",
   "id": "f2f4adc1",
   "metadata": {},
   "source": [
    "**Extraemos los tweets en los que se menciona a Umbro.**\n",
    "\n",
    "De nuevo, configuramos la query para descartar los retweets y extraer únicamente los tweets en los que el texto sea en inglés."
   ]
  },
  {
   "cell_type": "code",
   "execution_count": null,
   "id": "7ac75086",
   "metadata": {},
   "outputs": [],
   "source": [
    "umbro_tweets = config_searchTweets('umbro -is:retweet lang:en', 700)\n",
    "\n",
    "# Umbro es una marca que se menciona muy poco en twitter.\n",
    "# (Recordemos que solo tenemos acceso a los tweets de la última semana).\n",
    "# Extraemos alrededor de 700 tweets como muestra para el estudio."
   ]
  },
  {
   "cell_type": "markdown",
   "id": "01ebc989",
   "metadata": {},
   "source": [
    "**Exportamos los datos de Umbro a un archivo csv.**"
   ]
  },
  {
   "cell_type": "code",
   "execution_count": 92,
   "id": "a072c990",
   "metadata": {
    "scrolled": true
   },
   "outputs": [
    {
     "data": {
      "text/html": [
       "<div>\n",
       "<style scoped>\n",
       "    .dataframe tbody tr th:only-of-type {\n",
       "        vertical-align: middle;\n",
       "    }\n",
       "\n",
       "    .dataframe tbody tr th {\n",
       "        vertical-align: top;\n",
       "    }\n",
       "\n",
       "    .dataframe thead th {\n",
       "        text-align: right;\n",
       "    }\n",
       "</style>\n",
       "<table border=\"1\" class=\"dataframe\">\n",
       "  <thead>\n",
       "    <tr style=\"text-align: right;\">\n",
       "      <th></th>\n",
       "      <th>id</th>\n",
       "      <th>text</th>\n",
       "      <th>date</th>\n",
       "      <th>author_id</th>\n",
       "    </tr>\n",
       "  </thead>\n",
       "  <tbody>\n",
       "    <tr>\n",
       "      <th>0</th>\n",
       "      <td>1501286308647473162</td>\n",
       "      <td>@JeffreyLloydXXX @Orsini_Umbro Let s do flip f...</td>\n",
       "      <td>2022-03-08 19:58:43+00:00</td>\n",
       "      <td>1608621590</td>\n",
       "    </tr>\n",
       "    <tr>\n",
       "      <th>1</th>\n",
       "      <td>1501275823608762368</td>\n",
       "      <td>@sportbible Umbro ball 🤔</td>\n",
       "      <td>2022-03-08 19:17:03+00:00</td>\n",
       "      <td>714928319322529793</td>\n",
       "    </tr>\n",
       "    <tr>\n",
       "      <th>2</th>\n",
       "      <td>1501274191726723078</td>\n",
       "      <td>Manchester United Shirt 1992-1994 Umbro Small ...</td>\n",
       "      <td>2022-03-08 19:10:34+00:00</td>\n",
       "      <td>1433554131415752705</td>\n",
       "    </tr>\n",
       "    <tr>\n",
       "      <th>3</th>\n",
       "      <td>1501270662303862787</td>\n",
       "      <td>Celtic football shirt\\n1999 away season \\nLarg...</td>\n",
       "      <td>2022-03-08 18:56:32+00:00</td>\n",
       "      <td>1348705083136077829</td>\n",
       "    </tr>\n",
       "    <tr>\n",
       "      <th>4</th>\n",
       "      <td>1501269727708160000</td>\n",
       "      <td>@sid_lambert an umbro football..</td>\n",
       "      <td>2022-03-08 18:52:49+00:00</td>\n",
       "      <td>2445493100</td>\n",
       "    </tr>\n",
       "  </tbody>\n",
       "</table>\n",
       "</div>"
      ],
      "text/plain": [
       "                    id                                               text  \\\n",
       "0  1501286308647473162  @JeffreyLloydXXX @Orsini_Umbro Let s do flip f...   \n",
       "1  1501275823608762368                           @sportbible Umbro ball 🤔   \n",
       "2  1501274191726723078  Manchester United Shirt 1992-1994 Umbro Small ...   \n",
       "3  1501270662303862787  Celtic football shirt\\n1999 away season \\nLarg...   \n",
       "4  1501269727708160000                   @sid_lambert an umbro football..   \n",
       "\n",
       "                       date            author_id  \n",
       "0 2022-03-08 19:58:43+00:00           1608621590  \n",
       "1 2022-03-08 19:17:03+00:00   714928319322529793  \n",
       "2 2022-03-08 19:10:34+00:00  1433554131415752705  \n",
       "3 2022-03-08 18:56:32+00:00  1348705083136077829  \n",
       "4 2022-03-08 18:52:49+00:00           2445493100  "
      ]
     },
     "execution_count": 92,
     "metadata": {},
     "output_type": "execute_result"
    }
   ],
   "source": [
    "umbro_df = pd.DataFrame(umbro_tweets[:-4])   # Evitamos los 4 últimos elementos ya que nos generan problemas.\n",
    "                                             # (por un error de algún tipo en la API)\n",
    "umbro_df.to_csv('data/umbro.csv')\n",
    "\n",
    "umbro_df.head()"
   ]
  },
  {
   "cell_type": "markdown",
   "id": "2e43eb5b",
   "metadata": {},
   "source": [
    "## Puma related Tweets."
   ]
  },
  {
   "cell_type": "markdown",
   "id": "ba77db3c",
   "metadata": {},
   "source": [
    "**Extraemos los tweets en los que se menciona a Puma.**\n",
    "\n",
    "De nuevo, configuramos la query para descartar los retweets y extraer únicamente los tweets en los que el texto sea en inglés."
   ]
  },
  {
   "cell_type": "code",
   "execution_count": null,
   "id": "dafda0b6",
   "metadata": {},
   "outputs": [],
   "source": [
    "puma_tweets = config_searchTweets('Puma -is:retweet lang:en', 5000)\n",
    "\n",
    "# Puma es una marca que se menciona bastante en Twitter, pero menos que nike o adidas.\n",
    "# (Recordemos que solo tenemos acceso a los tweets de la última semana).\n",
    "# Extraemos alrededor de 5000 tweets como muestra para el estudio."
   ]
  },
  {
   "cell_type": "markdown",
   "id": "3d2a6f12",
   "metadata": {},
   "source": [
    "**Exportamos los datos de Puma a un archivo csv.**"
   ]
  },
  {
   "cell_type": "code",
   "execution_count": 102,
   "id": "dc4473bf",
   "metadata": {
    "scrolled": false
   },
   "outputs": [
    {
     "data": {
      "text/html": [
       "<div>\n",
       "<style scoped>\n",
       "    .dataframe tbody tr th:only-of-type {\n",
       "        vertical-align: middle;\n",
       "    }\n",
       "\n",
       "    .dataframe tbody tr th {\n",
       "        vertical-align: top;\n",
       "    }\n",
       "\n",
       "    .dataframe thead th {\n",
       "        text-align: right;\n",
       "    }\n",
       "</style>\n",
       "<table border=\"1\" class=\"dataframe\">\n",
       "  <thead>\n",
       "    <tr style=\"text-align: right;\">\n",
       "      <th></th>\n",
       "      <th>id</th>\n",
       "      <th>text</th>\n",
       "      <th>date</th>\n",
       "      <th>author_id</th>\n",
       "    </tr>\n",
       "  </thead>\n",
       "  <tbody>\n",
       "    <tr>\n",
       "      <th>0</th>\n",
       "      <td>1501293309381443584</td>\n",
       "      <td>#Puma is coming to Roblox. https://t.co/h2x1Wk...</td>\n",
       "      <td>2022-03-08 20:26:32+00:00</td>\n",
       "      <td>1385731994454163457</td>\n",
       "    </tr>\n",
       "    <tr>\n",
       "      <th>1</th>\n",
       "      <td>1501293282525163526</td>\n",
       "      <td>[RANKING BEST TXT CHOREOGRAPHIES] \\n\\n7. Puma ...</td>\n",
       "      <td>2022-03-08 20:26:25+00:00</td>\n",
       "      <td>1212749973210554373</td>\n",
       "    </tr>\n",
       "    <tr>\n",
       "      <th>2</th>\n",
       "      <td>1501293006254534656</td>\n",
       "      <td>@PUMA @CatBloxStudios LFG PUMA</td>\n",
       "      <td>2022-03-08 20:25:20+00:00</td>\n",
       "      <td>1465011517116456963</td>\n",
       "    </tr>\n",
       "    <tr>\n",
       "      <th>3</th>\n",
       "      <td>1501292937350631429</td>\n",
       "      <td>Palestine is a feminist issue. @HP, @HPE, @AXA...</td>\n",
       "      <td>2022-03-08 20:25:03+00:00</td>\n",
       "      <td>866039509431062534</td>\n",
       "    </tr>\n",
       "    <tr>\n",
       "      <th>4</th>\n",
       "      <td>1501292906346430464</td>\n",
       "      <td>@kappie777 @PUMA @PUMASouthAfrica Happy women'...</td>\n",
       "      <td>2022-03-08 20:24:56+00:00</td>\n",
       "      <td>1492584056831291392</td>\n",
       "    </tr>\n",
       "  </tbody>\n",
       "</table>\n",
       "</div>"
      ],
      "text/plain": [
       "                    id                                               text  \\\n",
       "0  1501293309381443584  #Puma is coming to Roblox. https://t.co/h2x1Wk...   \n",
       "1  1501293282525163526  [RANKING BEST TXT CHOREOGRAPHIES] \\n\\n7. Puma ...   \n",
       "2  1501293006254534656                     @PUMA @CatBloxStudios LFG PUMA   \n",
       "3  1501292937350631429  Palestine is a feminist issue. @HP, @HPE, @AXA...   \n",
       "4  1501292906346430464  @kappie777 @PUMA @PUMASouthAfrica Happy women'...   \n",
       "\n",
       "                       date            author_id  \n",
       "0 2022-03-08 20:26:32+00:00  1385731994454163457  \n",
       "1 2022-03-08 20:26:25+00:00  1212749973210554373  \n",
       "2 2022-03-08 20:25:20+00:00  1465011517116456963  \n",
       "3 2022-03-08 20:25:03+00:00   866039509431062534  \n",
       "4 2022-03-08 20:24:56+00:00  1492584056831291392  "
      ]
     },
     "execution_count": 102,
     "metadata": {},
     "output_type": "execute_result"
    }
   ],
   "source": [
    "puma_df = pd.DataFrame(puma_tweets)\n",
    "\n",
    "puma_df.to_csv('data/puma.csv')\n",
    "\n",
    "puma_df.head()"
   ]
  }
 ],
 "metadata": {
  "kernelspec": {
   "display_name": "ironhack",
   "language": "python",
   "name": "myenv"
  },
  "language_info": {
   "codemirror_mode": {
    "name": "ipython",
    "version": 3
   },
   "file_extension": ".py",
   "mimetype": "text/x-python",
   "name": "python",
   "nbconvert_exporter": "python",
   "pygments_lexer": "ipython3",
   "version": "3.8.5"
  }
 },
 "nbformat": 4,
 "nbformat_minor": 5
}
