{
 "cells": [
  {
   "cell_type": "markdown",
   "id": "0cdb29ea",
   "metadata": {},
   "source": [
    "# Preprocessing Data."
   ]
  },
  {
   "cell_type": "markdown",
   "id": "c090e0d3",
   "metadata": {},
   "source": [
    "En el preprocesado de los datos (transformaciones necesarias para incluir los datos en el modelo NLP, más allá de la limpieza desarrollado anteriormente), podemos diferenciar cuatro etapas básicas:\n",
    "- Tokenization: consiste en convertir los textos a objetos manejables por las librerías utilizadas.\n",
    "\n",
    "\n",
    "- Stop words removal: eliminamos las palabras clasificadas como *'stop words'* (palabras que aparecen comúnmente en los textos, pero que no aportan significado real en los mismos).\n",
    "\n",
    "\n",
    "- Lemmatization or Stemming: en principio utilizaremos lemmatization ya que suele obtener mejores resultados, pero sería conveniente probar los dos métodos y evaluar cuál ofrece un mayor rendimiento.\n",
    "\n",
    "Llevaremos a cabo estas transformaciones a partir de la función `preprocessing()` previamente definida en *' src / preprocessing_functions '* (la función incluye todos las trasformaciones de preprocesado).\n",
    "\n",
    "A continuación se muestra el desarrollo de este proceso para nuestro dataset.\n"
   ]
  },
  {
   "cell_type": "code",
   "execution_count": 1,
   "id": "6663a1d1",
   "metadata": {},
   "outputs": [],
   "source": [
    "import pandas as pd"
   ]
  },
  {
   "cell_type": "code",
   "execution_count": 2,
   "id": "2f91ecd9",
   "metadata": {},
   "outputs": [],
   "source": [
    "brand_tweets = pd.read_pickle('data/car_brands.pkl')"
   ]
  },
  {
   "cell_type": "code",
   "execution_count": 3,
   "id": "5e4dcc79",
   "metadata": {},
   "outputs": [
    {
     "data": {
      "text/plain": [
       "(41219, 4)"
      ]
     },
     "execution_count": 3,
     "metadata": {},
     "output_type": "execute_result"
    }
   ],
   "source": [
    "brand_tweets.shape"
   ]
  },
  {
   "cell_type": "code",
   "execution_count": 4,
   "id": "8d64dd0a",
   "metadata": {},
   "outputs": [
    {
     "data": {
      "text/plain": [
       "text               0\n",
       "hashtags           0\n",
       "brand_attribute    0\n",
       "brand              0\n",
       "dtype: int64"
      ]
     },
     "execution_count": 4,
     "metadata": {},
     "output_type": "execute_result"
    }
   ],
   "source": [
    "brand_tweets.isnull().sum()"
   ]
  },
  {
   "cell_type": "code",
   "execution_count": 5,
   "id": "1e2aa2a3",
   "metadata": {},
   "outputs": [],
   "source": [
    "from src.preprocessing_functions import *"
   ]
  },
  {
   "cell_type": "code",
   "execution_count": 6,
   "id": "f9548ed4",
   "metadata": {},
   "outputs": [],
   "source": [
    "brand_tweets['token'] = brand_tweets.text.apply(preprocessing)"
   ]
  },
  {
   "cell_type": "code",
   "execution_count": 7,
   "id": "6ab6d041",
   "metadata": {},
   "outputs": [
    {
     "data": {
      "text/html": [
       "<div>\n",
       "<style scoped>\n",
       "    .dataframe tbody tr th:only-of-type {\n",
       "        vertical-align: middle;\n",
       "    }\n",
       "\n",
       "    .dataframe tbody tr th {\n",
       "        vertical-align: top;\n",
       "    }\n",
       "\n",
       "    .dataframe thead th {\n",
       "        text-align: right;\n",
       "    }\n",
       "</style>\n",
       "<table border=\"1\" class=\"dataframe\">\n",
       "  <thead>\n",
       "    <tr style=\"text-align: right;\">\n",
       "      <th></th>\n",
       "      <th>text</th>\n",
       "      <th>hashtags</th>\n",
       "      <th>brand_attribute</th>\n",
       "      <th>brand</th>\n",
       "      <th>token</th>\n",
       "    </tr>\n",
       "  </thead>\n",
       "  <tbody>\n",
       "    <tr>\n",
       "      <th>0</th>\n",
       "      <td>i was told by bmw you need to replace the batt...</td>\n",
       "      <td>[]</td>\n",
       "      <td>quality</td>\n",
       "      <td>bmw</td>\n",
       "      <td>[told, bmw, need, replace, battery, approx, yr...</td>\n",
       "    </tr>\n",
       "    <tr>\n",
       "      <th>1</th>\n",
       "      <td>a new listing for bmw e two eight m five engin...</td>\n",
       "      <td>[]</td>\n",
       "      <td>quality</td>\n",
       "      <td>bmw</td>\n",
       "      <td>[new, listing, bmw, e, engine, posted, race, p...</td>\n",
       "    </tr>\n",
       "    <tr>\n",
       "      <th>2</th>\n",
       "      <td>he only led a few hundert meters at the austri...</td>\n",
       "      <td>[]</td>\n",
       "      <td>quality</td>\n",
       "      <td>bmw</td>\n",
       "      <td>[led, hundert, meter, austrian, gp, blew, migh...</td>\n",
       "    </tr>\n",
       "    <tr>\n",
       "      <th>3</th>\n",
       "      <td>russians making bmw seeking missiles it s over...</td>\n",
       "      <td>[]</td>\n",
       "      <td>quality</td>\n",
       "      <td>bmw</td>\n",
       "      <td>[russian, making, bmw, seeking, missile, baltic]</td>\n",
       "    </tr>\n",
       "    <tr>\n",
       "      <th>4</th>\n",
       "      <td>does anyone want to hati will just get doyoung...</td>\n",
       "      <td>[]</td>\n",
       "      <td>quality</td>\n",
       "      <td>bmw</td>\n",
       "      <td>[want, hati, doyoung, fortune, selca, gt, lt, ...</td>\n",
       "    </tr>\n",
       "  </tbody>\n",
       "</table>\n",
       "</div>"
      ],
      "text/plain": [
       "                                                text hashtags brand_attribute  \\\n",
       "0  i was told by bmw you need to replace the batt...       []         quality   \n",
       "1  a new listing for bmw e two eight m five engin...       []         quality   \n",
       "2  he only led a few hundert meters at the austri...       []         quality   \n",
       "3  russians making bmw seeking missiles it s over...       []         quality   \n",
       "4  does anyone want to hati will just get doyoung...       []         quality   \n",
       "\n",
       "  brand                                              token  \n",
       "0   bmw  [told, bmw, need, replace, battery, approx, yr...  \n",
       "1   bmw  [new, listing, bmw, e, engine, posted, race, p...  \n",
       "2   bmw  [led, hundert, meter, austrian, gp, blew, migh...  \n",
       "3   bmw   [russian, making, bmw, seeking, missile, baltic]  \n",
       "4   bmw  [want, hati, doyoung, fortune, selca, gt, lt, ...  "
      ]
     },
     "execution_count": 7,
     "metadata": {},
     "output_type": "execute_result"
    }
   ],
   "source": [
    "brand_tweets.head()"
   ]
  },
  {
   "cell_type": "markdown",
   "id": "b5d3e548",
   "metadata": {},
   "source": [
    "Exportamos los datos para proceder al análisis de sentimiento."
   ]
  },
  {
   "cell_type": "code",
   "execution_count": 8,
   "id": "3c82bef2",
   "metadata": {},
   "outputs": [],
   "source": [
    "brand_tweets.to_csv('data/car_brands_tokens.csv', index = False)"
   ]
  },
  {
   "cell_type": "code",
   "execution_count": 9,
   "id": "6e689b11",
   "metadata": {},
   "outputs": [],
   "source": [
    "# Exportamos con pickle para mantener todas las propiedades del DataFrame.\n",
    "\n",
    "brand_tweets.to_pickle('data/car_brands_tokens.pkl')"
   ]
  }
 ],
 "metadata": {
  "kernelspec": {
   "display_name": "ironhack",
   "language": "python",
   "name": "myenv"
  },
  "language_info": {
   "codemirror_mode": {
    "name": "ipython",
    "version": 3
   },
   "file_extension": ".py",
   "mimetype": "text/x-python",
   "name": "python",
   "nbconvert_exporter": "python",
   "pygments_lexer": "ipython3",
   "version": "3.8.5"
  }
 },
 "nbformat": 4,
 "nbformat_minor": 5
}
